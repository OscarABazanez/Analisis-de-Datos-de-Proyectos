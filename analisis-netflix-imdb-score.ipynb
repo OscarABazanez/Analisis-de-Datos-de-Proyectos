{
 "cells": [
  {
   "cell_type": "markdown",
   "source": "# Netflix Original Films & IMDB Scores\n",
   "metadata": {
    "tags": [],
    "cell_id": "00000-6557caad-c164-472f-871f-2289f3cab418",
    "deepnote_cell_type": "markdown"
   }
  },
  {
   "cell_type": "code",
   "metadata": {
    "tags": [],
    "cell_id": "00000-859cb40b-6ea9-4b22-826a-e94c1784a267",
    "deepnote_to_be_reexecuted": false,
    "source_hash": "d60cbba1",
    "execution_start": 1627957761298,
    "execution_millis": 670,
    "deepnote_cell_type": "code"
   },
   "source": "import pandas as pd\nimport numpy as np\n\n\nimport plotly \nimport plotly.express as px\nimport plotly.graph_objs as go\nimport plotly.offline as py\nfrom plotly.offline import iplot\nfrom plotly.subplots import make_subplots\nimport plotly.figure_factory as ff",
   "execution_count": 1,
   "outputs": []
  },
  {
   "cell_type": "code",
   "metadata": {
    "tags": [],
    "cell_id": "00002-3daf47eb-b4e0-40ef-9417-533936955030",
    "deepnote_to_be_reexecuted": false,
    "source_hash": "d519241c",
    "execution_start": 1627957761971,
    "execution_millis": 71,
    "deepnote_cell_type": "code"
   },
   "source": "df = pd.read_csv('db/NetflixOriginals.csv')\ndf",
   "execution_count": 2,
   "outputs": [
    {
     "output_type": "execute_result",
     "execution_count": 2,
     "data": {
      "application/vnd.deepnote.dataframe.v2+json": {
       "row_count": 584,
       "column_count": 6,
       "columns": [
        {
         "name": "Title",
         "dtype": "object",
         "stats": {
          "unique_count": 584,
          "nan_count": 0,
          "categories": [
           {
            "name": "Enter the Anime",
            "count": 1
           },
           {
            "name": "Dark Forces",
            "count": 1
           },
           {
            "name": "582 others",
            "count": 582
           }
          ]
         }
        },
        {
         "name": "Genre",
         "dtype": "object",
         "stats": {
          "unique_count": 115,
          "nan_count": 0,
          "categories": [
           {
            "name": "Documentary",
            "count": 159
           },
           {
            "name": "Drama",
            "count": 77
           },
           {
            "name": "113 others",
            "count": 348
           }
          ]
         }
        },
        {
         "name": "Premiere",
         "dtype": "object",
         "stats": {
          "unique_count": 390,
          "nan_count": 0,
          "categories": [
           {
            "name": "October 2, 2020",
            "count": 6
           },
           {
            "name": "November 1, 2019",
            "count": 5
           },
           {
            "name": "388 others",
            "count": 573
           }
          ]
         }
        },
        {
         "name": "Runtime",
         "dtype": "int64",
         "stats": {
          "unique_count": 124,
          "nan_count": 0,
          "min": "4",
          "max": "209",
          "histogram": [
           {
            "bin_start": 4,
            "bin_end": 24.5,
            "count": 21
           },
           {
            "bin_start": 24.5,
            "bin_end": 45,
            "count": 30
           },
           {
            "bin_start": 45,
            "bin_end": 65.5,
            "count": 25
           },
           {
            "bin_start": 65.5,
            "bin_end": 86,
            "count": 65
           },
           {
            "bin_start": 86,
            "bin_end": 106.5,
            "count": 286
           },
           {
            "bin_start": 106.5,
            "bin_end": 127,
            "count": 117
           },
           {
            "bin_start": 127,
            "bin_end": 147.5,
            "count": 31
           },
           {
            "bin_start": 147.5,
            "bin_end": 168,
            "count": 8
           },
           {
            "bin_start": 168,
            "bin_end": 188.5,
            "count": 0
           },
           {
            "bin_start": 188.5,
            "bin_end": 209,
            "count": 1
           }
          ]
         }
        },
        {
         "name": "IMDB Score",
         "dtype": "float64",
         "stats": {
          "unique_count": 54,
          "nan_count": 0,
          "min": "2.5",
          "max": "9.0",
          "histogram": [
           {
            "bin_start": 2.5,
            "bin_end": 3.15,
            "count": 3
           },
           {
            "bin_start": 3.15,
            "bin_end": 3.8,
            "count": 5
           },
           {
            "bin_start": 3.8,
            "bin_end": 4.45,
            "count": 17
           },
           {
            "bin_start": 4.45,
            "bin_end": 5.1,
            "count": 34
           },
           {
            "bin_start": 5.1,
            "bin_end": 5.75,
            "count": 102
           },
           {
            "bin_start": 5.75,
            "bin_end": 6.4,
            "count": 131
           },
           {
            "bin_start": 6.4,
            "bin_end": 7.05,
            "count": 159
           },
           {
            "bin_start": 7.05,
            "bin_end": 7.7,
            "count": 101
           },
           {
            "bin_start": 7.7,
            "bin_end": 8.350000000000001,
            "count": 26
           },
           {
            "bin_start": 8.350000000000001,
            "bin_end": 9,
            "count": 6
           }
          ]
         }
        },
        {
         "name": "Language",
         "dtype": "object",
         "stats": {
          "unique_count": 38,
          "nan_count": 0,
          "categories": [
           {
            "name": "English",
            "count": 401
           },
           {
            "name": "Hindi",
            "count": 33
           },
           {
            "name": "36 others",
            "count": 150
           }
          ]
         }
        },
        {
         "name": "_deepnote_index_column",
         "dtype": "int64"
        }
       ],
       "rows_top": [
        {
         "Title": "Enter the Anime",
         "Genre": "Documentary",
         "Premiere": "August 5, 2019",
         "Runtime": 58,
         "IMDB Score": 2.5,
         "Language": "English/Japanese",
         "_deepnote_index_column": 0
        },
        {
         "Title": "Dark Forces",
         "Genre": "Thriller",
         "Premiere": "August 21, 2020",
         "Runtime": 81,
         "IMDB Score": 2.6,
         "Language": "Spanish",
         "_deepnote_index_column": 1
        },
        {
         "Title": "The App",
         "Genre": "Science fiction/Drama",
         "Premiere": "December 26, 2019",
         "Runtime": 79,
         "IMDB Score": 2.6,
         "Language": "Italian",
         "_deepnote_index_column": 2
        },
        {
         "Title": "The Open House",
         "Genre": "Horror thriller",
         "Premiere": "January 19, 2018",
         "Runtime": 94,
         "IMDB Score": 3.2,
         "Language": "English",
         "_deepnote_index_column": 3
        },
        {
         "Title": "Kaali Khuhi",
         "Genre": "Mystery",
         "Premiere": "October 30, 2020",
         "Runtime": 90,
         "IMDB Score": 3.4,
         "Language": "Hindi",
         "_deepnote_index_column": 4
        },
        {
         "Title": "Drive",
         "Genre": "Action",
         "Premiere": "November 1, 2019",
         "Runtime": 147,
         "IMDB Score": 3.5,
         "Language": "Hindi",
         "_deepnote_index_column": 5
        },
        {
         "Title": "Leyla Everlasting",
         "Genre": "Comedy",
         "Premiere": "December 4, 2020",
         "Runtime": 112,
         "IMDB Score": 3.7,
         "Language": "Turkish",
         "_deepnote_index_column": 6
        },
        {
         "Title": "The Last Days of American Crime",
         "Genre": "Heist film/Thriller",
         "Premiere": "June 5, 2020",
         "Runtime": 149,
         "IMDB Score": 3.7,
         "Language": "English",
         "_deepnote_index_column": 7
        },
        {
         "Title": "Paradox",
         "Genre": "Musical/Western/Fantasy",
         "Premiere": "March 23, 2018",
         "Runtime": 73,
         "IMDB Score": 3.9,
         "Language": "English",
         "_deepnote_index_column": 8
        },
        {
         "Title": "Sardar Ka Grandson",
         "Genre": "Comedy",
         "Premiere": "May 18, 2021",
         "Runtime": 139,
         "IMDB Score": 4.1,
         "Language": "Hindi",
         "_deepnote_index_column": 9
        },
        {
         "Title": "Searching for Sheela",
         "Genre": "Documentary",
         "Premiere": "April 22, 2021",
         "Runtime": 58,
         "IMDB Score": 4.1,
         "Language": "English",
         "_deepnote_index_column": 10
        },
        {
         "Title": "The Call",
         "Genre": "Drama",
         "Premiere": "November 27, 2020",
         "Runtime": 112,
         "IMDB Score": 4.1,
         "Language": "Korean",
         "_deepnote_index_column": 11
        },
        {
         "Title": "Whipped",
         "Genre": "Romantic comedy",
         "Premiere": "September 18, 2020",
         "Runtime": 97,
         "IMDB Score": 4.1,
         "Language": "Indonesian",
         "_deepnote_index_column": 12
        },
        {
         "Title": "All Because of You",
         "Genre": "Action comedy",
         "Premiere": "October 1, 2020",
         "Runtime": 101,
         "IMDB Score": 4.2,
         "Language": "Malay",
         "_deepnote_index_column": 13
        },
        {
         "Title": "Mercy",
         "Genre": "Thriller",
         "Premiere": "November 22, 2016",
         "Runtime": 90,
         "IMDB Score": 4.2,
         "Language": "English",
         "_deepnote_index_column": 14
        },
        {
         "Title": "After the Raid",
         "Genre": "Documentary",
         "Premiere": "December 19, 2019",
         "Runtime": 25,
         "IMDB Score": 4.3,
         "Language": "Spanish",
         "_deepnote_index_column": 15
        },
        {
         "Title": "Ghost Stories",
         "Genre": "Horror anthology",
         "Premiere": "January 1, 2020",
         "Runtime": 144,
         "IMDB Score": 4.3,
         "Language": "Hindi",
         "_deepnote_index_column": 16
        },
        {
         "Title": "The Last Thing He Wanted",
         "Genre": "Political thriller",
         "Premiere": "February 21, 2020",
         "Runtime": 115,
         "IMDB Score": 4.3,
         "Language": "English",
         "_deepnote_index_column": 17
        },
        {
         "Title": "What Happened to Mr. Cha?",
         "Genre": "Comedy",
         "Premiere": "January 1, 2021",
         "Runtime": 102,
         "IMDB Score": 4.3,
         "Language": "Korean",
         "_deepnote_index_column": 18
        },
        {
         "Title": "Death Note",
         "Genre": "Horror thriller",
         "Premiere": "August 25, 2017",
         "Runtime": 100,
         "IMDB Score": 4.4,
         "Language": "English",
         "_deepnote_index_column": 19
        },
        {
         "Title": "Hello Privilege. It's Me, Chelsea",
         "Genre": "Documentary",
         "Premiere": "September 13, 2019",
         "Runtime": 64,
         "IMDB Score": 4.4,
         "Language": "English",
         "_deepnote_index_column": 20
        },
        {
         "Title": "Secret Obsession",
         "Genre": "Thriller",
         "Premiere": "July 18, 2019",
         "Runtime": 97,
         "IMDB Score": 4.4,
         "Language": "English",
         "_deepnote_index_column": 21
        },
        {
         "Title": "Sextuplets",
         "Genre": "Comedy",
         "Premiere": "August 16, 2019",
         "Runtime": 99,
         "IMDB Score": 4.4,
         "Language": "English",
         "_deepnote_index_column": 22
        },
        {
         "Title": "The Girl on the Train",
         "Genre": "Thriller",
         "Premiere": "February 26, 2021",
         "Runtime": 120,
         "IMDB Score": 4.4,
         "Language": "Hindi",
         "_deepnote_index_column": 23
        },
        {
         "Title": "Thunder Force",
         "Genre": "Superhero-Comedy",
         "Premiere": "April 9, 2021",
         "Runtime": 105,
         "IMDB Score": 4.4,
         "Language": "English",
         "_deepnote_index_column": 24
        },
        {
         "Title": "Fatal Affair",
         "Genre": "Thriller",
         "Premiere": "July 16, 2020",
         "Runtime": 89,
         "IMDB Score": 4.5,
         "Language": "English",
         "_deepnote_index_column": 25
        },
        {
         "Title": "Just Say Yes",
         "Genre": "Romantic comedy",
         "Premiere": "April 2, 2021",
         "Runtime": 97,
         "IMDB Score": 4.5,
         "Language": "Dutch",
         "_deepnote_index_column": 26
        },
        {
         "Title": "Seriously Single",
         "Genre": "Comedy",
         "Premiere": "July 31, 2020",
         "Runtime": 107,
         "IMDB Score": 4.5,
         "Language": "English",
         "_deepnote_index_column": 27
        },
        {
         "Title": "The Misadventures of Hedi and Cokeman",
         "Genre": "Comedy",
         "Premiere": "February 10, 2021",
         "Runtime": 99,
         "IMDB Score": 4.5,
         "Language": "French",
         "_deepnote_index_column": 28
        },
        {
         "Title": "5 Star Christmas",
         "Genre": "Comedy",
         "Premiere": "December 7, 2018",
         "Runtime": 95,
         "IMDB Score": 4.6,
         "Language": "Italian",
         "_deepnote_index_column": 29
        },
        {
         "Title": "After Maria",
         "Genre": "Documentary",
         "Premiere": "May 24, 2019",
         "Runtime": 37,
         "IMDB Score": 4.6,
         "Language": "English/Spanish",
         "_deepnote_index_column": 30
        },
        {
         "Title": "I Am the Pretty Thing That Lives in the House",
         "Genre": "Horror",
         "Premiere": "October 28, 2016",
         "Runtime": 89,
         "IMDB Score": 4.6,
         "Language": "English",
         "_deepnote_index_column": 31
        },
        {
         "Title": "Paris Is Us",
         "Genre": "Romance drama",
         "Premiere": "February 22, 2019",
         "Runtime": 83,
         "IMDB Score": 4.6,
         "Language": "French",
         "_deepnote_index_column": 32
        },
        {
         "Title": "Porta dos Fundos: The First Temptation of Christ",
         "Genre": "Comedy",
         "Premiere": "December 3, 2019",
         "Runtime": 46,
         "IMDB Score": 4.6,
         "Language": "Portuguese",
         "_deepnote_index_column": 33
        },
        {
         "Title": "Rattlesnake",
         "Genre": "Horror",
         "Premiere": "October 25, 2019",
         "Runtime": 85,
         "IMDB Score": 4.6,
         "Language": "English",
         "_deepnote_index_column": 34
        },
        {
         "Title": "The Players",
         "Genre": "Comedy",
         "Premiere": "July 15, 2020",
         "Runtime": 88,
         "IMDB Score": 4.6,
         "Language": "Italian",
         "_deepnote_index_column": 35
        },
        {
         "Title": "We Are One",
         "Genre": "Documentary",
         "Premiere": "July 14, 2020",
         "Runtime": 86,
         "IMDB Score": 4.6,
         "Language": "French",
         "_deepnote_index_column": 36
        },
        {
         "Title": "Finding Agnes",
         "Genre": "Drama",
         "Premiere": "November 30, 2020",
         "Runtime": 105,
         "IMDB Score": 4.7,
         "Language": "Filipino",
         "_deepnote_index_column": 37
        },
        {
         "Title": "IO",
         "Genre": "Science fiction/Drama",
         "Premiere": "January 18, 2019",
         "Runtime": 95,
         "IMDB Score": 4.7,
         "Language": "English",
         "_deepnote_index_column": 38
        },
        {
         "Title": "Sentinelle",
         "Genre": "Action",
         "Premiere": "March 5, 2021",
         "Runtime": 80,
         "IMDB Score": 4.7,
         "Language": "French",
         "_deepnote_index_column": 39
        },
        {
         "Title": "Sol Levante",
         "Genre": "Anime / Short",
         "Premiere": "April 2, 2020",
         "Runtime": 4,
         "IMDB Score": 4.7,
         "Language": "English",
         "_deepnote_index_column": 40
        },
        {
         "Title": "The Binding",
         "Genre": "Drama",
         "Premiere": "October 2, 2020",
         "Runtime": 93,
         "IMDB Score": 4.7,
         "Language": "Italian",
         "_deepnote_index_column": 41
        },
        {
         "Title": "We Can Be Heroes",
         "Genre": "Superhero",
         "Premiere": "December 25, 2020",
         "Runtime": 100,
         "IMDB Score": 4.7,
         "Language": "English",
         "_deepnote_index_column": 42
        },
        {
         "Title": "Christmas Crossfire",
         "Genre": "Thriller",
         "Premiere": "December 4, 2020",
         "Runtime": 106,
         "IMDB Score": 4.8,
         "Language": "German",
         "_deepnote_index_column": 43
        },
        {
         "Title": "Coin Heist",
         "Genre": "Heist",
         "Premiere": "January 6, 2017",
         "Runtime": 97,
         "IMDB Score": 4.8,
         "Language": "English",
         "_deepnote_index_column": 44
        },
        {
         "Title": "Mrs. Serial Killer",
         "Genre": "Thriller",
         "Premiere": "May 1, 2020",
         "Runtime": 106,
         "IMDB Score": 4.8,
         "Language": "Hindi",
         "_deepnote_index_column": 45
        },
        {
         "Title": "Nobody Sleeps in the Woods Tonight",
         "Genre": "Horror",
         "Premiere": "October 28, 2020",
         "Runtime": 103,
         "IMDB Score": 4.8,
         "Language": "Polish",
         "_deepnote_index_column": 46
        },
        {
         "Title": "Take the 10",
         "Genre": "Comedy",
         "Premiere": "January 20, 2017",
         "Runtime": 80,
         "IMDB Score": 4.8,
         "Language": "English",
         "_deepnote_index_column": 47
        },
        {
         "Title": "The Main Event",
         "Genre": "Comedy",
         "Premiere": "April 10, 2020",
         "Runtime": 101,
         "IMDB Score": 4.8,
         "Language": "English",
         "_deepnote_index_column": 48
        },
        {
         "Title": "The Ridiculous 6",
         "Genre": "Western",
         "Premiere": "December 11, 2015",
         "Runtime": 119,
         "IMDB Score": 4.8,
         "Language": "English",
         "_deepnote_index_column": 49
        },
        {
         "Title": "Earth and Blood",
         "Genre": "Action",
         "Premiere": "April 17, 2020",
         "Runtime": 80,
         "IMDB Score": 4.9,
         "Language": "French",
         "_deepnote_index_column": 50
        },
        {
         "Title": "Fearless",
         "Genre": "Animation/Superhero",
         "Premiere": "August 14, 2020",
         "Runtime": 89,
         "IMDB Score": 4.9,
         "Language": "English",
         "_deepnote_index_column": 51
        },
        {
         "Title": "Holiday Rush",
         "Genre": "Family film",
         "Premiere": "November 28, 2019",
         "Runtime": 94,
         "IMDB Score": 4.9,
         "Language": "English",
         "_deepnote_index_column": 52
        },
        {
         "Title": "The Day of the Lord",
         "Genre": "Drama",
         "Premiere": "October 30, 2020",
         "Runtime": 93,
         "IMDB Score": 4.9,
         "Language": "Spanish",
         "_deepnote_index_column": 53
        },
        {
         "Title": "Airplane Mode",
         "Genre": "Comedy",
         "Premiere": "January 23, 2020",
         "Runtime": 96,
         "IMDB Score": 5,
         "Language": "Portuguese",
         "_deepnote_index_column": 54
        },
        {
         "Title": "How It Ends",
         "Genre": "Action-thriller",
         "Premiere": "July 13, 2018",
         "Runtime": 113,
         "IMDB Score": 5,
         "Language": "English",
         "_deepnote_index_column": 55
        },
        {
         "Title": "Love Like the Falling Rain",
         "Genre": "Drama",
         "Premiere": "October 15, 2020",
         "Runtime": 86,
         "IMDB Score": 5,
         "Language": "Indonesian",
         "_deepnote_index_column": 56
        },
        {
         "Title": "Rebirth",
         "Genre": "Thriller",
         "Premiere": "July 15, 2016",
         "Runtime": 100,
         "IMDB Score": 5,
         "Language": "English",
         "_deepnote_index_column": 57
        },
        {
         "Title": "Squared Love",
         "Genre": "Romantic comedy",
         "Premiere": "February 11, 2021",
         "Runtime": 102,
         "IMDB Score": 5,
         "Language": "Polish",
         "_deepnote_index_column": 58
        },
        {
         "Title": "Cadaver",
         "Genre": "Horror",
         "Premiere": "October 22, 2020",
         "Runtime": 86,
         "IMDB Score": 5.1,
         "Language": "Norwegian",
         "_deepnote_index_column": 59
        },
        {
         "Title": "Clinical",
         "Genre": "Thriller",
         "Premiere": "January 13, 2017",
         "Runtime": 104,
         "IMDB Score": 5.1,
         "Language": "English",
         "_deepnote_index_column": 60
        },
        {
         "Title": "Coffee & Kareem",
         "Genre": "Action comedy",
         "Premiere": "April 3, 2020",
         "Runtime": 88,
         "IMDB Score": 5.1,
         "Language": "English",
         "_deepnote_index_column": 61
        },
        {
         "Title": "Dude",
         "Genre": "Teen comedy-drama",
         "Premiere": "April 20, 2018",
         "Runtime": 97,
         "IMDB Score": 5.1,
         "Language": "English",
         "_deepnote_index_column": 62
        },
        {
         "Title": "Geez & Ann",
         "Genre": "Romantic drama",
         "Premiere": "February 25, 2021",
         "Runtime": 105,
         "IMDB Score": 5.1,
         "Language": "Indonesian",
         "_deepnote_index_column": 63
        },
        {
         "Title": "The Larva Island Movie",
         "Genre": "Animation",
         "Premiere": "July 23, 2020",
         "Runtime": 90,
         "IMDB Score": 5.1,
         "Language": "English",
         "_deepnote_index_column": 64
        },
        {
         "Title": "#REALITYHIGH",
         "Genre": "Comedy",
         "Premiere": "September 8, 2017",
         "Runtime": 99,
         "IMDB Score": 5.2,
         "Language": "English",
         "_deepnote_index_column": 65
        },
        {
         "Title": "American Factory: A Conversation with the Obamas ",
         "Genre": "Aftershow / Interview",
         "Premiere": "August 21, 2019",
         "Runtime": 10,
         "IMDB Score": 5.2,
         "Language": "English",
         "_deepnote_index_column": 66
        },
        {
         "Title": "Desperados",
         "Genre": "Romantic comedy",
         "Premiere": "July 3, 2020",
         "Runtime": 106,
         "IMDB Score": 5.2,
         "Language": "English",
         "_deepnote_index_column": 67
        },
        {
         "Title": "Dolly Parton's Christmas on the Square",
         "Genre": "Christmas musical",
         "Premiere": "November 22, 2020",
         "Runtime": 98,
         "IMDB Score": 5.2,
         "Language": "English",
         "_deepnote_index_column": 68
        },
        {
         "Title": "Father of the Year",
         "Genre": "Comedy",
         "Premiere": "July 20, 2018",
         "Runtime": 94,
         "IMDB Score": 5.2,
         "Language": "English",
         "_deepnote_index_column": 69
        },
        {
         "Title": "Firebrand",
         "Genre": "Drama",
         "Premiere": "February 22, 2019",
         "Runtime": 112,
         "IMDB Score": 5.2,
         "Language": "Marathi",
         "_deepnote_index_column": 70
        },
        {
         "Title": "Ghost Lab",
         "Genre": "Horror",
         "Premiere": "May 26, 2021",
         "Runtime": 117,
         "IMDB Score": 5.2,
         "Language": "Thai",
         "_deepnote_index_column": 71
        },
        {
         "Title": "Girlfriend's Day",
         "Genre": "Comedy",
         "Premiere": "February 14, 2017",
         "Runtime": 70,
         "IMDB Score": 5.2,
         "Language": "English",
         "_deepnote_index_column": 72
        },
        {
         "Title": "Handsome: A Netflix Mystery Movie",
         "Genre": "Comedy",
         "Premiere": "May 5, 2017",
         "Runtime": 81,
         "IMDB Score": 5.2,
         "Language": "English",
         "_deepnote_index_column": 73
        },
        {
         "Title": "Hubie Halloween",
         "Genre": "Comedy",
         "Premiere": "October 7, 2020",
         "Runtime": 103,
         "IMDB Score": 5.2,
         "Language": "English",
         "_deepnote_index_column": 74
        },
        {
         "Title": "Ibiza",
         "Genre": "Comedy",
         "Premiere": "May 25, 2018",
         "Runtime": 94,
         "IMDB Score": 5.2,
         "Language": "English",
         "_deepnote_index_column": 75
        },
        {
         "Title": "Rim of the World",
         "Genre": "Science fiction adventure",
         "Premiere": "May 24, 2019",
         "Runtime": 98,
         "IMDB Score": 5.2,
         "Language": "English",
         "_deepnote_index_column": 76
        },
        {
         "Title": "Sandy Wexler",
         "Genre": "Comedy",
         "Premiere": "April 14, 2017",
         "Runtime": 131,
         "IMDB Score": 5.2,
         "Language": "English",
         "_deepnote_index_column": 77
        },
        {
         "Title": "See You Yesterday",
         "Genre": "Science fiction",
         "Premiere": "May 17, 2019",
         "Runtime": 87,
         "IMDB Score": 5.2,
         "Language": "English",
         "_deepnote_index_column": 78
        },
        {
         "Title": "Still Laugh-In: The Stars Celebrate",
         "Genre": "Variety show",
         "Premiere": "May 14, 2019",
         "Runtime": 60,
         "IMDB Score": 5.2,
         "Language": "English",
         "_deepnote_index_column": 79
        },
        {
         "Title": "Strip Down, Rise Up",
         "Genre": "Documentary",
         "Premiere": "February 5, 2021",
         "Runtime": 112,
         "IMDB Score": 5.2,
         "Language": "English",
         "_deepnote_index_column": 80
        },
        {
         "Title": "Tall Girl",
         "Genre": "Comedy-drama",
         "Premiere": "September 13, 2019",
         "Runtime": 102,
         "IMDB Score": 5.2,
         "Language": "English",
         "_deepnote_index_column": 81
        },
        {
         "Title": "The Beast",
         "Genre": "Drama",
         "Premiere": "November 27, 2020",
         "Runtime": 99,
         "IMDB Score": 5.2,
         "Language": "Italian",
         "_deepnote_index_column": 82
        }
       ],
       "rows_bottom": [
        {
         "Title": "Extremis",
         "Genre": "Documentary",
         "Premiere": "September 13, 2016",
         "Runtime": 24,
         "IMDB Score": 7.3,
         "Language": "English",
         "_deepnote_index_column": 501
        },
        {
         "Title": "Father Soldier Son",
         "Genre": "Documentary",
         "Premiere": "July 17, 2020",
         "Runtime": 100,
         "IMDB Score": 7.3,
         "Language": "English",
         "_deepnote_index_column": 502
        },
        {
         "Title": "Get Me Roger Stone",
         "Genre": "Documentary",
         "Premiere": "May 12, 2017",
         "Runtime": 101,
         "IMDB Score": 7.3,
         "Language": "English",
         "_deepnote_index_column": 503
        },
        {
         "Title": "I'm No Longer Here",
         "Genre": "Drama",
         "Premiere": "May 27, 2020",
         "Runtime": 105,
         "IMDB Score": 7.3,
         "Language": "Spanish",
         "_deepnote_index_column": 504
        },
        {
         "Title": "Mucho Mucho Amor: The Legend of Walter Mercado ",
         "Genre": "Documentary",
         "Premiere": "July 8, 2020",
         "Runtime": 96,
         "IMDB Score": 7.3,
         "Language": "Spanish/English",
         "_deepnote_index_column": 505
        },
        {
         "Title": "Octonauts & the Great Barrier Reef",
         "Genre": "Animation",
         "Premiere": "October 13, 2020",
         "Runtime": 47,
         "IMDB Score": 7.3,
         "Language": "English",
         "_deepnote_index_column": 506
        },
        {
         "Title": "Okja",
         "Genre": "Action-adventure",
         "Premiere": "June 28, 2017",
         "Runtime": 121,
         "IMDB Score": 7.3,
         "Language": "English/Korean",
         "_deepnote_index_column": 507
        },
        {
         "Title": "On My Skin",
         "Genre": "Crime drama",
         "Premiere": "September 12, 2018",
         "Runtime": 100,
         "IMDB Score": 7.3,
         "Language": "Italian",
         "_deepnote_index_column": 508
        },
        {
         "Title": "Raat Akeli Hai",
         "Genre": "Thriller",
         "Premiere": "July 31, 2020",
         "Runtime": 149,
         "IMDB Score": 7.3,
         "Language": "Hindi",
         "_deepnote_index_column": 509
        },
        {
         "Title": "ReMastered: Massacre at the Stadium",
         "Genre": "Documentary",
         "Premiere": "January 11, 2019",
         "Runtime": 64,
         "IMDB Score": 7.3,
         "Language": "English/Spanish",
         "_deepnote_index_column": 510
        },
        {
         "Title": "ReMastered: The Two Killings of Sam Cooke",
         "Genre": "Documentary",
         "Premiere": "February 8, 2019",
         "Runtime": 64,
         "IMDB Score": 7.3,
         "Language": "English",
         "_deepnote_index_column": 511
        },
        {
         "Title": "Secrets of the Saqqara Tomb",
         "Genre": "Documentary",
         "Premiere": "October 28, 2020",
         "Runtime": 114,
         "IMDB Score": 7.3,
         "Language": "English/Arabic",
         "_deepnote_index_column": 512
        },
        {
         "Title": "Sitara: Let Girls Dream",
         "Genre": "Animation / Short",
         "Premiere": "March 8, 2020",
         "Runtime": 15,
         "IMDB Score": 7.3,
         "Language": "English",
         "_deepnote_index_column": 513
        },
        {
         "Title": "Sky Ladder: The Art of Cai Guo-Qiang",
         "Genre": "Documentary",
         "Premiere": "October 14, 2016",
         "Runtime": 79,
         "IMDB Score": 7.3,
         "Language": "English/Mandarin",
         "_deepnote_index_column": 514
        },
        {
         "Title": "Team Foxcatcher",
         "Genre": "Documentary",
         "Premiere": "April 29, 2016",
         "Runtime": 90,
         "IMDB Score": 7.3,
         "Language": "English/Russian",
         "_deepnote_index_column": 515
        },
        {
         "Title": "The Ballad of Buster Scruggs",
         "Genre": "Western",
         "Premiere": "November 16, 2018",
         "Runtime": 132,
         "IMDB Score": 7.3,
         "Language": "English",
         "_deepnote_index_column": 516
        },
        {
         "Title": "The Death and Life of Marsha P. Johnson",
         "Genre": "Documentary",
         "Premiere": "October 6, 2017",
         "Runtime": 105,
         "IMDB Score": 7.3,
         "Language": "English",
         "_deepnote_index_column": 517
        },
        {
         "Title": "The Fundamentals of Caring",
         "Genre": "Comedy-drama",
         "Premiere": "June 24, 2016",
         "Runtime": 97,
         "IMDB Score": 7.3,
         "Language": "English",
         "_deepnote_index_column": 518
        },
        {
         "Title": "The Other One: The Long Strange Trip of Bob Weir",
         "Genre": "Documentary",
         "Premiere": "May 22, 2015",
         "Runtime": 83,
         "IMDB Score": 7.3,
         "Language": "English",
         "_deepnote_index_column": 519
        },
        {
         "Title": "American Factory",
         "Genre": "Documentary",
         "Premiere": "August 21, 2019",
         "Runtime": 110,
         "IMDB Score": 7.4,
         "Language": "English",
         "_deepnote_index_column": 520
        },
        {
         "Title": "Fire in Paradise",
         "Genre": "Documentary",
         "Premiere": "November 1, 2019",
         "Runtime": 39,
         "IMDB Score": 7.4,
         "Language": "English",
         "_deepnote_index_column": 521
        },
        {
         "Title": "Long Shot",
         "Genre": "Documentary",
         "Premiere": "September 29, 2017",
         "Runtime": 40,
         "IMDB Score": 7.4,
         "Language": "English",
         "_deepnote_index_column": 522
        },
        {
         "Title": "Miss Americana",
         "Genre": "Documentary",
         "Premiere": "January 31, 2020",
         "Runtime": 85,
         "IMDB Score": 7.4,
         "Language": "English",
         "_deepnote_index_column": 523
        },
        {
         "Title": "Period. End of Sentence.",
         "Genre": "Documentary",
         "Premiere": "February 12, 2019",
         "Runtime": 26,
         "IMDB Score": 7.4,
         "Language": "English/Hindi",
         "_deepnote_index_column": 524
        },
        {
         "Title": "Shawn Mendes: Live in Concert",
         "Genre": "Concert Film",
         "Premiere": "November 25, 2020",
         "Runtime": 87,
         "IMDB Score": 7.4,
         "Language": "English",
         "_deepnote_index_column": 525
        },
        {
         "Title": "Shirkers",
         "Genre": "Documentary",
         "Premiere": "October 26, 2018",
         "Runtime": 97,
         "IMDB Score": 7.4,
         "Language": "English",
         "_deepnote_index_column": 526
        },
        {
         "Title": "The Black Godfather",
         "Genre": "Documentary",
         "Premiere": "June 7, 2019",
         "Runtime": 118,
         "IMDB Score": 7.4,
         "Language": "English",
         "_deepnote_index_column": 527
        },
        {
         "Title": "The Irishman: In Conversation",
         "Genre": "Aftershow / Interview",
         "Premiere": "November 27, 2019",
         "Runtime": 23,
         "IMDB Score": 7.4,
         "Language": "English",
         "_deepnote_index_column": 528
        },
        {
         "Title": "The Speed Cubers",
         "Genre": "Documentary",
         "Premiere": "July 29, 2020",
         "Runtime": 40,
         "IMDB Score": 7.4,
         "Language": "English",
         "_deepnote_index_column": 529
        },
        {
         "Title": "They'll Love Me When I'm Dead",
         "Genre": "Documentary",
         "Premiere": "November 2, 2018",
         "Runtime": 98,
         "IMDB Score": 7.4,
         "Language": "English",
         "_deepnote_index_column": 530
        },
        {
         "Title": "Tig",
         "Genre": "Documentary",
         "Premiere": "July 17, 2015",
         "Runtime": 80,
         "IMDB Score": 7.4,
         "Language": "English",
         "_deepnote_index_column": 531
        },
        {
         "Title": "Barbra: The Music, The Mem'ries, The Magic!",
         "Genre": "Concert Film",
         "Premiere": "November 22, 2017",
         "Runtime": 108,
         "IMDB Score": 7.5,
         "Language": "English",
         "_deepnote_index_column": 532
        },
        {
         "Title": "Blackpink: Light Up the Sky",
         "Genre": "Documentary",
         "Premiere": "October 14, 2020",
         "Runtime": 79,
         "IMDB Score": 7.5,
         "Language": "Korean",
         "_deepnote_index_column": 533
        },
        {
         "Title": "City of Joy",
         "Genre": "Documentary",
         "Premiere": "September 7, 2018",
         "Runtime": 74,
         "IMDB Score": 7.5,
         "Language": "English",
         "_deepnote_index_column": 534
        },
        {
         "Title": "Dick Johnson Is Dead",
         "Genre": "Documentary",
         "Premiere": "October 2, 2020",
         "Runtime": 90,
         "IMDB Score": 7.5,
         "Language": "English",
         "_deepnote_index_column": 535
        },
        {
         "Title": "Homecoming: A Film by Beyonce ",
         "Genre": "Documentary",
         "Premiere": "April 17, 2019",
         "Runtime": 137,
         "IMDB Score": 7.5,
         "Language": "English",
         "_deepnote_index_column": 536
        },
        {
         "Title": "Invader Zim: Enter the Florpus",
         "Genre": "Animation / Science Fiction",
         "Premiere": "August 16, 2019",
         "Runtime": 71,
         "IMDB Score": 7.5,
         "Language": "English",
         "_deepnote_index_column": 537
        },
        {
         "Title": "Joan Didion: The Center Will Not Hold",
         "Genre": "Documentary",
         "Premiere": "October 27. 2017",
         "Runtime": 98,
         "IMDB Score": 7.5,
         "Language": "English",
         "_deepnote_index_column": 538
        },
        {
         "Title": "John Mulaney & the Sack Lunch Bunch",
         "Genre": "Variety show",
         "Premiere": "December 24, 2019",
         "Runtime": 70,
         "IMDB Score": 7.5,
         "Language": "English",
         "_deepnote_index_column": 539
        },
        {
         "Title": "Reversing Roe",
         "Genre": "Documentary",
         "Premiere": "September 13, 2018",
         "Runtime": 99,
         "IMDB Score": 7.5,
         "Language": "English",
         "_deepnote_index_column": 540
        },
        {
         "Title": "The White Helmets",
         "Genre": "Documentary",
         "Premiere": "September 16. 2016",
         "Runtime": 40,
         "IMDB Score": 7.5,
         "Language": "English",
         "_deepnote_index_column": 541
        },
        {
         "Title": "Athlete A",
         "Genre": "Documentary",
         "Premiere": "June 24, 2020",
         "Runtime": 104,
         "IMDB Score": 7.6,
         "Language": "English",
         "_deepnote_index_column": 542
        },
        {
         "Title": "Ludo",
         "Genre": "Anthology/Dark comedy",
         "Premiere": "November 12, 2020",
         "Runtime": 149,
         "IMDB Score": 7.6,
         "Language": "Hindi",
         "_deepnote_index_column": 543
        },
        {
         "Title": "Quincy",
         "Genre": "Documentary",
         "Premiere": "September 21, 2018",
         "Runtime": 124,
         "IMDB Score": 7.6,
         "Language": "English",
         "_deepnote_index_column": 544
        },
        {
         "Title": "Rolling Thunder Revue: A bob Dylan Story by Martin Scorsere",
         "Genre": "Documentary",
         "Premiere": "June 12, 2019",
         "Runtime": 144,
         "IMDB Score": 7.6,
         "Language": "English",
         "_deepnote_index_column": 545
        },
        {
         "Title": "Tell Me Who I Am",
         "Genre": "Documentary",
         "Premiere": "October 18, 2019",
         "Runtime": 85,
         "IMDB Score": 7.6,
         "Language": "English",
         "_deepnote_index_column": 546
        },
        {
         "Title": "The Bleeding Edge",
         "Genre": "Documentary",
         "Premiere": "July 27, 2018",
         "Runtime": 100,
         "IMDB Score": 7.6,
         "Language": "English",
         "_deepnote_index_column": 547
        },
        {
         "Title": "The Social Dilemma",
         "Genre": "Documentary",
         "Premiere": "September 9, 2020",
         "Runtime": 94,
         "IMDB Score": 7.6,
         "Language": "English",
         "_deepnote_index_column": 548
        },
        {
         "Title": "The Two Popes",
         "Genre": "Drama",
         "Premiere": "December 20, 2019",
         "Runtime": 125,
         "IMDB Score": 7.6,
         "Language": "English",
         "_deepnote_index_column": 549
        },
        {
         "Title": "What Happened, Miss Simone?",
         "Genre": "Documentary",
         "Premiere": "June 26, 2015",
         "Runtime": 84,
         "IMDB Score": 7.6,
         "Language": "English",
         "_deepnote_index_column": 550
        },
        {
         "Title": "Yeh Ballet",
         "Genre": "Drama",
         "Premiere": "February 21, 2020",
         "Runtime": 117,
         "IMDB Score": 7.6,
         "Language": "Hindi",
         "_deepnote_index_column": 551
        },
        {
         "Title": "Anima",
         "Genre": "Musical / Short",
         "Premiere": "June 27, 2019",
         "Runtime": 15,
         "IMDB Score": 7.7,
         "Language": "English",
         "_deepnote_index_column": 552
        },
        {
         "Title": "Beasts of No Nation",
         "Genre": "War drama",
         "Premiere": "October 16, 2015",
         "Runtime": 136,
         "IMDB Score": 7.7,
         "Language": "English/Akan",
         "_deepnote_index_column": 553
        },
        {
         "Title": "Brene Brown: The Call to Courage",
         "Genre": "Documentary",
         "Premiere": "April 19, 2019",
         "Runtime": 76,
         "IMDB Score": 7.7,
         "Language": "English",
         "_deepnote_index_column": 554
        },
        {
         "Title": "Crip Camp: A Disability Revolution",
         "Genre": "Documentary",
         "Premiere": "March 25, 2020",
         "Runtime": 108,
         "IMDB Score": 7.7,
         "Language": "English",
         "_deepnote_index_column": 555
        },
        {
         "Title": "Jim & Andy: The Great Beyond - Featuring a Very Special, Contractually Obligated Mention of Tony Cl…",
         "Genre": "Documentary",
         "Premiere": "November 17, 2017",
         "Runtime": 94,
         "IMDB Score": 7.7,
         "Language": "English",
         "_deepnote_index_column": 556
        },
        {
         "Title": "Justin Timberlake + The Tennessee Kids",
         "Genre": "Concert Film",
         "Premiere": "October 12, 2016",
         "Runtime": 90,
         "IMDB Score": 7.7,
         "Language": "English",
         "_deepnote_index_column": 557
        },
        {
         "Title": "Road to Roma",
         "Genre": "Making-of",
         "Premiere": "February 11, 2020",
         "Runtime": 72,
         "IMDB Score": 7.7,
         "Language": "Spanish",
         "_deepnote_index_column": 558
        },
        {
         "Title": "Roma",
         "Genre": "Drama",
         "Premiere": "December 14, 2018",
         "Runtime": 135,
         "IMDB Score": 7.7,
         "Language": "Spanish",
         "_deepnote_index_column": 559
        },
        {
         "Title": "If Anything Happens I Love You",
         "Genre": "Animation / Short",
         "Premiere": "November 20, 2020",
         "Runtime": 12,
         "IMDB Score": 7.8,
         "Language": "English",
         "_deepnote_index_column": 560
        },
        {
         "Title": "The Irishman",
         "Genre": "Crime drama",
         "Premiere": "November 27, 2019",
         "Runtime": 209,
         "IMDB Score": 7.8,
         "Language": "English",
         "_deepnote_index_column": 561
        },
        {
         "Title": "The Trial of the Chicago 7",
         "Genre": "Drama",
         "Premiere": "October 16, 2020",
         "Runtime": 130,
         "IMDB Score": 7.8,
         "Language": "English",
         "_deepnote_index_column": 562
        },
        {
         "Title": "A Secret Love",
         "Genre": "Documentary",
         "Premiere": "April 29, 2020",
         "Runtime": 82,
         "IMDB Score": 7.9,
         "Language": "English",
         "_deepnote_index_column": 563
        },
        {
         "Title": "Icarus",
         "Genre": "Documentary",
         "Premiere": "August 4, 2017",
         "Runtime": 120,
         "IMDB Score": 7.9,
         "Language": "English",
         "_deepnote_index_column": 564
        },
        {
         "Title": "Marriage Story",
         "Genre": "Drama",
         "Premiere": "December 6, 2019",
         "Runtime": 136,
         "IMDB Score": 7.9,
         "Language": "English",
         "_deepnote_index_column": 565
        },
        {
         "Title": "The Ivory Game",
         "Genre": "Documentary",
         "Premiere": "November 4, 2016",
         "Runtime": 112,
         "IMDB Score": 7.9,
         "Language": "English",
         "_deepnote_index_column": 566
        },
        {
         "Title": "Struggle: The Life and Lost Art of Szukaiski",
         "Genre": "Documentary",
         "Premiere": "December 21, 2018",
         "Runtime": 105,
         "IMDB Score": 8,
         "Language": "English",
         "_deepnote_index_column": 567
        },
        {
         "Title": "Chasing Coral ",
         "Genre": "Documentary",
         "Premiere": "July 14, 2017",
         "Runtime": 89,
         "IMDB Score": 8.1,
         "Language": "English",
         "_deepnote_index_column": 568
        },
        {
         "Title": "My Octopus Teacher",
         "Genre": "Documentary",
         "Premiere": "September 7, 2020",
         "Runtime": 85,
         "IMDB Score": 8.1,
         "Language": "English",
         "_deepnote_index_column": 569
        },
        {
         "Title": "Rising Phoenix",
         "Genre": "Documentary",
         "Premiere": "August 26, 2020",
         "Runtime": 106,
         "IMDB Score": 8.1,
         "Language": "English",
         "_deepnote_index_column": 570
        },
        {
         "Title": "13th",
         "Genre": "Documentary",
         "Premiere": "October 7, 2016",
         "Runtime": 100,
         "IMDB Score": 8.2,
         "Language": "English",
         "_deepnote_index_column": 571
        },
        {
         "Title": "Disclosure: Trans Lives on Screen",
         "Genre": "Documentary",
         "Premiere": "June 19, 2020",
         "Runtime": 107,
         "IMDB Score": 8.2,
         "Language": "English",
         "_deepnote_index_column": 572
        },
        {
         "Title": "Klaus",
         "Genre": "Animation/Christmas/Comedy/Adventure",
         "Premiere": "November 15, 2019",
         "Runtime": 97,
         "IMDB Score": 8.2,
         "Language": "English",
         "_deepnote_index_column": 573
        },
        {
         "Title": "Seaspiracy",
         "Genre": "Documentary",
         "Premiere": "March 24, 2021",
         "Runtime": 89,
         "IMDB Score": 8.2,
         "Language": "English",
         "_deepnote_index_column": 574
        },
        {
         "Title": "The Three Deaths of Marisela Escobedo",
         "Genre": "Documentary",
         "Premiere": "October 14, 2020",
         "Runtime": 109,
         "IMDB Score": 8.2,
         "Language": "Spanish",
         "_deepnote_index_column": 575
        },
        {
         "Title": "Cuba and the Cameraman ",
         "Genre": "Documentary",
         "Premiere": "November 24, 2017",
         "Runtime": 114,
         "IMDB Score": 8.3,
         "Language": "English",
         "_deepnote_index_column": 576
        },
        {
         "Title": "Dancing with the Birds",
         "Genre": "Documentary",
         "Premiere": "October 23, 2019",
         "Runtime": 51,
         "IMDB Score": 8.3,
         "Language": "English",
         "_deepnote_index_column": 577
        },
        {
         "Title": "Ben Platt: Live from Radio City Music Hall",
         "Genre": "Concert Film",
         "Premiere": "May 20, 2020",
         "Runtime": 85,
         "IMDB Score": 8.4,
         "Language": "English",
         "_deepnote_index_column": 578
        },
        {
         "Title": "Taylor Swift: Reputation Stadium Tour",
         "Genre": "Concert Film",
         "Premiere": "December 31, 2018",
         "Runtime": 125,
         "IMDB Score": 8.4,
         "Language": "English",
         "_deepnote_index_column": 579
        },
        {
         "Title": "Winter on Fire: Ukraine's Fight for Freedom",
         "Genre": "Documentary",
         "Premiere": "October 9, 2015",
         "Runtime": 91,
         "IMDB Score": 8.4,
         "Language": "English/Ukranian/Russian",
         "_deepnote_index_column": 580
        },
        {
         "Title": "Springsteen on Broadway",
         "Genre": "One-man show",
         "Premiere": "December 16, 2018",
         "Runtime": 153,
         "IMDB Score": 8.5,
         "Language": "English",
         "_deepnote_index_column": 581
        },
        {
         "Title": "Emicida: AmarElo - It's All For Yesterday",
         "Genre": "Documentary",
         "Premiere": "December 8, 2020",
         "Runtime": 89,
         "IMDB Score": 8.6,
         "Language": "Portuguese",
         "_deepnote_index_column": 582
        },
        {
         "Title": "David Attenborough: A Life on Our Planet",
         "Genre": "Documentary",
         "Premiere": "October 4, 2020",
         "Runtime": 83,
         "IMDB Score": 9,
         "Language": "English",
         "_deepnote_index_column": 583
        }
       ]
      },
      "text/plain": "                                           Title                  Genre  \\\n0                                Enter the Anime            Documentary   \n1                                    Dark Forces               Thriller   \n2                                        The App  Science fiction/Drama   \n3                                 The Open House        Horror thriller   \n4                                    Kaali Khuhi                Mystery   \n..                                           ...                    ...   \n579        Taylor Swift: Reputation Stadium Tour           Concert Film   \n580  Winter on Fire: Ukraine's Fight for Freedom            Documentary   \n581                      Springsteen on Broadway           One-man show   \n582    Emicida: AmarElo - It's All For Yesterday            Documentary   \n583     David Attenborough: A Life on Our Planet            Documentary   \n\n              Premiere  Runtime  IMDB Score                  Language  \n0       August 5, 2019       58         2.5          English/Japanese  \n1      August 21, 2020       81         2.6                   Spanish  \n2    December 26, 2019       79         2.6                   Italian  \n3     January 19, 2018       94         3.2                   English  \n4     October 30, 2020       90         3.4                     Hindi  \n..                 ...      ...         ...                       ...  \n579  December 31, 2018      125         8.4                   English  \n580    October 9, 2015       91         8.4  English/Ukranian/Russian  \n581  December 16, 2018      153         8.5                   English  \n582   December 8, 2020       89         8.6                Portuguese  \n583    October 4, 2020       83         9.0                   English  \n\n[584 rows x 6 columns]",
      "text/html": "<div>\n<style scoped>\n    .dataframe tbody tr th:only-of-type {\n        vertical-align: middle;\n    }\n\n    .dataframe tbody tr th {\n        vertical-align: top;\n    }\n\n    .dataframe thead th {\n        text-align: right;\n    }\n</style>\n<table border=\"1\" class=\"dataframe\">\n  <thead>\n    <tr style=\"text-align: right;\">\n      <th></th>\n      <th>Title</th>\n      <th>Genre</th>\n      <th>Premiere</th>\n      <th>Runtime</th>\n      <th>IMDB Score</th>\n      <th>Language</th>\n    </tr>\n  </thead>\n  <tbody>\n    <tr>\n      <th>0</th>\n      <td>Enter the Anime</td>\n      <td>Documentary</td>\n      <td>August 5, 2019</td>\n      <td>58</td>\n      <td>2.5</td>\n      <td>English/Japanese</td>\n    </tr>\n    <tr>\n      <th>1</th>\n      <td>Dark Forces</td>\n      <td>Thriller</td>\n      <td>August 21, 2020</td>\n      <td>81</td>\n      <td>2.6</td>\n      <td>Spanish</td>\n    </tr>\n    <tr>\n      <th>2</th>\n      <td>The App</td>\n      <td>Science fiction/Drama</td>\n      <td>December 26, 2019</td>\n      <td>79</td>\n      <td>2.6</td>\n      <td>Italian</td>\n    </tr>\n    <tr>\n      <th>3</th>\n      <td>The Open House</td>\n      <td>Horror thriller</td>\n      <td>January 19, 2018</td>\n      <td>94</td>\n      <td>3.2</td>\n      <td>English</td>\n    </tr>\n    <tr>\n      <th>4</th>\n      <td>Kaali Khuhi</td>\n      <td>Mystery</td>\n      <td>October 30, 2020</td>\n      <td>90</td>\n      <td>3.4</td>\n      <td>Hindi</td>\n    </tr>\n    <tr>\n      <th>...</th>\n      <td>...</td>\n      <td>...</td>\n      <td>...</td>\n      <td>...</td>\n      <td>...</td>\n      <td>...</td>\n    </tr>\n    <tr>\n      <th>579</th>\n      <td>Taylor Swift: Reputation Stadium Tour</td>\n      <td>Concert Film</td>\n      <td>December 31, 2018</td>\n      <td>125</td>\n      <td>8.4</td>\n      <td>English</td>\n    </tr>\n    <tr>\n      <th>580</th>\n      <td>Winter on Fire: Ukraine's Fight for Freedom</td>\n      <td>Documentary</td>\n      <td>October 9, 2015</td>\n      <td>91</td>\n      <td>8.4</td>\n      <td>English/Ukranian/Russian</td>\n    </tr>\n    <tr>\n      <th>581</th>\n      <td>Springsteen on Broadway</td>\n      <td>One-man show</td>\n      <td>December 16, 2018</td>\n      <td>153</td>\n      <td>8.5</td>\n      <td>English</td>\n    </tr>\n    <tr>\n      <th>582</th>\n      <td>Emicida: AmarElo - It's All For Yesterday</td>\n      <td>Documentary</td>\n      <td>December 8, 2020</td>\n      <td>89</td>\n      <td>8.6</td>\n      <td>Portuguese</td>\n    </tr>\n    <tr>\n      <th>583</th>\n      <td>David Attenborough: A Life on Our Planet</td>\n      <td>Documentary</td>\n      <td>October 4, 2020</td>\n      <td>83</td>\n      <td>9.0</td>\n      <td>English</td>\n    </tr>\n  </tbody>\n</table>\n<p>584 rows × 6 columns</p>\n</div>"
     },
     "metadata": {}
    }
   ]
  },
  {
   "cell_type": "markdown",
   "source": "## Limpiando los datos",
   "metadata": {
    "tags": [],
    "cell_id": "00003-f879fe3f-2955-4030-a5fd-3455d42e22b1",
    "deepnote_cell_type": "markdown"
   }
  },
  {
   "cell_type": "markdown",
   "source": "El dataset cuenta con 584 peliculas y con 6 columnas",
   "metadata": {
    "tags": [],
    "cell_id": "00003-a2800b9c-665a-43e9-96a6-39b64d9b0532",
    "deepnote_cell_type": "markdown"
   }
  },
  {
   "cell_type": "code",
   "metadata": {
    "tags": [],
    "cell_id": "00003-03e47ea4-cdbd-4e5d-aff7-73d630a8eeac",
    "deepnote_to_be_reexecuted": false,
    "source_hash": "14f60b8f",
    "execution_start": 1627957762045,
    "execution_millis": 12,
    "deepnote_cell_type": "code"
   },
   "source": "df.shape",
   "execution_count": 3,
   "outputs": [
    {
     "output_type": "execute_result",
     "execution_count": 3,
     "data": {
      "text/plain": "(584, 6)"
     },
     "metadata": {}
    }
   ]
  },
  {
   "cell_type": "markdown",
   "source": "Es demasiado raro que encontremos datos demasiado limpios, pero nos ayudara a tener un comienzo muy bueno.",
   "metadata": {
    "tags": [],
    "cell_id": "00005-569de0a8-55d5-4eef-a4fd-d2ed8061015c",
    "deepnote_cell_type": "markdown"
   }
  },
  {
   "cell_type": "code",
   "metadata": {
    "tags": [],
    "cell_id": "00006-9b7fcf07-c0e2-4187-859e-e3ce1c8b8321",
    "deepnote_to_be_reexecuted": false,
    "source_hash": "f3dd26da",
    "execution_start": 1627957762054,
    "execution_millis": 11,
    "deepnote_cell_type": "code"
   },
   "source": "df.isnull().sum()",
   "execution_count": 4,
   "outputs": [
    {
     "output_type": "execute_result",
     "execution_count": 4,
     "data": {
      "text/plain": "Title         0\nGenre         0\nPremiere      0\nRuntime       0\nIMDB Score    0\nLanguage      0\ndtype: int64"
     },
     "metadata": {}
    }
   ]
  },
  {
   "cell_type": "code",
   "metadata": {
    "tags": [],
    "cell_id": "00008-45d88337-7605-4715-b6b9-8f30022becfc",
    "deepnote_to_be_reexecuted": false,
    "source_hash": "de1e323c",
    "execution_start": 1627957762102,
    "execution_millis": 6,
    "deepnote_cell_type": "code"
   },
   "source": "df.info()",
   "execution_count": 5,
   "outputs": [
    {
     "name": "stdout",
     "text": "<class 'pandas.core.frame.DataFrame'>\nRangeIndex: 584 entries, 0 to 583\nData columns (total 6 columns):\n #   Column      Non-Null Count  Dtype  \n---  ------      --------------  -----  \n 0   Title       584 non-null    object \n 1   Genre       584 non-null    object \n 2   Premiere    584 non-null    object \n 3   Runtime     584 non-null    int64  \n 4   IMDB Score  584 non-null    float64\n 5   Language    584 non-null    object \ndtypes: float64(1), int64(1), object(4)\nmemory usage: 27.5+ KB\n",
     "output_type": "stream"
    }
   ]
  },
  {
   "cell_type": "markdown",
   "source": "El tipo de datos \"Premiere\" debemos convertirlo a un datetime, porque actualemnte es un objeto.",
   "metadata": {
    "tags": [],
    "cell_id": "00007-753d1cdf-5f94-4b3a-b2ae-152680946cd1",
    "deepnote_cell_type": "markdown"
   }
  },
  {
   "cell_type": "code",
   "metadata": {
    "tags": [],
    "cell_id": "00009-9b8c1ecd-3e24-497b-a75f-9e069b16112a",
    "deepnote_to_be_reexecuted": false,
    "source_hash": "655df729",
    "execution_start": 1627957762103,
    "execution_millis": 49,
    "deepnote_cell_type": "code"
   },
   "source": "df['date'] = pd.to_datetime(df['Premiere'])\ndf['date']",
   "execution_count": 6,
   "outputs": [
    {
     "output_type": "execute_result",
     "execution_count": 6,
     "data": {
      "text/plain": "0     2019-08-05\n1     2020-08-21\n2     2019-12-26\n3     2018-01-19\n4     2020-10-30\n         ...    \n579   2018-12-31\n580   2015-10-09\n581   2018-12-16\n582   2020-12-08\n583   2020-10-04\nName: date, Length: 584, dtype: datetime64[ns]"
     },
     "metadata": {}
    }
   ]
  },
  {
   "cell_type": "markdown",
   "source": "Para poder tener un analisis mas sencillo vamos a separar la fecha completa en diferentes columnas.",
   "metadata": {
    "tags": [],
    "cell_id": "00010-2efdc18a-eff2-4e47-a999-5222873db7d9",
    "deepnote_cell_type": "markdown"
   }
  },
  {
   "cell_type": "code",
   "metadata": {
    "tags": [],
    "cell_id": "00010-51d38693-f9df-4a27-8fc3-cd6204a07217",
    "deepnote_to_be_reexecuted": false,
    "source_hash": "9b684037",
    "execution_start": 1627957762154,
    "execution_millis": 75,
    "deepnote_cell_type": "code"
   },
   "source": "df['year'] = df['date'].dt.year\ndf['year_month'] = df['date'].dt.strftime('%Y-%m')\ndf['month']= df['date'].dt.month\ndf['day_of_week']=df['date'].dt.dayofweek\ndf.head(1)",
   "execution_count": 7,
   "outputs": [
    {
     "output_type": "execute_result",
     "execution_count": 7,
     "data": {
      "application/vnd.deepnote.dataframe.v2+json": {
       "row_count": 1,
       "column_count": 11,
       "columns": [
        {
         "name": "Title",
         "dtype": "object",
         "stats": {
          "unique_count": 1,
          "nan_count": 0,
          "categories": [
           {
            "name": "Enter the Anime",
            "count": 1
           }
          ]
         }
        },
        {
         "name": "Genre",
         "dtype": "object",
         "stats": {
          "unique_count": 1,
          "nan_count": 0,
          "categories": [
           {
            "name": "Documentary",
            "count": 1
           }
          ]
         }
        },
        {
         "name": "Premiere",
         "dtype": "object",
         "stats": {
          "unique_count": 1,
          "nan_count": 0,
          "categories": [
           {
            "name": "August 5, 2019",
            "count": 1
           }
          ]
         }
        },
        {
         "name": "Runtime",
         "dtype": "int64",
         "stats": {
          "unique_count": 1,
          "nan_count": 0,
          "min": "58",
          "max": "58",
          "histogram": [
           {
            "bin_start": 57.5,
            "bin_end": 57.6,
            "count": 0
           },
           {
            "bin_start": 57.6,
            "bin_end": 57.7,
            "count": 0
           },
           {
            "bin_start": 57.7,
            "bin_end": 57.8,
            "count": 0
           },
           {
            "bin_start": 57.8,
            "bin_end": 57.9,
            "count": 0
           },
           {
            "bin_start": 57.9,
            "bin_end": 58,
            "count": 0
           },
           {
            "bin_start": 58,
            "bin_end": 58.1,
            "count": 1
           },
           {
            "bin_start": 58.1,
            "bin_end": 58.2,
            "count": 0
           },
           {
            "bin_start": 58.2,
            "bin_end": 58.3,
            "count": 0
           },
           {
            "bin_start": 58.3,
            "bin_end": 58.4,
            "count": 0
           },
           {
            "bin_start": 58.4,
            "bin_end": 58.5,
            "count": 0
           }
          ]
         }
        },
        {
         "name": "IMDB Score",
         "dtype": "float64",
         "stats": {
          "unique_count": 1,
          "nan_count": 0,
          "min": "2.5",
          "max": "2.5",
          "histogram": [
           {
            "bin_start": 2,
            "bin_end": 2.1,
            "count": 0
           },
           {
            "bin_start": 2.1,
            "bin_end": 2.2,
            "count": 0
           },
           {
            "bin_start": 2.2,
            "bin_end": 2.3,
            "count": 0
           },
           {
            "bin_start": 2.3,
            "bin_end": 2.4,
            "count": 0
           },
           {
            "bin_start": 2.4,
            "bin_end": 2.5,
            "count": 0
           },
           {
            "bin_start": 2.5,
            "bin_end": 2.6,
            "count": 1
           },
           {
            "bin_start": 2.6,
            "bin_end": 2.7,
            "count": 0
           },
           {
            "bin_start": 2.7,
            "bin_end": 2.8,
            "count": 0
           },
           {
            "bin_start": 2.8,
            "bin_end": 2.9,
            "count": 0
           },
           {
            "bin_start": 2.9,
            "bin_end": 3,
            "count": 0
           }
          ]
         }
        },
        {
         "name": "Language",
         "dtype": "object",
         "stats": {
          "unique_count": 1,
          "nan_count": 0,
          "categories": [
           {
            "name": "English/Japanese",
            "count": 1
           }
          ]
         }
        },
        {
         "name": "date",
         "dtype": "datetime64[ns]",
         "stats": {
          "unique_count": 1,
          "nan_count": 0,
          "min": "2019-08-05 00:00:00",
          "max": "2019-08-05 00:00:00",
          "histogram": null
         }
        },
        {
         "name": "year",
         "dtype": "int64",
         "stats": {
          "unique_count": 1,
          "nan_count": 0,
          "min": "2019",
          "max": "2019",
          "histogram": [
           {
            "bin_start": 2018.5,
            "bin_end": 2018.6,
            "count": 0
           },
           {
            "bin_start": 2018.6,
            "bin_end": 2018.7,
            "count": 0
           },
           {
            "bin_start": 2018.7,
            "bin_end": 2018.8,
            "count": 0
           },
           {
            "bin_start": 2018.8,
            "bin_end": 2018.9,
            "count": 0
           },
           {
            "bin_start": 2018.9,
            "bin_end": 2019,
            "count": 0
           },
           {
            "bin_start": 2019,
            "bin_end": 2019.1,
            "count": 1
           },
           {
            "bin_start": 2019.1,
            "bin_end": 2019.2,
            "count": 0
           },
           {
            "bin_start": 2019.2,
            "bin_end": 2019.3,
            "count": 0
           },
           {
            "bin_start": 2019.3,
            "bin_end": 2019.4,
            "count": 0
           },
           {
            "bin_start": 2019.4,
            "bin_end": 2019.5,
            "count": 0
           }
          ]
         }
        },
        {
         "name": "year_month",
         "dtype": "object",
         "stats": {
          "unique_count": 1,
          "nan_count": 0,
          "categories": [
           {
            "name": "2019-08",
            "count": 1
           }
          ]
         }
        },
        {
         "name": "month",
         "dtype": "int64",
         "stats": {
          "unique_count": 1,
          "nan_count": 0,
          "min": "8",
          "max": "8",
          "histogram": [
           {
            "bin_start": 7.5,
            "bin_end": 7.6,
            "count": 0
           },
           {
            "bin_start": 7.6,
            "bin_end": 7.7,
            "count": 0
           },
           {
            "bin_start": 7.7,
            "bin_end": 7.8,
            "count": 0
           },
           {
            "bin_start": 7.8,
            "bin_end": 7.9,
            "count": 0
           },
           {
            "bin_start": 7.9,
            "bin_end": 8,
            "count": 0
           },
           {
            "bin_start": 8,
            "bin_end": 8.1,
            "count": 1
           },
           {
            "bin_start": 8.1,
            "bin_end": 8.2,
            "count": 0
           },
           {
            "bin_start": 8.2,
            "bin_end": 8.3,
            "count": 0
           },
           {
            "bin_start": 8.3,
            "bin_end": 8.4,
            "count": 0
           },
           {
            "bin_start": 8.4,
            "bin_end": 8.5,
            "count": 0
           }
          ]
         }
        },
        {
         "name": "day_of_week",
         "dtype": "int64",
         "stats": {
          "unique_count": 1,
          "nan_count": 0,
          "min": "0",
          "max": "0",
          "histogram": [
           {
            "bin_start": -0.5,
            "bin_end": -0.4,
            "count": 0
           },
           {
            "bin_start": -0.4,
            "bin_end": -0.3,
            "count": 0
           },
           {
            "bin_start": -0.3,
            "bin_end": -0.19999999999999996,
            "count": 0
           },
           {
            "bin_start": -0.19999999999999996,
            "bin_end": -0.09999999999999998,
            "count": 0
           },
           {
            "bin_start": -0.09999999999999998,
            "bin_end": 0,
            "count": 0
           },
           {
            "bin_start": 0,
            "bin_end": 0.10000000000000009,
            "count": 1
           },
           {
            "bin_start": 0.10000000000000009,
            "bin_end": 0.20000000000000007,
            "count": 0
           },
           {
            "bin_start": 0.20000000000000007,
            "bin_end": 0.30000000000000004,
            "count": 0
           },
           {
            "bin_start": 0.30000000000000004,
            "bin_end": 0.4,
            "count": 0
           },
           {
            "bin_start": 0.4,
            "bin_end": 0.5,
            "count": 0
           }
          ]
         }
        },
        {
         "name": "_deepnote_index_column",
         "dtype": "int64"
        }
       ],
       "rows_top": [
        {
         "Title": "Enter the Anime",
         "Genre": "Documentary",
         "Premiere": "August 5, 2019",
         "Runtime": 58,
         "IMDB Score": 2.5,
         "Language": "English/Japanese",
         "date": "2019-08-05T00:00:00.000000",
         "year": 2019,
         "year_month": "2019-08",
         "month": 8,
         "day_of_week": 0,
         "_deepnote_index_column": 0
        }
       ],
       "rows_bottom": null
      },
      "text/plain": "             Title        Genre        Premiere  Runtime  IMDB Score  \\\n0  Enter the Anime  Documentary  August 5, 2019       58         2.5   \n\n           Language       date  year year_month  month  day_of_week  \n0  English/Japanese 2019-08-05  2019    2019-08      8            0  ",
      "text/html": "<div>\n<style scoped>\n    .dataframe tbody tr th:only-of-type {\n        vertical-align: middle;\n    }\n\n    .dataframe tbody tr th {\n        vertical-align: top;\n    }\n\n    .dataframe thead th {\n        text-align: right;\n    }\n</style>\n<table border=\"1\" class=\"dataframe\">\n  <thead>\n    <tr style=\"text-align: right;\">\n      <th></th>\n      <th>Title</th>\n      <th>Genre</th>\n      <th>Premiere</th>\n      <th>Runtime</th>\n      <th>IMDB Score</th>\n      <th>Language</th>\n      <th>date</th>\n      <th>year</th>\n      <th>year_month</th>\n      <th>month</th>\n      <th>day_of_week</th>\n    </tr>\n  </thead>\n  <tbody>\n    <tr>\n      <th>0</th>\n      <td>Enter the Anime</td>\n      <td>Documentary</td>\n      <td>August 5, 2019</td>\n      <td>58</td>\n      <td>2.5</td>\n      <td>English/Japanese</td>\n      <td>2019-08-05</td>\n      <td>2019</td>\n      <td>2019-08</td>\n      <td>8</td>\n      <td>0</td>\n    </tr>\n  </tbody>\n</table>\n</div>"
     },
     "metadata": {}
    }
   ]
  },
  {
   "cell_type": "markdown",
   "source": "# Análisis",
   "metadata": {
    "tags": [],
    "cell_id": "00012-072e7170-f5e4-4ae1-a4a7-22915c21e6c0",
    "deepnote_cell_type": "markdown"
   }
  },
  {
   "cell_type": "markdown",
   "source": "## Genero\nExisten 115 generos unicos en el data set.",
   "metadata": {
    "tags": [],
    "cell_id": "00013-3617a0ad-6507-40cb-b77a-b18ea72ad1ed",
    "deepnote_cell_type": "markdown"
   }
  },
  {
   "cell_type": "code",
   "metadata": {
    "tags": [],
    "cell_id": "00013-e853c606-57d7-4bba-9e8a-08387f4a286a",
    "deepnote_to_be_reexecuted": false,
    "source_hash": "4bc0b37a",
    "execution_start": 1627957762223,
    "execution_millis": 6,
    "deepnote_cell_type": "code"
   },
   "source": "df['Genre'].nunique()",
   "execution_count": 8,
   "outputs": [
    {
     "output_type": "execute_result",
     "execution_count": 8,
     "data": {
      "text/plain": "115"
     },
     "metadata": {}
    }
   ]
  },
  {
   "cell_type": "markdown",
   "source": "Vamos a normalizar los datos esto es muy importante hacerlo, ya que nos ayudara a entender cual es el genero que predomina más.",
   "metadata": {
    "tags": [],
    "cell_id": "00015-64dcde85-90d1-4603-a6f1-9fb371d21a1b",
    "deepnote_cell_type": "markdown"
   }
  },
  {
   "cell_type": "code",
   "metadata": {
    "tags": [],
    "cell_id": "00015-cf5f03d6-43ab-4cb8-935f-660802ee4bc5",
    "deepnote_to_be_reexecuted": false,
    "source_hash": "83cbf547",
    "execution_start": 1627957762223,
    "execution_millis": 6,
    "deepnote_cell_type": "code"
   },
   "source": "df['Genre'].value_counts(normalize=True)",
   "execution_count": 9,
   "outputs": [
    {
     "output_type": "execute_result",
     "execution_count": 9,
     "data": {
      "text/plain": "Documentary               0.272260\nDrama                     0.131849\nComedy                    0.083904\nRomantic comedy           0.066781\nThriller                  0.056507\n                            ...   \nAnthology/Dark comedy     0.001712\nRomance drama             0.001712\nAction thriller           0.001712\nVariety Show              0.001712\nAction/Science fiction    0.001712\nName: Genre, Length: 115, dtype: float64"
     },
     "metadata": {}
    }
   ]
  },
  {
   "cell_type": "code",
   "metadata": {
    "tags": [],
    "cell_id": "00016-49b6e546-37ab-4954-9ac1-9db5e91f76b0",
    "deepnote_to_be_reexecuted": false,
    "source_hash": "f2baa7d8",
    "execution_start": 1627957762227,
    "execution_millis": 6,
    "deepnote_cell_type": "code"
   },
   "source": "print(df['Genre'].value_counts()[:10])\nprint('-'*50)\nprint('Top 5  de generos cuenta con el: ',(df['Genre'].value_counts()[:5].sum()*100)/df['Genre'].value_counts().sum(), '%')\ngenre = df['Genre'].value_counts()[:20]",
   "execution_count": 10,
   "outputs": [
    {
     "name": "stdout",
     "text": "Documentary        159\nDrama               77\nComedy              49\nRomantic comedy     39\nThriller            33\nComedy-drama        14\nCrime drama         11\nHorror               9\nBiopic               9\nAction               7\nName: Genre, dtype: int64\n--------------------------------------------------\nTop 5  de generos cuenta con el:  61.13013698630137 %\n",
     "output_type": "stream"
    }
   ]
  },
  {
   "cell_type": "markdown",
   "source": "- El 27.2% de las peliculas son de Documentales y despues le sigue las peliculas de Drama con 13.1%.\n- La mayoria de peliculas provienen de diferentes generos y una gran cantidad de pelicuas estan en el rango del 1%.\n- Algo impresionante es el top 5 de los generos simplemente abarca el 61.13% de las peliculas. Y sus generos son Documental, Drama, Comedia romantica, Thriller y comedia dramatica.",
   "metadata": {
    "tags": [],
    "cell_id": "00018-aa203778-4d19-44cf-94a4-68145179752f",
    "deepnote_cell_type": "markdown"
   }
  },
  {
   "cell_type": "code",
   "metadata": {
    "tags": [],
    "cell_id": "00018-d556686a-443e-4de6-bf4c-61bb22a1890a",
    "deepnote_to_be_reexecuted": false,
    "source_hash": "6b3ebdad",
    "execution_start": 1627957762236,
    "execution_millis": 858,
    "deepnote_cell_type": "code"
   },
   "source": "fig = px.bar(genre,\n    x=genre.index,\n    y=genre.values,\n    labels={'y':'Numero de peliculas por genero', 'index':'Genre'},\n    title='Los 20 generos con mas peliculas'\n)\nfig.update_layout(xaxis={'categoryorder':'total descending'})\nfig.show()",
   "execution_count": 11,
   "outputs": [
    {
     "data": {
      "text/html": "<html>\n<head><meta charset=\"utf-8\" /></head>\n<body>\n    <div>            <script src=\"https://cdnjs.cloudflare.com/ajax/libs/mathjax/2.7.5/MathJax.js?config=TeX-AMS-MML_SVG\"></script><script type=\"text/javascript\">if (window.MathJax) {MathJax.Hub.Config({SVG: {font: \"STIX-Web\"}});}</script>                <script type=\"text/javascript\">window.PlotlyConfig = {MathJaxConfig: 'local'};</script>\n        <script src=\"https://cdn.plot.ly/plotly-2.2.0.min.js\"></script>                <div id=\"937fc10c-fd24-4e98-bd4b-1ca2243544d7\" class=\"plotly-graph-div\" style=\"height:525px; width:100%;\"></div>            <script type=\"text/javascript\">                                    window.PLOTLYENV=window.PLOTLYENV || {};                                    if (document.getElementById(\"937fc10c-fd24-4e98-bd4b-1ca2243544d7\")) {                    Plotly.newPlot(                        \"937fc10c-fd24-4e98-bd4b-1ca2243544d7\",                        [{\"alignmentgroup\":\"True\",\"hovertemplate\":\"Genre=%{x}<br>Numero de peliculas por genero=%{y}<extra></extra>\",\"legendgroup\":\"\",\"marker\":{\"color\":\"#636efa\",\"pattern\":{\"shape\":\"\"}},\"name\":\"\",\"offsetgroup\":\"\",\"orientation\":\"v\",\"showlegend\":false,\"textposition\":\"auto\",\"type\":\"bar\",\"x\":[\"Documentary\",\"Drama\",\"Comedy\",\"Romantic comedy\",\"Thriller\",\"Comedy-drama\",\"Crime drama\",\"Horror\",\"Biopic\",\"Action\",\"Concert Film\",\"Romance\",\"Aftershow / Interview\",\"Romantic drama\",\"Animation\",\"Action comedy\",\"Psychological thriller\",\"Science fiction\",\"Animation / Short\",\"Science fiction/Thriller\"],\"xaxis\":\"x\",\"y\":[159,77,49,39,33,14,11,9,9,7,6,6,6,5,5,5,4,4,4,4],\"yaxis\":\"y\"}],                        {\"barmode\":\"relative\",\"legend\":{\"tracegroupgap\":0},\"template\":{\"data\":{\"bar\":[{\"error_x\":{\"color\":\"#2a3f5f\"},\"error_y\":{\"color\":\"#2a3f5f\"},\"marker\":{\"line\":{\"color\":\"#E5ECF6\",\"width\":0.5},\"pattern\":{\"fillmode\":\"overlay\",\"size\":10,\"solidity\":0.2}},\"type\":\"bar\"}],\"barpolar\":[{\"marker\":{\"line\":{\"color\":\"#E5ECF6\",\"width\":0.5},\"pattern\":{\"fillmode\":\"overlay\",\"size\":10,\"solidity\":0.2}},\"type\":\"barpolar\"}],\"carpet\":[{\"aaxis\":{\"endlinecolor\":\"#2a3f5f\",\"gridcolor\":\"white\",\"linecolor\":\"white\",\"minorgridcolor\":\"white\",\"startlinecolor\":\"#2a3f5f\"},\"baxis\":{\"endlinecolor\":\"#2a3f5f\",\"gridcolor\":\"white\",\"linecolor\":\"white\",\"minorgridcolor\":\"white\",\"startlinecolor\":\"#2a3f5f\"},\"type\":\"carpet\"}],\"choropleth\":[{\"colorbar\":{\"outlinewidth\":0,\"ticks\":\"\"},\"type\":\"choropleth\"}],\"contour\":[{\"colorbar\":{\"outlinewidth\":0,\"ticks\":\"\"},\"colorscale\":[[0.0,\"#0d0887\"],[0.1111111111111111,\"#46039f\"],[0.2222222222222222,\"#7201a8\"],[0.3333333333333333,\"#9c179e\"],[0.4444444444444444,\"#bd3786\"],[0.5555555555555556,\"#d8576b\"],[0.6666666666666666,\"#ed7953\"],[0.7777777777777778,\"#fb9f3a\"],[0.8888888888888888,\"#fdca26\"],[1.0,\"#f0f921\"]],\"type\":\"contour\"}],\"contourcarpet\":[{\"colorbar\":{\"outlinewidth\":0,\"ticks\":\"\"},\"type\":\"contourcarpet\"}],\"heatmap\":[{\"colorbar\":{\"outlinewidth\":0,\"ticks\":\"\"},\"colorscale\":[[0.0,\"#0d0887\"],[0.1111111111111111,\"#46039f\"],[0.2222222222222222,\"#7201a8\"],[0.3333333333333333,\"#9c179e\"],[0.4444444444444444,\"#bd3786\"],[0.5555555555555556,\"#d8576b\"],[0.6666666666666666,\"#ed7953\"],[0.7777777777777778,\"#fb9f3a\"],[0.8888888888888888,\"#fdca26\"],[1.0,\"#f0f921\"]],\"type\":\"heatmap\"}],\"heatmapgl\":[{\"colorbar\":{\"outlinewidth\":0,\"ticks\":\"\"},\"colorscale\":[[0.0,\"#0d0887\"],[0.1111111111111111,\"#46039f\"],[0.2222222222222222,\"#7201a8\"],[0.3333333333333333,\"#9c179e\"],[0.4444444444444444,\"#bd3786\"],[0.5555555555555556,\"#d8576b\"],[0.6666666666666666,\"#ed7953\"],[0.7777777777777778,\"#fb9f3a\"],[0.8888888888888888,\"#fdca26\"],[1.0,\"#f0f921\"]],\"type\":\"heatmapgl\"}],\"histogram\":[{\"marker\":{\"pattern\":{\"fillmode\":\"overlay\",\"size\":10,\"solidity\":0.2}},\"type\":\"histogram\"}],\"histogram2d\":[{\"colorbar\":{\"outlinewidth\":0,\"ticks\":\"\"},\"colorscale\":[[0.0,\"#0d0887\"],[0.1111111111111111,\"#46039f\"],[0.2222222222222222,\"#7201a8\"],[0.3333333333333333,\"#9c179e\"],[0.4444444444444444,\"#bd3786\"],[0.5555555555555556,\"#d8576b\"],[0.6666666666666666,\"#ed7953\"],[0.7777777777777778,\"#fb9f3a\"],[0.8888888888888888,\"#fdca26\"],[1.0,\"#f0f921\"]],\"type\":\"histogram2d\"}],\"histogram2dcontour\":[{\"colorbar\":{\"outlinewidth\":0,\"ticks\":\"\"},\"colorscale\":[[0.0,\"#0d0887\"],[0.1111111111111111,\"#46039f\"],[0.2222222222222222,\"#7201a8\"],[0.3333333333333333,\"#9c179e\"],[0.4444444444444444,\"#bd3786\"],[0.5555555555555556,\"#d8576b\"],[0.6666666666666666,\"#ed7953\"],[0.7777777777777778,\"#fb9f3a\"],[0.8888888888888888,\"#fdca26\"],[1.0,\"#f0f921\"]],\"type\":\"histogram2dcontour\"}],\"mesh3d\":[{\"colorbar\":{\"outlinewidth\":0,\"ticks\":\"\"},\"type\":\"mesh3d\"}],\"parcoords\":[{\"line\":{\"colorbar\":{\"outlinewidth\":0,\"ticks\":\"\"}},\"type\":\"parcoords\"}],\"pie\":[{\"automargin\":true,\"type\":\"pie\"}],\"scatter\":[{\"marker\":{\"colorbar\":{\"outlinewidth\":0,\"ticks\":\"\"}},\"type\":\"scatter\"}],\"scatter3d\":[{\"line\":{\"colorbar\":{\"outlinewidth\":0,\"ticks\":\"\"}},\"marker\":{\"colorbar\":{\"outlinewidth\":0,\"ticks\":\"\"}},\"type\":\"scatter3d\"}],\"scattercarpet\":[{\"marker\":{\"colorbar\":{\"outlinewidth\":0,\"ticks\":\"\"}},\"type\":\"scattercarpet\"}],\"scattergeo\":[{\"marker\":{\"colorbar\":{\"outlinewidth\":0,\"ticks\":\"\"}},\"type\":\"scattergeo\"}],\"scattergl\":[{\"marker\":{\"colorbar\":{\"outlinewidth\":0,\"ticks\":\"\"}},\"type\":\"scattergl\"}],\"scattermapbox\":[{\"marker\":{\"colorbar\":{\"outlinewidth\":0,\"ticks\":\"\"}},\"type\":\"scattermapbox\"}],\"scatterpolar\":[{\"marker\":{\"colorbar\":{\"outlinewidth\":0,\"ticks\":\"\"}},\"type\":\"scatterpolar\"}],\"scatterpolargl\":[{\"marker\":{\"colorbar\":{\"outlinewidth\":0,\"ticks\":\"\"}},\"type\":\"scatterpolargl\"}],\"scatterternary\":[{\"marker\":{\"colorbar\":{\"outlinewidth\":0,\"ticks\":\"\"}},\"type\":\"scatterternary\"}],\"surface\":[{\"colorbar\":{\"outlinewidth\":0,\"ticks\":\"\"},\"colorscale\":[[0.0,\"#0d0887\"],[0.1111111111111111,\"#46039f\"],[0.2222222222222222,\"#7201a8\"],[0.3333333333333333,\"#9c179e\"],[0.4444444444444444,\"#bd3786\"],[0.5555555555555556,\"#d8576b\"],[0.6666666666666666,\"#ed7953\"],[0.7777777777777778,\"#fb9f3a\"],[0.8888888888888888,\"#fdca26\"],[1.0,\"#f0f921\"]],\"type\":\"surface\"}],\"table\":[{\"cells\":{\"fill\":{\"color\":\"#EBF0F8\"},\"line\":{\"color\":\"white\"}},\"header\":{\"fill\":{\"color\":\"#C8D4E3\"},\"line\":{\"color\":\"white\"}},\"type\":\"table\"}]},\"layout\":{\"annotationdefaults\":{\"arrowcolor\":\"#2a3f5f\",\"arrowhead\":0,\"arrowwidth\":1},\"autotypenumbers\":\"strict\",\"coloraxis\":{\"colorbar\":{\"outlinewidth\":0,\"ticks\":\"\"}},\"colorscale\":{\"diverging\":[[0,\"#8e0152\"],[0.1,\"#c51b7d\"],[0.2,\"#de77ae\"],[0.3,\"#f1b6da\"],[0.4,\"#fde0ef\"],[0.5,\"#f7f7f7\"],[0.6,\"#e6f5d0\"],[0.7,\"#b8e186\"],[0.8,\"#7fbc41\"],[0.9,\"#4d9221\"],[1,\"#276419\"]],\"sequential\":[[0.0,\"#0d0887\"],[0.1111111111111111,\"#46039f\"],[0.2222222222222222,\"#7201a8\"],[0.3333333333333333,\"#9c179e\"],[0.4444444444444444,\"#bd3786\"],[0.5555555555555556,\"#d8576b\"],[0.6666666666666666,\"#ed7953\"],[0.7777777777777778,\"#fb9f3a\"],[0.8888888888888888,\"#fdca26\"],[1.0,\"#f0f921\"]],\"sequentialminus\":[[0.0,\"#0d0887\"],[0.1111111111111111,\"#46039f\"],[0.2222222222222222,\"#7201a8\"],[0.3333333333333333,\"#9c179e\"],[0.4444444444444444,\"#bd3786\"],[0.5555555555555556,\"#d8576b\"],[0.6666666666666666,\"#ed7953\"],[0.7777777777777778,\"#fb9f3a\"],[0.8888888888888888,\"#fdca26\"],[1.0,\"#f0f921\"]]},\"colorway\":[\"#636efa\",\"#EF553B\",\"#00cc96\",\"#ab63fa\",\"#FFA15A\",\"#19d3f3\",\"#FF6692\",\"#B6E880\",\"#FF97FF\",\"#FECB52\"],\"font\":{\"color\":\"#2a3f5f\"},\"geo\":{\"bgcolor\":\"white\",\"lakecolor\":\"white\",\"landcolor\":\"#E5ECF6\",\"showlakes\":true,\"showland\":true,\"subunitcolor\":\"white\"},\"hoverlabel\":{\"align\":\"left\"},\"hovermode\":\"closest\",\"mapbox\":{\"style\":\"light\"},\"paper_bgcolor\":\"white\",\"plot_bgcolor\":\"#E5ECF6\",\"polar\":{\"angularaxis\":{\"gridcolor\":\"white\",\"linecolor\":\"white\",\"ticks\":\"\"},\"bgcolor\":\"#E5ECF6\",\"radialaxis\":{\"gridcolor\":\"white\",\"linecolor\":\"white\",\"ticks\":\"\"}},\"scene\":{\"xaxis\":{\"backgroundcolor\":\"#E5ECF6\",\"gridcolor\":\"white\",\"gridwidth\":2,\"linecolor\":\"white\",\"showbackground\":true,\"ticks\":\"\",\"zerolinecolor\":\"white\"},\"yaxis\":{\"backgroundcolor\":\"#E5ECF6\",\"gridcolor\":\"white\",\"gridwidth\":2,\"linecolor\":\"white\",\"showbackground\":true,\"ticks\":\"\",\"zerolinecolor\":\"white\"},\"zaxis\":{\"backgroundcolor\":\"#E5ECF6\",\"gridcolor\":\"white\",\"gridwidth\":2,\"linecolor\":\"white\",\"showbackground\":true,\"ticks\":\"\",\"zerolinecolor\":\"white\"}},\"shapedefaults\":{\"line\":{\"color\":\"#2a3f5f\"}},\"ternary\":{\"aaxis\":{\"gridcolor\":\"white\",\"linecolor\":\"white\",\"ticks\":\"\"},\"baxis\":{\"gridcolor\":\"white\",\"linecolor\":\"white\",\"ticks\":\"\"},\"bgcolor\":\"#E5ECF6\",\"caxis\":{\"gridcolor\":\"white\",\"linecolor\":\"white\",\"ticks\":\"\"}},\"title\":{\"x\":0.05},\"xaxis\":{\"automargin\":true,\"gridcolor\":\"white\",\"linecolor\":\"white\",\"ticks\":\"\",\"title\":{\"standoff\":15},\"zerolinecolor\":\"white\",\"zerolinewidth\":2},\"yaxis\":{\"automargin\":true,\"gridcolor\":\"white\",\"linecolor\":\"white\",\"ticks\":\"\",\"title\":{\"standoff\":15},\"zerolinecolor\":\"white\",\"zerolinewidth\":2}}},\"title\":{\"text\":\"Los 20 generos con mas peliculas\"},\"xaxis\":{\"anchor\":\"y\",\"categoryorder\":\"total descending\",\"domain\":[0.0,1.0],\"title\":{\"text\":\"Genre\"}},\"yaxis\":{\"anchor\":\"x\",\"domain\":[0.0,1.0],\"title\":{\"text\":\"Numero de peliculas por genero\"}}},                        {\"responsive\": true}                    ).then(function(){\n                            \nvar gd = document.getElementById('937fc10c-fd24-4e98-bd4b-1ca2243544d7');\nvar x = new MutationObserver(function (mutations, observer) {{\n        var display = window.getComputedStyle(gd).display;\n        if (!display || display === 'none') {{\n            console.log([gd, 'removed!']);\n            Plotly.purge(gd);\n            observer.disconnect();\n        }}\n}});\n\n// Listen for the removal of the full notebook cells\nvar notebookContainer = gd.closest('#notebook-container');\nif (notebookContainer) {{\n    x.observe(notebookContainer, {childList: true});\n}}\n\n// Listen for the clearing of the current output cell\nvar outputEl = gd.closest('.output');\nif (outputEl) {{\n    x.observe(outputEl, {childList: true});\n}}\n\n                        })                };                            </script>        </div>\n</body>\n</html>"
     },
     "metadata": {},
     "output_type": "display_data"
    }
   ]
  },
  {
   "cell_type": "markdown",
   "source": "## Idioma\nExisten 38 idiomas unicos dentro del data set.",
   "metadata": {
    "tags": [],
    "cell_id": "00020-8cbcbc78-13c7-43f4-8fbe-c362b89453ae",
    "deepnote_cell_type": "markdown"
   }
  },
  {
   "cell_type": "code",
   "metadata": {
    "tags": [],
    "cell_id": "00022-18a41293-8e2e-4623-a847-9c9276aa57e7",
    "deepnote_to_be_reexecuted": false,
    "source_hash": "6b172f6e",
    "execution_start": 1627957763126,
    "execution_millis": 9,
    "deepnote_cell_type": "code"
   },
   "source": "df['Language'].nunique()",
   "execution_count": 12,
   "outputs": [
    {
     "output_type": "execute_result",
     "execution_count": 12,
     "data": {
      "text/plain": "38"
     },
     "metadata": {}
    }
   ]
  },
  {
   "cell_type": "markdown",
   "source": "- El idioma ingles cuenta con el 68.6% de pelicula y el segundo mayor es el idioma Hindi con el 5.6%.",
   "metadata": {
    "tags": [],
    "cell_id": "00022-5fb17ced-f0b4-4d7f-ad38-31b296e75af9",
    "deepnote_cell_type": "markdown"
   }
  },
  {
   "cell_type": "code",
   "metadata": {
    "tags": [],
    "cell_id": "00020-0d6fd7ab-8569-481d-bfdb-044f4b9c1c62",
    "deepnote_to_be_reexecuted": false,
    "source_hash": "589b4edc",
    "execution_start": 1627957763127,
    "execution_millis": 8,
    "deepnote_cell_type": "code"
   },
   "source": "df['Language'].value_counts(normalize=True).head(5)",
   "execution_count": 13,
   "outputs": [
    {
     "output_type": "execute_result",
     "execution_count": 13,
     "data": {
      "text/plain": "English    0.686644\nHindi      0.056507\nSpanish    0.053082\nFrench     0.034247\nItalian    0.023973\nName: Language, dtype: float64"
     },
     "metadata": {}
    }
   ]
  },
  {
   "cell_type": "code",
   "metadata": {
    "tags": [],
    "cell_id": "00023-299552b7-6ad9-4bf7-9ace-37e0ff34197b",
    "deepnote_to_be_reexecuted": false,
    "source_hash": "ecad4356",
    "execution_start": 1627957763128,
    "execution_millis": 7,
    "deepnote_cell_type": "code"
   },
   "source": "lenguage_count = df['Language'].value_counts()[:10]\nlenguage_count",
   "execution_count": 14,
   "outputs": [
    {
     "output_type": "execute_result",
     "execution_count": 14,
     "data": {
      "text/plain": "English       401\nHindi          33\nSpanish        31\nFrench         20\nItalian        14\nPortuguese     12\nIndonesian      9\nKorean          6\nJapanese        6\nTurkish         5\nName: Language, dtype: int64"
     },
     "metadata": {}
    }
   ]
  },
  {
   "cell_type": "code",
   "metadata": {
    "tags": [],
    "cell_id": "00025-7abc7ca9-2c1c-4f5f-827d-0528fbfbc2f1",
    "deepnote_to_be_reexecuted": false,
    "source_hash": "3ba97162",
    "execution_start": 1627957763173,
    "execution_millis": 23,
    "deepnote_cell_type": "code"
   },
   "source": "fig = px.bar(lenguage_count,\n    x=lenguage_count.index,\n    y=lenguage_count.values,\n    labels={'y':'Total','index':'Idioma'}\n)\nfig.show()",
   "execution_count": 15,
   "outputs": [
    {
     "data": {
      "text/html": "<html>\n<head><meta charset=\"utf-8\" /></head>\n<body>\n    <div>            <script src=\"https://cdnjs.cloudflare.com/ajax/libs/mathjax/2.7.5/MathJax.js?config=TeX-AMS-MML_SVG\"></script><script type=\"text/javascript\">if (window.MathJax) {MathJax.Hub.Config({SVG: {font: \"STIX-Web\"}});}</script>                <script type=\"text/javascript\">window.PlotlyConfig = {MathJaxConfig: 'local'};</script>\n        <script src=\"https://cdn.plot.ly/plotly-2.2.0.min.js\"></script>                <div id=\"c687af42-33da-474d-84ea-54a037875c8e\" class=\"plotly-graph-div\" style=\"height:525px; width:100%;\"></div>            <script type=\"text/javascript\">                                    window.PLOTLYENV=window.PLOTLYENV || {};                                    if (document.getElementById(\"c687af42-33da-474d-84ea-54a037875c8e\")) {                    Plotly.newPlot(                        \"c687af42-33da-474d-84ea-54a037875c8e\",                        [{\"alignmentgroup\":\"True\",\"hovertemplate\":\"Idioma=%{x}<br>Total=%{y}<extra></extra>\",\"legendgroup\":\"\",\"marker\":{\"color\":\"#636efa\",\"pattern\":{\"shape\":\"\"}},\"name\":\"\",\"offsetgroup\":\"\",\"orientation\":\"v\",\"showlegend\":false,\"textposition\":\"auto\",\"type\":\"bar\",\"x\":[\"English\",\"Hindi\",\"Spanish\",\"French\",\"Italian\",\"Portuguese\",\"Indonesian\",\"Korean\",\"Japanese\",\"Turkish\"],\"xaxis\":\"x\",\"y\":[401,33,31,20,14,12,9,6,6,5],\"yaxis\":\"y\"}],                        {\"barmode\":\"relative\",\"legend\":{\"tracegroupgap\":0},\"margin\":{\"t\":60},\"template\":{\"data\":{\"bar\":[{\"error_x\":{\"color\":\"#2a3f5f\"},\"error_y\":{\"color\":\"#2a3f5f\"},\"marker\":{\"line\":{\"color\":\"#E5ECF6\",\"width\":0.5},\"pattern\":{\"fillmode\":\"overlay\",\"size\":10,\"solidity\":0.2}},\"type\":\"bar\"}],\"barpolar\":[{\"marker\":{\"line\":{\"color\":\"#E5ECF6\",\"width\":0.5},\"pattern\":{\"fillmode\":\"overlay\",\"size\":10,\"solidity\":0.2}},\"type\":\"barpolar\"}],\"carpet\":[{\"aaxis\":{\"endlinecolor\":\"#2a3f5f\",\"gridcolor\":\"white\",\"linecolor\":\"white\",\"minorgridcolor\":\"white\",\"startlinecolor\":\"#2a3f5f\"},\"baxis\":{\"endlinecolor\":\"#2a3f5f\",\"gridcolor\":\"white\",\"linecolor\":\"white\",\"minorgridcolor\":\"white\",\"startlinecolor\":\"#2a3f5f\"},\"type\":\"carpet\"}],\"choropleth\":[{\"colorbar\":{\"outlinewidth\":0,\"ticks\":\"\"},\"type\":\"choropleth\"}],\"contour\":[{\"colorbar\":{\"outlinewidth\":0,\"ticks\":\"\"},\"colorscale\":[[0.0,\"#0d0887\"],[0.1111111111111111,\"#46039f\"],[0.2222222222222222,\"#7201a8\"],[0.3333333333333333,\"#9c179e\"],[0.4444444444444444,\"#bd3786\"],[0.5555555555555556,\"#d8576b\"],[0.6666666666666666,\"#ed7953\"],[0.7777777777777778,\"#fb9f3a\"],[0.8888888888888888,\"#fdca26\"],[1.0,\"#f0f921\"]],\"type\":\"contour\"}],\"contourcarpet\":[{\"colorbar\":{\"outlinewidth\":0,\"ticks\":\"\"},\"type\":\"contourcarpet\"}],\"heatmap\":[{\"colorbar\":{\"outlinewidth\":0,\"ticks\":\"\"},\"colorscale\":[[0.0,\"#0d0887\"],[0.1111111111111111,\"#46039f\"],[0.2222222222222222,\"#7201a8\"],[0.3333333333333333,\"#9c179e\"],[0.4444444444444444,\"#bd3786\"],[0.5555555555555556,\"#d8576b\"],[0.6666666666666666,\"#ed7953\"],[0.7777777777777778,\"#fb9f3a\"],[0.8888888888888888,\"#fdca26\"],[1.0,\"#f0f921\"]],\"type\":\"heatmap\"}],\"heatmapgl\":[{\"colorbar\":{\"outlinewidth\":0,\"ticks\":\"\"},\"colorscale\":[[0.0,\"#0d0887\"],[0.1111111111111111,\"#46039f\"],[0.2222222222222222,\"#7201a8\"],[0.3333333333333333,\"#9c179e\"],[0.4444444444444444,\"#bd3786\"],[0.5555555555555556,\"#d8576b\"],[0.6666666666666666,\"#ed7953\"],[0.7777777777777778,\"#fb9f3a\"],[0.8888888888888888,\"#fdca26\"],[1.0,\"#f0f921\"]],\"type\":\"heatmapgl\"}],\"histogram\":[{\"marker\":{\"pattern\":{\"fillmode\":\"overlay\",\"size\":10,\"solidity\":0.2}},\"type\":\"histogram\"}],\"histogram2d\":[{\"colorbar\":{\"outlinewidth\":0,\"ticks\":\"\"},\"colorscale\":[[0.0,\"#0d0887\"],[0.1111111111111111,\"#46039f\"],[0.2222222222222222,\"#7201a8\"],[0.3333333333333333,\"#9c179e\"],[0.4444444444444444,\"#bd3786\"],[0.5555555555555556,\"#d8576b\"],[0.6666666666666666,\"#ed7953\"],[0.7777777777777778,\"#fb9f3a\"],[0.8888888888888888,\"#fdca26\"],[1.0,\"#f0f921\"]],\"type\":\"histogram2d\"}],\"histogram2dcontour\":[{\"colorbar\":{\"outlinewidth\":0,\"ticks\":\"\"},\"colorscale\":[[0.0,\"#0d0887\"],[0.1111111111111111,\"#46039f\"],[0.2222222222222222,\"#7201a8\"],[0.3333333333333333,\"#9c179e\"],[0.4444444444444444,\"#bd3786\"],[0.5555555555555556,\"#d8576b\"],[0.6666666666666666,\"#ed7953\"],[0.7777777777777778,\"#fb9f3a\"],[0.8888888888888888,\"#fdca26\"],[1.0,\"#f0f921\"]],\"type\":\"histogram2dcontour\"}],\"mesh3d\":[{\"colorbar\":{\"outlinewidth\":0,\"ticks\":\"\"},\"type\":\"mesh3d\"}],\"parcoords\":[{\"line\":{\"colorbar\":{\"outlinewidth\":0,\"ticks\":\"\"}},\"type\":\"parcoords\"}],\"pie\":[{\"automargin\":true,\"type\":\"pie\"}],\"scatter\":[{\"marker\":{\"colorbar\":{\"outlinewidth\":0,\"ticks\":\"\"}},\"type\":\"scatter\"}],\"scatter3d\":[{\"line\":{\"colorbar\":{\"outlinewidth\":0,\"ticks\":\"\"}},\"marker\":{\"colorbar\":{\"outlinewidth\":0,\"ticks\":\"\"}},\"type\":\"scatter3d\"}],\"scattercarpet\":[{\"marker\":{\"colorbar\":{\"outlinewidth\":0,\"ticks\":\"\"}},\"type\":\"scattercarpet\"}],\"scattergeo\":[{\"marker\":{\"colorbar\":{\"outlinewidth\":0,\"ticks\":\"\"}},\"type\":\"scattergeo\"}],\"scattergl\":[{\"marker\":{\"colorbar\":{\"outlinewidth\":0,\"ticks\":\"\"}},\"type\":\"scattergl\"}],\"scattermapbox\":[{\"marker\":{\"colorbar\":{\"outlinewidth\":0,\"ticks\":\"\"}},\"type\":\"scattermapbox\"}],\"scatterpolar\":[{\"marker\":{\"colorbar\":{\"outlinewidth\":0,\"ticks\":\"\"}},\"type\":\"scatterpolar\"}],\"scatterpolargl\":[{\"marker\":{\"colorbar\":{\"outlinewidth\":0,\"ticks\":\"\"}},\"type\":\"scatterpolargl\"}],\"scatterternary\":[{\"marker\":{\"colorbar\":{\"outlinewidth\":0,\"ticks\":\"\"}},\"type\":\"scatterternary\"}],\"surface\":[{\"colorbar\":{\"outlinewidth\":0,\"ticks\":\"\"},\"colorscale\":[[0.0,\"#0d0887\"],[0.1111111111111111,\"#46039f\"],[0.2222222222222222,\"#7201a8\"],[0.3333333333333333,\"#9c179e\"],[0.4444444444444444,\"#bd3786\"],[0.5555555555555556,\"#d8576b\"],[0.6666666666666666,\"#ed7953\"],[0.7777777777777778,\"#fb9f3a\"],[0.8888888888888888,\"#fdca26\"],[1.0,\"#f0f921\"]],\"type\":\"surface\"}],\"table\":[{\"cells\":{\"fill\":{\"color\":\"#EBF0F8\"},\"line\":{\"color\":\"white\"}},\"header\":{\"fill\":{\"color\":\"#C8D4E3\"},\"line\":{\"color\":\"white\"}},\"type\":\"table\"}]},\"layout\":{\"annotationdefaults\":{\"arrowcolor\":\"#2a3f5f\",\"arrowhead\":0,\"arrowwidth\":1},\"autotypenumbers\":\"strict\",\"coloraxis\":{\"colorbar\":{\"outlinewidth\":0,\"ticks\":\"\"}},\"colorscale\":{\"diverging\":[[0,\"#8e0152\"],[0.1,\"#c51b7d\"],[0.2,\"#de77ae\"],[0.3,\"#f1b6da\"],[0.4,\"#fde0ef\"],[0.5,\"#f7f7f7\"],[0.6,\"#e6f5d0\"],[0.7,\"#b8e186\"],[0.8,\"#7fbc41\"],[0.9,\"#4d9221\"],[1,\"#276419\"]],\"sequential\":[[0.0,\"#0d0887\"],[0.1111111111111111,\"#46039f\"],[0.2222222222222222,\"#7201a8\"],[0.3333333333333333,\"#9c179e\"],[0.4444444444444444,\"#bd3786\"],[0.5555555555555556,\"#d8576b\"],[0.6666666666666666,\"#ed7953\"],[0.7777777777777778,\"#fb9f3a\"],[0.8888888888888888,\"#fdca26\"],[1.0,\"#f0f921\"]],\"sequentialminus\":[[0.0,\"#0d0887\"],[0.1111111111111111,\"#46039f\"],[0.2222222222222222,\"#7201a8\"],[0.3333333333333333,\"#9c179e\"],[0.4444444444444444,\"#bd3786\"],[0.5555555555555556,\"#d8576b\"],[0.6666666666666666,\"#ed7953\"],[0.7777777777777778,\"#fb9f3a\"],[0.8888888888888888,\"#fdca26\"],[1.0,\"#f0f921\"]]},\"colorway\":[\"#636efa\",\"#EF553B\",\"#00cc96\",\"#ab63fa\",\"#FFA15A\",\"#19d3f3\",\"#FF6692\",\"#B6E880\",\"#FF97FF\",\"#FECB52\"],\"font\":{\"color\":\"#2a3f5f\"},\"geo\":{\"bgcolor\":\"white\",\"lakecolor\":\"white\",\"landcolor\":\"#E5ECF6\",\"showlakes\":true,\"showland\":true,\"subunitcolor\":\"white\"},\"hoverlabel\":{\"align\":\"left\"},\"hovermode\":\"closest\",\"mapbox\":{\"style\":\"light\"},\"paper_bgcolor\":\"white\",\"plot_bgcolor\":\"#E5ECF6\",\"polar\":{\"angularaxis\":{\"gridcolor\":\"white\",\"linecolor\":\"white\",\"ticks\":\"\"},\"bgcolor\":\"#E5ECF6\",\"radialaxis\":{\"gridcolor\":\"white\",\"linecolor\":\"white\",\"ticks\":\"\"}},\"scene\":{\"xaxis\":{\"backgroundcolor\":\"#E5ECF6\",\"gridcolor\":\"white\",\"gridwidth\":2,\"linecolor\":\"white\",\"showbackground\":true,\"ticks\":\"\",\"zerolinecolor\":\"white\"},\"yaxis\":{\"backgroundcolor\":\"#E5ECF6\",\"gridcolor\":\"white\",\"gridwidth\":2,\"linecolor\":\"white\",\"showbackground\":true,\"ticks\":\"\",\"zerolinecolor\":\"white\"},\"zaxis\":{\"backgroundcolor\":\"#E5ECF6\",\"gridcolor\":\"white\",\"gridwidth\":2,\"linecolor\":\"white\",\"showbackground\":true,\"ticks\":\"\",\"zerolinecolor\":\"white\"}},\"shapedefaults\":{\"line\":{\"color\":\"#2a3f5f\"}},\"ternary\":{\"aaxis\":{\"gridcolor\":\"white\",\"linecolor\":\"white\",\"ticks\":\"\"},\"baxis\":{\"gridcolor\":\"white\",\"linecolor\":\"white\",\"ticks\":\"\"},\"bgcolor\":\"#E5ECF6\",\"caxis\":{\"gridcolor\":\"white\",\"linecolor\":\"white\",\"ticks\":\"\"}},\"title\":{\"x\":0.05},\"xaxis\":{\"automargin\":true,\"gridcolor\":\"white\",\"linecolor\":\"white\",\"ticks\":\"\",\"title\":{\"standoff\":15},\"zerolinecolor\":\"white\",\"zerolinewidth\":2},\"yaxis\":{\"automargin\":true,\"gridcolor\":\"white\",\"linecolor\":\"white\",\"ticks\":\"\",\"title\":{\"standoff\":15},\"zerolinecolor\":\"white\",\"zerolinewidth\":2}}},\"xaxis\":{\"anchor\":\"y\",\"domain\":[0.0,1.0],\"title\":{\"text\":\"Idioma\"}},\"yaxis\":{\"anchor\":\"x\",\"domain\":[0.0,1.0],\"title\":{\"text\":\"Total\"}}},                        {\"responsive\": true}                    ).then(function(){\n                            \nvar gd = document.getElementById('c687af42-33da-474d-84ea-54a037875c8e');\nvar x = new MutationObserver(function (mutations, observer) {{\n        var display = window.getComputedStyle(gd).display;\n        if (!display || display === 'none') {{\n            console.log([gd, 'removed!']);\n            Plotly.purge(gd);\n            observer.disconnect();\n        }}\n}});\n\n// Listen for the removal of the full notebook cells\nvar notebookContainer = gd.closest('#notebook-container');\nif (notebookContainer) {{\n    x.observe(notebookContainer, {childList: true});\n}}\n\n// Listen for the clearing of the current output cell\nvar outputEl = gd.closest('.output');\nif (outputEl) {{\n    x.observe(outputEl, {childList: true});\n}}\n\n                        })                };                            </script>        </div>\n</body>\n</html>"
     },
     "metadata": {},
     "output_type": "display_data"
    }
   ]
  },
  {
   "cell_type": "markdown",
   "source": "- Es impresionante como el idioma Ingles tiene una gran cantidad de peliculas.",
   "metadata": {
    "tags": [],
    "cell_id": "00026-c234dfef-b7a9-46db-ac5e-c98c77543630",
    "deepnote_cell_type": "markdown"
   }
  },
  {
   "cell_type": "markdown",
   "source": "## Duracion de las peliculas en minutos",
   "metadata": {
    "tags": [],
    "cell_id": "00027-f5e78683-6a2d-45a0-9d27-702cdf44d5c0",
    "deepnote_cell_type": "markdown"
   }
  },
  {
   "cell_type": "code",
   "metadata": {
    "tags": [],
    "cell_id": "00028-8c195bed-ff4d-4a4a-91bb-1d5628eb36d8",
    "deepnote_to_be_reexecuted": false,
    "source_hash": "2b712693",
    "execution_start": 1627957763194,
    "execution_millis": 12,
    "deepnote_cell_type": "code"
   },
   "source": "df['Runtime'].describe()",
   "execution_count": 16,
   "outputs": [
    {
     "output_type": "execute_result",
     "execution_count": 16,
     "data": {
      "text/plain": "count    584.000000\nmean      93.577055\nstd       27.761683\nmin        4.000000\n25%       86.000000\n50%       97.000000\n75%      108.000000\nmax      209.000000\nName: Runtime, dtype: float64"
     },
     "metadata": {}
    }
   ]
  },
  {
   "cell_type": "markdown",
   "source": "- La **duracion** de las peliculas duran entre **93 a 97** minutos.\n- Podemos observar que podrian existir **valores atitpicos** tanto de lado **maximo** y **minimo**.\n- Algo importante la **media** tiene una puntuacion **mas baja que la mediana**. Esto nos indicaria que puede llegar a estar **sesgada izquierda**, tamnien podremos ver una **gran cantidad** de peliculas en el **lado minimo**.",
   "metadata": {
    "tags": [],
    "cell_id": "00029-dad6d210-00ac-413e-8caa-6ab091d156e0",
    "deepnote_cell_type": "markdown"
   }
  },
  {
   "cell_type": "code",
   "metadata": {
    "tags": [],
    "cell_id": "00030-68e731c7-6035-43e3-80a4-656f9342515b",
    "deepnote_to_be_reexecuted": false,
    "source_hash": "1eb42cbc",
    "execution_start": 1627957763214,
    "execution_millis": 69,
    "deepnote_cell_type": "code"
   },
   "source": "fig = px.histogram(df,\n    x='Runtime',\n    title='Duracion de las peliculas en Netflix'\n)\nfig.show()",
   "execution_count": 17,
   "outputs": [
    {
     "data": {
      "text/html": "<html>\n<head><meta charset=\"utf-8\" /></head>\n<body>\n    <div>            <script src=\"https://cdnjs.cloudflare.com/ajax/libs/mathjax/2.7.5/MathJax.js?config=TeX-AMS-MML_SVG\"></script><script type=\"text/javascript\">if (window.MathJax) {MathJax.Hub.Config({SVG: {font: \"STIX-Web\"}});}</script>                <script type=\"text/javascript\">window.PlotlyConfig = {MathJaxConfig: 'local'};</script>\n        <script src=\"https://cdn.plot.ly/plotly-2.2.0.min.js\"></script>                <div id=\"8aa39c67-74f0-4d1e-93d1-5562c1e69e59\" class=\"plotly-graph-div\" style=\"height:525px; width:100%;\"></div>            <script type=\"text/javascript\">                                    window.PLOTLYENV=window.PLOTLYENV || {};                                    if (document.getElementById(\"8aa39c67-74f0-4d1e-93d1-5562c1e69e59\")) {                    Plotly.newPlot(                        \"8aa39c67-74f0-4d1e-93d1-5562c1e69e59\",                        [{\"alignmentgroup\":\"True\",\"bingroup\":\"x\",\"hovertemplate\":\"Runtime=%{x}<br>count=%{y}<extra></extra>\",\"legendgroup\":\"\",\"marker\":{\"color\":\"#636efa\",\"pattern\":{\"shape\":\"\"}},\"name\":\"\",\"offsetgroup\":\"\",\"orientation\":\"v\",\"showlegend\":false,\"type\":\"histogram\",\"x\":[58,81,79,94,90,147,112,149,73,139,58,112,97,101,90,25,144,115,102,100,64,97,99,120,105,89,97,107,99,95,37,89,83,46,85,88,86,105,95,80,4,93,100,106,97,106,103,80,101,119,80,89,94,93,96,113,86,100,102,86,104,88,97,105,90,99,10,106,98,94,112,117,70,81,103,94,98,131,87,60,112,102,99,116,92,83,97,112,116,102,121,95,93,92,98,85,78,120,92,101,119,101,112,96,114,97,101,56,100,94,94,21,104,63,100,126,106,86,142,108,102,92,83,94,92,103,89,95,103,97,125,91,90,49,98,107,118,94,103,86,83,97,99,104,102,89,98,125,89,94,94,85,34,86,91,108,95,100,90,112,86,124,107,92,121,90,104,92,114,98,95,78,107,92,95,96,118,105,94,52,105,95,100,97,89,102,96,131,89,93,111,75,120,96,148,94,107,32,104,23,111,83,53,95,132,98,108,106,104,90,106,90,97,113,123,115,105,101,102,122,128,82,102,80,94,123,104,85,84,103,95,100,89,116,118,96,114,99,87,92,90,95,96,93,42,92,106,151,101,114,90,115,92,72,139,98,92,111,98,104,95,88,102,30,99,129,87,117,104,111,107,97,98,90,101,72,83,118,44,113,86,108,85,102,151,98,87,120,134,109,85,103,94,97,88,37,112,102,100,96,113,16,119,97,81,98,95,96,107,41,87,101,97,103,90,125,116,99,82,97,28,108,93,74,60,9,21,100,155,55,123,103,93,119,40,120,98,104,91,95,101,105,83,91,83,17,86,124,94,102,118,79,134,126,98,89,58,83,136,98,114,99,130,32,104,142,92,86,106,95,91,89,117,90,117,80,87,101,19,106,54,111,132,97,106,111,124,116,112,144,76,101,92,19,39,102,89,105,101,70,96,85,39,79,73,114,121,28,95,122,23,107,98,108,92,100,97,7,96,100,132,103,121,114,57,95,83,17,105,131,30,112,86,100,14,109,28,64,94,31,99,108,48,84,70,27,45,117,104,108,121,36,30,47,110,92,80,49,73,40,96,106,97,94,78,81,87,91,91,95,126,31,58,41,138,112,114,125,99,82,98,136,97,107,92,39,133,89,124,99,101,97,124,129,121,140,13,108,11,118,121,24,100,101,105,96,47,121,100,149,64,64,114,15,79,90,132,105,97,83,110,39,40,85,26,87,97,118,23,40,98,80,108,79,74,90,137,71,98,70,99,40,104,149,124,144,85,100,94,125,84,117,15,136,76,108,94,90,72,135,12,209,130,82,120,136,112,105,89,85,106,100,107,97,89,109,114,51,85,125,91,153,89,83],\"xaxis\":\"x\",\"yaxis\":\"y\"}],                        {\"barmode\":\"relative\",\"legend\":{\"tracegroupgap\":0},\"template\":{\"data\":{\"bar\":[{\"error_x\":{\"color\":\"#2a3f5f\"},\"error_y\":{\"color\":\"#2a3f5f\"},\"marker\":{\"line\":{\"color\":\"#E5ECF6\",\"width\":0.5},\"pattern\":{\"fillmode\":\"overlay\",\"size\":10,\"solidity\":0.2}},\"type\":\"bar\"}],\"barpolar\":[{\"marker\":{\"line\":{\"color\":\"#E5ECF6\",\"width\":0.5},\"pattern\":{\"fillmode\":\"overlay\",\"size\":10,\"solidity\":0.2}},\"type\":\"barpolar\"}],\"carpet\":[{\"aaxis\":{\"endlinecolor\":\"#2a3f5f\",\"gridcolor\":\"white\",\"linecolor\":\"white\",\"minorgridcolor\":\"white\",\"startlinecolor\":\"#2a3f5f\"},\"baxis\":{\"endlinecolor\":\"#2a3f5f\",\"gridcolor\":\"white\",\"linecolor\":\"white\",\"minorgridcolor\":\"white\",\"startlinecolor\":\"#2a3f5f\"},\"type\":\"carpet\"}],\"choropleth\":[{\"colorbar\":{\"outlinewidth\":0,\"ticks\":\"\"},\"type\":\"choropleth\"}],\"contour\":[{\"colorbar\":{\"outlinewidth\":0,\"ticks\":\"\"},\"colorscale\":[[0.0,\"#0d0887\"],[0.1111111111111111,\"#46039f\"],[0.2222222222222222,\"#7201a8\"],[0.3333333333333333,\"#9c179e\"],[0.4444444444444444,\"#bd3786\"],[0.5555555555555556,\"#d8576b\"],[0.6666666666666666,\"#ed7953\"],[0.7777777777777778,\"#fb9f3a\"],[0.8888888888888888,\"#fdca26\"],[1.0,\"#f0f921\"]],\"type\":\"contour\"}],\"contourcarpet\":[{\"colorbar\":{\"outlinewidth\":0,\"ticks\":\"\"},\"type\":\"contourcarpet\"}],\"heatmap\":[{\"colorbar\":{\"outlinewidth\":0,\"ticks\":\"\"},\"colorscale\":[[0.0,\"#0d0887\"],[0.1111111111111111,\"#46039f\"],[0.2222222222222222,\"#7201a8\"],[0.3333333333333333,\"#9c179e\"],[0.4444444444444444,\"#bd3786\"],[0.5555555555555556,\"#d8576b\"],[0.6666666666666666,\"#ed7953\"],[0.7777777777777778,\"#fb9f3a\"],[0.8888888888888888,\"#fdca26\"],[1.0,\"#f0f921\"]],\"type\":\"heatmap\"}],\"heatmapgl\":[{\"colorbar\":{\"outlinewidth\":0,\"ticks\":\"\"},\"colorscale\":[[0.0,\"#0d0887\"],[0.1111111111111111,\"#46039f\"],[0.2222222222222222,\"#7201a8\"],[0.3333333333333333,\"#9c179e\"],[0.4444444444444444,\"#bd3786\"],[0.5555555555555556,\"#d8576b\"],[0.6666666666666666,\"#ed7953\"],[0.7777777777777778,\"#fb9f3a\"],[0.8888888888888888,\"#fdca26\"],[1.0,\"#f0f921\"]],\"type\":\"heatmapgl\"}],\"histogram\":[{\"marker\":{\"pattern\":{\"fillmode\":\"overlay\",\"size\":10,\"solidity\":0.2}},\"type\":\"histogram\"}],\"histogram2d\":[{\"colorbar\":{\"outlinewidth\":0,\"ticks\":\"\"},\"colorscale\":[[0.0,\"#0d0887\"],[0.1111111111111111,\"#46039f\"],[0.2222222222222222,\"#7201a8\"],[0.3333333333333333,\"#9c179e\"],[0.4444444444444444,\"#bd3786\"],[0.5555555555555556,\"#d8576b\"],[0.6666666666666666,\"#ed7953\"],[0.7777777777777778,\"#fb9f3a\"],[0.8888888888888888,\"#fdca26\"],[1.0,\"#f0f921\"]],\"type\":\"histogram2d\"}],\"histogram2dcontour\":[{\"colorbar\":{\"outlinewidth\":0,\"ticks\":\"\"},\"colorscale\":[[0.0,\"#0d0887\"],[0.1111111111111111,\"#46039f\"],[0.2222222222222222,\"#7201a8\"],[0.3333333333333333,\"#9c179e\"],[0.4444444444444444,\"#bd3786\"],[0.5555555555555556,\"#d8576b\"],[0.6666666666666666,\"#ed7953\"],[0.7777777777777778,\"#fb9f3a\"],[0.8888888888888888,\"#fdca26\"],[1.0,\"#f0f921\"]],\"type\":\"histogram2dcontour\"}],\"mesh3d\":[{\"colorbar\":{\"outlinewidth\":0,\"ticks\":\"\"},\"type\":\"mesh3d\"}],\"parcoords\":[{\"line\":{\"colorbar\":{\"outlinewidth\":0,\"ticks\":\"\"}},\"type\":\"parcoords\"}],\"pie\":[{\"automargin\":true,\"type\":\"pie\"}],\"scatter\":[{\"marker\":{\"colorbar\":{\"outlinewidth\":0,\"ticks\":\"\"}},\"type\":\"scatter\"}],\"scatter3d\":[{\"line\":{\"colorbar\":{\"outlinewidth\":0,\"ticks\":\"\"}},\"marker\":{\"colorbar\":{\"outlinewidth\":0,\"ticks\":\"\"}},\"type\":\"scatter3d\"}],\"scattercarpet\":[{\"marker\":{\"colorbar\":{\"outlinewidth\":0,\"ticks\":\"\"}},\"type\":\"scattercarpet\"}],\"scattergeo\":[{\"marker\":{\"colorbar\":{\"outlinewidth\":0,\"ticks\":\"\"}},\"type\":\"scattergeo\"}],\"scattergl\":[{\"marker\":{\"colorbar\":{\"outlinewidth\":0,\"ticks\":\"\"}},\"type\":\"scattergl\"}],\"scattermapbox\":[{\"marker\":{\"colorbar\":{\"outlinewidth\":0,\"ticks\":\"\"}},\"type\":\"scattermapbox\"}],\"scatterpolar\":[{\"marker\":{\"colorbar\":{\"outlinewidth\":0,\"ticks\":\"\"}},\"type\":\"scatterpolar\"}],\"scatterpolargl\":[{\"marker\":{\"colorbar\":{\"outlinewidth\":0,\"ticks\":\"\"}},\"type\":\"scatterpolargl\"}],\"scatterternary\":[{\"marker\":{\"colorbar\":{\"outlinewidth\":0,\"ticks\":\"\"}},\"type\":\"scatterternary\"}],\"surface\":[{\"colorbar\":{\"outlinewidth\":0,\"ticks\":\"\"},\"colorscale\":[[0.0,\"#0d0887\"],[0.1111111111111111,\"#46039f\"],[0.2222222222222222,\"#7201a8\"],[0.3333333333333333,\"#9c179e\"],[0.4444444444444444,\"#bd3786\"],[0.5555555555555556,\"#d8576b\"],[0.6666666666666666,\"#ed7953\"],[0.7777777777777778,\"#fb9f3a\"],[0.8888888888888888,\"#fdca26\"],[1.0,\"#f0f921\"]],\"type\":\"surface\"}],\"table\":[{\"cells\":{\"fill\":{\"color\":\"#EBF0F8\"},\"line\":{\"color\":\"white\"}},\"header\":{\"fill\":{\"color\":\"#C8D4E3\"},\"line\":{\"color\":\"white\"}},\"type\":\"table\"}]},\"layout\":{\"annotationdefaults\":{\"arrowcolor\":\"#2a3f5f\",\"arrowhead\":0,\"arrowwidth\":1},\"autotypenumbers\":\"strict\",\"coloraxis\":{\"colorbar\":{\"outlinewidth\":0,\"ticks\":\"\"}},\"colorscale\":{\"diverging\":[[0,\"#8e0152\"],[0.1,\"#c51b7d\"],[0.2,\"#de77ae\"],[0.3,\"#f1b6da\"],[0.4,\"#fde0ef\"],[0.5,\"#f7f7f7\"],[0.6,\"#e6f5d0\"],[0.7,\"#b8e186\"],[0.8,\"#7fbc41\"],[0.9,\"#4d9221\"],[1,\"#276419\"]],\"sequential\":[[0.0,\"#0d0887\"],[0.1111111111111111,\"#46039f\"],[0.2222222222222222,\"#7201a8\"],[0.3333333333333333,\"#9c179e\"],[0.4444444444444444,\"#bd3786\"],[0.5555555555555556,\"#d8576b\"],[0.6666666666666666,\"#ed7953\"],[0.7777777777777778,\"#fb9f3a\"],[0.8888888888888888,\"#fdca26\"],[1.0,\"#f0f921\"]],\"sequentialminus\":[[0.0,\"#0d0887\"],[0.1111111111111111,\"#46039f\"],[0.2222222222222222,\"#7201a8\"],[0.3333333333333333,\"#9c179e\"],[0.4444444444444444,\"#bd3786\"],[0.5555555555555556,\"#d8576b\"],[0.6666666666666666,\"#ed7953\"],[0.7777777777777778,\"#fb9f3a\"],[0.8888888888888888,\"#fdca26\"],[1.0,\"#f0f921\"]]},\"colorway\":[\"#636efa\",\"#EF553B\",\"#00cc96\",\"#ab63fa\",\"#FFA15A\",\"#19d3f3\",\"#FF6692\",\"#B6E880\",\"#FF97FF\",\"#FECB52\"],\"font\":{\"color\":\"#2a3f5f\"},\"geo\":{\"bgcolor\":\"white\",\"lakecolor\":\"white\",\"landcolor\":\"#E5ECF6\",\"showlakes\":true,\"showland\":true,\"subunitcolor\":\"white\"},\"hoverlabel\":{\"align\":\"left\"},\"hovermode\":\"closest\",\"mapbox\":{\"style\":\"light\"},\"paper_bgcolor\":\"white\",\"plot_bgcolor\":\"#E5ECF6\",\"polar\":{\"angularaxis\":{\"gridcolor\":\"white\",\"linecolor\":\"white\",\"ticks\":\"\"},\"bgcolor\":\"#E5ECF6\",\"radialaxis\":{\"gridcolor\":\"white\",\"linecolor\":\"white\",\"ticks\":\"\"}},\"scene\":{\"xaxis\":{\"backgroundcolor\":\"#E5ECF6\",\"gridcolor\":\"white\",\"gridwidth\":2,\"linecolor\":\"white\",\"showbackground\":true,\"ticks\":\"\",\"zerolinecolor\":\"white\"},\"yaxis\":{\"backgroundcolor\":\"#E5ECF6\",\"gridcolor\":\"white\",\"gridwidth\":2,\"linecolor\":\"white\",\"showbackground\":true,\"ticks\":\"\",\"zerolinecolor\":\"white\"},\"zaxis\":{\"backgroundcolor\":\"#E5ECF6\",\"gridcolor\":\"white\",\"gridwidth\":2,\"linecolor\":\"white\",\"showbackground\":true,\"ticks\":\"\",\"zerolinecolor\":\"white\"}},\"shapedefaults\":{\"line\":{\"color\":\"#2a3f5f\"}},\"ternary\":{\"aaxis\":{\"gridcolor\":\"white\",\"linecolor\":\"white\",\"ticks\":\"\"},\"baxis\":{\"gridcolor\":\"white\",\"linecolor\":\"white\",\"ticks\":\"\"},\"bgcolor\":\"#E5ECF6\",\"caxis\":{\"gridcolor\":\"white\",\"linecolor\":\"white\",\"ticks\":\"\"}},\"title\":{\"x\":0.05},\"xaxis\":{\"automargin\":true,\"gridcolor\":\"white\",\"linecolor\":\"white\",\"ticks\":\"\",\"title\":{\"standoff\":15},\"zerolinecolor\":\"white\",\"zerolinewidth\":2},\"yaxis\":{\"automargin\":true,\"gridcolor\":\"white\",\"linecolor\":\"white\",\"ticks\":\"\",\"title\":{\"standoff\":15},\"zerolinecolor\":\"white\",\"zerolinewidth\":2}}},\"title\":{\"text\":\"Duracion de las peliculas en Netflix\"},\"xaxis\":{\"anchor\":\"y\",\"domain\":[0.0,1.0],\"title\":{\"text\":\"Runtime\"}},\"yaxis\":{\"anchor\":\"x\",\"domain\":[0.0,1.0],\"title\":{\"text\":\"count\"}}},                        {\"responsive\": true}                    ).then(function(){\n                            \nvar gd = document.getElementById('8aa39c67-74f0-4d1e-93d1-5562c1e69e59');\nvar x = new MutationObserver(function (mutations, observer) {{\n        var display = window.getComputedStyle(gd).display;\n        if (!display || display === 'none') {{\n            console.log([gd, 'removed!']);\n            Plotly.purge(gd);\n            observer.disconnect();\n        }}\n}});\n\n// Listen for the removal of the full notebook cells\nvar notebookContainer = gd.closest('#notebook-container');\nif (notebookContainer) {{\n    x.observe(notebookContainer, {childList: true});\n}}\n\n// Listen for the clearing of the current output cell\nvar outputEl = gd.closest('.output');\nif (outputEl) {{\n    x.observe(outputEl, {childList: true});\n}}\n\n                        })                };                            </script>        </div>\n</body>\n</html>"
     },
     "metadata": {},
     "output_type": "display_data"
    }
   ]
  },
  {
   "cell_type": "code",
   "source": "fig = px.box(df, x='Runtime', hover_data=df[['Title','Genre']])\nfig.update_traces(quartilemethod=\"inclusive\")\nfig.show()",
   "metadata": {
    "tags": [],
    "cell_id": "00031-6c088bee-d814-4a6f-8f82-657c7a914d14",
    "deepnote_to_be_reexecuted": false,
    "source_hash": "3f18979c",
    "execution_start": 1627957854476,
    "execution_millis": 61,
    "deepnote_cell_type": "code"
   },
   "outputs": [
    {
     "data": {
      "text/html": "<html>\n<head><meta charset=\"utf-8\" /></head>\n<body>\n    <div>            <script src=\"https://cdnjs.cloudflare.com/ajax/libs/mathjax/2.7.5/MathJax.js?config=TeX-AMS-MML_SVG\"></script><script type=\"text/javascript\">if (window.MathJax) {MathJax.Hub.Config({SVG: {font: \"STIX-Web\"}});}</script>                <script type=\"text/javascript\">window.PlotlyConfig = {MathJaxConfig: 'local'};</script>\n        <script src=\"https://cdn.plot.ly/plotly-2.2.0.min.js\"></script>                <div id=\"d2887839-cf0a-44fb-815e-dbcbf3150d86\" class=\"plotly-graph-div\" style=\"height:525px; width:100%;\"></div>            <script type=\"text/javascript\">                                    window.PLOTLYENV=window.PLOTLYENV || {};                                    if (document.getElementById(\"d2887839-cf0a-44fb-815e-dbcbf3150d86\")) {                    Plotly.newPlot(                        \"d2887839-cf0a-44fb-815e-dbcbf3150d86\",                        [{\"alignmentgroup\":\"True\",\"customdata\":[[\"Enter the Anime\",\"Documentary\"],[\"Dark Forces\",\"Thriller\"],[\"The App\",\"Science fiction/Drama\"],[\"The Open House\",\"Horror thriller\"],[\"Kaali Khuhi\",\"Mystery\"],[\"Drive\",\"Action\"],[\"Leyla Everlasting\",\"Comedy\"],[\"The Last Days of American Crime\",\"Heist film/Thriller\"],[\"Paradox\",\"Musical/Western/Fantasy\"],[\"Sardar Ka Grandson\",\"Comedy\"],[\"Searching for Sheela\",\"Documentary\"],[\"The Call\",\"Drama\"],[\"Whipped\",\"Romantic comedy\"],[\"All Because of You\",\"Action comedy\"],[\"Mercy\",\"Thriller\"],[\"After the Raid\",\"Documentary\"],[\"Ghost Stories\",\"Horror anthology\"],[\"The Last Thing He Wanted\",\"Political thriller\"],[\"What Happened to Mr. Cha?\",\"Comedy\"],[\"Death Note\",\"Horror thriller\"],[\"Hello Privilege. It's Me, Chelsea\",\"Documentary\"],[\"Secret Obsession\",\"Thriller\"],[\"Sextuplets\",\"Comedy\"],[\"The Girl on the Train\",\"Thriller\"],[\"Thunder Force\",\"Superhero-Comedy\"],[\"Fatal Affair\",\"Thriller\"],[\"Just Say Yes\",\"Romantic comedy\"],[\"Seriously Single\",\"Comedy\"],[\"The Misadventures of Hedi and Cokeman\",\"Comedy\"],[\"5 Star Christmas\",\"Comedy\"],[\"After Maria\",\"Documentary\"],[\"I Am the Pretty Thing That Lives in the House\",\"Horror\"],[\"Paris Is Us\",\"Romance drama\"],[\"Porta dos Fundos: The First Temptation of Christ\",\"Comedy\"],[\"Rattlesnake\",\"Horror\"],[\"The Players\",\"Comedy\"],[\"We Are One\",\"Documentary\"],[\"Finding Agnes\",\"Drama\"],[\"IO\",\"Science fiction/Drama\"],[\"Sentinelle\",\"Action\"],[\"Sol Levante\",\"Anime / Short\"],[\"The Binding\",\"Drama\"],[\"We Can Be Heroes\",\"Superhero\"],[\"Christmas Crossfire\",\"Thriller\"],[\"Coin Heist\",\"Heist\"],[\"Mrs. Serial Killer\",\"Thriller\"],[\"Nobody Sleeps in the Woods Tonight\",\"Horror\"],[\"Take the 10\",\"Comedy\"],[\"The Main Event\",\"Comedy\"],[\"The Ridiculous 6\",\"Western\"],[\"Earth and Blood\",\"Action\"],[\"Fearless\",\"Animation/Superhero\"],[\"Holiday Rush\",\"Family film\"],[\"The Day of the Lord\",\"Drama\"],[\"Airplane Mode\",\"Comedy\"],[\"How It Ends\",\"Action-thriller\"],[\"Love Like the Falling Rain\",\"Drama\"],[\"Rebirth\",\"Thriller\"],[\"Squared Love\",\"Romantic comedy\"],[\"Cadaver\",\"Horror\"],[\"Clinical\",\"Thriller\"],[\"Coffee & Kareem\",\"Action comedy\"],[\"Dude\",\"Teen comedy-drama\"],[\"Geez & Ann\",\"Romantic drama\"],[\"The Larva Island Movie\",\"Animation\"],[\"#REALITYHIGH\",\"Comedy\"],[\"American Factory: A Conversation with the Obamas \",\"Aftershow / Interview\"],[\"Desperados\",\"Romantic comedy\"],[\"Dolly Parton's Christmas on the Square\",\"Christmas musical\"],[\"Father of the Year\",\"Comedy\"],[\"Firebrand\",\"Drama\"],[\"Ghost Lab\",\"Horror\"],[\"Girlfriend's Day\",\"Comedy\"],[\"Handsome: A Netflix Mystery Movie\",\"Comedy\"],[\"Hubie Halloween\",\"Comedy\"],[\"Ibiza\",\"Comedy\"],[\"Rim of the World\",\"Science fiction adventure\"],[\"Sandy Wexler\",\"Comedy\"],[\"See You Yesterday\",\"Science fiction\"],[\"Still Laugh-In: The Stars Celebrate\",\"Variety show\"],[\"Strip Down, Rise Up\",\"Documentary\"],[\"Tall Girl\",\"Comedy-drama\"],[\"The Beast\",\"Drama\"],[\"The Week Of\",\"Comedy\"],[\"A Christmas Prince: The Royal Wedding\",\"Romantic comedy\"],[\"Back to School\",\"Comedy\"],[\"Dangerous Lies\",\"Thriller\"],[\"Gunjan Saxena: The Kargil Girl\",\"Drama\"],[\"Intuition\",\"Thriller\"],[\"The Most Assassinated Woman in the World\",\"Thriller\"],[\"Things Heard & Seen\",\"Horror\"],[\"To Each, Her Own\",\"Romantic comedy\"],[\"Who Would You Take to a Deserted Island?\",\"Drama\"],[\"XOXO\",\"Drama\"],[\"A Babysitter's Guide to Monster Hunting\",\"Comedy/Fantasy/Family\"],[\"A Christmas Prince: The Royal Baby\",\"Romantic comedy\"],[\"Despite Everything\",\"Comedy\"],[\"Dolly Kitty and Those Twinkling Stars\",\"Drama\"],[\"Freaks: You're One of Us\",\"Supernatural drama\"],[\"Game Over, Man!\",\"Action/Comedy\"],[\"Guilty\",\"Thriller\"],[\"In the Tall Grass\",\"Horror\"],[\"Madame Claude\",\"Drama\"],[\"Naked\",\"Comedy\"],[\"Outside the Wire\",\"Action/Science fiction\"],[\"The Princess Switch: Switched Again\",\"Romantic comedy\"],[\"Under the Riccione Sun\",\"Romantic teenage drama\"],[\"A Very Murray Christmas\",\"Comedy / Musical\"],[\"Been So Long\",\"Musical\"],[\"Dead Kids\",\"Thriller\"],[\"Get the Grift\",\"Comedy\"],[\"Ghosts of Sugar Land\",\"Documentary\"],[\"House Arrest\",\"Comedy\"],[\"Kevin Hart's Guide to Black History\",\"Variety show\"],[\"Love Wedding Repeat\",\"Romantic comedy\"],[\"Mute\",\"Science fiction/Mystery\"],[\"\\ufffdl\\ufffdt?r\\ufffd\",\"Crime drama\"],[\"Red Dot\",\"Thriller\"],[\"Ride or Die\",\"Psychological thriller drama\"],[\"Step Sisters\",\"Comedy\"],[\"The Cloverfield Paradox\",\"Science fiction\"],[\"The Knight Before Christmas\",\"Romantic comedy\"],[\"The Legacy of a Whitetail Deer Hunter\",\"Adventure/Comedy\"],[\"The Package\",\"Black comedy\"],[\"Unicorn Store\",\"Comedy\"],[\"Wine Country\",\"Comedy\"],[\"Bomb Scared\",\"Black comedy\"],[\"Brahman Naman\",\"Comedy\"],[\"Double Dad\",\"Comedy-drama\"],[\"Falling Inn Love\",\"Romantic comedy\"],[\"Hold the Dark\",\"Thriller\"],[\"Love, Guaranteed\",\"Romantic comedy\"],[\"One-Way to Tomorrow\",\"Romance\"],[\"Sarah Cooper: Everything's Fine\",\"Variety show\"],[\"The Last Laugh\",\"Comedy-drama\"],[\"The Last Paradiso\",\"Romantic drama\"],[\"The Midnight Sky\",\"Science fiction\"],[\"The Paramedic\",\"Thriller\"],[\"The Sleepover\",\"Comedy\"],[\"Vampires vs. the Bronx\",\"Horror comedy\"],[\"Why Did You Kill Me?\",\"Documentary\"],[\"A Week Away\",\"Christian musical\"],[\"Caught by a Wave\",\"Romantic teen drama\"],[\"Christmas Inheritance\",\"Romantic drama\"],[\"Dad Wanted\",\"Family\"],[\"El Camino Christmas\",\"Dark comedy\"],[\"Eli\",\"Horror\"],[\"Ginny Weds Sunny\",\"Romantic comedy\"],[\"Good Sam\",\"Drama\"],[\"Lionheart\",\"Comedy\"],[\"Little Evil\",\"Comedy horror\"],[\"One Take\",\"Documentary\"],[\"Out of Many, One\",\"Documentary\"],[\"Point Blank\",\"Action\"],[\"Prime Time\",\"Thriller\"],[\"The Do-Over\",\"Action comedy\"],[\"The Holiday Calendar\",\"Romantic comedy\"],[\"The Woman in the Window\",\"Psychological thriller\"],[\"The Wrong Missy\",\"Comedy\"],[\"Velvet Buzzsaw\",\"Thriller\"],[\"Yes Day\",\"Comedy\"],[\"15 August\",\"Comedy-drama\"],[\"A California Christmas\",\"Romantic comedy\"],[\"A Christmas Prince\",\"Romantic comedy\"],[\"All Day and a Night\",\"Drama\"],[\"American Son\",\"Drama\"],[\"Barry\",\"Biopic\"],[\"Candy Jar\",\"Comedy\"],[\"Choked: Paisa Bolta Hai\",\"Drama\"],[\"Class of '83\",\"Drama\"],[\"Extinction\",\"Science fiction/Thriller\"],[\"Happy Anniversary\",\"Romantic comedy\"],[\"I Am All Girls\",\"Thriller\"],[\"Let It Snow\",\"Romantic comedy\"],[\"Mascots\",\"Mockumentary\"],[\"Operation Christmas Drop\",\"Romantic comedy\"],[\"Rajma Chawal\",\"Comedy-drama\"],[\"Rich in Love\",\"Romantic comedy\"],[\"Rising High\",\"Satire\"],[\"Rodney King\",\"One-man show\"],[\"Sierra Burgess Is a Loser\",\"Romantic comedy-drama\"],[\"Small Crimes\",\"Dark comedy\"],[\"Special Correspondents\",\"Satire\"],[\"TAU\",\"Science fiction/Thriller\"],[\"The After Party\",\"Comedy\"],[\"The Babysitter: Killer Queen\",\"Comedy/Horror\"],[\"The Claus Family\",\"Fantasy\"],[\"The Kissing Booth 2\",\"Romantic comedy\"],[\"The Perfect Date\",\"Romantic comedy\"],[\"What We Wanted\",\"Drama\"],[\"You've Got This\",\"Romantic comedy\"],[\"6 Balloons\",\"Drama\"],[\"A Fall from Grace\",\"Thriller\"],[\"Amateur\",\"Sports-drama\"],[\"Army of the Dead\",\"Zombie/Heist\"],[\"Cam\",\"Psychological horror\"],[\"Earthquake Bird\",\"Mystery\"],[\"Frankenstein's Monster's Monster, Frankenstein\",\"Mockumentary\"],[\"Horse Girl\",\"Drama\"],[\"Notes from Dunblane: Lesson from a School Shooting\",\"Documentary\"],[\"Maska\",\"Romantic comedy\"],[\"The Decline\",\"Thriller\"],[\"The Minimalists: Less Is Now\",\"Documentary\"],[\"The Polka King\",\"Comedy-drama\"],[\"The Prom\",\"Musical\"],[\"True Memoirs of an International Assassin\",\"Action comedy\"],[\"Ultras\",\"Sports film\"],[\"Come Sunday\",\"Biopic\"],[\"Forgive Us Our Debts\",\"Drama\"],[\"iBoy\",\"Science fiction/Thriller\"],[\"Lovefucked\",\"Drama\"],[\"Juanita\",\"Drama\"],[\"Murder Mystery\",\"Comedy mystery\"],[\"Project Power\",\"Superhero\"],[\"Rebecca\",\"Romantic thriller\"],[\"The Christmas Chronicles: Part Two\",\"Christmas comedy\"],[\"The Kissing Booth\",\"Romantic comedy\"],[\"The Princess Switch\",\"Romantic comedy\"],[\"To All the Boys: P.S. I Still Love You\",\"Romantic comedy\"],[\"War Machine\",\"War-Comedy\"],[\"6 Underground\",\"Action\"],[\"Between Two Ferns: The Movie\",\"Comedy\"],[\"Burning Sands\",\"Drama\"],[\"Casting JonBenet\",\"Documentary\"],[\"Deidra & Laney Rob a Train\",\"Drama\"],[\"Finding 'Ohana\",\"Family\"],[\"Holidate\",\"Romantic comedy/Holiday\"],[\"Holiday in the Wild\",\"Adventure-romance\"],[\"Hot Girls Wanted\",\"Documentary\"],[\"Like Father\",\"Comedy\"],[\"Lost Girls\",\"Crime drama\"],[\"Otherhood\",\"Comedy\"],[\"Pee-wee's Big Holiday\",\"Adventure\"],[\"Rogue City\",\"Crime drama\"],[\"Sergio\",\"Biopic\"],[\"Stuck Apart\",\"Drama\"],[\"Tersanjung the Movie\",\"Drama\"],[\"The Killer\",\"Western\"],[\"The Lovebirds\",\"Romantic comedy\"],[\"The Most Hated Woman in America\",\"Biopic\"],[\"The Perfection\",\"Horror-thriller\"],[\"Tribhanga \\ufffd Tedhi Medhi Crazy\",\"Drama\"],[\"Unknown Origins\",\"Thriller\"],[\"Work It\",\"Dance comedy\"],[\"Alien Xmas\",\"Stop Motion\"],[\"Baggio: The Divine Ponytail\",\"Biopic\"],[\"Below Zero\",\"Drama\"],[\"Citation\",\"Drama\"],[\"Crazy Awesome Teachers\",\"Comedy-drama\"],[\"Have You Ever Seen Fireflies?\",\"Comedy\"],[\"High Flying Bird\",\"Sports-drama\"],[\"In the Shadow of the Moon\",\"Thriller\"],[\"Lost Bullet\",\"Thriller\"],[\"Octonauts & the Caves of Sac Actun\",\"Animation\"],[\"Offering to the Storm\",\"Thriller\"],[\"Roxanne Roxanne\",\"Biopic\"],[\"Someone Great\",\"Romantic comedy\"],[\"Spenser Confidential\",\"Action comedy\"],[\"The Land of Steady Habits\",\"Drama\"],[\"The Rachel Divide\",\"Documentary\"],[\"Voyuer \",\"Documentary\"],[\"Win It All\",\"Comedy\"],[\"1922\",\"Horror/Crime drama\"],[\"A Tale of Two Kitchens\",\"Documentary\"],[\"Alex Strangelove\",\"Romantic comedy\"],[\"Apostle\",\"Horror-thriller\"],[\"Benji\",\"Family film\"],[\"Bright\",\"Urban fantasy\"],[\"Cargo\",\"Drama/Horror\"],[\"Concrete Cowboy\",\"Drama\"],[\"Feel the Beat\",\"Family/Comedy-drama\"],[\"Get the Goat\",\"Comedy\"],[\"I Am Not an Easy Man\",\"Romantic comedy\"],[\"June & Kopi\",\"Drama\"],[\"Music Teacher\",\"Drama\"],[\"Nail Bomber: Manhunt\",\"Documentary\"],[\"Notes for My Son\",\"Drama\"],[\"Polar\",\"Action\"],[\"Porta dos Fundos: The Last Hangover\",\"Comedy\"],[\"Sand Castle\",\"War\"],[\"Shimmer Lake\",\"Crime thriller\"],[\"Spectral\",\"Science fiction/Action\"],[\"The Babysitter\",\"Teen comedy horror\"],[\"The Discovery\",\"Science fiction/Drama\"],[\"The Forest of Love\",\"Drama\"],[\"The Laundromat\",\"Comedy-drama\"],[\"The Legend of Cocaine Island\",\"Documentary\"],[\"The Outsider\",\"Crime drama\"],[\"Time to Hunt\",\"Thriller\"],[\"To All the Boys: Always and Forever\",\"Romantic comedy\"],[\"Travis Scott: Look Mom I Can Fly\",\"Documentary\"],[\"Uncorked\",\"Drama\"],[\"Anelka: Misunderstood\",\"Documentary\"],[\"Ariana Grande: Excuse Me, I Love You\",\"Concert Film\"],[\"ARQ\",\"Science fiction/Thriller\"],[\"Birders\",\"Documentary\"],[\"Como Ca\\ufffddo del Cielo\",\"Musical comedy\"],[\"First Match\",\"Sports-drama\"],[\"Fractured\",\"Thriller\"],[\"Irreplaceable You\",\"Drama\"],[\"Isi & Ossi\",\"Romantic comedy\"],[\"John Was Trying to Contact Aliens\",\"Documentary\"],[\"Layla Majnun\",\"Romantic drama\"],[\"Murder to Mercy: The Cyntoia Brown Story\",\"Documentary\"],[\"My Own Man\",\"Documentary\"],[\"Nappily Ever After\",\"Comedy-drama\"],[\"Over the Moon\",\"Animation/Musical/Adventure\"],[\"Street Flow\",\"Drama\"],[\"Strong Island\",\"Documentary\"],[\"Sturgill Simpson Presents: Sound & Fury\",\"Animation / Musicial\"],[\"Take Your Pills\",\"Documentary\"],[\"The Heartbreak Club\",\"Comedy-drama\"],[\"The Mars Generation\",\"Documentary\"],[\"The Occupant\",\"Thriller\"],[\"The Willoughbys\",\"Animation/Comedy/Adventure\"],[\"Triple Frontier\",\"Action-thriller\"],[\"Two Catalonias\",\"Documentary\"],[\"Walk. Ride. Rodeo.\",\"Drama\"],[\"Wheelman\",\"Action thriller\"],[\"When We First Met\",\"Romantic comedy\"],[\"A 3 Minute Hug\",\"Documentary\"],[\"All the Bright Places\",\"Romance\"],[\"All Together Now\",\"Drama\"],[\"Altered Carbon: Resleeved\",\"Anime/Science fiction\"],[\"Antoine Griezmann: The Making of a Legend\",\"Documentary\"],[\"Canvas \",\"Animation / Short\"],[\"Chadwick Boseman: Portrait of an Artist\",\"Documentary\"],[\"Chopsticks\",\"Comedy\"],[\"Da 5 Bloods\",\"War drama\"],[\"Dolly Parton: A MusiCares Tribute\",\"Documentary\"],[\"Eurovision Song Contest: The Story of Fire Saga\",\"Musical comedy\"],[\"Gerald's Game\",\"Horror thriller\"],[\"His House\",\"Thriller\"],[\"Jingle Jangle: A Christmas Journey\",\"Family/Christmas musical\"],[\"Life Overtakes Me\",\"Documentary\"],[\"Lust Stories\",\"Drama\"],[\"Monster\",\"Drama\"],[\"Mowgli: Legend of the Jungle\",\"Adventure\"],[\"Nobody Knows I'm Here\",\"Drama\"],[\"Nobody Speak: Trials of the Free Press\",\"Documentary\"],[\"Oxygen\",\"Science fiction thriller\"],[\"Set It Up\",\"Romantic comedy\"],[\"The Incredible Jessica James\",\"Comedy\"],[\"Tigertail\",\"Drama\"],[\"Tramps\",\"Romance\"],[\"What Did Jack Do?\",\"Drama / Short\"],[\"Bad Trip\",\"Hidden-camera prank comedy\"],[\"Bird Box\",\"Psychological thriller\"],[\"Bulbbul\",\"Horror\"],[\"Crazy About Her\",\"Romantic comedy\"],[\"Elisa & Marcela\",\"Romance\"],[\"I'll Sleep When I'm Dead\",\"Documentary\"],[\"I'm Thinking of Ending Things\",\"Psychological thriller\"],[\"It Takes a Lunatic\",\"Documentary\"],[\"Milestone\",\"Drama\"],[\"Recovery Boys\",\"Documentary\"],[\"ReMastered: Who Killed Jam Master Jay?\",\"Documentary\"],[\"Shawn Mendes: In Wonder\",\"Documentary\"],[\"Space Sweepers\",\"Science fiction\"],[\"The American Meme\",\"Documentary\"],[\"The Angel\",\"Spy thriller\"],[\"The Crimes That Bind\",\"Crime drama\"],[\"The Red Sea Diving Resort\",\"Spy thriller\"],[\"What Would Sophia Loren Do?\",\"Documentary\"],[\"A Whisker Away\",\"Anime/Fantasy\"],[\"Ajeeb Daastaans\",\"Drama\"],[\"Arlo the Alligator Boy\",\"Animated musical comedy\"],[\"Bikram: Yogi, Guru, Predator\",\"Documentary\"],[\"Blame!\",\"Anime/Science fiction\"],[\"Blue Miracle\",\"Drama\"],[\"CounterPunch \",\"Documentary\"],[\"Crack: Cocaine, Corruption & Conspiracy\",\"Documentary\"],[\"Extraction\",\"Action\"],[\"Giving Voice\",\"Documentary\"],[\"Hillbilly Elegy\",\"Drama\"],[\"Hope Frozen: A Quest to Live Twice\",\"Documentary\"],[\"Imperial Dreams\",\"Drama\"],[\"Just Another Christmas\",\"Comedy\"],[\"Little Miss Sumo\",\"Documentary\"],[\"Malcolm & Marie\",\"Romantic drama\"],[\"Michael Bolton's Big, Sexy, Valentine's Day Special\",\"Variety Show\"],[\"Moxie\",\"Drama\"],[\"Night in Paradise\",\"Drama\"],[\"Paper Lives\",\"Drama\"],[\"Parchis: The Documentary\",\"Documentary\"],[\"Tallulah\",\"Comedy-drama\"],[\"The Old Guard\",\"Superhero/Action\"],[\"Tony Robbins: I Am Not Your Guru\",\"Documentary\"],[\"Upstarts\",\"Drama\"],[\"22 July\",\"Drama\"],[\"7 a\\ufffdos\",\"Drama\"],[\"A Futile and Stupid Gesture\",\"Biographical/Comedy\"],[\"A Life of Speed: The Juan Manuel Fangio Story\",\"Documentary\"],[\"A Love Song for Latasha\",\"Documentary\"],[\"All in My Family\",\"Documentary\"],[\"Always Be My Maybe\",\"Romantic comedy\"],[\"Becoming\",\"Documentary\"],[\"Long Live Brij Mohan\",\"Comedy\"],[\"Calibre\",\"Thriller\"],[\"Death to 2020\",\"Comedy\"],[\"GIMS: On the Record\",\"Documentary\"],[\"Have a Good Trip: Adventures in Psychedelics\",\"Documentary\"],[\"Heroin(e) \",\"Documentary\"],[\"Mercury 13\",\"Documentary\"],[\"Saving Capitalism\",\"Documentary\"],[\"Serious Men\",\"Drama\"],[\"The Boys in the Band\",\"Drama\"],[\"The Boys in the Band: Something Personal\",\"Aftershow / Interview\"],[\"The Life Ahead\",\"Drama\"],[\"The Other Side of the Wind\",\"Drama\"],[\"The Trader\",\"Documentary\"],[\"To the Bone\",\"Drama\"],[\"Tony Parker: The Final Shot\",\"Documentary\"],[\"AK vs AK\",\"Thriller\"],[\"Amanda Knox\",\"Documentary\"],[\"Bigflo & Oil: Hip Hop Frenzy\",\"Documentary\"],[\"Biggie: I Got a Story to Tell\",\"Documentary\"],[\"Cops and Robbers\",\"Animation / Short\"],[\"I Don't Feel at Home in This World Anymore\",\"Drama\"],[\"Laerte-se\",\"Documentary\"],[\"Mank\",\"Biopic\"],[\"Our Souls at Night\",\"Romance\"],[\"Outlaw King\",\"Historical-epic\"],[\"Pagglait\",\"Comedy-drama\"],[\"ReMastered: Who Shot the Sheriff?\",\"Documentary\"],[\"Seeing Allred\",\"Documentary\"],[\"Spelling the Dream\",\"Documentary\"],[\"The Claudia Kishi Club\",\"Documentary\"],[\"The Half of It\",\"Romance\"],[\"The Highwaymen\",\"Crime drama\"],[\"The Lonely Island Presents: The Unauthorized Bash Brothers Experience\",\"Comedy / Musical\"],[\"The Meyerowitz Stories (New and Selected)\",\"Comedy-drama\"],[\"Feminists: What Were They Thinking?\",\"Documentary\"],[\"Gaga: Five Foot Two\",\"Documentary\"],[\"I'm No Longer Here: A Discussion with Guillermo del Toro and Alfonso Cuaron\",\"Aftershow / Interview\"],[\"Kingdom of Us\",\"Documentary\"],[\"Lorena, Light-Footed Woman\",\"Documentary\"],[\"Los Tigres del Norte at Folsom Prison\",\"Documentary\"],[\"Ma Rainey's Black Bottom\",\"Drama\"],[\"Ma Rainey's Black Bottom: A Legacy Brought to Screen\",\"Aftershow / Interview\"],[\"Operation Varsity Blues: The College Admissions Scandal\",\"Documentary\"],[\"Pele\",\"Documentary\"],[\"ReMastered: Devil at the Crossroads\",\"Documentary\"],[\"ReMastered: The Lion's Share\",\"Documentary\"],[\"ReMastered: The Miami Showband Massacre\",\"Documentary\"],[\"Resurface\",\"Documentary\"],[\"Rocko's Modern Life: Static Cling\",\"Animation / Comedy\"],[\"Rose Island\",\"Comedy\"],[\"The Christmas Chronicles\",\"Christmas/Fantasy/Adventure/Comedy\"],[\"The Dirt\",\"Biopic\"],[\"The Night Comes for Us\",\"Action-thriller\"],[\"13th: A Conversation with Oprah Winfrey & Ava DuVernay\",\"Aftershow / Interview\"],[\"Angela's Christmas\",\"Animation\"],[\"Angela's Christmas Wish\",\"Animation\"],[\"Beats\",\"Drama\"],[\"Circus of Books\",\"Documentary\"],[\"Dance Dreams: Hot Chocolate Nutcracker\",\"Documentary\"],[\"Derren Brown: Sacrifice\",\"Mentalism special\"],[\"El Pepe: A Supreme Life\",\"Documentary\"],[\"End Game\",\"Documentary\"],[\"Evelyn\",\"Documentary\"],[\"Ferry\",\"Crime drama\"],[\"Grass Is Greener\",\"Documentary\"],[\"Guillermo Vilas: Settling the Score\",\"Documentary\"],[\"Joshua: Teenager vs. Superpower\",\"Documentary\"],[\"Keith Richards: Under the Influence\",\"Documentary\"],[\"Knock Down the House\",\"Documentary\"],[\"Loudon Wainwright III: Surviving Twin\",\"One-man show\"],[\"My Beautiful Broken Brain\",\"Documentary\"],[\"One of Us\",\"Documentary\"],[\"Pieces of a Woman\",\"Drama\"],[\"Ram Dass, Going Home\",\"Documentary\"],[\"ReMastered: Tricky Dick & the Man in Black\",\"Documentary\"],[\"Rooting for Roona\",\"Documentary\"],[\"The Devil All the Time\",\"Psychological thriller\"],[\"The Dig\",\"Drama\"],[\"The Great Hack\",\"Documentary\"],[\"The White Tiger\",\"Drama\"],[\"To All the Boys I've Loved Before\",\"Romantic comedy\"],[\"American Murder: The Family Next Door\",\"Documentary\"],[\"Audrie & Daisy\",\"Documentary\"],[\"First They Killed My Father\",\"Drama\"],[\"Fyre: The Greatest Party That Never Happened\",\"Documentary\"],[\"Into the Inferno\",\"Documentary\"],[\"LA Originals\",\"Documentary\"],[\"Ladies First\",\"Documentary\"],[\"Love per Square Foot\",\"Romantic comedy\"],[\"Paddleton\",\"Drama-Comedy\"],[\"Private Life\",\"Drama\"],[\"Seventeen\",\"Coming-of-age comedy-drama\"],[\"Sometimes\",\"Drama\"],[\"Soni\",\"Crime drama\"],[\"The 40-Year-Old Version\",\"Comedy\"],[\"The Disciple\",\"Drama\"],[\"The Edge of Democracy\",\"Documentary\"],[\"The King\",\"Historical drama\"],[\"The Road to El Camino: A Breaking Bad Movie\",\"Making-of\"],[\"The Siege of Jadotville\",\"War\"],[\"Zion \",\"Documentary\"],[\"Dolemite Is My Name\",\"Biopic\"],[\"El Camino: A Breaking Bad Movie\",\"Crime drama\"],[\"Extremis\",\"Documentary\"],[\"Father Soldier Son\",\"Documentary\"],[\"Get Me Roger Stone\",\"Documentary\"],[\"I'm No Longer Here\",\"Drama\"],[\"Mucho Mucho Amor: The Legend of Walter Mercado \",\"Documentary\"],[\"Octonauts & the Great Barrier Reef\",\"Animation\"],[\"Okja\",\"Action-adventure\"],[\"On My Skin\",\"Crime drama\"],[\"Raat Akeli Hai\",\"Thriller\"],[\"ReMastered: Massacre at the Stadium\",\"Documentary\"],[\"ReMastered: The Two Killings of Sam Cooke\",\"Documentary\"],[\"Secrets of the Saqqara Tomb\",\"Documentary\"],[\"Sitara: Let Girls Dream\",\"Animation / Short\"],[\"Sky Ladder: The Art of Cai Guo-Qiang\",\"Documentary\"],[\"Team Foxcatcher\",\"Documentary\"],[\"The Ballad of Buster Scruggs\",\"Western\"],[\"The Death and Life of Marsha P. Johnson\",\"Documentary\"],[\"The Fundamentals of Caring\",\"Comedy-drama\"],[\"The Other One: The Long Strange Trip of Bob Weir\",\"Documentary\"],[\"American Factory\",\"Documentary\"],[\"Fire in Paradise\",\"Documentary\"],[\"Long Shot\",\"Documentary\"],[\"Miss Americana\",\"Documentary\"],[\"Period. End of Sentence.\",\"Documentary\"],[\"Shawn Mendes: Live in Concert\",\"Concert Film\"],[\"Shirkers\",\"Documentary\"],[\"The Black Godfather\",\"Documentary\"],[\"The Irishman: In Conversation\",\"Aftershow / Interview\"],[\"The Speed Cubers\",\"Documentary\"],[\"They'll Love Me When I'm Dead\",\"Documentary\"],[\"Tig\",\"Documentary\"],[\"Barbra: The Music, The Mem'ries, The Magic!\",\"Concert Film\"],[\"Blackpink: Light Up the Sky\",\"Documentary\"],[\"City of Joy\",\"Documentary\"],[\"Dick Johnson Is Dead\",\"Documentary\"],[\"Homecoming: A Film by Beyonce \",\"Documentary\"],[\"Invader Zim: Enter the Florpus\",\"Animation / Science Fiction\"],[\"Joan Didion: The Center Will Not Hold\",\"Documentary\"],[\"John Mulaney & the Sack Lunch Bunch\",\"Variety show\"],[\"Reversing Roe\",\"Documentary\"],[\"The White Helmets\",\"Documentary\"],[\"Athlete A\",\"Documentary\"],[\"Ludo\",\"Anthology/Dark comedy\"],[\"Quincy\",\"Documentary\"],[\"Rolling Thunder Revue: A bob Dylan Story by Martin Scorsere\",\"Documentary\"],[\"Tell Me Who I Am\",\"Documentary\"],[\"The Bleeding Edge\",\"Documentary\"],[\"The Social Dilemma\",\"Documentary\"],[\"The Two Popes\",\"Drama\"],[\"What Happened, Miss Simone?\",\"Documentary\"],[\"Yeh Ballet\",\"Drama\"],[\"Anima\",\"Musical / Short\"],[\"Beasts of No Nation\",\"War drama\"],[\"Brene Brown: The Call to Courage\",\"Documentary\"],[\"Crip Camp: A Disability Revolution\",\"Documentary\"],[\"Jim & Andy: The Great Beyond - Featuring a Very Special, Contractually Obligated Mention of Tony Cliffton \",\"Documentary\"],[\"Justin Timberlake + The Tennessee Kids\",\"Concert Film\"],[\"Road to Roma\",\"Making-of\"],[\"Roma\",\"Drama\"],[\"If Anything Happens I Love You\",\"Animation / Short\"],[\"The Irishman\",\"Crime drama\"],[\"The Trial of the Chicago 7\",\"Drama\"],[\"A Secret Love\",\"Documentary\"],[\"Icarus\",\"Documentary\"],[\"Marriage Story\",\"Drama\"],[\"The Ivory Game\",\"Documentary\"],[\"Struggle: The Life and Lost Art of Szukaiski\",\"Documentary\"],[\"Chasing Coral \",\"Documentary\"],[\"My Octopus Teacher\",\"Documentary\"],[\"Rising Phoenix\",\"Documentary\"],[\"13th\",\"Documentary\"],[\"Disclosure: Trans Lives on Screen\",\"Documentary\"],[\"Klaus\",\"Animation/Christmas/Comedy/Adventure\"],[\"Seaspiracy\",\"Documentary\"],[\"The Three Deaths of Marisela Escobedo\",\"Documentary\"],[\"Cuba and the Cameraman \",\"Documentary\"],[\"Dancing with the Birds\",\"Documentary\"],[\"Ben Platt: Live from Radio City Music Hall\",\"Concert Film\"],[\"Taylor Swift: Reputation Stadium Tour\",\"Concert Film\"],[\"Winter on Fire: Ukraine's Fight for Freedom\",\"Documentary\"],[\"Springsteen on Broadway\",\"One-man show\"],[\"Emicida: AmarElo - It's All For Yesterday\",\"Documentary\"],[\"David Attenborough: A Life on Our Planet\",\"Documentary\"]],\"hovertemplate\":\"Runtime=%{x}<br>Title=%{customdata[0]}<br>Genre=%{customdata[1]}<extra></extra>\",\"legendgroup\":\"\",\"marker\":{\"color\":\"#636efa\"},\"name\":\"\",\"notched\":false,\"offsetgroup\":\"\",\"orientation\":\"h\",\"quartilemethod\":\"inclusive\",\"showlegend\":false,\"type\":\"box\",\"x\":[58,81,79,94,90,147,112,149,73,139,58,112,97,101,90,25,144,115,102,100,64,97,99,120,105,89,97,107,99,95,37,89,83,46,85,88,86,105,95,80,4,93,100,106,97,106,103,80,101,119,80,89,94,93,96,113,86,100,102,86,104,88,97,105,90,99,10,106,98,94,112,117,70,81,103,94,98,131,87,60,112,102,99,116,92,83,97,112,116,102,121,95,93,92,98,85,78,120,92,101,119,101,112,96,114,97,101,56,100,94,94,21,104,63,100,126,106,86,142,108,102,92,83,94,92,103,89,95,103,97,125,91,90,49,98,107,118,94,103,86,83,97,99,104,102,89,98,125,89,94,94,85,34,86,91,108,95,100,90,112,86,124,107,92,121,90,104,92,114,98,95,78,107,92,95,96,118,105,94,52,105,95,100,97,89,102,96,131,89,93,111,75,120,96,148,94,107,32,104,23,111,83,53,95,132,98,108,106,104,90,106,90,97,113,123,115,105,101,102,122,128,82,102,80,94,123,104,85,84,103,95,100,89,116,118,96,114,99,87,92,90,95,96,93,42,92,106,151,101,114,90,115,92,72,139,98,92,111,98,104,95,88,102,30,99,129,87,117,104,111,107,97,98,90,101,72,83,118,44,113,86,108,85,102,151,98,87,120,134,109,85,103,94,97,88,37,112,102,100,96,113,16,119,97,81,98,95,96,107,41,87,101,97,103,90,125,116,99,82,97,28,108,93,74,60,9,21,100,155,55,123,103,93,119,40,120,98,104,91,95,101,105,83,91,83,17,86,124,94,102,118,79,134,126,98,89,58,83,136,98,114,99,130,32,104,142,92,86,106,95,91,89,117,90,117,80,87,101,19,106,54,111,132,97,106,111,124,116,112,144,76,101,92,19,39,102,89,105,101,70,96,85,39,79,73,114,121,28,95,122,23,107,98,108,92,100,97,7,96,100,132,103,121,114,57,95,83,17,105,131,30,112,86,100,14,109,28,64,94,31,99,108,48,84,70,27,45,117,104,108,121,36,30,47,110,92,80,49,73,40,96,106,97,94,78,81,87,91,91,95,126,31,58,41,138,112,114,125,99,82,98,136,97,107,92,39,133,89,124,99,101,97,124,129,121,140,13,108,11,118,121,24,100,101,105,96,47,121,100,149,64,64,114,15,79,90,132,105,97,83,110,39,40,85,26,87,97,118,23,40,98,80,108,79,74,90,137,71,98,70,99,40,104,149,124,144,85,100,94,125,84,117,15,136,76,108,94,90,72,135,12,209,130,82,120,136,112,105,89,85,106,100,107,97,89,109,114,51,85,125,91,153,89,83],\"x0\":\" \",\"xaxis\":\"x\",\"y0\":\" \",\"yaxis\":\"y\"}],                        {\"boxmode\":\"group\",\"legend\":{\"tracegroupgap\":0},\"margin\":{\"t\":60},\"template\":{\"data\":{\"bar\":[{\"error_x\":{\"color\":\"#2a3f5f\"},\"error_y\":{\"color\":\"#2a3f5f\"},\"marker\":{\"line\":{\"color\":\"#E5ECF6\",\"width\":0.5},\"pattern\":{\"fillmode\":\"overlay\",\"size\":10,\"solidity\":0.2}},\"type\":\"bar\"}],\"barpolar\":[{\"marker\":{\"line\":{\"color\":\"#E5ECF6\",\"width\":0.5},\"pattern\":{\"fillmode\":\"overlay\",\"size\":10,\"solidity\":0.2}},\"type\":\"barpolar\"}],\"carpet\":[{\"aaxis\":{\"endlinecolor\":\"#2a3f5f\",\"gridcolor\":\"white\",\"linecolor\":\"white\",\"minorgridcolor\":\"white\",\"startlinecolor\":\"#2a3f5f\"},\"baxis\":{\"endlinecolor\":\"#2a3f5f\",\"gridcolor\":\"white\",\"linecolor\":\"white\",\"minorgridcolor\":\"white\",\"startlinecolor\":\"#2a3f5f\"},\"type\":\"carpet\"}],\"choropleth\":[{\"colorbar\":{\"outlinewidth\":0,\"ticks\":\"\"},\"type\":\"choropleth\"}],\"contour\":[{\"colorbar\":{\"outlinewidth\":0,\"ticks\":\"\"},\"colorscale\":[[0.0,\"#0d0887\"],[0.1111111111111111,\"#46039f\"],[0.2222222222222222,\"#7201a8\"],[0.3333333333333333,\"#9c179e\"],[0.4444444444444444,\"#bd3786\"],[0.5555555555555556,\"#d8576b\"],[0.6666666666666666,\"#ed7953\"],[0.7777777777777778,\"#fb9f3a\"],[0.8888888888888888,\"#fdca26\"],[1.0,\"#f0f921\"]],\"type\":\"contour\"}],\"contourcarpet\":[{\"colorbar\":{\"outlinewidth\":0,\"ticks\":\"\"},\"type\":\"contourcarpet\"}],\"heatmap\":[{\"colorbar\":{\"outlinewidth\":0,\"ticks\":\"\"},\"colorscale\":[[0.0,\"#0d0887\"],[0.1111111111111111,\"#46039f\"],[0.2222222222222222,\"#7201a8\"],[0.3333333333333333,\"#9c179e\"],[0.4444444444444444,\"#bd3786\"],[0.5555555555555556,\"#d8576b\"],[0.6666666666666666,\"#ed7953\"],[0.7777777777777778,\"#fb9f3a\"],[0.8888888888888888,\"#fdca26\"],[1.0,\"#f0f921\"]],\"type\":\"heatmap\"}],\"heatmapgl\":[{\"colorbar\":{\"outlinewidth\":0,\"ticks\":\"\"},\"colorscale\":[[0.0,\"#0d0887\"],[0.1111111111111111,\"#46039f\"],[0.2222222222222222,\"#7201a8\"],[0.3333333333333333,\"#9c179e\"],[0.4444444444444444,\"#bd3786\"],[0.5555555555555556,\"#d8576b\"],[0.6666666666666666,\"#ed7953\"],[0.7777777777777778,\"#fb9f3a\"],[0.8888888888888888,\"#fdca26\"],[1.0,\"#f0f921\"]],\"type\":\"heatmapgl\"}],\"histogram\":[{\"marker\":{\"pattern\":{\"fillmode\":\"overlay\",\"size\":10,\"solidity\":0.2}},\"type\":\"histogram\"}],\"histogram2d\":[{\"colorbar\":{\"outlinewidth\":0,\"ticks\":\"\"},\"colorscale\":[[0.0,\"#0d0887\"],[0.1111111111111111,\"#46039f\"],[0.2222222222222222,\"#7201a8\"],[0.3333333333333333,\"#9c179e\"],[0.4444444444444444,\"#bd3786\"],[0.5555555555555556,\"#d8576b\"],[0.6666666666666666,\"#ed7953\"],[0.7777777777777778,\"#fb9f3a\"],[0.8888888888888888,\"#fdca26\"],[1.0,\"#f0f921\"]],\"type\":\"histogram2d\"}],\"histogram2dcontour\":[{\"colorbar\":{\"outlinewidth\":0,\"ticks\":\"\"},\"colorscale\":[[0.0,\"#0d0887\"],[0.1111111111111111,\"#46039f\"],[0.2222222222222222,\"#7201a8\"],[0.3333333333333333,\"#9c179e\"],[0.4444444444444444,\"#bd3786\"],[0.5555555555555556,\"#d8576b\"],[0.6666666666666666,\"#ed7953\"],[0.7777777777777778,\"#fb9f3a\"],[0.8888888888888888,\"#fdca26\"],[1.0,\"#f0f921\"]],\"type\":\"histogram2dcontour\"}],\"mesh3d\":[{\"colorbar\":{\"outlinewidth\":0,\"ticks\":\"\"},\"type\":\"mesh3d\"}],\"parcoords\":[{\"line\":{\"colorbar\":{\"outlinewidth\":0,\"ticks\":\"\"}},\"type\":\"parcoords\"}],\"pie\":[{\"automargin\":true,\"type\":\"pie\"}],\"scatter\":[{\"marker\":{\"colorbar\":{\"outlinewidth\":0,\"ticks\":\"\"}},\"type\":\"scatter\"}],\"scatter3d\":[{\"line\":{\"colorbar\":{\"outlinewidth\":0,\"ticks\":\"\"}},\"marker\":{\"colorbar\":{\"outlinewidth\":0,\"ticks\":\"\"}},\"type\":\"scatter3d\"}],\"scattercarpet\":[{\"marker\":{\"colorbar\":{\"outlinewidth\":0,\"ticks\":\"\"}},\"type\":\"scattercarpet\"}],\"scattergeo\":[{\"marker\":{\"colorbar\":{\"outlinewidth\":0,\"ticks\":\"\"}},\"type\":\"scattergeo\"}],\"scattergl\":[{\"marker\":{\"colorbar\":{\"outlinewidth\":0,\"ticks\":\"\"}},\"type\":\"scattergl\"}],\"scattermapbox\":[{\"marker\":{\"colorbar\":{\"outlinewidth\":0,\"ticks\":\"\"}},\"type\":\"scattermapbox\"}],\"scatterpolar\":[{\"marker\":{\"colorbar\":{\"outlinewidth\":0,\"ticks\":\"\"}},\"type\":\"scatterpolar\"}],\"scatterpolargl\":[{\"marker\":{\"colorbar\":{\"outlinewidth\":0,\"ticks\":\"\"}},\"type\":\"scatterpolargl\"}],\"scatterternary\":[{\"marker\":{\"colorbar\":{\"outlinewidth\":0,\"ticks\":\"\"}},\"type\":\"scatterternary\"}],\"surface\":[{\"colorbar\":{\"outlinewidth\":0,\"ticks\":\"\"},\"colorscale\":[[0.0,\"#0d0887\"],[0.1111111111111111,\"#46039f\"],[0.2222222222222222,\"#7201a8\"],[0.3333333333333333,\"#9c179e\"],[0.4444444444444444,\"#bd3786\"],[0.5555555555555556,\"#d8576b\"],[0.6666666666666666,\"#ed7953\"],[0.7777777777777778,\"#fb9f3a\"],[0.8888888888888888,\"#fdca26\"],[1.0,\"#f0f921\"]],\"type\":\"surface\"}],\"table\":[{\"cells\":{\"fill\":{\"color\":\"#EBF0F8\"},\"line\":{\"color\":\"white\"}},\"header\":{\"fill\":{\"color\":\"#C8D4E3\"},\"line\":{\"color\":\"white\"}},\"type\":\"table\"}]},\"layout\":{\"annotationdefaults\":{\"arrowcolor\":\"#2a3f5f\",\"arrowhead\":0,\"arrowwidth\":1},\"autotypenumbers\":\"strict\",\"coloraxis\":{\"colorbar\":{\"outlinewidth\":0,\"ticks\":\"\"}},\"colorscale\":{\"diverging\":[[0,\"#8e0152\"],[0.1,\"#c51b7d\"],[0.2,\"#de77ae\"],[0.3,\"#f1b6da\"],[0.4,\"#fde0ef\"],[0.5,\"#f7f7f7\"],[0.6,\"#e6f5d0\"],[0.7,\"#b8e186\"],[0.8,\"#7fbc41\"],[0.9,\"#4d9221\"],[1,\"#276419\"]],\"sequential\":[[0.0,\"#0d0887\"],[0.1111111111111111,\"#46039f\"],[0.2222222222222222,\"#7201a8\"],[0.3333333333333333,\"#9c179e\"],[0.4444444444444444,\"#bd3786\"],[0.5555555555555556,\"#d8576b\"],[0.6666666666666666,\"#ed7953\"],[0.7777777777777778,\"#fb9f3a\"],[0.8888888888888888,\"#fdca26\"],[1.0,\"#f0f921\"]],\"sequentialminus\":[[0.0,\"#0d0887\"],[0.1111111111111111,\"#46039f\"],[0.2222222222222222,\"#7201a8\"],[0.3333333333333333,\"#9c179e\"],[0.4444444444444444,\"#bd3786\"],[0.5555555555555556,\"#d8576b\"],[0.6666666666666666,\"#ed7953\"],[0.7777777777777778,\"#fb9f3a\"],[0.8888888888888888,\"#fdca26\"],[1.0,\"#f0f921\"]]},\"colorway\":[\"#636efa\",\"#EF553B\",\"#00cc96\",\"#ab63fa\",\"#FFA15A\",\"#19d3f3\",\"#FF6692\",\"#B6E880\",\"#FF97FF\",\"#FECB52\"],\"font\":{\"color\":\"#2a3f5f\"},\"geo\":{\"bgcolor\":\"white\",\"lakecolor\":\"white\",\"landcolor\":\"#E5ECF6\",\"showlakes\":true,\"showland\":true,\"subunitcolor\":\"white\"},\"hoverlabel\":{\"align\":\"left\"},\"hovermode\":\"closest\",\"mapbox\":{\"style\":\"light\"},\"paper_bgcolor\":\"white\",\"plot_bgcolor\":\"#E5ECF6\",\"polar\":{\"angularaxis\":{\"gridcolor\":\"white\",\"linecolor\":\"white\",\"ticks\":\"\"},\"bgcolor\":\"#E5ECF6\",\"radialaxis\":{\"gridcolor\":\"white\",\"linecolor\":\"white\",\"ticks\":\"\"}},\"scene\":{\"xaxis\":{\"backgroundcolor\":\"#E5ECF6\",\"gridcolor\":\"white\",\"gridwidth\":2,\"linecolor\":\"white\",\"showbackground\":true,\"ticks\":\"\",\"zerolinecolor\":\"white\"},\"yaxis\":{\"backgroundcolor\":\"#E5ECF6\",\"gridcolor\":\"white\",\"gridwidth\":2,\"linecolor\":\"white\",\"showbackground\":true,\"ticks\":\"\",\"zerolinecolor\":\"white\"},\"zaxis\":{\"backgroundcolor\":\"#E5ECF6\",\"gridcolor\":\"white\",\"gridwidth\":2,\"linecolor\":\"white\",\"showbackground\":true,\"ticks\":\"\",\"zerolinecolor\":\"white\"}},\"shapedefaults\":{\"line\":{\"color\":\"#2a3f5f\"}},\"ternary\":{\"aaxis\":{\"gridcolor\":\"white\",\"linecolor\":\"white\",\"ticks\":\"\"},\"baxis\":{\"gridcolor\":\"white\",\"linecolor\":\"white\",\"ticks\":\"\"},\"bgcolor\":\"#E5ECF6\",\"caxis\":{\"gridcolor\":\"white\",\"linecolor\":\"white\",\"ticks\":\"\"}},\"title\":{\"x\":0.05},\"xaxis\":{\"automargin\":true,\"gridcolor\":\"white\",\"linecolor\":\"white\",\"ticks\":\"\",\"title\":{\"standoff\":15},\"zerolinecolor\":\"white\",\"zerolinewidth\":2},\"yaxis\":{\"automargin\":true,\"gridcolor\":\"white\",\"linecolor\":\"white\",\"ticks\":\"\",\"title\":{\"standoff\":15},\"zerolinecolor\":\"white\",\"zerolinewidth\":2}}},\"xaxis\":{\"anchor\":\"y\",\"domain\":[0.0,1.0],\"title\":{\"text\":\"Runtime\"}},\"yaxis\":{\"anchor\":\"x\",\"domain\":[0.0,1.0]}},                        {\"responsive\": true}                    ).then(function(){\n                            \nvar gd = document.getElementById('d2887839-cf0a-44fb-815e-dbcbf3150d86');\nvar x = new MutationObserver(function (mutations, observer) {{\n        var display = window.getComputedStyle(gd).display;\n        if (!display || display === 'none') {{\n            console.log([gd, 'removed!']);\n            Plotly.purge(gd);\n            observer.disconnect();\n        }}\n}});\n\n// Listen for the removal of the full notebook cells\nvar notebookContainer = gd.closest('#notebook-container');\nif (notebookContainer) {{\n    x.observe(notebookContainer, {childList: true});\n}}\n\n// Listen for the clearing of the current output cell\nvar outputEl = gd.closest('.output');\nif (outputEl) {{\n    x.observe(outputEl, {childList: true});\n}}\n\n                        })                };                            </script>        </div>\n</body>\n</html>"
     },
     "metadata": {},
     "output_type": "display_data"
    }
   ],
   "execution_count": 21
  },
  {
   "cell_type": "markdown",
   "source": "- Como habiamos esperado, tenemos una distribucion sesgada con multiples valores atipico mayormente en el lado izquierdo, pero en el lado derecho tiene una menor cantidad.\n- La pelicula con la duracion maxima es 'Irishman'.\n- Increiblemente la pelicula con la menor duracion fue de 4 minutos y fue la pelicula 'Sol Levante'.",
   "metadata": {
    "tags": [],
    "cell_id": "00032-b3f0c65d-eb53-43cb-aabb-c27a3bf8a311",
    "deepnote_cell_type": "markdown"
   }
  },
  {
   "cell_type": "markdown",
   "source": "## IMDB Score",
   "metadata": {
    "tags": [],
    "cell_id": "00033-9192a745-8743-43a0-8d15-cc483d3701e8",
    "deepnote_cell_type": "markdown"
   }
  },
  {
   "cell_type": "code",
   "source": "df['IMDB Score'].describe()",
   "metadata": {
    "tags": [],
    "cell_id": "00032-e496937b-a764-4493-95b7-2115dfdfbdd1",
    "deepnote_to_be_reexecuted": false,
    "source_hash": "213932d1",
    "execution_start": 1627958250530,
    "execution_millis": 9,
    "deepnote_cell_type": "code"
   },
   "outputs": [
    {
     "output_type": "execute_result",
     "execution_count": 24,
     "data": {
      "text/plain": "count    584.000000\nmean       6.271747\nstd        0.979256\nmin        2.500000\n25%        5.700000\n50%        6.350000\n75%        7.000000\nmax        9.000000\nName: IMDB Score, dtype: float64"
     },
     "metadata": {}
    }
   ],
   "execution_count": 24
  },
  {
   "cell_type": "markdown",
   "source": "- Las peliculas de Netflix tienen un promedio de calificacion de 6.3, con un maximo de 9 y minimo de 2.5.\n- Los valores medios y la mediana estan algo cercano entre si. Dado que la mediana es mayor al promedio. Vamos a poder darnos la idea que existiran varios valores atipicos en lado izquierdo minimo.",
   "metadata": {
    "tags": [],
    "cell_id": "00035-06224825-3fb9-4a7f-90dd-62d65a18a19d",
    "deepnote_cell_type": "markdown"
   }
  },
  {
   "cell_type": "code",
   "source": "fig = px.histogram(df,\n    x='IMDB Score',\n    title='Puntuacion de IMDB de los programas de Netflix'\n)\nfig.show()",
   "metadata": {
    "tags": [],
    "cell_id": "00036-a048e3f8-1b0d-4e7f-88f4-1794531e38d7",
    "deepnote_to_be_reexecuted": false,
    "source_hash": "ef1d95e2",
    "execution_start": 1627958798713,
    "execution_millis": 7,
    "deepnote_cell_type": "code"
   },
   "outputs": [
    {
     "data": {
      "text/html": "<html>\n<head><meta charset=\"utf-8\" /></head>\n<body>\n    <div>            <script src=\"https://cdnjs.cloudflare.com/ajax/libs/mathjax/2.7.5/MathJax.js?config=TeX-AMS-MML_SVG\"></script><script type=\"text/javascript\">if (window.MathJax) {MathJax.Hub.Config({SVG: {font: \"STIX-Web\"}});}</script>                <script type=\"text/javascript\">window.PlotlyConfig = {MathJaxConfig: 'local'};</script>\n        <script src=\"https://cdn.plot.ly/plotly-2.2.0.min.js\"></script>                <div id=\"f006d01a-04ac-49b6-9332-ca6e1c35005e\" class=\"plotly-graph-div\" style=\"height:525px; width:100%;\"></div>            <script type=\"text/javascript\">                                    window.PLOTLYENV=window.PLOTLYENV || {};                                    if (document.getElementById(\"f006d01a-04ac-49b6-9332-ca6e1c35005e\")) {                    Plotly.newPlot(                        \"f006d01a-04ac-49b6-9332-ca6e1c35005e\",                        [{\"alignmentgroup\":\"True\",\"bingroup\":\"x\",\"hovertemplate\":\"IMDB Score=%{x}<br>count=%{y}<extra></extra>\",\"legendgroup\":\"\",\"marker\":{\"color\":\"#636efa\",\"pattern\":{\"shape\":\"\"}},\"name\":\"\",\"offsetgroup\":\"\",\"orientation\":\"v\",\"showlegend\":false,\"type\":\"histogram\",\"x\":[2.5,2.6,2.6,3.2,3.4,3.5,3.7,3.7,3.9,4.1,4.1,4.1,4.1,4.2,4.2,4.3,4.3,4.3,4.3,4.4,4.4,4.4,4.4,4.4,4.4,4.5,4.5,4.5,4.5,4.6,4.6,4.6,4.6,4.6,4.6,4.6,4.6,4.7,4.7,4.7,4.7,4.7,4.7,4.8,4.8,4.8,4.8,4.8,4.8,4.8,4.9,4.9,4.9,4.9,5.0,5.0,5.0,5.0,5.0,5.1,5.1,5.1,5.1,5.1,5.1,5.2,5.2,5.2,5.2,5.2,5.2,5.2,5.2,5.2,5.2,5.2,5.2,5.2,5.2,5.2,5.2,5.2,5.2,5.2,5.3,5.3,5.3,5.3,5.3,5.3,5.3,5.3,5.3,5.3,5.4,5.4,5.4,5.4,5.4,5.4,5.4,5.4,5.4,5.4,5.4,5.4,5.4,5.5,5.5,5.5,5.5,5.5,5.5,5.5,5.5,5.5,5.5,5.5,5.5,5.5,5.5,5.5,5.5,5.5,5.5,5.5,5.6,5.6,5.6,5.6,5.6,5.6,5.6,5.6,5.6,5.6,5.6,5.6,5.6,5.6,5.6,5.7,5.7,5.7,5.7,5.7,5.7,5.7,5.7,5.7,5.7,5.7,5.7,5.7,5.7,5.7,5.7,5.7,5.7,5.7,5.7,5.8,5.8,5.8,5.8,5.8,5.8,5.8,5.8,5.8,5.8,5.8,5.8,5.8,5.8,5.8,5.8,5.8,5.8,5.8,5.8,5.8,5.8,5.8,5.8,5.8,5.8,5.8,5.8,5.8,5.8,5.9,5.9,5.9,5.9,5.9,5.9,5.9,5.9,5.9,5.9,5.9,5.9,5.9,5.9,5.9,5.9,6.0,6.0,6.0,6.0,6.0,6.0,6.0,6.0,6.0,6.0,6.0,6.0,6.0,6.1,6.1,6.1,6.1,6.1,6.1,6.1,6.1,6.1,6.1,6.1,6.1,6.1,6.1,6.1,6.1,6.1,6.1,6.1,6.1,6.1,6.1,6.1,6.1,6.2,6.2,6.2,6.2,6.2,6.2,6.2,6.2,6.2,6.2,6.2,6.2,6.2,6.2,6.2,6.2,6.2,6.2,6.3,6.3,6.3,6.3,6.3,6.3,6.3,6.3,6.3,6.3,6.3,6.3,6.3,6.3,6.3,6.3,6.3,6.3,6.3,6.3,6.3,6.3,6.3,6.3,6.3,6.3,6.3,6.3,6.3,6.3,6.4,6.4,6.4,6.4,6.4,6.4,6.4,6.4,6.4,6.4,6.4,6.4,6.4,6.4,6.4,6.4,6.4,6.4,6.4,6.4,6.4,6.4,6.4,6.4,6.4,6.4,6.4,6.4,6.5,6.5,6.5,6.5,6.5,6.5,6.5,6.5,6.5,6.5,6.5,6.5,6.5,6.5,6.5,6.5,6.5,6.5,6.5,6.5,6.5,6.5,6.5,6.5,6.5,6.5,6.6,6.6,6.6,6.6,6.6,6.6,6.6,6.6,6.6,6.6,6.6,6.6,6.6,6.6,6.6,6.6,6.6,6.6,6.7,6.7,6.7,6.7,6.7,6.7,6.7,6.7,6.7,6.7,6.7,6.7,6.7,6.7,6.7,6.7,6.7,6.7,6.7,6.7,6.7,6.7,6.7,6.7,6.7,6.8,6.8,6.8,6.8,6.8,6.8,6.8,6.8,6.8,6.8,6.8,6.8,6.8,6.8,6.8,6.8,6.8,6.8,6.8,6.8,6.8,6.8,6.8,6.8,6.9,6.9,6.9,6.9,6.9,6.9,6.9,6.9,6.9,6.9,6.9,6.9,6.9,6.9,6.9,6.9,6.9,6.9,6.9,7.0,7.0,7.0,7.0,7.0,7.0,7.0,7.0,7.0,7.0,7.0,7.0,7.0,7.0,7.0,7.0,7.0,7.0,7.0,7.1,7.1,7.1,7.1,7.1,7.1,7.1,7.1,7.1,7.1,7.1,7.1,7.1,7.1,7.1,7.1,7.1,7.1,7.1,7.1,7.1,7.1,7.1,7.1,7.1,7.1,7.1,7.1,7.2,7.2,7.2,7.2,7.2,7.2,7.2,7.2,7.2,7.2,7.2,7.2,7.2,7.2,7.2,7.2,7.2,7.2,7.2,7.2,7.3,7.3,7.3,7.3,7.3,7.3,7.3,7.3,7.3,7.3,7.3,7.3,7.3,7.3,7.3,7.3,7.3,7.3,7.3,7.3,7.3,7.4,7.4,7.4,7.4,7.4,7.4,7.4,7.4,7.4,7.4,7.4,7.4,7.5,7.5,7.5,7.5,7.5,7.5,7.5,7.5,7.5,7.5,7.6,7.6,7.6,7.6,7.6,7.6,7.6,7.6,7.6,7.6,7.7,7.7,7.7,7.7,7.7,7.7,7.7,7.7,7.8,7.8,7.8,7.9,7.9,7.9,7.9,8.0,8.1,8.1,8.1,8.2,8.2,8.2,8.2,8.2,8.3,8.3,8.4,8.4,8.4,8.5,8.6,9.0],\"xaxis\":\"x\",\"yaxis\":\"y\"}],                        {\"barmode\":\"relative\",\"legend\":{\"tracegroupgap\":0},\"template\":{\"data\":{\"bar\":[{\"error_x\":{\"color\":\"#2a3f5f\"},\"error_y\":{\"color\":\"#2a3f5f\"},\"marker\":{\"line\":{\"color\":\"#E5ECF6\",\"width\":0.5},\"pattern\":{\"fillmode\":\"overlay\",\"size\":10,\"solidity\":0.2}},\"type\":\"bar\"}],\"barpolar\":[{\"marker\":{\"line\":{\"color\":\"#E5ECF6\",\"width\":0.5},\"pattern\":{\"fillmode\":\"overlay\",\"size\":10,\"solidity\":0.2}},\"type\":\"barpolar\"}],\"carpet\":[{\"aaxis\":{\"endlinecolor\":\"#2a3f5f\",\"gridcolor\":\"white\",\"linecolor\":\"white\",\"minorgridcolor\":\"white\",\"startlinecolor\":\"#2a3f5f\"},\"baxis\":{\"endlinecolor\":\"#2a3f5f\",\"gridcolor\":\"white\",\"linecolor\":\"white\",\"minorgridcolor\":\"white\",\"startlinecolor\":\"#2a3f5f\"},\"type\":\"carpet\"}],\"choropleth\":[{\"colorbar\":{\"outlinewidth\":0,\"ticks\":\"\"},\"type\":\"choropleth\"}],\"contour\":[{\"colorbar\":{\"outlinewidth\":0,\"ticks\":\"\"},\"colorscale\":[[0.0,\"#0d0887\"],[0.1111111111111111,\"#46039f\"],[0.2222222222222222,\"#7201a8\"],[0.3333333333333333,\"#9c179e\"],[0.4444444444444444,\"#bd3786\"],[0.5555555555555556,\"#d8576b\"],[0.6666666666666666,\"#ed7953\"],[0.7777777777777778,\"#fb9f3a\"],[0.8888888888888888,\"#fdca26\"],[1.0,\"#f0f921\"]],\"type\":\"contour\"}],\"contourcarpet\":[{\"colorbar\":{\"outlinewidth\":0,\"ticks\":\"\"},\"type\":\"contourcarpet\"}],\"heatmap\":[{\"colorbar\":{\"outlinewidth\":0,\"ticks\":\"\"},\"colorscale\":[[0.0,\"#0d0887\"],[0.1111111111111111,\"#46039f\"],[0.2222222222222222,\"#7201a8\"],[0.3333333333333333,\"#9c179e\"],[0.4444444444444444,\"#bd3786\"],[0.5555555555555556,\"#d8576b\"],[0.6666666666666666,\"#ed7953\"],[0.7777777777777778,\"#fb9f3a\"],[0.8888888888888888,\"#fdca26\"],[1.0,\"#f0f921\"]],\"type\":\"heatmap\"}],\"heatmapgl\":[{\"colorbar\":{\"outlinewidth\":0,\"ticks\":\"\"},\"colorscale\":[[0.0,\"#0d0887\"],[0.1111111111111111,\"#46039f\"],[0.2222222222222222,\"#7201a8\"],[0.3333333333333333,\"#9c179e\"],[0.4444444444444444,\"#bd3786\"],[0.5555555555555556,\"#d8576b\"],[0.6666666666666666,\"#ed7953\"],[0.7777777777777778,\"#fb9f3a\"],[0.8888888888888888,\"#fdca26\"],[1.0,\"#f0f921\"]],\"type\":\"heatmapgl\"}],\"histogram\":[{\"marker\":{\"pattern\":{\"fillmode\":\"overlay\",\"size\":10,\"solidity\":0.2}},\"type\":\"histogram\"}],\"histogram2d\":[{\"colorbar\":{\"outlinewidth\":0,\"ticks\":\"\"},\"colorscale\":[[0.0,\"#0d0887\"],[0.1111111111111111,\"#46039f\"],[0.2222222222222222,\"#7201a8\"],[0.3333333333333333,\"#9c179e\"],[0.4444444444444444,\"#bd3786\"],[0.5555555555555556,\"#d8576b\"],[0.6666666666666666,\"#ed7953\"],[0.7777777777777778,\"#fb9f3a\"],[0.8888888888888888,\"#fdca26\"],[1.0,\"#f0f921\"]],\"type\":\"histogram2d\"}],\"histogram2dcontour\":[{\"colorbar\":{\"outlinewidth\":0,\"ticks\":\"\"},\"colorscale\":[[0.0,\"#0d0887\"],[0.1111111111111111,\"#46039f\"],[0.2222222222222222,\"#7201a8\"],[0.3333333333333333,\"#9c179e\"],[0.4444444444444444,\"#bd3786\"],[0.5555555555555556,\"#d8576b\"],[0.6666666666666666,\"#ed7953\"],[0.7777777777777778,\"#fb9f3a\"],[0.8888888888888888,\"#fdca26\"],[1.0,\"#f0f921\"]],\"type\":\"histogram2dcontour\"}],\"mesh3d\":[{\"colorbar\":{\"outlinewidth\":0,\"ticks\":\"\"},\"type\":\"mesh3d\"}],\"parcoords\":[{\"line\":{\"colorbar\":{\"outlinewidth\":0,\"ticks\":\"\"}},\"type\":\"parcoords\"}],\"pie\":[{\"automargin\":true,\"type\":\"pie\"}],\"scatter\":[{\"marker\":{\"colorbar\":{\"outlinewidth\":0,\"ticks\":\"\"}},\"type\":\"scatter\"}],\"scatter3d\":[{\"line\":{\"colorbar\":{\"outlinewidth\":0,\"ticks\":\"\"}},\"marker\":{\"colorbar\":{\"outlinewidth\":0,\"ticks\":\"\"}},\"type\":\"scatter3d\"}],\"scattercarpet\":[{\"marker\":{\"colorbar\":{\"outlinewidth\":0,\"ticks\":\"\"}},\"type\":\"scattercarpet\"}],\"scattergeo\":[{\"marker\":{\"colorbar\":{\"outlinewidth\":0,\"ticks\":\"\"}},\"type\":\"scattergeo\"}],\"scattergl\":[{\"marker\":{\"colorbar\":{\"outlinewidth\":0,\"ticks\":\"\"}},\"type\":\"scattergl\"}],\"scattermapbox\":[{\"marker\":{\"colorbar\":{\"outlinewidth\":0,\"ticks\":\"\"}},\"type\":\"scattermapbox\"}],\"scatterpolar\":[{\"marker\":{\"colorbar\":{\"outlinewidth\":0,\"ticks\":\"\"}},\"type\":\"scatterpolar\"}],\"scatterpolargl\":[{\"marker\":{\"colorbar\":{\"outlinewidth\":0,\"ticks\":\"\"}},\"type\":\"scatterpolargl\"}],\"scatterternary\":[{\"marker\":{\"colorbar\":{\"outlinewidth\":0,\"ticks\":\"\"}},\"type\":\"scatterternary\"}],\"surface\":[{\"colorbar\":{\"outlinewidth\":0,\"ticks\":\"\"},\"colorscale\":[[0.0,\"#0d0887\"],[0.1111111111111111,\"#46039f\"],[0.2222222222222222,\"#7201a8\"],[0.3333333333333333,\"#9c179e\"],[0.4444444444444444,\"#bd3786\"],[0.5555555555555556,\"#d8576b\"],[0.6666666666666666,\"#ed7953\"],[0.7777777777777778,\"#fb9f3a\"],[0.8888888888888888,\"#fdca26\"],[1.0,\"#f0f921\"]],\"type\":\"surface\"}],\"table\":[{\"cells\":{\"fill\":{\"color\":\"#EBF0F8\"},\"line\":{\"color\":\"white\"}},\"header\":{\"fill\":{\"color\":\"#C8D4E3\"},\"line\":{\"color\":\"white\"}},\"type\":\"table\"}]},\"layout\":{\"annotationdefaults\":{\"arrowcolor\":\"#2a3f5f\",\"arrowhead\":0,\"arrowwidth\":1},\"autotypenumbers\":\"strict\",\"coloraxis\":{\"colorbar\":{\"outlinewidth\":0,\"ticks\":\"\"}},\"colorscale\":{\"diverging\":[[0,\"#8e0152\"],[0.1,\"#c51b7d\"],[0.2,\"#de77ae\"],[0.3,\"#f1b6da\"],[0.4,\"#fde0ef\"],[0.5,\"#f7f7f7\"],[0.6,\"#e6f5d0\"],[0.7,\"#b8e186\"],[0.8,\"#7fbc41\"],[0.9,\"#4d9221\"],[1,\"#276419\"]],\"sequential\":[[0.0,\"#0d0887\"],[0.1111111111111111,\"#46039f\"],[0.2222222222222222,\"#7201a8\"],[0.3333333333333333,\"#9c179e\"],[0.4444444444444444,\"#bd3786\"],[0.5555555555555556,\"#d8576b\"],[0.6666666666666666,\"#ed7953\"],[0.7777777777777778,\"#fb9f3a\"],[0.8888888888888888,\"#fdca26\"],[1.0,\"#f0f921\"]],\"sequentialminus\":[[0.0,\"#0d0887\"],[0.1111111111111111,\"#46039f\"],[0.2222222222222222,\"#7201a8\"],[0.3333333333333333,\"#9c179e\"],[0.4444444444444444,\"#bd3786\"],[0.5555555555555556,\"#d8576b\"],[0.6666666666666666,\"#ed7953\"],[0.7777777777777778,\"#fb9f3a\"],[0.8888888888888888,\"#fdca26\"],[1.0,\"#f0f921\"]]},\"colorway\":[\"#636efa\",\"#EF553B\",\"#00cc96\",\"#ab63fa\",\"#FFA15A\",\"#19d3f3\",\"#FF6692\",\"#B6E880\",\"#FF97FF\",\"#FECB52\"],\"font\":{\"color\":\"#2a3f5f\"},\"geo\":{\"bgcolor\":\"white\",\"lakecolor\":\"white\",\"landcolor\":\"#E5ECF6\",\"showlakes\":true,\"showland\":true,\"subunitcolor\":\"white\"},\"hoverlabel\":{\"align\":\"left\"},\"hovermode\":\"closest\",\"mapbox\":{\"style\":\"light\"},\"paper_bgcolor\":\"white\",\"plot_bgcolor\":\"#E5ECF6\",\"polar\":{\"angularaxis\":{\"gridcolor\":\"white\",\"linecolor\":\"white\",\"ticks\":\"\"},\"bgcolor\":\"#E5ECF6\",\"radialaxis\":{\"gridcolor\":\"white\",\"linecolor\":\"white\",\"ticks\":\"\"}},\"scene\":{\"xaxis\":{\"backgroundcolor\":\"#E5ECF6\",\"gridcolor\":\"white\",\"gridwidth\":2,\"linecolor\":\"white\",\"showbackground\":true,\"ticks\":\"\",\"zerolinecolor\":\"white\"},\"yaxis\":{\"backgroundcolor\":\"#E5ECF6\",\"gridcolor\":\"white\",\"gridwidth\":2,\"linecolor\":\"white\",\"showbackground\":true,\"ticks\":\"\",\"zerolinecolor\":\"white\"},\"zaxis\":{\"backgroundcolor\":\"#E5ECF6\",\"gridcolor\":\"white\",\"gridwidth\":2,\"linecolor\":\"white\",\"showbackground\":true,\"ticks\":\"\",\"zerolinecolor\":\"white\"}},\"shapedefaults\":{\"line\":{\"color\":\"#2a3f5f\"}},\"ternary\":{\"aaxis\":{\"gridcolor\":\"white\",\"linecolor\":\"white\",\"ticks\":\"\"},\"baxis\":{\"gridcolor\":\"white\",\"linecolor\":\"white\",\"ticks\":\"\"},\"bgcolor\":\"#E5ECF6\",\"caxis\":{\"gridcolor\":\"white\",\"linecolor\":\"white\",\"ticks\":\"\"}},\"title\":{\"x\":0.05},\"xaxis\":{\"automargin\":true,\"gridcolor\":\"white\",\"linecolor\":\"white\",\"ticks\":\"\",\"title\":{\"standoff\":15},\"zerolinecolor\":\"white\",\"zerolinewidth\":2},\"yaxis\":{\"automargin\":true,\"gridcolor\":\"white\",\"linecolor\":\"white\",\"ticks\":\"\",\"title\":{\"standoff\":15},\"zerolinecolor\":\"white\",\"zerolinewidth\":2}}},\"title\":{\"text\":\"Puntuacion de IMDB de los programas de Netflix\"},\"xaxis\":{\"anchor\":\"y\",\"domain\":[0.0,1.0],\"title\":{\"text\":\"IMDB Score\"}},\"yaxis\":{\"anchor\":\"x\",\"domain\":[0.0,1.0],\"title\":{\"text\":\"count\"}}},                        {\"responsive\": true}                    ).then(function(){\n                            \nvar gd = document.getElementById('f006d01a-04ac-49b6-9332-ca6e1c35005e');\nvar x = new MutationObserver(function (mutations, observer) {{\n        var display = window.getComputedStyle(gd).display;\n        if (!display || display === 'none') {{\n            console.log([gd, 'removed!']);\n            Plotly.purge(gd);\n            observer.disconnect();\n        }}\n}});\n\n// Listen for the removal of the full notebook cells\nvar notebookContainer = gd.closest('#notebook-container');\nif (notebookContainer) {{\n    x.observe(notebookContainer, {childList: true});\n}}\n\n// Listen for the clearing of the current output cell\nvar outputEl = gd.closest('.output');\nif (outputEl) {{\n    x.observe(outputEl, {childList: true});\n}}\n\n                        })                };                            </script>        </div>\n</body>\n</html>"
     },
     "metadata": {},
     "output_type": "display_data"
    }
   ],
   "execution_count": 26
  },
  {
   "cell_type": "code",
   "source": "fig = px.box(df, x='IMDB Score', hover_data=df[['Title','Genre']])\nfig.show()",
   "metadata": {
    "tags": [],
    "cell_id": "00037-21602c74-0eb5-4e99-bb2d-caa1d06e76cb",
    "deepnote_to_be_reexecuted": false,
    "source_hash": "4e9011f3",
    "execution_start": 1627958926663,
    "execution_millis": 58,
    "deepnote_cell_type": "code"
   },
   "outputs": [
    {
     "data": {
      "text/html": "<html>\n<head><meta charset=\"utf-8\" /></head>\n<body>\n    <div>            <script src=\"https://cdnjs.cloudflare.com/ajax/libs/mathjax/2.7.5/MathJax.js?config=TeX-AMS-MML_SVG\"></script><script type=\"text/javascript\">if (window.MathJax) {MathJax.Hub.Config({SVG: {font: \"STIX-Web\"}});}</script>                <script type=\"text/javascript\">window.PlotlyConfig = {MathJaxConfig: 'local'};</script>\n        <script src=\"https://cdn.plot.ly/plotly-2.2.0.min.js\"></script>                <div id=\"f5dc965e-8510-43b6-ab1f-66e54fcc4c33\" class=\"plotly-graph-div\" style=\"height:525px; width:100%;\"></div>            <script type=\"text/javascript\">                                    window.PLOTLYENV=window.PLOTLYENV || {};                                    if (document.getElementById(\"f5dc965e-8510-43b6-ab1f-66e54fcc4c33\")) {                    Plotly.newPlot(                        \"f5dc965e-8510-43b6-ab1f-66e54fcc4c33\",                        [{\"alignmentgroup\":\"True\",\"customdata\":[[\"Enter the Anime\",\"Documentary\"],[\"Dark Forces\",\"Thriller\"],[\"The App\",\"Science fiction/Drama\"],[\"The Open House\",\"Horror thriller\"],[\"Kaali Khuhi\",\"Mystery\"],[\"Drive\",\"Action\"],[\"Leyla Everlasting\",\"Comedy\"],[\"The Last Days of American Crime\",\"Heist film/Thriller\"],[\"Paradox\",\"Musical/Western/Fantasy\"],[\"Sardar Ka Grandson\",\"Comedy\"],[\"Searching for Sheela\",\"Documentary\"],[\"The Call\",\"Drama\"],[\"Whipped\",\"Romantic comedy\"],[\"All Because of You\",\"Action comedy\"],[\"Mercy\",\"Thriller\"],[\"After the Raid\",\"Documentary\"],[\"Ghost Stories\",\"Horror anthology\"],[\"The Last Thing He Wanted\",\"Political thriller\"],[\"What Happened to Mr. Cha?\",\"Comedy\"],[\"Death Note\",\"Horror thriller\"],[\"Hello Privilege. It's Me, Chelsea\",\"Documentary\"],[\"Secret Obsession\",\"Thriller\"],[\"Sextuplets\",\"Comedy\"],[\"The Girl on the Train\",\"Thriller\"],[\"Thunder Force\",\"Superhero-Comedy\"],[\"Fatal Affair\",\"Thriller\"],[\"Just Say Yes\",\"Romantic comedy\"],[\"Seriously Single\",\"Comedy\"],[\"The Misadventures of Hedi and Cokeman\",\"Comedy\"],[\"5 Star Christmas\",\"Comedy\"],[\"After Maria\",\"Documentary\"],[\"I Am the Pretty Thing That Lives in the House\",\"Horror\"],[\"Paris Is Us\",\"Romance drama\"],[\"Porta dos Fundos: The First Temptation of Christ\",\"Comedy\"],[\"Rattlesnake\",\"Horror\"],[\"The Players\",\"Comedy\"],[\"We Are One\",\"Documentary\"],[\"Finding Agnes\",\"Drama\"],[\"IO\",\"Science fiction/Drama\"],[\"Sentinelle\",\"Action\"],[\"Sol Levante\",\"Anime / Short\"],[\"The Binding\",\"Drama\"],[\"We Can Be Heroes\",\"Superhero\"],[\"Christmas Crossfire\",\"Thriller\"],[\"Coin Heist\",\"Heist\"],[\"Mrs. Serial Killer\",\"Thriller\"],[\"Nobody Sleeps in the Woods Tonight\",\"Horror\"],[\"Take the 10\",\"Comedy\"],[\"The Main Event\",\"Comedy\"],[\"The Ridiculous 6\",\"Western\"],[\"Earth and Blood\",\"Action\"],[\"Fearless\",\"Animation/Superhero\"],[\"Holiday Rush\",\"Family film\"],[\"The Day of the Lord\",\"Drama\"],[\"Airplane Mode\",\"Comedy\"],[\"How It Ends\",\"Action-thriller\"],[\"Love Like the Falling Rain\",\"Drama\"],[\"Rebirth\",\"Thriller\"],[\"Squared Love\",\"Romantic comedy\"],[\"Cadaver\",\"Horror\"],[\"Clinical\",\"Thriller\"],[\"Coffee & Kareem\",\"Action comedy\"],[\"Dude\",\"Teen comedy-drama\"],[\"Geez & Ann\",\"Romantic drama\"],[\"The Larva Island Movie\",\"Animation\"],[\"#REALITYHIGH\",\"Comedy\"],[\"American Factory: A Conversation with the Obamas \",\"Aftershow / Interview\"],[\"Desperados\",\"Romantic comedy\"],[\"Dolly Parton's Christmas on the Square\",\"Christmas musical\"],[\"Father of the Year\",\"Comedy\"],[\"Firebrand\",\"Drama\"],[\"Ghost Lab\",\"Horror\"],[\"Girlfriend's Day\",\"Comedy\"],[\"Handsome: A Netflix Mystery Movie\",\"Comedy\"],[\"Hubie Halloween\",\"Comedy\"],[\"Ibiza\",\"Comedy\"],[\"Rim of the World\",\"Science fiction adventure\"],[\"Sandy Wexler\",\"Comedy\"],[\"See You Yesterday\",\"Science fiction\"],[\"Still Laugh-In: The Stars Celebrate\",\"Variety show\"],[\"Strip Down, Rise Up\",\"Documentary\"],[\"Tall Girl\",\"Comedy-drama\"],[\"The Beast\",\"Drama\"],[\"The Week Of\",\"Comedy\"],[\"A Christmas Prince: The Royal Wedding\",\"Romantic comedy\"],[\"Back to School\",\"Comedy\"],[\"Dangerous Lies\",\"Thriller\"],[\"Gunjan Saxena: The Kargil Girl\",\"Drama\"],[\"Intuition\",\"Thriller\"],[\"The Most Assassinated Woman in the World\",\"Thriller\"],[\"Things Heard & Seen\",\"Horror\"],[\"To Each, Her Own\",\"Romantic comedy\"],[\"Who Would You Take to a Deserted Island?\",\"Drama\"],[\"XOXO\",\"Drama\"],[\"A Babysitter's Guide to Monster Hunting\",\"Comedy/Fantasy/Family\"],[\"A Christmas Prince: The Royal Baby\",\"Romantic comedy\"],[\"Despite Everything\",\"Comedy\"],[\"Dolly Kitty and Those Twinkling Stars\",\"Drama\"],[\"Freaks: You're One of Us\",\"Supernatural drama\"],[\"Game Over, Man!\",\"Action/Comedy\"],[\"Guilty\",\"Thriller\"],[\"In the Tall Grass\",\"Horror\"],[\"Madame Claude\",\"Drama\"],[\"Naked\",\"Comedy\"],[\"Outside the Wire\",\"Action/Science fiction\"],[\"The Princess Switch: Switched Again\",\"Romantic comedy\"],[\"Under the Riccione Sun\",\"Romantic teenage drama\"],[\"A Very Murray Christmas\",\"Comedy / Musical\"],[\"Been So Long\",\"Musical\"],[\"Dead Kids\",\"Thriller\"],[\"Get the Grift\",\"Comedy\"],[\"Ghosts of Sugar Land\",\"Documentary\"],[\"House Arrest\",\"Comedy\"],[\"Kevin Hart's Guide to Black History\",\"Variety show\"],[\"Love Wedding Repeat\",\"Romantic comedy\"],[\"Mute\",\"Science fiction/Mystery\"],[\"\\ufffdl\\ufffdt?r\\ufffd\",\"Crime drama\"],[\"Red Dot\",\"Thriller\"],[\"Ride or Die\",\"Psychological thriller drama\"],[\"Step Sisters\",\"Comedy\"],[\"The Cloverfield Paradox\",\"Science fiction\"],[\"The Knight Before Christmas\",\"Romantic comedy\"],[\"The Legacy of a Whitetail Deer Hunter\",\"Adventure/Comedy\"],[\"The Package\",\"Black comedy\"],[\"Unicorn Store\",\"Comedy\"],[\"Wine Country\",\"Comedy\"],[\"Bomb Scared\",\"Black comedy\"],[\"Brahman Naman\",\"Comedy\"],[\"Double Dad\",\"Comedy-drama\"],[\"Falling Inn Love\",\"Romantic comedy\"],[\"Hold the Dark\",\"Thriller\"],[\"Love, Guaranteed\",\"Romantic comedy\"],[\"One-Way to Tomorrow\",\"Romance\"],[\"Sarah Cooper: Everything's Fine\",\"Variety show\"],[\"The Last Laugh\",\"Comedy-drama\"],[\"The Last Paradiso\",\"Romantic drama\"],[\"The Midnight Sky\",\"Science fiction\"],[\"The Paramedic\",\"Thriller\"],[\"The Sleepover\",\"Comedy\"],[\"Vampires vs. the Bronx\",\"Horror comedy\"],[\"Why Did You Kill Me?\",\"Documentary\"],[\"A Week Away\",\"Christian musical\"],[\"Caught by a Wave\",\"Romantic teen drama\"],[\"Christmas Inheritance\",\"Romantic drama\"],[\"Dad Wanted\",\"Family\"],[\"El Camino Christmas\",\"Dark comedy\"],[\"Eli\",\"Horror\"],[\"Ginny Weds Sunny\",\"Romantic comedy\"],[\"Good Sam\",\"Drama\"],[\"Lionheart\",\"Comedy\"],[\"Little Evil\",\"Comedy horror\"],[\"One Take\",\"Documentary\"],[\"Out of Many, One\",\"Documentary\"],[\"Point Blank\",\"Action\"],[\"Prime Time\",\"Thriller\"],[\"The Do-Over\",\"Action comedy\"],[\"The Holiday Calendar\",\"Romantic comedy\"],[\"The Woman in the Window\",\"Psychological thriller\"],[\"The Wrong Missy\",\"Comedy\"],[\"Velvet Buzzsaw\",\"Thriller\"],[\"Yes Day\",\"Comedy\"],[\"15 August\",\"Comedy-drama\"],[\"A California Christmas\",\"Romantic comedy\"],[\"A Christmas Prince\",\"Romantic comedy\"],[\"All Day and a Night\",\"Drama\"],[\"American Son\",\"Drama\"],[\"Barry\",\"Biopic\"],[\"Candy Jar\",\"Comedy\"],[\"Choked: Paisa Bolta Hai\",\"Drama\"],[\"Class of '83\",\"Drama\"],[\"Extinction\",\"Science fiction/Thriller\"],[\"Happy Anniversary\",\"Romantic comedy\"],[\"I Am All Girls\",\"Thriller\"],[\"Let It Snow\",\"Romantic comedy\"],[\"Mascots\",\"Mockumentary\"],[\"Operation Christmas Drop\",\"Romantic comedy\"],[\"Rajma Chawal\",\"Comedy-drama\"],[\"Rich in Love\",\"Romantic comedy\"],[\"Rising High\",\"Satire\"],[\"Rodney King\",\"One-man show\"],[\"Sierra Burgess Is a Loser\",\"Romantic comedy-drama\"],[\"Small Crimes\",\"Dark comedy\"],[\"Special Correspondents\",\"Satire\"],[\"TAU\",\"Science fiction/Thriller\"],[\"The After Party\",\"Comedy\"],[\"The Babysitter: Killer Queen\",\"Comedy/Horror\"],[\"The Claus Family\",\"Fantasy\"],[\"The Kissing Booth 2\",\"Romantic comedy\"],[\"The Perfect Date\",\"Romantic comedy\"],[\"What We Wanted\",\"Drama\"],[\"You've Got This\",\"Romantic comedy\"],[\"6 Balloons\",\"Drama\"],[\"A Fall from Grace\",\"Thriller\"],[\"Amateur\",\"Sports-drama\"],[\"Army of the Dead\",\"Zombie/Heist\"],[\"Cam\",\"Psychological horror\"],[\"Earthquake Bird\",\"Mystery\"],[\"Frankenstein's Monster's Monster, Frankenstein\",\"Mockumentary\"],[\"Horse Girl\",\"Drama\"],[\"Notes from Dunblane: Lesson from a School Shooting\",\"Documentary\"],[\"Maska\",\"Romantic comedy\"],[\"The Decline\",\"Thriller\"],[\"The Minimalists: Less Is Now\",\"Documentary\"],[\"The Polka King\",\"Comedy-drama\"],[\"The Prom\",\"Musical\"],[\"True Memoirs of an International Assassin\",\"Action comedy\"],[\"Ultras\",\"Sports film\"],[\"Come Sunday\",\"Biopic\"],[\"Forgive Us Our Debts\",\"Drama\"],[\"iBoy\",\"Science fiction/Thriller\"],[\"Lovefucked\",\"Drama\"],[\"Juanita\",\"Drama\"],[\"Murder Mystery\",\"Comedy mystery\"],[\"Project Power\",\"Superhero\"],[\"Rebecca\",\"Romantic thriller\"],[\"The Christmas Chronicles: Part Two\",\"Christmas comedy\"],[\"The Kissing Booth\",\"Romantic comedy\"],[\"The Princess Switch\",\"Romantic comedy\"],[\"To All the Boys: P.S. I Still Love You\",\"Romantic comedy\"],[\"War Machine\",\"War-Comedy\"],[\"6 Underground\",\"Action\"],[\"Between Two Ferns: The Movie\",\"Comedy\"],[\"Burning Sands\",\"Drama\"],[\"Casting JonBenet\",\"Documentary\"],[\"Deidra & Laney Rob a Train\",\"Drama\"],[\"Finding 'Ohana\",\"Family\"],[\"Holidate\",\"Romantic comedy/Holiday\"],[\"Holiday in the Wild\",\"Adventure-romance\"],[\"Hot Girls Wanted\",\"Documentary\"],[\"Like Father\",\"Comedy\"],[\"Lost Girls\",\"Crime drama\"],[\"Otherhood\",\"Comedy\"],[\"Pee-wee's Big Holiday\",\"Adventure\"],[\"Rogue City\",\"Crime drama\"],[\"Sergio\",\"Biopic\"],[\"Stuck Apart\",\"Drama\"],[\"Tersanjung the Movie\",\"Drama\"],[\"The Killer\",\"Western\"],[\"The Lovebirds\",\"Romantic comedy\"],[\"The Most Hated Woman in America\",\"Biopic\"],[\"The Perfection\",\"Horror-thriller\"],[\"Tribhanga \\ufffd Tedhi Medhi Crazy\",\"Drama\"],[\"Unknown Origins\",\"Thriller\"],[\"Work It\",\"Dance comedy\"],[\"Alien Xmas\",\"Stop Motion\"],[\"Baggio: The Divine Ponytail\",\"Biopic\"],[\"Below Zero\",\"Drama\"],[\"Citation\",\"Drama\"],[\"Crazy Awesome Teachers\",\"Comedy-drama\"],[\"Have You Ever Seen Fireflies?\",\"Comedy\"],[\"High Flying Bird\",\"Sports-drama\"],[\"In the Shadow of the Moon\",\"Thriller\"],[\"Lost Bullet\",\"Thriller\"],[\"Octonauts & the Caves of Sac Actun\",\"Animation\"],[\"Offering to the Storm\",\"Thriller\"],[\"Roxanne Roxanne\",\"Biopic\"],[\"Someone Great\",\"Romantic comedy\"],[\"Spenser Confidential\",\"Action comedy\"],[\"The Land of Steady Habits\",\"Drama\"],[\"The Rachel Divide\",\"Documentary\"],[\"Voyuer \",\"Documentary\"],[\"Win It All\",\"Comedy\"],[\"1922\",\"Horror/Crime drama\"],[\"A Tale of Two Kitchens\",\"Documentary\"],[\"Alex Strangelove\",\"Romantic comedy\"],[\"Apostle\",\"Horror-thriller\"],[\"Benji\",\"Family film\"],[\"Bright\",\"Urban fantasy\"],[\"Cargo\",\"Drama/Horror\"],[\"Concrete Cowboy\",\"Drama\"],[\"Feel the Beat\",\"Family/Comedy-drama\"],[\"Get the Goat\",\"Comedy\"],[\"I Am Not an Easy Man\",\"Romantic comedy\"],[\"June & Kopi\",\"Drama\"],[\"Music Teacher\",\"Drama\"],[\"Nail Bomber: Manhunt\",\"Documentary\"],[\"Notes for My Son\",\"Drama\"],[\"Polar\",\"Action\"],[\"Porta dos Fundos: The Last Hangover\",\"Comedy\"],[\"Sand Castle\",\"War\"],[\"Shimmer Lake\",\"Crime thriller\"],[\"Spectral\",\"Science fiction/Action\"],[\"The Babysitter\",\"Teen comedy horror\"],[\"The Discovery\",\"Science fiction/Drama\"],[\"The Forest of Love\",\"Drama\"],[\"The Laundromat\",\"Comedy-drama\"],[\"The Legend of Cocaine Island\",\"Documentary\"],[\"The Outsider\",\"Crime drama\"],[\"Time to Hunt\",\"Thriller\"],[\"To All the Boys: Always and Forever\",\"Romantic comedy\"],[\"Travis Scott: Look Mom I Can Fly\",\"Documentary\"],[\"Uncorked\",\"Drama\"],[\"Anelka: Misunderstood\",\"Documentary\"],[\"Ariana Grande: Excuse Me, I Love You\",\"Concert Film\"],[\"ARQ\",\"Science fiction/Thriller\"],[\"Birders\",\"Documentary\"],[\"Como Ca\\ufffddo del Cielo\",\"Musical comedy\"],[\"First Match\",\"Sports-drama\"],[\"Fractured\",\"Thriller\"],[\"Irreplaceable You\",\"Drama\"],[\"Isi & Ossi\",\"Romantic comedy\"],[\"John Was Trying to Contact Aliens\",\"Documentary\"],[\"Layla Majnun\",\"Romantic drama\"],[\"Murder to Mercy: The Cyntoia Brown Story\",\"Documentary\"],[\"My Own Man\",\"Documentary\"],[\"Nappily Ever After\",\"Comedy-drama\"],[\"Over the Moon\",\"Animation/Musical/Adventure\"],[\"Street Flow\",\"Drama\"],[\"Strong Island\",\"Documentary\"],[\"Sturgill Simpson Presents: Sound & Fury\",\"Animation / Musicial\"],[\"Take Your Pills\",\"Documentary\"],[\"The Heartbreak Club\",\"Comedy-drama\"],[\"The Mars Generation\",\"Documentary\"],[\"The Occupant\",\"Thriller\"],[\"The Willoughbys\",\"Animation/Comedy/Adventure\"],[\"Triple Frontier\",\"Action-thriller\"],[\"Two Catalonias\",\"Documentary\"],[\"Walk. Ride. Rodeo.\",\"Drama\"],[\"Wheelman\",\"Action thriller\"],[\"When We First Met\",\"Romantic comedy\"],[\"A 3 Minute Hug\",\"Documentary\"],[\"All the Bright Places\",\"Romance\"],[\"All Together Now\",\"Drama\"],[\"Altered Carbon: Resleeved\",\"Anime/Science fiction\"],[\"Antoine Griezmann: The Making of a Legend\",\"Documentary\"],[\"Canvas \",\"Animation / Short\"],[\"Chadwick Boseman: Portrait of an Artist\",\"Documentary\"],[\"Chopsticks\",\"Comedy\"],[\"Da 5 Bloods\",\"War drama\"],[\"Dolly Parton: A MusiCares Tribute\",\"Documentary\"],[\"Eurovision Song Contest: The Story of Fire Saga\",\"Musical comedy\"],[\"Gerald's Game\",\"Horror thriller\"],[\"His House\",\"Thriller\"],[\"Jingle Jangle: A Christmas Journey\",\"Family/Christmas musical\"],[\"Life Overtakes Me\",\"Documentary\"],[\"Lust Stories\",\"Drama\"],[\"Monster\",\"Drama\"],[\"Mowgli: Legend of the Jungle\",\"Adventure\"],[\"Nobody Knows I'm Here\",\"Drama\"],[\"Nobody Speak: Trials of the Free Press\",\"Documentary\"],[\"Oxygen\",\"Science fiction thriller\"],[\"Set It Up\",\"Romantic comedy\"],[\"The Incredible Jessica James\",\"Comedy\"],[\"Tigertail\",\"Drama\"],[\"Tramps\",\"Romance\"],[\"What Did Jack Do?\",\"Drama / Short\"],[\"Bad Trip\",\"Hidden-camera prank comedy\"],[\"Bird Box\",\"Psychological thriller\"],[\"Bulbbul\",\"Horror\"],[\"Crazy About Her\",\"Romantic comedy\"],[\"Elisa & Marcela\",\"Romance\"],[\"I'll Sleep When I'm Dead\",\"Documentary\"],[\"I'm Thinking of Ending Things\",\"Psychological thriller\"],[\"It Takes a Lunatic\",\"Documentary\"],[\"Milestone\",\"Drama\"],[\"Recovery Boys\",\"Documentary\"],[\"ReMastered: Who Killed Jam Master Jay?\",\"Documentary\"],[\"Shawn Mendes: In Wonder\",\"Documentary\"],[\"Space Sweepers\",\"Science fiction\"],[\"The American Meme\",\"Documentary\"],[\"The Angel\",\"Spy thriller\"],[\"The Crimes That Bind\",\"Crime drama\"],[\"The Red Sea Diving Resort\",\"Spy thriller\"],[\"What Would Sophia Loren Do?\",\"Documentary\"],[\"A Whisker Away\",\"Anime/Fantasy\"],[\"Ajeeb Daastaans\",\"Drama\"],[\"Arlo the Alligator Boy\",\"Animated musical comedy\"],[\"Bikram: Yogi, Guru, Predator\",\"Documentary\"],[\"Blame!\",\"Anime/Science fiction\"],[\"Blue Miracle\",\"Drama\"],[\"CounterPunch \",\"Documentary\"],[\"Crack: Cocaine, Corruption & Conspiracy\",\"Documentary\"],[\"Extraction\",\"Action\"],[\"Giving Voice\",\"Documentary\"],[\"Hillbilly Elegy\",\"Drama\"],[\"Hope Frozen: A Quest to Live Twice\",\"Documentary\"],[\"Imperial Dreams\",\"Drama\"],[\"Just Another Christmas\",\"Comedy\"],[\"Little Miss Sumo\",\"Documentary\"],[\"Malcolm & Marie\",\"Romantic drama\"],[\"Michael Bolton's Big, Sexy, Valentine's Day Special\",\"Variety Show\"],[\"Moxie\",\"Drama\"],[\"Night in Paradise\",\"Drama\"],[\"Paper Lives\",\"Drama\"],[\"Parchis: The Documentary\",\"Documentary\"],[\"Tallulah\",\"Comedy-drama\"],[\"The Old Guard\",\"Superhero/Action\"],[\"Tony Robbins: I Am Not Your Guru\",\"Documentary\"],[\"Upstarts\",\"Drama\"],[\"22 July\",\"Drama\"],[\"7 a\\ufffdos\",\"Drama\"],[\"A Futile and Stupid Gesture\",\"Biographical/Comedy\"],[\"A Life of Speed: The Juan Manuel Fangio Story\",\"Documentary\"],[\"A Love Song for Latasha\",\"Documentary\"],[\"All in My Family\",\"Documentary\"],[\"Always Be My Maybe\",\"Romantic comedy\"],[\"Becoming\",\"Documentary\"],[\"Long Live Brij Mohan\",\"Comedy\"],[\"Calibre\",\"Thriller\"],[\"Death to 2020\",\"Comedy\"],[\"GIMS: On the Record\",\"Documentary\"],[\"Have a Good Trip: Adventures in Psychedelics\",\"Documentary\"],[\"Heroin(e) \",\"Documentary\"],[\"Mercury 13\",\"Documentary\"],[\"Saving Capitalism\",\"Documentary\"],[\"Serious Men\",\"Drama\"],[\"The Boys in the Band\",\"Drama\"],[\"The Boys in the Band: Something Personal\",\"Aftershow / Interview\"],[\"The Life Ahead\",\"Drama\"],[\"The Other Side of the Wind\",\"Drama\"],[\"The Trader\",\"Documentary\"],[\"To the Bone\",\"Drama\"],[\"Tony Parker: The Final Shot\",\"Documentary\"],[\"AK vs AK\",\"Thriller\"],[\"Amanda Knox\",\"Documentary\"],[\"Bigflo & Oil: Hip Hop Frenzy\",\"Documentary\"],[\"Biggie: I Got a Story to Tell\",\"Documentary\"],[\"Cops and Robbers\",\"Animation / Short\"],[\"I Don't Feel at Home in This World Anymore\",\"Drama\"],[\"Laerte-se\",\"Documentary\"],[\"Mank\",\"Biopic\"],[\"Our Souls at Night\",\"Romance\"],[\"Outlaw King\",\"Historical-epic\"],[\"Pagglait\",\"Comedy-drama\"],[\"ReMastered: Who Shot the Sheriff?\",\"Documentary\"],[\"Seeing Allred\",\"Documentary\"],[\"Spelling the Dream\",\"Documentary\"],[\"The Claudia Kishi Club\",\"Documentary\"],[\"The Half of It\",\"Romance\"],[\"The Highwaymen\",\"Crime drama\"],[\"The Lonely Island Presents: The Unauthorized Bash Brothers Experience\",\"Comedy / Musical\"],[\"The Meyerowitz Stories (New and Selected)\",\"Comedy-drama\"],[\"Feminists: What Were They Thinking?\",\"Documentary\"],[\"Gaga: Five Foot Two\",\"Documentary\"],[\"I'm No Longer Here: A Discussion with Guillermo del Toro and Alfonso Cuaron\",\"Aftershow / Interview\"],[\"Kingdom of Us\",\"Documentary\"],[\"Lorena, Light-Footed Woman\",\"Documentary\"],[\"Los Tigres del Norte at Folsom Prison\",\"Documentary\"],[\"Ma Rainey's Black Bottom\",\"Drama\"],[\"Ma Rainey's Black Bottom: A Legacy Brought to Screen\",\"Aftershow / Interview\"],[\"Operation Varsity Blues: The College Admissions Scandal\",\"Documentary\"],[\"Pele\",\"Documentary\"],[\"ReMastered: Devil at the Crossroads\",\"Documentary\"],[\"ReMastered: The Lion's Share\",\"Documentary\"],[\"ReMastered: The Miami Showband Massacre\",\"Documentary\"],[\"Resurface\",\"Documentary\"],[\"Rocko's Modern Life: Static Cling\",\"Animation / Comedy\"],[\"Rose Island\",\"Comedy\"],[\"The Christmas Chronicles\",\"Christmas/Fantasy/Adventure/Comedy\"],[\"The Dirt\",\"Biopic\"],[\"The Night Comes for Us\",\"Action-thriller\"],[\"13th: A Conversation with Oprah Winfrey & Ava DuVernay\",\"Aftershow / Interview\"],[\"Angela's Christmas\",\"Animation\"],[\"Angela's Christmas Wish\",\"Animation\"],[\"Beats\",\"Drama\"],[\"Circus of Books\",\"Documentary\"],[\"Dance Dreams: Hot Chocolate Nutcracker\",\"Documentary\"],[\"Derren Brown: Sacrifice\",\"Mentalism special\"],[\"El Pepe: A Supreme Life\",\"Documentary\"],[\"End Game\",\"Documentary\"],[\"Evelyn\",\"Documentary\"],[\"Ferry\",\"Crime drama\"],[\"Grass Is Greener\",\"Documentary\"],[\"Guillermo Vilas: Settling the Score\",\"Documentary\"],[\"Joshua: Teenager vs. Superpower\",\"Documentary\"],[\"Keith Richards: Under the Influence\",\"Documentary\"],[\"Knock Down the House\",\"Documentary\"],[\"Loudon Wainwright III: Surviving Twin\",\"One-man show\"],[\"My Beautiful Broken Brain\",\"Documentary\"],[\"One of Us\",\"Documentary\"],[\"Pieces of a Woman\",\"Drama\"],[\"Ram Dass, Going Home\",\"Documentary\"],[\"ReMastered: Tricky Dick & the Man in Black\",\"Documentary\"],[\"Rooting for Roona\",\"Documentary\"],[\"The Devil All the Time\",\"Psychological thriller\"],[\"The Dig\",\"Drama\"],[\"The Great Hack\",\"Documentary\"],[\"The White Tiger\",\"Drama\"],[\"To All the Boys I've Loved Before\",\"Romantic comedy\"],[\"American Murder: The Family Next Door\",\"Documentary\"],[\"Audrie & Daisy\",\"Documentary\"],[\"First They Killed My Father\",\"Drama\"],[\"Fyre: The Greatest Party That Never Happened\",\"Documentary\"],[\"Into the Inferno\",\"Documentary\"],[\"LA Originals\",\"Documentary\"],[\"Ladies First\",\"Documentary\"],[\"Love per Square Foot\",\"Romantic comedy\"],[\"Paddleton\",\"Drama-Comedy\"],[\"Private Life\",\"Drama\"],[\"Seventeen\",\"Coming-of-age comedy-drama\"],[\"Sometimes\",\"Drama\"],[\"Soni\",\"Crime drama\"],[\"The 40-Year-Old Version\",\"Comedy\"],[\"The Disciple\",\"Drama\"],[\"The Edge of Democracy\",\"Documentary\"],[\"The King\",\"Historical drama\"],[\"The Road to El Camino: A Breaking Bad Movie\",\"Making-of\"],[\"The Siege of Jadotville\",\"War\"],[\"Zion \",\"Documentary\"],[\"Dolemite Is My Name\",\"Biopic\"],[\"El Camino: A Breaking Bad Movie\",\"Crime drama\"],[\"Extremis\",\"Documentary\"],[\"Father Soldier Son\",\"Documentary\"],[\"Get Me Roger Stone\",\"Documentary\"],[\"I'm No Longer Here\",\"Drama\"],[\"Mucho Mucho Amor: The Legend of Walter Mercado \",\"Documentary\"],[\"Octonauts & the Great Barrier Reef\",\"Animation\"],[\"Okja\",\"Action-adventure\"],[\"On My Skin\",\"Crime drama\"],[\"Raat Akeli Hai\",\"Thriller\"],[\"ReMastered: Massacre at the Stadium\",\"Documentary\"],[\"ReMastered: The Two Killings of Sam Cooke\",\"Documentary\"],[\"Secrets of the Saqqara Tomb\",\"Documentary\"],[\"Sitara: Let Girls Dream\",\"Animation / Short\"],[\"Sky Ladder: The Art of Cai Guo-Qiang\",\"Documentary\"],[\"Team Foxcatcher\",\"Documentary\"],[\"The Ballad of Buster Scruggs\",\"Western\"],[\"The Death and Life of Marsha P. Johnson\",\"Documentary\"],[\"The Fundamentals of Caring\",\"Comedy-drama\"],[\"The Other One: The Long Strange Trip of Bob Weir\",\"Documentary\"],[\"American Factory\",\"Documentary\"],[\"Fire in Paradise\",\"Documentary\"],[\"Long Shot\",\"Documentary\"],[\"Miss Americana\",\"Documentary\"],[\"Period. End of Sentence.\",\"Documentary\"],[\"Shawn Mendes: Live in Concert\",\"Concert Film\"],[\"Shirkers\",\"Documentary\"],[\"The Black Godfather\",\"Documentary\"],[\"The Irishman: In Conversation\",\"Aftershow / Interview\"],[\"The Speed Cubers\",\"Documentary\"],[\"They'll Love Me When I'm Dead\",\"Documentary\"],[\"Tig\",\"Documentary\"],[\"Barbra: The Music, The Mem'ries, The Magic!\",\"Concert Film\"],[\"Blackpink: Light Up the Sky\",\"Documentary\"],[\"City of Joy\",\"Documentary\"],[\"Dick Johnson Is Dead\",\"Documentary\"],[\"Homecoming: A Film by Beyonce \",\"Documentary\"],[\"Invader Zim: Enter the Florpus\",\"Animation / Science Fiction\"],[\"Joan Didion: The Center Will Not Hold\",\"Documentary\"],[\"John Mulaney & the Sack Lunch Bunch\",\"Variety show\"],[\"Reversing Roe\",\"Documentary\"],[\"The White Helmets\",\"Documentary\"],[\"Athlete A\",\"Documentary\"],[\"Ludo\",\"Anthology/Dark comedy\"],[\"Quincy\",\"Documentary\"],[\"Rolling Thunder Revue: A bob Dylan Story by Martin Scorsere\",\"Documentary\"],[\"Tell Me Who I Am\",\"Documentary\"],[\"The Bleeding Edge\",\"Documentary\"],[\"The Social Dilemma\",\"Documentary\"],[\"The Two Popes\",\"Drama\"],[\"What Happened, Miss Simone?\",\"Documentary\"],[\"Yeh Ballet\",\"Drama\"],[\"Anima\",\"Musical / Short\"],[\"Beasts of No Nation\",\"War drama\"],[\"Brene Brown: The Call to Courage\",\"Documentary\"],[\"Crip Camp: A Disability Revolution\",\"Documentary\"],[\"Jim & Andy: The Great Beyond - Featuring a Very Special, Contractually Obligated Mention of Tony Cliffton \",\"Documentary\"],[\"Justin Timberlake + The Tennessee Kids\",\"Concert Film\"],[\"Road to Roma\",\"Making-of\"],[\"Roma\",\"Drama\"],[\"If Anything Happens I Love You\",\"Animation / Short\"],[\"The Irishman\",\"Crime drama\"],[\"The Trial of the Chicago 7\",\"Drama\"],[\"A Secret Love\",\"Documentary\"],[\"Icarus\",\"Documentary\"],[\"Marriage Story\",\"Drama\"],[\"The Ivory Game\",\"Documentary\"],[\"Struggle: The Life and Lost Art of Szukaiski\",\"Documentary\"],[\"Chasing Coral \",\"Documentary\"],[\"My Octopus Teacher\",\"Documentary\"],[\"Rising Phoenix\",\"Documentary\"],[\"13th\",\"Documentary\"],[\"Disclosure: Trans Lives on Screen\",\"Documentary\"],[\"Klaus\",\"Animation/Christmas/Comedy/Adventure\"],[\"Seaspiracy\",\"Documentary\"],[\"The Three Deaths of Marisela Escobedo\",\"Documentary\"],[\"Cuba and the Cameraman \",\"Documentary\"],[\"Dancing with the Birds\",\"Documentary\"],[\"Ben Platt: Live from Radio City Music Hall\",\"Concert Film\"],[\"Taylor Swift: Reputation Stadium Tour\",\"Concert Film\"],[\"Winter on Fire: Ukraine's Fight for Freedom\",\"Documentary\"],[\"Springsteen on Broadway\",\"One-man show\"],[\"Emicida: AmarElo - It's All For Yesterday\",\"Documentary\"],[\"David Attenborough: A Life on Our Planet\",\"Documentary\"]],\"hovertemplate\":\"IMDB Score=%{x}<br>Title=%{customdata[0]}<br>Genre=%{customdata[1]}<extra></extra>\",\"legendgroup\":\"\",\"marker\":{\"color\":\"#636efa\"},\"name\":\"\",\"notched\":false,\"offsetgroup\":\"\",\"orientation\":\"h\",\"showlegend\":false,\"type\":\"box\",\"x\":[2.5,2.6,2.6,3.2,3.4,3.5,3.7,3.7,3.9,4.1,4.1,4.1,4.1,4.2,4.2,4.3,4.3,4.3,4.3,4.4,4.4,4.4,4.4,4.4,4.4,4.5,4.5,4.5,4.5,4.6,4.6,4.6,4.6,4.6,4.6,4.6,4.6,4.7,4.7,4.7,4.7,4.7,4.7,4.8,4.8,4.8,4.8,4.8,4.8,4.8,4.9,4.9,4.9,4.9,5.0,5.0,5.0,5.0,5.0,5.1,5.1,5.1,5.1,5.1,5.1,5.2,5.2,5.2,5.2,5.2,5.2,5.2,5.2,5.2,5.2,5.2,5.2,5.2,5.2,5.2,5.2,5.2,5.2,5.2,5.3,5.3,5.3,5.3,5.3,5.3,5.3,5.3,5.3,5.3,5.4,5.4,5.4,5.4,5.4,5.4,5.4,5.4,5.4,5.4,5.4,5.4,5.4,5.5,5.5,5.5,5.5,5.5,5.5,5.5,5.5,5.5,5.5,5.5,5.5,5.5,5.5,5.5,5.5,5.5,5.5,5.5,5.6,5.6,5.6,5.6,5.6,5.6,5.6,5.6,5.6,5.6,5.6,5.6,5.6,5.6,5.6,5.7,5.7,5.7,5.7,5.7,5.7,5.7,5.7,5.7,5.7,5.7,5.7,5.7,5.7,5.7,5.7,5.7,5.7,5.7,5.7,5.8,5.8,5.8,5.8,5.8,5.8,5.8,5.8,5.8,5.8,5.8,5.8,5.8,5.8,5.8,5.8,5.8,5.8,5.8,5.8,5.8,5.8,5.8,5.8,5.8,5.8,5.8,5.8,5.8,5.8,5.9,5.9,5.9,5.9,5.9,5.9,5.9,5.9,5.9,5.9,5.9,5.9,5.9,5.9,5.9,5.9,6.0,6.0,6.0,6.0,6.0,6.0,6.0,6.0,6.0,6.0,6.0,6.0,6.0,6.1,6.1,6.1,6.1,6.1,6.1,6.1,6.1,6.1,6.1,6.1,6.1,6.1,6.1,6.1,6.1,6.1,6.1,6.1,6.1,6.1,6.1,6.1,6.1,6.2,6.2,6.2,6.2,6.2,6.2,6.2,6.2,6.2,6.2,6.2,6.2,6.2,6.2,6.2,6.2,6.2,6.2,6.3,6.3,6.3,6.3,6.3,6.3,6.3,6.3,6.3,6.3,6.3,6.3,6.3,6.3,6.3,6.3,6.3,6.3,6.3,6.3,6.3,6.3,6.3,6.3,6.3,6.3,6.3,6.3,6.3,6.3,6.4,6.4,6.4,6.4,6.4,6.4,6.4,6.4,6.4,6.4,6.4,6.4,6.4,6.4,6.4,6.4,6.4,6.4,6.4,6.4,6.4,6.4,6.4,6.4,6.4,6.4,6.4,6.4,6.5,6.5,6.5,6.5,6.5,6.5,6.5,6.5,6.5,6.5,6.5,6.5,6.5,6.5,6.5,6.5,6.5,6.5,6.5,6.5,6.5,6.5,6.5,6.5,6.5,6.5,6.6,6.6,6.6,6.6,6.6,6.6,6.6,6.6,6.6,6.6,6.6,6.6,6.6,6.6,6.6,6.6,6.6,6.6,6.7,6.7,6.7,6.7,6.7,6.7,6.7,6.7,6.7,6.7,6.7,6.7,6.7,6.7,6.7,6.7,6.7,6.7,6.7,6.7,6.7,6.7,6.7,6.7,6.7,6.8,6.8,6.8,6.8,6.8,6.8,6.8,6.8,6.8,6.8,6.8,6.8,6.8,6.8,6.8,6.8,6.8,6.8,6.8,6.8,6.8,6.8,6.8,6.8,6.9,6.9,6.9,6.9,6.9,6.9,6.9,6.9,6.9,6.9,6.9,6.9,6.9,6.9,6.9,6.9,6.9,6.9,6.9,7.0,7.0,7.0,7.0,7.0,7.0,7.0,7.0,7.0,7.0,7.0,7.0,7.0,7.0,7.0,7.0,7.0,7.0,7.0,7.1,7.1,7.1,7.1,7.1,7.1,7.1,7.1,7.1,7.1,7.1,7.1,7.1,7.1,7.1,7.1,7.1,7.1,7.1,7.1,7.1,7.1,7.1,7.1,7.1,7.1,7.1,7.1,7.2,7.2,7.2,7.2,7.2,7.2,7.2,7.2,7.2,7.2,7.2,7.2,7.2,7.2,7.2,7.2,7.2,7.2,7.2,7.2,7.3,7.3,7.3,7.3,7.3,7.3,7.3,7.3,7.3,7.3,7.3,7.3,7.3,7.3,7.3,7.3,7.3,7.3,7.3,7.3,7.3,7.4,7.4,7.4,7.4,7.4,7.4,7.4,7.4,7.4,7.4,7.4,7.4,7.5,7.5,7.5,7.5,7.5,7.5,7.5,7.5,7.5,7.5,7.6,7.6,7.6,7.6,7.6,7.6,7.6,7.6,7.6,7.6,7.7,7.7,7.7,7.7,7.7,7.7,7.7,7.7,7.8,7.8,7.8,7.9,7.9,7.9,7.9,8.0,8.1,8.1,8.1,8.2,8.2,8.2,8.2,8.2,8.3,8.3,8.4,8.4,8.4,8.5,8.6,9.0],\"x0\":\" \",\"xaxis\":\"x\",\"y0\":\" \",\"yaxis\":\"y\"}],                        {\"boxmode\":\"group\",\"legend\":{\"tracegroupgap\":0},\"margin\":{\"t\":60},\"template\":{\"data\":{\"bar\":[{\"error_x\":{\"color\":\"#2a3f5f\"},\"error_y\":{\"color\":\"#2a3f5f\"},\"marker\":{\"line\":{\"color\":\"#E5ECF6\",\"width\":0.5},\"pattern\":{\"fillmode\":\"overlay\",\"size\":10,\"solidity\":0.2}},\"type\":\"bar\"}],\"barpolar\":[{\"marker\":{\"line\":{\"color\":\"#E5ECF6\",\"width\":0.5},\"pattern\":{\"fillmode\":\"overlay\",\"size\":10,\"solidity\":0.2}},\"type\":\"barpolar\"}],\"carpet\":[{\"aaxis\":{\"endlinecolor\":\"#2a3f5f\",\"gridcolor\":\"white\",\"linecolor\":\"white\",\"minorgridcolor\":\"white\",\"startlinecolor\":\"#2a3f5f\"},\"baxis\":{\"endlinecolor\":\"#2a3f5f\",\"gridcolor\":\"white\",\"linecolor\":\"white\",\"minorgridcolor\":\"white\",\"startlinecolor\":\"#2a3f5f\"},\"type\":\"carpet\"}],\"choropleth\":[{\"colorbar\":{\"outlinewidth\":0,\"ticks\":\"\"},\"type\":\"choropleth\"}],\"contour\":[{\"colorbar\":{\"outlinewidth\":0,\"ticks\":\"\"},\"colorscale\":[[0.0,\"#0d0887\"],[0.1111111111111111,\"#46039f\"],[0.2222222222222222,\"#7201a8\"],[0.3333333333333333,\"#9c179e\"],[0.4444444444444444,\"#bd3786\"],[0.5555555555555556,\"#d8576b\"],[0.6666666666666666,\"#ed7953\"],[0.7777777777777778,\"#fb9f3a\"],[0.8888888888888888,\"#fdca26\"],[1.0,\"#f0f921\"]],\"type\":\"contour\"}],\"contourcarpet\":[{\"colorbar\":{\"outlinewidth\":0,\"ticks\":\"\"},\"type\":\"contourcarpet\"}],\"heatmap\":[{\"colorbar\":{\"outlinewidth\":0,\"ticks\":\"\"},\"colorscale\":[[0.0,\"#0d0887\"],[0.1111111111111111,\"#46039f\"],[0.2222222222222222,\"#7201a8\"],[0.3333333333333333,\"#9c179e\"],[0.4444444444444444,\"#bd3786\"],[0.5555555555555556,\"#d8576b\"],[0.6666666666666666,\"#ed7953\"],[0.7777777777777778,\"#fb9f3a\"],[0.8888888888888888,\"#fdca26\"],[1.0,\"#f0f921\"]],\"type\":\"heatmap\"}],\"heatmapgl\":[{\"colorbar\":{\"outlinewidth\":0,\"ticks\":\"\"},\"colorscale\":[[0.0,\"#0d0887\"],[0.1111111111111111,\"#46039f\"],[0.2222222222222222,\"#7201a8\"],[0.3333333333333333,\"#9c179e\"],[0.4444444444444444,\"#bd3786\"],[0.5555555555555556,\"#d8576b\"],[0.6666666666666666,\"#ed7953\"],[0.7777777777777778,\"#fb9f3a\"],[0.8888888888888888,\"#fdca26\"],[1.0,\"#f0f921\"]],\"type\":\"heatmapgl\"}],\"histogram\":[{\"marker\":{\"pattern\":{\"fillmode\":\"overlay\",\"size\":10,\"solidity\":0.2}},\"type\":\"histogram\"}],\"histogram2d\":[{\"colorbar\":{\"outlinewidth\":0,\"ticks\":\"\"},\"colorscale\":[[0.0,\"#0d0887\"],[0.1111111111111111,\"#46039f\"],[0.2222222222222222,\"#7201a8\"],[0.3333333333333333,\"#9c179e\"],[0.4444444444444444,\"#bd3786\"],[0.5555555555555556,\"#d8576b\"],[0.6666666666666666,\"#ed7953\"],[0.7777777777777778,\"#fb9f3a\"],[0.8888888888888888,\"#fdca26\"],[1.0,\"#f0f921\"]],\"type\":\"histogram2d\"}],\"histogram2dcontour\":[{\"colorbar\":{\"outlinewidth\":0,\"ticks\":\"\"},\"colorscale\":[[0.0,\"#0d0887\"],[0.1111111111111111,\"#46039f\"],[0.2222222222222222,\"#7201a8\"],[0.3333333333333333,\"#9c179e\"],[0.4444444444444444,\"#bd3786\"],[0.5555555555555556,\"#d8576b\"],[0.6666666666666666,\"#ed7953\"],[0.7777777777777778,\"#fb9f3a\"],[0.8888888888888888,\"#fdca26\"],[1.0,\"#f0f921\"]],\"type\":\"histogram2dcontour\"}],\"mesh3d\":[{\"colorbar\":{\"outlinewidth\":0,\"ticks\":\"\"},\"type\":\"mesh3d\"}],\"parcoords\":[{\"line\":{\"colorbar\":{\"outlinewidth\":0,\"ticks\":\"\"}},\"type\":\"parcoords\"}],\"pie\":[{\"automargin\":true,\"type\":\"pie\"}],\"scatter\":[{\"marker\":{\"colorbar\":{\"outlinewidth\":0,\"ticks\":\"\"}},\"type\":\"scatter\"}],\"scatter3d\":[{\"line\":{\"colorbar\":{\"outlinewidth\":0,\"ticks\":\"\"}},\"marker\":{\"colorbar\":{\"outlinewidth\":0,\"ticks\":\"\"}},\"type\":\"scatter3d\"}],\"scattercarpet\":[{\"marker\":{\"colorbar\":{\"outlinewidth\":0,\"ticks\":\"\"}},\"type\":\"scattercarpet\"}],\"scattergeo\":[{\"marker\":{\"colorbar\":{\"outlinewidth\":0,\"ticks\":\"\"}},\"type\":\"scattergeo\"}],\"scattergl\":[{\"marker\":{\"colorbar\":{\"outlinewidth\":0,\"ticks\":\"\"}},\"type\":\"scattergl\"}],\"scattermapbox\":[{\"marker\":{\"colorbar\":{\"outlinewidth\":0,\"ticks\":\"\"}},\"type\":\"scattermapbox\"}],\"scatterpolar\":[{\"marker\":{\"colorbar\":{\"outlinewidth\":0,\"ticks\":\"\"}},\"type\":\"scatterpolar\"}],\"scatterpolargl\":[{\"marker\":{\"colorbar\":{\"outlinewidth\":0,\"ticks\":\"\"}},\"type\":\"scatterpolargl\"}],\"scatterternary\":[{\"marker\":{\"colorbar\":{\"outlinewidth\":0,\"ticks\":\"\"}},\"type\":\"scatterternary\"}],\"surface\":[{\"colorbar\":{\"outlinewidth\":0,\"ticks\":\"\"},\"colorscale\":[[0.0,\"#0d0887\"],[0.1111111111111111,\"#46039f\"],[0.2222222222222222,\"#7201a8\"],[0.3333333333333333,\"#9c179e\"],[0.4444444444444444,\"#bd3786\"],[0.5555555555555556,\"#d8576b\"],[0.6666666666666666,\"#ed7953\"],[0.7777777777777778,\"#fb9f3a\"],[0.8888888888888888,\"#fdca26\"],[1.0,\"#f0f921\"]],\"type\":\"surface\"}],\"table\":[{\"cells\":{\"fill\":{\"color\":\"#EBF0F8\"},\"line\":{\"color\":\"white\"}},\"header\":{\"fill\":{\"color\":\"#C8D4E3\"},\"line\":{\"color\":\"white\"}},\"type\":\"table\"}]},\"layout\":{\"annotationdefaults\":{\"arrowcolor\":\"#2a3f5f\",\"arrowhead\":0,\"arrowwidth\":1},\"autotypenumbers\":\"strict\",\"coloraxis\":{\"colorbar\":{\"outlinewidth\":0,\"ticks\":\"\"}},\"colorscale\":{\"diverging\":[[0,\"#8e0152\"],[0.1,\"#c51b7d\"],[0.2,\"#de77ae\"],[0.3,\"#f1b6da\"],[0.4,\"#fde0ef\"],[0.5,\"#f7f7f7\"],[0.6,\"#e6f5d0\"],[0.7,\"#b8e186\"],[0.8,\"#7fbc41\"],[0.9,\"#4d9221\"],[1,\"#276419\"]],\"sequential\":[[0.0,\"#0d0887\"],[0.1111111111111111,\"#46039f\"],[0.2222222222222222,\"#7201a8\"],[0.3333333333333333,\"#9c179e\"],[0.4444444444444444,\"#bd3786\"],[0.5555555555555556,\"#d8576b\"],[0.6666666666666666,\"#ed7953\"],[0.7777777777777778,\"#fb9f3a\"],[0.8888888888888888,\"#fdca26\"],[1.0,\"#f0f921\"]],\"sequentialminus\":[[0.0,\"#0d0887\"],[0.1111111111111111,\"#46039f\"],[0.2222222222222222,\"#7201a8\"],[0.3333333333333333,\"#9c179e\"],[0.4444444444444444,\"#bd3786\"],[0.5555555555555556,\"#d8576b\"],[0.6666666666666666,\"#ed7953\"],[0.7777777777777778,\"#fb9f3a\"],[0.8888888888888888,\"#fdca26\"],[1.0,\"#f0f921\"]]},\"colorway\":[\"#636efa\",\"#EF553B\",\"#00cc96\",\"#ab63fa\",\"#FFA15A\",\"#19d3f3\",\"#FF6692\",\"#B6E880\",\"#FF97FF\",\"#FECB52\"],\"font\":{\"color\":\"#2a3f5f\"},\"geo\":{\"bgcolor\":\"white\",\"lakecolor\":\"white\",\"landcolor\":\"#E5ECF6\",\"showlakes\":true,\"showland\":true,\"subunitcolor\":\"white\"},\"hoverlabel\":{\"align\":\"left\"},\"hovermode\":\"closest\",\"mapbox\":{\"style\":\"light\"},\"paper_bgcolor\":\"white\",\"plot_bgcolor\":\"#E5ECF6\",\"polar\":{\"angularaxis\":{\"gridcolor\":\"white\",\"linecolor\":\"white\",\"ticks\":\"\"},\"bgcolor\":\"#E5ECF6\",\"radialaxis\":{\"gridcolor\":\"white\",\"linecolor\":\"white\",\"ticks\":\"\"}},\"scene\":{\"xaxis\":{\"backgroundcolor\":\"#E5ECF6\",\"gridcolor\":\"white\",\"gridwidth\":2,\"linecolor\":\"white\",\"showbackground\":true,\"ticks\":\"\",\"zerolinecolor\":\"white\"},\"yaxis\":{\"backgroundcolor\":\"#E5ECF6\",\"gridcolor\":\"white\",\"gridwidth\":2,\"linecolor\":\"white\",\"showbackground\":true,\"ticks\":\"\",\"zerolinecolor\":\"white\"},\"zaxis\":{\"backgroundcolor\":\"#E5ECF6\",\"gridcolor\":\"white\",\"gridwidth\":2,\"linecolor\":\"white\",\"showbackground\":true,\"ticks\":\"\",\"zerolinecolor\":\"white\"}},\"shapedefaults\":{\"line\":{\"color\":\"#2a3f5f\"}},\"ternary\":{\"aaxis\":{\"gridcolor\":\"white\",\"linecolor\":\"white\",\"ticks\":\"\"},\"baxis\":{\"gridcolor\":\"white\",\"linecolor\":\"white\",\"ticks\":\"\"},\"bgcolor\":\"#E5ECF6\",\"caxis\":{\"gridcolor\":\"white\",\"linecolor\":\"white\",\"ticks\":\"\"}},\"title\":{\"x\":0.05},\"xaxis\":{\"automargin\":true,\"gridcolor\":\"white\",\"linecolor\":\"white\",\"ticks\":\"\",\"title\":{\"standoff\":15},\"zerolinecolor\":\"white\",\"zerolinewidth\":2},\"yaxis\":{\"automargin\":true,\"gridcolor\":\"white\",\"linecolor\":\"white\",\"ticks\":\"\",\"title\":{\"standoff\":15},\"zerolinecolor\":\"white\",\"zerolinewidth\":2}}},\"xaxis\":{\"anchor\":\"y\",\"domain\":[0.0,1.0],\"title\":{\"text\":\"IMDB Score\"}},\"yaxis\":{\"anchor\":\"x\",\"domain\":[0.0,1.0]}},                        {\"responsive\": true}                    ).then(function(){\n                            \nvar gd = document.getElementById('f5dc965e-8510-43b6-ab1f-66e54fcc4c33');\nvar x = new MutationObserver(function (mutations, observer) {{\n        var display = window.getComputedStyle(gd).display;\n        if (!display || display === 'none') {{\n            console.log([gd, 'removed!']);\n            Plotly.purge(gd);\n            observer.disconnect();\n        }}\n}});\n\n// Listen for the removal of the full notebook cells\nvar notebookContainer = gd.closest('#notebook-container');\nif (notebookContainer) {{\n    x.observe(notebookContainer, {childList: true});\n}}\n\n// Listen for the clearing of the current output cell\nvar outputEl = gd.closest('.output');\nif (outputEl) {{\n    x.observe(outputEl, {childList: true});\n}}\n\n                        })                };                            </script>        </div>\n</body>\n</html>"
     },
     "metadata": {},
     "output_type": "display_data"
    }
   ],
   "execution_count": 27
  },
  {
   "cell_type": "markdown",
   "source": "- Enter the Anime fue la calificacion mas baja con 2.5\n- David Attenborough es un cocumental que obtuvo la cantidad maxima de puntacion de 9.\n- Confirmamos que existen varios valores que estan sesgado a la izquierda.\n- Los documentales es el genero que tiene la calificacion mas alta y la mas baja.\n",
   "metadata": {
    "tags": [],
    "cell_id": "00038-e7a17397-f51f-45dc-ab52-0fe9d6c7fae5",
    "deepnote_cell_type": "markdown"
   }
  },
  {
   "cell_type": "code",
   "source": "df[['IMDB Score','Runtime']].corr()",
   "metadata": {
    "tags": [],
    "cell_id": "00038-8453a451-d8d0-4756-a83b-6f5ba89184eb",
    "deepnote_to_be_reexecuted": false,
    "source_hash": "eff7a229",
    "execution_start": 1627959198175,
    "execution_millis": 22,
    "deepnote_cell_type": "code"
   },
   "outputs": [
    {
     "output_type": "execute_result",
     "execution_count": 32,
     "data": {
      "application/vnd.deepnote.dataframe.v2+json": {
       "row_count": 2,
       "column_count": 2,
       "columns": [
        {
         "name": "IMDB Score",
         "dtype": "float64",
         "stats": {
          "unique_count": 2,
          "nan_count": 0,
          "min": "-0.04089629142078905",
          "max": "1.0",
          "histogram": [
           {
            "bin_start": -0.04089629142078905,
            "bin_end": 0.06319333772128985,
            "count": 1
           },
           {
            "bin_start": 0.06319333772128985,
            "bin_end": 0.16728296686336877,
            "count": 0
           },
           {
            "bin_start": 0.16728296686336877,
            "bin_end": 0.27137259600544766,
            "count": 0
           },
           {
            "bin_start": 0.27137259600544766,
            "bin_end": 0.3754622251475266,
            "count": 0
           },
           {
            "bin_start": 0.3754622251475266,
            "bin_end": 0.4795518542896055,
            "count": 0
           },
           {
            "bin_start": 0.4795518542896055,
            "bin_end": 0.5836414834316843,
            "count": 0
           },
           {
            "bin_start": 0.5836414834316843,
            "bin_end": 0.6877311125737633,
            "count": 0
           },
           {
            "bin_start": 0.6877311125737633,
            "bin_end": 0.7918207417158422,
            "count": 0
           },
           {
            "bin_start": 0.7918207417158422,
            "bin_end": 0.895910370857921,
            "count": 0
           },
           {
            "bin_start": 0.895910370857921,
            "bin_end": 1,
            "count": 1
           }
          ]
         }
        },
        {
         "name": "Runtime",
         "dtype": "float64",
         "stats": {
          "unique_count": 2,
          "nan_count": 0,
          "min": "-0.04089629142078905",
          "max": "1.0",
          "histogram": [
           {
            "bin_start": -0.04089629142078905,
            "bin_end": 0.06319333772128985,
            "count": 1
           },
           {
            "bin_start": 0.06319333772128985,
            "bin_end": 0.16728296686336877,
            "count": 0
           },
           {
            "bin_start": 0.16728296686336877,
            "bin_end": 0.27137259600544766,
            "count": 0
           },
           {
            "bin_start": 0.27137259600544766,
            "bin_end": 0.3754622251475266,
            "count": 0
           },
           {
            "bin_start": 0.3754622251475266,
            "bin_end": 0.4795518542896055,
            "count": 0
           },
           {
            "bin_start": 0.4795518542896055,
            "bin_end": 0.5836414834316843,
            "count": 0
           },
           {
            "bin_start": 0.5836414834316843,
            "bin_end": 0.6877311125737633,
            "count": 0
           },
           {
            "bin_start": 0.6877311125737633,
            "bin_end": 0.7918207417158422,
            "count": 0
           },
           {
            "bin_start": 0.7918207417158422,
            "bin_end": 0.895910370857921,
            "count": 0
           },
           {
            "bin_start": 0.895910370857921,
            "bin_end": 1,
            "count": 1
           }
          ]
         }
        },
        {
         "name": "_deepnote_index_column",
         "dtype": "object"
        }
       ],
       "rows_top": [
        {
         "IMDB Score": 1,
         "Runtime": -0.04089629142078905,
         "_deepnote_index_column": "IMDB Score"
        },
        {
         "IMDB Score": -0.04089629142078905,
         "Runtime": 1,
         "_deepnote_index_column": "Runtime"
        }
       ],
       "rows_bottom": null
      },
      "text/plain": "            IMDB Score   Runtime\nIMDB Score    1.000000 -0.040896\nRuntime      -0.040896  1.000000",
      "text/html": "<div>\n<style scoped>\n    .dataframe tbody tr th:only-of-type {\n        vertical-align: middle;\n    }\n\n    .dataframe tbody tr th {\n        vertical-align: top;\n    }\n\n    .dataframe thead th {\n        text-align: right;\n    }\n</style>\n<table border=\"1\" class=\"dataframe\">\n  <thead>\n    <tr style=\"text-align: right;\">\n      <th></th>\n      <th>IMDB Score</th>\n      <th>Runtime</th>\n    </tr>\n  </thead>\n  <tbody>\n    <tr>\n      <th>IMDB Score</th>\n      <td>1.000000</td>\n      <td>-0.040896</td>\n    </tr>\n    <tr>\n      <th>Runtime</th>\n      <td>-0.040896</td>\n      <td>1.000000</td>\n    </tr>\n  </tbody>\n</table>\n</div>"
     },
     "metadata": {}
    }
   ],
   "execution_count": 32
  },
  {
   "cell_type": "code",
   "source": "fig = px.scatter(df, x='IMDB Score', y='Runtime')\nfig.show()",
   "metadata": {
    "tags": [],
    "cell_id": "00040-f8c1155e-99a4-4c15-bd48-141fd0db0074",
    "deepnote_to_be_reexecuted": false,
    "source_hash": "a4080e89",
    "execution_start": 1627959315455,
    "execution_millis": 44,
    "deepnote_cell_type": "code"
   },
   "outputs": [
    {
     "data": {
      "text/html": "<html>\n<head><meta charset=\"utf-8\" /></head>\n<body>\n    <div>            <script src=\"https://cdnjs.cloudflare.com/ajax/libs/mathjax/2.7.5/MathJax.js?config=TeX-AMS-MML_SVG\"></script><script type=\"text/javascript\">if (window.MathJax) {MathJax.Hub.Config({SVG: {font: \"STIX-Web\"}});}</script>                <script type=\"text/javascript\">window.PlotlyConfig = {MathJaxConfig: 'local'};</script>\n        <script src=\"https://cdn.plot.ly/plotly-2.2.0.min.js\"></script>                <div id=\"c6404a4f-d35e-44c8-a7c5-7946526433f2\" class=\"plotly-graph-div\" style=\"height:525px; width:100%;\"></div>            <script type=\"text/javascript\">                                    window.PLOTLYENV=window.PLOTLYENV || {};                                    if (document.getElementById(\"c6404a4f-d35e-44c8-a7c5-7946526433f2\")) {                    Plotly.newPlot(                        \"c6404a4f-d35e-44c8-a7c5-7946526433f2\",                        [{\"hovertemplate\":\"IMDB Score=%{x}<br>Runtime=%{y}<extra></extra>\",\"legendgroup\":\"\",\"marker\":{\"color\":\"#636efa\",\"symbol\":\"circle\"},\"mode\":\"markers\",\"name\":\"\",\"orientation\":\"v\",\"showlegend\":false,\"type\":\"scatter\",\"x\":[2.5,2.6,2.6,3.2,3.4,3.5,3.7,3.7,3.9,4.1,4.1,4.1,4.1,4.2,4.2,4.3,4.3,4.3,4.3,4.4,4.4,4.4,4.4,4.4,4.4,4.5,4.5,4.5,4.5,4.6,4.6,4.6,4.6,4.6,4.6,4.6,4.6,4.7,4.7,4.7,4.7,4.7,4.7,4.8,4.8,4.8,4.8,4.8,4.8,4.8,4.9,4.9,4.9,4.9,5.0,5.0,5.0,5.0,5.0,5.1,5.1,5.1,5.1,5.1,5.1,5.2,5.2,5.2,5.2,5.2,5.2,5.2,5.2,5.2,5.2,5.2,5.2,5.2,5.2,5.2,5.2,5.2,5.2,5.2,5.3,5.3,5.3,5.3,5.3,5.3,5.3,5.3,5.3,5.3,5.4,5.4,5.4,5.4,5.4,5.4,5.4,5.4,5.4,5.4,5.4,5.4,5.4,5.5,5.5,5.5,5.5,5.5,5.5,5.5,5.5,5.5,5.5,5.5,5.5,5.5,5.5,5.5,5.5,5.5,5.5,5.5,5.6,5.6,5.6,5.6,5.6,5.6,5.6,5.6,5.6,5.6,5.6,5.6,5.6,5.6,5.6,5.7,5.7,5.7,5.7,5.7,5.7,5.7,5.7,5.7,5.7,5.7,5.7,5.7,5.7,5.7,5.7,5.7,5.7,5.7,5.7,5.8,5.8,5.8,5.8,5.8,5.8,5.8,5.8,5.8,5.8,5.8,5.8,5.8,5.8,5.8,5.8,5.8,5.8,5.8,5.8,5.8,5.8,5.8,5.8,5.8,5.8,5.8,5.8,5.8,5.8,5.9,5.9,5.9,5.9,5.9,5.9,5.9,5.9,5.9,5.9,5.9,5.9,5.9,5.9,5.9,5.9,6.0,6.0,6.0,6.0,6.0,6.0,6.0,6.0,6.0,6.0,6.0,6.0,6.0,6.1,6.1,6.1,6.1,6.1,6.1,6.1,6.1,6.1,6.1,6.1,6.1,6.1,6.1,6.1,6.1,6.1,6.1,6.1,6.1,6.1,6.1,6.1,6.1,6.2,6.2,6.2,6.2,6.2,6.2,6.2,6.2,6.2,6.2,6.2,6.2,6.2,6.2,6.2,6.2,6.2,6.2,6.3,6.3,6.3,6.3,6.3,6.3,6.3,6.3,6.3,6.3,6.3,6.3,6.3,6.3,6.3,6.3,6.3,6.3,6.3,6.3,6.3,6.3,6.3,6.3,6.3,6.3,6.3,6.3,6.3,6.3,6.4,6.4,6.4,6.4,6.4,6.4,6.4,6.4,6.4,6.4,6.4,6.4,6.4,6.4,6.4,6.4,6.4,6.4,6.4,6.4,6.4,6.4,6.4,6.4,6.4,6.4,6.4,6.4,6.5,6.5,6.5,6.5,6.5,6.5,6.5,6.5,6.5,6.5,6.5,6.5,6.5,6.5,6.5,6.5,6.5,6.5,6.5,6.5,6.5,6.5,6.5,6.5,6.5,6.5,6.6,6.6,6.6,6.6,6.6,6.6,6.6,6.6,6.6,6.6,6.6,6.6,6.6,6.6,6.6,6.6,6.6,6.6,6.7,6.7,6.7,6.7,6.7,6.7,6.7,6.7,6.7,6.7,6.7,6.7,6.7,6.7,6.7,6.7,6.7,6.7,6.7,6.7,6.7,6.7,6.7,6.7,6.7,6.8,6.8,6.8,6.8,6.8,6.8,6.8,6.8,6.8,6.8,6.8,6.8,6.8,6.8,6.8,6.8,6.8,6.8,6.8,6.8,6.8,6.8,6.8,6.8,6.9,6.9,6.9,6.9,6.9,6.9,6.9,6.9,6.9,6.9,6.9,6.9,6.9,6.9,6.9,6.9,6.9,6.9,6.9,7.0,7.0,7.0,7.0,7.0,7.0,7.0,7.0,7.0,7.0,7.0,7.0,7.0,7.0,7.0,7.0,7.0,7.0,7.0,7.1,7.1,7.1,7.1,7.1,7.1,7.1,7.1,7.1,7.1,7.1,7.1,7.1,7.1,7.1,7.1,7.1,7.1,7.1,7.1,7.1,7.1,7.1,7.1,7.1,7.1,7.1,7.1,7.2,7.2,7.2,7.2,7.2,7.2,7.2,7.2,7.2,7.2,7.2,7.2,7.2,7.2,7.2,7.2,7.2,7.2,7.2,7.2,7.3,7.3,7.3,7.3,7.3,7.3,7.3,7.3,7.3,7.3,7.3,7.3,7.3,7.3,7.3,7.3,7.3,7.3,7.3,7.3,7.3,7.4,7.4,7.4,7.4,7.4,7.4,7.4,7.4,7.4,7.4,7.4,7.4,7.5,7.5,7.5,7.5,7.5,7.5,7.5,7.5,7.5,7.5,7.6,7.6,7.6,7.6,7.6,7.6,7.6,7.6,7.6,7.6,7.7,7.7,7.7,7.7,7.7,7.7,7.7,7.7,7.8,7.8,7.8,7.9,7.9,7.9,7.9,8.0,8.1,8.1,8.1,8.2,8.2,8.2,8.2,8.2,8.3,8.3,8.4,8.4,8.4,8.5,8.6,9.0],\"xaxis\":\"x\",\"y\":[58,81,79,94,90,147,112,149,73,139,58,112,97,101,90,25,144,115,102,100,64,97,99,120,105,89,97,107,99,95,37,89,83,46,85,88,86,105,95,80,4,93,100,106,97,106,103,80,101,119,80,89,94,93,96,113,86,100,102,86,104,88,97,105,90,99,10,106,98,94,112,117,70,81,103,94,98,131,87,60,112,102,99,116,92,83,97,112,116,102,121,95,93,92,98,85,78,120,92,101,119,101,112,96,114,97,101,56,100,94,94,21,104,63,100,126,106,86,142,108,102,92,83,94,92,103,89,95,103,97,125,91,90,49,98,107,118,94,103,86,83,97,99,104,102,89,98,125,89,94,94,85,34,86,91,108,95,100,90,112,86,124,107,92,121,90,104,92,114,98,95,78,107,92,95,96,118,105,94,52,105,95,100,97,89,102,96,131,89,93,111,75,120,96,148,94,107,32,104,23,111,83,53,95,132,98,108,106,104,90,106,90,97,113,123,115,105,101,102,122,128,82,102,80,94,123,104,85,84,103,95,100,89,116,118,96,114,99,87,92,90,95,96,93,42,92,106,151,101,114,90,115,92,72,139,98,92,111,98,104,95,88,102,30,99,129,87,117,104,111,107,97,98,90,101,72,83,118,44,113,86,108,85,102,151,98,87,120,134,109,85,103,94,97,88,37,112,102,100,96,113,16,119,97,81,98,95,96,107,41,87,101,97,103,90,125,116,99,82,97,28,108,93,74,60,9,21,100,155,55,123,103,93,119,40,120,98,104,91,95,101,105,83,91,83,17,86,124,94,102,118,79,134,126,98,89,58,83,136,98,114,99,130,32,104,142,92,86,106,95,91,89,117,90,117,80,87,101,19,106,54,111,132,97,106,111,124,116,112,144,76,101,92,19,39,102,89,105,101,70,96,85,39,79,73,114,121,28,95,122,23,107,98,108,92,100,97,7,96,100,132,103,121,114,57,95,83,17,105,131,30,112,86,100,14,109,28,64,94,31,99,108,48,84,70,27,45,117,104,108,121,36,30,47,110,92,80,49,73,40,96,106,97,94,78,81,87,91,91,95,126,31,58,41,138,112,114,125,99,82,98,136,97,107,92,39,133,89,124,99,101,97,124,129,121,140,13,108,11,118,121,24,100,101,105,96,47,121,100,149,64,64,114,15,79,90,132,105,97,83,110,39,40,85,26,87,97,118,23,40,98,80,108,79,74,90,137,71,98,70,99,40,104,149,124,144,85,100,94,125,84,117,15,136,76,108,94,90,72,135,12,209,130,82,120,136,112,105,89,85,106,100,107,97,89,109,114,51,85,125,91,153,89,83],\"yaxis\":\"y\"}],                        {\"legend\":{\"tracegroupgap\":0},\"margin\":{\"t\":60},\"template\":{\"data\":{\"bar\":[{\"error_x\":{\"color\":\"#2a3f5f\"},\"error_y\":{\"color\":\"#2a3f5f\"},\"marker\":{\"line\":{\"color\":\"#E5ECF6\",\"width\":0.5},\"pattern\":{\"fillmode\":\"overlay\",\"size\":10,\"solidity\":0.2}},\"type\":\"bar\"}],\"barpolar\":[{\"marker\":{\"line\":{\"color\":\"#E5ECF6\",\"width\":0.5},\"pattern\":{\"fillmode\":\"overlay\",\"size\":10,\"solidity\":0.2}},\"type\":\"barpolar\"}],\"carpet\":[{\"aaxis\":{\"endlinecolor\":\"#2a3f5f\",\"gridcolor\":\"white\",\"linecolor\":\"white\",\"minorgridcolor\":\"white\",\"startlinecolor\":\"#2a3f5f\"},\"baxis\":{\"endlinecolor\":\"#2a3f5f\",\"gridcolor\":\"white\",\"linecolor\":\"white\",\"minorgridcolor\":\"white\",\"startlinecolor\":\"#2a3f5f\"},\"type\":\"carpet\"}],\"choropleth\":[{\"colorbar\":{\"outlinewidth\":0,\"ticks\":\"\"},\"type\":\"choropleth\"}],\"contour\":[{\"colorbar\":{\"outlinewidth\":0,\"ticks\":\"\"},\"colorscale\":[[0.0,\"#0d0887\"],[0.1111111111111111,\"#46039f\"],[0.2222222222222222,\"#7201a8\"],[0.3333333333333333,\"#9c179e\"],[0.4444444444444444,\"#bd3786\"],[0.5555555555555556,\"#d8576b\"],[0.6666666666666666,\"#ed7953\"],[0.7777777777777778,\"#fb9f3a\"],[0.8888888888888888,\"#fdca26\"],[1.0,\"#f0f921\"]],\"type\":\"contour\"}],\"contourcarpet\":[{\"colorbar\":{\"outlinewidth\":0,\"ticks\":\"\"},\"type\":\"contourcarpet\"}],\"heatmap\":[{\"colorbar\":{\"outlinewidth\":0,\"ticks\":\"\"},\"colorscale\":[[0.0,\"#0d0887\"],[0.1111111111111111,\"#46039f\"],[0.2222222222222222,\"#7201a8\"],[0.3333333333333333,\"#9c179e\"],[0.4444444444444444,\"#bd3786\"],[0.5555555555555556,\"#d8576b\"],[0.6666666666666666,\"#ed7953\"],[0.7777777777777778,\"#fb9f3a\"],[0.8888888888888888,\"#fdca26\"],[1.0,\"#f0f921\"]],\"type\":\"heatmap\"}],\"heatmapgl\":[{\"colorbar\":{\"outlinewidth\":0,\"ticks\":\"\"},\"colorscale\":[[0.0,\"#0d0887\"],[0.1111111111111111,\"#46039f\"],[0.2222222222222222,\"#7201a8\"],[0.3333333333333333,\"#9c179e\"],[0.4444444444444444,\"#bd3786\"],[0.5555555555555556,\"#d8576b\"],[0.6666666666666666,\"#ed7953\"],[0.7777777777777778,\"#fb9f3a\"],[0.8888888888888888,\"#fdca26\"],[1.0,\"#f0f921\"]],\"type\":\"heatmapgl\"}],\"histogram\":[{\"marker\":{\"pattern\":{\"fillmode\":\"overlay\",\"size\":10,\"solidity\":0.2}},\"type\":\"histogram\"}],\"histogram2d\":[{\"colorbar\":{\"outlinewidth\":0,\"ticks\":\"\"},\"colorscale\":[[0.0,\"#0d0887\"],[0.1111111111111111,\"#46039f\"],[0.2222222222222222,\"#7201a8\"],[0.3333333333333333,\"#9c179e\"],[0.4444444444444444,\"#bd3786\"],[0.5555555555555556,\"#d8576b\"],[0.6666666666666666,\"#ed7953\"],[0.7777777777777778,\"#fb9f3a\"],[0.8888888888888888,\"#fdca26\"],[1.0,\"#f0f921\"]],\"type\":\"histogram2d\"}],\"histogram2dcontour\":[{\"colorbar\":{\"outlinewidth\":0,\"ticks\":\"\"},\"colorscale\":[[0.0,\"#0d0887\"],[0.1111111111111111,\"#46039f\"],[0.2222222222222222,\"#7201a8\"],[0.3333333333333333,\"#9c179e\"],[0.4444444444444444,\"#bd3786\"],[0.5555555555555556,\"#d8576b\"],[0.6666666666666666,\"#ed7953\"],[0.7777777777777778,\"#fb9f3a\"],[0.8888888888888888,\"#fdca26\"],[1.0,\"#f0f921\"]],\"type\":\"histogram2dcontour\"}],\"mesh3d\":[{\"colorbar\":{\"outlinewidth\":0,\"ticks\":\"\"},\"type\":\"mesh3d\"}],\"parcoords\":[{\"line\":{\"colorbar\":{\"outlinewidth\":0,\"ticks\":\"\"}},\"type\":\"parcoords\"}],\"pie\":[{\"automargin\":true,\"type\":\"pie\"}],\"scatter\":[{\"marker\":{\"colorbar\":{\"outlinewidth\":0,\"ticks\":\"\"}},\"type\":\"scatter\"}],\"scatter3d\":[{\"line\":{\"colorbar\":{\"outlinewidth\":0,\"ticks\":\"\"}},\"marker\":{\"colorbar\":{\"outlinewidth\":0,\"ticks\":\"\"}},\"type\":\"scatter3d\"}],\"scattercarpet\":[{\"marker\":{\"colorbar\":{\"outlinewidth\":0,\"ticks\":\"\"}},\"type\":\"scattercarpet\"}],\"scattergeo\":[{\"marker\":{\"colorbar\":{\"outlinewidth\":0,\"ticks\":\"\"}},\"type\":\"scattergeo\"}],\"scattergl\":[{\"marker\":{\"colorbar\":{\"outlinewidth\":0,\"ticks\":\"\"}},\"type\":\"scattergl\"}],\"scattermapbox\":[{\"marker\":{\"colorbar\":{\"outlinewidth\":0,\"ticks\":\"\"}},\"type\":\"scattermapbox\"}],\"scatterpolar\":[{\"marker\":{\"colorbar\":{\"outlinewidth\":0,\"ticks\":\"\"}},\"type\":\"scatterpolar\"}],\"scatterpolargl\":[{\"marker\":{\"colorbar\":{\"outlinewidth\":0,\"ticks\":\"\"}},\"type\":\"scatterpolargl\"}],\"scatterternary\":[{\"marker\":{\"colorbar\":{\"outlinewidth\":0,\"ticks\":\"\"}},\"type\":\"scatterternary\"}],\"surface\":[{\"colorbar\":{\"outlinewidth\":0,\"ticks\":\"\"},\"colorscale\":[[0.0,\"#0d0887\"],[0.1111111111111111,\"#46039f\"],[0.2222222222222222,\"#7201a8\"],[0.3333333333333333,\"#9c179e\"],[0.4444444444444444,\"#bd3786\"],[0.5555555555555556,\"#d8576b\"],[0.6666666666666666,\"#ed7953\"],[0.7777777777777778,\"#fb9f3a\"],[0.8888888888888888,\"#fdca26\"],[1.0,\"#f0f921\"]],\"type\":\"surface\"}],\"table\":[{\"cells\":{\"fill\":{\"color\":\"#EBF0F8\"},\"line\":{\"color\":\"white\"}},\"header\":{\"fill\":{\"color\":\"#C8D4E3\"},\"line\":{\"color\":\"white\"}},\"type\":\"table\"}]},\"layout\":{\"annotationdefaults\":{\"arrowcolor\":\"#2a3f5f\",\"arrowhead\":0,\"arrowwidth\":1},\"autotypenumbers\":\"strict\",\"coloraxis\":{\"colorbar\":{\"outlinewidth\":0,\"ticks\":\"\"}},\"colorscale\":{\"diverging\":[[0,\"#8e0152\"],[0.1,\"#c51b7d\"],[0.2,\"#de77ae\"],[0.3,\"#f1b6da\"],[0.4,\"#fde0ef\"],[0.5,\"#f7f7f7\"],[0.6,\"#e6f5d0\"],[0.7,\"#b8e186\"],[0.8,\"#7fbc41\"],[0.9,\"#4d9221\"],[1,\"#276419\"]],\"sequential\":[[0.0,\"#0d0887\"],[0.1111111111111111,\"#46039f\"],[0.2222222222222222,\"#7201a8\"],[0.3333333333333333,\"#9c179e\"],[0.4444444444444444,\"#bd3786\"],[0.5555555555555556,\"#d8576b\"],[0.6666666666666666,\"#ed7953\"],[0.7777777777777778,\"#fb9f3a\"],[0.8888888888888888,\"#fdca26\"],[1.0,\"#f0f921\"]],\"sequentialminus\":[[0.0,\"#0d0887\"],[0.1111111111111111,\"#46039f\"],[0.2222222222222222,\"#7201a8\"],[0.3333333333333333,\"#9c179e\"],[0.4444444444444444,\"#bd3786\"],[0.5555555555555556,\"#d8576b\"],[0.6666666666666666,\"#ed7953\"],[0.7777777777777778,\"#fb9f3a\"],[0.8888888888888888,\"#fdca26\"],[1.0,\"#f0f921\"]]},\"colorway\":[\"#636efa\",\"#EF553B\",\"#00cc96\",\"#ab63fa\",\"#FFA15A\",\"#19d3f3\",\"#FF6692\",\"#B6E880\",\"#FF97FF\",\"#FECB52\"],\"font\":{\"color\":\"#2a3f5f\"},\"geo\":{\"bgcolor\":\"white\",\"lakecolor\":\"white\",\"landcolor\":\"#E5ECF6\",\"showlakes\":true,\"showland\":true,\"subunitcolor\":\"white\"},\"hoverlabel\":{\"align\":\"left\"},\"hovermode\":\"closest\",\"mapbox\":{\"style\":\"light\"},\"paper_bgcolor\":\"white\",\"plot_bgcolor\":\"#E5ECF6\",\"polar\":{\"angularaxis\":{\"gridcolor\":\"white\",\"linecolor\":\"white\",\"ticks\":\"\"},\"bgcolor\":\"#E5ECF6\",\"radialaxis\":{\"gridcolor\":\"white\",\"linecolor\":\"white\",\"ticks\":\"\"}},\"scene\":{\"xaxis\":{\"backgroundcolor\":\"#E5ECF6\",\"gridcolor\":\"white\",\"gridwidth\":2,\"linecolor\":\"white\",\"showbackground\":true,\"ticks\":\"\",\"zerolinecolor\":\"white\"},\"yaxis\":{\"backgroundcolor\":\"#E5ECF6\",\"gridcolor\":\"white\",\"gridwidth\":2,\"linecolor\":\"white\",\"showbackground\":true,\"ticks\":\"\",\"zerolinecolor\":\"white\"},\"zaxis\":{\"backgroundcolor\":\"#E5ECF6\",\"gridcolor\":\"white\",\"gridwidth\":2,\"linecolor\":\"white\",\"showbackground\":true,\"ticks\":\"\",\"zerolinecolor\":\"white\"}},\"shapedefaults\":{\"line\":{\"color\":\"#2a3f5f\"}},\"ternary\":{\"aaxis\":{\"gridcolor\":\"white\",\"linecolor\":\"white\",\"ticks\":\"\"},\"baxis\":{\"gridcolor\":\"white\",\"linecolor\":\"white\",\"ticks\":\"\"},\"bgcolor\":\"#E5ECF6\",\"caxis\":{\"gridcolor\":\"white\",\"linecolor\":\"white\",\"ticks\":\"\"}},\"title\":{\"x\":0.05},\"xaxis\":{\"automargin\":true,\"gridcolor\":\"white\",\"linecolor\":\"white\",\"ticks\":\"\",\"title\":{\"standoff\":15},\"zerolinecolor\":\"white\",\"zerolinewidth\":2},\"yaxis\":{\"automargin\":true,\"gridcolor\":\"white\",\"linecolor\":\"white\",\"ticks\":\"\",\"title\":{\"standoff\":15},\"zerolinecolor\":\"white\",\"zerolinewidth\":2}}},\"xaxis\":{\"anchor\":\"y\",\"domain\":[0.0,1.0],\"title\":{\"text\":\"IMDB Score\"}},\"yaxis\":{\"anchor\":\"x\",\"domain\":[0.0,1.0],\"title\":{\"text\":\"Runtime\"}}},                        {\"responsive\": true}                    ).then(function(){\n                            \nvar gd = document.getElementById('c6404a4f-d35e-44c8-a7c5-7946526433f2');\nvar x = new MutationObserver(function (mutations, observer) {{\n        var display = window.getComputedStyle(gd).display;\n        if (!display || display === 'none') {{\n            console.log([gd, 'removed!']);\n            Plotly.purge(gd);\n            observer.disconnect();\n        }}\n}});\n\n// Listen for the removal of the full notebook cells\nvar notebookContainer = gd.closest('#notebook-container');\nif (notebookContainer) {{\n    x.observe(notebookContainer, {childList: true});\n}}\n\n// Listen for the clearing of the current output cell\nvar outputEl = gd.closest('.output');\nif (outputEl) {{\n    x.observe(outputEl, {childList: true});\n}}\n\n                        })                };                            </script>        </div>\n</body>\n</html>"
     },
     "metadata": {},
     "output_type": "display_data"
    }
   ],
   "execution_count": 36
  },
  {
   "cell_type": "markdown",
   "source": "- Se puede observar claramente que no existe una correlacion cercana entre los dos datos.",
   "metadata": {
    "tags": [],
    "cell_id": "00041-4ca643c4-941c-4c69-a508-f8f44cde8556",
    "deepnote_cell_type": "markdown"
   }
  },
  {
   "cell_type": "markdown",
   "source": "## Año",
   "metadata": {
    "tags": [],
    "cell_id": "00042-cd1c86b7-0c5a-4937-aa3a-3a71cf57b920",
    "deepnote_cell_type": "markdown"
   }
  },
  {
   "cell_type": "code",
   "source": "year = df['year'].value_counts()\nyear",
   "metadata": {
    "tags": [],
    "cell_id": "00043-1bf89e2f-5560-46ec-b03b-13e2b5da9319",
    "deepnote_to_be_reexecuted": false,
    "source_hash": "550ef2f6",
    "execution_start": 1627959891694,
    "execution_millis": 7,
    "deepnote_cell_type": "code"
   },
   "outputs": [
    {
     "output_type": "execute_result",
     "execution_count": 57,
     "data": {
      "text/plain": "2020    183\n2019    125\n2018     99\n2021     71\n2017     66\n2016     30\n2015      9\n2014      1\nName: year, dtype: int64"
     },
     "metadata": {}
    }
   ],
   "execution_count": 57
  },
  {
   "cell_type": "code",
   "source": "fig = px.bar(year,\n    x=year.index,\n    y=year.values,\n    labels={'x':'Contador de peliculas por año', 'y':'Año'}\n)\nfig.show()",
   "metadata": {
    "tags": [],
    "cell_id": "00044-a0044b87-d517-44e5-81ad-491cce85aaa6",
    "deepnote_to_be_reexecuted": false,
    "source_hash": "7ce7b672",
    "execution_start": 1627959892058,
    "execution_millis": 50,
    "deepnote_cell_type": "code"
   },
   "outputs": [
    {
     "data": {
      "text/html": "<html>\n<head><meta charset=\"utf-8\" /></head>\n<body>\n    <div>            <script src=\"https://cdnjs.cloudflare.com/ajax/libs/mathjax/2.7.5/MathJax.js?config=TeX-AMS-MML_SVG\"></script><script type=\"text/javascript\">if (window.MathJax) {MathJax.Hub.Config({SVG: {font: \"STIX-Web\"}});}</script>                <script type=\"text/javascript\">window.PlotlyConfig = {MathJaxConfig: 'local'};</script>\n        <script src=\"https://cdn.plot.ly/plotly-2.2.0.min.js\"></script>                <div id=\"34c29c38-e8a1-4b6b-b4fc-216abeef285f\" class=\"plotly-graph-div\" style=\"height:525px; width:100%;\"></div>            <script type=\"text/javascript\">                                    window.PLOTLYENV=window.PLOTLYENV || {};                                    if (document.getElementById(\"34c29c38-e8a1-4b6b-b4fc-216abeef285f\")) {                    Plotly.newPlot(                        \"34c29c38-e8a1-4b6b-b4fc-216abeef285f\",                        [{\"alignmentgroup\":\"True\",\"hovertemplate\":\"index=%{x}<br>A\\u00f1o=%{y}<extra></extra>\",\"legendgroup\":\"\",\"marker\":{\"color\":\"#636efa\",\"pattern\":{\"shape\":\"\"}},\"name\":\"\",\"offsetgroup\":\"\",\"orientation\":\"v\",\"showlegend\":false,\"textposition\":\"auto\",\"type\":\"bar\",\"x\":[2020,2019,2018,2021,2017,2016,2015,2014],\"xaxis\":\"x\",\"y\":[183,125,99,71,66,30,9,1],\"yaxis\":\"y\"}],                        {\"barmode\":\"relative\",\"legend\":{\"tracegroupgap\":0},\"margin\":{\"t\":60},\"template\":{\"data\":{\"bar\":[{\"error_x\":{\"color\":\"#2a3f5f\"},\"error_y\":{\"color\":\"#2a3f5f\"},\"marker\":{\"line\":{\"color\":\"#E5ECF6\",\"width\":0.5},\"pattern\":{\"fillmode\":\"overlay\",\"size\":10,\"solidity\":0.2}},\"type\":\"bar\"}],\"barpolar\":[{\"marker\":{\"line\":{\"color\":\"#E5ECF6\",\"width\":0.5},\"pattern\":{\"fillmode\":\"overlay\",\"size\":10,\"solidity\":0.2}},\"type\":\"barpolar\"}],\"carpet\":[{\"aaxis\":{\"endlinecolor\":\"#2a3f5f\",\"gridcolor\":\"white\",\"linecolor\":\"white\",\"minorgridcolor\":\"white\",\"startlinecolor\":\"#2a3f5f\"},\"baxis\":{\"endlinecolor\":\"#2a3f5f\",\"gridcolor\":\"white\",\"linecolor\":\"white\",\"minorgridcolor\":\"white\",\"startlinecolor\":\"#2a3f5f\"},\"type\":\"carpet\"}],\"choropleth\":[{\"colorbar\":{\"outlinewidth\":0,\"ticks\":\"\"},\"type\":\"choropleth\"}],\"contour\":[{\"colorbar\":{\"outlinewidth\":0,\"ticks\":\"\"},\"colorscale\":[[0.0,\"#0d0887\"],[0.1111111111111111,\"#46039f\"],[0.2222222222222222,\"#7201a8\"],[0.3333333333333333,\"#9c179e\"],[0.4444444444444444,\"#bd3786\"],[0.5555555555555556,\"#d8576b\"],[0.6666666666666666,\"#ed7953\"],[0.7777777777777778,\"#fb9f3a\"],[0.8888888888888888,\"#fdca26\"],[1.0,\"#f0f921\"]],\"type\":\"contour\"}],\"contourcarpet\":[{\"colorbar\":{\"outlinewidth\":0,\"ticks\":\"\"},\"type\":\"contourcarpet\"}],\"heatmap\":[{\"colorbar\":{\"outlinewidth\":0,\"ticks\":\"\"},\"colorscale\":[[0.0,\"#0d0887\"],[0.1111111111111111,\"#46039f\"],[0.2222222222222222,\"#7201a8\"],[0.3333333333333333,\"#9c179e\"],[0.4444444444444444,\"#bd3786\"],[0.5555555555555556,\"#d8576b\"],[0.6666666666666666,\"#ed7953\"],[0.7777777777777778,\"#fb9f3a\"],[0.8888888888888888,\"#fdca26\"],[1.0,\"#f0f921\"]],\"type\":\"heatmap\"}],\"heatmapgl\":[{\"colorbar\":{\"outlinewidth\":0,\"ticks\":\"\"},\"colorscale\":[[0.0,\"#0d0887\"],[0.1111111111111111,\"#46039f\"],[0.2222222222222222,\"#7201a8\"],[0.3333333333333333,\"#9c179e\"],[0.4444444444444444,\"#bd3786\"],[0.5555555555555556,\"#d8576b\"],[0.6666666666666666,\"#ed7953\"],[0.7777777777777778,\"#fb9f3a\"],[0.8888888888888888,\"#fdca26\"],[1.0,\"#f0f921\"]],\"type\":\"heatmapgl\"}],\"histogram\":[{\"marker\":{\"pattern\":{\"fillmode\":\"overlay\",\"size\":10,\"solidity\":0.2}},\"type\":\"histogram\"}],\"histogram2d\":[{\"colorbar\":{\"outlinewidth\":0,\"ticks\":\"\"},\"colorscale\":[[0.0,\"#0d0887\"],[0.1111111111111111,\"#46039f\"],[0.2222222222222222,\"#7201a8\"],[0.3333333333333333,\"#9c179e\"],[0.4444444444444444,\"#bd3786\"],[0.5555555555555556,\"#d8576b\"],[0.6666666666666666,\"#ed7953\"],[0.7777777777777778,\"#fb9f3a\"],[0.8888888888888888,\"#fdca26\"],[1.0,\"#f0f921\"]],\"type\":\"histogram2d\"}],\"histogram2dcontour\":[{\"colorbar\":{\"outlinewidth\":0,\"ticks\":\"\"},\"colorscale\":[[0.0,\"#0d0887\"],[0.1111111111111111,\"#46039f\"],[0.2222222222222222,\"#7201a8\"],[0.3333333333333333,\"#9c179e\"],[0.4444444444444444,\"#bd3786\"],[0.5555555555555556,\"#d8576b\"],[0.6666666666666666,\"#ed7953\"],[0.7777777777777778,\"#fb9f3a\"],[0.8888888888888888,\"#fdca26\"],[1.0,\"#f0f921\"]],\"type\":\"histogram2dcontour\"}],\"mesh3d\":[{\"colorbar\":{\"outlinewidth\":0,\"ticks\":\"\"},\"type\":\"mesh3d\"}],\"parcoords\":[{\"line\":{\"colorbar\":{\"outlinewidth\":0,\"ticks\":\"\"}},\"type\":\"parcoords\"}],\"pie\":[{\"automargin\":true,\"type\":\"pie\"}],\"scatter\":[{\"marker\":{\"colorbar\":{\"outlinewidth\":0,\"ticks\":\"\"}},\"type\":\"scatter\"}],\"scatter3d\":[{\"line\":{\"colorbar\":{\"outlinewidth\":0,\"ticks\":\"\"}},\"marker\":{\"colorbar\":{\"outlinewidth\":0,\"ticks\":\"\"}},\"type\":\"scatter3d\"}],\"scattercarpet\":[{\"marker\":{\"colorbar\":{\"outlinewidth\":0,\"ticks\":\"\"}},\"type\":\"scattercarpet\"}],\"scattergeo\":[{\"marker\":{\"colorbar\":{\"outlinewidth\":0,\"ticks\":\"\"}},\"type\":\"scattergeo\"}],\"scattergl\":[{\"marker\":{\"colorbar\":{\"outlinewidth\":0,\"ticks\":\"\"}},\"type\":\"scattergl\"}],\"scattermapbox\":[{\"marker\":{\"colorbar\":{\"outlinewidth\":0,\"ticks\":\"\"}},\"type\":\"scattermapbox\"}],\"scatterpolar\":[{\"marker\":{\"colorbar\":{\"outlinewidth\":0,\"ticks\":\"\"}},\"type\":\"scatterpolar\"}],\"scatterpolargl\":[{\"marker\":{\"colorbar\":{\"outlinewidth\":0,\"ticks\":\"\"}},\"type\":\"scatterpolargl\"}],\"scatterternary\":[{\"marker\":{\"colorbar\":{\"outlinewidth\":0,\"ticks\":\"\"}},\"type\":\"scatterternary\"}],\"surface\":[{\"colorbar\":{\"outlinewidth\":0,\"ticks\":\"\"},\"colorscale\":[[0.0,\"#0d0887\"],[0.1111111111111111,\"#46039f\"],[0.2222222222222222,\"#7201a8\"],[0.3333333333333333,\"#9c179e\"],[0.4444444444444444,\"#bd3786\"],[0.5555555555555556,\"#d8576b\"],[0.6666666666666666,\"#ed7953\"],[0.7777777777777778,\"#fb9f3a\"],[0.8888888888888888,\"#fdca26\"],[1.0,\"#f0f921\"]],\"type\":\"surface\"}],\"table\":[{\"cells\":{\"fill\":{\"color\":\"#EBF0F8\"},\"line\":{\"color\":\"white\"}},\"header\":{\"fill\":{\"color\":\"#C8D4E3\"},\"line\":{\"color\":\"white\"}},\"type\":\"table\"}]},\"layout\":{\"annotationdefaults\":{\"arrowcolor\":\"#2a3f5f\",\"arrowhead\":0,\"arrowwidth\":1},\"autotypenumbers\":\"strict\",\"coloraxis\":{\"colorbar\":{\"outlinewidth\":0,\"ticks\":\"\"}},\"colorscale\":{\"diverging\":[[0,\"#8e0152\"],[0.1,\"#c51b7d\"],[0.2,\"#de77ae\"],[0.3,\"#f1b6da\"],[0.4,\"#fde0ef\"],[0.5,\"#f7f7f7\"],[0.6,\"#e6f5d0\"],[0.7,\"#b8e186\"],[0.8,\"#7fbc41\"],[0.9,\"#4d9221\"],[1,\"#276419\"]],\"sequential\":[[0.0,\"#0d0887\"],[0.1111111111111111,\"#46039f\"],[0.2222222222222222,\"#7201a8\"],[0.3333333333333333,\"#9c179e\"],[0.4444444444444444,\"#bd3786\"],[0.5555555555555556,\"#d8576b\"],[0.6666666666666666,\"#ed7953\"],[0.7777777777777778,\"#fb9f3a\"],[0.8888888888888888,\"#fdca26\"],[1.0,\"#f0f921\"]],\"sequentialminus\":[[0.0,\"#0d0887\"],[0.1111111111111111,\"#46039f\"],[0.2222222222222222,\"#7201a8\"],[0.3333333333333333,\"#9c179e\"],[0.4444444444444444,\"#bd3786\"],[0.5555555555555556,\"#d8576b\"],[0.6666666666666666,\"#ed7953\"],[0.7777777777777778,\"#fb9f3a\"],[0.8888888888888888,\"#fdca26\"],[1.0,\"#f0f921\"]]},\"colorway\":[\"#636efa\",\"#EF553B\",\"#00cc96\",\"#ab63fa\",\"#FFA15A\",\"#19d3f3\",\"#FF6692\",\"#B6E880\",\"#FF97FF\",\"#FECB52\"],\"font\":{\"color\":\"#2a3f5f\"},\"geo\":{\"bgcolor\":\"white\",\"lakecolor\":\"white\",\"landcolor\":\"#E5ECF6\",\"showlakes\":true,\"showland\":true,\"subunitcolor\":\"white\"},\"hoverlabel\":{\"align\":\"left\"},\"hovermode\":\"closest\",\"mapbox\":{\"style\":\"light\"},\"paper_bgcolor\":\"white\",\"plot_bgcolor\":\"#E5ECF6\",\"polar\":{\"angularaxis\":{\"gridcolor\":\"white\",\"linecolor\":\"white\",\"ticks\":\"\"},\"bgcolor\":\"#E5ECF6\",\"radialaxis\":{\"gridcolor\":\"white\",\"linecolor\":\"white\",\"ticks\":\"\"}},\"scene\":{\"xaxis\":{\"backgroundcolor\":\"#E5ECF6\",\"gridcolor\":\"white\",\"gridwidth\":2,\"linecolor\":\"white\",\"showbackground\":true,\"ticks\":\"\",\"zerolinecolor\":\"white\"},\"yaxis\":{\"backgroundcolor\":\"#E5ECF6\",\"gridcolor\":\"white\",\"gridwidth\":2,\"linecolor\":\"white\",\"showbackground\":true,\"ticks\":\"\",\"zerolinecolor\":\"white\"},\"zaxis\":{\"backgroundcolor\":\"#E5ECF6\",\"gridcolor\":\"white\",\"gridwidth\":2,\"linecolor\":\"white\",\"showbackground\":true,\"ticks\":\"\",\"zerolinecolor\":\"white\"}},\"shapedefaults\":{\"line\":{\"color\":\"#2a3f5f\"}},\"ternary\":{\"aaxis\":{\"gridcolor\":\"white\",\"linecolor\":\"white\",\"ticks\":\"\"},\"baxis\":{\"gridcolor\":\"white\",\"linecolor\":\"white\",\"ticks\":\"\"},\"bgcolor\":\"#E5ECF6\",\"caxis\":{\"gridcolor\":\"white\",\"linecolor\":\"white\",\"ticks\":\"\"}},\"title\":{\"x\":0.05},\"xaxis\":{\"automargin\":true,\"gridcolor\":\"white\",\"linecolor\":\"white\",\"ticks\":\"\",\"title\":{\"standoff\":15},\"zerolinecolor\":\"white\",\"zerolinewidth\":2},\"yaxis\":{\"automargin\":true,\"gridcolor\":\"white\",\"linecolor\":\"white\",\"ticks\":\"\",\"title\":{\"standoff\":15},\"zerolinecolor\":\"white\",\"zerolinewidth\":2}}},\"xaxis\":{\"anchor\":\"y\",\"domain\":[0.0,1.0],\"title\":{\"text\":\"index\"}},\"yaxis\":{\"anchor\":\"x\",\"domain\":[0.0,1.0],\"title\":{\"text\":\"A\\u00f1o\"}}},                        {\"responsive\": true}                    ).then(function(){\n                            \nvar gd = document.getElementById('34c29c38-e8a1-4b6b-b4fc-216abeef285f');\nvar x = new MutationObserver(function (mutations, observer) {{\n        var display = window.getComputedStyle(gd).display;\n        if (!display || display === 'none') {{\n            console.log([gd, 'removed!']);\n            Plotly.purge(gd);\n            observer.disconnect();\n        }}\n}});\n\n// Listen for the removal of the full notebook cells\nvar notebookContainer = gd.closest('#notebook-container');\nif (notebookContainer) {{\n    x.observe(notebookContainer, {childList: true});\n}}\n\n// Listen for the clearing of the current output cell\nvar outputEl = gd.closest('.output');\nif (outputEl) {{\n    x.observe(outputEl, {childList: true});\n}}\n\n                        })                };                            </script>        </div>\n</body>\n</html>"
     },
     "metadata": {},
     "output_type": "display_data"
    }
   ],
   "execution_count": 58
  },
  {
   "cell_type": "markdown",
   "source": "- Se puede observar que Netflix tiene un crecimiento claro desde su inicio. ",
   "metadata": {
    "tags": [],
    "cell_id": "00045-1316e416-ddb8-4fec-88c1-23f2775d9044",
    "deepnote_cell_type": "markdown"
   }
  },
  {
   "cell_type": "markdown",
   "source": "## Mes",
   "metadata": {
    "tags": [],
    "cell_id": "00046-91249c3f-89eb-422d-a6dd-2d155d4b5d83",
    "deepnote_cell_type": "markdown"
   }
  },
  {
   "cell_type": "code",
   "source": "month = df[['month']].value_counts(sort=False)\nmonth",
   "metadata": {
    "tags": [],
    "cell_id": "00047-47e9894a-0218-4109-8272-818bca2b2d7f",
    "deepnote_to_be_reexecuted": false,
    "source_hash": "955bf4fc",
    "execution_start": 1627959894403,
    "execution_millis": 6,
    "deepnote_cell_type": "code"
   },
   "outputs": [
    {
     "output_type": "execute_result",
     "execution_count": 59,
     "data": {
      "text/plain": "month\n1        37\n2        39\n3        48\n4        63\n5        53\n6        35\n7        34\n8        37\n9        53\n10       77\n11       57\n12       51\ndtype: int64"
     },
     "metadata": {}
    }
   ],
   "execution_count": 59
  },
  {
   "cell_type": "code",
   "source": "months_name = ['Jan','Feb','Mar','Apr','May','Jun','Jul','Aug','Sep','Oct','Nov','Dec']\nfig = px.bar(month,\n    x=months_name,\n    y=month.values,\n    labels={'x':'Contador de peliculas por mes', 'y':'Año'}\n)\nfig.show()",
   "metadata": {
    "tags": [],
    "cell_id": "00048-1b6d92b5-4945-4340-87c6-4ccd30c54367",
    "deepnote_to_be_reexecuted": false,
    "source_hash": "f783db05",
    "execution_start": 1627959894881,
    "execution_millis": 50,
    "deepnote_cell_type": "code"
   },
   "outputs": [
    {
     "data": {
      "text/html": "<html>\n<head><meta charset=\"utf-8\" /></head>\n<body>\n    <div>            <script src=\"https://cdnjs.cloudflare.com/ajax/libs/mathjax/2.7.5/MathJax.js?config=TeX-AMS-MML_SVG\"></script><script type=\"text/javascript\">if (window.MathJax) {MathJax.Hub.Config({SVG: {font: \"STIX-Web\"}});}</script>                <script type=\"text/javascript\">window.PlotlyConfig = {MathJaxConfig: 'local'};</script>\n        <script src=\"https://cdn.plot.ly/plotly-2.2.0.min.js\"></script>                <div id=\"fbe350e7-d887-4428-ba16-bb7dd071aaf8\" class=\"plotly-graph-div\" style=\"height:525px; width:100%;\"></div>            <script type=\"text/javascript\">                                    window.PLOTLYENV=window.PLOTLYENV || {};                                    if (document.getElementById(\"fbe350e7-d887-4428-ba16-bb7dd071aaf8\")) {                    Plotly.newPlot(                        \"fbe350e7-d887-4428-ba16-bb7dd071aaf8\",                        [{\"alignmentgroup\":\"True\",\"hovertemplate\":\"Contador de peliculas por mes=%{x}<br>A\\u00f1o=%{y}<extra></extra>\",\"legendgroup\":\"\",\"marker\":{\"color\":\"#636efa\",\"pattern\":{\"shape\":\"\"}},\"name\":\"\",\"offsetgroup\":\"\",\"orientation\":\"v\",\"showlegend\":false,\"textposition\":\"auto\",\"type\":\"bar\",\"x\":[\"Jan\",\"Feb\",\"Mar\",\"Apr\",\"May\",\"Jun\",\"Jul\",\"Aug\",\"Sep\",\"Oct\",\"Nov\",\"Dec\"],\"xaxis\":\"x\",\"y\":[37,39,48,63,53,35,34,37,53,77,57,51],\"yaxis\":\"y\"}],                        {\"barmode\":\"relative\",\"legend\":{\"tracegroupgap\":0},\"margin\":{\"t\":60},\"template\":{\"data\":{\"bar\":[{\"error_x\":{\"color\":\"#2a3f5f\"},\"error_y\":{\"color\":\"#2a3f5f\"},\"marker\":{\"line\":{\"color\":\"#E5ECF6\",\"width\":0.5},\"pattern\":{\"fillmode\":\"overlay\",\"size\":10,\"solidity\":0.2}},\"type\":\"bar\"}],\"barpolar\":[{\"marker\":{\"line\":{\"color\":\"#E5ECF6\",\"width\":0.5},\"pattern\":{\"fillmode\":\"overlay\",\"size\":10,\"solidity\":0.2}},\"type\":\"barpolar\"}],\"carpet\":[{\"aaxis\":{\"endlinecolor\":\"#2a3f5f\",\"gridcolor\":\"white\",\"linecolor\":\"white\",\"minorgridcolor\":\"white\",\"startlinecolor\":\"#2a3f5f\"},\"baxis\":{\"endlinecolor\":\"#2a3f5f\",\"gridcolor\":\"white\",\"linecolor\":\"white\",\"minorgridcolor\":\"white\",\"startlinecolor\":\"#2a3f5f\"},\"type\":\"carpet\"}],\"choropleth\":[{\"colorbar\":{\"outlinewidth\":0,\"ticks\":\"\"},\"type\":\"choropleth\"}],\"contour\":[{\"colorbar\":{\"outlinewidth\":0,\"ticks\":\"\"},\"colorscale\":[[0.0,\"#0d0887\"],[0.1111111111111111,\"#46039f\"],[0.2222222222222222,\"#7201a8\"],[0.3333333333333333,\"#9c179e\"],[0.4444444444444444,\"#bd3786\"],[0.5555555555555556,\"#d8576b\"],[0.6666666666666666,\"#ed7953\"],[0.7777777777777778,\"#fb9f3a\"],[0.8888888888888888,\"#fdca26\"],[1.0,\"#f0f921\"]],\"type\":\"contour\"}],\"contourcarpet\":[{\"colorbar\":{\"outlinewidth\":0,\"ticks\":\"\"},\"type\":\"contourcarpet\"}],\"heatmap\":[{\"colorbar\":{\"outlinewidth\":0,\"ticks\":\"\"},\"colorscale\":[[0.0,\"#0d0887\"],[0.1111111111111111,\"#46039f\"],[0.2222222222222222,\"#7201a8\"],[0.3333333333333333,\"#9c179e\"],[0.4444444444444444,\"#bd3786\"],[0.5555555555555556,\"#d8576b\"],[0.6666666666666666,\"#ed7953\"],[0.7777777777777778,\"#fb9f3a\"],[0.8888888888888888,\"#fdca26\"],[1.0,\"#f0f921\"]],\"type\":\"heatmap\"}],\"heatmapgl\":[{\"colorbar\":{\"outlinewidth\":0,\"ticks\":\"\"},\"colorscale\":[[0.0,\"#0d0887\"],[0.1111111111111111,\"#46039f\"],[0.2222222222222222,\"#7201a8\"],[0.3333333333333333,\"#9c179e\"],[0.4444444444444444,\"#bd3786\"],[0.5555555555555556,\"#d8576b\"],[0.6666666666666666,\"#ed7953\"],[0.7777777777777778,\"#fb9f3a\"],[0.8888888888888888,\"#fdca26\"],[1.0,\"#f0f921\"]],\"type\":\"heatmapgl\"}],\"histogram\":[{\"marker\":{\"pattern\":{\"fillmode\":\"overlay\",\"size\":10,\"solidity\":0.2}},\"type\":\"histogram\"}],\"histogram2d\":[{\"colorbar\":{\"outlinewidth\":0,\"ticks\":\"\"},\"colorscale\":[[0.0,\"#0d0887\"],[0.1111111111111111,\"#46039f\"],[0.2222222222222222,\"#7201a8\"],[0.3333333333333333,\"#9c179e\"],[0.4444444444444444,\"#bd3786\"],[0.5555555555555556,\"#d8576b\"],[0.6666666666666666,\"#ed7953\"],[0.7777777777777778,\"#fb9f3a\"],[0.8888888888888888,\"#fdca26\"],[1.0,\"#f0f921\"]],\"type\":\"histogram2d\"}],\"histogram2dcontour\":[{\"colorbar\":{\"outlinewidth\":0,\"ticks\":\"\"},\"colorscale\":[[0.0,\"#0d0887\"],[0.1111111111111111,\"#46039f\"],[0.2222222222222222,\"#7201a8\"],[0.3333333333333333,\"#9c179e\"],[0.4444444444444444,\"#bd3786\"],[0.5555555555555556,\"#d8576b\"],[0.6666666666666666,\"#ed7953\"],[0.7777777777777778,\"#fb9f3a\"],[0.8888888888888888,\"#fdca26\"],[1.0,\"#f0f921\"]],\"type\":\"histogram2dcontour\"}],\"mesh3d\":[{\"colorbar\":{\"outlinewidth\":0,\"ticks\":\"\"},\"type\":\"mesh3d\"}],\"parcoords\":[{\"line\":{\"colorbar\":{\"outlinewidth\":0,\"ticks\":\"\"}},\"type\":\"parcoords\"}],\"pie\":[{\"automargin\":true,\"type\":\"pie\"}],\"scatter\":[{\"marker\":{\"colorbar\":{\"outlinewidth\":0,\"ticks\":\"\"}},\"type\":\"scatter\"}],\"scatter3d\":[{\"line\":{\"colorbar\":{\"outlinewidth\":0,\"ticks\":\"\"}},\"marker\":{\"colorbar\":{\"outlinewidth\":0,\"ticks\":\"\"}},\"type\":\"scatter3d\"}],\"scattercarpet\":[{\"marker\":{\"colorbar\":{\"outlinewidth\":0,\"ticks\":\"\"}},\"type\":\"scattercarpet\"}],\"scattergeo\":[{\"marker\":{\"colorbar\":{\"outlinewidth\":0,\"ticks\":\"\"}},\"type\":\"scattergeo\"}],\"scattergl\":[{\"marker\":{\"colorbar\":{\"outlinewidth\":0,\"ticks\":\"\"}},\"type\":\"scattergl\"}],\"scattermapbox\":[{\"marker\":{\"colorbar\":{\"outlinewidth\":0,\"ticks\":\"\"}},\"type\":\"scattermapbox\"}],\"scatterpolar\":[{\"marker\":{\"colorbar\":{\"outlinewidth\":0,\"ticks\":\"\"}},\"type\":\"scatterpolar\"}],\"scatterpolargl\":[{\"marker\":{\"colorbar\":{\"outlinewidth\":0,\"ticks\":\"\"}},\"type\":\"scatterpolargl\"}],\"scatterternary\":[{\"marker\":{\"colorbar\":{\"outlinewidth\":0,\"ticks\":\"\"}},\"type\":\"scatterternary\"}],\"surface\":[{\"colorbar\":{\"outlinewidth\":0,\"ticks\":\"\"},\"colorscale\":[[0.0,\"#0d0887\"],[0.1111111111111111,\"#46039f\"],[0.2222222222222222,\"#7201a8\"],[0.3333333333333333,\"#9c179e\"],[0.4444444444444444,\"#bd3786\"],[0.5555555555555556,\"#d8576b\"],[0.6666666666666666,\"#ed7953\"],[0.7777777777777778,\"#fb9f3a\"],[0.8888888888888888,\"#fdca26\"],[1.0,\"#f0f921\"]],\"type\":\"surface\"}],\"table\":[{\"cells\":{\"fill\":{\"color\":\"#EBF0F8\"},\"line\":{\"color\":\"white\"}},\"header\":{\"fill\":{\"color\":\"#C8D4E3\"},\"line\":{\"color\":\"white\"}},\"type\":\"table\"}]},\"layout\":{\"annotationdefaults\":{\"arrowcolor\":\"#2a3f5f\",\"arrowhead\":0,\"arrowwidth\":1},\"autotypenumbers\":\"strict\",\"coloraxis\":{\"colorbar\":{\"outlinewidth\":0,\"ticks\":\"\"}},\"colorscale\":{\"diverging\":[[0,\"#8e0152\"],[0.1,\"#c51b7d\"],[0.2,\"#de77ae\"],[0.3,\"#f1b6da\"],[0.4,\"#fde0ef\"],[0.5,\"#f7f7f7\"],[0.6,\"#e6f5d0\"],[0.7,\"#b8e186\"],[0.8,\"#7fbc41\"],[0.9,\"#4d9221\"],[1,\"#276419\"]],\"sequential\":[[0.0,\"#0d0887\"],[0.1111111111111111,\"#46039f\"],[0.2222222222222222,\"#7201a8\"],[0.3333333333333333,\"#9c179e\"],[0.4444444444444444,\"#bd3786\"],[0.5555555555555556,\"#d8576b\"],[0.6666666666666666,\"#ed7953\"],[0.7777777777777778,\"#fb9f3a\"],[0.8888888888888888,\"#fdca26\"],[1.0,\"#f0f921\"]],\"sequentialminus\":[[0.0,\"#0d0887\"],[0.1111111111111111,\"#46039f\"],[0.2222222222222222,\"#7201a8\"],[0.3333333333333333,\"#9c179e\"],[0.4444444444444444,\"#bd3786\"],[0.5555555555555556,\"#d8576b\"],[0.6666666666666666,\"#ed7953\"],[0.7777777777777778,\"#fb9f3a\"],[0.8888888888888888,\"#fdca26\"],[1.0,\"#f0f921\"]]},\"colorway\":[\"#636efa\",\"#EF553B\",\"#00cc96\",\"#ab63fa\",\"#FFA15A\",\"#19d3f3\",\"#FF6692\",\"#B6E880\",\"#FF97FF\",\"#FECB52\"],\"font\":{\"color\":\"#2a3f5f\"},\"geo\":{\"bgcolor\":\"white\",\"lakecolor\":\"white\",\"landcolor\":\"#E5ECF6\",\"showlakes\":true,\"showland\":true,\"subunitcolor\":\"white\"},\"hoverlabel\":{\"align\":\"left\"},\"hovermode\":\"closest\",\"mapbox\":{\"style\":\"light\"},\"paper_bgcolor\":\"white\",\"plot_bgcolor\":\"#E5ECF6\",\"polar\":{\"angularaxis\":{\"gridcolor\":\"white\",\"linecolor\":\"white\",\"ticks\":\"\"},\"bgcolor\":\"#E5ECF6\",\"radialaxis\":{\"gridcolor\":\"white\",\"linecolor\":\"white\",\"ticks\":\"\"}},\"scene\":{\"xaxis\":{\"backgroundcolor\":\"#E5ECF6\",\"gridcolor\":\"white\",\"gridwidth\":2,\"linecolor\":\"white\",\"showbackground\":true,\"ticks\":\"\",\"zerolinecolor\":\"white\"},\"yaxis\":{\"backgroundcolor\":\"#E5ECF6\",\"gridcolor\":\"white\",\"gridwidth\":2,\"linecolor\":\"white\",\"showbackground\":true,\"ticks\":\"\",\"zerolinecolor\":\"white\"},\"zaxis\":{\"backgroundcolor\":\"#E5ECF6\",\"gridcolor\":\"white\",\"gridwidth\":2,\"linecolor\":\"white\",\"showbackground\":true,\"ticks\":\"\",\"zerolinecolor\":\"white\"}},\"shapedefaults\":{\"line\":{\"color\":\"#2a3f5f\"}},\"ternary\":{\"aaxis\":{\"gridcolor\":\"white\",\"linecolor\":\"white\",\"ticks\":\"\"},\"baxis\":{\"gridcolor\":\"white\",\"linecolor\":\"white\",\"ticks\":\"\"},\"bgcolor\":\"#E5ECF6\",\"caxis\":{\"gridcolor\":\"white\",\"linecolor\":\"white\",\"ticks\":\"\"}},\"title\":{\"x\":0.05},\"xaxis\":{\"automargin\":true,\"gridcolor\":\"white\",\"linecolor\":\"white\",\"ticks\":\"\",\"title\":{\"standoff\":15},\"zerolinecolor\":\"white\",\"zerolinewidth\":2},\"yaxis\":{\"automargin\":true,\"gridcolor\":\"white\",\"linecolor\":\"white\",\"ticks\":\"\",\"title\":{\"standoff\":15},\"zerolinecolor\":\"white\",\"zerolinewidth\":2}}},\"xaxis\":{\"anchor\":\"y\",\"domain\":[0.0,1.0],\"title\":{\"text\":\"Contador de peliculas por mes\"}},\"yaxis\":{\"anchor\":\"x\",\"domain\":[0.0,1.0],\"title\":{\"text\":\"A\\u00f1o\"}}},                        {\"responsive\": true}                    ).then(function(){\n                            \nvar gd = document.getElementById('fbe350e7-d887-4428-ba16-bb7dd071aaf8');\nvar x = new MutationObserver(function (mutations, observer) {{\n        var display = window.getComputedStyle(gd).display;\n        if (!display || display === 'none') {{\n            console.log([gd, 'removed!']);\n            Plotly.purge(gd);\n            observer.disconnect();\n        }}\n}});\n\n// Listen for the removal of the full notebook cells\nvar notebookContainer = gd.closest('#notebook-container');\nif (notebookContainer) {{\n    x.observe(notebookContainer, {childList: true});\n}}\n\n// Listen for the clearing of the current output cell\nvar outputEl = gd.closest('.output');\nif (outputEl) {{\n    x.observe(outputEl, {childList: true});\n}}\n\n                        })                };                            </script>        </div>\n</body>\n</html>"
     },
     "metadata": {},
     "output_type": "display_data"
    }
   ],
   "execution_count": 60
  },
  {
   "cell_type": "markdown",
   "source": "- Abril y Octubre son los meses con mayor lanzamientos. \n- Junio a Agosto fueron los meses que no tuvieron un crecimiento en sus estrenos.",
   "metadata": {
    "tags": [],
    "cell_id": "00049-ee2e4b17-2a2f-484a-9af6-23fda09a84ba",
    "deepnote_cell_type": "markdown"
   }
  },
  {
   "cell_type": "markdown",
   "source": "## Dias",
   "metadata": {
    "tags": [],
    "cell_id": "00050-ea2c7217-2466-4500-96c6-090c7a8df190",
    "deepnote_cell_type": "markdown"
   }
  },
  {
   "cell_type": "code",
   "source": "day_of_week = df[['day_of_week']].value_counts(sort=False)\nday_of_week",
   "metadata": {
    "tags": [],
    "cell_id": "00049-9bd6a859-30d7-4043-a53c-335d4d7c3de7",
    "deepnote_to_be_reexecuted": false,
    "source_hash": "fb4aa768",
    "execution_start": 1627960038298,
    "execution_millis": 8,
    "deepnote_cell_type": "code"
   },
   "outputs": [
    {
     "output_type": "execute_result",
     "execution_count": 66,
     "data": {
      "text/plain": "day_of_week\n0               17\n1               29\n2               82\n3               59\n4              383\n5                5\n6                9\ndtype: int64"
     },
     "metadata": {}
    }
   ],
   "execution_count": 66
  },
  {
   "cell_type": "code",
   "source": "day = ['Mon','Tue','Wed','Thu','Fri','Sat','Sun']\nfig = px.bar(day_of_week,\n    x=day,\n    y=day_of_week.values,\n    labels={'x':'Contador de peliculas por Dia', 'y':'Año'}\n)\nfig.show()",
   "metadata": {
    "tags": [],
    "cell_id": "00052-edabbf75-124d-4f2c-a7cb-ddbc49dc9443",
    "deepnote_to_be_reexecuted": false,
    "source_hash": "85cef84",
    "execution_start": 1627960117026,
    "execution_millis": 17,
    "deepnote_cell_type": "code"
   },
   "outputs": [
    {
     "data": {
      "text/html": "<html>\n<head><meta charset=\"utf-8\" /></head>\n<body>\n    <div>            <script src=\"https://cdnjs.cloudflare.com/ajax/libs/mathjax/2.7.5/MathJax.js?config=TeX-AMS-MML_SVG\"></script><script type=\"text/javascript\">if (window.MathJax) {MathJax.Hub.Config({SVG: {font: \"STIX-Web\"}});}</script>                <script type=\"text/javascript\">window.PlotlyConfig = {MathJaxConfig: 'local'};</script>\n        <script src=\"https://cdn.plot.ly/plotly-2.2.0.min.js\"></script>                <div id=\"e3f5aabf-9373-4d8a-b78a-5bc949770bc7\" class=\"plotly-graph-div\" style=\"height:525px; width:100%;\"></div>            <script type=\"text/javascript\">                                    window.PLOTLYENV=window.PLOTLYENV || {};                                    if (document.getElementById(\"e3f5aabf-9373-4d8a-b78a-5bc949770bc7\")) {                    Plotly.newPlot(                        \"e3f5aabf-9373-4d8a-b78a-5bc949770bc7\",                        [{\"alignmentgroup\":\"True\",\"hovertemplate\":\"Contador de peliculas por Dia=%{x}<br>A\\u00f1o=%{y}<extra></extra>\",\"legendgroup\":\"\",\"marker\":{\"color\":\"#636efa\",\"pattern\":{\"shape\":\"\"}},\"name\":\"\",\"offsetgroup\":\"\",\"orientation\":\"v\",\"showlegend\":false,\"textposition\":\"auto\",\"type\":\"bar\",\"x\":[\"Mon\",\"Tue\",\"Wed\",\"Thu\",\"Fri\",\"Sat\",\"Sun\"],\"xaxis\":\"x\",\"y\":[17,29,82,59,383,5,9],\"yaxis\":\"y\"}],                        {\"barmode\":\"relative\",\"legend\":{\"tracegroupgap\":0},\"margin\":{\"t\":60},\"template\":{\"data\":{\"bar\":[{\"error_x\":{\"color\":\"#2a3f5f\"},\"error_y\":{\"color\":\"#2a3f5f\"},\"marker\":{\"line\":{\"color\":\"#E5ECF6\",\"width\":0.5},\"pattern\":{\"fillmode\":\"overlay\",\"size\":10,\"solidity\":0.2}},\"type\":\"bar\"}],\"barpolar\":[{\"marker\":{\"line\":{\"color\":\"#E5ECF6\",\"width\":0.5},\"pattern\":{\"fillmode\":\"overlay\",\"size\":10,\"solidity\":0.2}},\"type\":\"barpolar\"}],\"carpet\":[{\"aaxis\":{\"endlinecolor\":\"#2a3f5f\",\"gridcolor\":\"white\",\"linecolor\":\"white\",\"minorgridcolor\":\"white\",\"startlinecolor\":\"#2a3f5f\"},\"baxis\":{\"endlinecolor\":\"#2a3f5f\",\"gridcolor\":\"white\",\"linecolor\":\"white\",\"minorgridcolor\":\"white\",\"startlinecolor\":\"#2a3f5f\"},\"type\":\"carpet\"}],\"choropleth\":[{\"colorbar\":{\"outlinewidth\":0,\"ticks\":\"\"},\"type\":\"choropleth\"}],\"contour\":[{\"colorbar\":{\"outlinewidth\":0,\"ticks\":\"\"},\"colorscale\":[[0.0,\"#0d0887\"],[0.1111111111111111,\"#46039f\"],[0.2222222222222222,\"#7201a8\"],[0.3333333333333333,\"#9c179e\"],[0.4444444444444444,\"#bd3786\"],[0.5555555555555556,\"#d8576b\"],[0.6666666666666666,\"#ed7953\"],[0.7777777777777778,\"#fb9f3a\"],[0.8888888888888888,\"#fdca26\"],[1.0,\"#f0f921\"]],\"type\":\"contour\"}],\"contourcarpet\":[{\"colorbar\":{\"outlinewidth\":0,\"ticks\":\"\"},\"type\":\"contourcarpet\"}],\"heatmap\":[{\"colorbar\":{\"outlinewidth\":0,\"ticks\":\"\"},\"colorscale\":[[0.0,\"#0d0887\"],[0.1111111111111111,\"#46039f\"],[0.2222222222222222,\"#7201a8\"],[0.3333333333333333,\"#9c179e\"],[0.4444444444444444,\"#bd3786\"],[0.5555555555555556,\"#d8576b\"],[0.6666666666666666,\"#ed7953\"],[0.7777777777777778,\"#fb9f3a\"],[0.8888888888888888,\"#fdca26\"],[1.0,\"#f0f921\"]],\"type\":\"heatmap\"}],\"heatmapgl\":[{\"colorbar\":{\"outlinewidth\":0,\"ticks\":\"\"},\"colorscale\":[[0.0,\"#0d0887\"],[0.1111111111111111,\"#46039f\"],[0.2222222222222222,\"#7201a8\"],[0.3333333333333333,\"#9c179e\"],[0.4444444444444444,\"#bd3786\"],[0.5555555555555556,\"#d8576b\"],[0.6666666666666666,\"#ed7953\"],[0.7777777777777778,\"#fb9f3a\"],[0.8888888888888888,\"#fdca26\"],[1.0,\"#f0f921\"]],\"type\":\"heatmapgl\"}],\"histogram\":[{\"marker\":{\"pattern\":{\"fillmode\":\"overlay\",\"size\":10,\"solidity\":0.2}},\"type\":\"histogram\"}],\"histogram2d\":[{\"colorbar\":{\"outlinewidth\":0,\"ticks\":\"\"},\"colorscale\":[[0.0,\"#0d0887\"],[0.1111111111111111,\"#46039f\"],[0.2222222222222222,\"#7201a8\"],[0.3333333333333333,\"#9c179e\"],[0.4444444444444444,\"#bd3786\"],[0.5555555555555556,\"#d8576b\"],[0.6666666666666666,\"#ed7953\"],[0.7777777777777778,\"#fb9f3a\"],[0.8888888888888888,\"#fdca26\"],[1.0,\"#f0f921\"]],\"type\":\"histogram2d\"}],\"histogram2dcontour\":[{\"colorbar\":{\"outlinewidth\":0,\"ticks\":\"\"},\"colorscale\":[[0.0,\"#0d0887\"],[0.1111111111111111,\"#46039f\"],[0.2222222222222222,\"#7201a8\"],[0.3333333333333333,\"#9c179e\"],[0.4444444444444444,\"#bd3786\"],[0.5555555555555556,\"#d8576b\"],[0.6666666666666666,\"#ed7953\"],[0.7777777777777778,\"#fb9f3a\"],[0.8888888888888888,\"#fdca26\"],[1.0,\"#f0f921\"]],\"type\":\"histogram2dcontour\"}],\"mesh3d\":[{\"colorbar\":{\"outlinewidth\":0,\"ticks\":\"\"},\"type\":\"mesh3d\"}],\"parcoords\":[{\"line\":{\"colorbar\":{\"outlinewidth\":0,\"ticks\":\"\"}},\"type\":\"parcoords\"}],\"pie\":[{\"automargin\":true,\"type\":\"pie\"}],\"scatter\":[{\"marker\":{\"colorbar\":{\"outlinewidth\":0,\"ticks\":\"\"}},\"type\":\"scatter\"}],\"scatter3d\":[{\"line\":{\"colorbar\":{\"outlinewidth\":0,\"ticks\":\"\"}},\"marker\":{\"colorbar\":{\"outlinewidth\":0,\"ticks\":\"\"}},\"type\":\"scatter3d\"}],\"scattercarpet\":[{\"marker\":{\"colorbar\":{\"outlinewidth\":0,\"ticks\":\"\"}},\"type\":\"scattercarpet\"}],\"scattergeo\":[{\"marker\":{\"colorbar\":{\"outlinewidth\":0,\"ticks\":\"\"}},\"type\":\"scattergeo\"}],\"scattergl\":[{\"marker\":{\"colorbar\":{\"outlinewidth\":0,\"ticks\":\"\"}},\"type\":\"scattergl\"}],\"scattermapbox\":[{\"marker\":{\"colorbar\":{\"outlinewidth\":0,\"ticks\":\"\"}},\"type\":\"scattermapbox\"}],\"scatterpolar\":[{\"marker\":{\"colorbar\":{\"outlinewidth\":0,\"ticks\":\"\"}},\"type\":\"scatterpolar\"}],\"scatterpolargl\":[{\"marker\":{\"colorbar\":{\"outlinewidth\":0,\"ticks\":\"\"}},\"type\":\"scatterpolargl\"}],\"scatterternary\":[{\"marker\":{\"colorbar\":{\"outlinewidth\":0,\"ticks\":\"\"}},\"type\":\"scatterternary\"}],\"surface\":[{\"colorbar\":{\"outlinewidth\":0,\"ticks\":\"\"},\"colorscale\":[[0.0,\"#0d0887\"],[0.1111111111111111,\"#46039f\"],[0.2222222222222222,\"#7201a8\"],[0.3333333333333333,\"#9c179e\"],[0.4444444444444444,\"#bd3786\"],[0.5555555555555556,\"#d8576b\"],[0.6666666666666666,\"#ed7953\"],[0.7777777777777778,\"#fb9f3a\"],[0.8888888888888888,\"#fdca26\"],[1.0,\"#f0f921\"]],\"type\":\"surface\"}],\"table\":[{\"cells\":{\"fill\":{\"color\":\"#EBF0F8\"},\"line\":{\"color\":\"white\"}},\"header\":{\"fill\":{\"color\":\"#C8D4E3\"},\"line\":{\"color\":\"white\"}},\"type\":\"table\"}]},\"layout\":{\"annotationdefaults\":{\"arrowcolor\":\"#2a3f5f\",\"arrowhead\":0,\"arrowwidth\":1},\"autotypenumbers\":\"strict\",\"coloraxis\":{\"colorbar\":{\"outlinewidth\":0,\"ticks\":\"\"}},\"colorscale\":{\"diverging\":[[0,\"#8e0152\"],[0.1,\"#c51b7d\"],[0.2,\"#de77ae\"],[0.3,\"#f1b6da\"],[0.4,\"#fde0ef\"],[0.5,\"#f7f7f7\"],[0.6,\"#e6f5d0\"],[0.7,\"#b8e186\"],[0.8,\"#7fbc41\"],[0.9,\"#4d9221\"],[1,\"#276419\"]],\"sequential\":[[0.0,\"#0d0887\"],[0.1111111111111111,\"#46039f\"],[0.2222222222222222,\"#7201a8\"],[0.3333333333333333,\"#9c179e\"],[0.4444444444444444,\"#bd3786\"],[0.5555555555555556,\"#d8576b\"],[0.6666666666666666,\"#ed7953\"],[0.7777777777777778,\"#fb9f3a\"],[0.8888888888888888,\"#fdca26\"],[1.0,\"#f0f921\"]],\"sequentialminus\":[[0.0,\"#0d0887\"],[0.1111111111111111,\"#46039f\"],[0.2222222222222222,\"#7201a8\"],[0.3333333333333333,\"#9c179e\"],[0.4444444444444444,\"#bd3786\"],[0.5555555555555556,\"#d8576b\"],[0.6666666666666666,\"#ed7953\"],[0.7777777777777778,\"#fb9f3a\"],[0.8888888888888888,\"#fdca26\"],[1.0,\"#f0f921\"]]},\"colorway\":[\"#636efa\",\"#EF553B\",\"#00cc96\",\"#ab63fa\",\"#FFA15A\",\"#19d3f3\",\"#FF6692\",\"#B6E880\",\"#FF97FF\",\"#FECB52\"],\"font\":{\"color\":\"#2a3f5f\"},\"geo\":{\"bgcolor\":\"white\",\"lakecolor\":\"white\",\"landcolor\":\"#E5ECF6\",\"showlakes\":true,\"showland\":true,\"subunitcolor\":\"white\"},\"hoverlabel\":{\"align\":\"left\"},\"hovermode\":\"closest\",\"mapbox\":{\"style\":\"light\"},\"paper_bgcolor\":\"white\",\"plot_bgcolor\":\"#E5ECF6\",\"polar\":{\"angularaxis\":{\"gridcolor\":\"white\",\"linecolor\":\"white\",\"ticks\":\"\"},\"bgcolor\":\"#E5ECF6\",\"radialaxis\":{\"gridcolor\":\"white\",\"linecolor\":\"white\",\"ticks\":\"\"}},\"scene\":{\"xaxis\":{\"backgroundcolor\":\"#E5ECF6\",\"gridcolor\":\"white\",\"gridwidth\":2,\"linecolor\":\"white\",\"showbackground\":true,\"ticks\":\"\",\"zerolinecolor\":\"white\"},\"yaxis\":{\"backgroundcolor\":\"#E5ECF6\",\"gridcolor\":\"white\",\"gridwidth\":2,\"linecolor\":\"white\",\"showbackground\":true,\"ticks\":\"\",\"zerolinecolor\":\"white\"},\"zaxis\":{\"backgroundcolor\":\"#E5ECF6\",\"gridcolor\":\"white\",\"gridwidth\":2,\"linecolor\":\"white\",\"showbackground\":true,\"ticks\":\"\",\"zerolinecolor\":\"white\"}},\"shapedefaults\":{\"line\":{\"color\":\"#2a3f5f\"}},\"ternary\":{\"aaxis\":{\"gridcolor\":\"white\",\"linecolor\":\"white\",\"ticks\":\"\"},\"baxis\":{\"gridcolor\":\"white\",\"linecolor\":\"white\",\"ticks\":\"\"},\"bgcolor\":\"#E5ECF6\",\"caxis\":{\"gridcolor\":\"white\",\"linecolor\":\"white\",\"ticks\":\"\"}},\"title\":{\"x\":0.05},\"xaxis\":{\"automargin\":true,\"gridcolor\":\"white\",\"linecolor\":\"white\",\"ticks\":\"\",\"title\":{\"standoff\":15},\"zerolinecolor\":\"white\",\"zerolinewidth\":2},\"yaxis\":{\"automargin\":true,\"gridcolor\":\"white\",\"linecolor\":\"white\",\"ticks\":\"\",\"title\":{\"standoff\":15},\"zerolinecolor\":\"white\",\"zerolinewidth\":2}}},\"xaxis\":{\"anchor\":\"y\",\"domain\":[0.0,1.0],\"title\":{\"text\":\"Contador de peliculas por Dia\"}},\"yaxis\":{\"anchor\":\"x\",\"domain\":[0.0,1.0],\"title\":{\"text\":\"A\\u00f1o\"}}},                        {\"responsive\": true}                    ).then(function(){\n                            \nvar gd = document.getElementById('e3f5aabf-9373-4d8a-b78a-5bc949770bc7');\nvar x = new MutationObserver(function (mutations, observer) {{\n        var display = window.getComputedStyle(gd).display;\n        if (!display || display === 'none') {{\n            console.log([gd, 'removed!']);\n            Plotly.purge(gd);\n            observer.disconnect();\n        }}\n}});\n\n// Listen for the removal of the full notebook cells\nvar notebookContainer = gd.closest('#notebook-container');\nif (notebookContainer) {{\n    x.observe(notebookContainer, {childList: true});\n}}\n\n// Listen for the clearing of the current output cell\nvar outputEl = gd.closest('.output');\nif (outputEl) {{\n    x.observe(outputEl, {childList: true});\n}}\n\n                        })                };                            </script>        </div>\n</body>\n</html>"
     },
     "metadata": {},
     "output_type": "display_data"
    }
   ],
   "execution_count": 69
  },
  {
   "cell_type": "markdown",
   "source": "- Los viernes claramente son los dias con mayor cantidad de lanzamientos.\n- Los sabados y domingos son los dias con menor cantidad de lanzamientos.",
   "metadata": {
    "tags": [],
    "cell_id": "00053-f7bbc07b-9d3a-4fdf-a108-ce52e2cb5f90",
    "deepnote_cell_type": "markdown"
   }
  },
  {
   "cell_type": "markdown",
   "source": "## Las 10 calificaciones más bajas por género",
   "metadata": {
    "tags": [],
    "cell_id": "00054-af2a8b2e-c53a-4283-abd3-699606ff4437",
    "deepnote_cell_type": "markdown"
   }
  },
  {
   "cell_type": "code",
   "source": "bottom_10_ratings_by_genre = df.groupby('Genre')['IMDB Score'].mean().sort_values()[:10]\nbottom_10_ratings_by_genre",
   "metadata": {
    "tags": [],
    "cell_id": "00054-b09141ff-7e37-4c1f-a272-2b04c2f7fd5f",
    "deepnote_to_be_reexecuted": false,
    "source_hash": "c04d9345",
    "execution_start": 1627960347934,
    "execution_millis": 14,
    "deepnote_cell_type": "code"
   },
   "outputs": [
    {
     "output_type": "execute_result",
     "execution_count": 76,
     "data": {
      "text/plain": "Genre\nHeist film/Thriller        3.700000\nMusical/Western/Fantasy    3.900000\nHorror anthology           4.300000\nPolitical thriller         4.300000\nSuperhero-Comedy           4.400000\nScience fiction/Drama      4.533333\nRomance drama              4.600000\nMystery                    4.650000\nHorror thriller            4.700000\nAnime / Short              4.700000\nName: IMDB Score, dtype: float64"
     },
     "metadata": {}
    }
   ],
   "execution_count": 76
  },
  {
   "cell_type": "code",
   "source": "fig = px.bar(bottom_10_ratings_by_genre,\n    x=bottom_10_ratings_by_genre.index,\n    y=bottom_10_ratings_by_genre.values,\n    labels={'y':'Puntaje de calificación promedio','x':'Genero'}\n)\nfig.show()",
   "metadata": {
    "tags": [],
    "cell_id": "00056-2ce7b5e1-9ce9-4ce4-b775-386640b7a1c3",
    "deepnote_to_be_reexecuted": false,
    "source_hash": "79d75d16",
    "execution_start": 1627960441910,
    "execution_millis": 55,
    "deepnote_cell_type": "code"
   },
   "outputs": [
    {
     "data": {
      "text/html": "<html>\n<head><meta charset=\"utf-8\" /></head>\n<body>\n    <div>            <script src=\"https://cdnjs.cloudflare.com/ajax/libs/mathjax/2.7.5/MathJax.js?config=TeX-AMS-MML_SVG\"></script><script type=\"text/javascript\">if (window.MathJax) {MathJax.Hub.Config({SVG: {font: \"STIX-Web\"}});}</script>                <script type=\"text/javascript\">window.PlotlyConfig = {MathJaxConfig: 'local'};</script>\n        <script src=\"https://cdn.plot.ly/plotly-2.2.0.min.js\"></script>                <div id=\"5666fdb9-298c-4505-abb0-914f566105a0\" class=\"plotly-graph-div\" style=\"height:525px; width:100%;\"></div>            <script type=\"text/javascript\">                                    window.PLOTLYENV=window.PLOTLYENV || {};                                    if (document.getElementById(\"5666fdb9-298c-4505-abb0-914f566105a0\")) {                    Plotly.newPlot(                        \"5666fdb9-298c-4505-abb0-914f566105a0\",                        [{\"alignmentgroup\":\"True\",\"hovertemplate\":\"Genre=%{x}<br>Puntaje de calificaci\\u00f3n promedio=%{y}<extra></extra>\",\"legendgroup\":\"\",\"marker\":{\"color\":\"#636efa\",\"pattern\":{\"shape\":\"\"}},\"name\":\"\",\"offsetgroup\":\"\",\"orientation\":\"v\",\"showlegend\":false,\"textposition\":\"auto\",\"type\":\"bar\",\"x\":[\"Heist film/Thriller\",\"Musical/Western/Fantasy\",\"Horror anthology\",\"Political thriller\",\"Superhero-Comedy\",\"Science fiction/Drama\",\"Romance drama\",\"Mystery\",\"Horror thriller\",\"Anime / Short\"],\"xaxis\":\"x\",\"y\":[3.7,3.9,4.3,4.3,4.4,4.533333333333334,4.6,4.65,4.7,4.7],\"yaxis\":\"y\"}],                        {\"barmode\":\"relative\",\"legend\":{\"tracegroupgap\":0},\"margin\":{\"t\":60},\"template\":{\"data\":{\"bar\":[{\"error_x\":{\"color\":\"#2a3f5f\"},\"error_y\":{\"color\":\"#2a3f5f\"},\"marker\":{\"line\":{\"color\":\"#E5ECF6\",\"width\":0.5},\"pattern\":{\"fillmode\":\"overlay\",\"size\":10,\"solidity\":0.2}},\"type\":\"bar\"}],\"barpolar\":[{\"marker\":{\"line\":{\"color\":\"#E5ECF6\",\"width\":0.5},\"pattern\":{\"fillmode\":\"overlay\",\"size\":10,\"solidity\":0.2}},\"type\":\"barpolar\"}],\"carpet\":[{\"aaxis\":{\"endlinecolor\":\"#2a3f5f\",\"gridcolor\":\"white\",\"linecolor\":\"white\",\"minorgridcolor\":\"white\",\"startlinecolor\":\"#2a3f5f\"},\"baxis\":{\"endlinecolor\":\"#2a3f5f\",\"gridcolor\":\"white\",\"linecolor\":\"white\",\"minorgridcolor\":\"white\",\"startlinecolor\":\"#2a3f5f\"},\"type\":\"carpet\"}],\"choropleth\":[{\"colorbar\":{\"outlinewidth\":0,\"ticks\":\"\"},\"type\":\"choropleth\"}],\"contour\":[{\"colorbar\":{\"outlinewidth\":0,\"ticks\":\"\"},\"colorscale\":[[0.0,\"#0d0887\"],[0.1111111111111111,\"#46039f\"],[0.2222222222222222,\"#7201a8\"],[0.3333333333333333,\"#9c179e\"],[0.4444444444444444,\"#bd3786\"],[0.5555555555555556,\"#d8576b\"],[0.6666666666666666,\"#ed7953\"],[0.7777777777777778,\"#fb9f3a\"],[0.8888888888888888,\"#fdca26\"],[1.0,\"#f0f921\"]],\"type\":\"contour\"}],\"contourcarpet\":[{\"colorbar\":{\"outlinewidth\":0,\"ticks\":\"\"},\"type\":\"contourcarpet\"}],\"heatmap\":[{\"colorbar\":{\"outlinewidth\":0,\"ticks\":\"\"},\"colorscale\":[[0.0,\"#0d0887\"],[0.1111111111111111,\"#46039f\"],[0.2222222222222222,\"#7201a8\"],[0.3333333333333333,\"#9c179e\"],[0.4444444444444444,\"#bd3786\"],[0.5555555555555556,\"#d8576b\"],[0.6666666666666666,\"#ed7953\"],[0.7777777777777778,\"#fb9f3a\"],[0.8888888888888888,\"#fdca26\"],[1.0,\"#f0f921\"]],\"type\":\"heatmap\"}],\"heatmapgl\":[{\"colorbar\":{\"outlinewidth\":0,\"ticks\":\"\"},\"colorscale\":[[0.0,\"#0d0887\"],[0.1111111111111111,\"#46039f\"],[0.2222222222222222,\"#7201a8\"],[0.3333333333333333,\"#9c179e\"],[0.4444444444444444,\"#bd3786\"],[0.5555555555555556,\"#d8576b\"],[0.6666666666666666,\"#ed7953\"],[0.7777777777777778,\"#fb9f3a\"],[0.8888888888888888,\"#fdca26\"],[1.0,\"#f0f921\"]],\"type\":\"heatmapgl\"}],\"histogram\":[{\"marker\":{\"pattern\":{\"fillmode\":\"overlay\",\"size\":10,\"solidity\":0.2}},\"type\":\"histogram\"}],\"histogram2d\":[{\"colorbar\":{\"outlinewidth\":0,\"ticks\":\"\"},\"colorscale\":[[0.0,\"#0d0887\"],[0.1111111111111111,\"#46039f\"],[0.2222222222222222,\"#7201a8\"],[0.3333333333333333,\"#9c179e\"],[0.4444444444444444,\"#bd3786\"],[0.5555555555555556,\"#d8576b\"],[0.6666666666666666,\"#ed7953\"],[0.7777777777777778,\"#fb9f3a\"],[0.8888888888888888,\"#fdca26\"],[1.0,\"#f0f921\"]],\"type\":\"histogram2d\"}],\"histogram2dcontour\":[{\"colorbar\":{\"outlinewidth\":0,\"ticks\":\"\"},\"colorscale\":[[0.0,\"#0d0887\"],[0.1111111111111111,\"#46039f\"],[0.2222222222222222,\"#7201a8\"],[0.3333333333333333,\"#9c179e\"],[0.4444444444444444,\"#bd3786\"],[0.5555555555555556,\"#d8576b\"],[0.6666666666666666,\"#ed7953\"],[0.7777777777777778,\"#fb9f3a\"],[0.8888888888888888,\"#fdca26\"],[1.0,\"#f0f921\"]],\"type\":\"histogram2dcontour\"}],\"mesh3d\":[{\"colorbar\":{\"outlinewidth\":0,\"ticks\":\"\"},\"type\":\"mesh3d\"}],\"parcoords\":[{\"line\":{\"colorbar\":{\"outlinewidth\":0,\"ticks\":\"\"}},\"type\":\"parcoords\"}],\"pie\":[{\"automargin\":true,\"type\":\"pie\"}],\"scatter\":[{\"marker\":{\"colorbar\":{\"outlinewidth\":0,\"ticks\":\"\"}},\"type\":\"scatter\"}],\"scatter3d\":[{\"line\":{\"colorbar\":{\"outlinewidth\":0,\"ticks\":\"\"}},\"marker\":{\"colorbar\":{\"outlinewidth\":0,\"ticks\":\"\"}},\"type\":\"scatter3d\"}],\"scattercarpet\":[{\"marker\":{\"colorbar\":{\"outlinewidth\":0,\"ticks\":\"\"}},\"type\":\"scattercarpet\"}],\"scattergeo\":[{\"marker\":{\"colorbar\":{\"outlinewidth\":0,\"ticks\":\"\"}},\"type\":\"scattergeo\"}],\"scattergl\":[{\"marker\":{\"colorbar\":{\"outlinewidth\":0,\"ticks\":\"\"}},\"type\":\"scattergl\"}],\"scattermapbox\":[{\"marker\":{\"colorbar\":{\"outlinewidth\":0,\"ticks\":\"\"}},\"type\":\"scattermapbox\"}],\"scatterpolar\":[{\"marker\":{\"colorbar\":{\"outlinewidth\":0,\"ticks\":\"\"}},\"type\":\"scatterpolar\"}],\"scatterpolargl\":[{\"marker\":{\"colorbar\":{\"outlinewidth\":0,\"ticks\":\"\"}},\"type\":\"scatterpolargl\"}],\"scatterternary\":[{\"marker\":{\"colorbar\":{\"outlinewidth\":0,\"ticks\":\"\"}},\"type\":\"scatterternary\"}],\"surface\":[{\"colorbar\":{\"outlinewidth\":0,\"ticks\":\"\"},\"colorscale\":[[0.0,\"#0d0887\"],[0.1111111111111111,\"#46039f\"],[0.2222222222222222,\"#7201a8\"],[0.3333333333333333,\"#9c179e\"],[0.4444444444444444,\"#bd3786\"],[0.5555555555555556,\"#d8576b\"],[0.6666666666666666,\"#ed7953\"],[0.7777777777777778,\"#fb9f3a\"],[0.8888888888888888,\"#fdca26\"],[1.0,\"#f0f921\"]],\"type\":\"surface\"}],\"table\":[{\"cells\":{\"fill\":{\"color\":\"#EBF0F8\"},\"line\":{\"color\":\"white\"}},\"header\":{\"fill\":{\"color\":\"#C8D4E3\"},\"line\":{\"color\":\"white\"}},\"type\":\"table\"}]},\"layout\":{\"annotationdefaults\":{\"arrowcolor\":\"#2a3f5f\",\"arrowhead\":0,\"arrowwidth\":1},\"autotypenumbers\":\"strict\",\"coloraxis\":{\"colorbar\":{\"outlinewidth\":0,\"ticks\":\"\"}},\"colorscale\":{\"diverging\":[[0,\"#8e0152\"],[0.1,\"#c51b7d\"],[0.2,\"#de77ae\"],[0.3,\"#f1b6da\"],[0.4,\"#fde0ef\"],[0.5,\"#f7f7f7\"],[0.6,\"#e6f5d0\"],[0.7,\"#b8e186\"],[0.8,\"#7fbc41\"],[0.9,\"#4d9221\"],[1,\"#276419\"]],\"sequential\":[[0.0,\"#0d0887\"],[0.1111111111111111,\"#46039f\"],[0.2222222222222222,\"#7201a8\"],[0.3333333333333333,\"#9c179e\"],[0.4444444444444444,\"#bd3786\"],[0.5555555555555556,\"#d8576b\"],[0.6666666666666666,\"#ed7953\"],[0.7777777777777778,\"#fb9f3a\"],[0.8888888888888888,\"#fdca26\"],[1.0,\"#f0f921\"]],\"sequentialminus\":[[0.0,\"#0d0887\"],[0.1111111111111111,\"#46039f\"],[0.2222222222222222,\"#7201a8\"],[0.3333333333333333,\"#9c179e\"],[0.4444444444444444,\"#bd3786\"],[0.5555555555555556,\"#d8576b\"],[0.6666666666666666,\"#ed7953\"],[0.7777777777777778,\"#fb9f3a\"],[0.8888888888888888,\"#fdca26\"],[1.0,\"#f0f921\"]]},\"colorway\":[\"#636efa\",\"#EF553B\",\"#00cc96\",\"#ab63fa\",\"#FFA15A\",\"#19d3f3\",\"#FF6692\",\"#B6E880\",\"#FF97FF\",\"#FECB52\"],\"font\":{\"color\":\"#2a3f5f\"},\"geo\":{\"bgcolor\":\"white\",\"lakecolor\":\"white\",\"landcolor\":\"#E5ECF6\",\"showlakes\":true,\"showland\":true,\"subunitcolor\":\"white\"},\"hoverlabel\":{\"align\":\"left\"},\"hovermode\":\"closest\",\"mapbox\":{\"style\":\"light\"},\"paper_bgcolor\":\"white\",\"plot_bgcolor\":\"#E5ECF6\",\"polar\":{\"angularaxis\":{\"gridcolor\":\"white\",\"linecolor\":\"white\",\"ticks\":\"\"},\"bgcolor\":\"#E5ECF6\",\"radialaxis\":{\"gridcolor\":\"white\",\"linecolor\":\"white\",\"ticks\":\"\"}},\"scene\":{\"xaxis\":{\"backgroundcolor\":\"#E5ECF6\",\"gridcolor\":\"white\",\"gridwidth\":2,\"linecolor\":\"white\",\"showbackground\":true,\"ticks\":\"\",\"zerolinecolor\":\"white\"},\"yaxis\":{\"backgroundcolor\":\"#E5ECF6\",\"gridcolor\":\"white\",\"gridwidth\":2,\"linecolor\":\"white\",\"showbackground\":true,\"ticks\":\"\",\"zerolinecolor\":\"white\"},\"zaxis\":{\"backgroundcolor\":\"#E5ECF6\",\"gridcolor\":\"white\",\"gridwidth\":2,\"linecolor\":\"white\",\"showbackground\":true,\"ticks\":\"\",\"zerolinecolor\":\"white\"}},\"shapedefaults\":{\"line\":{\"color\":\"#2a3f5f\"}},\"ternary\":{\"aaxis\":{\"gridcolor\":\"white\",\"linecolor\":\"white\",\"ticks\":\"\"},\"baxis\":{\"gridcolor\":\"white\",\"linecolor\":\"white\",\"ticks\":\"\"},\"bgcolor\":\"#E5ECF6\",\"caxis\":{\"gridcolor\":\"white\",\"linecolor\":\"white\",\"ticks\":\"\"}},\"title\":{\"x\":0.05},\"xaxis\":{\"automargin\":true,\"gridcolor\":\"white\",\"linecolor\":\"white\",\"ticks\":\"\",\"title\":{\"standoff\":15},\"zerolinecolor\":\"white\",\"zerolinewidth\":2},\"yaxis\":{\"automargin\":true,\"gridcolor\":\"white\",\"linecolor\":\"white\",\"ticks\":\"\",\"title\":{\"standoff\":15},\"zerolinecolor\":\"white\",\"zerolinewidth\":2}}},\"xaxis\":{\"anchor\":\"y\",\"domain\":[0.0,1.0],\"title\":{\"text\":\"Genre\"}},\"yaxis\":{\"anchor\":\"x\",\"domain\":[0.0,1.0],\"title\":{\"text\":\"Puntaje de calificaci\\u00f3n promedio\"}}},                        {\"responsive\": true}                    ).then(function(){\n                            \nvar gd = document.getElementById('5666fdb9-298c-4505-abb0-914f566105a0');\nvar x = new MutationObserver(function (mutations, observer) {{\n        var display = window.getComputedStyle(gd).display;\n        if (!display || display === 'none') {{\n            console.log([gd, 'removed!']);\n            Plotly.purge(gd);\n            observer.disconnect();\n        }}\n}});\n\n// Listen for the removal of the full notebook cells\nvar notebookContainer = gd.closest('#notebook-container');\nif (notebookContainer) {{\n    x.observe(notebookContainer, {childList: true});\n}}\n\n// Listen for the clearing of the current output cell\nvar outputEl = gd.closest('.output');\nif (outputEl) {{\n    x.observe(outputEl, {childList: true});\n}}\n\n                        })                };                            </script>        </div>\n</body>\n</html>"
     },
     "metadata": {},
     "output_type": "display_data"
    }
   ],
   "execution_count": 78
  },
  {
   "cell_type": "markdown",
   "source": "- Los generos de Thriller y Musicales son los generos con menos calificacion.\n- Los genero de Terror y Anime son los generos con mayor calificacion.",
   "metadata": {
    "tags": [],
    "cell_id": "00057-07aa845c-6816-4228-96ba-8ab190bb25d3",
    "deepnote_cell_type": "markdown"
   }
  },
  {
   "cell_type": "markdown",
   "source": "## Las 20 mejores películas con alta calificación",
   "metadata": {
    "tags": [],
    "cell_id": "00058-2d8d6af1-0542-43e8-95be-aa07cb7661e7",
    "deepnote_cell_type": "markdown"
   }
  },
  {
   "cell_type": "code",
   "source": "top_20_high_rating = df[['IMDB Score','Title','Genre','year','Language']].sort_values(['IMDB Score'], ascending=False)[:20]\ntop_20_high_rating.head(4)",
   "metadata": {
    "tags": [],
    "cell_id": "00059-cfc40398-c6fc-4a65-9b7b-9da02c59414d",
    "deepnote_to_be_reexecuted": false,
    "source_hash": "60b2b47d",
    "execution_start": 1627960811061,
    "execution_millis": 31,
    "deepnote_cell_type": "code"
   },
   "outputs": [
    {
     "output_type": "execute_result",
     "execution_count": 87,
     "data": {
      "application/vnd.deepnote.dataframe.v2+json": {
       "row_count": 4,
       "column_count": 5,
       "columns": [
        {
         "name": "IMDB Score",
         "dtype": "float64",
         "stats": {
          "unique_count": 4,
          "nan_count": 0,
          "min": "8.4",
          "max": "9.0",
          "histogram": [
           {
            "bin_start": 8.4,
            "bin_end": 8.46,
            "count": 1
           },
           {
            "bin_start": 8.46,
            "bin_end": 8.52,
            "count": 1
           },
           {
            "bin_start": 8.52,
            "bin_end": 8.58,
            "count": 0
           },
           {
            "bin_start": 8.58,
            "bin_end": 8.64,
            "count": 1
           },
           {
            "bin_start": 8.64,
            "bin_end": 8.7,
            "count": 0
           },
           {
            "bin_start": 8.7,
            "bin_end": 8.76,
            "count": 0
           },
           {
            "bin_start": 8.76,
            "bin_end": 8.82,
            "count": 0
           },
           {
            "bin_start": 8.82,
            "bin_end": 8.88,
            "count": 0
           },
           {
            "bin_start": 8.88,
            "bin_end": 8.94,
            "count": 0
           },
           {
            "bin_start": 8.94,
            "bin_end": 9,
            "count": 1
           }
          ]
         }
        },
        {
         "name": "Title",
         "dtype": "object",
         "stats": {
          "unique_count": 4,
          "nan_count": 0,
          "categories": [
           {
            "name": "David Attenborough: A Life on Our Planet",
            "count": 1
           },
           {
            "name": "Emicida: AmarElo - It's All For Yesterday",
            "count": 1
           },
           {
            "name": "2 others",
            "count": 2
           }
          ]
         }
        },
        {
         "name": "Genre",
         "dtype": "object",
         "stats": {
          "unique_count": 2,
          "nan_count": 0,
          "categories": [
           {
            "name": "Documentary",
            "count": 3
           },
           {
            "name": "One-man show",
            "count": 1
           }
          ]
         }
        },
        {
         "name": "year",
         "dtype": "int64",
         "stats": {
          "unique_count": 3,
          "nan_count": 0,
          "min": "2015",
          "max": "2020",
          "histogram": [
           {
            "bin_start": 2015,
            "bin_end": 2015.5,
            "count": 1
           },
           {
            "bin_start": 2015.5,
            "bin_end": 2016,
            "count": 0
           },
           {
            "bin_start": 2016,
            "bin_end": 2016.5,
            "count": 0
           },
           {
            "bin_start": 2016.5,
            "bin_end": 2017,
            "count": 0
           },
           {
            "bin_start": 2017,
            "bin_end": 2017.5,
            "count": 0
           },
           {
            "bin_start": 2017.5,
            "bin_end": 2018,
            "count": 0
           },
           {
            "bin_start": 2018,
            "bin_end": 2018.5,
            "count": 1
           },
           {
            "bin_start": 2018.5,
            "bin_end": 2019,
            "count": 0
           },
           {
            "bin_start": 2019,
            "bin_end": 2019.5,
            "count": 0
           },
           {
            "bin_start": 2019.5,
            "bin_end": 2020,
            "count": 2
           }
          ]
         }
        },
        {
         "name": "Language",
         "dtype": "object",
         "stats": {
          "unique_count": 3,
          "nan_count": 0,
          "categories": [
           {
            "name": "English",
            "count": 2
           },
           {
            "name": "Portuguese",
            "count": 1
           },
           {
            "name": "English/Ukranian/Russian",
            "count": 1
           }
          ]
         }
        },
        {
         "name": "_deepnote_index_column",
         "dtype": "int64"
        }
       ],
       "rows_top": [
        {
         "IMDB Score": 9,
         "Title": "David Attenborough: A Life on Our Planet",
         "Genre": "Documentary",
         "year": 2020,
         "Language": "English",
         "_deepnote_index_column": 583
        },
        {
         "IMDB Score": 8.6,
         "Title": "Emicida: AmarElo - It's All For Yesterday",
         "Genre": "Documentary",
         "year": 2020,
         "Language": "Portuguese",
         "_deepnote_index_column": 582
        },
        {
         "IMDB Score": 8.5,
         "Title": "Springsteen on Broadway",
         "Genre": "One-man show",
         "year": 2018,
         "Language": "English",
         "_deepnote_index_column": 581
        },
        {
         "IMDB Score": 8.4,
         "Title": "Winter on Fire: Ukraine's Fight for Freedom",
         "Genre": "Documentary",
         "year": 2015,
         "Language": "English/Ukranian/Russian",
         "_deepnote_index_column": 580
        }
       ],
       "rows_bottom": null
      },
      "text/plain": "     IMDB Score                                        Title         Genre  \\\n583         9.0     David Attenborough: A Life on Our Planet   Documentary   \n582         8.6    Emicida: AmarElo - It's All For Yesterday   Documentary   \n581         8.5                      Springsteen on Broadway  One-man show   \n580         8.4  Winter on Fire: Ukraine's Fight for Freedom   Documentary   \n\n     year                  Language  \n583  2020                   English  \n582  2020                Portuguese  \n581  2018                   English  \n580  2015  English/Ukranian/Russian  ",
      "text/html": "<div>\n<style scoped>\n    .dataframe tbody tr th:only-of-type {\n        vertical-align: middle;\n    }\n\n    .dataframe tbody tr th {\n        vertical-align: top;\n    }\n\n    .dataframe thead th {\n        text-align: right;\n    }\n</style>\n<table border=\"1\" class=\"dataframe\">\n  <thead>\n    <tr style=\"text-align: right;\">\n      <th></th>\n      <th>IMDB Score</th>\n      <th>Title</th>\n      <th>Genre</th>\n      <th>year</th>\n      <th>Language</th>\n    </tr>\n  </thead>\n  <tbody>\n    <tr>\n      <th>583</th>\n      <td>9.0</td>\n      <td>David Attenborough: A Life on Our Planet</td>\n      <td>Documentary</td>\n      <td>2020</td>\n      <td>English</td>\n    </tr>\n    <tr>\n      <th>582</th>\n      <td>8.6</td>\n      <td>Emicida: AmarElo - It's All For Yesterday</td>\n      <td>Documentary</td>\n      <td>2020</td>\n      <td>Portuguese</td>\n    </tr>\n    <tr>\n      <th>581</th>\n      <td>8.5</td>\n      <td>Springsteen on Broadway</td>\n      <td>One-man show</td>\n      <td>2018</td>\n      <td>English</td>\n    </tr>\n    <tr>\n      <th>580</th>\n      <td>8.4</td>\n      <td>Winter on Fire: Ukraine's Fight for Freedom</td>\n      <td>Documentary</td>\n      <td>2015</td>\n      <td>English/Ukranian/Russian</td>\n    </tr>\n  </tbody>\n</table>\n</div>"
     },
     "metadata": {}
    }
   ],
   "execution_count": 87
  },
  {
   "cell_type": "code",
   "source": "fig = px.scatter(top_20_high_rating,\n    x='IMDB Score',\n    y='Title',\n    hover_data=top_20_high_rating[['Genre','year','Language']],\n    title='Las 20 mejores películas con alta calificación',\n    color='Genre'\n)\nfig.show()",
   "metadata": {
    "tags": [],
    "cell_id": "00061-1e9b2a7c-e5b9-40bd-bbdf-208dd85ada3a",
    "deepnote_to_be_reexecuted": false,
    "source_hash": "499cdf3e",
    "execution_start": 1627960889305,
    "execution_millis": 29,
    "deepnote_cell_type": "code"
   },
   "outputs": [
    {
     "data": {
      "text/html": "<html>\n<head><meta charset=\"utf-8\" /></head>\n<body>\n    <div>            <script src=\"https://cdnjs.cloudflare.com/ajax/libs/mathjax/2.7.5/MathJax.js?config=TeX-AMS-MML_SVG\"></script><script type=\"text/javascript\">if (window.MathJax) {MathJax.Hub.Config({SVG: {font: \"STIX-Web\"}});}</script>                <script type=\"text/javascript\">window.PlotlyConfig = {MathJaxConfig: 'local'};</script>\n        <script src=\"https://cdn.plot.ly/plotly-2.2.0.min.js\"></script>                <div id=\"31302e0e-1b72-4fb1-a4a3-b76a6cf02807\" class=\"plotly-graph-div\" style=\"height:525px; width:100%;\"></div>            <script type=\"text/javascript\">                                    window.PLOTLYENV=window.PLOTLYENV || {};                                    if (document.getElementById(\"31302e0e-1b72-4fb1-a4a3-b76a6cf02807\")) {                    Plotly.newPlot(                        \"31302e0e-1b72-4fb1-a4a3-b76a6cf02807\",                        [{\"customdata\":[[\"Documentary\",2020,\"English\"],[\"Documentary\",2020,\"Portuguese\"],[\"Documentary\",2015,\"English/Ukranian/Russian\"],[\"Documentary\",2019,\"English\"],[\"Documentary\",2017,\"English\"],[\"Documentary\",2016,\"English\"],[\"Documentary\",2020,\"English\"],[\"Documentary\",2020,\"Spanish\"],[\"Documentary\",2021,\"English\"],[\"Documentary\",2020,\"English\"],[\"Documentary\",2020,\"English\"],[\"Documentary\",2017,\"English\"],[\"Documentary\",2018,\"English\"],[\"Documentary\",2017,\"English\"],[\"Documentary\",2020,\"English\"],[\"Documentary\",2016,\"English\"]],\"hovertemplate\":\"Genre=%{customdata[0]}<br>IMDB Score=%{x}<br>Title=%{y}<br>year=%{customdata[1]}<br>Language=%{customdata[2]}<extra></extra>\",\"legendgroup\":\"Documentary\",\"marker\":{\"color\":\"#636efa\",\"symbol\":\"circle\"},\"mode\":\"markers\",\"name\":\"Documentary\",\"orientation\":\"h\",\"showlegend\":true,\"type\":\"scatter\",\"x\":[9.0,8.6,8.4,8.3,8.3,8.2,8.2,8.2,8.2,8.1,8.1,8.1,8.0,7.9,7.9,7.9],\"xaxis\":\"x\",\"y\":[\"David Attenborough: A Life on Our Planet\",\"Emicida: AmarElo - It's All For Yesterday\",\"Winter on Fire: Ukraine's Fight for Freedom\",\"Dancing with the Birds\",\"Cuba and the Cameraman \",\"13th\",\"Disclosure: Trans Lives on Screen\",\"The Three Deaths of Marisela Escobedo\",\"Seaspiracy\",\"Rising Phoenix\",\"My Octopus Teacher\",\"Chasing Coral \",\"Struggle: The Life and Lost Art of Szukaiski\",\"Icarus\",\"A Secret Love\",\"The Ivory Game\"],\"yaxis\":\"y\"},{\"customdata\":[[\"One-man show\",2018,\"English\"]],\"hovertemplate\":\"Genre=%{customdata[0]}<br>IMDB Score=%{x}<br>Title=%{y}<br>year=%{customdata[1]}<br>Language=%{customdata[2]}<extra></extra>\",\"legendgroup\":\"One-man show\",\"marker\":{\"color\":\"#EF553B\",\"symbol\":\"circle\"},\"mode\":\"markers\",\"name\":\"One-man show\",\"orientation\":\"h\",\"showlegend\":true,\"type\":\"scatter\",\"x\":[8.5],\"xaxis\":\"x\",\"y\":[\"Springsteen on Broadway\"],\"yaxis\":\"y\"},{\"customdata\":[[\"Concert Film\",2018,\"English\"],[\"Concert Film\",2020,\"English\"]],\"hovertemplate\":\"Genre=%{customdata[0]}<br>IMDB Score=%{x}<br>Title=%{y}<br>year=%{customdata[1]}<br>Language=%{customdata[2]}<extra></extra>\",\"legendgroup\":\"Concert Film\",\"marker\":{\"color\":\"#00cc96\",\"symbol\":\"circle\"},\"mode\":\"markers\",\"name\":\"Concert Film\",\"orientation\":\"h\",\"showlegend\":true,\"type\":\"scatter\",\"x\":[8.4,8.4],\"xaxis\":\"x\",\"y\":[\"Taylor Swift: Reputation Stadium Tour\",\"Ben Platt: Live from Radio City Music Hall\"],\"yaxis\":\"y\"},{\"customdata\":[[\"Animation/Christmas/Comedy/Adventure\",2019,\"English\"]],\"hovertemplate\":\"Genre=%{customdata[0]}<br>IMDB Score=%{x}<br>Title=%{y}<br>year=%{customdata[1]}<br>Language=%{customdata[2]}<extra></extra>\",\"legendgroup\":\"Animation/Christmas/Comedy/Adventure\",\"marker\":{\"color\":\"#ab63fa\",\"symbol\":\"circle\"},\"mode\":\"markers\",\"name\":\"Animation/Christmas/Comedy/Adventure\",\"orientation\":\"h\",\"showlegend\":true,\"type\":\"scatter\",\"x\":[8.2],\"xaxis\":\"x\",\"y\":[\"Klaus\"],\"yaxis\":\"y\"}],                        {\"legend\":{\"title\":{\"text\":\"Genre\"},\"tracegroupgap\":0},\"template\":{\"data\":{\"bar\":[{\"error_x\":{\"color\":\"#2a3f5f\"},\"error_y\":{\"color\":\"#2a3f5f\"},\"marker\":{\"line\":{\"color\":\"#E5ECF6\",\"width\":0.5},\"pattern\":{\"fillmode\":\"overlay\",\"size\":10,\"solidity\":0.2}},\"type\":\"bar\"}],\"barpolar\":[{\"marker\":{\"line\":{\"color\":\"#E5ECF6\",\"width\":0.5},\"pattern\":{\"fillmode\":\"overlay\",\"size\":10,\"solidity\":0.2}},\"type\":\"barpolar\"}],\"carpet\":[{\"aaxis\":{\"endlinecolor\":\"#2a3f5f\",\"gridcolor\":\"white\",\"linecolor\":\"white\",\"minorgridcolor\":\"white\",\"startlinecolor\":\"#2a3f5f\"},\"baxis\":{\"endlinecolor\":\"#2a3f5f\",\"gridcolor\":\"white\",\"linecolor\":\"white\",\"minorgridcolor\":\"white\",\"startlinecolor\":\"#2a3f5f\"},\"type\":\"carpet\"}],\"choropleth\":[{\"colorbar\":{\"outlinewidth\":0,\"ticks\":\"\"},\"type\":\"choropleth\"}],\"contour\":[{\"colorbar\":{\"outlinewidth\":0,\"ticks\":\"\"},\"colorscale\":[[0.0,\"#0d0887\"],[0.1111111111111111,\"#46039f\"],[0.2222222222222222,\"#7201a8\"],[0.3333333333333333,\"#9c179e\"],[0.4444444444444444,\"#bd3786\"],[0.5555555555555556,\"#d8576b\"],[0.6666666666666666,\"#ed7953\"],[0.7777777777777778,\"#fb9f3a\"],[0.8888888888888888,\"#fdca26\"],[1.0,\"#f0f921\"]],\"type\":\"contour\"}],\"contourcarpet\":[{\"colorbar\":{\"outlinewidth\":0,\"ticks\":\"\"},\"type\":\"contourcarpet\"}],\"heatmap\":[{\"colorbar\":{\"outlinewidth\":0,\"ticks\":\"\"},\"colorscale\":[[0.0,\"#0d0887\"],[0.1111111111111111,\"#46039f\"],[0.2222222222222222,\"#7201a8\"],[0.3333333333333333,\"#9c179e\"],[0.4444444444444444,\"#bd3786\"],[0.5555555555555556,\"#d8576b\"],[0.6666666666666666,\"#ed7953\"],[0.7777777777777778,\"#fb9f3a\"],[0.8888888888888888,\"#fdca26\"],[1.0,\"#f0f921\"]],\"type\":\"heatmap\"}],\"heatmapgl\":[{\"colorbar\":{\"outlinewidth\":0,\"ticks\":\"\"},\"colorscale\":[[0.0,\"#0d0887\"],[0.1111111111111111,\"#46039f\"],[0.2222222222222222,\"#7201a8\"],[0.3333333333333333,\"#9c179e\"],[0.4444444444444444,\"#bd3786\"],[0.5555555555555556,\"#d8576b\"],[0.6666666666666666,\"#ed7953\"],[0.7777777777777778,\"#fb9f3a\"],[0.8888888888888888,\"#fdca26\"],[1.0,\"#f0f921\"]],\"type\":\"heatmapgl\"}],\"histogram\":[{\"marker\":{\"pattern\":{\"fillmode\":\"overlay\",\"size\":10,\"solidity\":0.2}},\"type\":\"histogram\"}],\"histogram2d\":[{\"colorbar\":{\"outlinewidth\":0,\"ticks\":\"\"},\"colorscale\":[[0.0,\"#0d0887\"],[0.1111111111111111,\"#46039f\"],[0.2222222222222222,\"#7201a8\"],[0.3333333333333333,\"#9c179e\"],[0.4444444444444444,\"#bd3786\"],[0.5555555555555556,\"#d8576b\"],[0.6666666666666666,\"#ed7953\"],[0.7777777777777778,\"#fb9f3a\"],[0.8888888888888888,\"#fdca26\"],[1.0,\"#f0f921\"]],\"type\":\"histogram2d\"}],\"histogram2dcontour\":[{\"colorbar\":{\"outlinewidth\":0,\"ticks\":\"\"},\"colorscale\":[[0.0,\"#0d0887\"],[0.1111111111111111,\"#46039f\"],[0.2222222222222222,\"#7201a8\"],[0.3333333333333333,\"#9c179e\"],[0.4444444444444444,\"#bd3786\"],[0.5555555555555556,\"#d8576b\"],[0.6666666666666666,\"#ed7953\"],[0.7777777777777778,\"#fb9f3a\"],[0.8888888888888888,\"#fdca26\"],[1.0,\"#f0f921\"]],\"type\":\"histogram2dcontour\"}],\"mesh3d\":[{\"colorbar\":{\"outlinewidth\":0,\"ticks\":\"\"},\"type\":\"mesh3d\"}],\"parcoords\":[{\"line\":{\"colorbar\":{\"outlinewidth\":0,\"ticks\":\"\"}},\"type\":\"parcoords\"}],\"pie\":[{\"automargin\":true,\"type\":\"pie\"}],\"scatter\":[{\"marker\":{\"colorbar\":{\"outlinewidth\":0,\"ticks\":\"\"}},\"type\":\"scatter\"}],\"scatter3d\":[{\"line\":{\"colorbar\":{\"outlinewidth\":0,\"ticks\":\"\"}},\"marker\":{\"colorbar\":{\"outlinewidth\":0,\"ticks\":\"\"}},\"type\":\"scatter3d\"}],\"scattercarpet\":[{\"marker\":{\"colorbar\":{\"outlinewidth\":0,\"ticks\":\"\"}},\"type\":\"scattercarpet\"}],\"scattergeo\":[{\"marker\":{\"colorbar\":{\"outlinewidth\":0,\"ticks\":\"\"}},\"type\":\"scattergeo\"}],\"scattergl\":[{\"marker\":{\"colorbar\":{\"outlinewidth\":0,\"ticks\":\"\"}},\"type\":\"scattergl\"}],\"scattermapbox\":[{\"marker\":{\"colorbar\":{\"outlinewidth\":0,\"ticks\":\"\"}},\"type\":\"scattermapbox\"}],\"scatterpolar\":[{\"marker\":{\"colorbar\":{\"outlinewidth\":0,\"ticks\":\"\"}},\"type\":\"scatterpolar\"}],\"scatterpolargl\":[{\"marker\":{\"colorbar\":{\"outlinewidth\":0,\"ticks\":\"\"}},\"type\":\"scatterpolargl\"}],\"scatterternary\":[{\"marker\":{\"colorbar\":{\"outlinewidth\":0,\"ticks\":\"\"}},\"type\":\"scatterternary\"}],\"surface\":[{\"colorbar\":{\"outlinewidth\":0,\"ticks\":\"\"},\"colorscale\":[[0.0,\"#0d0887\"],[0.1111111111111111,\"#46039f\"],[0.2222222222222222,\"#7201a8\"],[0.3333333333333333,\"#9c179e\"],[0.4444444444444444,\"#bd3786\"],[0.5555555555555556,\"#d8576b\"],[0.6666666666666666,\"#ed7953\"],[0.7777777777777778,\"#fb9f3a\"],[0.8888888888888888,\"#fdca26\"],[1.0,\"#f0f921\"]],\"type\":\"surface\"}],\"table\":[{\"cells\":{\"fill\":{\"color\":\"#EBF0F8\"},\"line\":{\"color\":\"white\"}},\"header\":{\"fill\":{\"color\":\"#C8D4E3\"},\"line\":{\"color\":\"white\"}},\"type\":\"table\"}]},\"layout\":{\"annotationdefaults\":{\"arrowcolor\":\"#2a3f5f\",\"arrowhead\":0,\"arrowwidth\":1},\"autotypenumbers\":\"strict\",\"coloraxis\":{\"colorbar\":{\"outlinewidth\":0,\"ticks\":\"\"}},\"colorscale\":{\"diverging\":[[0,\"#8e0152\"],[0.1,\"#c51b7d\"],[0.2,\"#de77ae\"],[0.3,\"#f1b6da\"],[0.4,\"#fde0ef\"],[0.5,\"#f7f7f7\"],[0.6,\"#e6f5d0\"],[0.7,\"#b8e186\"],[0.8,\"#7fbc41\"],[0.9,\"#4d9221\"],[1,\"#276419\"]],\"sequential\":[[0.0,\"#0d0887\"],[0.1111111111111111,\"#46039f\"],[0.2222222222222222,\"#7201a8\"],[0.3333333333333333,\"#9c179e\"],[0.4444444444444444,\"#bd3786\"],[0.5555555555555556,\"#d8576b\"],[0.6666666666666666,\"#ed7953\"],[0.7777777777777778,\"#fb9f3a\"],[0.8888888888888888,\"#fdca26\"],[1.0,\"#f0f921\"]],\"sequentialminus\":[[0.0,\"#0d0887\"],[0.1111111111111111,\"#46039f\"],[0.2222222222222222,\"#7201a8\"],[0.3333333333333333,\"#9c179e\"],[0.4444444444444444,\"#bd3786\"],[0.5555555555555556,\"#d8576b\"],[0.6666666666666666,\"#ed7953\"],[0.7777777777777778,\"#fb9f3a\"],[0.8888888888888888,\"#fdca26\"],[1.0,\"#f0f921\"]]},\"colorway\":[\"#636efa\",\"#EF553B\",\"#00cc96\",\"#ab63fa\",\"#FFA15A\",\"#19d3f3\",\"#FF6692\",\"#B6E880\",\"#FF97FF\",\"#FECB52\"],\"font\":{\"color\":\"#2a3f5f\"},\"geo\":{\"bgcolor\":\"white\",\"lakecolor\":\"white\",\"landcolor\":\"#E5ECF6\",\"showlakes\":true,\"showland\":true,\"subunitcolor\":\"white\"},\"hoverlabel\":{\"align\":\"left\"},\"hovermode\":\"closest\",\"mapbox\":{\"style\":\"light\"},\"paper_bgcolor\":\"white\",\"plot_bgcolor\":\"#E5ECF6\",\"polar\":{\"angularaxis\":{\"gridcolor\":\"white\",\"linecolor\":\"white\",\"ticks\":\"\"},\"bgcolor\":\"#E5ECF6\",\"radialaxis\":{\"gridcolor\":\"white\",\"linecolor\":\"white\",\"ticks\":\"\"}},\"scene\":{\"xaxis\":{\"backgroundcolor\":\"#E5ECF6\",\"gridcolor\":\"white\",\"gridwidth\":2,\"linecolor\":\"white\",\"showbackground\":true,\"ticks\":\"\",\"zerolinecolor\":\"white\"},\"yaxis\":{\"backgroundcolor\":\"#E5ECF6\",\"gridcolor\":\"white\",\"gridwidth\":2,\"linecolor\":\"white\",\"showbackground\":true,\"ticks\":\"\",\"zerolinecolor\":\"white\"},\"zaxis\":{\"backgroundcolor\":\"#E5ECF6\",\"gridcolor\":\"white\",\"gridwidth\":2,\"linecolor\":\"white\",\"showbackground\":true,\"ticks\":\"\",\"zerolinecolor\":\"white\"}},\"shapedefaults\":{\"line\":{\"color\":\"#2a3f5f\"}},\"ternary\":{\"aaxis\":{\"gridcolor\":\"white\",\"linecolor\":\"white\",\"ticks\":\"\"},\"baxis\":{\"gridcolor\":\"white\",\"linecolor\":\"white\",\"ticks\":\"\"},\"bgcolor\":\"#E5ECF6\",\"caxis\":{\"gridcolor\":\"white\",\"linecolor\":\"white\",\"ticks\":\"\"}},\"title\":{\"x\":0.05},\"xaxis\":{\"automargin\":true,\"gridcolor\":\"white\",\"linecolor\":\"white\",\"ticks\":\"\",\"title\":{\"standoff\":15},\"zerolinecolor\":\"white\",\"zerolinewidth\":2},\"yaxis\":{\"automargin\":true,\"gridcolor\":\"white\",\"linecolor\":\"white\",\"ticks\":\"\",\"title\":{\"standoff\":15},\"zerolinecolor\":\"white\",\"zerolinewidth\":2}}},\"title\":{\"text\":\"Las 20 mejores pel\\u00edculas de alta calificaci\\u00f3n\"},\"xaxis\":{\"anchor\":\"y\",\"domain\":[0.0,1.0],\"title\":{\"text\":\"IMDB Score\"}},\"yaxis\":{\"anchor\":\"x\",\"domain\":[0.0,1.0],\"title\":{\"text\":\"Title\"}}},                        {\"responsive\": true}                    ).then(function(){\n                            \nvar gd = document.getElementById('31302e0e-1b72-4fb1-a4a3-b76a6cf02807');\nvar x = new MutationObserver(function (mutations, observer) {{\n        var display = window.getComputedStyle(gd).display;\n        if (!display || display === 'none') {{\n            console.log([gd, 'removed!']);\n            Plotly.purge(gd);\n            observer.disconnect();\n        }}\n}});\n\n// Listen for the removal of the full notebook cells\nvar notebookContainer = gd.closest('#notebook-container');\nif (notebookContainer) {{\n    x.observe(notebookContainer, {childList: true});\n}}\n\n// Listen for the clearing of the current output cell\nvar outputEl = gd.closest('.output');\nif (outputEl) {{\n    x.observe(outputEl, {childList: true});\n}}\n\n                        })                };                            </script>        </div>\n</body>\n</html>"
     },
     "metadata": {},
     "output_type": "display_data"
    }
   ],
   "execution_count": 92
  },
  {
   "cell_type": "markdown",
   "source": "- 16 de las 20 películas mejor calificadas provienen del género documental.",
   "metadata": {
    "tags": [],
    "cell_id": "00061-edcfc02d-6c4b-4384-8bcd-f2339f05aa46",
    "deepnote_cell_type": "markdown"
   }
  },
  {
   "cell_type": "markdown",
   "source": "## 20 películas con la calificación más baja",
   "metadata": {
    "tags": [],
    "cell_id": "00062-83d4043a-1e41-4ffd-906a-702d61542d47",
    "deepnote_cell_type": "markdown"
   }
  },
  {
   "cell_type": "code",
   "source": "top_20_bottom_rating = df[['IMDB Score','Title','Genre','year','Language']].sort_values(['IMDB Score'])[:20]\ntop_20_bottom_rating.head(4)",
   "metadata": {
    "tags": [],
    "cell_id": "00062-2a7fa95b-2259-4d4b-be71-dd26cf23a8a5",
    "deepnote_to_be_reexecuted": false,
    "source_hash": "dc3e89c",
    "execution_start": 1627961098404,
    "execution_millis": 79,
    "deepnote_cell_type": "code"
   },
   "outputs": [
    {
     "output_type": "execute_result",
     "execution_count": 100,
     "data": {
      "application/vnd.deepnote.dataframe.v2+json": {
       "row_count": 4,
       "column_count": 5,
       "columns": [
        {
         "name": "IMDB Score",
         "dtype": "float64",
         "stats": {
          "unique_count": 3,
          "nan_count": 0,
          "min": "2.5",
          "max": "3.2",
          "histogram": [
           {
            "bin_start": 2.5,
            "bin_end": 2.57,
            "count": 1
           },
           {
            "bin_start": 2.57,
            "bin_end": 2.64,
            "count": 2
           },
           {
            "bin_start": 2.64,
            "bin_end": 2.71,
            "count": 0
           },
           {
            "bin_start": 2.71,
            "bin_end": 2.7800000000000002,
            "count": 0
           },
           {
            "bin_start": 2.7800000000000002,
            "bin_end": 2.85,
            "count": 0
           },
           {
            "bin_start": 2.85,
            "bin_end": 2.92,
            "count": 0
           },
           {
            "bin_start": 2.92,
            "bin_end": 2.99,
            "count": 0
           },
           {
            "bin_start": 2.99,
            "bin_end": 3.06,
            "count": 0
           },
           {
            "bin_start": 3.06,
            "bin_end": 3.1300000000000003,
            "count": 0
           },
           {
            "bin_start": 3.1300000000000003,
            "bin_end": 3.2,
            "count": 1
           }
          ]
         }
        },
        {
         "name": "Title",
         "dtype": "object",
         "stats": {
          "unique_count": 4,
          "nan_count": 0,
          "categories": [
           {
            "name": "Enter the Anime",
            "count": 1
           },
           {
            "name": "Dark Forces",
            "count": 1
           },
           {
            "name": "2 others",
            "count": 2
           }
          ]
         }
        },
        {
         "name": "Genre",
         "dtype": "object",
         "stats": {
          "unique_count": 4,
          "nan_count": 0,
          "categories": [
           {
            "name": "Documentary",
            "count": 1
           },
           {
            "name": "Thriller",
            "count": 1
           },
           {
            "name": "2 others",
            "count": 2
           }
          ]
         }
        },
        {
         "name": "year",
         "dtype": "int64",
         "stats": {
          "unique_count": 3,
          "nan_count": 0,
          "min": "2018",
          "max": "2020",
          "histogram": [
           {
            "bin_start": 2018,
            "bin_end": 2018.2,
            "count": 1
           },
           {
            "bin_start": 2018.2,
            "bin_end": 2018.4,
            "count": 0
           },
           {
            "bin_start": 2018.4,
            "bin_end": 2018.6,
            "count": 0
           },
           {
            "bin_start": 2018.6,
            "bin_end": 2018.8,
            "count": 0
           },
           {
            "bin_start": 2018.8,
            "bin_end": 2019,
            "count": 0
           },
           {
            "bin_start": 2019,
            "bin_end": 2019.2,
            "count": 2
           },
           {
            "bin_start": 2019.2,
            "bin_end": 2019.4,
            "count": 0
           },
           {
            "bin_start": 2019.4,
            "bin_end": 2019.6,
            "count": 0
           },
           {
            "bin_start": 2019.6,
            "bin_end": 2019.8,
            "count": 0
           },
           {
            "bin_start": 2019.8,
            "bin_end": 2020,
            "count": 1
           }
          ]
         }
        },
        {
         "name": "Language",
         "dtype": "object",
         "stats": {
          "unique_count": 4,
          "nan_count": 0,
          "categories": [
           {
            "name": "English/Japanese",
            "count": 1
           },
           {
            "name": "Spanish",
            "count": 1
           },
           {
            "name": "2 others",
            "count": 2
           }
          ]
         }
        },
        {
         "name": "_deepnote_index_column",
         "dtype": "int64"
        }
       ],
       "rows_top": [
        {
         "IMDB Score": 2.5,
         "Title": "Enter the Anime",
         "Genre": "Documentary",
         "year": 2019,
         "Language": "English/Japanese",
         "_deepnote_index_column": 0
        },
        {
         "IMDB Score": 2.6,
         "Title": "Dark Forces",
         "Genre": "Thriller",
         "year": 2020,
         "Language": "Spanish",
         "_deepnote_index_column": 1
        },
        {
         "IMDB Score": 2.6,
         "Title": "The App",
         "Genre": "Science fiction/Drama",
         "year": 2019,
         "Language": "Italian",
         "_deepnote_index_column": 2
        },
        {
         "IMDB Score": 3.2,
         "Title": "The Open House",
         "Genre": "Horror thriller",
         "year": 2018,
         "Language": "English",
         "_deepnote_index_column": 3
        }
       ],
       "rows_bottom": null
      },
      "text/plain": "   IMDB Score            Title                  Genre  year          Language\n0         2.5  Enter the Anime            Documentary  2019  English/Japanese\n1         2.6      Dark Forces               Thriller  2020           Spanish\n2         2.6          The App  Science fiction/Drama  2019           Italian\n3         3.2   The Open House        Horror thriller  2018           English",
      "text/html": "<div>\n<style scoped>\n    .dataframe tbody tr th:only-of-type {\n        vertical-align: middle;\n    }\n\n    .dataframe tbody tr th {\n        vertical-align: top;\n    }\n\n    .dataframe thead th {\n        text-align: right;\n    }\n</style>\n<table border=\"1\" class=\"dataframe\">\n  <thead>\n    <tr style=\"text-align: right;\">\n      <th></th>\n      <th>IMDB Score</th>\n      <th>Title</th>\n      <th>Genre</th>\n      <th>year</th>\n      <th>Language</th>\n    </tr>\n  </thead>\n  <tbody>\n    <tr>\n      <th>0</th>\n      <td>2.5</td>\n      <td>Enter the Anime</td>\n      <td>Documentary</td>\n      <td>2019</td>\n      <td>English/Japanese</td>\n    </tr>\n    <tr>\n      <th>1</th>\n      <td>2.6</td>\n      <td>Dark Forces</td>\n      <td>Thriller</td>\n      <td>2020</td>\n      <td>Spanish</td>\n    </tr>\n    <tr>\n      <th>2</th>\n      <td>2.6</td>\n      <td>The App</td>\n      <td>Science fiction/Drama</td>\n      <td>2019</td>\n      <td>Italian</td>\n    </tr>\n    <tr>\n      <th>3</th>\n      <td>3.2</td>\n      <td>The Open House</td>\n      <td>Horror thriller</td>\n      <td>2018</td>\n      <td>English</td>\n    </tr>\n  </tbody>\n</table>\n</div>"
     },
     "metadata": {}
    }
   ],
   "execution_count": 100
  },
  {
   "cell_type": "code",
   "source": "fig = px.scatter(top_20_bottom_rating,\n    x='IMDB Score',\n    y='Title',\n    hover_data=top_20_bottom_rating[['Genre','year','Language']],\n    title='Las 20 mejores películas con baja calificación',\n    color='Genre'\n)\nfig.show()",
   "metadata": {
    "tags": [],
    "cell_id": "00064-70713d10-6d24-47c3-a1b0-841ac644920e",
    "deepnote_to_be_reexecuted": false,
    "source_hash": "8db5f813",
    "execution_start": 1627961111568,
    "execution_millis": 119,
    "deepnote_cell_type": "code"
   },
   "outputs": [
    {
     "data": {
      "text/html": "<html>\n<head><meta charset=\"utf-8\" /></head>\n<body>\n    <div>            <script src=\"https://cdnjs.cloudflare.com/ajax/libs/mathjax/2.7.5/MathJax.js?config=TeX-AMS-MML_SVG\"></script><script type=\"text/javascript\">if (window.MathJax) {MathJax.Hub.Config({SVG: {font: \"STIX-Web\"}});}</script>                <script type=\"text/javascript\">window.PlotlyConfig = {MathJaxConfig: 'local'};</script>\n        <script src=\"https://cdn.plot.ly/plotly-2.2.0.min.js\"></script>                <div id=\"fab4191f-09c1-4ef7-9134-b14301d5dac2\" class=\"plotly-graph-div\" style=\"height:525px; width:100%;\"></div>            <script type=\"text/javascript\">                                    window.PLOTLYENV=window.PLOTLYENV || {};                                    if (document.getElementById(\"fab4191f-09c1-4ef7-9134-b14301d5dac2\")) {                    Plotly.newPlot(                        \"fab4191f-09c1-4ef7-9134-b14301d5dac2\",                        [{\"customdata\":[[\"Documentary\",2019,\"English/Japanese\"],[\"Documentary\",2021,\"English\"],[\"Documentary\",2019,\"Spanish\"]],\"hovertemplate\":\"Genre=%{customdata[0]}<br>IMDB Score=%{x}<br>Title=%{y}<br>year=%{customdata[1]}<br>Language=%{customdata[2]}<extra></extra>\",\"legendgroup\":\"Documentary\",\"marker\":{\"color\":\"#636efa\",\"symbol\":\"circle\"},\"mode\":\"markers\",\"name\":\"Documentary\",\"orientation\":\"h\",\"showlegend\":true,\"type\":\"scatter\",\"x\":[2.5,4.1,4.3],\"xaxis\":\"x\",\"y\":[\"Enter the Anime\",\"Searching for Sheela\",\"After the Raid\"],\"yaxis\":\"y\"},{\"customdata\":[[\"Thriller\",2020,\"Spanish\"],[\"Thriller\",2016,\"English\"]],\"hovertemplate\":\"Genre=%{customdata[0]}<br>IMDB Score=%{x}<br>Title=%{y}<br>year=%{customdata[1]}<br>Language=%{customdata[2]}<extra></extra>\",\"legendgroup\":\"Thriller\",\"marker\":{\"color\":\"#EF553B\",\"symbol\":\"circle\"},\"mode\":\"markers\",\"name\":\"Thriller\",\"orientation\":\"h\",\"showlegend\":true,\"type\":\"scatter\",\"x\":[2.6,4.2],\"xaxis\":\"x\",\"y\":[\"Dark Forces\",\"Mercy\"],\"yaxis\":\"y\"},{\"customdata\":[[\"Science fiction/Drama\",2019,\"Italian\"]],\"hovertemplate\":\"Genre=%{customdata[0]}<br>IMDB Score=%{x}<br>Title=%{y}<br>year=%{customdata[1]}<br>Language=%{customdata[2]}<extra></extra>\",\"legendgroup\":\"Science fiction/Drama\",\"marker\":{\"color\":\"#00cc96\",\"symbol\":\"circle\"},\"mode\":\"markers\",\"name\":\"Science fiction/Drama\",\"orientation\":\"h\",\"showlegend\":true,\"type\":\"scatter\",\"x\":[2.6],\"xaxis\":\"x\",\"y\":[\"The App\"],\"yaxis\":\"y\"},{\"customdata\":[[\"Horror thriller\",2018,\"English\"],[\"Horror thriller\",2017,\"English\"]],\"hovertemplate\":\"Genre=%{customdata[0]}<br>IMDB Score=%{x}<br>Title=%{y}<br>year=%{customdata[1]}<br>Language=%{customdata[2]}<extra></extra>\",\"legendgroup\":\"Horror thriller\",\"marker\":{\"color\":\"#ab63fa\",\"symbol\":\"circle\"},\"mode\":\"markers\",\"name\":\"Horror thriller\",\"orientation\":\"h\",\"showlegend\":true,\"type\":\"scatter\",\"x\":[3.2,4.4],\"xaxis\":\"x\",\"y\":[\"The Open House\",\"Death Note\"],\"yaxis\":\"y\"},{\"customdata\":[[\"Mystery\",2020,\"Hindi\"]],\"hovertemplate\":\"Genre=%{customdata[0]}<br>IMDB Score=%{x}<br>Title=%{y}<br>year=%{customdata[1]}<br>Language=%{customdata[2]}<extra></extra>\",\"legendgroup\":\"Mystery\",\"marker\":{\"color\":\"#FFA15A\",\"symbol\":\"circle\"},\"mode\":\"markers\",\"name\":\"Mystery\",\"orientation\":\"h\",\"showlegend\":true,\"type\":\"scatter\",\"x\":[3.4],\"xaxis\":\"x\",\"y\":[\"Kaali Khuhi\"],\"yaxis\":\"y\"},{\"customdata\":[[\"Action\",2019,\"Hindi\"]],\"hovertemplate\":\"Genre=%{customdata[0]}<br>IMDB Score=%{x}<br>Title=%{y}<br>year=%{customdata[1]}<br>Language=%{customdata[2]}<extra></extra>\",\"legendgroup\":\"Action\",\"marker\":{\"color\":\"#19d3f3\",\"symbol\":\"circle\"},\"mode\":\"markers\",\"name\":\"Action\",\"orientation\":\"h\",\"showlegend\":true,\"type\":\"scatter\",\"x\":[3.5],\"xaxis\":\"x\",\"y\":[\"Drive\"],\"yaxis\":\"y\"},{\"customdata\":[[\"Comedy\",2020,\"Turkish\"],[\"Comedy\",2021,\"Hindi\"],[\"Comedy\",2021,\"Korean\"]],\"hovertemplate\":\"Genre=%{customdata[0]}<br>IMDB Score=%{x}<br>Title=%{y}<br>year=%{customdata[1]}<br>Language=%{customdata[2]}<extra></extra>\",\"legendgroup\":\"Comedy\",\"marker\":{\"color\":\"#FF6692\",\"symbol\":\"circle\"},\"mode\":\"markers\",\"name\":\"Comedy\",\"orientation\":\"h\",\"showlegend\":true,\"type\":\"scatter\",\"x\":[3.7,4.1,4.3],\"xaxis\":\"x\",\"y\":[\"Leyla Everlasting\",\"Sardar Ka Grandson\",\"What Happened to Mr. Cha?\"],\"yaxis\":\"y\"},{\"customdata\":[[\"Heist film/Thriller\",2020,\"English\"]],\"hovertemplate\":\"Genre=%{customdata[0]}<br>IMDB Score=%{x}<br>Title=%{y}<br>year=%{customdata[1]}<br>Language=%{customdata[2]}<extra></extra>\",\"legendgroup\":\"Heist film/Thriller\",\"marker\":{\"color\":\"#B6E880\",\"symbol\":\"circle\"},\"mode\":\"markers\",\"name\":\"Heist film/Thriller\",\"orientation\":\"h\",\"showlegend\":true,\"type\":\"scatter\",\"x\":[3.7],\"xaxis\":\"x\",\"y\":[\"The Last Days of American Crime\"],\"yaxis\":\"y\"},{\"customdata\":[[\"Musical/Western/Fantasy\",2018,\"English\"]],\"hovertemplate\":\"Genre=%{customdata[0]}<br>IMDB Score=%{x}<br>Title=%{y}<br>year=%{customdata[1]}<br>Language=%{customdata[2]}<extra></extra>\",\"legendgroup\":\"Musical/Western/Fantasy\",\"marker\":{\"color\":\"#FF97FF\",\"symbol\":\"circle\"},\"mode\":\"markers\",\"name\":\"Musical/Western/Fantasy\",\"orientation\":\"h\",\"showlegend\":true,\"type\":\"scatter\",\"x\":[3.9],\"xaxis\":\"x\",\"y\":[\"Paradox\"],\"yaxis\":\"y\"},{\"customdata\":[[\"Drama\",2020,\"Korean\"]],\"hovertemplate\":\"Genre=%{customdata[0]}<br>IMDB Score=%{x}<br>Title=%{y}<br>year=%{customdata[1]}<br>Language=%{customdata[2]}<extra></extra>\",\"legendgroup\":\"Drama\",\"marker\":{\"color\":\"#FECB52\",\"symbol\":\"circle\"},\"mode\":\"markers\",\"name\":\"Drama\",\"orientation\":\"h\",\"showlegend\":true,\"type\":\"scatter\",\"x\":[4.1],\"xaxis\":\"x\",\"y\":[\"The Call\"],\"yaxis\":\"y\"},{\"customdata\":[[\"Romantic comedy\",2020,\"Indonesian\"]],\"hovertemplate\":\"Genre=%{customdata[0]}<br>IMDB Score=%{x}<br>Title=%{y}<br>year=%{customdata[1]}<br>Language=%{customdata[2]}<extra></extra>\",\"legendgroup\":\"Romantic comedy\",\"marker\":{\"color\":\"#636efa\",\"symbol\":\"circle\"},\"mode\":\"markers\",\"name\":\"Romantic comedy\",\"orientation\":\"h\",\"showlegend\":true,\"type\":\"scatter\",\"x\":[4.1],\"xaxis\":\"x\",\"y\":[\"Whipped\"],\"yaxis\":\"y\"},{\"customdata\":[[\"Action comedy\",2020,\"Malay\"]],\"hovertemplate\":\"Genre=%{customdata[0]}<br>IMDB Score=%{x}<br>Title=%{y}<br>year=%{customdata[1]}<br>Language=%{customdata[2]}<extra></extra>\",\"legendgroup\":\"Action comedy\",\"marker\":{\"color\":\"#EF553B\",\"symbol\":\"circle\"},\"mode\":\"markers\",\"name\":\"Action comedy\",\"orientation\":\"h\",\"showlegend\":true,\"type\":\"scatter\",\"x\":[4.2],\"xaxis\":\"x\",\"y\":[\"All Because of You\"],\"yaxis\":\"y\"},{\"customdata\":[[\"Political thriller\",2020,\"English\"]],\"hovertemplate\":\"Genre=%{customdata[0]}<br>IMDB Score=%{x}<br>Title=%{y}<br>year=%{customdata[1]}<br>Language=%{customdata[2]}<extra></extra>\",\"legendgroup\":\"Political thriller\",\"marker\":{\"color\":\"#00cc96\",\"symbol\":\"circle\"},\"mode\":\"markers\",\"name\":\"Political thriller\",\"orientation\":\"h\",\"showlegend\":true,\"type\":\"scatter\",\"x\":[4.3],\"xaxis\":\"x\",\"y\":[\"The Last Thing He Wanted\"],\"yaxis\":\"y\"},{\"customdata\":[[\"Horror anthology\",2020,\"Hindi\"]],\"hovertemplate\":\"Genre=%{customdata[0]}<br>IMDB Score=%{x}<br>Title=%{y}<br>year=%{customdata[1]}<br>Language=%{customdata[2]}<extra></extra>\",\"legendgroup\":\"Horror anthology\",\"marker\":{\"color\":\"#ab63fa\",\"symbol\":\"circle\"},\"mode\":\"markers\",\"name\":\"Horror anthology\",\"orientation\":\"h\",\"showlegend\":true,\"type\":\"scatter\",\"x\":[4.3],\"xaxis\":\"x\",\"y\":[\"Ghost Stories\"],\"yaxis\":\"y\"}],                        {\"legend\":{\"title\":{\"text\":\"Genre\"},\"tracegroupgap\":0},\"template\":{\"data\":{\"bar\":[{\"error_x\":{\"color\":\"#2a3f5f\"},\"error_y\":{\"color\":\"#2a3f5f\"},\"marker\":{\"line\":{\"color\":\"#E5ECF6\",\"width\":0.5},\"pattern\":{\"fillmode\":\"overlay\",\"size\":10,\"solidity\":0.2}},\"type\":\"bar\"}],\"barpolar\":[{\"marker\":{\"line\":{\"color\":\"#E5ECF6\",\"width\":0.5},\"pattern\":{\"fillmode\":\"overlay\",\"size\":10,\"solidity\":0.2}},\"type\":\"barpolar\"}],\"carpet\":[{\"aaxis\":{\"endlinecolor\":\"#2a3f5f\",\"gridcolor\":\"white\",\"linecolor\":\"white\",\"minorgridcolor\":\"white\",\"startlinecolor\":\"#2a3f5f\"},\"baxis\":{\"endlinecolor\":\"#2a3f5f\",\"gridcolor\":\"white\",\"linecolor\":\"white\",\"minorgridcolor\":\"white\",\"startlinecolor\":\"#2a3f5f\"},\"type\":\"carpet\"}],\"choropleth\":[{\"colorbar\":{\"outlinewidth\":0,\"ticks\":\"\"},\"type\":\"choropleth\"}],\"contour\":[{\"colorbar\":{\"outlinewidth\":0,\"ticks\":\"\"},\"colorscale\":[[0.0,\"#0d0887\"],[0.1111111111111111,\"#46039f\"],[0.2222222222222222,\"#7201a8\"],[0.3333333333333333,\"#9c179e\"],[0.4444444444444444,\"#bd3786\"],[0.5555555555555556,\"#d8576b\"],[0.6666666666666666,\"#ed7953\"],[0.7777777777777778,\"#fb9f3a\"],[0.8888888888888888,\"#fdca26\"],[1.0,\"#f0f921\"]],\"type\":\"contour\"}],\"contourcarpet\":[{\"colorbar\":{\"outlinewidth\":0,\"ticks\":\"\"},\"type\":\"contourcarpet\"}],\"heatmap\":[{\"colorbar\":{\"outlinewidth\":0,\"ticks\":\"\"},\"colorscale\":[[0.0,\"#0d0887\"],[0.1111111111111111,\"#46039f\"],[0.2222222222222222,\"#7201a8\"],[0.3333333333333333,\"#9c179e\"],[0.4444444444444444,\"#bd3786\"],[0.5555555555555556,\"#d8576b\"],[0.6666666666666666,\"#ed7953\"],[0.7777777777777778,\"#fb9f3a\"],[0.8888888888888888,\"#fdca26\"],[1.0,\"#f0f921\"]],\"type\":\"heatmap\"}],\"heatmapgl\":[{\"colorbar\":{\"outlinewidth\":0,\"ticks\":\"\"},\"colorscale\":[[0.0,\"#0d0887\"],[0.1111111111111111,\"#46039f\"],[0.2222222222222222,\"#7201a8\"],[0.3333333333333333,\"#9c179e\"],[0.4444444444444444,\"#bd3786\"],[0.5555555555555556,\"#d8576b\"],[0.6666666666666666,\"#ed7953\"],[0.7777777777777778,\"#fb9f3a\"],[0.8888888888888888,\"#fdca26\"],[1.0,\"#f0f921\"]],\"type\":\"heatmapgl\"}],\"histogram\":[{\"marker\":{\"pattern\":{\"fillmode\":\"overlay\",\"size\":10,\"solidity\":0.2}},\"type\":\"histogram\"}],\"histogram2d\":[{\"colorbar\":{\"outlinewidth\":0,\"ticks\":\"\"},\"colorscale\":[[0.0,\"#0d0887\"],[0.1111111111111111,\"#46039f\"],[0.2222222222222222,\"#7201a8\"],[0.3333333333333333,\"#9c179e\"],[0.4444444444444444,\"#bd3786\"],[0.5555555555555556,\"#d8576b\"],[0.6666666666666666,\"#ed7953\"],[0.7777777777777778,\"#fb9f3a\"],[0.8888888888888888,\"#fdca26\"],[1.0,\"#f0f921\"]],\"type\":\"histogram2d\"}],\"histogram2dcontour\":[{\"colorbar\":{\"outlinewidth\":0,\"ticks\":\"\"},\"colorscale\":[[0.0,\"#0d0887\"],[0.1111111111111111,\"#46039f\"],[0.2222222222222222,\"#7201a8\"],[0.3333333333333333,\"#9c179e\"],[0.4444444444444444,\"#bd3786\"],[0.5555555555555556,\"#d8576b\"],[0.6666666666666666,\"#ed7953\"],[0.7777777777777778,\"#fb9f3a\"],[0.8888888888888888,\"#fdca26\"],[1.0,\"#f0f921\"]],\"type\":\"histogram2dcontour\"}],\"mesh3d\":[{\"colorbar\":{\"outlinewidth\":0,\"ticks\":\"\"},\"type\":\"mesh3d\"}],\"parcoords\":[{\"line\":{\"colorbar\":{\"outlinewidth\":0,\"ticks\":\"\"}},\"type\":\"parcoords\"}],\"pie\":[{\"automargin\":true,\"type\":\"pie\"}],\"scatter\":[{\"marker\":{\"colorbar\":{\"outlinewidth\":0,\"ticks\":\"\"}},\"type\":\"scatter\"}],\"scatter3d\":[{\"line\":{\"colorbar\":{\"outlinewidth\":0,\"ticks\":\"\"}},\"marker\":{\"colorbar\":{\"outlinewidth\":0,\"ticks\":\"\"}},\"type\":\"scatter3d\"}],\"scattercarpet\":[{\"marker\":{\"colorbar\":{\"outlinewidth\":0,\"ticks\":\"\"}},\"type\":\"scattercarpet\"}],\"scattergeo\":[{\"marker\":{\"colorbar\":{\"outlinewidth\":0,\"ticks\":\"\"}},\"type\":\"scattergeo\"}],\"scattergl\":[{\"marker\":{\"colorbar\":{\"outlinewidth\":0,\"ticks\":\"\"}},\"type\":\"scattergl\"}],\"scattermapbox\":[{\"marker\":{\"colorbar\":{\"outlinewidth\":0,\"ticks\":\"\"}},\"type\":\"scattermapbox\"}],\"scatterpolar\":[{\"marker\":{\"colorbar\":{\"outlinewidth\":0,\"ticks\":\"\"}},\"type\":\"scatterpolar\"}],\"scatterpolargl\":[{\"marker\":{\"colorbar\":{\"outlinewidth\":0,\"ticks\":\"\"}},\"type\":\"scatterpolargl\"}],\"scatterternary\":[{\"marker\":{\"colorbar\":{\"outlinewidth\":0,\"ticks\":\"\"}},\"type\":\"scatterternary\"}],\"surface\":[{\"colorbar\":{\"outlinewidth\":0,\"ticks\":\"\"},\"colorscale\":[[0.0,\"#0d0887\"],[0.1111111111111111,\"#46039f\"],[0.2222222222222222,\"#7201a8\"],[0.3333333333333333,\"#9c179e\"],[0.4444444444444444,\"#bd3786\"],[0.5555555555555556,\"#d8576b\"],[0.6666666666666666,\"#ed7953\"],[0.7777777777777778,\"#fb9f3a\"],[0.8888888888888888,\"#fdca26\"],[1.0,\"#f0f921\"]],\"type\":\"surface\"}],\"table\":[{\"cells\":{\"fill\":{\"color\":\"#EBF0F8\"},\"line\":{\"color\":\"white\"}},\"header\":{\"fill\":{\"color\":\"#C8D4E3\"},\"line\":{\"color\":\"white\"}},\"type\":\"table\"}]},\"layout\":{\"annotationdefaults\":{\"arrowcolor\":\"#2a3f5f\",\"arrowhead\":0,\"arrowwidth\":1},\"autotypenumbers\":\"strict\",\"coloraxis\":{\"colorbar\":{\"outlinewidth\":0,\"ticks\":\"\"}},\"colorscale\":{\"diverging\":[[0,\"#8e0152\"],[0.1,\"#c51b7d\"],[0.2,\"#de77ae\"],[0.3,\"#f1b6da\"],[0.4,\"#fde0ef\"],[0.5,\"#f7f7f7\"],[0.6,\"#e6f5d0\"],[0.7,\"#b8e186\"],[0.8,\"#7fbc41\"],[0.9,\"#4d9221\"],[1,\"#276419\"]],\"sequential\":[[0.0,\"#0d0887\"],[0.1111111111111111,\"#46039f\"],[0.2222222222222222,\"#7201a8\"],[0.3333333333333333,\"#9c179e\"],[0.4444444444444444,\"#bd3786\"],[0.5555555555555556,\"#d8576b\"],[0.6666666666666666,\"#ed7953\"],[0.7777777777777778,\"#fb9f3a\"],[0.8888888888888888,\"#fdca26\"],[1.0,\"#f0f921\"]],\"sequentialminus\":[[0.0,\"#0d0887\"],[0.1111111111111111,\"#46039f\"],[0.2222222222222222,\"#7201a8\"],[0.3333333333333333,\"#9c179e\"],[0.4444444444444444,\"#bd3786\"],[0.5555555555555556,\"#d8576b\"],[0.6666666666666666,\"#ed7953\"],[0.7777777777777778,\"#fb9f3a\"],[0.8888888888888888,\"#fdca26\"],[1.0,\"#f0f921\"]]},\"colorway\":[\"#636efa\",\"#EF553B\",\"#00cc96\",\"#ab63fa\",\"#FFA15A\",\"#19d3f3\",\"#FF6692\",\"#B6E880\",\"#FF97FF\",\"#FECB52\"],\"font\":{\"color\":\"#2a3f5f\"},\"geo\":{\"bgcolor\":\"white\",\"lakecolor\":\"white\",\"landcolor\":\"#E5ECF6\",\"showlakes\":true,\"showland\":true,\"subunitcolor\":\"white\"},\"hoverlabel\":{\"align\":\"left\"},\"hovermode\":\"closest\",\"mapbox\":{\"style\":\"light\"},\"paper_bgcolor\":\"white\",\"plot_bgcolor\":\"#E5ECF6\",\"polar\":{\"angularaxis\":{\"gridcolor\":\"white\",\"linecolor\":\"white\",\"ticks\":\"\"},\"bgcolor\":\"#E5ECF6\",\"radialaxis\":{\"gridcolor\":\"white\",\"linecolor\":\"white\",\"ticks\":\"\"}},\"scene\":{\"xaxis\":{\"backgroundcolor\":\"#E5ECF6\",\"gridcolor\":\"white\",\"gridwidth\":2,\"linecolor\":\"white\",\"showbackground\":true,\"ticks\":\"\",\"zerolinecolor\":\"white\"},\"yaxis\":{\"backgroundcolor\":\"#E5ECF6\",\"gridcolor\":\"white\",\"gridwidth\":2,\"linecolor\":\"white\",\"showbackground\":true,\"ticks\":\"\",\"zerolinecolor\":\"white\"},\"zaxis\":{\"backgroundcolor\":\"#E5ECF6\",\"gridcolor\":\"white\",\"gridwidth\":2,\"linecolor\":\"white\",\"showbackground\":true,\"ticks\":\"\",\"zerolinecolor\":\"white\"}},\"shapedefaults\":{\"line\":{\"color\":\"#2a3f5f\"}},\"ternary\":{\"aaxis\":{\"gridcolor\":\"white\",\"linecolor\":\"white\",\"ticks\":\"\"},\"baxis\":{\"gridcolor\":\"white\",\"linecolor\":\"white\",\"ticks\":\"\"},\"bgcolor\":\"#E5ECF6\",\"caxis\":{\"gridcolor\":\"white\",\"linecolor\":\"white\",\"ticks\":\"\"}},\"title\":{\"x\":0.05},\"xaxis\":{\"automargin\":true,\"gridcolor\":\"white\",\"linecolor\":\"white\",\"ticks\":\"\",\"title\":{\"standoff\":15},\"zerolinecolor\":\"white\",\"zerolinewidth\":2},\"yaxis\":{\"automargin\":true,\"gridcolor\":\"white\",\"linecolor\":\"white\",\"ticks\":\"\",\"title\":{\"standoff\":15},\"zerolinecolor\":\"white\",\"zerolinewidth\":2}}},\"title\":{\"text\":\"Las 20 mejores pel\\u00edculas con baja calificaci\\u00f3n\"},\"xaxis\":{\"anchor\":\"y\",\"domain\":[0.0,1.0],\"title\":{\"text\":\"IMDB Score\"}},\"yaxis\":{\"anchor\":\"x\",\"domain\":[0.0,1.0],\"title\":{\"text\":\"Title\"}}},                        {\"responsive\": true}                    ).then(function(){\n                            \nvar gd = document.getElementById('fab4191f-09c1-4ef7-9134-b14301d5dac2');\nvar x = new MutationObserver(function (mutations, observer) {{\n        var display = window.getComputedStyle(gd).display;\n        if (!display || display === 'none') {{\n            console.log([gd, 'removed!']);\n            Plotly.purge(gd);\n            observer.disconnect();\n        }}\n}});\n\n// Listen for the removal of the full notebook cells\nvar notebookContainer = gd.closest('#notebook-container');\nif (notebookContainer) {{\n    x.observe(notebookContainer, {childList: true});\n}}\n\n// Listen for the clearing of the current output cell\nvar outputEl = gd.closest('.output');\nif (outputEl) {{\n    x.observe(outputEl, {childList: true});\n}}\n\n                        })                };                            </script>        </div>\n</body>\n</html>"
     },
     "metadata": {},
     "output_type": "display_data"
    }
   ],
   "execution_count": 101
  },
  {
   "cell_type": "markdown",
   "source": "- Es increible que los generos de peliculas con la califiacion mas baja existe una gran diversidad de generos.",
   "metadata": {
    "tags": [],
    "cell_id": "00065-cb750b21-05eb-4ed6-a2a9-066f79b8b183",
    "deepnote_cell_type": "markdown"
   }
  },
  {
   "cell_type": "markdown",
   "source": "<a style='text-decoration:none;line-height:16px;display:flex;color:#5B5B62;padding:10px;justify-content:end;' href='https://deepnote.com?utm_source=created-in-deepnote-cell&projectId=322df7a5-4b18-4ddb-8f91-c142e3bf7671' target=\"_blank\">\n<img alt='Created in deepnote.com' style='display:inline;max-height:16px;margin:0px;margin-right:7.5px;' src='data:image/svg+xml;base64,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' > </img>\nCreated in <span style='font-weight:600;margin-left:4px;'>Deepnote</span></a>",
   "metadata": {
    "tags": [],
    "created_in_deepnote_cell": true,
    "deepnote_cell_type": "markdown"
   }
  }
 ],
 "nbformat": 4,
 "nbformat_minor": 2,
 "metadata": {
  "orig_nbformat": 2,
  "deepnote": {
   "is_reactive": false
  },
  "deepnote_notebook_id": "e47fe8fe-af4f-415d-add8-2b5a2131ab53",
  "deepnote_execution_queue": []
 }
}
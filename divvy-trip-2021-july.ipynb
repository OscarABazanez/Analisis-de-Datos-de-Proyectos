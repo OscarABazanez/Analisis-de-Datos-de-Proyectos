{
 "cells": [
  {
   "cell_type": "markdown",
   "source": "# Divvy Bike Share bike rides in Chicago during the month of July in 2021\n[Data Divvy Bike Share Chicago 2021 July](https://www.kaggle.com/maxglover/divvy-bike-share-chicago-2021-july?select=202107-divvy-tripdata.csv)",
   "metadata": {
    "tags": [],
    "cell_id": "00000-16d14c7c-5927-4e23-a4df-a5cf8fcd5752",
    "deepnote_cell_type": "markdown"
   }
  },
  {
   "cell_type": "code",
   "metadata": {
    "tags": [],
    "cell_id": "00001-4f64cc96-9348-4ba1-a2a9-4f502e091be9",
    "deepnote_to_be_reexecuted": false,
    "source_hash": "e6fb9f65",
    "execution_start": 1629334019795,
    "execution_millis": 1374,
    "deepnote_cell_type": "code"
   },
   "source": "import pandas as pd\nimport matplotlib.pyplot as plt\nimport plotly \nimport plotly.express as px\nimport plotly.graph_objs as go\nimport plotly.offline as py\nfrom plotly.offline import iplot\nfrom plotly.subplots import make_subplots\nimport plotly.figure_factory as ff",
   "execution_count": 1,
   "outputs": []
  },
  {
   "cell_type": "code",
   "metadata": {
    "tags": [],
    "cell_id": "00002-3e95e4ce-0e5d-4550-9a72-51fa4ab1d3ca",
    "deepnote_to_be_reexecuted": false,
    "source_hash": "ef6960b",
    "execution_start": 1629334021179,
    "execution_millis": 3278,
    "deepnote_cell_type": "code"
   },
   "source": "df = pd.read_csv('db/divvy-trip-2021-july.csv')\ndf",
   "execution_count": 2,
   "outputs": [
    {
     "output_type": "execute_result",
     "execution_count": 2,
     "data": {
      "application/vnd.deepnote.dataframe.v2+json": {
       "row_count": 822410,
       "column_count": 13,
       "columns": [
        {
         "name": "ride_id",
         "dtype": "object"
        },
        {
         "name": "rideable_type",
         "dtype": "object"
        },
        {
         "name": "started_at",
         "dtype": "object"
        },
        {
         "name": "ended_at",
         "dtype": "object"
        },
        {
         "name": "start_station_name",
         "dtype": "object"
        },
        {
         "name": "start_station_id",
         "dtype": "object"
        },
        {
         "name": "end_station_name",
         "dtype": "object"
        },
        {
         "name": "end_station_id",
         "dtype": "object"
        },
        {
         "name": "start_lat",
         "dtype": "float64"
        },
        {
         "name": "start_lng",
         "dtype": "float64"
        },
        {
         "name": "end_lat",
         "dtype": "float64"
        },
        {
         "name": "end_lng",
         "dtype": "float64"
        },
        {
         "name": "member_casual",
         "dtype": "object"
        },
        {
         "name": "_deepnote_index_column",
         "dtype": "int64"
        }
       ],
       "rows_top": [
        {
         "ride_id": "0A1B623926EF4E16",
         "rideable_type": "docked_bike",
         "started_at": "2021-07-02 14:44:36",
         "ended_at": "2021-07-02 15:19:58",
         "start_station_name": "Michigan Ave & Washington St",
         "start_station_id": "13001",
         "end_station_name": "Halsted St & North Branch St",
         "end_station_id": "KA1504000117",
         "start_lat": 41.883984,
         "start_lng": -87.624684,
         "end_lat": 41.899368,
         "end_lng": -87.64848,
         "member_casual": "casual",
         "_deepnote_index_column": 0
        },
        {
         "ride_id": "B2D5583A5A5E76EE",
         "rideable_type": "classic_bike",
         "started_at": "2021-07-07 16:57:42",
         "ended_at": "2021-07-07 17:16:09",
         "start_station_name": "California Ave & Cortez St",
         "start_station_id": "17660",
         "end_station_name": "Wood St & Hubbard St",
         "end_station_id": "13432",
         "start_lat": 41.900363,
         "start_lng": -87.696704,
         "end_lat": 41.889899,
         "end_lng": -87.671473,
         "member_casual": "casual",
         "_deepnote_index_column": 1
        },
        {
         "ride_id": "6F264597DDBF427A",
         "rideable_type": "classic_bike",
         "started_at": "2021-07-25 11:30:55",
         "ended_at": "2021-07-25 11:48:45",
         "start_station_name": "Wabash Ave & 16th St",
         "start_station_id": "SL-012",
         "end_station_name": "Rush St & Hubbard St",
         "end_station_id": "KA1503000044",
         "start_lat": 41.860384,
         "start_lng": -87.625813,
         "end_lat": 41.890173,
         "end_lng": -87.626185,
         "member_casual": "member",
         "_deepnote_index_column": 2
        },
        {
         "ride_id": "379B58EAB20E8AA5",
         "rideable_type": "classic_bike",
         "started_at": "2021-07-08 22:08:30",
         "ended_at": "2021-07-08 22:23:32",
         "start_station_name": "California Ave & Cortez St",
         "start_station_id": "17660",
         "end_station_name": "Carpenter St & Huron St",
         "end_station_id": "13196",
         "start_lat": 41.900363,
         "start_lng": -87.696704,
         "end_lat": 41.894556,
         "end_lng": -87.653449,
         "member_casual": "member",
         "_deepnote_index_column": 3
        },
        {
         "ride_id": "6615C1E4EB08E8FB",
         "rideable_type": "electric_bike",
         "started_at": "2021-07-28 16:08:06",
         "ended_at": "2021-07-28 16:27:09",
         "start_station_name": "California Ave & Cortez St",
         "start_station_id": "17660",
         "end_station_name": "Elizabeth (May) St & Fulton St",
         "end_station_id": "13197",
         "start_lat": 41.90035,
         "start_lng": -87.69668233333333,
         "end_lat": 41.8865935,
         "end_lng": -87.658387,
         "member_casual": "casual",
         "_deepnote_index_column": 4
        },
        {
         "ride_id": "62DC2B32872F9BA8",
         "rideable_type": "electric_bike",
         "started_at": "2021-07-29 17:09:08",
         "ended_at": "2021-07-29 17:15:00",
         "start_station_name": "California Ave & Cortez St",
         "start_station_id": "17660",
         "end_station_name": "Albany Ave & Bloomingdale Ave",
         "end_station_id": "15655",
         "start_lat": 41.90032816666667,
         "start_lng": -87.696735,
         "end_lat": 41.913886833333336,
         "end_lng": -87.70512833333333,
         "member_casual": "casual",
         "_deepnote_index_column": 5
        },
        {
         "ride_id": "4BBB6E80E6A2A16D",
         "rideable_type": "classic_bike",
         "started_at": "2021-07-28 16:51:47",
         "ended_at": "2021-07-28 17:03:45",
         "start_station_name": "California Ave & Cortez St",
         "start_station_id": "17660",
         "end_station_name": "Albany Ave & Bloomingdale Ave",
         "end_station_id": "15655",
         "start_lat": 41.900363,
         "start_lng": -87.696704,
         "end_lat": 41.91402671273,
         "end_lng": -87.705126462,
         "member_casual": "casual",
         "_deepnote_index_column": 6
        },
        {
         "ride_id": "22CA03D32C6BB094",
         "rideable_type": "classic_bike",
         "started_at": "2021-07-03 12:44:50",
         "ended_at": "2021-07-03 12:52:55",
         "start_station_name": "Clark St & North Ave",
         "start_station_id": "13128",
         "end_station_name": "Clark St & Chicago Ave",
         "end_station_id": "13303",
         "start_lat": 41.911974,
         "start_lng": -87.631942,
         "end_lat": 41.89675,
         "end_lng": -87.63089,
         "member_casual": "casual",
         "_deepnote_index_column": 7
        },
        {
         "ride_id": "61F0D07D1EEE72EE",
         "rideable_type": "classic_bike",
         "started_at": "2021-07-02 18:18:22",
         "ended_at": "2021-07-02 18:38:21",
         "start_station_name": "Sheridan Rd & Montrose Ave",
         "start_station_id": "TA1307000107",
         "end_station_name": "Southport Ave & Clybourn Ave",
         "end_station_id": "TA1309000030",
         "start_lat": 41.96167,
         "start_lng": -87.65464,
         "end_lat": 41.920771,
         "end_lng": -87.663712,
         "member_casual": "member",
         "_deepnote_index_column": 8
        },
        {
         "ride_id": "09B4551386A8410E",
         "rideable_type": "classic_bike",
         "started_at": "2021-07-29 21:54:05",
         "ended_at": "2021-07-29 22:07:26",
         "start_station_name": "Sheridan Rd & Montrose Ave",
         "start_station_id": "TA1307000107",
         "end_station_name": "Lakefront Trail & Bryn Mawr Ave",
         "end_station_id": "KA1504000152",
         "start_lat": 41.96167,
         "start_lng": -87.65464,
         "end_lat": 41.98403669612,
         "end_lng": -87.6523104689,
         "member_casual": "member",
         "_deepnote_index_column": 9
        },
        {
         "ride_id": "337670C1ADD3A310",
         "rideable_type": "classic_bike",
         "started_at": "2021-07-26 18:30:10",
         "ended_at": "2021-07-26 18:57:36",
         "start_station_name": "Drake Ave & Montrose Ave",
         "start_station_id": "KA1504000097",
         "end_station_name": "Winchester (Ravenswood) Ave & Balmoral Ave",
         "end_station_id": "KA1504000147",
         "start_lat": 41.96115407569,
         "start_lng": -87.7165690733,
         "end_lat": 41.979762,
         "end_lng": -87.67753,
         "member_casual": "member",
         "_deepnote_index_column": 10
        },
        {
         "ride_id": "3BB45ACFD928900D",
         "rideable_type": "classic_bike",
         "started_at": "2021-07-12 18:36:06",
         "ended_at": "2021-07-12 18:44:29",
         "start_station_name": "Clark St & North Ave",
         "start_station_id": "13128",
         "end_station_name": "Stockton Dr & Wrightwood Ave",
         "end_station_id": "13276",
         "start_lat": 41.911974,
         "start_lng": -87.631942,
         "end_lat": 41.93132,
         "end_lng": -87.638742,
         "member_casual": "member",
         "_deepnote_index_column": 11
        },
        {
         "ride_id": "6816C91A6FD2A134",
         "rideable_type": "classic_bike",
         "started_at": "2021-07-23 20:30:44",
         "ended_at": "2021-07-23 20:41:12",
         "start_station_name": "Leavitt St & Addison St",
         "start_station_id": "KA1504000143",
         "end_station_name": "Ashland Ave & Belle Plaine Ave",
         "end_station_id": "13249",
         "start_lat": 41.946655,
         "start_lng": -87.683359,
         "end_lat": 41.956057,
         "end_lng": -87.668835,
         "member_casual": "member",
         "_deepnote_index_column": 12
        },
        {
         "ride_id": "A48C34446D5F17FC",
         "rideable_type": "electric_bike",
         "started_at": "2021-07-12 15:58:22",
         "ended_at": "2021-07-12 16:16:27",
         "start_station_name": "Ritchie Ct & Banks St",
         "start_station_id": "KA1504000134",
         "end_station_name": "Ashland Ave & Belle Plaine Ave",
         "end_station_id": "13249",
         "start_lat": 41.906775333333336,
         "start_lng": -87.62598916666667,
         "end_lat": 41.9560815,
         "end_lng": -87.668616,
         "member_casual": "member",
         "_deepnote_index_column": 13
        },
        {
         "ride_id": "9E5DF66EF8177915",
         "rideable_type": "classic_bike",
         "started_at": "2021-07-14 07:04:56",
         "ended_at": "2021-07-14 07:09:44",
         "start_station_name": "Lakeview Ave & Fullerton Pkwy",
         "start_station_id": "TA1309000019",
         "end_station_name": "Clark St & Drummond Pl",
         "end_station_id": "TA1307000142",
         "start_lat": 41.925858,
         "start_lng": -87.638973,
         "end_lat": 41.931248,
         "end_lng": -87.644336,
         "member_casual": "member",
         "_deepnote_index_column": 14
        },
        {
         "ride_id": "91C00A02A1B89907",
         "rideable_type": "classic_bike",
         "started_at": "2021-07-15 16:18:34",
         "ended_at": "2021-07-15 16:24:09",
         "start_station_name": "Sheffield Ave & Fullerton Ave",
         "start_station_id": "TA1306000016",
         "end_station_name": "Clark St & Drummond Pl",
         "end_station_id": "TA1307000142",
         "start_lat": 41.9256018819,
         "start_lng": -87.6537080423,
         "end_lat": 41.931248,
         "end_lng": -87.644336,
         "member_casual": "member",
         "_deepnote_index_column": 15
        },
        {
         "ride_id": "E02EE27DA1385200",
         "rideable_type": "classic_bike",
         "started_at": "2021-07-23 07:51:03",
         "ended_at": "2021-07-23 08:00:27",
         "start_station_name": "Indiana Ave & Roosevelt Rd",
         "start_station_id": "SL-005",
         "end_station_name": "Financial Pl & Ida B Wells Dr",
         "end_station_id": "SL-010",
         "start_lat": 41.867888,
         "start_lng": -87.623041,
         "end_lat": 41.8750236280333,
         "end_lng": -87.6330940425396,
         "member_casual": "casual",
         "_deepnote_index_column": 16
        },
        {
         "ride_id": "96E979F46E3CF621",
         "rideable_type": "classic_bike",
         "started_at": "2021-07-13 19:54:49",
         "ended_at": "2021-07-13 20:00:21",
         "start_station_name": "Michigan Ave & 8th St",
         "start_station_id": "623",
         "end_station_name": "Financial Pl & Ida B Wells Dr",
         "end_station_id": "SL-010",
         "start_lat": 41.872773,
         "start_lng": -87.623981,
         "end_lat": 41.8750236280333,
         "end_lng": -87.6330940425396,
         "member_casual": "member",
         "_deepnote_index_column": 17
        },
        {
         "ride_id": "F3826169540FA875",
         "rideable_type": "docked_bike",
         "started_at": "2021-07-06 18:32:50",
         "ended_at": "2021-07-06 19:05:26",
         "start_station_name": "Streeter Dr & Grand Ave",
         "start_station_id": "13022",
         "end_station_name": "Financial Pl & Ida B Wells Dr",
         "end_station_id": "SL-010",
         "start_lat": 41.892278,
         "start_lng": -87.612043,
         "end_lat": 41.875024,
         "end_lng": -87.633094,
         "member_casual": "casual",
         "_deepnote_index_column": 18
        },
        {
         "ride_id": "D2F5164631555811",
         "rideable_type": "docked_bike",
         "started_at": "2021-07-24 09:23:41",
         "ended_at": "2021-07-24 09:41:51",
         "start_station_name": "Broadway & Cornelia Ave",
         "start_station_id": "13278",
         "end_station_name": "Clark St & Drummond Pl",
         "end_station_id": "TA1307000142",
         "start_lat": 41.945529,
         "start_lng": -87.646439,
         "end_lat": 41.931248,
         "end_lng": -87.644336,
         "member_casual": "casual",
         "_deepnote_index_column": 19
        },
        {
         "ride_id": "55E3BED1DC902A1B",
         "rideable_type": "classic_bike",
         "started_at": "2021-07-14 18:08:03",
         "ended_at": "2021-07-14 18:17:11",
         "start_station_name": "Broadway & Cornelia Ave",
         "start_station_id": "13278",
         "end_station_name": "Clark St & Drummond Pl",
         "end_station_id": "TA1307000142",
         "start_lat": 41.945529,
         "start_lng": -87.646439,
         "end_lat": 41.931248,
         "end_lng": -87.644336,
         "member_casual": "member",
         "_deepnote_index_column": 20
        },
        {
         "ride_id": "36169CD143F33A6F",
         "rideable_type": "classic_bike",
         "started_at": "2021-07-16 10:53:02",
         "ended_at": "2021-07-16 10:59:31",
         "start_station_name": "Clark St & Newport St",
         "start_station_id": "632",
         "end_station_name": "Wilton Ave & Diversey Pkwy",
         "end_station_id": "TA1306000014",
         "start_lat": 41.94454,
         "start_lng": -87.654678,
         "end_lat": 41.932418,
         "end_lng": -87.652705,
         "member_casual": "member",
         "_deepnote_index_column": 21
        },
        {
         "ride_id": "225385AA48F29928",
         "rideable_type": "classic_bike",
         "started_at": "2021-07-08 13:01:33",
         "ended_at": "2021-07-08 13:09:59",
         "start_station_name": "Halsted St & Roscoe St",
         "start_station_id": "TA1309000025",
         "end_station_name": "Clark St & Drummond Pl",
         "end_station_id": "TA1307000142",
         "start_lat": 41.94367,
         "start_lng": -87.64895,
         "end_lat": 41.931248,
         "end_lng": -87.644336,
         "member_casual": "member",
         "_deepnote_index_column": 22
        },
        {
         "ride_id": "952287029CC28F9D",
         "rideable_type": "classic_bike",
         "started_at": "2021-07-21 05:14:52",
         "ended_at": "2021-07-21 05:41:21",
         "start_station_name": "Halsted St & Roscoe St",
         "start_station_id": "TA1309000025",
         "end_station_name": "Wood St & Hubbard St",
         "end_station_id": "13432",
         "start_lat": 41.94367,
         "start_lng": -87.64895,
         "end_lat": 41.889899,
         "end_lng": -87.671473,
         "member_casual": "member",
         "_deepnote_index_column": 23
        },
        {
         "ride_id": "FD3F6E80BDAFA54B",
         "rideable_type": "electric_bike",
         "started_at": "2021-07-13 20:07:21",
         "ended_at": "2021-07-13 20:19:07",
         "start_station_name": "Elston Ave & Wabansia Ave",
         "start_station_id": "TA1309000032",
         "end_station_name": "Clark St & Drummond Pl",
         "end_station_id": "TA1307000142",
         "start_lat": 41.91291816666666,
         "start_lng": -87.6640885,
         "end_lat": 41.93118,
         "end_lng": -87.6442835,
         "member_casual": "casual",
         "_deepnote_index_column": 24
        },
        {
         "ride_id": "75BAA855BD87BC6C",
         "rideable_type": "classic_bike",
         "started_at": "2021-07-07 07:56:22",
         "ended_at": "2021-07-07 08:05:02",
         "start_station_name": "Sheffield Ave & Wellington Ave",
         "start_station_id": "TA1307000052",
         "end_station_name": "Clark St & Drummond Pl",
         "end_station_id": "TA1307000142",
         "start_lat": 41.936266,
         "start_lng": -87.652662,
         "end_lat": 41.931248,
         "end_lng": -87.644336,
         "member_casual": "member",
         "_deepnote_index_column": 25
        },
        {
         "ride_id": "251B242199C0EF32",
         "rideable_type": "classic_bike",
         "started_at": "2021-07-14 01:39:36",
         "ended_at": "2021-07-14 01:46:42",
         "start_station_name": "Greenview Ave & Diversey Pkwy",
         "start_station_id": "13294",
         "end_station_name": "Clark St & Drummond Pl",
         "end_station_id": "TA1307000142",
         "start_lat": 41.93258963429789,
         "start_lng": -87.66593635082245,
         "end_lat": 41.931248,
         "end_lng": -87.644336,
         "member_casual": "member",
         "_deepnote_index_column": 26
        },
        {
         "ride_id": "EBE84CBED3E1B61A",
         "rideable_type": "classic_bike",
         "started_at": "2021-07-26 20:10:57",
         "ended_at": "2021-07-26 20:37:14",
         "start_station_name": "Lakefront Trail & Wilson Ave",
         "start_station_id": "639",
         "end_station_name": "Clark St & Drummond Pl",
         "end_station_id": "TA1307000142",
         "start_lat": 41.965845,
         "start_lng": -87.645361,
         "end_lat": 41.931248,
         "end_lng": -87.644336,
         "member_casual": "member",
         "_deepnote_index_column": 27
        },
        {
         "ride_id": "97043931AEDBF37F",
         "rideable_type": "classic_bike",
         "started_at": "2021-07-12 08:30:55",
         "ended_at": "2021-07-12 08:37:14",
         "start_station_name": "Greenview Ave & Diversey Pkwy",
         "start_station_id": "13294",
         "end_station_name": "Wilton Ave & Diversey Pkwy",
         "end_station_id": "TA1306000014",
         "start_lat": 41.93258963429789,
         "start_lng": -87.66593635082245,
         "end_lat": 41.932418,
         "end_lng": -87.652705,
         "member_casual": "member",
         "_deepnote_index_column": 28
        },
        {
         "ride_id": "42F0A865D394A44C",
         "rideable_type": "electric_bike",
         "started_at": "2021-07-17 21:39:03",
         "ended_at": "2021-07-17 21:47:17",
         "start_station_name": "Greenview Ave & Diversey Pkwy",
         "start_station_id": "13294",
         "end_station_name": "Wilton Ave & Diversey Pkwy",
         "end_station_id": "TA1306000014",
         "start_lat": 41.932581166666665,
         "start_lng": -87.6660835,
         "end_lat": 41.932086,
         "end_lng": -87.65265416666666,
         "member_casual": "casual",
         "_deepnote_index_column": 29
        },
        {
         "ride_id": "DE353E0131928861",
         "rideable_type": "classic_bike",
         "started_at": "2021-07-03 01:21:27",
         "ended_at": "2021-07-03 01:28:16",
         "start_station_name": "Greenview Ave & Diversey Pkwy",
         "start_station_id": "13294",
         "end_station_name": "Wilton Ave & Diversey Pkwy",
         "end_station_id": "TA1306000014",
         "start_lat": 41.93258963429789,
         "start_lng": -87.66593635082245,
         "end_lat": 41.932418,
         "end_lng": -87.652705,
         "member_casual": "casual",
         "_deepnote_index_column": 30
        },
        {
         "ride_id": "7A9DB624DE35B09C",
         "rideable_type": "classic_bike",
         "started_at": "2021-07-31 19:20:02",
         "ended_at": "2021-07-31 19:38:35",
         "start_station_name": "Winthrop Ave & Lawrence Ave",
         "start_station_id": "TA1308000021",
         "end_station_name": "Clark St & Drummond Pl",
         "end_station_id": "TA1307000142",
         "start_lat": 41.968812,
         "start_lng": -87.657659,
         "end_lat": 41.931248,
         "end_lng": -87.644336,
         "member_casual": "member",
         "_deepnote_index_column": 31
        },
        {
         "ride_id": "E0CD45270AD0637B",
         "rideable_type": "docked_bike",
         "started_at": "2021-07-31 17:53:45",
         "ended_at": "2021-07-31 18:02:36",
         "start_station_name": "Ogden Ave & Race Ave",
         "start_station_id": "13194",
         "end_station_name": "Wood St & Hubbard St",
         "end_station_id": "13432",
         "start_lat": 41.891795,
         "start_lng": -87.658751,
         "end_lat": 41.889899,
         "end_lng": -87.671473,
         "member_casual": "casual",
         "_deepnote_index_column": 32
        },
        {
         "ride_id": "799BAE461A39D578",
         "rideable_type": "classic_bike",
         "started_at": "2021-07-22 07:58:44",
         "ended_at": "2021-07-22 08:04:43",
         "start_station_name": "Artesian Ave & Hubbard St",
         "start_station_id": "15664",
         "end_station_name": "Wood St & Hubbard St",
         "end_station_id": "13432",
         "start_lat": 41.88949181977,
         "start_lng": -87.6882193648,
         "end_lat": 41.889899,
         "end_lng": -87.671473,
         "member_casual": "member",
         "_deepnote_index_column": 33
        },
        {
         "ride_id": "AB9681EF66F00872",
         "rideable_type": "classic_bike",
         "started_at": "2021-07-07 08:26:19",
         "ended_at": "2021-07-07 08:32:01",
         "start_station_name": "Artesian Ave & Hubbard St",
         "start_station_id": "15664",
         "end_station_name": "Wood St & Hubbard St",
         "end_station_id": "13432",
         "start_lat": 41.88949181977,
         "start_lng": -87.6882193648,
         "end_lat": 41.889899,
         "end_lng": -87.671473,
         "member_casual": "member",
         "_deepnote_index_column": 34
        },
        {
         "ride_id": "E0D1EF2E63AA5C5F",
         "rideable_type": "classic_bike",
         "started_at": "2021-07-20 08:28:40",
         "ended_at": "2021-07-20 08:34:58",
         "start_station_name": "Artesian Ave & Hubbard St",
         "start_station_id": "15664",
         "end_station_name": "Wood St & Hubbard St",
         "end_station_id": "13432",
         "start_lat": 41.88949181977,
         "start_lng": -87.6882193648,
         "end_lat": 41.889899,
         "end_lng": -87.671473,
         "member_casual": "member",
         "_deepnote_index_column": 35
        },
        {
         "ride_id": "82060CFD9713EB47",
         "rideable_type": "classic_bike",
         "started_at": "2021-07-07 17:41:14",
         "ended_at": "2021-07-07 17:46:00",
         "start_station_name": "Ashland Ave & Chicago Ave",
         "start_station_id": "13247",
         "end_station_name": "Wood St & Hubbard St",
         "end_station_id": "13432",
         "start_lat": 41.895966,
         "start_lng": -87.667747,
         "end_lat": 41.889899,
         "end_lng": -87.671473,
         "member_casual": "member",
         "_deepnote_index_column": 36
        },
        {
         "ride_id": "1F45A6D8A32961BD",
         "rideable_type": "classic_bike",
         "started_at": "2021-07-02 19:15:06",
         "ended_at": "2021-07-02 19:24:33",
         "start_station_name": "Wells St & Concord Ln",
         "start_station_id": "TA1308000050",
         "end_station_name": "Clark St & Drummond Pl",
         "end_station_id": "TA1307000142",
         "start_lat": 41.912133,
         "start_lng": -87.634656,
         "end_lat": 41.931248,
         "end_lng": -87.644336,
         "member_casual": "member",
         "_deepnote_index_column": 37
        }
       ],
       "rows_bottom": [
        {
         "ride_id": "DC13F012F7D282F2",
         "rideable_type": "electric_bike",
         "started_at": "2021-07-03 14:24:31",
         "ended_at": "2021-07-03 14:58:26",
         "start_station_name": "nan",
         "start_station_id": "nan",
         "end_station_name": "nan",
         "end_station_id": "nan",
         "start_lat": 41.94,
         "start_lng": -87.74,
         "end_lat": 41.94,
         "end_lng": -87.74,
         "member_casual": "member",
         "_deepnote_index_column": 822372
        },
        {
         "ride_id": "FE2BCF20DBECE7DF",
         "rideable_type": "electric_bike",
         "started_at": "2021-07-03 09:15:06",
         "ended_at": "2021-07-03 09:40:04",
         "start_station_name": "nan",
         "start_station_id": "nan",
         "end_station_name": "nan",
         "end_station_id": "nan",
         "start_lat": 41.93,
         "start_lng": -87.64,
         "end_lat": 41.95,
         "end_lng": -87.65,
         "member_casual": "member",
         "_deepnote_index_column": 822373
        },
        {
         "ride_id": "3D47EB9C7C3A479E",
         "rideable_type": "electric_bike",
         "started_at": "2021-07-03 15:24:51",
         "ended_at": "2021-07-03 15:45:10",
         "start_station_name": "nan",
         "start_station_id": "nan",
         "end_station_name": "nan",
         "end_station_id": "nan",
         "start_lat": 41.98,
         "start_lng": -87.67,
         "end_lat": 41.93,
         "end_lng": -87.64,
         "member_casual": "member",
         "_deepnote_index_column": 822374
        },
        {
         "ride_id": "F4A3BE474028B066",
         "rideable_type": "electric_bike",
         "started_at": "2021-07-28 23:54:59",
         "ended_at": "2021-07-29 00:00:05",
         "start_station_name": "nan",
         "start_station_id": "nan",
         "end_station_name": "nan",
         "end_station_id": "nan",
         "start_lat": 41.94,
         "start_lng": -87.72,
         "end_lat": 41.94,
         "end_lng": -87.73,
         "member_casual": "member",
         "_deepnote_index_column": 822375
        },
        {
         "ride_id": "3DB2C93890CA7919",
         "rideable_type": "electric_bike",
         "started_at": "2021-07-28 22:41:49",
         "ended_at": "2021-07-28 22:53:56",
         "start_station_name": "nan",
         "start_station_id": "nan",
         "end_station_name": "nan",
         "end_station_id": "nan",
         "start_lat": 41.93,
         "start_lng": -87.7,
         "end_lat": 41.94,
         "end_lng": -87.72,
         "member_casual": "member",
         "_deepnote_index_column": 822376
        },
        {
         "ride_id": "201348A3EDB20381",
         "rideable_type": "electric_bike",
         "started_at": "2021-07-30 09:54:32",
         "ended_at": "2021-07-30 09:59:03",
         "start_station_name": "nan",
         "start_station_id": "nan",
         "end_station_name": "nan",
         "end_station_id": "nan",
         "start_lat": 41.97,
         "start_lng": -87.67,
         "end_lat": 41.97,
         "end_lng": -87.67,
         "member_casual": "member",
         "_deepnote_index_column": 822377
        },
        {
         "ride_id": "0ACF1D5A77042D89",
         "rideable_type": "electric_bike",
         "started_at": "2021-07-30 10:27:24",
         "ended_at": "2021-07-30 10:35:09",
         "start_station_name": "nan",
         "start_station_id": "nan",
         "end_station_name": "nan",
         "end_station_id": "nan",
         "start_lat": 41.94,
         "start_lng": -87.65,
         "end_lat": 41.93,
         "end_lng": -87.64,
         "member_casual": "member",
         "_deepnote_index_column": 822378
        },
        {
         "ride_id": "4A5B5976676169B9",
         "rideable_type": "electric_bike",
         "started_at": "2021-07-30 10:07:25",
         "ended_at": "2021-07-30 10:18:49",
         "start_station_name": "nan",
         "start_station_id": "nan",
         "end_station_name": "nan",
         "end_station_id": "nan",
         "start_lat": 41.97,
         "start_lng": -87.67,
         "end_lat": 41.94,
         "end_lng": -87.65,
         "member_casual": "member",
         "_deepnote_index_column": 822379
        },
        {
         "ride_id": "AE60B8AAF6B482D7",
         "rideable_type": "electric_bike",
         "started_at": "2021-07-03 08:55:32",
         "ended_at": "2021-07-03 09:01:28",
         "start_station_name": "nan",
         "start_station_id": "nan",
         "end_station_name": "nan",
         "end_station_id": "nan",
         "start_lat": 41.78,
         "start_lng": -87.63,
         "end_lat": 41.78,
         "end_lng": -87.61,
         "member_casual": "member",
         "_deepnote_index_column": 822380
        },
        {
         "ride_id": "BD3EC7AA12F95C25",
         "rideable_type": "electric_bike",
         "started_at": "2021-07-03 13:27:05",
         "ended_at": "2021-07-03 13:54:24",
         "start_station_name": "nan",
         "start_station_id": "nan",
         "end_station_name": "nan",
         "end_station_id": "nan",
         "start_lat": 41.93,
         "start_lng": -87.69,
         "end_lat": 41.9,
         "end_lng": -87.69,
         "member_casual": "member",
         "_deepnote_index_column": 822381
        },
        {
         "ride_id": "7BF8E7C19E62D5FD",
         "rideable_type": "electric_bike",
         "started_at": "2021-07-03 12:38:36",
         "ended_at": "2021-07-03 12:39:25",
         "start_station_name": "nan",
         "start_station_id": "nan",
         "end_station_name": "nan",
         "end_station_id": "nan",
         "start_lat": 41.93,
         "start_lng": -87.71,
         "end_lat": 41.93,
         "end_lng": -87.71,
         "member_casual": "member",
         "_deepnote_index_column": 822382
        },
        {
         "ride_id": "24742F169168ADC6",
         "rideable_type": "electric_bike",
         "started_at": "2021-07-03 12:46:52",
         "ended_at": "2021-07-03 12:52:39",
         "start_station_name": "nan",
         "start_station_id": "nan",
         "end_station_name": "nan",
         "end_station_id": "nan",
         "start_lat": 41.93,
         "start_lng": -87.71,
         "end_lat": 41.93,
         "end_lng": -87.69,
         "member_casual": "member",
         "_deepnote_index_column": 822383
        },
        {
         "ride_id": "23F430429164509B",
         "rideable_type": "electric_bike",
         "started_at": "2021-07-26 17:58:20",
         "ended_at": "2021-07-26 18:31:21",
         "start_station_name": "nan",
         "start_station_id": "nan",
         "end_station_name": "Kingsbury St & Kinzie St",
         "end_station_id": "KA1503000043",
         "start_lat": 41.82,
         "start_lng": -87.6,
         "end_lat": 41.88901583333333,
         "end_lng": -87.63825566666667,
         "member_casual": "member",
         "_deepnote_index_column": 822384
        },
        {
         "ride_id": "405B1FAEA725C2EC",
         "rideable_type": "electric_bike",
         "started_at": "2021-07-26 15:28:15",
         "ended_at": "2021-07-26 16:08:16",
         "start_station_name": "Kingsbury St & Kinzie St",
         "start_station_id": "KA1503000043",
         "end_station_name": "nan",
         "end_station_id": "nan",
         "start_lat": 41.88921966666667,
         "start_lng": -87.63863816666667,
         "end_lat": 41.82,
         "end_lng": -87.6,
         "member_casual": "member",
         "_deepnote_index_column": 822385
        },
        {
         "ride_id": "FD7D744A4D971548",
         "rideable_type": "electric_bike",
         "started_at": "2021-07-13 02:02:33",
         "ended_at": "2021-07-13 02:03:59",
         "start_station_name": "nan",
         "start_station_id": "nan",
         "end_station_name": "nan",
         "end_station_id": "nan",
         "start_lat": 41.72,
         "start_lng": -87.68,
         "end_lat": 41.72,
         "end_lng": -87.68,
         "member_casual": "member",
         "_deepnote_index_column": 822386
        },
        {
         "ride_id": "CAD2E0606493D61D",
         "rideable_type": "electric_bike",
         "started_at": "2021-07-13 07:20:54",
         "ended_at": "2021-07-13 07:44:32",
         "start_station_name": "nan",
         "start_station_id": "nan",
         "end_station_name": "nan",
         "end_station_id": "nan",
         "start_lat": 41.72,
         "start_lng": -87.68,
         "end_lat": 41.74,
         "end_lng": -87.68,
         "member_casual": "member",
         "_deepnote_index_column": 822387
        },
        {
         "ride_id": "B0842FF639CEBACD",
         "rideable_type": "electric_bike",
         "started_at": "2021-07-12 23:27:40",
         "ended_at": "2021-07-12 23:35:27",
         "start_station_name": "nan",
         "start_station_id": "nan",
         "end_station_name": "nan",
         "end_station_id": "nan",
         "start_lat": 41.72,
         "start_lng": -87.68,
         "end_lat": 41.72,
         "end_lng": -87.68,
         "member_casual": "member",
         "_deepnote_index_column": 822388
        },
        {
         "ride_id": "7211B114378A93F7",
         "rideable_type": "electric_bike",
         "started_at": "2021-07-13 10:09:17",
         "ended_at": "2021-07-13 10:19:11",
         "start_station_name": "nan",
         "start_station_id": "nan",
         "end_station_name": "nan",
         "end_station_id": "nan",
         "start_lat": 41.74,
         "start_lng": -87.68,
         "end_lat": 41.75,
         "end_lng": -87.68,
         "member_casual": "member",
         "_deepnote_index_column": 822389
        },
        {
         "ride_id": "D16D7CCD43685EA3",
         "rideable_type": "electric_bike",
         "started_at": "2021-07-09 01:13:35",
         "ended_at": "2021-07-09 01:14:43",
         "start_station_name": "nan",
         "start_station_id": "nan",
         "end_station_name": "nan",
         "end_station_id": "nan",
         "start_lat": 41.72,
         "start_lng": -87.68,
         "end_lat": 41.72,
         "end_lng": -87.68,
         "member_casual": "member",
         "_deepnote_index_column": 822390
        },
        {
         "ride_id": "2DDD36D8FA3C38A1",
         "rideable_type": "electric_bike",
         "started_at": "2021-07-08 22:39:16",
         "ended_at": "2021-07-08 22:42:25",
         "start_station_name": "nan",
         "start_station_id": "nan",
         "end_station_name": "nan",
         "end_station_id": "nan",
         "start_lat": 41.72,
         "start_lng": -87.68,
         "end_lat": 41.72,
         "end_lng": -87.68,
         "member_casual": "member",
         "_deepnote_index_column": 822391
        },
        {
         "ride_id": "765821B6A503BF89",
         "rideable_type": "electric_bike",
         "started_at": "2021-07-12 09:41:07",
         "ended_at": "2021-07-12 09:47:09",
         "start_station_name": "nan",
         "start_station_id": "nan",
         "end_station_name": "nan",
         "end_station_id": "nan",
         "start_lat": 41.88,
         "start_lng": -87.64,
         "end_lat": 41.89,
         "end_lng": -87.63,
         "member_casual": "member",
         "_deepnote_index_column": 822392
        },
        {
         "ride_id": "F18398BE9B121542",
         "rideable_type": "electric_bike",
         "started_at": "2021-07-30 16:32:23",
         "ended_at": "2021-07-30 16:42:06",
         "start_station_name": "nan",
         "start_station_id": "nan",
         "end_station_name": "nan",
         "end_station_id": "nan",
         "start_lat": 42,
         "start_lng": -87.66,
         "end_lat": 42.01,
         "end_lng": -87.69,
         "member_casual": "member",
         "_deepnote_index_column": 822393
        },
        {
         "ride_id": "9E16BE050D46987C",
         "rideable_type": "electric_bike",
         "started_at": "2021-07-17 12:26:22",
         "ended_at": "2021-07-17 13:04:28",
         "start_station_name": "nan",
         "start_station_id": "nan",
         "end_station_name": "Clark St & Leland Ave",
         "end_station_id": "TA1309000014",
         "start_lat": 41.86,
         "start_lng": -87.65,
         "end_lat": 41.96705883333333,
         "end_lng": -87.66746683333334,
         "member_casual": "member",
         "_deepnote_index_column": 822394
        },
        {
         "ride_id": "1C586E97A2F61D85",
         "rideable_type": "electric_bike",
         "started_at": "2021-07-17 09:00:32",
         "ended_at": "2021-07-17 10:02:58",
         "start_station_name": "nan",
         "start_station_id": "nan",
         "end_station_name": "nan",
         "end_station_id": "nan",
         "start_lat": 42.01,
         "start_lng": -87.69,
         "end_lat": 41.86,
         "end_lng": -87.65,
         "member_casual": "member",
         "_deepnote_index_column": 822395
        },
        {
         "ride_id": "A34C73D39D9B3CEA",
         "rideable_type": "electric_bike",
         "started_at": "2021-07-17 13:07:54",
         "ended_at": "2021-07-17 13:29:15",
         "start_station_name": "Clark St & Leland Ave",
         "start_station_id": "TA1309000014",
         "end_station_name": "nan",
         "end_station_id": "nan",
         "start_lat": 41.96706116666667,
         "start_lng": -87.66747566666666,
         "end_lat": 42.01,
         "end_lng": -87.69,
         "member_casual": "member",
         "_deepnote_index_column": 822396
        },
        {
         "ride_id": "2ED441428A2DB635",
         "rideable_type": "electric_bike",
         "started_at": "2021-07-24 15:45:00",
         "ended_at": "2021-07-24 15:52:30",
         "start_station_name": "nan",
         "start_station_id": "nan",
         "end_station_name": "nan",
         "end_station_id": "nan",
         "start_lat": 42,
         "start_lng": -87.67,
         "end_lat": 42,
         "end_lng": -87.66,
         "member_casual": "member",
         "_deepnote_index_column": 822397
        },
        {
         "ride_id": "2512F50F7F562E08",
         "rideable_type": "electric_bike",
         "started_at": "2021-07-24 16:09:29",
         "ended_at": "2021-07-24 16:37:30",
         "start_station_name": "nan",
         "start_station_id": "nan",
         "end_station_name": "nan",
         "end_station_id": "nan",
         "start_lat": 42,
         "start_lng": -87.66,
         "end_lat": 42.01,
         "end_lng": -87.69,
         "member_casual": "member",
         "_deepnote_index_column": 822398
        },
        {
         "ride_id": "0B147F47EC49C834",
         "rideable_type": "electric_bike",
         "started_at": "2021-07-24 15:19:30",
         "ended_at": "2021-07-24 15:29:46",
         "start_station_name": "nan",
         "start_station_id": "nan",
         "end_station_name": "nan",
         "end_station_id": "nan",
         "start_lat": 42.01,
         "start_lng": -87.69,
         "end_lat": 42,
         "end_lng": -87.67,
         "member_casual": "member",
         "_deepnote_index_column": 822399
        },
        {
         "ride_id": "5CFC2F6FE5131FD5",
         "rideable_type": "electric_bike",
         "started_at": "2021-07-03 19:53:21",
         "ended_at": "2021-07-03 20:21:52",
         "start_station_name": "nan",
         "start_station_id": "nan",
         "end_station_name": "nan",
         "end_station_id": "nan",
         "start_lat": 41.75,
         "start_lng": -87.68,
         "end_lat": 41.72,
         "end_lng": -87.68,
         "member_casual": "member",
         "_deepnote_index_column": 822400
        },
        {
         "ride_id": "21713D887D7587C6",
         "rideable_type": "electric_bike",
         "started_at": "2021-07-03 21:18:46",
         "ended_at": "2021-07-03 21:20:50",
         "start_station_name": "nan",
         "start_station_id": "nan",
         "end_station_name": "nan",
         "end_station_id": "nan",
         "start_lat": 41.72,
         "start_lng": -87.68,
         "end_lat": 41.72,
         "end_lng": -87.68,
         "member_casual": "member",
         "_deepnote_index_column": 822401
        },
        {
         "ride_id": "C9D35D380933D273",
         "rideable_type": "electric_bike",
         "started_at": "2021-07-04 00:05:13",
         "ended_at": "2021-07-04 00:07:08",
         "start_station_name": "nan",
         "start_station_id": "nan",
         "end_station_name": "nan",
         "end_station_id": "nan",
         "start_lat": 41.72,
         "start_lng": -87.68,
         "end_lat": 41.72,
         "end_lng": -87.68,
         "member_casual": "member",
         "_deepnote_index_column": 822402
        },
        {
         "ride_id": "3E93CD71818F88C1",
         "rideable_type": "electric_bike",
         "started_at": "2021-07-04 03:36:53",
         "ended_at": "2021-07-04 03:38:42",
         "start_station_name": "nan",
         "start_station_id": "nan",
         "end_station_name": "nan",
         "end_station_id": "nan",
         "start_lat": 41.72,
         "start_lng": -87.68,
         "end_lat": 41.72,
         "end_lng": -87.68,
         "member_casual": "member",
         "_deepnote_index_column": 822403
        },
        {
         "ride_id": "7B47CA3E874D260F",
         "rideable_type": "electric_bike",
         "started_at": "2021-07-04 05:34:53",
         "ended_at": "2021-07-04 05:36:46",
         "start_station_name": "nan",
         "start_station_id": "nan",
         "end_station_name": "nan",
         "end_station_id": "nan",
         "start_lat": 41.72,
         "start_lng": -87.68,
         "end_lat": 41.72,
         "end_lng": -87.68,
         "member_casual": "member",
         "_deepnote_index_column": 822404
        },
        {
         "ride_id": "1E660BF8DCDAAAB6",
         "rideable_type": "electric_bike",
         "started_at": "2021-07-04 10:40:41",
         "ended_at": "2021-07-04 11:30:13",
         "start_station_name": "nan",
         "start_station_id": "nan",
         "end_station_name": "nan",
         "end_station_id": "nan",
         "start_lat": 41.72,
         "start_lng": -87.68,
         "end_lat": 41.77,
         "end_lng": -87.66,
         "member_casual": "member",
         "_deepnote_index_column": 822405
        },
        {
         "ride_id": "A2448BDFD9B3653D",
         "rideable_type": "electric_bike",
         "started_at": "2021-07-04 12:47:41",
         "ended_at": "2021-07-04 12:54:46",
         "start_station_name": "nan",
         "start_station_id": "nan",
         "end_station_name": "nan",
         "end_station_id": "nan",
         "start_lat": 41.77,
         "start_lng": -87.66,
         "end_lat": 41.78,
         "end_lng": -87.66,
         "member_casual": "member",
         "_deepnote_index_column": 822406
        },
        {
         "ride_id": "2D612BF8530379DA",
         "rideable_type": "electric_bike",
         "started_at": "2021-07-03 21:41:58",
         "ended_at": "2021-07-03 21:57:14",
         "start_station_name": "nan",
         "start_station_id": "nan",
         "end_station_name": "nan",
         "end_station_id": "nan",
         "start_lat": 41.72,
         "start_lng": -87.68,
         "end_lat": 41.72,
         "end_lng": -87.68,
         "member_casual": "member",
         "_deepnote_index_column": 822407
        },
        {
         "ride_id": "6D615D18B765C9B3",
         "rideable_type": "electric_bike",
         "started_at": "2021-07-03 22:10:31",
         "ended_at": "2021-07-03 22:11:39",
         "start_station_name": "nan",
         "start_station_id": "nan",
         "end_station_name": "nan",
         "end_station_id": "nan",
         "start_lat": 41.72,
         "start_lng": -87.68,
         "end_lat": 41.72,
         "end_lng": -87.68,
         "member_casual": "member",
         "_deepnote_index_column": 822408
        },
        {
         "ride_id": "0F31D311323F0048",
         "rideable_type": "electric_bike",
         "started_at": "2021-07-04 07:03:50",
         "ended_at": "2021-07-04 07:32:38",
         "start_station_name": "nan",
         "start_station_id": "nan",
         "end_station_name": "nan",
         "end_station_id": "nan",
         "start_lat": 41.72,
         "start_lng": -87.68,
         "end_lat": 41.72,
         "end_lng": -87.68,
         "member_casual": "member",
         "_deepnote_index_column": 822409
        }
       ]
      },
      "text/plain": "                 ride_id  rideable_type           started_at  \\\n0       0A1B623926EF4E16    docked_bike  2021-07-02 14:44:36   \n1       B2D5583A5A5E76EE   classic_bike  2021-07-07 16:57:42   \n2       6F264597DDBF427A   classic_bike  2021-07-25 11:30:55   \n3       379B58EAB20E8AA5   classic_bike  2021-07-08 22:08:30   \n4       6615C1E4EB08E8FB  electric_bike  2021-07-28 16:08:06   \n...                  ...            ...                  ...   \n822405  1E660BF8DCDAAAB6  electric_bike  2021-07-04 10:40:41   \n822406  A2448BDFD9B3653D  electric_bike  2021-07-04 12:47:41   \n822407  2D612BF8530379DA  electric_bike  2021-07-03 21:41:58   \n822408  6D615D18B765C9B3  electric_bike  2021-07-03 22:10:31   \n822409  0F31D311323F0048  electric_bike  2021-07-04 07:03:50   \n\n                   ended_at            start_station_name start_station_id  \\\n0       2021-07-02 15:19:58  Michigan Ave & Washington St            13001   \n1       2021-07-07 17:16:09    California Ave & Cortez St            17660   \n2       2021-07-25 11:48:45          Wabash Ave & 16th St           SL-012   \n3       2021-07-08 22:23:32    California Ave & Cortez St            17660   \n4       2021-07-28 16:27:09    California Ave & Cortez St            17660   \n...                     ...                           ...              ...   \n822405  2021-07-04 11:30:13                           NaN              NaN   \n822406  2021-07-04 12:54:46                           NaN              NaN   \n822407  2021-07-03 21:57:14                           NaN              NaN   \n822408  2021-07-03 22:11:39                           NaN              NaN   \n822409  2021-07-04 07:32:38                           NaN              NaN   \n\n                      end_station_name end_station_id  start_lat  start_lng  \\\n0         Halsted St & North Branch St   KA1504000117  41.883984 -87.624684   \n1                 Wood St & Hubbard St          13432  41.900363 -87.696704   \n2                 Rush St & Hubbard St   KA1503000044  41.860384 -87.625813   \n3              Carpenter St & Huron St          13196  41.900363 -87.696704   \n4       Elizabeth (May) St & Fulton St          13197  41.900350 -87.696682   \n...                                ...            ...        ...        ...   \n822405                             NaN            NaN  41.720000 -87.680000   \n822406                             NaN            NaN  41.770000 -87.660000   \n822407                             NaN            NaN  41.720000 -87.680000   \n822408                             NaN            NaN  41.720000 -87.680000   \n822409                             NaN            NaN  41.720000 -87.680000   \n\n          end_lat    end_lng member_casual  \n0       41.899368 -87.648480        casual  \n1       41.889899 -87.671473        casual  \n2       41.890173 -87.626185        member  \n3       41.894556 -87.653449        member  \n4       41.886593 -87.658387        casual  \n...           ...        ...           ...  \n822405  41.770000 -87.660000        member  \n822406  41.780000 -87.660000        member  \n822407  41.720000 -87.680000        member  \n822408  41.720000 -87.680000        member  \n822409  41.720000 -87.680000        member  \n\n[822410 rows x 13 columns]",
      "text/html": "<div>\n<style scoped>\n    .dataframe tbody tr th:only-of-type {\n        vertical-align: middle;\n    }\n\n    .dataframe tbody tr th {\n        vertical-align: top;\n    }\n\n    .dataframe thead th {\n        text-align: right;\n    }\n</style>\n<table border=\"1\" class=\"dataframe\">\n  <thead>\n    <tr style=\"text-align: right;\">\n      <th></th>\n      <th>ride_id</th>\n      <th>rideable_type</th>\n      <th>started_at</th>\n      <th>ended_at</th>\n      <th>start_station_name</th>\n      <th>start_station_id</th>\n      <th>end_station_name</th>\n      <th>end_station_id</th>\n      <th>start_lat</th>\n      <th>start_lng</th>\n      <th>end_lat</th>\n      <th>end_lng</th>\n      <th>member_casual</th>\n    </tr>\n  </thead>\n  <tbody>\n    <tr>\n      <th>0</th>\n      <td>0A1B623926EF4E16</td>\n      <td>docked_bike</td>\n      <td>2021-07-02 14:44:36</td>\n      <td>2021-07-02 15:19:58</td>\n      <td>Michigan Ave &amp; Washington St</td>\n      <td>13001</td>\n      <td>Halsted St &amp; North Branch St</td>\n      <td>KA1504000117</td>\n      <td>41.883984</td>\n      <td>-87.624684</td>\n      <td>41.899368</td>\n      <td>-87.648480</td>\n      <td>casual</td>\n    </tr>\n    <tr>\n      <th>1</th>\n      <td>B2D5583A5A5E76EE</td>\n      <td>classic_bike</td>\n      <td>2021-07-07 16:57:42</td>\n      <td>2021-07-07 17:16:09</td>\n      <td>California Ave &amp; Cortez St</td>\n      <td>17660</td>\n      <td>Wood St &amp; Hubbard St</td>\n      <td>13432</td>\n      <td>41.900363</td>\n      <td>-87.696704</td>\n      <td>41.889899</td>\n      <td>-87.671473</td>\n      <td>casual</td>\n    </tr>\n    <tr>\n      <th>2</th>\n      <td>6F264597DDBF427A</td>\n      <td>classic_bike</td>\n      <td>2021-07-25 11:30:55</td>\n      <td>2021-07-25 11:48:45</td>\n      <td>Wabash Ave &amp; 16th St</td>\n      <td>SL-012</td>\n      <td>Rush St &amp; Hubbard St</td>\n      <td>KA1503000044</td>\n      <td>41.860384</td>\n      <td>-87.625813</td>\n      <td>41.890173</td>\n      <td>-87.626185</td>\n      <td>member</td>\n    </tr>\n    <tr>\n      <th>3</th>\n      <td>379B58EAB20E8AA5</td>\n      <td>classic_bike</td>\n      <td>2021-07-08 22:08:30</td>\n      <td>2021-07-08 22:23:32</td>\n      <td>California Ave &amp; Cortez St</td>\n      <td>17660</td>\n      <td>Carpenter St &amp; Huron St</td>\n      <td>13196</td>\n      <td>41.900363</td>\n      <td>-87.696704</td>\n      <td>41.894556</td>\n      <td>-87.653449</td>\n      <td>member</td>\n    </tr>\n    <tr>\n      <th>4</th>\n      <td>6615C1E4EB08E8FB</td>\n      <td>electric_bike</td>\n      <td>2021-07-28 16:08:06</td>\n      <td>2021-07-28 16:27:09</td>\n      <td>California Ave &amp; Cortez St</td>\n      <td>17660</td>\n      <td>Elizabeth (May) St &amp; Fulton St</td>\n      <td>13197</td>\n      <td>41.900350</td>\n      <td>-87.696682</td>\n      <td>41.886593</td>\n      <td>-87.658387</td>\n      <td>casual</td>\n    </tr>\n    <tr>\n      <th>...</th>\n      <td>...</td>\n      <td>...</td>\n      <td>...</td>\n      <td>...</td>\n      <td>...</td>\n      <td>...</td>\n      <td>...</td>\n      <td>...</td>\n      <td>...</td>\n      <td>...</td>\n      <td>...</td>\n      <td>...</td>\n      <td>...</td>\n    </tr>\n    <tr>\n      <th>822405</th>\n      <td>1E660BF8DCDAAAB6</td>\n      <td>electric_bike</td>\n      <td>2021-07-04 10:40:41</td>\n      <td>2021-07-04 11:30:13</td>\n      <td>NaN</td>\n      <td>NaN</td>\n      <td>NaN</td>\n      <td>NaN</td>\n      <td>41.720000</td>\n      <td>-87.680000</td>\n      <td>41.770000</td>\n      <td>-87.660000</td>\n      <td>member</td>\n    </tr>\n    <tr>\n      <th>822406</th>\n      <td>A2448BDFD9B3653D</td>\n      <td>electric_bike</td>\n      <td>2021-07-04 12:47:41</td>\n      <td>2021-07-04 12:54:46</td>\n      <td>NaN</td>\n      <td>NaN</td>\n      <td>NaN</td>\n      <td>NaN</td>\n      <td>41.770000</td>\n      <td>-87.660000</td>\n      <td>41.780000</td>\n      <td>-87.660000</td>\n      <td>member</td>\n    </tr>\n    <tr>\n      <th>822407</th>\n      <td>2D612BF8530379DA</td>\n      <td>electric_bike</td>\n      <td>2021-07-03 21:41:58</td>\n      <td>2021-07-03 21:57:14</td>\n      <td>NaN</td>\n      <td>NaN</td>\n      <td>NaN</td>\n      <td>NaN</td>\n      <td>41.720000</td>\n      <td>-87.680000</td>\n      <td>41.720000</td>\n      <td>-87.680000</td>\n      <td>member</td>\n    </tr>\n    <tr>\n      <th>822408</th>\n      <td>6D615D18B765C9B3</td>\n      <td>electric_bike</td>\n      <td>2021-07-03 22:10:31</td>\n      <td>2021-07-03 22:11:39</td>\n      <td>NaN</td>\n      <td>NaN</td>\n      <td>NaN</td>\n      <td>NaN</td>\n      <td>41.720000</td>\n      <td>-87.680000</td>\n      <td>41.720000</td>\n      <td>-87.680000</td>\n      <td>member</td>\n    </tr>\n    <tr>\n      <th>822409</th>\n      <td>0F31D311323F0048</td>\n      <td>electric_bike</td>\n      <td>2021-07-04 07:03:50</td>\n      <td>2021-07-04 07:32:38</td>\n      <td>NaN</td>\n      <td>NaN</td>\n      <td>NaN</td>\n      <td>NaN</td>\n      <td>41.720000</td>\n      <td>-87.680000</td>\n      <td>41.720000</td>\n      <td>-87.680000</td>\n      <td>member</td>\n    </tr>\n  </tbody>\n</table>\n<p>822410 rows × 13 columns</p>\n</div>"
     },
     "metadata": {}
    }
   ]
  },
  {
   "cell_type": "markdown",
   "source": "# Observando los datos",
   "metadata": {
    "tags": [],
    "cell_id": "00003-7aa1e4d8-9a0c-48c5-912b-3296b7904657",
    "deepnote_cell_type": "markdown"
   }
  },
  {
   "cell_type": "code",
   "metadata": {
    "tags": [],
    "cell_id": "00004-f89e26f8-5ff3-4592-ac88-220992d66175",
    "deepnote_to_be_reexecuted": false,
    "source_hash": "de1e323c",
    "execution_start": 1629334024496,
    "execution_millis": 292,
    "deepnote_cell_type": "code"
   },
   "source": "df.info()",
   "execution_count": 3,
   "outputs": [
    {
     "name": "stdout",
     "text": "<class 'pandas.core.frame.DataFrame'>\nRangeIndex: 822410 entries, 0 to 822409\nData columns (total 13 columns):\n #   Column              Non-Null Count   Dtype  \n---  ------              --------------   -----  \n 0   ride_id             822410 non-null  object \n 1   rideable_type       822410 non-null  object \n 2   started_at          822410 non-null  object \n 3   ended_at            822410 non-null  object \n 4   start_station_name  735147 non-null  object \n 5   start_station_id    735148 non-null  object \n 6   end_station_name    729252 non-null  object \n 7   end_station_id      729252 non-null  object \n 8   start_lat           822410 non-null  float64\n 9   start_lng           822410 non-null  float64\n 10  end_lat             821679 non-null  float64\n 11  end_lng             821679 non-null  float64\n 12  member_casual       822410 non-null  object \ndtypes: float64(4), object(9)\nmemory usage: 81.6+ MB\n",
     "output_type": "stream"
    }
   ]
  },
  {
   "cell_type": "markdown",
   "source": "Podemos observar la mayoria de los tipos de datos estan correctos, excepto los campos **started_at, ended_at** que deberian ser de tipo datetimes.\n\nAhora vamos a cambiarlos a tipo datetimes/.",
   "metadata": {
    "tags": [],
    "cell_id": "00005-90ace4f7-fa59-4f0d-a633-f311a19d05aa",
    "deepnote_cell_type": "markdown"
   }
  },
  {
   "cell_type": "code",
   "metadata": {
    "tags": [],
    "cell_id": "00005-edd1e47f-24f8-4eb5-be5a-6882145209d3",
    "deepnote_to_be_reexecuted": false,
    "source_hash": "38708527",
    "execution_start": 1629334024786,
    "execution_millis": 570,
    "deepnote_cell_type": "code"
   },
   "source": "df['started_at'] = pd.to_datetime(df['started_at'])\ndf['ended_at'] = pd.to_datetime(df['ended_at'])",
   "execution_count": 4,
   "outputs": []
  },
  {
   "cell_type": "code",
   "metadata": {
    "tags": [],
    "cell_id": "00007-0749e4e5-c952-4d5c-a158-e1f8274219b3",
    "deepnote_to_be_reexecuted": false,
    "source_hash": "f3dd26da",
    "execution_start": 1629334025367,
    "execution_millis": 243,
    "deepnote_cell_type": "code"
   },
   "source": "df.isnull().sum()",
   "execution_count": 5,
   "outputs": [
    {
     "output_type": "execute_result",
     "execution_count": 5,
     "data": {
      "text/plain": "ride_id                   0\nrideable_type             0\nstarted_at                0\nended_at                  0\nstart_station_name    87263\nstart_station_id      87262\nend_station_name      93158\nend_station_id        93158\nstart_lat                 0\nstart_lng                 0\nend_lat                 731\nend_lng                 731\nmember_casual             0\ndtype: int64"
     },
     "metadata": {}
    }
   ]
  },
  {
   "cell_type": "markdown",
   "source": "Podemos observar que existen varia",
   "metadata": {
    "tags": [],
    "cell_id": "00008-b25a060d-ef53-4cbc-b78e-a438df3f6f44",
    "deepnote_cell_type": "markdown"
   }
  },
  {
   "cell_type": "code",
   "metadata": {
    "tags": [],
    "cell_id": "00008-481ea226-8fe3-4415-8bd0-81bee2877679",
    "deepnote_to_be_reexecuted": false,
    "source_hash": "f88152d9",
    "execution_start": 1629334025651,
    "execution_millis": 201,
    "deepnote_cell_type": "code"
   },
   "source": "df.describe()",
   "execution_count": 6,
   "outputs": [
    {
     "output_type": "execute_result",
     "execution_count": 6,
     "data": {
      "application/vnd.deepnote.dataframe.v2+json": {
       "row_count": 8,
       "column_count": 4,
       "columns": [
        {
         "name": "start_lat",
         "dtype": "float64",
         "stats": {
          "unique_count": 8,
          "nan_count": 0,
          "min": "0.0431534550855241",
          "max": "822410.0",
          "histogram": [
           {
            "bin_start": 0.0431534550855241,
            "bin_end": 82241.03883810957,
            "count": 7
           },
           {
            "bin_start": 82241.03883810957,
            "bin_end": 164482.03452276404,
            "count": 0
           },
           {
            "bin_start": 164482.03452276404,
            "bin_end": 246723.03020741852,
            "count": 0
           },
           {
            "bin_start": 246723.03020741852,
            "bin_end": 328964.025892073,
            "count": 0
           },
           {
            "bin_start": 328964.025892073,
            "bin_end": 411205.02157672745,
            "count": 0
           },
           {
            "bin_start": 411205.02157672745,
            "bin_end": 493446.01726138196,
            "count": 0
           },
           {
            "bin_start": 493446.01726138196,
            "bin_end": 575687.0129460365,
            "count": 0
           },
           {
            "bin_start": 575687.0129460365,
            "bin_end": 657928.008630691,
            "count": 0
           },
           {
            "bin_start": 657928.008630691,
            "bin_end": 740169.0043153454,
            "count": 0
           },
           {
            "bin_start": 740169.0043153454,
            "bin_end": 822410,
            "count": 1
           }
          ]
         }
        },
        {
         "name": "start_lng",
         "dtype": "float64",
         "stats": {
          "unique_count": 8,
          "nan_count": 0,
          "min": "-87.84",
          "max": "822410.0",
          "histogram": [
           {
            "bin_start": -87.84,
            "bin_end": 82161.944,
            "count": 7
           },
           {
            "bin_start": 82161.944,
            "bin_end": 164411.728,
            "count": 0
           },
           {
            "bin_start": 164411.728,
            "bin_end": 246661.51200000002,
            "count": 0
           },
           {
            "bin_start": 246661.51200000002,
            "bin_end": 328911.296,
            "count": 0
           },
           {
            "bin_start": 328911.296,
            "bin_end": 411161.07999999996,
            "count": 0
           },
           {
            "bin_start": 411161.07999999996,
            "bin_end": 493410.864,
            "count": 0
           },
           {
            "bin_start": 493410.864,
            "bin_end": 575660.648,
            "count": 0
           },
           {
            "bin_start": 575660.648,
            "bin_end": 657910.432,
            "count": 0
           },
           {
            "bin_start": 657910.432,
            "bin_end": 740160.216,
            "count": 0
           },
           {
            "bin_start": 740160.216,
            "bin_end": 822410,
            "count": 1
           }
          ]
         }
        },
        {
         "name": "end_lat",
         "dtype": "float64",
         "stats": {
          "unique_count": 8,
          "nan_count": 0,
          "min": "0.04328946022192143",
          "max": "821679.0",
          "histogram": [
           {
            "bin_start": 0.04328946022192143,
            "bin_end": 82167.9389605142,
            "count": 7
           },
           {
            "bin_start": 82167.9389605142,
            "bin_end": 164335.83463156817,
            "count": 0
           },
           {
            "bin_start": 164335.83463156817,
            "bin_end": 246503.73030262216,
            "count": 0
           },
           {
            "bin_start": 246503.73030262216,
            "bin_end": 328671.62597367616,
            "count": 0
           },
           {
            "bin_start": 328671.62597367616,
            "bin_end": 410839.5216447301,
            "count": 0
           },
           {
            "bin_start": 410839.5216447301,
            "bin_end": 493007.41731578414,
            "count": 0
           },
           {
            "bin_start": 493007.41731578414,
            "bin_end": 575175.312986838,
            "count": 0
           },
           {
            "bin_start": 575175.312986838,
            "bin_end": 657343.2086578921,
            "count": 0
           },
           {
            "bin_start": 657343.2086578921,
            "bin_end": 739511.1043289461,
            "count": 0
           },
           {
            "bin_start": 739511.1043289461,
            "bin_end": 821679,
            "count": 1
           }
          ]
         }
        },
        {
         "name": "end_lng",
         "dtype": "float64",
         "stats": {
          "unique_count": 8,
          "nan_count": 0,
          "min": "-87.85",
          "max": "821679.0",
          "histogram": [
           {
            "bin_start": -87.85,
            "bin_end": 82088.83499999999,
            "count": 7
           },
           {
            "bin_start": 82088.83499999999,
            "bin_end": 164265.52,
            "count": 0
           },
           {
            "bin_start": 164265.52,
            "bin_end": 246442.205,
            "count": 0
           },
           {
            "bin_start": 246442.205,
            "bin_end": 328618.89,
            "count": 0
           },
           {
            "bin_start": 328618.89,
            "bin_end": 410795.575,
            "count": 0
           },
           {
            "bin_start": 410795.575,
            "bin_end": 492972.26,
            "count": 0
           },
           {
            "bin_start": 492972.26,
            "bin_end": 575148.945,
            "count": 0
           },
           {
            "bin_start": 575148.945,
            "bin_end": 657325.63,
            "count": 0
           },
           {
            "bin_start": 657325.63,
            "bin_end": 739502.3150000001,
            "count": 0
           },
           {
            "bin_start": 739502.3150000001,
            "bin_end": 821679,
            "count": 1
           }
          ]
         }
        },
        {
         "name": "_deepnote_index_column",
         "dtype": "object"
        }
       ],
       "rows_top": [
        {
         "start_lat": 822410,
         "start_lng": 822410,
         "end_lat": 821679,
         "end_lng": 821679,
         "_deepnote_index_column": "count"
        },
        {
         "start_lat": 41.903564626870946,
         "start_lng": -87.64553623691451,
         "end_lat": 41.90381472255112,
         "end_lng": -87.6456619832418,
         "_deepnote_index_column": "mean"
        },
        {
         "start_lat": 0.0431534550855241,
         "start_lng": 0.026856001007794814,
         "end_lat": 0.04328946022192143,
         "end_lng": 0.027065429676101423,
         "_deepnote_index_column": "std"
        },
        {
         "start_lat": 41.64850076266409,
         "start_lng": -87.84,
         "end_lat": 41.63,
         "end_lng": -87.85,
         "_deepnote_index_column": "min"
        },
        {
         "start_lat": 41.88338,
         "start_lng": -87.65966,
         "end_lat": 41.88338,
         "end_lng": -87.659753,
         "_deepnote_index_column": "25%"
        },
        {
         "start_lat": 41.90021949323,
         "start_lng": -87.64117,
         "end_lat": 41.90096,
         "end_lng": -87.64117,
         "_deepnote_index_column": "50%"
        },
        {
         "start_lat": 41.929143,
         "start_lng": -87.627690528,
         "end_lat": 41.9295045,
         "end_lng": -87.62768008333333,
         "_deepnote_index_column": "75%"
        },
        {
         "start_lat": 42.07,
         "start_lng": -87.52,
         "end_lat": 42.15,
         "end_lng": -87.49,
         "_deepnote_index_column": "max"
        }
       ],
       "rows_bottom": null
      },
      "text/plain": "           start_lat      start_lng        end_lat        end_lng\ncount  822410.000000  822410.000000  821679.000000  821679.000000\nmean       41.903565     -87.645536      41.903815     -87.645662\nstd         0.043153       0.026856       0.043289       0.027065\nmin        41.648501     -87.840000      41.630000     -87.850000\n25%        41.883380     -87.659660      41.883380     -87.659753\n50%        41.900219     -87.641170      41.900960     -87.641170\n75%        41.929143     -87.627691      41.929505     -87.627680\nmax        42.070000     -87.520000      42.150000     -87.490000",
      "text/html": "<div>\n<style scoped>\n    .dataframe tbody tr th:only-of-type {\n        vertical-align: middle;\n    }\n\n    .dataframe tbody tr th {\n        vertical-align: top;\n    }\n\n    .dataframe thead th {\n        text-align: right;\n    }\n</style>\n<table border=\"1\" class=\"dataframe\">\n  <thead>\n    <tr style=\"text-align: right;\">\n      <th></th>\n      <th>start_lat</th>\n      <th>start_lng</th>\n      <th>end_lat</th>\n      <th>end_lng</th>\n    </tr>\n  </thead>\n  <tbody>\n    <tr>\n      <th>count</th>\n      <td>822410.000000</td>\n      <td>822410.000000</td>\n      <td>821679.000000</td>\n      <td>821679.000000</td>\n    </tr>\n    <tr>\n      <th>mean</th>\n      <td>41.903565</td>\n      <td>-87.645536</td>\n      <td>41.903815</td>\n      <td>-87.645662</td>\n    </tr>\n    <tr>\n      <th>std</th>\n      <td>0.043153</td>\n      <td>0.026856</td>\n      <td>0.043289</td>\n      <td>0.027065</td>\n    </tr>\n    <tr>\n      <th>min</th>\n      <td>41.648501</td>\n      <td>-87.840000</td>\n      <td>41.630000</td>\n      <td>-87.850000</td>\n    </tr>\n    <tr>\n      <th>25%</th>\n      <td>41.883380</td>\n      <td>-87.659660</td>\n      <td>41.883380</td>\n      <td>-87.659753</td>\n    </tr>\n    <tr>\n      <th>50%</th>\n      <td>41.900219</td>\n      <td>-87.641170</td>\n      <td>41.900960</td>\n      <td>-87.641170</td>\n    </tr>\n    <tr>\n      <th>75%</th>\n      <td>41.929143</td>\n      <td>-87.627691</td>\n      <td>41.929505</td>\n      <td>-87.627680</td>\n    </tr>\n    <tr>\n      <th>max</th>\n      <td>42.070000</td>\n      <td>-87.520000</td>\n      <td>42.150000</td>\n      <td>-87.490000</td>\n    </tr>\n  </tbody>\n</table>\n</div>"
     },
     "metadata": {}
    }
   ]
  },
  {
   "cell_type": "markdown",
   "source": "# Analisis",
   "metadata": {
    "tags": [],
    "cell_id": "00008-7b57c01f-affa-41cc-ac34-7f5e3c3e2872",
    "deepnote_cell_type": "markdown"
   }
  },
  {
   "cell_type": "markdown",
   "source": "## Tipo de paseo",
   "metadata": {
    "tags": [],
    "cell_id": "00008-cae6d912-0274-4021-bf04-c58f9ecd0e20",
    "deepnote_to_be_reexecuted": false,
    "source_hash": "14f60b8f",
    "execution_start": 1629316066567,
    "execution_millis": 6,
    "deepnote_cell_type": "markdown"
   }
  },
  {
   "cell_type": "code",
   "metadata": {
    "tags": [],
    "cell_id": "00014-53aa9ae6-82eb-4549-9c3d-0dc009c5bad4",
    "deepnote_to_be_reexecuted": false,
    "source_hash": "94fe4712",
    "execution_start": 1629334025872,
    "execution_millis": 1122,
    "deepnote_cell_type": "code"
   },
   "source": "ride_type = df['rideable_type'].value_counts()\nfig = px.pie(ride_type, values=ride_type.values, \n    names=ride_type.index,\n    title='Tipo de paseos'\n)\nfig.show()",
   "execution_count": 7,
   "outputs": [
    {
     "data": {
      "text/html": "<html>\n<head><meta charset=\"utf-8\" /></head>\n<body>\n    <div>            <script src=\"https://cdnjs.cloudflare.com/ajax/libs/mathjax/2.7.5/MathJax.js?config=TeX-AMS-MML_SVG\"></script><script type=\"text/javascript\">if (window.MathJax) {MathJax.Hub.Config({SVG: {font: \"STIX-Web\"}});}</script>                <script type=\"text/javascript\">window.PlotlyConfig = {MathJaxConfig: 'local'};</script>\n        <script src=\"https://cdn.plot.ly/plotly-2.2.0.min.js\"></script>                <div id=\"51e07c2b-b10a-4881-a177-1682954c77f7\" class=\"plotly-graph-div\" style=\"height:525px; width:100%;\"></div>            <script type=\"text/javascript\">                                    window.PLOTLYENV=window.PLOTLYENV || {};                                    if (document.getElementById(\"51e07c2b-b10a-4881-a177-1682954c77f7\")) {                    Plotly.newPlot(                        \"51e07c2b-b10a-4881-a177-1682954c77f7\",                        [{\"domain\":{\"x\":[0.0,1.0],\"y\":[0.0,1.0]},\"hovertemplate\":\"index=%{label}<br>value=%{value}<extra></extra>\",\"labels\":[\"classic_bike\",\"electric_bike\",\"docked_bike\"],\"legendgroup\":\"\",\"name\":\"\",\"showlegend\":true,\"type\":\"pie\",\"values\":[506909,257803,57698]}],                        {\"legend\":{\"tracegroupgap\":0},\"template\":{\"data\":{\"bar\":[{\"error_x\":{\"color\":\"#2a3f5f\"},\"error_y\":{\"color\":\"#2a3f5f\"},\"marker\":{\"line\":{\"color\":\"#E5ECF6\",\"width\":0.5},\"pattern\":{\"fillmode\":\"overlay\",\"size\":10,\"solidity\":0.2}},\"type\":\"bar\"}],\"barpolar\":[{\"marker\":{\"line\":{\"color\":\"#E5ECF6\",\"width\":0.5},\"pattern\":{\"fillmode\":\"overlay\",\"size\":10,\"solidity\":0.2}},\"type\":\"barpolar\"}],\"carpet\":[{\"aaxis\":{\"endlinecolor\":\"#2a3f5f\",\"gridcolor\":\"white\",\"linecolor\":\"white\",\"minorgridcolor\":\"white\",\"startlinecolor\":\"#2a3f5f\"},\"baxis\":{\"endlinecolor\":\"#2a3f5f\",\"gridcolor\":\"white\",\"linecolor\":\"white\",\"minorgridcolor\":\"white\",\"startlinecolor\":\"#2a3f5f\"},\"type\":\"carpet\"}],\"choropleth\":[{\"colorbar\":{\"outlinewidth\":0,\"ticks\":\"\"},\"type\":\"choropleth\"}],\"contour\":[{\"colorbar\":{\"outlinewidth\":0,\"ticks\":\"\"},\"colorscale\":[[0.0,\"#0d0887\"],[0.1111111111111111,\"#46039f\"],[0.2222222222222222,\"#7201a8\"],[0.3333333333333333,\"#9c179e\"],[0.4444444444444444,\"#bd3786\"],[0.5555555555555556,\"#d8576b\"],[0.6666666666666666,\"#ed7953\"],[0.7777777777777778,\"#fb9f3a\"],[0.8888888888888888,\"#fdca26\"],[1.0,\"#f0f921\"]],\"type\":\"contour\"}],\"contourcarpet\":[{\"colorbar\":{\"outlinewidth\":0,\"ticks\":\"\"},\"type\":\"contourcarpet\"}],\"heatmap\":[{\"colorbar\":{\"outlinewidth\":0,\"ticks\":\"\"},\"colorscale\":[[0.0,\"#0d0887\"],[0.1111111111111111,\"#46039f\"],[0.2222222222222222,\"#7201a8\"],[0.3333333333333333,\"#9c179e\"],[0.4444444444444444,\"#bd3786\"],[0.5555555555555556,\"#d8576b\"],[0.6666666666666666,\"#ed7953\"],[0.7777777777777778,\"#fb9f3a\"],[0.8888888888888888,\"#fdca26\"],[1.0,\"#f0f921\"]],\"type\":\"heatmap\"}],\"heatmapgl\":[{\"colorbar\":{\"outlinewidth\":0,\"ticks\":\"\"},\"colorscale\":[[0.0,\"#0d0887\"],[0.1111111111111111,\"#46039f\"],[0.2222222222222222,\"#7201a8\"],[0.3333333333333333,\"#9c179e\"],[0.4444444444444444,\"#bd3786\"],[0.5555555555555556,\"#d8576b\"],[0.6666666666666666,\"#ed7953\"],[0.7777777777777778,\"#fb9f3a\"],[0.8888888888888888,\"#fdca26\"],[1.0,\"#f0f921\"]],\"type\":\"heatmapgl\"}],\"histogram\":[{\"marker\":{\"pattern\":{\"fillmode\":\"overlay\",\"size\":10,\"solidity\":0.2}},\"type\":\"histogram\"}],\"histogram2d\":[{\"colorbar\":{\"outlinewidth\":0,\"ticks\":\"\"},\"colorscale\":[[0.0,\"#0d0887\"],[0.1111111111111111,\"#46039f\"],[0.2222222222222222,\"#7201a8\"],[0.3333333333333333,\"#9c179e\"],[0.4444444444444444,\"#bd3786\"],[0.5555555555555556,\"#d8576b\"],[0.6666666666666666,\"#ed7953\"],[0.7777777777777778,\"#fb9f3a\"],[0.8888888888888888,\"#fdca26\"],[1.0,\"#f0f921\"]],\"type\":\"histogram2d\"}],\"histogram2dcontour\":[{\"colorbar\":{\"outlinewidth\":0,\"ticks\":\"\"},\"colorscale\":[[0.0,\"#0d0887\"],[0.1111111111111111,\"#46039f\"],[0.2222222222222222,\"#7201a8\"],[0.3333333333333333,\"#9c179e\"],[0.4444444444444444,\"#bd3786\"],[0.5555555555555556,\"#d8576b\"],[0.6666666666666666,\"#ed7953\"],[0.7777777777777778,\"#fb9f3a\"],[0.8888888888888888,\"#fdca26\"],[1.0,\"#f0f921\"]],\"type\":\"histogram2dcontour\"}],\"mesh3d\":[{\"colorbar\":{\"outlinewidth\":0,\"ticks\":\"\"},\"type\":\"mesh3d\"}],\"parcoords\":[{\"line\":{\"colorbar\":{\"outlinewidth\":0,\"ticks\":\"\"}},\"type\":\"parcoords\"}],\"pie\":[{\"automargin\":true,\"type\":\"pie\"}],\"scatter\":[{\"marker\":{\"colorbar\":{\"outlinewidth\":0,\"ticks\":\"\"}},\"type\":\"scatter\"}],\"scatter3d\":[{\"line\":{\"colorbar\":{\"outlinewidth\":0,\"ticks\":\"\"}},\"marker\":{\"colorbar\":{\"outlinewidth\":0,\"ticks\":\"\"}},\"type\":\"scatter3d\"}],\"scattercarpet\":[{\"marker\":{\"colorbar\":{\"outlinewidth\":0,\"ticks\":\"\"}},\"type\":\"scattercarpet\"}],\"scattergeo\":[{\"marker\":{\"colorbar\":{\"outlinewidth\":0,\"ticks\":\"\"}},\"type\":\"scattergeo\"}],\"scattergl\":[{\"marker\":{\"colorbar\":{\"outlinewidth\":0,\"ticks\":\"\"}},\"type\":\"scattergl\"}],\"scattermapbox\":[{\"marker\":{\"colorbar\":{\"outlinewidth\":0,\"ticks\":\"\"}},\"type\":\"scattermapbox\"}],\"scatterpolar\":[{\"marker\":{\"colorbar\":{\"outlinewidth\":0,\"ticks\":\"\"}},\"type\":\"scatterpolar\"}],\"scatterpolargl\":[{\"marker\":{\"colorbar\":{\"outlinewidth\":0,\"ticks\":\"\"}},\"type\":\"scatterpolargl\"}],\"scatterternary\":[{\"marker\":{\"colorbar\":{\"outlinewidth\":0,\"ticks\":\"\"}},\"type\":\"scatterternary\"}],\"surface\":[{\"colorbar\":{\"outlinewidth\":0,\"ticks\":\"\"},\"colorscale\":[[0.0,\"#0d0887\"],[0.1111111111111111,\"#46039f\"],[0.2222222222222222,\"#7201a8\"],[0.3333333333333333,\"#9c179e\"],[0.4444444444444444,\"#bd3786\"],[0.5555555555555556,\"#d8576b\"],[0.6666666666666666,\"#ed7953\"],[0.7777777777777778,\"#fb9f3a\"],[0.8888888888888888,\"#fdca26\"],[1.0,\"#f0f921\"]],\"type\":\"surface\"}],\"table\":[{\"cells\":{\"fill\":{\"color\":\"#EBF0F8\"},\"line\":{\"color\":\"white\"}},\"header\":{\"fill\":{\"color\":\"#C8D4E3\"},\"line\":{\"color\":\"white\"}},\"type\":\"table\"}]},\"layout\":{\"annotationdefaults\":{\"arrowcolor\":\"#2a3f5f\",\"arrowhead\":0,\"arrowwidth\":1},\"autotypenumbers\":\"strict\",\"coloraxis\":{\"colorbar\":{\"outlinewidth\":0,\"ticks\":\"\"}},\"colorscale\":{\"diverging\":[[0,\"#8e0152\"],[0.1,\"#c51b7d\"],[0.2,\"#de77ae\"],[0.3,\"#f1b6da\"],[0.4,\"#fde0ef\"],[0.5,\"#f7f7f7\"],[0.6,\"#e6f5d0\"],[0.7,\"#b8e186\"],[0.8,\"#7fbc41\"],[0.9,\"#4d9221\"],[1,\"#276419\"]],\"sequential\":[[0.0,\"#0d0887\"],[0.1111111111111111,\"#46039f\"],[0.2222222222222222,\"#7201a8\"],[0.3333333333333333,\"#9c179e\"],[0.4444444444444444,\"#bd3786\"],[0.5555555555555556,\"#d8576b\"],[0.6666666666666666,\"#ed7953\"],[0.7777777777777778,\"#fb9f3a\"],[0.8888888888888888,\"#fdca26\"],[1.0,\"#f0f921\"]],\"sequentialminus\":[[0.0,\"#0d0887\"],[0.1111111111111111,\"#46039f\"],[0.2222222222222222,\"#7201a8\"],[0.3333333333333333,\"#9c179e\"],[0.4444444444444444,\"#bd3786\"],[0.5555555555555556,\"#d8576b\"],[0.6666666666666666,\"#ed7953\"],[0.7777777777777778,\"#fb9f3a\"],[0.8888888888888888,\"#fdca26\"],[1.0,\"#f0f921\"]]},\"colorway\":[\"#636efa\",\"#EF553B\",\"#00cc96\",\"#ab63fa\",\"#FFA15A\",\"#19d3f3\",\"#FF6692\",\"#B6E880\",\"#FF97FF\",\"#FECB52\"],\"font\":{\"color\":\"#2a3f5f\"},\"geo\":{\"bgcolor\":\"white\",\"lakecolor\":\"white\",\"landcolor\":\"#E5ECF6\",\"showlakes\":true,\"showland\":true,\"subunitcolor\":\"white\"},\"hoverlabel\":{\"align\":\"left\"},\"hovermode\":\"closest\",\"mapbox\":{\"style\":\"light\"},\"paper_bgcolor\":\"white\",\"plot_bgcolor\":\"#E5ECF6\",\"polar\":{\"angularaxis\":{\"gridcolor\":\"white\",\"linecolor\":\"white\",\"ticks\":\"\"},\"bgcolor\":\"#E5ECF6\",\"radialaxis\":{\"gridcolor\":\"white\",\"linecolor\":\"white\",\"ticks\":\"\"}},\"scene\":{\"xaxis\":{\"backgroundcolor\":\"#E5ECF6\",\"gridcolor\":\"white\",\"gridwidth\":2,\"linecolor\":\"white\",\"showbackground\":true,\"ticks\":\"\",\"zerolinecolor\":\"white\"},\"yaxis\":{\"backgroundcolor\":\"#E5ECF6\",\"gridcolor\":\"white\",\"gridwidth\":2,\"linecolor\":\"white\",\"showbackground\":true,\"ticks\":\"\",\"zerolinecolor\":\"white\"},\"zaxis\":{\"backgroundcolor\":\"#E5ECF6\",\"gridcolor\":\"white\",\"gridwidth\":2,\"linecolor\":\"white\",\"showbackground\":true,\"ticks\":\"\",\"zerolinecolor\":\"white\"}},\"shapedefaults\":{\"line\":{\"color\":\"#2a3f5f\"}},\"ternary\":{\"aaxis\":{\"gridcolor\":\"white\",\"linecolor\":\"white\",\"ticks\":\"\"},\"baxis\":{\"gridcolor\":\"white\",\"linecolor\":\"white\",\"ticks\":\"\"},\"bgcolor\":\"#E5ECF6\",\"caxis\":{\"gridcolor\":\"white\",\"linecolor\":\"white\",\"ticks\":\"\"}},\"title\":{\"x\":0.05},\"xaxis\":{\"automargin\":true,\"gridcolor\":\"white\",\"linecolor\":\"white\",\"ticks\":\"\",\"title\":{\"standoff\":15},\"zerolinecolor\":\"white\",\"zerolinewidth\":2},\"yaxis\":{\"automargin\":true,\"gridcolor\":\"white\",\"linecolor\":\"white\",\"ticks\":\"\",\"title\":{\"standoff\":15},\"zerolinecolor\":\"white\",\"zerolinewidth\":2}}},\"title\":{\"text\":\"Tipo de paseos\"}},                        {\"responsive\": true}                    ).then(function(){\n                            \nvar gd = document.getElementById('51e07c2b-b10a-4881-a177-1682954c77f7');\nvar x = new MutationObserver(function (mutations, observer) {{\n        var display = window.getComputedStyle(gd).display;\n        if (!display || display === 'none') {{\n            console.log([gd, 'removed!']);\n            Plotly.purge(gd);\n            observer.disconnect();\n        }}\n}});\n\n// Listen for the removal of the full notebook cells\nvar notebookContainer = gd.closest('#notebook-container');\nif (notebookContainer) {{\n    x.observe(notebookContainer, {childList: true});\n}}\n\n// Listen for the clearing of the current output cell\nvar outputEl = gd.closest('.output');\nif (outputEl) {{\n    x.observe(outputEl, {childList: true});\n}}\n\n                        })                };                            </script>        </div>\n</body>\n</html>"
     },
     "metadata": {},
     "output_type": "display_data"
    }
   ]
  },
  {
   "cell_type": "markdown",
   "source": "## Uso de los usuarios",
   "metadata": {
    "tags": [],
    "cell_id": "00013-95e8f36e-7ab6-41bd-b802-1ff2007dcd0e",
    "deepnote_cell_type": "markdown"
   }
  },
  {
   "cell_type": "markdown",
   "source": "### Uso de usuarios sin membresía",
   "metadata": {
    "tags": [],
    "cell_id": "00014-9114e0a0-6235-4ffb-a026-251f38793e67",
    "deepnote_cell_type": "markdown"
   }
  },
  {
   "cell_type": "code",
   "source": "df['ones'] = 1 # Nos ayuda a cuantificar los datos categoricos\nmember_casual = df[(df['member_casual'] == 'casual')]\nmember_casual = member_casual.groupby(['member_casual','rideable_type'])[['ones']].sum()\nmember_casual = member_casual.reset_index()\nmember_casual",
   "metadata": {
    "tags": [],
    "cell_id": "00017-96136452-a691-4596-aeba-6ace3397e98c",
    "deepnote_to_be_reexecuted": false,
    "source_hash": "3ee9f4ba",
    "execution_start": 1629334933116,
    "execution_millis": 219,
    "deepnote_cell_type": "code"
   },
   "outputs": [
    {
     "output_type": "execute_result",
     "execution_count": 19,
     "data": {
      "application/vnd.deepnote.dataframe.v2+json": {
       "row_count": 3,
       "column_count": 3,
       "columns": [
        {
         "name": "member_casual",
         "dtype": "object",
         "stats": {
          "unique_count": 1,
          "nan_count": 0,
          "categories": [
           {
            "name": "casual",
            "count": 3
           }
          ]
         }
        },
        {
         "name": "rideable_type",
         "dtype": "object",
         "stats": {
          "unique_count": 3,
          "nan_count": 0,
          "categories": [
           {
            "name": "classic_bike",
            "count": 1
           },
           {
            "name": "docked_bike",
            "count": 1
           },
           {
            "name": "electric_bike",
            "count": 1
           }
          ]
         }
        },
        {
         "name": "ones",
         "dtype": "int64",
         "stats": {
          "unique_count": 3,
          "nan_count": 0,
          "min": "57698",
          "max": "241489",
          "histogram": [
           {
            "bin_start": 57698,
            "bin_end": 76077.1,
            "count": 1
           },
           {
            "bin_start": 76077.1,
            "bin_end": 94456.2,
            "count": 0
           },
           {
            "bin_start": 94456.2,
            "bin_end": 112835.29999999999,
            "count": 0
           },
           {
            "bin_start": 112835.29999999999,
            "bin_end": 131214.4,
            "count": 0
           },
           {
            "bin_start": 131214.4,
            "bin_end": 149593.5,
            "count": 1
           },
           {
            "bin_start": 149593.5,
            "bin_end": 167972.59999999998,
            "count": 0
           },
           {
            "bin_start": 167972.59999999998,
            "bin_end": 186351.69999999998,
            "count": 0
           },
           {
            "bin_start": 186351.69999999998,
            "bin_end": 204730.8,
            "count": 0
           },
           {
            "bin_start": 204730.8,
            "bin_end": 223109.9,
            "count": 0
           },
           {
            "bin_start": 223109.9,
            "bin_end": 241489,
            "count": 1
           }
          ]
         }
        },
        {
         "name": "_deepnote_index_column",
         "dtype": "int64"
        }
       ],
       "rows_top": [
        {
         "member_casual": "casual",
         "rideable_type": "classic_bike",
         "ones": 241489,
         "_deepnote_index_column": 0
        },
        {
         "member_casual": "casual",
         "rideable_type": "docked_bike",
         "ones": 57698,
         "_deepnote_index_column": 1
        },
        {
         "member_casual": "casual",
         "rideable_type": "electric_bike",
         "ones": 142869,
         "_deepnote_index_column": 2
        }
       ],
       "rows_bottom": null
      },
      "text/plain": "  member_casual  rideable_type    ones\n0        casual   classic_bike  241489\n1        casual    docked_bike   57698\n2        casual  electric_bike  142869",
      "text/html": "<div>\n<style scoped>\n    .dataframe tbody tr th:only-of-type {\n        vertical-align: middle;\n    }\n\n    .dataframe tbody tr th {\n        vertical-align: top;\n    }\n\n    .dataframe thead th {\n        text-align: right;\n    }\n</style>\n<table border=\"1\" class=\"dataframe\">\n  <thead>\n    <tr style=\"text-align: right;\">\n      <th></th>\n      <th>member_casual</th>\n      <th>rideable_type</th>\n      <th>ones</th>\n    </tr>\n  </thead>\n  <tbody>\n    <tr>\n      <th>0</th>\n      <td>casual</td>\n      <td>classic_bike</td>\n      <td>241489</td>\n    </tr>\n    <tr>\n      <th>1</th>\n      <td>casual</td>\n      <td>docked_bike</td>\n      <td>57698</td>\n    </tr>\n    <tr>\n      <th>2</th>\n      <td>casual</td>\n      <td>electric_bike</td>\n      <td>142869</td>\n    </tr>\n  </tbody>\n</table>\n</div>"
     },
     "metadata": {}
    }
   ],
   "execution_count": 19
  },
  {
   "cell_type": "code",
   "source": "fig = px.bar(member_casual, x='rideable_type',\n    y='ones',\n    labels={'ones':'Total','rideable_type':'Tipo de paseo'},\n    color='rideable_type',\n    title='Usuario sin membresia'\n)\nfig.update_layout(xaxis = {'categoryorder':'total descending'})\nfig.show()",
   "metadata": {
    "tags": [],
    "cell_id": "00018-3c7fc5ff-a824-427e-a7bd-18980edbeb2c",
    "deepnote_to_be_reexecuted": false,
    "source_hash": "8b3bcb4c",
    "execution_start": 1629335976777,
    "execution_millis": 65,
    "deepnote_cell_type": "code"
   },
   "outputs": [
    {
     "data": {
      "text/html": "<html>\n<head><meta charset=\"utf-8\" /></head>\n<body>\n    <div>            <script src=\"https://cdnjs.cloudflare.com/ajax/libs/mathjax/2.7.5/MathJax.js?config=TeX-AMS-MML_SVG\"></script><script type=\"text/javascript\">if (window.MathJax) {MathJax.Hub.Config({SVG: {font: \"STIX-Web\"}});}</script>                <script type=\"text/javascript\">window.PlotlyConfig = {MathJaxConfig: 'local'};</script>\n        <script src=\"https://cdn.plot.ly/plotly-2.2.0.min.js\"></script>                <div id=\"ca9251ef-2c27-4bd2-b103-cbb2fe31f249\" class=\"plotly-graph-div\" style=\"height:525px; width:100%;\"></div>            <script type=\"text/javascript\">                                    window.PLOTLYENV=window.PLOTLYENV || {};                                    if (document.getElementById(\"ca9251ef-2c27-4bd2-b103-cbb2fe31f249\")) {                    Plotly.newPlot(                        \"ca9251ef-2c27-4bd2-b103-cbb2fe31f249\",                        [{\"alignmentgroup\":\"True\",\"hovertemplate\":\"Tipo de paseo=%{x}<br>Total=%{y}<extra></extra>\",\"legendgroup\":\"classic_bike\",\"marker\":{\"color\":\"#636efa\",\"pattern\":{\"shape\":\"\"}},\"name\":\"classic_bike\",\"offsetgroup\":\"classic_bike\",\"orientation\":\"v\",\"showlegend\":true,\"textposition\":\"auto\",\"type\":\"bar\",\"x\":[\"classic_bike\"],\"xaxis\":\"x\",\"y\":[241489],\"yaxis\":\"y\"},{\"alignmentgroup\":\"True\",\"hovertemplate\":\"Tipo de paseo=%{x}<br>Total=%{y}<extra></extra>\",\"legendgroup\":\"docked_bike\",\"marker\":{\"color\":\"#EF553B\",\"pattern\":{\"shape\":\"\"}},\"name\":\"docked_bike\",\"offsetgroup\":\"docked_bike\",\"orientation\":\"v\",\"showlegend\":true,\"textposition\":\"auto\",\"type\":\"bar\",\"x\":[\"docked_bike\"],\"xaxis\":\"x\",\"y\":[57698],\"yaxis\":\"y\"},{\"alignmentgroup\":\"True\",\"hovertemplate\":\"Tipo de paseo=%{x}<br>Total=%{y}<extra></extra>\",\"legendgroup\":\"electric_bike\",\"marker\":{\"color\":\"#00cc96\",\"pattern\":{\"shape\":\"\"}},\"name\":\"electric_bike\",\"offsetgroup\":\"electric_bike\",\"orientation\":\"v\",\"showlegend\":true,\"textposition\":\"auto\",\"type\":\"bar\",\"x\":[\"electric_bike\"],\"xaxis\":\"x\",\"y\":[142869],\"yaxis\":\"y\"}],                        {\"barmode\":\"relative\",\"legend\":{\"title\":{\"text\":\"Tipo de paseo\"},\"tracegroupgap\":0},\"template\":{\"data\":{\"bar\":[{\"error_x\":{\"color\":\"#2a3f5f\"},\"error_y\":{\"color\":\"#2a3f5f\"},\"marker\":{\"line\":{\"color\":\"#E5ECF6\",\"width\":0.5},\"pattern\":{\"fillmode\":\"overlay\",\"size\":10,\"solidity\":0.2}},\"type\":\"bar\"}],\"barpolar\":[{\"marker\":{\"line\":{\"color\":\"#E5ECF6\",\"width\":0.5},\"pattern\":{\"fillmode\":\"overlay\",\"size\":10,\"solidity\":0.2}},\"type\":\"barpolar\"}],\"carpet\":[{\"aaxis\":{\"endlinecolor\":\"#2a3f5f\",\"gridcolor\":\"white\",\"linecolor\":\"white\",\"minorgridcolor\":\"white\",\"startlinecolor\":\"#2a3f5f\"},\"baxis\":{\"endlinecolor\":\"#2a3f5f\",\"gridcolor\":\"white\",\"linecolor\":\"white\",\"minorgridcolor\":\"white\",\"startlinecolor\":\"#2a3f5f\"},\"type\":\"carpet\"}],\"choropleth\":[{\"colorbar\":{\"outlinewidth\":0,\"ticks\":\"\"},\"type\":\"choropleth\"}],\"contour\":[{\"colorbar\":{\"outlinewidth\":0,\"ticks\":\"\"},\"colorscale\":[[0.0,\"#0d0887\"],[0.1111111111111111,\"#46039f\"],[0.2222222222222222,\"#7201a8\"],[0.3333333333333333,\"#9c179e\"],[0.4444444444444444,\"#bd3786\"],[0.5555555555555556,\"#d8576b\"],[0.6666666666666666,\"#ed7953\"],[0.7777777777777778,\"#fb9f3a\"],[0.8888888888888888,\"#fdca26\"],[1.0,\"#f0f921\"]],\"type\":\"contour\"}],\"contourcarpet\":[{\"colorbar\":{\"outlinewidth\":0,\"ticks\":\"\"},\"type\":\"contourcarpet\"}],\"heatmap\":[{\"colorbar\":{\"outlinewidth\":0,\"ticks\":\"\"},\"colorscale\":[[0.0,\"#0d0887\"],[0.1111111111111111,\"#46039f\"],[0.2222222222222222,\"#7201a8\"],[0.3333333333333333,\"#9c179e\"],[0.4444444444444444,\"#bd3786\"],[0.5555555555555556,\"#d8576b\"],[0.6666666666666666,\"#ed7953\"],[0.7777777777777778,\"#fb9f3a\"],[0.8888888888888888,\"#fdca26\"],[1.0,\"#f0f921\"]],\"type\":\"heatmap\"}],\"heatmapgl\":[{\"colorbar\":{\"outlinewidth\":0,\"ticks\":\"\"},\"colorscale\":[[0.0,\"#0d0887\"],[0.1111111111111111,\"#46039f\"],[0.2222222222222222,\"#7201a8\"],[0.3333333333333333,\"#9c179e\"],[0.4444444444444444,\"#bd3786\"],[0.5555555555555556,\"#d8576b\"],[0.6666666666666666,\"#ed7953\"],[0.7777777777777778,\"#fb9f3a\"],[0.8888888888888888,\"#fdca26\"],[1.0,\"#f0f921\"]],\"type\":\"heatmapgl\"}],\"histogram\":[{\"marker\":{\"pattern\":{\"fillmode\":\"overlay\",\"size\":10,\"solidity\":0.2}},\"type\":\"histogram\"}],\"histogram2d\":[{\"colorbar\":{\"outlinewidth\":0,\"ticks\":\"\"},\"colorscale\":[[0.0,\"#0d0887\"],[0.1111111111111111,\"#46039f\"],[0.2222222222222222,\"#7201a8\"],[0.3333333333333333,\"#9c179e\"],[0.4444444444444444,\"#bd3786\"],[0.5555555555555556,\"#d8576b\"],[0.6666666666666666,\"#ed7953\"],[0.7777777777777778,\"#fb9f3a\"],[0.8888888888888888,\"#fdca26\"],[1.0,\"#f0f921\"]],\"type\":\"histogram2d\"}],\"histogram2dcontour\":[{\"colorbar\":{\"outlinewidth\":0,\"ticks\":\"\"},\"colorscale\":[[0.0,\"#0d0887\"],[0.1111111111111111,\"#46039f\"],[0.2222222222222222,\"#7201a8\"],[0.3333333333333333,\"#9c179e\"],[0.4444444444444444,\"#bd3786\"],[0.5555555555555556,\"#d8576b\"],[0.6666666666666666,\"#ed7953\"],[0.7777777777777778,\"#fb9f3a\"],[0.8888888888888888,\"#fdca26\"],[1.0,\"#f0f921\"]],\"type\":\"histogram2dcontour\"}],\"mesh3d\":[{\"colorbar\":{\"outlinewidth\":0,\"ticks\":\"\"},\"type\":\"mesh3d\"}],\"parcoords\":[{\"line\":{\"colorbar\":{\"outlinewidth\":0,\"ticks\":\"\"}},\"type\":\"parcoords\"}],\"pie\":[{\"automargin\":true,\"type\":\"pie\"}],\"scatter\":[{\"marker\":{\"colorbar\":{\"outlinewidth\":0,\"ticks\":\"\"}},\"type\":\"scatter\"}],\"scatter3d\":[{\"line\":{\"colorbar\":{\"outlinewidth\":0,\"ticks\":\"\"}},\"marker\":{\"colorbar\":{\"outlinewidth\":0,\"ticks\":\"\"}},\"type\":\"scatter3d\"}],\"scattercarpet\":[{\"marker\":{\"colorbar\":{\"outlinewidth\":0,\"ticks\":\"\"}},\"type\":\"scattercarpet\"}],\"scattergeo\":[{\"marker\":{\"colorbar\":{\"outlinewidth\":0,\"ticks\":\"\"}},\"type\":\"scattergeo\"}],\"scattergl\":[{\"marker\":{\"colorbar\":{\"outlinewidth\":0,\"ticks\":\"\"}},\"type\":\"scattergl\"}],\"scattermapbox\":[{\"marker\":{\"colorbar\":{\"outlinewidth\":0,\"ticks\":\"\"}},\"type\":\"scattermapbox\"}],\"scatterpolar\":[{\"marker\":{\"colorbar\":{\"outlinewidth\":0,\"ticks\":\"\"}},\"type\":\"scatterpolar\"}],\"scatterpolargl\":[{\"marker\":{\"colorbar\":{\"outlinewidth\":0,\"ticks\":\"\"}},\"type\":\"scatterpolargl\"}],\"scatterternary\":[{\"marker\":{\"colorbar\":{\"outlinewidth\":0,\"ticks\":\"\"}},\"type\":\"scatterternary\"}],\"surface\":[{\"colorbar\":{\"outlinewidth\":0,\"ticks\":\"\"},\"colorscale\":[[0.0,\"#0d0887\"],[0.1111111111111111,\"#46039f\"],[0.2222222222222222,\"#7201a8\"],[0.3333333333333333,\"#9c179e\"],[0.4444444444444444,\"#bd3786\"],[0.5555555555555556,\"#d8576b\"],[0.6666666666666666,\"#ed7953\"],[0.7777777777777778,\"#fb9f3a\"],[0.8888888888888888,\"#fdca26\"],[1.0,\"#f0f921\"]],\"type\":\"surface\"}],\"table\":[{\"cells\":{\"fill\":{\"color\":\"#EBF0F8\"},\"line\":{\"color\":\"white\"}},\"header\":{\"fill\":{\"color\":\"#C8D4E3\"},\"line\":{\"color\":\"white\"}},\"type\":\"table\"}]},\"layout\":{\"annotationdefaults\":{\"arrowcolor\":\"#2a3f5f\",\"arrowhead\":0,\"arrowwidth\":1},\"autotypenumbers\":\"strict\",\"coloraxis\":{\"colorbar\":{\"outlinewidth\":0,\"ticks\":\"\"}},\"colorscale\":{\"diverging\":[[0,\"#8e0152\"],[0.1,\"#c51b7d\"],[0.2,\"#de77ae\"],[0.3,\"#f1b6da\"],[0.4,\"#fde0ef\"],[0.5,\"#f7f7f7\"],[0.6,\"#e6f5d0\"],[0.7,\"#b8e186\"],[0.8,\"#7fbc41\"],[0.9,\"#4d9221\"],[1,\"#276419\"]],\"sequential\":[[0.0,\"#0d0887\"],[0.1111111111111111,\"#46039f\"],[0.2222222222222222,\"#7201a8\"],[0.3333333333333333,\"#9c179e\"],[0.4444444444444444,\"#bd3786\"],[0.5555555555555556,\"#d8576b\"],[0.6666666666666666,\"#ed7953\"],[0.7777777777777778,\"#fb9f3a\"],[0.8888888888888888,\"#fdca26\"],[1.0,\"#f0f921\"]],\"sequentialminus\":[[0.0,\"#0d0887\"],[0.1111111111111111,\"#46039f\"],[0.2222222222222222,\"#7201a8\"],[0.3333333333333333,\"#9c179e\"],[0.4444444444444444,\"#bd3786\"],[0.5555555555555556,\"#d8576b\"],[0.6666666666666666,\"#ed7953\"],[0.7777777777777778,\"#fb9f3a\"],[0.8888888888888888,\"#fdca26\"],[1.0,\"#f0f921\"]]},\"colorway\":[\"#636efa\",\"#EF553B\",\"#00cc96\",\"#ab63fa\",\"#FFA15A\",\"#19d3f3\",\"#FF6692\",\"#B6E880\",\"#FF97FF\",\"#FECB52\"],\"font\":{\"color\":\"#2a3f5f\"},\"geo\":{\"bgcolor\":\"white\",\"lakecolor\":\"white\",\"landcolor\":\"#E5ECF6\",\"showlakes\":true,\"showland\":true,\"subunitcolor\":\"white\"},\"hoverlabel\":{\"align\":\"left\"},\"hovermode\":\"closest\",\"mapbox\":{\"style\":\"light\"},\"paper_bgcolor\":\"white\",\"plot_bgcolor\":\"#E5ECF6\",\"polar\":{\"angularaxis\":{\"gridcolor\":\"white\",\"linecolor\":\"white\",\"ticks\":\"\"},\"bgcolor\":\"#E5ECF6\",\"radialaxis\":{\"gridcolor\":\"white\",\"linecolor\":\"white\",\"ticks\":\"\"}},\"scene\":{\"xaxis\":{\"backgroundcolor\":\"#E5ECF6\",\"gridcolor\":\"white\",\"gridwidth\":2,\"linecolor\":\"white\",\"showbackground\":true,\"ticks\":\"\",\"zerolinecolor\":\"white\"},\"yaxis\":{\"backgroundcolor\":\"#E5ECF6\",\"gridcolor\":\"white\",\"gridwidth\":2,\"linecolor\":\"white\",\"showbackground\":true,\"ticks\":\"\",\"zerolinecolor\":\"white\"},\"zaxis\":{\"backgroundcolor\":\"#E5ECF6\",\"gridcolor\":\"white\",\"gridwidth\":2,\"linecolor\":\"white\",\"showbackground\":true,\"ticks\":\"\",\"zerolinecolor\":\"white\"}},\"shapedefaults\":{\"line\":{\"color\":\"#2a3f5f\"}},\"ternary\":{\"aaxis\":{\"gridcolor\":\"white\",\"linecolor\":\"white\",\"ticks\":\"\"},\"baxis\":{\"gridcolor\":\"white\",\"linecolor\":\"white\",\"ticks\":\"\"},\"bgcolor\":\"#E5ECF6\",\"caxis\":{\"gridcolor\":\"white\",\"linecolor\":\"white\",\"ticks\":\"\"}},\"title\":{\"x\":0.05},\"xaxis\":{\"automargin\":true,\"gridcolor\":\"white\",\"linecolor\":\"white\",\"ticks\":\"\",\"title\":{\"standoff\":15},\"zerolinecolor\":\"white\",\"zerolinewidth\":2},\"yaxis\":{\"automargin\":true,\"gridcolor\":\"white\",\"linecolor\":\"white\",\"ticks\":\"\",\"title\":{\"standoff\":15},\"zerolinecolor\":\"white\",\"zerolinewidth\":2}}},\"title\":{\"text\":\"Usuario sin membresia\"},\"xaxis\":{\"anchor\":\"y\",\"categoryarray\":[\"classic_bike\",\"docked_bike\",\"electric_bike\"],\"categoryorder\":\"total descending\",\"domain\":[0.0,1.0],\"title\":{\"text\":\"Tipo de paseo\"}},\"yaxis\":{\"anchor\":\"x\",\"domain\":[0.0,1.0],\"title\":{\"text\":\"Total\"}}},                        {\"responsive\": true}                    ).then(function(){\n                            \nvar gd = document.getElementById('ca9251ef-2c27-4bd2-b103-cbb2fe31f249');\nvar x = new MutationObserver(function (mutations, observer) {{\n        var display = window.getComputedStyle(gd).display;\n        if (!display || display === 'none') {{\n            console.log([gd, 'removed!']);\n            Plotly.purge(gd);\n            observer.disconnect();\n        }}\n}});\n\n// Listen for the removal of the full notebook cells\nvar notebookContainer = gd.closest('#notebook-container');\nif (notebookContainer) {{\n    x.observe(notebookContainer, {childList: true});\n}}\n\n// Listen for the clearing of the current output cell\nvar outputEl = gd.closest('.output');\nif (outputEl) {{\n    x.observe(outputEl, {childList: true});\n}}\n\n                        })                };                            </script>        </div>\n</body>\n</html>"
     },
     "metadata": {},
     "output_type": "display_data"
    }
   ],
   "execution_count": 34
  },
  {
   "cell_type": "markdown",
   "source": "### Uso de usuarios con membresía",
   "metadata": {
    "tags": [],
    "cell_id": "00016-9536d0d6-a36a-4076-a227-4ab53d612e60",
    "deepnote_cell_type": "markdown"
   }
  },
  {
   "cell_type": "code",
   "source": "member = df[(df['member_casual'] == 'member')]\nmember = member.groupby(['member_casual','rideable_type'])[['ones']].sum()\nmember = member.reset_index()\nmember",
   "metadata": {
    "tags": [],
    "cell_id": "00016-717baaf0-3363-470e-b81b-76d06c8a1554",
    "deepnote_to_be_reexecuted": false,
    "source_hash": "9ad15203",
    "execution_start": 1629336054876,
    "execution_millis": 154,
    "deepnote_cell_type": "code"
   },
   "outputs": [
    {
     "output_type": "execute_result",
     "execution_count": 36,
     "data": {
      "application/vnd.deepnote.dataframe.v2+json": {
       "row_count": 2,
       "column_count": 3,
       "columns": [
        {
         "name": "member_casual",
         "dtype": "object",
         "stats": {
          "unique_count": 1,
          "nan_count": 0,
          "categories": [
           {
            "name": "member",
            "count": 2
           }
          ]
         }
        },
        {
         "name": "rideable_type",
         "dtype": "object",
         "stats": {
          "unique_count": 2,
          "nan_count": 0,
          "categories": [
           {
            "name": "classic_bike",
            "count": 1
           },
           {
            "name": "electric_bike",
            "count": 1
           }
          ]
         }
        },
        {
         "name": "ones",
         "dtype": "int64",
         "stats": {
          "unique_count": 2,
          "nan_count": 0,
          "min": "114934",
          "max": "265420",
          "histogram": [
           {
            "bin_start": 114934,
            "bin_end": 129982.6,
            "count": 1
           },
           {
            "bin_start": 129982.6,
            "bin_end": 145031.2,
            "count": 0
           },
           {
            "bin_start": 145031.2,
            "bin_end": 160079.8,
            "count": 0
           },
           {
            "bin_start": 160079.8,
            "bin_end": 175128.4,
            "count": 0
           },
           {
            "bin_start": 175128.4,
            "bin_end": 190177,
            "count": 0
           },
           {
            "bin_start": 190177,
            "bin_end": 205225.6,
            "count": 0
           },
           {
            "bin_start": 205225.6,
            "bin_end": 220274.2,
            "count": 0
           },
           {
            "bin_start": 220274.2,
            "bin_end": 235322.8,
            "count": 0
           },
           {
            "bin_start": 235322.8,
            "bin_end": 250371.4,
            "count": 0
           },
           {
            "bin_start": 250371.4,
            "bin_end": 265420,
            "count": 1
           }
          ]
         }
        },
        {
         "name": "_deepnote_index_column",
         "dtype": "int64"
        }
       ],
       "rows_top": [
        {
         "member_casual": "member",
         "rideable_type": "classic_bike",
         "ones": 265420,
         "_deepnote_index_column": 0
        },
        {
         "member_casual": "member",
         "rideable_type": "electric_bike",
         "ones": 114934,
         "_deepnote_index_column": 1
        }
       ],
       "rows_bottom": null
      },
      "text/plain": "  member_casual  rideable_type    ones\n0        member   classic_bike  265420\n1        member  electric_bike  114934",
      "text/html": "<div>\n<style scoped>\n    .dataframe tbody tr th:only-of-type {\n        vertical-align: middle;\n    }\n\n    .dataframe tbody tr th {\n        vertical-align: top;\n    }\n\n    .dataframe thead th {\n        text-align: right;\n    }\n</style>\n<table border=\"1\" class=\"dataframe\">\n  <thead>\n    <tr style=\"text-align: right;\">\n      <th></th>\n      <th>member_casual</th>\n      <th>rideable_type</th>\n      <th>ones</th>\n    </tr>\n  </thead>\n  <tbody>\n    <tr>\n      <th>0</th>\n      <td>member</td>\n      <td>classic_bike</td>\n      <td>265420</td>\n    </tr>\n    <tr>\n      <th>1</th>\n      <td>member</td>\n      <td>electric_bike</td>\n      <td>114934</td>\n    </tr>\n  </tbody>\n</table>\n</div>"
     },
     "metadata": {}
    }
   ],
   "execution_count": 36
  },
  {
   "cell_type": "code",
   "source": "fig = px.bar(member, x='rideable_type',\n    y='ones',\n    labels={'ones':'Total','rideable_type':'Tipo de paseo'},\n    color='rideable_type',\n    title='Usuario con membresia'\n)\nfig.update_layout(xaxis = {'categoryorder':'total descending'})\nfig.show()",
   "metadata": {
    "tags": [],
    "cell_id": "00018-4e570dd6-b95a-48cb-8ab4-9a8d34ec71f2",
    "deepnote_to_be_reexecuted": false,
    "source_hash": "407090a4",
    "execution_start": 1629336048576,
    "execution_millis": 69,
    "deepnote_cell_type": "code"
   },
   "outputs": [
    {
     "data": {
      "text/html": "<html>\n<head><meta charset=\"utf-8\" /></head>\n<body>\n    <div>            <script src=\"https://cdnjs.cloudflare.com/ajax/libs/mathjax/2.7.5/MathJax.js?config=TeX-AMS-MML_SVG\"></script><script type=\"text/javascript\">if (window.MathJax) {MathJax.Hub.Config({SVG: {font: \"STIX-Web\"}});}</script>                <script type=\"text/javascript\">window.PlotlyConfig = {MathJaxConfig: 'local'};</script>\n        <script src=\"https://cdn.plot.ly/plotly-2.2.0.min.js\"></script>                <div id=\"91cdffd0-8c9c-40c1-a4fc-0860e56c1259\" class=\"plotly-graph-div\" style=\"height:525px; width:100%;\"></div>            <script type=\"text/javascript\">                                    window.PLOTLYENV=window.PLOTLYENV || {};                                    if (document.getElementById(\"91cdffd0-8c9c-40c1-a4fc-0860e56c1259\")) {                    Plotly.newPlot(                        \"91cdffd0-8c9c-40c1-a4fc-0860e56c1259\",                        [{\"alignmentgroup\":\"True\",\"hovertemplate\":\"Tipo de paseo=%{x}<br>Total=%{y}<extra></extra>\",\"legendgroup\":\"classic_bike\",\"marker\":{\"color\":\"#636efa\",\"pattern\":{\"shape\":\"\"}},\"name\":\"classic_bike\",\"offsetgroup\":\"classic_bike\",\"orientation\":\"v\",\"showlegend\":true,\"textposition\":\"auto\",\"type\":\"bar\",\"x\":[\"classic_bike\"],\"xaxis\":\"x\",\"y\":[265420],\"yaxis\":\"y\"},{\"alignmentgroup\":\"True\",\"hovertemplate\":\"Tipo de paseo=%{x}<br>Total=%{y}<extra></extra>\",\"legendgroup\":\"electric_bike\",\"marker\":{\"color\":\"#EF553B\",\"pattern\":{\"shape\":\"\"}},\"name\":\"electric_bike\",\"offsetgroup\":\"electric_bike\",\"orientation\":\"v\",\"showlegend\":true,\"textposition\":\"auto\",\"type\":\"bar\",\"x\":[\"electric_bike\"],\"xaxis\":\"x\",\"y\":[114934],\"yaxis\":\"y\"}],                        {\"barmode\":\"relative\",\"legend\":{\"title\":{\"text\":\"Tipo de paseo\"},\"tracegroupgap\":0},\"template\":{\"data\":{\"bar\":[{\"error_x\":{\"color\":\"#2a3f5f\"},\"error_y\":{\"color\":\"#2a3f5f\"},\"marker\":{\"line\":{\"color\":\"#E5ECF6\",\"width\":0.5},\"pattern\":{\"fillmode\":\"overlay\",\"size\":10,\"solidity\":0.2}},\"type\":\"bar\"}],\"barpolar\":[{\"marker\":{\"line\":{\"color\":\"#E5ECF6\",\"width\":0.5},\"pattern\":{\"fillmode\":\"overlay\",\"size\":10,\"solidity\":0.2}},\"type\":\"barpolar\"}],\"carpet\":[{\"aaxis\":{\"endlinecolor\":\"#2a3f5f\",\"gridcolor\":\"white\",\"linecolor\":\"white\",\"minorgridcolor\":\"white\",\"startlinecolor\":\"#2a3f5f\"},\"baxis\":{\"endlinecolor\":\"#2a3f5f\",\"gridcolor\":\"white\",\"linecolor\":\"white\",\"minorgridcolor\":\"white\",\"startlinecolor\":\"#2a3f5f\"},\"type\":\"carpet\"}],\"choropleth\":[{\"colorbar\":{\"outlinewidth\":0,\"ticks\":\"\"},\"type\":\"choropleth\"}],\"contour\":[{\"colorbar\":{\"outlinewidth\":0,\"ticks\":\"\"},\"colorscale\":[[0.0,\"#0d0887\"],[0.1111111111111111,\"#46039f\"],[0.2222222222222222,\"#7201a8\"],[0.3333333333333333,\"#9c179e\"],[0.4444444444444444,\"#bd3786\"],[0.5555555555555556,\"#d8576b\"],[0.6666666666666666,\"#ed7953\"],[0.7777777777777778,\"#fb9f3a\"],[0.8888888888888888,\"#fdca26\"],[1.0,\"#f0f921\"]],\"type\":\"contour\"}],\"contourcarpet\":[{\"colorbar\":{\"outlinewidth\":0,\"ticks\":\"\"},\"type\":\"contourcarpet\"}],\"heatmap\":[{\"colorbar\":{\"outlinewidth\":0,\"ticks\":\"\"},\"colorscale\":[[0.0,\"#0d0887\"],[0.1111111111111111,\"#46039f\"],[0.2222222222222222,\"#7201a8\"],[0.3333333333333333,\"#9c179e\"],[0.4444444444444444,\"#bd3786\"],[0.5555555555555556,\"#d8576b\"],[0.6666666666666666,\"#ed7953\"],[0.7777777777777778,\"#fb9f3a\"],[0.8888888888888888,\"#fdca26\"],[1.0,\"#f0f921\"]],\"type\":\"heatmap\"}],\"heatmapgl\":[{\"colorbar\":{\"outlinewidth\":0,\"ticks\":\"\"},\"colorscale\":[[0.0,\"#0d0887\"],[0.1111111111111111,\"#46039f\"],[0.2222222222222222,\"#7201a8\"],[0.3333333333333333,\"#9c179e\"],[0.4444444444444444,\"#bd3786\"],[0.5555555555555556,\"#d8576b\"],[0.6666666666666666,\"#ed7953\"],[0.7777777777777778,\"#fb9f3a\"],[0.8888888888888888,\"#fdca26\"],[1.0,\"#f0f921\"]],\"type\":\"heatmapgl\"}],\"histogram\":[{\"marker\":{\"pattern\":{\"fillmode\":\"overlay\",\"size\":10,\"solidity\":0.2}},\"type\":\"histogram\"}],\"histogram2d\":[{\"colorbar\":{\"outlinewidth\":0,\"ticks\":\"\"},\"colorscale\":[[0.0,\"#0d0887\"],[0.1111111111111111,\"#46039f\"],[0.2222222222222222,\"#7201a8\"],[0.3333333333333333,\"#9c179e\"],[0.4444444444444444,\"#bd3786\"],[0.5555555555555556,\"#d8576b\"],[0.6666666666666666,\"#ed7953\"],[0.7777777777777778,\"#fb9f3a\"],[0.8888888888888888,\"#fdca26\"],[1.0,\"#f0f921\"]],\"type\":\"histogram2d\"}],\"histogram2dcontour\":[{\"colorbar\":{\"outlinewidth\":0,\"ticks\":\"\"},\"colorscale\":[[0.0,\"#0d0887\"],[0.1111111111111111,\"#46039f\"],[0.2222222222222222,\"#7201a8\"],[0.3333333333333333,\"#9c179e\"],[0.4444444444444444,\"#bd3786\"],[0.5555555555555556,\"#d8576b\"],[0.6666666666666666,\"#ed7953\"],[0.7777777777777778,\"#fb9f3a\"],[0.8888888888888888,\"#fdca26\"],[1.0,\"#f0f921\"]],\"type\":\"histogram2dcontour\"}],\"mesh3d\":[{\"colorbar\":{\"outlinewidth\":0,\"ticks\":\"\"},\"type\":\"mesh3d\"}],\"parcoords\":[{\"line\":{\"colorbar\":{\"outlinewidth\":0,\"ticks\":\"\"}},\"type\":\"parcoords\"}],\"pie\":[{\"automargin\":true,\"type\":\"pie\"}],\"scatter\":[{\"marker\":{\"colorbar\":{\"outlinewidth\":0,\"ticks\":\"\"}},\"type\":\"scatter\"}],\"scatter3d\":[{\"line\":{\"colorbar\":{\"outlinewidth\":0,\"ticks\":\"\"}},\"marker\":{\"colorbar\":{\"outlinewidth\":0,\"ticks\":\"\"}},\"type\":\"scatter3d\"}],\"scattercarpet\":[{\"marker\":{\"colorbar\":{\"outlinewidth\":0,\"ticks\":\"\"}},\"type\":\"scattercarpet\"}],\"scattergeo\":[{\"marker\":{\"colorbar\":{\"outlinewidth\":0,\"ticks\":\"\"}},\"type\":\"scattergeo\"}],\"scattergl\":[{\"marker\":{\"colorbar\":{\"outlinewidth\":0,\"ticks\":\"\"}},\"type\":\"scattergl\"}],\"scattermapbox\":[{\"marker\":{\"colorbar\":{\"outlinewidth\":0,\"ticks\":\"\"}},\"type\":\"scattermapbox\"}],\"scatterpolar\":[{\"marker\":{\"colorbar\":{\"outlinewidth\":0,\"ticks\":\"\"}},\"type\":\"scatterpolar\"}],\"scatterpolargl\":[{\"marker\":{\"colorbar\":{\"outlinewidth\":0,\"ticks\":\"\"}},\"type\":\"scatterpolargl\"}],\"scatterternary\":[{\"marker\":{\"colorbar\":{\"outlinewidth\":0,\"ticks\":\"\"}},\"type\":\"scatterternary\"}],\"surface\":[{\"colorbar\":{\"outlinewidth\":0,\"ticks\":\"\"},\"colorscale\":[[0.0,\"#0d0887\"],[0.1111111111111111,\"#46039f\"],[0.2222222222222222,\"#7201a8\"],[0.3333333333333333,\"#9c179e\"],[0.4444444444444444,\"#bd3786\"],[0.5555555555555556,\"#d8576b\"],[0.6666666666666666,\"#ed7953\"],[0.7777777777777778,\"#fb9f3a\"],[0.8888888888888888,\"#fdca26\"],[1.0,\"#f0f921\"]],\"type\":\"surface\"}],\"table\":[{\"cells\":{\"fill\":{\"color\":\"#EBF0F8\"},\"line\":{\"color\":\"white\"}},\"header\":{\"fill\":{\"color\":\"#C8D4E3\"},\"line\":{\"color\":\"white\"}},\"type\":\"table\"}]},\"layout\":{\"annotationdefaults\":{\"arrowcolor\":\"#2a3f5f\",\"arrowhead\":0,\"arrowwidth\":1},\"autotypenumbers\":\"strict\",\"coloraxis\":{\"colorbar\":{\"outlinewidth\":0,\"ticks\":\"\"}},\"colorscale\":{\"diverging\":[[0,\"#8e0152\"],[0.1,\"#c51b7d\"],[0.2,\"#de77ae\"],[0.3,\"#f1b6da\"],[0.4,\"#fde0ef\"],[0.5,\"#f7f7f7\"],[0.6,\"#e6f5d0\"],[0.7,\"#b8e186\"],[0.8,\"#7fbc41\"],[0.9,\"#4d9221\"],[1,\"#276419\"]],\"sequential\":[[0.0,\"#0d0887\"],[0.1111111111111111,\"#46039f\"],[0.2222222222222222,\"#7201a8\"],[0.3333333333333333,\"#9c179e\"],[0.4444444444444444,\"#bd3786\"],[0.5555555555555556,\"#d8576b\"],[0.6666666666666666,\"#ed7953\"],[0.7777777777777778,\"#fb9f3a\"],[0.8888888888888888,\"#fdca26\"],[1.0,\"#f0f921\"]],\"sequentialminus\":[[0.0,\"#0d0887\"],[0.1111111111111111,\"#46039f\"],[0.2222222222222222,\"#7201a8\"],[0.3333333333333333,\"#9c179e\"],[0.4444444444444444,\"#bd3786\"],[0.5555555555555556,\"#d8576b\"],[0.6666666666666666,\"#ed7953\"],[0.7777777777777778,\"#fb9f3a\"],[0.8888888888888888,\"#fdca26\"],[1.0,\"#f0f921\"]]},\"colorway\":[\"#636efa\",\"#EF553B\",\"#00cc96\",\"#ab63fa\",\"#FFA15A\",\"#19d3f3\",\"#FF6692\",\"#B6E880\",\"#FF97FF\",\"#FECB52\"],\"font\":{\"color\":\"#2a3f5f\"},\"geo\":{\"bgcolor\":\"white\",\"lakecolor\":\"white\",\"landcolor\":\"#E5ECF6\",\"showlakes\":true,\"showland\":true,\"subunitcolor\":\"white\"},\"hoverlabel\":{\"align\":\"left\"},\"hovermode\":\"closest\",\"mapbox\":{\"style\":\"light\"},\"paper_bgcolor\":\"white\",\"plot_bgcolor\":\"#E5ECF6\",\"polar\":{\"angularaxis\":{\"gridcolor\":\"white\",\"linecolor\":\"white\",\"ticks\":\"\"},\"bgcolor\":\"#E5ECF6\",\"radialaxis\":{\"gridcolor\":\"white\",\"linecolor\":\"white\",\"ticks\":\"\"}},\"scene\":{\"xaxis\":{\"backgroundcolor\":\"#E5ECF6\",\"gridcolor\":\"white\",\"gridwidth\":2,\"linecolor\":\"white\",\"showbackground\":true,\"ticks\":\"\",\"zerolinecolor\":\"white\"},\"yaxis\":{\"backgroundcolor\":\"#E5ECF6\",\"gridcolor\":\"white\",\"gridwidth\":2,\"linecolor\":\"white\",\"showbackground\":true,\"ticks\":\"\",\"zerolinecolor\":\"white\"},\"zaxis\":{\"backgroundcolor\":\"#E5ECF6\",\"gridcolor\":\"white\",\"gridwidth\":2,\"linecolor\":\"white\",\"showbackground\":true,\"ticks\":\"\",\"zerolinecolor\":\"white\"}},\"shapedefaults\":{\"line\":{\"color\":\"#2a3f5f\"}},\"ternary\":{\"aaxis\":{\"gridcolor\":\"white\",\"linecolor\":\"white\",\"ticks\":\"\"},\"baxis\":{\"gridcolor\":\"white\",\"linecolor\":\"white\",\"ticks\":\"\"},\"bgcolor\":\"#E5ECF6\",\"caxis\":{\"gridcolor\":\"white\",\"linecolor\":\"white\",\"ticks\":\"\"}},\"title\":{\"x\":0.05},\"xaxis\":{\"automargin\":true,\"gridcolor\":\"white\",\"linecolor\":\"white\",\"ticks\":\"\",\"title\":{\"standoff\":15},\"zerolinecolor\":\"white\",\"zerolinewidth\":2},\"yaxis\":{\"automargin\":true,\"gridcolor\":\"white\",\"linecolor\":\"white\",\"ticks\":\"\",\"title\":{\"standoff\":15},\"zerolinecolor\":\"white\",\"zerolinewidth\":2}}},\"title\":{\"text\":\"Usuario con membresia\"},\"xaxis\":{\"anchor\":\"y\",\"categoryarray\":[\"classic_bike\",\"electric_bike\"],\"categoryorder\":\"total descending\",\"domain\":[0.0,1.0],\"title\":{\"text\":\"Tipo de paseo\"}},\"yaxis\":{\"anchor\":\"x\",\"domain\":[0.0,1.0],\"title\":{\"text\":\"Total\"}}},                        {\"responsive\": true}                    ).then(function(){\n                            \nvar gd = document.getElementById('91cdffd0-8c9c-40c1-a4fc-0860e56c1259');\nvar x = new MutationObserver(function (mutations, observer) {{\n        var display = window.getComputedStyle(gd).display;\n        if (!display || display === 'none') {{\n            console.log([gd, 'removed!']);\n            Plotly.purge(gd);\n            observer.disconnect();\n        }}\n}});\n\n// Listen for the removal of the full notebook cells\nvar notebookContainer = gd.closest('#notebook-container');\nif (notebookContainer) {{\n    x.observe(notebookContainer, {childList: true});\n}}\n\n// Listen for the clearing of the current output cell\nvar outputEl = gd.closest('.output');\nif (outputEl) {{\n    x.observe(outputEl, {childList: true});\n}}\n\n                        })                };                            </script>        </div>\n</body>\n</html>"
     },
     "metadata": {},
     "output_type": "display_data"
    }
   ],
   "execution_count": 35
  },
  {
   "cell_type": "markdown",
   "source": "### Conclusión",
   "metadata": {
    "tags": [],
    "cell_id": "00020-969229c6-1dc7-45e0-b3d5-8c68a9577ece",
    "deepnote_to_be_reexecuted": false,
    "source_hash": "6780e7ef",
    "execution_start": 1629336500000,
    "execution_millis": 0,
    "deepnote_cell_type": "markdown"
   },
   "outputs": [],
   "execution_count": 50
  },
  {
   "cell_type": "code",
   "source": "all_user = df.groupby(['member_casual','rideable_type'])[['ones']].sum()\nall_user = all_user.reset_index()\nall_user",
   "metadata": {
    "tags": [],
    "cell_id": "00021-26bedfd2-f8f8-49e0-9401-c3edd1ea2ced",
    "deepnote_to_be_reexecuted": false,
    "source_hash": "a06d782e",
    "execution_start": 1629336904968,
    "execution_millis": 163,
    "deepnote_cell_type": "code"
   },
   "outputs": [
    {
     "output_type": "execute_result",
     "execution_count": 54,
     "data": {
      "application/vnd.deepnote.dataframe.v2+json": {
       "row_count": 5,
       "column_count": 3,
       "columns": [
        {
         "name": "member_casual",
         "dtype": "object",
         "stats": {
          "unique_count": 2,
          "nan_count": 0,
          "categories": [
           {
            "name": "casual",
            "count": 3
           },
           {
            "name": "member",
            "count": 2
           }
          ]
         }
        },
        {
         "name": "rideable_type",
         "dtype": "object",
         "stats": {
          "unique_count": 3,
          "nan_count": 0,
          "categories": [
           {
            "name": "classic_bike",
            "count": 2
           },
           {
            "name": "electric_bike",
            "count": 2
           },
           {
            "name": "docked_bike",
            "count": 1
           }
          ]
         }
        },
        {
         "name": "ones",
         "dtype": "int64",
         "stats": {
          "unique_count": 5,
          "nan_count": 0,
          "min": "57698",
          "max": "265420",
          "histogram": [
           {
            "bin_start": 57698,
            "bin_end": 78470.2,
            "count": 1
           },
           {
            "bin_start": 78470.2,
            "bin_end": 99242.4,
            "count": 0
           },
           {
            "bin_start": 99242.4,
            "bin_end": 120014.6,
            "count": 1
           },
           {
            "bin_start": 120014.6,
            "bin_end": 140786.8,
            "count": 0
           },
           {
            "bin_start": 140786.8,
            "bin_end": 161559,
            "count": 1
           },
           {
            "bin_start": 161559,
            "bin_end": 182331.2,
            "count": 0
           },
           {
            "bin_start": 182331.2,
            "bin_end": 203103.4,
            "count": 0
           },
           {
            "bin_start": 203103.4,
            "bin_end": 223875.6,
            "count": 0
           },
           {
            "bin_start": 223875.6,
            "bin_end": 244647.80000000002,
            "count": 1
           },
           {
            "bin_start": 244647.80000000002,
            "bin_end": 265420,
            "count": 1
           }
          ]
         }
        },
        {
         "name": "_deepnote_index_column",
         "dtype": "int64"
        }
       ],
       "rows_top": [
        {
         "member_casual": "casual",
         "rideable_type": "classic_bike",
         "ones": 241489,
         "_deepnote_index_column": 0
        },
        {
         "member_casual": "casual",
         "rideable_type": "docked_bike",
         "ones": 57698,
         "_deepnote_index_column": 1
        },
        {
         "member_casual": "casual",
         "rideable_type": "electric_bike",
         "ones": 142869,
         "_deepnote_index_column": 2
        },
        {
         "member_casual": "member",
         "rideable_type": "classic_bike",
         "ones": 265420,
         "_deepnote_index_column": 3
        },
        {
         "member_casual": "member",
         "rideable_type": "electric_bike",
         "ones": 114934,
         "_deepnote_index_column": 4
        }
       ],
       "rows_bottom": null
      },
      "text/plain": "  member_casual  rideable_type    ones\n0        casual   classic_bike  241489\n1        casual    docked_bike   57698\n2        casual  electric_bike  142869\n3        member   classic_bike  265420\n4        member  electric_bike  114934",
      "text/html": "<div>\n<style scoped>\n    .dataframe tbody tr th:only-of-type {\n        vertical-align: middle;\n    }\n\n    .dataframe tbody tr th {\n        vertical-align: top;\n    }\n\n    .dataframe thead th {\n        text-align: right;\n    }\n</style>\n<table border=\"1\" class=\"dataframe\">\n  <thead>\n    <tr style=\"text-align: right;\">\n      <th></th>\n      <th>member_casual</th>\n      <th>rideable_type</th>\n      <th>ones</th>\n    </tr>\n  </thead>\n  <tbody>\n    <tr>\n      <th>0</th>\n      <td>casual</td>\n      <td>classic_bike</td>\n      <td>241489</td>\n    </tr>\n    <tr>\n      <th>1</th>\n      <td>casual</td>\n      <td>docked_bike</td>\n      <td>57698</td>\n    </tr>\n    <tr>\n      <th>2</th>\n      <td>casual</td>\n      <td>electric_bike</td>\n      <td>142869</td>\n    </tr>\n    <tr>\n      <th>3</th>\n      <td>member</td>\n      <td>classic_bike</td>\n      <td>265420</td>\n    </tr>\n    <tr>\n      <th>4</th>\n      <td>member</td>\n      <td>electric_bike</td>\n      <td>114934</td>\n    </tr>\n  </tbody>\n</table>\n</div>"
     },
     "metadata": {}
    }
   ],
   "execution_count": 54
  },
  {
   "cell_type": "code",
   "source": "fig = px.bar(all_user, x='rideable_type',\n    y='ones',\n    labels={'ones':'Total','rideable_type':'Tipo de paseo'},\n    color='member_casual',\n    title='Usuario con membresia',\n    hover_data=all_user[['member_casual']],\n)\nfig.update_layout(xaxis = {'categoryorder':'total descending'})\nfig.show()",
   "metadata": {
    "tags": [],
    "cell_id": "00021-02b4b0f9-32b3-419a-a34e-522b5961df22",
    "deepnote_to_be_reexecuted": false,
    "source_hash": "f6b98889",
    "execution_start": 1629336508348,
    "execution_millis": 249,
    "deepnote_cell_type": "code"
   },
   "outputs": [
    {
     "data": {
      "text/html": "<html>\n<head><meta charset=\"utf-8\" /></head>\n<body>\n    <div>            <script src=\"https://cdnjs.cloudflare.com/ajax/libs/mathjax/2.7.5/MathJax.js?config=TeX-AMS-MML_SVG\"></script><script type=\"text/javascript\">if (window.MathJax) {MathJax.Hub.Config({SVG: {font: \"STIX-Web\"}});}</script>                <script type=\"text/javascript\">window.PlotlyConfig = {MathJaxConfig: 'local'};</script>\n        <script src=\"https://cdn.plot.ly/plotly-2.2.0.min.js\"></script>                <div id=\"76425971-8415-4a7f-926b-6387fb1d9885\" class=\"plotly-graph-div\" style=\"height:525px; width:100%;\"></div>            <script type=\"text/javascript\">                                    window.PLOTLYENV=window.PLOTLYENV || {};                                    if (document.getElementById(\"76425971-8415-4a7f-926b-6387fb1d9885\")) {                    Plotly.newPlot(                        \"76425971-8415-4a7f-926b-6387fb1d9885\",                        [{\"alignmentgroup\":\"True\",\"customdata\":[[\"casual\"],[\"casual\"],[\"casual\"]],\"hovertemplate\":\"member_casual=%{customdata[0]}<br>Tipo de paseo=%{x}<br>Total=%{y}<extra></extra>\",\"legendgroup\":\"casual\",\"marker\":{\"color\":\"#636efa\",\"pattern\":{\"shape\":\"\"}},\"name\":\"casual\",\"offsetgroup\":\"casual\",\"orientation\":\"v\",\"showlegend\":true,\"textposition\":\"auto\",\"type\":\"bar\",\"x\":[\"classic_bike\",\"docked_bike\",\"electric_bike\"],\"xaxis\":\"x\",\"y\":[241489,57698,142869],\"yaxis\":\"y\"},{\"alignmentgroup\":\"True\",\"customdata\":[[\"member\"],[\"member\"]],\"hovertemplate\":\"member_casual=%{customdata[0]}<br>Tipo de paseo=%{x}<br>Total=%{y}<extra></extra>\",\"legendgroup\":\"member\",\"marker\":{\"color\":\"#EF553B\",\"pattern\":{\"shape\":\"\"}},\"name\":\"member\",\"offsetgroup\":\"member\",\"orientation\":\"v\",\"showlegend\":true,\"textposition\":\"auto\",\"type\":\"bar\",\"x\":[\"classic_bike\",\"electric_bike\"],\"xaxis\":\"x\",\"y\":[265420,114934],\"yaxis\":\"y\"}],                        {\"barmode\":\"relative\",\"legend\":{\"title\":{\"text\":\"member_casual\"},\"tracegroupgap\":0},\"template\":{\"data\":{\"bar\":[{\"error_x\":{\"color\":\"#2a3f5f\"},\"error_y\":{\"color\":\"#2a3f5f\"},\"marker\":{\"line\":{\"color\":\"#E5ECF6\",\"width\":0.5},\"pattern\":{\"fillmode\":\"overlay\",\"size\":10,\"solidity\":0.2}},\"type\":\"bar\"}],\"barpolar\":[{\"marker\":{\"line\":{\"color\":\"#E5ECF6\",\"width\":0.5},\"pattern\":{\"fillmode\":\"overlay\",\"size\":10,\"solidity\":0.2}},\"type\":\"barpolar\"}],\"carpet\":[{\"aaxis\":{\"endlinecolor\":\"#2a3f5f\",\"gridcolor\":\"white\",\"linecolor\":\"white\",\"minorgridcolor\":\"white\",\"startlinecolor\":\"#2a3f5f\"},\"baxis\":{\"endlinecolor\":\"#2a3f5f\",\"gridcolor\":\"white\",\"linecolor\":\"white\",\"minorgridcolor\":\"white\",\"startlinecolor\":\"#2a3f5f\"},\"type\":\"carpet\"}],\"choropleth\":[{\"colorbar\":{\"outlinewidth\":0,\"ticks\":\"\"},\"type\":\"choropleth\"}],\"contour\":[{\"colorbar\":{\"outlinewidth\":0,\"ticks\":\"\"},\"colorscale\":[[0.0,\"#0d0887\"],[0.1111111111111111,\"#46039f\"],[0.2222222222222222,\"#7201a8\"],[0.3333333333333333,\"#9c179e\"],[0.4444444444444444,\"#bd3786\"],[0.5555555555555556,\"#d8576b\"],[0.6666666666666666,\"#ed7953\"],[0.7777777777777778,\"#fb9f3a\"],[0.8888888888888888,\"#fdca26\"],[1.0,\"#f0f921\"]],\"type\":\"contour\"}],\"contourcarpet\":[{\"colorbar\":{\"outlinewidth\":0,\"ticks\":\"\"},\"type\":\"contourcarpet\"}],\"heatmap\":[{\"colorbar\":{\"outlinewidth\":0,\"ticks\":\"\"},\"colorscale\":[[0.0,\"#0d0887\"],[0.1111111111111111,\"#46039f\"],[0.2222222222222222,\"#7201a8\"],[0.3333333333333333,\"#9c179e\"],[0.4444444444444444,\"#bd3786\"],[0.5555555555555556,\"#d8576b\"],[0.6666666666666666,\"#ed7953\"],[0.7777777777777778,\"#fb9f3a\"],[0.8888888888888888,\"#fdca26\"],[1.0,\"#f0f921\"]],\"type\":\"heatmap\"}],\"heatmapgl\":[{\"colorbar\":{\"outlinewidth\":0,\"ticks\":\"\"},\"colorscale\":[[0.0,\"#0d0887\"],[0.1111111111111111,\"#46039f\"],[0.2222222222222222,\"#7201a8\"],[0.3333333333333333,\"#9c179e\"],[0.4444444444444444,\"#bd3786\"],[0.5555555555555556,\"#d8576b\"],[0.6666666666666666,\"#ed7953\"],[0.7777777777777778,\"#fb9f3a\"],[0.8888888888888888,\"#fdca26\"],[1.0,\"#f0f921\"]],\"type\":\"heatmapgl\"}],\"histogram\":[{\"marker\":{\"pattern\":{\"fillmode\":\"overlay\",\"size\":10,\"solidity\":0.2}},\"type\":\"histogram\"}],\"histogram2d\":[{\"colorbar\":{\"outlinewidth\":0,\"ticks\":\"\"},\"colorscale\":[[0.0,\"#0d0887\"],[0.1111111111111111,\"#46039f\"],[0.2222222222222222,\"#7201a8\"],[0.3333333333333333,\"#9c179e\"],[0.4444444444444444,\"#bd3786\"],[0.5555555555555556,\"#d8576b\"],[0.6666666666666666,\"#ed7953\"],[0.7777777777777778,\"#fb9f3a\"],[0.8888888888888888,\"#fdca26\"],[1.0,\"#f0f921\"]],\"type\":\"histogram2d\"}],\"histogram2dcontour\":[{\"colorbar\":{\"outlinewidth\":0,\"ticks\":\"\"},\"colorscale\":[[0.0,\"#0d0887\"],[0.1111111111111111,\"#46039f\"],[0.2222222222222222,\"#7201a8\"],[0.3333333333333333,\"#9c179e\"],[0.4444444444444444,\"#bd3786\"],[0.5555555555555556,\"#d8576b\"],[0.6666666666666666,\"#ed7953\"],[0.7777777777777778,\"#fb9f3a\"],[0.8888888888888888,\"#fdca26\"],[1.0,\"#f0f921\"]],\"type\":\"histogram2dcontour\"}],\"mesh3d\":[{\"colorbar\":{\"outlinewidth\":0,\"ticks\":\"\"},\"type\":\"mesh3d\"}],\"parcoords\":[{\"line\":{\"colorbar\":{\"outlinewidth\":0,\"ticks\":\"\"}},\"type\":\"parcoords\"}],\"pie\":[{\"automargin\":true,\"type\":\"pie\"}],\"scatter\":[{\"marker\":{\"colorbar\":{\"outlinewidth\":0,\"ticks\":\"\"}},\"type\":\"scatter\"}],\"scatter3d\":[{\"line\":{\"colorbar\":{\"outlinewidth\":0,\"ticks\":\"\"}},\"marker\":{\"colorbar\":{\"outlinewidth\":0,\"ticks\":\"\"}},\"type\":\"scatter3d\"}],\"scattercarpet\":[{\"marker\":{\"colorbar\":{\"outlinewidth\":0,\"ticks\":\"\"}},\"type\":\"scattercarpet\"}],\"scattergeo\":[{\"marker\":{\"colorbar\":{\"outlinewidth\":0,\"ticks\":\"\"}},\"type\":\"scattergeo\"}],\"scattergl\":[{\"marker\":{\"colorbar\":{\"outlinewidth\":0,\"ticks\":\"\"}},\"type\":\"scattergl\"}],\"scattermapbox\":[{\"marker\":{\"colorbar\":{\"outlinewidth\":0,\"ticks\":\"\"}},\"type\":\"scattermapbox\"}],\"scatterpolar\":[{\"marker\":{\"colorbar\":{\"outlinewidth\":0,\"ticks\":\"\"}},\"type\":\"scatterpolar\"}],\"scatterpolargl\":[{\"marker\":{\"colorbar\":{\"outlinewidth\":0,\"ticks\":\"\"}},\"type\":\"scatterpolargl\"}],\"scatterternary\":[{\"marker\":{\"colorbar\":{\"outlinewidth\":0,\"ticks\":\"\"}},\"type\":\"scatterternary\"}],\"surface\":[{\"colorbar\":{\"outlinewidth\":0,\"ticks\":\"\"},\"colorscale\":[[0.0,\"#0d0887\"],[0.1111111111111111,\"#46039f\"],[0.2222222222222222,\"#7201a8\"],[0.3333333333333333,\"#9c179e\"],[0.4444444444444444,\"#bd3786\"],[0.5555555555555556,\"#d8576b\"],[0.6666666666666666,\"#ed7953\"],[0.7777777777777778,\"#fb9f3a\"],[0.8888888888888888,\"#fdca26\"],[1.0,\"#f0f921\"]],\"type\":\"surface\"}],\"table\":[{\"cells\":{\"fill\":{\"color\":\"#EBF0F8\"},\"line\":{\"color\":\"white\"}},\"header\":{\"fill\":{\"color\":\"#C8D4E3\"},\"line\":{\"color\":\"white\"}},\"type\":\"table\"}]},\"layout\":{\"annotationdefaults\":{\"arrowcolor\":\"#2a3f5f\",\"arrowhead\":0,\"arrowwidth\":1},\"autotypenumbers\":\"strict\",\"coloraxis\":{\"colorbar\":{\"outlinewidth\":0,\"ticks\":\"\"}},\"colorscale\":{\"diverging\":[[0,\"#8e0152\"],[0.1,\"#c51b7d\"],[0.2,\"#de77ae\"],[0.3,\"#f1b6da\"],[0.4,\"#fde0ef\"],[0.5,\"#f7f7f7\"],[0.6,\"#e6f5d0\"],[0.7,\"#b8e186\"],[0.8,\"#7fbc41\"],[0.9,\"#4d9221\"],[1,\"#276419\"]],\"sequential\":[[0.0,\"#0d0887\"],[0.1111111111111111,\"#46039f\"],[0.2222222222222222,\"#7201a8\"],[0.3333333333333333,\"#9c179e\"],[0.4444444444444444,\"#bd3786\"],[0.5555555555555556,\"#d8576b\"],[0.6666666666666666,\"#ed7953\"],[0.7777777777777778,\"#fb9f3a\"],[0.8888888888888888,\"#fdca26\"],[1.0,\"#f0f921\"]],\"sequentialminus\":[[0.0,\"#0d0887\"],[0.1111111111111111,\"#46039f\"],[0.2222222222222222,\"#7201a8\"],[0.3333333333333333,\"#9c179e\"],[0.4444444444444444,\"#bd3786\"],[0.5555555555555556,\"#d8576b\"],[0.6666666666666666,\"#ed7953\"],[0.7777777777777778,\"#fb9f3a\"],[0.8888888888888888,\"#fdca26\"],[1.0,\"#f0f921\"]]},\"colorway\":[\"#636efa\",\"#EF553B\",\"#00cc96\",\"#ab63fa\",\"#FFA15A\",\"#19d3f3\",\"#FF6692\",\"#B6E880\",\"#FF97FF\",\"#FECB52\"],\"font\":{\"color\":\"#2a3f5f\"},\"geo\":{\"bgcolor\":\"white\",\"lakecolor\":\"white\",\"landcolor\":\"#E5ECF6\",\"showlakes\":true,\"showland\":true,\"subunitcolor\":\"white\"},\"hoverlabel\":{\"align\":\"left\"},\"hovermode\":\"closest\",\"mapbox\":{\"style\":\"light\"},\"paper_bgcolor\":\"white\",\"plot_bgcolor\":\"#E5ECF6\",\"polar\":{\"angularaxis\":{\"gridcolor\":\"white\",\"linecolor\":\"white\",\"ticks\":\"\"},\"bgcolor\":\"#E5ECF6\",\"radialaxis\":{\"gridcolor\":\"white\",\"linecolor\":\"white\",\"ticks\":\"\"}},\"scene\":{\"xaxis\":{\"backgroundcolor\":\"#E5ECF6\",\"gridcolor\":\"white\",\"gridwidth\":2,\"linecolor\":\"white\",\"showbackground\":true,\"ticks\":\"\",\"zerolinecolor\":\"white\"},\"yaxis\":{\"backgroundcolor\":\"#E5ECF6\",\"gridcolor\":\"white\",\"gridwidth\":2,\"linecolor\":\"white\",\"showbackground\":true,\"ticks\":\"\",\"zerolinecolor\":\"white\"},\"zaxis\":{\"backgroundcolor\":\"#E5ECF6\",\"gridcolor\":\"white\",\"gridwidth\":2,\"linecolor\":\"white\",\"showbackground\":true,\"ticks\":\"\",\"zerolinecolor\":\"white\"}},\"shapedefaults\":{\"line\":{\"color\":\"#2a3f5f\"}},\"ternary\":{\"aaxis\":{\"gridcolor\":\"white\",\"linecolor\":\"white\",\"ticks\":\"\"},\"baxis\":{\"gridcolor\":\"white\",\"linecolor\":\"white\",\"ticks\":\"\"},\"bgcolor\":\"#E5ECF6\",\"caxis\":{\"gridcolor\":\"white\",\"linecolor\":\"white\",\"ticks\":\"\"}},\"title\":{\"x\":0.05},\"xaxis\":{\"automargin\":true,\"gridcolor\":\"white\",\"linecolor\":\"white\",\"ticks\":\"\",\"title\":{\"standoff\":15},\"zerolinecolor\":\"white\",\"zerolinewidth\":2},\"yaxis\":{\"automargin\":true,\"gridcolor\":\"white\",\"linecolor\":\"white\",\"ticks\":\"\",\"title\":{\"standoff\":15},\"zerolinecolor\":\"white\",\"zerolinewidth\":2}}},\"title\":{\"text\":\"Usuario con membresia\"},\"xaxis\":{\"anchor\":\"y\",\"categoryorder\":\"total descending\",\"domain\":[0.0,1.0],\"title\":{\"text\":\"Tipo de paseo\"}},\"yaxis\":{\"anchor\":\"x\",\"domain\":[0.0,1.0],\"title\":{\"text\":\"Total\"}}},                        {\"responsive\": true}                    ).then(function(){\n                            \nvar gd = document.getElementById('76425971-8415-4a7f-926b-6387fb1d9885');\nvar x = new MutationObserver(function (mutations, observer) {{\n        var display = window.getComputedStyle(gd).display;\n        if (!display || display === 'none') {{\n            console.log([gd, 'removed!']);\n            Plotly.purge(gd);\n            observer.disconnect();\n        }}\n}});\n\n// Listen for the removal of the full notebook cells\nvar notebookContainer = gd.closest('#notebook-container');\nif (notebookContainer) {{\n    x.observe(notebookContainer, {childList: true});\n}}\n\n// Listen for the clearing of the current output cell\nvar outputEl = gd.closest('.output');\nif (outputEl) {{\n    x.observe(outputEl, {childList: true});\n}}\n\n                        })                };                            </script>        </div>\n</body>\n</html>"
     },
     "metadata": {},
     "output_type": "display_data"
    }
   ],
   "execution_count": 51
  },
  {
   "cell_type": "markdown",
   "source": "- Tras analizar las gráficas se puede observar que los usuarios **con membresía** usan mas las bicicletas clásicas.\n- Los usuarios **sin membresía** usan más las bicicletas eléctricas.",
   "metadata": {
    "tags": [],
    "cell_id": "00022-e57c92da-3c2c-4cd9-93b5-af62593ff848",
    "deepnote_cell_type": "markdown"
   }
  },
  {
   "cell_type": "markdown",
   "source": "<a style='text-decoration:none;line-height:16px;display:flex;color:#5B5B62;padding:10px;justify-content:end;' href='https://deepnote.com?utm_source=created-in-deepnote-cell&projectId=322df7a5-4b18-4ddb-8f91-c142e3bf7671' target=\"_blank\">\n<img alt='Created in deepnote.com' style='display:inline;max-height:16px;margin:0px;margin-right:7.5px;' src='data:image/svg+xml;base64,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' > </img>\nCreated in <span style='font-weight:600;margin-left:4px;'>Deepnote</span></a>",
   "metadata": {
    "tags": [],
    "created_in_deepnote_cell": true,
    "deepnote_cell_type": "markdown"
   }
  }
 ],
 "nbformat": 4,
 "nbformat_minor": 2,
 "metadata": {
  "orig_nbformat": 2,
  "deepnote": {
   "is_reactive": false
  },
  "deepnote_notebook_id": "ff4550bd-12cd-4f82-a3a8-7995ee35e294",
  "deepnote_execution_queue": []
 }
}
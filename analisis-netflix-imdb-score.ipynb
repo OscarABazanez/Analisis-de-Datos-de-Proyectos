{
 "cells": [
  {
   "cell_type": "markdown",
   "source": "# Netflix Original Films & IMDB Scores\n",
   "metadata": {
    "tags": [],
    "cell_id": "00000-6557caad-c164-472f-871f-2289f3cab418",
    "deepnote_cell_type": "markdown"
   }
  },
  {
   "cell_type": "code",
   "metadata": {
    "tags": [],
    "cell_id": "00000-859cb40b-6ea9-4b22-826a-e94c1784a267",
    "deepnote_to_be_reexecuted": false,
    "source_hash": "d60cbba1",
    "execution_start": 1627615632563,
    "execution_millis": 2,
    "deepnote_cell_type": "code"
   },
   "source": "import pandas as pd\nimport numpy as np\n\n\nimport plotly \nimport plotly.express as px\nimport plotly.graph_objs as go\nimport plotly.offline as py\nfrom plotly.offline import iplot\nfrom plotly.subplots import make_subplots\nimport plotly.figure_factory as ff",
   "execution_count": 7,
   "outputs": []
  },
  {
   "cell_type": "code",
   "source": "df = pd.read_csv('db/NetflixOriginals.csv')\ndf",
   "metadata": {
    "tags": [],
    "cell_id": "00002-3daf47eb-b4e0-40ef-9417-533936955030",
    "deepnote_to_be_reexecuted": false,
    "source_hash": "d519241c",
    "execution_start": 1627615633114,
    "execution_millis": 81,
    "deepnote_cell_type": "code"
   },
   "outputs": [
    {
     "output_type": "execute_result",
     "execution_count": 8,
     "data": {
      "application/vnd.deepnote.dataframe.v2+json": {
       "row_count": 584,
       "column_count": 6,
       "columns": [
        {
         "name": "Title",
         "dtype": "object",
         "stats": {
          "unique_count": 584,
          "nan_count": 0,
          "categories": [
           {
            "name": "Enter the Anime",
            "count": 1
           },
           {
            "name": "Dark Forces",
            "count": 1
           },
           {
            "name": "582 others",
            "count": 582
           }
          ]
         }
        },
        {
         "name": "Genre",
         "dtype": "object",
         "stats": {
          "unique_count": 115,
          "nan_count": 0,
          "categories": [
           {
            "name": "Documentary",
            "count": 159
           },
           {
            "name": "Drama",
            "count": 77
           },
           {
            "name": "113 others",
            "count": 348
           }
          ]
         }
        },
        {
         "name": "Premiere",
         "dtype": "object",
         "stats": {
          "unique_count": 390,
          "nan_count": 0,
          "categories": [
           {
            "name": "October 2, 2020",
            "count": 6
           },
           {
            "name": "November 1, 2019",
            "count": 5
           },
           {
            "name": "388 others",
            "count": 573
           }
          ]
         }
        },
        {
         "name": "Runtime",
         "dtype": "int64",
         "stats": {
          "unique_count": 124,
          "nan_count": 0,
          "min": "4",
          "max": "209",
          "histogram": [
           {
            "bin_start": 4,
            "bin_end": 24.5,
            "count": 21
           },
           {
            "bin_start": 24.5,
            "bin_end": 45,
            "count": 30
           },
           {
            "bin_start": 45,
            "bin_end": 65.5,
            "count": 25
           },
           {
            "bin_start": 65.5,
            "bin_end": 86,
            "count": 65
           },
           {
            "bin_start": 86,
            "bin_end": 106.5,
            "count": 286
           },
           {
            "bin_start": 106.5,
            "bin_end": 127,
            "count": 117
           },
           {
            "bin_start": 127,
            "bin_end": 147.5,
            "count": 31
           },
           {
            "bin_start": 147.5,
            "bin_end": 168,
            "count": 8
           },
           {
            "bin_start": 168,
            "bin_end": 188.5,
            "count": 0
           },
           {
            "bin_start": 188.5,
            "bin_end": 209,
            "count": 1
           }
          ]
         }
        },
        {
         "name": "IMDB Score",
         "dtype": "float64",
         "stats": {
          "unique_count": 54,
          "nan_count": 0,
          "min": "2.5",
          "max": "9.0",
          "histogram": [
           {
            "bin_start": 2.5,
            "bin_end": 3.15,
            "count": 3
           },
           {
            "bin_start": 3.15,
            "bin_end": 3.8,
            "count": 5
           },
           {
            "bin_start": 3.8,
            "bin_end": 4.45,
            "count": 17
           },
           {
            "bin_start": 4.45,
            "bin_end": 5.1,
            "count": 34
           },
           {
            "bin_start": 5.1,
            "bin_end": 5.75,
            "count": 102
           },
           {
            "bin_start": 5.75,
            "bin_end": 6.4,
            "count": 131
           },
           {
            "bin_start": 6.4,
            "bin_end": 7.05,
            "count": 159
           },
           {
            "bin_start": 7.05,
            "bin_end": 7.7,
            "count": 101
           },
           {
            "bin_start": 7.7,
            "bin_end": 8.350000000000001,
            "count": 26
           },
           {
            "bin_start": 8.350000000000001,
            "bin_end": 9,
            "count": 6
           }
          ]
         }
        },
        {
         "name": "Language",
         "dtype": "object",
         "stats": {
          "unique_count": 38,
          "nan_count": 0,
          "categories": [
           {
            "name": "English",
            "count": 401
           },
           {
            "name": "Hindi",
            "count": 33
           },
           {
            "name": "36 others",
            "count": 150
           }
          ]
         }
        },
        {
         "name": "_deepnote_index_column",
         "dtype": "int64"
        }
       ],
       "rows_top": [
        {
         "Title": "Enter the Anime",
         "Genre": "Documentary",
         "Premiere": "August 5, 2019",
         "Runtime": 58,
         "IMDB Score": 2.5,
         "Language": "English/Japanese",
         "_deepnote_index_column": 0
        },
        {
         "Title": "Dark Forces",
         "Genre": "Thriller",
         "Premiere": "August 21, 2020",
         "Runtime": 81,
         "IMDB Score": 2.6,
         "Language": "Spanish",
         "_deepnote_index_column": 1
        },
        {
         "Title": "The App",
         "Genre": "Science fiction/Drama",
         "Premiere": "December 26, 2019",
         "Runtime": 79,
         "IMDB Score": 2.6,
         "Language": "Italian",
         "_deepnote_index_column": 2
        },
        {
         "Title": "The Open House",
         "Genre": "Horror thriller",
         "Premiere": "January 19, 2018",
         "Runtime": 94,
         "IMDB Score": 3.2,
         "Language": "English",
         "_deepnote_index_column": 3
        },
        {
         "Title": "Kaali Khuhi",
         "Genre": "Mystery",
         "Premiere": "October 30, 2020",
         "Runtime": 90,
         "IMDB Score": 3.4,
         "Language": "Hindi",
         "_deepnote_index_column": 4
        },
        {
         "Title": "Drive",
         "Genre": "Action",
         "Premiere": "November 1, 2019",
         "Runtime": 147,
         "IMDB Score": 3.5,
         "Language": "Hindi",
         "_deepnote_index_column": 5
        },
        {
         "Title": "Leyla Everlasting",
         "Genre": "Comedy",
         "Premiere": "December 4, 2020",
         "Runtime": 112,
         "IMDB Score": 3.7,
         "Language": "Turkish",
         "_deepnote_index_column": 6
        },
        {
         "Title": "The Last Days of American Crime",
         "Genre": "Heist film/Thriller",
         "Premiere": "June 5, 2020",
         "Runtime": 149,
         "IMDB Score": 3.7,
         "Language": "English",
         "_deepnote_index_column": 7
        },
        {
         "Title": "Paradox",
         "Genre": "Musical/Western/Fantasy",
         "Premiere": "March 23, 2018",
         "Runtime": 73,
         "IMDB Score": 3.9,
         "Language": "English",
         "_deepnote_index_column": 8
        },
        {
         "Title": "Sardar Ka Grandson",
         "Genre": "Comedy",
         "Premiere": "May 18, 2021",
         "Runtime": 139,
         "IMDB Score": 4.1,
         "Language": "Hindi",
         "_deepnote_index_column": 9
        },
        {
         "Title": "Searching for Sheela",
         "Genre": "Documentary",
         "Premiere": "April 22, 2021",
         "Runtime": 58,
         "IMDB Score": 4.1,
         "Language": "English",
         "_deepnote_index_column": 10
        },
        {
         "Title": "The Call",
         "Genre": "Drama",
         "Premiere": "November 27, 2020",
         "Runtime": 112,
         "IMDB Score": 4.1,
         "Language": "Korean",
         "_deepnote_index_column": 11
        },
        {
         "Title": "Whipped",
         "Genre": "Romantic comedy",
         "Premiere": "September 18, 2020",
         "Runtime": 97,
         "IMDB Score": 4.1,
         "Language": "Indonesian",
         "_deepnote_index_column": 12
        },
        {
         "Title": "All Because of You",
         "Genre": "Action comedy",
         "Premiere": "October 1, 2020",
         "Runtime": 101,
         "IMDB Score": 4.2,
         "Language": "Malay",
         "_deepnote_index_column": 13
        },
        {
         "Title": "Mercy",
         "Genre": "Thriller",
         "Premiere": "November 22, 2016",
         "Runtime": 90,
         "IMDB Score": 4.2,
         "Language": "English",
         "_deepnote_index_column": 14
        },
        {
         "Title": "After the Raid",
         "Genre": "Documentary",
         "Premiere": "December 19, 2019",
         "Runtime": 25,
         "IMDB Score": 4.3,
         "Language": "Spanish",
         "_deepnote_index_column": 15
        },
        {
         "Title": "Ghost Stories",
         "Genre": "Horror anthology",
         "Premiere": "January 1, 2020",
         "Runtime": 144,
         "IMDB Score": 4.3,
         "Language": "Hindi",
         "_deepnote_index_column": 16
        },
        {
         "Title": "The Last Thing He Wanted",
         "Genre": "Political thriller",
         "Premiere": "February 21, 2020",
         "Runtime": 115,
         "IMDB Score": 4.3,
         "Language": "English",
         "_deepnote_index_column": 17
        },
        {
         "Title": "What Happened to Mr. Cha?",
         "Genre": "Comedy",
         "Premiere": "January 1, 2021",
         "Runtime": 102,
         "IMDB Score": 4.3,
         "Language": "Korean",
         "_deepnote_index_column": 18
        },
        {
         "Title": "Death Note",
         "Genre": "Horror thriller",
         "Premiere": "August 25, 2017",
         "Runtime": 100,
         "IMDB Score": 4.4,
         "Language": "English",
         "_deepnote_index_column": 19
        },
        {
         "Title": "Hello Privilege. It's Me, Chelsea",
         "Genre": "Documentary",
         "Premiere": "September 13, 2019",
         "Runtime": 64,
         "IMDB Score": 4.4,
         "Language": "English",
         "_deepnote_index_column": 20
        },
        {
         "Title": "Secret Obsession",
         "Genre": "Thriller",
         "Premiere": "July 18, 2019",
         "Runtime": 97,
         "IMDB Score": 4.4,
         "Language": "English",
         "_deepnote_index_column": 21
        },
        {
         "Title": "Sextuplets",
         "Genre": "Comedy",
         "Premiere": "August 16, 2019",
         "Runtime": 99,
         "IMDB Score": 4.4,
         "Language": "English",
         "_deepnote_index_column": 22
        },
        {
         "Title": "The Girl on the Train",
         "Genre": "Thriller",
         "Premiere": "February 26, 2021",
         "Runtime": 120,
         "IMDB Score": 4.4,
         "Language": "Hindi",
         "_deepnote_index_column": 23
        },
        {
         "Title": "Thunder Force",
         "Genre": "Superhero-Comedy",
         "Premiere": "April 9, 2021",
         "Runtime": 105,
         "IMDB Score": 4.4,
         "Language": "English",
         "_deepnote_index_column": 24
        },
        {
         "Title": "Fatal Affair",
         "Genre": "Thriller",
         "Premiere": "July 16, 2020",
         "Runtime": 89,
         "IMDB Score": 4.5,
         "Language": "English",
         "_deepnote_index_column": 25
        },
        {
         "Title": "Just Say Yes",
         "Genre": "Romantic comedy",
         "Premiere": "April 2, 2021",
         "Runtime": 97,
         "IMDB Score": 4.5,
         "Language": "Dutch",
         "_deepnote_index_column": 26
        },
        {
         "Title": "Seriously Single",
         "Genre": "Comedy",
         "Premiere": "July 31, 2020",
         "Runtime": 107,
         "IMDB Score": 4.5,
         "Language": "English",
         "_deepnote_index_column": 27
        },
        {
         "Title": "The Misadventures of Hedi and Cokeman",
         "Genre": "Comedy",
         "Premiere": "February 10, 2021",
         "Runtime": 99,
         "IMDB Score": 4.5,
         "Language": "French",
         "_deepnote_index_column": 28
        },
        {
         "Title": "5 Star Christmas",
         "Genre": "Comedy",
         "Premiere": "December 7, 2018",
         "Runtime": 95,
         "IMDB Score": 4.6,
         "Language": "Italian",
         "_deepnote_index_column": 29
        },
        {
         "Title": "After Maria",
         "Genre": "Documentary",
         "Premiere": "May 24, 2019",
         "Runtime": 37,
         "IMDB Score": 4.6,
         "Language": "English/Spanish",
         "_deepnote_index_column": 30
        },
        {
         "Title": "I Am the Pretty Thing That Lives in the House",
         "Genre": "Horror",
         "Premiere": "October 28, 2016",
         "Runtime": 89,
         "IMDB Score": 4.6,
         "Language": "English",
         "_deepnote_index_column": 31
        },
        {
         "Title": "Paris Is Us",
         "Genre": "Romance drama",
         "Premiere": "February 22, 2019",
         "Runtime": 83,
         "IMDB Score": 4.6,
         "Language": "French",
         "_deepnote_index_column": 32
        },
        {
         "Title": "Porta dos Fundos: The First Temptation of Christ",
         "Genre": "Comedy",
         "Premiere": "December 3, 2019",
         "Runtime": 46,
         "IMDB Score": 4.6,
         "Language": "Portuguese",
         "_deepnote_index_column": 33
        },
        {
         "Title": "Rattlesnake",
         "Genre": "Horror",
         "Premiere": "October 25, 2019",
         "Runtime": 85,
         "IMDB Score": 4.6,
         "Language": "English",
         "_deepnote_index_column": 34
        },
        {
         "Title": "The Players",
         "Genre": "Comedy",
         "Premiere": "July 15, 2020",
         "Runtime": 88,
         "IMDB Score": 4.6,
         "Language": "Italian",
         "_deepnote_index_column": 35
        },
        {
         "Title": "We Are One",
         "Genre": "Documentary",
         "Premiere": "July 14, 2020",
         "Runtime": 86,
         "IMDB Score": 4.6,
         "Language": "French",
         "_deepnote_index_column": 36
        },
        {
         "Title": "Finding Agnes",
         "Genre": "Drama",
         "Premiere": "November 30, 2020",
         "Runtime": 105,
         "IMDB Score": 4.7,
         "Language": "Filipino",
         "_deepnote_index_column": 37
        },
        {
         "Title": "IO",
         "Genre": "Science fiction/Drama",
         "Premiere": "January 18, 2019",
         "Runtime": 95,
         "IMDB Score": 4.7,
         "Language": "English",
         "_deepnote_index_column": 38
        },
        {
         "Title": "Sentinelle",
         "Genre": "Action",
         "Premiere": "March 5, 2021",
         "Runtime": 80,
         "IMDB Score": 4.7,
         "Language": "French",
         "_deepnote_index_column": 39
        },
        {
         "Title": "Sol Levante",
         "Genre": "Anime / Short",
         "Premiere": "April 2, 2020",
         "Runtime": 4,
         "IMDB Score": 4.7,
         "Language": "English",
         "_deepnote_index_column": 40
        },
        {
         "Title": "The Binding",
         "Genre": "Drama",
         "Premiere": "October 2, 2020",
         "Runtime": 93,
         "IMDB Score": 4.7,
         "Language": "Italian",
         "_deepnote_index_column": 41
        },
        {
         "Title": "We Can Be Heroes",
         "Genre": "Superhero",
         "Premiere": "December 25, 2020",
         "Runtime": 100,
         "IMDB Score": 4.7,
         "Language": "English",
         "_deepnote_index_column": 42
        },
        {
         "Title": "Christmas Crossfire",
         "Genre": "Thriller",
         "Premiere": "December 4, 2020",
         "Runtime": 106,
         "IMDB Score": 4.8,
         "Language": "German",
         "_deepnote_index_column": 43
        },
        {
         "Title": "Coin Heist",
         "Genre": "Heist",
         "Premiere": "January 6, 2017",
         "Runtime": 97,
         "IMDB Score": 4.8,
         "Language": "English",
         "_deepnote_index_column": 44
        },
        {
         "Title": "Mrs. Serial Killer",
         "Genre": "Thriller",
         "Premiere": "May 1, 2020",
         "Runtime": 106,
         "IMDB Score": 4.8,
         "Language": "Hindi",
         "_deepnote_index_column": 45
        },
        {
         "Title": "Nobody Sleeps in the Woods Tonight",
         "Genre": "Horror",
         "Premiere": "October 28, 2020",
         "Runtime": 103,
         "IMDB Score": 4.8,
         "Language": "Polish",
         "_deepnote_index_column": 46
        },
        {
         "Title": "Take the 10",
         "Genre": "Comedy",
         "Premiere": "January 20, 2017",
         "Runtime": 80,
         "IMDB Score": 4.8,
         "Language": "English",
         "_deepnote_index_column": 47
        },
        {
         "Title": "The Main Event",
         "Genre": "Comedy",
         "Premiere": "April 10, 2020",
         "Runtime": 101,
         "IMDB Score": 4.8,
         "Language": "English",
         "_deepnote_index_column": 48
        },
        {
         "Title": "The Ridiculous 6",
         "Genre": "Western",
         "Premiere": "December 11, 2015",
         "Runtime": 119,
         "IMDB Score": 4.8,
         "Language": "English",
         "_deepnote_index_column": 49
        },
        {
         "Title": "Earth and Blood",
         "Genre": "Action",
         "Premiere": "April 17, 2020",
         "Runtime": 80,
         "IMDB Score": 4.9,
         "Language": "French",
         "_deepnote_index_column": 50
        },
        {
         "Title": "Fearless",
         "Genre": "Animation/Superhero",
         "Premiere": "August 14, 2020",
         "Runtime": 89,
         "IMDB Score": 4.9,
         "Language": "English",
         "_deepnote_index_column": 51
        },
        {
         "Title": "Holiday Rush",
         "Genre": "Family film",
         "Premiere": "November 28, 2019",
         "Runtime": 94,
         "IMDB Score": 4.9,
         "Language": "English",
         "_deepnote_index_column": 52
        },
        {
         "Title": "The Day of the Lord",
         "Genre": "Drama",
         "Premiere": "October 30, 2020",
         "Runtime": 93,
         "IMDB Score": 4.9,
         "Language": "Spanish",
         "_deepnote_index_column": 53
        },
        {
         "Title": "Airplane Mode",
         "Genre": "Comedy",
         "Premiere": "January 23, 2020",
         "Runtime": 96,
         "IMDB Score": 5,
         "Language": "Portuguese",
         "_deepnote_index_column": 54
        },
        {
         "Title": "How It Ends",
         "Genre": "Action-thriller",
         "Premiere": "July 13, 2018",
         "Runtime": 113,
         "IMDB Score": 5,
         "Language": "English",
         "_deepnote_index_column": 55
        },
        {
         "Title": "Love Like the Falling Rain",
         "Genre": "Drama",
         "Premiere": "October 15, 2020",
         "Runtime": 86,
         "IMDB Score": 5,
         "Language": "Indonesian",
         "_deepnote_index_column": 56
        },
        {
         "Title": "Rebirth",
         "Genre": "Thriller",
         "Premiere": "July 15, 2016",
         "Runtime": 100,
         "IMDB Score": 5,
         "Language": "English",
         "_deepnote_index_column": 57
        },
        {
         "Title": "Squared Love",
         "Genre": "Romantic comedy",
         "Premiere": "February 11, 2021",
         "Runtime": 102,
         "IMDB Score": 5,
         "Language": "Polish",
         "_deepnote_index_column": 58
        },
        {
         "Title": "Cadaver",
         "Genre": "Horror",
         "Premiere": "October 22, 2020",
         "Runtime": 86,
         "IMDB Score": 5.1,
         "Language": "Norwegian",
         "_deepnote_index_column": 59
        },
        {
         "Title": "Clinical",
         "Genre": "Thriller",
         "Premiere": "January 13, 2017",
         "Runtime": 104,
         "IMDB Score": 5.1,
         "Language": "English",
         "_deepnote_index_column": 60
        },
        {
         "Title": "Coffee & Kareem",
         "Genre": "Action comedy",
         "Premiere": "April 3, 2020",
         "Runtime": 88,
         "IMDB Score": 5.1,
         "Language": "English",
         "_deepnote_index_column": 61
        },
        {
         "Title": "Dude",
         "Genre": "Teen comedy-drama",
         "Premiere": "April 20, 2018",
         "Runtime": 97,
         "IMDB Score": 5.1,
         "Language": "English",
         "_deepnote_index_column": 62
        },
        {
         "Title": "Geez & Ann",
         "Genre": "Romantic drama",
         "Premiere": "February 25, 2021",
         "Runtime": 105,
         "IMDB Score": 5.1,
         "Language": "Indonesian",
         "_deepnote_index_column": 63
        },
        {
         "Title": "The Larva Island Movie",
         "Genre": "Animation",
         "Premiere": "July 23, 2020",
         "Runtime": 90,
         "IMDB Score": 5.1,
         "Language": "English",
         "_deepnote_index_column": 64
        },
        {
         "Title": "#REALITYHIGH",
         "Genre": "Comedy",
         "Premiere": "September 8, 2017",
         "Runtime": 99,
         "IMDB Score": 5.2,
         "Language": "English",
         "_deepnote_index_column": 65
        },
        {
         "Title": "American Factory: A Conversation with the Obamas ",
         "Genre": "Aftershow / Interview",
         "Premiere": "August 21, 2019",
         "Runtime": 10,
         "IMDB Score": 5.2,
         "Language": "English",
         "_deepnote_index_column": 66
        },
        {
         "Title": "Desperados",
         "Genre": "Romantic comedy",
         "Premiere": "July 3, 2020",
         "Runtime": 106,
         "IMDB Score": 5.2,
         "Language": "English",
         "_deepnote_index_column": 67
        },
        {
         "Title": "Dolly Parton's Christmas on the Square",
         "Genre": "Christmas musical",
         "Premiere": "November 22, 2020",
         "Runtime": 98,
         "IMDB Score": 5.2,
         "Language": "English",
         "_deepnote_index_column": 68
        },
        {
         "Title": "Father of the Year",
         "Genre": "Comedy",
         "Premiere": "July 20, 2018",
         "Runtime": 94,
         "IMDB Score": 5.2,
         "Language": "English",
         "_deepnote_index_column": 69
        },
        {
         "Title": "Firebrand",
         "Genre": "Drama",
         "Premiere": "February 22, 2019",
         "Runtime": 112,
         "IMDB Score": 5.2,
         "Language": "Marathi",
         "_deepnote_index_column": 70
        },
        {
         "Title": "Ghost Lab",
         "Genre": "Horror",
         "Premiere": "May 26, 2021",
         "Runtime": 117,
         "IMDB Score": 5.2,
         "Language": "Thai",
         "_deepnote_index_column": 71
        },
        {
         "Title": "Girlfriend's Day",
         "Genre": "Comedy",
         "Premiere": "February 14, 2017",
         "Runtime": 70,
         "IMDB Score": 5.2,
         "Language": "English",
         "_deepnote_index_column": 72
        },
        {
         "Title": "Handsome: A Netflix Mystery Movie",
         "Genre": "Comedy",
         "Premiere": "May 5, 2017",
         "Runtime": 81,
         "IMDB Score": 5.2,
         "Language": "English",
         "_deepnote_index_column": 73
        },
        {
         "Title": "Hubie Halloween",
         "Genre": "Comedy",
         "Premiere": "October 7, 2020",
         "Runtime": 103,
         "IMDB Score": 5.2,
         "Language": "English",
         "_deepnote_index_column": 74
        },
        {
         "Title": "Ibiza",
         "Genre": "Comedy",
         "Premiere": "May 25, 2018",
         "Runtime": 94,
         "IMDB Score": 5.2,
         "Language": "English",
         "_deepnote_index_column": 75
        },
        {
         "Title": "Rim of the World",
         "Genre": "Science fiction adventure",
         "Premiere": "May 24, 2019",
         "Runtime": 98,
         "IMDB Score": 5.2,
         "Language": "English",
         "_deepnote_index_column": 76
        },
        {
         "Title": "Sandy Wexler",
         "Genre": "Comedy",
         "Premiere": "April 14, 2017",
         "Runtime": 131,
         "IMDB Score": 5.2,
         "Language": "English",
         "_deepnote_index_column": 77
        },
        {
         "Title": "See You Yesterday",
         "Genre": "Science fiction",
         "Premiere": "May 17, 2019",
         "Runtime": 87,
         "IMDB Score": 5.2,
         "Language": "English",
         "_deepnote_index_column": 78
        },
        {
         "Title": "Still Laugh-In: The Stars Celebrate",
         "Genre": "Variety show",
         "Premiere": "May 14, 2019",
         "Runtime": 60,
         "IMDB Score": 5.2,
         "Language": "English",
         "_deepnote_index_column": 79
        },
        {
         "Title": "Strip Down, Rise Up",
         "Genre": "Documentary",
         "Premiere": "February 5, 2021",
         "Runtime": 112,
         "IMDB Score": 5.2,
         "Language": "English",
         "_deepnote_index_column": 80
        },
        {
         "Title": "Tall Girl",
         "Genre": "Comedy-drama",
         "Premiere": "September 13, 2019",
         "Runtime": 102,
         "IMDB Score": 5.2,
         "Language": "English",
         "_deepnote_index_column": 81
        },
        {
         "Title": "The Beast",
         "Genre": "Drama",
         "Premiere": "November 27, 2020",
         "Runtime": 99,
         "IMDB Score": 5.2,
         "Language": "Italian",
         "_deepnote_index_column": 82
        }
       ],
       "rows_bottom": [
        {
         "Title": "Extremis",
         "Genre": "Documentary",
         "Premiere": "September 13, 2016",
         "Runtime": 24,
         "IMDB Score": 7.3,
         "Language": "English",
         "_deepnote_index_column": 501
        },
        {
         "Title": "Father Soldier Son",
         "Genre": "Documentary",
         "Premiere": "July 17, 2020",
         "Runtime": 100,
         "IMDB Score": 7.3,
         "Language": "English",
         "_deepnote_index_column": 502
        },
        {
         "Title": "Get Me Roger Stone",
         "Genre": "Documentary",
         "Premiere": "May 12, 2017",
         "Runtime": 101,
         "IMDB Score": 7.3,
         "Language": "English",
         "_deepnote_index_column": 503
        },
        {
         "Title": "I'm No Longer Here",
         "Genre": "Drama",
         "Premiere": "May 27, 2020",
         "Runtime": 105,
         "IMDB Score": 7.3,
         "Language": "Spanish",
         "_deepnote_index_column": 504
        },
        {
         "Title": "Mucho Mucho Amor: The Legend of Walter Mercado ",
         "Genre": "Documentary",
         "Premiere": "July 8, 2020",
         "Runtime": 96,
         "IMDB Score": 7.3,
         "Language": "Spanish/English",
         "_deepnote_index_column": 505
        },
        {
         "Title": "Octonauts & the Great Barrier Reef",
         "Genre": "Animation",
         "Premiere": "October 13, 2020",
         "Runtime": 47,
         "IMDB Score": 7.3,
         "Language": "English",
         "_deepnote_index_column": 506
        },
        {
         "Title": "Okja",
         "Genre": "Action-adventure",
         "Premiere": "June 28, 2017",
         "Runtime": 121,
         "IMDB Score": 7.3,
         "Language": "English/Korean",
         "_deepnote_index_column": 507
        },
        {
         "Title": "On My Skin",
         "Genre": "Crime drama",
         "Premiere": "September 12, 2018",
         "Runtime": 100,
         "IMDB Score": 7.3,
         "Language": "Italian",
         "_deepnote_index_column": 508
        },
        {
         "Title": "Raat Akeli Hai",
         "Genre": "Thriller",
         "Premiere": "July 31, 2020",
         "Runtime": 149,
         "IMDB Score": 7.3,
         "Language": "Hindi",
         "_deepnote_index_column": 509
        },
        {
         "Title": "ReMastered: Massacre at the Stadium",
         "Genre": "Documentary",
         "Premiere": "January 11, 2019",
         "Runtime": 64,
         "IMDB Score": 7.3,
         "Language": "English/Spanish",
         "_deepnote_index_column": 510
        },
        {
         "Title": "ReMastered: The Two Killings of Sam Cooke",
         "Genre": "Documentary",
         "Premiere": "February 8, 2019",
         "Runtime": 64,
         "IMDB Score": 7.3,
         "Language": "English",
         "_deepnote_index_column": 511
        },
        {
         "Title": "Secrets of the Saqqara Tomb",
         "Genre": "Documentary",
         "Premiere": "October 28, 2020",
         "Runtime": 114,
         "IMDB Score": 7.3,
         "Language": "English/Arabic",
         "_deepnote_index_column": 512
        },
        {
         "Title": "Sitara: Let Girls Dream",
         "Genre": "Animation / Short",
         "Premiere": "March 8, 2020",
         "Runtime": 15,
         "IMDB Score": 7.3,
         "Language": "English",
         "_deepnote_index_column": 513
        },
        {
         "Title": "Sky Ladder: The Art of Cai Guo-Qiang",
         "Genre": "Documentary",
         "Premiere": "October 14, 2016",
         "Runtime": 79,
         "IMDB Score": 7.3,
         "Language": "English/Mandarin",
         "_deepnote_index_column": 514
        },
        {
         "Title": "Team Foxcatcher",
         "Genre": "Documentary",
         "Premiere": "April 29, 2016",
         "Runtime": 90,
         "IMDB Score": 7.3,
         "Language": "English/Russian",
         "_deepnote_index_column": 515
        },
        {
         "Title": "The Ballad of Buster Scruggs",
         "Genre": "Western",
         "Premiere": "November 16, 2018",
         "Runtime": 132,
         "IMDB Score": 7.3,
         "Language": "English",
         "_deepnote_index_column": 516
        },
        {
         "Title": "The Death and Life of Marsha P. Johnson",
         "Genre": "Documentary",
         "Premiere": "October 6, 2017",
         "Runtime": 105,
         "IMDB Score": 7.3,
         "Language": "English",
         "_deepnote_index_column": 517
        },
        {
         "Title": "The Fundamentals of Caring",
         "Genre": "Comedy-drama",
         "Premiere": "June 24, 2016",
         "Runtime": 97,
         "IMDB Score": 7.3,
         "Language": "English",
         "_deepnote_index_column": 518
        },
        {
         "Title": "The Other One: The Long Strange Trip of Bob Weir",
         "Genre": "Documentary",
         "Premiere": "May 22, 2015",
         "Runtime": 83,
         "IMDB Score": 7.3,
         "Language": "English",
         "_deepnote_index_column": 519
        },
        {
         "Title": "American Factory",
         "Genre": "Documentary",
         "Premiere": "August 21, 2019",
         "Runtime": 110,
         "IMDB Score": 7.4,
         "Language": "English",
         "_deepnote_index_column": 520
        },
        {
         "Title": "Fire in Paradise",
         "Genre": "Documentary",
         "Premiere": "November 1, 2019",
         "Runtime": 39,
         "IMDB Score": 7.4,
         "Language": "English",
         "_deepnote_index_column": 521
        },
        {
         "Title": "Long Shot",
         "Genre": "Documentary",
         "Premiere": "September 29, 2017",
         "Runtime": 40,
         "IMDB Score": 7.4,
         "Language": "English",
         "_deepnote_index_column": 522
        },
        {
         "Title": "Miss Americana",
         "Genre": "Documentary",
         "Premiere": "January 31, 2020",
         "Runtime": 85,
         "IMDB Score": 7.4,
         "Language": "English",
         "_deepnote_index_column": 523
        },
        {
         "Title": "Period. End of Sentence.",
         "Genre": "Documentary",
         "Premiere": "February 12, 2019",
         "Runtime": 26,
         "IMDB Score": 7.4,
         "Language": "English/Hindi",
         "_deepnote_index_column": 524
        },
        {
         "Title": "Shawn Mendes: Live in Concert",
         "Genre": "Concert Film",
         "Premiere": "November 25, 2020",
         "Runtime": 87,
         "IMDB Score": 7.4,
         "Language": "English",
         "_deepnote_index_column": 525
        },
        {
         "Title": "Shirkers",
         "Genre": "Documentary",
         "Premiere": "October 26, 2018",
         "Runtime": 97,
         "IMDB Score": 7.4,
         "Language": "English",
         "_deepnote_index_column": 526
        },
        {
         "Title": "The Black Godfather",
         "Genre": "Documentary",
         "Premiere": "June 7, 2019",
         "Runtime": 118,
         "IMDB Score": 7.4,
         "Language": "English",
         "_deepnote_index_column": 527
        },
        {
         "Title": "The Irishman: In Conversation",
         "Genre": "Aftershow / Interview",
         "Premiere": "November 27, 2019",
         "Runtime": 23,
         "IMDB Score": 7.4,
         "Language": "English",
         "_deepnote_index_column": 528
        },
        {
         "Title": "The Speed Cubers",
         "Genre": "Documentary",
         "Premiere": "July 29, 2020",
         "Runtime": 40,
         "IMDB Score": 7.4,
         "Language": "English",
         "_deepnote_index_column": 529
        },
        {
         "Title": "They'll Love Me When I'm Dead",
         "Genre": "Documentary",
         "Premiere": "November 2, 2018",
         "Runtime": 98,
         "IMDB Score": 7.4,
         "Language": "English",
         "_deepnote_index_column": 530
        },
        {
         "Title": "Tig",
         "Genre": "Documentary",
         "Premiere": "July 17, 2015",
         "Runtime": 80,
         "IMDB Score": 7.4,
         "Language": "English",
         "_deepnote_index_column": 531
        },
        {
         "Title": "Barbra: The Music, The Mem'ries, The Magic!",
         "Genre": "Concert Film",
         "Premiere": "November 22, 2017",
         "Runtime": 108,
         "IMDB Score": 7.5,
         "Language": "English",
         "_deepnote_index_column": 532
        },
        {
         "Title": "Blackpink: Light Up the Sky",
         "Genre": "Documentary",
         "Premiere": "October 14, 2020",
         "Runtime": 79,
         "IMDB Score": 7.5,
         "Language": "Korean",
         "_deepnote_index_column": 533
        },
        {
         "Title": "City of Joy",
         "Genre": "Documentary",
         "Premiere": "September 7, 2018",
         "Runtime": 74,
         "IMDB Score": 7.5,
         "Language": "English",
         "_deepnote_index_column": 534
        },
        {
         "Title": "Dick Johnson Is Dead",
         "Genre": "Documentary",
         "Premiere": "October 2, 2020",
         "Runtime": 90,
         "IMDB Score": 7.5,
         "Language": "English",
         "_deepnote_index_column": 535
        },
        {
         "Title": "Homecoming: A Film by Beyonce ",
         "Genre": "Documentary",
         "Premiere": "April 17, 2019",
         "Runtime": 137,
         "IMDB Score": 7.5,
         "Language": "English",
         "_deepnote_index_column": 536
        },
        {
         "Title": "Invader Zim: Enter the Florpus",
         "Genre": "Animation / Science Fiction",
         "Premiere": "August 16, 2019",
         "Runtime": 71,
         "IMDB Score": 7.5,
         "Language": "English",
         "_deepnote_index_column": 537
        },
        {
         "Title": "Joan Didion: The Center Will Not Hold",
         "Genre": "Documentary",
         "Premiere": "October 27. 2017",
         "Runtime": 98,
         "IMDB Score": 7.5,
         "Language": "English",
         "_deepnote_index_column": 538
        },
        {
         "Title": "John Mulaney & the Sack Lunch Bunch",
         "Genre": "Variety show",
         "Premiere": "December 24, 2019",
         "Runtime": 70,
         "IMDB Score": 7.5,
         "Language": "English",
         "_deepnote_index_column": 539
        },
        {
         "Title": "Reversing Roe",
         "Genre": "Documentary",
         "Premiere": "September 13, 2018",
         "Runtime": 99,
         "IMDB Score": 7.5,
         "Language": "English",
         "_deepnote_index_column": 540
        },
        {
         "Title": "The White Helmets",
         "Genre": "Documentary",
         "Premiere": "September 16. 2016",
         "Runtime": 40,
         "IMDB Score": 7.5,
         "Language": "English",
         "_deepnote_index_column": 541
        },
        {
         "Title": "Athlete A",
         "Genre": "Documentary",
         "Premiere": "June 24, 2020",
         "Runtime": 104,
         "IMDB Score": 7.6,
         "Language": "English",
         "_deepnote_index_column": 542
        },
        {
         "Title": "Ludo",
         "Genre": "Anthology/Dark comedy",
         "Premiere": "November 12, 2020",
         "Runtime": 149,
         "IMDB Score": 7.6,
         "Language": "Hindi",
         "_deepnote_index_column": 543
        },
        {
         "Title": "Quincy",
         "Genre": "Documentary",
         "Premiere": "September 21, 2018",
         "Runtime": 124,
         "IMDB Score": 7.6,
         "Language": "English",
         "_deepnote_index_column": 544
        },
        {
         "Title": "Rolling Thunder Revue: A bob Dylan Story by Martin Scorsere",
         "Genre": "Documentary",
         "Premiere": "June 12, 2019",
         "Runtime": 144,
         "IMDB Score": 7.6,
         "Language": "English",
         "_deepnote_index_column": 545
        },
        {
         "Title": "Tell Me Who I Am",
         "Genre": "Documentary",
         "Premiere": "October 18, 2019",
         "Runtime": 85,
         "IMDB Score": 7.6,
         "Language": "English",
         "_deepnote_index_column": 546
        },
        {
         "Title": "The Bleeding Edge",
         "Genre": "Documentary",
         "Premiere": "July 27, 2018",
         "Runtime": 100,
         "IMDB Score": 7.6,
         "Language": "English",
         "_deepnote_index_column": 547
        },
        {
         "Title": "The Social Dilemma",
         "Genre": "Documentary",
         "Premiere": "September 9, 2020",
         "Runtime": 94,
         "IMDB Score": 7.6,
         "Language": "English",
         "_deepnote_index_column": 548
        },
        {
         "Title": "The Two Popes",
         "Genre": "Drama",
         "Premiere": "December 20, 2019",
         "Runtime": 125,
         "IMDB Score": 7.6,
         "Language": "English",
         "_deepnote_index_column": 549
        },
        {
         "Title": "What Happened, Miss Simone?",
         "Genre": "Documentary",
         "Premiere": "June 26, 2015",
         "Runtime": 84,
         "IMDB Score": 7.6,
         "Language": "English",
         "_deepnote_index_column": 550
        },
        {
         "Title": "Yeh Ballet",
         "Genre": "Drama",
         "Premiere": "February 21, 2020",
         "Runtime": 117,
         "IMDB Score": 7.6,
         "Language": "Hindi",
         "_deepnote_index_column": 551
        },
        {
         "Title": "Anima",
         "Genre": "Musical / Short",
         "Premiere": "June 27, 2019",
         "Runtime": 15,
         "IMDB Score": 7.7,
         "Language": "English",
         "_deepnote_index_column": 552
        },
        {
         "Title": "Beasts of No Nation",
         "Genre": "War drama",
         "Premiere": "October 16, 2015",
         "Runtime": 136,
         "IMDB Score": 7.7,
         "Language": "English/Akan",
         "_deepnote_index_column": 553
        },
        {
         "Title": "Brene Brown: The Call to Courage",
         "Genre": "Documentary",
         "Premiere": "April 19, 2019",
         "Runtime": 76,
         "IMDB Score": 7.7,
         "Language": "English",
         "_deepnote_index_column": 554
        },
        {
         "Title": "Crip Camp: A Disability Revolution",
         "Genre": "Documentary",
         "Premiere": "March 25, 2020",
         "Runtime": 108,
         "IMDB Score": 7.7,
         "Language": "English",
         "_deepnote_index_column": 555
        },
        {
         "Title": "Jim & Andy: The Great Beyond - Featuring a Very Special, Contractually Obligated Mention of Tony Cl…",
         "Genre": "Documentary",
         "Premiere": "November 17, 2017",
         "Runtime": 94,
         "IMDB Score": 7.7,
         "Language": "English",
         "_deepnote_index_column": 556
        },
        {
         "Title": "Justin Timberlake + The Tennessee Kids",
         "Genre": "Concert Film",
         "Premiere": "October 12, 2016",
         "Runtime": 90,
         "IMDB Score": 7.7,
         "Language": "English",
         "_deepnote_index_column": 557
        },
        {
         "Title": "Road to Roma",
         "Genre": "Making-of",
         "Premiere": "February 11, 2020",
         "Runtime": 72,
         "IMDB Score": 7.7,
         "Language": "Spanish",
         "_deepnote_index_column": 558
        },
        {
         "Title": "Roma",
         "Genre": "Drama",
         "Premiere": "December 14, 2018",
         "Runtime": 135,
         "IMDB Score": 7.7,
         "Language": "Spanish",
         "_deepnote_index_column": 559
        },
        {
         "Title": "If Anything Happens I Love You",
         "Genre": "Animation / Short",
         "Premiere": "November 20, 2020",
         "Runtime": 12,
         "IMDB Score": 7.8,
         "Language": "English",
         "_deepnote_index_column": 560
        },
        {
         "Title": "The Irishman",
         "Genre": "Crime drama",
         "Premiere": "November 27, 2019",
         "Runtime": 209,
         "IMDB Score": 7.8,
         "Language": "English",
         "_deepnote_index_column": 561
        },
        {
         "Title": "The Trial of the Chicago 7",
         "Genre": "Drama",
         "Premiere": "October 16, 2020",
         "Runtime": 130,
         "IMDB Score": 7.8,
         "Language": "English",
         "_deepnote_index_column": 562
        },
        {
         "Title": "A Secret Love",
         "Genre": "Documentary",
         "Premiere": "April 29, 2020",
         "Runtime": 82,
         "IMDB Score": 7.9,
         "Language": "English",
         "_deepnote_index_column": 563
        },
        {
         "Title": "Icarus",
         "Genre": "Documentary",
         "Premiere": "August 4, 2017",
         "Runtime": 120,
         "IMDB Score": 7.9,
         "Language": "English",
         "_deepnote_index_column": 564
        },
        {
         "Title": "Marriage Story",
         "Genre": "Drama",
         "Premiere": "December 6, 2019",
         "Runtime": 136,
         "IMDB Score": 7.9,
         "Language": "English",
         "_deepnote_index_column": 565
        },
        {
         "Title": "The Ivory Game",
         "Genre": "Documentary",
         "Premiere": "November 4, 2016",
         "Runtime": 112,
         "IMDB Score": 7.9,
         "Language": "English",
         "_deepnote_index_column": 566
        },
        {
         "Title": "Struggle: The Life and Lost Art of Szukaiski",
         "Genre": "Documentary",
         "Premiere": "December 21, 2018",
         "Runtime": 105,
         "IMDB Score": 8,
         "Language": "English",
         "_deepnote_index_column": 567
        },
        {
         "Title": "Chasing Coral ",
         "Genre": "Documentary",
         "Premiere": "July 14, 2017",
         "Runtime": 89,
         "IMDB Score": 8.1,
         "Language": "English",
         "_deepnote_index_column": 568
        },
        {
         "Title": "My Octopus Teacher",
         "Genre": "Documentary",
         "Premiere": "September 7, 2020",
         "Runtime": 85,
         "IMDB Score": 8.1,
         "Language": "English",
         "_deepnote_index_column": 569
        },
        {
         "Title": "Rising Phoenix",
         "Genre": "Documentary",
         "Premiere": "August 26, 2020",
         "Runtime": 106,
         "IMDB Score": 8.1,
         "Language": "English",
         "_deepnote_index_column": 570
        },
        {
         "Title": "13th",
         "Genre": "Documentary",
         "Premiere": "October 7, 2016",
         "Runtime": 100,
         "IMDB Score": 8.2,
         "Language": "English",
         "_deepnote_index_column": 571
        },
        {
         "Title": "Disclosure: Trans Lives on Screen",
         "Genre": "Documentary",
         "Premiere": "June 19, 2020",
         "Runtime": 107,
         "IMDB Score": 8.2,
         "Language": "English",
         "_deepnote_index_column": 572
        },
        {
         "Title": "Klaus",
         "Genre": "Animation/Christmas/Comedy/Adventure",
         "Premiere": "November 15, 2019",
         "Runtime": 97,
         "IMDB Score": 8.2,
         "Language": "English",
         "_deepnote_index_column": 573
        },
        {
         "Title": "Seaspiracy",
         "Genre": "Documentary",
         "Premiere": "March 24, 2021",
         "Runtime": 89,
         "IMDB Score": 8.2,
         "Language": "English",
         "_deepnote_index_column": 574
        },
        {
         "Title": "The Three Deaths of Marisela Escobedo",
         "Genre": "Documentary",
         "Premiere": "October 14, 2020",
         "Runtime": 109,
         "IMDB Score": 8.2,
         "Language": "Spanish",
         "_deepnote_index_column": 575
        },
        {
         "Title": "Cuba and the Cameraman ",
         "Genre": "Documentary",
         "Premiere": "November 24, 2017",
         "Runtime": 114,
         "IMDB Score": 8.3,
         "Language": "English",
         "_deepnote_index_column": 576
        },
        {
         "Title": "Dancing with the Birds",
         "Genre": "Documentary",
         "Premiere": "October 23, 2019",
         "Runtime": 51,
         "IMDB Score": 8.3,
         "Language": "English",
         "_deepnote_index_column": 577
        },
        {
         "Title": "Ben Platt: Live from Radio City Music Hall",
         "Genre": "Concert Film",
         "Premiere": "May 20, 2020",
         "Runtime": 85,
         "IMDB Score": 8.4,
         "Language": "English",
         "_deepnote_index_column": 578
        },
        {
         "Title": "Taylor Swift: Reputation Stadium Tour",
         "Genre": "Concert Film",
         "Premiere": "December 31, 2018",
         "Runtime": 125,
         "IMDB Score": 8.4,
         "Language": "English",
         "_deepnote_index_column": 579
        },
        {
         "Title": "Winter on Fire: Ukraine's Fight for Freedom",
         "Genre": "Documentary",
         "Premiere": "October 9, 2015",
         "Runtime": 91,
         "IMDB Score": 8.4,
         "Language": "English/Ukranian/Russian",
         "_deepnote_index_column": 580
        },
        {
         "Title": "Springsteen on Broadway",
         "Genre": "One-man show",
         "Premiere": "December 16, 2018",
         "Runtime": 153,
         "IMDB Score": 8.5,
         "Language": "English",
         "_deepnote_index_column": 581
        },
        {
         "Title": "Emicida: AmarElo - It's All For Yesterday",
         "Genre": "Documentary",
         "Premiere": "December 8, 2020",
         "Runtime": 89,
         "IMDB Score": 8.6,
         "Language": "Portuguese",
         "_deepnote_index_column": 582
        },
        {
         "Title": "David Attenborough: A Life on Our Planet",
         "Genre": "Documentary",
         "Premiere": "October 4, 2020",
         "Runtime": 83,
         "IMDB Score": 9,
         "Language": "English",
         "_deepnote_index_column": 583
        }
       ]
      },
      "text/plain": "                                           Title                  Genre  \\\n0                                Enter the Anime            Documentary   \n1                                    Dark Forces               Thriller   \n2                                        The App  Science fiction/Drama   \n3                                 The Open House        Horror thriller   \n4                                    Kaali Khuhi                Mystery   \n..                                           ...                    ...   \n579        Taylor Swift: Reputation Stadium Tour           Concert Film   \n580  Winter on Fire: Ukraine's Fight for Freedom            Documentary   \n581                      Springsteen on Broadway           One-man show   \n582    Emicida: AmarElo - It's All For Yesterday            Documentary   \n583     David Attenborough: A Life on Our Planet            Documentary   \n\n              Premiere  Runtime  IMDB Score                  Language  \n0       August 5, 2019       58         2.5          English/Japanese  \n1      August 21, 2020       81         2.6                   Spanish  \n2    December 26, 2019       79         2.6                   Italian  \n3     January 19, 2018       94         3.2                   English  \n4     October 30, 2020       90         3.4                     Hindi  \n..                 ...      ...         ...                       ...  \n579  December 31, 2018      125         8.4                   English  \n580    October 9, 2015       91         8.4  English/Ukranian/Russian  \n581  December 16, 2018      153         8.5                   English  \n582   December 8, 2020       89         8.6                Portuguese  \n583    October 4, 2020       83         9.0                   English  \n\n[584 rows x 6 columns]",
      "text/html": "<div>\n<style scoped>\n    .dataframe tbody tr th:only-of-type {\n        vertical-align: middle;\n    }\n\n    .dataframe tbody tr th {\n        vertical-align: top;\n    }\n\n    .dataframe thead th {\n        text-align: right;\n    }\n</style>\n<table border=\"1\" class=\"dataframe\">\n  <thead>\n    <tr style=\"text-align: right;\">\n      <th></th>\n      <th>Title</th>\n      <th>Genre</th>\n      <th>Premiere</th>\n      <th>Runtime</th>\n      <th>IMDB Score</th>\n      <th>Language</th>\n    </tr>\n  </thead>\n  <tbody>\n    <tr>\n      <th>0</th>\n      <td>Enter the Anime</td>\n      <td>Documentary</td>\n      <td>August 5, 2019</td>\n      <td>58</td>\n      <td>2.5</td>\n      <td>English/Japanese</td>\n    </tr>\n    <tr>\n      <th>1</th>\n      <td>Dark Forces</td>\n      <td>Thriller</td>\n      <td>August 21, 2020</td>\n      <td>81</td>\n      <td>2.6</td>\n      <td>Spanish</td>\n    </tr>\n    <tr>\n      <th>2</th>\n      <td>The App</td>\n      <td>Science fiction/Drama</td>\n      <td>December 26, 2019</td>\n      <td>79</td>\n      <td>2.6</td>\n      <td>Italian</td>\n    </tr>\n    <tr>\n      <th>3</th>\n      <td>The Open House</td>\n      <td>Horror thriller</td>\n      <td>January 19, 2018</td>\n      <td>94</td>\n      <td>3.2</td>\n      <td>English</td>\n    </tr>\n    <tr>\n      <th>4</th>\n      <td>Kaali Khuhi</td>\n      <td>Mystery</td>\n      <td>October 30, 2020</td>\n      <td>90</td>\n      <td>3.4</td>\n      <td>Hindi</td>\n    </tr>\n    <tr>\n      <th>...</th>\n      <td>...</td>\n      <td>...</td>\n      <td>...</td>\n      <td>...</td>\n      <td>...</td>\n      <td>...</td>\n    </tr>\n    <tr>\n      <th>579</th>\n      <td>Taylor Swift: Reputation Stadium Tour</td>\n      <td>Concert Film</td>\n      <td>December 31, 2018</td>\n      <td>125</td>\n      <td>8.4</td>\n      <td>English</td>\n    </tr>\n    <tr>\n      <th>580</th>\n      <td>Winter on Fire: Ukraine's Fight for Freedom</td>\n      <td>Documentary</td>\n      <td>October 9, 2015</td>\n      <td>91</td>\n      <td>8.4</td>\n      <td>English/Ukranian/Russian</td>\n    </tr>\n    <tr>\n      <th>581</th>\n      <td>Springsteen on Broadway</td>\n      <td>One-man show</td>\n      <td>December 16, 2018</td>\n      <td>153</td>\n      <td>8.5</td>\n      <td>English</td>\n    </tr>\n    <tr>\n      <th>582</th>\n      <td>Emicida: AmarElo - It's All For Yesterday</td>\n      <td>Documentary</td>\n      <td>December 8, 2020</td>\n      <td>89</td>\n      <td>8.6</td>\n      <td>Portuguese</td>\n    </tr>\n    <tr>\n      <th>583</th>\n      <td>David Attenborough: A Life on Our Planet</td>\n      <td>Documentary</td>\n      <td>October 4, 2020</td>\n      <td>83</td>\n      <td>9.0</td>\n      <td>English</td>\n    </tr>\n  </tbody>\n</table>\n<p>584 rows × 6 columns</p>\n</div>"
     },
     "metadata": {}
    }
   ],
   "execution_count": 8
  },
  {
   "cell_type": "markdown",
   "source": "El dataset cuenta con 584 peliculas y con 6 columnas",
   "metadata": {
    "tags": [],
    "cell_id": "00003-a2800b9c-665a-43e9-96a6-39b64d9b0532",
    "deepnote_cell_type": "markdown"
   }
  },
  {
   "cell_type": "code",
   "source": "df.shape",
   "metadata": {
    "tags": [],
    "cell_id": "00003-03e47ea4-cdbd-4e5d-aff7-73d630a8eeac",
    "deepnote_to_be_reexecuted": false,
    "source_hash": "14f60b8f",
    "execution_start": 1627615640921,
    "execution_millis": 7,
    "deepnote_cell_type": "code"
   },
   "outputs": [
    {
     "output_type": "execute_result",
     "execution_count": 10,
     "data": {
      "text/plain": "(584, 6)"
     },
     "metadata": {}
    }
   ],
   "execution_count": 10
  },
  {
   "cell_type": "markdown",
   "source": "Es demasiado raro que encontremos datos demasiado limpios, pero nos ayudara a tener un comienzo muy bueno.",
   "metadata": {
    "tags": [],
    "cell_id": "00005-569de0a8-55d5-4eef-a4fd-d2ed8061015c",
    "deepnote_cell_type": "markdown"
   }
  },
  {
   "cell_type": "code",
   "source": "df.isnull().sum()",
   "metadata": {
    "tags": [],
    "cell_id": "00006-9b7fcf07-c0e2-4187-859e-e3ce1c8b8321",
    "deepnote_to_be_reexecuted": false,
    "source_hash": "f3dd26da",
    "execution_start": 1627615706163,
    "execution_millis": 11,
    "deepnote_cell_type": "code"
   },
   "outputs": [
    {
     "output_type": "execute_result",
     "execution_count": 11,
     "data": {
      "text/plain": "Title         0\nGenre         0\nPremiere      0\nRuntime       0\nIMDB Score    0\nLanguage      0\ndtype: int64"
     },
     "metadata": {}
    }
   ],
   "execution_count": 11
  },
  {
   "cell_type": "code",
   "source": "df.info()",
   "metadata": {
    "tags": [],
    "cell_id": "00008-45d88337-7605-4715-b6b9-8f30022becfc",
    "deepnote_to_be_reexecuted": false,
    "source_hash": "de1e323c",
    "execution_start": 1627616295827,
    "execution_millis": 9,
    "deepnote_cell_type": "code"
   },
   "outputs": [
    {
     "name": "stdout",
     "text": "<class 'pandas.core.frame.DataFrame'>\nRangeIndex: 584 entries, 0 to 583\nData columns (total 6 columns):\n #   Column      Non-Null Count  Dtype  \n---  ------      --------------  -----  \n 0   Title       584 non-null    object \n 1   Genre       584 non-null    object \n 2   Premiere    584 non-null    object \n 3   Runtime     584 non-null    int64  \n 4   IMDB Score  584 non-null    float64\n 5   Language    584 non-null    object \ndtypes: float64(1), int64(1), object(4)\nmemory usage: 27.5+ KB\n",
     "output_type": "stream"
    }
   ],
   "execution_count": 15
  },
  {
   "cell_type": "markdown",
   "source": "El tipo de datos \"Premiere\" debemos convertirlo a un datetime, porque actualemnte es un objeto.",
   "metadata": {
    "tags": [],
    "cell_id": "00007-753d1cdf-5f94-4b3a-b2ae-152680946cd1",
    "deepnote_cell_type": "markdown"
   }
  },
  {
   "cell_type": "code",
   "source": "df['date'] = pd.to_datetime(df['Premiere'])\ndf['date']",
   "metadata": {
    "tags": [],
    "cell_id": "00009-9b8c1ecd-3e24-497b-a75f-9e069b16112a",
    "deepnote_to_be_reexecuted": false,
    "source_hash": "655df729",
    "execution_start": 1627616933013,
    "execution_millis": 99,
    "deepnote_cell_type": "code"
   },
   "outputs": [
    {
     "output_type": "execute_result",
     "execution_count": 30,
     "data": {
      "text/plain": "0     2019-08-05\n1     2020-08-21\n2     2019-12-26\n3     2018-01-19\n4     2020-10-30\n         ...    \n579   2018-12-31\n580   2015-10-09\n581   2018-12-16\n582   2020-12-08\n583   2020-10-04\nName: date, Length: 584, dtype: datetime64[ns]"
     },
     "metadata": {}
    }
   ],
   "execution_count": 30
  },
  {
   "cell_type": "markdown",
   "source": "Para poder tener un analisis mas sencillo vamos a separar la fecha completa en diferentes columnas.",
   "metadata": {
    "tags": [],
    "cell_id": "00010-2efdc18a-eff2-4e47-a999-5222873db7d9",
    "deepnote_cell_type": "markdown"
   }
  },
  {
   "cell_type": "code",
   "source": "df['year'] = df['date'].dt.year\ndf['year_month'] = df['date'].dt.strftime('%Y-%m')\ndf['month']= df['date'].dt.month\ndf['day_of_week']=df['date'].dt.dayofweek\ndf.head(1)",
   "metadata": {
    "tags": [],
    "cell_id": "00010-51d38693-f9df-4a27-8fc3-cd6204a07217",
    "deepnote_to_be_reexecuted": false,
    "source_hash": "9b684037",
    "execution_start": 1627616934901,
    "execution_millis": 63,
    "deepnote_cell_type": "code"
   },
   "outputs": [
    {
     "output_type": "execute_result",
     "execution_count": 31,
     "data": {
      "application/vnd.deepnote.dataframe.v2+json": {
       "row_count": 1,
       "column_count": 11,
       "columns": [
        {
         "name": "Title",
         "dtype": "object",
         "stats": {
          "unique_count": 1,
          "nan_count": 0,
          "categories": [
           {
            "name": "Enter the Anime",
            "count": 1
           }
          ]
         }
        },
        {
         "name": "Genre",
         "dtype": "object",
         "stats": {
          "unique_count": 1,
          "nan_count": 0,
          "categories": [
           {
            "name": "Documentary",
            "count": 1
           }
          ]
         }
        },
        {
         "name": "Premiere",
         "dtype": "object",
         "stats": {
          "unique_count": 1,
          "nan_count": 0,
          "categories": [
           {
            "name": "August 5, 2019",
            "count": 1
           }
          ]
         }
        },
        {
         "name": "Runtime",
         "dtype": "int64",
         "stats": {
          "unique_count": 1,
          "nan_count": 0,
          "min": "58",
          "max": "58",
          "histogram": [
           {
            "bin_start": 57.5,
            "bin_end": 57.6,
            "count": 0
           },
           {
            "bin_start": 57.6,
            "bin_end": 57.7,
            "count": 0
           },
           {
            "bin_start": 57.7,
            "bin_end": 57.8,
            "count": 0
           },
           {
            "bin_start": 57.8,
            "bin_end": 57.9,
            "count": 0
           },
           {
            "bin_start": 57.9,
            "bin_end": 58,
            "count": 0
           },
           {
            "bin_start": 58,
            "bin_end": 58.1,
            "count": 1
           },
           {
            "bin_start": 58.1,
            "bin_end": 58.2,
            "count": 0
           },
           {
            "bin_start": 58.2,
            "bin_end": 58.3,
            "count": 0
           },
           {
            "bin_start": 58.3,
            "bin_end": 58.4,
            "count": 0
           },
           {
            "bin_start": 58.4,
            "bin_end": 58.5,
            "count": 0
           }
          ]
         }
        },
        {
         "name": "IMDB Score",
         "dtype": "float64",
         "stats": {
          "unique_count": 1,
          "nan_count": 0,
          "min": "2.5",
          "max": "2.5",
          "histogram": [
           {
            "bin_start": 2,
            "bin_end": 2.1,
            "count": 0
           },
           {
            "bin_start": 2.1,
            "bin_end": 2.2,
            "count": 0
           },
           {
            "bin_start": 2.2,
            "bin_end": 2.3,
            "count": 0
           },
           {
            "bin_start": 2.3,
            "bin_end": 2.4,
            "count": 0
           },
           {
            "bin_start": 2.4,
            "bin_end": 2.5,
            "count": 0
           },
           {
            "bin_start": 2.5,
            "bin_end": 2.6,
            "count": 1
           },
           {
            "bin_start": 2.6,
            "bin_end": 2.7,
            "count": 0
           },
           {
            "bin_start": 2.7,
            "bin_end": 2.8,
            "count": 0
           },
           {
            "bin_start": 2.8,
            "bin_end": 2.9,
            "count": 0
           },
           {
            "bin_start": 2.9,
            "bin_end": 3,
            "count": 0
           }
          ]
         }
        },
        {
         "name": "Language",
         "dtype": "object",
         "stats": {
          "unique_count": 1,
          "nan_count": 0,
          "categories": [
           {
            "name": "English/Japanese",
            "count": 1
           }
          ]
         }
        },
        {
         "name": "date",
         "dtype": "datetime64[ns]",
         "stats": {
          "unique_count": 1,
          "nan_count": 0,
          "min": "2019-08-05 00:00:00",
          "max": "2019-08-05 00:00:00",
          "histogram": null
         }
        },
        {
         "name": "year_month",
         "dtype": "object",
         "stats": {
          "unique_count": 1,
          "nan_count": 0,
          "categories": [
           {
            "name": "2019-08",
            "count": 1
           }
          ]
         }
        },
        {
         "name": "year",
         "dtype": "int64",
         "stats": {
          "unique_count": 1,
          "nan_count": 0,
          "min": "2019",
          "max": "2019",
          "histogram": [
           {
            "bin_start": 2018.5,
            "bin_end": 2018.6,
            "count": 0
           },
           {
            "bin_start": 2018.6,
            "bin_end": 2018.7,
            "count": 0
           },
           {
            "bin_start": 2018.7,
            "bin_end": 2018.8,
            "count": 0
           },
           {
            "bin_start": 2018.8,
            "bin_end": 2018.9,
            "count": 0
           },
           {
            "bin_start": 2018.9,
            "bin_end": 2019,
            "count": 0
           },
           {
            "bin_start": 2019,
            "bin_end": 2019.1,
            "count": 1
           },
           {
            "bin_start": 2019.1,
            "bin_end": 2019.2,
            "count": 0
           },
           {
            "bin_start": 2019.2,
            "bin_end": 2019.3,
            "count": 0
           },
           {
            "bin_start": 2019.3,
            "bin_end": 2019.4,
            "count": 0
           },
           {
            "bin_start": 2019.4,
            "bin_end": 2019.5,
            "count": 0
           }
          ]
         }
        },
        {
         "name": "month",
         "dtype": "int64",
         "stats": {
          "unique_count": 1,
          "nan_count": 0,
          "min": "8",
          "max": "8",
          "histogram": [
           {
            "bin_start": 7.5,
            "bin_end": 7.6,
            "count": 0
           },
           {
            "bin_start": 7.6,
            "bin_end": 7.7,
            "count": 0
           },
           {
            "bin_start": 7.7,
            "bin_end": 7.8,
            "count": 0
           },
           {
            "bin_start": 7.8,
            "bin_end": 7.9,
            "count": 0
           },
           {
            "bin_start": 7.9,
            "bin_end": 8,
            "count": 0
           },
           {
            "bin_start": 8,
            "bin_end": 8.1,
            "count": 1
           },
           {
            "bin_start": 8.1,
            "bin_end": 8.2,
            "count": 0
           },
           {
            "bin_start": 8.2,
            "bin_end": 8.3,
            "count": 0
           },
           {
            "bin_start": 8.3,
            "bin_end": 8.4,
            "count": 0
           },
           {
            "bin_start": 8.4,
            "bin_end": 8.5,
            "count": 0
           }
          ]
         }
        },
        {
         "name": "day_of_week",
         "dtype": "int64",
         "stats": {
          "unique_count": 1,
          "nan_count": 0,
          "min": "0",
          "max": "0",
          "histogram": [
           {
            "bin_start": -0.5,
            "bin_end": -0.4,
            "count": 0
           },
           {
            "bin_start": -0.4,
            "bin_end": -0.3,
            "count": 0
           },
           {
            "bin_start": -0.3,
            "bin_end": -0.19999999999999996,
            "count": 0
           },
           {
            "bin_start": -0.19999999999999996,
            "bin_end": -0.09999999999999998,
            "count": 0
           },
           {
            "bin_start": -0.09999999999999998,
            "bin_end": 0,
            "count": 0
           },
           {
            "bin_start": 0,
            "bin_end": 0.10000000000000009,
            "count": 1
           },
           {
            "bin_start": 0.10000000000000009,
            "bin_end": 0.20000000000000007,
            "count": 0
           },
           {
            "bin_start": 0.20000000000000007,
            "bin_end": 0.30000000000000004,
            "count": 0
           },
           {
            "bin_start": 0.30000000000000004,
            "bin_end": 0.4,
            "count": 0
           },
           {
            "bin_start": 0.4,
            "bin_end": 0.5,
            "count": 0
           }
          ]
         }
        },
        {
         "name": "_deepnote_index_column",
         "dtype": "int64"
        }
       ],
       "rows_top": [
        {
         "Title": "Enter the Anime",
         "Genre": "Documentary",
         "Premiere": "August 5, 2019",
         "Runtime": 58,
         "IMDB Score": 2.5,
         "Language": "English/Japanese",
         "date": "2019-08-05T00:00:00.000000",
         "year_month": "2019-08",
         "year": 2019,
         "month": 8,
         "day_of_week": 0,
         "_deepnote_index_column": 0
        }
       ],
       "rows_bottom": null
      },
      "text/plain": "             Title        Genre        Premiere  Runtime  IMDB Score  \\\n0  Enter the Anime  Documentary  August 5, 2019       58         2.5   \n\n           Language       date year_month  year  month  day_of_week  \n0  English/Japanese 2019-08-05    2019-08  2019      8            0  ",
      "text/html": "<div>\n<style scoped>\n    .dataframe tbody tr th:only-of-type {\n        vertical-align: middle;\n    }\n\n    .dataframe tbody tr th {\n        vertical-align: top;\n    }\n\n    .dataframe thead th {\n        text-align: right;\n    }\n</style>\n<table border=\"1\" class=\"dataframe\">\n  <thead>\n    <tr style=\"text-align: right;\">\n      <th></th>\n      <th>Title</th>\n      <th>Genre</th>\n      <th>Premiere</th>\n      <th>Runtime</th>\n      <th>IMDB Score</th>\n      <th>Language</th>\n      <th>date</th>\n      <th>year_month</th>\n      <th>year</th>\n      <th>month</th>\n      <th>day_of_week</th>\n    </tr>\n  </thead>\n  <tbody>\n    <tr>\n      <th>0</th>\n      <td>Enter the Anime</td>\n      <td>Documentary</td>\n      <td>August 5, 2019</td>\n      <td>58</td>\n      <td>2.5</td>\n      <td>English/Japanese</td>\n      <td>2019-08-05</td>\n      <td>2019-08</td>\n      <td>2019</td>\n      <td>8</td>\n      <td>0</td>\n    </tr>\n  </tbody>\n</table>\n</div>"
     },
     "metadata": {}
    }
   ],
   "execution_count": 31
  },
  {
   "cell_type": "markdown",
   "source": "# Análisis",
   "metadata": {
    "tags": [],
    "cell_id": "00012-072e7170-f5e4-4ae1-a4a7-22915c21e6c0",
    "deepnote_cell_type": "markdown"
   }
  },
  {
   "cell_type": "markdown",
   "source": "## Genero\nExisten 115 generos unicos en el data set.",
   "metadata": {
    "tags": [],
    "cell_id": "00013-3617a0ad-6507-40cb-b77a-b18ea72ad1ed",
    "deepnote_cell_type": "markdown"
   }
  },
  {
   "cell_type": "code",
   "source": "df['Genre'].nunique()",
   "metadata": {
    "tags": [],
    "cell_id": "00013-e853c606-57d7-4bba-9e8a-08387f4a286a",
    "deepnote_to_be_reexecuted": false,
    "source_hash": "4bc0b37a",
    "execution_start": 1627617985062,
    "execution_millis": 8,
    "deepnote_cell_type": "code"
   },
   "outputs": [
    {
     "output_type": "execute_result",
     "execution_count": 53,
     "data": {
      "text/plain": "115"
     },
     "metadata": {}
    }
   ],
   "execution_count": 53
  },
  {
   "cell_type": "markdown",
   "source": "Vamos a normalizar los datos esto es muy importante hacerlo, ya que nos ayudara a entender cual es el genero que predomina más.",
   "metadata": {
    "tags": [],
    "cell_id": "00015-64dcde85-90d1-4603-a6f1-9fb371d21a1b",
    "deepnote_cell_type": "markdown"
   }
  },
  {
   "cell_type": "code",
   "source": "df['Genre'].value_counts(normalize=True)",
   "metadata": {
    "tags": [],
    "cell_id": "00015-cf5f03d6-43ab-4cb8-935f-660802ee4bc5",
    "deepnote_to_be_reexecuted": false,
    "source_hash": "83cbf547",
    "execution_start": 1627617414131,
    "execution_millis": 8,
    "deepnote_cell_type": "code"
   },
   "outputs": [
    {
     "output_type": "execute_result",
     "execution_count": 42,
     "data": {
      "text/plain": "Documentary            0.272260\nDrama                  0.131849\nComedy                 0.083904\nRomantic comedy        0.066781\nThriller               0.056507\n                         ...   \nBiographical/Comedy    0.001712\nAction-adventure       0.001712\nAdventure-romance      0.001712\nSports film            0.001712\nAction/Comedy          0.001712\nName: Genre, Length: 115, dtype: float64"
     },
     "metadata": {}
    }
   ],
   "execution_count": 42
  },
  {
   "cell_type": "code",
   "source": "print(df['Genre'].value_counts()[:10])\nprint('-'*50)\nprint('Top 5  de generos cuenta con el: ',(df['Genre'].value_counts()[:5].sum()*100)/df['Genre'].value_counts().sum(), '%')",
   "metadata": {
    "tags": [],
    "cell_id": "00016-49b6e546-37ab-4954-9ac1-9db5e91f76b0",
    "deepnote_to_be_reexecuted": false,
    "source_hash": "276ada8e",
    "execution_start": 1627618778375,
    "execution_millis": 16,
    "deepnote_cell_type": "code"
   },
   "outputs": [
    {
     "name": "stdout",
     "text": "Documentary        159\nDrama               77\nComedy              49\nRomantic comedy     39\nThriller            33\nComedy-drama        14\nCrime drama         11\nBiopic               9\nHorror               9\nAction               7\nName: Genre, dtype: int64\n--------------------------------------------------\nTop 10 cuenta con el:  61.13013698630137 %\n",
     "output_type": "stream"
    }
   ],
   "execution_count": 78
  },
  {
   "cell_type": "markdown",
   "source": "- El 27.2% de las peliculas son de Documentales y despues le sigue las peliculas de Drama con 13.1%.\n- La mayoria de peliculas provienen de diferentes generos y una gran cantidad de pelicuas estan en el rango del 1%.\n- Algo impresionante es el top 5 de los generos simplemente abarca el 61.13% de las peliculas. Y sus generos son Documental, Drama, Comedia romantica, Thriller y comedia dramatica.",
   "metadata": {
    "tags": [],
    "cell_id": "00018-aa203778-4d19-44cf-94a4-68145179752f",
    "deepnote_cell_type": "markdown"
   }
  },
  {
   "cell_type": "code",
   "source": "",
   "metadata": {
    "tags": [],
    "cell_id": "00018-d556686a-443e-4de6-bf4c-61bb22a1890a",
    "deepnote_to_be_reexecuted": false,
    "source_hash": "cd069fd4",
    "execution_start": 1627618224075,
    "execution_millis": 6,
    "deepnote_cell_type": "code"
   },
   "outputs": [
    {
     "output_type": "execute_result",
     "execution_count": 67,
     "data": {
      "text/plain": "69.6917808219178"
     },
     "metadata": {}
    }
   ],
   "execution_count": 67
  },
  {
   "cell_type": "markdown",
   "source": "<a style='text-decoration:none;line-height:16px;display:flex;color:#5B5B62;padding:10px;justify-content:end;' href='https://deepnote.com?utm_source=created-in-deepnote-cell&projectId=322df7a5-4b18-4ddb-8f91-c142e3bf7671' target=\"_blank\">\n<img alt='Created in deepnote.com' style='display:inline;max-height:16px;margin:0px;margin-right:7.5px;' src='data:image/svg+xml;base64,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' > </img>\nCreated in <span style='font-weight:600;margin-left:4px;'>Deepnote</span></a>",
   "metadata": {
    "tags": [],
    "created_in_deepnote_cell": true,
    "deepnote_cell_type": "markdown"
   }
  }
 ],
 "nbformat": 4,
 "nbformat_minor": 2,
 "metadata": {
  "orig_nbformat": 2,
  "deepnote": {
   "is_reactive": false
  },
  "deepnote_notebook_id": "e47fe8fe-af4f-415d-add8-2b5a2131ab53",
  "deepnote_execution_queue": []
 }
}
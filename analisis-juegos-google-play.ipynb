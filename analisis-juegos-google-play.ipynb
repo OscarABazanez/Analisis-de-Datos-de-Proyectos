{
 "cells": [
  {
   "cell_type": "markdown",
   "source": "# Top de Juegos en Google Plat Store",
   "metadata": {
    "tags": [],
    "cell_id": "00000-9b1dadec-6c8c-49af-92a6-6bafb075b641",
    "deepnote_cell_type": "markdown"
   }
  },
  {
   "cell_type": "code",
   "metadata": {
    "tags": [],
    "cell_id": "00000-9996763f-f36f-4ea1-95ad-642966aa685d",
    "deepnote_to_be_reexecuted": false,
    "source_hash": "f4201440",
    "execution_start": 1626919031091,
    "execution_millis": 2303,
    "deepnote_cell_type": "code"
   },
   "source": "import numpy as np\nimport pandas as pd\nimport matplotlib.pyplot as plt\nimport seaborn as sns\n\nimport plotly \nimport plotly.express as px\nimport plotly.graph_objs as go\nimport plotly.offline as py\nfrom plotly.offline import iplot\nfrom plotly.subplots import make_subplots\nimport plotly.figure_factory as ff",
   "execution_count": 1,
   "outputs": []
  },
  {
   "cell_type": "code",
   "metadata": {
    "tags": [],
    "cell_id": "00001-d02e63ad-70e3-48a1-8e26-af7446dd78e3",
    "deepnote_to_be_reexecuted": false,
    "source_hash": "fa627471",
    "execution_start": 1626919033419,
    "execution_millis": 112,
    "deepnote_cell_type": "code"
   },
   "source": "df = pd.read_csv('db/android-games.csv')\ndf = df.rename(columns={'total ratings':'total_ratings'})\ndf = df.rename(columns={'growth (30 days)':'growth_30_days'})\ndf = df.rename(columns={'growth (60 days)':'growth_60_days'})\n\ndf",
   "execution_count": 2,
   "outputs": [
    {
     "output_type": "execute_result",
     "execution_count": 2,
     "data": {
      "application/vnd.deepnote.dataframe.v2+json": {
       "row_count": 1730,
       "column_count": 15,
       "columns": [
        {
         "name": "rank",
         "dtype": "int64",
         "stats": {
          "unique_count": 100,
          "nan_count": 0,
          "min": "1",
          "max": "100",
          "histogram": [
           {
            "bin_start": 1,
            "bin_end": 10.9,
            "count": 176
           },
           {
            "bin_start": 10.9,
            "bin_end": 20.8,
            "count": 176
           },
           {
            "bin_start": 20.8,
            "bin_end": 30.700000000000003,
            "count": 172
           },
           {
            "bin_start": 30.700000000000003,
            "bin_end": 40.6,
            "count": 170
           },
           {
            "bin_start": 40.6,
            "bin_end": 50.5,
            "count": 172
           },
           {
            "bin_start": 50.5,
            "bin_end": 60.400000000000006,
            "count": 174
           },
           {
            "bin_start": 60.400000000000006,
            "bin_end": 70.3,
            "count": 171
           },
           {
            "bin_start": 70.3,
            "bin_end": 80.2,
            "count": 173
           },
           {
            "bin_start": 80.2,
            "bin_end": 90.10000000000001,
            "count": 174
           },
           {
            "bin_start": 90.10000000000001,
            "bin_end": 100,
            "count": 172
           }
          ]
         }
        },
        {
         "name": "title",
         "dtype": "object",
         "stats": {
          "unique_count": 1675,
          "nan_count": 0,
          "categories": [
           {
            "name": "Solitaire",
            "count": 36
           },
           {
            "name": "Word Search",
            "count": 9
           },
           {
            "name": "1673 others",
            "count": 1685
           }
          ]
         }
        },
        {
         "name": "total_ratings",
         "dtype": "int64",
         "stats": {
          "unique_count": 1699,
          "nan_count": 0,
          "min": "32993",
          "max": "86273129",
          "histogram": [
           {
            "bin_start": 32993,
            "bin_end": 8657006.6,
            "count": 1705
           },
           {
            "bin_start": 8657006.6,
            "bin_end": 17281020.2,
            "count": 15
           },
           {
            "bin_start": 17281020.2,
            "bin_end": 25905033.799999997,
            "count": 3
           },
           {
            "bin_start": 25905033.799999997,
            "bin_end": 34529047.4,
            "count": 3
           },
           {
            "bin_start": 34529047.4,
            "bin_end": 43153061,
            "count": 2
           },
           {
            "bin_start": 43153061,
            "bin_end": 51777074.599999994,
            "count": 0
           },
           {
            "bin_start": 51777074.599999994,
            "bin_end": 60401088.199999996,
            "count": 1
           },
           {
            "bin_start": 60401088.199999996,
            "bin_end": 69025101.8,
            "count": 0
           },
           {
            "bin_start": 69025101.8,
            "bin_end": 77649115.39999999,
            "count": 0
           },
           {
            "bin_start": 77649115.39999999,
            "bin_end": 86273129,
            "count": 1
           }
          ]
         }
        },
        {
         "name": "installs",
         "dtype": "object",
         "stats": {
          "unique_count": 9,
          "nan_count": 0,
          "categories": [
           {
            "name": "10.0 M",
            "count": 805
           },
           {
            "name": "50.0 M",
            "count": 252
           },
           {
            "name": "7 others",
            "count": 673
           }
          ]
         }
        },
        {
         "name": "average rating",
         "dtype": "int64",
         "stats": {
          "unique_count": 3,
          "nan_count": 0,
          "min": "2",
          "max": "4",
          "histogram": [
           {
            "bin_start": 2,
            "bin_end": 2.2,
            "count": 1
           },
           {
            "bin_start": 2.2,
            "bin_end": 2.4,
            "count": 0
           },
           {
            "bin_start": 2.4,
            "bin_end": 2.6,
            "count": 0
           },
           {
            "bin_start": 2.6,
            "bin_end": 2.8,
            "count": 0
           },
           {
            "bin_start": 2.8,
            "bin_end": 3,
            "count": 0
           },
           {
            "bin_start": 3,
            "bin_end": 3.2,
            "count": 157
           },
           {
            "bin_start": 3.2,
            "bin_end": 3.4000000000000004,
            "count": 0
           },
           {
            "bin_start": 3.4000000000000004,
            "bin_end": 3.6,
            "count": 0
           },
           {
            "bin_start": 3.6,
            "bin_end": 3.8,
            "count": 0
           },
           {
            "bin_start": 3.8,
            "bin_end": 4,
            "count": 1572
           }
          ]
         }
        },
        {
         "name": "growth_30_days",
         "dtype": "float64",
         "stats": {
          "unique_count": 186,
          "nan_count": 0,
          "min": "0.0",
          "max": "227105.7",
          "histogram": [
           {
            "bin_start": 0,
            "bin_end": 22710.57,
            "count": 1725
           },
           {
            "bin_start": 22710.57,
            "bin_end": 45421.14,
            "count": 2
           },
           {
            "bin_start": 45421.14,
            "bin_end": 68131.70999999999,
            "count": 1
           },
           {
            "bin_start": 68131.70999999999,
            "bin_end": 90842.28,
            "count": 1
           },
           {
            "bin_start": 90842.28,
            "bin_end": 113552.85,
            "count": 0
           },
           {
            "bin_start": 113552.85,
            "bin_end": 136263.41999999998,
            "count": 0
           },
           {
            "bin_start": 136263.41999999998,
            "bin_end": 158973.99,
            "count": 0
           },
           {
            "bin_start": 158973.99,
            "bin_end": 181684.56,
            "count": 0
           },
           {
            "bin_start": 181684.56,
            "bin_end": 204395.13,
            "count": 0
           },
           {
            "bin_start": 204395.13,
            "bin_end": 227105.7,
            "count": 1
           }
          ]
         }
        },
        {
         "name": "growth_60_days",
         "dtype": "float64",
         "stats": {
          "unique_count": 206,
          "nan_count": 0,
          "min": "0.0",
          "max": "69441.4",
          "histogram": [
           {
            "bin_start": 0,
            "bin_end": 6944.139999999999,
            "count": 1725
           },
           {
            "bin_start": 6944.139999999999,
            "bin_end": 13888.279999999999,
            "count": 1
           },
           {
            "bin_start": 13888.279999999999,
            "bin_end": 20832.42,
            "count": 1
           },
           {
            "bin_start": 20832.42,
            "bin_end": 27776.559999999998,
            "count": 0
           },
           {
            "bin_start": 27776.559999999998,
            "bin_end": 34720.7,
            "count": 0
           },
           {
            "bin_start": 34720.7,
            "bin_end": 41664.84,
            "count": 0
           },
           {
            "bin_start": 41664.84,
            "bin_end": 48608.979999999996,
            "count": 2
           },
           {
            "bin_start": 48608.979999999996,
            "bin_end": 55553.119999999995,
            "count": 0
           },
           {
            "bin_start": 55553.119999999995,
            "bin_end": 62497.259999999995,
            "count": 0
           },
           {
            "bin_start": 62497.259999999995,
            "bin_end": 69441.4,
            "count": 1
           }
          ]
         }
        },
        {
         "name": "price",
         "dtype": "float64",
         "stats": {
          "unique_count": 6,
          "nan_count": 0,
          "min": "0.0",
          "max": "7.49",
          "histogram": [
           {
            "bin_start": 0,
            "bin_end": 0.749,
            "count": 1723
           },
           {
            "bin_start": 0.749,
            "bin_end": 1.498,
            "count": 2
           },
           {
            "bin_start": 1.498,
            "bin_end": 2.247,
            "count": 3
           },
           {
            "bin_start": 2.247,
            "bin_end": 2.996,
            "count": 1
           },
           {
            "bin_start": 2.996,
            "bin_end": 3.745,
            "count": 0
           },
           {
            "bin_start": 3.745,
            "bin_end": 4.494,
            "count": 0
           },
           {
            "bin_start": 4.494,
            "bin_end": 5.243,
            "count": 0
           },
           {
            "bin_start": 5.243,
            "bin_end": 5.992,
            "count": 0
           },
           {
            "bin_start": 5.992,
            "bin_end": 6.741,
            "count": 0
           },
           {
            "bin_start": 6.741,
            "bin_end": 7.49,
            "count": 1
           }
          ]
         }
        },
        {
         "name": "category",
         "dtype": "object",
         "stats": {
          "unique_count": 17,
          "nan_count": 0,
          "categories": [
           {
            "name": "GAME CARD",
            "count": 126
           },
           {
            "name": "GAME WORD",
            "count": 104
           },
           {
            "name": "15 others",
            "count": 1500
           }
          ]
         }
        },
        {
         "name": "5 star ratings",
         "dtype": "int64",
         "stats": {
          "unique_count": 1697,
          "nan_count": 0,
          "min": "13975",
          "max": "63546766",
          "histogram": [
           {
            "bin_start": 13975,
            "bin_end": 6367254.1,
            "count": 1706
           },
           {
            "bin_start": 6367254.1,
            "bin_end": 12720533.2,
            "count": 14
           },
           {
            "bin_start": 12720533.2,
            "bin_end": 19073812.299999997,
            "count": 4
           },
           {
            "bin_start": 19073812.299999997,
            "bin_end": 25427091.4,
            "count": 2
           },
           {
            "bin_start": 25427091.4,
            "bin_end": 31780370.5,
            "count": 2
           },
           {
            "bin_start": 31780370.5,
            "bin_end": 38133649.599999994,
            "count": 0
           },
           {
            "bin_start": 38133649.599999994,
            "bin_end": 44486928.699999996,
            "count": 1
           },
           {
            "bin_start": 44486928.699999996,
            "bin_end": 50840207.8,
            "count": 0
           },
           {
            "bin_start": 50840207.8,
            "bin_end": 57193486.9,
            "count": 0
           },
           {
            "bin_start": 57193486.9,
            "bin_end": 63546766,
            "count": 1
           }
          ]
         }
        },
        {
         "name": "4 star ratings",
         "dtype": "int64",
         "stats": {
          "unique_count": 1692,
          "nan_count": 0,
          "min": "2451",
          "max": "5404966",
          "histogram": [
           {
            "bin_start": 2451,
            "bin_end": 542702.5,
            "count": 1676
           },
           {
            "bin_start": 542702.5,
            "bin_end": 1082954,
            "count": 32
           },
           {
            "bin_start": 1082954,
            "bin_end": 1623205.5,
            "count": 11
           },
           {
            "bin_start": 1623205.5,
            "bin_end": 2163457,
            "count": 4
           },
           {
            "bin_start": 2163457,
            "bin_end": 2703708.5,
            "count": 2
           },
           {
            "bin_start": 2703708.5,
            "bin_end": 3243960,
            "count": 0
           },
           {
            "bin_start": 3243960,
            "bin_end": 3784211.5,
            "count": 2
           },
           {
            "bin_start": 3784211.5,
            "bin_end": 4324463,
            "count": 1
           },
           {
            "bin_start": 4324463,
            "bin_end": 4864714.5,
            "count": 0
           },
           {
            "bin_start": 4864714.5,
            "bin_end": 5404966,
            "count": 2
           }
          ]
         }
        },
        {
         "name": "3 star ratings",
         "dtype": "int64",
         "stats": {
          "unique_count": 1677,
          "nan_count": 0,
          "min": "718",
          "max": "3158756",
          "histogram": [
           {
            "bin_start": 718,
            "bin_end": 316521.8,
            "count": 1685
           },
           {
            "bin_start": 316521.8,
            "bin_end": 632325.6,
            "count": 28
           },
           {
            "bin_start": 632325.6,
            "bin_end": 948129.3999999999,
            "count": 8
           },
           {
            "bin_start": 948129.3999999999,
            "bin_end": 1263933.2,
            "count": 4
           },
           {
            "bin_start": 1263933.2,
            "bin_end": 1579737,
            "count": 1
           },
           {
            "bin_start": 1579737,
            "bin_end": 1895540.7999999998,
            "count": 2
           },
           {
            "bin_start": 1895540.7999999998,
            "bin_end": 2211344.6,
            "count": 0
           },
           {
            "bin_start": 2211344.6,
            "bin_end": 2527148.4,
            "count": 1
           },
           {
            "bin_start": 2527148.4,
            "bin_end": 2842952.1999999997,
            "count": 0
           },
           {
            "bin_start": 2842952.1999999997,
            "bin_end": 3158756,
            "count": 1
           }
          ]
         }
        },
        {
         "name": "2 star ratings",
         "dtype": "int64",
         "stats": {
          "unique_count": 1653,
          "nan_count": 0,
          "min": "266",
          "max": "2122183",
          "histogram": [
           {
            "bin_start": 266,
            "bin_end": 212457.7,
            "count": 1701
           },
           {
            "bin_start": 212457.7,
            "bin_end": 424649.4,
            "count": 18
           },
           {
            "bin_start": 424649.4,
            "bin_end": 636841.1000000001,
            "count": 4
           },
           {
            "bin_start": 636841.1000000001,
            "bin_end": 849032.8,
            "count": 5
           },
           {
            "bin_start": 849032.8,
            "bin_end": 1061224.5,
            "count": 1
           },
           {
            "bin_start": 1061224.5,
            "bin_end": 1273416.2000000002,
            "count": 0
           },
           {
            "bin_start": 1273416.2000000002,
            "bin_end": 1485607.9000000001,
            "count": 0
           },
           {
            "bin_start": 1485607.9000000001,
            "bin_end": 1697799.6,
            "count": 0
           },
           {
            "bin_start": 1697799.6,
            "bin_end": 1909991.3,
            "count": 0
           },
           {
            "bin_start": 1909991.3,
            "bin_end": 2122183,
            "count": 1
           }
          ]
         }
        },
        {
         "name": "1 star ratings",
         "dtype": "int64",
         "stats": {
          "unique_count": 1686,
          "nan_count": 0,
          "min": "545",
          "max": "12495915",
          "histogram": [
           {
            "bin_start": 545,
            "bin_end": 1250082,
            "count": 1716
           },
           {
            "bin_start": 1250082,
            "bin_end": 2499619,
            "count": 7
           },
           {
            "bin_start": 2499619,
            "bin_end": 3749156,
            "count": 2
           },
           {
            "bin_start": 3749156,
            "bin_end": 4998693,
            "count": 4
           },
           {
            "bin_start": 4998693,
            "bin_end": 6248230,
            "count": 0
           },
           {
            "bin_start": 6248230,
            "bin_end": 7497767,
            "count": 0
           },
           {
            "bin_start": 7497767,
            "bin_end": 8747304,
            "count": 0
           },
           {
            "bin_start": 8747304,
            "bin_end": 9996841,
            "count": 0
           },
           {
            "bin_start": 9996841,
            "bin_end": 11246378,
            "count": 0
           },
           {
            "bin_start": 11246378,
            "bin_end": 12495915,
            "count": 1
           }
          ]
         }
        },
        {
         "name": "paid",
         "dtype": "bool",
         "stats": {
          "unique_count": 2,
          "nan_count": 0,
          "categories": [
           {
            "name": "False",
            "count": 1723
           },
           {
            "name": "True",
            "count": 7
           }
          ]
         }
        },
        {
         "name": "_deepnote_index_column",
         "dtype": "int64"
        }
       ],
       "rows_top": [
        {
         "rank": 1,
         "title": "Garena Free Fire- World Series",
         "total_ratings": 86273129,
         "installs": "500.0 M",
         "average rating": 4,
         "growth_30_days": 2.1,
         "growth_60_days": 6.9,
         "price": 0,
         "category": "GAME ACTION",
         "5 star ratings": 63546766,
         "4 star ratings": 4949507,
         "3 star ratings": 3158756,
         "2 star ratings": 2122183,
         "1 star ratings": 12495915,
         "paid": "False",
         "_deepnote_index_column": 0
        },
        {
         "rank": 2,
         "title": "PUBG MOBILE - Traverse",
         "total_ratings": 37276732,
         "installs": "500.0 M",
         "average rating": 4,
         "growth_30_days": 1.8,
         "growth_60_days": 3.6,
         "price": 0,
         "category": "GAME ACTION",
         "5 star ratings": 28339753,
         "4 star ratings": 2164478,
         "3 star ratings": 1253185,
         "2 star ratings": 809821,
         "1 star ratings": 4709492,
         "paid": "False",
         "_deepnote_index_column": 1
        },
        {
         "rank": 3,
         "title": "Mobile Legends: Bang Bang",
         "total_ratings": 26663595,
         "installs": "100.0 M",
         "average rating": 4,
         "growth_30_days": 1.5,
         "growth_60_days": 3.2,
         "price": 0,
         "category": "GAME ACTION",
         "5 star ratings": 18777988,
         "4 star ratings": 1812094,
         "3 star ratings": 1050600,
         "2 star ratings": 713912,
         "1 star ratings": 4308998,
         "paid": "False",
         "_deepnote_index_column": 2
        },
        {
         "rank": 4,
         "title": "Brawl Stars",
         "total_ratings": 17971552,
         "installs": "100.0 M",
         "average rating": 4,
         "growth_30_days": 1.4,
         "growth_60_days": 4.4,
         "price": 0,
         "category": "GAME ACTION",
         "5 star ratings": 13018610,
         "4 star ratings": 1552950,
         "3 star ratings": 774012,
         "2 star ratings": 406184,
         "1 star ratings": 2219794,
         "paid": "False",
         "_deepnote_index_column": 3
        },
        {
         "rank": 5,
         "title": "Sniper 3D: Fun Free Online FPS Shooting Game",
         "total_ratings": 14464235,
         "installs": "500.0 M",
         "average rating": 4,
         "growth_30_days": 0.8,
         "growth_60_days": 1.5,
         "price": 0,
         "category": "GAME ACTION",
         "5 star ratings": 9827328,
         "4 star ratings": 2124154,
         "3 star ratings": 1047741,
         "2 star ratings": 380670,
         "1 star ratings": 1084340,
         "paid": "False",
         "_deepnote_index_column": 4
        },
        {
         "rank": 6,
         "title": "Call of Duty®: Mobile - Season 4: Spurned & Burned",
         "total_ratings": 13572148,
         "installs": "100.0 M",
         "average rating": 4,
         "growth_30_days": 2,
         "growth_60_days": 4,
         "price": 0,
         "category": "GAME ACTION",
         "5 star ratings": 10501443,
         "4 star ratings": 1274162,
         "3 star ratings": 517273,
         "2 star ratings": 268489,
         "1 star ratings": 1010778,
         "paid": "False",
         "_deepnote_index_column": 5
        },
        {
         "rank": 7,
         "title": "Among Us",
         "total_ratings": 11936964,
         "installs": "100.0 M",
         "average rating": 3,
         "growth_30_days": 1.8,
         "growth_60_days": 5.6,
         "price": 0,
         "category": "GAME ACTION",
         "5 star ratings": 5954262,
         "4 star ratings": 1041297,
         "3 star ratings": 853099,
         "2 star ratings": 719378,
         "1 star ratings": 3368926,
         "paid": "False",
         "_deepnote_index_column": 6
        },
        {
         "rank": 8,
         "title": "Temple Run 2",
         "total_ratings": 9633929,
         "installs": "500.0 M",
         "average rating": 4,
         "growth_30_days": 0.3,
         "growth_60_days": 0.8,
         "price": 0,
         "category": "GAME ACTION",
         "5 star ratings": 6579369,
         "4 star ratings": 991341,
         "3 star ratings": 614643,
         "2 star ratings": 349003,
         "1 star ratings": 1099571,
         "paid": "False",
         "_deepnote_index_column": 7
        },
        {
         "rank": 9,
         "title": "PUBG MOBILE LITE",
         "total_ratings": 7578630,
         "installs": "100.0 M",
         "average rating": 4,
         "growth_30_days": 1,
         "growth_60_days": 2.5,
         "price": 0,
         "category": "GAME ACTION",
         "5 star ratings": 5382545,
         "4 star ratings": 500696,
         "3 star ratings": 351523,
         "2 star ratings": 238986,
         "1 star ratings": 1104879,
         "paid": "False",
         "_deepnote_index_column": 8
        },
        {
         "rank": 10,
         "title": "Gangstar Vegas: World of Crime",
         "total_ratings": 6268377,
         "installs": "100.0 M",
         "average rating": 4,
         "growth_30_days": 0.4,
         "growth_60_days": 1,
         "price": 0,
         "category": "GAME ACTION",
         "5 star ratings": 4509647,
         "4 star ratings": 605510,
         "3 star ratings": 319332,
         "2 star ratings": 167792,
         "1 star ratings": 666094,
         "paid": "False",
         "_deepnote_index_column": 9
        },
        {
         "rank": 11,
         "title": "Pixel Gun 3D: FPS Shooter & Battle Royale",
         "total_ratings": 5681934,
         "installs": "100.0 M",
         "average rating": 4,
         "growth_30_days": 0.2,
         "growth_60_days": 0.5,
         "price": 0,
         "category": "GAME ACTION",
         "5 star ratings": 3866308,
         "4 star ratings": 527159,
         "3 star ratings": 326294,
         "2 star ratings": 186593,
         "1 star ratings": 775578,
         "paid": "False",
         "_deepnote_index_column": 10
        },
        {
         "rank": 12,
         "title": "Bowmasters",
         "total_ratings": 5471344,
         "installs": "100.0 M",
         "average rating": 4,
         "growth_30_days": 2,
         "growth_60_days": 4.1,
         "price": 0,
         "category": "GAME ACTION",
         "5 star ratings": 4319351,
         "4 star ratings": 514574,
         "3 star ratings": 229990,
         "2 star ratings": 98901,
         "1 star ratings": 308525,
         "paid": "False",
         "_deepnote_index_column": 11
        },
        {
         "rank": 13,
         "title": "Standoff 2",
         "total_ratings": 4801658,
         "installs": "50.0 M",
         "average rating": 4,
         "growth_30_days": 3,
         "growth_60_days": 7.6,
         "price": 0,
         "category": "GAME ACTION",
         "5 star ratings": 3884644,
         "4 star ratings": 365380,
         "3 star ratings": 135150,
         "2 star ratings": 65422,
         "1 star ratings": 351059,
         "paid": "False",
         "_deepnote_index_column": 12
        },
        {
         "rank": 14,
         "title": "Talking Tom Gold Run",
         "total_ratings": 4710639,
         "installs": "100.0 M",
         "average rating": 4,
         "growth_30_days": 1.3,
         "growth_60_days": 4012.8,
         "price": 0,
         "category": "GAME ACTION",
         "5 star ratings": 3581634,
         "4 star ratings": 397794,
         "3 star ratings": 200800,
         "2 star ratings": 116460,
         "1 star ratings": 413948,
         "paid": "False",
         "_deepnote_index_column": 13
        },
        {
         "rank": 15,
         "title": "Garena Liên Quân Mobile",
         "total_ratings": 4564398,
         "installs": "50.0 M",
         "average rating": 4,
         "growth_30_days": 1,
         "growth_60_days": 2.7,
         "price": 0,
         "category": "GAME ACTION",
         "5 star ratings": 3142312,
         "4 star ratings": 386513,
         "3 star ratings": 204843,
         "2 star ratings": 111645,
         "1 star ratings": 719082,
         "paid": "False",
         "_deepnote_index_column": 14
        },
        {
         "rank": 16,
         "title": "Banana Kong",
         "total_ratings": 4496723,
         "installs": "100.0 M",
         "average rating": 4,
         "growth_30_days": 0.5,
         "growth_60_days": 1,
         "price": 0,
         "category": "GAME ACTION",
         "5 star ratings": 3497817,
         "4 star ratings": 518453,
         "3 star ratings": 223009,
         "2 star ratings": 72115,
         "1 star ratings": 185328,
         "paid": "False",
         "_deepnote_index_column": 15
        },
        {
         "rank": 17,
         "title": "Crossy Road",
         "total_ratings": 4464668,
         "installs": "100.0 M",
         "average rating": 4,
         "growth_30_days": 0.1,
         "growth_60_days": 0.2,
         "price": 0,
         "category": "GAME ACTION",
         "5 star ratings": 3379550,
         "4 star ratings": 576816,
         "3 star ratings": 234463,
         "2 star ratings": 68644,
         "1 star ratings": 205194,
         "paid": "False",
         "_deepnote_index_column": 16
        },
        {
         "rank": 18,
         "title": "War Robots. 6v6 Tactical Multiplayer Battles",
         "total_ratings": 4221389,
         "installs": "50.0 M",
         "average rating": 3,
         "growth_30_days": 692.7,
         "growth_60_days": 0.6,
         "price": 0,
         "category": "GAME ACTION",
         "5 star ratings": 2634036,
         "4 star ratings": 450688,
         "3 star ratings": 267931,
         "2 star ratings": 164087,
         "1 star ratings": 704645,
         "paid": "False",
         "_deepnote_index_column": 17
        },
        {
         "rank": 19,
         "title": "MORTAL KOMBAT: The Ultimate Fighting Game!",
         "total_ratings": 4215808,
         "installs": "50.0 M",
         "average rating": 4,
         "growth_30_days": 0.5,
         "growth_60_days": 1.2,
         "price": 0,
         "category": "GAME ACTION",
         "5 star ratings": 2874353,
         "4 star ratings": 457806,
         "3 star ratings": 254154,
         "2 star ratings": 136153,
         "1 star ratings": 493340,
         "paid": "False",
         "_deepnote_index_column": 18
        },
        {
         "rank": 20,
         "title": "Last Day on Earth: Survival",
         "total_ratings": 4159837,
         "installs": "50.0 M",
         "average rating": 4,
         "growth_30_days": 0.7,
         "growth_60_days": 1.6,
         "price": 0,
         "category": "GAME ACTION",
         "5 star ratings": 3073534,
         "4 star ratings": 463932,
         "3 star ratings": 205166,
         "2 star ratings": 103198,
         "1 star ratings": 314004,
         "paid": "False",
         "_deepnote_index_column": 19
        },
        {
         "rank": 21,
         "title": "Agar.io",
         "total_ratings": 4112075,
         "installs": "100.0 M",
         "average rating": 3,
         "growth_30_days": 0.2,
         "growth_60_days": 0.3,
         "price": 0,
         "category": "GAME ACTION",
         "5 star ratings": 2493810,
         "4 star ratings": 428315,
         "3 star ratings": 289428,
         "2 star ratings": 156522,
         "1 star ratings": 743997,
         "paid": "False",
         "_deepnote_index_column": 20
        },
        {
         "rank": 22,
         "title": "DEER HUNTER CLASSIC",
         "total_ratings": 3987062,
         "installs": "100.0 M",
         "average rating": 4,
         "growth_30_days": 0,
         "growth_60_days": 0,
         "price": 0,
         "category": "GAME ACTION",
         "5 star ratings": 2776350,
         "4 star ratings": 614755,
         "3 star ratings": 242698,
         "2 star ratings": 81199,
         "1 star ratings": 272058,
         "paid": "False",
         "_deepnote_index_column": 21
        },
        {
         "rank": 23,
         "title": "Modern Combat 5: eSports FPS",
         "total_ratings": 3516024,
         "installs": "100.0 M",
         "average rating": 4,
         "growth_30_days": 0.5,
         "growth_60_days": 1,
         "price": 0,
         "category": "GAME ACTION",
         "5 star ratings": 2419540,
         "4 star ratings": 421218,
         "3 star ratings": 214049,
         "2 star ratings": 100008,
         "1 star ratings": 361206,
         "paid": "False",
         "_deepnote_index_column": 22
        },
        {
         "rank": 24,
         "title": "Kick the Buddy",
         "total_ratings": 3213257,
         "installs": "100.0 M",
         "average rating": 4,
         "growth_30_days": 1,
         "growth_60_days": 2.3,
         "price": 0,
         "category": "GAME ACTION",
         "5 star ratings": 2174466,
         "4 star ratings": 265019,
         "3 star ratings": 189630,
         "2 star ratings": 118612,
         "1 star ratings": 465528,
         "paid": "False",
         "_deepnote_index_column": 23
        },
        {
         "rank": 25,
         "title": "Special Forces Group 2",
         "total_ratings": 3195503,
         "installs": "100.0 M",
         "average rating": 4,
         "growth_30_days": 1.4,
         "growth_60_days": 7584.9,
         "price": 0,
         "category": "GAME ACTION",
         "5 star ratings": 2486283,
         "4 star ratings": 232254,
         "3 star ratings": 118927,
         "2 star ratings": 70889,
         "1 star ratings": 287147,
         "paid": "False",
         "_deepnote_index_column": 24
        },
        {
         "rank": 26,
         "title": "DEAD TRIGGER 2 - Zombie Game FPS shooter",
         "total_ratings": 3140510,
         "installs": "50.0 M",
         "average rating": 4,
         "growth_30_days": 0.2,
         "growth_60_days": 0.5,
         "price": 0,
         "category": "GAME ACTION",
         "5 star ratings": 2332406,
         "4 star ratings": 409344,
         "3 star ratings": 156460,
         "2 star ratings": 63835,
         "1 star ratings": 178462,
         "paid": "False",
         "_deepnote_index_column": 25
        },
        {
         "rank": 27,
         "title": "Mini Militia - Doodle Army 2",
         "total_ratings": 3133361,
         "installs": "100.0 M",
         "average rating": 4,
         "growth_30_days": 0.9,
         "growth_60_days": 2.1,
         "price": 0,
         "category": "GAME ACTION",
         "5 star ratings": 2107121,
         "4 star ratings": 271167,
         "3 star ratings": 174340,
         "2 star ratings": 107203,
         "1 star ratings": 473528,
         "paid": "False",
         "_deepnote_index_column": 26
        },
        {
         "rank": 28,
         "title": "Call of Duty®: Mobile - Garena",
         "total_ratings": 2695923,
         "installs": "10.0 M",
         "average rating": 4,
         "growth_30_days": 3.2,
         "growth_60_days": 5.5,
         "price": 0,
         "category": "GAME ACTION",
         "5 star ratings": 1922909,
         "4 star ratings": 223625,
         "3 star ratings": 133776,
         "2 star ratings": 79762,
         "1 star ratings": 335849,
         "paid": "False",
         "_deepnote_index_column": 27
        },
        {
         "rank": 29,
         "title": "CATS: Crash Arena Turbo Stars",
         "total_ratings": 2670589,
         "installs": "50.0 M",
         "average rating": 4,
         "growth_30_days": 1082.3,
         "growth_60_days": 1,
         "price": 0,
         "category": "GAME ACTION",
         "5 star ratings": 1944649,
         "4 star ratings": 272948,
         "3 star ratings": 134237,
         "2 star ratings": 69845,
         "1 star ratings": 248907,
         "paid": "False",
         "_deepnote_index_column": 28
        },
        {
         "rank": 30,
         "title": "Injustice: Gods Among Us",
         "total_ratings": 2540439,
         "installs": "10.0 M",
         "average rating": 4,
         "growth_30_days": 0.1,
         "growth_60_days": 0.2,
         "price": 0,
         "category": "GAME ACTION",
         "5 star ratings": 1879504,
         "4 star ratings": 251048,
         "3 star ratings": 115871,
         "2 star ratings": 60732,
         "1 star ratings": 233281,
         "paid": "False",
         "_deepnote_index_column": 29
        },
        {
         "rank": 31,
         "title": "Swamp Attack",
         "total_ratings": 2472561,
         "installs": "100.0 M",
         "average rating": 4,
         "growth_30_days": 0.3,
         "growth_60_days": 0.7,
         "price": 0,
         "category": "GAME ACTION",
         "5 star ratings": 1841035,
         "4 star ratings": 284687,
         "3 star ratings": 138333,
         "2 star ratings": 56785,
         "1 star ratings": 151718,
         "paid": "False",
         "_deepnote_index_column": 30
        },
        {
         "rank": 32,
         "title": "GUNSHIP BATTLE: Helicopter 3D",
         "total_ratings": 2380639,
         "installs": "50.0 M",
         "average rating": 4,
         "growth_30_days": 0.2,
         "growth_60_days": 0.3,
         "price": 0,
         "category": "GAME ACTION",
         "5 star ratings": 1582549,
         "4 star ratings": 267812,
         "3 star ratings": 149090,
         "2 star ratings": 73581,
         "1 star ratings": 307605,
         "paid": "False",
         "_deepnote_index_column": 31
        },
        {
         "rank": 33,
         "title": "Real Steel World Robot Boxing",
         "total_ratings": 2365838,
         "installs": "50.0 M",
         "average rating": 4,
         "growth_30_days": 0.1,
         "growth_60_days": 0.2,
         "price": 0,
         "category": "GAME ACTION",
         "5 star ratings": 1849560,
         "4 star ratings": 211891,
         "3 star ratings": 101452,
         "2 star ratings": 42652,
         "1 star ratings": 160281,
         "paid": "False",
         "_deepnote_index_column": 32
        }
       ],
       "rows_bottom": [
        {
         "rank": 70,
         "title": "Crossword Jam",
         "total_ratings": 161543,
         "installs": "5.0 M",
         "average rating": 4,
         "growth_30_days": 0,
         "growth_60_days": 0.1,
         "price": 0,
         "category": "GAME WORD",
         "5 star ratings": 131821,
         "4 star ratings": 16783,
         "3 star ratings": 6607,
         "2 star ratings": 2394,
         "1 star ratings": 3934,
         "paid": "False",
         "_deepnote_index_column": 1697
        },
        {
         "rank": 71,
         "title": "Word Search",
         "total_ratings": 161284,
         "installs": "10.0 M",
         "average rating": 4,
         "growth_30_days": 1,
         "growth_60_days": 2.2,
         "price": 0,
         "category": "GAME WORD",
         "5 star ratings": 106127,
         "4 star ratings": 23103,
         "3 star ratings": 11207,
         "2 star ratings": 5583,
         "1 star ratings": 15262,
         "paid": "False",
         "_deepnote_index_column": 1698
        },
        {
         "rank": 71,
         "title": "Word Search",
         "total_ratings": 161284,
         "installs": "10.0 M",
         "average rating": 4,
         "growth_30_days": 1,
         "growth_60_days": 2.2,
         "price": 0,
         "category": "GAME WORD",
         "5 star ratings": 120322,
         "4 star ratings": 18644,
         "3 star ratings": 5765,
         "2 star ratings": 1708,
         "1 star ratings": 3417,
         "paid": "False",
         "_deepnote_index_column": 1699
        },
        {
         "rank": 72,
         "title": "2 Pictures 1 Word",
         "total_ratings": 160717,
         "installs": "5.0 M",
         "average rating": 4,
         "growth_30_days": 0.1,
         "growth_60_days": 0.2,
         "price": 0,
         "category": "GAME WORD",
         "5 star ratings": 130759,
         "4 star ratings": 11569,
         "3 star ratings": 5899,
         "2 star ratings": 3304,
         "1 star ratings": 9183,
         "paid": "False",
         "_deepnote_index_column": 1700
        },
        {
         "rank": 73,
         "title": "Word Crack Mix 2",
         "total_ratings": 159344,
         "installs": "5.0 M",
         "average rating": 4,
         "growth_30_days": 0,
         "growth_60_days": 0,
         "price": 0,
         "category": "GAME WORD",
         "5 star ratings": 81269,
         "4 star ratings": 41668,
         "3 star ratings": 14268,
         "2 star ratings": 5012,
         "1 star ratings": 17124,
         "paid": "False",
         "_deepnote_index_column": 1701
        },
        {
         "rank": 74,
         "title": "Word Domination",
         "total_ratings": 157519,
         "installs": "5.0 M",
         "average rating": 4,
         "growth_30_days": 0.9,
         "growth_60_days": 1.4,
         "price": 0,
         "category": "GAME WORD",
         "5 star ratings": 95422,
         "4 star ratings": 29899,
         "3 star ratings": 11554,
         "2 star ratings": 6611,
         "1 star ratings": 14031,
         "paid": "False",
         "_deepnote_index_column": 1702
        },
        {
         "rank": 75,
         "title": "Word Crush",
         "total_ratings": 157049,
         "installs": "1.0 M",
         "average rating": 4,
         "growth_30_days": 3.6,
         "growth_60_days": 8.3,
         "price": 0,
         "category": "GAME WORD",
         "5 star ratings": 115329,
         "4 star ratings": 28558,
         "3 star ratings": 7955,
         "2 star ratings": 1715,
         "1 star ratings": 3489,
         "paid": "False",
         "_deepnote_index_column": 1703
        },
        {
         "rank": 76,
         "title": "اشبكها - لعبة تسلية وتفكير",
         "total_ratings": 153454,
         "installs": "1.0 M",
         "average rating": 4,
         "growth_30_days": 0.6,
         "growth_60_days": 1.3,
         "price": 0,
         "category": "GAME WORD",
         "5 star ratings": 129103,
         "4 star ratings": 9202,
         "3 star ratings": 6664,
         "2 star ratings": 2607,
         "1 star ratings": 5875,
         "paid": "False",
         "_deepnote_index_column": 1704
        },
        {
         "rank": 77,
         "title": "Szó Piknik - Word Snack",
         "total_ratings": 153087,
         "installs": "5.0 M",
         "average rating": 4,
         "growth_30_days": 0.2,
         "growth_60_days": 0.5,
         "price": 0,
         "category": "GAME WORD",
         "5 star ratings": 120977,
         "4 star ratings": 15730,
         "3 star ratings": 6931,
         "2 star ratings": 2476,
         "1 star ratings": 6971,
         "paid": "False",
         "_deepnote_index_column": 1705
        },
        {
         "rank": 78,
         "title": "كلمات متقاطعة من زيتونة - رشفة وصلة",
         "total_ratings": 151046,
         "installs": "1.0 M",
         "average rating": 4,
         "growth_30_days": 0.1,
         "growth_60_days": 0.2,
         "price": 0,
         "category": "GAME WORD",
         "5 star ratings": 124092,
         "4 star ratings": 10387,
         "3 star ratings": 7555,
         "2 star ratings": 2178,
         "1 star ratings": 6832,
         "paid": "False",
         "_deepnote_index_column": 1706
        },
        {
         "rank": 79,
         "title": "Word Surf - Word Game",
         "total_ratings": 150279,
         "installs": "5.0 M",
         "average rating": 4,
         "growth_30_days": 3.3,
         "growth_60_days": 5.9,
         "price": 0,
         "category": "GAME WORD",
         "5 star ratings": 121012,
         "4 star ratings": 19182,
         "3 star ratings": 3828,
         "2 star ratings": 1578,
         "1 star ratings": 4677,
         "paid": "False",
         "_deepnote_index_column": 1707
        },
        {
         "rank": 80,
         "title": "Word Search",
         "total_ratings": 149858,
         "installs": "10.0 M",
         "average rating": 4,
         "growth_30_days": 0,
         "growth_60_days": 0.1,
         "price": 0,
         "category": "GAME WORD",
         "5 star ratings": 106127,
         "4 star ratings": 23103,
         "3 star ratings": 11207,
         "2 star ratings": 5583,
         "1 star ratings": 15262,
         "paid": "False",
         "_deepnote_index_column": 1708
        },
        {
         "rank": 80,
         "title": "Word Search",
         "total_ratings": 149858,
         "installs": "10.0 M",
         "average rating": 4,
         "growth_30_days": 0,
         "growth_60_days": 0.1,
         "price": 0,
         "category": "GAME WORD",
         "5 star ratings": 120322,
         "4 star ratings": 18644,
         "3 star ratings": 5765,
         "2 star ratings": 1708,
         "1 star ratings": 3417,
         "paid": "False",
         "_deepnote_index_column": 1709
        },
        {
         "rank": 81,
         "title": "WordWhizzle Search",
         "total_ratings": 149553,
         "installs": "1.0 M",
         "average rating": 4,
         "growth_30_days": 0,
         "growth_60_days": 0.1,
         "price": 0,
         "category": "GAME WORD",
         "5 star ratings": 108634,
         "4 star ratings": 29499,
         "3 star ratings": 8257,
         "2 star ratings": 1406,
         "1 star ratings": 1755,
         "paid": "False",
         "_deepnote_index_column": 1710
        },
        {
         "rank": 82,
         "title": "Evil Apples: You Against Humanity!",
         "total_ratings": 149422,
         "installs": "5.0 M",
         "average rating": 4,
         "growth_30_days": 0.2,
         "growth_60_days": 0.5,
         "price": 0,
         "category": "GAME WORD",
         "5 star ratings": 88307,
         "4 star ratings": 24693,
         "3 star ratings": 12946,
         "2 star ratings": 6798,
         "1 star ratings": 16675,
         "paid": "False",
         "_deepnote_index_column": 1711
        },
        {
         "rank": 83,
         "title": "Word Chums",
         "total_ratings": 146848,
         "installs": "1.0 M",
         "average rating": 4,
         "growth_30_days": 0.2,
         "growth_60_days": 0.3,
         "price": 0,
         "category": "GAME WORD",
         "5 star ratings": 115040,
         "4 star ratings": 22564,
         "3 star ratings": 3627,
         "2 star ratings": 1508,
         "1 star ratings": 4107,
         "paid": "False",
         "_deepnote_index_column": 1712
        },
        {
         "rank": 84,
         "title": "Word Trek - Word Brain streak - hand made puzzles",
         "total_ratings": 143930,
         "installs": "5.0 M",
         "average rating": 4,
         "growth_30_days": 0,
         "growth_60_days": 0,
         "price": 0,
         "category": "GAME WORD",
         "5 star ratings": 94662,
         "4 star ratings": 31667,
         "3 star ratings": 11131,
         "2 star ratings": 2545,
         "1 star ratings": 3923,
         "paid": "False",
         "_deepnote_index_column": 1713
        },
        {
         "rank": 85,
         "title": "Teka Teki Silang",
         "total_ratings": 136542,
         "installs": "5.0 M",
         "average rating": 4,
         "growth_30_days": 0,
         "growth_60_days": 0,
         "price": 0,
         "category": "GAME WORD",
         "5 star ratings": 82242,
         "4 star ratings": 30159,
         "3 star ratings": 18219,
         "2 star ratings": 2815,
         "1 star ratings": 3104,
         "paid": "False",
         "_deepnote_index_column": 1714
        },
        {
         "rank": 86,
         "title": "7 Little Words: A fun twist on crossword puzzles",
         "total_ratings": 130077,
         "installs": "1.0 M",
         "average rating": 4,
         "growth_30_days": 0.1,
         "growth_60_days": 0.1,
         "price": 0,
         "category": "GAME WORD",
         "5 star ratings": 107379,
         "4 star ratings": 11378,
         "3 star ratings": 3489,
         "2 star ratings": 2769,
         "1 star ratings": 5059,
         "paid": "False",
         "_deepnote_index_column": 1715
        },
        {
         "rank": 87,
         "title": "Charades!",
         "total_ratings": 129132,
         "installs": "10.0 M",
         "average rating": 4,
         "growth_30_days": 0.1,
         "growth_60_days": 0.2,
         "price": 0,
         "category": "GAME WORD",
         "5 star ratings": 87481,
         "4 star ratings": 19612,
         "3 star ratings": 7874,
         "2 star ratings": 3114,
         "1 star ratings": 11048,
         "paid": "False",
         "_deepnote_index_column": 1716
        },
        {
         "rank": 88,
         "title": "Escape Room: Mystery Word",
         "total_ratings": 127293,
         "installs": "10.0 M",
         "average rating": 4,
         "growth_30_days": 0,
         "growth_60_days": 0,
         "price": 0,
         "category": "GAME WORD",
         "5 star ratings": 88424,
         "4 star ratings": 9776,
         "3 star ratings": 7448,
         "2 star ratings": 5279,
         "1 star ratings": 16363,
         "paid": "False",
         "_deepnote_index_column": 1717
        },
        {
         "rank": 89,
         "title": "Word Swipe",
         "total_ratings": 127030,
         "installs": "10.0 M",
         "average rating": 4,
         "growth_30_days": 0.3,
         "growth_60_days": 0.8,
         "price": 0,
         "category": "GAME WORD",
         "5 star ratings": 107638,
         "4 star ratings": 9411,
         "3 star ratings": 3632,
         "2 star ratings": 1626,
         "1 star ratings": 4720,
         "paid": "False",
         "_deepnote_index_column": 1718
        },
        {
         "rank": 90,
         "title": "Wordalot - Picture Crossword",
         "total_ratings": 126774,
         "installs": "5.0 M",
         "average rating": 4,
         "growth_30_days": 0,
         "growth_60_days": 0.1,
         "price": 0,
         "category": "GAME WORD",
         "5 star ratings": 91833,
         "4 star ratings": 23213,
         "3 star ratings": 6258,
         "2 star ratings": 1839,
         "1 star ratings": 3628,
         "paid": "False",
         "_deepnote_index_column": 1719
        },
        {
         "rank": 91,
         "title": "Zgadnij co to?",
         "total_ratings": 124219,
         "installs": "1.0 M",
         "average rating": 4,
         "growth_30_days": 0,
         "growth_60_days": 0,
         "price": 0,
         "category": "GAME WORD",
         "5 star ratings": 94486,
         "4 star ratings": 19855,
         "3 star ratings": 5828,
         "2 star ratings": 1249,
         "1 star ratings": 2799,
         "paid": "False",
         "_deepnote_index_column": 1720
        },
        {
         "rank": 92,
         "title": "Piknik Słowo - Word Snack",
         "total_ratings": 123095,
         "installs": "1.0 M",
         "average rating": 4,
         "growth_30_days": 0.1,
         "growth_60_days": 0.2,
         "price": 0,
         "category": "GAME WORD",
         "5 star ratings": 97069,
         "4 star ratings": 17257,
         "3 star ratings": 5147,
         "2 star ratings": 1266,
         "1 star ratings": 2354,
         "paid": "False",
         "_deepnote_index_column": 1721
        },
        {
         "rank": 93,
         "title": "Word Life - Connect crosswords puzzle",
         "total_ratings": 121222,
         "installs": "10.0 M",
         "average rating": 4,
         "growth_30_days": 4.6,
         "growth_60_days": 10.4,
         "price": 0,
         "category": "GAME WORD",
         "5 star ratings": 74343,
         "4 star ratings": 25022,
         "3 star ratings": 11196,
         "2 star ratings": 3811,
         "1 star ratings": 6848,
         "paid": "False",
         "_deepnote_index_column": 1722
        },
        {
         "rank": 94,
         "title": "Wordox – Free multiplayer word game",
         "total_ratings": 120533,
         "installs": "1.0 M",
         "average rating": 4,
         "growth_30_days": 0,
         "growth_60_days": 0,
         "price": 0,
         "category": "GAME WORD",
         "5 star ratings": 74096,
         "4 star ratings": 21404,
         "3 star ratings": 10592,
         "2 star ratings": 4736,
         "1 star ratings": 9702,
         "paid": "False",
         "_deepnote_index_column": 1723
        },
        {
         "rank": 95,
         "title": "4 Fotos 1 Palavra",
         "total_ratings": 115437,
         "installs": "5.0 M",
         "average rating": 4,
         "growth_30_days": 0.2,
         "growth_60_days": 0.5,
         "price": 0,
         "category": "GAME WORD",
         "5 star ratings": 85169,
         "4 star ratings": 16622,
         "3 star ratings": 6802,
         "2 star ratings": 1848,
         "1 star ratings": 4994,
         "paid": "False",
         "_deepnote_index_column": 1724
        },
        {
         "rank": 96,
         "title": "زوايا - لعبة ستحرك زوايا عقلك",
         "total_ratings": 112408,
         "installs": "1.0 M",
         "average rating": 4,
         "growth_30_days": 0.9,
         "growth_60_days": 1.8,
         "price": 0,
         "category": "GAME WORD",
         "5 star ratings": 101036,
         "4 star ratings": 3607,
         "3 star ratings": 3237,
         "2 star ratings": 1229,
         "1 star ratings": 3297,
         "paid": "False",
         "_deepnote_index_column": 1725
        },
        {
         "rank": 97,
         "title": "Bible Word Puzzle - Free Bible Word Games",
         "total_ratings": 111595,
         "installs": "1.0 M",
         "average rating": 4,
         "growth_30_days": 0.9,
         "growth_60_days": 2.3,
         "price": 0,
         "category": "GAME WORD",
         "5 star ratings": 88950,
         "4 star ratings": 14856,
         "3 star ratings": 4297,
         "2 star ratings": 1385,
         "1 star ratings": 2103,
         "paid": "False",
         "_deepnote_index_column": 1726
        },
        {
         "rank": 98,
         "title": "Scrabble® GO - New Word Game",
         "total_ratings": 110723,
         "installs": "10.0 M",
         "average rating": 4,
         "growth_30_days": 0.9,
         "growth_60_days": 1.9,
         "price": 0,
         "category": "GAME WORD",
         "5 star ratings": 64184,
         "4 star ratings": 18332,
         "3 star ratings": 9385,
         "2 star ratings": 6688,
         "1 star ratings": 12132,
         "paid": "False",
         "_deepnote_index_column": 1727
        },
        {
         "rank": 99,
         "title": "Word Nut: Word Puzzle Games & Crosswords",
         "total_ratings": 109530,
         "installs": "5.0 M",
         "average rating": 4,
         "growth_30_days": 1.9,
         "growth_60_days": 4.1,
         "price": 0,
         "category": "GAME WORD",
         "5 star ratings": 99987,
         "4 star ratings": 4766,
         "3 star ratings": 1469,
         "2 star ratings": 953,
         "1 star ratings": 2353,
         "paid": "False",
         "_deepnote_index_column": 1728
        },
        {
         "rank": 100,
         "title": "Pinturillo 2",
         "total_ratings": 108917,
         "installs": "10.0 M",
         "average rating": 3,
         "growth_30_days": 1.1,
         "growth_60_days": 2.5,
         "price": 0,
         "category": "GAME WORD",
         "5 star ratings": 50813,
         "4 star ratings": 16480,
         "3 star ratings": 11825,
         "2 star ratings": 6166,
         "1 star ratings": 23631,
         "paid": "False",
         "_deepnote_index_column": 1729
        }
       ]
      },
      "text/plain": "      rank                                         title  total_ratings  \\\n0        1                Garena Free Fire- World Series       86273129   \n1        2                        PUBG MOBILE - Traverse       37276732   \n2        3                     Mobile Legends: Bang Bang       26663595   \n3        4                                   Brawl Stars       17971552   \n4        5  Sniper 3D: Fun Free Online FPS Shooting Game       14464235   \n...    ...                                           ...            ...   \n1725    96                 زوايا - لعبة ستحرك زوايا عقلك         112408   \n1726    97     Bible Word Puzzle - Free Bible Word Games         111595   \n1727    98                  Scrabble® GO - New Word Game         110723   \n1728    99      Word Nut: Word Puzzle Games & Crosswords         109530   \n1729   100                                  Pinturillo 2         108917   \n\n     installs  average rating  growth_30_days  growth_60_days  price  \\\n0     500.0 M               4             2.1             6.9    0.0   \n1     500.0 M               4             1.8             3.6    0.0   \n2     100.0 M               4             1.5             3.2    0.0   \n3     100.0 M               4             1.4             4.4    0.0   \n4     500.0 M               4             0.8             1.5    0.0   \n...       ...             ...             ...             ...    ...   \n1725    1.0 M               4             0.9             1.8    0.0   \n1726    1.0 M               4             0.9             2.3    0.0   \n1727   10.0 M               4             0.9             1.9    0.0   \n1728    5.0 M               4             1.9             4.1    0.0   \n1729   10.0 M               3             1.1             2.5    0.0   \n\n         category  5 star ratings  4 star ratings  3 star ratings  \\\n0     GAME ACTION        63546766         4949507         3158756   \n1     GAME ACTION        28339753         2164478         1253185   \n2     GAME ACTION        18777988         1812094         1050600   \n3     GAME ACTION        13018610         1552950          774012   \n4     GAME ACTION         9827328         2124154         1047741   \n...           ...             ...             ...             ...   \n1725    GAME WORD          101036            3607            3237   \n1726    GAME WORD           88950           14856            4297   \n1727    GAME WORD           64184           18332            9385   \n1728    GAME WORD           99987            4766            1469   \n1729    GAME WORD           50813           16480           11825   \n\n      2 star ratings  1 star ratings   paid  \n0            2122183        12495915  False  \n1             809821         4709492  False  \n2             713912         4308998  False  \n3             406184         2219794  False  \n4             380670         1084340  False  \n...              ...             ...    ...  \n1725            1229            3297  False  \n1726            1385            2103  False  \n1727            6688           12132  False  \n1728             953            2353  False  \n1729            6166           23631  False  \n\n[1730 rows x 15 columns]",
      "text/html": "<div>\n<style scoped>\n    .dataframe tbody tr th:only-of-type {\n        vertical-align: middle;\n    }\n\n    .dataframe tbody tr th {\n        vertical-align: top;\n    }\n\n    .dataframe thead th {\n        text-align: right;\n    }\n</style>\n<table border=\"1\" class=\"dataframe\">\n  <thead>\n    <tr style=\"text-align: right;\">\n      <th></th>\n      <th>rank</th>\n      <th>title</th>\n      <th>total_ratings</th>\n      <th>installs</th>\n      <th>average rating</th>\n      <th>growth_30_days</th>\n      <th>growth_60_days</th>\n      <th>price</th>\n      <th>category</th>\n      <th>5 star ratings</th>\n      <th>4 star ratings</th>\n      <th>3 star ratings</th>\n      <th>2 star ratings</th>\n      <th>1 star ratings</th>\n      <th>paid</th>\n    </tr>\n  </thead>\n  <tbody>\n    <tr>\n      <th>0</th>\n      <td>1</td>\n      <td>Garena Free Fire- World Series</td>\n      <td>86273129</td>\n      <td>500.0 M</td>\n      <td>4</td>\n      <td>2.1</td>\n      <td>6.9</td>\n      <td>0.0</td>\n      <td>GAME ACTION</td>\n      <td>63546766</td>\n      <td>4949507</td>\n      <td>3158756</td>\n      <td>2122183</td>\n      <td>12495915</td>\n      <td>False</td>\n    </tr>\n    <tr>\n      <th>1</th>\n      <td>2</td>\n      <td>PUBG MOBILE - Traverse</td>\n      <td>37276732</td>\n      <td>500.0 M</td>\n      <td>4</td>\n      <td>1.8</td>\n      <td>3.6</td>\n      <td>0.0</td>\n      <td>GAME ACTION</td>\n      <td>28339753</td>\n      <td>2164478</td>\n      <td>1253185</td>\n      <td>809821</td>\n      <td>4709492</td>\n      <td>False</td>\n    </tr>\n    <tr>\n      <th>2</th>\n      <td>3</td>\n      <td>Mobile Legends: Bang Bang</td>\n      <td>26663595</td>\n      <td>100.0 M</td>\n      <td>4</td>\n      <td>1.5</td>\n      <td>3.2</td>\n      <td>0.0</td>\n      <td>GAME ACTION</td>\n      <td>18777988</td>\n      <td>1812094</td>\n      <td>1050600</td>\n      <td>713912</td>\n      <td>4308998</td>\n      <td>False</td>\n    </tr>\n    <tr>\n      <th>3</th>\n      <td>4</td>\n      <td>Brawl Stars</td>\n      <td>17971552</td>\n      <td>100.0 M</td>\n      <td>4</td>\n      <td>1.4</td>\n      <td>4.4</td>\n      <td>0.0</td>\n      <td>GAME ACTION</td>\n      <td>13018610</td>\n      <td>1552950</td>\n      <td>774012</td>\n      <td>406184</td>\n      <td>2219794</td>\n      <td>False</td>\n    </tr>\n    <tr>\n      <th>4</th>\n      <td>5</td>\n      <td>Sniper 3D: Fun Free Online FPS Shooting Game</td>\n      <td>14464235</td>\n      <td>500.0 M</td>\n      <td>4</td>\n      <td>0.8</td>\n      <td>1.5</td>\n      <td>0.0</td>\n      <td>GAME ACTION</td>\n      <td>9827328</td>\n      <td>2124154</td>\n      <td>1047741</td>\n      <td>380670</td>\n      <td>1084340</td>\n      <td>False</td>\n    </tr>\n    <tr>\n      <th>...</th>\n      <td>...</td>\n      <td>...</td>\n      <td>...</td>\n      <td>...</td>\n      <td>...</td>\n      <td>...</td>\n      <td>...</td>\n      <td>...</td>\n      <td>...</td>\n      <td>...</td>\n      <td>...</td>\n      <td>...</td>\n      <td>...</td>\n      <td>...</td>\n      <td>...</td>\n    </tr>\n    <tr>\n      <th>1725</th>\n      <td>96</td>\n      <td>زوايا - لعبة ستحرك زوايا عقلك</td>\n      <td>112408</td>\n      <td>1.0 M</td>\n      <td>4</td>\n      <td>0.9</td>\n      <td>1.8</td>\n      <td>0.0</td>\n      <td>GAME WORD</td>\n      <td>101036</td>\n      <td>3607</td>\n      <td>3237</td>\n      <td>1229</td>\n      <td>3297</td>\n      <td>False</td>\n    </tr>\n    <tr>\n      <th>1726</th>\n      <td>97</td>\n      <td>Bible Word Puzzle - Free Bible Word Games</td>\n      <td>111595</td>\n      <td>1.0 M</td>\n      <td>4</td>\n      <td>0.9</td>\n      <td>2.3</td>\n      <td>0.0</td>\n      <td>GAME WORD</td>\n      <td>88950</td>\n      <td>14856</td>\n      <td>4297</td>\n      <td>1385</td>\n      <td>2103</td>\n      <td>False</td>\n    </tr>\n    <tr>\n      <th>1727</th>\n      <td>98</td>\n      <td>Scrabble® GO - New Word Game</td>\n      <td>110723</td>\n      <td>10.0 M</td>\n      <td>4</td>\n      <td>0.9</td>\n      <td>1.9</td>\n      <td>0.0</td>\n      <td>GAME WORD</td>\n      <td>64184</td>\n      <td>18332</td>\n      <td>9385</td>\n      <td>6688</td>\n      <td>12132</td>\n      <td>False</td>\n    </tr>\n    <tr>\n      <th>1728</th>\n      <td>99</td>\n      <td>Word Nut: Word Puzzle Games &amp; Crosswords</td>\n      <td>109530</td>\n      <td>5.0 M</td>\n      <td>4</td>\n      <td>1.9</td>\n      <td>4.1</td>\n      <td>0.0</td>\n      <td>GAME WORD</td>\n      <td>99987</td>\n      <td>4766</td>\n      <td>1469</td>\n      <td>953</td>\n      <td>2353</td>\n      <td>False</td>\n    </tr>\n    <tr>\n      <th>1729</th>\n      <td>100</td>\n      <td>Pinturillo 2</td>\n      <td>108917</td>\n      <td>10.0 M</td>\n      <td>3</td>\n      <td>1.1</td>\n      <td>2.5</td>\n      <td>0.0</td>\n      <td>GAME WORD</td>\n      <td>50813</td>\n      <td>16480</td>\n      <td>11825</td>\n      <td>6166</td>\n      <td>23631</td>\n      <td>False</td>\n    </tr>\n  </tbody>\n</table>\n<p>1730 rows × 15 columns</p>\n</div>"
     },
     "metadata": {}
    }
   ]
  },
  {
   "cell_type": "markdown",
   "source": "## Observando los datos",
   "metadata": {
    "tags": [],
    "cell_id": "00003-46a9d704-957f-4123-8d04-e2e59fe784f0",
    "deepnote_cell_type": "markdown"
   }
  },
  {
   "cell_type": "markdown",
   "source": "### Campos nulots",
   "metadata": {
    "tags": [],
    "cell_id": "00004-95e7d907-06bf-4016-8e9e-81486440e72f",
    "deepnote_cell_type": "markdown"
   }
  },
  {
   "cell_type": "code",
   "source": "df.isnull().sum()",
   "metadata": {
    "tags": [],
    "cell_id": "00003-5e1bf229-8415-49b5-b312-a9bb0f4a6c4c",
    "deepnote_to_be_reexecuted": false,
    "source_hash": "f3dd26da",
    "execution_start": 1626919059970,
    "execution_millis": 4,
    "deepnote_cell_type": "code"
   },
   "outputs": [
    {
     "output_type": "execute_result",
     "execution_count": 34,
     "data": {
      "text/plain": "rank                   0\ntitle                  0\ntotal_ratings          0\ninstalls_in_million    0\naverage rating         0\ngrowth_30_days         0\ngrowth_60_days         0\ncategory               0\n5 star ratings         0\n4 star ratings         0\n3 star ratings         0\n2 star ratings         0\n1 star ratings         0\npaid                   0\ndtype: int64"
     },
     "metadata": {}
    }
   ],
   "execution_count": 34
  },
  {
   "cell_type": "code",
   "metadata": {
    "tags": [],
    "cell_id": "00002-ccc0364e-7d46-42a6-b3e1-f4bc1f6617dc",
    "deepnote_to_be_reexecuted": false,
    "source_hash": "de1e323c",
    "execution_start": 1626919033534,
    "execution_millis": 11,
    "deepnote_cell_type": "code"
   },
   "source": "df.info()",
   "execution_count": 3,
   "outputs": [
    {
     "name": "stdout",
     "text": "<class 'pandas.core.frame.DataFrame'>\nRangeIndex: 1730 entries, 0 to 1729\nData columns (total 15 columns):\n #   Column          Non-Null Count  Dtype  \n---  ------          --------------  -----  \n 0   rank            1730 non-null   int64  \n 1   title           1730 non-null   object \n 2   total_ratings   1730 non-null   int64  \n 3   installs        1730 non-null   object \n 4   average rating  1730 non-null   int64  \n 5   growth_30_days  1730 non-null   float64\n 6   growth_60_days  1730 non-null   float64\n 7   price           1730 non-null   float64\n 8   category        1730 non-null   object \n 9   5 star ratings  1730 non-null   int64  \n 10  4 star ratings  1730 non-null   int64  \n 11  3 star ratings  1730 non-null   int64  \n 12  2 star ratings  1730 non-null   int64  \n 13  1 star ratings  1730 non-null   int64  \n 14  paid            1730 non-null   bool   \ndtypes: bool(1), float64(3), int64(8), object(3)\nmemory usage: 191.0+ KB\n",
     "output_type": "stream"
    }
   ]
  },
  {
   "cell_type": "markdown",
   "source": "### Transformando los tipos de datos",
   "metadata": {
    "tags": [],
    "cell_id": "00007-4005ff61-173f-4e27-a722-04375560ffc1",
    "deepnote_cell_type": "markdown"
   }
  },
  {
   "cell_type": "markdown",
   "source": "Transformamos la cantidad de instalacion de `40 M` a `4000000` millones y el **tipo** Objeto a **Float**",
   "metadata": {
    "tags": [],
    "cell_id": "00007-6a7d7fd1-b802-4d69-b5d5-7ba0088279b5",
    "deepnote_cell_type": "markdown"
   }
  },
  {
   "cell_type": "code",
   "metadata": {
    "tags": [],
    "cell_id": "00007-71d92b3d-cc9b-4e79-ab1c-bd8450646f71",
    "deepnote_to_be_reexecuted": false,
    "source_hash": "17aea25e",
    "execution_start": 1626919033585,
    "execution_millis": 7,
    "deepnote_cell_type": "code"
   },
   "source": "df['installs'] = df.installs.apply(lambda x: float(x.split(\" \")[0]) * 1000000 if 'M' in x else float(x.split(' ')[0]) * 1000000).astype('float')\ndf = df.rename(columns={'installs':'installs_in_million'})\ndf['installs_in_million'].value_counts()\n",
   "execution_count": 4,
   "outputs": [
    {
     "output_type": "execute_result",
     "execution_count": 4,
     "data": {
      "text/plain": "1.000000e+07    805\n5.000000e+07    252\n5.000000e+06    245\n1.000000e+08    207\n1.000000e+06    192\n5.000000e+08     27\n1.000000e+09      2\nName: installs_in_million, dtype: int64"
     },
     "metadata": {}
    }
   ]
  },
  {
   "cell_type": "markdown",
   "source": "Veamos las columnas de precio y pago. Decidamos si es necesario continuar con ambas o eliminar una de ellas. ",
   "metadata": {
    "tags": [],
    "cell_id": "00005-87ba0f5c-a21c-4ed7-b972-2fa7a1eadf7f",
    "deepnote_cell_type": "markdown"
   }
  },
  {
   "cell_type": "code",
   "metadata": {
    "tags": [],
    "cell_id": "00005-862d8021-3668-4560-bfb3-7209dfa56e51",
    "deepnote_to_be_reexecuted": false,
    "source_hash": "8b2a165",
    "execution_start": 1626919033586,
    "execution_millis": 6,
    "deepnote_cell_type": "code"
   },
   "source": "df['price'].value_counts()",
   "execution_count": 5,
   "outputs": [
    {
     "output_type": "execute_result",
     "execution_count": 5,
     "data": {
      "text/plain": "0.00    1723\n1.99       3\n1.49       1\n0.99       1\n2.99       1\n7.49       1\nName: price, dtype: int64"
     },
     "metadata": {}
    }
   ]
  },
  {
   "cell_type": "code",
   "metadata": {
    "tags": [],
    "cell_id": "00006-d30bf98e-9805-4b11-98e8-c53b3a621f37",
    "deepnote_to_be_reexecuted": false,
    "source_hash": "b029b8c4",
    "execution_start": 1626919033587,
    "execution_millis": 5,
    "deepnote_cell_type": "code"
   },
   "source": "df['paid'].value_counts()",
   "execution_count": 6,
   "outputs": [
    {
     "output_type": "execute_result",
     "execution_count": 6,
     "data": {
      "text/plain": "False    1723\nTrue        7\nName: paid, dtype: int64"
     },
     "metadata": {}
    }
   ]
  },
  {
   "cell_type": "markdown",
   "source": "- De acuerdo, casi el 99% de los juegos son gratuitos y no hay mucho tamaño de muestra para comparar entre los diferentes rangos de precios.\n- El tamaño de la muestra menor a 30, la mayoría de las veces, no cumple con los requisitos mínimos para la muestra - representatividad de la población.\n- Para este conjunto de datos, la columna 'precio' no tiene mucho que ofrecer para un análisis más detallado.\nAsí que dejemos caer la columna de 'precio'.\n- Dejar caer una columna, eliminar filas son decisiones que deben tomarse con mucha cautela y deben basarse en el análisis y el conocimiento del dominio. ",
   "metadata": {
    "tags": [],
    "cell_id": "00008-54157026-f4d8-403e-9c01-9b3c59f0a9e3",
    "deepnote_cell_type": "markdown"
   }
  },
  {
   "cell_type": "code",
   "metadata": {
    "tags": [],
    "cell_id": "00006-611532a2-5d8e-48f1-abbf-7a2988023b93",
    "deepnote_to_be_reexecuted": false,
    "source_hash": "fae29ac9",
    "execution_start": 1626919033630,
    "execution_millis": 0,
    "deepnote_cell_type": "code"
   },
   "source": "df.drop('price', axis=1, inplace=True)",
   "execution_count": 7,
   "outputs": []
  },
  {
   "cell_type": "code",
   "metadata": {
    "tags": [],
    "cell_id": "00006-237de129-8d47-4344-a0bc-5fec08f3c601",
    "deepnote_to_be_reexecuted": false,
    "source_hash": "de1e323c",
    "execution_start": 1626919033630,
    "execution_millis": 8,
    "deepnote_cell_type": "code"
   },
   "source": "df.info()",
   "execution_count": 8,
   "outputs": [
    {
     "name": "stdout",
     "text": "<class 'pandas.core.frame.DataFrame'>\nRangeIndex: 1730 entries, 0 to 1729\nData columns (total 14 columns):\n #   Column               Non-Null Count  Dtype  \n---  ------               --------------  -----  \n 0   rank                 1730 non-null   int64  \n 1   title                1730 non-null   object \n 2   total_ratings        1730 non-null   int64  \n 3   installs_in_million  1730 non-null   float64\n 4   average rating       1730 non-null   int64  \n 5   growth_30_days       1730 non-null   float64\n 6   growth_60_days       1730 non-null   float64\n 7   category             1730 non-null   object \n 8   5 star ratings       1730 non-null   int64  \n 9   4 star ratings       1730 non-null   int64  \n 10  3 star ratings       1730 non-null   int64  \n 11  2 star ratings       1730 non-null   int64  \n 12  1 star ratings       1730 non-null   int64  \n 13  paid                 1730 non-null   bool   \ndtypes: bool(1), float64(3), int64(8), object(2)\nmemory usage: 177.5+ KB\n",
     "output_type": "stream"
    }
   ]
  },
  {
   "cell_type": "markdown",
   "source": "# Analisis",
   "metadata": {
    "tags": [],
    "cell_id": "00011-aaf7b57c-b0ee-43c4-931c-dc75d03587bb",
    "deepnote_cell_type": "markdown"
   }
  },
  {
   "cell_type": "markdown",
   "source": "## Categorias de juegos\nPodremos observar que casi tenemos el mismo tamaño de categorias entre todos los juegos.",
   "metadata": {
    "tags": [],
    "cell_id": "00012-20fabaa4-8432-4ad6-9882-3dac60a86b6f",
    "deepnote_cell_type": "markdown"
   }
  },
  {
   "cell_type": "code",
   "metadata": {
    "tags": [],
    "cell_id": "00006-59d5df74-0a66-401b-981f-942198a5a5c7",
    "deepnote_to_be_reexecuted": false,
    "source_hash": "2314be7d",
    "execution_start": 1626919033631,
    "execution_millis": 47,
    "deepnote_cell_type": "code"
   },
   "source": "df['category'].value_counts(normalize=True)",
   "execution_count": 9,
   "outputs": [
    {
     "output_type": "execute_result",
     "execution_count": 9,
     "data": {
      "text/plain": "GAME CARD            0.072832\nGAME WORD            0.060116\nGAME EDUCATIONAL     0.057803\nGAME STRATEGY        0.057803\nGAME BOARD           0.057803\nGAME MUSIC           0.057803\nGAME PUZZLE          0.057803\nGAME SIMULATION      0.057803\nGAME ACTION          0.057803\nGAME TRIVIA          0.057803\nGAME ROLE PLAYING    0.057803\nGAME CASUAL          0.057803\nGAME ARCADE          0.057803\nGAME SPORTS          0.057803\nGAME ADVENTURE       0.057803\nGAME RACING          0.057803\nGAME CASINO          0.057803\nName: category, dtype: float64"
     },
     "metadata": {}
    }
   ]
  },
  {
   "cell_type": "code",
   "metadata": {
    "tags": [],
    "cell_id": "00006-ced10e18-895a-4f4e-af26-353d368a2c33",
    "deepnote_to_be_reexecuted": false,
    "source_hash": "551234eb",
    "execution_start": 1626919033674,
    "execution_millis": 1758,
    "deepnote_cell_type": "code"
   },
   "source": "fig = px.histogram(df,\n    x='category',\n    title='Categorias de Juegos')\nfig.update_layout(xaxis={'categoryorder':'total descending'})\nfig.show()",
   "execution_count": 10,
   "outputs": [
    {
     "data": {
      "text/html": "<html>\n<head><meta charset=\"utf-8\" /></head>\n<body>\n    <div>            <script src=\"https://cdnjs.cloudflare.com/ajax/libs/mathjax/2.7.5/MathJax.js?config=TeX-AMS-MML_SVG\"></script><script type=\"text/javascript\">if (window.MathJax) {MathJax.Hub.Config({SVG: {font: \"STIX-Web\"}});}</script>                <script type=\"text/javascript\">window.PlotlyConfig = {MathJaxConfig: 'local'};</script>\n        <script src=\"https://cdn.plot.ly/plotly-2.2.0.min.js\"></script>                <div id=\"f817406c-2bc9-4fab-ad7f-5ead096b6606\" class=\"plotly-graph-div\" style=\"height:525px; width:100%;\"></div>            <script type=\"text/javascript\">                                    window.PLOTLYENV=window.PLOTLYENV || {};                                    if (document.getElementById(\"f817406c-2bc9-4fab-ad7f-5ead096b6606\")) {                    Plotly.newPlot(                        \"f817406c-2bc9-4fab-ad7f-5ead096b6606\",                        [{\"alignmentgroup\":\"True\",\"bingroup\":\"x\",\"hovertemplate\":\"category=%{x}<br>count=%{y}<extra></extra>\",\"legendgroup\":\"\",\"marker\":{\"color\":\"#636efa\",\"pattern\":{\"shape\":\"\"}},\"name\":\"\",\"offsetgroup\":\"\",\"orientation\":\"v\",\"showlegend\":false,\"type\":\"histogram\",\"x\":[\"GAME ACTION\",\"GAME ACTION\",\"GAME ACTION\",\"GAME ACTION\",\"GAME ACTION\",\"GAME ACTION\",\"GAME ACTION\",\"GAME ACTION\",\"GAME ACTION\",\"GAME ACTION\",\"GAME ACTION\",\"GAME ACTION\",\"GAME ACTION\",\"GAME ACTION\",\"GAME ACTION\",\"GAME ACTION\",\"GAME ACTION\",\"GAME ACTION\",\"GAME ACTION\",\"GAME ACTION\",\"GAME ACTION\",\"GAME ACTION\",\"GAME ACTION\",\"GAME ACTION\",\"GAME ACTION\",\"GAME ACTION\",\"GAME ACTION\",\"GAME ACTION\",\"GAME ACTION\",\"GAME ACTION\",\"GAME ACTION\",\"GAME ACTION\",\"GAME ACTION\",\"GAME ACTION\",\"GAME ACTION\",\"GAME ACTION\",\"GAME ACTION\",\"GAME ACTION\",\"GAME ACTION\",\"GAME ACTION\",\"GAME ACTION\",\"GAME ACTION\",\"GAME ACTION\",\"GAME ACTION\",\"GAME ACTION\",\"GAME ACTION\",\"GAME ACTION\",\"GAME ACTION\",\"GAME ACTION\",\"GAME ACTION\",\"GAME ACTION\",\"GAME ACTION\",\"GAME ACTION\",\"GAME ACTION\",\"GAME ACTION\",\"GAME ACTION\",\"GAME ACTION\",\"GAME ACTION\",\"GAME ACTION\",\"GAME ACTION\",\"GAME ACTION\",\"GAME ACTION\",\"GAME ACTION\",\"GAME ACTION\",\"GAME ACTION\",\"GAME ACTION\",\"GAME ACTION\",\"GAME ACTION\",\"GAME ACTION\",\"GAME ACTION\",\"GAME ACTION\",\"GAME ACTION\",\"GAME ACTION\",\"GAME ACTION\",\"GAME ACTION\",\"GAME ACTION\",\"GAME ACTION\",\"GAME ACTION\",\"GAME ACTION\",\"GAME ACTION\",\"GAME ACTION\",\"GAME ACTION\",\"GAME ACTION\",\"GAME ACTION\",\"GAME ACTION\",\"GAME ACTION\",\"GAME ACTION\",\"GAME ACTION\",\"GAME ACTION\",\"GAME ACTION\",\"GAME ACTION\",\"GAME ACTION\",\"GAME ACTION\",\"GAME ACTION\",\"GAME ACTION\",\"GAME ACTION\",\"GAME ACTION\",\"GAME ACTION\",\"GAME ACTION\",\"GAME ACTION\",\"GAME ADVENTURE\",\"GAME ADVENTURE\",\"GAME ADVENTURE\",\"GAME ADVENTURE\",\"GAME ADVENTURE\",\"GAME ADVENTURE\",\"GAME ADVENTURE\",\"GAME ADVENTURE\",\"GAME ADVENTURE\",\"GAME ADVENTURE\",\"GAME ADVENTURE\",\"GAME ADVENTURE\",\"GAME ADVENTURE\",\"GAME ADVENTURE\",\"GAME ADVENTURE\",\"GAME ADVENTURE\",\"GAME ADVENTURE\",\"GAME ADVENTURE\",\"GAME ADVENTURE\",\"GAME ADVENTURE\",\"GAME ADVENTURE\",\"GAME ADVENTURE\",\"GAME ADVENTURE\",\"GAME ADVENTURE\",\"GAME ADVENTURE\",\"GAME ADVENTURE\",\"GAME ADVENTURE\",\"GAME ADVENTURE\",\"GAME ADVENTURE\",\"GAME ADVENTURE\",\"GAME ADVENTURE\",\"GAME ADVENTURE\",\"GAME ADVENTURE\",\"GAME ADVENTURE\",\"GAME ADVENTURE\",\"GAME ADVENTURE\",\"GAME ADVENTURE\",\"GAME ADVENTURE\",\"GAME ADVENTURE\",\"GAME ADVENTURE\",\"GAME ADVENTURE\",\"GAME ADVENTURE\",\"GAME ADVENTURE\",\"GAME ADVENTURE\",\"GAME ADVENTURE\",\"GAME ADVENTURE\",\"GAME ADVENTURE\",\"GAME ADVENTURE\",\"GAME ADVENTURE\",\"GAME ADVENTURE\",\"GAME ADVENTURE\",\"GAME ADVENTURE\",\"GAME ADVENTURE\",\"GAME ADVENTURE\",\"GAME ADVENTURE\",\"GAME ADVENTURE\",\"GAME ADVENTURE\",\"GAME ADVENTURE\",\"GAME ADVENTURE\",\"GAME ADVENTURE\",\"GAME ADVENTURE\",\"GAME ADVENTURE\",\"GAME ADVENTURE\",\"GAME ADVENTURE\",\"GAME ADVENTURE\",\"GAME ADVENTURE\",\"GAME ADVENTURE\",\"GAME ADVENTURE\",\"GAME ADVENTURE\",\"GAME ADVENTURE\",\"GAME ADVENTURE\",\"GAME ADVENTURE\",\"GAME ADVENTURE\",\"GAME ADVENTURE\",\"GAME ADVENTURE\",\"GAME ADVENTURE\",\"GAME ADVENTURE\",\"GAME ADVENTURE\",\"GAME ADVENTURE\",\"GAME ADVENTURE\",\"GAME ADVENTURE\",\"GAME ADVENTURE\",\"GAME ADVENTURE\",\"GAME ADVENTURE\",\"GAME ADVENTURE\",\"GAME ADVENTURE\",\"GAME ADVENTURE\",\"GAME ADVENTURE\",\"GAME ADVENTURE\",\"GAME ADVENTURE\",\"GAME ADVENTURE\",\"GAME ADVENTURE\",\"GAME ADVENTURE\",\"GAME ADVENTURE\",\"GAME ADVENTURE\",\"GAME ADVENTURE\",\"GAME ADVENTURE\",\"GAME ADVENTURE\",\"GAME ADVENTURE\",\"GAME ADVENTURE\",\"GAME ARCADE\",\"GAME ARCADE\",\"GAME ARCADE\",\"GAME ARCADE\",\"GAME ARCADE\",\"GAME ARCADE\",\"GAME ARCADE\",\"GAME ARCADE\",\"GAME ARCADE\",\"GAME ARCADE\",\"GAME ARCADE\",\"GAME ARCADE\",\"GAME ARCADE\",\"GAME ARCADE\",\"GAME ARCADE\",\"GAME ARCADE\",\"GAME ARCADE\",\"GAME ARCADE\",\"GAME ARCADE\",\"GAME ARCADE\",\"GAME ARCADE\",\"GAME ARCADE\",\"GAME ARCADE\",\"GAME ARCADE\",\"GAME ARCADE\",\"GAME ARCADE\",\"GAME ARCADE\",\"GAME ARCADE\",\"GAME ARCADE\",\"GAME ARCADE\",\"GAME ARCADE\",\"GAME ARCADE\",\"GAME ARCADE\",\"GAME ARCADE\",\"GAME ARCADE\",\"GAME ARCADE\",\"GAME ARCADE\",\"GAME ARCADE\",\"GAME ARCADE\",\"GAME ARCADE\",\"GAME ARCADE\",\"GAME ARCADE\",\"GAME ARCADE\",\"GAME ARCADE\",\"GAME ARCADE\",\"GAME ARCADE\",\"GAME ARCADE\",\"GAME ARCADE\",\"GAME ARCADE\",\"GAME ARCADE\",\"GAME ARCADE\",\"GAME ARCADE\",\"GAME ARCADE\",\"GAME ARCADE\",\"GAME ARCADE\",\"GAME ARCADE\",\"GAME ARCADE\",\"GAME ARCADE\",\"GAME ARCADE\",\"GAME ARCADE\",\"GAME ARCADE\",\"GAME ARCADE\",\"GAME ARCADE\",\"GAME ARCADE\",\"GAME ARCADE\",\"GAME ARCADE\",\"GAME ARCADE\",\"GAME ARCADE\",\"GAME ARCADE\",\"GAME ARCADE\",\"GAME ARCADE\",\"GAME ARCADE\",\"GAME ARCADE\",\"GAME ARCADE\",\"GAME ARCADE\",\"GAME ARCADE\",\"GAME ARCADE\",\"GAME ARCADE\",\"GAME ARCADE\",\"GAME ARCADE\",\"GAME ARCADE\",\"GAME ARCADE\",\"GAME ARCADE\",\"GAME ARCADE\",\"GAME ARCADE\",\"GAME ARCADE\",\"GAME ARCADE\",\"GAME ARCADE\",\"GAME ARCADE\",\"GAME ARCADE\",\"GAME ARCADE\",\"GAME ARCADE\",\"GAME ARCADE\",\"GAME ARCADE\",\"GAME ARCADE\",\"GAME ARCADE\",\"GAME ARCADE\",\"GAME ARCADE\",\"GAME ARCADE\",\"GAME ARCADE\",\"GAME BOARD\",\"GAME BOARD\",\"GAME BOARD\",\"GAME BOARD\",\"GAME BOARD\",\"GAME BOARD\",\"GAME BOARD\",\"GAME BOARD\",\"GAME BOARD\",\"GAME BOARD\",\"GAME BOARD\",\"GAME BOARD\",\"GAME BOARD\",\"GAME BOARD\",\"GAME BOARD\",\"GAME BOARD\",\"GAME BOARD\",\"GAME BOARD\",\"GAME BOARD\",\"GAME BOARD\",\"GAME BOARD\",\"GAME BOARD\",\"GAME BOARD\",\"GAME BOARD\",\"GAME BOARD\",\"GAME BOARD\",\"GAME BOARD\",\"GAME BOARD\",\"GAME BOARD\",\"GAME BOARD\",\"GAME BOARD\",\"GAME BOARD\",\"GAME BOARD\",\"GAME BOARD\",\"GAME BOARD\",\"GAME BOARD\",\"GAME BOARD\",\"GAME BOARD\",\"GAME BOARD\",\"GAME BOARD\",\"GAME BOARD\",\"GAME BOARD\",\"GAME BOARD\",\"GAME BOARD\",\"GAME BOARD\",\"GAME BOARD\",\"GAME BOARD\",\"GAME BOARD\",\"GAME BOARD\",\"GAME BOARD\",\"GAME BOARD\",\"GAME BOARD\",\"GAME BOARD\",\"GAME BOARD\",\"GAME BOARD\",\"GAME BOARD\",\"GAME BOARD\",\"GAME BOARD\",\"GAME BOARD\",\"GAME BOARD\",\"GAME BOARD\",\"GAME BOARD\",\"GAME BOARD\",\"GAME BOARD\",\"GAME BOARD\",\"GAME BOARD\",\"GAME BOARD\",\"GAME BOARD\",\"GAME BOARD\",\"GAME BOARD\",\"GAME BOARD\",\"GAME BOARD\",\"GAME BOARD\",\"GAME BOARD\",\"GAME BOARD\",\"GAME BOARD\",\"GAME BOARD\",\"GAME BOARD\",\"GAME BOARD\",\"GAME BOARD\",\"GAME BOARD\",\"GAME BOARD\",\"GAME BOARD\",\"GAME BOARD\",\"GAME BOARD\",\"GAME BOARD\",\"GAME BOARD\",\"GAME BOARD\",\"GAME BOARD\",\"GAME BOARD\",\"GAME BOARD\",\"GAME BOARD\",\"GAME BOARD\",\"GAME BOARD\",\"GAME BOARD\",\"GAME BOARD\",\"GAME BOARD\",\"GAME BOARD\",\"GAME BOARD\",\"GAME BOARD\",\"GAME CARD\",\"GAME CARD\",\"GAME CARD\",\"GAME CARD\",\"GAME CARD\",\"GAME CARD\",\"GAME CARD\",\"GAME CARD\",\"GAME CARD\",\"GAME CARD\",\"GAME CARD\",\"GAME CARD\",\"GAME CARD\",\"GAME CARD\",\"GAME CARD\",\"GAME CARD\",\"GAME CARD\",\"GAME CARD\",\"GAME CARD\",\"GAME CARD\",\"GAME CARD\",\"GAME CARD\",\"GAME CARD\",\"GAME CARD\",\"GAME CARD\",\"GAME CARD\",\"GAME CARD\",\"GAME CARD\",\"GAME CARD\",\"GAME CARD\",\"GAME CARD\",\"GAME CARD\",\"GAME CARD\",\"GAME CARD\",\"GAME CARD\",\"GAME CARD\",\"GAME CARD\",\"GAME CARD\",\"GAME CARD\",\"GAME CARD\",\"GAME CARD\",\"GAME CARD\",\"GAME CARD\",\"GAME CARD\",\"GAME CARD\",\"GAME CARD\",\"GAME CARD\",\"GAME CARD\",\"GAME CARD\",\"GAME CARD\",\"GAME CARD\",\"GAME CARD\",\"GAME CARD\",\"GAME CARD\",\"GAME CARD\",\"GAME CARD\",\"GAME CARD\",\"GAME CARD\",\"GAME CARD\",\"GAME CARD\",\"GAME CARD\",\"GAME CARD\",\"GAME CARD\",\"GAME CARD\",\"GAME CARD\",\"GAME CARD\",\"GAME CARD\",\"GAME CARD\",\"GAME CARD\",\"GAME CARD\",\"GAME CARD\",\"GAME CARD\",\"GAME CARD\",\"GAME CARD\",\"GAME CARD\",\"GAME CARD\",\"GAME CARD\",\"GAME CARD\",\"GAME CARD\",\"GAME CARD\",\"GAME CARD\",\"GAME CARD\",\"GAME CARD\",\"GAME CARD\",\"GAME CARD\",\"GAME CARD\",\"GAME CARD\",\"GAME CARD\",\"GAME CARD\",\"GAME CARD\",\"GAME CARD\",\"GAME CARD\",\"GAME CARD\",\"GAME CARD\",\"GAME CARD\",\"GAME CARD\",\"GAME CARD\",\"GAME CARD\",\"GAME CARD\",\"GAME CARD\",\"GAME CARD\",\"GAME CARD\",\"GAME CARD\",\"GAME CARD\",\"GAME CARD\",\"GAME CARD\",\"GAME CARD\",\"GAME CARD\",\"GAME CARD\",\"GAME CARD\",\"GAME CARD\",\"GAME CARD\",\"GAME CARD\",\"GAME CARD\",\"GAME CARD\",\"GAME CARD\",\"GAME CARD\",\"GAME CARD\",\"GAME CARD\",\"GAME CARD\",\"GAME CARD\",\"GAME CARD\",\"GAME CARD\",\"GAME CARD\",\"GAME CARD\",\"GAME CARD\",\"GAME CASINO\",\"GAME CASINO\",\"GAME CASINO\",\"GAME CASINO\",\"GAME CASINO\",\"GAME CASINO\",\"GAME CASINO\",\"GAME CASINO\",\"GAME CASINO\",\"GAME CASINO\",\"GAME CASINO\",\"GAME CASINO\",\"GAME CASINO\",\"GAME CASINO\",\"GAME CASINO\",\"GAME CASINO\",\"GAME CASINO\",\"GAME CASINO\",\"GAME CASINO\",\"GAME CASINO\",\"GAME CASINO\",\"GAME CASINO\",\"GAME CASINO\",\"GAME CASINO\",\"GAME CASINO\",\"GAME CASINO\",\"GAME CASINO\",\"GAME CASINO\",\"GAME CASINO\",\"GAME CASINO\",\"GAME CASINO\",\"GAME CASINO\",\"GAME CASINO\",\"GAME CASINO\",\"GAME CASINO\",\"GAME CASINO\",\"GAME CASINO\",\"GAME CASINO\",\"GAME CASINO\",\"GAME CASINO\",\"GAME CASINO\",\"GAME CASINO\",\"GAME CASINO\",\"GAME CASINO\",\"GAME CASINO\",\"GAME CASINO\",\"GAME CASINO\",\"GAME CASINO\",\"GAME CASINO\",\"GAME CASINO\",\"GAME CASINO\",\"GAME CASINO\",\"GAME CASINO\",\"GAME CASINO\",\"GAME CASINO\",\"GAME CASINO\",\"GAME CASINO\",\"GAME CASINO\",\"GAME CASINO\",\"GAME CASINO\",\"GAME CASINO\",\"GAME CASINO\",\"GAME CASINO\",\"GAME CASINO\",\"GAME CASINO\",\"GAME CASINO\",\"GAME CASINO\",\"GAME CASINO\",\"GAME CASINO\",\"GAME CASINO\",\"GAME CASINO\",\"GAME CASINO\",\"GAME CASINO\",\"GAME CASINO\",\"GAME CASINO\",\"GAME CASINO\",\"GAME CASINO\",\"GAME CASINO\",\"GAME CASINO\",\"GAME CASINO\",\"GAME CASINO\",\"GAME CASINO\",\"GAME CASINO\",\"GAME CASINO\",\"GAME CASINO\",\"GAME CASINO\",\"GAME CASINO\",\"GAME CASINO\",\"GAME CASINO\",\"GAME CASINO\",\"GAME CASINO\",\"GAME CASINO\",\"GAME CASINO\",\"GAME CASINO\",\"GAME CASINO\",\"GAME CASINO\",\"GAME CASINO\",\"GAME CASINO\",\"GAME CASINO\",\"GAME CASINO\",\"GAME CASUAL\",\"GAME CASUAL\",\"GAME CASUAL\",\"GAME CASUAL\",\"GAME CASUAL\",\"GAME CASUAL\",\"GAME CASUAL\",\"GAME CASUAL\",\"GAME CASUAL\",\"GAME CASUAL\",\"GAME CASUAL\",\"GAME CASUAL\",\"GAME CASUAL\",\"GAME CASUAL\",\"GAME CASUAL\",\"GAME CASUAL\",\"GAME CASUAL\",\"GAME CASUAL\",\"GAME CASUAL\",\"GAME CASUAL\",\"GAME CASUAL\",\"GAME CASUAL\",\"GAME CASUAL\",\"GAME CASUAL\",\"GAME CASUAL\",\"GAME CASUAL\",\"GAME CASUAL\",\"GAME CASUAL\",\"GAME CASUAL\",\"GAME CASUAL\",\"GAME CASUAL\",\"GAME CASUAL\",\"GAME CASUAL\",\"GAME CASUAL\",\"GAME CASUAL\",\"GAME CASUAL\",\"GAME CASUAL\",\"GAME CASUAL\",\"GAME CASUAL\",\"GAME CASUAL\",\"GAME CASUAL\",\"GAME CASUAL\",\"GAME CASUAL\",\"GAME CASUAL\",\"GAME CASUAL\",\"GAME CASUAL\",\"GAME CASUAL\",\"GAME CASUAL\",\"GAME CASUAL\",\"GAME CASUAL\",\"GAME CASUAL\",\"GAME CASUAL\",\"GAME CASUAL\",\"GAME CASUAL\",\"GAME CASUAL\",\"GAME CASUAL\",\"GAME CASUAL\",\"GAME CASUAL\",\"GAME CASUAL\",\"GAME CASUAL\",\"GAME CASUAL\",\"GAME CASUAL\",\"GAME CASUAL\",\"GAME CASUAL\",\"GAME CASUAL\",\"GAME CASUAL\",\"GAME CASUAL\",\"GAME CASUAL\",\"GAME CASUAL\",\"GAME CASUAL\",\"GAME CASUAL\",\"GAME CASUAL\",\"GAME CASUAL\",\"GAME CASUAL\",\"GAME CASUAL\",\"GAME CASUAL\",\"GAME CASUAL\",\"GAME CASUAL\",\"GAME CASUAL\",\"GAME CASUAL\",\"GAME CASUAL\",\"GAME CASUAL\",\"GAME CASUAL\",\"GAME CASUAL\",\"GAME CASUAL\",\"GAME CASUAL\",\"GAME CASUAL\",\"GAME CASUAL\",\"GAME CASUAL\",\"GAME CASUAL\",\"GAME CASUAL\",\"GAME CASUAL\",\"GAME CASUAL\",\"GAME CASUAL\",\"GAME CASUAL\",\"GAME CASUAL\",\"GAME CASUAL\",\"GAME CASUAL\",\"GAME CASUAL\",\"GAME CASUAL\",\"GAME EDUCATIONAL\",\"GAME EDUCATIONAL\",\"GAME EDUCATIONAL\",\"GAME EDUCATIONAL\",\"GAME EDUCATIONAL\",\"GAME EDUCATIONAL\",\"GAME EDUCATIONAL\",\"GAME EDUCATIONAL\",\"GAME EDUCATIONAL\",\"GAME EDUCATIONAL\",\"GAME EDUCATIONAL\",\"GAME EDUCATIONAL\",\"GAME EDUCATIONAL\",\"GAME EDUCATIONAL\",\"GAME EDUCATIONAL\",\"GAME EDUCATIONAL\",\"GAME EDUCATIONAL\",\"GAME EDUCATIONAL\",\"GAME EDUCATIONAL\",\"GAME EDUCATIONAL\",\"GAME EDUCATIONAL\",\"GAME EDUCATIONAL\",\"GAME EDUCATIONAL\",\"GAME EDUCATIONAL\",\"GAME EDUCATIONAL\",\"GAME EDUCATIONAL\",\"GAME EDUCATIONAL\",\"GAME EDUCATIONAL\",\"GAME EDUCATIONAL\",\"GAME EDUCATIONAL\",\"GAME EDUCATIONAL\",\"GAME EDUCATIONAL\",\"GAME EDUCATIONAL\",\"GAME EDUCATIONAL\",\"GAME EDUCATIONAL\",\"GAME EDUCATIONAL\",\"GAME EDUCATIONAL\",\"GAME EDUCATIONAL\",\"GAME EDUCATIONAL\",\"GAME EDUCATIONAL\",\"GAME EDUCATIONAL\",\"GAME EDUCATIONAL\",\"GAME EDUCATIONAL\",\"GAME EDUCATIONAL\",\"GAME EDUCATIONAL\",\"GAME EDUCATIONAL\",\"GAME EDUCATIONAL\",\"GAME EDUCATIONAL\",\"GAME EDUCATIONAL\",\"GAME EDUCATIONAL\",\"GAME EDUCATIONAL\",\"GAME EDUCATIONAL\",\"GAME EDUCATIONAL\",\"GAME EDUCATIONAL\",\"GAME EDUCATIONAL\",\"GAME EDUCATIONAL\",\"GAME EDUCATIONAL\",\"GAME EDUCATIONAL\",\"GAME EDUCATIONAL\",\"GAME EDUCATIONAL\",\"GAME EDUCATIONAL\",\"GAME EDUCATIONAL\",\"GAME EDUCATIONAL\",\"GAME EDUCATIONAL\",\"GAME EDUCATIONAL\",\"GAME EDUCATIONAL\",\"GAME EDUCATIONAL\",\"GAME EDUCATIONAL\",\"GAME EDUCATIONAL\",\"GAME EDUCATIONAL\",\"GAME EDUCATIONAL\",\"GAME EDUCATIONAL\",\"GAME EDUCATIONAL\",\"GAME EDUCATIONAL\",\"GAME EDUCATIONAL\",\"GAME EDUCATIONAL\",\"GAME EDUCATIONAL\",\"GAME EDUCATIONAL\",\"GAME EDUCATIONAL\",\"GAME EDUCATIONAL\",\"GAME EDUCATIONAL\",\"GAME EDUCATIONAL\",\"GAME EDUCATIONAL\",\"GAME EDUCATIONAL\",\"GAME EDUCATIONAL\",\"GAME EDUCATIONAL\",\"GAME EDUCATIONAL\",\"GAME EDUCATIONAL\",\"GAME EDUCATIONAL\",\"GAME EDUCATIONAL\",\"GAME EDUCATIONAL\",\"GAME EDUCATIONAL\",\"GAME EDUCATIONAL\",\"GAME EDUCATIONAL\",\"GAME EDUCATIONAL\",\"GAME EDUCATIONAL\",\"GAME EDUCATIONAL\",\"GAME EDUCATIONAL\",\"GAME EDUCATIONAL\",\"GAME EDUCATIONAL\",\"GAME MUSIC\",\"GAME MUSIC\",\"GAME MUSIC\",\"GAME MUSIC\",\"GAME MUSIC\",\"GAME MUSIC\",\"GAME MUSIC\",\"GAME MUSIC\",\"GAME MUSIC\",\"GAME MUSIC\",\"GAME MUSIC\",\"GAME MUSIC\",\"GAME MUSIC\",\"GAME MUSIC\",\"GAME MUSIC\",\"GAME MUSIC\",\"GAME MUSIC\",\"GAME MUSIC\",\"GAME MUSIC\",\"GAME MUSIC\",\"GAME MUSIC\",\"GAME MUSIC\",\"GAME MUSIC\",\"GAME MUSIC\",\"GAME MUSIC\",\"GAME MUSIC\",\"GAME MUSIC\",\"GAME MUSIC\",\"GAME MUSIC\",\"GAME MUSIC\",\"GAME MUSIC\",\"GAME MUSIC\",\"GAME MUSIC\",\"GAME MUSIC\",\"GAME MUSIC\",\"GAME MUSIC\",\"GAME MUSIC\",\"GAME MUSIC\",\"GAME MUSIC\",\"GAME MUSIC\",\"GAME MUSIC\",\"GAME MUSIC\",\"GAME MUSIC\",\"GAME MUSIC\",\"GAME MUSIC\",\"GAME MUSIC\",\"GAME MUSIC\",\"GAME MUSIC\",\"GAME MUSIC\",\"GAME MUSIC\",\"GAME MUSIC\",\"GAME MUSIC\",\"GAME MUSIC\",\"GAME MUSIC\",\"GAME MUSIC\",\"GAME MUSIC\",\"GAME MUSIC\",\"GAME MUSIC\",\"GAME MUSIC\",\"GAME MUSIC\",\"GAME MUSIC\",\"GAME MUSIC\",\"GAME MUSIC\",\"GAME MUSIC\",\"GAME MUSIC\",\"GAME MUSIC\",\"GAME MUSIC\",\"GAME MUSIC\",\"GAME MUSIC\",\"GAME MUSIC\",\"GAME MUSIC\",\"GAME MUSIC\",\"GAME MUSIC\",\"GAME MUSIC\",\"GAME MUSIC\",\"GAME MUSIC\",\"GAME MUSIC\",\"GAME MUSIC\",\"GAME MUSIC\",\"GAME MUSIC\",\"GAME MUSIC\",\"GAME MUSIC\",\"GAME MUSIC\",\"GAME MUSIC\",\"GAME MUSIC\",\"GAME MUSIC\",\"GAME MUSIC\",\"GAME MUSIC\",\"GAME MUSIC\",\"GAME MUSIC\",\"GAME MUSIC\",\"GAME MUSIC\",\"GAME MUSIC\",\"GAME MUSIC\",\"GAME MUSIC\",\"GAME MUSIC\",\"GAME MUSIC\",\"GAME MUSIC\",\"GAME MUSIC\",\"GAME MUSIC\",\"GAME PUZZLE\",\"GAME PUZZLE\",\"GAME PUZZLE\",\"GAME PUZZLE\",\"GAME PUZZLE\",\"GAME PUZZLE\",\"GAME PUZZLE\",\"GAME PUZZLE\",\"GAME PUZZLE\",\"GAME PUZZLE\",\"GAME PUZZLE\",\"GAME PUZZLE\",\"GAME PUZZLE\",\"GAME PUZZLE\",\"GAME PUZZLE\",\"GAME PUZZLE\",\"GAME PUZZLE\",\"GAME PUZZLE\",\"GAME PUZZLE\",\"GAME PUZZLE\",\"GAME PUZZLE\",\"GAME PUZZLE\",\"GAME PUZZLE\",\"GAME PUZZLE\",\"GAME PUZZLE\",\"GAME PUZZLE\",\"GAME PUZZLE\",\"GAME PUZZLE\",\"GAME PUZZLE\",\"GAME PUZZLE\",\"GAME PUZZLE\",\"GAME PUZZLE\",\"GAME PUZZLE\",\"GAME PUZZLE\",\"GAME PUZZLE\",\"GAME PUZZLE\",\"GAME PUZZLE\",\"GAME PUZZLE\",\"GAME PUZZLE\",\"GAME PUZZLE\",\"GAME PUZZLE\",\"GAME PUZZLE\",\"GAME PUZZLE\",\"GAME PUZZLE\",\"GAME PUZZLE\",\"GAME PUZZLE\",\"GAME PUZZLE\",\"GAME PUZZLE\",\"GAME PUZZLE\",\"GAME PUZZLE\",\"GAME PUZZLE\",\"GAME PUZZLE\",\"GAME PUZZLE\",\"GAME PUZZLE\",\"GAME PUZZLE\",\"GAME PUZZLE\",\"GAME PUZZLE\",\"GAME PUZZLE\",\"GAME PUZZLE\",\"GAME PUZZLE\",\"GAME PUZZLE\",\"GAME PUZZLE\",\"GAME PUZZLE\",\"GAME PUZZLE\",\"GAME PUZZLE\",\"GAME PUZZLE\",\"GAME PUZZLE\",\"GAME PUZZLE\",\"GAME PUZZLE\",\"GAME PUZZLE\",\"GAME PUZZLE\",\"GAME PUZZLE\",\"GAME PUZZLE\",\"GAME PUZZLE\",\"GAME PUZZLE\",\"GAME PUZZLE\",\"GAME PUZZLE\",\"GAME PUZZLE\",\"GAME PUZZLE\",\"GAME PUZZLE\",\"GAME PUZZLE\",\"GAME PUZZLE\",\"GAME PUZZLE\",\"GAME PUZZLE\",\"GAME PUZZLE\",\"GAME PUZZLE\",\"GAME PUZZLE\",\"GAME PUZZLE\",\"GAME PUZZLE\",\"GAME PUZZLE\",\"GAME PUZZLE\",\"GAME PUZZLE\",\"GAME PUZZLE\",\"GAME PUZZLE\",\"GAME PUZZLE\",\"GAME PUZZLE\",\"GAME PUZZLE\",\"GAME PUZZLE\",\"GAME PUZZLE\",\"GAME PUZZLE\",\"GAME RACING\",\"GAME RACING\",\"GAME RACING\",\"GAME RACING\",\"GAME RACING\",\"GAME RACING\",\"GAME RACING\",\"GAME RACING\",\"GAME RACING\",\"GAME RACING\",\"GAME RACING\",\"GAME RACING\",\"GAME RACING\",\"GAME RACING\",\"GAME RACING\",\"GAME RACING\",\"GAME RACING\",\"GAME RACING\",\"GAME RACING\",\"GAME RACING\",\"GAME RACING\",\"GAME RACING\",\"GAME RACING\",\"GAME RACING\",\"GAME RACING\",\"GAME RACING\",\"GAME RACING\",\"GAME RACING\",\"GAME RACING\",\"GAME RACING\",\"GAME RACING\",\"GAME RACING\",\"GAME RACING\",\"GAME RACING\",\"GAME RACING\",\"GAME RACING\",\"GAME RACING\",\"GAME RACING\",\"GAME RACING\",\"GAME RACING\",\"GAME RACING\",\"GAME RACING\",\"GAME RACING\",\"GAME RACING\",\"GAME RACING\",\"GAME RACING\",\"GAME RACING\",\"GAME RACING\",\"GAME RACING\",\"GAME RACING\",\"GAME RACING\",\"GAME RACING\",\"GAME RACING\",\"GAME RACING\",\"GAME RACING\",\"GAME RACING\",\"GAME RACING\",\"GAME RACING\",\"GAME RACING\",\"GAME RACING\",\"GAME RACING\",\"GAME RACING\",\"GAME RACING\",\"GAME RACING\",\"GAME RACING\",\"GAME RACING\",\"GAME RACING\",\"GAME RACING\",\"GAME RACING\",\"GAME RACING\",\"GAME RACING\",\"GAME RACING\",\"GAME RACING\",\"GAME RACING\",\"GAME RACING\",\"GAME RACING\",\"GAME RACING\",\"GAME RACING\",\"GAME RACING\",\"GAME RACING\",\"GAME RACING\",\"GAME RACING\",\"GAME RACING\",\"GAME RACING\",\"GAME RACING\",\"GAME RACING\",\"GAME RACING\",\"GAME RACING\",\"GAME RACING\",\"GAME RACING\",\"GAME RACING\",\"GAME RACING\",\"GAME RACING\",\"GAME RACING\",\"GAME RACING\",\"GAME RACING\",\"GAME RACING\",\"GAME RACING\",\"GAME RACING\",\"GAME RACING\",\"GAME ROLE PLAYING\",\"GAME ROLE PLAYING\",\"GAME ROLE PLAYING\",\"GAME ROLE PLAYING\",\"GAME ROLE PLAYING\",\"GAME ROLE PLAYING\",\"GAME ROLE PLAYING\",\"GAME ROLE PLAYING\",\"GAME ROLE PLAYING\",\"GAME ROLE PLAYING\",\"GAME ROLE PLAYING\",\"GAME ROLE PLAYING\",\"GAME ROLE PLAYING\",\"GAME ROLE PLAYING\",\"GAME ROLE PLAYING\",\"GAME ROLE PLAYING\",\"GAME ROLE PLAYING\",\"GAME ROLE PLAYING\",\"GAME ROLE PLAYING\",\"GAME ROLE PLAYING\",\"GAME ROLE PLAYING\",\"GAME ROLE PLAYING\",\"GAME ROLE PLAYING\",\"GAME ROLE PLAYING\",\"GAME ROLE PLAYING\",\"GAME ROLE PLAYING\",\"GAME ROLE PLAYING\",\"GAME ROLE PLAYING\",\"GAME ROLE PLAYING\",\"GAME ROLE PLAYING\",\"GAME ROLE PLAYING\",\"GAME ROLE PLAYING\",\"GAME ROLE PLAYING\",\"GAME ROLE PLAYING\",\"GAME ROLE PLAYING\",\"GAME ROLE PLAYING\",\"GAME ROLE PLAYING\",\"GAME ROLE PLAYING\",\"GAME ROLE PLAYING\",\"GAME ROLE PLAYING\",\"GAME ROLE PLAYING\",\"GAME ROLE PLAYING\",\"GAME ROLE PLAYING\",\"GAME ROLE PLAYING\",\"GAME ROLE PLAYING\",\"GAME ROLE PLAYING\",\"GAME ROLE PLAYING\",\"GAME ROLE PLAYING\",\"GAME ROLE PLAYING\",\"GAME ROLE PLAYING\",\"GAME ROLE PLAYING\",\"GAME ROLE PLAYING\",\"GAME ROLE PLAYING\",\"GAME ROLE PLAYING\",\"GAME ROLE PLAYING\",\"GAME ROLE PLAYING\",\"GAME ROLE PLAYING\",\"GAME ROLE PLAYING\",\"GAME ROLE PLAYING\",\"GAME ROLE PLAYING\",\"GAME ROLE PLAYING\",\"GAME ROLE PLAYING\",\"GAME ROLE PLAYING\",\"GAME ROLE PLAYING\",\"GAME ROLE PLAYING\",\"GAME ROLE PLAYING\",\"GAME ROLE PLAYING\",\"GAME ROLE PLAYING\",\"GAME ROLE PLAYING\",\"GAME ROLE PLAYING\",\"GAME ROLE PLAYING\",\"GAME ROLE PLAYING\",\"GAME ROLE PLAYING\",\"GAME ROLE PLAYING\",\"GAME ROLE PLAYING\",\"GAME ROLE PLAYING\",\"GAME ROLE PLAYING\",\"GAME ROLE PLAYING\",\"GAME ROLE PLAYING\",\"GAME ROLE PLAYING\",\"GAME ROLE PLAYING\",\"GAME ROLE PLAYING\",\"GAME ROLE PLAYING\",\"GAME ROLE PLAYING\",\"GAME ROLE PLAYING\",\"GAME ROLE PLAYING\",\"GAME ROLE PLAYING\",\"GAME ROLE PLAYING\",\"GAME ROLE PLAYING\",\"GAME ROLE PLAYING\",\"GAME ROLE PLAYING\",\"GAME ROLE PLAYING\",\"GAME ROLE PLAYING\",\"GAME ROLE PLAYING\",\"GAME ROLE PLAYING\",\"GAME ROLE PLAYING\",\"GAME ROLE PLAYING\",\"GAME ROLE PLAYING\",\"GAME ROLE PLAYING\",\"GAME ROLE PLAYING\",\"GAME SIMULATION\",\"GAME SIMULATION\",\"GAME SIMULATION\",\"GAME SIMULATION\",\"GAME SIMULATION\",\"GAME SIMULATION\",\"GAME SIMULATION\",\"GAME SIMULATION\",\"GAME SIMULATION\",\"GAME SIMULATION\",\"GAME SIMULATION\",\"GAME SIMULATION\",\"GAME SIMULATION\",\"GAME SIMULATION\",\"GAME SIMULATION\",\"GAME SIMULATION\",\"GAME SIMULATION\",\"GAME SIMULATION\",\"GAME SIMULATION\",\"GAME SIMULATION\",\"GAME SIMULATION\",\"GAME SIMULATION\",\"GAME SIMULATION\",\"GAME SIMULATION\",\"GAME SIMULATION\",\"GAME SIMULATION\",\"GAME SIMULATION\",\"GAME SIMULATION\",\"GAME SIMULATION\",\"GAME SIMULATION\",\"GAME SIMULATION\",\"GAME SIMULATION\",\"GAME SIMULATION\",\"GAME SIMULATION\",\"GAME SIMULATION\",\"GAME SIMULATION\",\"GAME SIMULATION\",\"GAME SIMULATION\",\"GAME SIMULATION\",\"GAME SIMULATION\",\"GAME SIMULATION\",\"GAME SIMULATION\",\"GAME SIMULATION\",\"GAME SIMULATION\",\"GAME SIMULATION\",\"GAME SIMULATION\",\"GAME SIMULATION\",\"GAME SIMULATION\",\"GAME SIMULATION\",\"GAME SIMULATION\",\"GAME SIMULATION\",\"GAME SIMULATION\",\"GAME SIMULATION\",\"GAME SIMULATION\",\"GAME SIMULATION\",\"GAME SIMULATION\",\"GAME SIMULATION\",\"GAME SIMULATION\",\"GAME SIMULATION\",\"GAME SIMULATION\",\"GAME SIMULATION\",\"GAME SIMULATION\",\"GAME SIMULATION\",\"GAME SIMULATION\",\"GAME SIMULATION\",\"GAME SIMULATION\",\"GAME SIMULATION\",\"GAME SIMULATION\",\"GAME SIMULATION\",\"GAME SIMULATION\",\"GAME SIMULATION\",\"GAME SIMULATION\",\"GAME SIMULATION\",\"GAME SIMULATION\",\"GAME SIMULATION\",\"GAME SIMULATION\",\"GAME SIMULATION\",\"GAME SIMULATION\",\"GAME SIMULATION\",\"GAME SIMULATION\",\"GAME SIMULATION\",\"GAME SIMULATION\",\"GAME SIMULATION\",\"GAME SIMULATION\",\"GAME SIMULATION\",\"GAME SIMULATION\",\"GAME SIMULATION\",\"GAME SIMULATION\",\"GAME SIMULATION\",\"GAME SIMULATION\",\"GAME SIMULATION\",\"GAME SIMULATION\",\"GAME SIMULATION\",\"GAME SIMULATION\",\"GAME SIMULATION\",\"GAME SIMULATION\",\"GAME SIMULATION\",\"GAME SIMULATION\",\"GAME SIMULATION\",\"GAME SIMULATION\",\"GAME SPORTS\",\"GAME SPORTS\",\"GAME SPORTS\",\"GAME SPORTS\",\"GAME SPORTS\",\"GAME SPORTS\",\"GAME SPORTS\",\"GAME SPORTS\",\"GAME SPORTS\",\"GAME SPORTS\",\"GAME SPORTS\",\"GAME SPORTS\",\"GAME SPORTS\",\"GAME SPORTS\",\"GAME SPORTS\",\"GAME SPORTS\",\"GAME SPORTS\",\"GAME SPORTS\",\"GAME SPORTS\",\"GAME SPORTS\",\"GAME SPORTS\",\"GAME SPORTS\",\"GAME SPORTS\",\"GAME SPORTS\",\"GAME SPORTS\",\"GAME SPORTS\",\"GAME SPORTS\",\"GAME SPORTS\",\"GAME SPORTS\",\"GAME SPORTS\",\"GAME SPORTS\",\"GAME SPORTS\",\"GAME SPORTS\",\"GAME SPORTS\",\"GAME SPORTS\",\"GAME SPORTS\",\"GAME SPORTS\",\"GAME SPORTS\",\"GAME SPORTS\",\"GAME SPORTS\",\"GAME SPORTS\",\"GAME SPORTS\",\"GAME SPORTS\",\"GAME SPORTS\",\"GAME SPORTS\",\"GAME SPORTS\",\"GAME SPORTS\",\"GAME SPORTS\",\"GAME SPORTS\",\"GAME SPORTS\",\"GAME SPORTS\",\"GAME SPORTS\",\"GAME SPORTS\",\"GAME SPORTS\",\"GAME SPORTS\",\"GAME SPORTS\",\"GAME SPORTS\",\"GAME SPORTS\",\"GAME SPORTS\",\"GAME SPORTS\",\"GAME SPORTS\",\"GAME SPORTS\",\"GAME SPORTS\",\"GAME SPORTS\",\"GAME SPORTS\",\"GAME SPORTS\",\"GAME SPORTS\",\"GAME SPORTS\",\"GAME SPORTS\",\"GAME SPORTS\",\"GAME SPORTS\",\"GAME SPORTS\",\"GAME SPORTS\",\"GAME SPORTS\",\"GAME SPORTS\",\"GAME SPORTS\",\"GAME SPORTS\",\"GAME SPORTS\",\"GAME SPORTS\",\"GAME SPORTS\",\"GAME SPORTS\",\"GAME SPORTS\",\"GAME SPORTS\",\"GAME SPORTS\",\"GAME SPORTS\",\"GAME SPORTS\",\"GAME SPORTS\",\"GAME SPORTS\",\"GAME SPORTS\",\"GAME SPORTS\",\"GAME SPORTS\",\"GAME SPORTS\",\"GAME SPORTS\",\"GAME SPORTS\",\"GAME SPORTS\",\"GAME SPORTS\",\"GAME SPORTS\",\"GAME SPORTS\",\"GAME SPORTS\",\"GAME SPORTS\",\"GAME STRATEGY\",\"GAME STRATEGY\",\"GAME STRATEGY\",\"GAME STRATEGY\",\"GAME STRATEGY\",\"GAME STRATEGY\",\"GAME STRATEGY\",\"GAME STRATEGY\",\"GAME STRATEGY\",\"GAME STRATEGY\",\"GAME STRATEGY\",\"GAME STRATEGY\",\"GAME STRATEGY\",\"GAME STRATEGY\",\"GAME STRATEGY\",\"GAME STRATEGY\",\"GAME STRATEGY\",\"GAME STRATEGY\",\"GAME STRATEGY\",\"GAME STRATEGY\",\"GAME STRATEGY\",\"GAME STRATEGY\",\"GAME STRATEGY\",\"GAME STRATEGY\",\"GAME STRATEGY\",\"GAME STRATEGY\",\"GAME STRATEGY\",\"GAME STRATEGY\",\"GAME STRATEGY\",\"GAME STRATEGY\",\"GAME STRATEGY\",\"GAME STRATEGY\",\"GAME STRATEGY\",\"GAME STRATEGY\",\"GAME STRATEGY\",\"GAME STRATEGY\",\"GAME STRATEGY\",\"GAME STRATEGY\",\"GAME STRATEGY\",\"GAME STRATEGY\",\"GAME STRATEGY\",\"GAME STRATEGY\",\"GAME STRATEGY\",\"GAME STRATEGY\",\"GAME STRATEGY\",\"GAME STRATEGY\",\"GAME STRATEGY\",\"GAME STRATEGY\",\"GAME STRATEGY\",\"GAME STRATEGY\",\"GAME STRATEGY\",\"GAME STRATEGY\",\"GAME STRATEGY\",\"GAME STRATEGY\",\"GAME STRATEGY\",\"GAME STRATEGY\",\"GAME STRATEGY\",\"GAME STRATEGY\",\"GAME STRATEGY\",\"GAME STRATEGY\",\"GAME STRATEGY\",\"GAME STRATEGY\",\"GAME STRATEGY\",\"GAME STRATEGY\",\"GAME STRATEGY\",\"GAME STRATEGY\",\"GAME STRATEGY\",\"GAME STRATEGY\",\"GAME STRATEGY\",\"GAME STRATEGY\",\"GAME STRATEGY\",\"GAME STRATEGY\",\"GAME STRATEGY\",\"GAME STRATEGY\",\"GAME STRATEGY\",\"GAME STRATEGY\",\"GAME STRATEGY\",\"GAME STRATEGY\",\"GAME STRATEGY\",\"GAME STRATEGY\",\"GAME STRATEGY\",\"GAME STRATEGY\",\"GAME STRATEGY\",\"GAME STRATEGY\",\"GAME STRATEGY\",\"GAME STRATEGY\",\"GAME STRATEGY\",\"GAME STRATEGY\",\"GAME STRATEGY\",\"GAME STRATEGY\",\"GAME STRATEGY\",\"GAME STRATEGY\",\"GAME STRATEGY\",\"GAME STRATEGY\",\"GAME STRATEGY\",\"GAME STRATEGY\",\"GAME STRATEGY\",\"GAME STRATEGY\",\"GAME STRATEGY\",\"GAME STRATEGY\",\"GAME TRIVIA\",\"GAME TRIVIA\",\"GAME TRIVIA\",\"GAME TRIVIA\",\"GAME TRIVIA\",\"GAME TRIVIA\",\"GAME TRIVIA\",\"GAME TRIVIA\",\"GAME TRIVIA\",\"GAME TRIVIA\",\"GAME TRIVIA\",\"GAME TRIVIA\",\"GAME TRIVIA\",\"GAME TRIVIA\",\"GAME TRIVIA\",\"GAME TRIVIA\",\"GAME TRIVIA\",\"GAME TRIVIA\",\"GAME TRIVIA\",\"GAME TRIVIA\",\"GAME TRIVIA\",\"GAME TRIVIA\",\"GAME TRIVIA\",\"GAME TRIVIA\",\"GAME TRIVIA\",\"GAME TRIVIA\",\"GAME TRIVIA\",\"GAME TRIVIA\",\"GAME TRIVIA\",\"GAME TRIVIA\",\"GAME TRIVIA\",\"GAME TRIVIA\",\"GAME TRIVIA\",\"GAME TRIVIA\",\"GAME TRIVIA\",\"GAME TRIVIA\",\"GAME TRIVIA\",\"GAME TRIVIA\",\"GAME TRIVIA\",\"GAME TRIVIA\",\"GAME TRIVIA\",\"GAME TRIVIA\",\"GAME TRIVIA\",\"GAME TRIVIA\",\"GAME TRIVIA\",\"GAME TRIVIA\",\"GAME TRIVIA\",\"GAME TRIVIA\",\"GAME TRIVIA\",\"GAME TRIVIA\",\"GAME TRIVIA\",\"GAME TRIVIA\",\"GAME TRIVIA\",\"GAME TRIVIA\",\"GAME TRIVIA\",\"GAME TRIVIA\",\"GAME TRIVIA\",\"GAME TRIVIA\",\"GAME TRIVIA\",\"GAME TRIVIA\",\"GAME TRIVIA\",\"GAME TRIVIA\",\"GAME TRIVIA\",\"GAME TRIVIA\",\"GAME TRIVIA\",\"GAME TRIVIA\",\"GAME TRIVIA\",\"GAME TRIVIA\",\"GAME TRIVIA\",\"GAME TRIVIA\",\"GAME TRIVIA\",\"GAME TRIVIA\",\"GAME TRIVIA\",\"GAME TRIVIA\",\"GAME TRIVIA\",\"GAME TRIVIA\",\"GAME TRIVIA\",\"GAME TRIVIA\",\"GAME TRIVIA\",\"GAME TRIVIA\",\"GAME TRIVIA\",\"GAME TRIVIA\",\"GAME TRIVIA\",\"GAME TRIVIA\",\"GAME TRIVIA\",\"GAME TRIVIA\",\"GAME TRIVIA\",\"GAME TRIVIA\",\"GAME TRIVIA\",\"GAME TRIVIA\",\"GAME TRIVIA\",\"GAME TRIVIA\",\"GAME TRIVIA\",\"GAME TRIVIA\",\"GAME TRIVIA\",\"GAME TRIVIA\",\"GAME TRIVIA\",\"GAME TRIVIA\",\"GAME TRIVIA\",\"GAME TRIVIA\",\"GAME WORD\",\"GAME WORD\",\"GAME WORD\",\"GAME WORD\",\"GAME WORD\",\"GAME WORD\",\"GAME WORD\",\"GAME WORD\",\"GAME WORD\",\"GAME WORD\",\"GAME WORD\",\"GAME WORD\",\"GAME WORD\",\"GAME WORD\",\"GAME WORD\",\"GAME WORD\",\"GAME WORD\",\"GAME WORD\",\"GAME WORD\",\"GAME WORD\",\"GAME WORD\",\"GAME WORD\",\"GAME WORD\",\"GAME WORD\",\"GAME WORD\",\"GAME WORD\",\"GAME WORD\",\"GAME WORD\",\"GAME WORD\",\"GAME WORD\",\"GAME WORD\",\"GAME WORD\",\"GAME WORD\",\"GAME WORD\",\"GAME WORD\",\"GAME WORD\",\"GAME WORD\",\"GAME WORD\",\"GAME WORD\",\"GAME WORD\",\"GAME WORD\",\"GAME WORD\",\"GAME WORD\",\"GAME WORD\",\"GAME WORD\",\"GAME WORD\",\"GAME WORD\",\"GAME WORD\",\"GAME WORD\",\"GAME WORD\",\"GAME WORD\",\"GAME WORD\",\"GAME WORD\",\"GAME WORD\",\"GAME WORD\",\"GAME WORD\",\"GAME WORD\",\"GAME WORD\",\"GAME WORD\",\"GAME WORD\",\"GAME WORD\",\"GAME WORD\",\"GAME WORD\",\"GAME WORD\",\"GAME WORD\",\"GAME WORD\",\"GAME WORD\",\"GAME WORD\",\"GAME WORD\",\"GAME WORD\",\"GAME WORD\",\"GAME WORD\",\"GAME WORD\",\"GAME WORD\",\"GAME WORD\",\"GAME WORD\",\"GAME WORD\",\"GAME WORD\",\"GAME WORD\",\"GAME WORD\",\"GAME WORD\",\"GAME WORD\",\"GAME WORD\",\"GAME WORD\",\"GAME WORD\",\"GAME WORD\",\"GAME WORD\",\"GAME WORD\",\"GAME WORD\",\"GAME WORD\",\"GAME WORD\",\"GAME WORD\",\"GAME WORD\",\"GAME WORD\",\"GAME WORD\",\"GAME WORD\",\"GAME WORD\",\"GAME WORD\",\"GAME WORD\",\"GAME WORD\",\"GAME WORD\",\"GAME WORD\",\"GAME WORD\",\"GAME WORD\"],\"xaxis\":\"x\",\"yaxis\":\"y\"}],                        {\"barmode\":\"relative\",\"legend\":{\"tracegroupgap\":0},\"template\":{\"data\":{\"bar\":[{\"error_x\":{\"color\":\"#2a3f5f\"},\"error_y\":{\"color\":\"#2a3f5f\"},\"marker\":{\"line\":{\"color\":\"#E5ECF6\",\"width\":0.5},\"pattern\":{\"fillmode\":\"overlay\",\"size\":10,\"solidity\":0.2}},\"type\":\"bar\"}],\"barpolar\":[{\"marker\":{\"line\":{\"color\":\"#E5ECF6\",\"width\":0.5},\"pattern\":{\"fillmode\":\"overlay\",\"size\":10,\"solidity\":0.2}},\"type\":\"barpolar\"}],\"carpet\":[{\"aaxis\":{\"endlinecolor\":\"#2a3f5f\",\"gridcolor\":\"white\",\"linecolor\":\"white\",\"minorgridcolor\":\"white\",\"startlinecolor\":\"#2a3f5f\"},\"baxis\":{\"endlinecolor\":\"#2a3f5f\",\"gridcolor\":\"white\",\"linecolor\":\"white\",\"minorgridcolor\":\"white\",\"startlinecolor\":\"#2a3f5f\"},\"type\":\"carpet\"}],\"choropleth\":[{\"colorbar\":{\"outlinewidth\":0,\"ticks\":\"\"},\"type\":\"choropleth\"}],\"contour\":[{\"colorbar\":{\"outlinewidth\":0,\"ticks\":\"\"},\"colorscale\":[[0.0,\"#0d0887\"],[0.1111111111111111,\"#46039f\"],[0.2222222222222222,\"#7201a8\"],[0.3333333333333333,\"#9c179e\"],[0.4444444444444444,\"#bd3786\"],[0.5555555555555556,\"#d8576b\"],[0.6666666666666666,\"#ed7953\"],[0.7777777777777778,\"#fb9f3a\"],[0.8888888888888888,\"#fdca26\"],[1.0,\"#f0f921\"]],\"type\":\"contour\"}],\"contourcarpet\":[{\"colorbar\":{\"outlinewidth\":0,\"ticks\":\"\"},\"type\":\"contourcarpet\"}],\"heatmap\":[{\"colorbar\":{\"outlinewidth\":0,\"ticks\":\"\"},\"colorscale\":[[0.0,\"#0d0887\"],[0.1111111111111111,\"#46039f\"],[0.2222222222222222,\"#7201a8\"],[0.3333333333333333,\"#9c179e\"],[0.4444444444444444,\"#bd3786\"],[0.5555555555555556,\"#d8576b\"],[0.6666666666666666,\"#ed7953\"],[0.7777777777777778,\"#fb9f3a\"],[0.8888888888888888,\"#fdca26\"],[1.0,\"#f0f921\"]],\"type\":\"heatmap\"}],\"heatmapgl\":[{\"colorbar\":{\"outlinewidth\":0,\"ticks\":\"\"},\"colorscale\":[[0.0,\"#0d0887\"],[0.1111111111111111,\"#46039f\"],[0.2222222222222222,\"#7201a8\"],[0.3333333333333333,\"#9c179e\"],[0.4444444444444444,\"#bd3786\"],[0.5555555555555556,\"#d8576b\"],[0.6666666666666666,\"#ed7953\"],[0.7777777777777778,\"#fb9f3a\"],[0.8888888888888888,\"#fdca26\"],[1.0,\"#f0f921\"]],\"type\":\"heatmapgl\"}],\"histogram\":[{\"marker\":{\"pattern\":{\"fillmode\":\"overlay\",\"size\":10,\"solidity\":0.2}},\"type\":\"histogram\"}],\"histogram2d\":[{\"colorbar\":{\"outlinewidth\":0,\"ticks\":\"\"},\"colorscale\":[[0.0,\"#0d0887\"],[0.1111111111111111,\"#46039f\"],[0.2222222222222222,\"#7201a8\"],[0.3333333333333333,\"#9c179e\"],[0.4444444444444444,\"#bd3786\"],[0.5555555555555556,\"#d8576b\"],[0.6666666666666666,\"#ed7953\"],[0.7777777777777778,\"#fb9f3a\"],[0.8888888888888888,\"#fdca26\"],[1.0,\"#f0f921\"]],\"type\":\"histogram2d\"}],\"histogram2dcontour\":[{\"colorbar\":{\"outlinewidth\":0,\"ticks\":\"\"},\"colorscale\":[[0.0,\"#0d0887\"],[0.1111111111111111,\"#46039f\"],[0.2222222222222222,\"#7201a8\"],[0.3333333333333333,\"#9c179e\"],[0.4444444444444444,\"#bd3786\"],[0.5555555555555556,\"#d8576b\"],[0.6666666666666666,\"#ed7953\"],[0.7777777777777778,\"#fb9f3a\"],[0.8888888888888888,\"#fdca26\"],[1.0,\"#f0f921\"]],\"type\":\"histogram2dcontour\"}],\"mesh3d\":[{\"colorbar\":{\"outlinewidth\":0,\"ticks\":\"\"},\"type\":\"mesh3d\"}],\"parcoords\":[{\"line\":{\"colorbar\":{\"outlinewidth\":0,\"ticks\":\"\"}},\"type\":\"parcoords\"}],\"pie\":[{\"automargin\":true,\"type\":\"pie\"}],\"scatter\":[{\"marker\":{\"colorbar\":{\"outlinewidth\":0,\"ticks\":\"\"}},\"type\":\"scatter\"}],\"scatter3d\":[{\"line\":{\"colorbar\":{\"outlinewidth\":0,\"ticks\":\"\"}},\"marker\":{\"colorbar\":{\"outlinewidth\":0,\"ticks\":\"\"}},\"type\":\"scatter3d\"}],\"scattercarpet\":[{\"marker\":{\"colorbar\":{\"outlinewidth\":0,\"ticks\":\"\"}},\"type\":\"scattercarpet\"}],\"scattergeo\":[{\"marker\":{\"colorbar\":{\"outlinewidth\":0,\"ticks\":\"\"}},\"type\":\"scattergeo\"}],\"scattergl\":[{\"marker\":{\"colorbar\":{\"outlinewidth\":0,\"ticks\":\"\"}},\"type\":\"scattergl\"}],\"scattermapbox\":[{\"marker\":{\"colorbar\":{\"outlinewidth\":0,\"ticks\":\"\"}},\"type\":\"scattermapbox\"}],\"scatterpolar\":[{\"marker\":{\"colorbar\":{\"outlinewidth\":0,\"ticks\":\"\"}},\"type\":\"scatterpolar\"}],\"scatterpolargl\":[{\"marker\":{\"colorbar\":{\"outlinewidth\":0,\"ticks\":\"\"}},\"type\":\"scatterpolargl\"}],\"scatterternary\":[{\"marker\":{\"colorbar\":{\"outlinewidth\":0,\"ticks\":\"\"}},\"type\":\"scatterternary\"}],\"surface\":[{\"colorbar\":{\"outlinewidth\":0,\"ticks\":\"\"},\"colorscale\":[[0.0,\"#0d0887\"],[0.1111111111111111,\"#46039f\"],[0.2222222222222222,\"#7201a8\"],[0.3333333333333333,\"#9c179e\"],[0.4444444444444444,\"#bd3786\"],[0.5555555555555556,\"#d8576b\"],[0.6666666666666666,\"#ed7953\"],[0.7777777777777778,\"#fb9f3a\"],[0.8888888888888888,\"#fdca26\"],[1.0,\"#f0f921\"]],\"type\":\"surface\"}],\"table\":[{\"cells\":{\"fill\":{\"color\":\"#EBF0F8\"},\"line\":{\"color\":\"white\"}},\"header\":{\"fill\":{\"color\":\"#C8D4E3\"},\"line\":{\"color\":\"white\"}},\"type\":\"table\"}]},\"layout\":{\"annotationdefaults\":{\"arrowcolor\":\"#2a3f5f\",\"arrowhead\":0,\"arrowwidth\":1},\"autotypenumbers\":\"strict\",\"coloraxis\":{\"colorbar\":{\"outlinewidth\":0,\"ticks\":\"\"}},\"colorscale\":{\"diverging\":[[0,\"#8e0152\"],[0.1,\"#c51b7d\"],[0.2,\"#de77ae\"],[0.3,\"#f1b6da\"],[0.4,\"#fde0ef\"],[0.5,\"#f7f7f7\"],[0.6,\"#e6f5d0\"],[0.7,\"#b8e186\"],[0.8,\"#7fbc41\"],[0.9,\"#4d9221\"],[1,\"#276419\"]],\"sequential\":[[0.0,\"#0d0887\"],[0.1111111111111111,\"#46039f\"],[0.2222222222222222,\"#7201a8\"],[0.3333333333333333,\"#9c179e\"],[0.4444444444444444,\"#bd3786\"],[0.5555555555555556,\"#d8576b\"],[0.6666666666666666,\"#ed7953\"],[0.7777777777777778,\"#fb9f3a\"],[0.8888888888888888,\"#fdca26\"],[1.0,\"#f0f921\"]],\"sequentialminus\":[[0.0,\"#0d0887\"],[0.1111111111111111,\"#46039f\"],[0.2222222222222222,\"#7201a8\"],[0.3333333333333333,\"#9c179e\"],[0.4444444444444444,\"#bd3786\"],[0.5555555555555556,\"#d8576b\"],[0.6666666666666666,\"#ed7953\"],[0.7777777777777778,\"#fb9f3a\"],[0.8888888888888888,\"#fdca26\"],[1.0,\"#f0f921\"]]},\"colorway\":[\"#636efa\",\"#EF553B\",\"#00cc96\",\"#ab63fa\",\"#FFA15A\",\"#19d3f3\",\"#FF6692\",\"#B6E880\",\"#FF97FF\",\"#FECB52\"],\"font\":{\"color\":\"#2a3f5f\"},\"geo\":{\"bgcolor\":\"white\",\"lakecolor\":\"white\",\"landcolor\":\"#E5ECF6\",\"showlakes\":true,\"showland\":true,\"subunitcolor\":\"white\"},\"hoverlabel\":{\"align\":\"left\"},\"hovermode\":\"closest\",\"mapbox\":{\"style\":\"light\"},\"paper_bgcolor\":\"white\",\"plot_bgcolor\":\"#E5ECF6\",\"polar\":{\"angularaxis\":{\"gridcolor\":\"white\",\"linecolor\":\"white\",\"ticks\":\"\"},\"bgcolor\":\"#E5ECF6\",\"radialaxis\":{\"gridcolor\":\"white\",\"linecolor\":\"white\",\"ticks\":\"\"}},\"scene\":{\"xaxis\":{\"backgroundcolor\":\"#E5ECF6\",\"gridcolor\":\"white\",\"gridwidth\":2,\"linecolor\":\"white\",\"showbackground\":true,\"ticks\":\"\",\"zerolinecolor\":\"white\"},\"yaxis\":{\"backgroundcolor\":\"#E5ECF6\",\"gridcolor\":\"white\",\"gridwidth\":2,\"linecolor\":\"white\",\"showbackground\":true,\"ticks\":\"\",\"zerolinecolor\":\"white\"},\"zaxis\":{\"backgroundcolor\":\"#E5ECF6\",\"gridcolor\":\"white\",\"gridwidth\":2,\"linecolor\":\"white\",\"showbackground\":true,\"ticks\":\"\",\"zerolinecolor\":\"white\"}},\"shapedefaults\":{\"line\":{\"color\":\"#2a3f5f\"}},\"ternary\":{\"aaxis\":{\"gridcolor\":\"white\",\"linecolor\":\"white\",\"ticks\":\"\"},\"baxis\":{\"gridcolor\":\"white\",\"linecolor\":\"white\",\"ticks\":\"\"},\"bgcolor\":\"#E5ECF6\",\"caxis\":{\"gridcolor\":\"white\",\"linecolor\":\"white\",\"ticks\":\"\"}},\"title\":{\"x\":0.05},\"xaxis\":{\"automargin\":true,\"gridcolor\":\"white\",\"linecolor\":\"white\",\"ticks\":\"\",\"title\":{\"standoff\":15},\"zerolinecolor\":\"white\",\"zerolinewidth\":2},\"yaxis\":{\"automargin\":true,\"gridcolor\":\"white\",\"linecolor\":\"white\",\"ticks\":\"\",\"title\":{\"standoff\":15},\"zerolinecolor\":\"white\",\"zerolinewidth\":2}}},\"title\":{\"text\":\"Categorias de Juegos\"},\"xaxis\":{\"anchor\":\"y\",\"categoryorder\":\"total descending\",\"domain\":[0.0,1.0],\"title\":{\"text\":\"category\"}},\"yaxis\":{\"anchor\":\"x\",\"domain\":[0.0,1.0],\"title\":{\"text\":\"count\"}}},                        {\"responsive\": true}                    ).then(function(){\n                            \nvar gd = document.getElementById('f817406c-2bc9-4fab-ad7f-5ead096b6606');\nvar x = new MutationObserver(function (mutations, observer) {{\n        var display = window.getComputedStyle(gd).display;\n        if (!display || display === 'none') {{\n            console.log([gd, 'removed!']);\n            Plotly.purge(gd);\n            observer.disconnect();\n        }}\n}});\n\n// Listen for the removal of the full notebook cells\nvar notebookContainer = gd.closest('#notebook-container');\nif (notebookContainer) {{\n    x.observe(notebookContainer, {childList: true});\n}}\n\n// Listen for the clearing of the current output cell\nvar outputEl = gd.closest('.output');\nif (outputEl) {{\n    x.observe(outputEl, {childList: true});\n}}\n\n                        })                };                            </script>        </div>\n</body>\n</html>"
     },
     "metadata": {},
     "output_type": "display_data"
    }
   ]
  },
  {
   "cell_type": "markdown",
   "source": "## Top Ratings",
   "metadata": {
    "tags": [],
    "cell_id": "00015-e16d9960-45cc-4a22-9193-e2887213f2f3",
    "deepnote_cell_type": "markdown"
   }
  },
  {
   "cell_type": "code",
   "metadata": {
    "tags": [],
    "cell_id": "00006-9d305548-0d83-4b8e-a696-a2cdfa1f79e7",
    "deepnote_to_be_reexecuted": false,
    "source_hash": "9bf5e85e",
    "execution_start": 1626919035462,
    "execution_millis": 6,
    "deepnote_cell_type": "code"
   },
   "source": "df['total_ratings'].describe(include='all')",
   "execution_count": 11,
   "outputs": [
    {
     "output_type": "execute_result",
     "execution_count": 11,
     "data": {
      "text/plain": "count    1.730000e+03\nmean     1.064332e+06\nstd      3.429250e+06\nmin      3.299300e+04\n25%      1.759992e+05\n50%      4.286065e+05\n75%      8.837970e+05\nmax      8.627313e+07\nName: total_ratings, dtype: float64"
     },
     "metadata": {}
    }
   ]
  },
  {
   "cell_type": "code",
   "metadata": {
    "tags": [],
    "cell_id": "00006-d6d0548c-b6e1-4a8c-b75f-da93114a3b15",
    "deepnote_to_be_reexecuted": false,
    "source_hash": "5d2053fe",
    "execution_start": 1626919035463,
    "execution_millis": 66,
    "deepnote_cell_type": "code"
   },
   "source": "fig = px.histogram(df, x= 'total_ratings', title='Total Ratings sobre los Juegos')\nfig.show()",
   "execution_count": 12,
   "outputs": [
    {
     "data": {
      "text/html": "<html>\n<head><meta charset=\"utf-8\" /></head>\n<body>\n    <div>            <script src=\"https://cdnjs.cloudflare.com/ajax/libs/mathjax/2.7.5/MathJax.js?config=TeX-AMS-MML_SVG\"></script><script type=\"text/javascript\">if (window.MathJax) {MathJax.Hub.Config({SVG: {font: \"STIX-Web\"}});}</script>                <script type=\"text/javascript\">window.PlotlyConfig = {MathJaxConfig: 'local'};</script>\n        <script src=\"https://cdn.plot.ly/plotly-2.2.0.min.js\"></script>                <div id=\"383e1664-0b6b-4f10-a1e8-7fca0ae0c590\" class=\"plotly-graph-div\" style=\"height:525px; width:100%;\"></div>            <script type=\"text/javascript\">                                    window.PLOTLYENV=window.PLOTLYENV || {};                                    if (document.getElementById(\"383e1664-0b6b-4f10-a1e8-7fca0ae0c590\")) {                    Plotly.newPlot(                        \"383e1664-0b6b-4f10-a1e8-7fca0ae0c590\",                        [{\"alignmentgroup\":\"True\",\"bingroup\":\"x\",\"hovertemplate\":\"total_ratings=%{x}<br>count=%{y}<extra></extra>\",\"legendgroup\":\"\",\"marker\":{\"color\":\"#636efa\",\"pattern\":{\"shape\":\"\"}},\"name\":\"\",\"offsetgroup\":\"\",\"orientation\":\"v\",\"showlegend\":false,\"type\":\"histogram\",\"x\":[86273129,37276732,26663595,17971552,14464235,13572148,11936964,9633929,7578630,6268377,5681934,5471344,4801658,4710639,4564398,4496723,4464668,4221389,4215808,4159837,4112075,3987062,3516024,3213257,3195503,3140510,3133361,2695923,2670589,2540439,2472561,2380639,2365838,2271977,2131549,2100984,2083413,2006745,1985016,1949497,1860814,1846221,1823477,1796325,1714060,1656299,1642589,1607897,1599244,1583866,1576576,1542169,1495507,1481552,1457639,1396630,1344699,1301440,1291305,1258805,1254295,1238228,1227050,1216126,1196490,1166709,1161701,1134127,1129645,1073769,1070197,1066554,1023162,998677,996586,992742,974789,963507,907609,900069,875257,875065,864581,809654,809487,808331,800432,799866,799114,794575,792071,788653,777188,771254,764042,756002,748945,727627,718905,703514,21820451,14541662,4273420,2544322,2258595,2078458,2016845,1585186,1550978,1434245,1279866,1164984,1096282,1014301,1008075,892542,830121,822854,753449,734291,728187,677145,668761,653025,637160,625580,554454,549049,545166,532248,530520,526594,505541,495725,491846,486767,476258,443044,442542,434780,428566,394199,376854,373672,347489,342940,340647,326203,326177,321154,320317,317393,316902,316484,315349,310393,302458,299697,276333,269887,267176,248376,245912,244108,241766,237178,236968,236324,235190,232238,228860,228093,220878,220154,214038,212099,209326,205339,202932,198913,196731,195798,192892,187523,184387,184296,181431,176486,174281,173009,167371,166142,165363,164143,164000,162534,159801,155657,155193,154835,35665901,7202013,6960814,5903477,5402149,5367599,4919742,4816448,4565220,4100452,3398125,3290970,2858076,2342083,2222817,2156973,2096404,2062961,1988570,1910010,1900382,1858504,1793741,1735909,1679572,1573012,1564855,1493740,1471629,1470166,1458849,1340841,1337580,1254191,1215112,1205884,1188910,1153022,1136712,1132730,1102273,1089029,1082604,1079670,1079537,1066764,1042160,1040051,988381,955594,949510,926298,923982,903937,883825,878563,860147,827611,791425,784985,777941,752635,715951,693956,690642,662256,660553,656039,636293,626542,621232,620257,609853,588562,581821,572863,561461,556766,541549,532569,532176,509654,506876,497484,476858,473706,470099,467497,466518,460549,458684,449205,448716,447522,446946,441188,438162,429256,426000,418663,7512316,2516777,2430531,2131083,1590460,1578022,1283404,1273770,1245352,1062798,788064,769196,615530,598584,597656,575124,567662,554532,482155,470850,467655,466525,447613,404907,402345,391135,356365,353244,351361,335347,313765,312477,303060,295628,282866,277062,276518,267286,264663,263074,261799,257492,256773,256158,242006,237706,228476,221378,221279,219916,207685,206953,200804,199569,193778,190736,189798,183337,183016,175837,175718,173571,169696,162936,160744,158521,151671,151004,149633,141110,140706,138105,134398,131464,126466,122235,116322,111670,111627,111431,109162,104859,104158,103101,102300,100639,100315,99283,97958,96841,95383,94264,93977,92835,92620,92362,91738,89195,82144,80887,2113853,1765570,1590733,1590733,1590733,1590733,1418398,1120832,1069313,926432,881563,654922,648068,648068,648068,648068,561518,533216,507250,507250,507250,507250,501154,494492,485069,469770,467621,406124,406124,406124,406124,374842,353226,350853,337505,325427,321884,320403,313503,311834,305751,290160,281352,265004,263341,245912,240095,232276,230415,211163,208319,205537,202598,200923,194946,191804,178476,177098,174545,172895,172895,172895,170875,170181,164757,164757,164757,163771,157757,157757,157757,155922,155644,154738,153690,152145,150087,146718,145613,145481,143615,142577,140758,140758,138755,137405,136367,127654,127104,126880,125561,125561,124281,121295,116379,115102,113870,113663,113566,111394,109280,109069,107962,107933,107183,106773,106773,106773,106689,103958,103945,102434,102434,102434,101659,100719,98872,98872,98872,97299,97018,94069,91698,90695,90585,88866,2582669,1822223,1529589,1494419,1485440,1418336,1259099,1006982,925068,755734,664469,649856,617349,616294,583815,556639,544905,493071,485882,482246,477132,455282,431936,423010,422035,401912,394704,392274,377401,367694,351166,343727,333168,318101,316679,313214,312113,306937,306128,292630,272892,272095,266126,265946,264556,258755,215021,211680,211511,208279,207326,204371,189656,183628,179520,179001,177051,174066,173372,172651,172200,170510,154112,146663,145635,142948,141345,140882,139860,138883,131646,126322,125918,123277,122801,120434,117668,116891,116673,112869,107509,107253,103380,102352,100479,99465,99082,97488,94814,94628,92912,90370,90110,89886,87528,87102,86366,85258,84646,83313,31367945,16810315,13050503,12098786,11506051,10721875,10659387,10159890,9123920,8306868,8071775,6964142,5768595,5720687,4170408,4079806,3617773,2954685,2914639,2264014,2154956,2091145,2001718,1898651,1876427,1782012,1683260,1627243,1503412,1432166,1431962,1378621,1326867,1222505,1218003,1135695,1131205,1099997,1009374,978460,952348,941133,939577,924595,921224,910777,881816,880964,875343,865040,847777,781393,777217,752953,712766,685365,679330,670105,665838,659139,655486,652820,649699,636439,627963,627042,605422,603781,602123,592625,570955,568174,567668,556525,540665,539618,532119,526404,521999,513273,510146,497556,487206,476520,475705,469274,462861,462460,458766,444080,442100,430459,428132,414428,405505,385882,381919,378085,373522,370755,1690405,1543998,758930,571355,519854,469665,440099,335602,299512,229515,210406,204816,201926,191141,188628,185082,177900,164764,161896,158721,155279,152780,147633,146101,145347,142128,141681,138294,135433,132854,129911,128528,123262,121977,116243,106074,103248,102219,102168,101418,94157,91946,91542,90720,90184,89570,88278,85437,83994,81628,81135,79583,79263,78145,76981,76498,75435,75270,75082,73407,72164,70614,69285,68066,67910,66241,66160,66057,65669,63887,63873,63384,62792,62564,62194,61993,60889,60654,59598,57537,56865,56525,56416,56154,55294,55114,55006,54400,54217,54205,53535,53039,51944,51903,51861,51687,51547,51002,50931,49811,2454558,2381045,1363013,1280824,665818,664703,640085,608905,571244,552415,407001,403074,388495,372516,363476,296208,273983,253894,240014,239452,237878,230317,217878,208186,202039,189580,185412,167310,166382,164622,161111,152996,151011,149674,139058,138709,130606,130471,127314,123653,114600,113827,112810,111679,108187,107328,105984,104261,102536,102133,97355,95540,87197,87091,86693,83342,82629,71117,71008,69242,68321,67388,65897,65210,64028,60920,56963,56107,55578,55357,55015,54079,53791,53142,52940,50867,48198,48107,47959,47171,46210,45842,45178,45003,43497,43124,42881,42763,41521,40370,40192,38912,37291,36046,35324,34781,34434,34140,33173,32993,4876844,4467655,3222428,2941258,2514879,2301209,2151126,2107067,2065276,1951302,1713085,1704670,1701889,1652333,1561049,1557099,1455893,1361162,1265308,1232582,1210485,1198499,1160505,1160229,1110248,1104361,1065264,1039836,998983,997666,975608,968677,944709,941228,924459,884220,819672,754345,735564,721199,701845,701221,699239,694965,685364,673835,669939,661430,649024,643644,608546,596554,594490,584124,571570,570345,565614,554434,550425,547548,546820,541211,540007,530612,528900,521894,520896,518428,512643,510656,509754,502640,499265,491439,490970,489067,485621,481615,470475,466759,464014,463260,462036,460315,459320,453317,451860,440665,420325,414811,414626,414430,407062,403195,402599,398873,390519,384115,383236,377015,10188038,7580227,6062833,6062304,4507290,4476329,3870456,3612756,2962468,2490517,2221285,2178512,2098500,1848375,1781295,1618815,1555939,1516846,1471540,1463492,1446238,1415418,1364891,1297337,1219865,1119800,1109569,1100694,924106,899964,895239,883713,851386,849317,847739,780720,735549,725551,724219,713034,707004,699303,682124,654903,635669,630972,619717,611439,577754,577204,559157,558462,549630,513359,508166,503879,466732,464730,445846,430550,426246,423514,419851,414528,412241,407995,388123,386128,380849,365649,350249,349416,337837,334069,330803,318474,315332,312017,310589,309939,308362,308175,303913,297540,294097,293250,288581,285522,284892,284450,283592,283127,282063,281848,281769,280605,280243,273705,272721,271610,3170246,3126336,3105550,2651253,2650536,2374967,1710440,1493476,1475764,1424463,1363701,1344784,1311495,1193550,1130195,937102,914423,910412,898630,887982,880376,825827,765525,758951,732372,705186,687214,667980,666442,644802,632926,612572,597411,594700,572359,569162,558013,556175,553833,547967,538673,524462,518434,516540,514023,513522,504968,503826,503643,494101,490756,487726,474469,467209,464201,463791,459149,433067,423249,418992,414159,413804,409319,406697,398449,395402,393787,393183,386821,382714,380907,373793,371730,371644,368592,366341,364398,362652,361987,358237,357910,351850,340801,334232,332270,328319,327986,324192,320930,317023,313301,311126,302340,300651,297438,293945,284337,281603,281148,280566,5541105,5213933,3622549,3519405,3420152,2763325,2233572,1917203,1652561,1583634,1487303,1421165,1389243,1367006,1353453,1319464,1264769,1243436,1218642,1216891,1210916,1160646,1055152,1053098,1004304,999846,976872,961095,955109,945807,931389,913357,882690,880659,841432,813912,796153,765250,758948,740483,734122,709426,708938,704695,683592,671111,664240,651287,648290,643497,641259,640012,624634,620435,609547,607477,604400,593269,572365,555485,552049,543795,502248,501382,495240,490931,482519,469556,461516,460207,459870,452939,447230,444868,440328,438497,436857,425415,424389,423346,421173,419193,416810,408005,404733,402206,392903,392700,390139,385639,382940,382650,379532,377596,376552,371385,370084,369586,367616,365531,21632735,13385786,6856324,6633030,4721659,3181731,3161007,2999325,2968290,2935299,2651825,2284366,2243246,2010215,1993891,1990469,1853563,1753364,1687621,1631259,1477201,1375149,1269327,1245413,1240874,1223330,1173980,1171064,1090511,1028795,1013587,955057,911473,907290,898768,882096,830720,800381,791739,764961,763809,741513,735171,731621,709937,706812,701459,643614,609649,609296,606187,574059,560180,535002,525279,523056,498485,498367,496476,457537,456387,455149,452591,448601,446911,444198,428647,419893,413619,402390,393293,384096,379119,375089,368562,362339,356039,346518,338202,335702,327608,327381,312534,305429,301571,288957,276833,276082,272380,269937,266048,265926,264519,261197,258454,254590,252130,251087,245430,243214,55766763,30852360,6548519,6055738,5164307,5013543,3687571,3671736,3342006,3120219,2317500,2120051,1997631,1823903,1727242,1709263,1651636,1526081,1492534,1451408,1319150,1311005,1296343,1272102,1225321,1006180,993926,990104,981368,929429,905021,897313,896950,874080,853029,830008,828238,796172,780016,762869,757664,722453,696205,676749,635321,602797,569186,568510,562637,544851,524835,501511,496584,495783,494150,486733,485836,457050,447416,422883,421429,420713,419861,411981,410590,403144,399706,398705,398659,389030,386714,384682,369562,366186,362447,360216,347182,346748,340261,338283,333150,331561,331178,330020,324991,319868,318917,318209,308480,305701,297722,293059,289334,285623,280494,278920,276534,274882,272243,272201,7334155,4145089,2614691,1183690,1098826,837271,688137,649922,423164,406864,379611,357020,344975,334779,330992,289425,282642,279589,216643,211433,189577,181338,172772,172586,169372,166714,166160,166022,163509,163390,157252,155287,152329,152275,151512,148685,143211,142859,134845,130488,124963,120834,116248,115459,115024,114009,113934,111963,109743,107915,107674,106920,98012,96670,94777,86335,82509,77624,77391,76857,76445,75729,75712,75135,72097,67251,66599,65681,65504,64624,62720,62009,61000,60074,57663,57326,56774,55313,54183,51951,50815,50002,49748,48813,47912,46162,45788,45359,45126,45047,44566,44016,43149,42776,42517,41756,41520,40744,40228,38376,2418119,2250585,1885400,1722914,1227499,1179329,989128,973750,959675,812635,776334,749320,736769,671436,644092,619037,594298,512584,501384,496119,487582,476458,469540,455543,455543,447182,444744,436327,427255,414385,390612,390612,390247,385276,383907,373807,362929,362457,356922,354330,327444,321011,316607,313263,304117,293234,290063,287827,283889,277485,264230,248190,245709,236235,235887,232803,228204,221349,218894,218842,214916,214864,214313,210662,191924,182995,182761,181110,178241,170069,169669,161543,161284,161284,160717,159344,157519,157049,153454,153087,151046,150279,149858,149858,149553,149422,146848,143930,136542,130077,129132,127293,127030,126774,124219,123095,121222,120533,115437,112408,111595,110723,109530,108917],\"xaxis\":\"x\",\"yaxis\":\"y\"}],                        {\"barmode\":\"relative\",\"legend\":{\"tracegroupgap\":0},\"template\":{\"data\":{\"bar\":[{\"error_x\":{\"color\":\"#2a3f5f\"},\"error_y\":{\"color\":\"#2a3f5f\"},\"marker\":{\"line\":{\"color\":\"#E5ECF6\",\"width\":0.5},\"pattern\":{\"fillmode\":\"overlay\",\"size\":10,\"solidity\":0.2}},\"type\":\"bar\"}],\"barpolar\":[{\"marker\":{\"line\":{\"color\":\"#E5ECF6\",\"width\":0.5},\"pattern\":{\"fillmode\":\"overlay\",\"size\":10,\"solidity\":0.2}},\"type\":\"barpolar\"}],\"carpet\":[{\"aaxis\":{\"endlinecolor\":\"#2a3f5f\",\"gridcolor\":\"white\",\"linecolor\":\"white\",\"minorgridcolor\":\"white\",\"startlinecolor\":\"#2a3f5f\"},\"baxis\":{\"endlinecolor\":\"#2a3f5f\",\"gridcolor\":\"white\",\"linecolor\":\"white\",\"minorgridcolor\":\"white\",\"startlinecolor\":\"#2a3f5f\"},\"type\":\"carpet\"}],\"choropleth\":[{\"colorbar\":{\"outlinewidth\":0,\"ticks\":\"\"},\"type\":\"choropleth\"}],\"contour\":[{\"colorbar\":{\"outlinewidth\":0,\"ticks\":\"\"},\"colorscale\":[[0.0,\"#0d0887\"],[0.1111111111111111,\"#46039f\"],[0.2222222222222222,\"#7201a8\"],[0.3333333333333333,\"#9c179e\"],[0.4444444444444444,\"#bd3786\"],[0.5555555555555556,\"#d8576b\"],[0.6666666666666666,\"#ed7953\"],[0.7777777777777778,\"#fb9f3a\"],[0.8888888888888888,\"#fdca26\"],[1.0,\"#f0f921\"]],\"type\":\"contour\"}],\"contourcarpet\":[{\"colorbar\":{\"outlinewidth\":0,\"ticks\":\"\"},\"type\":\"contourcarpet\"}],\"heatmap\":[{\"colorbar\":{\"outlinewidth\":0,\"ticks\":\"\"},\"colorscale\":[[0.0,\"#0d0887\"],[0.1111111111111111,\"#46039f\"],[0.2222222222222222,\"#7201a8\"],[0.3333333333333333,\"#9c179e\"],[0.4444444444444444,\"#bd3786\"],[0.5555555555555556,\"#d8576b\"],[0.6666666666666666,\"#ed7953\"],[0.7777777777777778,\"#fb9f3a\"],[0.8888888888888888,\"#fdca26\"],[1.0,\"#f0f921\"]],\"type\":\"heatmap\"}],\"heatmapgl\":[{\"colorbar\":{\"outlinewidth\":0,\"ticks\":\"\"},\"colorscale\":[[0.0,\"#0d0887\"],[0.1111111111111111,\"#46039f\"],[0.2222222222222222,\"#7201a8\"],[0.3333333333333333,\"#9c179e\"],[0.4444444444444444,\"#bd3786\"],[0.5555555555555556,\"#d8576b\"],[0.6666666666666666,\"#ed7953\"],[0.7777777777777778,\"#fb9f3a\"],[0.8888888888888888,\"#fdca26\"],[1.0,\"#f0f921\"]],\"type\":\"heatmapgl\"}],\"histogram\":[{\"marker\":{\"pattern\":{\"fillmode\":\"overlay\",\"size\":10,\"solidity\":0.2}},\"type\":\"histogram\"}],\"histogram2d\":[{\"colorbar\":{\"outlinewidth\":0,\"ticks\":\"\"},\"colorscale\":[[0.0,\"#0d0887\"],[0.1111111111111111,\"#46039f\"],[0.2222222222222222,\"#7201a8\"],[0.3333333333333333,\"#9c179e\"],[0.4444444444444444,\"#bd3786\"],[0.5555555555555556,\"#d8576b\"],[0.6666666666666666,\"#ed7953\"],[0.7777777777777778,\"#fb9f3a\"],[0.8888888888888888,\"#fdca26\"],[1.0,\"#f0f921\"]],\"type\":\"histogram2d\"}],\"histogram2dcontour\":[{\"colorbar\":{\"outlinewidth\":0,\"ticks\":\"\"},\"colorscale\":[[0.0,\"#0d0887\"],[0.1111111111111111,\"#46039f\"],[0.2222222222222222,\"#7201a8\"],[0.3333333333333333,\"#9c179e\"],[0.4444444444444444,\"#bd3786\"],[0.5555555555555556,\"#d8576b\"],[0.6666666666666666,\"#ed7953\"],[0.7777777777777778,\"#fb9f3a\"],[0.8888888888888888,\"#fdca26\"],[1.0,\"#f0f921\"]],\"type\":\"histogram2dcontour\"}],\"mesh3d\":[{\"colorbar\":{\"outlinewidth\":0,\"ticks\":\"\"},\"type\":\"mesh3d\"}],\"parcoords\":[{\"line\":{\"colorbar\":{\"outlinewidth\":0,\"ticks\":\"\"}},\"type\":\"parcoords\"}],\"pie\":[{\"automargin\":true,\"type\":\"pie\"}],\"scatter\":[{\"marker\":{\"colorbar\":{\"outlinewidth\":0,\"ticks\":\"\"}},\"type\":\"scatter\"}],\"scatter3d\":[{\"line\":{\"colorbar\":{\"outlinewidth\":0,\"ticks\":\"\"}},\"marker\":{\"colorbar\":{\"outlinewidth\":0,\"ticks\":\"\"}},\"type\":\"scatter3d\"}],\"scattercarpet\":[{\"marker\":{\"colorbar\":{\"outlinewidth\":0,\"ticks\":\"\"}},\"type\":\"scattercarpet\"}],\"scattergeo\":[{\"marker\":{\"colorbar\":{\"outlinewidth\":0,\"ticks\":\"\"}},\"type\":\"scattergeo\"}],\"scattergl\":[{\"marker\":{\"colorbar\":{\"outlinewidth\":0,\"ticks\":\"\"}},\"type\":\"scattergl\"}],\"scattermapbox\":[{\"marker\":{\"colorbar\":{\"outlinewidth\":0,\"ticks\":\"\"}},\"type\":\"scattermapbox\"}],\"scatterpolar\":[{\"marker\":{\"colorbar\":{\"outlinewidth\":0,\"ticks\":\"\"}},\"type\":\"scatterpolar\"}],\"scatterpolargl\":[{\"marker\":{\"colorbar\":{\"outlinewidth\":0,\"ticks\":\"\"}},\"type\":\"scatterpolargl\"}],\"scatterternary\":[{\"marker\":{\"colorbar\":{\"outlinewidth\":0,\"ticks\":\"\"}},\"type\":\"scatterternary\"}],\"surface\":[{\"colorbar\":{\"outlinewidth\":0,\"ticks\":\"\"},\"colorscale\":[[0.0,\"#0d0887\"],[0.1111111111111111,\"#46039f\"],[0.2222222222222222,\"#7201a8\"],[0.3333333333333333,\"#9c179e\"],[0.4444444444444444,\"#bd3786\"],[0.5555555555555556,\"#d8576b\"],[0.6666666666666666,\"#ed7953\"],[0.7777777777777778,\"#fb9f3a\"],[0.8888888888888888,\"#fdca26\"],[1.0,\"#f0f921\"]],\"type\":\"surface\"}],\"table\":[{\"cells\":{\"fill\":{\"color\":\"#EBF0F8\"},\"line\":{\"color\":\"white\"}},\"header\":{\"fill\":{\"color\":\"#C8D4E3\"},\"line\":{\"color\":\"white\"}},\"type\":\"table\"}]},\"layout\":{\"annotationdefaults\":{\"arrowcolor\":\"#2a3f5f\",\"arrowhead\":0,\"arrowwidth\":1},\"autotypenumbers\":\"strict\",\"coloraxis\":{\"colorbar\":{\"outlinewidth\":0,\"ticks\":\"\"}},\"colorscale\":{\"diverging\":[[0,\"#8e0152\"],[0.1,\"#c51b7d\"],[0.2,\"#de77ae\"],[0.3,\"#f1b6da\"],[0.4,\"#fde0ef\"],[0.5,\"#f7f7f7\"],[0.6,\"#e6f5d0\"],[0.7,\"#b8e186\"],[0.8,\"#7fbc41\"],[0.9,\"#4d9221\"],[1,\"#276419\"]],\"sequential\":[[0.0,\"#0d0887\"],[0.1111111111111111,\"#46039f\"],[0.2222222222222222,\"#7201a8\"],[0.3333333333333333,\"#9c179e\"],[0.4444444444444444,\"#bd3786\"],[0.5555555555555556,\"#d8576b\"],[0.6666666666666666,\"#ed7953\"],[0.7777777777777778,\"#fb9f3a\"],[0.8888888888888888,\"#fdca26\"],[1.0,\"#f0f921\"]],\"sequentialminus\":[[0.0,\"#0d0887\"],[0.1111111111111111,\"#46039f\"],[0.2222222222222222,\"#7201a8\"],[0.3333333333333333,\"#9c179e\"],[0.4444444444444444,\"#bd3786\"],[0.5555555555555556,\"#d8576b\"],[0.6666666666666666,\"#ed7953\"],[0.7777777777777778,\"#fb9f3a\"],[0.8888888888888888,\"#fdca26\"],[1.0,\"#f0f921\"]]},\"colorway\":[\"#636efa\",\"#EF553B\",\"#00cc96\",\"#ab63fa\",\"#FFA15A\",\"#19d3f3\",\"#FF6692\",\"#B6E880\",\"#FF97FF\",\"#FECB52\"],\"font\":{\"color\":\"#2a3f5f\"},\"geo\":{\"bgcolor\":\"white\",\"lakecolor\":\"white\",\"landcolor\":\"#E5ECF6\",\"showlakes\":true,\"showland\":true,\"subunitcolor\":\"white\"},\"hoverlabel\":{\"align\":\"left\"},\"hovermode\":\"closest\",\"mapbox\":{\"style\":\"light\"},\"paper_bgcolor\":\"white\",\"plot_bgcolor\":\"#E5ECF6\",\"polar\":{\"angularaxis\":{\"gridcolor\":\"white\",\"linecolor\":\"white\",\"ticks\":\"\"},\"bgcolor\":\"#E5ECF6\",\"radialaxis\":{\"gridcolor\":\"white\",\"linecolor\":\"white\",\"ticks\":\"\"}},\"scene\":{\"xaxis\":{\"backgroundcolor\":\"#E5ECF6\",\"gridcolor\":\"white\",\"gridwidth\":2,\"linecolor\":\"white\",\"showbackground\":true,\"ticks\":\"\",\"zerolinecolor\":\"white\"},\"yaxis\":{\"backgroundcolor\":\"#E5ECF6\",\"gridcolor\":\"white\",\"gridwidth\":2,\"linecolor\":\"white\",\"showbackground\":true,\"ticks\":\"\",\"zerolinecolor\":\"white\"},\"zaxis\":{\"backgroundcolor\":\"#E5ECF6\",\"gridcolor\":\"white\",\"gridwidth\":2,\"linecolor\":\"white\",\"showbackground\":true,\"ticks\":\"\",\"zerolinecolor\":\"white\"}},\"shapedefaults\":{\"line\":{\"color\":\"#2a3f5f\"}},\"ternary\":{\"aaxis\":{\"gridcolor\":\"white\",\"linecolor\":\"white\",\"ticks\":\"\"},\"baxis\":{\"gridcolor\":\"white\",\"linecolor\":\"white\",\"ticks\":\"\"},\"bgcolor\":\"#E5ECF6\",\"caxis\":{\"gridcolor\":\"white\",\"linecolor\":\"white\",\"ticks\":\"\"}},\"title\":{\"x\":0.05},\"xaxis\":{\"automargin\":true,\"gridcolor\":\"white\",\"linecolor\":\"white\",\"ticks\":\"\",\"title\":{\"standoff\":15},\"zerolinecolor\":\"white\",\"zerolinewidth\":2},\"yaxis\":{\"automargin\":true,\"gridcolor\":\"white\",\"linecolor\":\"white\",\"ticks\":\"\",\"title\":{\"standoff\":15},\"zerolinecolor\":\"white\",\"zerolinewidth\":2}}},\"title\":{\"text\":\"Total Ratings sobre los Juegos\"},\"xaxis\":{\"anchor\":\"y\",\"domain\":[0.0,1.0],\"title\":{\"text\":\"total_ratings\"}},\"yaxis\":{\"anchor\":\"x\",\"domain\":[0.0,1.0],\"title\":{\"text\":\"count\"}}},                        {\"responsive\": true}                    ).then(function(){\n                            \nvar gd = document.getElementById('383e1664-0b6b-4f10-a1e8-7fca0ae0c590');\nvar x = new MutationObserver(function (mutations, observer) {{\n        var display = window.getComputedStyle(gd).display;\n        if (!display || display === 'none') {{\n            console.log([gd, 'removed!']);\n            Plotly.purge(gd);\n            observer.disconnect();\n        }}\n}});\n\n// Listen for the removal of the full notebook cells\nvar notebookContainer = gd.closest('#notebook-container');\nif (notebookContainer) {{\n    x.observe(notebookContainer, {childList: true});\n}}\n\n// Listen for the clearing of the current output cell\nvar outputEl = gd.closest('.output');\nif (outputEl) {{\n    x.observe(outputEl, {childList: true});\n}}\n\n                        })                };                            </script>        </div>\n</body>\n</html>"
     },
     "metadata": {},
     "output_type": "display_data"
    }
   ]
  },
  {
   "cell_type": "code",
   "metadata": {
    "tags": [],
    "cell_id": "00018-9795a1f8-1962-4d02-b668-0cfaefd60183",
    "deepnote_to_be_reexecuted": false,
    "source_hash": "5231cb95",
    "execution_start": 1626919035527,
    "execution_millis": 200,
    "deepnote_cell_type": "code"
   },
   "source": "fig = px.box(df, x='total_ratings', hover_data=df[['title','category']])\nfig.show()",
   "execution_count": 13,
   "outputs": [
    {
     "data": {
      "text/html": "<html>\n<head><meta charset=\"utf-8\" /></head>\n<body>\n    <div>            <script src=\"https://cdnjs.cloudflare.com/ajax/libs/mathjax/2.7.5/MathJax.js?config=TeX-AMS-MML_SVG\"></script><script type=\"text/javascript\">if (window.MathJax) {MathJax.Hub.Config({SVG: {font: \"STIX-Web\"}});}</script>                <script type=\"text/javascript\">window.PlotlyConfig = {MathJaxConfig: 'local'};</script>\n        <script src=\"https://cdn.plot.ly/plotly-2.2.0.min.js\"></script>                <div id=\"96f7240e-8f71-4e0f-ae94-8bdad599d4c9\" class=\"plotly-graph-div\" style=\"height:525px; width:100%;\"></div>            <script type=\"text/javascript\">                                    window.PLOTLYENV=window.PLOTLYENV || {};                                    if (document.getElementById(\"96f7240e-8f71-4e0f-ae94-8bdad599d4c9\")) {                    Plotly.newPlot(                        \"96f7240e-8f71-4e0f-ae94-8bdad599d4c9\",                        [{\"alignmentgroup\":\"True\",\"customdata\":[[\"Garena Free Fire- World Series\",\"GAME ACTION\"],[\"PUBG MOBILE - Traverse\",\"GAME ACTION\"],[\"Mobile Legends: Bang Bang\",\"GAME ACTION\"],[\"Brawl Stars\",\"GAME ACTION\"],[\"Sniper 3D: Fun Free Online FPS Shooting Game\",\"GAME ACTION\"],[\"Call of Duty\\u00ae: Mobile - Season 4: Spurned & Burned\",\"GAME ACTION\"],[\"Among Us\",\"GAME ACTION\"],[\"Temple Run 2\",\"GAME ACTION\"],[\"PUBG MOBILE LITE\",\"GAME ACTION\"],[\"Gangstar Vegas: World of Crime\",\"GAME ACTION\"],[\"Pixel Gun 3D: FPS Shooter & Battle Royale\",\"GAME ACTION\"],[\"Bowmasters\",\"GAME ACTION\"],[\"Standoff 2\",\"GAME ACTION\"],[\"Talking Tom Gold Run\",\"GAME ACTION\"],[\"Garena Li\\u00ean Qu\\u00e2n Mobile\",\"GAME ACTION\"],[\"Banana Kong\",\"GAME ACTION\"],[\"Crossy Road\",\"GAME ACTION\"],[\"War Robots. 6v6 Tactical Multiplayer Battles\",\"GAME ACTION\"],[\"MORTAL KOMBAT: The Ultimate Fighting Game!\",\"GAME ACTION\"],[\"Last Day on Earth: Survival\",\"GAME ACTION\"],[\"Agar.io\",\"GAME ACTION\"],[\"DEER HUNTER CLASSIC\",\"GAME ACTION\"],[\"Modern Combat 5: eSports FPS\",\"GAME ACTION\"],[\"Kick the Buddy\",\"GAME ACTION\"],[\"Special Forces Group 2\",\"GAME ACTION\"],[\"DEAD TRIGGER 2 - Zombie Game FPS shooter\",\"GAME ACTION\"],[\"Mini Militia - Doodle Army 2\",\"GAME ACTION\"],[\"Call of Duty\\u00ae: Mobile - Garena\",\"GAME ACTION\"],[\"CATS: Crash Arena Turbo Stars\",\"GAME ACTION\"],[\"Injustice: Gods Among Us\",\"GAME ACTION\"],[\"Swamp Attack\",\"GAME ACTION\"],[\"GUNSHIP BATTLE: Helicopter 3D\",\"GAME ACTION\"],[\"Real Steel World Robot Boxing\",\"GAME ACTION\"],[\"Critical Ops: Online Multiplayer FPS Shooting Game\",\"GAME ACTION\"],[\"LINE Rangers - a tower defense RPG w/Brown & Cony!\",\"GAME ACTION\"],[\"Worms Zone .io - Voracious Snake\",\"GAME ACTION\"],[\"Six-Guns: Gang Showdown\",\"GAME ACTION\"],[\"DEAD TARGET: Zombie Offline - Shooting Games\",\"GAME ACTION\"],[\"FRONTLINE COMMANDO: D-DAY\",\"GAME ACTION\"],[\"Mario Kart Tour\",\"GAME ACTION\"],[\"Guns of Boom - Online PvP Action\",\"GAME ACTION\"],[\"Hunter Assassin\",\"GAME ACTION\"],[\"RULES OF SURVIVAL\",\"GAME ACTION\"],[\"Zombie Catchers - love the hunt!\",\"GAME ACTION\"],[\"Into the Dead\",\"GAME ACTION\"],[\"Respawnables: Gun Shooting Games\",\"GAME ACTION\"],[\"Modern Strike Online: Free PvP FPS shooting game\",\"GAME ACTION\"],[\"Block Strike\",\"GAME ACTION\"],[\"Blitz Brigade - Online FPS fun\",\"GAME ACTION\"],[\"Super Mario Run\",\"GAME ACTION\"],[\"Tomb of the Mask\",\"GAME ACTION\"],[\"Archero\",\"GAME ACTION\"],[\"DINO HUNTER: DEADLY SHORES\",\"GAME ACTION\"],[\"DEAD TRIGGER - Offline Zombie Shooter\",\"GAME ACTION\"],[\"Johnny Trigger - Action Shooting Game\",\"GAME ACTION\"],[\"PPSSPP - PSP emulator\",\"GAME ACTION\"],[\"Robbery Bob - Sneaky Adventures\",\"GAME ACTION\"],[\"Hide Online - Hunters vs Props\",\"GAME ACTION\"],[\"Soul Knight\",\"GAME ACTION\"],[\"aquapark.io\",\"GAME ACTION\"],[\"Creative Destruction\",\"GAME ACTION\"],[\"Anger of stick 5 : zombie\",\"GAME ACTION\"],[\"Bomber Friends\",\"GAME ACTION\"],[\"DRAGON BALL LEGENDS\",\"GAME ACTION\"],[\"Modern Sniper\",\"GAME ACTION\"],[\"Nebulous.io\",\"GAME ACTION\"],[\"War Machines: Tank Battle - Army & Military Games\",\"GAME ACTION\"],[\"Sea Battle 2\",\"GAME ACTION\"],[\"FRAG Pro Shooter\",\"GAME ACTION\"],[\"PUBG MOBILE\",\"GAME ACTION\"],[\"Rope Hero: Vice Town\",\"GAME ACTION\"],[\"DRAGON BALL Z DOKKAN BATTLE\",\"GAME ACTION\"],[\"Deer Hunter 2018\",\"GAME ACTION\"],[\"FRONTLINE COMMANDO 2\",\"GAME ACTION\"],[\"Real Gangster Crime\",\"GAME ACTION\"],[\"Battlelands Royale\",\"GAME ACTION\"],[\"Talking Tom Hero Dash - Run Game\",\"GAME ACTION\"],[\"Arena of Valor: 5v5 Arena Game\",\"GAME ACTION\"],[\"BombSquad\",\"GAME ACTION\"],[\"PUBG MOBILE VN \\u2013 KONG x GODZILLA\",\"GAME ACTION\"],[\"Crisis Action: 5th Anniversary\",\"GAME ACTION\"],[\"Supreme Duelist Stickman\",\"GAME ACTION\"],[\"Miraculous Ladybug & Cat Noir\",\"GAME ACTION\"],[\"Injustice 2\",\"GAME ACTION\"],[\"NARUTO X BORUTO NINJA VOLTAGE\",\"GAME ACTION\"],[\"Flippy Knife\",\"GAME ACTION\"],[\"Bus Rush\",\"GAME ACTION\"],[\"BLOOD & GLORY\",\"GAME ACTION\"],[\"Murder us\",\"GAME ACTION\"],[\"Robbery Bob 2: Double Trouble\",\"GAME ACTION\"],[\"Shadow Fight 2\",\"GAME ACTION\"],[\"Vector 2\",\"GAME ACTION\"],[\"Slap Kings\",\"GAME ACTION\"],[\"Bed Wars\",\"GAME ACTION\"],[\"Modern Ops - Online FPS (Gun Games Shooter)\",\"GAME ACTION\"],[\"Bullet Force\",\"GAME ACTION\"],[\"SHADOWGUN: DEADZONE\",\"GAME ACTION\"],[\"Royal Revolt 2: Tower Defense RTS & Castle Builder\",\"GAME ACTION\"],[\"Lara Croft: Relic Run\",\"GAME ACTION\"],[\"WWE Mayhem\",\"GAME ACTION\"],[\"Roblox\",\"GAME ADVENTURE\"],[\"Pok\\u00e9mon GO\",\"GAME ADVENTURE\"],[\"Criminal Case\",\"GAME ADVENTURE\"],[\"\\ucfe0\\ud0a4\\ub7f0 for Kakao\",\"GAME ADVENTURE\"],[\"Harry Potter: Hogwarts Mystery\",\"GAME ADVENTURE\"],[\"Kiloblocks Lite\",\"GAME ADVENTURE\"],[\"Mini World: Block Art\",\"GAME ADVENTURE\"],[\"BADLAND\",\"GAME ADVENTURE\"],[\"Genshin Impact\",\"GAME ADVENTURE\"],[\"Ice Age Adventures\",\"GAME ADVENTURE\"],[\"The Walking Dead: Season One\",\"GAME ADVENTURE\"],[\"Benji Bananas\",\"GAME ADVENTURE\"],[\"KIM KARDASHIAN: HOLLYWOOD\",\"GAME ADVENTURE\"],[\"Growtopia\",\"GAME ADVENTURE\"],[\"Family Guy The Quest for Stuff\",\"GAME ADVENTURE\"],[\"The Secret Society - Hidden Objects Mystery\",\"GAME ADVENTURE\"],[\"June's Journey: Hidden Objects\",\"GAME ADVENTURE\"],[\"Murder in the Alps\",\"GAME ADVENTURE\"],[\"Tiny Miner\",\"GAME ADVENTURE\"],[\"Rayman Adventures\",\"GAME ADVENTURE\"],[\"Swordigo\",\"GAME ADVENTURE\"],[\"The Walking Dead: Season Two\",\"GAME ADVENTURE\"],[\"Eyes: Scary Thriller - Creepy Horror Game\",\"GAME ADVENTURE\"],[\"ARK: Survival Evolved\",\"GAME ADVENTURE\"],[\"WorldCraft: 3D Build & Block Craft\",\"GAME ADVENTURE\"],[\"Sonic Forces \\u2013 Multiplayer Racing & Battle Game\",\"GAME ADVENTURE\"],[\"RealmCraft with Skins Export to Minecraft\",\"GAME ADVENTURE\"],[\"House Designer : Fix & Flip\",\"GAME ADVENTURE\"],[\"Beggar Life - Clicker adventure\",\"GAME ADVENTURE\"],[\"Animation Throwdown: The Collectible Card Game\",\"GAME ADVENTURE\"],[\"Jurassic World Alive\",\"GAME ADVENTURE\"],[\"Seekers Notes: Hidden Mystery\",\"GAME ADVENTURE\"],[\"Mystery Manor: hidden objects\",\"GAME ADVENTURE\"],[\"Crab War : Idle Swarm Evolution\",\"GAME ADVENTURE\"],[\"Cyber Hunter\",\"GAME ADVENTURE\"],[\"Diggy's Adventure: Mine Maze Levels & Pipe Puzzles\",\"GAME ADVENTURE\"],[\"Ninja Arashi\",\"GAME ADVENTURE\"],[\"LONEWOLF (17+) - a Sniper Story\",\"GAME ADVENTURE\"],[\"Super Bob's World: Jungle Adventure- Free Run Game\",\"GAME ADVENTURE\"],[\"Monster Warlord\",\"GAME ADVENTURE\"],[\"Ingress Prime\",\"GAME ADVENTURE\"],[\"Hidden Hotel: Miami Mystery\",\"GAME ADVENTURE\"],[\"Survivors: The Quest\",\"GAME ADVENTURE\"],[\"Manor Matters\",\"GAME ADVENTURE\"],[\"Hard Time (Prison Sim)\",\"GAME ADVENTURE\"],[\"Draw a Stickman: EPIC 2\",\"GAME ADVENTURE\"],[\"Westland Survival - Be a survivor in the Wild West\",\"GAME ADVENTURE\"],[\"Transformers: RobotsInDisguise\",\"GAME ADVENTURE\"],[\"Crafting and Building\",\"GAME ADVENTURE\"],[\"Ghost Town Adventures: Mystery Riddles Game\",\"GAME ADVENTURE\"],[\"Hello Neighbor\",\"GAME ADVENTURE\"],[\"Piggy Boom-Be the island king\",\"GAME ADVENTURE\"],[\"KENDALL & KYLIE\",\"GAME ADVENTURE\"],[\"Shipwrecked:Castaway Island\",\"GAME ADVENTURE\"],[\"Harry Potter: Wizards Unite\",\"GAME ADVENTURE\"],[\"Masha and the Bear Child Games\",\"GAME ADVENTURE\"],[\"Mirrors of Albion\",\"GAME ADVENTURE\"],[\"Ninja warrior: legend of adventure games\",\"GAME ADVENTURE\"],[\"Diamond Quest: Don't Rush!\",\"GAME ADVENTURE\"],[\"Westbound:Perils Ranch\",\"GAME ADVENTURE\"],[\"Clumsy Ninja\",\"GAME ADVENTURE\"],[\"LEGO\\u00ae Star Wars\\u2122: TFA\",\"GAME ADVENTURE\"],[\"Tinker Island - Survival Story Adventure\",\"GAME ADVENTURE\"],[\"FPS Commando Secret Mission - Free Shooting Games\",\"GAME ADVENTURE\"],[\"\\ufeffDragon Land\",\"GAME ADVENTURE\"],[\"The Island Castaway: Lost World\\u00ae\",\"GAME ADVENTURE\"],[\"Criminal Case: Pacific Bay\",\"GAME ADVENTURE\"],[\"The Wolf Among Us\",\"GAME ADVENTURE\"],[\"Dead Ninja Mortal Shadow\",\"GAME ADVENTURE\"],[\"BlockStarPlanet\",\"GAME ADVENTURE\"],[\"Street Chaser\",\"GAME ADVENTURE\"],[\"Draw a Stickman: EPIC Free\",\"GAME ADVENTURE\"],[\"Hotel Transylvania Adventures - Run, Jump, Build!\",\"GAME ADVENTURE\"],[\"Benji Bananas Adventures\",\"GAME ADVENTURE\"],[\"Seven - Deadly Revelation - Horror Chat Adventure\",\"GAME ADVENTURE\"],[\"Survival Island: EVO 2\",\"GAME ADVENTURE\"],[\"Zoo 2: Animal Park\",\"GAME ADVENTURE\"],[\"Spider Rope Hero - Gangster New York City\",\"GAME ADVENTURE\"],[\"Hidden City: Hidden Object Adventure\",\"GAME ADVENTURE\"],[\"CASE: Animatronics - Horror game\",\"GAME ADVENTURE\"],[\"Super City (Superhero Sim)\",\"GAME ADVENTURE\"],[\"3D Maze / Labyrinth\",\"GAME ADVENTURE\"],[\"MultiCraft \\u2015 Build and Mine! \\ud83d\\udc4d\",\"GAME ADVENTURE\"],[\"Friendzoned\",\"GAME ADVENTURE\"],[\"Nobodies: Murder Cleaner\",\"GAME ADVENTURE\"],[\"Adventure Time: Heroes of Ooo\",\"GAME ADVENTURE\"],[\"Homicide Squad: New York Cases\",\"GAME ADVENTURE\"],[\"Critical Action :Gun Strike Ops - Shooting Game\",\"GAME ADVENTURE\"],[\"Futurama: Worlds of Tomorrow\",\"GAME ADVENTURE\"],[\"Jurassic Survival Island: Dinosaurs & Craft\",\"GAME ADVENTURE\"],[\"Jungle Adventures\",\"GAME ADVENTURE\"],[\"Soda Dungeon\",\"GAME ADVENTURE\"],[\"Draw Your Game\",\"GAME ADVENTURE\"],[\"Epic Heroes - Dragon fight legends\",\"GAME ADVENTURE\"],[\"Castle Cats - Idle Hero RPG\",\"GAME ADVENTURE\"],[\"Treasure Diving\",\"GAME ADVENTURE\"],[\"PlanetCraft: Block Craft Games\",\"GAME ADVENTURE\"],[\"Bunny Skater\",\"GAME ADVENTURE\"],[\"Dinos Online\",\"GAME ADVENTURE\"],[\"Prison Escape Puzzle: Adventure\",\"GAME ADVENTURE\"],[\"Subway Surfers\",\"GAME ARCADE\"],[\"Hungry Shark Evolution - Offline survival game\",\"GAME ARCADE\"],[\"Geometry Dash Lite\",\"GAME ARCADE\"],[\"Zombie Tsunami\",\"GAME ARCADE\"],[\"Sonic Dash - Endless Running & Racing Game\",\"GAME ARCADE\"],[\"Fruit Ninja\\u00ae\",\"GAME ARCADE\"],[\"Jetpack Joyride\",\"GAME ARCADE\"],[\"Temple Run\",\"GAME ARCADE\"],[\"Cooking Fever \\u2013 Restaurant Game\",\"GAME ARCADE\"],[\"Minecraft\",\"GAME ARCADE\"],[\"Vector\",\"GAME ARCADE\"],[\"Granny\",\"GAME ARCADE\"],[\"DragonFlight\",\"GAME ARCADE\"],[\"Red Ball 4\",\"GAME ARCADE\"],[\"Minecraft Trial\",\"GAME ARCADE\"],[\"Block Craft 3D: Building Simulator Games For Free\",\"GAME ARCADE\"],[\"Cooking Madness - A Chef's Restaurant Games\",\"GAME ARCADE\"],[\"Blockman Go\",\"GAME ARCADE\"],[\"Galaxy Attack: Alien Shooter\",\"GAME ARCADE\"],[\"Paper.io 2\",\"GAME ARCADE\"],[\"Angry Birds Transformers\",\"GAME ARCADE\"],[\"Hungry Shark World\",\"GAME ARCADE\"],[\"Glow Hockey\",\"GAME ARCADE\"],[\"Geometry Dash Meltdown\",\"GAME ARCADE\"],[\"Angry Birds Seasons\",\"GAME ARCADE\"],[\"\\uc708\\ub4dc\\ub7ec\\ub108\",\"GAME ARCADE\"],[\"Crowd City\",\"GAME ARCADE\"],[\"Join Clash 3D\",\"GAME ARCADE\"],[\"Tank Stars\",\"GAME ARCADE\"],[\"Angry Birds Classic\",\"GAME ARCADE\"],[\"Brothers in Arms\\u00ae 3\",\"GAME ARCADE\"],[\"Rise Up\",\"GAME ARCADE\"],[\"Payback 2 - The Battle Sandbox\",\"GAME ARCADE\"],[\"Angry Birds Space\",\"GAME ARCADE\"],[\"Skater Boy\",\"GAME ARCADE\"],[\"Ant Smasher\",\"GAME ARCADE\"],[\"Partymasters - Fun Idle Game\",\"GAME ARCADE\"],[\"Tap Tap Dash\",\"GAME ARCADE\"],[\"101-in-1 Games\",\"GAME ARCADE\"],[\"Doodle Jump\",\"GAME ARCADE\"],[\"Hole.io\",\"GAME ARCADE\"],[\"Zombie Roadkill 3D\",\"GAME ARCADE\"],[\"Rider\",\"GAME ARCADE\"],[\"Lep's World 2\",\"GAME ARCADE\"],[\"Lep's World\",\"GAME ARCADE\"],[\"Angry Birds Friends\",\"GAME ARCADE\"],[\"Geometry Dash World\",\"GAME ARCADE\"],[\"Rail Rush\",\"GAME ARCADE\"],[\"Lep's World 3\",\"GAME ARCADE\"],[\"Knife Hit\",\"GAME ARCADE\"],[\"Stickman Party: 1 2 3 4 Player Games Free\",\"GAME ARCADE\"],[\"Zombie Smasher\",\"GAME ARCADE\"],[\"1945 Air Force - Airplane Shooting Games\",\"GAME ARCADE\"],[\"Stack Ball - Blast through platforms\",\"GAME ARCADE\"],[\"Cookie Run: OvenBreak - Endless Running Platformer\",\"GAME ARCADE\"],[\"Subway Princess Runner\",\"GAME ARCADE\"],[\"PAC-MAN\",\"GAME ARCADE\"],[\"Smash Hit\",\"GAME ARCADE\"],[\"Multiplayer for Minecraft PE - MCPE Servers\",\"GAME ARCADE\"],[\"Granny: Chapter Two\",\"GAME ARCADE\"],[\"Geometry Dash\",\"GAME ARCADE\"],[\"Jewels Switch\",\"GAME ARCADE\"],[\"LokiCraft\",\"GAME ARCADE\"],[\"Stupid Zombies\",\"GAME ARCADE\"],[\"Stick Hero\",\"GAME ARCADE\"],[\"Sonic Dash 2: Sonic Boom\",\"GAME ARCADE\"],[\"Sky Whale\",\"GAME ARCADE\"],[\"Space shooter - Galaxy attack - Galaxy shooter\",\"GAME ARCADE\"],[\"Sky Roller\",\"GAME ARCADE\"],[\"Geometry Dash SubZero\",\"GAME ARCADE\"],[\"Color Bump 3D\",\"GAME ARCADE\"],[\"Draw it\",\"GAME ARCADE\"],[\"Fernanfloo\",\"GAME ARCADE\"],[\"Cartoon Wars\",\"GAME ARCADE\"],[\"Run\",\"GAME ARCADE\"],[\"Snake VS Block\",\"GAME ARCADE\"],[\"Zombie World War\",\"GAME ARCADE\"],[\"My Boy! Free - GBA Emulator\",\"GAME ARCADE\"],[\"Burrito Bison: Launcha Libre\",\"GAME ARCADE\"],[\"Bricks Ball Crusher\",\"GAME ARCADE\"],[\"Daddy Long Legs\",\"GAME ARCADE\"],[\"Galactic Attack - Classic Shooter : Falcon Squad\",\"GAME ARCADE\"],[\"Stickman Hook\",\"GAME ARCADE\"],[\"Jewels Legend - Match 3 Puzzle\",\"GAME ARCADE\"],[\"BBTAN by 111%\",\"GAME ARCADE\"],[\"Prize Claw\",\"GAME ARCADE\"],[\"Ball Blast\",\"GAME ARCADE\"],[\"Will Hero\",\"GAME ARCADE\"],[\"Monster Dash\",\"GAME ARCADE\"],[\"Duet\",\"GAME ARCADE\"],[\"Infinite Stairs\",\"GAME ARCADE\"],[\"Slendrina:The Cellar (Free)\",\"GAME ARCADE\"],[\"Run Sausage Run!\",\"GAME ARCADE\"],[\"Human Evolution Clicker: Tap and Evolve Life Forms\",\"GAME ARCADE\"],[\"Sky Force 2014\",\"GAME ARCADE\"],[\"Bouncemasters\",\"GAME ARCADE\"],[\"Tank Hero\",\"GAME ARCADE\"],[\"Nyan Cat: Lost In Space\",\"GAME ARCADE\"],[\"Stack\",\"GAME ARCADE\"],[\"Paper.io\",\"GAME ARCADE\"],[\"Ludo King\\u2122\",\"GAME BOARD\"],[\"Happy Color\\u2122 \\u2013 Color by Number. Coloring games.\",\"GAME BOARD\"],[\"101 Y\\u00fczbir Okey Plus\",\"GAME BOARD\"],[\"Parchisi STAR Online\",\"GAME BOARD\"],[\"\\ubaa8\\ub450\\uc758\\ub9c8\\ube14\",\"GAME BOARD\"],[\"Chess\",\"GAME BOARD\"],[\"Paint By Number - Coloring Book & Color by Number\",\"GAME BOARD\"],[\"Ludo Club - Fun Dice Game\",\"GAME BOARD\"],[\"Okey Plus\",\"GAME BOARD\"],[\"Dominoes\",\"GAME BOARD\"],[\"Bingo Blitz\\u2122\\ufe0f - Bingo Games\",\"GAME BOARD\"],[\"Ludo STAR\",\"GAME BOARD\"],[\"Chess - Play and Learn\",\"GAME BOARD\"],[\"Bingo Showdown Free Bingo Games \\u2013 Bingo Live Game\",\"GAME BOARD\"],[\"Ludo Star 2\",\"GAME BOARD\"],[\"\\u00c7anak Okey Plus\",\"GAME BOARD\"],[\"Okey\",\"GAME BOARD\"],[\"Checkers\",\"GAME BOARD\"],[\"1LINE \\u2013 One Line with One Touch\",\"GAME BOARD\"],[\"BINGO!\",\"GAME BOARD\"],[\"LANDLORD TYCOON Business Management Investing Game\",\"GAME BOARD\"],[\"Backgammon Plus\",\"GAME BOARD\"],[\"Bingo Bash featuring MONOPOLY: Live Bingo Games\",\"GAME BOARD\"],[\"Real Chess\",\"GAME BOARD\"],[\"Chess Free\",\"GAME BOARD\"],[\"Mahjong Epic\",\"GAME BOARD\"],[\"Tic Tac Toe\",\"GAME BOARD\"],[\"Dominos Online Jogatina: Dominoes Game Free\",\"GAME BOARD\"],[\"Backgammon Free\",\"GAME BOARD\"],[\"Mahjong City Tours: Free Mahjong Classic Game\",\"GAME BOARD\"],[\"Bingo Party - Free Classic Bingo Games Online\",\"GAME BOARD\"],[\"Rento - Dice Board Game Online\",\"GAME BOARD\"],[\"Snakes & Ladders King\",\"GAME BOARD\"],[\"Game of Dice\",\"GAME BOARD\"],[\"Pinball Pro\",\"GAME BOARD\"],[\"Checkers Online Elite\",\"GAME BOARD\"],[\"Woody Block Puzzle \\u00ae\",\"GAME BOARD\"],[\"Gaple-Domino QiuQiu Poker Capsa Slots Game Online\",\"GAME BOARD\"],[\"Backgammon - Narde\",\"GAME BOARD\"],[\"Bingo Pop: Free Live Multiplayer Bingo Board Games\",\"GAME BOARD\"],[\"RISK: Global Domination\",\"GAME BOARD\"],[\"Slots: Epic Jackpot Slots Games Free & Casino Game\",\"GAME BOARD\"],[\"Yalla Ludo - Ludo&Domino\",\"GAME BOARD\"],[\"Tap Color - Color by number. Coloring Game\",\"GAME BOARD\"],[\"Onnect - Pair Matching Puzzle\",\"GAME BOARD\"],[\"Ludo SuperStar\",\"GAME BOARD\"],[\"Domino Gaple TopFun(Domino QiuQiu):Free dan online\",\"GAME BOARD\"],[\"Chess - Clash of Kings\",\"GAME BOARD\"],[\"C\\u1edd T\\u1ef7 Ph\\u00fa - Co Ty Phu ZingPlay - Board Game\",\"GAME BOARD\"],[\"Colorscapes - Color by Number, Coloring Games\",\"GAME BOARD\"],[\"Ludo Talent- Online Ludo&Chatroom\",\"GAME BOARD\"],[\"Mahjong Master\",\"GAME BOARD\"],[\"Backgammon Free - Lord of the Board - Table Game\",\"GAME BOARD\"],[\"YAHTZEE\\u00ae With Buddies Dice Game\",\"GAME BOARD\"],[\"Sudoku Free\",\"GAME BOARD\"],[\"Fun 101 Okey\",\"GAME BOARD\"],[\"Tile Craft - Triple Crush: Puzzle matching game\",\"GAME BOARD\"],[\"Dice With Buddies\\u2122 Free - The Fun Social Dice Game\",\"GAME BOARD\"],[\"Travelling Millionaire\",\"GAME BOARD\"],[\"\\u00c7anak Okey - Mynet\",\"GAME BOARD\"],[\"Reversi Free\",\"GAME BOARD\"],[\"Rummikub\\u00ae\",\"GAME BOARD\"],[\"Tile Master - Classic Triple Match & Puzzle Game\",\"GAME BOARD\"],[\"Ludo\",\"GAME BOARD\"],[\"Carrom King\\u2122 - Best Online Carrom Board Pool Game\",\"GAME BOARD\"],[\"Fleet Battle - Sea Battle\",\"GAME BOARD\"],[\"Numberzilla - Number Puzzle | Board Game\",\"GAME BOARD\"],[\"Slots: VIP Deluxe Slot Machines Free - Vegas Slots\",\"GAME BOARD\"],[\"Domino QiuQiu KiuKiu Online(koin gratis)\",\"GAME BOARD\"],[\"Mahjong Titan\",\"GAME BOARD\"],[\"Einstein's Riddle Logic Puzzles\",\"GAME BOARD\"],[\"Ludo All Star - Play Online Ludo Game & Board Game\",\"GAME BOARD\"],[\"Four In A Line Free\",\"GAME BOARD\"],[\"Coloring Book - Color by Number & Paint by Number\",\"GAME BOARD\"],[\"\\uc778\\uc0dd\\uc5ed\\uc804\\uc737\\ub180\\uc774\",\"GAME BOARD\"],[\"Chess Online - Duel friends online!\",\"GAME BOARD\"],[\"Slot Casino - Slot Machines\",\"GAME BOARD\"],[\"Loco Parch\\u00eds - Magic Ludo & Mega dice! USA Vip Bet\",\"GAME BOARD\"],[\"Carrom 3D\",\"GAME BOARD\"],[\"lichess \\u2022 Free Online Chess\",\"GAME BOARD\"],[\"Chess for Android\",\"GAME BOARD\"],[\"Truth or Dare \\u2014 Dirty Party Game for Adults 18+\",\"GAME BOARD\"],[\"Chess Royale: Play and Learn Free Online\",\"GAME BOARD\"],[\"Loto Online\",\"GAME BOARD\"],[\"Chess Online\",\"GAME BOARD\"],[\"Praia Bingo - Bingo Games + Slot + Casino\",\"GAME BOARD\"],[\"Dr. Chess\",\"GAME BOARD\"],[\"Domino! The world's largest dominoes community\",\"GAME BOARD\"],[\"\\ud83d\\udc0d Snakes and Ladders - Free Board Games \\ud83c\\udfb2\",\"GAME BOARD\"],[\"Super Bingo HD: Bingo Games\",\"GAME BOARD\"],[\"Onet 3D - Classic Link Puzzle\",\"GAME BOARD\"],[\"Color by Number: Free Coloring Games - Paint Book\",\"GAME BOARD\"],[\"Okey Extra\",\"GAME BOARD\"],[\"Ludo Neo-Classic : King of the Dice Game\",\"GAME BOARD\"],[\"Domino Qiu Qiu Online:Domino 99\\uff08QQ\\uff09\",\"GAME BOARD\"],[\"Dr. Gomoku\",\"GAME BOARD\"],[\"Mind Games (Challenging brain games)\",\"GAME BOARD\"],[\"Ultimate Jewel\",\"GAME BOARD\"],[\"OKEY\",\"GAME BOARD\"],[\"Backgammon Offline\",\"GAME BOARD\"],[\"Yu-Gi-Oh! Duel Links\",\"GAME CARD\"],[\"Hearthstone\",\"GAME CARD\"],[\"Solitaire\",\"GAME CARD\"],[\"Solitaire\",\"GAME CARD\"],[\"Solitaire\",\"GAME CARD\"],[\"Solitaire\",\"GAME CARD\"],[\"World Series of Poker WSOP Texas Holdem Poker\",\"GAME CARD\"],[\"Live Hold\\u2019em Pro Poker - Free Casino Games\",\"GAME CARD\"],[\"Pyramid Solitaire Saga\",\"GAME CARD\"],[\"UNO!\\u2122\",\"GAME CARD\"],[\"Solitaire Grand Harvest\",\"GAME CARD\"],[\"Solitaire TriPeaks: Play Free Solitaire Card Games\",\"GAME CARD\"],[\"Solitaire\",\"GAME CARD\"],[\"Solitaire\",\"GAME CARD\"],[\"Solitaire\",\"GAME CARD\"],[\"Solitaire\",\"GAME CARD\"],[\"Gin Rummy Plus\",\"GAME CARD\"],[\"Spider Solitaire\",\"GAME CARD\"],[\"Solitaire\",\"GAME CARD\"],[\"Solitaire\",\"GAME CARD\"],[\"Solitaire\",\"GAME CARD\"],[\"Solitaire\",\"GAME CARD\"],[\"Truco Blyts\",\"GAME CARD\"],[\"Poker Games: World Poker Club\",\"GAME CARD\"],[\"Legends of Runeterra\",\"GAME CARD\"],[\"Deck Heroes: Legacy\",\"GAME CARD\"],[\"Durak Online\",\"GAME CARD\"],[\"Solitaire\",\"GAME CARD\"],[\"Solitaire\",\"GAME CARD\"],[\"Solitaire\",\"GAME CARD\"],[\"Solitaire\",\"GAME CARD\"],[\"Poker Heat\\u2122 - Free Texas Holdem Poker Games\",\"GAME CARD\"],[\"Solitaire\",\"GAME CARD\"],[\"Dummy & Toon Poker Texas slot Online Card Game\",\"GAME CARD\"],[\"Fairway Solitaire Blast\",\"GAME CARD\"],[\"\\ud53c\\ub9dd \\ub274\\ub9de\\uace0 : \\uace0\\uc2a4\\ud1b1\\uc73c\\ub85c \\ub300\\ud55c\\ubbfc\\uad6d 1\\ub4f1\",\"GAME CARD\"],[\"Conquian Zingplay: el mejor juego de cartas gratis\",\"GAME CARD\"],[\"GWENT: The Witcher Card Game\",\"GAME CARD\"],[\"Spider Solitaire\",\"GAME CARD\"],[\"Order & Chaos Duels\",\"GAME CARD\"],[\"Spades Plus - Card Game\",\"GAME CARD\"],[\"Governor of Poker 2 - OFFLINE POKER GAME\",\"GAME CARD\"],[\"Jawaker Trix, Tarneeb, Baloot, Hand & More\",\"GAME CARD\"],[\"Buraco Canasta Jogatina: Card Games For Free\",\"GAME CARD\"],[\"Governor of Poker 3 - Free Texas Holdem Card Games\",\"GAME CARD\"],[\"Texas Hold'em & Omaha Poker: Pokerist\",\"GAME CARD\"],[\"Indian Rummy: Play Rummy Game Online\",\"GAME CARD\"],[\"RummyCircle - Play Indian Rummy Online | Card Game\",\"GAME CARD\"],[\"FreeCell Solitaire\",\"GAME CARD\"],[\"TopFun Domino QiuQiu:Domino99 (KiuKiu)\",\"GAME CARD\"],[\"Spades Royale - Best Online Spades Card Games App\",\"GAME CARD\"],[\"Solitaire TriPeaks Journey - Klondike Card Games\",\"GAME CARD\"],[\"Durak\",\"GAME CARD\"],[\"Spades Free\",\"GAME CARD\"],[\"Domino QiuQiu 2020 - Domino 99 \\u00b7 Gaple online\",\"GAME CARD\"],[\"Scopa - Free Italian Card Game Online\",\"GAME CARD\"],[\"Microsoft Solitaire Collection\",\"GAME CARD\"],[\"Solitaire Arena\",\"GAME CARD\"],[\"Mango Capsa Susun\",\"GAME CARD\"],[\"Solitaire\",\"GAME CARD\"],[\"Solitaire\",\"GAME CARD\"],[\"Solitaire\",\"GAME CARD\"],[\"Soccer Spirits\",\"GAME CARD\"],[\"Belote.com - Free Belote Game\",\"GAME CARD\"],[\"Solitaire\",\"GAME CARD\"],[\"Solitaire\",\"GAME CARD\"],[\"Solitaire\",\"GAME CARD\"],[\"Polskie Z\\u0142ote Zdrapki\",\"GAME CARD\"],[\"Solitaire\",\"GAME CARD\"],[\"Solitaire\",\"GAME CARD\"],[\"Solitaire\",\"GAME CARD\"],[\"Truco ZingPlay: Jogo de cartas online gr\\u00e1tis\",\"GAME CARD\"],[\"\\u0e44\\u0e1e\\u0e48\\u0e41\\u0e04\\u0e07 - \\u0e21\\u0e35\\u0e14\\u0e31\\u0e21\\u0e21\\u0e35\\u0e48 \\u0e1b\\u0e4a\\u0e2d\\u0e01\\u0e40\\u0e14\\u0e49\\u0e07 \\u0e44\\u0e2e\\u0e42\\u0e25 \\u0e40\\u0e01\\u0e49\\u0e32\\u0e40\\u0e01\",\"GAME CARD\"],[\"Fairway Solitaire - Card Game\",\"GAME CARD\"],[\"Solitaire: classic card game\",\"GAME CARD\"],[\"Dummy Hero\",\"GAME CARD\"],[\"Solitaire Collection\",\"GAME CARD\"],[\"Reigns\",\"GAME CARD\"],[\"Solitaire Classic\",\"GAME CARD\"],[\"Solitaire!\",\"GAME CARD\"],[\"The Elder Scrolls: Legends\",\"GAME CARD\"],[\"Solitaire\",\"GAME CARD\"],[\"Spider Solitaire\",\"GAME CARD\"],[\"Spider Solitaire\",\"GAME CARD\"],[\"Rummy 45 - Remi Etalat\",\"GAME CARD\"],[\"\\u4e09\\u570b\\u6bba\\u540d\\u5c07\\u50b3\",\"GAME CARD\"],[\"Classic Solitaire\",\"GAME CARD\"],[\"Eredan Arena PVP\",\"GAME CARD\"],[\"\\ub274 \\ud55c\\ud310 \\ub9de\\uace0 (\\ub370\\uc774\\ud130 \\ud544\\uc694\\uc5c6\\ub294 \\ubb34\\ub8cc \\uace0\\uc2a4\\ud1b1)\",\"GAME CARD\"],[\"Descarte\",\"GAME CARD\"],[\"Spider Solitaire\",\"GAME CARD\"],[\"Spider Solitaire\",\"GAME CARD\"],[\"Phase 10: World Tour\",\"GAME CARD\"],[\"Pok\\u00e9mon TCG Online\",\"GAME CARD\"],[\"\\uc560\\ub2c8\\ud321 \\ub9de\\uace0\",\"GAME CARD\"],[\"Belote Multiplayer\",\"GAME CARD\"],[\"\\ud53c\\ub9dd \\uc12f\\ub2e4\",\"GAME CARD\"],[\"\\u5927\\u5bcc\\u8c6aBEST\",\"GAME CARD\"],[\"BlackJack 21 - Online Blackjack multiplayer casino\",\"GAME CARD\"],[\"Solitaire Showtime: Tri Peaks Solitaire Free & Fun\",\"GAME CARD\"],[\"\\ud55c\\uac8c\\uc784 \\uc2e0\\ub9de\\uace0 : \\ub300\\ud55c\\ubbfc\\uad6d \\uc6d0\\uc870 \\uace0\\uc2a4\\ud1b1\",\"GAME CARD\"],[\"Absolute Bingo- Free Bingo Games Offline or Online\",\"GAME CARD\"],[\"Batak HD - \\u0130nternetsiz Batak\",\"GAME CARD\"],[\"Mega Hit Poker: Texas Holdem\",\"GAME CARD\"],[\"Spider Solitaire\",\"GAME CARD\"],[\"Solitaire\",\"GAME CARD\"],[\"Solitaire\",\"GAME CARD\"],[\"Solitaire\",\"GAME CARD\"],[\"LG Smart Truco\",\"GAME CARD\"],[\"Solitaire Cruise: Classic Tripeaks Cards Games\",\"GAME CARD\"],[\"Gin Rummy Free\",\"GAME CARD\"],[\"Solitaire\",\"GAME CARD\"],[\"Solitaire\",\"GAME CARD\"],[\"Solitaire\",\"GAME CARD\"],[\"Solitaire - Make Free Money & Play the Card Game\",\"GAME CARD\"],[\"Solitaire: Super Challenges\",\"GAME CARD\"],[\"Solitaire\",\"GAME CARD\"],[\"Solitaire\",\"GAME CARD\"],[\"Solitaire\",\"GAME CARD\"],[\"Solitaire Tripeaks: Farm Adventure\",\"GAME CARD\"],[\"Cribbage Classic\",\"GAME CARD\"],[\"Tien Len - Southern Poker\",\"GAME CARD\"],[\"Otogi: Spirit Agents\",\"GAME CARD\"],[\"Happy Scratch\",\"GAME CARD\"],[\"Epic Cards Battle(TCG)\",\"GAME CARD\"],[\"Age of Ishtaria - A.Battle RPG\",\"GAME CARD\"],[\"Zynga Poker\\u2122 \\u2013 Free Texas Holdem Online Card Games\",\"GAME CASINO\"],[\"Slotomania\\u2122 Slots: Casino Slot Machine Games\",\"GAME CASINO\"],[\"Teen Patti Gold \\u2013 Indian Family Card Game\",\"GAME CASINO\"],[\"Teen Patti by Octro - Real 3 Patti Game\",\"GAME CASINO\"],[\"Coin Dozer: Sweepstakes\",\"GAME CASINO\"],[\"House of Fun: Play Casino Slots\",\"GAME CASINO\"],[\"Scatter Slots - Las Vegas Casino Game 777 Online\",\"GAME CASINO\"],[\"Lucky Day - Win Real Rewards\",\"GAME CASINO\"],[\"Jackpot Party Casino Games: Spin FREE Casino Slots\",\"GAME CASINO\"],[\"Huuuge Casino\\u2122 Free Slots & Best Slot Machines 777\",\"GAME CASINO\"],[\"DoubleU Casino - Free Slots\",\"GAME CASINO\"],[\"Jackpot Slot Machines - Slots Era\\u2122 Vegas Casino\",\"GAME CASINO\"],[\"Caesars Slots: Casino Slots game\",\"GAME CASINO\"],[\"myVEGAS Slots: Las Vegas Casino Games & Slots\",\"GAME CASINO\"],[\"DH Texas Poker - Texas Hold'em\",\"GAME CASINO\"],[\"Gold Fish Casino Slots - FREE Slot Machine Games\",\"GAME CASINO\"],[\"BLACKJACK!\",\"GAME CASINO\"],[\"Hit it Rich! Lucky Vegas Casino Slot Machine Game\",\"GAME CASINO\"],[\"Cash Frenzy\\u2122 Casino \\u2013 Free Slots Games\",\"GAME CASINO\"],[\"Wizard of Oz Free Slots Casino\",\"GAME CASINO\"],[\"Dummy \\u0e14\\u0e31\\u0e21\\u0e21\\u0e35\\u0e48 \\u0e44\\u0e1e\\u0e48\\u0e41\\u0e04\\u0e07 \\u0e40\\u0e01\\u0e21\\u0e44\\u0e1e\\u0e48\\u0e1f\\u0e23\\u0e35\",\"GAME CASINO\"],[\"Full House Casino - Free Vegas Slots Machine Games\",\"GAME CASINO\"],[\"Slots (Golden HoYeah) - Casino Slots\",\"GAME CASINO\"],[\"Luxy Poker-Online Texas Holdem\",\"GAME CASINO\"],[\"Vegas Slots - DoubleDown Casino\",\"GAME CASINO\"],[\"Texas HoldEm Poker Deluxe\",\"GAME CASINO\"],[\"\\u0e40\\u0e01\\u0e49\\u0e32\\u0e40\\u0e01\\u0e44\\u0e17\\u0e22\",\"GAME CASINO\"],[\"Cashman Casino: Casino Slots Machines! 2M Free!\",\"GAME CASINO\"],[\"Slots: Heart of Vegas\\u2122 \\u2013 Free Casino Slots Games\",\"GAME CASINO\"],[\"Casino Jackpot Slots - Infinity Slots\\u2122 777 Game\",\"GAME CASINO\"],[\"my KONAMI Slots - Casino Games & Fun Slot Machines\",\"GAME CASINO\"],[\"POP! Slots \\u2122- Free Vegas Casino Slot Machine Games\",\"GAME CASINO\"],[\"Tycoon Casino Free Slots: Vegas Slot Machine Games\",\"GAME CASINO\"],[\"GSN Casino: Slots and Casino Games - Vegas Slots\",\"GAME CASINO\"],[\"Slots Pharaoh's Way Casino Games & Slot Machine\",\"GAME CASINO\"],[\"Lotsa Slots - Free Vegas Casino Slot Machines\",\"GAME CASINO\"],[\"Big Fish Casino - Play Slots and Casino Games\",\"GAME CASINO\"],[\"Ti\\u1ebfn l\\u00ean Mi\\u1ec1n Nam - Ti\\u1ebfn L\\u00ean - ZingPlay\",\"GAME CASINO\"],[\"Club Vegas 2021: New Slots Games & Casino bonuses\",\"GAME CASINO\"],[\"\\u9ebb\\u5c07 \\u660e\\u661f3\\u7f3a1\\u9ebb\\u5c07\\u2013\\u53f0\\u706316\\u5f35\\u9ebb\\u5c07Mahjong \\u3001SLOT\\u3001Poker\",\"GAME CASINO\"],[\"Billionaire Casino Slots - The Best Slot Machines\",\"GAME CASINO\"],[\"Jackpot World\\u2122 - Free Vegas Casino Slots\",\"GAME CASINO\"],[\"GAMEE Prizes - Play Free Games, WIN REAL CASH!\",\"GAME CASINO\"],[\"NEW SLOTS 2021\\uff0dfree casino games & slot machines\",\"GAME CASINO\"],[\"Quick Hit Casino Games - Free Casino Slots Games\",\"GAME CASINO\"],[\"Tongits Go-Exciting and Competitive Card Game\",\"GAME CASINO\"],[\"Gaminator Casino Slots - Play Slot Machines 777\",\"GAME CASINO\"],[\"\\u0e44\\u0e1e\\u0e48\\u0e40\\u0e17\\u0e47\\u0e01\\u0e0b\\u0e31\\u0e2a\\u0e42\\u0e1a\\u0e22\\u0e48\\u0e32-Boyaa Texas Poker \\u0e42\\u0e1b\\u0e4a\\u0e01\\u0e40\\u0e01\\u0e2d\\u0e23\\u0e4c\\u0e21\\u0e37\\u0e2d\\u0e42\\u0e1b\\u0e23\",\"GAME CASINO\"],[\"Double Win Casino Slots - Free Video Slots Games\",\"GAME CASINO\"],[\"UTP - Ultimate Teen Patti (3 Patti)\",\"GAME CASINO\"],[\"Free Slot Machines with Bonus Games!\",\"GAME CASINO\"],[\"Hot Shot Casino Free Slots Games: Real Vegas Slots\",\"GAME CASINO\"],[\"Bingo Tycoon\",\"GAME CASINO\"],[\"Coin Dozer: Casino\",\"GAME CASINO\"],[\"MONOPOLY Slots - Slot Machines\",\"GAME CASINO\"],[\"Willy Wonka Slots Free Casino\",\"GAME CASINO\"],[\"88 Fortunes Casino Games & Free Slot Machine Games\",\"GAME CASINO\"],[\"Roulette Royale - FREE Casino\",\"GAME CASINO\"],[\"Slots Free - Big Win Casino\\u2122\",\"GAME CASINO\"],[\"Pmang Poker : Casino Royal\",\"GAME CASINO\"],[\"Slotpark - Online Casino Games & Free Slot Machine\",\"GAME CASINO\"],[\"Slots Casino - Jackpot Mania\",\"GAME CASINO\"],[\"Bingo by Alisa - Free Live Multiplayer Bingo Games\",\"GAME CASINO\"],[\"Poker Texas Boyaa\",\"GAME CASINO\"],[\"Scratch Day\",\"GAME CASINO\"],[\"C\\u1ed5ng game ZingPlay - Game b\\u00e0i - Game c\\u1edd - Ti\\u1ebfn l\\u00ean\",\"GAME CASINO\"],[\"Slot Machine - FREE Casino\",\"GAME CASINO\"],[\"Rock N' Cash Casino Slots -Free Vegas Slot Games\",\"GAME CASINO\"],[\"Slots: Get Rich Free Slots Casino Games Offline\",\"GAME CASINO\"],[\"Bingo Journey - Lucky & Fun Casino Bingo Games\",\"GAME CASINO\"],[\"Best Casino Free Slots: Casino Slot Machine Games\",\"GAME CASINO\"],[\"Stars Slots - Casino Games\",\"GAME CASINO\"],[\"Jackpot Magic Slots\\u2122: Social Casino & Slot Games\",\"GAME CASINO\"],[\"Bingo Holiday: Free Bingo Games\",\"GAME CASINO\"],[\"Free Slots!\",\"GAME CASINO\"],[\"\\u0e44\\u0e1e\\u0e48\\u0e41\\u0e04\\u0e07-\\u0e23\\u0e27\\u0e21\\u0e14\\u0e31\\u0e21\\u0e21\\u0e35\\u0e48dummy \\u0e1b\\u0e4a\\u0e2d\\u0e01\\u0e40\\u0e14\\u0e49\\u0e07 \\u0e40\\u0e01\\u0e49\\u0e32\\u0e40\\u0e01\\u0e44\\u0e17\\u0e22 \\u0e40\\u0e01\\u0e21\\u0e44\\u0e1e\\u0e48\\u0e1f\\u0e23\\u0e35\",\"GAME CASINO\"],[\"Cash Storm Casino - Free Vegas Jackpot Slots Games\",\"GAME CASINO\"],[\"Free Slots Casino - Adventures\",\"GAME CASINO\"],[\"myVEGAS Blackjack 21 - Free Vegas Casino Card Game\",\"GAME CASINO\"],[\"Cash Blitz Free Slots: Casino Slot Machine Games\",\"GAME CASINO\"],[\"SLOTS - Black Diamond Casino\",\"GAME CASINO\"],[\"Winning Slots casino games:free vegas slot machine\",\"GAME CASINO\"],[\"\\u0e44\\u0e1e\\u0e48\\u0e40\\u0e17\\u0e47\\u0e01\\u0e0b\\u0e31\\u0e2a\\u0e44\\u0e17\\u0e22 HD\",\"GAME CASINO\"],[\"Vegas Downtown Slots\\u2122 - Slot Machines & Word Games\",\"GAME CASINO\"],[\"\\u0e14\\u0e31\\u0e21\\u0e21\\u0e35\\u0e48\\u0e44\\u0e17\\u0e22\\u0e41\\u0e25\\u0e19\\u0e14\\u0e4c-\\u0e23\\u0e27\\u0e21\\u0e44\\u0e1e\\u0e48\\u0e41\\u0e04\\u0e07 \\u0e40\\u0e01\\u0e49\\u0e32\\u0e40\\u0e01 \\u0e44\\u0e2e\\u0e42\\u0e25 \\u0e40\\u0e01\\u0e21\\u0e44\\u0e1e\\u0e48\\u0e1f\\u0e23\\u0e35\",\"GAME CASINO\"],[\"Bingo\\u2122\",\"GAME CASINO\"],[\"Slots on Tour Casino - Vegas Slot Machine Games HD\",\"GAME CASINO\"],[\"Lightning Link Casino: Best Vegas Casino Slots!\",\"GAME CASINO\"],[\"Spin Day - Win Real Money\",\"GAME CASINO\"],[\"Old Vegas Slots \\u2013 Classic Slots Casino Games\",\"GAME CASINO\"],[\"Royal Casino\",\"GAME CASINO\"],[\"OMG! Fortune Slots - Grand Casino Games\",\"GAME CASINO\"],[\"Blackjack 21\",\"GAME CASINO\"],[\"Bingo Blaze - Free Bingo Games\",\"GAME CASINO\"],[\"Fun Big 2\",\"GAME CASINO\"],[\"Lotto Scratch \\u2013 Las Vegas\",\"GAME CASINO\"],[\"Slots: Free Slot Machines\",\"GAME CASINO\"],[\"Jackpot Crush \\u2013 Free Vegas Slot Machines\",\"GAME CASINO\"],[\"High 5 Casino: The Home of Fun & Free Vegas Slots\",\"GAME CASINO\"],[\"Slots! CashHit Slot Machines & Casino Games Party\",\"GAME CASINO\"],[\"Candy Crush Saga\",\"GAME CASUAL\"],[\"My Talking Tom\",\"GAME CASUAL\"],[\"My Talking Angela\",\"GAME CASUAL\"],[\"Hay Day\",\"GAME CASUAL\"],[\"Pou\",\"GAME CASUAL\"],[\"Gardenscapes\",\"GAME CASUAL\"],[\"Minion Rush: Despicable Me Official Game\",\"GAME CASUAL\"],[\"Homescapes\",\"GAME CASUAL\"],[\"Farm Heroes Saga\",\"GAME CASUAL\"],[\"Township\",\"GAME CASUAL\"],[\"Candy Crush Soda Saga\",\"GAME CASUAL\"],[\"Plants vs Zombies\\u2122 2 Free\",\"GAME CASUAL\"],[\"Coin Master\",\"GAME CASUAL\"],[\"Angry Birds 2\",\"GAME CASUAL\"],[\"My Cafe \\u2014 Restaurant Game. Serve & Manage\",\"GAME CASUAL\"],[\"The Simpsons\\u2122: Tapped Out\",\"GAME CASUAL\"],[\"My Talking Tom 2\",\"GAME CASUAL\"],[\"Bubble Witch 2 Saga\",\"GAME CASUAL\"],[\"FarmVille 2: Country Escape\",\"GAME CASUAL\"],[\"Talking Tom Cat\",\"GAME CASUAL\"],[\"My Home - Design Dreams\",\"GAME CASUAL\"],[\"Best Fiends - Free Puzzle Game\",\"GAME CASUAL\"],[\"PewDiePie's Tuber Simulator\",\"GAME CASUAL\"],[\"Ice Age Village\",\"GAME CASUAL\"],[\"My Talking Tom Friends\",\"GAME CASUAL\"],[\"Dumb Ways to Die 2: The Games\",\"GAME CASUAL\"],[\"Candy Crush Friends Saga\",\"GAME CASUAL\"],[\"Family Farm Seaside\",\"GAME CASUAL\"],[\"Bubble Shooter\",\"GAME CASUAL\"],[\"Pirate Kings\\u2122\\ufe0f\",\"GAME CASUAL\"],[\"MY LITTLE PONY: Magic Princess\",\"GAME CASUAL\"],[\"My Horse\",\"GAME CASUAL\"],[\"Blossom Blast Saga\",\"GAME CASUAL\"],[\"Gacha Club\",\"GAME CASUAL\"],[\"Diamond Digger Saga\",\"GAME CASUAL\"],[\"Farm Heroes Super Saga\",\"GAME CASUAL\"],[\"My Talking Hank\",\"GAME CASUAL\"],[\"Papa Pear Saga\",\"GAME CASUAL\"],[\"My Boo: Your Virtual Pet Game To Care and Play\",\"GAME CASUAL\"],[\"Puppy Town - Merge & Win\",\"GAME CASUAL\"],[\"Save The Girl\",\"GAME CASUAL\"],[\"Smurfs' Village\",\"GAME CASUAL\"],[\"My Dolphin Show\",\"GAME CASUAL\"],[\"Green Farm 3\",\"GAME CASUAL\"],[\"Pet Rescue Saga\",\"GAME CASUAL\"],[\"Good Pizza, Great Pizza\",\"GAME CASUAL\"],[\"Bubble Shooter\",\"GAME CASUAL\"],[\"Rodeo Stampede: Sky Zoo Safari\",\"GAME CASUAL\"],[\"Stickman Warriors\",\"GAME CASUAL\"],[\"Idle Arks: Build at Sea\",\"GAME CASUAL\"],[\"Bubbu \\u2013 My Virtual Pet\",\"GAME CASUAL\"],[\"BTS WORLD\",\"GAME CASUAL\"],[\"Let's Create! Pottery Lite\",\"GAME CASUAL\"],[\"Covet Fashion - Dress Up Game\",\"GAME CASUAL\"],[\"World Chef \\ud83c\\udf70\\ud83c\\udf54\\ud83c\\udf5d\\ud83c\\udf53\",\"GAME CASUAL\"],[\"What if..\",\"GAME CASUAL\"],[\"Virtual Families 2\",\"GAME CASUAL\"],[\"Angry Birds POP Bubble Shooter\",\"GAME CASUAL\"],[\"The Simpsons\\u2122: Tapped Out\",\"GAME CASUAL\"],[\"Wonder Zoo - Animal rescue !\",\"GAME CASUAL\"],[\"Furby BOOM!\",\"GAME CASUAL\"],[\"Shopping Mall Girl - Dress Up & Style Game\",\"GAME CASUAL\"],[\"Plants vs. Zombies\\u2122 2 Free\",\"GAME CASUAL\"],[\"Plants vs. Zombies\\u2122 Heroes\",\"GAME CASUAL\"],[\"Twist Hit!\",\"GAME CASUAL\"],[\"Hello Kitty Nail Salon\",\"GAME CASUAL\"],[\"Board Kings\\u2122\\ufe0f: Fun Board Games\",\"GAME CASUAL\"],[\"Moy 3 - Virtual Pet Game\",\"GAME CASUAL\"],[\"Fish Live\",\"GAME CASUAL\"],[\"Family Island\\u2122 - Farm game adventure\",\"GAME CASUAL\"],[\"Cow Evolution: Crazy Cow Making Idle Merge Games\",\"GAME CASUAL\"],[\"BlockBuild: Craft Your Dream World\",\"GAME CASUAL\"],[\"Paradise Island 2: Hotel Game\",\"GAME CASUAL\"],[\"Kiss Kiss: Spin the Bottle for Chatting & Fun\",\"GAME CASUAL\"],[\"Moy 2 - Virtual Pet Game\",\"GAME CASUAL\"],[\"Lost Island: Blast Adventure\",\"GAME CASUAL\"],[\"Stupid Zombies 3\",\"GAME CASUAL\"],[\"Idle Sightseeing Train - Game of Train Transport\",\"GAME CASUAL\"],[\"Dumb Ways to Die\",\"GAME CASUAL\"],[\"Bubble Shooter\",\"GAME CASUAL\"],[\"Fruit Block - Puzzle Legend\",\"GAME CASUAL\"],[\"Island Experiment\",\"GAME CASUAL\"],[\"Bubble Shooter\",\"GAME CASUAL\"],[\"Moy 4 - Virtual Pet Game\",\"GAME CASUAL\"],[\"Moy - Virtual Pet Game\",\"GAME CASUAL\"],[\"HappyFish\",\"GAME CASUAL\"],[\"Match Masters\",\"GAME CASUAL\"],[\"Gacha Studio (Anime Dress Up)\",\"GAME CASUAL\"],[\"Cooking Dash\",\"GAME CASUAL\"],[\"LINE \\u65c5\\u904a\\u5927\\u4ea8\",\"GAME CASUAL\"],[\"Little Big City 2\",\"GAME CASUAL\"],[\"Kids Doodle - Color & Draw Free Game\",\"GAME CASUAL\"],[\"Dance Clash: Ballet vs Hip Hop\",\"GAME CASUAL\"],[\"sand:box\",\"GAME CASUAL\"],[\"Gacha Life\",\"GAME CASUAL\"],[\"Wildscapes\",\"GAME CASUAL\"],[\"Bravoloto\",\"GAME CASUAL\"],[\"Harvest Land: Farm & City Building\",\"GAME CASUAL\"],[\"The Battle Cats\",\"GAME CASUAL\"],[\"Big Farm: Mobile Harvest \\u2013 Free Farming Game\",\"GAME CASUAL\"],[\"Toca Life World: Build stories & create your world\",\"GAME EDUCATIONAL\"],[\"Toca Kitchen 2\",\"GAME EDUCATIONAL\"],[\"Cooking Mama: Let's cook!\",\"GAME EDUCATIONAL\"],[\"\\u77e5\\u8b58\\u738b\",\"GAME EDUCATIONAL\"],[\"Animal Jam\",\"GAME EDUCATIONAL\"],[\"My Town: Home Doll house - Family Playhouse\",\"GAME EDUCATIONAL\"],[\"Skillz - Logic Brain Games\",\"GAME EDUCATIONAL\"],[\"Mandala Coloring Pages\",\"GAME EDUCATIONAL\"],[\"Baby Panda's Supermarket\",\"GAME EDUCATIONAL\"],[\"Baby Panda World\",\"GAME EDUCATIONAL\"],[\"Masha and the Bear. Educational Games\",\"GAME EDUCATIONAL\"],[\"Pepi House: Happy Family\",\"GAME EDUCATIONAL\"],[\"Math Games, Learn Add, Subtract, Multiply & Divide\",\"GAME EDUCATIONAL\"],[\"Girl Games: Unicorn Cooking Games for Girls Kids\",\"GAME EDUCATIONAL\"],[\"Pepi Super Stores: Fun & Games\",\"GAME EDUCATIONAL\"],[\"LEGO\\u00ae DUPLO\\u00ae Train\",\"GAME EDUCATIONAL\"],[\"Little Panda's Restaurant\",\"GAME EDUCATIONAL\"],[\"Smolsies - My Cute Pet House\",\"GAME EDUCATIONAL\"],[\"Baby Panda Care\",\"GAME EDUCATIONAL\"],[\"\\u8d85\\u7d1a\\u55ae\\u5b57\\u738b - \\u82f1\\u6aa2\\u3001\\u591a\\u76ca\\u3001\\u6258\\u798f \\u8f15\\u9b06\\u5b78\",\"GAME EDUCATIONAL\"],[\"Baby Panda's School Bus - Let's Drive!\",\"GAME EDUCATIONAL\"],[\"Baby Panda's Fashion Dress Up Game\",\"GAME EDUCATIONAL\"],[\"Truck games for kids - build a house, car wash\",\"GAME EDUCATIONAL\"],[\"Baby Games for 2,3,4 year old toddlers\",\"GAME EDUCATIONAL\"],[\"Fluvsies - A Fluff to Luv\",\"GAME EDUCATIONAL\"],[\"My Town : Police Station. Policeman Game for Kids\",\"GAME EDUCATIONAL\"],[\"Baby Panda\\u2019s Ice Cream Shop\",\"GAME EDUCATIONAL\"],[\"Coloring & Learn\",\"GAME EDUCATIONAL\"],[\"Meow Meow Star Acres\",\"GAME EDUCATIONAL\"],[\"Supermarket: Shopping Games for Kids\",\"GAME EDUCATIONAL\"],[\"Little Panda's Chinese Recipes\",\"GAME EDUCATIONAL\"],[\"Little Panda Policeman\",\"GAME EDUCATIONAL\"],[\"\\u0645\\u0646 \\u0633\\u064a\\u0631\\u0628\\u062d \\u0627\\u0644\\u0645\\u0644\\u064a\\u0648\\u0646 \\u0627\\u0644\\u0645\\u0648\\u0633\\u0648\\u0639\\u0629\",\"GAME EDUCATIONAL\"],[\"Do Not Disturb! Get Prankster in a Hilarious Game\",\"GAME EDUCATIONAL\"],[\"My Town: Play & Discover - City Builder Game\",\"GAME EDUCATIONAL\"],[\"Make-Up Me: Superstar\",\"GAME EDUCATIONAL\"],[\"Multiplication Table Kids Math\",\"GAME EDUCATIONAL\"],[\"MentalUP - Learning Games & Brain Games\",\"GAME EDUCATIONAL\"],[\"Math Exercises for the brain, Math Riddles, Puzzle\",\"GAME EDUCATIONAL\"],[\"Princess Salon: Frozen Party\",\"GAME EDUCATIONAL\"],[\"Little Panda\\u2019s Summer: Ice Cream Bars\",\"GAME EDUCATIONAL\"],[\"Little Panda: Princess Makeup\",\"GAME EDUCATIONAL\"],[\"Reaction training\",\"GAME EDUCATIONAL\"],[\"Make-Up Me\",\"GAME EDUCATIONAL\"],[\"Bini Super ABC! Preschool Learning Games for Kids!\",\"GAME EDUCATIONAL\"],[\"LEGO\\u00ae DUPLO\\u00ae Town\",\"GAME EDUCATIONAL\"],[\"My Town : Fashion Show\",\"GAME EDUCATIONAL\"],[\"Little Panda's Farm Story\",\"GAME EDUCATIONAL\"],[\"Little Panda: Princess Dress Up\",\"GAME EDUCATIONAL\"],[\"\\u0421\\u043a\\u0430\\u0437\\u043a\\u0438 \\u0438 \\u0440\\u0430\\u0437\\u0432\\u0438\\u0432\\u0430\\u044e\\u0449\\u0438\\u0435 \\u0438\\u0433\\u0440\\u044b \\u0434\\u043b\\u044f \\u0434\\u0435\\u0442\\u0435\\u0439, \\u043c\\u0430\\u043b\\u044b\\u0448\\u0435\\u0439\",\"GAME EDUCATIONAL\"],[\"Baby Panda's Carnival - Christmas Amusement Park\",\"GAME EDUCATIONAL\"],[\"My Town : Beauty contest - Dress Up Game for Girls\",\"GAME EDUCATIONAL\"],[\"Monster Trucks Game for Kids 2\",\"GAME EDUCATIONAL\"],[\"\\u307b\\u3057\\u306e\\u5cf6\\u306e\\u306b\\u3083\\u3093\\u3053\",\"GAME EDUCATIONAL\"],[\"Urban City Stories\",\"GAME EDUCATIONAL\"],[\"Jungle Animal Hair Salon - Styling Game for Kids\",\"GAME EDUCATIONAL\"],[\"Tailor Kids\",\"GAME EDUCATIONAL\"],[\"Snow Cone Maker - Frozen Foods\",\"GAME EDUCATIONAL\"],[\"Baby Phone for Kids - Learning Numbers and Animals\",\"GAME EDUCATIONAL\"],[\"Memory Games: Brain Training\",\"GAME EDUCATIONAL\"],[\"My Town : Best Friends' House games for kids\",\"GAME EDUCATIONAL\"],[\"Moonzy. Kids Mini-Games\",\"GAME EDUCATIONAL\"],[\"Little Panda's Candy Shop\",\"GAME EDUCATIONAL\"],[\"Kids Animals Jigsaw Puzzles \\u2764\\ufe0f\\ud83e\\udd84\",\"GAME EDUCATIONAL\"],[\"Kids Educational Game 5\",\"GAME EDUCATIONAL\"],[\"Baby Panda's Town: Life\",\"GAME EDUCATIONAL\"],[\"Baby care\",\"GAME EDUCATIONAL\"],[\"Bini Drawing for Kids! Learning Games for Toddlers\",\"GAME EDUCATIONAL\"],[\"Girls Hair Salon - Hairstyle makeover kids games\",\"GAME EDUCATIONAL\"],[\"Princess Coloring Book Glitter & Girls Dress Up\",\"GAME EDUCATIONAL\"],[\"Bubbu School - My Cute Pets | Animal School Game\",\"GAME EDUCATIONAL\"],[\"Bucha h\\u1ecdc ti\\u1ebfng Anh - T\\u1eeb v\\u1ef1ng, Giao ti\\u1ebfp, Ng\\u1eef ph\\u00e1p\",\"GAME EDUCATIONAL\"],[\"Math Games\",\"GAME EDUCATIONAL\"],[\"Trip to the zoo for kids\",\"GAME EDUCATIONAL\"],[\"Ice Queen's Beauty SPA Salon\",\"GAME EDUCATIONAL\"],[\"Cinderella - Story Games and Puzzles\",\"GAME EDUCATIONAL\"],[\"Princess Coloring Game\",\"GAME EDUCATIONAL\"],[\"Baby Panda\\u2019s Summer: Caf\\u00e9\",\"GAME EDUCATIONAL\"],[\"Sweet Baby Girl Cleanup 5 - Messy House Makeover\",\"GAME EDUCATIONAL\"],[\"My Town : Grandparents Play home Fun Life Game\",\"GAME EDUCATIONAL\"],[\"Baby Panda\\u2019s Color Mixing Studio\",\"GAME EDUCATIONAL\"],[\"Colors for Kids, Toddlers, Babies - Learning Game\",\"GAME EDUCATIONAL\"],[\"My Baby Panda Chef\",\"GAME EDUCATIONAL\"],[\"Halloween Makeup Me\",\"GAME EDUCATIONAL\"],[\"\\u0410\\u043d\\u0433\\u043b\\u0438\\u0439\\u0441\\u043a\\u0438\\u0439 \\u0434\\u043b\\u044f \\u041d\\u0430\\u0447\\u0438\\u043d\\u0430\\u044e\\u0449\\u0438\\u0445: LinDuo HD\",\"GAME EDUCATIONAL\"],[\"Central Hospital Stories\",\"GAME EDUCATIONAL\"],[\"My Little Princess Castle - Playhouse & Girls Game\",\"GAME EDUCATIONAL\"],[\"Airport Professions: Fascinating games\",\"GAME EDUCATIONAL\"],[\"Masha and the Bear: Good Night!\",\"GAME EDUCATIONAL\"],[\"Little Panda\\u2019s Space Kitchen - Kids Cooking\",\"GAME EDUCATIONAL\"],[\"Funny Food! Educational games for kids 3 years old\",\"GAME EDUCATIONAL\"],[\"Baby Panda's Town: My Dream\",\"GAME EDUCATIONAL\"],[\"My Town : Bakery - Cooking & Baking Game for Kids\",\"GAME EDUCATIONAL\"],[\"Sweet Baby Girl Summer Fun 2 - Sunny Makeover Game\",\"GAME EDUCATIONAL\"],[\"My Town: After School Neighborhood Street\",\"GAME EDUCATIONAL\"],[\"Animals Farm For Kids\",\"GAME EDUCATIONAL\"],[\"My Baby Unicorn - Virtual Pony Pet Care & Dress Up\",\"GAME EDUCATIONAL\"],[\"Fairy Tales ~ Children\\u2019s Books, Stories and Games\",\"GAME EDUCATIONAL\"],[\"Vacation Hotel Stories\",\"GAME EDUCATIONAL\"],[\"Kpopsies - Hatch Your Unicorn Idol\",\"GAME EDUCATIONAL\"],[\"Tiles Hop: EDM Rush!\",\"GAME MUSIC\"],[\"Magic Tiles 3\",\"GAME MUSIC\"],[\"My Singing Monsters\",\"GAME MUSIC\"],[\"Piano Free - Keyboard with Magic Tiles Music Games\",\"GAME MUSIC\"],[\"Dancing Road: Color Ball Run!\",\"GAME MUSIC\"],[\"Dream Piano - Music Game\",\"GAME MUSIC\"],[\"Rock Hero\",\"GAME MUSIC\"],[\"Real Guitar Free - Chords, Tabs & Simulator Games\",\"GAME MUSIC\"],[\"Cytus\",\"GAME MUSIC\"],[\"DEEMO\",\"GAME MUSIC\"],[\"Piano Kids - Music & Songs\",\"GAME MUSIC\"],[\"SongPop\",\"GAME MUSIC\"],[\"Piano Music Go 2020: EDM Piano Games\",\"GAME MUSIC\"],[\"Music Hero - Rhythm Beat Tap\",\"GAME MUSIC\"],[\"Real Piano Teacher\",\"GAME MUSIC\"],[\"Beat Fire - EDM Music & Gun Sounds\",\"GAME MUSIC\"],[\"Sonic Cat - Slash the Beats\",\"GAME MUSIC\"],[\"Drum Set Music Games & Drums Kit Simulator\",\"GAME MUSIC\"],[\"Dancing Ballz: Magic Dance Line Tiles Game\",\"GAME MUSIC\"],[\"BEAT MP3 - Rhythm Game\",\"GAME MUSIC\"],[\"Guitar Band Battle\",\"GAME MUSIC\"],[\"AVATAR MUSIK - Music and Dance Game\",\"GAME MUSIC\"],[\"Music Racer\",\"GAME MUSIC\"],[\"BEAT MP3 2.0 - Rhythm Game\",\"GAME MUSIC\"],[\"SuperStar SMTOWN\",\"GAME MUSIC\"],[\"Dot n Beat - Magic Music Game\",\"GAME MUSIC\"],[\"Smash Colors 3D - Free Beat Color Rhythm Ball Game\",\"GAME MUSIC\"],[\"Love Live! School idol festival- Music Rhythm Game\",\"GAME MUSIC\"],[\"Piano Games - Free Music Piano Challenge 2020\",\"GAME MUSIC\"],[\"Hop Ball 3D: Dancing Ball on the Music Tiles\",\"GAME MUSIC\"],[\"Beat Craft\",\"GAME MUSIC\"],[\"Rhythm Hive : Play with BTS, TXT, ENHYPEN!\",\"GAME MUSIC\"],[\"Give It Up! - Beat Jumper & Music Rhythm Tap\",\"GAME MUSIC\"],[\"One More Line\",\"GAME MUSIC\"],[\"Tap Tap Music-Pop Songs\",\"GAME MUSIC\"],[\"SongPop 2 - Guess The Song\",\"GAME MUSIC\"],[\"My Singing Monsters: Dawn of Fire\",\"GAME MUSIC\"],[\"Just Dance Now\",\"GAME MUSIC\"],[\"\\u30d0\\u30f3\\u30c9\\u30ea\\uff01 \\u30ac\\u30fc\\u30eb\\u30ba\\u30d0\\u30f3\\u30c9\\u30d1\\u30fc\\u30c6\\u30a3\\uff01\",\"GAME MUSIC\"],[\"Piano Magic Tiles Hot song - Free Piano Game\",\"GAME MUSIC\"],[\"Helix Crush\",\"GAME MUSIC\"],[\"Piano Game Classic - Challenge Music Song\",\"GAME MUSIC\"],[\"Piano Solo - Magic Dream tiles game 4\",\"GAME MUSIC\"],[\"Cytus II\",\"GAME MUSIC\"],[\"Just Dance Controller\",\"GAME MUSIC\"],[\"VOEZ\",\"GAME MUSIC\"],[\"\\u30e9\\u30d6\\u30e9\\u30a4\\u30d6\\uff01\\u30b9\\u30af\\u30fc\\u30eb\\u30a2\\u30a4\\u30c9\\u30eb\\u30d5\\u30a7\\u30b9\\u30c6\\u30a3\\u30d0\\u30eb\\uff08\\u30b9\\u30af\\u30d5\\u30a7\\u30b9\\uff09 - \\u5927\\u4eba\\u6c17\\u30ea\\u30ba\\u30e0\\u30b2\\u30fc\\u30e0\",\"GAME MUSIC\"],[\"Au Mobile VTC \\u2013 Game nh\\u1ea3y Audition\",\"GAME MUSIC\"],[\"BanG Dream! Girls Band Party!\",\"GAME MUSIC\"],[\"UniPad\",\"GAME MUSIC\"],[\"Drum set\",\"GAME MUSIC\"],[\"Piano Magic Tiles Pop Music 2\",\"GAME MUSIC\"],[\"Piano - Play & Learn Music\",\"GAME MUSIC\"],[\"Piano Fire - EDM Music & New Rhythm\",\"GAME MUSIC\"],[\"Piano Master 2\",\"GAME MUSIC\"],[\"Piano Games Mini: Music Instrument & Rhythm\",\"GAME MUSIC\"],[\"LIT killah: The Game\",\"GAME MUSIC\"],[\"Rock vs Guitar Legends 2017 HD\",\"GAME MUSIC\"],[\"Love Live! School idol festival - \\u97f3\\u6a02\\u7bc0\\u594f\\u904a\\u6232\",\"GAME MUSIC\"],[\"Beat Bop: Pop Star Clicker\",\"GAME MUSIC\"],[\"Don't Forget the Lyrics\",\"GAME MUSIC\"],[\"6ix9ine Runner\",\"GAME MUSIC\"],[\"Beat Roller - Music Ball Race\",\"GAME MUSIC\"],[\"\\u30a2\\u30a4\\u30c9\\u30eb\\u30de\\u30b9\\u30bf\\u30fc \\u30b7\\u30f3\\u30c7\\u30ec\\u30e9\\u30ac\\u30fc\\u30eb\\u30ba \\u30b9\\u30bf\\u30fc\\u30e9\\u30a4\\u30c8\\u30b9\\u30c6\\u30fc\\u30b8\",\"GAME MUSIC\"],[\"Marshmello Music Dance\",\"GAME MUSIC\"],[\"Drum kit (Drums) free\",\"GAME MUSIC\"],[\"Tebak Lagu Indonesia\",\"GAME MUSIC\"],[\"Lost in Harmony\",\"GAME MUSIC\"],[\"Real Piano Teacher 2\",\"GAME MUSIC\"],[\"SHOW BY ROCK!![\\u723d\\u5feb\\u97f3\\u30b2\\u30fc \\u30b7\\u30e7\\u30a6\\u30d0\\u30a4\\u30ed\\u30c3\\u30af\\uff3d\",\"GAME MUSIC\"],[\"Beat Racer\",\"GAME MUSIC\"],[\"AyoDance Mobile\",\"GAME MUSIC\"],[\"Beat Jumper: EDM up!\",\"GAME MUSIC\"],[\"Popscene (Music Industry Sim)\",\"GAME MUSIC\"],[\"Rock Hero 2\",\"GAME MUSIC\"],[\"PianoTiles 3\",\"GAME MUSIC\"],[\"SuperStar YG\",\"GAME MUSIC\"],[\"Opsu!(Beatmap player for Android)\",\"GAME MUSIC\"],[\"Dynamix\",\"GAME MUSIC\"],[\"\\u30a2\\u30a4\\u30c9\\u30ea\\u30c3\\u30b7\\u30e5\\u30bb\\u30d6\\u30f3\",\"GAME MUSIC\"],[\"Beat Blade: Dash Dance\",\"GAME MUSIC\"],[\"Color Hop 3D - Music Game\",\"GAME MUSIC\"],[\"Au 2 - Chu\\u1ea9n Audition Mobile\",\"GAME MUSIC\"],[\"Mini Piano\",\"GAME MUSIC\"],[\"YASUHATI / With your voice!\",\"GAME MUSIC\"],[\"Beat Shooter\",\"GAME MUSIC\"],[\"Anime Tiles: Piano Music\",\"GAME MUSIC\"],[\"Happy Piano - Touch Music\",\"GAME MUSIC\"],[\"Project: Muse\",\"GAME MUSIC\"],[\"Beat Shooter - Gunshots Rhythm Game\",\"GAME MUSIC\"],[\"Pink Piano\",\"GAME MUSIC\"],[\"\\u30d7\\u30ed\\u30b8\\u30a7\\u30af\\u30c8\\u30bb\\u30ab\\u30a4 \\u30ab\\u30e9\\u30d5\\u30eb\\u30b9\\u30c6\\u30fc\\u30b8\\uff01 feat. \\u521d\\u97f3\\u30df\\u30af\",\"GAME MUSIC\"],[\"Piano Music Tiles 2 - Free Music Games\",\"GAME MUSIC\"],[\"Harmonium\",\"GAME MUSIC\"],[\"TAPSONIC TOP - Music Grand prix\",\"GAME MUSIC\"],[\"Magic Tiles Vocal & Piano Top Songs New Games\",\"GAME MUSIC\"],[\"Piano Detector\",\"GAME MUSIC\"],[\"Muse Dash\",\"GAME MUSIC\"],[\"Lanota - Dynamic & Challenging Music Game\",\"GAME MUSIC\"],[\"Berpacu Dalam Melody Indonesia\",\"GAME MUSIC\"],[\"Fishdom\",\"GAME PUZZLE\"],[\"Brain Out \\u2013 Can you pass it?\",\"GAME PUZZLE\"],[\"Toon Blast\",\"GAME PUZZLE\"],[\"Toy Blast\",\"GAME PUZZLE\"],[\"Bubble Witch 3 Saga\",\"GAME PUZZLE\"],[\"Cut the Rope 2\",\"GAME PUZZLE\"],[\"Where's My Water? 2\",\"GAME PUZZLE\"],[\"Empires & Puzzles: Epic Match 3\",\"GAME PUZZLE\"],[\"Pixel Art: Color by Number\",\"GAME PUZZLE\"],[\"Matchington Mansion\",\"GAME PUZZLE\"],[\"Disney Frozen Free Fall - Play Frozen Puzzle Games\",\"GAME PUZZLE\"],[\"Sudoku.com - Free Sudoku\",\"GAME PUZZLE\"],[\"\\u0636\\u0631\\u0628\\u0629 \\u0645\\u0639\\u0644\\u0645 - \\u0644\\u0639\\u0628\\u0629 \\u0627\\u0644\\u063a\\u0627\\u0632 \\u0645\\u0633\\u0644\\u064a\\u0629\",\"GAME PUZZLE\"],[\"Candy Crush Jelly Saga\",\"GAME PUZZLE\"],[\"Roll the Ball\\u00ae - slide puzzle\",\"GAME PUZZLE\"],[\"Block Puzzle Jewel\",\"GAME PUZZLE\"],[\"Flow Free\",\"GAME PUZZLE\"],[\"2048 Number puzzle game\",\"GAME PUZZLE\"],[\"Escape Titanic\",\"GAME PUZZLE\"],[\"Bad Piggies\",\"GAME PUZZLE\"],[\"Manor Cafe\",\"GAME PUZZLE\"],[\"LINE\\uff1a\\u30c7\\u30a3\\u30ba\\u30cb\\u30fc \\u30c4\\u30e0\\u30c4\\u30e0\",\"GAME PUZZLE\"],[\"Bubble Shooter: Panda Pop!\",\"GAME PUZZLE\"],[\"Merge Dragons!\",\"GAME PUZZLE\"],[\"Cut the Rope: Time Travel\",\"GAME PUZZLE\"],[\"Cookie Jam\\u2122 Match 3 Games | Connect 3 or More\",\"GAME PUZZLE\"],[\"Lily\\u2019s Garden\",\"GAME PUZZLE\"],[\"Jigsaw Puzzles - Puzzle Games\",\"GAME PUZZLE\"],[\"Indy Cat for VK\",\"GAME PUZZLE\"],[\"\\uc560\\ub2c8\\ud3212\",\"GAME PUZZLE\"],[\"Can You Escape\",\"GAME PUZZLE\"],[\"Happy Glass\",\"GAME PUZZLE\"],[\"Two Dots\",\"GAME PUZZLE\"],[\"Tower of Saviors\",\"GAME PUZZLE\"],[\"Shoot Bubble Deluxe\",\"GAME PUZZLE\"],[\"Pirate Treasures - Gems Puzzle\",\"GAME PUZZLE\"],[\"Doodle Alchemy\",\"GAME PUZZLE\"],[\"Escape game : 50 rooms 1\",\"GAME PUZZLE\"],[\"Infinity Loop \\u00ae\",\"GAME PUZZLE\"],[\"Jigty Jigsaw Puzzles\",\"GAME PUZZLE\"],[\"Unblock Me FREE\",\"GAME PUZZLE\"],[\"Sudoku - Free Classic Sudoku Puzzles\",\"GAME PUZZLE\"],[\"Bubble Blast 2\",\"GAME PUZZLE\"],[\"Unblock Ball - Block Puzzle\",\"GAME PUZZLE\"],[\"Mouse\",\"GAME PUZZLE\"],[\"Inside Out Thought Bubbles\",\"GAME PUZZLE\"],[\"MonsterBusters: Match 3 Puzzle\",\"GAME PUZZLE\"],[\"Love Balls\",\"GAME PUZZLE\"],[\"Mr Bullet - Spy Puzzles\",\"GAME PUZZLE\"],[\"LINE Bubble 2\",\"GAME PUZZLE\"],[\"Mazes & More\",\"GAME PUZZLE\"],[\"Matches Puzzle Game\",\"GAME PUZZLE\"],[\"\\u30d1\\u30ba\\u30eb\\uff06\\u30c9\\u30e9\\u30b4\\u30f3\\u30ba(Puzzle & Dragons)\",\"GAME PUZZLE\"],[\"Sudoku\",\"GAME PUZZLE\"],[\"Marble Legend\",\"GAME PUZZLE\"],[\"Hello Stars\",\"GAME PUZZLE\"],[\"Wood Block Puzzle\",\"GAME PUZZLE\"],[\"Harry Potter: Puzzles & Spells - Match-3 Magic\",\"GAME PUZZLE\"],[\"LINE: Disney Tsum Tsum\",\"GAME PUZZLE\"],[\"Easy Game - Brain Test and Tricky Mind Puzzles\",\"GAME PUZZLE\"],[\"Block! Hexa Puzzle\\u2122\",\"GAME PUZZLE\"],[\"Sweet Fruit Candy\",\"GAME PUZZLE\"],[\"Cut the Rope: Experiments\",\"GAME PUZZLE\"],[\"House Paint\",\"GAME PUZZLE\"],[\"Escape the Mansion\",\"GAME PUZZLE\"],[\"Block Puzzle - Free Classic Wood Block Puzzle Game\",\"GAME PUZZLE\"],[\"Dig This!\",\"GAME PUZZLE\"],[\"Brain Wars\",\"GAME PUZZLE\"],[\"Nonogram.com - Picture cross number puzzle\",\"GAME PUZZLE\"],[\"Gummy Drop! Match to restore and build cities\",\"GAME PUZZLE\"],[\"Charm King\",\"GAME PUZZLE\"],[\"Gemmy Lands: New Match 3 Games 2021 to Crush Gems\",\"GAME PUZZLE\"],[\"Energy: Anti Stress Loops\",\"GAME PUZZLE\"],[\"Brain It On! - Physics Puzzles\",\"GAME PUZZLE\"],[\"Find The Differences - The Detective\",\"GAME PUZZLE\"],[\"Disney Emoji Blitz\",\"GAME PUZZLE\"],[\"Troll Face Quest: Video Memes - Brain Game\",\"GAME PUZZLE\"],[\"Slugterra: Slug it Out 2\",\"GAME PUZZLE\"],[\"Cut the Rope: Magic\",\"GAME PUZZLE\"],[\"1010! Block Puzzle Game\",\"GAME PUZZLE\"],[\"That Level Again\",\"GAME PUZZLE\"],[\"Train Taxi\",\"GAME PUZZLE\"],[\"Sudoku\",\"GAME PUZZLE\"],[\"ASolver - show me the puzzle, and I will solve it\",\"GAME PUZZLE\"],[\"Crazy Kitchen: Match 3 Puzzles\",\"GAME PUZZLE\"],[\"Tebak Gambar\",\"GAME PUZZLE\"],[\"Build a Bridge!\",\"GAME PUZZLE\"],[\"PixWords\\u2122\",\"GAME PUZZLE\"],[\"Match 3D - Matching Puzzle Game\",\"GAME PUZZLE\"],[\"How to Loot - Pin Pull & Hero Rescue\",\"GAME PUZZLE\"],[\"LINE PokoPoko - Play with POKOTA! Free puzzler!\",\"GAME PUZZLE\"],[\"Blockudoku\\u00ae - Block Puzzle Game\",\"GAME PUZZLE\"],[\"Rescue Cut - Rope Puzzle\",\"GAME PUZZLE\"],[\"DOP 2: Delete One Part\",\"GAME PUZZLE\"],[\"Block Puzzle & Conquer\",\"GAME PUZZLE\"],[\"Antistress - relaxation toys\",\"GAME PUZZLE\"],[\"Cut the Rope FULL FREE\",\"GAME PUZZLE\"],[\"Color Fill 3D\",\"GAME PUZZLE\"],[\"\\ub514\\uc988\\ub2c8 \\ud2c0\\ub9b0\\uadf8\\ub9bc\\ucc3e\\uae30\",\"GAME PUZZLE\"],[\"Who Is The Killer? Episode I\",\"GAME PUZZLE\"],[\"Hill Climb Racing\",\"GAME RACING\"],[\"Traffic Rider\",\"GAME RACING\"],[\"Traffic Racer\",\"GAME RACING\"],[\"Dr. Driving\",\"GAME RACING\"],[\"Need for Speed\\u2122 No Limits\",\"GAME RACING\"],[\"CSR Racing 2 \\u2013 Free Car Racing Game\",\"GAME RACING\"],[\"Angry Birds Go!\",\"GAME RACING\"],[\"Extreme Car Driving Simulator\",\"GAME RACING\"],[\"Bike Race Free - Top Motorcycle Racing Games\",\"GAME RACING\"],[\"CSR Racing\",\"GAME RACING\"],[\"Fun Race 3D\",\"GAME RACING\"],[\"Beach Buggy Racing\",\"GAME RACING\"],[\"Asphalt 9: Legends\",\"GAME RACING\"],[\"Fast Racing 3D\",\"GAME RACING\"],[\"Earn to Die 2\",\"GAME RACING\"],[\"Asphalt Nitro\",\"GAME RACING\"],[\"City Racing 3D\",\"GAME RACING\"],[\"Nitro Nation Drag & Drift Car Racing\",\"GAME RACING\"],[\"Racing Fever\",\"GAME RACING\"],[\"Drive Ahead!\",\"GAME RACING\"],[\"Street Racing 3D\",\"GAME RACING\"],[\"Drift Max Pro - Car Drifting Game with Racing Cars\",\"GAME RACING\"],[\"Driving School 2016\",\"GAME RACING\"],[\"Racing in Car\",\"GAME RACING\"],[\"Drift \\u0647\\u062c\\u0648\\u0644\\u0629\",\"GAME RACING\"],[\"Trials Frontier\",\"GAME RACING\"],[\"Bike Racing 3D\",\"GAME RACING\"],[\"CarX Drift Racing\",\"GAME RACING\"],[\"Asphalt 8 Racing Game - Drive, Drift at Real Speed\",\"GAME RACING\"],[\"CSR Classics\",\"GAME RACING\"],[\"BMX Boy\",\"GAME RACING\"],[\"Racing Moto\",\"GAME RACING\"],[\"Real Bike Racing\",\"GAME RACING\"],[\"Turbo Stars - Rival Racing\",\"GAME RACING\"],[\"Top Speed: Drag & Fast Racing\",\"GAME RACING\"],[\"CarX Highway Racing\",\"GAME RACING\"],[\"Trial Xtreme 4: Extreme Bike Racing Champions\",\"GAME RACING\"],[\"Dr. Parking 4\",\"GAME RACING\"],[\"Racing in Car 2\",\"GAME RACING\"],[\"Drag Racing\",\"GAME RACING\"],[\"Moto Rider GO: Highway Traffic\",\"GAME RACING\"],[\"Uphill Rush Water Park Racing\",\"GAME RACING\"],[\"Asphalt Xtreme: Rally Racing\",\"GAME RACING\"],[\"Turbo Driving Racing 3D\",\"GAME RACING\"],[\"Driving School 2017\",\"GAME RACING\"],[\"City Racing Lite\",\"GAME RACING\"],[\"MotoGP Racing '20\",\"GAME RACING\"],[\"Earn to Die Lite\",\"GAME RACING\"],[\"Garena Speed Drifters\",\"GAME RACING\"],[\"Rally Racer Dirt\",\"GAME RACING\"],[\"F1 Clash\",\"GAME RACING\"],[\"Rally Fury - Extreme Racing\",\"GAME RACING\"],[\"Racing Fever: Moto\",\"GAME RACING\"],[\"Real Drift Car Racing Lite\",\"GAME RACING\"],[\"MadOut2 BigCityOnline\",\"GAME RACING\"],[\"Ultimate Car Driving Simulator\",\"GAME RACING\"],[\"Crazy for Speed\",\"GAME RACING\"],[\"Mad Skills Motocross 2\",\"GAME RACING\"],[\"Real City Car Driver\",\"GAME RACING\"],[\"Highway Rider Motorcycle Racer\",\"GAME RACING\"],[\"Blocky Roads\",\"GAME RACING\"],[\"Road Riot\",\"GAME RACING\"],[\"Crash of Cars\",\"GAME RACING\"],[\"Beach Buggy Racing 2\",\"GAME RACING\"],[\"Real Racing 3\",\"GAME RACING\"],[\"SUP Multiplayer Racing\",\"GAME RACING\"],[\"KartRider Rush+\",\"GAME RACING\"],[\"Hill Climb Racing 2\",\"GAME RACING\"],[\"Boomerang Make and Race - Scooby-Doo Racing Game\",\"GAME RACING\"],[\"Moto X3M Bike Race Game\",\"GAME RACING\"],[\"Offroad Legends - Monster Truck Trials\",\"GAME RACING\"],[\"Traffic Tour\",\"GAME RACING\"],[\"Dubai Drift 2\",\"GAME RACING\"],[\"Moto Wheelie\",\"GAME RACING\"],[\"Mountain Climb 4x4 : Offroad Car Drive\",\"GAME RACING\"],[\"CarX Drift Racing 2\",\"GAME RACING\"],[\"Zombie Squad\",\"GAME RACING\"],[\"Crazy for Speed 2\",\"GAME RACING\"],[\"Moto Racer 3D\",\"GAME RACING\"],[\"Toy Truck Rally 3D\",\"GAME RACING\"],[\"Truck Driver Cargo\",\"GAME RACING\"],[\"Demolition Derby 3\",\"GAME RACING\"],[\"Top Drives \\u2013 Car Cards Racing\",\"GAME RACING\"],[\"Racing Limits\",\"GAME RACING\"],[\"\\ud83d\\ude93\\ud83d\\udea6Car Driving School Simulator \\ud83d\\ude95\\ud83d\\udeb8\",\"GAME RACING\"],[\"Race the Traffic\",\"GAME RACING\"],[\"Redline Rush: Police Chase Racing\",\"GAME RACING\"],[\"GT Racing 2: The Real Car Exp\",\"GAME RACING\"],[\"Monster Truck Destruction\\u2122\",\"GAME RACING\"],[\"Real Racing 3\",\"GAME RACING\"],[\"MMX Hill Dash\",\"GAME RACING\"],[\"Stickman Downhill Motocross\",\"GAME RACING\"],[\"MOTO LOKO HD\",\"GAME RACING\"],[\"Offroad Legends 2\",\"GAME RACING\"],[\"DATA WING\",\"GAME RACING\"],[\"Race the Traffic Moto\",\"GAME RACING\"],[\"Epic Race 3D\",\"GAME RACING\"],[\"Drift Max\",\"GAME RACING\"],[\"City Driving 3D\",\"GAME RACING\"],[\"Torque Burnout\",\"GAME RACING\"],[\"Shadow Fight 3 - RPG fighting game\",\"GAME ROLE PLAYING\"],[\"AFK Arena\",\"GAME ROLE PLAYING\"],[\"Avakin Life - 3D Virtual World\",\"GAME ROLE PLAYING\"],[\"Flight Pilot Simulator 3D Free\",\"GAME ROLE PLAYING\"],[\"Angry Birds Epic RPG\",\"GAME ROLE PLAYING\"],[\"Eternium\",\"GAME ROLE PLAYING\"],[\"Star Wars\\u2122: Galaxy of Heroes\",\"GAME ROLE PLAYING\"],[\"\\ubaac\\uc2a4\\ud130 \\uae38\\ub4e4\\uc774\\uae30\",\"GAME ROLE PLAYING\"],[\"Darkness Rises\",\"GAME ROLE PLAYING\"],[\"Hustle Castle: Medieval games in the kingdom\",\"GAME ROLE PLAYING\"],[\"RAID: Shadow Legends\",\"GAME ROLE PLAYING\"],[\"Tap Titans\",\"GAME ROLE PLAYING\"],[\"Hero Wars \\u2013 Hero Fantasy Multiplayer Battles\",\"GAME ROLE PLAYING\"],[\"MovieStarPlanet\",\"GAME ROLE PLAYING\"],[\"Magic Rush: Heroes\",\"GAME ROLE PLAYING\"],[\"\\uc138\\ube10\\ub098\\uc774\\uce20\",\"GAME ROLE PLAYING\"],[\"Idle Heroes\",\"GAME ROLE PLAYING\"],[\"RPG Toram Online - MMORPG\",\"GAME ROLE PLAYING\"],[\"Shakes and Fidget\",\"GAME ROLE PLAYING\"],[\"Tap Titans 2: Heroes Attack Titans. Clicker on!\",\"GAME ROLE PLAYING\"],[\"Kritika: The White Knights\",\"GAME ROLE PLAYING\"],[\"FINAL FANTASY BRAVE EXVIUS\",\"GAME ROLE PLAYING\"],[\"Dungeon Hunter 5 \\u2013 Action RPG\",\"GAME ROLE PLAYING\"],[\"The Wolf\",\"GAME ROLE PLAYING\"],[\"Brave Frontier\",\"GAME ROLE PLAYING\"],[\"Identity V\",\"GAME ROLE PLAYING\"],[\"ONE PIECE TREASURE CRUISE\",\"GAME ROLE PLAYING\"],[\"Super Stylist - Makeover & Style Fashion Guru\",\"GAME ROLE PLAYING\"],[\"School of Dragons\",\"GAME ROLE PLAYING\"],[\"Mobile Legends: Adventure\",\"GAME ROLE PLAYING\"],[\"International Fashion Stylist - Dress Up Games\",\"GAME ROLE PLAYING\"],[\"Battle Camp - Monster Catching\",\"GAME ROLE PLAYING\"],[\"My Candy Love - Episode / Otome game\",\"GAME ROLE PLAYING\"],[\"Day R Survival \\u2013 Apocalypse, Lone Survivor and RPG\",\"GAME ROLE PLAYING\"],[\"Don't get fired!\",\"GAME ROLE PLAYING\"],[\"LifeAfter\",\"GAME ROLE PLAYING\"],[\"Inotia 4\",\"GAME ROLE PLAYING\"],[\"Dragon Village\",\"GAME ROLE PLAYING\"],[\"MARVEL Strike Force - Squad RPG\",\"GAME ROLE PLAYING\"],[\"Game of Sultans\",\"GAME ROLE PLAYING\"],[\"Sky: Children of the Light\",\"GAME ROLE PLAYING\"],[\"Age of Warring Empire\",\"GAME ROLE PLAYING\"],[\"\\ub808\\uc774\\ube10 : LEGION\",\"GAME ROLE PLAYING\"],[\"Crusaders Quest\",\"GAME ROLE PLAYING\"],[\"Galaxy Legend - Cosmic Conquest Sci-Fi Game\",\"GAME ROLE PLAYING\"],[\"My Bakery Empire - Bake, Decorate & Serve Cakes\",\"GAME ROLE PLAYING\"],[\"Heroes Charge\",\"GAME ROLE PLAYING\"],[\"Operate Now: Hospital - Surgery Simulator Game\",\"GAME ROLE PLAYING\"],[\"School of Chaos Online MMORPG\",\"GAME ROLE PLAYING\"],[\"Ninja Turtles: Legends\",\"GAME ROLE PLAYING\"],[\"Grim Soul: Dark Fantasy Survival\",\"GAME ROLE PLAYING\"],[\"The Seven Deadly Sins: Grand Cross\",\"GAME ROLE PLAYING\"],[\"Order & Chaos Online 3D MMORPG\",\"GAME ROLE PLAYING\"],[\"Angry Birds Evolution 2021\",\"GAME ROLE PLAYING\"],[\"King's Throne: Game of Conquest\",\"GAME ROLE PLAYING\"],[\"AVABEL ONLINE [Action MMORPG]\",\"GAME ROLE PLAYING\"],[\"Seven Knights\",\"GAME ROLE PLAYING\"],[\"Shadow Fight Arena \\u2014 PvP Fighting game\",\"GAME ROLE PLAYING\"],[\"ONE PIECE \\u30c8\\u30ec\\u30b8\\u30e3\\u30fc\\u30af\\u30eb\\u30fc\\u30ba\",\"GAME ROLE PLAYING\"],[\"Monster High\\u2122 Beauty Shop: Fangtastic Fashion Game\",\"GAME ROLE PLAYING\"],[\"Magic Rampage\",\"GAME ROLE PLAYING\"],[\"Summoners War\",\"GAME ROLE PLAYING\"],[\"Vampire's Fall: Origins RPG\",\"GAME ROLE PLAYING\"],[\"Monster Super League\",\"GAME ROLE PLAYING\"],[\"Arcane Legends MMO-Action RPG\",\"GAME ROLE PLAYING\"],[\"Age of Magic: Turn-Based Magic RPG & Strategy Game\",\"GAME ROLE PLAYING\"],[\"Pok\\u00e9mon Masters EX\",\"GAME ROLE PLAYING\"],[\"BLOCK STORY\",\"GAME ROLE PLAYING\"],[\"Questland: Turn Based RPG\",\"GAME ROLE PLAYING\"],[\"Pocket Troops: Strategy RPG\",\"GAME ROLE PLAYING\"],[\"ZENONIA\\u00ae 5\",\"GAME ROLE PLAYING\"],[\"WWE Champions 2021\",\"GAME ROLE PLAYING\"],[\"Heroes of Camelot\",\"GAME ROLE PLAYING\"],[\"Assassin's Creed Rebellion: Adventure RPG\",\"GAME ROLE PLAYING\"],[\"Black Desert Mobile\",\"GAME ROLE PLAYING\"],[\"Guardian Hunter: SuperBrawlRPG [Online]\",\"GAME ROLE PLAYING\"],[\"Guardian Tales\",\"GAME ROLE PLAYING\"],[\"Postknight\",\"GAME ROLE PLAYING\"],[\"Fashion Empire - Dressup Boutique Sim\",\"GAME ROLE PLAYING\"],[\"\\u0645\\u0644\\u0643\\u0629 \\u0627\\u0644\\u0645\\u0648\\u0636\\u0629 | \\u0644\\u0639\\u0628\\u0629 \\u0642\\u0635\\u0635 \\u0648 \\u062a\\u0645\\u062b\\u064a\\u0644\",\"GAME ROLE PLAYING\"],[\"Time Princess\",\"GAME ROLE PLAYING\"],[\"MARVEL Puzzle Quest: Join the Super Hero Battle!\",\"GAME ROLE PLAYING\"],[\"Ragnarok M: Eternal Love\",\"GAME ROLE PLAYING\"],[\"Cat Runner: Decorate Home\",\"GAME ROLE PLAYING\"],[\"Cookie Run: Kingdom - Kingdom Builder & Battle RPG\",\"GAME ROLE PLAYING\"],[\"Wolvesville - Werewolf Online\",\"GAME ROLE PLAYING\"],[\"Ice Skating Ballerina - Dance Challenge Arena\",\"GAME ROLE PLAYING\"],[\"Hotel Hideaway: Virtual World\",\"GAME ROLE PLAYING\"],[\"Guild of Heroes: Magic RPG | Wizard game\",\"GAME ROLE PLAYING\"],[\"Era of Celestials\",\"GAME ROLE PLAYING\"],[\"Decisions\\uff0dInteractive Role Playing Love Story Game\",\"GAME ROLE PLAYING\"],[\"Evertale\",\"GAME ROLE PLAYING\"],[\"Nonstop Knight - Offline Idle RPG Clicker\",\"GAME ROLE PLAYING\"],[\"\\ub9ac\\ub2c8\\uc9c02 \\ub808\\ubcfc\\ub8e8\\uc158\",\"GAME ROLE PLAYING\"],[\"FINAL FANTASY Record Keeper\",\"GAME ROLE PLAYING\"],[\"\\u5263\\u3068\\u9b54\\u6cd5\\u306e\\u30ed\\u30b0\\u30ec\\u30b9 \\u3044\\u306b\\u3057\\u3048\\u306e\\u5973\\u795e-\\u672c\\u683cMMO\\u30fbRPG\",\"GAME ROLE PLAYING\"],[\"Game of Thrones: Conquest \\u2122 - Strategy Game\",\"GAME ROLE PLAYING\"],[\"Lineage2 Revolution\",\"GAME ROLE PLAYING\"],[\"\\uc6d0\\ud53c\\uc2a4 \\ud2b8\\ub808\\uc800 \\ud06c\\ub8e8\\uc988\",\"GAME ROLE PLAYING\"],[\"Roller Skating Girls - Dance on Wheels\",\"GAME ROLE PLAYING\"],[\"The Sims FreePlay\",\"GAME SIMULATION\"],[\"SimCity BuildIt\",\"GAME SIMULATION\"],[\"Episode - Choose Your Story\",\"GAME SIMULATION\"],[\"Plague Inc.\",\"GAME SIMULATION\"],[\"Fallout Shelter\",\"GAME SIMULATION\"],[\"Dragon Mania Legends\",\"GAME SIMULATION\"],[\"The Tribez: Build a Village\",\"GAME SIMULATION\"],[\"Bus Simulator Indonesia\",\"GAME SIMULATION\"],[\"Jurassic World\\u2122: The Game\",\"GAME SIMULATION\"],[\"AdVenture Capitalist: Idle Money Management\",\"GAME SIMULATION\"],[\"Bus Simulator: Original\",\"GAME SIMULATION\"],[\"Dragon City Mobile\",\"GAME SIMULATION\"],[\"Choices: Stories You Play\",\"GAME SIMULATION\"],[\"LINE BROWN FARM\",\"GAME SIMULATION\"],[\"Fishing Clash\",\"GAME SIMULATION\"],[\"SAKURA School Simulator\",\"GAME SIMULATION\"],[\"Scary Teacher 3D\",\"GAME SIMULATION\"],[\"Cash, Inc. Money Clicker Game & Business Adventure\",\"GAME SIMULATION\"],[\"Bus Simulator : Ultimate\",\"GAME SIMULATION\"],[\"Hooked Inc: Fisher Tycoon\",\"GAME SIMULATION\"],[\"Vegas Crime Simulator\",\"GAME SIMULATION\"],[\"House Flipper: Home Design & Simulator Games\",\"GAME SIMULATION\"],[\"Egg, Inc.\",\"GAME SIMULATION\"],[\"Design Home: House Renovation\",\"GAME SIMULATION\"],[\"The Sims\\u2122 FreePlay\",\"GAME SIMULATION\"],[\"Block City Wars: Pixel Shooter with Battle Royale\",\"GAME SIMULATION\"],[\"Paradise Island\",\"GAME SIMULATION\"],[\"Car Parking Multiplayer\",\"GAME SIMULATION\"],[\"Happy Mall Story: Sim Game\",\"GAME SIMULATION\"],[\"Cooking Diary\\u00ae: Tasty Restaurant & Cafe Game\",\"GAME SIMULATION\"],[\"Clean Road\",\"GAME SIMULATION\"],[\"Farming Simulator 14\",\"GAME SIMULATION\"],[\"Klondike Adventures\",\"GAME SIMULATION\"],[\"Airport City\",\"GAME SIMULATION\"],[\"Cafeland - World Kitchen\",\"GAME SIMULATION\"],[\"Zombie Castaways\",\"GAME SIMULATION\"],[\"Barbie Dreamhouse Adventures\",\"GAME SIMULATION\"],[\"Turbo Dismount\\u2122\",\"GAME SIMULATION\"],[\"Truck Simulator 2018 : Europe\",\"GAME SIMULATION\"],[\"Godus\",\"GAME SIMULATION\"],[\"Animal Crossing: Pocket Camp\",\"GAME SIMULATION\"],[\"Let's Fish: Sport Fishing Games. Fishing Simulator\",\"GAME SIMULATION\"],[\"Flight Simulator: Fly Plane 3D\",\"GAME SIMULATION\"],[\"2 3 4 Player Mini Games\",\"GAME SIMULATION\"],[\"Heavy Truck Simulator\",\"GAME SIMULATION\"],[\"Hotel Story: Resort Simulation\",\"GAME SIMULATION\"],[\"Clouds & Sheep\",\"GAME SIMULATION\"],[\"Weaphones\\u2122 Gun Sim Free Vol 1\",\"GAME SIMULATION\"],[\"Make More! \\u2013 Idle Manager\",\"GAME SIMULATION\"],[\"School Girls Simulator\",\"GAME SIMULATION\"],[\"Raft Survival: Ocean Nomad - Simulator\",\"GAME SIMULATION\"],[\"Coach Bus Simulator\",\"GAME SIMULATION\"],[\"Disney Magic Kingdoms: Build Your Own Magical Park\",\"GAME SIMULATION\"],[\"Linda Brown: Interactive Story\",\"GAME SIMULATION\"],[\"Solar Smash\",\"GAME SIMULATION\"],[\"Drive and Park\",\"GAME SIMULATION\"],[\"High School Story\",\"GAME SIMULATION\"],[\"Car Simulator 2\",\"GAME SIMULATION\"],[\"Bud Farm: Grass Roots\",\"GAME SIMULATION\"],[\"Fire Emblem Heroes\",\"GAME SIMULATION\"],[\"Hi Cooking\",\"GAME SIMULATION\"],[\"Idle Supermarket Tycoon - Tiny Shop Game\",\"GAME SIMULATION\"],[\"World Truck Driving Simulator\",\"GAME SIMULATION\"],[\"Taxi Game\",\"GAME SIMULATION\"],[\"My Story: Choose Your Own Path\",\"GAME SIMULATION\"],[\"Public Transport Simulator\",\"GAME SIMULATION\"],[\"Stickman Dismounting\",\"GAME SIMULATION\"],[\"High School Simulator 2018\",\"GAME SIMULATION\"],[\"Car Mechanic Simulator 21\",\"GAME SIMULATION\"],[\"Avatar Life - fun, love & games in virtual world!\",\"GAME SIMULATION\"],[\"Indian Train Simulator\",\"GAME SIMULATION\"],[\"Battle Disc\",\"GAME SIMULATION\"],[\"Heavy Bus Simulator\",\"GAME SIMULATION\"],[\"\\u0421\\u0438\\u043c\\u0443\\u043b\\u044f\\u0442\\u043e\\u0440 \\u0436\\u0438\\u0437\\u043d\\u0438 \\u042e\\u0442\\u0443\\u0431\\u0435\\u0440\\u0430\",\"GAME SIMULATION\"],[\"Woodturning\",\"GAME SIMULATION\"],[\"Truck Simulator USA - Evolution\",\"GAME SIMULATION\"],[\"BitLife - Life Simulator\",\"GAME SIMULATION\"],[\"Bio Inc - Plague and rebel doctors offline\",\"GAME SIMULATION\"],[\"Idle Miner Tycoon: Mine & Money Clicker Management\",\"GAME SIMULATION\"],[\"ZooCraft: Animal Family Simulator\",\"GAME SIMULATION\"],[\"Goat Simulator\",\"GAME SIMULATION\"],[\"Mystic Messenger\",\"GAME SIMULATION\"],[\"Extreme Landings\",\"GAME SIMULATION\"],[\"Stickman Rope Hero\",\"GAME SIMULATION\"],[\"Prison Empire Tycoon - Idle Game\",\"GAME SIMULATION\"],[\"FarmVille 2: Tropic Escape\",\"GAME SIMULATION\"],[\"Terrarium: Garden Idle\",\"GAME SIMULATION\"],[\"Dragons World\",\"GAME SIMULATION\"],[\"Mobile Bus Simulator\",\"GAME SIMULATION\"],[\"Tap Tap Fish AbyssRium - Healing Aquarium (+VR)\",\"GAME SIMULATION\"],[\"\\ub808\\uc54c\\ud31c : \\uc9c4\\uc9dc \\ub18d\\uc0b0\\ubb3c \\uc8fc\\ub294 \\uac8c\\uc784\",\"GAME SIMULATION\"],[\"WorldBox - Sandbox God Simulator\",\"GAME SIMULATION\"],[\"Hotel Empire Tycoon - Idle Game Manager Simulator\",\"GAME SIMULATION\"],[\"Townsmen\",\"GAME SIMULATION\"],[\"DragonVale\",\"GAME SIMULATION\"],[\"Happy Pet Story: Virtual Pet Game\",\"GAME SIMULATION\"],[\"Teen Love Story Games For Girls\",\"GAME SIMULATION\"],[\"Bee Factory\",\"GAME SIMULATION\"],[\"Bridge Constructor FREE\",\"GAME SIMULATION\"],[\"Kill Shot\",\"GAME SIMULATION\"],[\"8 Ball Pool\",\"GAME SPORTS\"],[\"Dream League Soccer\",\"GAME SPORTS\"],[\"Score! Hero\",\"GAME SPORTS\"],[\"eFootball PES 2021\",\"GAME SPORTS\"],[\"Top Eleven 2021: Be a Soccer Manager\",\"GAME SPORTS\"],[\"Carrom Pool: Disc Game\",\"GAME SPORTS\"],[\"Dream League Soccer 2021\",\"GAME SPORTS\"],[\"EA SPORTS UFC\\u00ae\",\"GAME SPORTS\"],[\"World Cricket Championship 2 - WCC2\",\"GAME SPORTS\"],[\"Bowling King\",\"GAME SPORTS\"],[\"Pooking - Billiards City\",\"GAME SPORTS\"],[\"New Star Soccer\",\"GAME SPORTS\"],[\"Soccer Stars\",\"GAME SPORTS\"],[\"Online Soccer Manager (OSM) - 20/21\",\"GAME SPORTS\"],[\"World Soccer League\",\"GAME SPORTS\"],[\"Golf Clash\",\"GAME SPORTS\"],[\"Football Strike - Multiplayer Soccer\",\"GAME SPORTS\"],[\"Head Ball 2 - Online Soccer Game\",\"GAME SPORTS\"],[\"Fishing Hook\",\"GAME SPORTS\"],[\"Head Soccer\",\"GAME SPORTS\"],[\"Pool Billiards Pro\",\"GAME SPORTS\"],[\"Ace Fishing: Wild Catch\",\"GAME SPORTS\"],[\"Wrestling Revolution 3D\",\"GAME SPORTS\"],[\"zzSUNSET Last Season MM\",\"GAME SPORTS\"],[\"Basketball Stars\",\"GAME SPORTS\"],[\"Run Race 3D\",\"GAME SPORTS\"],[\"Real Cricket\\u2122 20\",\"GAME SPORTS\"],[\"3D Bowling\",\"GAME SPORTS\"],[\"Tennis Clash: 1v1 Free Online Sports Game\",\"GAME SPORTS\"],[\"PES CLUB MANAGER\",\"GAME SPORTS\"],[\"Shooting World - Gun Fire\",\"GAME SPORTS\"],[\"Archery Master 3D\",\"GAME SPORTS\"],[\"Soccer Star 2021 Top Leagues: Play the SOCCER game\",\"GAME SPORTS\"],[\"Real Football\",\"GAME SPORTS\"],[\"Head Football LaLiga 2021 - Skills Soccer Games\",\"GAME SPORTS\"],[\"Flip Diving\",\"GAME SPORTS\"],[\"World Cricket Championship Lt\",\"GAME SPORTS\"],[\"Score! Match - PvP Soccer\",\"GAME SPORTS\"],[\"Kite Flying - Layang Layang\",\"GAME SPORTS\"],[\"Final kick 2020 Best Online football penalty game\",\"GAME SPORTS\"],[\"Mini Golf King - Multiplayer Game\",\"GAME SPORTS\"],[\"Boxing Star\",\"GAME SPORTS\"],[\"Ultimate Soccer - Football\",\"GAME SPORTS\"],[\"Real Cricket\\u2122 17\",\"GAME SPORTS\"],[\"Stickman Soccer 2014\",\"GAME SPORTS\"],[\"Mobile Soccer\",\"GAME SPORTS\"],[\"Touchgrind BMX\",\"GAME SPORTS\"],[\"Golf Battle\",\"GAME SPORTS\"],[\"Soccer Star 2020 World Football: World Star Cup\",\"GAME SPORTS\"],[\"Shooting Archery\",\"GAME SPORTS\"],[\"WWE SuperCard - Battle Cards\",\"GAME SPORTS\"],[\"Winner Soccer Evo Elite\",\"GAME SPORTS\"],[\"Basketball Shoot\",\"GAME SPORTS\"],[\"NBA LIVE Mobile Basketball\",\"GAME SPORTS\"],[\"Badminton League\",\"GAME SPORTS\"],[\"EA SPORTS\\u2122 FIFA 21 Companion\",\"GAME SPORTS\"],[\"Soccer Cup 2021: Free Football Games\",\"GAME SPORTS\"],[\"Stickman Soccer - Classic\",\"GAME SPORTS\"],[\"Soccer Super Star\",\"GAME SPORTS\"],[\"Golf Star\\u2122\",\"GAME SPORTS\"],[\"Fanatical Football\",\"GAME SPORTS\"],[\"\\u26bdPuppet Soccer 2014 - Big Head Football \\ud83c\\udfc6\",\"GAME SPORTS\"],[\"Shooting Ball\",\"GAME SPORTS\"],[\"Basketball Mania\",\"GAME SPORTS\"],[\"Volleyball Champions 3D - Online Sports Game\",\"GAME SPORTS\"],[\"Basketball Battle\",\"GAME SPORTS\"],[\"Golf King - World Tour\",\"GAME SPORTS\"],[\"Shooting King\",\"GAME SPORTS\"],[\"Homerun Battle 2\",\"GAME SPORTS\"],[\"Hit & Knock down\",\"GAME SPORTS\"],[\"Table Tennis 3D\",\"GAME SPORTS\"],[\"Fishing Paradise 3D Free+\",\"GAME SPORTS\"],[\"Sachin Saga Cricket Champions\",\"GAME SPORTS\"],[\"Top Football Manager 2021\",\"GAME SPORTS\"],[\"Wrestling Revolution\",\"GAME SPORTS\"],[\"3D Pool Ball\",\"GAME SPORTS\"],[\"Stickman Basketball\",\"GAME SPORTS\"],[\"Golf Rival\",\"GAME SPORTS\"],[\"Mike V: Skateboard Party\",\"GAME SPORTS\"],[\"Stick Cricket Premier League\",\"GAME SPORTS\"],[\"Mobile Soccer League\",\"GAME SPORTS\"],[\"Virtual Table Tennis 3D\",\"GAME SPORTS\"],[\"Badminton Legend\",\"GAME SPORTS\"],[\"Retro Bowl\",\"GAME SPORTS\"],[\"Mini Football - Mobile Soccer\",\"GAME SPORTS\"],[\"Soccer Kicks (Football)\",\"GAME SPORTS\"],[\"Fanatical Basketball\",\"GAME SPORTS\"],[\"PBA\\u00ae Bowling Challenge\",\"GAME SPORTS\"],[\"Touchgrind Skate 2\",\"GAME SPORTS\"],[\"Baseball Superstars\\u00ae 2013\",\"GAME SPORTS\"],[\"Flip Master\",\"GAME SPORTS\"],[\"Archery Tournament\",\"GAME SPORTS\"],[\"Winner Soccer Evolution\",\"GAME SPORTS\"],[\"Shoot Goal - Football Stars Soccer Games 2021\",\"GAME SPORTS\"],[\"Badminton 3D\",\"GAME SPORTS\"],[\"Photo Finish Horse Racing\",\"GAME SPORTS\"],[\"Basketball Kings: Multiplayer\",\"GAME SPORTS\"],[\"Stickman Soccer 2016\",\"GAME SPORTS\"],[\"Ultimate Tennis: 3D online sports game\",\"GAME SPORTS\"],[\"Futsal Football 2\",\"GAME SPORTS\"],[\"Clash of Clans\",\"GAME STRATEGY\"],[\"Clash Royale\",\"GAME STRATEGY\"],[\"Lords Mobile: Tower Defense\",\"GAME STRATEGY\"],[\"Boom Beach\",\"GAME STRATEGY\"],[\"Plants vs. Zombies FREE\",\"GAME STRATEGY\"],[\"Castle Clash: Guild Royale\",\"GAME STRATEGY\"],[\"Grow Empire: Rome\",\"GAME STRATEGY\"],[\"World of Tanks Blitz PVP MMO 3D tank game for free\",\"GAME STRATEGY\"],[\"Monster Legends: Breed and Collect\",\"GAME STRATEGY\"],[\"Bid Wars - Storage Auctions and Pawn Shop Tycoon\",\"GAME STRATEGY\"],[\"Clash of Kings : Newly Presented Knight System\",\"GAME STRATEGY\"],[\"Vlogger Go Viral: Streamer Tuber Idle Life Games\",\"GAME STRATEGY\"],[\"Stick War: Legacy\",\"GAME STRATEGY\"],[\"State of Survival: The Walking Dead Collaboration\",\"GAME STRATEGY\"],[\"Castle Clash: \\u0421\\u0445\\u0432\\u0430\\u0442\\u043a\\u0430 \\u0413\\u0438\\u043b\\u044c\\u0434\\u0438\\u0439\",\"GAME STRATEGY\"],[\"Clash of Lords 2: Guild Castle\",\"GAME STRATEGY\"],[\"Rise of Kingdoms: Lost Crusade\",\"GAME STRATEGY\"],[\"Last Shelter: Survival\",\"GAME STRATEGY\"],[\"Game of War - Fire Age\",\"GAME STRATEGY\"],[\"Megapolis: city building simulator. Urban strategy\",\"GAME STRATEGY\"],[\"Empire: Four Kingdoms | Medieval Strategy MMO\",\"GAME STRATEGY\"],[\"Castle Crush: Epic Battle - Free Strategy Games\",\"GAME STRATEGY\"],[\"League of Legends: Wild Rift\",\"GAME STRATEGY\"],[\"King of Thieves\",\"GAME STRATEGY\"],[\"Throne Rush\",\"GAME STRATEGY\"],[\"Bid Wars 2: Pawn Shop - Storage Auction Simulator\",\"GAME STRATEGY\"],[\"Rise of Empires: Ice and Fire\",\"GAME STRATEGY\"],[\"Mafia City\",\"GAME STRATEGY\"],[\"Forge of Empires: Build your City\",\"GAME STRATEGY\"],[\"King of Avalon: Dominion\",\"GAME STRATEGY\"],[\"aa\",\"GAME STRATEGY\"],[\"Mobile Strike\",\"GAME STRATEGY\"],[\"Bloons TD Battles\",\"GAME STRATEGY\"],[\"Last Empire - War Z: Strategy\",\"GAME STRATEGY\"],[\"Alien Creeps TD - Epic tower defense\",\"GAME STRATEGY\"],[\"Vainglory\",\"GAME STRATEGY\"],[\"Jungle Heat: War of Clans\",\"GAME STRATEGY\"],[\"The Walking Dead No Man's Land\",\"GAME STRATEGY\"],[\"Art of War: Legions\",\"GAME STRATEGY\"],[\"DomiNations\",\"GAME STRATEGY\"],[\"World at Arms\",\"GAME STRATEGY\"],[\"Heroes of Order & Chaos\",\"GAME STRATEGY\"],[\"METAL SLUG DEFENSE\",\"GAME STRATEGY\"],[\"Army Men Strike - Military Strategy Simulator\",\"GAME STRATEGY\"],[\"Toilet Time: Boredom killer Fun Mini Games to Play\",\"GAME STRATEGY\"],[\"Castle Clash: Dominio del Reino\",\"GAME STRATEGY\"],[\"Final Fantasy XV: A New Empire\",\"GAME STRATEGY\"],[\"Dead Ahead: Zombie Warfare\",\"GAME STRATEGY\"],[\"Lapse: A Forgotten Future\",\"GAME STRATEGY\"],[\"Heroes Evolved\",\"GAME STRATEGY\"],[\"Dawn of Titans: War Strategy RPG\",\"GAME STRATEGY\"],[\"Toy Defence 2 \\u2014 Tower Defense game\",\"GAME STRATEGY\"],[\"2020: My Country\",\"GAME STRATEGY\"],[\"Random Dice: PvP Defense\",\"GAME STRATEGY\"],[\"South Park: Phone Destroyer\\u2122 - Battle Card Game\",\"GAME STRATEGY\"],[\"Castle Clash: King's Castle DE\",\"GAME STRATEGY\"],[\"Clash of Lords: Guild Castle\",\"GAME STRATEGY\"],[\"Empires and Allies\",\"GAME STRATEGY\"],[\"Mini Warriors\",\"GAME STRATEGY\"],[\"Invasion: Modern Empire\",\"GAME STRATEGY\"],[\"Tentacle Wars \\u2122\",\"GAME STRATEGY\"],[\"Realm Defense: Epic Tower Defense Strategy Game\",\"GAME STRATEGY\"],[\"Reactor \\u2622\\ufe0f - Idle Manager- Energy Sector Tycoon\",\"GAME STRATEGY\"],[\"My Virtual Pet Shop: Take Care of Pets & Animals\\ud83d\\udc36\",\"GAME STRATEGY\"],[\"Gods of Olympus\",\"GAME STRATEGY\"],[\"Disney Heroes: Battle Mode\",\"GAME STRATEGY\"],[\"Deep Town: Mining Factory\",\"GAME STRATEGY\"],[\"War and Order\",\"GAME STRATEGY\"],[\"Survival Arena\",\"GAME STRATEGY\"],[\"Virtual City\\u00ae Playground: Building Tycoon\",\"GAME STRATEGY\"],[\"Castle Clash : Guild Royale\",\"GAME STRATEGY\"],[\"Clash of Lords 2: \\u0411\\u0438\\u0442\\u0432\\u0430 \\u041b\\u0435\\u0433\\u0435\\u043d\\u0434\",\"GAME STRATEGY\"],[\"Top War: Battle Game\",\"GAME STRATEGY\"],[\"Empire Z: Endless War\",\"GAME STRATEGY\"],[\"Warlings: Armageddon\",\"GAME STRATEGY\"],[\"Age of Z Origins\",\"GAME STRATEGY\"],[\"\\u0627\\u0646\\u062a\\u0642\\u0627\\u0645 \\u0627\\u0644\\u0633\\u0644\\u0627\\u0637\\u064a\\u0646\",\"GAME STRATEGY\"],[\"Total Conquest\",\"GAME STRATEGY\"],[\"Chess Live\",\"GAME STRATEGY\"],[\"Onmyoji Arena\",\"GAME STRATEGY\"],[\"Narcos: Cartel Wars. Build an Empire with Strategy\",\"GAME STRATEGY\"],[\"March of Empires: War of Lords\",\"GAME STRATEGY\"],[\"Chess Rush\",\"GAME STRATEGY\"],[\"War and Magic: Kingdom Reborn\",\"GAME STRATEGY\"],[\"Supermarket Mania Journey\",\"GAME STRATEGY\"],[\"War Heroes: Strategy Card Game for Free\",\"GAME STRATEGY\"],[\"TRANSFORMERS: Earth Wars\",\"GAME STRATEGY\"],[\"Art of War 3: PvP RTS modern warfare strategy game\",\"GAME STRATEGY\"],[\"Train Station 2: Railroad Tycoon & Train Simulator\",\"GAME STRATEGY\"],[\"Defender II\",\"GAME STRATEGY\"],[\"Stormfall: Rise of Balur\",\"GAME STRATEGY\"],[\"Zombie Defense\",\"GAME STRATEGY\"],[\"Grepolis - Divine Strategy MMO\",\"GAME STRATEGY\"],[\"Venom Angry Crashy Rush Online\",\"GAME STRATEGY\"],[\"Castle Clash: Batalha de Guildas\",\"GAME STRATEGY\"],[\"The Walking Dead: Survivors\",\"GAME STRATEGY\"],[\"\\u57ce\\u5821\\u722d\\u9738 - \\u806f\\u76df\\u9738\\u696d\",\"GAME STRATEGY\"],[\"Kiss of War\",\"GAME STRATEGY\"],[\"Conquerors: Golden Age\",\"GAME STRATEGY\"],[\"Iron Desert - Fire Storm\",\"GAME STRATEGY\"],[\"Trivia Crack\",\"GAME TRIVIA\"],[\"Brain Test: Tricky Puzzles\",\"GAME TRIVIA\"],[\"94% - Quiz, Trivia & Logic\",\"GAME TRIVIA\"],[\"Logo Quiz\",\"GAME TRIVIA\"],[\"Who is? Brain Teaser & Tricky Riddles\",\"GAME TRIVIA\"],[\"Brain Test 2: Tricky Stories\",\"GAME TRIVIA\"],[\"Free Trivia Game. Questions & Answers. QuizzLand.\",\"GAME TRIVIA\"],[\"Tricky Test 2\\u2122: Genius Brain?\",\"GAME TRIVIA\"],[\"Quiz: Logo game\",\"GAME TRIVIA\"],[\"TVSMILES - Quiz and Prizes\",\"GAME TRIVIA\"],[\"\\u0641\\u0637\\u062d\\u0644 \\u0627\\u0644\\u0639\\u0631\\u0628 - \\u0644\\u0639\\u0628\\u0629 \\u0645\\u0639\\u0644\\u0648\\u0645\\u0627\\u062a \\u0639\\u0627\\u0645\\u0629\",\"GAME TRIVIA\"],[\"Gartic\",\"GAME TRIVIA\"],[\"Trivia Crack 2\",\"GAME TRIVIA\"],[\"94 Degrees: fun trivia quiz\",\"GAME TRIVIA\"],[\"Quizdom - Trivia more than logo quiz!\",\"GAME TRIVIA\"],[\"Think\",\"GAME TRIVIA\"],[\"Fight List - Categories Game\",\"GAME TRIVIA\"],[\"\\ubaa8\\ub450\\uc758 \\ud034\\uc988 - \\uc0ac\\uc9c4\\uc5f0\\uc0c1 \\ub2e8\\uc5b4\",\"GAME TRIVIA\"],[\"I Know Stuff : trivia quiz\",\"GAME TRIVIA\"],[\"Who Wants to Be a Millionaire? Trivia & Quiz Game\",\"GAME TRIVIA\"],[\"World Geography - Quiz Game\",\"GAME TRIVIA\"],[\"Guess The Brand - Logo Mania\",\"GAME TRIVIA\"],[\"Millionaire 2021 - Free Trivia Quiz Offline Game\",\"GAME TRIVIA\"],[\"\\u0e1b\\u0e23\\u0e34\\u0e28\\u0e19\\u0e32\\u0e1f\\u0e49\\u0e32\\u0e41\\u0e25\\u0e1a\",\"GAME TRIVIA\"],[\"Guess The Song - Music Quiz\",\"GAME TRIVIA\"],[\"\\u062d\\u0644\\u0647\\u0627 \\u0648\\u0627\\u062d\\u062a\\u0644\\u0647\\u0627 - \\u0644\\u0639\\u0628\\u0629 \\u0643\\u0644\\u0645\\u0629 \\u0627\\u0644\\u0633\\u0631\",\"GAME TRIVIA\"],[\"Can you escape the 100 room IV\",\"GAME TRIVIA\"],[\"Logo Game: Guess Brand Quiz\",\"GAME TRIVIA\"],[\"A4 Wheel of fortune\",\"GAME TRIVIA\"],[\"Color Mania Quiz - Guess the logo game\",\"GAME TRIVIA\"],[\"TTS Lontong\",\"GAME TRIVIA\"],[\"\\u0418\\u043d\\u0442\\u0435\\u043b\\u043b\\u0435\\u043a\\u0442-\\u0431\\u0430\\u0442\\u0442\\u043b\",\"GAME TRIVIA\"],[\"Jeopardy!\\u00ae Trivia Quiz Game Show\",\"GAME TRIVIA\"],[\"Scratch Logo Quiz. Challenging brain puzzle\",\"GAME TRIVIA\"],[\"Spin of Fortune - Quiz\",\"GAME TRIVIA\"],[\"100 PICS Quiz - Guess Trivia, Logo & Picture Games\",\"GAME TRIVIA\"],[\"General Knowledge Quiz\",\"GAME TRIVIA\"],[\"Food Quiz\",\"GAME TRIVIA\"],[\"TRIVIA STAR - Free Trivia Games Offline App\",\"GAME TRIVIA\"],[\"Trivia Survival 100\",\"GAME TRIVIA\"],[\"Adivina la Canci\\u00f3n\",\"GAME TRIVIA\"],[\"Nope Quiz\",\"GAME TRIVIA\"],[\"Free RBX Master\",\"GAME TRIVIA\"],[\"\\u0412\\u0440\\u0430\\u0449\\u0430\\u0439\\u0442\\u0435 \\u0431\\u0430\\u0440\\u0430\\u0431\\u0430\\u043d\",\"GAME TRIVIA\"],[\"Genius Quiz - Smart Brain Trivia Game\",\"GAME TRIVIA\"],[\"Richman 4 fun\",\"GAME TRIVIA\"],[\"Who Becomes Rich\",\"GAME TRIVIA\"],[\"Trick Me: Logical Brain Teasers Puzzle\",\"GAME TRIVIA\"],[\"TRIVIA 360: Single-player & Multiplayer quiz game\",\"GAME TRIVIA\"],[\"Quiz Of Kings\",\"GAME TRIVIA\"],[\"sameQuizy\",\"GAME TRIVIA\"],[\"Live Quiz Games App, Trivia & Gaming App for Money\",\"GAME TRIVIA\"],[\"MEGA QUIZ GAMING 2021 - Guess the game Trivia\",\"GAME TRIVIA\"],[\"Would You Rather? The Game\",\"GAME TRIVIA\"],[\"Guess The Movie \\u00ae\",\"GAME TRIVIA\"],[\"Pluck It: hairs and emotions\",\"GAME TRIVIA\"],[\"A Journey Towards Jesus\",\"GAME TRIVIA\"],[\"\\u0423\\u0413\\u0410\\u0414\\u0410\\u0419 \\u0411\\u041b\\u041e\\u0413\\u0415\\u0420\\u0410\",\"GAME TRIVIA\"],[\"96%: Family Quiz\",\"GAME TRIVIA\"],[\"\\u042d\\u0432\\u0440\\u0438\\u043a\\u0430! \\u041b\\u043e\\u0433\\u0438\\u0447\\u0435\\u0441\\u043a\\u0438\\u0435 \\u0417\\u0430\\u0434\\u0430\\u0447\\u0438, \\u0418\\u0433\\u0440\\u044b \\u0438 \\u0413\\u043e\\u043b\\u043e\\u0432\\u043e\\u043b\\u043e\\u043c\\u043a\\u0438\",\"GAME TRIVIA\"],[\"Stupid test: moron test, idiotest. IQ bored games\",\"GAME TRIVIA\"],[\"Trivia Crack Adventure\",\"GAME TRIVIA\"],[\"Trivia Crack (No Ads)\",\"GAME TRIVIA\"],[\"Guess Their Answer\",\"GAME TRIVIA\"],[\"New QuizDuel!\",\"GAME TRIVIA\"],[\"Quiz World: Play and Win Everyday!\",\"GAME TRIVIA\"],[\"Picture Quiz: Logos\",\"GAME TRIVIA\"],[\"I Know the Cartoon\",\"GAME TRIVIA\"],[\"Quiz - Offline Games\",\"GAME TRIVIA\"],[\"Atriviate (Online Trivia)\",\"GAME TRIVIA\"],[\"Logo Test: World Brands Quiz, Guess Trivia Game\",\"GAME TRIVIA\"],[\"Gartic.io - Draw, Guess, WIN\",\"GAME TRIVIA\"],[\"Truth or Dare\",\"GAME TRIVIA\"],[\"BFF Friendship Test\",\"GAME TRIVIA\"],[\"Eu Sei a M\\u00fasica\",\"GAME TRIVIA\"],[\"Se como Jose\",\"GAME TRIVIA\"],[\"\\u0641\\u0643\\u0631 \\u0640 Think\",\"GAME TRIVIA\"],[\"TopQuiz -Play Quiz & Lottery | Win Money via Paytm\",\"GAME TRIVIA\"],[\"101 Pics: Photo Quiz\",\"GAME TRIVIA\"],[\"Flags and Capitals of the World Quiz\",\"GAME TRIVIA\"],[\"\\u00bfCu\\u00e1nto sabes de Primaria?\",\"GAME TRIVIA\"],[\"\\u05dc\\u05d5\\u05d2\\u05d5\\u05d8\\u05e1\\u05d8 \\u05d8\\u05e8\\u05d9\\u05d5\\u05d5\\u05d9\\u05d4: \\u05de\\u05e9\\u05d7\\u05e7 \\u05d4\\u05e1\\u05de\\u05dc\\u05d9\\u05dd \\u05d5\\u05d4\\u05de\\u05d5\\u05ea\\u05d2\\u05d9\\u05dd \\u05d4\\u05d2\\u05d3\\u05d5\\u05dc \\u05d1\\u05d9\\u05e9\\u05e8\\u05d0\\u05dc\",\"GAME TRIVIA\"],[\"Cars Logo Quiz HD\",\"GAME TRIVIA\"],[\"Flags of All Countries of the World: Guess-Quiz\",\"GAME TRIVIA\"],[\"90's Quiz Game\",\"GAME TRIVIA\"],[\"Alphabet Game\",\"GAME TRIVIA\"],[\"Vrai ou Faux ? Le grand Quiz\",\"GAME TRIVIA\"],[\"Hardest Girl to Get - Kode Keras Cowok dari Cewek\",\"GAME TRIVIA\"],[\"Cuanto Sabes de la Biblia\",\"GAME TRIVIA\"],[\"Slam\",\"GAME TRIVIA\"],[\"Quiz Planet\",\"GAME TRIVIA\"],[\"\\uc544\\uc7ac \\ub2a5\\ub825 \\uace0\\uc0ac : \\uc544\\uc7ac\\uac1c\\uadf8\\uc640 \\ub10c\\uc13c\\uc2a4\\ud034\\uc988\",\"GAME TRIVIA\"],[\"Geography Quiz - flags, maps & coats of arms\",\"GAME TRIVIA\"],[\"Imagzle Brain test & Quiz Trivia Riddle Smart game\",\"GAME TRIVIA\"],[\"AppTrailers\",\"GAME TRIVIA\"],[\"Crazy Quiz\",\"GAME TRIVIA\"],[\"Mozkovna\",\"GAME TRIVIA\"],[\"Quem quer ser rico?\",\"GAME TRIVIA\"],[\"Carry1st Trivia: Play. Learn. Earn.\",\"GAME TRIVIA\"],[\"World Map Quiz\",\"GAME TRIVIA\"],[\"\\u0643\\u0644\\u0645\\u0627\\u062a \\u0643\\u0631\\u0627\\u0634 - \\u0644\\u0639\\u0628\\u0629 \\u062a\\u0633\\u0644\\u064a\\u0629 \\u0648\\u062a\\u062d\\u062f\\u064a \\u0645\\u0646 \\u0632\\u064a\\u062a\\u0648\\u0646\\u0629\",\"GAME WORD\"],[\"Word Cookies!\\u00ae\",\"GAME WORD\"],[\"Words of Wonders: Crossword to Connect Vocabulary\",\"GAME WORD\"],[\"Words with Friends Classic: Word Puzzle Challenge\",\"GAME WORD\"],[\"4 Fotos 1 Palabra\",\"GAME WORD\"],[\"4 Pics 1 Word\",\"GAME WORD\"],[\"Word Connect\",\"GAME WORD\"],[\"Wordscapes\",\"GAME WORD\"],[\"WordBrain - Free classic word puzzle game\",\"GAME WORD\"],[\"\\u0644\\u0639\\u0628\\u0629 \\u0643\\u0644\\u0645\\u0629 \\u0627\\u0644\\u0633\\u0631 : \\u0627\\u0644\\u062c\\u0632\\u0621 \\u0627\\u0644\\u062b\\u0627\\u0646\\u064a\",\"GAME WORD\"],[\"\\u0643\\u0644\\u0645\\u0627\\u062a \\u0645\\u062a\\u0642\\u0627\\u0637\\u0639\\u0629\",\"GAME WORD\"],[\"\\u0648\\u0635\\u0644\\u0629 - \\u0644\\u0639\\u0628\\u0629 \\u0643\\u0644\\u0645\\u0627\\u062a \\u0645\\u062a\\u0642\\u0627\\u0637\\u0639\\u0629\",\"GAME WORD\"],[\"Words with Friends: Play Fun Word Puzzle Games\",\"GAME WORD\"],[\"Word Snack - Your Picnic with Words\",\"GAME WORD\"],[\"Word search\",\"GAME WORD\"],[\"Wordfeud Free\",\"GAME WORD\"],[\"Draw Something Classic\",\"GAME WORD\"],[\"Word Search\",\"GAME WORD\"],[\"Word Link\",\"GAME WORD\"],[\"Words Story - Addictive Word Game\",\"GAME WORD\"],[\"Braindom: Tricky Brain Teasers, Test, Riddle Games\",\"GAME WORD\"],[\"TTS Pintar 2021 - Teka Teki Silang Offline\",\"GAME WORD\"],[\"Word Streak-Words With Friends\",\"GAME WORD\"],[\"Word Search\",\"GAME WORD\"],[\"Word Search\",\"GAME WORD\"],[\"4 Bilder 1 Wort\",\"GAME WORD\"],[\"Word Academy\",\"GAME WORD\"],[\"Word Collect - Free Word Games\",\"GAME WORD\"],[\"Word Connect - Word Games Puzzle\",\"GAME WORD\"],[\"Pictoword: Fun Word Games & Offline Brain Game\",\"GAME WORD\"],[\"Word Search\",\"GAME WORD\"],[\"Word Search\",\"GAME WORD\"],[\"Wheel of Fortune: Free Play\",\"GAME WORD\"],[\"Word Crack\",\"GAME WORD\"],[\"4 Images 1 Mot\",\"GAME WORD\"],[\"4 \\u0444\\u043e\\u0442\\u043a\\u0438 1 \\u0441\\u043b\\u043e\\u0432\\u043e\",\"GAME WORD\"],[\"Wordie: Guess the Word\",\"GAME WORD\"],[\"Words With Friends 2 - Board Games & Word Puzzles\",\"GAME WORD\"],[\"Ruzzle Free\",\"GAME WORD\"],[\"Kelimelik\",\"GAME WORD\"],[\"\\u0644\\u0639\\u0628\\u0629 \\u0643\\u0644\\u0645\\u0629 \\u0627\\u0644\\u0633\\u0631\",\"GAME WORD\"],[\"\\u041d\\u0430\\u0439\\u0434\\u0438 \\u0441\\u043b\\u043e\\u0432\\u0430\",\"GAME WORD\"],[\"Pro des Mots\",\"GAME WORD\"],[\"Word search puzzles game\",\"GAME WORD\"],[\"Garden of Words - Word game\",\"GAME WORD\"],[\"Word Crossy - A crossword game\",\"GAME WORD\"],[\"Word Search Sea: Unscramble words\",\"GAME WORD\"],[\"4 Immagini 1 Parola\",\"GAME WORD\"],[\"Words Crush: Hidden Words!\",\"GAME WORD\"],[\"Fill-The-Words - word search puzzle\",\"GAME WORD\"],[\"Palabras Cruz\",\"GAME WORD\"],[\"\\u0622\\u0645\\u06cc\\u0631\\u0632\\u0627\",\"GAME WORD\"],[\"Word Stacks\",\"GAME WORD\"],[\"Word Search Quest - Free Word Puzzle Game\",\"GAME WORD\"],[\"Word Yard - Fun with Words\",\"GAME WORD\"],[\"Word Trip\",\"GAME WORD\"],[\"Word Cross\",\"GAME WORD\"],[\"Heads Up!\",\"GAME WORD\"],[\"\\u0421\\u043b\\u043e\\u0432\\u0430 \\u0438\\u0437 \\u0421\\u043b\\u043e\\u0432\\u0430\",\"GAME WORD\"],[\"Wordington: Words & Design\",\"GAME WORD\"],[\"Wort Guru\",\"GAME WORD\"],[\"What Am I? \\u2013 Family Charades (Guess The Word)\",\"GAME WORD\"],[\"Aplasta Palabras\\uff1aJuego de Palabras Gratis sin wifi\",\"GAME WORD\"],[\"Stop - Categories Word Game\",\"GAME WORD\"],[\"Kelime Gezmece\",\"GAME WORD\"],[\"Immortal Taoists - Nieli has arrived\",\"GAME WORD\"],[\"Jalebi - A Desi Adda With Ludo Snakes & Ladders\",\"GAME WORD\"],[\"Word Find - Word Connect Free Offline Word Games\",\"GAME WORD\"],[\"Classic Words Solo\",\"GAME WORD\"],[\"Draw and Guess Online\",\"GAME WORD\"],[\"Words Crush: Hidden Themes!\",\"GAME WORD\"],[\"Crossword Jam\",\"GAME WORD\"],[\"Word Search\",\"GAME WORD\"],[\"Word Search\",\"GAME WORD\"],[\"2 Pictures 1 Word\",\"GAME WORD\"],[\"Word Crack Mix 2\",\"GAME WORD\"],[\"Word Domination\",\"GAME WORD\"],[\"Word Crush\",\"GAME WORD\"],[\"\\u0627\\u0634\\u0628\\u0643\\u0647\\u0627 - \\u0644\\u0639\\u0628\\u0629 \\u062a\\u0633\\u0644\\u064a\\u0629 \\u0648\\u062a\\u0641\\u0643\\u064a\\u0631\",\"GAME WORD\"],[\"Sz\\u00f3 Piknik - Word Snack\",\"GAME WORD\"],[\"\\u0643\\u0644\\u0645\\u0627\\u062a \\u0645\\u062a\\u0642\\u0627\\u0637\\u0639\\u0629 \\u0645\\u0646 \\u0632\\u064a\\u062a\\u0648\\u0646\\u0629 - \\u0631\\u0634\\u0641\\u0629 \\u0648\\u0635\\u0644\\u0629\",\"GAME WORD\"],[\"Word Surf - Word Game\",\"GAME WORD\"],[\"Word Search\",\"GAME WORD\"],[\"Word Search\",\"GAME WORD\"],[\"WordWhizzle Search\",\"GAME WORD\"],[\"Evil Apples: You Against Humanity!\",\"GAME WORD\"],[\"Word Chums\",\"GAME WORD\"],[\"Word Trek - Word Brain streak - hand made puzzles\",\"GAME WORD\"],[\"Teka Teki Silang\",\"GAME WORD\"],[\"7 Little Words: A fun twist on crossword puzzles\",\"GAME WORD\"],[\"Charades!\",\"GAME WORD\"],[\"Escape Room: Mystery Word\",\"GAME WORD\"],[\"Word Swipe\",\"GAME WORD\"],[\"Wordalot - Picture Crossword\",\"GAME WORD\"],[\"Zgadnij co to?\",\"GAME WORD\"],[\"Piknik S\\u0142owo - Word Snack\",\"GAME WORD\"],[\"Word Life - Connect crosswords puzzle\",\"GAME WORD\"],[\"Wordox \\u2013 Free multiplayer word game\",\"GAME WORD\"],[\"4 Fotos 1 Palavra\",\"GAME WORD\"],[\"\\u0632\\u0648\\u0627\\u064a\\u0627 - \\u0644\\u0639\\u0628\\u0629 \\u0633\\u062a\\u062d\\u0631\\u0643 \\u0632\\u0648\\u0627\\u064a\\u0627 \\u0639\\u0642\\u0644\\u0643\",\"GAME WORD\"],[\"Bible Word Puzzle - Free Bible Word Games\",\"GAME WORD\"],[\"Scrabble\\u00ae GO - New Word Game\",\"GAME WORD\"],[\"Word Nut: Word Puzzle Games & Crosswords\",\"GAME WORD\"],[\"Pinturillo 2\",\"GAME WORD\"]],\"hovertemplate\":\"total_ratings=%{x}<br>title=%{customdata[0]}<br>category=%{customdata[1]}<extra></extra>\",\"legendgroup\":\"\",\"marker\":{\"color\":\"#636efa\"},\"name\":\"\",\"notched\":false,\"offsetgroup\":\"\",\"orientation\":\"h\",\"showlegend\":false,\"type\":\"box\",\"x\":[86273129,37276732,26663595,17971552,14464235,13572148,11936964,9633929,7578630,6268377,5681934,5471344,4801658,4710639,4564398,4496723,4464668,4221389,4215808,4159837,4112075,3987062,3516024,3213257,3195503,3140510,3133361,2695923,2670589,2540439,2472561,2380639,2365838,2271977,2131549,2100984,2083413,2006745,1985016,1949497,1860814,1846221,1823477,1796325,1714060,1656299,1642589,1607897,1599244,1583866,1576576,1542169,1495507,1481552,1457639,1396630,1344699,1301440,1291305,1258805,1254295,1238228,1227050,1216126,1196490,1166709,1161701,1134127,1129645,1073769,1070197,1066554,1023162,998677,996586,992742,974789,963507,907609,900069,875257,875065,864581,809654,809487,808331,800432,799866,799114,794575,792071,788653,777188,771254,764042,756002,748945,727627,718905,703514,21820451,14541662,4273420,2544322,2258595,2078458,2016845,1585186,1550978,1434245,1279866,1164984,1096282,1014301,1008075,892542,830121,822854,753449,734291,728187,677145,668761,653025,637160,625580,554454,549049,545166,532248,530520,526594,505541,495725,491846,486767,476258,443044,442542,434780,428566,394199,376854,373672,347489,342940,340647,326203,326177,321154,320317,317393,316902,316484,315349,310393,302458,299697,276333,269887,267176,248376,245912,244108,241766,237178,236968,236324,235190,232238,228860,228093,220878,220154,214038,212099,209326,205339,202932,198913,196731,195798,192892,187523,184387,184296,181431,176486,174281,173009,167371,166142,165363,164143,164000,162534,159801,155657,155193,154835,35665901,7202013,6960814,5903477,5402149,5367599,4919742,4816448,4565220,4100452,3398125,3290970,2858076,2342083,2222817,2156973,2096404,2062961,1988570,1910010,1900382,1858504,1793741,1735909,1679572,1573012,1564855,1493740,1471629,1470166,1458849,1340841,1337580,1254191,1215112,1205884,1188910,1153022,1136712,1132730,1102273,1089029,1082604,1079670,1079537,1066764,1042160,1040051,988381,955594,949510,926298,923982,903937,883825,878563,860147,827611,791425,784985,777941,752635,715951,693956,690642,662256,660553,656039,636293,626542,621232,620257,609853,588562,581821,572863,561461,556766,541549,532569,532176,509654,506876,497484,476858,473706,470099,467497,466518,460549,458684,449205,448716,447522,446946,441188,438162,429256,426000,418663,7512316,2516777,2430531,2131083,1590460,1578022,1283404,1273770,1245352,1062798,788064,769196,615530,598584,597656,575124,567662,554532,482155,470850,467655,466525,447613,404907,402345,391135,356365,353244,351361,335347,313765,312477,303060,295628,282866,277062,276518,267286,264663,263074,261799,257492,256773,256158,242006,237706,228476,221378,221279,219916,207685,206953,200804,199569,193778,190736,189798,183337,183016,175837,175718,173571,169696,162936,160744,158521,151671,151004,149633,141110,140706,138105,134398,131464,126466,122235,116322,111670,111627,111431,109162,104859,104158,103101,102300,100639,100315,99283,97958,96841,95383,94264,93977,92835,92620,92362,91738,89195,82144,80887,2113853,1765570,1590733,1590733,1590733,1590733,1418398,1120832,1069313,926432,881563,654922,648068,648068,648068,648068,561518,533216,507250,507250,507250,507250,501154,494492,485069,469770,467621,406124,406124,406124,406124,374842,353226,350853,337505,325427,321884,320403,313503,311834,305751,290160,281352,265004,263341,245912,240095,232276,230415,211163,208319,205537,202598,200923,194946,191804,178476,177098,174545,172895,172895,172895,170875,170181,164757,164757,164757,163771,157757,157757,157757,155922,155644,154738,153690,152145,150087,146718,145613,145481,143615,142577,140758,140758,138755,137405,136367,127654,127104,126880,125561,125561,124281,121295,116379,115102,113870,113663,113566,111394,109280,109069,107962,107933,107183,106773,106773,106773,106689,103958,103945,102434,102434,102434,101659,100719,98872,98872,98872,97299,97018,94069,91698,90695,90585,88866,2582669,1822223,1529589,1494419,1485440,1418336,1259099,1006982,925068,755734,664469,649856,617349,616294,583815,556639,544905,493071,485882,482246,477132,455282,431936,423010,422035,401912,394704,392274,377401,367694,351166,343727,333168,318101,316679,313214,312113,306937,306128,292630,272892,272095,266126,265946,264556,258755,215021,211680,211511,208279,207326,204371,189656,183628,179520,179001,177051,174066,173372,172651,172200,170510,154112,146663,145635,142948,141345,140882,139860,138883,131646,126322,125918,123277,122801,120434,117668,116891,116673,112869,107509,107253,103380,102352,100479,99465,99082,97488,94814,94628,92912,90370,90110,89886,87528,87102,86366,85258,84646,83313,31367945,16810315,13050503,12098786,11506051,10721875,10659387,10159890,9123920,8306868,8071775,6964142,5768595,5720687,4170408,4079806,3617773,2954685,2914639,2264014,2154956,2091145,2001718,1898651,1876427,1782012,1683260,1627243,1503412,1432166,1431962,1378621,1326867,1222505,1218003,1135695,1131205,1099997,1009374,978460,952348,941133,939577,924595,921224,910777,881816,880964,875343,865040,847777,781393,777217,752953,712766,685365,679330,670105,665838,659139,655486,652820,649699,636439,627963,627042,605422,603781,602123,592625,570955,568174,567668,556525,540665,539618,532119,526404,521999,513273,510146,497556,487206,476520,475705,469274,462861,462460,458766,444080,442100,430459,428132,414428,405505,385882,381919,378085,373522,370755,1690405,1543998,758930,571355,519854,469665,440099,335602,299512,229515,210406,204816,201926,191141,188628,185082,177900,164764,161896,158721,155279,152780,147633,146101,145347,142128,141681,138294,135433,132854,129911,128528,123262,121977,116243,106074,103248,102219,102168,101418,94157,91946,91542,90720,90184,89570,88278,85437,83994,81628,81135,79583,79263,78145,76981,76498,75435,75270,75082,73407,72164,70614,69285,68066,67910,66241,66160,66057,65669,63887,63873,63384,62792,62564,62194,61993,60889,60654,59598,57537,56865,56525,56416,56154,55294,55114,55006,54400,54217,54205,53535,53039,51944,51903,51861,51687,51547,51002,50931,49811,2454558,2381045,1363013,1280824,665818,664703,640085,608905,571244,552415,407001,403074,388495,372516,363476,296208,273983,253894,240014,239452,237878,230317,217878,208186,202039,189580,185412,167310,166382,164622,161111,152996,151011,149674,139058,138709,130606,130471,127314,123653,114600,113827,112810,111679,108187,107328,105984,104261,102536,102133,97355,95540,87197,87091,86693,83342,82629,71117,71008,69242,68321,67388,65897,65210,64028,60920,56963,56107,55578,55357,55015,54079,53791,53142,52940,50867,48198,48107,47959,47171,46210,45842,45178,45003,43497,43124,42881,42763,41521,40370,40192,38912,37291,36046,35324,34781,34434,34140,33173,32993,4876844,4467655,3222428,2941258,2514879,2301209,2151126,2107067,2065276,1951302,1713085,1704670,1701889,1652333,1561049,1557099,1455893,1361162,1265308,1232582,1210485,1198499,1160505,1160229,1110248,1104361,1065264,1039836,998983,997666,975608,968677,944709,941228,924459,884220,819672,754345,735564,721199,701845,701221,699239,694965,685364,673835,669939,661430,649024,643644,608546,596554,594490,584124,571570,570345,565614,554434,550425,547548,546820,541211,540007,530612,528900,521894,520896,518428,512643,510656,509754,502640,499265,491439,490970,489067,485621,481615,470475,466759,464014,463260,462036,460315,459320,453317,451860,440665,420325,414811,414626,414430,407062,403195,402599,398873,390519,384115,383236,377015,10188038,7580227,6062833,6062304,4507290,4476329,3870456,3612756,2962468,2490517,2221285,2178512,2098500,1848375,1781295,1618815,1555939,1516846,1471540,1463492,1446238,1415418,1364891,1297337,1219865,1119800,1109569,1100694,924106,899964,895239,883713,851386,849317,847739,780720,735549,725551,724219,713034,707004,699303,682124,654903,635669,630972,619717,611439,577754,577204,559157,558462,549630,513359,508166,503879,466732,464730,445846,430550,426246,423514,419851,414528,412241,407995,388123,386128,380849,365649,350249,349416,337837,334069,330803,318474,315332,312017,310589,309939,308362,308175,303913,297540,294097,293250,288581,285522,284892,284450,283592,283127,282063,281848,281769,280605,280243,273705,272721,271610,3170246,3126336,3105550,2651253,2650536,2374967,1710440,1493476,1475764,1424463,1363701,1344784,1311495,1193550,1130195,937102,914423,910412,898630,887982,880376,825827,765525,758951,732372,705186,687214,667980,666442,644802,632926,612572,597411,594700,572359,569162,558013,556175,553833,547967,538673,524462,518434,516540,514023,513522,504968,503826,503643,494101,490756,487726,474469,467209,464201,463791,459149,433067,423249,418992,414159,413804,409319,406697,398449,395402,393787,393183,386821,382714,380907,373793,371730,371644,368592,366341,364398,362652,361987,358237,357910,351850,340801,334232,332270,328319,327986,324192,320930,317023,313301,311126,302340,300651,297438,293945,284337,281603,281148,280566,5541105,5213933,3622549,3519405,3420152,2763325,2233572,1917203,1652561,1583634,1487303,1421165,1389243,1367006,1353453,1319464,1264769,1243436,1218642,1216891,1210916,1160646,1055152,1053098,1004304,999846,976872,961095,955109,945807,931389,913357,882690,880659,841432,813912,796153,765250,758948,740483,734122,709426,708938,704695,683592,671111,664240,651287,648290,643497,641259,640012,624634,620435,609547,607477,604400,593269,572365,555485,552049,543795,502248,501382,495240,490931,482519,469556,461516,460207,459870,452939,447230,444868,440328,438497,436857,425415,424389,423346,421173,419193,416810,408005,404733,402206,392903,392700,390139,385639,382940,382650,379532,377596,376552,371385,370084,369586,367616,365531,21632735,13385786,6856324,6633030,4721659,3181731,3161007,2999325,2968290,2935299,2651825,2284366,2243246,2010215,1993891,1990469,1853563,1753364,1687621,1631259,1477201,1375149,1269327,1245413,1240874,1223330,1173980,1171064,1090511,1028795,1013587,955057,911473,907290,898768,882096,830720,800381,791739,764961,763809,741513,735171,731621,709937,706812,701459,643614,609649,609296,606187,574059,560180,535002,525279,523056,498485,498367,496476,457537,456387,455149,452591,448601,446911,444198,428647,419893,413619,402390,393293,384096,379119,375089,368562,362339,356039,346518,338202,335702,327608,327381,312534,305429,301571,288957,276833,276082,272380,269937,266048,265926,264519,261197,258454,254590,252130,251087,245430,243214,55766763,30852360,6548519,6055738,5164307,5013543,3687571,3671736,3342006,3120219,2317500,2120051,1997631,1823903,1727242,1709263,1651636,1526081,1492534,1451408,1319150,1311005,1296343,1272102,1225321,1006180,993926,990104,981368,929429,905021,897313,896950,874080,853029,830008,828238,796172,780016,762869,757664,722453,696205,676749,635321,602797,569186,568510,562637,544851,524835,501511,496584,495783,494150,486733,485836,457050,447416,422883,421429,420713,419861,411981,410590,403144,399706,398705,398659,389030,386714,384682,369562,366186,362447,360216,347182,346748,340261,338283,333150,331561,331178,330020,324991,319868,318917,318209,308480,305701,297722,293059,289334,285623,280494,278920,276534,274882,272243,272201,7334155,4145089,2614691,1183690,1098826,837271,688137,649922,423164,406864,379611,357020,344975,334779,330992,289425,282642,279589,216643,211433,189577,181338,172772,172586,169372,166714,166160,166022,163509,163390,157252,155287,152329,152275,151512,148685,143211,142859,134845,130488,124963,120834,116248,115459,115024,114009,113934,111963,109743,107915,107674,106920,98012,96670,94777,86335,82509,77624,77391,76857,76445,75729,75712,75135,72097,67251,66599,65681,65504,64624,62720,62009,61000,60074,57663,57326,56774,55313,54183,51951,50815,50002,49748,48813,47912,46162,45788,45359,45126,45047,44566,44016,43149,42776,42517,41756,41520,40744,40228,38376,2418119,2250585,1885400,1722914,1227499,1179329,989128,973750,959675,812635,776334,749320,736769,671436,644092,619037,594298,512584,501384,496119,487582,476458,469540,455543,455543,447182,444744,436327,427255,414385,390612,390612,390247,385276,383907,373807,362929,362457,356922,354330,327444,321011,316607,313263,304117,293234,290063,287827,283889,277485,264230,248190,245709,236235,235887,232803,228204,221349,218894,218842,214916,214864,214313,210662,191924,182995,182761,181110,178241,170069,169669,161543,161284,161284,160717,159344,157519,157049,153454,153087,151046,150279,149858,149858,149553,149422,146848,143930,136542,130077,129132,127293,127030,126774,124219,123095,121222,120533,115437,112408,111595,110723,109530,108917],\"x0\":\" \",\"xaxis\":\"x\",\"y0\":\" \",\"yaxis\":\"y\"}],                        {\"boxmode\":\"group\",\"legend\":{\"tracegroupgap\":0},\"margin\":{\"t\":60},\"template\":{\"data\":{\"bar\":[{\"error_x\":{\"color\":\"#2a3f5f\"},\"error_y\":{\"color\":\"#2a3f5f\"},\"marker\":{\"line\":{\"color\":\"#E5ECF6\",\"width\":0.5},\"pattern\":{\"fillmode\":\"overlay\",\"size\":10,\"solidity\":0.2}},\"type\":\"bar\"}],\"barpolar\":[{\"marker\":{\"line\":{\"color\":\"#E5ECF6\",\"width\":0.5},\"pattern\":{\"fillmode\":\"overlay\",\"size\":10,\"solidity\":0.2}},\"type\":\"barpolar\"}],\"carpet\":[{\"aaxis\":{\"endlinecolor\":\"#2a3f5f\",\"gridcolor\":\"white\",\"linecolor\":\"white\",\"minorgridcolor\":\"white\",\"startlinecolor\":\"#2a3f5f\"},\"baxis\":{\"endlinecolor\":\"#2a3f5f\",\"gridcolor\":\"white\",\"linecolor\":\"white\",\"minorgridcolor\":\"white\",\"startlinecolor\":\"#2a3f5f\"},\"type\":\"carpet\"}],\"choropleth\":[{\"colorbar\":{\"outlinewidth\":0,\"ticks\":\"\"},\"type\":\"choropleth\"}],\"contour\":[{\"colorbar\":{\"outlinewidth\":0,\"ticks\":\"\"},\"colorscale\":[[0.0,\"#0d0887\"],[0.1111111111111111,\"#46039f\"],[0.2222222222222222,\"#7201a8\"],[0.3333333333333333,\"#9c179e\"],[0.4444444444444444,\"#bd3786\"],[0.5555555555555556,\"#d8576b\"],[0.6666666666666666,\"#ed7953\"],[0.7777777777777778,\"#fb9f3a\"],[0.8888888888888888,\"#fdca26\"],[1.0,\"#f0f921\"]],\"type\":\"contour\"}],\"contourcarpet\":[{\"colorbar\":{\"outlinewidth\":0,\"ticks\":\"\"},\"type\":\"contourcarpet\"}],\"heatmap\":[{\"colorbar\":{\"outlinewidth\":0,\"ticks\":\"\"},\"colorscale\":[[0.0,\"#0d0887\"],[0.1111111111111111,\"#46039f\"],[0.2222222222222222,\"#7201a8\"],[0.3333333333333333,\"#9c179e\"],[0.4444444444444444,\"#bd3786\"],[0.5555555555555556,\"#d8576b\"],[0.6666666666666666,\"#ed7953\"],[0.7777777777777778,\"#fb9f3a\"],[0.8888888888888888,\"#fdca26\"],[1.0,\"#f0f921\"]],\"type\":\"heatmap\"}],\"heatmapgl\":[{\"colorbar\":{\"outlinewidth\":0,\"ticks\":\"\"},\"colorscale\":[[0.0,\"#0d0887\"],[0.1111111111111111,\"#46039f\"],[0.2222222222222222,\"#7201a8\"],[0.3333333333333333,\"#9c179e\"],[0.4444444444444444,\"#bd3786\"],[0.5555555555555556,\"#d8576b\"],[0.6666666666666666,\"#ed7953\"],[0.7777777777777778,\"#fb9f3a\"],[0.8888888888888888,\"#fdca26\"],[1.0,\"#f0f921\"]],\"type\":\"heatmapgl\"}],\"histogram\":[{\"marker\":{\"pattern\":{\"fillmode\":\"overlay\",\"size\":10,\"solidity\":0.2}},\"type\":\"histogram\"}],\"histogram2d\":[{\"colorbar\":{\"outlinewidth\":0,\"ticks\":\"\"},\"colorscale\":[[0.0,\"#0d0887\"],[0.1111111111111111,\"#46039f\"],[0.2222222222222222,\"#7201a8\"],[0.3333333333333333,\"#9c179e\"],[0.4444444444444444,\"#bd3786\"],[0.5555555555555556,\"#d8576b\"],[0.6666666666666666,\"#ed7953\"],[0.7777777777777778,\"#fb9f3a\"],[0.8888888888888888,\"#fdca26\"],[1.0,\"#f0f921\"]],\"type\":\"histogram2d\"}],\"histogram2dcontour\":[{\"colorbar\":{\"outlinewidth\":0,\"ticks\":\"\"},\"colorscale\":[[0.0,\"#0d0887\"],[0.1111111111111111,\"#46039f\"],[0.2222222222222222,\"#7201a8\"],[0.3333333333333333,\"#9c179e\"],[0.4444444444444444,\"#bd3786\"],[0.5555555555555556,\"#d8576b\"],[0.6666666666666666,\"#ed7953\"],[0.7777777777777778,\"#fb9f3a\"],[0.8888888888888888,\"#fdca26\"],[1.0,\"#f0f921\"]],\"type\":\"histogram2dcontour\"}],\"mesh3d\":[{\"colorbar\":{\"outlinewidth\":0,\"ticks\":\"\"},\"type\":\"mesh3d\"}],\"parcoords\":[{\"line\":{\"colorbar\":{\"outlinewidth\":0,\"ticks\":\"\"}},\"type\":\"parcoords\"}],\"pie\":[{\"automargin\":true,\"type\":\"pie\"}],\"scatter\":[{\"marker\":{\"colorbar\":{\"outlinewidth\":0,\"ticks\":\"\"}},\"type\":\"scatter\"}],\"scatter3d\":[{\"line\":{\"colorbar\":{\"outlinewidth\":0,\"ticks\":\"\"}},\"marker\":{\"colorbar\":{\"outlinewidth\":0,\"ticks\":\"\"}},\"type\":\"scatter3d\"}],\"scattercarpet\":[{\"marker\":{\"colorbar\":{\"outlinewidth\":0,\"ticks\":\"\"}},\"type\":\"scattercarpet\"}],\"scattergeo\":[{\"marker\":{\"colorbar\":{\"outlinewidth\":0,\"ticks\":\"\"}},\"type\":\"scattergeo\"}],\"scattergl\":[{\"marker\":{\"colorbar\":{\"outlinewidth\":0,\"ticks\":\"\"}},\"type\":\"scattergl\"}],\"scattermapbox\":[{\"marker\":{\"colorbar\":{\"outlinewidth\":0,\"ticks\":\"\"}},\"type\":\"scattermapbox\"}],\"scatterpolar\":[{\"marker\":{\"colorbar\":{\"outlinewidth\":0,\"ticks\":\"\"}},\"type\":\"scatterpolar\"}],\"scatterpolargl\":[{\"marker\":{\"colorbar\":{\"outlinewidth\":0,\"ticks\":\"\"}},\"type\":\"scatterpolargl\"}],\"scatterternary\":[{\"marker\":{\"colorbar\":{\"outlinewidth\":0,\"ticks\":\"\"}},\"type\":\"scatterternary\"}],\"surface\":[{\"colorbar\":{\"outlinewidth\":0,\"ticks\":\"\"},\"colorscale\":[[0.0,\"#0d0887\"],[0.1111111111111111,\"#46039f\"],[0.2222222222222222,\"#7201a8\"],[0.3333333333333333,\"#9c179e\"],[0.4444444444444444,\"#bd3786\"],[0.5555555555555556,\"#d8576b\"],[0.6666666666666666,\"#ed7953\"],[0.7777777777777778,\"#fb9f3a\"],[0.8888888888888888,\"#fdca26\"],[1.0,\"#f0f921\"]],\"type\":\"surface\"}],\"table\":[{\"cells\":{\"fill\":{\"color\":\"#EBF0F8\"},\"line\":{\"color\":\"white\"}},\"header\":{\"fill\":{\"color\":\"#C8D4E3\"},\"line\":{\"color\":\"white\"}},\"type\":\"table\"}]},\"layout\":{\"annotationdefaults\":{\"arrowcolor\":\"#2a3f5f\",\"arrowhead\":0,\"arrowwidth\":1},\"autotypenumbers\":\"strict\",\"coloraxis\":{\"colorbar\":{\"outlinewidth\":0,\"ticks\":\"\"}},\"colorscale\":{\"diverging\":[[0,\"#8e0152\"],[0.1,\"#c51b7d\"],[0.2,\"#de77ae\"],[0.3,\"#f1b6da\"],[0.4,\"#fde0ef\"],[0.5,\"#f7f7f7\"],[0.6,\"#e6f5d0\"],[0.7,\"#b8e186\"],[0.8,\"#7fbc41\"],[0.9,\"#4d9221\"],[1,\"#276419\"]],\"sequential\":[[0.0,\"#0d0887\"],[0.1111111111111111,\"#46039f\"],[0.2222222222222222,\"#7201a8\"],[0.3333333333333333,\"#9c179e\"],[0.4444444444444444,\"#bd3786\"],[0.5555555555555556,\"#d8576b\"],[0.6666666666666666,\"#ed7953\"],[0.7777777777777778,\"#fb9f3a\"],[0.8888888888888888,\"#fdca26\"],[1.0,\"#f0f921\"]],\"sequentialminus\":[[0.0,\"#0d0887\"],[0.1111111111111111,\"#46039f\"],[0.2222222222222222,\"#7201a8\"],[0.3333333333333333,\"#9c179e\"],[0.4444444444444444,\"#bd3786\"],[0.5555555555555556,\"#d8576b\"],[0.6666666666666666,\"#ed7953\"],[0.7777777777777778,\"#fb9f3a\"],[0.8888888888888888,\"#fdca26\"],[1.0,\"#f0f921\"]]},\"colorway\":[\"#636efa\",\"#EF553B\",\"#00cc96\",\"#ab63fa\",\"#FFA15A\",\"#19d3f3\",\"#FF6692\",\"#B6E880\",\"#FF97FF\",\"#FECB52\"],\"font\":{\"color\":\"#2a3f5f\"},\"geo\":{\"bgcolor\":\"white\",\"lakecolor\":\"white\",\"landcolor\":\"#E5ECF6\",\"showlakes\":true,\"showland\":true,\"subunitcolor\":\"white\"},\"hoverlabel\":{\"align\":\"left\"},\"hovermode\":\"closest\",\"mapbox\":{\"style\":\"light\"},\"paper_bgcolor\":\"white\",\"plot_bgcolor\":\"#E5ECF6\",\"polar\":{\"angularaxis\":{\"gridcolor\":\"white\",\"linecolor\":\"white\",\"ticks\":\"\"},\"bgcolor\":\"#E5ECF6\",\"radialaxis\":{\"gridcolor\":\"white\",\"linecolor\":\"white\",\"ticks\":\"\"}},\"scene\":{\"xaxis\":{\"backgroundcolor\":\"#E5ECF6\",\"gridcolor\":\"white\",\"gridwidth\":2,\"linecolor\":\"white\",\"showbackground\":true,\"ticks\":\"\",\"zerolinecolor\":\"white\"},\"yaxis\":{\"backgroundcolor\":\"#E5ECF6\",\"gridcolor\":\"white\",\"gridwidth\":2,\"linecolor\":\"white\",\"showbackground\":true,\"ticks\":\"\",\"zerolinecolor\":\"white\"},\"zaxis\":{\"backgroundcolor\":\"#E5ECF6\",\"gridcolor\":\"white\",\"gridwidth\":2,\"linecolor\":\"white\",\"showbackground\":true,\"ticks\":\"\",\"zerolinecolor\":\"white\"}},\"shapedefaults\":{\"line\":{\"color\":\"#2a3f5f\"}},\"ternary\":{\"aaxis\":{\"gridcolor\":\"white\",\"linecolor\":\"white\",\"ticks\":\"\"},\"baxis\":{\"gridcolor\":\"white\",\"linecolor\":\"white\",\"ticks\":\"\"},\"bgcolor\":\"#E5ECF6\",\"caxis\":{\"gridcolor\":\"white\",\"linecolor\":\"white\",\"ticks\":\"\"}},\"title\":{\"x\":0.05},\"xaxis\":{\"automargin\":true,\"gridcolor\":\"white\",\"linecolor\":\"white\",\"ticks\":\"\",\"title\":{\"standoff\":15},\"zerolinecolor\":\"white\",\"zerolinewidth\":2},\"yaxis\":{\"automargin\":true,\"gridcolor\":\"white\",\"linecolor\":\"white\",\"ticks\":\"\",\"title\":{\"standoff\":15},\"zerolinecolor\":\"white\",\"zerolinewidth\":2}}},\"xaxis\":{\"anchor\":\"y\",\"domain\":[0.0,1.0],\"title\":{\"text\":\"total_ratings\"}},\"yaxis\":{\"anchor\":\"x\",\"domain\":[0.0,1.0]}},                        {\"responsive\": true}                    ).then(function(){\n                            \nvar gd = document.getElementById('96f7240e-8f71-4e0f-ae94-8bdad599d4c9');\nvar x = new MutationObserver(function (mutations, observer) {{\n        var display = window.getComputedStyle(gd).display;\n        if (!display || display === 'none') {{\n            console.log([gd, 'removed!']);\n            Plotly.purge(gd);\n            observer.disconnect();\n        }}\n}});\n\n// Listen for the removal of the full notebook cells\nvar notebookContainer = gd.closest('#notebook-container');\nif (notebookContainer) {{\n    x.observe(notebookContainer, {childList: true});\n}}\n\n// Listen for the clearing of the current output cell\nvar outputEl = gd.closest('.output');\nif (outputEl) {{\n    x.observe(outputEl, {childList: true});\n}}\n\n                        })                };                            </script>        </div>\n</body>\n</html>"
     },
     "metadata": {},
     "output_type": "display_data"
    }
   ]
  },
  {
   "cell_type": "markdown",
   "source": "- Como hemos visto en el histograma, muchas de las calificaciones se encuentran en el rango de calificaciones de 0 a 500.000.\n- Por otro lado, tenemos bastantes valores atípicos, lo que aumenta la media y la aleja de la mediana.\n- Tenemos una distribución muy sesgada, más específicamente una distribución sesgada a la derecha con los posibles valores atípicos en el lado máximo de la distribución. Entonces, para un análisis más detallado, sería bueno recordar eso.\n- En este tipo de situaciones, sería una buena idea buscar el enfoque basado en la mediana.\n- Se debe usar el valor mediano, en lugar del valor medio, para obtener algunos conocimientos de las distribuciones. ",
   "metadata": {
    "tags": [],
    "cell_id": "00019-1cc89fe1-7386-4b26-ba27-6633639293c7",
    "deepnote_cell_type": "markdown"
   }
  },
  {
   "cell_type": "markdown",
   "source": "## Numeros de instalaciones de los juegos",
   "metadata": {
    "tags": [],
    "cell_id": "00020-54ddd65a-dadc-4c7a-bcb1-06a1f7d571bf",
    "deepnote_cell_type": "markdown"
   }
  },
  {
   "cell_type": "code",
   "metadata": {
    "tags": [],
    "cell_id": "00019-072fe778-1bb1-4ebd-a4da-cb1760fb5378",
    "deepnote_to_be_reexecuted": false,
    "source_hash": "b4a2e13",
    "execution_start": 1626919035718,
    "execution_millis": 9,
    "deepnote_cell_type": "code"
   },
   "source": "df['installs_in_million'].describe()",
   "execution_count": 14,
   "outputs": [
    {
     "output_type": "execute_result",
     "execution_count": 14,
     "data": {
      "text/plain": "count    1.730000e+03\nmean     3.368035e+07\nstd      7.441448e+07\nmin      1.000000e+06\n25%      5.000000e+06\n50%      1.000000e+07\n75%      5.000000e+07\nmax      1.000000e+09\nName: installs_in_million, dtype: float64"
     },
     "metadata": {}
    }
   ]
  },
  {
   "cell_type": "code",
   "metadata": {
    "tags": [],
    "cell_id": "00022-838db244-9c06-47c4-ae05-addec633d0f1",
    "deepnote_to_be_reexecuted": false,
    "source_hash": "9399a520",
    "execution_start": 1626919035724,
    "execution_millis": 107,
    "deepnote_cell_type": "code"
   },
   "source": "fig = px.histogram(df, x='installs_in_million', title='Numeros de Instalaciones en Millones de los Juegos')\nfig.show()\n",
   "execution_count": 15,
   "outputs": [
    {
     "data": {
      "text/html": "<html>\n<head><meta charset=\"utf-8\" /></head>\n<body>\n    <div>            <script src=\"https://cdnjs.cloudflare.com/ajax/libs/mathjax/2.7.5/MathJax.js?config=TeX-AMS-MML_SVG\"></script><script type=\"text/javascript\">if (window.MathJax) {MathJax.Hub.Config({SVG: {font: \"STIX-Web\"}});}</script>                <script type=\"text/javascript\">window.PlotlyConfig = {MathJaxConfig: 'local'};</script>\n        <script src=\"https://cdn.plot.ly/plotly-2.2.0.min.js\"></script>                <div id=\"a22269e4-4cc0-49e1-9551-f05bfe32f1c8\" class=\"plotly-graph-div\" style=\"height:525px; width:100%;\"></div>            <script type=\"text/javascript\">                                    window.PLOTLYENV=window.PLOTLYENV || {};                                    if (document.getElementById(\"a22269e4-4cc0-49e1-9551-f05bfe32f1c8\")) {                    Plotly.newPlot(                        \"a22269e4-4cc0-49e1-9551-f05bfe32f1c8\",                        [{\"alignmentgroup\":\"True\",\"bingroup\":\"x\",\"hovertemplate\":\"installs_in_million=%{x}<br>count=%{y}<extra></extra>\",\"legendgroup\":\"\",\"marker\":{\"color\":\"#636efa\",\"pattern\":{\"shape\":\"\"}},\"name\":\"\",\"offsetgroup\":\"\",\"orientation\":\"v\",\"showlegend\":false,\"type\":\"histogram\",\"x\":[500000000.0,500000000.0,100000000.0,100000000.0,500000000.0,100000000.0,100000000.0,500000000.0,100000000.0,100000000.0,100000000.0,100000000.0,50000000.0,100000000.0,50000000.0,100000000.0,100000000.0,50000000.0,50000000.0,50000000.0,100000000.0,100000000.0,100000000.0,100000000.0,100000000.0,50000000.0,100000000.0,10000000.0,50000000.0,10000000.0,100000000.0,50000000.0,50000000.0,50000000.0,10000000.0,100000000.0,10000000.0,100000000.0,10000000.0,50000000.0,50000000.0,100000000.0,50000000.0,100000000.0,50000000.0,10000000.0,50000000.0,10000000.0,10000000.0,100000000.0,100000000.0,50000000.0,50000000.0,10000000.0,100000000.0,100000000.0,100000000.0,50000000.0,50000000.0,100000000.0,10000000.0,100000000.0,50000000.0,10000000.0,50000000.0,50000000.0,100000000.0,10000000.0,50000000.0,10000000.0,100000000.0,10000000.0,50000000.0,10000000.0,100000000.0,10000000.0,100000000.0,10000000.0,10000000.0,10000000.0,10000000.0,100000000.0,100000000.0,10000000.0,10000000.0,10000000.0,100000000.0,10000000.0,10000000.0,50000000.0,100000000.0,50000000.0,50000000.0,50000000.0,10000000.0,10000000.0,10000000.0,10000000.0,10000000.0,10000000.0,100000000.0,100000000.0,100000000.0,10000000.0,50000000.0,100000000.0,50000000.0,10000000.0,10000000.0,50000000.0,10000000.0,50000000.0,10000000.0,10000000.0,10000000.0,5000000.0,10000000.0,10000000.0,5000000.0,10000000.0,10000000.0,10000000.0,10000000.0,10000000.0,10000000.0,50000000.0,50000000.0,50000000.0,5000000.0,10000000.0,10000000.0,10000000.0,10000000.0,5000000.0,10000000.0,10000000.0,10000000.0,10000000.0,100000000.0,10000000.0,10000000.0,10000000.0,1000000.0,10000000.0,10000000.0,10000000.0,10000000.0,10000000.0,10000000.0,10000000.0,10000000.0,10000000.0,5000000.0,10000000.0,10000000.0,50000000.0,10000000.0,10000000.0,10000000.0,10000000.0,10000000.0,10000000.0,5000000.0,100000000.0,10000000.0,1000000.0,10000000.0,5000000.0,5000000.0,10000000.0,50000000.0,10000000.0,10000000.0,10000000.0,1000000.0,10000000.0,10000000.0,10000000.0,10000000.0,5000000.0,10000000.0,10000000.0,10000000.0,1000000.0,5000000.0,10000000.0,1000000.0,50000000.0,5000000.0,10000000.0,10000000.0,1000000.0,10000000.0,1000000.0,5000000.0,1000000.0,10000000.0,10000000.0,5000000.0,10000000.0,1000000000.0,100000000.0,100000000.0,100000000.0,100000000.0,100000000.0,100000000.0,500000000.0,100000000.0,10000000.0,100000000.0,100000000.0,10000000.0,100000000.0,100000000.0,100000000.0,100000000.0,50000000.0,100000000.0,100000000.0,50000000.0,100000000.0,100000000.0,50000000.0,100000000.0,10000000.0,100000000.0,100000000.0,100000000.0,100000000.0,10000000.0,100000000.0,100000000.0,100000000.0,100000000.0,100000000.0,50000000.0,50000000.0,10000000.0,50000000.0,100000000.0,50000000.0,50000000.0,100000000.0,100000000.0,100000000.0,50000000.0,50000000.0,50000000.0,100000000.0,100000000.0,50000000.0,50000000.0,100000000.0,10000000.0,100000000.0,100000000.0,100000000.0,10000000.0,50000000.0,1000000.0,10000000.0,50000000.0,50000000.0,10000000.0,100000000.0,10000000.0,50000000.0,100000000.0,50000000.0,100000000.0,50000000.0,10000000.0,10000000.0,10000000.0,50000000.0,10000000.0,10000000.0,10000000.0,10000000.0,10000000.0,50000000.0,50000000.0,10000000.0,10000000.0,50000000.0,10000000.0,10000000.0,10000000.0,10000000.0,10000000.0,10000000.0,100000000.0,10000000.0,10000000.0,50000000.0,10000000.0,10000000.0,50000000.0,10000000.0,500000000.0,100000000.0,10000000.0,50000000.0,10000000.0,100000000.0,100000000.0,100000000.0,10000000.0,50000000.0,10000000.0,10000000.0,10000000.0,5000000.0,10000000.0,10000000.0,10000000.0,100000000.0,50000000.0,10000000.0,5000000.0,5000000.0,10000000.0,10000000.0,50000000.0,5000000.0,50000000.0,10000000.0,10000000.0,5000000.0,5000000.0,10000000.0,50000000.0,5000000.0,10000000.0,10000000.0,10000000.0,5000000.0,10000000.0,10000000.0,10000000.0,1000000.0,50000000.0,10000000.0,10000000.0,50000000.0,1000000.0,10000000.0,5000000.0,10000000.0,10000000.0,10000000.0,5000000.0,10000000.0,5000000.0,5000000.0,5000000.0,5000000.0,5000000.0,5000000.0,5000000.0,5000000.0,50000000.0,50000000.0,50000000.0,10000000.0,10000000.0,5000000.0,1000000.0,10000000.0,1000000.0,10000000.0,5000000.0,10000000.0,1000000.0,5000000.0,10000000.0,1000000.0,10000000.0,5000000.0,10000000.0,10000000.0,5000000.0,5000000.0,5000000.0,5000000.0,1000000.0,5000000.0,10000000.0,1000000.0,10000000.0,10000000.0,1000000.0,10000000.0,1000000.0,5000000.0,10000000.0,1000000.0,1000000.0,1000000.0,50000000.0,10000000.0,100000000.0,100000000.0,100000000.0,100000000.0,50000000.0,10000000.0,10000000.0,50000000.0,10000000.0,10000000.0,50000000.0,50000000.0,50000000.0,50000000.0,10000000.0,10000000.0,50000000.0,50000000.0,50000000.0,50000000.0,10000000.0,10000000.0,10000000.0,10000000.0,10000000.0,10000000.0,10000000.0,10000000.0,10000000.0,5000000.0,10000000.0,5000000.0,5000000.0,10000000.0,1000000.0,1000000.0,10000000.0,1000000.0,10000000.0,5000000.0,10000000.0,10000000.0,5000000.0,10000000.0,10000000.0,10000000.0,10000000.0,5000000.0,1000000.0,5000000.0,5000000.0,5000000.0,5000000.0,5000000.0,5000000.0,1000000.0,5000000.0,5000000.0,5000000.0,5000000.0,1000000.0,1000000.0,5000000.0,5000000.0,5000000.0,1000000.0,5000000.0,5000000.0,5000000.0,1000000.0,5000000.0,5000000.0,5000000.0,1000000.0,5000000.0,500000000.0,5000000.0,10000000.0,1000000.0,10000000.0,10000000.0,10000000.0,1000000.0,500000000.0,1000000.0,1000000.0,1000000.0,5000000.0,10000000.0,10000000.0,1000000.0,5000000.0,1000000.0,1000000.0,1000000.0,1000000.0,5000000.0,1000000.0,1000000.0,10000000.0,10000000.0,1000000.0,5000000.0,5000000.0,5000000.0,5000000.0,5000000.0,5000000.0,1000000.0,10000000.0,10000000.0,10000000.0,1000000.0,1000000.0,10000000.0,10000000.0,10000000.0,1000000.0,1000000.0,10000000.0,1000000.0,1000000.0,1000000.0,1000000.0,50000000.0,50000000.0,50000000.0,50000000.0,50000000.0,10000000.0,10000000.0,10000000.0,10000000.0,10000000.0,10000000.0,5000000.0,10000000.0,10000000.0,10000000.0,10000000.0,10000000.0,5000000.0,10000000.0,10000000.0,10000000.0,5000000.0,10000000.0,5000000.0,10000000.0,10000000.0,10000000.0,10000000.0,10000000.0,1000000.0,5000000.0,10000000.0,5000000.0,10000000.0,10000000.0,10000000.0,10000000.0,10000000.0,5000000.0,5000000.0,10000000.0,5000000.0,10000000.0,5000000.0,10000000.0,10000000.0,5000000.0,5000000.0,1000000.0,10000000.0,5000000.0,5000000.0,10000000.0,5000000.0,5000000.0,1000000.0,1000000.0,10000000.0,5000000.0,5000000.0,5000000.0,5000000.0,1000000.0,5000000.0,5000000.0,10000000.0,10000000.0,1000000.0,1000000.0,1000000.0,1000000.0,1000000.0,5000000.0,1000000.0,5000000.0,1000000.0,1000000.0,1000000.0,1000000.0,1000000.0,1000000.0,5000000.0,1000000.0,1000000.0,1000000.0,5000000.0,500000000.0,5000000.0,1000000.0,1000000.0,5000000.0,1000000.0,1000000.0,1000000.0,1000000.0,1000000.0,1000000.0,1000000.0,1000000.0,1000000.0,1000000000.0,500000000.0,500000000.0,100000000.0,500000000.0,100000000.0,100000000.0,100000000.0,100000000.0,100000000.0,100000000.0,100000000.0,100000000.0,100000000.0,50000000.0,100000000.0,100000000.0,100000000.0,50000000.0,100000000.0,100000000.0,50000000.0,10000000.0,50000000.0,100000000.0,100000000.0,50000000.0,50000000.0,100000000.0,10000000.0,50000000.0,10000000.0,50000000.0,10000000.0,10000000.0,10000000.0,100000000.0,50000000.0,10000000.0,50000000.0,100000000.0,10000000.0,50000000.0,10000000.0,100000000.0,50000000.0,100000000.0,10000000.0,50000000.0,10000000.0,50000000.0,10000000.0,10000000.0,10000000.0,10000000.0,5000000.0,10000000.0,10000000.0,10000000.0,10000000.0,10000000.0,50000000.0,10000000.0,10000000.0,10000000.0,100000000.0,10000000.0,10000000.0,10000000.0,10000000.0,10000000.0,10000000.0,10000000.0,10000000.0,10000000.0,10000000.0,10000000.0,1000000.0,50000000.0,100000000.0,10000000.0,10000000.0,100000000.0,10000000.0,10000000.0,1000000.0,10000000.0,10000000.0,10000000.0,5000000.0,10000000.0,50000000.0,10000000.0,10000000.0,50000000.0,10000000.0,5000000.0,10000000.0,10000000.0,10000000.0,50000000.0,100000000.0,50000000.0,1000000.0,10000000.0,10000000.0,10000000.0,50000000.0,100000000.0,50000000.0,100000000.0,10000000.0,10000000.0,10000000.0,10000000.0,10000000.0,50000000.0,10000000.0,50000000.0,500000000.0,50000000.0,50000000.0,100000000.0,10000000.0,10000000.0,10000000.0,50000000.0,50000000.0,1000000.0,10000000.0,50000000.0,50000000.0,10000000.0,10000000.0,10000000.0,10000000.0,10000000.0,5000000.0,5000000.0,10000000.0,10000000.0,10000000.0,1000000.0,10000000.0,10000000.0,10000000.0,10000000.0,10000000.0,10000000.0,1000000.0,10000000.0,10000000.0,50000000.0,1000000.0,10000000.0,10000000.0,10000000.0,10000000.0,10000000.0,5000000.0,10000000.0,10000000.0,10000000.0,10000000.0,10000000.0,10000000.0,10000000.0,10000000.0,5000000.0,50000000.0,10000000.0,1000000.0,10000000.0,5000000.0,5000000.0,1000000.0,10000000.0,10000000.0,10000000.0,10000000.0,10000000.0,10000000.0,10000000.0,5000000.0,1000000.0,10000000.0,10000000.0,10000000.0,10000000.0,10000000.0,10000000.0,10000000.0,10000000.0,10000000.0,10000000.0,5000000.0,10000000.0,1000000.0,10000000.0,10000000.0,100000000.0,100000000.0,10000000.0,100000000.0,100000000.0,50000000.0,50000000.0,50000000.0,5000000.0,5000000.0,100000000.0,10000000.0,50000000.0,10000000.0,10000000.0,10000000.0,10000000.0,10000000.0,10000000.0,10000000.0,10000000.0,5000000.0,5000000.0,10000000.0,5000000.0,10000000.0,10000000.0,5000000.0,10000000.0,50000000.0,5000000.0,1000000.0,5000000.0,5000000.0,10000000.0,5000000.0,1000000.0,10000000.0,1000000.0,10000000.0,10000000.0,10000000.0,10000000.0,1000000.0,10000000.0,1000000.0,1000000.0,5000000.0,1000000.0,5000000.0,10000000.0,10000000.0,10000000.0,10000000.0,10000000.0,10000000.0,1000000.0,5000000.0,1000000.0,100000000.0,5000000.0,5000000.0,10000000.0,1000000.0,10000000.0,10000000.0,1000000.0,1000000.0,1000000.0,500000000.0,1000000.0,1000000.0,10000000.0,1000000.0,5000000.0,5000000.0,500000000.0,1000000.0,1000000.0,500000000.0,10000000.0,10000000.0,1000000.0,5000000.0,5000000.0,5000000.0,1000000.0,1000000.0,1000000.0,10000000.0,10000000.0,1000000.0,5000000.0,10000000.0,1000000.0,5000000.0,1000000.0,100000000.0,1000000.0,1000000.0,100000000.0,100000000.0,50000000.0,50000000.0,50000000.0,100000000.0,100000000.0,50000000.0,100000000.0,50000000.0,50000000.0,50000000.0,10000000.0,100000000.0,100000000.0,100000000.0,100000000.0,10000000.0,10000000.0,50000000.0,10000000.0,10000000.0,50000000.0,10000000.0,50000000.0,50000000.0,10000000.0,10000000.0,5000000.0,10000000.0,10000000.0,100000000.0,10000000.0,10000000.0,100000000.0,50000000.0,10000000.0,10000000.0,10000000.0,10000000.0,50000000.0,10000000.0,10000000.0,100000000.0,10000000.0,10000000.0,10000000.0,100000000.0,100000000.0,10000000.0,50000000.0,10000000.0,10000000.0,10000000.0,50000000.0,50000000.0,50000000.0,10000000.0,10000000.0,10000000.0,50000000.0,50000000.0,50000000.0,50000000.0,5000000.0,10000000.0,50000000.0,10000000.0,10000000.0,10000000.0,10000000.0,10000000.0,10000000.0,50000000.0,50000000.0,10000000.0,10000000.0,10000000.0,10000000.0,10000000.0,10000000.0,50000000.0,10000000.0,5000000.0,10000000.0,10000000.0,10000000.0,10000000.0,10000000.0,50000000.0,10000000.0,10000000.0,100000000.0,50000000.0,10000000.0,50000000.0,100000000.0,100000000.0,1000000.0,5000000.0,500000000.0,100000000.0,100000000.0,100000000.0,100000000.0,10000000.0,100000000.0,100000000.0,100000000.0,50000000.0,100000000.0,100000000.0,50000000.0,100000000.0,100000000.0,50000000.0,50000000.0,10000000.0,50000000.0,50000000.0,100000000.0,50000000.0,50000000.0,50000000.0,10000000.0,10000000.0,100000000.0,10000000.0,100000000.0,10000000.0,100000000.0,100000000.0,100000000.0,50000000.0,10000000.0,10000000.0,50000000.0,100000000.0,100000000.0,100000000.0,100000000.0,100000000.0,10000000.0,50000000.0,10000000.0,10000000.0,10000000.0,10000000.0,10000000.0,50000000.0,5000000.0,50000000.0,50000000.0,10000000.0,10000000.0,50000000.0,10000000.0,10000000.0,50000000.0,10000000.0,10000000.0,10000000.0,10000000.0,10000000.0,10000000.0,10000000.0,10000000.0,100000000.0,50000000.0,50000000.0,10000000.0,50000000.0,10000000.0,5000000.0,50000000.0,10000000.0,10000000.0,10000000.0,10000000.0,50000000.0,50000000.0,10000000.0,10000000.0,50000000.0,10000000.0,50000000.0,10000000.0,10000000.0,10000000.0,100000000.0,10000000.0,10000000.0,10000000.0,10000000.0,5000000.0,10000000.0,50000000.0,10000000.0,10000000.0,10000000.0,100000000.0,10000000.0,50000000.0,100000000.0,10000000.0,10000000.0,50000000.0,10000000.0,10000000.0,10000000.0,10000000.0,10000000.0,50000000.0,10000000.0,10000000.0,10000000.0,10000000.0,10000000.0,5000000.0,10000000.0,10000000.0,10000000.0,10000000.0,10000000.0,10000000.0,10000000.0,10000000.0,50000000.0,10000000.0,10000000.0,10000000.0,10000000.0,10000000.0,10000000.0,5000000.0,10000000.0,5000000.0,5000000.0,10000000.0,10000000.0,10000000.0,10000000.0,5000000.0,5000000.0,10000000.0,100000000.0,10000000.0,50000000.0,10000000.0,10000000.0,10000000.0,10000000.0,5000000.0,10000000.0,1000000.0,10000000.0,10000000.0,5000000.0,1000000.0,10000000.0,10000000.0,50000000.0,5000000.0,5000000.0,10000000.0,5000000.0,10000000.0,10000000.0,5000000.0,10000000.0,10000000.0,10000000.0,5000000.0,5000000.0,10000000.0,1000000.0,1000000.0,5000000.0,10000000.0,5000000.0,5000000.0,10000000.0,5000000.0,100000000.0,5000000.0,10000000.0,10000000.0,5000000.0,5000000.0,10000000.0,10000000.0,1000000.0,5000000.0,5000000.0,1000000.0,1000000.0,10000000.0,5000000.0,1000000.0,10000000.0,100000000.0,100000000.0,100000000.0,100000000.0,10000000.0,50000000.0,10000000.0,50000000.0,50000000.0,10000000.0,50000000.0,100000000.0,10000000.0,10000000.0,50000000.0,10000000.0,100000000.0,10000000.0,50000000.0,10000000.0,100000000.0,10000000.0,10000000.0,50000000.0,10000000.0,10000000.0,10000000.0,50000000.0,10000000.0,10000000.0,50000000.0,100000000.0,10000000.0,10000000.0,10000000.0,10000000.0,50000000.0,50000000.0,100000000.0,10000000.0,10000000.0,10000000.0,100000000.0,100000000.0,10000000.0,10000000.0,10000000.0,50000000.0,10000000.0,10000000.0,50000000.0,10000000.0,50000000.0,10000000.0,10000000.0,50000000.0,10000000.0,10000000.0,10000000.0,5000000.0,10000000.0,10000000.0,10000000.0,50000000.0,10000000.0,10000000.0,10000000.0,10000000.0,10000000.0,10000000.0,10000000.0,10000000.0,10000000.0,1000000.0,100000000.0,10000000.0,10000000.0,10000000.0,50000000.0,10000000.0,10000000.0,5000000.0,10000000.0,10000000.0,10000000.0,10000000.0,5000000.0,10000000.0,50000000.0,10000000.0,5000000.0,10000000.0,10000000.0,10000000.0,10000000.0,10000000.0,10000000.0,10000000.0,10000000.0,10000000.0,500000000.0,100000000.0,100000000.0,50000000.0,100000000.0,100000000.0,50000000.0,50000000.0,50000000.0,10000000.0,100000000.0,10000000.0,50000000.0,10000000.0,100000000.0,10000000.0,100000000.0,50000000.0,50000000.0,50000000.0,100000000.0,10000000.0,50000000.0,10000000.0,50000000.0,100000000.0,10000000.0,100000000.0,10000000.0,10000000.0,50000000.0,100000000.0,10000000.0,50000000.0,10000000.0,50000000.0,50000000.0,50000000.0,50000000.0,10000000.0,10000000.0,10000000.0,50000000.0,10000000.0,10000000.0,10000000.0,10000000.0,50000000.0,10000000.0,50000000.0,10000000.0,10000000.0,10000000.0,50000000.0,50000000.0,10000000.0,50000000.0,10000000.0,50000000.0,10000000.0,10000000.0,10000000.0,10000000.0,10000000.0,10000000.0,10000000.0,5000000.0,10000000.0,5000000.0,10000000.0,10000000.0,10000000.0,10000000.0,10000000.0,10000000.0,10000000.0,10000000.0,10000000.0,10000000.0,5000000.0,10000000.0,10000000.0,10000000.0,1000000.0,10000000.0,10000000.0,10000000.0,10000000.0,10000000.0,5000000.0,10000000.0,10000000.0,10000000.0,10000000.0,10000000.0,5000000.0,5000000.0,10000000.0,10000000.0,10000000.0,500000000.0,100000000.0,100000000.0,50000000.0,100000000.0,100000000.0,10000000.0,100000000.0,50000000.0,10000000.0,50000000.0,10000000.0,100000000.0,50000000.0,10000000.0,10000000.0,10000000.0,10000000.0,50000000.0,50000000.0,50000000.0,50000000.0,10000000.0,10000000.0,10000000.0,10000000.0,10000000.0,50000000.0,10000000.0,50000000.0,50000000.0,50000000.0,10000000.0,50000000.0,10000000.0,10000000.0,10000000.0,10000000.0,10000000.0,10000000.0,10000000.0,10000000.0,10000000.0,10000000.0,10000000.0,5000000.0,10000000.0,5000000.0,10000000.0,10000000.0,5000000.0,10000000.0,5000000.0,5000000.0,10000000.0,5000000.0,5000000.0,10000000.0,5000000.0,10000000.0,1000000.0,5000000.0,5000000.0,10000000.0,1000000.0,10000000.0,5000000.0,10000000.0,1000000.0,5000000.0,5000000.0,1000000.0,10000000.0,5000000.0,10000000.0,10000000.0,10000000.0,10000000.0,10000000.0,5000000.0,10000000.0,10000000.0,5000000.0,5000000.0,10000000.0,10000000.0,10000000.0,10000000.0,10000000.0,10000000.0,10000000.0,10000000.0,5000000.0,10000000.0,1000000.0,5000000.0,1000000.0,5000000.0,10000000.0,5000000.0,100000000.0,100000000.0,10000000.0,50000000.0,10000000.0,10000000.0,10000000.0,10000000.0,10000000.0,1000000.0,5000000.0,10000000.0,10000000.0,10000000.0,10000000.0,5000000.0,10000000.0,1000000.0,10000000.0,10000000.0,10000000.0,10000000.0,10000000.0,10000000.0,10000000.0,1000000.0,5000000.0,10000000.0,5000000.0,1000000.0,5000000.0,5000000.0,1000000.0,10000000.0,10000000.0,10000000.0,5000000.0,10000000.0,5000000.0,1000000.0,5000000.0,1000000.0,500000000.0,10000000.0,5000000.0,1000000.0,5000000.0,5000000.0,5000000.0,1000000.0,1000000.0,10000000.0,1000000.0,5000000.0,1000000.0,500000000.0,1000000.0,1000000.0,1000000.0,1000000.0,1000000.0,5000000.0,500000000.0,5000000.0,1000000.0,1000000.0,10000000.0,5000000.0,5000000.0,5000000.0,1000000.0,5000000.0,1000000.0,10000000.0,1000000.0,1000000.0,100000000.0,1000000.0,5000000.0,1000000.0,10000000.0,500000000.0,5000000.0,5000000.0,500000000.0,5000000.0,1000000.0,1000000.0,500000000.0,1000000.0,1000000.0,1000000.0,1000000.0,500000000.0,1000000.0,500000000.0,1000000.0,1000000.0,1000000.0,1000000.0,10000000.0,10000000.0,100000000.0,50000000.0,50000000.0,50000000.0,10000000.0,50000000.0,10000000.0,10000000.0,10000000.0,5000000.0,10000000.0,5000000.0,50000000.0,10000000.0,50000000.0,10000000.0,50000000.0,50000000.0,10000000.0,10000000.0,10000000.0,10000000.0,10000000.0,10000000.0,5000000.0,10000000.0,10000000.0,10000000.0,50000000.0,50000000.0,10000000.0,10000000.0,10000000.0,10000000.0,10000000.0,10000000.0,10000000.0,5000000.0,10000000.0,10000000.0,10000000.0,10000000.0,10000000.0,5000000.0,10000000.0,10000000.0,5000000.0,10000000.0,10000000.0,1000000.0,10000000.0,10000000.0,1000000.0,5000000.0,10000000.0,10000000.0,5000000.0,10000000.0,5000000.0,10000000.0,10000000.0,10000000.0,10000000.0,1000000.0,10000000.0,10000000.0,10000000.0,1000000.0,1000000.0,5000000.0,10000000.0,10000000.0,5000000.0,5000000.0,5000000.0,1000000.0,1000000.0,5000000.0,1000000.0,5000000.0,10000000.0,10000000.0,1000000.0,5000000.0,1000000.0,5000000.0,5000000.0,1000000.0,10000000.0,10000000.0,10000000.0,5000000.0,1000000.0,1000000.0,10000000.0,1000000.0,5000000.0,1000000.0,1000000.0,10000000.0,5000000.0,10000000.0],\"xaxis\":\"x\",\"yaxis\":\"y\"}],                        {\"barmode\":\"relative\",\"legend\":{\"tracegroupgap\":0},\"template\":{\"data\":{\"bar\":[{\"error_x\":{\"color\":\"#2a3f5f\"},\"error_y\":{\"color\":\"#2a3f5f\"},\"marker\":{\"line\":{\"color\":\"#E5ECF6\",\"width\":0.5},\"pattern\":{\"fillmode\":\"overlay\",\"size\":10,\"solidity\":0.2}},\"type\":\"bar\"}],\"barpolar\":[{\"marker\":{\"line\":{\"color\":\"#E5ECF6\",\"width\":0.5},\"pattern\":{\"fillmode\":\"overlay\",\"size\":10,\"solidity\":0.2}},\"type\":\"barpolar\"}],\"carpet\":[{\"aaxis\":{\"endlinecolor\":\"#2a3f5f\",\"gridcolor\":\"white\",\"linecolor\":\"white\",\"minorgridcolor\":\"white\",\"startlinecolor\":\"#2a3f5f\"},\"baxis\":{\"endlinecolor\":\"#2a3f5f\",\"gridcolor\":\"white\",\"linecolor\":\"white\",\"minorgridcolor\":\"white\",\"startlinecolor\":\"#2a3f5f\"},\"type\":\"carpet\"}],\"choropleth\":[{\"colorbar\":{\"outlinewidth\":0,\"ticks\":\"\"},\"type\":\"choropleth\"}],\"contour\":[{\"colorbar\":{\"outlinewidth\":0,\"ticks\":\"\"},\"colorscale\":[[0.0,\"#0d0887\"],[0.1111111111111111,\"#46039f\"],[0.2222222222222222,\"#7201a8\"],[0.3333333333333333,\"#9c179e\"],[0.4444444444444444,\"#bd3786\"],[0.5555555555555556,\"#d8576b\"],[0.6666666666666666,\"#ed7953\"],[0.7777777777777778,\"#fb9f3a\"],[0.8888888888888888,\"#fdca26\"],[1.0,\"#f0f921\"]],\"type\":\"contour\"}],\"contourcarpet\":[{\"colorbar\":{\"outlinewidth\":0,\"ticks\":\"\"},\"type\":\"contourcarpet\"}],\"heatmap\":[{\"colorbar\":{\"outlinewidth\":0,\"ticks\":\"\"},\"colorscale\":[[0.0,\"#0d0887\"],[0.1111111111111111,\"#46039f\"],[0.2222222222222222,\"#7201a8\"],[0.3333333333333333,\"#9c179e\"],[0.4444444444444444,\"#bd3786\"],[0.5555555555555556,\"#d8576b\"],[0.6666666666666666,\"#ed7953\"],[0.7777777777777778,\"#fb9f3a\"],[0.8888888888888888,\"#fdca26\"],[1.0,\"#f0f921\"]],\"type\":\"heatmap\"}],\"heatmapgl\":[{\"colorbar\":{\"outlinewidth\":0,\"ticks\":\"\"},\"colorscale\":[[0.0,\"#0d0887\"],[0.1111111111111111,\"#46039f\"],[0.2222222222222222,\"#7201a8\"],[0.3333333333333333,\"#9c179e\"],[0.4444444444444444,\"#bd3786\"],[0.5555555555555556,\"#d8576b\"],[0.6666666666666666,\"#ed7953\"],[0.7777777777777778,\"#fb9f3a\"],[0.8888888888888888,\"#fdca26\"],[1.0,\"#f0f921\"]],\"type\":\"heatmapgl\"}],\"histogram\":[{\"marker\":{\"pattern\":{\"fillmode\":\"overlay\",\"size\":10,\"solidity\":0.2}},\"type\":\"histogram\"}],\"histogram2d\":[{\"colorbar\":{\"outlinewidth\":0,\"ticks\":\"\"},\"colorscale\":[[0.0,\"#0d0887\"],[0.1111111111111111,\"#46039f\"],[0.2222222222222222,\"#7201a8\"],[0.3333333333333333,\"#9c179e\"],[0.4444444444444444,\"#bd3786\"],[0.5555555555555556,\"#d8576b\"],[0.6666666666666666,\"#ed7953\"],[0.7777777777777778,\"#fb9f3a\"],[0.8888888888888888,\"#fdca26\"],[1.0,\"#f0f921\"]],\"type\":\"histogram2d\"}],\"histogram2dcontour\":[{\"colorbar\":{\"outlinewidth\":0,\"ticks\":\"\"},\"colorscale\":[[0.0,\"#0d0887\"],[0.1111111111111111,\"#46039f\"],[0.2222222222222222,\"#7201a8\"],[0.3333333333333333,\"#9c179e\"],[0.4444444444444444,\"#bd3786\"],[0.5555555555555556,\"#d8576b\"],[0.6666666666666666,\"#ed7953\"],[0.7777777777777778,\"#fb9f3a\"],[0.8888888888888888,\"#fdca26\"],[1.0,\"#f0f921\"]],\"type\":\"histogram2dcontour\"}],\"mesh3d\":[{\"colorbar\":{\"outlinewidth\":0,\"ticks\":\"\"},\"type\":\"mesh3d\"}],\"parcoords\":[{\"line\":{\"colorbar\":{\"outlinewidth\":0,\"ticks\":\"\"}},\"type\":\"parcoords\"}],\"pie\":[{\"automargin\":true,\"type\":\"pie\"}],\"scatter\":[{\"marker\":{\"colorbar\":{\"outlinewidth\":0,\"ticks\":\"\"}},\"type\":\"scatter\"}],\"scatter3d\":[{\"line\":{\"colorbar\":{\"outlinewidth\":0,\"ticks\":\"\"}},\"marker\":{\"colorbar\":{\"outlinewidth\":0,\"ticks\":\"\"}},\"type\":\"scatter3d\"}],\"scattercarpet\":[{\"marker\":{\"colorbar\":{\"outlinewidth\":0,\"ticks\":\"\"}},\"type\":\"scattercarpet\"}],\"scattergeo\":[{\"marker\":{\"colorbar\":{\"outlinewidth\":0,\"ticks\":\"\"}},\"type\":\"scattergeo\"}],\"scattergl\":[{\"marker\":{\"colorbar\":{\"outlinewidth\":0,\"ticks\":\"\"}},\"type\":\"scattergl\"}],\"scattermapbox\":[{\"marker\":{\"colorbar\":{\"outlinewidth\":0,\"ticks\":\"\"}},\"type\":\"scattermapbox\"}],\"scatterpolar\":[{\"marker\":{\"colorbar\":{\"outlinewidth\":0,\"ticks\":\"\"}},\"type\":\"scatterpolar\"}],\"scatterpolargl\":[{\"marker\":{\"colorbar\":{\"outlinewidth\":0,\"ticks\":\"\"}},\"type\":\"scatterpolargl\"}],\"scatterternary\":[{\"marker\":{\"colorbar\":{\"outlinewidth\":0,\"ticks\":\"\"}},\"type\":\"scatterternary\"}],\"surface\":[{\"colorbar\":{\"outlinewidth\":0,\"ticks\":\"\"},\"colorscale\":[[0.0,\"#0d0887\"],[0.1111111111111111,\"#46039f\"],[0.2222222222222222,\"#7201a8\"],[0.3333333333333333,\"#9c179e\"],[0.4444444444444444,\"#bd3786\"],[0.5555555555555556,\"#d8576b\"],[0.6666666666666666,\"#ed7953\"],[0.7777777777777778,\"#fb9f3a\"],[0.8888888888888888,\"#fdca26\"],[1.0,\"#f0f921\"]],\"type\":\"surface\"}],\"table\":[{\"cells\":{\"fill\":{\"color\":\"#EBF0F8\"},\"line\":{\"color\":\"white\"}},\"header\":{\"fill\":{\"color\":\"#C8D4E3\"},\"line\":{\"color\":\"white\"}},\"type\":\"table\"}]},\"layout\":{\"annotationdefaults\":{\"arrowcolor\":\"#2a3f5f\",\"arrowhead\":0,\"arrowwidth\":1},\"autotypenumbers\":\"strict\",\"coloraxis\":{\"colorbar\":{\"outlinewidth\":0,\"ticks\":\"\"}},\"colorscale\":{\"diverging\":[[0,\"#8e0152\"],[0.1,\"#c51b7d\"],[0.2,\"#de77ae\"],[0.3,\"#f1b6da\"],[0.4,\"#fde0ef\"],[0.5,\"#f7f7f7\"],[0.6,\"#e6f5d0\"],[0.7,\"#b8e186\"],[0.8,\"#7fbc41\"],[0.9,\"#4d9221\"],[1,\"#276419\"]],\"sequential\":[[0.0,\"#0d0887\"],[0.1111111111111111,\"#46039f\"],[0.2222222222222222,\"#7201a8\"],[0.3333333333333333,\"#9c179e\"],[0.4444444444444444,\"#bd3786\"],[0.5555555555555556,\"#d8576b\"],[0.6666666666666666,\"#ed7953\"],[0.7777777777777778,\"#fb9f3a\"],[0.8888888888888888,\"#fdca26\"],[1.0,\"#f0f921\"]],\"sequentialminus\":[[0.0,\"#0d0887\"],[0.1111111111111111,\"#46039f\"],[0.2222222222222222,\"#7201a8\"],[0.3333333333333333,\"#9c179e\"],[0.4444444444444444,\"#bd3786\"],[0.5555555555555556,\"#d8576b\"],[0.6666666666666666,\"#ed7953\"],[0.7777777777777778,\"#fb9f3a\"],[0.8888888888888888,\"#fdca26\"],[1.0,\"#f0f921\"]]},\"colorway\":[\"#636efa\",\"#EF553B\",\"#00cc96\",\"#ab63fa\",\"#FFA15A\",\"#19d3f3\",\"#FF6692\",\"#B6E880\",\"#FF97FF\",\"#FECB52\"],\"font\":{\"color\":\"#2a3f5f\"},\"geo\":{\"bgcolor\":\"white\",\"lakecolor\":\"white\",\"landcolor\":\"#E5ECF6\",\"showlakes\":true,\"showland\":true,\"subunitcolor\":\"white\"},\"hoverlabel\":{\"align\":\"left\"},\"hovermode\":\"closest\",\"mapbox\":{\"style\":\"light\"},\"paper_bgcolor\":\"white\",\"plot_bgcolor\":\"#E5ECF6\",\"polar\":{\"angularaxis\":{\"gridcolor\":\"white\",\"linecolor\":\"white\",\"ticks\":\"\"},\"bgcolor\":\"#E5ECF6\",\"radialaxis\":{\"gridcolor\":\"white\",\"linecolor\":\"white\",\"ticks\":\"\"}},\"scene\":{\"xaxis\":{\"backgroundcolor\":\"#E5ECF6\",\"gridcolor\":\"white\",\"gridwidth\":2,\"linecolor\":\"white\",\"showbackground\":true,\"ticks\":\"\",\"zerolinecolor\":\"white\"},\"yaxis\":{\"backgroundcolor\":\"#E5ECF6\",\"gridcolor\":\"white\",\"gridwidth\":2,\"linecolor\":\"white\",\"showbackground\":true,\"ticks\":\"\",\"zerolinecolor\":\"white\"},\"zaxis\":{\"backgroundcolor\":\"#E5ECF6\",\"gridcolor\":\"white\",\"gridwidth\":2,\"linecolor\":\"white\",\"showbackground\":true,\"ticks\":\"\",\"zerolinecolor\":\"white\"}},\"shapedefaults\":{\"line\":{\"color\":\"#2a3f5f\"}},\"ternary\":{\"aaxis\":{\"gridcolor\":\"white\",\"linecolor\":\"white\",\"ticks\":\"\"},\"baxis\":{\"gridcolor\":\"white\",\"linecolor\":\"white\",\"ticks\":\"\"},\"bgcolor\":\"#E5ECF6\",\"caxis\":{\"gridcolor\":\"white\",\"linecolor\":\"white\",\"ticks\":\"\"}},\"title\":{\"x\":0.05},\"xaxis\":{\"automargin\":true,\"gridcolor\":\"white\",\"linecolor\":\"white\",\"ticks\":\"\",\"title\":{\"standoff\":15},\"zerolinecolor\":\"white\",\"zerolinewidth\":2},\"yaxis\":{\"automargin\":true,\"gridcolor\":\"white\",\"linecolor\":\"white\",\"ticks\":\"\",\"title\":{\"standoff\":15},\"zerolinecolor\":\"white\",\"zerolinewidth\":2}}},\"title\":{\"text\":\"Numeros de Instalaciones en Millones de los Juegos\"},\"xaxis\":{\"anchor\":\"y\",\"domain\":[0.0,1.0],\"title\":{\"text\":\"installs_in_million\"}},\"yaxis\":{\"anchor\":\"x\",\"domain\":[0.0,1.0],\"title\":{\"text\":\"count\"}}},                        {\"responsive\": true}                    ).then(function(){\n                            \nvar gd = document.getElementById('a22269e4-4cc0-49e1-9551-f05bfe32f1c8');\nvar x = new MutationObserver(function (mutations, observer) {{\n        var display = window.getComputedStyle(gd).display;\n        if (!display || display === 'none') {{\n            console.log([gd, 'removed!']);\n            Plotly.purge(gd);\n            observer.disconnect();\n        }}\n}});\n\n// Listen for the removal of the full notebook cells\nvar notebookContainer = gd.closest('#notebook-container');\nif (notebookContainer) {{\n    x.observe(notebookContainer, {childList: true});\n}}\n\n// Listen for the clearing of the current output cell\nvar outputEl = gd.closest('.output');\nif (outputEl) {{\n    x.observe(outputEl, {childList: true});\n}}\n\n                        })                };                            </script>        </div>\n</body>\n</html>"
     },
     "metadata": {},
     "output_type": "display_data"
    }
   ]
  },
  {
   "cell_type": "code",
   "metadata": {
    "tags": [],
    "cell_id": "00023-844335ba-4f56-4e09-83d5-12320eea7657",
    "deepnote_to_be_reexecuted": false,
    "source_hash": "25d1a861",
    "execution_start": 1626919035882,
    "execution_millis": 121,
    "deepnote_cell_type": "code"
   },
   "source": "fig = px.box(df, x='installs_in_million', hover_data=df[['title','category']])\nfig.update_traces(quartilemethod='inclusive')\nfig.show()",
   "execution_count": 16,
   "outputs": [
    {
     "data": {
      "text/html": "<html>\n<head><meta charset=\"utf-8\" /></head>\n<body>\n    <div>            <script src=\"https://cdnjs.cloudflare.com/ajax/libs/mathjax/2.7.5/MathJax.js?config=TeX-AMS-MML_SVG\"></script><script type=\"text/javascript\">if (window.MathJax) {MathJax.Hub.Config({SVG: {font: \"STIX-Web\"}});}</script>                <script type=\"text/javascript\">window.PlotlyConfig = {MathJaxConfig: 'local'};</script>\n        <script src=\"https://cdn.plot.ly/plotly-2.2.0.min.js\"></script>                <div id=\"11a457dd-1427-4789-b2d4-8ac14afd6140\" class=\"plotly-graph-div\" style=\"height:525px; width:100%;\"></div>            <script type=\"text/javascript\">                                    window.PLOTLYENV=window.PLOTLYENV || {};                                    if (document.getElementById(\"11a457dd-1427-4789-b2d4-8ac14afd6140\")) {                    Plotly.newPlot(                        \"11a457dd-1427-4789-b2d4-8ac14afd6140\",                        [{\"alignmentgroup\":\"True\",\"customdata\":[[\"Garena Free Fire- World Series\",\"GAME ACTION\"],[\"PUBG MOBILE - Traverse\",\"GAME ACTION\"],[\"Mobile Legends: Bang Bang\",\"GAME ACTION\"],[\"Brawl Stars\",\"GAME ACTION\"],[\"Sniper 3D: Fun Free Online FPS Shooting Game\",\"GAME ACTION\"],[\"Call of Duty\\u00ae: Mobile - Season 4: Spurned & Burned\",\"GAME ACTION\"],[\"Among Us\",\"GAME ACTION\"],[\"Temple Run 2\",\"GAME ACTION\"],[\"PUBG MOBILE LITE\",\"GAME ACTION\"],[\"Gangstar Vegas: World of Crime\",\"GAME ACTION\"],[\"Pixel Gun 3D: FPS Shooter & Battle Royale\",\"GAME ACTION\"],[\"Bowmasters\",\"GAME ACTION\"],[\"Standoff 2\",\"GAME ACTION\"],[\"Talking Tom Gold Run\",\"GAME ACTION\"],[\"Garena Li\\u00ean Qu\\u00e2n Mobile\",\"GAME ACTION\"],[\"Banana Kong\",\"GAME ACTION\"],[\"Crossy Road\",\"GAME ACTION\"],[\"War Robots. 6v6 Tactical Multiplayer Battles\",\"GAME ACTION\"],[\"MORTAL KOMBAT: The Ultimate Fighting Game!\",\"GAME ACTION\"],[\"Last Day on Earth: Survival\",\"GAME ACTION\"],[\"Agar.io\",\"GAME ACTION\"],[\"DEER HUNTER CLASSIC\",\"GAME ACTION\"],[\"Modern Combat 5: eSports FPS\",\"GAME ACTION\"],[\"Kick the Buddy\",\"GAME ACTION\"],[\"Special Forces Group 2\",\"GAME ACTION\"],[\"DEAD TRIGGER 2 - Zombie Game FPS shooter\",\"GAME ACTION\"],[\"Mini Militia - Doodle Army 2\",\"GAME ACTION\"],[\"Call of Duty\\u00ae: Mobile - Garena\",\"GAME ACTION\"],[\"CATS: Crash Arena Turbo Stars\",\"GAME ACTION\"],[\"Injustice: Gods Among Us\",\"GAME ACTION\"],[\"Swamp Attack\",\"GAME ACTION\"],[\"GUNSHIP BATTLE: Helicopter 3D\",\"GAME ACTION\"],[\"Real Steel World Robot Boxing\",\"GAME ACTION\"],[\"Critical Ops: Online Multiplayer FPS Shooting Game\",\"GAME ACTION\"],[\"LINE Rangers - a tower defense RPG w/Brown & Cony!\",\"GAME ACTION\"],[\"Worms Zone .io - Voracious Snake\",\"GAME ACTION\"],[\"Six-Guns: Gang Showdown\",\"GAME ACTION\"],[\"DEAD TARGET: Zombie Offline - Shooting Games\",\"GAME ACTION\"],[\"FRONTLINE COMMANDO: D-DAY\",\"GAME ACTION\"],[\"Mario Kart Tour\",\"GAME ACTION\"],[\"Guns of Boom - Online PvP Action\",\"GAME ACTION\"],[\"Hunter Assassin\",\"GAME ACTION\"],[\"RULES OF SURVIVAL\",\"GAME ACTION\"],[\"Zombie Catchers - love the hunt!\",\"GAME ACTION\"],[\"Into the Dead\",\"GAME ACTION\"],[\"Respawnables: Gun Shooting Games\",\"GAME ACTION\"],[\"Modern Strike Online: Free PvP FPS shooting game\",\"GAME ACTION\"],[\"Block Strike\",\"GAME ACTION\"],[\"Blitz Brigade - Online FPS fun\",\"GAME ACTION\"],[\"Super Mario Run\",\"GAME ACTION\"],[\"Tomb of the Mask\",\"GAME ACTION\"],[\"Archero\",\"GAME ACTION\"],[\"DINO HUNTER: DEADLY SHORES\",\"GAME ACTION\"],[\"DEAD TRIGGER - Offline Zombie Shooter\",\"GAME ACTION\"],[\"Johnny Trigger - Action Shooting Game\",\"GAME ACTION\"],[\"PPSSPP - PSP emulator\",\"GAME ACTION\"],[\"Robbery Bob - Sneaky Adventures\",\"GAME ACTION\"],[\"Hide Online - Hunters vs Props\",\"GAME ACTION\"],[\"Soul Knight\",\"GAME ACTION\"],[\"aquapark.io\",\"GAME ACTION\"],[\"Creative Destruction\",\"GAME ACTION\"],[\"Anger of stick 5 : zombie\",\"GAME ACTION\"],[\"Bomber Friends\",\"GAME ACTION\"],[\"DRAGON BALL LEGENDS\",\"GAME ACTION\"],[\"Modern Sniper\",\"GAME ACTION\"],[\"Nebulous.io\",\"GAME ACTION\"],[\"War Machines: Tank Battle - Army & Military Games\",\"GAME ACTION\"],[\"Sea Battle 2\",\"GAME ACTION\"],[\"FRAG Pro Shooter\",\"GAME ACTION\"],[\"PUBG MOBILE\",\"GAME ACTION\"],[\"Rope Hero: Vice Town\",\"GAME ACTION\"],[\"DRAGON BALL Z DOKKAN BATTLE\",\"GAME ACTION\"],[\"Deer Hunter 2018\",\"GAME ACTION\"],[\"FRONTLINE COMMANDO 2\",\"GAME ACTION\"],[\"Real Gangster Crime\",\"GAME ACTION\"],[\"Battlelands Royale\",\"GAME ACTION\"],[\"Talking Tom Hero Dash - Run Game\",\"GAME ACTION\"],[\"Arena of Valor: 5v5 Arena Game\",\"GAME ACTION\"],[\"BombSquad\",\"GAME ACTION\"],[\"PUBG MOBILE VN \\u2013 KONG x GODZILLA\",\"GAME ACTION\"],[\"Crisis Action: 5th Anniversary\",\"GAME ACTION\"],[\"Supreme Duelist Stickman\",\"GAME ACTION\"],[\"Miraculous Ladybug & Cat Noir\",\"GAME ACTION\"],[\"Injustice 2\",\"GAME ACTION\"],[\"NARUTO X BORUTO NINJA VOLTAGE\",\"GAME ACTION\"],[\"Flippy Knife\",\"GAME ACTION\"],[\"Bus Rush\",\"GAME ACTION\"],[\"BLOOD & GLORY\",\"GAME ACTION\"],[\"Murder us\",\"GAME ACTION\"],[\"Robbery Bob 2: Double Trouble\",\"GAME ACTION\"],[\"Shadow Fight 2\",\"GAME ACTION\"],[\"Vector 2\",\"GAME ACTION\"],[\"Slap Kings\",\"GAME ACTION\"],[\"Bed Wars\",\"GAME ACTION\"],[\"Modern Ops - Online FPS (Gun Games Shooter)\",\"GAME ACTION\"],[\"Bullet Force\",\"GAME ACTION\"],[\"SHADOWGUN: DEADZONE\",\"GAME ACTION\"],[\"Royal Revolt 2: Tower Defense RTS & Castle Builder\",\"GAME ACTION\"],[\"Lara Croft: Relic Run\",\"GAME ACTION\"],[\"WWE Mayhem\",\"GAME ACTION\"],[\"Roblox\",\"GAME ADVENTURE\"],[\"Pok\\u00e9mon GO\",\"GAME ADVENTURE\"],[\"Criminal Case\",\"GAME ADVENTURE\"],[\"\\ucfe0\\ud0a4\\ub7f0 for Kakao\",\"GAME ADVENTURE\"],[\"Harry Potter: Hogwarts Mystery\",\"GAME ADVENTURE\"],[\"Kiloblocks Lite\",\"GAME ADVENTURE\"],[\"Mini World: Block Art\",\"GAME ADVENTURE\"],[\"BADLAND\",\"GAME ADVENTURE\"],[\"Genshin Impact\",\"GAME ADVENTURE\"],[\"Ice Age Adventures\",\"GAME ADVENTURE\"],[\"The Walking Dead: Season One\",\"GAME ADVENTURE\"],[\"Benji Bananas\",\"GAME ADVENTURE\"],[\"KIM KARDASHIAN: HOLLYWOOD\",\"GAME ADVENTURE\"],[\"Growtopia\",\"GAME ADVENTURE\"],[\"Family Guy The Quest for Stuff\",\"GAME ADVENTURE\"],[\"The Secret Society - Hidden Objects Mystery\",\"GAME ADVENTURE\"],[\"June's Journey: Hidden Objects\",\"GAME ADVENTURE\"],[\"Murder in the Alps\",\"GAME ADVENTURE\"],[\"Tiny Miner\",\"GAME ADVENTURE\"],[\"Rayman Adventures\",\"GAME ADVENTURE\"],[\"Swordigo\",\"GAME ADVENTURE\"],[\"The Walking Dead: Season Two\",\"GAME ADVENTURE\"],[\"Eyes: Scary Thriller - Creepy Horror Game\",\"GAME ADVENTURE\"],[\"ARK: Survival Evolved\",\"GAME ADVENTURE\"],[\"WorldCraft: 3D Build & Block Craft\",\"GAME ADVENTURE\"],[\"Sonic Forces \\u2013 Multiplayer Racing & Battle Game\",\"GAME ADVENTURE\"],[\"RealmCraft with Skins Export to Minecraft\",\"GAME ADVENTURE\"],[\"House Designer : Fix & Flip\",\"GAME ADVENTURE\"],[\"Beggar Life - Clicker adventure\",\"GAME ADVENTURE\"],[\"Animation Throwdown: The Collectible Card Game\",\"GAME ADVENTURE\"],[\"Jurassic World Alive\",\"GAME ADVENTURE\"],[\"Seekers Notes: Hidden Mystery\",\"GAME ADVENTURE\"],[\"Mystery Manor: hidden objects\",\"GAME ADVENTURE\"],[\"Crab War : Idle Swarm Evolution\",\"GAME ADVENTURE\"],[\"Cyber Hunter\",\"GAME ADVENTURE\"],[\"Diggy's Adventure: Mine Maze Levels & Pipe Puzzles\",\"GAME ADVENTURE\"],[\"Ninja Arashi\",\"GAME ADVENTURE\"],[\"LONEWOLF (17+) - a Sniper Story\",\"GAME ADVENTURE\"],[\"Super Bob's World: Jungle Adventure- Free Run Game\",\"GAME ADVENTURE\"],[\"Monster Warlord\",\"GAME ADVENTURE\"],[\"Ingress Prime\",\"GAME ADVENTURE\"],[\"Hidden Hotel: Miami Mystery\",\"GAME ADVENTURE\"],[\"Survivors: The Quest\",\"GAME ADVENTURE\"],[\"Manor Matters\",\"GAME ADVENTURE\"],[\"Hard Time (Prison Sim)\",\"GAME ADVENTURE\"],[\"Draw a Stickman: EPIC 2\",\"GAME ADVENTURE\"],[\"Westland Survival - Be a survivor in the Wild West\",\"GAME ADVENTURE\"],[\"Transformers: RobotsInDisguise\",\"GAME ADVENTURE\"],[\"Crafting and Building\",\"GAME ADVENTURE\"],[\"Ghost Town Adventures: Mystery Riddles Game\",\"GAME ADVENTURE\"],[\"Hello Neighbor\",\"GAME ADVENTURE\"],[\"Piggy Boom-Be the island king\",\"GAME ADVENTURE\"],[\"KENDALL & KYLIE\",\"GAME ADVENTURE\"],[\"Shipwrecked:Castaway Island\",\"GAME ADVENTURE\"],[\"Harry Potter: Wizards Unite\",\"GAME ADVENTURE\"],[\"Masha and the Bear Child Games\",\"GAME ADVENTURE\"],[\"Mirrors of Albion\",\"GAME ADVENTURE\"],[\"Ninja warrior: legend of adventure games\",\"GAME ADVENTURE\"],[\"Diamond Quest: Don't Rush!\",\"GAME ADVENTURE\"],[\"Westbound:Perils Ranch\",\"GAME ADVENTURE\"],[\"Clumsy Ninja\",\"GAME ADVENTURE\"],[\"LEGO\\u00ae Star Wars\\u2122: TFA\",\"GAME ADVENTURE\"],[\"Tinker Island - Survival Story Adventure\",\"GAME ADVENTURE\"],[\"FPS Commando Secret Mission - Free Shooting Games\",\"GAME ADVENTURE\"],[\"\\ufeffDragon Land\",\"GAME ADVENTURE\"],[\"The Island Castaway: Lost World\\u00ae\",\"GAME ADVENTURE\"],[\"Criminal Case: Pacific Bay\",\"GAME ADVENTURE\"],[\"The Wolf Among Us\",\"GAME ADVENTURE\"],[\"Dead Ninja Mortal Shadow\",\"GAME ADVENTURE\"],[\"BlockStarPlanet\",\"GAME ADVENTURE\"],[\"Street Chaser\",\"GAME ADVENTURE\"],[\"Draw a Stickman: EPIC Free\",\"GAME ADVENTURE\"],[\"Hotel Transylvania Adventures - Run, Jump, Build!\",\"GAME ADVENTURE\"],[\"Benji Bananas Adventures\",\"GAME ADVENTURE\"],[\"Seven - Deadly Revelation - Horror Chat Adventure\",\"GAME ADVENTURE\"],[\"Survival Island: EVO 2\",\"GAME ADVENTURE\"],[\"Zoo 2: Animal Park\",\"GAME ADVENTURE\"],[\"Spider Rope Hero - Gangster New York City\",\"GAME ADVENTURE\"],[\"Hidden City: Hidden Object Adventure\",\"GAME ADVENTURE\"],[\"CASE: Animatronics - Horror game\",\"GAME ADVENTURE\"],[\"Super City (Superhero Sim)\",\"GAME ADVENTURE\"],[\"3D Maze / Labyrinth\",\"GAME ADVENTURE\"],[\"MultiCraft \\u2015 Build and Mine! \\ud83d\\udc4d\",\"GAME ADVENTURE\"],[\"Friendzoned\",\"GAME ADVENTURE\"],[\"Nobodies: Murder Cleaner\",\"GAME ADVENTURE\"],[\"Adventure Time: Heroes of Ooo\",\"GAME ADVENTURE\"],[\"Homicide Squad: New York Cases\",\"GAME ADVENTURE\"],[\"Critical Action :Gun Strike Ops - Shooting Game\",\"GAME ADVENTURE\"],[\"Futurama: Worlds of Tomorrow\",\"GAME ADVENTURE\"],[\"Jurassic Survival Island: Dinosaurs & Craft\",\"GAME ADVENTURE\"],[\"Jungle Adventures\",\"GAME ADVENTURE\"],[\"Soda Dungeon\",\"GAME ADVENTURE\"],[\"Draw Your Game\",\"GAME ADVENTURE\"],[\"Epic Heroes - Dragon fight legends\",\"GAME ADVENTURE\"],[\"Castle Cats - Idle Hero RPG\",\"GAME ADVENTURE\"],[\"Treasure Diving\",\"GAME ADVENTURE\"],[\"PlanetCraft: Block Craft Games\",\"GAME ADVENTURE\"],[\"Bunny Skater\",\"GAME ADVENTURE\"],[\"Dinos Online\",\"GAME ADVENTURE\"],[\"Prison Escape Puzzle: Adventure\",\"GAME ADVENTURE\"],[\"Subway Surfers\",\"GAME ARCADE\"],[\"Hungry Shark Evolution - Offline survival game\",\"GAME ARCADE\"],[\"Geometry Dash Lite\",\"GAME ARCADE\"],[\"Zombie Tsunami\",\"GAME ARCADE\"],[\"Sonic Dash - Endless Running & Racing Game\",\"GAME ARCADE\"],[\"Fruit Ninja\\u00ae\",\"GAME ARCADE\"],[\"Jetpack Joyride\",\"GAME ARCADE\"],[\"Temple Run\",\"GAME ARCADE\"],[\"Cooking Fever \\u2013 Restaurant Game\",\"GAME ARCADE\"],[\"Minecraft\",\"GAME ARCADE\"],[\"Vector\",\"GAME ARCADE\"],[\"Granny\",\"GAME ARCADE\"],[\"DragonFlight\",\"GAME ARCADE\"],[\"Red Ball 4\",\"GAME ARCADE\"],[\"Minecraft Trial\",\"GAME ARCADE\"],[\"Block Craft 3D: Building Simulator Games For Free\",\"GAME ARCADE\"],[\"Cooking Madness - A Chef's Restaurant Games\",\"GAME ARCADE\"],[\"Blockman Go\",\"GAME ARCADE\"],[\"Galaxy Attack: Alien Shooter\",\"GAME ARCADE\"],[\"Paper.io 2\",\"GAME ARCADE\"],[\"Angry Birds Transformers\",\"GAME ARCADE\"],[\"Hungry Shark World\",\"GAME ARCADE\"],[\"Glow Hockey\",\"GAME ARCADE\"],[\"Geometry Dash Meltdown\",\"GAME ARCADE\"],[\"Angry Birds Seasons\",\"GAME ARCADE\"],[\"\\uc708\\ub4dc\\ub7ec\\ub108\",\"GAME ARCADE\"],[\"Crowd City\",\"GAME ARCADE\"],[\"Join Clash 3D\",\"GAME ARCADE\"],[\"Tank Stars\",\"GAME ARCADE\"],[\"Angry Birds Classic\",\"GAME ARCADE\"],[\"Brothers in Arms\\u00ae 3\",\"GAME ARCADE\"],[\"Rise Up\",\"GAME ARCADE\"],[\"Payback 2 - The Battle Sandbox\",\"GAME ARCADE\"],[\"Angry Birds Space\",\"GAME ARCADE\"],[\"Skater Boy\",\"GAME ARCADE\"],[\"Ant Smasher\",\"GAME ARCADE\"],[\"Partymasters - Fun Idle Game\",\"GAME ARCADE\"],[\"Tap Tap Dash\",\"GAME ARCADE\"],[\"101-in-1 Games\",\"GAME ARCADE\"],[\"Doodle Jump\",\"GAME ARCADE\"],[\"Hole.io\",\"GAME ARCADE\"],[\"Zombie Roadkill 3D\",\"GAME ARCADE\"],[\"Rider\",\"GAME ARCADE\"],[\"Lep's World 2\",\"GAME ARCADE\"],[\"Lep's World\",\"GAME ARCADE\"],[\"Angry Birds Friends\",\"GAME ARCADE\"],[\"Geometry Dash World\",\"GAME ARCADE\"],[\"Rail Rush\",\"GAME ARCADE\"],[\"Lep's World 3\",\"GAME ARCADE\"],[\"Knife Hit\",\"GAME ARCADE\"],[\"Stickman Party: 1 2 3 4 Player Games Free\",\"GAME ARCADE\"],[\"Zombie Smasher\",\"GAME ARCADE\"],[\"1945 Air Force - Airplane Shooting Games\",\"GAME ARCADE\"],[\"Stack Ball - Blast through platforms\",\"GAME ARCADE\"],[\"Cookie Run: OvenBreak - Endless Running Platformer\",\"GAME ARCADE\"],[\"Subway Princess Runner\",\"GAME ARCADE\"],[\"PAC-MAN\",\"GAME ARCADE\"],[\"Smash Hit\",\"GAME ARCADE\"],[\"Multiplayer for Minecraft PE - MCPE Servers\",\"GAME ARCADE\"],[\"Granny: Chapter Two\",\"GAME ARCADE\"],[\"Geometry Dash\",\"GAME ARCADE\"],[\"Jewels Switch\",\"GAME ARCADE\"],[\"LokiCraft\",\"GAME ARCADE\"],[\"Stupid Zombies\",\"GAME ARCADE\"],[\"Stick Hero\",\"GAME ARCADE\"],[\"Sonic Dash 2: Sonic Boom\",\"GAME ARCADE\"],[\"Sky Whale\",\"GAME ARCADE\"],[\"Space shooter - Galaxy attack - Galaxy shooter\",\"GAME ARCADE\"],[\"Sky Roller\",\"GAME ARCADE\"],[\"Geometry Dash SubZero\",\"GAME ARCADE\"],[\"Color Bump 3D\",\"GAME ARCADE\"],[\"Draw it\",\"GAME ARCADE\"],[\"Fernanfloo\",\"GAME ARCADE\"],[\"Cartoon Wars\",\"GAME ARCADE\"],[\"Run\",\"GAME ARCADE\"],[\"Snake VS Block\",\"GAME ARCADE\"],[\"Zombie World War\",\"GAME ARCADE\"],[\"My Boy! Free - GBA Emulator\",\"GAME ARCADE\"],[\"Burrito Bison: Launcha Libre\",\"GAME ARCADE\"],[\"Bricks Ball Crusher\",\"GAME ARCADE\"],[\"Daddy Long Legs\",\"GAME ARCADE\"],[\"Galactic Attack - Classic Shooter : Falcon Squad\",\"GAME ARCADE\"],[\"Stickman Hook\",\"GAME ARCADE\"],[\"Jewels Legend - Match 3 Puzzle\",\"GAME ARCADE\"],[\"BBTAN by 111%\",\"GAME ARCADE\"],[\"Prize Claw\",\"GAME ARCADE\"],[\"Ball Blast\",\"GAME ARCADE\"],[\"Will Hero\",\"GAME ARCADE\"],[\"Monster Dash\",\"GAME ARCADE\"],[\"Duet\",\"GAME ARCADE\"],[\"Infinite Stairs\",\"GAME ARCADE\"],[\"Slendrina:The Cellar (Free)\",\"GAME ARCADE\"],[\"Run Sausage Run!\",\"GAME ARCADE\"],[\"Human Evolution Clicker: Tap and Evolve Life Forms\",\"GAME ARCADE\"],[\"Sky Force 2014\",\"GAME ARCADE\"],[\"Bouncemasters\",\"GAME ARCADE\"],[\"Tank Hero\",\"GAME ARCADE\"],[\"Nyan Cat: Lost In Space\",\"GAME ARCADE\"],[\"Stack\",\"GAME ARCADE\"],[\"Paper.io\",\"GAME ARCADE\"],[\"Ludo King\\u2122\",\"GAME BOARD\"],[\"Happy Color\\u2122 \\u2013 Color by Number. Coloring games.\",\"GAME BOARD\"],[\"101 Y\\u00fczbir Okey Plus\",\"GAME BOARD\"],[\"Parchisi STAR Online\",\"GAME BOARD\"],[\"\\ubaa8\\ub450\\uc758\\ub9c8\\ube14\",\"GAME BOARD\"],[\"Chess\",\"GAME BOARD\"],[\"Paint By Number - Coloring Book & Color by Number\",\"GAME BOARD\"],[\"Ludo Club - Fun Dice Game\",\"GAME BOARD\"],[\"Okey Plus\",\"GAME BOARD\"],[\"Dominoes\",\"GAME BOARD\"],[\"Bingo Blitz\\u2122\\ufe0f - Bingo Games\",\"GAME BOARD\"],[\"Ludo STAR\",\"GAME BOARD\"],[\"Chess - Play and Learn\",\"GAME BOARD\"],[\"Bingo Showdown Free Bingo Games \\u2013 Bingo Live Game\",\"GAME BOARD\"],[\"Ludo Star 2\",\"GAME BOARD\"],[\"\\u00c7anak Okey Plus\",\"GAME BOARD\"],[\"Okey\",\"GAME BOARD\"],[\"Checkers\",\"GAME BOARD\"],[\"1LINE \\u2013 One Line with One Touch\",\"GAME BOARD\"],[\"BINGO!\",\"GAME BOARD\"],[\"LANDLORD TYCOON Business Management Investing Game\",\"GAME BOARD\"],[\"Backgammon Plus\",\"GAME BOARD\"],[\"Bingo Bash featuring MONOPOLY: Live Bingo Games\",\"GAME BOARD\"],[\"Real Chess\",\"GAME BOARD\"],[\"Chess Free\",\"GAME BOARD\"],[\"Mahjong Epic\",\"GAME BOARD\"],[\"Tic Tac Toe\",\"GAME BOARD\"],[\"Dominos Online Jogatina: Dominoes Game Free\",\"GAME BOARD\"],[\"Backgammon Free\",\"GAME BOARD\"],[\"Mahjong City Tours: Free Mahjong Classic Game\",\"GAME BOARD\"],[\"Bingo Party - Free Classic Bingo Games Online\",\"GAME BOARD\"],[\"Rento - Dice Board Game Online\",\"GAME BOARD\"],[\"Snakes & Ladders King\",\"GAME BOARD\"],[\"Game of Dice\",\"GAME BOARD\"],[\"Pinball Pro\",\"GAME BOARD\"],[\"Checkers Online Elite\",\"GAME BOARD\"],[\"Woody Block Puzzle \\u00ae\",\"GAME BOARD\"],[\"Gaple-Domino QiuQiu Poker Capsa Slots Game Online\",\"GAME BOARD\"],[\"Backgammon - Narde\",\"GAME BOARD\"],[\"Bingo Pop: Free Live Multiplayer Bingo Board Games\",\"GAME BOARD\"],[\"RISK: Global Domination\",\"GAME BOARD\"],[\"Slots: Epic Jackpot Slots Games Free & Casino Game\",\"GAME BOARD\"],[\"Yalla Ludo - Ludo&Domino\",\"GAME BOARD\"],[\"Tap Color - Color by number. Coloring Game\",\"GAME BOARD\"],[\"Onnect - Pair Matching Puzzle\",\"GAME BOARD\"],[\"Ludo SuperStar\",\"GAME BOARD\"],[\"Domino Gaple TopFun(Domino QiuQiu):Free dan online\",\"GAME BOARD\"],[\"Chess - Clash of Kings\",\"GAME BOARD\"],[\"C\\u1edd T\\u1ef7 Ph\\u00fa - Co Ty Phu ZingPlay - Board Game\",\"GAME BOARD\"],[\"Colorscapes - Color by Number, Coloring Games\",\"GAME BOARD\"],[\"Ludo Talent- Online Ludo&Chatroom\",\"GAME BOARD\"],[\"Mahjong Master\",\"GAME BOARD\"],[\"Backgammon Free - Lord of the Board - Table Game\",\"GAME BOARD\"],[\"YAHTZEE\\u00ae With Buddies Dice Game\",\"GAME BOARD\"],[\"Sudoku Free\",\"GAME BOARD\"],[\"Fun 101 Okey\",\"GAME BOARD\"],[\"Tile Craft - Triple Crush: Puzzle matching game\",\"GAME BOARD\"],[\"Dice With Buddies\\u2122 Free - The Fun Social Dice Game\",\"GAME BOARD\"],[\"Travelling Millionaire\",\"GAME BOARD\"],[\"\\u00c7anak Okey - Mynet\",\"GAME BOARD\"],[\"Reversi Free\",\"GAME BOARD\"],[\"Rummikub\\u00ae\",\"GAME BOARD\"],[\"Tile Master - Classic Triple Match & Puzzle Game\",\"GAME BOARD\"],[\"Ludo\",\"GAME BOARD\"],[\"Carrom King\\u2122 - Best Online Carrom Board Pool Game\",\"GAME BOARD\"],[\"Fleet Battle - Sea Battle\",\"GAME BOARD\"],[\"Numberzilla - Number Puzzle | Board Game\",\"GAME BOARD\"],[\"Slots: VIP Deluxe Slot Machines Free - Vegas Slots\",\"GAME BOARD\"],[\"Domino QiuQiu KiuKiu Online(koin gratis)\",\"GAME BOARD\"],[\"Mahjong Titan\",\"GAME BOARD\"],[\"Einstein's Riddle Logic Puzzles\",\"GAME BOARD\"],[\"Ludo All Star - Play Online Ludo Game & Board Game\",\"GAME BOARD\"],[\"Four In A Line Free\",\"GAME BOARD\"],[\"Coloring Book - Color by Number & Paint by Number\",\"GAME BOARD\"],[\"\\uc778\\uc0dd\\uc5ed\\uc804\\uc737\\ub180\\uc774\",\"GAME BOARD\"],[\"Chess Online - Duel friends online!\",\"GAME BOARD\"],[\"Slot Casino - Slot Machines\",\"GAME BOARD\"],[\"Loco Parch\\u00eds - Magic Ludo & Mega dice! USA Vip Bet\",\"GAME BOARD\"],[\"Carrom 3D\",\"GAME BOARD\"],[\"lichess \\u2022 Free Online Chess\",\"GAME BOARD\"],[\"Chess for Android\",\"GAME BOARD\"],[\"Truth or Dare \\u2014 Dirty Party Game for Adults 18+\",\"GAME BOARD\"],[\"Chess Royale: Play and Learn Free Online\",\"GAME BOARD\"],[\"Loto Online\",\"GAME BOARD\"],[\"Chess Online\",\"GAME BOARD\"],[\"Praia Bingo - Bingo Games + Slot + Casino\",\"GAME BOARD\"],[\"Dr. Chess\",\"GAME BOARD\"],[\"Domino! The world's largest dominoes community\",\"GAME BOARD\"],[\"\\ud83d\\udc0d Snakes and Ladders - Free Board Games \\ud83c\\udfb2\",\"GAME BOARD\"],[\"Super Bingo HD: Bingo Games\",\"GAME BOARD\"],[\"Onet 3D - Classic Link Puzzle\",\"GAME BOARD\"],[\"Color by Number: Free Coloring Games - Paint Book\",\"GAME BOARD\"],[\"Okey Extra\",\"GAME BOARD\"],[\"Ludo Neo-Classic : King of the Dice Game\",\"GAME BOARD\"],[\"Domino Qiu Qiu Online:Domino 99\\uff08QQ\\uff09\",\"GAME BOARD\"],[\"Dr. Gomoku\",\"GAME BOARD\"],[\"Mind Games (Challenging brain games)\",\"GAME BOARD\"],[\"Ultimate Jewel\",\"GAME BOARD\"],[\"OKEY\",\"GAME BOARD\"],[\"Backgammon Offline\",\"GAME BOARD\"],[\"Yu-Gi-Oh! Duel Links\",\"GAME CARD\"],[\"Hearthstone\",\"GAME CARD\"],[\"Solitaire\",\"GAME CARD\"],[\"Solitaire\",\"GAME CARD\"],[\"Solitaire\",\"GAME CARD\"],[\"Solitaire\",\"GAME CARD\"],[\"World Series of Poker WSOP Texas Holdem Poker\",\"GAME CARD\"],[\"Live Hold\\u2019em Pro Poker - Free Casino Games\",\"GAME CARD\"],[\"Pyramid Solitaire Saga\",\"GAME CARD\"],[\"UNO!\\u2122\",\"GAME CARD\"],[\"Solitaire Grand Harvest\",\"GAME CARD\"],[\"Solitaire TriPeaks: Play Free Solitaire Card Games\",\"GAME CARD\"],[\"Solitaire\",\"GAME CARD\"],[\"Solitaire\",\"GAME CARD\"],[\"Solitaire\",\"GAME CARD\"],[\"Solitaire\",\"GAME CARD\"],[\"Gin Rummy Plus\",\"GAME CARD\"],[\"Spider Solitaire\",\"GAME CARD\"],[\"Solitaire\",\"GAME CARD\"],[\"Solitaire\",\"GAME CARD\"],[\"Solitaire\",\"GAME CARD\"],[\"Solitaire\",\"GAME CARD\"],[\"Truco Blyts\",\"GAME CARD\"],[\"Poker Games: World Poker Club\",\"GAME CARD\"],[\"Legends of Runeterra\",\"GAME CARD\"],[\"Deck Heroes: Legacy\",\"GAME CARD\"],[\"Durak Online\",\"GAME CARD\"],[\"Solitaire\",\"GAME CARD\"],[\"Solitaire\",\"GAME CARD\"],[\"Solitaire\",\"GAME CARD\"],[\"Solitaire\",\"GAME CARD\"],[\"Poker Heat\\u2122 - Free Texas Holdem Poker Games\",\"GAME CARD\"],[\"Solitaire\",\"GAME CARD\"],[\"Dummy & Toon Poker Texas slot Online Card Game\",\"GAME CARD\"],[\"Fairway Solitaire Blast\",\"GAME CARD\"],[\"\\ud53c\\ub9dd \\ub274\\ub9de\\uace0 : \\uace0\\uc2a4\\ud1b1\\uc73c\\ub85c \\ub300\\ud55c\\ubbfc\\uad6d 1\\ub4f1\",\"GAME CARD\"],[\"Conquian Zingplay: el mejor juego de cartas gratis\",\"GAME CARD\"],[\"GWENT: The Witcher Card Game\",\"GAME CARD\"],[\"Spider Solitaire\",\"GAME CARD\"],[\"Order & Chaos Duels\",\"GAME CARD\"],[\"Spades Plus - Card Game\",\"GAME CARD\"],[\"Governor of Poker 2 - OFFLINE POKER GAME\",\"GAME CARD\"],[\"Jawaker Trix, Tarneeb, Baloot, Hand & More\",\"GAME CARD\"],[\"Buraco Canasta Jogatina: Card Games For Free\",\"GAME CARD\"],[\"Governor of Poker 3 - Free Texas Holdem Card Games\",\"GAME CARD\"],[\"Texas Hold'em & Omaha Poker: Pokerist\",\"GAME CARD\"],[\"Indian Rummy: Play Rummy Game Online\",\"GAME CARD\"],[\"RummyCircle - Play Indian Rummy Online | Card Game\",\"GAME CARD\"],[\"FreeCell Solitaire\",\"GAME CARD\"],[\"TopFun Domino QiuQiu:Domino99 (KiuKiu)\",\"GAME CARD\"],[\"Spades Royale - Best Online Spades Card Games App\",\"GAME CARD\"],[\"Solitaire TriPeaks Journey - Klondike Card Games\",\"GAME CARD\"],[\"Durak\",\"GAME CARD\"],[\"Spades Free\",\"GAME CARD\"],[\"Domino QiuQiu 2020 - Domino 99 \\u00b7 Gaple online\",\"GAME CARD\"],[\"Scopa - Free Italian Card Game Online\",\"GAME CARD\"],[\"Microsoft Solitaire Collection\",\"GAME CARD\"],[\"Solitaire Arena\",\"GAME CARD\"],[\"Mango Capsa Susun\",\"GAME CARD\"],[\"Solitaire\",\"GAME CARD\"],[\"Solitaire\",\"GAME CARD\"],[\"Solitaire\",\"GAME CARD\"],[\"Soccer Spirits\",\"GAME CARD\"],[\"Belote.com - Free Belote Game\",\"GAME CARD\"],[\"Solitaire\",\"GAME CARD\"],[\"Solitaire\",\"GAME CARD\"],[\"Solitaire\",\"GAME CARD\"],[\"Polskie Z\\u0142ote Zdrapki\",\"GAME CARD\"],[\"Solitaire\",\"GAME CARD\"],[\"Solitaire\",\"GAME CARD\"],[\"Solitaire\",\"GAME CARD\"],[\"Truco ZingPlay: Jogo de cartas online gr\\u00e1tis\",\"GAME CARD\"],[\"\\u0e44\\u0e1e\\u0e48\\u0e41\\u0e04\\u0e07 - \\u0e21\\u0e35\\u0e14\\u0e31\\u0e21\\u0e21\\u0e35\\u0e48 \\u0e1b\\u0e4a\\u0e2d\\u0e01\\u0e40\\u0e14\\u0e49\\u0e07 \\u0e44\\u0e2e\\u0e42\\u0e25 \\u0e40\\u0e01\\u0e49\\u0e32\\u0e40\\u0e01\",\"GAME CARD\"],[\"Fairway Solitaire - Card Game\",\"GAME CARD\"],[\"Solitaire: classic card game\",\"GAME CARD\"],[\"Dummy Hero\",\"GAME CARD\"],[\"Solitaire Collection\",\"GAME CARD\"],[\"Reigns\",\"GAME CARD\"],[\"Solitaire Classic\",\"GAME CARD\"],[\"Solitaire!\",\"GAME CARD\"],[\"The Elder Scrolls: Legends\",\"GAME CARD\"],[\"Solitaire\",\"GAME CARD\"],[\"Spider Solitaire\",\"GAME CARD\"],[\"Spider Solitaire\",\"GAME CARD\"],[\"Rummy 45 - Remi Etalat\",\"GAME CARD\"],[\"\\u4e09\\u570b\\u6bba\\u540d\\u5c07\\u50b3\",\"GAME CARD\"],[\"Classic Solitaire\",\"GAME CARD\"],[\"Eredan Arena PVP\",\"GAME CARD\"],[\"\\ub274 \\ud55c\\ud310 \\ub9de\\uace0 (\\ub370\\uc774\\ud130 \\ud544\\uc694\\uc5c6\\ub294 \\ubb34\\ub8cc \\uace0\\uc2a4\\ud1b1)\",\"GAME CARD\"],[\"Descarte\",\"GAME CARD\"],[\"Spider Solitaire\",\"GAME CARD\"],[\"Spider Solitaire\",\"GAME CARD\"],[\"Phase 10: World Tour\",\"GAME CARD\"],[\"Pok\\u00e9mon TCG Online\",\"GAME CARD\"],[\"\\uc560\\ub2c8\\ud321 \\ub9de\\uace0\",\"GAME CARD\"],[\"Belote Multiplayer\",\"GAME CARD\"],[\"\\ud53c\\ub9dd \\uc12f\\ub2e4\",\"GAME CARD\"],[\"\\u5927\\u5bcc\\u8c6aBEST\",\"GAME CARD\"],[\"BlackJack 21 - Online Blackjack multiplayer casino\",\"GAME CARD\"],[\"Solitaire Showtime: Tri Peaks Solitaire Free & Fun\",\"GAME CARD\"],[\"\\ud55c\\uac8c\\uc784 \\uc2e0\\ub9de\\uace0 : \\ub300\\ud55c\\ubbfc\\uad6d \\uc6d0\\uc870 \\uace0\\uc2a4\\ud1b1\",\"GAME CARD\"],[\"Absolute Bingo- Free Bingo Games Offline or Online\",\"GAME CARD\"],[\"Batak HD - \\u0130nternetsiz Batak\",\"GAME CARD\"],[\"Mega Hit Poker: Texas Holdem\",\"GAME CARD\"],[\"Spider Solitaire\",\"GAME CARD\"],[\"Solitaire\",\"GAME CARD\"],[\"Solitaire\",\"GAME CARD\"],[\"Solitaire\",\"GAME CARD\"],[\"LG Smart Truco\",\"GAME CARD\"],[\"Solitaire Cruise: Classic Tripeaks Cards Games\",\"GAME CARD\"],[\"Gin Rummy Free\",\"GAME CARD\"],[\"Solitaire\",\"GAME CARD\"],[\"Solitaire\",\"GAME CARD\"],[\"Solitaire\",\"GAME CARD\"],[\"Solitaire - Make Free Money & Play the Card Game\",\"GAME CARD\"],[\"Solitaire: Super Challenges\",\"GAME CARD\"],[\"Solitaire\",\"GAME CARD\"],[\"Solitaire\",\"GAME CARD\"],[\"Solitaire\",\"GAME CARD\"],[\"Solitaire Tripeaks: Farm Adventure\",\"GAME CARD\"],[\"Cribbage Classic\",\"GAME CARD\"],[\"Tien Len - Southern Poker\",\"GAME CARD\"],[\"Otogi: Spirit Agents\",\"GAME CARD\"],[\"Happy Scratch\",\"GAME CARD\"],[\"Epic Cards Battle(TCG)\",\"GAME CARD\"],[\"Age of Ishtaria - A.Battle RPG\",\"GAME CARD\"],[\"Zynga Poker\\u2122 \\u2013 Free Texas Holdem Online Card Games\",\"GAME CASINO\"],[\"Slotomania\\u2122 Slots: Casino Slot Machine Games\",\"GAME CASINO\"],[\"Teen Patti Gold \\u2013 Indian Family Card Game\",\"GAME CASINO\"],[\"Teen Patti by Octro - Real 3 Patti Game\",\"GAME CASINO\"],[\"Coin Dozer: Sweepstakes\",\"GAME CASINO\"],[\"House of Fun: Play Casino Slots\",\"GAME CASINO\"],[\"Scatter Slots - Las Vegas Casino Game 777 Online\",\"GAME CASINO\"],[\"Lucky Day - Win Real Rewards\",\"GAME CASINO\"],[\"Jackpot Party Casino Games: Spin FREE Casino Slots\",\"GAME CASINO\"],[\"Huuuge Casino\\u2122 Free Slots & Best Slot Machines 777\",\"GAME CASINO\"],[\"DoubleU Casino - Free Slots\",\"GAME CASINO\"],[\"Jackpot Slot Machines - Slots Era\\u2122 Vegas Casino\",\"GAME CASINO\"],[\"Caesars Slots: Casino Slots game\",\"GAME CASINO\"],[\"myVEGAS Slots: Las Vegas Casino Games & Slots\",\"GAME CASINO\"],[\"DH Texas Poker - Texas Hold'em\",\"GAME CASINO\"],[\"Gold Fish Casino Slots - FREE Slot Machine Games\",\"GAME CASINO\"],[\"BLACKJACK!\",\"GAME CASINO\"],[\"Hit it Rich! Lucky Vegas Casino Slot Machine Game\",\"GAME CASINO\"],[\"Cash Frenzy\\u2122 Casino \\u2013 Free Slots Games\",\"GAME CASINO\"],[\"Wizard of Oz Free Slots Casino\",\"GAME CASINO\"],[\"Dummy \\u0e14\\u0e31\\u0e21\\u0e21\\u0e35\\u0e48 \\u0e44\\u0e1e\\u0e48\\u0e41\\u0e04\\u0e07 \\u0e40\\u0e01\\u0e21\\u0e44\\u0e1e\\u0e48\\u0e1f\\u0e23\\u0e35\",\"GAME CASINO\"],[\"Full House Casino - Free Vegas Slots Machine Games\",\"GAME CASINO\"],[\"Slots (Golden HoYeah) - Casino Slots\",\"GAME CASINO\"],[\"Luxy Poker-Online Texas Holdem\",\"GAME CASINO\"],[\"Vegas Slots - DoubleDown Casino\",\"GAME CASINO\"],[\"Texas HoldEm Poker Deluxe\",\"GAME CASINO\"],[\"\\u0e40\\u0e01\\u0e49\\u0e32\\u0e40\\u0e01\\u0e44\\u0e17\\u0e22\",\"GAME CASINO\"],[\"Cashman Casino: Casino Slots Machines! 2M Free!\",\"GAME CASINO\"],[\"Slots: Heart of Vegas\\u2122 \\u2013 Free Casino Slots Games\",\"GAME CASINO\"],[\"Casino Jackpot Slots - Infinity Slots\\u2122 777 Game\",\"GAME CASINO\"],[\"my KONAMI Slots - Casino Games & Fun Slot Machines\",\"GAME CASINO\"],[\"POP! Slots \\u2122- Free Vegas Casino Slot Machine Games\",\"GAME CASINO\"],[\"Tycoon Casino Free Slots: Vegas Slot Machine Games\",\"GAME CASINO\"],[\"GSN Casino: Slots and Casino Games - Vegas Slots\",\"GAME CASINO\"],[\"Slots Pharaoh's Way Casino Games & Slot Machine\",\"GAME CASINO\"],[\"Lotsa Slots - Free Vegas Casino Slot Machines\",\"GAME CASINO\"],[\"Big Fish Casino - Play Slots and Casino Games\",\"GAME CASINO\"],[\"Ti\\u1ebfn l\\u00ean Mi\\u1ec1n Nam - Ti\\u1ebfn L\\u00ean - ZingPlay\",\"GAME CASINO\"],[\"Club Vegas 2021: New Slots Games & Casino bonuses\",\"GAME CASINO\"],[\"\\u9ebb\\u5c07 \\u660e\\u661f3\\u7f3a1\\u9ebb\\u5c07\\u2013\\u53f0\\u706316\\u5f35\\u9ebb\\u5c07Mahjong \\u3001SLOT\\u3001Poker\",\"GAME CASINO\"],[\"Billionaire Casino Slots - The Best Slot Machines\",\"GAME CASINO\"],[\"Jackpot World\\u2122 - Free Vegas Casino Slots\",\"GAME CASINO\"],[\"GAMEE Prizes - Play Free Games, WIN REAL CASH!\",\"GAME CASINO\"],[\"NEW SLOTS 2021\\uff0dfree casino games & slot machines\",\"GAME CASINO\"],[\"Quick Hit Casino Games - Free Casino Slots Games\",\"GAME CASINO\"],[\"Tongits Go-Exciting and Competitive Card Game\",\"GAME CASINO\"],[\"Gaminator Casino Slots - Play Slot Machines 777\",\"GAME CASINO\"],[\"\\u0e44\\u0e1e\\u0e48\\u0e40\\u0e17\\u0e47\\u0e01\\u0e0b\\u0e31\\u0e2a\\u0e42\\u0e1a\\u0e22\\u0e48\\u0e32-Boyaa Texas Poker \\u0e42\\u0e1b\\u0e4a\\u0e01\\u0e40\\u0e01\\u0e2d\\u0e23\\u0e4c\\u0e21\\u0e37\\u0e2d\\u0e42\\u0e1b\\u0e23\",\"GAME CASINO\"],[\"Double Win Casino Slots - Free Video Slots Games\",\"GAME CASINO\"],[\"UTP - Ultimate Teen Patti (3 Patti)\",\"GAME CASINO\"],[\"Free Slot Machines with Bonus Games!\",\"GAME CASINO\"],[\"Hot Shot Casino Free Slots Games: Real Vegas Slots\",\"GAME CASINO\"],[\"Bingo Tycoon\",\"GAME CASINO\"],[\"Coin Dozer: Casino\",\"GAME CASINO\"],[\"MONOPOLY Slots - Slot Machines\",\"GAME CASINO\"],[\"Willy Wonka Slots Free Casino\",\"GAME CASINO\"],[\"88 Fortunes Casino Games & Free Slot Machine Games\",\"GAME CASINO\"],[\"Roulette Royale - FREE Casino\",\"GAME CASINO\"],[\"Slots Free - Big Win Casino\\u2122\",\"GAME CASINO\"],[\"Pmang Poker : Casino Royal\",\"GAME CASINO\"],[\"Slotpark - Online Casino Games & Free Slot Machine\",\"GAME CASINO\"],[\"Slots Casino - Jackpot Mania\",\"GAME CASINO\"],[\"Bingo by Alisa - Free Live Multiplayer Bingo Games\",\"GAME CASINO\"],[\"Poker Texas Boyaa\",\"GAME CASINO\"],[\"Scratch Day\",\"GAME CASINO\"],[\"C\\u1ed5ng game ZingPlay - Game b\\u00e0i - Game c\\u1edd - Ti\\u1ebfn l\\u00ean\",\"GAME CASINO\"],[\"Slot Machine - FREE Casino\",\"GAME CASINO\"],[\"Rock N' Cash Casino Slots -Free Vegas Slot Games\",\"GAME CASINO\"],[\"Slots: Get Rich Free Slots Casino Games Offline\",\"GAME CASINO\"],[\"Bingo Journey - Lucky & Fun Casino Bingo Games\",\"GAME CASINO\"],[\"Best Casino Free Slots: Casino Slot Machine Games\",\"GAME CASINO\"],[\"Stars Slots - Casino Games\",\"GAME CASINO\"],[\"Jackpot Magic Slots\\u2122: Social Casino & Slot Games\",\"GAME CASINO\"],[\"Bingo Holiday: Free Bingo Games\",\"GAME CASINO\"],[\"Free Slots!\",\"GAME CASINO\"],[\"\\u0e44\\u0e1e\\u0e48\\u0e41\\u0e04\\u0e07-\\u0e23\\u0e27\\u0e21\\u0e14\\u0e31\\u0e21\\u0e21\\u0e35\\u0e48dummy \\u0e1b\\u0e4a\\u0e2d\\u0e01\\u0e40\\u0e14\\u0e49\\u0e07 \\u0e40\\u0e01\\u0e49\\u0e32\\u0e40\\u0e01\\u0e44\\u0e17\\u0e22 \\u0e40\\u0e01\\u0e21\\u0e44\\u0e1e\\u0e48\\u0e1f\\u0e23\\u0e35\",\"GAME CASINO\"],[\"Cash Storm Casino - Free Vegas Jackpot Slots Games\",\"GAME CASINO\"],[\"Free Slots Casino - Adventures\",\"GAME CASINO\"],[\"myVEGAS Blackjack 21 - Free Vegas Casino Card Game\",\"GAME CASINO\"],[\"Cash Blitz Free Slots: Casino Slot Machine Games\",\"GAME CASINO\"],[\"SLOTS - Black Diamond Casino\",\"GAME CASINO\"],[\"Winning Slots casino games:free vegas slot machine\",\"GAME CASINO\"],[\"\\u0e44\\u0e1e\\u0e48\\u0e40\\u0e17\\u0e47\\u0e01\\u0e0b\\u0e31\\u0e2a\\u0e44\\u0e17\\u0e22 HD\",\"GAME CASINO\"],[\"Vegas Downtown Slots\\u2122 - Slot Machines & Word Games\",\"GAME CASINO\"],[\"\\u0e14\\u0e31\\u0e21\\u0e21\\u0e35\\u0e48\\u0e44\\u0e17\\u0e22\\u0e41\\u0e25\\u0e19\\u0e14\\u0e4c-\\u0e23\\u0e27\\u0e21\\u0e44\\u0e1e\\u0e48\\u0e41\\u0e04\\u0e07 \\u0e40\\u0e01\\u0e49\\u0e32\\u0e40\\u0e01 \\u0e44\\u0e2e\\u0e42\\u0e25 \\u0e40\\u0e01\\u0e21\\u0e44\\u0e1e\\u0e48\\u0e1f\\u0e23\\u0e35\",\"GAME CASINO\"],[\"Bingo\\u2122\",\"GAME CASINO\"],[\"Slots on Tour Casino - Vegas Slot Machine Games HD\",\"GAME CASINO\"],[\"Lightning Link Casino: Best Vegas Casino Slots!\",\"GAME CASINO\"],[\"Spin Day - Win Real Money\",\"GAME CASINO\"],[\"Old Vegas Slots \\u2013 Classic Slots Casino Games\",\"GAME CASINO\"],[\"Royal Casino\",\"GAME CASINO\"],[\"OMG! Fortune Slots - Grand Casino Games\",\"GAME CASINO\"],[\"Blackjack 21\",\"GAME CASINO\"],[\"Bingo Blaze - Free Bingo Games\",\"GAME CASINO\"],[\"Fun Big 2\",\"GAME CASINO\"],[\"Lotto Scratch \\u2013 Las Vegas\",\"GAME CASINO\"],[\"Slots: Free Slot Machines\",\"GAME CASINO\"],[\"Jackpot Crush \\u2013 Free Vegas Slot Machines\",\"GAME CASINO\"],[\"High 5 Casino: The Home of Fun & Free Vegas Slots\",\"GAME CASINO\"],[\"Slots! CashHit Slot Machines & Casino Games Party\",\"GAME CASINO\"],[\"Candy Crush Saga\",\"GAME CASUAL\"],[\"My Talking Tom\",\"GAME CASUAL\"],[\"My Talking Angela\",\"GAME CASUAL\"],[\"Hay Day\",\"GAME CASUAL\"],[\"Pou\",\"GAME CASUAL\"],[\"Gardenscapes\",\"GAME CASUAL\"],[\"Minion Rush: Despicable Me Official Game\",\"GAME CASUAL\"],[\"Homescapes\",\"GAME CASUAL\"],[\"Farm Heroes Saga\",\"GAME CASUAL\"],[\"Township\",\"GAME CASUAL\"],[\"Candy Crush Soda Saga\",\"GAME CASUAL\"],[\"Plants vs Zombies\\u2122 2 Free\",\"GAME CASUAL\"],[\"Coin Master\",\"GAME CASUAL\"],[\"Angry Birds 2\",\"GAME CASUAL\"],[\"My Cafe \\u2014 Restaurant Game. Serve & Manage\",\"GAME CASUAL\"],[\"The Simpsons\\u2122: Tapped Out\",\"GAME CASUAL\"],[\"My Talking Tom 2\",\"GAME CASUAL\"],[\"Bubble Witch 2 Saga\",\"GAME CASUAL\"],[\"FarmVille 2: Country Escape\",\"GAME CASUAL\"],[\"Talking Tom Cat\",\"GAME CASUAL\"],[\"My Home - Design Dreams\",\"GAME CASUAL\"],[\"Best Fiends - Free Puzzle Game\",\"GAME CASUAL\"],[\"PewDiePie's Tuber Simulator\",\"GAME CASUAL\"],[\"Ice Age Village\",\"GAME CASUAL\"],[\"My Talking Tom Friends\",\"GAME CASUAL\"],[\"Dumb Ways to Die 2: The Games\",\"GAME CASUAL\"],[\"Candy Crush Friends Saga\",\"GAME CASUAL\"],[\"Family Farm Seaside\",\"GAME CASUAL\"],[\"Bubble Shooter\",\"GAME CASUAL\"],[\"Pirate Kings\\u2122\\ufe0f\",\"GAME CASUAL\"],[\"MY LITTLE PONY: Magic Princess\",\"GAME CASUAL\"],[\"My Horse\",\"GAME CASUAL\"],[\"Blossom Blast Saga\",\"GAME CASUAL\"],[\"Gacha Club\",\"GAME CASUAL\"],[\"Diamond Digger Saga\",\"GAME CASUAL\"],[\"Farm Heroes Super Saga\",\"GAME CASUAL\"],[\"My Talking Hank\",\"GAME CASUAL\"],[\"Papa Pear Saga\",\"GAME CASUAL\"],[\"My Boo: Your Virtual Pet Game To Care and Play\",\"GAME CASUAL\"],[\"Puppy Town - Merge & Win\",\"GAME CASUAL\"],[\"Save The Girl\",\"GAME CASUAL\"],[\"Smurfs' Village\",\"GAME CASUAL\"],[\"My Dolphin Show\",\"GAME CASUAL\"],[\"Green Farm 3\",\"GAME CASUAL\"],[\"Pet Rescue Saga\",\"GAME CASUAL\"],[\"Good Pizza, Great Pizza\",\"GAME CASUAL\"],[\"Bubble Shooter\",\"GAME CASUAL\"],[\"Rodeo Stampede: Sky Zoo Safari\",\"GAME CASUAL\"],[\"Stickman Warriors\",\"GAME CASUAL\"],[\"Idle Arks: Build at Sea\",\"GAME CASUAL\"],[\"Bubbu \\u2013 My Virtual Pet\",\"GAME CASUAL\"],[\"BTS WORLD\",\"GAME CASUAL\"],[\"Let's Create! Pottery Lite\",\"GAME CASUAL\"],[\"Covet Fashion - Dress Up Game\",\"GAME CASUAL\"],[\"World Chef \\ud83c\\udf70\\ud83c\\udf54\\ud83c\\udf5d\\ud83c\\udf53\",\"GAME CASUAL\"],[\"What if..\",\"GAME CASUAL\"],[\"Virtual Families 2\",\"GAME CASUAL\"],[\"Angry Birds POP Bubble Shooter\",\"GAME CASUAL\"],[\"The Simpsons\\u2122: Tapped Out\",\"GAME CASUAL\"],[\"Wonder Zoo - Animal rescue !\",\"GAME CASUAL\"],[\"Furby BOOM!\",\"GAME CASUAL\"],[\"Shopping Mall Girl - Dress Up & Style Game\",\"GAME CASUAL\"],[\"Plants vs. Zombies\\u2122 2 Free\",\"GAME CASUAL\"],[\"Plants vs. Zombies\\u2122 Heroes\",\"GAME CASUAL\"],[\"Twist Hit!\",\"GAME CASUAL\"],[\"Hello Kitty Nail Salon\",\"GAME CASUAL\"],[\"Board Kings\\u2122\\ufe0f: Fun Board Games\",\"GAME CASUAL\"],[\"Moy 3 - Virtual Pet Game\",\"GAME CASUAL\"],[\"Fish Live\",\"GAME CASUAL\"],[\"Family Island\\u2122 - Farm game adventure\",\"GAME CASUAL\"],[\"Cow Evolution: Crazy Cow Making Idle Merge Games\",\"GAME CASUAL\"],[\"BlockBuild: Craft Your Dream World\",\"GAME CASUAL\"],[\"Paradise Island 2: Hotel Game\",\"GAME CASUAL\"],[\"Kiss Kiss: Spin the Bottle for Chatting & Fun\",\"GAME CASUAL\"],[\"Moy 2 - Virtual Pet Game\",\"GAME CASUAL\"],[\"Lost Island: Blast Adventure\",\"GAME CASUAL\"],[\"Stupid Zombies 3\",\"GAME CASUAL\"],[\"Idle Sightseeing Train - Game of Train Transport\",\"GAME CASUAL\"],[\"Dumb Ways to Die\",\"GAME CASUAL\"],[\"Bubble Shooter\",\"GAME CASUAL\"],[\"Fruit Block - Puzzle Legend\",\"GAME CASUAL\"],[\"Island Experiment\",\"GAME CASUAL\"],[\"Bubble Shooter\",\"GAME CASUAL\"],[\"Moy 4 - Virtual Pet Game\",\"GAME CASUAL\"],[\"Moy - Virtual Pet Game\",\"GAME CASUAL\"],[\"HappyFish\",\"GAME CASUAL\"],[\"Match Masters\",\"GAME CASUAL\"],[\"Gacha Studio (Anime Dress Up)\",\"GAME CASUAL\"],[\"Cooking Dash\",\"GAME CASUAL\"],[\"LINE \\u65c5\\u904a\\u5927\\u4ea8\",\"GAME CASUAL\"],[\"Little Big City 2\",\"GAME CASUAL\"],[\"Kids Doodle - Color & Draw Free Game\",\"GAME CASUAL\"],[\"Dance Clash: Ballet vs Hip Hop\",\"GAME CASUAL\"],[\"sand:box\",\"GAME CASUAL\"],[\"Gacha Life\",\"GAME CASUAL\"],[\"Wildscapes\",\"GAME CASUAL\"],[\"Bravoloto\",\"GAME CASUAL\"],[\"Harvest Land: Farm & City Building\",\"GAME CASUAL\"],[\"The Battle Cats\",\"GAME CASUAL\"],[\"Big Farm: Mobile Harvest \\u2013 Free Farming Game\",\"GAME CASUAL\"],[\"Toca Life World: Build stories & create your world\",\"GAME EDUCATIONAL\"],[\"Toca Kitchen 2\",\"GAME EDUCATIONAL\"],[\"Cooking Mama: Let's cook!\",\"GAME EDUCATIONAL\"],[\"\\u77e5\\u8b58\\u738b\",\"GAME EDUCATIONAL\"],[\"Animal Jam\",\"GAME EDUCATIONAL\"],[\"My Town: Home Doll house - Family Playhouse\",\"GAME EDUCATIONAL\"],[\"Skillz - Logic Brain Games\",\"GAME EDUCATIONAL\"],[\"Mandala Coloring Pages\",\"GAME EDUCATIONAL\"],[\"Baby Panda's Supermarket\",\"GAME EDUCATIONAL\"],[\"Baby Panda World\",\"GAME EDUCATIONAL\"],[\"Masha and the Bear. Educational Games\",\"GAME EDUCATIONAL\"],[\"Pepi House: Happy Family\",\"GAME EDUCATIONAL\"],[\"Math Games, Learn Add, Subtract, Multiply & Divide\",\"GAME EDUCATIONAL\"],[\"Girl Games: Unicorn Cooking Games for Girls Kids\",\"GAME EDUCATIONAL\"],[\"Pepi Super Stores: Fun & Games\",\"GAME EDUCATIONAL\"],[\"LEGO\\u00ae DUPLO\\u00ae Train\",\"GAME EDUCATIONAL\"],[\"Little Panda's Restaurant\",\"GAME EDUCATIONAL\"],[\"Smolsies - My Cute Pet House\",\"GAME EDUCATIONAL\"],[\"Baby Panda Care\",\"GAME EDUCATIONAL\"],[\"\\u8d85\\u7d1a\\u55ae\\u5b57\\u738b - \\u82f1\\u6aa2\\u3001\\u591a\\u76ca\\u3001\\u6258\\u798f \\u8f15\\u9b06\\u5b78\",\"GAME EDUCATIONAL\"],[\"Baby Panda's School Bus - Let's Drive!\",\"GAME EDUCATIONAL\"],[\"Baby Panda's Fashion Dress Up Game\",\"GAME EDUCATIONAL\"],[\"Truck games for kids - build a house, car wash\",\"GAME EDUCATIONAL\"],[\"Baby Games for 2,3,4 year old toddlers\",\"GAME EDUCATIONAL\"],[\"Fluvsies - A Fluff to Luv\",\"GAME EDUCATIONAL\"],[\"My Town : Police Station. Policeman Game for Kids\",\"GAME EDUCATIONAL\"],[\"Baby Panda\\u2019s Ice Cream Shop\",\"GAME EDUCATIONAL\"],[\"Coloring & Learn\",\"GAME EDUCATIONAL\"],[\"Meow Meow Star Acres\",\"GAME EDUCATIONAL\"],[\"Supermarket: Shopping Games for Kids\",\"GAME EDUCATIONAL\"],[\"Little Panda's Chinese Recipes\",\"GAME EDUCATIONAL\"],[\"Little Panda Policeman\",\"GAME EDUCATIONAL\"],[\"\\u0645\\u0646 \\u0633\\u064a\\u0631\\u0628\\u062d \\u0627\\u0644\\u0645\\u0644\\u064a\\u0648\\u0646 \\u0627\\u0644\\u0645\\u0648\\u0633\\u0648\\u0639\\u0629\",\"GAME EDUCATIONAL\"],[\"Do Not Disturb! Get Prankster in a Hilarious Game\",\"GAME EDUCATIONAL\"],[\"My Town: Play & Discover - City Builder Game\",\"GAME EDUCATIONAL\"],[\"Make-Up Me: Superstar\",\"GAME EDUCATIONAL\"],[\"Multiplication Table Kids Math\",\"GAME EDUCATIONAL\"],[\"MentalUP - Learning Games & Brain Games\",\"GAME EDUCATIONAL\"],[\"Math Exercises for the brain, Math Riddles, Puzzle\",\"GAME EDUCATIONAL\"],[\"Princess Salon: Frozen Party\",\"GAME EDUCATIONAL\"],[\"Little Panda\\u2019s Summer: Ice Cream Bars\",\"GAME EDUCATIONAL\"],[\"Little Panda: Princess Makeup\",\"GAME EDUCATIONAL\"],[\"Reaction training\",\"GAME EDUCATIONAL\"],[\"Make-Up Me\",\"GAME EDUCATIONAL\"],[\"Bini Super ABC! Preschool Learning Games for Kids!\",\"GAME EDUCATIONAL\"],[\"LEGO\\u00ae DUPLO\\u00ae Town\",\"GAME EDUCATIONAL\"],[\"My Town : Fashion Show\",\"GAME EDUCATIONAL\"],[\"Little Panda's Farm Story\",\"GAME EDUCATIONAL\"],[\"Little Panda: Princess Dress Up\",\"GAME EDUCATIONAL\"],[\"\\u0421\\u043a\\u0430\\u0437\\u043a\\u0438 \\u0438 \\u0440\\u0430\\u0437\\u0432\\u0438\\u0432\\u0430\\u044e\\u0449\\u0438\\u0435 \\u0438\\u0433\\u0440\\u044b \\u0434\\u043b\\u044f \\u0434\\u0435\\u0442\\u0435\\u0439, \\u043c\\u0430\\u043b\\u044b\\u0448\\u0435\\u0439\",\"GAME EDUCATIONAL\"],[\"Baby Panda's Carnival - Christmas Amusement Park\",\"GAME EDUCATIONAL\"],[\"My Town : Beauty contest - Dress Up Game for Girls\",\"GAME EDUCATIONAL\"],[\"Monster Trucks Game for Kids 2\",\"GAME EDUCATIONAL\"],[\"\\u307b\\u3057\\u306e\\u5cf6\\u306e\\u306b\\u3083\\u3093\\u3053\",\"GAME EDUCATIONAL\"],[\"Urban City Stories\",\"GAME EDUCATIONAL\"],[\"Jungle Animal Hair Salon - Styling Game for Kids\",\"GAME EDUCATIONAL\"],[\"Tailor Kids\",\"GAME EDUCATIONAL\"],[\"Snow Cone Maker - Frozen Foods\",\"GAME EDUCATIONAL\"],[\"Baby Phone for Kids - Learning Numbers and Animals\",\"GAME EDUCATIONAL\"],[\"Memory Games: Brain Training\",\"GAME EDUCATIONAL\"],[\"My Town : Best Friends' House games for kids\",\"GAME EDUCATIONAL\"],[\"Moonzy. Kids Mini-Games\",\"GAME EDUCATIONAL\"],[\"Little Panda's Candy Shop\",\"GAME EDUCATIONAL\"],[\"Kids Animals Jigsaw Puzzles \\u2764\\ufe0f\\ud83e\\udd84\",\"GAME EDUCATIONAL\"],[\"Kids Educational Game 5\",\"GAME EDUCATIONAL\"],[\"Baby Panda's Town: Life\",\"GAME EDUCATIONAL\"],[\"Baby care\",\"GAME EDUCATIONAL\"],[\"Bini Drawing for Kids! Learning Games for Toddlers\",\"GAME EDUCATIONAL\"],[\"Girls Hair Salon - Hairstyle makeover kids games\",\"GAME EDUCATIONAL\"],[\"Princess Coloring Book Glitter & Girls Dress Up\",\"GAME EDUCATIONAL\"],[\"Bubbu School - My Cute Pets | Animal School Game\",\"GAME EDUCATIONAL\"],[\"Bucha h\\u1ecdc ti\\u1ebfng Anh - T\\u1eeb v\\u1ef1ng, Giao ti\\u1ebfp, Ng\\u1eef ph\\u00e1p\",\"GAME EDUCATIONAL\"],[\"Math Games\",\"GAME EDUCATIONAL\"],[\"Trip to the zoo for kids\",\"GAME EDUCATIONAL\"],[\"Ice Queen's Beauty SPA Salon\",\"GAME EDUCATIONAL\"],[\"Cinderella - Story Games and Puzzles\",\"GAME EDUCATIONAL\"],[\"Princess Coloring Game\",\"GAME EDUCATIONAL\"],[\"Baby Panda\\u2019s Summer: Caf\\u00e9\",\"GAME EDUCATIONAL\"],[\"Sweet Baby Girl Cleanup 5 - Messy House Makeover\",\"GAME EDUCATIONAL\"],[\"My Town : Grandparents Play home Fun Life Game\",\"GAME EDUCATIONAL\"],[\"Baby Panda\\u2019s Color Mixing Studio\",\"GAME EDUCATIONAL\"],[\"Colors for Kids, Toddlers, Babies - Learning Game\",\"GAME EDUCATIONAL\"],[\"My Baby Panda Chef\",\"GAME EDUCATIONAL\"],[\"Halloween Makeup Me\",\"GAME EDUCATIONAL\"],[\"\\u0410\\u043d\\u0433\\u043b\\u0438\\u0439\\u0441\\u043a\\u0438\\u0439 \\u0434\\u043b\\u044f \\u041d\\u0430\\u0447\\u0438\\u043d\\u0430\\u044e\\u0449\\u0438\\u0445: LinDuo HD\",\"GAME EDUCATIONAL\"],[\"Central Hospital Stories\",\"GAME EDUCATIONAL\"],[\"My Little Princess Castle - Playhouse & Girls Game\",\"GAME EDUCATIONAL\"],[\"Airport Professions: Fascinating games\",\"GAME EDUCATIONAL\"],[\"Masha and the Bear: Good Night!\",\"GAME EDUCATIONAL\"],[\"Little Panda\\u2019s Space Kitchen - Kids Cooking\",\"GAME EDUCATIONAL\"],[\"Funny Food! Educational games for kids 3 years old\",\"GAME EDUCATIONAL\"],[\"Baby Panda's Town: My Dream\",\"GAME EDUCATIONAL\"],[\"My Town : Bakery - Cooking & Baking Game for Kids\",\"GAME EDUCATIONAL\"],[\"Sweet Baby Girl Summer Fun 2 - Sunny Makeover Game\",\"GAME EDUCATIONAL\"],[\"My Town: After School Neighborhood Street\",\"GAME EDUCATIONAL\"],[\"Animals Farm For Kids\",\"GAME EDUCATIONAL\"],[\"My Baby Unicorn - Virtual Pony Pet Care & Dress Up\",\"GAME EDUCATIONAL\"],[\"Fairy Tales ~ Children\\u2019s Books, Stories and Games\",\"GAME EDUCATIONAL\"],[\"Vacation Hotel Stories\",\"GAME EDUCATIONAL\"],[\"Kpopsies - Hatch Your Unicorn Idol\",\"GAME EDUCATIONAL\"],[\"Tiles Hop: EDM Rush!\",\"GAME MUSIC\"],[\"Magic Tiles 3\",\"GAME MUSIC\"],[\"My Singing Monsters\",\"GAME MUSIC\"],[\"Piano Free - Keyboard with Magic Tiles Music Games\",\"GAME MUSIC\"],[\"Dancing Road: Color Ball Run!\",\"GAME MUSIC\"],[\"Dream Piano - Music Game\",\"GAME MUSIC\"],[\"Rock Hero\",\"GAME MUSIC\"],[\"Real Guitar Free - Chords, Tabs & Simulator Games\",\"GAME MUSIC\"],[\"Cytus\",\"GAME MUSIC\"],[\"DEEMO\",\"GAME MUSIC\"],[\"Piano Kids - Music & Songs\",\"GAME MUSIC\"],[\"SongPop\",\"GAME MUSIC\"],[\"Piano Music Go 2020: EDM Piano Games\",\"GAME MUSIC\"],[\"Music Hero - Rhythm Beat Tap\",\"GAME MUSIC\"],[\"Real Piano Teacher\",\"GAME MUSIC\"],[\"Beat Fire - EDM Music & Gun Sounds\",\"GAME MUSIC\"],[\"Sonic Cat - Slash the Beats\",\"GAME MUSIC\"],[\"Drum Set Music Games & Drums Kit Simulator\",\"GAME MUSIC\"],[\"Dancing Ballz: Magic Dance Line Tiles Game\",\"GAME MUSIC\"],[\"BEAT MP3 - Rhythm Game\",\"GAME MUSIC\"],[\"Guitar Band Battle\",\"GAME MUSIC\"],[\"AVATAR MUSIK - Music and Dance Game\",\"GAME MUSIC\"],[\"Music Racer\",\"GAME MUSIC\"],[\"BEAT MP3 2.0 - Rhythm Game\",\"GAME MUSIC\"],[\"SuperStar SMTOWN\",\"GAME MUSIC\"],[\"Dot n Beat - Magic Music Game\",\"GAME MUSIC\"],[\"Smash Colors 3D - Free Beat Color Rhythm Ball Game\",\"GAME MUSIC\"],[\"Love Live! School idol festival- Music Rhythm Game\",\"GAME MUSIC\"],[\"Piano Games - Free Music Piano Challenge 2020\",\"GAME MUSIC\"],[\"Hop Ball 3D: Dancing Ball on the Music Tiles\",\"GAME MUSIC\"],[\"Beat Craft\",\"GAME MUSIC\"],[\"Rhythm Hive : Play with BTS, TXT, ENHYPEN!\",\"GAME MUSIC\"],[\"Give It Up! - Beat Jumper & Music Rhythm Tap\",\"GAME MUSIC\"],[\"One More Line\",\"GAME MUSIC\"],[\"Tap Tap Music-Pop Songs\",\"GAME MUSIC\"],[\"SongPop 2 - Guess The Song\",\"GAME MUSIC\"],[\"My Singing Monsters: Dawn of Fire\",\"GAME MUSIC\"],[\"Just Dance Now\",\"GAME MUSIC\"],[\"\\u30d0\\u30f3\\u30c9\\u30ea\\uff01 \\u30ac\\u30fc\\u30eb\\u30ba\\u30d0\\u30f3\\u30c9\\u30d1\\u30fc\\u30c6\\u30a3\\uff01\",\"GAME MUSIC\"],[\"Piano Magic Tiles Hot song - Free Piano Game\",\"GAME MUSIC\"],[\"Helix Crush\",\"GAME MUSIC\"],[\"Piano Game Classic - Challenge Music Song\",\"GAME MUSIC\"],[\"Piano Solo - Magic Dream tiles game 4\",\"GAME MUSIC\"],[\"Cytus II\",\"GAME MUSIC\"],[\"Just Dance Controller\",\"GAME MUSIC\"],[\"VOEZ\",\"GAME MUSIC\"],[\"\\u30e9\\u30d6\\u30e9\\u30a4\\u30d6\\uff01\\u30b9\\u30af\\u30fc\\u30eb\\u30a2\\u30a4\\u30c9\\u30eb\\u30d5\\u30a7\\u30b9\\u30c6\\u30a3\\u30d0\\u30eb\\uff08\\u30b9\\u30af\\u30d5\\u30a7\\u30b9\\uff09 - \\u5927\\u4eba\\u6c17\\u30ea\\u30ba\\u30e0\\u30b2\\u30fc\\u30e0\",\"GAME MUSIC\"],[\"Au Mobile VTC \\u2013 Game nh\\u1ea3y Audition\",\"GAME MUSIC\"],[\"BanG Dream! Girls Band Party!\",\"GAME MUSIC\"],[\"UniPad\",\"GAME MUSIC\"],[\"Drum set\",\"GAME MUSIC\"],[\"Piano Magic Tiles Pop Music 2\",\"GAME MUSIC\"],[\"Piano - Play & Learn Music\",\"GAME MUSIC\"],[\"Piano Fire - EDM Music & New Rhythm\",\"GAME MUSIC\"],[\"Piano Master 2\",\"GAME MUSIC\"],[\"Piano Games Mini: Music Instrument & Rhythm\",\"GAME MUSIC\"],[\"LIT killah: The Game\",\"GAME MUSIC\"],[\"Rock vs Guitar Legends 2017 HD\",\"GAME MUSIC\"],[\"Love Live! School idol festival - \\u97f3\\u6a02\\u7bc0\\u594f\\u904a\\u6232\",\"GAME MUSIC\"],[\"Beat Bop: Pop Star Clicker\",\"GAME MUSIC\"],[\"Don't Forget the Lyrics\",\"GAME MUSIC\"],[\"6ix9ine Runner\",\"GAME MUSIC\"],[\"Beat Roller - Music Ball Race\",\"GAME MUSIC\"],[\"\\u30a2\\u30a4\\u30c9\\u30eb\\u30de\\u30b9\\u30bf\\u30fc \\u30b7\\u30f3\\u30c7\\u30ec\\u30e9\\u30ac\\u30fc\\u30eb\\u30ba \\u30b9\\u30bf\\u30fc\\u30e9\\u30a4\\u30c8\\u30b9\\u30c6\\u30fc\\u30b8\",\"GAME MUSIC\"],[\"Marshmello Music Dance\",\"GAME MUSIC\"],[\"Drum kit (Drums) free\",\"GAME MUSIC\"],[\"Tebak Lagu Indonesia\",\"GAME MUSIC\"],[\"Lost in Harmony\",\"GAME MUSIC\"],[\"Real Piano Teacher 2\",\"GAME MUSIC\"],[\"SHOW BY ROCK!![\\u723d\\u5feb\\u97f3\\u30b2\\u30fc \\u30b7\\u30e7\\u30a6\\u30d0\\u30a4\\u30ed\\u30c3\\u30af\\uff3d\",\"GAME MUSIC\"],[\"Beat Racer\",\"GAME MUSIC\"],[\"AyoDance Mobile\",\"GAME MUSIC\"],[\"Beat Jumper: EDM up!\",\"GAME MUSIC\"],[\"Popscene (Music Industry Sim)\",\"GAME MUSIC\"],[\"Rock Hero 2\",\"GAME MUSIC\"],[\"PianoTiles 3\",\"GAME MUSIC\"],[\"SuperStar YG\",\"GAME MUSIC\"],[\"Opsu!(Beatmap player for Android)\",\"GAME MUSIC\"],[\"Dynamix\",\"GAME MUSIC\"],[\"\\u30a2\\u30a4\\u30c9\\u30ea\\u30c3\\u30b7\\u30e5\\u30bb\\u30d6\\u30f3\",\"GAME MUSIC\"],[\"Beat Blade: Dash Dance\",\"GAME MUSIC\"],[\"Color Hop 3D - Music Game\",\"GAME MUSIC\"],[\"Au 2 - Chu\\u1ea9n Audition Mobile\",\"GAME MUSIC\"],[\"Mini Piano\",\"GAME MUSIC\"],[\"YASUHATI / With your voice!\",\"GAME MUSIC\"],[\"Beat Shooter\",\"GAME MUSIC\"],[\"Anime Tiles: Piano Music\",\"GAME MUSIC\"],[\"Happy Piano - Touch Music\",\"GAME MUSIC\"],[\"Project: Muse\",\"GAME MUSIC\"],[\"Beat Shooter - Gunshots Rhythm Game\",\"GAME MUSIC\"],[\"Pink Piano\",\"GAME MUSIC\"],[\"\\u30d7\\u30ed\\u30b8\\u30a7\\u30af\\u30c8\\u30bb\\u30ab\\u30a4 \\u30ab\\u30e9\\u30d5\\u30eb\\u30b9\\u30c6\\u30fc\\u30b8\\uff01 feat. \\u521d\\u97f3\\u30df\\u30af\",\"GAME MUSIC\"],[\"Piano Music Tiles 2 - Free Music Games\",\"GAME MUSIC\"],[\"Harmonium\",\"GAME MUSIC\"],[\"TAPSONIC TOP - Music Grand prix\",\"GAME MUSIC\"],[\"Magic Tiles Vocal & Piano Top Songs New Games\",\"GAME MUSIC\"],[\"Piano Detector\",\"GAME MUSIC\"],[\"Muse Dash\",\"GAME MUSIC\"],[\"Lanota - Dynamic & Challenging Music Game\",\"GAME MUSIC\"],[\"Berpacu Dalam Melody Indonesia\",\"GAME MUSIC\"],[\"Fishdom\",\"GAME PUZZLE\"],[\"Brain Out \\u2013 Can you pass it?\",\"GAME PUZZLE\"],[\"Toon Blast\",\"GAME PUZZLE\"],[\"Toy Blast\",\"GAME PUZZLE\"],[\"Bubble Witch 3 Saga\",\"GAME PUZZLE\"],[\"Cut the Rope 2\",\"GAME PUZZLE\"],[\"Where's My Water? 2\",\"GAME PUZZLE\"],[\"Empires & Puzzles: Epic Match 3\",\"GAME PUZZLE\"],[\"Pixel Art: Color by Number\",\"GAME PUZZLE\"],[\"Matchington Mansion\",\"GAME PUZZLE\"],[\"Disney Frozen Free Fall - Play Frozen Puzzle Games\",\"GAME PUZZLE\"],[\"Sudoku.com - Free Sudoku\",\"GAME PUZZLE\"],[\"\\u0636\\u0631\\u0628\\u0629 \\u0645\\u0639\\u0644\\u0645 - \\u0644\\u0639\\u0628\\u0629 \\u0627\\u0644\\u063a\\u0627\\u0632 \\u0645\\u0633\\u0644\\u064a\\u0629\",\"GAME PUZZLE\"],[\"Candy Crush Jelly Saga\",\"GAME PUZZLE\"],[\"Roll the Ball\\u00ae - slide puzzle\",\"GAME PUZZLE\"],[\"Block Puzzle Jewel\",\"GAME PUZZLE\"],[\"Flow Free\",\"GAME PUZZLE\"],[\"2048 Number puzzle game\",\"GAME PUZZLE\"],[\"Escape Titanic\",\"GAME PUZZLE\"],[\"Bad Piggies\",\"GAME PUZZLE\"],[\"Manor Cafe\",\"GAME PUZZLE\"],[\"LINE\\uff1a\\u30c7\\u30a3\\u30ba\\u30cb\\u30fc \\u30c4\\u30e0\\u30c4\\u30e0\",\"GAME PUZZLE\"],[\"Bubble Shooter: Panda Pop!\",\"GAME PUZZLE\"],[\"Merge Dragons!\",\"GAME PUZZLE\"],[\"Cut the Rope: Time Travel\",\"GAME PUZZLE\"],[\"Cookie Jam\\u2122 Match 3 Games | Connect 3 or More\",\"GAME PUZZLE\"],[\"Lily\\u2019s Garden\",\"GAME PUZZLE\"],[\"Jigsaw Puzzles - Puzzle Games\",\"GAME PUZZLE\"],[\"Indy Cat for VK\",\"GAME PUZZLE\"],[\"\\uc560\\ub2c8\\ud3212\",\"GAME PUZZLE\"],[\"Can You Escape\",\"GAME PUZZLE\"],[\"Happy Glass\",\"GAME PUZZLE\"],[\"Two Dots\",\"GAME PUZZLE\"],[\"Tower of Saviors\",\"GAME PUZZLE\"],[\"Shoot Bubble Deluxe\",\"GAME PUZZLE\"],[\"Pirate Treasures - Gems Puzzle\",\"GAME PUZZLE\"],[\"Doodle Alchemy\",\"GAME PUZZLE\"],[\"Escape game : 50 rooms 1\",\"GAME PUZZLE\"],[\"Infinity Loop \\u00ae\",\"GAME PUZZLE\"],[\"Jigty Jigsaw Puzzles\",\"GAME PUZZLE\"],[\"Unblock Me FREE\",\"GAME PUZZLE\"],[\"Sudoku - Free Classic Sudoku Puzzles\",\"GAME PUZZLE\"],[\"Bubble Blast 2\",\"GAME PUZZLE\"],[\"Unblock Ball - Block Puzzle\",\"GAME PUZZLE\"],[\"Mouse\",\"GAME PUZZLE\"],[\"Inside Out Thought Bubbles\",\"GAME PUZZLE\"],[\"MonsterBusters: Match 3 Puzzle\",\"GAME PUZZLE\"],[\"Love Balls\",\"GAME PUZZLE\"],[\"Mr Bullet - Spy Puzzles\",\"GAME PUZZLE\"],[\"LINE Bubble 2\",\"GAME PUZZLE\"],[\"Mazes & More\",\"GAME PUZZLE\"],[\"Matches Puzzle Game\",\"GAME PUZZLE\"],[\"\\u30d1\\u30ba\\u30eb\\uff06\\u30c9\\u30e9\\u30b4\\u30f3\\u30ba(Puzzle & Dragons)\",\"GAME PUZZLE\"],[\"Sudoku\",\"GAME PUZZLE\"],[\"Marble Legend\",\"GAME PUZZLE\"],[\"Hello Stars\",\"GAME PUZZLE\"],[\"Wood Block Puzzle\",\"GAME PUZZLE\"],[\"Harry Potter: Puzzles & Spells - Match-3 Magic\",\"GAME PUZZLE\"],[\"LINE: Disney Tsum Tsum\",\"GAME PUZZLE\"],[\"Easy Game - Brain Test and Tricky Mind Puzzles\",\"GAME PUZZLE\"],[\"Block! Hexa Puzzle\\u2122\",\"GAME PUZZLE\"],[\"Sweet Fruit Candy\",\"GAME PUZZLE\"],[\"Cut the Rope: Experiments\",\"GAME PUZZLE\"],[\"House Paint\",\"GAME PUZZLE\"],[\"Escape the Mansion\",\"GAME PUZZLE\"],[\"Block Puzzle - Free Classic Wood Block Puzzle Game\",\"GAME PUZZLE\"],[\"Dig This!\",\"GAME PUZZLE\"],[\"Brain Wars\",\"GAME PUZZLE\"],[\"Nonogram.com - Picture cross number puzzle\",\"GAME PUZZLE\"],[\"Gummy Drop! Match to restore and build cities\",\"GAME PUZZLE\"],[\"Charm King\",\"GAME PUZZLE\"],[\"Gemmy Lands: New Match 3 Games 2021 to Crush Gems\",\"GAME PUZZLE\"],[\"Energy: Anti Stress Loops\",\"GAME PUZZLE\"],[\"Brain It On! - Physics Puzzles\",\"GAME PUZZLE\"],[\"Find The Differences - The Detective\",\"GAME PUZZLE\"],[\"Disney Emoji Blitz\",\"GAME PUZZLE\"],[\"Troll Face Quest: Video Memes - Brain Game\",\"GAME PUZZLE\"],[\"Slugterra: Slug it Out 2\",\"GAME PUZZLE\"],[\"Cut the Rope: Magic\",\"GAME PUZZLE\"],[\"1010! Block Puzzle Game\",\"GAME PUZZLE\"],[\"That Level Again\",\"GAME PUZZLE\"],[\"Train Taxi\",\"GAME PUZZLE\"],[\"Sudoku\",\"GAME PUZZLE\"],[\"ASolver - show me the puzzle, and I will solve it\",\"GAME PUZZLE\"],[\"Crazy Kitchen: Match 3 Puzzles\",\"GAME PUZZLE\"],[\"Tebak Gambar\",\"GAME PUZZLE\"],[\"Build a Bridge!\",\"GAME PUZZLE\"],[\"PixWords\\u2122\",\"GAME PUZZLE\"],[\"Match 3D - Matching Puzzle Game\",\"GAME PUZZLE\"],[\"How to Loot - Pin Pull & Hero Rescue\",\"GAME PUZZLE\"],[\"LINE PokoPoko - Play with POKOTA! Free puzzler!\",\"GAME PUZZLE\"],[\"Blockudoku\\u00ae - Block Puzzle Game\",\"GAME PUZZLE\"],[\"Rescue Cut - Rope Puzzle\",\"GAME PUZZLE\"],[\"DOP 2: Delete One Part\",\"GAME PUZZLE\"],[\"Block Puzzle & Conquer\",\"GAME PUZZLE\"],[\"Antistress - relaxation toys\",\"GAME PUZZLE\"],[\"Cut the Rope FULL FREE\",\"GAME PUZZLE\"],[\"Color Fill 3D\",\"GAME PUZZLE\"],[\"\\ub514\\uc988\\ub2c8 \\ud2c0\\ub9b0\\uadf8\\ub9bc\\ucc3e\\uae30\",\"GAME PUZZLE\"],[\"Who Is The Killer? Episode I\",\"GAME PUZZLE\"],[\"Hill Climb Racing\",\"GAME RACING\"],[\"Traffic Rider\",\"GAME RACING\"],[\"Traffic Racer\",\"GAME RACING\"],[\"Dr. Driving\",\"GAME RACING\"],[\"Need for Speed\\u2122 No Limits\",\"GAME RACING\"],[\"CSR Racing 2 \\u2013 Free Car Racing Game\",\"GAME RACING\"],[\"Angry Birds Go!\",\"GAME RACING\"],[\"Extreme Car Driving Simulator\",\"GAME RACING\"],[\"Bike Race Free - Top Motorcycle Racing Games\",\"GAME RACING\"],[\"CSR Racing\",\"GAME RACING\"],[\"Fun Race 3D\",\"GAME RACING\"],[\"Beach Buggy Racing\",\"GAME RACING\"],[\"Asphalt 9: Legends\",\"GAME RACING\"],[\"Fast Racing 3D\",\"GAME RACING\"],[\"Earn to Die 2\",\"GAME RACING\"],[\"Asphalt Nitro\",\"GAME RACING\"],[\"City Racing 3D\",\"GAME RACING\"],[\"Nitro Nation Drag & Drift Car Racing\",\"GAME RACING\"],[\"Racing Fever\",\"GAME RACING\"],[\"Drive Ahead!\",\"GAME RACING\"],[\"Street Racing 3D\",\"GAME RACING\"],[\"Drift Max Pro - Car Drifting Game with Racing Cars\",\"GAME RACING\"],[\"Driving School 2016\",\"GAME RACING\"],[\"Racing in Car\",\"GAME RACING\"],[\"Drift \\u0647\\u062c\\u0648\\u0644\\u0629\",\"GAME RACING\"],[\"Trials Frontier\",\"GAME RACING\"],[\"Bike Racing 3D\",\"GAME RACING\"],[\"CarX Drift Racing\",\"GAME RACING\"],[\"Asphalt 8 Racing Game - Drive, Drift at Real Speed\",\"GAME RACING\"],[\"CSR Classics\",\"GAME RACING\"],[\"BMX Boy\",\"GAME RACING\"],[\"Racing Moto\",\"GAME RACING\"],[\"Real Bike Racing\",\"GAME RACING\"],[\"Turbo Stars - Rival Racing\",\"GAME RACING\"],[\"Top Speed: Drag & Fast Racing\",\"GAME RACING\"],[\"CarX Highway Racing\",\"GAME RACING\"],[\"Trial Xtreme 4: Extreme Bike Racing Champions\",\"GAME RACING\"],[\"Dr. Parking 4\",\"GAME RACING\"],[\"Racing in Car 2\",\"GAME RACING\"],[\"Drag Racing\",\"GAME RACING\"],[\"Moto Rider GO: Highway Traffic\",\"GAME RACING\"],[\"Uphill Rush Water Park Racing\",\"GAME RACING\"],[\"Asphalt Xtreme: Rally Racing\",\"GAME RACING\"],[\"Turbo Driving Racing 3D\",\"GAME RACING\"],[\"Driving School 2017\",\"GAME RACING\"],[\"City Racing Lite\",\"GAME RACING\"],[\"MotoGP Racing '20\",\"GAME RACING\"],[\"Earn to Die Lite\",\"GAME RACING\"],[\"Garena Speed Drifters\",\"GAME RACING\"],[\"Rally Racer Dirt\",\"GAME RACING\"],[\"F1 Clash\",\"GAME RACING\"],[\"Rally Fury - Extreme Racing\",\"GAME RACING\"],[\"Racing Fever: Moto\",\"GAME RACING\"],[\"Real Drift Car Racing Lite\",\"GAME RACING\"],[\"MadOut2 BigCityOnline\",\"GAME RACING\"],[\"Ultimate Car Driving Simulator\",\"GAME RACING\"],[\"Crazy for Speed\",\"GAME RACING\"],[\"Mad Skills Motocross 2\",\"GAME RACING\"],[\"Real City Car Driver\",\"GAME RACING\"],[\"Highway Rider Motorcycle Racer\",\"GAME RACING\"],[\"Blocky Roads\",\"GAME RACING\"],[\"Road Riot\",\"GAME RACING\"],[\"Crash of Cars\",\"GAME RACING\"],[\"Beach Buggy Racing 2\",\"GAME RACING\"],[\"Real Racing 3\",\"GAME RACING\"],[\"SUP Multiplayer Racing\",\"GAME RACING\"],[\"KartRider Rush+\",\"GAME RACING\"],[\"Hill Climb Racing 2\",\"GAME RACING\"],[\"Boomerang Make and Race - Scooby-Doo Racing Game\",\"GAME RACING\"],[\"Moto X3M Bike Race Game\",\"GAME RACING\"],[\"Offroad Legends - Monster Truck Trials\",\"GAME RACING\"],[\"Traffic Tour\",\"GAME RACING\"],[\"Dubai Drift 2\",\"GAME RACING\"],[\"Moto Wheelie\",\"GAME RACING\"],[\"Mountain Climb 4x4 : Offroad Car Drive\",\"GAME RACING\"],[\"CarX Drift Racing 2\",\"GAME RACING\"],[\"Zombie Squad\",\"GAME RACING\"],[\"Crazy for Speed 2\",\"GAME RACING\"],[\"Moto Racer 3D\",\"GAME RACING\"],[\"Toy Truck Rally 3D\",\"GAME RACING\"],[\"Truck Driver Cargo\",\"GAME RACING\"],[\"Demolition Derby 3\",\"GAME RACING\"],[\"Top Drives \\u2013 Car Cards Racing\",\"GAME RACING\"],[\"Racing Limits\",\"GAME RACING\"],[\"\\ud83d\\ude93\\ud83d\\udea6Car Driving School Simulator \\ud83d\\ude95\\ud83d\\udeb8\",\"GAME RACING\"],[\"Race the Traffic\",\"GAME RACING\"],[\"Redline Rush: Police Chase Racing\",\"GAME RACING\"],[\"GT Racing 2: The Real Car Exp\",\"GAME RACING\"],[\"Monster Truck Destruction\\u2122\",\"GAME RACING\"],[\"Real Racing 3\",\"GAME RACING\"],[\"MMX Hill Dash\",\"GAME RACING\"],[\"Stickman Downhill Motocross\",\"GAME RACING\"],[\"MOTO LOKO HD\",\"GAME RACING\"],[\"Offroad Legends 2\",\"GAME RACING\"],[\"DATA WING\",\"GAME RACING\"],[\"Race the Traffic Moto\",\"GAME RACING\"],[\"Epic Race 3D\",\"GAME RACING\"],[\"Drift Max\",\"GAME RACING\"],[\"City Driving 3D\",\"GAME RACING\"],[\"Torque Burnout\",\"GAME RACING\"],[\"Shadow Fight 3 - RPG fighting game\",\"GAME ROLE PLAYING\"],[\"AFK Arena\",\"GAME ROLE PLAYING\"],[\"Avakin Life - 3D Virtual World\",\"GAME ROLE PLAYING\"],[\"Flight Pilot Simulator 3D Free\",\"GAME ROLE PLAYING\"],[\"Angry Birds Epic RPG\",\"GAME ROLE PLAYING\"],[\"Eternium\",\"GAME ROLE PLAYING\"],[\"Star Wars\\u2122: Galaxy of Heroes\",\"GAME ROLE PLAYING\"],[\"\\ubaac\\uc2a4\\ud130 \\uae38\\ub4e4\\uc774\\uae30\",\"GAME ROLE PLAYING\"],[\"Darkness Rises\",\"GAME ROLE PLAYING\"],[\"Hustle Castle: Medieval games in the kingdom\",\"GAME ROLE PLAYING\"],[\"RAID: Shadow Legends\",\"GAME ROLE PLAYING\"],[\"Tap Titans\",\"GAME ROLE PLAYING\"],[\"Hero Wars \\u2013 Hero Fantasy Multiplayer Battles\",\"GAME ROLE PLAYING\"],[\"MovieStarPlanet\",\"GAME ROLE PLAYING\"],[\"Magic Rush: Heroes\",\"GAME ROLE PLAYING\"],[\"\\uc138\\ube10\\ub098\\uc774\\uce20\",\"GAME ROLE PLAYING\"],[\"Idle Heroes\",\"GAME ROLE PLAYING\"],[\"RPG Toram Online - MMORPG\",\"GAME ROLE PLAYING\"],[\"Shakes and Fidget\",\"GAME ROLE PLAYING\"],[\"Tap Titans 2: Heroes Attack Titans. Clicker on!\",\"GAME ROLE PLAYING\"],[\"Kritika: The White Knights\",\"GAME ROLE PLAYING\"],[\"FINAL FANTASY BRAVE EXVIUS\",\"GAME ROLE PLAYING\"],[\"Dungeon Hunter 5 \\u2013 Action RPG\",\"GAME ROLE PLAYING\"],[\"The Wolf\",\"GAME ROLE PLAYING\"],[\"Brave Frontier\",\"GAME ROLE PLAYING\"],[\"Identity V\",\"GAME ROLE PLAYING\"],[\"ONE PIECE TREASURE CRUISE\",\"GAME ROLE PLAYING\"],[\"Super Stylist - Makeover & Style Fashion Guru\",\"GAME ROLE PLAYING\"],[\"School of Dragons\",\"GAME ROLE PLAYING\"],[\"Mobile Legends: Adventure\",\"GAME ROLE PLAYING\"],[\"International Fashion Stylist - Dress Up Games\",\"GAME ROLE PLAYING\"],[\"Battle Camp - Monster Catching\",\"GAME ROLE PLAYING\"],[\"My Candy Love - Episode / Otome game\",\"GAME ROLE PLAYING\"],[\"Day R Survival \\u2013 Apocalypse, Lone Survivor and RPG\",\"GAME ROLE PLAYING\"],[\"Don't get fired!\",\"GAME ROLE PLAYING\"],[\"LifeAfter\",\"GAME ROLE PLAYING\"],[\"Inotia 4\",\"GAME ROLE PLAYING\"],[\"Dragon Village\",\"GAME ROLE PLAYING\"],[\"MARVEL Strike Force - Squad RPG\",\"GAME ROLE PLAYING\"],[\"Game of Sultans\",\"GAME ROLE PLAYING\"],[\"Sky: Children of the Light\",\"GAME ROLE PLAYING\"],[\"Age of Warring Empire\",\"GAME ROLE PLAYING\"],[\"\\ub808\\uc774\\ube10 : LEGION\",\"GAME ROLE PLAYING\"],[\"Crusaders Quest\",\"GAME ROLE PLAYING\"],[\"Galaxy Legend - Cosmic Conquest Sci-Fi Game\",\"GAME ROLE PLAYING\"],[\"My Bakery Empire - Bake, Decorate & Serve Cakes\",\"GAME ROLE PLAYING\"],[\"Heroes Charge\",\"GAME ROLE PLAYING\"],[\"Operate Now: Hospital - Surgery Simulator Game\",\"GAME ROLE PLAYING\"],[\"School of Chaos Online MMORPG\",\"GAME ROLE PLAYING\"],[\"Ninja Turtles: Legends\",\"GAME ROLE PLAYING\"],[\"Grim Soul: Dark Fantasy Survival\",\"GAME ROLE PLAYING\"],[\"The Seven Deadly Sins: Grand Cross\",\"GAME ROLE PLAYING\"],[\"Order & Chaos Online 3D MMORPG\",\"GAME ROLE PLAYING\"],[\"Angry Birds Evolution 2021\",\"GAME ROLE PLAYING\"],[\"King's Throne: Game of Conquest\",\"GAME ROLE PLAYING\"],[\"AVABEL ONLINE [Action MMORPG]\",\"GAME ROLE PLAYING\"],[\"Seven Knights\",\"GAME ROLE PLAYING\"],[\"Shadow Fight Arena \\u2014 PvP Fighting game\",\"GAME ROLE PLAYING\"],[\"ONE PIECE \\u30c8\\u30ec\\u30b8\\u30e3\\u30fc\\u30af\\u30eb\\u30fc\\u30ba\",\"GAME ROLE PLAYING\"],[\"Monster High\\u2122 Beauty Shop: Fangtastic Fashion Game\",\"GAME ROLE PLAYING\"],[\"Magic Rampage\",\"GAME ROLE PLAYING\"],[\"Summoners War\",\"GAME ROLE PLAYING\"],[\"Vampire's Fall: Origins RPG\",\"GAME ROLE PLAYING\"],[\"Monster Super League\",\"GAME ROLE PLAYING\"],[\"Arcane Legends MMO-Action RPG\",\"GAME ROLE PLAYING\"],[\"Age of Magic: Turn-Based Magic RPG & Strategy Game\",\"GAME ROLE PLAYING\"],[\"Pok\\u00e9mon Masters EX\",\"GAME ROLE PLAYING\"],[\"BLOCK STORY\",\"GAME ROLE PLAYING\"],[\"Questland: Turn Based RPG\",\"GAME ROLE PLAYING\"],[\"Pocket Troops: Strategy RPG\",\"GAME ROLE PLAYING\"],[\"ZENONIA\\u00ae 5\",\"GAME ROLE PLAYING\"],[\"WWE Champions 2021\",\"GAME ROLE PLAYING\"],[\"Heroes of Camelot\",\"GAME ROLE PLAYING\"],[\"Assassin's Creed Rebellion: Adventure RPG\",\"GAME ROLE PLAYING\"],[\"Black Desert Mobile\",\"GAME ROLE PLAYING\"],[\"Guardian Hunter: SuperBrawlRPG [Online]\",\"GAME ROLE PLAYING\"],[\"Guardian Tales\",\"GAME ROLE PLAYING\"],[\"Postknight\",\"GAME ROLE PLAYING\"],[\"Fashion Empire - Dressup Boutique Sim\",\"GAME ROLE PLAYING\"],[\"\\u0645\\u0644\\u0643\\u0629 \\u0627\\u0644\\u0645\\u0648\\u0636\\u0629 | \\u0644\\u0639\\u0628\\u0629 \\u0642\\u0635\\u0635 \\u0648 \\u062a\\u0645\\u062b\\u064a\\u0644\",\"GAME ROLE PLAYING\"],[\"Time Princess\",\"GAME ROLE PLAYING\"],[\"MARVEL Puzzle Quest: Join the Super Hero Battle!\",\"GAME ROLE PLAYING\"],[\"Ragnarok M: Eternal Love\",\"GAME ROLE PLAYING\"],[\"Cat Runner: Decorate Home\",\"GAME ROLE PLAYING\"],[\"Cookie Run: Kingdom - Kingdom Builder & Battle RPG\",\"GAME ROLE PLAYING\"],[\"Wolvesville - Werewolf Online\",\"GAME ROLE PLAYING\"],[\"Ice Skating Ballerina - Dance Challenge Arena\",\"GAME ROLE PLAYING\"],[\"Hotel Hideaway: Virtual World\",\"GAME ROLE PLAYING\"],[\"Guild of Heroes: Magic RPG | Wizard game\",\"GAME ROLE PLAYING\"],[\"Era of Celestials\",\"GAME ROLE PLAYING\"],[\"Decisions\\uff0dInteractive Role Playing Love Story Game\",\"GAME ROLE PLAYING\"],[\"Evertale\",\"GAME ROLE PLAYING\"],[\"Nonstop Knight - Offline Idle RPG Clicker\",\"GAME ROLE PLAYING\"],[\"\\ub9ac\\ub2c8\\uc9c02 \\ub808\\ubcfc\\ub8e8\\uc158\",\"GAME ROLE PLAYING\"],[\"FINAL FANTASY Record Keeper\",\"GAME ROLE PLAYING\"],[\"\\u5263\\u3068\\u9b54\\u6cd5\\u306e\\u30ed\\u30b0\\u30ec\\u30b9 \\u3044\\u306b\\u3057\\u3048\\u306e\\u5973\\u795e-\\u672c\\u683cMMO\\u30fbRPG\",\"GAME ROLE PLAYING\"],[\"Game of Thrones: Conquest \\u2122 - Strategy Game\",\"GAME ROLE PLAYING\"],[\"Lineage2 Revolution\",\"GAME ROLE PLAYING\"],[\"\\uc6d0\\ud53c\\uc2a4 \\ud2b8\\ub808\\uc800 \\ud06c\\ub8e8\\uc988\",\"GAME ROLE PLAYING\"],[\"Roller Skating Girls - Dance on Wheels\",\"GAME ROLE PLAYING\"],[\"The Sims FreePlay\",\"GAME SIMULATION\"],[\"SimCity BuildIt\",\"GAME SIMULATION\"],[\"Episode - Choose Your Story\",\"GAME SIMULATION\"],[\"Plague Inc.\",\"GAME SIMULATION\"],[\"Fallout Shelter\",\"GAME SIMULATION\"],[\"Dragon Mania Legends\",\"GAME SIMULATION\"],[\"The Tribez: Build a Village\",\"GAME SIMULATION\"],[\"Bus Simulator Indonesia\",\"GAME SIMULATION\"],[\"Jurassic World\\u2122: The Game\",\"GAME SIMULATION\"],[\"AdVenture Capitalist: Idle Money Management\",\"GAME SIMULATION\"],[\"Bus Simulator: Original\",\"GAME SIMULATION\"],[\"Dragon City Mobile\",\"GAME SIMULATION\"],[\"Choices: Stories You Play\",\"GAME SIMULATION\"],[\"LINE BROWN FARM\",\"GAME SIMULATION\"],[\"Fishing Clash\",\"GAME SIMULATION\"],[\"SAKURA School Simulator\",\"GAME SIMULATION\"],[\"Scary Teacher 3D\",\"GAME SIMULATION\"],[\"Cash, Inc. Money Clicker Game & Business Adventure\",\"GAME SIMULATION\"],[\"Bus Simulator : Ultimate\",\"GAME SIMULATION\"],[\"Hooked Inc: Fisher Tycoon\",\"GAME SIMULATION\"],[\"Vegas Crime Simulator\",\"GAME SIMULATION\"],[\"House Flipper: Home Design & Simulator Games\",\"GAME SIMULATION\"],[\"Egg, Inc.\",\"GAME SIMULATION\"],[\"Design Home: House Renovation\",\"GAME SIMULATION\"],[\"The Sims\\u2122 FreePlay\",\"GAME SIMULATION\"],[\"Block City Wars: Pixel Shooter with Battle Royale\",\"GAME SIMULATION\"],[\"Paradise Island\",\"GAME SIMULATION\"],[\"Car Parking Multiplayer\",\"GAME SIMULATION\"],[\"Happy Mall Story: Sim Game\",\"GAME SIMULATION\"],[\"Cooking Diary\\u00ae: Tasty Restaurant & Cafe Game\",\"GAME SIMULATION\"],[\"Clean Road\",\"GAME SIMULATION\"],[\"Farming Simulator 14\",\"GAME SIMULATION\"],[\"Klondike Adventures\",\"GAME SIMULATION\"],[\"Airport City\",\"GAME SIMULATION\"],[\"Cafeland - World Kitchen\",\"GAME SIMULATION\"],[\"Zombie Castaways\",\"GAME SIMULATION\"],[\"Barbie Dreamhouse Adventures\",\"GAME SIMULATION\"],[\"Turbo Dismount\\u2122\",\"GAME SIMULATION\"],[\"Truck Simulator 2018 : Europe\",\"GAME SIMULATION\"],[\"Godus\",\"GAME SIMULATION\"],[\"Animal Crossing: Pocket Camp\",\"GAME SIMULATION\"],[\"Let's Fish: Sport Fishing Games. Fishing Simulator\",\"GAME SIMULATION\"],[\"Flight Simulator: Fly Plane 3D\",\"GAME SIMULATION\"],[\"2 3 4 Player Mini Games\",\"GAME SIMULATION\"],[\"Heavy Truck Simulator\",\"GAME SIMULATION\"],[\"Hotel Story: Resort Simulation\",\"GAME SIMULATION\"],[\"Clouds & Sheep\",\"GAME SIMULATION\"],[\"Weaphones\\u2122 Gun Sim Free Vol 1\",\"GAME SIMULATION\"],[\"Make More! \\u2013 Idle Manager\",\"GAME SIMULATION\"],[\"School Girls Simulator\",\"GAME SIMULATION\"],[\"Raft Survival: Ocean Nomad - Simulator\",\"GAME SIMULATION\"],[\"Coach Bus Simulator\",\"GAME SIMULATION\"],[\"Disney Magic Kingdoms: Build Your Own Magical Park\",\"GAME SIMULATION\"],[\"Linda Brown: Interactive Story\",\"GAME SIMULATION\"],[\"Solar Smash\",\"GAME SIMULATION\"],[\"Drive and Park\",\"GAME SIMULATION\"],[\"High School Story\",\"GAME SIMULATION\"],[\"Car Simulator 2\",\"GAME SIMULATION\"],[\"Bud Farm: Grass Roots\",\"GAME SIMULATION\"],[\"Fire Emblem Heroes\",\"GAME SIMULATION\"],[\"Hi Cooking\",\"GAME SIMULATION\"],[\"Idle Supermarket Tycoon - Tiny Shop Game\",\"GAME SIMULATION\"],[\"World Truck Driving Simulator\",\"GAME SIMULATION\"],[\"Taxi Game\",\"GAME SIMULATION\"],[\"My Story: Choose Your Own Path\",\"GAME SIMULATION\"],[\"Public Transport Simulator\",\"GAME SIMULATION\"],[\"Stickman Dismounting\",\"GAME SIMULATION\"],[\"High School Simulator 2018\",\"GAME SIMULATION\"],[\"Car Mechanic Simulator 21\",\"GAME SIMULATION\"],[\"Avatar Life - fun, love & games in virtual world!\",\"GAME SIMULATION\"],[\"Indian Train Simulator\",\"GAME SIMULATION\"],[\"Battle Disc\",\"GAME SIMULATION\"],[\"Heavy Bus Simulator\",\"GAME SIMULATION\"],[\"\\u0421\\u0438\\u043c\\u0443\\u043b\\u044f\\u0442\\u043e\\u0440 \\u0436\\u0438\\u0437\\u043d\\u0438 \\u042e\\u0442\\u0443\\u0431\\u0435\\u0440\\u0430\",\"GAME SIMULATION\"],[\"Woodturning\",\"GAME SIMULATION\"],[\"Truck Simulator USA - Evolution\",\"GAME SIMULATION\"],[\"BitLife - Life Simulator\",\"GAME SIMULATION\"],[\"Bio Inc - Plague and rebel doctors offline\",\"GAME SIMULATION\"],[\"Idle Miner Tycoon: Mine & Money Clicker Management\",\"GAME SIMULATION\"],[\"ZooCraft: Animal Family Simulator\",\"GAME SIMULATION\"],[\"Goat Simulator\",\"GAME SIMULATION\"],[\"Mystic Messenger\",\"GAME SIMULATION\"],[\"Extreme Landings\",\"GAME SIMULATION\"],[\"Stickman Rope Hero\",\"GAME SIMULATION\"],[\"Prison Empire Tycoon - Idle Game\",\"GAME SIMULATION\"],[\"FarmVille 2: Tropic Escape\",\"GAME SIMULATION\"],[\"Terrarium: Garden Idle\",\"GAME SIMULATION\"],[\"Dragons World\",\"GAME SIMULATION\"],[\"Mobile Bus Simulator\",\"GAME SIMULATION\"],[\"Tap Tap Fish AbyssRium - Healing Aquarium (+VR)\",\"GAME SIMULATION\"],[\"\\ub808\\uc54c\\ud31c : \\uc9c4\\uc9dc \\ub18d\\uc0b0\\ubb3c \\uc8fc\\ub294 \\uac8c\\uc784\",\"GAME SIMULATION\"],[\"WorldBox - Sandbox God Simulator\",\"GAME SIMULATION\"],[\"Hotel Empire Tycoon - Idle Game Manager Simulator\",\"GAME SIMULATION\"],[\"Townsmen\",\"GAME SIMULATION\"],[\"DragonVale\",\"GAME SIMULATION\"],[\"Happy Pet Story: Virtual Pet Game\",\"GAME SIMULATION\"],[\"Teen Love Story Games For Girls\",\"GAME SIMULATION\"],[\"Bee Factory\",\"GAME SIMULATION\"],[\"Bridge Constructor FREE\",\"GAME SIMULATION\"],[\"Kill Shot\",\"GAME SIMULATION\"],[\"8 Ball Pool\",\"GAME SPORTS\"],[\"Dream League Soccer\",\"GAME SPORTS\"],[\"Score! Hero\",\"GAME SPORTS\"],[\"eFootball PES 2021\",\"GAME SPORTS\"],[\"Top Eleven 2021: Be a Soccer Manager\",\"GAME SPORTS\"],[\"Carrom Pool: Disc Game\",\"GAME SPORTS\"],[\"Dream League Soccer 2021\",\"GAME SPORTS\"],[\"EA SPORTS UFC\\u00ae\",\"GAME SPORTS\"],[\"World Cricket Championship 2 - WCC2\",\"GAME SPORTS\"],[\"Bowling King\",\"GAME SPORTS\"],[\"Pooking - Billiards City\",\"GAME SPORTS\"],[\"New Star Soccer\",\"GAME SPORTS\"],[\"Soccer Stars\",\"GAME SPORTS\"],[\"Online Soccer Manager (OSM) - 20/21\",\"GAME SPORTS\"],[\"World Soccer League\",\"GAME SPORTS\"],[\"Golf Clash\",\"GAME SPORTS\"],[\"Football Strike - Multiplayer Soccer\",\"GAME SPORTS\"],[\"Head Ball 2 - Online Soccer Game\",\"GAME SPORTS\"],[\"Fishing Hook\",\"GAME SPORTS\"],[\"Head Soccer\",\"GAME SPORTS\"],[\"Pool Billiards Pro\",\"GAME SPORTS\"],[\"Ace Fishing: Wild Catch\",\"GAME SPORTS\"],[\"Wrestling Revolution 3D\",\"GAME SPORTS\"],[\"zzSUNSET Last Season MM\",\"GAME SPORTS\"],[\"Basketball Stars\",\"GAME SPORTS\"],[\"Run Race 3D\",\"GAME SPORTS\"],[\"Real Cricket\\u2122 20\",\"GAME SPORTS\"],[\"3D Bowling\",\"GAME SPORTS\"],[\"Tennis Clash: 1v1 Free Online Sports Game\",\"GAME SPORTS\"],[\"PES CLUB MANAGER\",\"GAME SPORTS\"],[\"Shooting World - Gun Fire\",\"GAME SPORTS\"],[\"Archery Master 3D\",\"GAME SPORTS\"],[\"Soccer Star 2021 Top Leagues: Play the SOCCER game\",\"GAME SPORTS\"],[\"Real Football\",\"GAME SPORTS\"],[\"Head Football LaLiga 2021 - Skills Soccer Games\",\"GAME SPORTS\"],[\"Flip Diving\",\"GAME SPORTS\"],[\"World Cricket Championship Lt\",\"GAME SPORTS\"],[\"Score! Match - PvP Soccer\",\"GAME SPORTS\"],[\"Kite Flying - Layang Layang\",\"GAME SPORTS\"],[\"Final kick 2020 Best Online football penalty game\",\"GAME SPORTS\"],[\"Mini Golf King - Multiplayer Game\",\"GAME SPORTS\"],[\"Boxing Star\",\"GAME SPORTS\"],[\"Ultimate Soccer - Football\",\"GAME SPORTS\"],[\"Real Cricket\\u2122 17\",\"GAME SPORTS\"],[\"Stickman Soccer 2014\",\"GAME SPORTS\"],[\"Mobile Soccer\",\"GAME SPORTS\"],[\"Touchgrind BMX\",\"GAME SPORTS\"],[\"Golf Battle\",\"GAME SPORTS\"],[\"Soccer Star 2020 World Football: World Star Cup\",\"GAME SPORTS\"],[\"Shooting Archery\",\"GAME SPORTS\"],[\"WWE SuperCard - Battle Cards\",\"GAME SPORTS\"],[\"Winner Soccer Evo Elite\",\"GAME SPORTS\"],[\"Basketball Shoot\",\"GAME SPORTS\"],[\"NBA LIVE Mobile Basketball\",\"GAME SPORTS\"],[\"Badminton League\",\"GAME SPORTS\"],[\"EA SPORTS\\u2122 FIFA 21 Companion\",\"GAME SPORTS\"],[\"Soccer Cup 2021: Free Football Games\",\"GAME SPORTS\"],[\"Stickman Soccer - Classic\",\"GAME SPORTS\"],[\"Soccer Super Star\",\"GAME SPORTS\"],[\"Golf Star\\u2122\",\"GAME SPORTS\"],[\"Fanatical Football\",\"GAME SPORTS\"],[\"\\u26bdPuppet Soccer 2014 - Big Head Football \\ud83c\\udfc6\",\"GAME SPORTS\"],[\"Shooting Ball\",\"GAME SPORTS\"],[\"Basketball Mania\",\"GAME SPORTS\"],[\"Volleyball Champions 3D - Online Sports Game\",\"GAME SPORTS\"],[\"Basketball Battle\",\"GAME SPORTS\"],[\"Golf King - World Tour\",\"GAME SPORTS\"],[\"Shooting King\",\"GAME SPORTS\"],[\"Homerun Battle 2\",\"GAME SPORTS\"],[\"Hit & Knock down\",\"GAME SPORTS\"],[\"Table Tennis 3D\",\"GAME SPORTS\"],[\"Fishing Paradise 3D Free+\",\"GAME SPORTS\"],[\"Sachin Saga Cricket Champions\",\"GAME SPORTS\"],[\"Top Football Manager 2021\",\"GAME SPORTS\"],[\"Wrestling Revolution\",\"GAME SPORTS\"],[\"3D Pool Ball\",\"GAME SPORTS\"],[\"Stickman Basketball\",\"GAME SPORTS\"],[\"Golf Rival\",\"GAME SPORTS\"],[\"Mike V: Skateboard Party\",\"GAME SPORTS\"],[\"Stick Cricket Premier League\",\"GAME SPORTS\"],[\"Mobile Soccer League\",\"GAME SPORTS\"],[\"Virtual Table Tennis 3D\",\"GAME SPORTS\"],[\"Badminton Legend\",\"GAME SPORTS\"],[\"Retro Bowl\",\"GAME SPORTS\"],[\"Mini Football - Mobile Soccer\",\"GAME SPORTS\"],[\"Soccer Kicks (Football)\",\"GAME SPORTS\"],[\"Fanatical Basketball\",\"GAME SPORTS\"],[\"PBA\\u00ae Bowling Challenge\",\"GAME SPORTS\"],[\"Touchgrind Skate 2\",\"GAME SPORTS\"],[\"Baseball Superstars\\u00ae 2013\",\"GAME SPORTS\"],[\"Flip Master\",\"GAME SPORTS\"],[\"Archery Tournament\",\"GAME SPORTS\"],[\"Winner Soccer Evolution\",\"GAME SPORTS\"],[\"Shoot Goal - Football Stars Soccer Games 2021\",\"GAME SPORTS\"],[\"Badminton 3D\",\"GAME SPORTS\"],[\"Photo Finish Horse Racing\",\"GAME SPORTS\"],[\"Basketball Kings: Multiplayer\",\"GAME SPORTS\"],[\"Stickman Soccer 2016\",\"GAME SPORTS\"],[\"Ultimate Tennis: 3D online sports game\",\"GAME SPORTS\"],[\"Futsal Football 2\",\"GAME SPORTS\"],[\"Clash of Clans\",\"GAME STRATEGY\"],[\"Clash Royale\",\"GAME STRATEGY\"],[\"Lords Mobile: Tower Defense\",\"GAME STRATEGY\"],[\"Boom Beach\",\"GAME STRATEGY\"],[\"Plants vs. Zombies FREE\",\"GAME STRATEGY\"],[\"Castle Clash: Guild Royale\",\"GAME STRATEGY\"],[\"Grow Empire: Rome\",\"GAME STRATEGY\"],[\"World of Tanks Blitz PVP MMO 3D tank game for free\",\"GAME STRATEGY\"],[\"Monster Legends: Breed and Collect\",\"GAME STRATEGY\"],[\"Bid Wars - Storage Auctions and Pawn Shop Tycoon\",\"GAME STRATEGY\"],[\"Clash of Kings : Newly Presented Knight System\",\"GAME STRATEGY\"],[\"Vlogger Go Viral: Streamer Tuber Idle Life Games\",\"GAME STRATEGY\"],[\"Stick War: Legacy\",\"GAME STRATEGY\"],[\"State of Survival: The Walking Dead Collaboration\",\"GAME STRATEGY\"],[\"Castle Clash: \\u0421\\u0445\\u0432\\u0430\\u0442\\u043a\\u0430 \\u0413\\u0438\\u043b\\u044c\\u0434\\u0438\\u0439\",\"GAME STRATEGY\"],[\"Clash of Lords 2: Guild Castle\",\"GAME STRATEGY\"],[\"Rise of Kingdoms: Lost Crusade\",\"GAME STRATEGY\"],[\"Last Shelter: Survival\",\"GAME STRATEGY\"],[\"Game of War - Fire Age\",\"GAME STRATEGY\"],[\"Megapolis: city building simulator. Urban strategy\",\"GAME STRATEGY\"],[\"Empire: Four Kingdoms | Medieval Strategy MMO\",\"GAME STRATEGY\"],[\"Castle Crush: Epic Battle - Free Strategy Games\",\"GAME STRATEGY\"],[\"League of Legends: Wild Rift\",\"GAME STRATEGY\"],[\"King of Thieves\",\"GAME STRATEGY\"],[\"Throne Rush\",\"GAME STRATEGY\"],[\"Bid Wars 2: Pawn Shop - Storage Auction Simulator\",\"GAME STRATEGY\"],[\"Rise of Empires: Ice and Fire\",\"GAME STRATEGY\"],[\"Mafia City\",\"GAME STRATEGY\"],[\"Forge of Empires: Build your City\",\"GAME STRATEGY\"],[\"King of Avalon: Dominion\",\"GAME STRATEGY\"],[\"aa\",\"GAME STRATEGY\"],[\"Mobile Strike\",\"GAME STRATEGY\"],[\"Bloons TD Battles\",\"GAME STRATEGY\"],[\"Last Empire - War Z: Strategy\",\"GAME STRATEGY\"],[\"Alien Creeps TD - Epic tower defense\",\"GAME STRATEGY\"],[\"Vainglory\",\"GAME STRATEGY\"],[\"Jungle Heat: War of Clans\",\"GAME STRATEGY\"],[\"The Walking Dead No Man's Land\",\"GAME STRATEGY\"],[\"Art of War: Legions\",\"GAME STRATEGY\"],[\"DomiNations\",\"GAME STRATEGY\"],[\"World at Arms\",\"GAME STRATEGY\"],[\"Heroes of Order & Chaos\",\"GAME STRATEGY\"],[\"METAL SLUG DEFENSE\",\"GAME STRATEGY\"],[\"Army Men Strike - Military Strategy Simulator\",\"GAME STRATEGY\"],[\"Toilet Time: Boredom killer Fun Mini Games to Play\",\"GAME STRATEGY\"],[\"Castle Clash: Dominio del Reino\",\"GAME STRATEGY\"],[\"Final Fantasy XV: A New Empire\",\"GAME STRATEGY\"],[\"Dead Ahead: Zombie Warfare\",\"GAME STRATEGY\"],[\"Lapse: A Forgotten Future\",\"GAME STRATEGY\"],[\"Heroes Evolved\",\"GAME STRATEGY\"],[\"Dawn of Titans: War Strategy RPG\",\"GAME STRATEGY\"],[\"Toy Defence 2 \\u2014 Tower Defense game\",\"GAME STRATEGY\"],[\"2020: My Country\",\"GAME STRATEGY\"],[\"Random Dice: PvP Defense\",\"GAME STRATEGY\"],[\"South Park: Phone Destroyer\\u2122 - Battle Card Game\",\"GAME STRATEGY\"],[\"Castle Clash: King's Castle DE\",\"GAME STRATEGY\"],[\"Clash of Lords: Guild Castle\",\"GAME STRATEGY\"],[\"Empires and Allies\",\"GAME STRATEGY\"],[\"Mini Warriors\",\"GAME STRATEGY\"],[\"Invasion: Modern Empire\",\"GAME STRATEGY\"],[\"Tentacle Wars \\u2122\",\"GAME STRATEGY\"],[\"Realm Defense: Epic Tower Defense Strategy Game\",\"GAME STRATEGY\"],[\"Reactor \\u2622\\ufe0f - Idle Manager- Energy Sector Tycoon\",\"GAME STRATEGY\"],[\"My Virtual Pet Shop: Take Care of Pets & Animals\\ud83d\\udc36\",\"GAME STRATEGY\"],[\"Gods of Olympus\",\"GAME STRATEGY\"],[\"Disney Heroes: Battle Mode\",\"GAME STRATEGY\"],[\"Deep Town: Mining Factory\",\"GAME STRATEGY\"],[\"War and Order\",\"GAME STRATEGY\"],[\"Survival Arena\",\"GAME STRATEGY\"],[\"Virtual City\\u00ae Playground: Building Tycoon\",\"GAME STRATEGY\"],[\"Castle Clash : Guild Royale\",\"GAME STRATEGY\"],[\"Clash of Lords 2: \\u0411\\u0438\\u0442\\u0432\\u0430 \\u041b\\u0435\\u0433\\u0435\\u043d\\u0434\",\"GAME STRATEGY\"],[\"Top War: Battle Game\",\"GAME STRATEGY\"],[\"Empire Z: Endless War\",\"GAME STRATEGY\"],[\"Warlings: Armageddon\",\"GAME STRATEGY\"],[\"Age of Z Origins\",\"GAME STRATEGY\"],[\"\\u0627\\u0646\\u062a\\u0642\\u0627\\u0645 \\u0627\\u0644\\u0633\\u0644\\u0627\\u0637\\u064a\\u0646\",\"GAME STRATEGY\"],[\"Total Conquest\",\"GAME STRATEGY\"],[\"Chess Live\",\"GAME STRATEGY\"],[\"Onmyoji Arena\",\"GAME STRATEGY\"],[\"Narcos: Cartel Wars. Build an Empire with Strategy\",\"GAME STRATEGY\"],[\"March of Empires: War of Lords\",\"GAME STRATEGY\"],[\"Chess Rush\",\"GAME STRATEGY\"],[\"War and Magic: Kingdom Reborn\",\"GAME STRATEGY\"],[\"Supermarket Mania Journey\",\"GAME STRATEGY\"],[\"War Heroes: Strategy Card Game for Free\",\"GAME STRATEGY\"],[\"TRANSFORMERS: Earth Wars\",\"GAME STRATEGY\"],[\"Art of War 3: PvP RTS modern warfare strategy game\",\"GAME STRATEGY\"],[\"Train Station 2: Railroad Tycoon & Train Simulator\",\"GAME STRATEGY\"],[\"Defender II\",\"GAME STRATEGY\"],[\"Stormfall: Rise of Balur\",\"GAME STRATEGY\"],[\"Zombie Defense\",\"GAME STRATEGY\"],[\"Grepolis - Divine Strategy MMO\",\"GAME STRATEGY\"],[\"Venom Angry Crashy Rush Online\",\"GAME STRATEGY\"],[\"Castle Clash: Batalha de Guildas\",\"GAME STRATEGY\"],[\"The Walking Dead: Survivors\",\"GAME STRATEGY\"],[\"\\u57ce\\u5821\\u722d\\u9738 - \\u806f\\u76df\\u9738\\u696d\",\"GAME STRATEGY\"],[\"Kiss of War\",\"GAME STRATEGY\"],[\"Conquerors: Golden Age\",\"GAME STRATEGY\"],[\"Iron Desert - Fire Storm\",\"GAME STRATEGY\"],[\"Trivia Crack\",\"GAME TRIVIA\"],[\"Brain Test: Tricky Puzzles\",\"GAME TRIVIA\"],[\"94% - Quiz, Trivia & Logic\",\"GAME TRIVIA\"],[\"Logo Quiz\",\"GAME TRIVIA\"],[\"Who is? Brain Teaser & Tricky Riddles\",\"GAME TRIVIA\"],[\"Brain Test 2: Tricky Stories\",\"GAME TRIVIA\"],[\"Free Trivia Game. Questions & Answers. QuizzLand.\",\"GAME TRIVIA\"],[\"Tricky Test 2\\u2122: Genius Brain?\",\"GAME TRIVIA\"],[\"Quiz: Logo game\",\"GAME TRIVIA\"],[\"TVSMILES - Quiz and Prizes\",\"GAME TRIVIA\"],[\"\\u0641\\u0637\\u062d\\u0644 \\u0627\\u0644\\u0639\\u0631\\u0628 - \\u0644\\u0639\\u0628\\u0629 \\u0645\\u0639\\u0644\\u0648\\u0645\\u0627\\u062a \\u0639\\u0627\\u0645\\u0629\",\"GAME TRIVIA\"],[\"Gartic\",\"GAME TRIVIA\"],[\"Trivia Crack 2\",\"GAME TRIVIA\"],[\"94 Degrees: fun trivia quiz\",\"GAME TRIVIA\"],[\"Quizdom - Trivia more than logo quiz!\",\"GAME TRIVIA\"],[\"Think\",\"GAME TRIVIA\"],[\"Fight List - Categories Game\",\"GAME TRIVIA\"],[\"\\ubaa8\\ub450\\uc758 \\ud034\\uc988 - \\uc0ac\\uc9c4\\uc5f0\\uc0c1 \\ub2e8\\uc5b4\",\"GAME TRIVIA\"],[\"I Know Stuff : trivia quiz\",\"GAME TRIVIA\"],[\"Who Wants to Be a Millionaire? Trivia & Quiz Game\",\"GAME TRIVIA\"],[\"World Geography - Quiz Game\",\"GAME TRIVIA\"],[\"Guess The Brand - Logo Mania\",\"GAME TRIVIA\"],[\"Millionaire 2021 - Free Trivia Quiz Offline Game\",\"GAME TRIVIA\"],[\"\\u0e1b\\u0e23\\u0e34\\u0e28\\u0e19\\u0e32\\u0e1f\\u0e49\\u0e32\\u0e41\\u0e25\\u0e1a\",\"GAME TRIVIA\"],[\"Guess The Song - Music Quiz\",\"GAME TRIVIA\"],[\"\\u062d\\u0644\\u0647\\u0627 \\u0648\\u0627\\u062d\\u062a\\u0644\\u0647\\u0627 - \\u0644\\u0639\\u0628\\u0629 \\u0643\\u0644\\u0645\\u0629 \\u0627\\u0644\\u0633\\u0631\",\"GAME TRIVIA\"],[\"Can you escape the 100 room IV\",\"GAME TRIVIA\"],[\"Logo Game: Guess Brand Quiz\",\"GAME TRIVIA\"],[\"A4 Wheel of fortune\",\"GAME TRIVIA\"],[\"Color Mania Quiz - Guess the logo game\",\"GAME TRIVIA\"],[\"TTS Lontong\",\"GAME TRIVIA\"],[\"\\u0418\\u043d\\u0442\\u0435\\u043b\\u043b\\u0435\\u043a\\u0442-\\u0431\\u0430\\u0442\\u0442\\u043b\",\"GAME TRIVIA\"],[\"Jeopardy!\\u00ae Trivia Quiz Game Show\",\"GAME TRIVIA\"],[\"Scratch Logo Quiz. Challenging brain puzzle\",\"GAME TRIVIA\"],[\"Spin of Fortune - Quiz\",\"GAME TRIVIA\"],[\"100 PICS Quiz - Guess Trivia, Logo & Picture Games\",\"GAME TRIVIA\"],[\"General Knowledge Quiz\",\"GAME TRIVIA\"],[\"Food Quiz\",\"GAME TRIVIA\"],[\"TRIVIA STAR - Free Trivia Games Offline App\",\"GAME TRIVIA\"],[\"Trivia Survival 100\",\"GAME TRIVIA\"],[\"Adivina la Canci\\u00f3n\",\"GAME TRIVIA\"],[\"Nope Quiz\",\"GAME TRIVIA\"],[\"Free RBX Master\",\"GAME TRIVIA\"],[\"\\u0412\\u0440\\u0430\\u0449\\u0430\\u0439\\u0442\\u0435 \\u0431\\u0430\\u0440\\u0430\\u0431\\u0430\\u043d\",\"GAME TRIVIA\"],[\"Genius Quiz - Smart Brain Trivia Game\",\"GAME TRIVIA\"],[\"Richman 4 fun\",\"GAME TRIVIA\"],[\"Who Becomes Rich\",\"GAME TRIVIA\"],[\"Trick Me: Logical Brain Teasers Puzzle\",\"GAME TRIVIA\"],[\"TRIVIA 360: Single-player & Multiplayer quiz game\",\"GAME TRIVIA\"],[\"Quiz Of Kings\",\"GAME TRIVIA\"],[\"sameQuizy\",\"GAME TRIVIA\"],[\"Live Quiz Games App, Trivia & Gaming App for Money\",\"GAME TRIVIA\"],[\"MEGA QUIZ GAMING 2021 - Guess the game Trivia\",\"GAME TRIVIA\"],[\"Would You Rather? The Game\",\"GAME TRIVIA\"],[\"Guess The Movie \\u00ae\",\"GAME TRIVIA\"],[\"Pluck It: hairs and emotions\",\"GAME TRIVIA\"],[\"A Journey Towards Jesus\",\"GAME TRIVIA\"],[\"\\u0423\\u0413\\u0410\\u0414\\u0410\\u0419 \\u0411\\u041b\\u041e\\u0413\\u0415\\u0420\\u0410\",\"GAME TRIVIA\"],[\"96%: Family Quiz\",\"GAME TRIVIA\"],[\"\\u042d\\u0432\\u0440\\u0438\\u043a\\u0430! \\u041b\\u043e\\u0433\\u0438\\u0447\\u0435\\u0441\\u043a\\u0438\\u0435 \\u0417\\u0430\\u0434\\u0430\\u0447\\u0438, \\u0418\\u0433\\u0440\\u044b \\u0438 \\u0413\\u043e\\u043b\\u043e\\u0432\\u043e\\u043b\\u043e\\u043c\\u043a\\u0438\",\"GAME TRIVIA\"],[\"Stupid test: moron test, idiotest. IQ bored games\",\"GAME TRIVIA\"],[\"Trivia Crack Adventure\",\"GAME TRIVIA\"],[\"Trivia Crack (No Ads)\",\"GAME TRIVIA\"],[\"Guess Their Answer\",\"GAME TRIVIA\"],[\"New QuizDuel!\",\"GAME TRIVIA\"],[\"Quiz World: Play and Win Everyday!\",\"GAME TRIVIA\"],[\"Picture Quiz: Logos\",\"GAME TRIVIA\"],[\"I Know the Cartoon\",\"GAME TRIVIA\"],[\"Quiz - Offline Games\",\"GAME TRIVIA\"],[\"Atriviate (Online Trivia)\",\"GAME TRIVIA\"],[\"Logo Test: World Brands Quiz, Guess Trivia Game\",\"GAME TRIVIA\"],[\"Gartic.io - Draw, Guess, WIN\",\"GAME TRIVIA\"],[\"Truth or Dare\",\"GAME TRIVIA\"],[\"BFF Friendship Test\",\"GAME TRIVIA\"],[\"Eu Sei a M\\u00fasica\",\"GAME TRIVIA\"],[\"Se como Jose\",\"GAME TRIVIA\"],[\"\\u0641\\u0643\\u0631 \\u0640 Think\",\"GAME TRIVIA\"],[\"TopQuiz -Play Quiz & Lottery | Win Money via Paytm\",\"GAME TRIVIA\"],[\"101 Pics: Photo Quiz\",\"GAME TRIVIA\"],[\"Flags and Capitals of the World Quiz\",\"GAME TRIVIA\"],[\"\\u00bfCu\\u00e1nto sabes de Primaria?\",\"GAME TRIVIA\"],[\"\\u05dc\\u05d5\\u05d2\\u05d5\\u05d8\\u05e1\\u05d8 \\u05d8\\u05e8\\u05d9\\u05d5\\u05d5\\u05d9\\u05d4: \\u05de\\u05e9\\u05d7\\u05e7 \\u05d4\\u05e1\\u05de\\u05dc\\u05d9\\u05dd \\u05d5\\u05d4\\u05de\\u05d5\\u05ea\\u05d2\\u05d9\\u05dd \\u05d4\\u05d2\\u05d3\\u05d5\\u05dc \\u05d1\\u05d9\\u05e9\\u05e8\\u05d0\\u05dc\",\"GAME TRIVIA\"],[\"Cars Logo Quiz HD\",\"GAME TRIVIA\"],[\"Flags of All Countries of the World: Guess-Quiz\",\"GAME TRIVIA\"],[\"90's Quiz Game\",\"GAME TRIVIA\"],[\"Alphabet Game\",\"GAME TRIVIA\"],[\"Vrai ou Faux ? Le grand Quiz\",\"GAME TRIVIA\"],[\"Hardest Girl to Get - Kode Keras Cowok dari Cewek\",\"GAME TRIVIA\"],[\"Cuanto Sabes de la Biblia\",\"GAME TRIVIA\"],[\"Slam\",\"GAME TRIVIA\"],[\"Quiz Planet\",\"GAME TRIVIA\"],[\"\\uc544\\uc7ac \\ub2a5\\ub825 \\uace0\\uc0ac : \\uc544\\uc7ac\\uac1c\\uadf8\\uc640 \\ub10c\\uc13c\\uc2a4\\ud034\\uc988\",\"GAME TRIVIA\"],[\"Geography Quiz - flags, maps & coats of arms\",\"GAME TRIVIA\"],[\"Imagzle Brain test & Quiz Trivia Riddle Smart game\",\"GAME TRIVIA\"],[\"AppTrailers\",\"GAME TRIVIA\"],[\"Crazy Quiz\",\"GAME TRIVIA\"],[\"Mozkovna\",\"GAME TRIVIA\"],[\"Quem quer ser rico?\",\"GAME TRIVIA\"],[\"Carry1st Trivia: Play. Learn. Earn.\",\"GAME TRIVIA\"],[\"World Map Quiz\",\"GAME TRIVIA\"],[\"\\u0643\\u0644\\u0645\\u0627\\u062a \\u0643\\u0631\\u0627\\u0634 - \\u0644\\u0639\\u0628\\u0629 \\u062a\\u0633\\u0644\\u064a\\u0629 \\u0648\\u062a\\u062d\\u062f\\u064a \\u0645\\u0646 \\u0632\\u064a\\u062a\\u0648\\u0646\\u0629\",\"GAME WORD\"],[\"Word Cookies!\\u00ae\",\"GAME WORD\"],[\"Words of Wonders: Crossword to Connect Vocabulary\",\"GAME WORD\"],[\"Words with Friends Classic: Word Puzzle Challenge\",\"GAME WORD\"],[\"4 Fotos 1 Palabra\",\"GAME WORD\"],[\"4 Pics 1 Word\",\"GAME WORD\"],[\"Word Connect\",\"GAME WORD\"],[\"Wordscapes\",\"GAME WORD\"],[\"WordBrain - Free classic word puzzle game\",\"GAME WORD\"],[\"\\u0644\\u0639\\u0628\\u0629 \\u0643\\u0644\\u0645\\u0629 \\u0627\\u0644\\u0633\\u0631 : \\u0627\\u0644\\u062c\\u0632\\u0621 \\u0627\\u0644\\u062b\\u0627\\u0646\\u064a\",\"GAME WORD\"],[\"\\u0643\\u0644\\u0645\\u0627\\u062a \\u0645\\u062a\\u0642\\u0627\\u0637\\u0639\\u0629\",\"GAME WORD\"],[\"\\u0648\\u0635\\u0644\\u0629 - \\u0644\\u0639\\u0628\\u0629 \\u0643\\u0644\\u0645\\u0627\\u062a \\u0645\\u062a\\u0642\\u0627\\u0637\\u0639\\u0629\",\"GAME WORD\"],[\"Words with Friends: Play Fun Word Puzzle Games\",\"GAME WORD\"],[\"Word Snack - Your Picnic with Words\",\"GAME WORD\"],[\"Word search\",\"GAME WORD\"],[\"Wordfeud Free\",\"GAME WORD\"],[\"Draw Something Classic\",\"GAME WORD\"],[\"Word Search\",\"GAME WORD\"],[\"Word Link\",\"GAME WORD\"],[\"Words Story - Addictive Word Game\",\"GAME WORD\"],[\"Braindom: Tricky Brain Teasers, Test, Riddle Games\",\"GAME WORD\"],[\"TTS Pintar 2021 - Teka Teki Silang Offline\",\"GAME WORD\"],[\"Word Streak-Words With Friends\",\"GAME WORD\"],[\"Word Search\",\"GAME WORD\"],[\"Word Search\",\"GAME WORD\"],[\"4 Bilder 1 Wort\",\"GAME WORD\"],[\"Word Academy\",\"GAME WORD\"],[\"Word Collect - Free Word Games\",\"GAME WORD\"],[\"Word Connect - Word Games Puzzle\",\"GAME WORD\"],[\"Pictoword: Fun Word Games & Offline Brain Game\",\"GAME WORD\"],[\"Word Search\",\"GAME WORD\"],[\"Word Search\",\"GAME WORD\"],[\"Wheel of Fortune: Free Play\",\"GAME WORD\"],[\"Word Crack\",\"GAME WORD\"],[\"4 Images 1 Mot\",\"GAME WORD\"],[\"4 \\u0444\\u043e\\u0442\\u043a\\u0438 1 \\u0441\\u043b\\u043e\\u0432\\u043e\",\"GAME WORD\"],[\"Wordie: Guess the Word\",\"GAME WORD\"],[\"Words With Friends 2 - Board Games & Word Puzzles\",\"GAME WORD\"],[\"Ruzzle Free\",\"GAME WORD\"],[\"Kelimelik\",\"GAME WORD\"],[\"\\u0644\\u0639\\u0628\\u0629 \\u0643\\u0644\\u0645\\u0629 \\u0627\\u0644\\u0633\\u0631\",\"GAME WORD\"],[\"\\u041d\\u0430\\u0439\\u0434\\u0438 \\u0441\\u043b\\u043e\\u0432\\u0430\",\"GAME WORD\"],[\"Pro des Mots\",\"GAME WORD\"],[\"Word search puzzles game\",\"GAME WORD\"],[\"Garden of Words - Word game\",\"GAME WORD\"],[\"Word Crossy - A crossword game\",\"GAME WORD\"],[\"Word Search Sea: Unscramble words\",\"GAME WORD\"],[\"4 Immagini 1 Parola\",\"GAME WORD\"],[\"Words Crush: Hidden Words!\",\"GAME WORD\"],[\"Fill-The-Words - word search puzzle\",\"GAME WORD\"],[\"Palabras Cruz\",\"GAME WORD\"],[\"\\u0622\\u0645\\u06cc\\u0631\\u0632\\u0627\",\"GAME WORD\"],[\"Word Stacks\",\"GAME WORD\"],[\"Word Search Quest - Free Word Puzzle Game\",\"GAME WORD\"],[\"Word Yard - Fun with Words\",\"GAME WORD\"],[\"Word Trip\",\"GAME WORD\"],[\"Word Cross\",\"GAME WORD\"],[\"Heads Up!\",\"GAME WORD\"],[\"\\u0421\\u043b\\u043e\\u0432\\u0430 \\u0438\\u0437 \\u0421\\u043b\\u043e\\u0432\\u0430\",\"GAME WORD\"],[\"Wordington: Words & Design\",\"GAME WORD\"],[\"Wort Guru\",\"GAME WORD\"],[\"What Am I? \\u2013 Family Charades (Guess The Word)\",\"GAME WORD\"],[\"Aplasta Palabras\\uff1aJuego de Palabras Gratis sin wifi\",\"GAME WORD\"],[\"Stop - Categories Word Game\",\"GAME WORD\"],[\"Kelime Gezmece\",\"GAME WORD\"],[\"Immortal Taoists - Nieli has arrived\",\"GAME WORD\"],[\"Jalebi - A Desi Adda With Ludo Snakes & Ladders\",\"GAME WORD\"],[\"Word Find - Word Connect Free Offline Word Games\",\"GAME WORD\"],[\"Classic Words Solo\",\"GAME WORD\"],[\"Draw and Guess Online\",\"GAME WORD\"],[\"Words Crush: Hidden Themes!\",\"GAME WORD\"],[\"Crossword Jam\",\"GAME WORD\"],[\"Word Search\",\"GAME WORD\"],[\"Word Search\",\"GAME WORD\"],[\"2 Pictures 1 Word\",\"GAME WORD\"],[\"Word Crack Mix 2\",\"GAME WORD\"],[\"Word Domination\",\"GAME WORD\"],[\"Word Crush\",\"GAME WORD\"],[\"\\u0627\\u0634\\u0628\\u0643\\u0647\\u0627 - \\u0644\\u0639\\u0628\\u0629 \\u062a\\u0633\\u0644\\u064a\\u0629 \\u0648\\u062a\\u0641\\u0643\\u064a\\u0631\",\"GAME WORD\"],[\"Sz\\u00f3 Piknik - Word Snack\",\"GAME WORD\"],[\"\\u0643\\u0644\\u0645\\u0627\\u062a \\u0645\\u062a\\u0642\\u0627\\u0637\\u0639\\u0629 \\u0645\\u0646 \\u0632\\u064a\\u062a\\u0648\\u0646\\u0629 - \\u0631\\u0634\\u0641\\u0629 \\u0648\\u0635\\u0644\\u0629\",\"GAME WORD\"],[\"Word Surf - Word Game\",\"GAME WORD\"],[\"Word Search\",\"GAME WORD\"],[\"Word Search\",\"GAME WORD\"],[\"WordWhizzle Search\",\"GAME WORD\"],[\"Evil Apples: You Against Humanity!\",\"GAME WORD\"],[\"Word Chums\",\"GAME WORD\"],[\"Word Trek - Word Brain streak - hand made puzzles\",\"GAME WORD\"],[\"Teka Teki Silang\",\"GAME WORD\"],[\"7 Little Words: A fun twist on crossword puzzles\",\"GAME WORD\"],[\"Charades!\",\"GAME WORD\"],[\"Escape Room: Mystery Word\",\"GAME WORD\"],[\"Word Swipe\",\"GAME WORD\"],[\"Wordalot - Picture Crossword\",\"GAME WORD\"],[\"Zgadnij co to?\",\"GAME WORD\"],[\"Piknik S\\u0142owo - Word Snack\",\"GAME WORD\"],[\"Word Life - Connect crosswords puzzle\",\"GAME WORD\"],[\"Wordox \\u2013 Free multiplayer word game\",\"GAME WORD\"],[\"4 Fotos 1 Palavra\",\"GAME WORD\"],[\"\\u0632\\u0648\\u0627\\u064a\\u0627 - \\u0644\\u0639\\u0628\\u0629 \\u0633\\u062a\\u062d\\u0631\\u0643 \\u0632\\u0648\\u0627\\u064a\\u0627 \\u0639\\u0642\\u0644\\u0643\",\"GAME WORD\"],[\"Bible Word Puzzle - Free Bible Word Games\",\"GAME WORD\"],[\"Scrabble\\u00ae GO - New Word Game\",\"GAME WORD\"],[\"Word Nut: Word Puzzle Games & Crosswords\",\"GAME WORD\"],[\"Pinturillo 2\",\"GAME WORD\"]],\"hovertemplate\":\"installs_in_million=%{x}<br>title=%{customdata[0]}<br>category=%{customdata[1]}<extra></extra>\",\"legendgroup\":\"\",\"marker\":{\"color\":\"#636efa\"},\"name\":\"\",\"notched\":false,\"offsetgroup\":\"\",\"orientation\":\"h\",\"quartilemethod\":\"inclusive\",\"showlegend\":false,\"type\":\"box\",\"x\":[500000000.0,500000000.0,100000000.0,100000000.0,500000000.0,100000000.0,100000000.0,500000000.0,100000000.0,100000000.0,100000000.0,100000000.0,50000000.0,100000000.0,50000000.0,100000000.0,100000000.0,50000000.0,50000000.0,50000000.0,100000000.0,100000000.0,100000000.0,100000000.0,100000000.0,50000000.0,100000000.0,10000000.0,50000000.0,10000000.0,100000000.0,50000000.0,50000000.0,50000000.0,10000000.0,100000000.0,10000000.0,100000000.0,10000000.0,50000000.0,50000000.0,100000000.0,50000000.0,100000000.0,50000000.0,10000000.0,50000000.0,10000000.0,10000000.0,100000000.0,100000000.0,50000000.0,50000000.0,10000000.0,100000000.0,100000000.0,100000000.0,50000000.0,50000000.0,100000000.0,10000000.0,100000000.0,50000000.0,10000000.0,50000000.0,50000000.0,100000000.0,10000000.0,50000000.0,10000000.0,100000000.0,10000000.0,50000000.0,10000000.0,100000000.0,10000000.0,100000000.0,10000000.0,10000000.0,10000000.0,10000000.0,100000000.0,100000000.0,10000000.0,10000000.0,10000000.0,100000000.0,10000000.0,10000000.0,50000000.0,100000000.0,50000000.0,50000000.0,50000000.0,10000000.0,10000000.0,10000000.0,10000000.0,10000000.0,10000000.0,100000000.0,100000000.0,100000000.0,10000000.0,50000000.0,100000000.0,50000000.0,10000000.0,10000000.0,50000000.0,10000000.0,50000000.0,10000000.0,10000000.0,10000000.0,5000000.0,10000000.0,10000000.0,5000000.0,10000000.0,10000000.0,10000000.0,10000000.0,10000000.0,10000000.0,50000000.0,50000000.0,50000000.0,5000000.0,10000000.0,10000000.0,10000000.0,10000000.0,5000000.0,10000000.0,10000000.0,10000000.0,10000000.0,100000000.0,10000000.0,10000000.0,10000000.0,1000000.0,10000000.0,10000000.0,10000000.0,10000000.0,10000000.0,10000000.0,10000000.0,10000000.0,10000000.0,5000000.0,10000000.0,10000000.0,50000000.0,10000000.0,10000000.0,10000000.0,10000000.0,10000000.0,10000000.0,5000000.0,100000000.0,10000000.0,1000000.0,10000000.0,5000000.0,5000000.0,10000000.0,50000000.0,10000000.0,10000000.0,10000000.0,1000000.0,10000000.0,10000000.0,10000000.0,10000000.0,5000000.0,10000000.0,10000000.0,10000000.0,1000000.0,5000000.0,10000000.0,1000000.0,50000000.0,5000000.0,10000000.0,10000000.0,1000000.0,10000000.0,1000000.0,5000000.0,1000000.0,10000000.0,10000000.0,5000000.0,10000000.0,1000000000.0,100000000.0,100000000.0,100000000.0,100000000.0,100000000.0,100000000.0,500000000.0,100000000.0,10000000.0,100000000.0,100000000.0,10000000.0,100000000.0,100000000.0,100000000.0,100000000.0,50000000.0,100000000.0,100000000.0,50000000.0,100000000.0,100000000.0,50000000.0,100000000.0,10000000.0,100000000.0,100000000.0,100000000.0,100000000.0,10000000.0,100000000.0,100000000.0,100000000.0,100000000.0,100000000.0,50000000.0,50000000.0,10000000.0,50000000.0,100000000.0,50000000.0,50000000.0,100000000.0,100000000.0,100000000.0,50000000.0,50000000.0,50000000.0,100000000.0,100000000.0,50000000.0,50000000.0,100000000.0,10000000.0,100000000.0,100000000.0,100000000.0,10000000.0,50000000.0,1000000.0,10000000.0,50000000.0,50000000.0,10000000.0,100000000.0,10000000.0,50000000.0,100000000.0,50000000.0,100000000.0,50000000.0,10000000.0,10000000.0,10000000.0,50000000.0,10000000.0,10000000.0,10000000.0,10000000.0,10000000.0,50000000.0,50000000.0,10000000.0,10000000.0,50000000.0,10000000.0,10000000.0,10000000.0,10000000.0,10000000.0,10000000.0,100000000.0,10000000.0,10000000.0,50000000.0,10000000.0,10000000.0,50000000.0,10000000.0,500000000.0,100000000.0,10000000.0,50000000.0,10000000.0,100000000.0,100000000.0,100000000.0,10000000.0,50000000.0,10000000.0,10000000.0,10000000.0,5000000.0,10000000.0,10000000.0,10000000.0,100000000.0,50000000.0,10000000.0,5000000.0,5000000.0,10000000.0,10000000.0,50000000.0,5000000.0,50000000.0,10000000.0,10000000.0,5000000.0,5000000.0,10000000.0,50000000.0,5000000.0,10000000.0,10000000.0,10000000.0,5000000.0,10000000.0,10000000.0,10000000.0,1000000.0,50000000.0,10000000.0,10000000.0,50000000.0,1000000.0,10000000.0,5000000.0,10000000.0,10000000.0,10000000.0,5000000.0,10000000.0,5000000.0,5000000.0,5000000.0,5000000.0,5000000.0,5000000.0,5000000.0,5000000.0,50000000.0,50000000.0,50000000.0,10000000.0,10000000.0,5000000.0,1000000.0,10000000.0,1000000.0,10000000.0,5000000.0,10000000.0,1000000.0,5000000.0,10000000.0,1000000.0,10000000.0,5000000.0,10000000.0,10000000.0,5000000.0,5000000.0,5000000.0,5000000.0,1000000.0,5000000.0,10000000.0,1000000.0,10000000.0,10000000.0,1000000.0,10000000.0,1000000.0,5000000.0,10000000.0,1000000.0,1000000.0,1000000.0,50000000.0,10000000.0,100000000.0,100000000.0,100000000.0,100000000.0,50000000.0,10000000.0,10000000.0,50000000.0,10000000.0,10000000.0,50000000.0,50000000.0,50000000.0,50000000.0,10000000.0,10000000.0,50000000.0,50000000.0,50000000.0,50000000.0,10000000.0,10000000.0,10000000.0,10000000.0,10000000.0,10000000.0,10000000.0,10000000.0,10000000.0,5000000.0,10000000.0,5000000.0,5000000.0,10000000.0,1000000.0,1000000.0,10000000.0,1000000.0,10000000.0,5000000.0,10000000.0,10000000.0,5000000.0,10000000.0,10000000.0,10000000.0,10000000.0,5000000.0,1000000.0,5000000.0,5000000.0,5000000.0,5000000.0,5000000.0,5000000.0,1000000.0,5000000.0,5000000.0,5000000.0,5000000.0,1000000.0,1000000.0,5000000.0,5000000.0,5000000.0,1000000.0,5000000.0,5000000.0,5000000.0,1000000.0,5000000.0,5000000.0,5000000.0,1000000.0,5000000.0,500000000.0,5000000.0,10000000.0,1000000.0,10000000.0,10000000.0,10000000.0,1000000.0,500000000.0,1000000.0,1000000.0,1000000.0,5000000.0,10000000.0,10000000.0,1000000.0,5000000.0,1000000.0,1000000.0,1000000.0,1000000.0,5000000.0,1000000.0,1000000.0,10000000.0,10000000.0,1000000.0,5000000.0,5000000.0,5000000.0,5000000.0,5000000.0,5000000.0,1000000.0,10000000.0,10000000.0,10000000.0,1000000.0,1000000.0,10000000.0,10000000.0,10000000.0,1000000.0,1000000.0,10000000.0,1000000.0,1000000.0,1000000.0,1000000.0,50000000.0,50000000.0,50000000.0,50000000.0,50000000.0,10000000.0,10000000.0,10000000.0,10000000.0,10000000.0,10000000.0,5000000.0,10000000.0,10000000.0,10000000.0,10000000.0,10000000.0,5000000.0,10000000.0,10000000.0,10000000.0,5000000.0,10000000.0,5000000.0,10000000.0,10000000.0,10000000.0,10000000.0,10000000.0,1000000.0,5000000.0,10000000.0,5000000.0,10000000.0,10000000.0,10000000.0,10000000.0,10000000.0,5000000.0,5000000.0,10000000.0,5000000.0,10000000.0,5000000.0,10000000.0,10000000.0,5000000.0,5000000.0,1000000.0,10000000.0,5000000.0,5000000.0,10000000.0,5000000.0,5000000.0,1000000.0,1000000.0,10000000.0,5000000.0,5000000.0,5000000.0,5000000.0,1000000.0,5000000.0,5000000.0,10000000.0,10000000.0,1000000.0,1000000.0,1000000.0,1000000.0,1000000.0,5000000.0,1000000.0,5000000.0,1000000.0,1000000.0,1000000.0,1000000.0,1000000.0,1000000.0,5000000.0,1000000.0,1000000.0,1000000.0,5000000.0,500000000.0,5000000.0,1000000.0,1000000.0,5000000.0,1000000.0,1000000.0,1000000.0,1000000.0,1000000.0,1000000.0,1000000.0,1000000.0,1000000.0,1000000000.0,500000000.0,500000000.0,100000000.0,500000000.0,100000000.0,100000000.0,100000000.0,100000000.0,100000000.0,100000000.0,100000000.0,100000000.0,100000000.0,50000000.0,100000000.0,100000000.0,100000000.0,50000000.0,100000000.0,100000000.0,50000000.0,10000000.0,50000000.0,100000000.0,100000000.0,50000000.0,50000000.0,100000000.0,10000000.0,50000000.0,10000000.0,50000000.0,10000000.0,10000000.0,10000000.0,100000000.0,50000000.0,10000000.0,50000000.0,100000000.0,10000000.0,50000000.0,10000000.0,100000000.0,50000000.0,100000000.0,10000000.0,50000000.0,10000000.0,50000000.0,10000000.0,10000000.0,10000000.0,10000000.0,5000000.0,10000000.0,10000000.0,10000000.0,10000000.0,10000000.0,50000000.0,10000000.0,10000000.0,10000000.0,100000000.0,10000000.0,10000000.0,10000000.0,10000000.0,10000000.0,10000000.0,10000000.0,10000000.0,10000000.0,10000000.0,10000000.0,1000000.0,50000000.0,100000000.0,10000000.0,10000000.0,100000000.0,10000000.0,10000000.0,1000000.0,10000000.0,10000000.0,10000000.0,5000000.0,10000000.0,50000000.0,10000000.0,10000000.0,50000000.0,10000000.0,5000000.0,10000000.0,10000000.0,10000000.0,50000000.0,100000000.0,50000000.0,1000000.0,10000000.0,10000000.0,10000000.0,50000000.0,100000000.0,50000000.0,100000000.0,10000000.0,10000000.0,10000000.0,10000000.0,10000000.0,50000000.0,10000000.0,50000000.0,500000000.0,50000000.0,50000000.0,100000000.0,10000000.0,10000000.0,10000000.0,50000000.0,50000000.0,1000000.0,10000000.0,50000000.0,50000000.0,10000000.0,10000000.0,10000000.0,10000000.0,10000000.0,5000000.0,5000000.0,10000000.0,10000000.0,10000000.0,1000000.0,10000000.0,10000000.0,10000000.0,10000000.0,10000000.0,10000000.0,1000000.0,10000000.0,10000000.0,50000000.0,1000000.0,10000000.0,10000000.0,10000000.0,10000000.0,10000000.0,5000000.0,10000000.0,10000000.0,10000000.0,10000000.0,10000000.0,10000000.0,10000000.0,10000000.0,5000000.0,50000000.0,10000000.0,1000000.0,10000000.0,5000000.0,5000000.0,1000000.0,10000000.0,10000000.0,10000000.0,10000000.0,10000000.0,10000000.0,10000000.0,5000000.0,1000000.0,10000000.0,10000000.0,10000000.0,10000000.0,10000000.0,10000000.0,10000000.0,10000000.0,10000000.0,10000000.0,5000000.0,10000000.0,1000000.0,10000000.0,10000000.0,100000000.0,100000000.0,10000000.0,100000000.0,100000000.0,50000000.0,50000000.0,50000000.0,5000000.0,5000000.0,100000000.0,10000000.0,50000000.0,10000000.0,10000000.0,10000000.0,10000000.0,10000000.0,10000000.0,10000000.0,10000000.0,5000000.0,5000000.0,10000000.0,5000000.0,10000000.0,10000000.0,5000000.0,10000000.0,50000000.0,5000000.0,1000000.0,5000000.0,5000000.0,10000000.0,5000000.0,1000000.0,10000000.0,1000000.0,10000000.0,10000000.0,10000000.0,10000000.0,1000000.0,10000000.0,1000000.0,1000000.0,5000000.0,1000000.0,5000000.0,10000000.0,10000000.0,10000000.0,10000000.0,10000000.0,10000000.0,1000000.0,5000000.0,1000000.0,100000000.0,5000000.0,5000000.0,10000000.0,1000000.0,10000000.0,10000000.0,1000000.0,1000000.0,1000000.0,500000000.0,1000000.0,1000000.0,10000000.0,1000000.0,5000000.0,5000000.0,500000000.0,1000000.0,1000000.0,500000000.0,10000000.0,10000000.0,1000000.0,5000000.0,5000000.0,5000000.0,1000000.0,1000000.0,1000000.0,10000000.0,10000000.0,1000000.0,5000000.0,10000000.0,1000000.0,5000000.0,1000000.0,100000000.0,1000000.0,1000000.0,100000000.0,100000000.0,50000000.0,50000000.0,50000000.0,100000000.0,100000000.0,50000000.0,100000000.0,50000000.0,50000000.0,50000000.0,10000000.0,100000000.0,100000000.0,100000000.0,100000000.0,10000000.0,10000000.0,50000000.0,10000000.0,10000000.0,50000000.0,10000000.0,50000000.0,50000000.0,10000000.0,10000000.0,5000000.0,10000000.0,10000000.0,100000000.0,10000000.0,10000000.0,100000000.0,50000000.0,10000000.0,10000000.0,10000000.0,10000000.0,50000000.0,10000000.0,10000000.0,100000000.0,10000000.0,10000000.0,10000000.0,100000000.0,100000000.0,10000000.0,50000000.0,10000000.0,10000000.0,10000000.0,50000000.0,50000000.0,50000000.0,10000000.0,10000000.0,10000000.0,50000000.0,50000000.0,50000000.0,50000000.0,5000000.0,10000000.0,50000000.0,10000000.0,10000000.0,10000000.0,10000000.0,10000000.0,10000000.0,50000000.0,50000000.0,10000000.0,10000000.0,10000000.0,10000000.0,10000000.0,10000000.0,50000000.0,10000000.0,5000000.0,10000000.0,10000000.0,10000000.0,10000000.0,10000000.0,50000000.0,10000000.0,10000000.0,100000000.0,50000000.0,10000000.0,50000000.0,100000000.0,100000000.0,1000000.0,5000000.0,500000000.0,100000000.0,100000000.0,100000000.0,100000000.0,10000000.0,100000000.0,100000000.0,100000000.0,50000000.0,100000000.0,100000000.0,50000000.0,100000000.0,100000000.0,50000000.0,50000000.0,10000000.0,50000000.0,50000000.0,100000000.0,50000000.0,50000000.0,50000000.0,10000000.0,10000000.0,100000000.0,10000000.0,100000000.0,10000000.0,100000000.0,100000000.0,100000000.0,50000000.0,10000000.0,10000000.0,50000000.0,100000000.0,100000000.0,100000000.0,100000000.0,100000000.0,10000000.0,50000000.0,10000000.0,10000000.0,10000000.0,10000000.0,10000000.0,50000000.0,5000000.0,50000000.0,50000000.0,10000000.0,10000000.0,50000000.0,10000000.0,10000000.0,50000000.0,10000000.0,10000000.0,10000000.0,10000000.0,10000000.0,10000000.0,10000000.0,10000000.0,100000000.0,50000000.0,50000000.0,10000000.0,50000000.0,10000000.0,5000000.0,50000000.0,10000000.0,10000000.0,10000000.0,10000000.0,50000000.0,50000000.0,10000000.0,10000000.0,50000000.0,10000000.0,50000000.0,10000000.0,10000000.0,10000000.0,100000000.0,10000000.0,10000000.0,10000000.0,10000000.0,5000000.0,10000000.0,50000000.0,10000000.0,10000000.0,10000000.0,100000000.0,10000000.0,50000000.0,100000000.0,10000000.0,10000000.0,50000000.0,10000000.0,10000000.0,10000000.0,10000000.0,10000000.0,50000000.0,10000000.0,10000000.0,10000000.0,10000000.0,10000000.0,5000000.0,10000000.0,10000000.0,10000000.0,10000000.0,10000000.0,10000000.0,10000000.0,10000000.0,50000000.0,10000000.0,10000000.0,10000000.0,10000000.0,10000000.0,10000000.0,5000000.0,10000000.0,5000000.0,5000000.0,10000000.0,10000000.0,10000000.0,10000000.0,5000000.0,5000000.0,10000000.0,100000000.0,10000000.0,50000000.0,10000000.0,10000000.0,10000000.0,10000000.0,5000000.0,10000000.0,1000000.0,10000000.0,10000000.0,5000000.0,1000000.0,10000000.0,10000000.0,50000000.0,5000000.0,5000000.0,10000000.0,5000000.0,10000000.0,10000000.0,5000000.0,10000000.0,10000000.0,10000000.0,5000000.0,5000000.0,10000000.0,1000000.0,1000000.0,5000000.0,10000000.0,5000000.0,5000000.0,10000000.0,5000000.0,100000000.0,5000000.0,10000000.0,10000000.0,5000000.0,5000000.0,10000000.0,10000000.0,1000000.0,5000000.0,5000000.0,1000000.0,1000000.0,10000000.0,5000000.0,1000000.0,10000000.0,100000000.0,100000000.0,100000000.0,100000000.0,10000000.0,50000000.0,10000000.0,50000000.0,50000000.0,10000000.0,50000000.0,100000000.0,10000000.0,10000000.0,50000000.0,10000000.0,100000000.0,10000000.0,50000000.0,10000000.0,100000000.0,10000000.0,10000000.0,50000000.0,10000000.0,10000000.0,10000000.0,50000000.0,10000000.0,10000000.0,50000000.0,100000000.0,10000000.0,10000000.0,10000000.0,10000000.0,50000000.0,50000000.0,100000000.0,10000000.0,10000000.0,10000000.0,100000000.0,100000000.0,10000000.0,10000000.0,10000000.0,50000000.0,10000000.0,10000000.0,50000000.0,10000000.0,50000000.0,10000000.0,10000000.0,50000000.0,10000000.0,10000000.0,10000000.0,5000000.0,10000000.0,10000000.0,10000000.0,50000000.0,10000000.0,10000000.0,10000000.0,10000000.0,10000000.0,10000000.0,10000000.0,10000000.0,10000000.0,1000000.0,100000000.0,10000000.0,10000000.0,10000000.0,50000000.0,10000000.0,10000000.0,5000000.0,10000000.0,10000000.0,10000000.0,10000000.0,5000000.0,10000000.0,50000000.0,10000000.0,5000000.0,10000000.0,10000000.0,10000000.0,10000000.0,10000000.0,10000000.0,10000000.0,10000000.0,10000000.0,500000000.0,100000000.0,100000000.0,50000000.0,100000000.0,100000000.0,50000000.0,50000000.0,50000000.0,10000000.0,100000000.0,10000000.0,50000000.0,10000000.0,100000000.0,10000000.0,100000000.0,50000000.0,50000000.0,50000000.0,100000000.0,10000000.0,50000000.0,10000000.0,50000000.0,100000000.0,10000000.0,100000000.0,10000000.0,10000000.0,50000000.0,100000000.0,10000000.0,50000000.0,10000000.0,50000000.0,50000000.0,50000000.0,50000000.0,10000000.0,10000000.0,10000000.0,50000000.0,10000000.0,10000000.0,10000000.0,10000000.0,50000000.0,10000000.0,50000000.0,10000000.0,10000000.0,10000000.0,50000000.0,50000000.0,10000000.0,50000000.0,10000000.0,50000000.0,10000000.0,10000000.0,10000000.0,10000000.0,10000000.0,10000000.0,10000000.0,5000000.0,10000000.0,5000000.0,10000000.0,10000000.0,10000000.0,10000000.0,10000000.0,10000000.0,10000000.0,10000000.0,10000000.0,10000000.0,5000000.0,10000000.0,10000000.0,10000000.0,1000000.0,10000000.0,10000000.0,10000000.0,10000000.0,10000000.0,5000000.0,10000000.0,10000000.0,10000000.0,10000000.0,10000000.0,5000000.0,5000000.0,10000000.0,10000000.0,10000000.0,500000000.0,100000000.0,100000000.0,50000000.0,100000000.0,100000000.0,10000000.0,100000000.0,50000000.0,10000000.0,50000000.0,10000000.0,100000000.0,50000000.0,10000000.0,10000000.0,10000000.0,10000000.0,50000000.0,50000000.0,50000000.0,50000000.0,10000000.0,10000000.0,10000000.0,10000000.0,10000000.0,50000000.0,10000000.0,50000000.0,50000000.0,50000000.0,10000000.0,50000000.0,10000000.0,10000000.0,10000000.0,10000000.0,10000000.0,10000000.0,10000000.0,10000000.0,10000000.0,10000000.0,10000000.0,5000000.0,10000000.0,5000000.0,10000000.0,10000000.0,5000000.0,10000000.0,5000000.0,5000000.0,10000000.0,5000000.0,5000000.0,10000000.0,5000000.0,10000000.0,1000000.0,5000000.0,5000000.0,10000000.0,1000000.0,10000000.0,5000000.0,10000000.0,1000000.0,5000000.0,5000000.0,1000000.0,10000000.0,5000000.0,10000000.0,10000000.0,10000000.0,10000000.0,10000000.0,5000000.0,10000000.0,10000000.0,5000000.0,5000000.0,10000000.0,10000000.0,10000000.0,10000000.0,10000000.0,10000000.0,10000000.0,10000000.0,5000000.0,10000000.0,1000000.0,5000000.0,1000000.0,5000000.0,10000000.0,5000000.0,100000000.0,100000000.0,10000000.0,50000000.0,10000000.0,10000000.0,10000000.0,10000000.0,10000000.0,1000000.0,5000000.0,10000000.0,10000000.0,10000000.0,10000000.0,5000000.0,10000000.0,1000000.0,10000000.0,10000000.0,10000000.0,10000000.0,10000000.0,10000000.0,10000000.0,1000000.0,5000000.0,10000000.0,5000000.0,1000000.0,5000000.0,5000000.0,1000000.0,10000000.0,10000000.0,10000000.0,5000000.0,10000000.0,5000000.0,1000000.0,5000000.0,1000000.0,500000000.0,10000000.0,5000000.0,1000000.0,5000000.0,5000000.0,5000000.0,1000000.0,1000000.0,10000000.0,1000000.0,5000000.0,1000000.0,500000000.0,1000000.0,1000000.0,1000000.0,1000000.0,1000000.0,5000000.0,500000000.0,5000000.0,1000000.0,1000000.0,10000000.0,5000000.0,5000000.0,5000000.0,1000000.0,5000000.0,1000000.0,10000000.0,1000000.0,1000000.0,100000000.0,1000000.0,5000000.0,1000000.0,10000000.0,500000000.0,5000000.0,5000000.0,500000000.0,5000000.0,1000000.0,1000000.0,500000000.0,1000000.0,1000000.0,1000000.0,1000000.0,500000000.0,1000000.0,500000000.0,1000000.0,1000000.0,1000000.0,1000000.0,10000000.0,10000000.0,100000000.0,50000000.0,50000000.0,50000000.0,10000000.0,50000000.0,10000000.0,10000000.0,10000000.0,5000000.0,10000000.0,5000000.0,50000000.0,10000000.0,50000000.0,10000000.0,50000000.0,50000000.0,10000000.0,10000000.0,10000000.0,10000000.0,10000000.0,10000000.0,5000000.0,10000000.0,10000000.0,10000000.0,50000000.0,50000000.0,10000000.0,10000000.0,10000000.0,10000000.0,10000000.0,10000000.0,10000000.0,5000000.0,10000000.0,10000000.0,10000000.0,10000000.0,10000000.0,5000000.0,10000000.0,10000000.0,5000000.0,10000000.0,10000000.0,1000000.0,10000000.0,10000000.0,1000000.0,5000000.0,10000000.0,10000000.0,5000000.0,10000000.0,5000000.0,10000000.0,10000000.0,10000000.0,10000000.0,1000000.0,10000000.0,10000000.0,10000000.0,1000000.0,1000000.0,5000000.0,10000000.0,10000000.0,5000000.0,5000000.0,5000000.0,1000000.0,1000000.0,5000000.0,1000000.0,5000000.0,10000000.0,10000000.0,1000000.0,5000000.0,1000000.0,5000000.0,5000000.0,1000000.0,10000000.0,10000000.0,10000000.0,5000000.0,1000000.0,1000000.0,10000000.0,1000000.0,5000000.0,1000000.0,1000000.0,10000000.0,5000000.0,10000000.0],\"x0\":\" \",\"xaxis\":\"x\",\"y0\":\" \",\"yaxis\":\"y\"}],                        {\"boxmode\":\"group\",\"legend\":{\"tracegroupgap\":0},\"margin\":{\"t\":60},\"template\":{\"data\":{\"bar\":[{\"error_x\":{\"color\":\"#2a3f5f\"},\"error_y\":{\"color\":\"#2a3f5f\"},\"marker\":{\"line\":{\"color\":\"#E5ECF6\",\"width\":0.5},\"pattern\":{\"fillmode\":\"overlay\",\"size\":10,\"solidity\":0.2}},\"type\":\"bar\"}],\"barpolar\":[{\"marker\":{\"line\":{\"color\":\"#E5ECF6\",\"width\":0.5},\"pattern\":{\"fillmode\":\"overlay\",\"size\":10,\"solidity\":0.2}},\"type\":\"barpolar\"}],\"carpet\":[{\"aaxis\":{\"endlinecolor\":\"#2a3f5f\",\"gridcolor\":\"white\",\"linecolor\":\"white\",\"minorgridcolor\":\"white\",\"startlinecolor\":\"#2a3f5f\"},\"baxis\":{\"endlinecolor\":\"#2a3f5f\",\"gridcolor\":\"white\",\"linecolor\":\"white\",\"minorgridcolor\":\"white\",\"startlinecolor\":\"#2a3f5f\"},\"type\":\"carpet\"}],\"choropleth\":[{\"colorbar\":{\"outlinewidth\":0,\"ticks\":\"\"},\"type\":\"choropleth\"}],\"contour\":[{\"colorbar\":{\"outlinewidth\":0,\"ticks\":\"\"},\"colorscale\":[[0.0,\"#0d0887\"],[0.1111111111111111,\"#46039f\"],[0.2222222222222222,\"#7201a8\"],[0.3333333333333333,\"#9c179e\"],[0.4444444444444444,\"#bd3786\"],[0.5555555555555556,\"#d8576b\"],[0.6666666666666666,\"#ed7953\"],[0.7777777777777778,\"#fb9f3a\"],[0.8888888888888888,\"#fdca26\"],[1.0,\"#f0f921\"]],\"type\":\"contour\"}],\"contourcarpet\":[{\"colorbar\":{\"outlinewidth\":0,\"ticks\":\"\"},\"type\":\"contourcarpet\"}],\"heatmap\":[{\"colorbar\":{\"outlinewidth\":0,\"ticks\":\"\"},\"colorscale\":[[0.0,\"#0d0887\"],[0.1111111111111111,\"#46039f\"],[0.2222222222222222,\"#7201a8\"],[0.3333333333333333,\"#9c179e\"],[0.4444444444444444,\"#bd3786\"],[0.5555555555555556,\"#d8576b\"],[0.6666666666666666,\"#ed7953\"],[0.7777777777777778,\"#fb9f3a\"],[0.8888888888888888,\"#fdca26\"],[1.0,\"#f0f921\"]],\"type\":\"heatmap\"}],\"heatmapgl\":[{\"colorbar\":{\"outlinewidth\":0,\"ticks\":\"\"},\"colorscale\":[[0.0,\"#0d0887\"],[0.1111111111111111,\"#46039f\"],[0.2222222222222222,\"#7201a8\"],[0.3333333333333333,\"#9c179e\"],[0.4444444444444444,\"#bd3786\"],[0.5555555555555556,\"#d8576b\"],[0.6666666666666666,\"#ed7953\"],[0.7777777777777778,\"#fb9f3a\"],[0.8888888888888888,\"#fdca26\"],[1.0,\"#f0f921\"]],\"type\":\"heatmapgl\"}],\"histogram\":[{\"marker\":{\"pattern\":{\"fillmode\":\"overlay\",\"size\":10,\"solidity\":0.2}},\"type\":\"histogram\"}],\"histogram2d\":[{\"colorbar\":{\"outlinewidth\":0,\"ticks\":\"\"},\"colorscale\":[[0.0,\"#0d0887\"],[0.1111111111111111,\"#46039f\"],[0.2222222222222222,\"#7201a8\"],[0.3333333333333333,\"#9c179e\"],[0.4444444444444444,\"#bd3786\"],[0.5555555555555556,\"#d8576b\"],[0.6666666666666666,\"#ed7953\"],[0.7777777777777778,\"#fb9f3a\"],[0.8888888888888888,\"#fdca26\"],[1.0,\"#f0f921\"]],\"type\":\"histogram2d\"}],\"histogram2dcontour\":[{\"colorbar\":{\"outlinewidth\":0,\"ticks\":\"\"},\"colorscale\":[[0.0,\"#0d0887\"],[0.1111111111111111,\"#46039f\"],[0.2222222222222222,\"#7201a8\"],[0.3333333333333333,\"#9c179e\"],[0.4444444444444444,\"#bd3786\"],[0.5555555555555556,\"#d8576b\"],[0.6666666666666666,\"#ed7953\"],[0.7777777777777778,\"#fb9f3a\"],[0.8888888888888888,\"#fdca26\"],[1.0,\"#f0f921\"]],\"type\":\"histogram2dcontour\"}],\"mesh3d\":[{\"colorbar\":{\"outlinewidth\":0,\"ticks\":\"\"},\"type\":\"mesh3d\"}],\"parcoords\":[{\"line\":{\"colorbar\":{\"outlinewidth\":0,\"ticks\":\"\"}},\"type\":\"parcoords\"}],\"pie\":[{\"automargin\":true,\"type\":\"pie\"}],\"scatter\":[{\"marker\":{\"colorbar\":{\"outlinewidth\":0,\"ticks\":\"\"}},\"type\":\"scatter\"}],\"scatter3d\":[{\"line\":{\"colorbar\":{\"outlinewidth\":0,\"ticks\":\"\"}},\"marker\":{\"colorbar\":{\"outlinewidth\":0,\"ticks\":\"\"}},\"type\":\"scatter3d\"}],\"scattercarpet\":[{\"marker\":{\"colorbar\":{\"outlinewidth\":0,\"ticks\":\"\"}},\"type\":\"scattercarpet\"}],\"scattergeo\":[{\"marker\":{\"colorbar\":{\"outlinewidth\":0,\"ticks\":\"\"}},\"type\":\"scattergeo\"}],\"scattergl\":[{\"marker\":{\"colorbar\":{\"outlinewidth\":0,\"ticks\":\"\"}},\"type\":\"scattergl\"}],\"scattermapbox\":[{\"marker\":{\"colorbar\":{\"outlinewidth\":0,\"ticks\":\"\"}},\"type\":\"scattermapbox\"}],\"scatterpolar\":[{\"marker\":{\"colorbar\":{\"outlinewidth\":0,\"ticks\":\"\"}},\"type\":\"scatterpolar\"}],\"scatterpolargl\":[{\"marker\":{\"colorbar\":{\"outlinewidth\":0,\"ticks\":\"\"}},\"type\":\"scatterpolargl\"}],\"scatterternary\":[{\"marker\":{\"colorbar\":{\"outlinewidth\":0,\"ticks\":\"\"}},\"type\":\"scatterternary\"}],\"surface\":[{\"colorbar\":{\"outlinewidth\":0,\"ticks\":\"\"},\"colorscale\":[[0.0,\"#0d0887\"],[0.1111111111111111,\"#46039f\"],[0.2222222222222222,\"#7201a8\"],[0.3333333333333333,\"#9c179e\"],[0.4444444444444444,\"#bd3786\"],[0.5555555555555556,\"#d8576b\"],[0.6666666666666666,\"#ed7953\"],[0.7777777777777778,\"#fb9f3a\"],[0.8888888888888888,\"#fdca26\"],[1.0,\"#f0f921\"]],\"type\":\"surface\"}],\"table\":[{\"cells\":{\"fill\":{\"color\":\"#EBF0F8\"},\"line\":{\"color\":\"white\"}},\"header\":{\"fill\":{\"color\":\"#C8D4E3\"},\"line\":{\"color\":\"white\"}},\"type\":\"table\"}]},\"layout\":{\"annotationdefaults\":{\"arrowcolor\":\"#2a3f5f\",\"arrowhead\":0,\"arrowwidth\":1},\"autotypenumbers\":\"strict\",\"coloraxis\":{\"colorbar\":{\"outlinewidth\":0,\"ticks\":\"\"}},\"colorscale\":{\"diverging\":[[0,\"#8e0152\"],[0.1,\"#c51b7d\"],[0.2,\"#de77ae\"],[0.3,\"#f1b6da\"],[0.4,\"#fde0ef\"],[0.5,\"#f7f7f7\"],[0.6,\"#e6f5d0\"],[0.7,\"#b8e186\"],[0.8,\"#7fbc41\"],[0.9,\"#4d9221\"],[1,\"#276419\"]],\"sequential\":[[0.0,\"#0d0887\"],[0.1111111111111111,\"#46039f\"],[0.2222222222222222,\"#7201a8\"],[0.3333333333333333,\"#9c179e\"],[0.4444444444444444,\"#bd3786\"],[0.5555555555555556,\"#d8576b\"],[0.6666666666666666,\"#ed7953\"],[0.7777777777777778,\"#fb9f3a\"],[0.8888888888888888,\"#fdca26\"],[1.0,\"#f0f921\"]],\"sequentialminus\":[[0.0,\"#0d0887\"],[0.1111111111111111,\"#46039f\"],[0.2222222222222222,\"#7201a8\"],[0.3333333333333333,\"#9c179e\"],[0.4444444444444444,\"#bd3786\"],[0.5555555555555556,\"#d8576b\"],[0.6666666666666666,\"#ed7953\"],[0.7777777777777778,\"#fb9f3a\"],[0.8888888888888888,\"#fdca26\"],[1.0,\"#f0f921\"]]},\"colorway\":[\"#636efa\",\"#EF553B\",\"#00cc96\",\"#ab63fa\",\"#FFA15A\",\"#19d3f3\",\"#FF6692\",\"#B6E880\",\"#FF97FF\",\"#FECB52\"],\"font\":{\"color\":\"#2a3f5f\"},\"geo\":{\"bgcolor\":\"white\",\"lakecolor\":\"white\",\"landcolor\":\"#E5ECF6\",\"showlakes\":true,\"showland\":true,\"subunitcolor\":\"white\"},\"hoverlabel\":{\"align\":\"left\"},\"hovermode\":\"closest\",\"mapbox\":{\"style\":\"light\"},\"paper_bgcolor\":\"white\",\"plot_bgcolor\":\"#E5ECF6\",\"polar\":{\"angularaxis\":{\"gridcolor\":\"white\",\"linecolor\":\"white\",\"ticks\":\"\"},\"bgcolor\":\"#E5ECF6\",\"radialaxis\":{\"gridcolor\":\"white\",\"linecolor\":\"white\",\"ticks\":\"\"}},\"scene\":{\"xaxis\":{\"backgroundcolor\":\"#E5ECF6\",\"gridcolor\":\"white\",\"gridwidth\":2,\"linecolor\":\"white\",\"showbackground\":true,\"ticks\":\"\",\"zerolinecolor\":\"white\"},\"yaxis\":{\"backgroundcolor\":\"#E5ECF6\",\"gridcolor\":\"white\",\"gridwidth\":2,\"linecolor\":\"white\",\"showbackground\":true,\"ticks\":\"\",\"zerolinecolor\":\"white\"},\"zaxis\":{\"backgroundcolor\":\"#E5ECF6\",\"gridcolor\":\"white\",\"gridwidth\":2,\"linecolor\":\"white\",\"showbackground\":true,\"ticks\":\"\",\"zerolinecolor\":\"white\"}},\"shapedefaults\":{\"line\":{\"color\":\"#2a3f5f\"}},\"ternary\":{\"aaxis\":{\"gridcolor\":\"white\",\"linecolor\":\"white\",\"ticks\":\"\"},\"baxis\":{\"gridcolor\":\"white\",\"linecolor\":\"white\",\"ticks\":\"\"},\"bgcolor\":\"#E5ECF6\",\"caxis\":{\"gridcolor\":\"white\",\"linecolor\":\"white\",\"ticks\":\"\"}},\"title\":{\"x\":0.05},\"xaxis\":{\"automargin\":true,\"gridcolor\":\"white\",\"linecolor\":\"white\",\"ticks\":\"\",\"title\":{\"standoff\":15},\"zerolinecolor\":\"white\",\"zerolinewidth\":2},\"yaxis\":{\"automargin\":true,\"gridcolor\":\"white\",\"linecolor\":\"white\",\"ticks\":\"\",\"title\":{\"standoff\":15},\"zerolinecolor\":\"white\",\"zerolinewidth\":2}}},\"xaxis\":{\"anchor\":\"y\",\"domain\":[0.0,1.0],\"title\":{\"text\":\"installs_in_million\"}},\"yaxis\":{\"anchor\":\"x\",\"domain\":[0.0,1.0]}},                        {\"responsive\": true}                    ).then(function(){\n                            \nvar gd = document.getElementById('11a457dd-1427-4789-b2d4-8ac14afd6140');\nvar x = new MutationObserver(function (mutations, observer) {{\n        var display = window.getComputedStyle(gd).display;\n        if (!display || display === 'none') {{\n            console.log([gd, 'removed!']);\n            Plotly.purge(gd);\n            observer.disconnect();\n        }}\n}});\n\n// Listen for the removal of the full notebook cells\nvar notebookContainer = gd.closest('#notebook-container');\nif (notebookContainer) {{\n    x.observe(notebookContainer, {childList: true});\n}}\n\n// Listen for the clearing of the current output cell\nvar outputEl = gd.closest('.output');\nif (outputEl) {{\n    x.observe(outputEl, {childList: true});\n}}\n\n                        })                };                            </script>        </div>\n</body>\n</html>"
     },
     "metadata": {},
     "output_type": "display_data"
    }
   ]
  },
  {
   "cell_type": "markdown",
   "source": "- Hemos sesgado correctamente la distribución con posibles valores atípicos.\nCandy Crush Saga **con un billones de instalaciones** y Crazy Quiz **con 500 millones de instalaciones** que se muestran en el diagrama de caja.\n- Sería una buena idea verificar siempre con el conjunto de datos, en el conjunto de datos tenemos 2 recuentos de 1 un billones de instalaciones y 12 recuentos de 500 millones de instalaciones. Y boxplot nos muestra un ejemplo de este número de instalaciones.\n- El tamaño de los valores atípicos definitivamente afecta el valor **medio** y las **distribuciones**.\n- La diferencia entre el valor medio y el valor medio es realmente enorme (media = 29,1 millones, mediana = 10 millones)\n- Como se mencionó anteriormente, sería una buena idea utilizar un **enfoque basado en la mediana**. ",
   "metadata": {
    "tags": [],
    "cell_id": "00024-1715d61f-296a-4deb-bb25-e347e6a7b836",
    "deepnote_cell_type": "markdown"
   }
  },
  {
   "cell_type": "markdown",
   "source": "## Juegos gratis",
   "metadata": {
    "tags": [],
    "cell_id": "00025-c0e3cbb1-6702-417e-9eb3-206f86ad2034",
    "deepnote_cell_type": "markdown"
   }
  },
  {
   "cell_type": "code",
   "metadata": {
    "tags": [],
    "cell_id": "00026-9290736b-481a-43c5-91d6-d8467a3a5f58",
    "deepnote_to_be_reexecuted": false,
    "source_hash": "af701c8b",
    "execution_start": 1626919035990,
    "execution_millis": 3511975,
    "deepnote_cell_type": "code"
   },
   "source": "print(df['paid'].value_counts(normalize=True))\nprint('-'*60)\nprint(df['paid'].value_counts())",
   "execution_count": 17,
   "outputs": [
    {
     "name": "stdout",
     "text": "False    0.995954\nTrue     0.004046\nName: paid, dtype: float64\n------------------------------------------------------------\nFalse    1723\nTrue        7\nName: paid, dtype: int64\n",
     "output_type": "stream"
    }
   ]
  },
  {
   "cell_type": "code",
   "metadata": {
    "tags": [],
    "cell_id": "00027-0a4fc578-d55e-459a-90cf-0e8ac4ac91d1",
    "deepnote_to_be_reexecuted": false,
    "source_hash": "38b3b2cd",
    "execution_start": 1626919035999,
    "execution_millis": 66,
    "deepnote_cell_type": "code"
   },
   "source": "paid_free = df['paid'].value_counts()\nlabel = ['Gratis','Paga']\nfig = px.pie(df, values=paid_free.values, names=label, title='Juegos Gratis y de Pago')\nfig.update_traces(textposition='inside', textinfo='percent+label')\nfig.show()",
   "execution_count": 18,
   "outputs": [
    {
     "data": {
      "text/html": "<html>\n<head><meta charset=\"utf-8\" /></head>\n<body>\n    <div>            <script src=\"https://cdnjs.cloudflare.com/ajax/libs/mathjax/2.7.5/MathJax.js?config=TeX-AMS-MML_SVG\"></script><script type=\"text/javascript\">if (window.MathJax) {MathJax.Hub.Config({SVG: {font: \"STIX-Web\"}});}</script>                <script type=\"text/javascript\">window.PlotlyConfig = {MathJaxConfig: 'local'};</script>\n        <script src=\"https://cdn.plot.ly/plotly-2.2.0.min.js\"></script>                <div id=\"d12ff472-5fb4-4d33-ac38-d507dbb48d91\" class=\"plotly-graph-div\" style=\"height:525px; width:100%;\"></div>            <script type=\"text/javascript\">                                    window.PLOTLYENV=window.PLOTLYENV || {};                                    if (document.getElementById(\"d12ff472-5fb4-4d33-ac38-d507dbb48d91\")) {                    Plotly.newPlot(                        \"d12ff472-5fb4-4d33-ac38-d507dbb48d91\",                        [{\"domain\":{\"x\":[0.0,1.0],\"y\":[0.0,1.0]},\"hovertemplate\":\"label=%{label}<br>value=%{value}<extra></extra>\",\"labels\":[\"Gratis\",\"Paga\"],\"legendgroup\":\"\",\"name\":\"\",\"showlegend\":true,\"textinfo\":\"percent+label\",\"textposition\":\"inside\",\"type\":\"pie\",\"values\":[1723,7]}],                        {\"legend\":{\"tracegroupgap\":0},\"template\":{\"data\":{\"bar\":[{\"error_x\":{\"color\":\"#2a3f5f\"},\"error_y\":{\"color\":\"#2a3f5f\"},\"marker\":{\"line\":{\"color\":\"#E5ECF6\",\"width\":0.5},\"pattern\":{\"fillmode\":\"overlay\",\"size\":10,\"solidity\":0.2}},\"type\":\"bar\"}],\"barpolar\":[{\"marker\":{\"line\":{\"color\":\"#E5ECF6\",\"width\":0.5},\"pattern\":{\"fillmode\":\"overlay\",\"size\":10,\"solidity\":0.2}},\"type\":\"barpolar\"}],\"carpet\":[{\"aaxis\":{\"endlinecolor\":\"#2a3f5f\",\"gridcolor\":\"white\",\"linecolor\":\"white\",\"minorgridcolor\":\"white\",\"startlinecolor\":\"#2a3f5f\"},\"baxis\":{\"endlinecolor\":\"#2a3f5f\",\"gridcolor\":\"white\",\"linecolor\":\"white\",\"minorgridcolor\":\"white\",\"startlinecolor\":\"#2a3f5f\"},\"type\":\"carpet\"}],\"choropleth\":[{\"colorbar\":{\"outlinewidth\":0,\"ticks\":\"\"},\"type\":\"choropleth\"}],\"contour\":[{\"colorbar\":{\"outlinewidth\":0,\"ticks\":\"\"},\"colorscale\":[[0.0,\"#0d0887\"],[0.1111111111111111,\"#46039f\"],[0.2222222222222222,\"#7201a8\"],[0.3333333333333333,\"#9c179e\"],[0.4444444444444444,\"#bd3786\"],[0.5555555555555556,\"#d8576b\"],[0.6666666666666666,\"#ed7953\"],[0.7777777777777778,\"#fb9f3a\"],[0.8888888888888888,\"#fdca26\"],[1.0,\"#f0f921\"]],\"type\":\"contour\"}],\"contourcarpet\":[{\"colorbar\":{\"outlinewidth\":0,\"ticks\":\"\"},\"type\":\"contourcarpet\"}],\"heatmap\":[{\"colorbar\":{\"outlinewidth\":0,\"ticks\":\"\"},\"colorscale\":[[0.0,\"#0d0887\"],[0.1111111111111111,\"#46039f\"],[0.2222222222222222,\"#7201a8\"],[0.3333333333333333,\"#9c179e\"],[0.4444444444444444,\"#bd3786\"],[0.5555555555555556,\"#d8576b\"],[0.6666666666666666,\"#ed7953\"],[0.7777777777777778,\"#fb9f3a\"],[0.8888888888888888,\"#fdca26\"],[1.0,\"#f0f921\"]],\"type\":\"heatmap\"}],\"heatmapgl\":[{\"colorbar\":{\"outlinewidth\":0,\"ticks\":\"\"},\"colorscale\":[[0.0,\"#0d0887\"],[0.1111111111111111,\"#46039f\"],[0.2222222222222222,\"#7201a8\"],[0.3333333333333333,\"#9c179e\"],[0.4444444444444444,\"#bd3786\"],[0.5555555555555556,\"#d8576b\"],[0.6666666666666666,\"#ed7953\"],[0.7777777777777778,\"#fb9f3a\"],[0.8888888888888888,\"#fdca26\"],[1.0,\"#f0f921\"]],\"type\":\"heatmapgl\"}],\"histogram\":[{\"marker\":{\"pattern\":{\"fillmode\":\"overlay\",\"size\":10,\"solidity\":0.2}},\"type\":\"histogram\"}],\"histogram2d\":[{\"colorbar\":{\"outlinewidth\":0,\"ticks\":\"\"},\"colorscale\":[[0.0,\"#0d0887\"],[0.1111111111111111,\"#46039f\"],[0.2222222222222222,\"#7201a8\"],[0.3333333333333333,\"#9c179e\"],[0.4444444444444444,\"#bd3786\"],[0.5555555555555556,\"#d8576b\"],[0.6666666666666666,\"#ed7953\"],[0.7777777777777778,\"#fb9f3a\"],[0.8888888888888888,\"#fdca26\"],[1.0,\"#f0f921\"]],\"type\":\"histogram2d\"}],\"histogram2dcontour\":[{\"colorbar\":{\"outlinewidth\":0,\"ticks\":\"\"},\"colorscale\":[[0.0,\"#0d0887\"],[0.1111111111111111,\"#46039f\"],[0.2222222222222222,\"#7201a8\"],[0.3333333333333333,\"#9c179e\"],[0.4444444444444444,\"#bd3786\"],[0.5555555555555556,\"#d8576b\"],[0.6666666666666666,\"#ed7953\"],[0.7777777777777778,\"#fb9f3a\"],[0.8888888888888888,\"#fdca26\"],[1.0,\"#f0f921\"]],\"type\":\"histogram2dcontour\"}],\"mesh3d\":[{\"colorbar\":{\"outlinewidth\":0,\"ticks\":\"\"},\"type\":\"mesh3d\"}],\"parcoords\":[{\"line\":{\"colorbar\":{\"outlinewidth\":0,\"ticks\":\"\"}},\"type\":\"parcoords\"}],\"pie\":[{\"automargin\":true,\"type\":\"pie\"}],\"scatter\":[{\"marker\":{\"colorbar\":{\"outlinewidth\":0,\"ticks\":\"\"}},\"type\":\"scatter\"}],\"scatter3d\":[{\"line\":{\"colorbar\":{\"outlinewidth\":0,\"ticks\":\"\"}},\"marker\":{\"colorbar\":{\"outlinewidth\":0,\"ticks\":\"\"}},\"type\":\"scatter3d\"}],\"scattercarpet\":[{\"marker\":{\"colorbar\":{\"outlinewidth\":0,\"ticks\":\"\"}},\"type\":\"scattercarpet\"}],\"scattergeo\":[{\"marker\":{\"colorbar\":{\"outlinewidth\":0,\"ticks\":\"\"}},\"type\":\"scattergeo\"}],\"scattergl\":[{\"marker\":{\"colorbar\":{\"outlinewidth\":0,\"ticks\":\"\"}},\"type\":\"scattergl\"}],\"scattermapbox\":[{\"marker\":{\"colorbar\":{\"outlinewidth\":0,\"ticks\":\"\"}},\"type\":\"scattermapbox\"}],\"scatterpolar\":[{\"marker\":{\"colorbar\":{\"outlinewidth\":0,\"ticks\":\"\"}},\"type\":\"scatterpolar\"}],\"scatterpolargl\":[{\"marker\":{\"colorbar\":{\"outlinewidth\":0,\"ticks\":\"\"}},\"type\":\"scatterpolargl\"}],\"scatterternary\":[{\"marker\":{\"colorbar\":{\"outlinewidth\":0,\"ticks\":\"\"}},\"type\":\"scatterternary\"}],\"surface\":[{\"colorbar\":{\"outlinewidth\":0,\"ticks\":\"\"},\"colorscale\":[[0.0,\"#0d0887\"],[0.1111111111111111,\"#46039f\"],[0.2222222222222222,\"#7201a8\"],[0.3333333333333333,\"#9c179e\"],[0.4444444444444444,\"#bd3786\"],[0.5555555555555556,\"#d8576b\"],[0.6666666666666666,\"#ed7953\"],[0.7777777777777778,\"#fb9f3a\"],[0.8888888888888888,\"#fdca26\"],[1.0,\"#f0f921\"]],\"type\":\"surface\"}],\"table\":[{\"cells\":{\"fill\":{\"color\":\"#EBF0F8\"},\"line\":{\"color\":\"white\"}},\"header\":{\"fill\":{\"color\":\"#C8D4E3\"},\"line\":{\"color\":\"white\"}},\"type\":\"table\"}]},\"layout\":{\"annotationdefaults\":{\"arrowcolor\":\"#2a3f5f\",\"arrowhead\":0,\"arrowwidth\":1},\"autotypenumbers\":\"strict\",\"coloraxis\":{\"colorbar\":{\"outlinewidth\":0,\"ticks\":\"\"}},\"colorscale\":{\"diverging\":[[0,\"#8e0152\"],[0.1,\"#c51b7d\"],[0.2,\"#de77ae\"],[0.3,\"#f1b6da\"],[0.4,\"#fde0ef\"],[0.5,\"#f7f7f7\"],[0.6,\"#e6f5d0\"],[0.7,\"#b8e186\"],[0.8,\"#7fbc41\"],[0.9,\"#4d9221\"],[1,\"#276419\"]],\"sequential\":[[0.0,\"#0d0887\"],[0.1111111111111111,\"#46039f\"],[0.2222222222222222,\"#7201a8\"],[0.3333333333333333,\"#9c179e\"],[0.4444444444444444,\"#bd3786\"],[0.5555555555555556,\"#d8576b\"],[0.6666666666666666,\"#ed7953\"],[0.7777777777777778,\"#fb9f3a\"],[0.8888888888888888,\"#fdca26\"],[1.0,\"#f0f921\"]],\"sequentialminus\":[[0.0,\"#0d0887\"],[0.1111111111111111,\"#46039f\"],[0.2222222222222222,\"#7201a8\"],[0.3333333333333333,\"#9c179e\"],[0.4444444444444444,\"#bd3786\"],[0.5555555555555556,\"#d8576b\"],[0.6666666666666666,\"#ed7953\"],[0.7777777777777778,\"#fb9f3a\"],[0.8888888888888888,\"#fdca26\"],[1.0,\"#f0f921\"]]},\"colorway\":[\"#636efa\",\"#EF553B\",\"#00cc96\",\"#ab63fa\",\"#FFA15A\",\"#19d3f3\",\"#FF6692\",\"#B6E880\",\"#FF97FF\",\"#FECB52\"],\"font\":{\"color\":\"#2a3f5f\"},\"geo\":{\"bgcolor\":\"white\",\"lakecolor\":\"white\",\"landcolor\":\"#E5ECF6\",\"showlakes\":true,\"showland\":true,\"subunitcolor\":\"white\"},\"hoverlabel\":{\"align\":\"left\"},\"hovermode\":\"closest\",\"mapbox\":{\"style\":\"light\"},\"paper_bgcolor\":\"white\",\"plot_bgcolor\":\"#E5ECF6\",\"polar\":{\"angularaxis\":{\"gridcolor\":\"white\",\"linecolor\":\"white\",\"ticks\":\"\"},\"bgcolor\":\"#E5ECF6\",\"radialaxis\":{\"gridcolor\":\"white\",\"linecolor\":\"white\",\"ticks\":\"\"}},\"scene\":{\"xaxis\":{\"backgroundcolor\":\"#E5ECF6\",\"gridcolor\":\"white\",\"gridwidth\":2,\"linecolor\":\"white\",\"showbackground\":true,\"ticks\":\"\",\"zerolinecolor\":\"white\"},\"yaxis\":{\"backgroundcolor\":\"#E5ECF6\",\"gridcolor\":\"white\",\"gridwidth\":2,\"linecolor\":\"white\",\"showbackground\":true,\"ticks\":\"\",\"zerolinecolor\":\"white\"},\"zaxis\":{\"backgroundcolor\":\"#E5ECF6\",\"gridcolor\":\"white\",\"gridwidth\":2,\"linecolor\":\"white\",\"showbackground\":true,\"ticks\":\"\",\"zerolinecolor\":\"white\"}},\"shapedefaults\":{\"line\":{\"color\":\"#2a3f5f\"}},\"ternary\":{\"aaxis\":{\"gridcolor\":\"white\",\"linecolor\":\"white\",\"ticks\":\"\"},\"baxis\":{\"gridcolor\":\"white\",\"linecolor\":\"white\",\"ticks\":\"\"},\"bgcolor\":\"#E5ECF6\",\"caxis\":{\"gridcolor\":\"white\",\"linecolor\":\"white\",\"ticks\":\"\"}},\"title\":{\"x\":0.05},\"xaxis\":{\"automargin\":true,\"gridcolor\":\"white\",\"linecolor\":\"white\",\"ticks\":\"\",\"title\":{\"standoff\":15},\"zerolinecolor\":\"white\",\"zerolinewidth\":2},\"yaxis\":{\"automargin\":true,\"gridcolor\":\"white\",\"linecolor\":\"white\",\"ticks\":\"\",\"title\":{\"standoff\":15},\"zerolinecolor\":\"white\",\"zerolinewidth\":2}}},\"title\":{\"text\":\"Juegos Gratis y de Pago\"}},                        {\"responsive\": true}                    ).then(function(){\n                            \nvar gd = document.getElementById('d12ff472-5fb4-4d33-ac38-d507dbb48d91');\nvar x = new MutationObserver(function (mutations, observer) {{\n        var display = window.getComputedStyle(gd).display;\n        if (!display || display === 'none') {{\n            console.log([gd, 'removed!']);\n            Plotly.purge(gd);\n            observer.disconnect();\n        }}\n}});\n\n// Listen for the removal of the full notebook cells\nvar notebookContainer = gd.closest('#notebook-container');\nif (notebookContainer) {{\n    x.observe(notebookContainer, {childList: true});\n}}\n\n// Listen for the clearing of the current output cell\nvar outputEl = gd.closest('.output');\nif (outputEl) {{\n    x.observe(outputEl, {childList: true});\n}}\n\n                        })                };                            </script>        </div>\n</body>\n</html>"
     },
     "metadata": {},
     "output_type": "display_data"
    }
   ]
  },
  {
   "cell_type": "markdown",
   "source": "- Casi todos los juegos (excepto 7 de 1723) en este conjunto de datos son juegos gratuitos\n- Bien, después de este punto, podemos profundizar en el conjunto de datos. ",
   "metadata": {
    "tags": [],
    "cell_id": "00028-cbfbc1d5-259f-408b-ae25-8d393af82441",
    "deepnote_cell_type": "markdown"
   }
  },
  {
   "cell_type": "markdown",
   "source": "## Total Rating por Categoria",
   "metadata": {
    "tags": [],
    "cell_id": "00029-5e8d829f-a2aa-4bdb-a3f1-8696e3ddc3fa",
    "deepnote_cell_type": "markdown"
   }
  },
  {
   "cell_type": "code",
   "metadata": {
    "tags": [],
    "cell_id": "00030-a8022673-126d-4537-be36-e433dfa0e5cb",
    "deepnote_to_be_reexecuted": false,
    "source_hash": "38c92f81",
    "execution_start": 1626919036074,
    "execution_millis": 29,
    "deepnote_cell_type": "code"
   },
   "source": "total_rating_by_category = df.groupby('category')['total_ratings'].mean()\ntotal_rating_by_category",
   "execution_count": 19,
   "outputs": [
    {
     "output_type": "execute_result",
     "execution_count": 19,
     "data": {
      "text/plain": "category\nGAME ACTION          4.011344e+06\nGAME ADVENTURE       8.935617e+05\nGAME ARCADE          1.793780e+06\nGAME BOARD           4.457431e+05\nGAME CARD            3.326041e+05\nGAME CASINO          3.619031e+05\nGAME CASUAL          2.470866e+06\nGAME EDUCATIONAL     1.529804e+05\nGAME MUSIC           2.163020e+05\nGAME PUZZLE          9.466929e+05\nGAME RACING          1.139027e+06\nGAME ROLE PLAYING    7.087648e+05\nGAME SIMULATION      9.341417e+05\nGAME SPORTS          1.353829e+06\nGAME STRATEGY        1.856570e+06\nGAME TRIVIA          2.982217e+05\nGAME WORD            3.943603e+05\nName: total_ratings, dtype: float64"
     },
     "metadata": {}
    }
   ]
  },
  {
   "cell_type": "code",
   "metadata": {
    "tags": [],
    "cell_id": "00031-12347479-5321-45fb-bf35-72139b96fa4a",
    "deepnote_to_be_reexecuted": false,
    "source_hash": "d2faccc3",
    "execution_start": 1626919036105,
    "execution_millis": 108,
    "deepnote_cell_type": "code"
   },
   "source": "fig = px.bar(total_rating_by_category, x=total_rating_by_category.index, y=total_rating_by_category.values, labels={'y':'Total Ratings'})\nfig.update_layout(xaxis = {'categoryorder':'total descending'})\nfig.show()",
   "execution_count": 20,
   "outputs": [
    {
     "data": {
      "text/html": "<html>\n<head><meta charset=\"utf-8\" /></head>\n<body>\n    <div>            <script src=\"https://cdnjs.cloudflare.com/ajax/libs/mathjax/2.7.5/MathJax.js?config=TeX-AMS-MML_SVG\"></script><script type=\"text/javascript\">if (window.MathJax) {MathJax.Hub.Config({SVG: {font: \"STIX-Web\"}});}</script>                <script type=\"text/javascript\">window.PlotlyConfig = {MathJaxConfig: 'local'};</script>\n        <script src=\"https://cdn.plot.ly/plotly-2.2.0.min.js\"></script>                <div id=\"dfc9157c-c716-4a7c-b633-b1745e285546\" class=\"plotly-graph-div\" style=\"height:525px; width:100%;\"></div>            <script type=\"text/javascript\">                                    window.PLOTLYENV=window.PLOTLYENV || {};                                    if (document.getElementById(\"dfc9157c-c716-4a7c-b633-b1745e285546\")) {                    Plotly.newPlot(                        \"dfc9157c-c716-4a7c-b633-b1745e285546\",                        [{\"alignmentgroup\":\"True\",\"hovertemplate\":\"category=%{x}<br>Total Ratings=%{y}<extra></extra>\",\"legendgroup\":\"\",\"marker\":{\"color\":\"#636efa\",\"pattern\":{\"shape\":\"\"}},\"name\":\"\",\"offsetgroup\":\"\",\"orientation\":\"v\",\"showlegend\":false,\"textposition\":\"auto\",\"type\":\"bar\",\"x\":[\"GAME ACTION\",\"GAME ADVENTURE\",\"GAME ARCADE\",\"GAME BOARD\",\"GAME CARD\",\"GAME CASINO\",\"GAME CASUAL\",\"GAME EDUCATIONAL\",\"GAME MUSIC\",\"GAME PUZZLE\",\"GAME RACING\",\"GAME ROLE PLAYING\",\"GAME SIMULATION\",\"GAME SPORTS\",\"GAME STRATEGY\",\"GAME TRIVIA\",\"GAME WORD\"],\"xaxis\":\"x\",\"y\":[4011343.6,893561.74,1793779.91,445743.07,332604.09523809527,361903.09,2470866.04,152980.35,216302.02,946692.92,1139026.8,708764.83,934141.65,1353828.82,1856569.75,298221.72,394360.32692307694],\"yaxis\":\"y\"}],                        {\"barmode\":\"relative\",\"legend\":{\"tracegroupgap\":0},\"margin\":{\"t\":60},\"template\":{\"data\":{\"bar\":[{\"error_x\":{\"color\":\"#2a3f5f\"},\"error_y\":{\"color\":\"#2a3f5f\"},\"marker\":{\"line\":{\"color\":\"#E5ECF6\",\"width\":0.5},\"pattern\":{\"fillmode\":\"overlay\",\"size\":10,\"solidity\":0.2}},\"type\":\"bar\"}],\"barpolar\":[{\"marker\":{\"line\":{\"color\":\"#E5ECF6\",\"width\":0.5},\"pattern\":{\"fillmode\":\"overlay\",\"size\":10,\"solidity\":0.2}},\"type\":\"barpolar\"}],\"carpet\":[{\"aaxis\":{\"endlinecolor\":\"#2a3f5f\",\"gridcolor\":\"white\",\"linecolor\":\"white\",\"minorgridcolor\":\"white\",\"startlinecolor\":\"#2a3f5f\"},\"baxis\":{\"endlinecolor\":\"#2a3f5f\",\"gridcolor\":\"white\",\"linecolor\":\"white\",\"minorgridcolor\":\"white\",\"startlinecolor\":\"#2a3f5f\"},\"type\":\"carpet\"}],\"choropleth\":[{\"colorbar\":{\"outlinewidth\":0,\"ticks\":\"\"},\"type\":\"choropleth\"}],\"contour\":[{\"colorbar\":{\"outlinewidth\":0,\"ticks\":\"\"},\"colorscale\":[[0.0,\"#0d0887\"],[0.1111111111111111,\"#46039f\"],[0.2222222222222222,\"#7201a8\"],[0.3333333333333333,\"#9c179e\"],[0.4444444444444444,\"#bd3786\"],[0.5555555555555556,\"#d8576b\"],[0.6666666666666666,\"#ed7953\"],[0.7777777777777778,\"#fb9f3a\"],[0.8888888888888888,\"#fdca26\"],[1.0,\"#f0f921\"]],\"type\":\"contour\"}],\"contourcarpet\":[{\"colorbar\":{\"outlinewidth\":0,\"ticks\":\"\"},\"type\":\"contourcarpet\"}],\"heatmap\":[{\"colorbar\":{\"outlinewidth\":0,\"ticks\":\"\"},\"colorscale\":[[0.0,\"#0d0887\"],[0.1111111111111111,\"#46039f\"],[0.2222222222222222,\"#7201a8\"],[0.3333333333333333,\"#9c179e\"],[0.4444444444444444,\"#bd3786\"],[0.5555555555555556,\"#d8576b\"],[0.6666666666666666,\"#ed7953\"],[0.7777777777777778,\"#fb9f3a\"],[0.8888888888888888,\"#fdca26\"],[1.0,\"#f0f921\"]],\"type\":\"heatmap\"}],\"heatmapgl\":[{\"colorbar\":{\"outlinewidth\":0,\"ticks\":\"\"},\"colorscale\":[[0.0,\"#0d0887\"],[0.1111111111111111,\"#46039f\"],[0.2222222222222222,\"#7201a8\"],[0.3333333333333333,\"#9c179e\"],[0.4444444444444444,\"#bd3786\"],[0.5555555555555556,\"#d8576b\"],[0.6666666666666666,\"#ed7953\"],[0.7777777777777778,\"#fb9f3a\"],[0.8888888888888888,\"#fdca26\"],[1.0,\"#f0f921\"]],\"type\":\"heatmapgl\"}],\"histogram\":[{\"marker\":{\"pattern\":{\"fillmode\":\"overlay\",\"size\":10,\"solidity\":0.2}},\"type\":\"histogram\"}],\"histogram2d\":[{\"colorbar\":{\"outlinewidth\":0,\"ticks\":\"\"},\"colorscale\":[[0.0,\"#0d0887\"],[0.1111111111111111,\"#46039f\"],[0.2222222222222222,\"#7201a8\"],[0.3333333333333333,\"#9c179e\"],[0.4444444444444444,\"#bd3786\"],[0.5555555555555556,\"#d8576b\"],[0.6666666666666666,\"#ed7953\"],[0.7777777777777778,\"#fb9f3a\"],[0.8888888888888888,\"#fdca26\"],[1.0,\"#f0f921\"]],\"type\":\"histogram2d\"}],\"histogram2dcontour\":[{\"colorbar\":{\"outlinewidth\":0,\"ticks\":\"\"},\"colorscale\":[[0.0,\"#0d0887\"],[0.1111111111111111,\"#46039f\"],[0.2222222222222222,\"#7201a8\"],[0.3333333333333333,\"#9c179e\"],[0.4444444444444444,\"#bd3786\"],[0.5555555555555556,\"#d8576b\"],[0.6666666666666666,\"#ed7953\"],[0.7777777777777778,\"#fb9f3a\"],[0.8888888888888888,\"#fdca26\"],[1.0,\"#f0f921\"]],\"type\":\"histogram2dcontour\"}],\"mesh3d\":[{\"colorbar\":{\"outlinewidth\":0,\"ticks\":\"\"},\"type\":\"mesh3d\"}],\"parcoords\":[{\"line\":{\"colorbar\":{\"outlinewidth\":0,\"ticks\":\"\"}},\"type\":\"parcoords\"}],\"pie\":[{\"automargin\":true,\"type\":\"pie\"}],\"scatter\":[{\"marker\":{\"colorbar\":{\"outlinewidth\":0,\"ticks\":\"\"}},\"type\":\"scatter\"}],\"scatter3d\":[{\"line\":{\"colorbar\":{\"outlinewidth\":0,\"ticks\":\"\"}},\"marker\":{\"colorbar\":{\"outlinewidth\":0,\"ticks\":\"\"}},\"type\":\"scatter3d\"}],\"scattercarpet\":[{\"marker\":{\"colorbar\":{\"outlinewidth\":0,\"ticks\":\"\"}},\"type\":\"scattercarpet\"}],\"scattergeo\":[{\"marker\":{\"colorbar\":{\"outlinewidth\":0,\"ticks\":\"\"}},\"type\":\"scattergeo\"}],\"scattergl\":[{\"marker\":{\"colorbar\":{\"outlinewidth\":0,\"ticks\":\"\"}},\"type\":\"scattergl\"}],\"scattermapbox\":[{\"marker\":{\"colorbar\":{\"outlinewidth\":0,\"ticks\":\"\"}},\"type\":\"scattermapbox\"}],\"scatterpolar\":[{\"marker\":{\"colorbar\":{\"outlinewidth\":0,\"ticks\":\"\"}},\"type\":\"scatterpolar\"}],\"scatterpolargl\":[{\"marker\":{\"colorbar\":{\"outlinewidth\":0,\"ticks\":\"\"}},\"type\":\"scatterpolargl\"}],\"scatterternary\":[{\"marker\":{\"colorbar\":{\"outlinewidth\":0,\"ticks\":\"\"}},\"type\":\"scatterternary\"}],\"surface\":[{\"colorbar\":{\"outlinewidth\":0,\"ticks\":\"\"},\"colorscale\":[[0.0,\"#0d0887\"],[0.1111111111111111,\"#46039f\"],[0.2222222222222222,\"#7201a8\"],[0.3333333333333333,\"#9c179e\"],[0.4444444444444444,\"#bd3786\"],[0.5555555555555556,\"#d8576b\"],[0.6666666666666666,\"#ed7953\"],[0.7777777777777778,\"#fb9f3a\"],[0.8888888888888888,\"#fdca26\"],[1.0,\"#f0f921\"]],\"type\":\"surface\"}],\"table\":[{\"cells\":{\"fill\":{\"color\":\"#EBF0F8\"},\"line\":{\"color\":\"white\"}},\"header\":{\"fill\":{\"color\":\"#C8D4E3\"},\"line\":{\"color\":\"white\"}},\"type\":\"table\"}]},\"layout\":{\"annotationdefaults\":{\"arrowcolor\":\"#2a3f5f\",\"arrowhead\":0,\"arrowwidth\":1},\"autotypenumbers\":\"strict\",\"coloraxis\":{\"colorbar\":{\"outlinewidth\":0,\"ticks\":\"\"}},\"colorscale\":{\"diverging\":[[0,\"#8e0152\"],[0.1,\"#c51b7d\"],[0.2,\"#de77ae\"],[0.3,\"#f1b6da\"],[0.4,\"#fde0ef\"],[0.5,\"#f7f7f7\"],[0.6,\"#e6f5d0\"],[0.7,\"#b8e186\"],[0.8,\"#7fbc41\"],[0.9,\"#4d9221\"],[1,\"#276419\"]],\"sequential\":[[0.0,\"#0d0887\"],[0.1111111111111111,\"#46039f\"],[0.2222222222222222,\"#7201a8\"],[0.3333333333333333,\"#9c179e\"],[0.4444444444444444,\"#bd3786\"],[0.5555555555555556,\"#d8576b\"],[0.6666666666666666,\"#ed7953\"],[0.7777777777777778,\"#fb9f3a\"],[0.8888888888888888,\"#fdca26\"],[1.0,\"#f0f921\"]],\"sequentialminus\":[[0.0,\"#0d0887\"],[0.1111111111111111,\"#46039f\"],[0.2222222222222222,\"#7201a8\"],[0.3333333333333333,\"#9c179e\"],[0.4444444444444444,\"#bd3786\"],[0.5555555555555556,\"#d8576b\"],[0.6666666666666666,\"#ed7953\"],[0.7777777777777778,\"#fb9f3a\"],[0.8888888888888888,\"#fdca26\"],[1.0,\"#f0f921\"]]},\"colorway\":[\"#636efa\",\"#EF553B\",\"#00cc96\",\"#ab63fa\",\"#FFA15A\",\"#19d3f3\",\"#FF6692\",\"#B6E880\",\"#FF97FF\",\"#FECB52\"],\"font\":{\"color\":\"#2a3f5f\"},\"geo\":{\"bgcolor\":\"white\",\"lakecolor\":\"white\",\"landcolor\":\"#E5ECF6\",\"showlakes\":true,\"showland\":true,\"subunitcolor\":\"white\"},\"hoverlabel\":{\"align\":\"left\"},\"hovermode\":\"closest\",\"mapbox\":{\"style\":\"light\"},\"paper_bgcolor\":\"white\",\"plot_bgcolor\":\"#E5ECF6\",\"polar\":{\"angularaxis\":{\"gridcolor\":\"white\",\"linecolor\":\"white\",\"ticks\":\"\"},\"bgcolor\":\"#E5ECF6\",\"radialaxis\":{\"gridcolor\":\"white\",\"linecolor\":\"white\",\"ticks\":\"\"}},\"scene\":{\"xaxis\":{\"backgroundcolor\":\"#E5ECF6\",\"gridcolor\":\"white\",\"gridwidth\":2,\"linecolor\":\"white\",\"showbackground\":true,\"ticks\":\"\",\"zerolinecolor\":\"white\"},\"yaxis\":{\"backgroundcolor\":\"#E5ECF6\",\"gridcolor\":\"white\",\"gridwidth\":2,\"linecolor\":\"white\",\"showbackground\":true,\"ticks\":\"\",\"zerolinecolor\":\"white\"},\"zaxis\":{\"backgroundcolor\":\"#E5ECF6\",\"gridcolor\":\"white\",\"gridwidth\":2,\"linecolor\":\"white\",\"showbackground\":true,\"ticks\":\"\",\"zerolinecolor\":\"white\"}},\"shapedefaults\":{\"line\":{\"color\":\"#2a3f5f\"}},\"ternary\":{\"aaxis\":{\"gridcolor\":\"white\",\"linecolor\":\"white\",\"ticks\":\"\"},\"baxis\":{\"gridcolor\":\"white\",\"linecolor\":\"white\",\"ticks\":\"\"},\"bgcolor\":\"#E5ECF6\",\"caxis\":{\"gridcolor\":\"white\",\"linecolor\":\"white\",\"ticks\":\"\"}},\"title\":{\"x\":0.05},\"xaxis\":{\"automargin\":true,\"gridcolor\":\"white\",\"linecolor\":\"white\",\"ticks\":\"\",\"title\":{\"standoff\":15},\"zerolinecolor\":\"white\",\"zerolinewidth\":2},\"yaxis\":{\"automargin\":true,\"gridcolor\":\"white\",\"linecolor\":\"white\",\"ticks\":\"\",\"title\":{\"standoff\":15},\"zerolinecolor\":\"white\",\"zerolinewidth\":2}}},\"xaxis\":{\"anchor\":\"y\",\"categoryorder\":\"total descending\",\"domain\":[0.0,1.0],\"title\":{\"text\":\"category\"}},\"yaxis\":{\"anchor\":\"x\",\"domain\":[0.0,1.0],\"title\":{\"text\":\"Total Ratings\"}}},                        {\"responsive\": true}                    ).then(function(){\n                            \nvar gd = document.getElementById('dfc9157c-c716-4a7c-b633-b1745e285546');\nvar x = new MutationObserver(function (mutations, observer) {{\n        var display = window.getComputedStyle(gd).display;\n        if (!display || display === 'none') {{\n            console.log([gd, 'removed!']);\n            Plotly.purge(gd);\n            observer.disconnect();\n        }}\n}});\n\n// Listen for the removal of the full notebook cells\nvar notebookContainer = gd.closest('#notebook-container');\nif (notebookContainer) {{\n    x.observe(notebookContainer, {childList: true});\n}}\n\n// Listen for the clearing of the current output cell\nvar outputEl = gd.closest('.output');\nif (outputEl) {{\n    x.observe(outputEl, {childList: true});\n}}\n\n                        })                };                            </script>        </div>\n</body>\n</html>"
     },
     "metadata": {},
     "output_type": "display_data"
    }
   ]
  },
  {
   "cell_type": "markdown",
   "source": "- Los juegos en las categorías de acción, casual, estrategia, arcade y deportes están obteniendo considerablemente más calificaciones, que los juegos en las categorías educativas y musicales. ",
   "metadata": {
    "tags": [],
    "cell_id": "00032-45c4f1cf-c93d-458e-b554-854a899cc1fb",
    "deepnote_cell_type": "markdown"
   }
  },
  {
   "cell_type": "markdown",
   "source": "## Numeros de Juegos Intalados por Ctegorias",
   "metadata": {
    "tags": [],
    "cell_id": "00033-e9237b06-70a6-4018-bc6a-c06fa17af2d7",
    "deepnote_cell_type": "markdown"
   }
  },
  {
   "cell_type": "code",
   "metadata": {
    "tags": [],
    "cell_id": "00032-e7220cf9-222c-445a-ba34-5f0fba38be73",
    "deepnote_to_be_reexecuted": false,
    "source_hash": "2512d1a5",
    "execution_start": 1626919036210,
    "execution_millis": 20,
    "deepnote_cell_type": "code"
   },
   "source": "install_by_category = df.groupby('category')['installs_in_million'].mean()\ninstall_by_category",
   "execution_count": 21,
   "outputs": [
    {
     "output_type": "execute_result",
     "execution_count": 21,
     "data": {
      "text/plain": "category\nGAME ACTION          7.410000e+07\nGAME ADVENTURE       1.803000e+07\nGAME ARCADE          7.161000e+07\nGAME BOARD           2.123000e+07\nGAME CARD            2.041270e+07\nGAME CASINO          1.271000e+07\nGAME CASUAL          6.397000e+07\nGAME EDUCATIONAL     2.289000e+07\nGAME MUSIC           2.947000e+07\nGAME PUZZLE          3.621000e+07\nGAME RACING          4.675000e+07\nGAME ROLE PLAYING    1.408000e+07\nGAME SIMULATION      2.771000e+07\nGAME SPORTS          3.361000e+07\nGAME STRATEGY        2.391000e+07\nGAME TRIVIA          4.786000e+07\nGAME WORD            1.231731e+07\nName: installs_in_million, dtype: float64"
     },
     "metadata": {}
    }
   ]
  },
  {
   "cell_type": "code",
   "metadata": {
    "tags": [],
    "cell_id": "00035-04f05859-7f1f-4504-aff0-16de288c6ba1",
    "deepnote_to_be_reexecuted": false,
    "source_hash": "edd3b2dc",
    "execution_start": 1626919036370,
    "execution_millis": 15,
    "deepnote_cell_type": "code"
   },
   "source": "fig = px.bar(install_by_category, \n    x=install_by_category.index, \n    y=install_by_category.values, \n    title='Numeros de juegos instalados por categoria',\n    labels={'y': 'Total en millones'}\n)\nfig.update_layout(xaxis={'categoryorder':'total descending'})\nfig.show()",
   "execution_count": 22,
   "outputs": [
    {
     "data": {
      "text/html": "<html>\n<head><meta charset=\"utf-8\" /></head>\n<body>\n    <div>            <script src=\"https://cdnjs.cloudflare.com/ajax/libs/mathjax/2.7.5/MathJax.js?config=TeX-AMS-MML_SVG\"></script><script type=\"text/javascript\">if (window.MathJax) {MathJax.Hub.Config({SVG: {font: \"STIX-Web\"}});}</script>                <script type=\"text/javascript\">window.PlotlyConfig = {MathJaxConfig: 'local'};</script>\n        <script src=\"https://cdn.plot.ly/plotly-2.2.0.min.js\"></script>                <div id=\"05854826-2044-491f-b53a-045632202506\" class=\"plotly-graph-div\" style=\"height:525px; width:100%;\"></div>            <script type=\"text/javascript\">                                    window.PLOTLYENV=window.PLOTLYENV || {};                                    if (document.getElementById(\"05854826-2044-491f-b53a-045632202506\")) {                    Plotly.newPlot(                        \"05854826-2044-491f-b53a-045632202506\",                        [{\"alignmentgroup\":\"True\",\"hovertemplate\":\"category=%{x}<br>Total en millones=%{y}<extra></extra>\",\"legendgroup\":\"\",\"marker\":{\"color\":\"#636efa\",\"pattern\":{\"shape\":\"\"}},\"name\":\"\",\"offsetgroup\":\"\",\"orientation\":\"v\",\"showlegend\":false,\"textposition\":\"auto\",\"type\":\"bar\",\"x\":[\"GAME ACTION\",\"GAME ADVENTURE\",\"GAME ARCADE\",\"GAME BOARD\",\"GAME CARD\",\"GAME CASINO\",\"GAME CASUAL\",\"GAME EDUCATIONAL\",\"GAME MUSIC\",\"GAME PUZZLE\",\"GAME RACING\",\"GAME ROLE PLAYING\",\"GAME SIMULATION\",\"GAME SPORTS\",\"GAME STRATEGY\",\"GAME TRIVIA\",\"GAME WORD\"],\"xaxis\":\"x\",\"y\":[74100000.0,18030000.0,71610000.0,21230000.0,20412698.412698414,12710000.0,63970000.0,22890000.0,29470000.0,36210000.0,46750000.0,14080000.0,27710000.0,33610000.0,23910000.0,47860000.0,12317307.692307692],\"yaxis\":\"y\"}],                        {\"barmode\":\"relative\",\"legend\":{\"tracegroupgap\":0},\"template\":{\"data\":{\"bar\":[{\"error_x\":{\"color\":\"#2a3f5f\"},\"error_y\":{\"color\":\"#2a3f5f\"},\"marker\":{\"line\":{\"color\":\"#E5ECF6\",\"width\":0.5},\"pattern\":{\"fillmode\":\"overlay\",\"size\":10,\"solidity\":0.2}},\"type\":\"bar\"}],\"barpolar\":[{\"marker\":{\"line\":{\"color\":\"#E5ECF6\",\"width\":0.5},\"pattern\":{\"fillmode\":\"overlay\",\"size\":10,\"solidity\":0.2}},\"type\":\"barpolar\"}],\"carpet\":[{\"aaxis\":{\"endlinecolor\":\"#2a3f5f\",\"gridcolor\":\"white\",\"linecolor\":\"white\",\"minorgridcolor\":\"white\",\"startlinecolor\":\"#2a3f5f\"},\"baxis\":{\"endlinecolor\":\"#2a3f5f\",\"gridcolor\":\"white\",\"linecolor\":\"white\",\"minorgridcolor\":\"white\",\"startlinecolor\":\"#2a3f5f\"},\"type\":\"carpet\"}],\"choropleth\":[{\"colorbar\":{\"outlinewidth\":0,\"ticks\":\"\"},\"type\":\"choropleth\"}],\"contour\":[{\"colorbar\":{\"outlinewidth\":0,\"ticks\":\"\"},\"colorscale\":[[0.0,\"#0d0887\"],[0.1111111111111111,\"#46039f\"],[0.2222222222222222,\"#7201a8\"],[0.3333333333333333,\"#9c179e\"],[0.4444444444444444,\"#bd3786\"],[0.5555555555555556,\"#d8576b\"],[0.6666666666666666,\"#ed7953\"],[0.7777777777777778,\"#fb9f3a\"],[0.8888888888888888,\"#fdca26\"],[1.0,\"#f0f921\"]],\"type\":\"contour\"}],\"contourcarpet\":[{\"colorbar\":{\"outlinewidth\":0,\"ticks\":\"\"},\"type\":\"contourcarpet\"}],\"heatmap\":[{\"colorbar\":{\"outlinewidth\":0,\"ticks\":\"\"},\"colorscale\":[[0.0,\"#0d0887\"],[0.1111111111111111,\"#46039f\"],[0.2222222222222222,\"#7201a8\"],[0.3333333333333333,\"#9c179e\"],[0.4444444444444444,\"#bd3786\"],[0.5555555555555556,\"#d8576b\"],[0.6666666666666666,\"#ed7953\"],[0.7777777777777778,\"#fb9f3a\"],[0.8888888888888888,\"#fdca26\"],[1.0,\"#f0f921\"]],\"type\":\"heatmap\"}],\"heatmapgl\":[{\"colorbar\":{\"outlinewidth\":0,\"ticks\":\"\"},\"colorscale\":[[0.0,\"#0d0887\"],[0.1111111111111111,\"#46039f\"],[0.2222222222222222,\"#7201a8\"],[0.3333333333333333,\"#9c179e\"],[0.4444444444444444,\"#bd3786\"],[0.5555555555555556,\"#d8576b\"],[0.6666666666666666,\"#ed7953\"],[0.7777777777777778,\"#fb9f3a\"],[0.8888888888888888,\"#fdca26\"],[1.0,\"#f0f921\"]],\"type\":\"heatmapgl\"}],\"histogram\":[{\"marker\":{\"pattern\":{\"fillmode\":\"overlay\",\"size\":10,\"solidity\":0.2}},\"type\":\"histogram\"}],\"histogram2d\":[{\"colorbar\":{\"outlinewidth\":0,\"ticks\":\"\"},\"colorscale\":[[0.0,\"#0d0887\"],[0.1111111111111111,\"#46039f\"],[0.2222222222222222,\"#7201a8\"],[0.3333333333333333,\"#9c179e\"],[0.4444444444444444,\"#bd3786\"],[0.5555555555555556,\"#d8576b\"],[0.6666666666666666,\"#ed7953\"],[0.7777777777777778,\"#fb9f3a\"],[0.8888888888888888,\"#fdca26\"],[1.0,\"#f0f921\"]],\"type\":\"histogram2d\"}],\"histogram2dcontour\":[{\"colorbar\":{\"outlinewidth\":0,\"ticks\":\"\"},\"colorscale\":[[0.0,\"#0d0887\"],[0.1111111111111111,\"#46039f\"],[0.2222222222222222,\"#7201a8\"],[0.3333333333333333,\"#9c179e\"],[0.4444444444444444,\"#bd3786\"],[0.5555555555555556,\"#d8576b\"],[0.6666666666666666,\"#ed7953\"],[0.7777777777777778,\"#fb9f3a\"],[0.8888888888888888,\"#fdca26\"],[1.0,\"#f0f921\"]],\"type\":\"histogram2dcontour\"}],\"mesh3d\":[{\"colorbar\":{\"outlinewidth\":0,\"ticks\":\"\"},\"type\":\"mesh3d\"}],\"parcoords\":[{\"line\":{\"colorbar\":{\"outlinewidth\":0,\"ticks\":\"\"}},\"type\":\"parcoords\"}],\"pie\":[{\"automargin\":true,\"type\":\"pie\"}],\"scatter\":[{\"marker\":{\"colorbar\":{\"outlinewidth\":0,\"ticks\":\"\"}},\"type\":\"scatter\"}],\"scatter3d\":[{\"line\":{\"colorbar\":{\"outlinewidth\":0,\"ticks\":\"\"}},\"marker\":{\"colorbar\":{\"outlinewidth\":0,\"ticks\":\"\"}},\"type\":\"scatter3d\"}],\"scattercarpet\":[{\"marker\":{\"colorbar\":{\"outlinewidth\":0,\"ticks\":\"\"}},\"type\":\"scattercarpet\"}],\"scattergeo\":[{\"marker\":{\"colorbar\":{\"outlinewidth\":0,\"ticks\":\"\"}},\"type\":\"scattergeo\"}],\"scattergl\":[{\"marker\":{\"colorbar\":{\"outlinewidth\":0,\"ticks\":\"\"}},\"type\":\"scattergl\"}],\"scattermapbox\":[{\"marker\":{\"colorbar\":{\"outlinewidth\":0,\"ticks\":\"\"}},\"type\":\"scattermapbox\"}],\"scatterpolar\":[{\"marker\":{\"colorbar\":{\"outlinewidth\":0,\"ticks\":\"\"}},\"type\":\"scatterpolar\"}],\"scatterpolargl\":[{\"marker\":{\"colorbar\":{\"outlinewidth\":0,\"ticks\":\"\"}},\"type\":\"scatterpolargl\"}],\"scatterternary\":[{\"marker\":{\"colorbar\":{\"outlinewidth\":0,\"ticks\":\"\"}},\"type\":\"scatterternary\"}],\"surface\":[{\"colorbar\":{\"outlinewidth\":0,\"ticks\":\"\"},\"colorscale\":[[0.0,\"#0d0887\"],[0.1111111111111111,\"#46039f\"],[0.2222222222222222,\"#7201a8\"],[0.3333333333333333,\"#9c179e\"],[0.4444444444444444,\"#bd3786\"],[0.5555555555555556,\"#d8576b\"],[0.6666666666666666,\"#ed7953\"],[0.7777777777777778,\"#fb9f3a\"],[0.8888888888888888,\"#fdca26\"],[1.0,\"#f0f921\"]],\"type\":\"surface\"}],\"table\":[{\"cells\":{\"fill\":{\"color\":\"#EBF0F8\"},\"line\":{\"color\":\"white\"}},\"header\":{\"fill\":{\"color\":\"#C8D4E3\"},\"line\":{\"color\":\"white\"}},\"type\":\"table\"}]},\"layout\":{\"annotationdefaults\":{\"arrowcolor\":\"#2a3f5f\",\"arrowhead\":0,\"arrowwidth\":1},\"autotypenumbers\":\"strict\",\"coloraxis\":{\"colorbar\":{\"outlinewidth\":0,\"ticks\":\"\"}},\"colorscale\":{\"diverging\":[[0,\"#8e0152\"],[0.1,\"#c51b7d\"],[0.2,\"#de77ae\"],[0.3,\"#f1b6da\"],[0.4,\"#fde0ef\"],[0.5,\"#f7f7f7\"],[0.6,\"#e6f5d0\"],[0.7,\"#b8e186\"],[0.8,\"#7fbc41\"],[0.9,\"#4d9221\"],[1,\"#276419\"]],\"sequential\":[[0.0,\"#0d0887\"],[0.1111111111111111,\"#46039f\"],[0.2222222222222222,\"#7201a8\"],[0.3333333333333333,\"#9c179e\"],[0.4444444444444444,\"#bd3786\"],[0.5555555555555556,\"#d8576b\"],[0.6666666666666666,\"#ed7953\"],[0.7777777777777778,\"#fb9f3a\"],[0.8888888888888888,\"#fdca26\"],[1.0,\"#f0f921\"]],\"sequentialminus\":[[0.0,\"#0d0887\"],[0.1111111111111111,\"#46039f\"],[0.2222222222222222,\"#7201a8\"],[0.3333333333333333,\"#9c179e\"],[0.4444444444444444,\"#bd3786\"],[0.5555555555555556,\"#d8576b\"],[0.6666666666666666,\"#ed7953\"],[0.7777777777777778,\"#fb9f3a\"],[0.8888888888888888,\"#fdca26\"],[1.0,\"#f0f921\"]]},\"colorway\":[\"#636efa\",\"#EF553B\",\"#00cc96\",\"#ab63fa\",\"#FFA15A\",\"#19d3f3\",\"#FF6692\",\"#B6E880\",\"#FF97FF\",\"#FECB52\"],\"font\":{\"color\":\"#2a3f5f\"},\"geo\":{\"bgcolor\":\"white\",\"lakecolor\":\"white\",\"landcolor\":\"#E5ECF6\",\"showlakes\":true,\"showland\":true,\"subunitcolor\":\"white\"},\"hoverlabel\":{\"align\":\"left\"},\"hovermode\":\"closest\",\"mapbox\":{\"style\":\"light\"},\"paper_bgcolor\":\"white\",\"plot_bgcolor\":\"#E5ECF6\",\"polar\":{\"angularaxis\":{\"gridcolor\":\"white\",\"linecolor\":\"white\",\"ticks\":\"\"},\"bgcolor\":\"#E5ECF6\",\"radialaxis\":{\"gridcolor\":\"white\",\"linecolor\":\"white\",\"ticks\":\"\"}},\"scene\":{\"xaxis\":{\"backgroundcolor\":\"#E5ECF6\",\"gridcolor\":\"white\",\"gridwidth\":2,\"linecolor\":\"white\",\"showbackground\":true,\"ticks\":\"\",\"zerolinecolor\":\"white\"},\"yaxis\":{\"backgroundcolor\":\"#E5ECF6\",\"gridcolor\":\"white\",\"gridwidth\":2,\"linecolor\":\"white\",\"showbackground\":true,\"ticks\":\"\",\"zerolinecolor\":\"white\"},\"zaxis\":{\"backgroundcolor\":\"#E5ECF6\",\"gridcolor\":\"white\",\"gridwidth\":2,\"linecolor\":\"white\",\"showbackground\":true,\"ticks\":\"\",\"zerolinecolor\":\"white\"}},\"shapedefaults\":{\"line\":{\"color\":\"#2a3f5f\"}},\"ternary\":{\"aaxis\":{\"gridcolor\":\"white\",\"linecolor\":\"white\",\"ticks\":\"\"},\"baxis\":{\"gridcolor\":\"white\",\"linecolor\":\"white\",\"ticks\":\"\"},\"bgcolor\":\"#E5ECF6\",\"caxis\":{\"gridcolor\":\"white\",\"linecolor\":\"white\",\"ticks\":\"\"}},\"title\":{\"x\":0.05},\"xaxis\":{\"automargin\":true,\"gridcolor\":\"white\",\"linecolor\":\"white\",\"ticks\":\"\",\"title\":{\"standoff\":15},\"zerolinecolor\":\"white\",\"zerolinewidth\":2},\"yaxis\":{\"automargin\":true,\"gridcolor\":\"white\",\"linecolor\":\"white\",\"ticks\":\"\",\"title\":{\"standoff\":15},\"zerolinecolor\":\"white\",\"zerolinewidth\":2}}},\"title\":{\"text\":\"Numeros de juegos instalados por categoria\"},\"xaxis\":{\"anchor\":\"y\",\"categoryorder\":\"total descending\",\"domain\":[0.0,1.0],\"title\":{\"text\":\"category\"}},\"yaxis\":{\"anchor\":\"x\",\"domain\":[0.0,1.0],\"title\":{\"text\":\"Total en millones\"}}},                        {\"responsive\": true}                    ).then(function(){\n                            \nvar gd = document.getElementById('05854826-2044-491f-b53a-045632202506');\nvar x = new MutationObserver(function (mutations, observer) {{\n        var display = window.getComputedStyle(gd).display;\n        if (!display || display === 'none') {{\n            console.log([gd, 'removed!']);\n            Plotly.purge(gd);\n            observer.disconnect();\n        }}\n}});\n\n// Listen for the removal of the full notebook cells\nvar notebookContainer = gd.closest('#notebook-container');\nif (notebookContainer) {{\n    x.observe(notebookContainer, {childList: true});\n}}\n\n// Listen for the clearing of the current output cell\nvar outputEl = gd.closest('.output');\nif (outputEl) {{\n    x.observe(outputEl, {childList: true});\n}}\n\n                        })                };                            </script>        </div>\n</body>\n</html>"
     },
     "metadata": {},
     "output_type": "display_data"
    }
   ]
  },
  {
   "cell_type": "markdown",
   "source": "Los juegos en las categorías de acción, arcade y casual se instalan significativamente más que los juegos en las categorías de mundo, casino y juegos de rol. ",
   "metadata": {
    "tags": [],
    "cell_id": "00036-2661b6d5-e6c6-478b-8e51-8cbba850c50e",
    "deepnote_cell_type": "markdown"
   }
  },
  {
   "cell_type": "markdown",
   "source": "## Crecimiento de las categorias",
   "metadata": {
    "tags": [],
    "cell_id": "00037-d3ae20eb-ecf5-420b-beb6-408a4391aa03",
    "deepnote_cell_type": "markdown"
   }
  },
  {
   "cell_type": "markdown",
   "source": "### En 30 dias",
   "metadata": {
    "tags": [],
    "cell_id": "00038-12197d1a-0bf3-41e1-bfb3-3959e9a58ff6",
    "deepnote_cell_type": "markdown"
   }
  },
  {
   "cell_type": "code",
   "metadata": {
    "tags": [],
    "cell_id": "00038-b7b64504-6c85-4111-9e91-b0979ff98bae",
    "deepnote_to_be_reexecuted": false,
    "source_hash": "deaef8a9",
    "execution_start": 1626919036387,
    "execution_millis": 21,
    "deepnote_cell_type": "code"
   },
   "source": "growth_by_category_30 = df.groupby('category')['growth_30_days'].mean()\ngrowth_by_category_30",
   "execution_count": 23,
   "outputs": [
    {
     "output_type": "execute_result",
     "execution_count": 23,
     "data": {
      "text/plain": "category\nGAME ACTION            18.808000\nGAME ADVENTURE        259.101000\nGAME ARCADE            58.924000\nGAME BOARD             34.445000\nGAME CARD             746.598413\nGAME CASINO          2335.253000\nGAME CASUAL            36.020000\nGAME EDUCATIONAL      102.455000\nGAME MUSIC             24.626000\nGAME PUZZLE            44.362000\nGAME RACING           207.103000\nGAME ROLE PLAYING     209.979000\nGAME SIMULATION        13.406000\nGAME SPORTS           159.543000\nGAME STRATEGY          18.281000\nGAME TRIVIA          1079.680000\nGAME WORD              22.433654\nName: growth_30_days, dtype: float64"
     },
     "metadata": {}
    }
   ]
  },
  {
   "cell_type": "code",
   "metadata": {
    "tags": [],
    "cell_id": "00040-e74e9bd3-a3bd-4637-ad2f-f7ff1f2347af",
    "deepnote_to_be_reexecuted": false,
    "source_hash": "945bdfdb",
    "execution_start": 1626919036415,
    "execution_millis": 48,
    "deepnote_cell_type": "code"
   },
   "source": "fig = px.bar(growth_by_category_30,\n    x=growth_by_category_30.index,\n    y=growth_by_category_30,\n    title='Crecimiento de las categorias en 30 dias',\n    labels={'y':'Crecimiento en 30 dias'}\n)\nfig.update_layout(xaxis={'categoryorder':'total descending'})\nfig.show()",
   "execution_count": 24,
   "outputs": [
    {
     "data": {
      "text/html": "<html>\n<head><meta charset=\"utf-8\" /></head>\n<body>\n    <div>            <script src=\"https://cdnjs.cloudflare.com/ajax/libs/mathjax/2.7.5/MathJax.js?config=TeX-AMS-MML_SVG\"></script><script type=\"text/javascript\">if (window.MathJax) {MathJax.Hub.Config({SVG: {font: \"STIX-Web\"}});}</script>                <script type=\"text/javascript\">window.PlotlyConfig = {MathJaxConfig: 'local'};</script>\n        <script src=\"https://cdn.plot.ly/plotly-2.2.0.min.js\"></script>                <div id=\"99bfaf90-4915-465f-a66e-7488407a7ac5\" class=\"plotly-graph-div\" style=\"height:525px; width:100%;\"></div>            <script type=\"text/javascript\">                                    window.PLOTLYENV=window.PLOTLYENV || {};                                    if (document.getElementById(\"99bfaf90-4915-465f-a66e-7488407a7ac5\")) {                    Plotly.newPlot(                        \"99bfaf90-4915-465f-a66e-7488407a7ac5\",                        [{\"alignmentgroup\":\"True\",\"hovertemplate\":\"category=%{x}<br>Crecimiento en 30 dias=%{y}<extra></extra>\",\"legendgroup\":\"\",\"marker\":{\"color\":\"#636efa\",\"pattern\":{\"shape\":\"\"}},\"name\":\"\",\"offsetgroup\":\"\",\"orientation\":\"v\",\"showlegend\":false,\"textposition\":\"auto\",\"type\":\"bar\",\"x\":[\"GAME ACTION\",\"GAME ADVENTURE\",\"GAME ARCADE\",\"GAME BOARD\",\"GAME CARD\",\"GAME CASINO\",\"GAME CASUAL\",\"GAME EDUCATIONAL\",\"GAME MUSIC\",\"GAME PUZZLE\",\"GAME RACING\",\"GAME ROLE PLAYING\",\"GAME SIMULATION\",\"GAME SPORTS\",\"GAME STRATEGY\",\"GAME TRIVIA\",\"GAME WORD\"],\"xaxis\":\"x\",\"y\":[18.807999999999996,259.1009999999999,58.924000000000035,34.44499999999998,746.5984126984129,2335.253000000002,36.019999999999996,102.45499999999998,24.626000000000005,44.36199999999999,207.1029999999999,209.97899999999984,13.405999999999999,159.54300000000006,18.281,1079.6800000000003,22.43365384615384],\"yaxis\":\"y\"}],                        {\"barmode\":\"relative\",\"legend\":{\"tracegroupgap\":0},\"template\":{\"data\":{\"bar\":[{\"error_x\":{\"color\":\"#2a3f5f\"},\"error_y\":{\"color\":\"#2a3f5f\"},\"marker\":{\"line\":{\"color\":\"#E5ECF6\",\"width\":0.5},\"pattern\":{\"fillmode\":\"overlay\",\"size\":10,\"solidity\":0.2}},\"type\":\"bar\"}],\"barpolar\":[{\"marker\":{\"line\":{\"color\":\"#E5ECF6\",\"width\":0.5},\"pattern\":{\"fillmode\":\"overlay\",\"size\":10,\"solidity\":0.2}},\"type\":\"barpolar\"}],\"carpet\":[{\"aaxis\":{\"endlinecolor\":\"#2a3f5f\",\"gridcolor\":\"white\",\"linecolor\":\"white\",\"minorgridcolor\":\"white\",\"startlinecolor\":\"#2a3f5f\"},\"baxis\":{\"endlinecolor\":\"#2a3f5f\",\"gridcolor\":\"white\",\"linecolor\":\"white\",\"minorgridcolor\":\"white\",\"startlinecolor\":\"#2a3f5f\"},\"type\":\"carpet\"}],\"choropleth\":[{\"colorbar\":{\"outlinewidth\":0,\"ticks\":\"\"},\"type\":\"choropleth\"}],\"contour\":[{\"colorbar\":{\"outlinewidth\":0,\"ticks\":\"\"},\"colorscale\":[[0.0,\"#0d0887\"],[0.1111111111111111,\"#46039f\"],[0.2222222222222222,\"#7201a8\"],[0.3333333333333333,\"#9c179e\"],[0.4444444444444444,\"#bd3786\"],[0.5555555555555556,\"#d8576b\"],[0.6666666666666666,\"#ed7953\"],[0.7777777777777778,\"#fb9f3a\"],[0.8888888888888888,\"#fdca26\"],[1.0,\"#f0f921\"]],\"type\":\"contour\"}],\"contourcarpet\":[{\"colorbar\":{\"outlinewidth\":0,\"ticks\":\"\"},\"type\":\"contourcarpet\"}],\"heatmap\":[{\"colorbar\":{\"outlinewidth\":0,\"ticks\":\"\"},\"colorscale\":[[0.0,\"#0d0887\"],[0.1111111111111111,\"#46039f\"],[0.2222222222222222,\"#7201a8\"],[0.3333333333333333,\"#9c179e\"],[0.4444444444444444,\"#bd3786\"],[0.5555555555555556,\"#d8576b\"],[0.6666666666666666,\"#ed7953\"],[0.7777777777777778,\"#fb9f3a\"],[0.8888888888888888,\"#fdca26\"],[1.0,\"#f0f921\"]],\"type\":\"heatmap\"}],\"heatmapgl\":[{\"colorbar\":{\"outlinewidth\":0,\"ticks\":\"\"},\"colorscale\":[[0.0,\"#0d0887\"],[0.1111111111111111,\"#46039f\"],[0.2222222222222222,\"#7201a8\"],[0.3333333333333333,\"#9c179e\"],[0.4444444444444444,\"#bd3786\"],[0.5555555555555556,\"#d8576b\"],[0.6666666666666666,\"#ed7953\"],[0.7777777777777778,\"#fb9f3a\"],[0.8888888888888888,\"#fdca26\"],[1.0,\"#f0f921\"]],\"type\":\"heatmapgl\"}],\"histogram\":[{\"marker\":{\"pattern\":{\"fillmode\":\"overlay\",\"size\":10,\"solidity\":0.2}},\"type\":\"histogram\"}],\"histogram2d\":[{\"colorbar\":{\"outlinewidth\":0,\"ticks\":\"\"},\"colorscale\":[[0.0,\"#0d0887\"],[0.1111111111111111,\"#46039f\"],[0.2222222222222222,\"#7201a8\"],[0.3333333333333333,\"#9c179e\"],[0.4444444444444444,\"#bd3786\"],[0.5555555555555556,\"#d8576b\"],[0.6666666666666666,\"#ed7953\"],[0.7777777777777778,\"#fb9f3a\"],[0.8888888888888888,\"#fdca26\"],[1.0,\"#f0f921\"]],\"type\":\"histogram2d\"}],\"histogram2dcontour\":[{\"colorbar\":{\"outlinewidth\":0,\"ticks\":\"\"},\"colorscale\":[[0.0,\"#0d0887\"],[0.1111111111111111,\"#46039f\"],[0.2222222222222222,\"#7201a8\"],[0.3333333333333333,\"#9c179e\"],[0.4444444444444444,\"#bd3786\"],[0.5555555555555556,\"#d8576b\"],[0.6666666666666666,\"#ed7953\"],[0.7777777777777778,\"#fb9f3a\"],[0.8888888888888888,\"#fdca26\"],[1.0,\"#f0f921\"]],\"type\":\"histogram2dcontour\"}],\"mesh3d\":[{\"colorbar\":{\"outlinewidth\":0,\"ticks\":\"\"},\"type\":\"mesh3d\"}],\"parcoords\":[{\"line\":{\"colorbar\":{\"outlinewidth\":0,\"ticks\":\"\"}},\"type\":\"parcoords\"}],\"pie\":[{\"automargin\":true,\"type\":\"pie\"}],\"scatter\":[{\"marker\":{\"colorbar\":{\"outlinewidth\":0,\"ticks\":\"\"}},\"type\":\"scatter\"}],\"scatter3d\":[{\"line\":{\"colorbar\":{\"outlinewidth\":0,\"ticks\":\"\"}},\"marker\":{\"colorbar\":{\"outlinewidth\":0,\"ticks\":\"\"}},\"type\":\"scatter3d\"}],\"scattercarpet\":[{\"marker\":{\"colorbar\":{\"outlinewidth\":0,\"ticks\":\"\"}},\"type\":\"scattercarpet\"}],\"scattergeo\":[{\"marker\":{\"colorbar\":{\"outlinewidth\":0,\"ticks\":\"\"}},\"type\":\"scattergeo\"}],\"scattergl\":[{\"marker\":{\"colorbar\":{\"outlinewidth\":0,\"ticks\":\"\"}},\"type\":\"scattergl\"}],\"scattermapbox\":[{\"marker\":{\"colorbar\":{\"outlinewidth\":0,\"ticks\":\"\"}},\"type\":\"scattermapbox\"}],\"scatterpolar\":[{\"marker\":{\"colorbar\":{\"outlinewidth\":0,\"ticks\":\"\"}},\"type\":\"scatterpolar\"}],\"scatterpolargl\":[{\"marker\":{\"colorbar\":{\"outlinewidth\":0,\"ticks\":\"\"}},\"type\":\"scatterpolargl\"}],\"scatterternary\":[{\"marker\":{\"colorbar\":{\"outlinewidth\":0,\"ticks\":\"\"}},\"type\":\"scatterternary\"}],\"surface\":[{\"colorbar\":{\"outlinewidth\":0,\"ticks\":\"\"},\"colorscale\":[[0.0,\"#0d0887\"],[0.1111111111111111,\"#46039f\"],[0.2222222222222222,\"#7201a8\"],[0.3333333333333333,\"#9c179e\"],[0.4444444444444444,\"#bd3786\"],[0.5555555555555556,\"#d8576b\"],[0.6666666666666666,\"#ed7953\"],[0.7777777777777778,\"#fb9f3a\"],[0.8888888888888888,\"#fdca26\"],[1.0,\"#f0f921\"]],\"type\":\"surface\"}],\"table\":[{\"cells\":{\"fill\":{\"color\":\"#EBF0F8\"},\"line\":{\"color\":\"white\"}},\"header\":{\"fill\":{\"color\":\"#C8D4E3\"},\"line\":{\"color\":\"white\"}},\"type\":\"table\"}]},\"layout\":{\"annotationdefaults\":{\"arrowcolor\":\"#2a3f5f\",\"arrowhead\":0,\"arrowwidth\":1},\"autotypenumbers\":\"strict\",\"coloraxis\":{\"colorbar\":{\"outlinewidth\":0,\"ticks\":\"\"}},\"colorscale\":{\"diverging\":[[0,\"#8e0152\"],[0.1,\"#c51b7d\"],[0.2,\"#de77ae\"],[0.3,\"#f1b6da\"],[0.4,\"#fde0ef\"],[0.5,\"#f7f7f7\"],[0.6,\"#e6f5d0\"],[0.7,\"#b8e186\"],[0.8,\"#7fbc41\"],[0.9,\"#4d9221\"],[1,\"#276419\"]],\"sequential\":[[0.0,\"#0d0887\"],[0.1111111111111111,\"#46039f\"],[0.2222222222222222,\"#7201a8\"],[0.3333333333333333,\"#9c179e\"],[0.4444444444444444,\"#bd3786\"],[0.5555555555555556,\"#d8576b\"],[0.6666666666666666,\"#ed7953\"],[0.7777777777777778,\"#fb9f3a\"],[0.8888888888888888,\"#fdca26\"],[1.0,\"#f0f921\"]],\"sequentialminus\":[[0.0,\"#0d0887\"],[0.1111111111111111,\"#46039f\"],[0.2222222222222222,\"#7201a8\"],[0.3333333333333333,\"#9c179e\"],[0.4444444444444444,\"#bd3786\"],[0.5555555555555556,\"#d8576b\"],[0.6666666666666666,\"#ed7953\"],[0.7777777777777778,\"#fb9f3a\"],[0.8888888888888888,\"#fdca26\"],[1.0,\"#f0f921\"]]},\"colorway\":[\"#636efa\",\"#EF553B\",\"#00cc96\",\"#ab63fa\",\"#FFA15A\",\"#19d3f3\",\"#FF6692\",\"#B6E880\",\"#FF97FF\",\"#FECB52\"],\"font\":{\"color\":\"#2a3f5f\"},\"geo\":{\"bgcolor\":\"white\",\"lakecolor\":\"white\",\"landcolor\":\"#E5ECF6\",\"showlakes\":true,\"showland\":true,\"subunitcolor\":\"white\"},\"hoverlabel\":{\"align\":\"left\"},\"hovermode\":\"closest\",\"mapbox\":{\"style\":\"light\"},\"paper_bgcolor\":\"white\",\"plot_bgcolor\":\"#E5ECF6\",\"polar\":{\"angularaxis\":{\"gridcolor\":\"white\",\"linecolor\":\"white\",\"ticks\":\"\"},\"bgcolor\":\"#E5ECF6\",\"radialaxis\":{\"gridcolor\":\"white\",\"linecolor\":\"white\",\"ticks\":\"\"}},\"scene\":{\"xaxis\":{\"backgroundcolor\":\"#E5ECF6\",\"gridcolor\":\"white\",\"gridwidth\":2,\"linecolor\":\"white\",\"showbackground\":true,\"ticks\":\"\",\"zerolinecolor\":\"white\"},\"yaxis\":{\"backgroundcolor\":\"#E5ECF6\",\"gridcolor\":\"white\",\"gridwidth\":2,\"linecolor\":\"white\",\"showbackground\":true,\"ticks\":\"\",\"zerolinecolor\":\"white\"},\"zaxis\":{\"backgroundcolor\":\"#E5ECF6\",\"gridcolor\":\"white\",\"gridwidth\":2,\"linecolor\":\"white\",\"showbackground\":true,\"ticks\":\"\",\"zerolinecolor\":\"white\"}},\"shapedefaults\":{\"line\":{\"color\":\"#2a3f5f\"}},\"ternary\":{\"aaxis\":{\"gridcolor\":\"white\",\"linecolor\":\"white\",\"ticks\":\"\"},\"baxis\":{\"gridcolor\":\"white\",\"linecolor\":\"white\",\"ticks\":\"\"},\"bgcolor\":\"#E5ECF6\",\"caxis\":{\"gridcolor\":\"white\",\"linecolor\":\"white\",\"ticks\":\"\"}},\"title\":{\"x\":0.05},\"xaxis\":{\"automargin\":true,\"gridcolor\":\"white\",\"linecolor\":\"white\",\"ticks\":\"\",\"title\":{\"standoff\":15},\"zerolinecolor\":\"white\",\"zerolinewidth\":2},\"yaxis\":{\"automargin\":true,\"gridcolor\":\"white\",\"linecolor\":\"white\",\"ticks\":\"\",\"title\":{\"standoff\":15},\"zerolinecolor\":\"white\",\"zerolinewidth\":2}}},\"title\":{\"text\":\"Crecimiento de las categorias en 30 dias\"},\"xaxis\":{\"anchor\":\"y\",\"categoryorder\":\"total descending\",\"domain\":[0.0,1.0],\"title\":{\"text\":\"category\"}},\"yaxis\":{\"anchor\":\"x\",\"domain\":[0.0,1.0],\"title\":{\"text\":\"Crecimiento en 30 dias\"}}},                        {\"responsive\": true}                    ).then(function(){\n                            \nvar gd = document.getElementById('99bfaf90-4915-465f-a66e-7488407a7ac5');\nvar x = new MutationObserver(function (mutations, observer) {{\n        var display = window.getComputedStyle(gd).display;\n        if (!display || display === 'none') {{\n            console.log([gd, 'removed!']);\n            Plotly.purge(gd);\n            observer.disconnect();\n        }}\n}});\n\n// Listen for the removal of the full notebook cells\nvar notebookContainer = gd.closest('#notebook-container');\nif (notebookContainer) {{\n    x.observe(notebookContainer, {childList: true});\n}}\n\n// Listen for the clearing of the current output cell\nvar outputEl = gd.closest('.output');\nif (outputEl) {{\n    x.observe(outputEl, {childList: true});\n}}\n\n                        })                };                            </script>        </div>\n</body>\n</html>"
     },
     "metadata": {},
     "output_type": "display_data"
    }
   ]
  },
  {
   "cell_type": "markdown",
   "source": "- Aunque los juegos en las categorías de acción obtienen más calificaciones y se instalaron más que los juegos en las otras categorías, los juegos en la categoría de **casino** tienen **más crecimiento en 30 días**.\n- Veamos si lo mismo también es cierto para el crecimiento de 60 días. ",
   "metadata": {
    "tags": [],
    "cell_id": "00041-f91b077f-ac8f-4de9-b581-f72a3d601755",
    "deepnote_cell_type": "markdown"
   }
  },
  {
   "cell_type": "markdown",
   "source": "### En 60 dias",
   "metadata": {
    "tags": [],
    "cell_id": "00041-e13ffadf-fbd8-4387-8a90-d37aba83fafc",
    "deepnote_cell_type": "markdown"
   }
  },
  {
   "cell_type": "code",
   "metadata": {
    "tags": [],
    "cell_id": "00043-3bf3b401-182e-425c-86f4-13f65aea25c9",
    "deepnote_to_be_reexecuted": false,
    "source_hash": "965a7611",
    "execution_start": 1626919036461,
    "execution_millis": 64,
    "deepnote_cell_type": "code"
   },
   "source": "growth_by_category_60 = df.groupby('category')['growth_60_days'].mean()\ngrowth_by_category_60",
   "execution_count": 25,
   "outputs": [
    {
     "output_type": "execute_result",
     "execution_count": 25,
     "data": {
      "text/plain": "category\nGAME ACTION          118.294000\nGAME ADVENTURE         6.084000\nGAME ARCADE           21.970000\nGAME BOARD           587.891000\nGAME CARD            555.337302\nGAME CASINO            2.193000\nGAME CASUAL           14.812000\nGAME EDUCATIONAL      14.748000\nGAME MUSIC            22.160000\nGAME PUZZLE           12.062000\nGAME RACING           88.963000\nGAME ROLE PLAYING      3.037000\nGAME SIMULATION       20.196000\nGAME SPORTS            8.492000\nGAME STRATEGY        435.440000\nGAME TRIVIA            6.180000\nGAME WORD             55.725000\nName: growth_60_days, dtype: float64"
     },
     "metadata": {}
    }
   ]
  },
  {
   "cell_type": "code",
   "metadata": {
    "tags": [],
    "cell_id": "00044-53f727a6-accf-47b3-8cfc-dd90c53e73a0",
    "deepnote_to_be_reexecuted": false,
    "source_hash": "c52db007",
    "execution_start": 1626919036526,
    "execution_millis": 27,
    "deepnote_cell_type": "code"
   },
   "source": "fig = px.bar(growth_by_category_60,\n    x=growth_by_category_60.index,\n    y=growth_by_category_60,\n    title='Crecimiento de las categorias en 60 dias',\n    labels={'y':'Crecimiento en 60 dias'}\n)\nfig.update_layout(xaxis={'categoryorder': 'total descending'})\nfig.show()",
   "execution_count": 26,
   "outputs": [
    {
     "data": {
      "text/html": "<html>\n<head><meta charset=\"utf-8\" /></head>\n<body>\n    <div>            <script src=\"https://cdnjs.cloudflare.com/ajax/libs/mathjax/2.7.5/MathJax.js?config=TeX-AMS-MML_SVG\"></script><script type=\"text/javascript\">if (window.MathJax) {MathJax.Hub.Config({SVG: {font: \"STIX-Web\"}});}</script>                <script type=\"text/javascript\">window.PlotlyConfig = {MathJaxConfig: 'local'};</script>\n        <script src=\"https://cdn.plot.ly/plotly-2.2.0.min.js\"></script>                <div id=\"d580bb41-9098-48e2-bfa5-d314913d65ff\" class=\"plotly-graph-div\" style=\"height:525px; width:100%;\"></div>            <script type=\"text/javascript\">                                    window.PLOTLYENV=window.PLOTLYENV || {};                                    if (document.getElementById(\"d580bb41-9098-48e2-bfa5-d314913d65ff\")) {                    Plotly.newPlot(                        \"d580bb41-9098-48e2-bfa5-d314913d65ff\",                        [{\"alignmentgroup\":\"True\",\"hovertemplate\":\"category=%{x}<br>Crecimiento en 60 dias=%{y}<extra></extra>\",\"legendgroup\":\"\",\"marker\":{\"color\":\"#636efa\",\"pattern\":{\"shape\":\"\"}},\"name\":\"\",\"offsetgroup\":\"\",\"orientation\":\"v\",\"showlegend\":false,\"textposition\":\"auto\",\"type\":\"bar\",\"x\":[\"GAME ACTION\",\"GAME ADVENTURE\",\"GAME ARCADE\",\"GAME BOARD\",\"GAME CARD\",\"GAME CASINO\",\"GAME CASUAL\",\"GAME EDUCATIONAL\",\"GAME MUSIC\",\"GAME PUZZLE\",\"GAME RACING\",\"GAME ROLE PLAYING\",\"GAME SIMULATION\",\"GAME SPORTS\",\"GAME STRATEGY\",\"GAME TRIVIA\",\"GAME WORD\"],\"xaxis\":\"x\",\"y\":[118.29400000000008,6.083999999999999,21.969999999999995,587.891,555.3373015873019,2.1929999999999996,14.81199999999999,14.747999999999996,22.16,12.062000000000003,88.96300000000002,3.0369999999999995,20.196000000000005,8.492000000000004,435.4399999999998,6.18,55.72500000000001],\"yaxis\":\"y\"}],                        {\"barmode\":\"relative\",\"legend\":{\"tracegroupgap\":0},\"template\":{\"data\":{\"bar\":[{\"error_x\":{\"color\":\"#2a3f5f\"},\"error_y\":{\"color\":\"#2a3f5f\"},\"marker\":{\"line\":{\"color\":\"#E5ECF6\",\"width\":0.5},\"pattern\":{\"fillmode\":\"overlay\",\"size\":10,\"solidity\":0.2}},\"type\":\"bar\"}],\"barpolar\":[{\"marker\":{\"line\":{\"color\":\"#E5ECF6\",\"width\":0.5},\"pattern\":{\"fillmode\":\"overlay\",\"size\":10,\"solidity\":0.2}},\"type\":\"barpolar\"}],\"carpet\":[{\"aaxis\":{\"endlinecolor\":\"#2a3f5f\",\"gridcolor\":\"white\",\"linecolor\":\"white\",\"minorgridcolor\":\"white\",\"startlinecolor\":\"#2a3f5f\"},\"baxis\":{\"endlinecolor\":\"#2a3f5f\",\"gridcolor\":\"white\",\"linecolor\":\"white\",\"minorgridcolor\":\"white\",\"startlinecolor\":\"#2a3f5f\"},\"type\":\"carpet\"}],\"choropleth\":[{\"colorbar\":{\"outlinewidth\":0,\"ticks\":\"\"},\"type\":\"choropleth\"}],\"contour\":[{\"colorbar\":{\"outlinewidth\":0,\"ticks\":\"\"},\"colorscale\":[[0.0,\"#0d0887\"],[0.1111111111111111,\"#46039f\"],[0.2222222222222222,\"#7201a8\"],[0.3333333333333333,\"#9c179e\"],[0.4444444444444444,\"#bd3786\"],[0.5555555555555556,\"#d8576b\"],[0.6666666666666666,\"#ed7953\"],[0.7777777777777778,\"#fb9f3a\"],[0.8888888888888888,\"#fdca26\"],[1.0,\"#f0f921\"]],\"type\":\"contour\"}],\"contourcarpet\":[{\"colorbar\":{\"outlinewidth\":0,\"ticks\":\"\"},\"type\":\"contourcarpet\"}],\"heatmap\":[{\"colorbar\":{\"outlinewidth\":0,\"ticks\":\"\"},\"colorscale\":[[0.0,\"#0d0887\"],[0.1111111111111111,\"#46039f\"],[0.2222222222222222,\"#7201a8\"],[0.3333333333333333,\"#9c179e\"],[0.4444444444444444,\"#bd3786\"],[0.5555555555555556,\"#d8576b\"],[0.6666666666666666,\"#ed7953\"],[0.7777777777777778,\"#fb9f3a\"],[0.8888888888888888,\"#fdca26\"],[1.0,\"#f0f921\"]],\"type\":\"heatmap\"}],\"heatmapgl\":[{\"colorbar\":{\"outlinewidth\":0,\"ticks\":\"\"},\"colorscale\":[[0.0,\"#0d0887\"],[0.1111111111111111,\"#46039f\"],[0.2222222222222222,\"#7201a8\"],[0.3333333333333333,\"#9c179e\"],[0.4444444444444444,\"#bd3786\"],[0.5555555555555556,\"#d8576b\"],[0.6666666666666666,\"#ed7953\"],[0.7777777777777778,\"#fb9f3a\"],[0.8888888888888888,\"#fdca26\"],[1.0,\"#f0f921\"]],\"type\":\"heatmapgl\"}],\"histogram\":[{\"marker\":{\"pattern\":{\"fillmode\":\"overlay\",\"size\":10,\"solidity\":0.2}},\"type\":\"histogram\"}],\"histogram2d\":[{\"colorbar\":{\"outlinewidth\":0,\"ticks\":\"\"},\"colorscale\":[[0.0,\"#0d0887\"],[0.1111111111111111,\"#46039f\"],[0.2222222222222222,\"#7201a8\"],[0.3333333333333333,\"#9c179e\"],[0.4444444444444444,\"#bd3786\"],[0.5555555555555556,\"#d8576b\"],[0.6666666666666666,\"#ed7953\"],[0.7777777777777778,\"#fb9f3a\"],[0.8888888888888888,\"#fdca26\"],[1.0,\"#f0f921\"]],\"type\":\"histogram2d\"}],\"histogram2dcontour\":[{\"colorbar\":{\"outlinewidth\":0,\"ticks\":\"\"},\"colorscale\":[[0.0,\"#0d0887\"],[0.1111111111111111,\"#46039f\"],[0.2222222222222222,\"#7201a8\"],[0.3333333333333333,\"#9c179e\"],[0.4444444444444444,\"#bd3786\"],[0.5555555555555556,\"#d8576b\"],[0.6666666666666666,\"#ed7953\"],[0.7777777777777778,\"#fb9f3a\"],[0.8888888888888888,\"#fdca26\"],[1.0,\"#f0f921\"]],\"type\":\"histogram2dcontour\"}],\"mesh3d\":[{\"colorbar\":{\"outlinewidth\":0,\"ticks\":\"\"},\"type\":\"mesh3d\"}],\"parcoords\":[{\"line\":{\"colorbar\":{\"outlinewidth\":0,\"ticks\":\"\"}},\"type\":\"parcoords\"}],\"pie\":[{\"automargin\":true,\"type\":\"pie\"}],\"scatter\":[{\"marker\":{\"colorbar\":{\"outlinewidth\":0,\"ticks\":\"\"}},\"type\":\"scatter\"}],\"scatter3d\":[{\"line\":{\"colorbar\":{\"outlinewidth\":0,\"ticks\":\"\"}},\"marker\":{\"colorbar\":{\"outlinewidth\":0,\"ticks\":\"\"}},\"type\":\"scatter3d\"}],\"scattercarpet\":[{\"marker\":{\"colorbar\":{\"outlinewidth\":0,\"ticks\":\"\"}},\"type\":\"scattercarpet\"}],\"scattergeo\":[{\"marker\":{\"colorbar\":{\"outlinewidth\":0,\"ticks\":\"\"}},\"type\":\"scattergeo\"}],\"scattergl\":[{\"marker\":{\"colorbar\":{\"outlinewidth\":0,\"ticks\":\"\"}},\"type\":\"scattergl\"}],\"scattermapbox\":[{\"marker\":{\"colorbar\":{\"outlinewidth\":0,\"ticks\":\"\"}},\"type\":\"scattermapbox\"}],\"scatterpolar\":[{\"marker\":{\"colorbar\":{\"outlinewidth\":0,\"ticks\":\"\"}},\"type\":\"scatterpolar\"}],\"scatterpolargl\":[{\"marker\":{\"colorbar\":{\"outlinewidth\":0,\"ticks\":\"\"}},\"type\":\"scatterpolargl\"}],\"scatterternary\":[{\"marker\":{\"colorbar\":{\"outlinewidth\":0,\"ticks\":\"\"}},\"type\":\"scatterternary\"}],\"surface\":[{\"colorbar\":{\"outlinewidth\":0,\"ticks\":\"\"},\"colorscale\":[[0.0,\"#0d0887\"],[0.1111111111111111,\"#46039f\"],[0.2222222222222222,\"#7201a8\"],[0.3333333333333333,\"#9c179e\"],[0.4444444444444444,\"#bd3786\"],[0.5555555555555556,\"#d8576b\"],[0.6666666666666666,\"#ed7953\"],[0.7777777777777778,\"#fb9f3a\"],[0.8888888888888888,\"#fdca26\"],[1.0,\"#f0f921\"]],\"type\":\"surface\"}],\"table\":[{\"cells\":{\"fill\":{\"color\":\"#EBF0F8\"},\"line\":{\"color\":\"white\"}},\"header\":{\"fill\":{\"color\":\"#C8D4E3\"},\"line\":{\"color\":\"white\"}},\"type\":\"table\"}]},\"layout\":{\"annotationdefaults\":{\"arrowcolor\":\"#2a3f5f\",\"arrowhead\":0,\"arrowwidth\":1},\"autotypenumbers\":\"strict\",\"coloraxis\":{\"colorbar\":{\"outlinewidth\":0,\"ticks\":\"\"}},\"colorscale\":{\"diverging\":[[0,\"#8e0152\"],[0.1,\"#c51b7d\"],[0.2,\"#de77ae\"],[0.3,\"#f1b6da\"],[0.4,\"#fde0ef\"],[0.5,\"#f7f7f7\"],[0.6,\"#e6f5d0\"],[0.7,\"#b8e186\"],[0.8,\"#7fbc41\"],[0.9,\"#4d9221\"],[1,\"#276419\"]],\"sequential\":[[0.0,\"#0d0887\"],[0.1111111111111111,\"#46039f\"],[0.2222222222222222,\"#7201a8\"],[0.3333333333333333,\"#9c179e\"],[0.4444444444444444,\"#bd3786\"],[0.5555555555555556,\"#d8576b\"],[0.6666666666666666,\"#ed7953\"],[0.7777777777777778,\"#fb9f3a\"],[0.8888888888888888,\"#fdca26\"],[1.0,\"#f0f921\"]],\"sequentialminus\":[[0.0,\"#0d0887\"],[0.1111111111111111,\"#46039f\"],[0.2222222222222222,\"#7201a8\"],[0.3333333333333333,\"#9c179e\"],[0.4444444444444444,\"#bd3786\"],[0.5555555555555556,\"#d8576b\"],[0.6666666666666666,\"#ed7953\"],[0.7777777777777778,\"#fb9f3a\"],[0.8888888888888888,\"#fdca26\"],[1.0,\"#f0f921\"]]},\"colorway\":[\"#636efa\",\"#EF553B\",\"#00cc96\",\"#ab63fa\",\"#FFA15A\",\"#19d3f3\",\"#FF6692\",\"#B6E880\",\"#FF97FF\",\"#FECB52\"],\"font\":{\"color\":\"#2a3f5f\"},\"geo\":{\"bgcolor\":\"white\",\"lakecolor\":\"white\",\"landcolor\":\"#E5ECF6\",\"showlakes\":true,\"showland\":true,\"subunitcolor\":\"white\"},\"hoverlabel\":{\"align\":\"left\"},\"hovermode\":\"closest\",\"mapbox\":{\"style\":\"light\"},\"paper_bgcolor\":\"white\",\"plot_bgcolor\":\"#E5ECF6\",\"polar\":{\"angularaxis\":{\"gridcolor\":\"white\",\"linecolor\":\"white\",\"ticks\":\"\"},\"bgcolor\":\"#E5ECF6\",\"radialaxis\":{\"gridcolor\":\"white\",\"linecolor\":\"white\",\"ticks\":\"\"}},\"scene\":{\"xaxis\":{\"backgroundcolor\":\"#E5ECF6\",\"gridcolor\":\"white\",\"gridwidth\":2,\"linecolor\":\"white\",\"showbackground\":true,\"ticks\":\"\",\"zerolinecolor\":\"white\"},\"yaxis\":{\"backgroundcolor\":\"#E5ECF6\",\"gridcolor\":\"white\",\"gridwidth\":2,\"linecolor\":\"white\",\"showbackground\":true,\"ticks\":\"\",\"zerolinecolor\":\"white\"},\"zaxis\":{\"backgroundcolor\":\"#E5ECF6\",\"gridcolor\":\"white\",\"gridwidth\":2,\"linecolor\":\"white\",\"showbackground\":true,\"ticks\":\"\",\"zerolinecolor\":\"white\"}},\"shapedefaults\":{\"line\":{\"color\":\"#2a3f5f\"}},\"ternary\":{\"aaxis\":{\"gridcolor\":\"white\",\"linecolor\":\"white\",\"ticks\":\"\"},\"baxis\":{\"gridcolor\":\"white\",\"linecolor\":\"white\",\"ticks\":\"\"},\"bgcolor\":\"#E5ECF6\",\"caxis\":{\"gridcolor\":\"white\",\"linecolor\":\"white\",\"ticks\":\"\"}},\"title\":{\"x\":0.05},\"xaxis\":{\"automargin\":true,\"gridcolor\":\"white\",\"linecolor\":\"white\",\"ticks\":\"\",\"title\":{\"standoff\":15},\"zerolinecolor\":\"white\",\"zerolinewidth\":2},\"yaxis\":{\"automargin\":true,\"gridcolor\":\"white\",\"linecolor\":\"white\",\"ticks\":\"\",\"title\":{\"standoff\":15},\"zerolinecolor\":\"white\",\"zerolinewidth\":2}}},\"title\":{\"text\":\"Crecimiento de las categorias en 60 dias\"},\"xaxis\":{\"anchor\":\"y\",\"categoryorder\":\"total descending\",\"domain\":[0.0,1.0],\"title\":{\"text\":\"category\"}},\"yaxis\":{\"anchor\":\"x\",\"domain\":[0.0,1.0],\"title\":{\"text\":\"Crecimiento en 60 dias\"}}},                        {\"responsive\": true}                    ).then(function(){\n                            \nvar gd = document.getElementById('d580bb41-9098-48e2-bfa5-d314913d65ff');\nvar x = new MutationObserver(function (mutations, observer) {{\n        var display = window.getComputedStyle(gd).display;\n        if (!display || display === 'none') {{\n            console.log([gd, 'removed!']);\n            Plotly.purge(gd);\n            observer.disconnect();\n        }}\n}});\n\n// Listen for the removal of the full notebook cells\nvar notebookContainer = gd.closest('#notebook-container');\nif (notebookContainer) {{\n    x.observe(notebookContainer, {childList: true});\n}}\n\n// Listen for the clearing of the current output cell\nvar outputEl = gd.closest('.output');\nif (outputEl) {{\n    x.observe(outputEl, {childList: true});\n}}\n\n                        })                };                            </script>        </div>\n</body>\n</html>"
     },
     "metadata": {},
     "output_type": "display_data"
    }
   ]
  },
  {
   "cell_type": "markdown",
   "source": "### Conclusion\nNo, el crecimiento en 60 días para las categorías de juegos en el casino, aventura y juegos de rol es significativamente menor que su crecimiento en 30 días.\n\nCon un conjunto de datos dado, solo podemos especular algo, pero no podemos hacer suposiciones analíticas basadas en los datos dados. Necesitamos más variables para explicar las diferencias significativas para algunas de las categorías en el crecimiento de 30 a 60 días.\n\nVeamos los 3 mejores juegos clasificados en cada categoría en detalle.",
   "metadata": {
    "tags": [],
    "cell_id": "00045-c744c251-4e61-4217-8ada-4a3cd89c07df",
    "deepnote_cell_type": "markdown"
   }
  },
  {
   "cell_type": "markdown",
   "source": "## Top 3 de Juegos por Categoria",
   "metadata": {
    "tags": [],
    "cell_id": "00046-03e40539-f788-4ab0-ae0c-9b951fe8bbab",
    "deepnote_cell_type": "markdown"
   }
  },
  {
   "cell_type": "code",
   "metadata": {
    "tags": [],
    "cell_id": "00045-f584935d-d766-4d60-88d0-9cf5bcb5866b",
    "deepnote_to_be_reexecuted": false,
    "source_hash": "b044f1b",
    "execution_start": 1626919036550,
    "execution_millis": 67,
    "deepnote_cell_type": "code"
   },
   "source": "top_ranked_games = df[df['rank'] < 4][['rank','title','category', 'total_ratings', 'installs_in_million', '5 star ratings']]\ntop_ranked_games",
   "execution_count": 27,
   "outputs": [
    {
     "output_type": "execute_result",
     "execution_count": 27,
     "data": {
      "application/vnd.deepnote.dataframe.v2+json": {
       "row_count": 54,
       "column_count": 6,
       "columns": [
        {
         "name": "rank",
         "dtype": "int64",
         "stats": {
          "unique_count": 3,
          "nan_count": 0,
          "min": "1",
          "max": "3",
          "histogram": [
           {
            "bin_start": 1,
            "bin_end": 1.2,
            "count": 17
           },
           {
            "bin_start": 1.2,
            "bin_end": 1.4,
            "count": 0
           },
           {
            "bin_start": 1.4,
            "bin_end": 1.6,
            "count": 0
           },
           {
            "bin_start": 1.6,
            "bin_end": 1.8,
            "count": 0
           },
           {
            "bin_start": 1.8,
            "bin_end": 2,
            "count": 0
           },
           {
            "bin_start": 2,
            "bin_end": 2.2,
            "count": 17
           },
           {
            "bin_start": 2.2,
            "bin_end": 2.4000000000000004,
            "count": 0
           },
           {
            "bin_start": 2.4000000000000004,
            "bin_end": 2.6,
            "count": 0
           },
           {
            "bin_start": 2.6,
            "bin_end": 2.8,
            "count": 0
           },
           {
            "bin_start": 2.8,
            "bin_end": 3,
            "count": 20
           }
          ]
         }
        },
        {
         "name": "title",
         "dtype": "object",
         "stats": {
          "unique_count": 51,
          "nan_count": 0,
          "categories": [
           {
            "name": "Solitaire",
            "count": 4
           },
           {
            "name": "Garena Free Fire- World Series",
            "count": 1
           },
           {
            "name": "49 others",
            "count": 49
           }
          ]
         }
        },
        {
         "name": "category",
         "dtype": "object",
         "stats": {
          "unique_count": 17,
          "nan_count": 0,
          "categories": [
           {
            "name": "GAME CARD",
            "count": 6
           },
           {
            "name": "GAME ACTION",
            "count": 3
           },
           {
            "name": "15 others",
            "count": 45
           }
          ]
         }
        },
        {
         "name": "total_ratings",
         "dtype": "int64",
         "stats": {
          "unique_count": 51,
          "nan_count": 0,
          "min": "758930",
          "max": "86273129",
          "histogram": [
           {
            "bin_start": 758930,
            "bin_end": 9310349.9,
            "count": 40
           },
           {
            "bin_start": 9310349.9,
            "bin_end": 17861769.8,
            "count": 5
           },
           {
            "bin_start": 17861769.8,
            "bin_end": 26413189.700000003,
            "count": 2
           },
           {
            "bin_start": 26413189.700000003,
            "bin_end": 34964609.6,
            "count": 3
           },
           {
            "bin_start": 34964609.6,
            "bin_end": 43516029.5,
            "count": 2
           },
           {
            "bin_start": 43516029.5,
            "bin_end": 52067449.400000006,
            "count": 0
           },
           {
            "bin_start": 52067449.400000006,
            "bin_end": 60618869.300000004,
            "count": 1
           },
           {
            "bin_start": 60618869.300000004,
            "bin_end": 69170289.2,
            "count": 0
           },
           {
            "bin_start": 69170289.2,
            "bin_end": 77721709.10000001,
            "count": 0
           },
           {
            "bin_start": 77721709.10000001,
            "bin_end": 86273129,
            "count": 1
           }
          ]
         }
        },
        {
         "name": "installs_in_million",
         "dtype": "float64",
         "stats": {
          "unique_count": 5,
          "nan_count": 0,
          "min": "10000000.0",
          "max": "1000000000.0",
          "histogram": [
           {
            "bin_start": 10000000,
            "bin_end": 109000000,
            "count": 44
           },
           {
            "bin_start": 109000000,
            "bin_end": 208000000,
            "count": 0
           },
           {
            "bin_start": 208000000,
            "bin_end": 307000000,
            "count": 0
           },
           {
            "bin_start": 307000000,
            "bin_end": 406000000,
            "count": 0
           },
           {
            "bin_start": 406000000,
            "bin_end": 505000000,
            "count": 8
           },
           {
            "bin_start": 505000000,
            "bin_end": 604000000,
            "count": 0
           },
           {
            "bin_start": 604000000,
            "bin_end": 703000000,
            "count": 0
           },
           {
            "bin_start": 703000000,
            "bin_end": 802000000,
            "count": 0
           },
           {
            "bin_start": 802000000,
            "bin_end": 901000000,
            "count": 0
           },
           {
            "bin_start": 901000000,
            "bin_end": 1000000000,
            "count": 2
           }
          ]
         }
        },
        {
         "name": "5 star ratings",
         "dtype": "int64",
         "stats": {
          "unique_count": 54,
          "nan_count": 0,
          "min": "299715",
          "max": "63546766",
          "histogram": [
           {
            "bin_start": 299715,
            "bin_end": 6624420.1,
            "count": 40
           },
           {
            "bin_start": 6624420.1,
            "bin_end": 12949125.2,
            "count": 5
           },
           {
            "bin_start": 12949125.2,
            "bin_end": 19273830.299999997,
            "count": 3
           },
           {
            "bin_start": 19273830.299999997,
            "bin_end": 25598535.4,
            "count": 2
           },
           {
            "bin_start": 25598535.4,
            "bin_end": 31923240.5,
            "count": 2
           },
           {
            "bin_start": 31923240.5,
            "bin_end": 38247945.599999994,
            "count": 0
           },
           {
            "bin_start": 38247945.599999994,
            "bin_end": 44572650.699999996,
            "count": 1
           },
           {
            "bin_start": 44572650.699999996,
            "bin_end": 50897355.8,
            "count": 0
           },
           {
            "bin_start": 50897355.8,
            "bin_end": 57222060.9,
            "count": 0
           },
           {
            "bin_start": 57222060.9,
            "bin_end": 63546766,
            "count": 1
           }
          ]
         }
        },
        {
         "name": "_deepnote_index_column",
         "dtype": "int64"
        }
       ],
       "rows_top": [
        {
         "rank": 1,
         "title": "Garena Free Fire- World Series",
         "category": "GAME ACTION",
         "total_ratings": 86273129,
         "installs_in_million": 500000000,
         "5 star ratings": 63546766,
         "_deepnote_index_column": 0
        },
        {
         "rank": 2,
         "title": "PUBG MOBILE - Traverse",
         "category": "GAME ACTION",
         "total_ratings": 37276732,
         "installs_in_million": 500000000,
         "5 star ratings": 28339753,
         "_deepnote_index_column": 1
        },
        {
         "rank": 3,
         "title": "Mobile Legends: Bang Bang",
         "category": "GAME ACTION",
         "total_ratings": 26663595,
         "installs_in_million": 100000000,
         "5 star ratings": 18777988,
         "_deepnote_index_column": 2
        },
        {
         "rank": 1,
         "title": "Roblox",
         "category": "GAME ADVENTURE",
         "total_ratings": 21820451,
         "installs_in_million": 100000000,
         "5 star ratings": 16674013,
         "_deepnote_index_column": 100
        },
        {
         "rank": 2,
         "title": "Pokémon GO",
         "category": "GAME ADVENTURE",
         "total_ratings": 14541662,
         "installs_in_million": 100000000,
         "5 star ratings": 9517488,
         "_deepnote_index_column": 101
        },
        {
         "rank": 3,
         "title": "Criminal Case",
         "category": "GAME ADVENTURE",
         "total_ratings": 4273420,
         "installs_in_million": 100000000,
         "5 star ratings": 3264905,
         "_deepnote_index_column": 102
        },
        {
         "rank": 1,
         "title": "Subway Surfers",
         "category": "GAME ARCADE",
         "total_ratings": 35665901,
         "installs_in_million": 1000000000,
         "5 star ratings": 27138572,
         "_deepnote_index_column": 200
        },
        {
         "rank": 2,
         "title": "Hungry Shark Evolution - Offline survival game",
         "category": "GAME ARCADE",
         "total_ratings": 7202013,
         "installs_in_million": 100000000,
         "5 star ratings": 5220860,
         "_deepnote_index_column": 201
        },
        {
         "rank": 3,
         "title": "Geometry Dash Lite",
         "category": "GAME ARCADE",
         "total_ratings": 6960814,
         "installs_in_million": 100000000,
         "5 star ratings": 4787054,
         "_deepnote_index_column": 202
        },
        {
         "rank": 1,
         "title": "Ludo King™",
         "category": "GAME BOARD",
         "total_ratings": 7512316,
         "installs_in_million": 500000000,
         "5 star ratings": 5291589,
         "_deepnote_index_column": 300
        },
        {
         "rank": 2,
         "title": "Happy Color™ – Color by Number. Coloring games.",
         "category": "GAME BOARD",
         "total_ratings": 2516777,
         "installs_in_million": 100000000,
         "5 star ratings": 1927153,
         "_deepnote_index_column": 301
        },
        {
         "rank": 3,
         "title": "101 Yüzbir Okey Plus",
         "category": "GAME BOARD",
         "total_ratings": 2430531,
         "installs_in_million": 10000000,
         "5 star ratings": 1763377,
         "_deepnote_index_column": 302
        },
        {
         "rank": 1,
         "title": "Yu-Gi-Oh! Duel Links",
         "category": "GAME CARD",
         "total_ratings": 2113853,
         "installs_in_million": 50000000,
         "5 star ratings": 1541203,
         "_deepnote_index_column": 400
        },
        {
         "rank": 2,
         "title": "Hearthstone",
         "category": "GAME CARD",
         "total_ratings": 1765570,
         "installs_in_million": 10000000,
         "5 star ratings": 960279,
         "_deepnote_index_column": 401
        },
        {
         "rank": 3,
         "title": "Solitaire",
         "category": "GAME CARD",
         "total_ratings": 1590733,
         "installs_in_million": 100000000,
         "5 star ratings": 1117298,
         "_deepnote_index_column": 402
        },
        {
         "rank": 3,
         "title": "Solitaire",
         "category": "GAME CARD",
         "total_ratings": 1590733,
         "installs_in_million": 100000000,
         "5 star ratings": 431463,
         "_deepnote_index_column": 403
        },
        {
         "rank": 3,
         "title": "Solitaire",
         "category": "GAME CARD",
         "total_ratings": 1590733,
         "installs_in_million": 100000000,
         "5 star ratings": 418115,
         "_deepnote_index_column": 404
        },
        {
         "rank": 3,
         "title": "Solitaire",
         "category": "GAME CARD",
         "total_ratings": 1590733,
         "installs_in_million": 100000000,
         "5 star ratings": 299715,
         "_deepnote_index_column": 405
        },
        {
         "rank": 1,
         "title": "Zynga Poker™ – Free Texas Holdem Online Card Games",
         "category": "GAME CASINO",
         "total_ratings": 2582669,
         "installs_in_million": 50000000,
         "5 star ratings": 1821678,
         "_deepnote_index_column": 526
        },
        {
         "rank": 2,
         "title": "Slotomania™ Slots: Casino Slot Machine Games",
         "category": "GAME CASINO",
         "total_ratings": 1822223,
         "installs_in_million": 50000000,
         "5 star ratings": 1293272,
         "_deepnote_index_column": 527
        },
        {
         "rank": 3,
         "title": "Teen Patti Gold – Indian Family Card Game",
         "category": "GAME CASINO",
         "total_ratings": 1529589,
         "installs_in_million": 50000000,
         "5 star ratings": 1210258,
         "_deepnote_index_column": 528
        },
        {
         "rank": 1,
         "title": "Candy Crush Saga",
         "category": "GAME CASUAL",
         "total_ratings": 31367945,
         "installs_in_million": 1000000000,
         "5 star ratings": 23837448,
         "_deepnote_index_column": 626
        },
        {
         "rank": 2,
         "title": "My Talking Tom",
         "category": "GAME CASUAL",
         "total_ratings": 16810315,
         "installs_in_million": 500000000,
         "5 star ratings": 12234051,
         "_deepnote_index_column": 627
        },
        {
         "rank": 3,
         "title": "My Talking Angela",
         "category": "GAME CASUAL",
         "total_ratings": 13050503,
         "installs_in_million": 500000000,
         "5 star ratings": 9165205,
         "_deepnote_index_column": 628
        },
        {
         "rank": 1,
         "title": "Toca Life World: Build stories & create your world",
         "category": "GAME EDUCATIONAL",
         "total_ratings": 1690405,
         "installs_in_million": 50000000,
         "5 star ratings": 1191130,
         "_deepnote_index_column": 726
        },
        {
         "rank": 2,
         "title": "Toca Kitchen 2",
         "category": "GAME EDUCATIONAL",
         "total_ratings": 1543998,
         "installs_in_million": 100000000,
         "5 star ratings": 1044380,
         "_deepnote_index_column": 727
        },
        {
         "rank": 3,
         "title": "Cooking Mama: Let's cook!",
         "category": "GAME EDUCATIONAL",
         "total_ratings": 758930,
         "installs_in_million": 50000000,
         "5 star ratings": 569677,
         "_deepnote_index_column": 728
        },
        {
         "rank": 1,
         "title": "Tiles Hop: EDM Rush!",
         "category": "GAME MUSIC",
         "total_ratings": 2454558,
         "installs_in_million": 100000000,
         "5 star ratings": 1815983,
         "_deepnote_index_column": 826
        },
        {
         "rank": 2,
         "title": "Magic Tiles 3",
         "category": "GAME MUSIC",
         "total_ratings": 2381045,
         "installs_in_million": 100000000,
         "5 star ratings": 1570436,
         "_deepnote_index_column": 827
        },
        {
         "rank": 3,
         "title": "My Singing Monsters",
         "category": "GAME MUSIC",
         "total_ratings": 1363013,
         "installs_in_million": 10000000,
         "5 star ratings": 1099001,
         "_deepnote_index_column": 828
        },
        {
         "rank": 1,
         "title": "Fishdom",
         "category": "GAME PUZZLE",
         "total_ratings": 4876844,
         "installs_in_million": 100000000,
         "5 star ratings": 3641850,
         "_deepnote_index_column": 926
        },
        {
         "rank": 2,
         "title": "Brain Out – Can you pass it?",
         "category": "GAME PUZZLE",
         "total_ratings": 4467655,
         "installs_in_million": 100000000,
         "5 star ratings": 3390163,
         "_deepnote_index_column": 927
        },
        {
         "rank": 3,
         "title": "Toon Blast",
         "category": "GAME PUZZLE",
         "total_ratings": 3222428,
         "installs_in_million": 50000000,
         "5 star ratings": 2556112,
         "_deepnote_index_column": 928
        },
        {
         "rank": 1,
         "title": "Hill Climb Racing",
         "category": "GAME RACING",
         "total_ratings": 10188038,
         "installs_in_million": 500000000,
         "5 star ratings": 7148370,
         "_deepnote_index_column": 1026
        },
        {
         "rank": 2,
         "title": "Traffic Rider",
         "category": "GAME RACING",
         "total_ratings": 7580227,
         "installs_in_million": 100000000,
         "5 star ratings": 5426819,
         "_deepnote_index_column": 1027
        },
        {
         "rank": 3,
         "title": "Traffic Racer",
         "category": "GAME RACING",
         "total_ratings": 6062833,
         "installs_in_million": 100000000,
         "5 star ratings": 4580870,
         "_deepnote_index_column": 1028
        },
        {
         "rank": 1,
         "title": "Shadow Fight 3 - RPG fighting game",
         "category": "GAME ROLE PLAYING",
         "total_ratings": 3170246,
         "installs_in_million": 100000000,
         "5 star ratings": 2243868,
         "_deepnote_index_column": 1126
        },
        {
         "rank": 2,
         "title": "AFK Arena",
         "category": "GAME ROLE PLAYING",
         "total_ratings": 3126336,
         "installs_in_million": 10000000,
         "5 star ratings": 2238968,
         "_deepnote_index_column": 1127
        },
        {
         "rank": 3,
         "title": "Avakin Life - 3D Virtual World",
         "category": "GAME ROLE PLAYING",
         "total_ratings": 3105550,
         "installs_in_million": 50000000,
         "5 star ratings": 2198832,
         "_deepnote_index_column": 1128
        },
        {
         "rank": 1,
         "title": "The Sims FreePlay",
         "category": "GAME SIMULATION",
         "total_ratings": 5541105,
         "installs_in_million": 100000000,
         "5 star ratings": 3457057,
         "_deepnote_index_column": 1226
        },
        {
         "rank": 2,
         "title": "SimCity BuildIt",
         "category": "GAME SIMULATION",
         "total_ratings": 5213933,
         "installs_in_million": 100000000,
         "5 star ratings": 3484074,
         "_deepnote_index_column": 1227
        },
        {
         "rank": 3,
         "title": "Episode - Choose Your Story",
         "category": "GAME SIMULATION",
         "total_ratings": 3622549,
         "installs_in_million": 100000000,
         "5 star ratings": 2310125,
         "_deepnote_index_column": 1228
        },
        {
         "rank": 1,
         "title": "8 Ball Pool",
         "category": "GAME SPORTS",
         "total_ratings": 21632735,
         "installs_in_million": 500000000,
         "5 star ratings": 16281475,
         "_deepnote_index_column": 1326
        },
        {
         "rank": 2,
         "title": "Dream League Soccer",
         "category": "GAME SPORTS",
         "total_ratings": 13385786,
         "installs_in_million": 100000000,
         "5 star ratings": 10086735,
         "_deepnote_index_column": 1327
        },
        {
         "rank": 3,
         "title": "Score! Hero",
         "category": "GAME SPORTS",
         "total_ratings": 6856324,
         "installs_in_million": 100000000,
         "5 star ratings": 4551071,
         "_deepnote_index_column": 1328
        },
        {
         "rank": 1,
         "title": "Clash of Clans",
         "category": "GAME STRATEGY",
         "total_ratings": 55766763,
         "installs_in_million": 500000000,
         "5 star ratings": 43346128,
         "_deepnote_index_column": 1426
        },
        {
         "rank": 2,
         "title": "Clash Royale",
         "category": "GAME STRATEGY",
         "total_ratings": 30852360,
         "installs_in_million": 100000000,
         "5 star ratings": 21009004,
         "_deepnote_index_column": 1427
        },
        {
         "rank": 3,
         "title": "Lords Mobile: Tower Defense",
         "category": "GAME STRATEGY",
         "total_ratings": 6548519,
         "installs_in_million": 100000000,
         "5 star ratings": 4667558,
         "_deepnote_index_column": 1428
        },
        {
         "rank": 1,
         "title": "Trivia Crack",
         "category": "GAME TRIVIA",
         "total_ratings": 7334155,
         "installs_in_million": 100000000,
         "5 star ratings": 4938889,
         "_deepnote_index_column": 1526
        },
        {
         "rank": 2,
         "title": "Brain Test: Tricky Puzzles",
         "category": "GAME TRIVIA",
         "total_ratings": 4145089,
         "installs_in_million": 100000000,
         "5 star ratings": 3257745,
         "_deepnote_index_column": 1527
        },
        {
         "rank": 3,
         "title": "94% - Quiz, Trivia & Logic",
         "category": "GAME TRIVIA",
         "total_ratings": 2614691,
         "installs_in_million": 10000000,
         "5 star ratings": 1793644,
         "_deepnote_index_column": 1528
        },
        {
         "rank": 1,
         "title": "كلمات كراش - لعبة تسلية وتحدي من زيتونة",
         "category": "GAME WORD",
         "total_ratings": 2418119,
         "installs_in_million": 10000000,
         "5 star ratings": 2115189,
         "_deepnote_index_column": 1626
        },
        {
         "rank": 2,
         "title": "Word Cookies!®",
         "category": "GAME WORD",
         "total_ratings": 2250585,
         "installs_in_million": 10000000,
         "5 star ratings": 1679256,
         "_deepnote_index_column": 1627
        },
        {
         "rank": 3,
         "title": "Words of Wonders: Crossword to Connect Vocabulary",
         "category": "GAME WORD",
         "total_ratings": 1885400,
         "installs_in_million": 100000000,
         "5 star ratings": 1457939,
         "_deepnote_index_column": 1628
        }
       ],
       "rows_bottom": null
      },
      "text/plain": "      rank                                              title  \\\n0        1                     Garena Free Fire- World Series   \n1        2                             PUBG MOBILE - Traverse   \n2        3                          Mobile Legends: Bang Bang   \n100      1                                             Roblox   \n101      2                                         Pokémon GO   \n102      3                                      Criminal Case   \n200      1                                     Subway Surfers   \n201      2     Hungry Shark Evolution - Offline survival game   \n202      3                                 Geometry Dash Lite   \n300      1                                         Ludo King™   \n301      2    Happy Color™ – Color by Number. Coloring games.   \n302      3                               101 Yüzbir Okey Plus   \n400      1                               Yu-Gi-Oh! Duel Links   \n401      2                                        Hearthstone   \n402      3                                          Solitaire   \n403      3                                          Solitaire   \n404      3                                          Solitaire   \n405      3                                          Solitaire   \n526      1  Zynga Poker™ – Free Texas Holdem Online Card G...   \n527      2       Slotomania™ Slots: Casino Slot Machine Games   \n528      3          Teen Patti Gold – Indian Family Card Game   \n626      1                                   Candy Crush Saga   \n627      2                                     My Talking Tom   \n628      3                                  My Talking Angela   \n726      1  Toca Life World: Build stories & create your w...   \n727      2                                     Toca Kitchen 2   \n728      3                          Cooking Mama: Let's cook!   \n826      1                               Tiles Hop: EDM Rush!   \n827      2                                      Magic Tiles 3   \n828      3                                My Singing Monsters   \n926      1                                            Fishdom   \n927      2                       Brain Out – Can you pass it?   \n928      3                                         Toon Blast   \n1026     1                                  Hill Climb Racing   \n1027     2                                      Traffic Rider   \n1028     3                                      Traffic Racer   \n1126     1                 Shadow Fight 3 - RPG fighting game   \n1127     2                                          AFK Arena   \n1128     3                     Avakin Life - 3D Virtual World   \n1226     1                                  The Sims FreePlay   \n1227     2                                    SimCity BuildIt   \n1228     3                        Episode - Choose Your Story   \n1326     1                                        8 Ball Pool   \n1327     2                                Dream League Soccer   \n1328     3                                        Score! Hero   \n1426     1                                     Clash of Clans   \n1427     2                                       Clash Royale   \n1428     3                        Lords Mobile: Tower Defense   \n1526     1                                       Trivia Crack   \n1527     2                         Brain Test: Tricky Puzzles   \n1528     3                         94% - Quiz, Trivia & Logic   \n1626     1            كلمات كراش - لعبة تسلية وتحدي من زيتونة   \n1627     2                                     Word Cookies!®   \n1628     3  Words of Wonders: Crossword to Connect Vocabulary   \n\n               category  total_ratings  installs_in_million  5 star ratings  \n0           GAME ACTION       86273129         5.000000e+08        63546766  \n1           GAME ACTION       37276732         5.000000e+08        28339753  \n2           GAME ACTION       26663595         1.000000e+08        18777988  \n100      GAME ADVENTURE       21820451         1.000000e+08        16674013  \n101      GAME ADVENTURE       14541662         1.000000e+08         9517488  \n102      GAME ADVENTURE        4273420         1.000000e+08         3264905  \n200         GAME ARCADE       35665901         1.000000e+09        27138572  \n201         GAME ARCADE        7202013         1.000000e+08         5220860  \n202         GAME ARCADE        6960814         1.000000e+08         4787054  \n300          GAME BOARD        7512316         5.000000e+08         5291589  \n301          GAME BOARD        2516777         1.000000e+08         1927153  \n302          GAME BOARD        2430531         1.000000e+07         1763377  \n400           GAME CARD        2113853         5.000000e+07         1541203  \n401           GAME CARD        1765570         1.000000e+07          960279  \n402           GAME CARD        1590733         1.000000e+08         1117298  \n403           GAME CARD        1590733         1.000000e+08          431463  \n404           GAME CARD        1590733         1.000000e+08          418115  \n405           GAME CARD        1590733         1.000000e+08          299715  \n526         GAME CASINO        2582669         5.000000e+07         1821678  \n527         GAME CASINO        1822223         5.000000e+07         1293272  \n528         GAME CASINO        1529589         5.000000e+07         1210258  \n626         GAME CASUAL       31367945         1.000000e+09        23837448  \n627         GAME CASUAL       16810315         5.000000e+08        12234051  \n628         GAME CASUAL       13050503         5.000000e+08         9165205  \n726    GAME EDUCATIONAL        1690405         5.000000e+07         1191130  \n727    GAME EDUCATIONAL        1543998         1.000000e+08         1044380  \n728    GAME EDUCATIONAL         758930         5.000000e+07          569677  \n826          GAME MUSIC        2454558         1.000000e+08         1815983  \n827          GAME MUSIC        2381045         1.000000e+08         1570436  \n828          GAME MUSIC        1363013         1.000000e+07         1099001  \n926         GAME PUZZLE        4876844         1.000000e+08         3641850  \n927         GAME PUZZLE        4467655         1.000000e+08         3390163  \n928         GAME PUZZLE        3222428         5.000000e+07         2556112  \n1026        GAME RACING       10188038         5.000000e+08         7148370  \n1027        GAME RACING        7580227         1.000000e+08         5426819  \n1028        GAME RACING        6062833         1.000000e+08         4580870  \n1126  GAME ROLE PLAYING        3170246         1.000000e+08         2243868  \n1127  GAME ROLE PLAYING        3126336         1.000000e+07         2238968  \n1128  GAME ROLE PLAYING        3105550         5.000000e+07         2198832  \n1226    GAME SIMULATION        5541105         1.000000e+08         3457057  \n1227    GAME SIMULATION        5213933         1.000000e+08         3484074  \n1228    GAME SIMULATION        3622549         1.000000e+08         2310125  \n1326        GAME SPORTS       21632735         5.000000e+08        16281475  \n1327        GAME SPORTS       13385786         1.000000e+08        10086735  \n1328        GAME SPORTS        6856324         1.000000e+08         4551071  \n1426      GAME STRATEGY       55766763         5.000000e+08        43346128  \n1427      GAME STRATEGY       30852360         1.000000e+08        21009004  \n1428      GAME STRATEGY        6548519         1.000000e+08         4667558  \n1526        GAME TRIVIA        7334155         1.000000e+08         4938889  \n1527        GAME TRIVIA        4145089         1.000000e+08         3257745  \n1528        GAME TRIVIA        2614691         1.000000e+07         1793644  \n1626          GAME WORD        2418119         1.000000e+07         2115189  \n1627          GAME WORD        2250585         1.000000e+07         1679256  \n1628          GAME WORD        1885400         1.000000e+08         1457939  ",
      "text/html": "<div>\n<style scoped>\n    .dataframe tbody tr th:only-of-type {\n        vertical-align: middle;\n    }\n\n    .dataframe tbody tr th {\n        vertical-align: top;\n    }\n\n    .dataframe thead th {\n        text-align: right;\n    }\n</style>\n<table border=\"1\" class=\"dataframe\">\n  <thead>\n    <tr style=\"text-align: right;\">\n      <th></th>\n      <th>rank</th>\n      <th>title</th>\n      <th>category</th>\n      <th>total_ratings</th>\n      <th>installs_in_million</th>\n      <th>5 star ratings</th>\n    </tr>\n  </thead>\n  <tbody>\n    <tr>\n      <th>0</th>\n      <td>1</td>\n      <td>Garena Free Fire- World Series</td>\n      <td>GAME ACTION</td>\n      <td>86273129</td>\n      <td>5.000000e+08</td>\n      <td>63546766</td>\n    </tr>\n    <tr>\n      <th>1</th>\n      <td>2</td>\n      <td>PUBG MOBILE - Traverse</td>\n      <td>GAME ACTION</td>\n      <td>37276732</td>\n      <td>5.000000e+08</td>\n      <td>28339753</td>\n    </tr>\n    <tr>\n      <th>2</th>\n      <td>3</td>\n      <td>Mobile Legends: Bang Bang</td>\n      <td>GAME ACTION</td>\n      <td>26663595</td>\n      <td>1.000000e+08</td>\n      <td>18777988</td>\n    </tr>\n    <tr>\n      <th>100</th>\n      <td>1</td>\n      <td>Roblox</td>\n      <td>GAME ADVENTURE</td>\n      <td>21820451</td>\n      <td>1.000000e+08</td>\n      <td>16674013</td>\n    </tr>\n    <tr>\n      <th>101</th>\n      <td>2</td>\n      <td>Pokémon GO</td>\n      <td>GAME ADVENTURE</td>\n      <td>14541662</td>\n      <td>1.000000e+08</td>\n      <td>9517488</td>\n    </tr>\n    <tr>\n      <th>102</th>\n      <td>3</td>\n      <td>Criminal Case</td>\n      <td>GAME ADVENTURE</td>\n      <td>4273420</td>\n      <td>1.000000e+08</td>\n      <td>3264905</td>\n    </tr>\n    <tr>\n      <th>200</th>\n      <td>1</td>\n      <td>Subway Surfers</td>\n      <td>GAME ARCADE</td>\n      <td>35665901</td>\n      <td>1.000000e+09</td>\n      <td>27138572</td>\n    </tr>\n    <tr>\n      <th>201</th>\n      <td>2</td>\n      <td>Hungry Shark Evolution - Offline survival game</td>\n      <td>GAME ARCADE</td>\n      <td>7202013</td>\n      <td>1.000000e+08</td>\n      <td>5220860</td>\n    </tr>\n    <tr>\n      <th>202</th>\n      <td>3</td>\n      <td>Geometry Dash Lite</td>\n      <td>GAME ARCADE</td>\n      <td>6960814</td>\n      <td>1.000000e+08</td>\n      <td>4787054</td>\n    </tr>\n    <tr>\n      <th>300</th>\n      <td>1</td>\n      <td>Ludo King™</td>\n      <td>GAME BOARD</td>\n      <td>7512316</td>\n      <td>5.000000e+08</td>\n      <td>5291589</td>\n    </tr>\n    <tr>\n      <th>301</th>\n      <td>2</td>\n      <td>Happy Color™ – Color by Number. Coloring games.</td>\n      <td>GAME BOARD</td>\n      <td>2516777</td>\n      <td>1.000000e+08</td>\n      <td>1927153</td>\n    </tr>\n    <tr>\n      <th>302</th>\n      <td>3</td>\n      <td>101 Yüzbir Okey Plus</td>\n      <td>GAME BOARD</td>\n      <td>2430531</td>\n      <td>1.000000e+07</td>\n      <td>1763377</td>\n    </tr>\n    <tr>\n      <th>400</th>\n      <td>1</td>\n      <td>Yu-Gi-Oh! Duel Links</td>\n      <td>GAME CARD</td>\n      <td>2113853</td>\n      <td>5.000000e+07</td>\n      <td>1541203</td>\n    </tr>\n    <tr>\n      <th>401</th>\n      <td>2</td>\n      <td>Hearthstone</td>\n      <td>GAME CARD</td>\n      <td>1765570</td>\n      <td>1.000000e+07</td>\n      <td>960279</td>\n    </tr>\n    <tr>\n      <th>402</th>\n      <td>3</td>\n      <td>Solitaire</td>\n      <td>GAME CARD</td>\n      <td>1590733</td>\n      <td>1.000000e+08</td>\n      <td>1117298</td>\n    </tr>\n    <tr>\n      <th>403</th>\n      <td>3</td>\n      <td>Solitaire</td>\n      <td>GAME CARD</td>\n      <td>1590733</td>\n      <td>1.000000e+08</td>\n      <td>431463</td>\n    </tr>\n    <tr>\n      <th>404</th>\n      <td>3</td>\n      <td>Solitaire</td>\n      <td>GAME CARD</td>\n      <td>1590733</td>\n      <td>1.000000e+08</td>\n      <td>418115</td>\n    </tr>\n    <tr>\n      <th>405</th>\n      <td>3</td>\n      <td>Solitaire</td>\n      <td>GAME CARD</td>\n      <td>1590733</td>\n      <td>1.000000e+08</td>\n      <td>299715</td>\n    </tr>\n    <tr>\n      <th>526</th>\n      <td>1</td>\n      <td>Zynga Poker™ – Free Texas Holdem Online Card G...</td>\n      <td>GAME CASINO</td>\n      <td>2582669</td>\n      <td>5.000000e+07</td>\n      <td>1821678</td>\n    </tr>\n    <tr>\n      <th>527</th>\n      <td>2</td>\n      <td>Slotomania™ Slots: Casino Slot Machine Games</td>\n      <td>GAME CASINO</td>\n      <td>1822223</td>\n      <td>5.000000e+07</td>\n      <td>1293272</td>\n    </tr>\n    <tr>\n      <th>528</th>\n      <td>3</td>\n      <td>Teen Patti Gold – Indian Family Card Game</td>\n      <td>GAME CASINO</td>\n      <td>1529589</td>\n      <td>5.000000e+07</td>\n      <td>1210258</td>\n    </tr>\n    <tr>\n      <th>626</th>\n      <td>1</td>\n      <td>Candy Crush Saga</td>\n      <td>GAME CASUAL</td>\n      <td>31367945</td>\n      <td>1.000000e+09</td>\n      <td>23837448</td>\n    </tr>\n    <tr>\n      <th>627</th>\n      <td>2</td>\n      <td>My Talking Tom</td>\n      <td>GAME CASUAL</td>\n      <td>16810315</td>\n      <td>5.000000e+08</td>\n      <td>12234051</td>\n    </tr>\n    <tr>\n      <th>628</th>\n      <td>3</td>\n      <td>My Talking Angela</td>\n      <td>GAME CASUAL</td>\n      <td>13050503</td>\n      <td>5.000000e+08</td>\n      <td>9165205</td>\n    </tr>\n    <tr>\n      <th>726</th>\n      <td>1</td>\n      <td>Toca Life World: Build stories &amp; create your w...</td>\n      <td>GAME EDUCATIONAL</td>\n      <td>1690405</td>\n      <td>5.000000e+07</td>\n      <td>1191130</td>\n    </tr>\n    <tr>\n      <th>727</th>\n      <td>2</td>\n      <td>Toca Kitchen 2</td>\n      <td>GAME EDUCATIONAL</td>\n      <td>1543998</td>\n      <td>1.000000e+08</td>\n      <td>1044380</td>\n    </tr>\n    <tr>\n      <th>728</th>\n      <td>3</td>\n      <td>Cooking Mama: Let's cook!</td>\n      <td>GAME EDUCATIONAL</td>\n      <td>758930</td>\n      <td>5.000000e+07</td>\n      <td>569677</td>\n    </tr>\n    <tr>\n      <th>826</th>\n      <td>1</td>\n      <td>Tiles Hop: EDM Rush!</td>\n      <td>GAME MUSIC</td>\n      <td>2454558</td>\n      <td>1.000000e+08</td>\n      <td>1815983</td>\n    </tr>\n    <tr>\n      <th>827</th>\n      <td>2</td>\n      <td>Magic Tiles 3</td>\n      <td>GAME MUSIC</td>\n      <td>2381045</td>\n      <td>1.000000e+08</td>\n      <td>1570436</td>\n    </tr>\n    <tr>\n      <th>828</th>\n      <td>3</td>\n      <td>My Singing Monsters</td>\n      <td>GAME MUSIC</td>\n      <td>1363013</td>\n      <td>1.000000e+07</td>\n      <td>1099001</td>\n    </tr>\n    <tr>\n      <th>926</th>\n      <td>1</td>\n      <td>Fishdom</td>\n      <td>GAME PUZZLE</td>\n      <td>4876844</td>\n      <td>1.000000e+08</td>\n      <td>3641850</td>\n    </tr>\n    <tr>\n      <th>927</th>\n      <td>2</td>\n      <td>Brain Out – Can you pass it?</td>\n      <td>GAME PUZZLE</td>\n      <td>4467655</td>\n      <td>1.000000e+08</td>\n      <td>3390163</td>\n    </tr>\n    <tr>\n      <th>928</th>\n      <td>3</td>\n      <td>Toon Blast</td>\n      <td>GAME PUZZLE</td>\n      <td>3222428</td>\n      <td>5.000000e+07</td>\n      <td>2556112</td>\n    </tr>\n    <tr>\n      <th>1026</th>\n      <td>1</td>\n      <td>Hill Climb Racing</td>\n      <td>GAME RACING</td>\n      <td>10188038</td>\n      <td>5.000000e+08</td>\n      <td>7148370</td>\n    </tr>\n    <tr>\n      <th>1027</th>\n      <td>2</td>\n      <td>Traffic Rider</td>\n      <td>GAME RACING</td>\n      <td>7580227</td>\n      <td>1.000000e+08</td>\n      <td>5426819</td>\n    </tr>\n    <tr>\n      <th>1028</th>\n      <td>3</td>\n      <td>Traffic Racer</td>\n      <td>GAME RACING</td>\n      <td>6062833</td>\n      <td>1.000000e+08</td>\n      <td>4580870</td>\n    </tr>\n    <tr>\n      <th>1126</th>\n      <td>1</td>\n      <td>Shadow Fight 3 - RPG fighting game</td>\n      <td>GAME ROLE PLAYING</td>\n      <td>3170246</td>\n      <td>1.000000e+08</td>\n      <td>2243868</td>\n    </tr>\n    <tr>\n      <th>1127</th>\n      <td>2</td>\n      <td>AFK Arena</td>\n      <td>GAME ROLE PLAYING</td>\n      <td>3126336</td>\n      <td>1.000000e+07</td>\n      <td>2238968</td>\n    </tr>\n    <tr>\n      <th>1128</th>\n      <td>3</td>\n      <td>Avakin Life - 3D Virtual World</td>\n      <td>GAME ROLE PLAYING</td>\n      <td>3105550</td>\n      <td>5.000000e+07</td>\n      <td>2198832</td>\n    </tr>\n    <tr>\n      <th>1226</th>\n      <td>1</td>\n      <td>The Sims FreePlay</td>\n      <td>GAME SIMULATION</td>\n      <td>5541105</td>\n      <td>1.000000e+08</td>\n      <td>3457057</td>\n    </tr>\n    <tr>\n      <th>1227</th>\n      <td>2</td>\n      <td>SimCity BuildIt</td>\n      <td>GAME SIMULATION</td>\n      <td>5213933</td>\n      <td>1.000000e+08</td>\n      <td>3484074</td>\n    </tr>\n    <tr>\n      <th>1228</th>\n      <td>3</td>\n      <td>Episode - Choose Your Story</td>\n      <td>GAME SIMULATION</td>\n      <td>3622549</td>\n      <td>1.000000e+08</td>\n      <td>2310125</td>\n    </tr>\n    <tr>\n      <th>1326</th>\n      <td>1</td>\n      <td>8 Ball Pool</td>\n      <td>GAME SPORTS</td>\n      <td>21632735</td>\n      <td>5.000000e+08</td>\n      <td>16281475</td>\n    </tr>\n    <tr>\n      <th>1327</th>\n      <td>2</td>\n      <td>Dream League Soccer</td>\n      <td>GAME SPORTS</td>\n      <td>13385786</td>\n      <td>1.000000e+08</td>\n      <td>10086735</td>\n    </tr>\n    <tr>\n      <th>1328</th>\n      <td>3</td>\n      <td>Score! Hero</td>\n      <td>GAME SPORTS</td>\n      <td>6856324</td>\n      <td>1.000000e+08</td>\n      <td>4551071</td>\n    </tr>\n    <tr>\n      <th>1426</th>\n      <td>1</td>\n      <td>Clash of Clans</td>\n      <td>GAME STRATEGY</td>\n      <td>55766763</td>\n      <td>5.000000e+08</td>\n      <td>43346128</td>\n    </tr>\n    <tr>\n      <th>1427</th>\n      <td>2</td>\n      <td>Clash Royale</td>\n      <td>GAME STRATEGY</td>\n      <td>30852360</td>\n      <td>1.000000e+08</td>\n      <td>21009004</td>\n    </tr>\n    <tr>\n      <th>1428</th>\n      <td>3</td>\n      <td>Lords Mobile: Tower Defense</td>\n      <td>GAME STRATEGY</td>\n      <td>6548519</td>\n      <td>1.000000e+08</td>\n      <td>4667558</td>\n    </tr>\n    <tr>\n      <th>1526</th>\n      <td>1</td>\n      <td>Trivia Crack</td>\n      <td>GAME TRIVIA</td>\n      <td>7334155</td>\n      <td>1.000000e+08</td>\n      <td>4938889</td>\n    </tr>\n    <tr>\n      <th>1527</th>\n      <td>2</td>\n      <td>Brain Test: Tricky Puzzles</td>\n      <td>GAME TRIVIA</td>\n      <td>4145089</td>\n      <td>1.000000e+08</td>\n      <td>3257745</td>\n    </tr>\n    <tr>\n      <th>1528</th>\n      <td>3</td>\n      <td>94% - Quiz, Trivia &amp; Logic</td>\n      <td>GAME TRIVIA</td>\n      <td>2614691</td>\n      <td>1.000000e+07</td>\n      <td>1793644</td>\n    </tr>\n    <tr>\n      <th>1626</th>\n      <td>1</td>\n      <td>كلمات كراش - لعبة تسلية وتحدي من زيتونة</td>\n      <td>GAME WORD</td>\n      <td>2418119</td>\n      <td>1.000000e+07</td>\n      <td>2115189</td>\n    </tr>\n    <tr>\n      <th>1627</th>\n      <td>2</td>\n      <td>Word Cookies!®</td>\n      <td>GAME WORD</td>\n      <td>2250585</td>\n      <td>1.000000e+07</td>\n      <td>1679256</td>\n    </tr>\n    <tr>\n      <th>1628</th>\n      <td>3</td>\n      <td>Words of Wonders: Crossword to Connect Vocabulary</td>\n      <td>GAME WORD</td>\n      <td>1885400</td>\n      <td>1.000000e+08</td>\n      <td>1457939</td>\n    </tr>\n  </tbody>\n</table>\n</div>"
     },
     "metadata": {}
    }
   ]
  },
  {
   "cell_type": "code",
   "metadata": {
    "tags": [],
    "cell_id": "00048-ab792fdd-8efa-4823-8ad0-7af40f84e026",
    "deepnote_to_be_reexecuted": false,
    "source_hash": "f66608bb",
    "execution_start": 1626919036619,
    "execution_millis": 221,
    "deepnote_cell_type": "code"
   },
   "source": "fig = px.scatter(top_ranked_games, \n    y='title', \n    x='total_ratings',\n    hover_data=top_ranked_games[['category','rank']],\n    color='category',\n    title='Top 3 de Juegos por Categoria',\n    labels={\n        \"title\": \"Juegos\",\n        \"total_ratings\": \"Total Rating\",\n    }\n)\nfig.show()",
   "execution_count": 28,
   "outputs": [
    {
     "data": {
      "text/html": "<html>\n<head><meta charset=\"utf-8\" /></head>\n<body>\n    <div>            <script src=\"https://cdnjs.cloudflare.com/ajax/libs/mathjax/2.7.5/MathJax.js?config=TeX-AMS-MML_SVG\"></script><script type=\"text/javascript\">if (window.MathJax) {MathJax.Hub.Config({SVG: {font: \"STIX-Web\"}});}</script>                <script type=\"text/javascript\">window.PlotlyConfig = {MathJaxConfig: 'local'};</script>\n        <script src=\"https://cdn.plot.ly/plotly-2.2.0.min.js\"></script>                <div id=\"c65ad9f6-28ff-42ed-8cc0-11bcec2aa9c3\" class=\"plotly-graph-div\" style=\"height:525px; width:100%;\"></div>            <script type=\"text/javascript\">                                    window.PLOTLYENV=window.PLOTLYENV || {};                                    if (document.getElementById(\"c65ad9f6-28ff-42ed-8cc0-11bcec2aa9c3\")) {                    Plotly.newPlot(                        \"c65ad9f6-28ff-42ed-8cc0-11bcec2aa9c3\",                        [{\"customdata\":[[\"GAME ACTION\",1],[\"GAME ACTION\",2],[\"GAME ACTION\",3]],\"hovertemplate\":\"category=%{customdata[0]}<br>Total Rating=%{x}<br>Juegos=%{y}<br>rank=%{customdata[1]}<extra></extra>\",\"legendgroup\":\"GAME ACTION\",\"marker\":{\"color\":\"#636efa\",\"symbol\":\"circle\"},\"mode\":\"markers\",\"name\":\"GAME ACTION\",\"orientation\":\"h\",\"showlegend\":true,\"type\":\"scatter\",\"x\":[86273129,37276732,26663595],\"xaxis\":\"x\",\"y\":[\"Garena Free Fire- World Series\",\"PUBG MOBILE - Traverse\",\"Mobile Legends: Bang Bang\"],\"yaxis\":\"y\"},{\"customdata\":[[\"GAME ADVENTURE\",1],[\"GAME ADVENTURE\",2],[\"GAME ADVENTURE\",3]],\"hovertemplate\":\"category=%{customdata[0]}<br>Total Rating=%{x}<br>Juegos=%{y}<br>rank=%{customdata[1]}<extra></extra>\",\"legendgroup\":\"GAME ADVENTURE\",\"marker\":{\"color\":\"#EF553B\",\"symbol\":\"circle\"},\"mode\":\"markers\",\"name\":\"GAME ADVENTURE\",\"orientation\":\"h\",\"showlegend\":true,\"type\":\"scatter\",\"x\":[21820451,14541662,4273420],\"xaxis\":\"x\",\"y\":[\"Roblox\",\"Pok\\u00e9mon GO\",\"Criminal Case\"],\"yaxis\":\"y\"},{\"customdata\":[[\"GAME ARCADE\",1],[\"GAME ARCADE\",2],[\"GAME ARCADE\",3]],\"hovertemplate\":\"category=%{customdata[0]}<br>Total Rating=%{x}<br>Juegos=%{y}<br>rank=%{customdata[1]}<extra></extra>\",\"legendgroup\":\"GAME ARCADE\",\"marker\":{\"color\":\"#00cc96\",\"symbol\":\"circle\"},\"mode\":\"markers\",\"name\":\"GAME ARCADE\",\"orientation\":\"h\",\"showlegend\":true,\"type\":\"scatter\",\"x\":[35665901,7202013,6960814],\"xaxis\":\"x\",\"y\":[\"Subway Surfers\",\"Hungry Shark Evolution - Offline survival game\",\"Geometry Dash Lite\"],\"yaxis\":\"y\"},{\"customdata\":[[\"GAME BOARD\",1],[\"GAME BOARD\",2],[\"GAME BOARD\",3]],\"hovertemplate\":\"category=%{customdata[0]}<br>Total Rating=%{x}<br>Juegos=%{y}<br>rank=%{customdata[1]}<extra></extra>\",\"legendgroup\":\"GAME BOARD\",\"marker\":{\"color\":\"#ab63fa\",\"symbol\":\"circle\"},\"mode\":\"markers\",\"name\":\"GAME BOARD\",\"orientation\":\"h\",\"showlegend\":true,\"type\":\"scatter\",\"x\":[7512316,2516777,2430531],\"xaxis\":\"x\",\"y\":[\"Ludo King\\u2122\",\"Happy Color\\u2122 \\u2013 Color by Number. Coloring games.\",\"101 Y\\u00fczbir Okey Plus\"],\"yaxis\":\"y\"},{\"customdata\":[[\"GAME CARD\",1],[\"GAME CARD\",2],[\"GAME CARD\",3],[\"GAME CARD\",3],[\"GAME CARD\",3],[\"GAME CARD\",3]],\"hovertemplate\":\"category=%{customdata[0]}<br>Total Rating=%{x}<br>Juegos=%{y}<br>rank=%{customdata[1]}<extra></extra>\",\"legendgroup\":\"GAME CARD\",\"marker\":{\"color\":\"#FFA15A\",\"symbol\":\"circle\"},\"mode\":\"markers\",\"name\":\"GAME CARD\",\"orientation\":\"h\",\"showlegend\":true,\"type\":\"scatter\",\"x\":[2113853,1765570,1590733,1590733,1590733,1590733],\"xaxis\":\"x\",\"y\":[\"Yu-Gi-Oh! Duel Links\",\"Hearthstone\",\"Solitaire\",\"Solitaire\",\"Solitaire\",\"Solitaire\"],\"yaxis\":\"y\"},{\"customdata\":[[\"GAME CASINO\",1],[\"GAME CASINO\",2],[\"GAME CASINO\",3]],\"hovertemplate\":\"category=%{customdata[0]}<br>Total Rating=%{x}<br>Juegos=%{y}<br>rank=%{customdata[1]}<extra></extra>\",\"legendgroup\":\"GAME CASINO\",\"marker\":{\"color\":\"#19d3f3\",\"symbol\":\"circle\"},\"mode\":\"markers\",\"name\":\"GAME CASINO\",\"orientation\":\"h\",\"showlegend\":true,\"type\":\"scatter\",\"x\":[2582669,1822223,1529589],\"xaxis\":\"x\",\"y\":[\"Zynga Poker\\u2122 \\u2013 Free Texas Holdem Online Card Games\",\"Slotomania\\u2122 Slots: Casino Slot Machine Games\",\"Teen Patti Gold \\u2013 Indian Family Card Game\"],\"yaxis\":\"y\"},{\"customdata\":[[\"GAME CASUAL\",1],[\"GAME CASUAL\",2],[\"GAME CASUAL\",3]],\"hovertemplate\":\"category=%{customdata[0]}<br>Total Rating=%{x}<br>Juegos=%{y}<br>rank=%{customdata[1]}<extra></extra>\",\"legendgroup\":\"GAME CASUAL\",\"marker\":{\"color\":\"#FF6692\",\"symbol\":\"circle\"},\"mode\":\"markers\",\"name\":\"GAME CASUAL\",\"orientation\":\"h\",\"showlegend\":true,\"type\":\"scatter\",\"x\":[31367945,16810315,13050503],\"xaxis\":\"x\",\"y\":[\"Candy Crush Saga\",\"My Talking Tom\",\"My Talking Angela\"],\"yaxis\":\"y\"},{\"customdata\":[[\"GAME EDUCATIONAL\",1],[\"GAME EDUCATIONAL\",2],[\"GAME EDUCATIONAL\",3]],\"hovertemplate\":\"category=%{customdata[0]}<br>Total Rating=%{x}<br>Juegos=%{y}<br>rank=%{customdata[1]}<extra></extra>\",\"legendgroup\":\"GAME EDUCATIONAL\",\"marker\":{\"color\":\"#B6E880\",\"symbol\":\"circle\"},\"mode\":\"markers\",\"name\":\"GAME EDUCATIONAL\",\"orientation\":\"h\",\"showlegend\":true,\"type\":\"scatter\",\"x\":[1690405,1543998,758930],\"xaxis\":\"x\",\"y\":[\"Toca Life World: Build stories & create your world\",\"Toca Kitchen 2\",\"Cooking Mama: Let's cook!\"],\"yaxis\":\"y\"},{\"customdata\":[[\"GAME MUSIC\",1],[\"GAME MUSIC\",2],[\"GAME MUSIC\",3]],\"hovertemplate\":\"category=%{customdata[0]}<br>Total Rating=%{x}<br>Juegos=%{y}<br>rank=%{customdata[1]}<extra></extra>\",\"legendgroup\":\"GAME MUSIC\",\"marker\":{\"color\":\"#FF97FF\",\"symbol\":\"circle\"},\"mode\":\"markers\",\"name\":\"GAME MUSIC\",\"orientation\":\"h\",\"showlegend\":true,\"type\":\"scatter\",\"x\":[2454558,2381045,1363013],\"xaxis\":\"x\",\"y\":[\"Tiles Hop: EDM Rush!\",\"Magic Tiles 3\",\"My Singing Monsters\"],\"yaxis\":\"y\"},{\"customdata\":[[\"GAME PUZZLE\",1],[\"GAME PUZZLE\",2],[\"GAME PUZZLE\",3]],\"hovertemplate\":\"category=%{customdata[0]}<br>Total Rating=%{x}<br>Juegos=%{y}<br>rank=%{customdata[1]}<extra></extra>\",\"legendgroup\":\"GAME PUZZLE\",\"marker\":{\"color\":\"#FECB52\",\"symbol\":\"circle\"},\"mode\":\"markers\",\"name\":\"GAME PUZZLE\",\"orientation\":\"h\",\"showlegend\":true,\"type\":\"scatter\",\"x\":[4876844,4467655,3222428],\"xaxis\":\"x\",\"y\":[\"Fishdom\",\"Brain Out \\u2013 Can you pass it?\",\"Toon Blast\"],\"yaxis\":\"y\"},{\"customdata\":[[\"GAME RACING\",1],[\"GAME RACING\",2],[\"GAME RACING\",3]],\"hovertemplate\":\"category=%{customdata[0]}<br>Total Rating=%{x}<br>Juegos=%{y}<br>rank=%{customdata[1]}<extra></extra>\",\"legendgroup\":\"GAME RACING\",\"marker\":{\"color\":\"#636efa\",\"symbol\":\"circle\"},\"mode\":\"markers\",\"name\":\"GAME RACING\",\"orientation\":\"h\",\"showlegend\":true,\"type\":\"scatter\",\"x\":[10188038,7580227,6062833],\"xaxis\":\"x\",\"y\":[\"Hill Climb Racing\",\"Traffic Rider\",\"Traffic Racer\"],\"yaxis\":\"y\"},{\"customdata\":[[\"GAME ROLE PLAYING\",1],[\"GAME ROLE PLAYING\",2],[\"GAME ROLE PLAYING\",3]],\"hovertemplate\":\"category=%{customdata[0]}<br>Total Rating=%{x}<br>Juegos=%{y}<br>rank=%{customdata[1]}<extra></extra>\",\"legendgroup\":\"GAME ROLE PLAYING\",\"marker\":{\"color\":\"#EF553B\",\"symbol\":\"circle\"},\"mode\":\"markers\",\"name\":\"GAME ROLE PLAYING\",\"orientation\":\"h\",\"showlegend\":true,\"type\":\"scatter\",\"x\":[3170246,3126336,3105550],\"xaxis\":\"x\",\"y\":[\"Shadow Fight 3 - RPG fighting game\",\"AFK Arena\",\"Avakin Life - 3D Virtual World\"],\"yaxis\":\"y\"},{\"customdata\":[[\"GAME SIMULATION\",1],[\"GAME SIMULATION\",2],[\"GAME SIMULATION\",3]],\"hovertemplate\":\"category=%{customdata[0]}<br>Total Rating=%{x}<br>Juegos=%{y}<br>rank=%{customdata[1]}<extra></extra>\",\"legendgroup\":\"GAME SIMULATION\",\"marker\":{\"color\":\"#00cc96\",\"symbol\":\"circle\"},\"mode\":\"markers\",\"name\":\"GAME SIMULATION\",\"orientation\":\"h\",\"showlegend\":true,\"type\":\"scatter\",\"x\":[5541105,5213933,3622549],\"xaxis\":\"x\",\"y\":[\"The Sims FreePlay\",\"SimCity BuildIt\",\"Episode - Choose Your Story\"],\"yaxis\":\"y\"},{\"customdata\":[[\"GAME SPORTS\",1],[\"GAME SPORTS\",2],[\"GAME SPORTS\",3]],\"hovertemplate\":\"category=%{customdata[0]}<br>Total Rating=%{x}<br>Juegos=%{y}<br>rank=%{customdata[1]}<extra></extra>\",\"legendgroup\":\"GAME SPORTS\",\"marker\":{\"color\":\"#ab63fa\",\"symbol\":\"circle\"},\"mode\":\"markers\",\"name\":\"GAME SPORTS\",\"orientation\":\"h\",\"showlegend\":true,\"type\":\"scatter\",\"x\":[21632735,13385786,6856324],\"xaxis\":\"x\",\"y\":[\"8 Ball Pool\",\"Dream League Soccer\",\"Score! Hero\"],\"yaxis\":\"y\"},{\"customdata\":[[\"GAME STRATEGY\",1],[\"GAME STRATEGY\",2],[\"GAME STRATEGY\",3]],\"hovertemplate\":\"category=%{customdata[0]}<br>Total Rating=%{x}<br>Juegos=%{y}<br>rank=%{customdata[1]}<extra></extra>\",\"legendgroup\":\"GAME STRATEGY\",\"marker\":{\"color\":\"#FFA15A\",\"symbol\":\"circle\"},\"mode\":\"markers\",\"name\":\"GAME STRATEGY\",\"orientation\":\"h\",\"showlegend\":true,\"type\":\"scatter\",\"x\":[55766763,30852360,6548519],\"xaxis\":\"x\",\"y\":[\"Clash of Clans\",\"Clash Royale\",\"Lords Mobile: Tower Defense\"],\"yaxis\":\"y\"},{\"customdata\":[[\"GAME TRIVIA\",1],[\"GAME TRIVIA\",2],[\"GAME TRIVIA\",3]],\"hovertemplate\":\"category=%{customdata[0]}<br>Total Rating=%{x}<br>Juegos=%{y}<br>rank=%{customdata[1]}<extra></extra>\",\"legendgroup\":\"GAME TRIVIA\",\"marker\":{\"color\":\"#19d3f3\",\"symbol\":\"circle\"},\"mode\":\"markers\",\"name\":\"GAME TRIVIA\",\"orientation\":\"h\",\"showlegend\":true,\"type\":\"scatter\",\"x\":[7334155,4145089,2614691],\"xaxis\":\"x\",\"y\":[\"Trivia Crack\",\"Brain Test: Tricky Puzzles\",\"94% - Quiz, Trivia & Logic\"],\"yaxis\":\"y\"},{\"customdata\":[[\"GAME WORD\",1],[\"GAME WORD\",2],[\"GAME WORD\",3]],\"hovertemplate\":\"category=%{customdata[0]}<br>Total Rating=%{x}<br>Juegos=%{y}<br>rank=%{customdata[1]}<extra></extra>\",\"legendgroup\":\"GAME WORD\",\"marker\":{\"color\":\"#FF6692\",\"symbol\":\"circle\"},\"mode\":\"markers\",\"name\":\"GAME WORD\",\"orientation\":\"h\",\"showlegend\":true,\"type\":\"scatter\",\"x\":[2418119,2250585,1885400],\"xaxis\":\"x\",\"y\":[\"\\u0643\\u0644\\u0645\\u0627\\u062a \\u0643\\u0631\\u0627\\u0634 - \\u0644\\u0639\\u0628\\u0629 \\u062a\\u0633\\u0644\\u064a\\u0629 \\u0648\\u062a\\u062d\\u062f\\u064a \\u0645\\u0646 \\u0632\\u064a\\u062a\\u0648\\u0646\\u0629\",\"Word Cookies!\\u00ae\",\"Words of Wonders: Crossword to Connect Vocabulary\"],\"yaxis\":\"y\"}],                        {\"legend\":{\"title\":{\"text\":\"category\"},\"tracegroupgap\":0},\"template\":{\"data\":{\"bar\":[{\"error_x\":{\"color\":\"#2a3f5f\"},\"error_y\":{\"color\":\"#2a3f5f\"},\"marker\":{\"line\":{\"color\":\"#E5ECF6\",\"width\":0.5},\"pattern\":{\"fillmode\":\"overlay\",\"size\":10,\"solidity\":0.2}},\"type\":\"bar\"}],\"barpolar\":[{\"marker\":{\"line\":{\"color\":\"#E5ECF6\",\"width\":0.5},\"pattern\":{\"fillmode\":\"overlay\",\"size\":10,\"solidity\":0.2}},\"type\":\"barpolar\"}],\"carpet\":[{\"aaxis\":{\"endlinecolor\":\"#2a3f5f\",\"gridcolor\":\"white\",\"linecolor\":\"white\",\"minorgridcolor\":\"white\",\"startlinecolor\":\"#2a3f5f\"},\"baxis\":{\"endlinecolor\":\"#2a3f5f\",\"gridcolor\":\"white\",\"linecolor\":\"white\",\"minorgridcolor\":\"white\",\"startlinecolor\":\"#2a3f5f\"},\"type\":\"carpet\"}],\"choropleth\":[{\"colorbar\":{\"outlinewidth\":0,\"ticks\":\"\"},\"type\":\"choropleth\"}],\"contour\":[{\"colorbar\":{\"outlinewidth\":0,\"ticks\":\"\"},\"colorscale\":[[0.0,\"#0d0887\"],[0.1111111111111111,\"#46039f\"],[0.2222222222222222,\"#7201a8\"],[0.3333333333333333,\"#9c179e\"],[0.4444444444444444,\"#bd3786\"],[0.5555555555555556,\"#d8576b\"],[0.6666666666666666,\"#ed7953\"],[0.7777777777777778,\"#fb9f3a\"],[0.8888888888888888,\"#fdca26\"],[1.0,\"#f0f921\"]],\"type\":\"contour\"}],\"contourcarpet\":[{\"colorbar\":{\"outlinewidth\":0,\"ticks\":\"\"},\"type\":\"contourcarpet\"}],\"heatmap\":[{\"colorbar\":{\"outlinewidth\":0,\"ticks\":\"\"},\"colorscale\":[[0.0,\"#0d0887\"],[0.1111111111111111,\"#46039f\"],[0.2222222222222222,\"#7201a8\"],[0.3333333333333333,\"#9c179e\"],[0.4444444444444444,\"#bd3786\"],[0.5555555555555556,\"#d8576b\"],[0.6666666666666666,\"#ed7953\"],[0.7777777777777778,\"#fb9f3a\"],[0.8888888888888888,\"#fdca26\"],[1.0,\"#f0f921\"]],\"type\":\"heatmap\"}],\"heatmapgl\":[{\"colorbar\":{\"outlinewidth\":0,\"ticks\":\"\"},\"colorscale\":[[0.0,\"#0d0887\"],[0.1111111111111111,\"#46039f\"],[0.2222222222222222,\"#7201a8\"],[0.3333333333333333,\"#9c179e\"],[0.4444444444444444,\"#bd3786\"],[0.5555555555555556,\"#d8576b\"],[0.6666666666666666,\"#ed7953\"],[0.7777777777777778,\"#fb9f3a\"],[0.8888888888888888,\"#fdca26\"],[1.0,\"#f0f921\"]],\"type\":\"heatmapgl\"}],\"histogram\":[{\"marker\":{\"pattern\":{\"fillmode\":\"overlay\",\"size\":10,\"solidity\":0.2}},\"type\":\"histogram\"}],\"histogram2d\":[{\"colorbar\":{\"outlinewidth\":0,\"ticks\":\"\"},\"colorscale\":[[0.0,\"#0d0887\"],[0.1111111111111111,\"#46039f\"],[0.2222222222222222,\"#7201a8\"],[0.3333333333333333,\"#9c179e\"],[0.4444444444444444,\"#bd3786\"],[0.5555555555555556,\"#d8576b\"],[0.6666666666666666,\"#ed7953\"],[0.7777777777777778,\"#fb9f3a\"],[0.8888888888888888,\"#fdca26\"],[1.0,\"#f0f921\"]],\"type\":\"histogram2d\"}],\"histogram2dcontour\":[{\"colorbar\":{\"outlinewidth\":0,\"ticks\":\"\"},\"colorscale\":[[0.0,\"#0d0887\"],[0.1111111111111111,\"#46039f\"],[0.2222222222222222,\"#7201a8\"],[0.3333333333333333,\"#9c179e\"],[0.4444444444444444,\"#bd3786\"],[0.5555555555555556,\"#d8576b\"],[0.6666666666666666,\"#ed7953\"],[0.7777777777777778,\"#fb9f3a\"],[0.8888888888888888,\"#fdca26\"],[1.0,\"#f0f921\"]],\"type\":\"histogram2dcontour\"}],\"mesh3d\":[{\"colorbar\":{\"outlinewidth\":0,\"ticks\":\"\"},\"type\":\"mesh3d\"}],\"parcoords\":[{\"line\":{\"colorbar\":{\"outlinewidth\":0,\"ticks\":\"\"}},\"type\":\"parcoords\"}],\"pie\":[{\"automargin\":true,\"type\":\"pie\"}],\"scatter\":[{\"marker\":{\"colorbar\":{\"outlinewidth\":0,\"ticks\":\"\"}},\"type\":\"scatter\"}],\"scatter3d\":[{\"line\":{\"colorbar\":{\"outlinewidth\":0,\"ticks\":\"\"}},\"marker\":{\"colorbar\":{\"outlinewidth\":0,\"ticks\":\"\"}},\"type\":\"scatter3d\"}],\"scattercarpet\":[{\"marker\":{\"colorbar\":{\"outlinewidth\":0,\"ticks\":\"\"}},\"type\":\"scattercarpet\"}],\"scattergeo\":[{\"marker\":{\"colorbar\":{\"outlinewidth\":0,\"ticks\":\"\"}},\"type\":\"scattergeo\"}],\"scattergl\":[{\"marker\":{\"colorbar\":{\"outlinewidth\":0,\"ticks\":\"\"}},\"type\":\"scattergl\"}],\"scattermapbox\":[{\"marker\":{\"colorbar\":{\"outlinewidth\":0,\"ticks\":\"\"}},\"type\":\"scattermapbox\"}],\"scatterpolar\":[{\"marker\":{\"colorbar\":{\"outlinewidth\":0,\"ticks\":\"\"}},\"type\":\"scatterpolar\"}],\"scatterpolargl\":[{\"marker\":{\"colorbar\":{\"outlinewidth\":0,\"ticks\":\"\"}},\"type\":\"scatterpolargl\"}],\"scatterternary\":[{\"marker\":{\"colorbar\":{\"outlinewidth\":0,\"ticks\":\"\"}},\"type\":\"scatterternary\"}],\"surface\":[{\"colorbar\":{\"outlinewidth\":0,\"ticks\":\"\"},\"colorscale\":[[0.0,\"#0d0887\"],[0.1111111111111111,\"#46039f\"],[0.2222222222222222,\"#7201a8\"],[0.3333333333333333,\"#9c179e\"],[0.4444444444444444,\"#bd3786\"],[0.5555555555555556,\"#d8576b\"],[0.6666666666666666,\"#ed7953\"],[0.7777777777777778,\"#fb9f3a\"],[0.8888888888888888,\"#fdca26\"],[1.0,\"#f0f921\"]],\"type\":\"surface\"}],\"table\":[{\"cells\":{\"fill\":{\"color\":\"#EBF0F8\"},\"line\":{\"color\":\"white\"}},\"header\":{\"fill\":{\"color\":\"#C8D4E3\"},\"line\":{\"color\":\"white\"}},\"type\":\"table\"}]},\"layout\":{\"annotationdefaults\":{\"arrowcolor\":\"#2a3f5f\",\"arrowhead\":0,\"arrowwidth\":1},\"autotypenumbers\":\"strict\",\"coloraxis\":{\"colorbar\":{\"outlinewidth\":0,\"ticks\":\"\"}},\"colorscale\":{\"diverging\":[[0,\"#8e0152\"],[0.1,\"#c51b7d\"],[0.2,\"#de77ae\"],[0.3,\"#f1b6da\"],[0.4,\"#fde0ef\"],[0.5,\"#f7f7f7\"],[0.6,\"#e6f5d0\"],[0.7,\"#b8e186\"],[0.8,\"#7fbc41\"],[0.9,\"#4d9221\"],[1,\"#276419\"]],\"sequential\":[[0.0,\"#0d0887\"],[0.1111111111111111,\"#46039f\"],[0.2222222222222222,\"#7201a8\"],[0.3333333333333333,\"#9c179e\"],[0.4444444444444444,\"#bd3786\"],[0.5555555555555556,\"#d8576b\"],[0.6666666666666666,\"#ed7953\"],[0.7777777777777778,\"#fb9f3a\"],[0.8888888888888888,\"#fdca26\"],[1.0,\"#f0f921\"]],\"sequentialminus\":[[0.0,\"#0d0887\"],[0.1111111111111111,\"#46039f\"],[0.2222222222222222,\"#7201a8\"],[0.3333333333333333,\"#9c179e\"],[0.4444444444444444,\"#bd3786\"],[0.5555555555555556,\"#d8576b\"],[0.6666666666666666,\"#ed7953\"],[0.7777777777777778,\"#fb9f3a\"],[0.8888888888888888,\"#fdca26\"],[1.0,\"#f0f921\"]]},\"colorway\":[\"#636efa\",\"#EF553B\",\"#00cc96\",\"#ab63fa\",\"#FFA15A\",\"#19d3f3\",\"#FF6692\",\"#B6E880\",\"#FF97FF\",\"#FECB52\"],\"font\":{\"color\":\"#2a3f5f\"},\"geo\":{\"bgcolor\":\"white\",\"lakecolor\":\"white\",\"landcolor\":\"#E5ECF6\",\"showlakes\":true,\"showland\":true,\"subunitcolor\":\"white\"},\"hoverlabel\":{\"align\":\"left\"},\"hovermode\":\"closest\",\"mapbox\":{\"style\":\"light\"},\"paper_bgcolor\":\"white\",\"plot_bgcolor\":\"#E5ECF6\",\"polar\":{\"angularaxis\":{\"gridcolor\":\"white\",\"linecolor\":\"white\",\"ticks\":\"\"},\"bgcolor\":\"#E5ECF6\",\"radialaxis\":{\"gridcolor\":\"white\",\"linecolor\":\"white\",\"ticks\":\"\"}},\"scene\":{\"xaxis\":{\"backgroundcolor\":\"#E5ECF6\",\"gridcolor\":\"white\",\"gridwidth\":2,\"linecolor\":\"white\",\"showbackground\":true,\"ticks\":\"\",\"zerolinecolor\":\"white\"},\"yaxis\":{\"backgroundcolor\":\"#E5ECF6\",\"gridcolor\":\"white\",\"gridwidth\":2,\"linecolor\":\"white\",\"showbackground\":true,\"ticks\":\"\",\"zerolinecolor\":\"white\"},\"zaxis\":{\"backgroundcolor\":\"#E5ECF6\",\"gridcolor\":\"white\",\"gridwidth\":2,\"linecolor\":\"white\",\"showbackground\":true,\"ticks\":\"\",\"zerolinecolor\":\"white\"}},\"shapedefaults\":{\"line\":{\"color\":\"#2a3f5f\"}},\"ternary\":{\"aaxis\":{\"gridcolor\":\"white\",\"linecolor\":\"white\",\"ticks\":\"\"},\"baxis\":{\"gridcolor\":\"white\",\"linecolor\":\"white\",\"ticks\":\"\"},\"bgcolor\":\"#E5ECF6\",\"caxis\":{\"gridcolor\":\"white\",\"linecolor\":\"white\",\"ticks\":\"\"}},\"title\":{\"x\":0.05},\"xaxis\":{\"automargin\":true,\"gridcolor\":\"white\",\"linecolor\":\"white\",\"ticks\":\"\",\"title\":{\"standoff\":15},\"zerolinecolor\":\"white\",\"zerolinewidth\":2},\"yaxis\":{\"automargin\":true,\"gridcolor\":\"white\",\"linecolor\":\"white\",\"ticks\":\"\",\"title\":{\"standoff\":15},\"zerolinecolor\":\"white\",\"zerolinewidth\":2}}},\"title\":{\"text\":\"Top 3 de Juegos por Categoria\"},\"xaxis\":{\"anchor\":\"y\",\"domain\":[0.0,1.0],\"title\":{\"text\":\"Total Rating\"}},\"yaxis\":{\"anchor\":\"x\",\"domain\":[0.0,1.0],\"title\":{\"text\":\"Juegos\"}}},                        {\"responsive\": true}                    ).then(function(){\n                            \nvar gd = document.getElementById('c65ad9f6-28ff-42ed-8cc0-11bcec2aa9c3');\nvar x = new MutationObserver(function (mutations, observer) {{\n        var display = window.getComputedStyle(gd).display;\n        if (!display || display === 'none') {{\n            console.log([gd, 'removed!']);\n            Plotly.purge(gd);\n            observer.disconnect();\n        }}\n}});\n\n// Listen for the removal of the full notebook cells\nvar notebookContainer = gd.closest('#notebook-container');\nif (notebookContainer) {{\n    x.observe(notebookContainer, {childList: true});\n}}\n\n// Listen for the clearing of the current output cell\nvar outputEl = gd.closest('.output');\nif (outputEl) {{\n    x.observe(outputEl, {childList: true});\n}}\n\n                        })                };                            </script>        </div>\n</body>\n</html>"
     },
     "metadata": {},
     "output_type": "display_data"
    }
   ]
  },
  {
   "cell_type": "markdown",
   "source": "- Como se mencionó anteriormente, los juegos en las categorías de acción, arcade y casual se instalan significativamente más que los juegos en las categorías de trivia, casino y palabras. \n\n- Lo mismo es cierto incluso para los juegos mejor clasificados en estas categorías. ",
   "metadata": {
    "tags": [],
    "cell_id": "00049-8c6614f5-f26c-4989-97bc-2e7a605e1886",
    "deepnote_cell_type": "markdown"
   }
  },
  {
   "cell_type": "markdown",
   "source": "## Los 3 mejores juegos por categoría y sus calificaciones de 5 estrellas ",
   "metadata": {
    "tags": [],
    "cell_id": "00050-afafc61a-3a34-4301-ba29-5ab19c063707",
    "deepnote_cell_type": "markdown"
   }
  },
  {
   "cell_type": "code",
   "metadata": {
    "tags": [],
    "cell_id": "00051-c4cde537-564f-43ba-84eb-b7cfc3f82620",
    "deepnote_to_be_reexecuted": false,
    "source_hash": "6809a58f",
    "execution_start": 1626919036921,
    "execution_millis": 124,
    "deepnote_cell_type": "code"
   },
   "source": "fig = px.scatter(top_ranked_games, \n    y='title', \n    x='5 star ratings',\n    hover_data=top_ranked_games[['category','rank']],\n    color='category',\n    title='Top 3 de Juegos con 5 Estrellas en Rankings',\n    labels={\n        \"title\": \"Juegos\",\n        \"5 star ratings\": \"5 star ratings\",\n    }\n)\nfig.show()",
   "execution_count": 29,
   "outputs": [
    {
     "data": {
      "text/html": "<html>\n<head><meta charset=\"utf-8\" /></head>\n<body>\n    <div>            <script src=\"https://cdnjs.cloudflare.com/ajax/libs/mathjax/2.7.5/MathJax.js?config=TeX-AMS-MML_SVG\"></script><script type=\"text/javascript\">if (window.MathJax) {MathJax.Hub.Config({SVG: {font: \"STIX-Web\"}});}</script>                <script type=\"text/javascript\">window.PlotlyConfig = {MathJaxConfig: 'local'};</script>\n        <script src=\"https://cdn.plot.ly/plotly-2.2.0.min.js\"></script>                <div id=\"eee6f7b3-d2da-4223-a558-c137fc43718e\" class=\"plotly-graph-div\" style=\"height:525px; width:100%;\"></div>            <script type=\"text/javascript\">                                    window.PLOTLYENV=window.PLOTLYENV || {};                                    if (document.getElementById(\"eee6f7b3-d2da-4223-a558-c137fc43718e\")) {                    Plotly.newPlot(                        \"eee6f7b3-d2da-4223-a558-c137fc43718e\",                        [{\"customdata\":[[\"GAME ACTION\",1],[\"GAME ACTION\",2],[\"GAME ACTION\",3]],\"hovertemplate\":\"category=%{customdata[0]}<br>5 star ratings=%{x}<br>Juegos=%{y}<br>rank=%{customdata[1]}<extra></extra>\",\"legendgroup\":\"GAME ACTION\",\"marker\":{\"color\":\"#636efa\",\"symbol\":\"circle\"},\"mode\":\"markers\",\"name\":\"GAME ACTION\",\"orientation\":\"h\",\"showlegend\":true,\"type\":\"scatter\",\"x\":[63546766,28339753,18777988],\"xaxis\":\"x\",\"y\":[\"Garena Free Fire- World Series\",\"PUBG MOBILE - Traverse\",\"Mobile Legends: Bang Bang\"],\"yaxis\":\"y\"},{\"customdata\":[[\"GAME ADVENTURE\",1],[\"GAME ADVENTURE\",2],[\"GAME ADVENTURE\",3]],\"hovertemplate\":\"category=%{customdata[0]}<br>5 star ratings=%{x}<br>Juegos=%{y}<br>rank=%{customdata[1]}<extra></extra>\",\"legendgroup\":\"GAME ADVENTURE\",\"marker\":{\"color\":\"#EF553B\",\"symbol\":\"circle\"},\"mode\":\"markers\",\"name\":\"GAME ADVENTURE\",\"orientation\":\"h\",\"showlegend\":true,\"type\":\"scatter\",\"x\":[16674013,9517488,3264905],\"xaxis\":\"x\",\"y\":[\"Roblox\",\"Pok\\u00e9mon GO\",\"Criminal Case\"],\"yaxis\":\"y\"},{\"customdata\":[[\"GAME ARCADE\",1],[\"GAME ARCADE\",2],[\"GAME ARCADE\",3]],\"hovertemplate\":\"category=%{customdata[0]}<br>5 star ratings=%{x}<br>Juegos=%{y}<br>rank=%{customdata[1]}<extra></extra>\",\"legendgroup\":\"GAME ARCADE\",\"marker\":{\"color\":\"#00cc96\",\"symbol\":\"circle\"},\"mode\":\"markers\",\"name\":\"GAME ARCADE\",\"orientation\":\"h\",\"showlegend\":true,\"type\":\"scatter\",\"x\":[27138572,5220860,4787054],\"xaxis\":\"x\",\"y\":[\"Subway Surfers\",\"Hungry Shark Evolution - Offline survival game\",\"Geometry Dash Lite\"],\"yaxis\":\"y\"},{\"customdata\":[[\"GAME BOARD\",1],[\"GAME BOARD\",2],[\"GAME BOARD\",3]],\"hovertemplate\":\"category=%{customdata[0]}<br>5 star ratings=%{x}<br>Juegos=%{y}<br>rank=%{customdata[1]}<extra></extra>\",\"legendgroup\":\"GAME BOARD\",\"marker\":{\"color\":\"#ab63fa\",\"symbol\":\"circle\"},\"mode\":\"markers\",\"name\":\"GAME BOARD\",\"orientation\":\"h\",\"showlegend\":true,\"type\":\"scatter\",\"x\":[5291589,1927153,1763377],\"xaxis\":\"x\",\"y\":[\"Ludo King\\u2122\",\"Happy Color\\u2122 \\u2013 Color by Number. Coloring games.\",\"101 Y\\u00fczbir Okey Plus\"],\"yaxis\":\"y\"},{\"customdata\":[[\"GAME CARD\",1],[\"GAME CARD\",2],[\"GAME CARD\",3],[\"GAME CARD\",3],[\"GAME CARD\",3],[\"GAME CARD\",3]],\"hovertemplate\":\"category=%{customdata[0]}<br>5 star ratings=%{x}<br>Juegos=%{y}<br>rank=%{customdata[1]}<extra></extra>\",\"legendgroup\":\"GAME CARD\",\"marker\":{\"color\":\"#FFA15A\",\"symbol\":\"circle\"},\"mode\":\"markers\",\"name\":\"GAME CARD\",\"orientation\":\"h\",\"showlegend\":true,\"type\":\"scatter\",\"x\":[1541203,960279,1117298,431463,418115,299715],\"xaxis\":\"x\",\"y\":[\"Yu-Gi-Oh! Duel Links\",\"Hearthstone\",\"Solitaire\",\"Solitaire\",\"Solitaire\",\"Solitaire\"],\"yaxis\":\"y\"},{\"customdata\":[[\"GAME CASINO\",1],[\"GAME CASINO\",2],[\"GAME CASINO\",3]],\"hovertemplate\":\"category=%{customdata[0]}<br>5 star ratings=%{x}<br>Juegos=%{y}<br>rank=%{customdata[1]}<extra></extra>\",\"legendgroup\":\"GAME CASINO\",\"marker\":{\"color\":\"#19d3f3\",\"symbol\":\"circle\"},\"mode\":\"markers\",\"name\":\"GAME CASINO\",\"orientation\":\"h\",\"showlegend\":true,\"type\":\"scatter\",\"x\":[1821678,1293272,1210258],\"xaxis\":\"x\",\"y\":[\"Zynga Poker\\u2122 \\u2013 Free Texas Holdem Online Card Games\",\"Slotomania\\u2122 Slots: Casino Slot Machine Games\",\"Teen Patti Gold \\u2013 Indian Family Card Game\"],\"yaxis\":\"y\"},{\"customdata\":[[\"GAME CASUAL\",1],[\"GAME CASUAL\",2],[\"GAME CASUAL\",3]],\"hovertemplate\":\"category=%{customdata[0]}<br>5 star ratings=%{x}<br>Juegos=%{y}<br>rank=%{customdata[1]}<extra></extra>\",\"legendgroup\":\"GAME CASUAL\",\"marker\":{\"color\":\"#FF6692\",\"symbol\":\"circle\"},\"mode\":\"markers\",\"name\":\"GAME CASUAL\",\"orientation\":\"h\",\"showlegend\":true,\"type\":\"scatter\",\"x\":[23837448,12234051,9165205],\"xaxis\":\"x\",\"y\":[\"Candy Crush Saga\",\"My Talking Tom\",\"My Talking Angela\"],\"yaxis\":\"y\"},{\"customdata\":[[\"GAME EDUCATIONAL\",1],[\"GAME EDUCATIONAL\",2],[\"GAME EDUCATIONAL\",3]],\"hovertemplate\":\"category=%{customdata[0]}<br>5 star ratings=%{x}<br>Juegos=%{y}<br>rank=%{customdata[1]}<extra></extra>\",\"legendgroup\":\"GAME EDUCATIONAL\",\"marker\":{\"color\":\"#B6E880\",\"symbol\":\"circle\"},\"mode\":\"markers\",\"name\":\"GAME EDUCATIONAL\",\"orientation\":\"h\",\"showlegend\":true,\"type\":\"scatter\",\"x\":[1191130,1044380,569677],\"xaxis\":\"x\",\"y\":[\"Toca Life World: Build stories & create your world\",\"Toca Kitchen 2\",\"Cooking Mama: Let's cook!\"],\"yaxis\":\"y\"},{\"customdata\":[[\"GAME MUSIC\",1],[\"GAME MUSIC\",2],[\"GAME MUSIC\",3]],\"hovertemplate\":\"category=%{customdata[0]}<br>5 star ratings=%{x}<br>Juegos=%{y}<br>rank=%{customdata[1]}<extra></extra>\",\"legendgroup\":\"GAME MUSIC\",\"marker\":{\"color\":\"#FF97FF\",\"symbol\":\"circle\"},\"mode\":\"markers\",\"name\":\"GAME MUSIC\",\"orientation\":\"h\",\"showlegend\":true,\"type\":\"scatter\",\"x\":[1815983,1570436,1099001],\"xaxis\":\"x\",\"y\":[\"Tiles Hop: EDM Rush!\",\"Magic Tiles 3\",\"My Singing Monsters\"],\"yaxis\":\"y\"},{\"customdata\":[[\"GAME PUZZLE\",1],[\"GAME PUZZLE\",2],[\"GAME PUZZLE\",3]],\"hovertemplate\":\"category=%{customdata[0]}<br>5 star ratings=%{x}<br>Juegos=%{y}<br>rank=%{customdata[1]}<extra></extra>\",\"legendgroup\":\"GAME PUZZLE\",\"marker\":{\"color\":\"#FECB52\",\"symbol\":\"circle\"},\"mode\":\"markers\",\"name\":\"GAME PUZZLE\",\"orientation\":\"h\",\"showlegend\":true,\"type\":\"scatter\",\"x\":[3641850,3390163,2556112],\"xaxis\":\"x\",\"y\":[\"Fishdom\",\"Brain Out \\u2013 Can you pass it?\",\"Toon Blast\"],\"yaxis\":\"y\"},{\"customdata\":[[\"GAME RACING\",1],[\"GAME RACING\",2],[\"GAME RACING\",3]],\"hovertemplate\":\"category=%{customdata[0]}<br>5 star ratings=%{x}<br>Juegos=%{y}<br>rank=%{customdata[1]}<extra></extra>\",\"legendgroup\":\"GAME RACING\",\"marker\":{\"color\":\"#636efa\",\"symbol\":\"circle\"},\"mode\":\"markers\",\"name\":\"GAME RACING\",\"orientation\":\"h\",\"showlegend\":true,\"type\":\"scatter\",\"x\":[7148370,5426819,4580870],\"xaxis\":\"x\",\"y\":[\"Hill Climb Racing\",\"Traffic Rider\",\"Traffic Racer\"],\"yaxis\":\"y\"},{\"customdata\":[[\"GAME ROLE PLAYING\",1],[\"GAME ROLE PLAYING\",2],[\"GAME ROLE PLAYING\",3]],\"hovertemplate\":\"category=%{customdata[0]}<br>5 star ratings=%{x}<br>Juegos=%{y}<br>rank=%{customdata[1]}<extra></extra>\",\"legendgroup\":\"GAME ROLE PLAYING\",\"marker\":{\"color\":\"#EF553B\",\"symbol\":\"circle\"},\"mode\":\"markers\",\"name\":\"GAME ROLE PLAYING\",\"orientation\":\"h\",\"showlegend\":true,\"type\":\"scatter\",\"x\":[2243868,2238968,2198832],\"xaxis\":\"x\",\"y\":[\"Shadow Fight 3 - RPG fighting game\",\"AFK Arena\",\"Avakin Life - 3D Virtual World\"],\"yaxis\":\"y\"},{\"customdata\":[[\"GAME SIMULATION\",1],[\"GAME SIMULATION\",2],[\"GAME SIMULATION\",3]],\"hovertemplate\":\"category=%{customdata[0]}<br>5 star ratings=%{x}<br>Juegos=%{y}<br>rank=%{customdata[1]}<extra></extra>\",\"legendgroup\":\"GAME SIMULATION\",\"marker\":{\"color\":\"#00cc96\",\"symbol\":\"circle\"},\"mode\":\"markers\",\"name\":\"GAME SIMULATION\",\"orientation\":\"h\",\"showlegend\":true,\"type\":\"scatter\",\"x\":[3457057,3484074,2310125],\"xaxis\":\"x\",\"y\":[\"The Sims FreePlay\",\"SimCity BuildIt\",\"Episode - Choose Your Story\"],\"yaxis\":\"y\"},{\"customdata\":[[\"GAME SPORTS\",1],[\"GAME SPORTS\",2],[\"GAME SPORTS\",3]],\"hovertemplate\":\"category=%{customdata[0]}<br>5 star ratings=%{x}<br>Juegos=%{y}<br>rank=%{customdata[1]}<extra></extra>\",\"legendgroup\":\"GAME SPORTS\",\"marker\":{\"color\":\"#ab63fa\",\"symbol\":\"circle\"},\"mode\":\"markers\",\"name\":\"GAME SPORTS\",\"orientation\":\"h\",\"showlegend\":true,\"type\":\"scatter\",\"x\":[16281475,10086735,4551071],\"xaxis\":\"x\",\"y\":[\"8 Ball Pool\",\"Dream League Soccer\",\"Score! Hero\"],\"yaxis\":\"y\"},{\"customdata\":[[\"GAME STRATEGY\",1],[\"GAME STRATEGY\",2],[\"GAME STRATEGY\",3]],\"hovertemplate\":\"category=%{customdata[0]}<br>5 star ratings=%{x}<br>Juegos=%{y}<br>rank=%{customdata[1]}<extra></extra>\",\"legendgroup\":\"GAME STRATEGY\",\"marker\":{\"color\":\"#FFA15A\",\"symbol\":\"circle\"},\"mode\":\"markers\",\"name\":\"GAME STRATEGY\",\"orientation\":\"h\",\"showlegend\":true,\"type\":\"scatter\",\"x\":[43346128,21009004,4667558],\"xaxis\":\"x\",\"y\":[\"Clash of Clans\",\"Clash Royale\",\"Lords Mobile: Tower Defense\"],\"yaxis\":\"y\"},{\"customdata\":[[\"GAME TRIVIA\",1],[\"GAME TRIVIA\",2],[\"GAME TRIVIA\",3]],\"hovertemplate\":\"category=%{customdata[0]}<br>5 star ratings=%{x}<br>Juegos=%{y}<br>rank=%{customdata[1]}<extra></extra>\",\"legendgroup\":\"GAME TRIVIA\",\"marker\":{\"color\":\"#19d3f3\",\"symbol\":\"circle\"},\"mode\":\"markers\",\"name\":\"GAME TRIVIA\",\"orientation\":\"h\",\"showlegend\":true,\"type\":\"scatter\",\"x\":[4938889,3257745,1793644],\"xaxis\":\"x\",\"y\":[\"Trivia Crack\",\"Brain Test: Tricky Puzzles\",\"94% - Quiz, Trivia & Logic\"],\"yaxis\":\"y\"},{\"customdata\":[[\"GAME WORD\",1],[\"GAME WORD\",2],[\"GAME WORD\",3]],\"hovertemplate\":\"category=%{customdata[0]}<br>5 star ratings=%{x}<br>Juegos=%{y}<br>rank=%{customdata[1]}<extra></extra>\",\"legendgroup\":\"GAME WORD\",\"marker\":{\"color\":\"#FF6692\",\"symbol\":\"circle\"},\"mode\":\"markers\",\"name\":\"GAME WORD\",\"orientation\":\"h\",\"showlegend\":true,\"type\":\"scatter\",\"x\":[2115189,1679256,1457939],\"xaxis\":\"x\",\"y\":[\"\\u0643\\u0644\\u0645\\u0627\\u062a \\u0643\\u0631\\u0627\\u0634 - \\u0644\\u0639\\u0628\\u0629 \\u062a\\u0633\\u0644\\u064a\\u0629 \\u0648\\u062a\\u062d\\u062f\\u064a \\u0645\\u0646 \\u0632\\u064a\\u062a\\u0648\\u0646\\u0629\",\"Word Cookies!\\u00ae\",\"Words of Wonders: Crossword to Connect Vocabulary\"],\"yaxis\":\"y\"}],                        {\"legend\":{\"title\":{\"text\":\"category\"},\"tracegroupgap\":0},\"template\":{\"data\":{\"bar\":[{\"error_x\":{\"color\":\"#2a3f5f\"},\"error_y\":{\"color\":\"#2a3f5f\"},\"marker\":{\"line\":{\"color\":\"#E5ECF6\",\"width\":0.5},\"pattern\":{\"fillmode\":\"overlay\",\"size\":10,\"solidity\":0.2}},\"type\":\"bar\"}],\"barpolar\":[{\"marker\":{\"line\":{\"color\":\"#E5ECF6\",\"width\":0.5},\"pattern\":{\"fillmode\":\"overlay\",\"size\":10,\"solidity\":0.2}},\"type\":\"barpolar\"}],\"carpet\":[{\"aaxis\":{\"endlinecolor\":\"#2a3f5f\",\"gridcolor\":\"white\",\"linecolor\":\"white\",\"minorgridcolor\":\"white\",\"startlinecolor\":\"#2a3f5f\"},\"baxis\":{\"endlinecolor\":\"#2a3f5f\",\"gridcolor\":\"white\",\"linecolor\":\"white\",\"minorgridcolor\":\"white\",\"startlinecolor\":\"#2a3f5f\"},\"type\":\"carpet\"}],\"choropleth\":[{\"colorbar\":{\"outlinewidth\":0,\"ticks\":\"\"},\"type\":\"choropleth\"}],\"contour\":[{\"colorbar\":{\"outlinewidth\":0,\"ticks\":\"\"},\"colorscale\":[[0.0,\"#0d0887\"],[0.1111111111111111,\"#46039f\"],[0.2222222222222222,\"#7201a8\"],[0.3333333333333333,\"#9c179e\"],[0.4444444444444444,\"#bd3786\"],[0.5555555555555556,\"#d8576b\"],[0.6666666666666666,\"#ed7953\"],[0.7777777777777778,\"#fb9f3a\"],[0.8888888888888888,\"#fdca26\"],[1.0,\"#f0f921\"]],\"type\":\"contour\"}],\"contourcarpet\":[{\"colorbar\":{\"outlinewidth\":0,\"ticks\":\"\"},\"type\":\"contourcarpet\"}],\"heatmap\":[{\"colorbar\":{\"outlinewidth\":0,\"ticks\":\"\"},\"colorscale\":[[0.0,\"#0d0887\"],[0.1111111111111111,\"#46039f\"],[0.2222222222222222,\"#7201a8\"],[0.3333333333333333,\"#9c179e\"],[0.4444444444444444,\"#bd3786\"],[0.5555555555555556,\"#d8576b\"],[0.6666666666666666,\"#ed7953\"],[0.7777777777777778,\"#fb9f3a\"],[0.8888888888888888,\"#fdca26\"],[1.0,\"#f0f921\"]],\"type\":\"heatmap\"}],\"heatmapgl\":[{\"colorbar\":{\"outlinewidth\":0,\"ticks\":\"\"},\"colorscale\":[[0.0,\"#0d0887\"],[0.1111111111111111,\"#46039f\"],[0.2222222222222222,\"#7201a8\"],[0.3333333333333333,\"#9c179e\"],[0.4444444444444444,\"#bd3786\"],[0.5555555555555556,\"#d8576b\"],[0.6666666666666666,\"#ed7953\"],[0.7777777777777778,\"#fb9f3a\"],[0.8888888888888888,\"#fdca26\"],[1.0,\"#f0f921\"]],\"type\":\"heatmapgl\"}],\"histogram\":[{\"marker\":{\"pattern\":{\"fillmode\":\"overlay\",\"size\":10,\"solidity\":0.2}},\"type\":\"histogram\"}],\"histogram2d\":[{\"colorbar\":{\"outlinewidth\":0,\"ticks\":\"\"},\"colorscale\":[[0.0,\"#0d0887\"],[0.1111111111111111,\"#46039f\"],[0.2222222222222222,\"#7201a8\"],[0.3333333333333333,\"#9c179e\"],[0.4444444444444444,\"#bd3786\"],[0.5555555555555556,\"#d8576b\"],[0.6666666666666666,\"#ed7953\"],[0.7777777777777778,\"#fb9f3a\"],[0.8888888888888888,\"#fdca26\"],[1.0,\"#f0f921\"]],\"type\":\"histogram2d\"}],\"histogram2dcontour\":[{\"colorbar\":{\"outlinewidth\":0,\"ticks\":\"\"},\"colorscale\":[[0.0,\"#0d0887\"],[0.1111111111111111,\"#46039f\"],[0.2222222222222222,\"#7201a8\"],[0.3333333333333333,\"#9c179e\"],[0.4444444444444444,\"#bd3786\"],[0.5555555555555556,\"#d8576b\"],[0.6666666666666666,\"#ed7953\"],[0.7777777777777778,\"#fb9f3a\"],[0.8888888888888888,\"#fdca26\"],[1.0,\"#f0f921\"]],\"type\":\"histogram2dcontour\"}],\"mesh3d\":[{\"colorbar\":{\"outlinewidth\":0,\"ticks\":\"\"},\"type\":\"mesh3d\"}],\"parcoords\":[{\"line\":{\"colorbar\":{\"outlinewidth\":0,\"ticks\":\"\"}},\"type\":\"parcoords\"}],\"pie\":[{\"automargin\":true,\"type\":\"pie\"}],\"scatter\":[{\"marker\":{\"colorbar\":{\"outlinewidth\":0,\"ticks\":\"\"}},\"type\":\"scatter\"}],\"scatter3d\":[{\"line\":{\"colorbar\":{\"outlinewidth\":0,\"ticks\":\"\"}},\"marker\":{\"colorbar\":{\"outlinewidth\":0,\"ticks\":\"\"}},\"type\":\"scatter3d\"}],\"scattercarpet\":[{\"marker\":{\"colorbar\":{\"outlinewidth\":0,\"ticks\":\"\"}},\"type\":\"scattercarpet\"}],\"scattergeo\":[{\"marker\":{\"colorbar\":{\"outlinewidth\":0,\"ticks\":\"\"}},\"type\":\"scattergeo\"}],\"scattergl\":[{\"marker\":{\"colorbar\":{\"outlinewidth\":0,\"ticks\":\"\"}},\"type\":\"scattergl\"}],\"scattermapbox\":[{\"marker\":{\"colorbar\":{\"outlinewidth\":0,\"ticks\":\"\"}},\"type\":\"scattermapbox\"}],\"scatterpolar\":[{\"marker\":{\"colorbar\":{\"outlinewidth\":0,\"ticks\":\"\"}},\"type\":\"scatterpolar\"}],\"scatterpolargl\":[{\"marker\":{\"colorbar\":{\"outlinewidth\":0,\"ticks\":\"\"}},\"type\":\"scatterpolargl\"}],\"scatterternary\":[{\"marker\":{\"colorbar\":{\"outlinewidth\":0,\"ticks\":\"\"}},\"type\":\"scatterternary\"}],\"surface\":[{\"colorbar\":{\"outlinewidth\":0,\"ticks\":\"\"},\"colorscale\":[[0.0,\"#0d0887\"],[0.1111111111111111,\"#46039f\"],[0.2222222222222222,\"#7201a8\"],[0.3333333333333333,\"#9c179e\"],[0.4444444444444444,\"#bd3786\"],[0.5555555555555556,\"#d8576b\"],[0.6666666666666666,\"#ed7953\"],[0.7777777777777778,\"#fb9f3a\"],[0.8888888888888888,\"#fdca26\"],[1.0,\"#f0f921\"]],\"type\":\"surface\"}],\"table\":[{\"cells\":{\"fill\":{\"color\":\"#EBF0F8\"},\"line\":{\"color\":\"white\"}},\"header\":{\"fill\":{\"color\":\"#C8D4E3\"},\"line\":{\"color\":\"white\"}},\"type\":\"table\"}]},\"layout\":{\"annotationdefaults\":{\"arrowcolor\":\"#2a3f5f\",\"arrowhead\":0,\"arrowwidth\":1},\"autotypenumbers\":\"strict\",\"coloraxis\":{\"colorbar\":{\"outlinewidth\":0,\"ticks\":\"\"}},\"colorscale\":{\"diverging\":[[0,\"#8e0152\"],[0.1,\"#c51b7d\"],[0.2,\"#de77ae\"],[0.3,\"#f1b6da\"],[0.4,\"#fde0ef\"],[0.5,\"#f7f7f7\"],[0.6,\"#e6f5d0\"],[0.7,\"#b8e186\"],[0.8,\"#7fbc41\"],[0.9,\"#4d9221\"],[1,\"#276419\"]],\"sequential\":[[0.0,\"#0d0887\"],[0.1111111111111111,\"#46039f\"],[0.2222222222222222,\"#7201a8\"],[0.3333333333333333,\"#9c179e\"],[0.4444444444444444,\"#bd3786\"],[0.5555555555555556,\"#d8576b\"],[0.6666666666666666,\"#ed7953\"],[0.7777777777777778,\"#fb9f3a\"],[0.8888888888888888,\"#fdca26\"],[1.0,\"#f0f921\"]],\"sequentialminus\":[[0.0,\"#0d0887\"],[0.1111111111111111,\"#46039f\"],[0.2222222222222222,\"#7201a8\"],[0.3333333333333333,\"#9c179e\"],[0.4444444444444444,\"#bd3786\"],[0.5555555555555556,\"#d8576b\"],[0.6666666666666666,\"#ed7953\"],[0.7777777777777778,\"#fb9f3a\"],[0.8888888888888888,\"#fdca26\"],[1.0,\"#f0f921\"]]},\"colorway\":[\"#636efa\",\"#EF553B\",\"#00cc96\",\"#ab63fa\",\"#FFA15A\",\"#19d3f3\",\"#FF6692\",\"#B6E880\",\"#FF97FF\",\"#FECB52\"],\"font\":{\"color\":\"#2a3f5f\"},\"geo\":{\"bgcolor\":\"white\",\"lakecolor\":\"white\",\"landcolor\":\"#E5ECF6\",\"showlakes\":true,\"showland\":true,\"subunitcolor\":\"white\"},\"hoverlabel\":{\"align\":\"left\"},\"hovermode\":\"closest\",\"mapbox\":{\"style\":\"light\"},\"paper_bgcolor\":\"white\",\"plot_bgcolor\":\"#E5ECF6\",\"polar\":{\"angularaxis\":{\"gridcolor\":\"white\",\"linecolor\":\"white\",\"ticks\":\"\"},\"bgcolor\":\"#E5ECF6\",\"radialaxis\":{\"gridcolor\":\"white\",\"linecolor\":\"white\",\"ticks\":\"\"}},\"scene\":{\"xaxis\":{\"backgroundcolor\":\"#E5ECF6\",\"gridcolor\":\"white\",\"gridwidth\":2,\"linecolor\":\"white\",\"showbackground\":true,\"ticks\":\"\",\"zerolinecolor\":\"white\"},\"yaxis\":{\"backgroundcolor\":\"#E5ECF6\",\"gridcolor\":\"white\",\"gridwidth\":2,\"linecolor\":\"white\",\"showbackground\":true,\"ticks\":\"\",\"zerolinecolor\":\"white\"},\"zaxis\":{\"backgroundcolor\":\"#E5ECF6\",\"gridcolor\":\"white\",\"gridwidth\":2,\"linecolor\":\"white\",\"showbackground\":true,\"ticks\":\"\",\"zerolinecolor\":\"white\"}},\"shapedefaults\":{\"line\":{\"color\":\"#2a3f5f\"}},\"ternary\":{\"aaxis\":{\"gridcolor\":\"white\",\"linecolor\":\"white\",\"ticks\":\"\"},\"baxis\":{\"gridcolor\":\"white\",\"linecolor\":\"white\",\"ticks\":\"\"},\"bgcolor\":\"#E5ECF6\",\"caxis\":{\"gridcolor\":\"white\",\"linecolor\":\"white\",\"ticks\":\"\"}},\"title\":{\"x\":0.05},\"xaxis\":{\"automargin\":true,\"gridcolor\":\"white\",\"linecolor\":\"white\",\"ticks\":\"\",\"title\":{\"standoff\":15},\"zerolinecolor\":\"white\",\"zerolinewidth\":2},\"yaxis\":{\"automargin\":true,\"gridcolor\":\"white\",\"linecolor\":\"white\",\"ticks\":\"\",\"title\":{\"standoff\":15},\"zerolinecolor\":\"white\",\"zerolinewidth\":2}}},\"title\":{\"text\":\"Top 3 de Juegos con 5 Estrellas en Rankings\"},\"xaxis\":{\"anchor\":\"y\",\"domain\":[0.0,1.0],\"title\":{\"text\":\"5 star ratings\"}},\"yaxis\":{\"anchor\":\"x\",\"domain\":[0.0,1.0],\"title\":{\"text\":\"Juegos\"}}},                        {\"responsive\": true}                    ).then(function(){\n                            \nvar gd = document.getElementById('eee6f7b3-d2da-4223-a558-c137fc43718e');\nvar x = new MutationObserver(function (mutations, observer) {{\n        var display = window.getComputedStyle(gd).display;\n        if (!display || display === 'none') {{\n            console.log([gd, 'removed!']);\n            Plotly.purge(gd);\n            observer.disconnect();\n        }}\n}});\n\n// Listen for the removal of the full notebook cells\nvar notebookContainer = gd.closest('#notebook-container');\nif (notebookContainer) {{\n    x.observe(notebookContainer, {childList: true});\n}}\n\n// Listen for the clearing of the current output cell\nvar outputEl = gd.closest('.output');\nif (outputEl) {{\n    x.observe(outputEl, {childList: true});\n}}\n\n                        })                };                            </script>        </div>\n</body>\n</html>"
     },
     "metadata": {},
     "output_type": "display_data"
    }
   ]
  },
  {
   "cell_type": "markdown",
   "source": "Los juegos de las categorías de acción, estrategia, casual y arcade, otras categorias que tienen 5 estrelas son los juegos de simulacion, educativo y entre otros.",
   "metadata": {
    "tags": [],
    "cell_id": "00052-57f8f719-a91c-4484-8fe0-c03794a0c1ca",
    "deepnote_cell_type": "markdown"
   }
  },
  {
   "cell_type": "markdown",
   "source": "## Top 20 juegos",
   "metadata": {
    "tags": [],
    "cell_id": "00053-b9add59b-89ce-4d84-bf2a-550128529b60",
    "deepnote_cell_type": "markdown"
   }
  },
  {
   "cell_type": "code",
   "metadata": {
    "tags": [],
    "cell_id": "00054-4bbb6072-5529-4915-b1ef-80105f75ecd9",
    "deepnote_to_be_reexecuted": false,
    "source_hash": "25d43fa0",
    "execution_start": 1626919037014,
    "execution_millis": 150,
    "deepnote_cell_type": "code"
   },
   "source": "df.columns",
   "execution_count": 30,
   "outputs": [
    {
     "output_type": "execute_result",
     "execution_count": 30,
     "data": {
      "text/plain": "Index(['rank', 'title', 'total_ratings', 'installs_in_million',\n       'average rating', 'growth_30_days', 'growth_60_days', 'category',\n       '5 star ratings', '4 star ratings', '3 star ratings', '2 star ratings',\n       '1 star ratings', 'paid'],\n      dtype='object')"
     },
     "metadata": {}
    }
   ]
  },
  {
   "cell_type": "code",
   "metadata": {
    "tags": [],
    "cell_id": "00052-f123a06e-96c8-4caf-b094-011eecd34358",
    "deepnote_to_be_reexecuted": false,
    "source_hash": "b68858a8",
    "execution_start": 1626919037023,
    "execution_millis": 143,
    "deepnote_cell_type": "code"
   },
   "source": "# rdenamos los valores\ntop_20 = df.sort_values(by='installs_in_million', ascending=False).head(20)\ntop_20\n",
   "execution_count": 31,
   "outputs": [
    {
     "output_type": "execute_result",
     "execution_count": 31,
     "data": {
      "application/vnd.deepnote.dataframe.v2+json": {
       "row_count": 20,
       "column_count": 14,
       "columns": [
        {
         "name": "rank",
         "dtype": "int64",
         "stats": {
          "unique_count": 15,
          "nan_count": 0,
          "min": "1",
          "max": "96",
          "histogram": [
           {
            "bin_start": 1,
            "bin_end": 10.5,
            "count": 10
           },
           {
            "bin_start": 10.5,
            "bin_end": 20,
            "count": 0
           },
           {
            "bin_start": 20,
            "bin_end": 29.5,
            "count": 0
           },
           {
            "bin_start": 29.5,
            "bin_end": 39,
            "count": 0
           },
           {
            "bin_start": 39,
            "bin_end": 48.5,
            "count": 1
           },
           {
            "bin_start": 48.5,
            "bin_end": 58,
            "count": 1
           },
           {
            "bin_start": 58,
            "bin_end": 67.5,
            "count": 3
           },
           {
            "bin_start": 67.5,
            "bin_end": 77,
            "count": 0
           },
           {
            "bin_start": 77,
            "bin_end": 86.5,
            "count": 2
           },
           {
            "bin_start": 86.5,
            "bin_end": 96,
            "count": 3
           }
          ]
         }
        },
        {
         "name": "title",
         "dtype": "object",
         "stats": {
          "unique_count": 20,
          "nan_count": 0,
          "categories": [
           {
            "name": "Subway Surfers",
            "count": 1
           },
           {
            "name": "Candy Crush Saga",
            "count": 1
           },
           {
            "name": "18 others",
            "count": 18
           }
          ]
         }
        },
        {
         "name": "total_ratings",
         "dtype": "int64",
         "stats": {
          "unique_count": 20,
          "nan_count": 0,
          "min": "41756",
          "max": "86273129",
          "histogram": [
           {
            "bin_start": 41756,
            "bin_end": 8664893.3,
            "count": 12
           },
           {
            "bin_start": 8664893.3,
            "bin_end": 17288030.6,
            "count": 3
           },
           {
            "bin_start": 17288030.6,
            "bin_end": 25911167.900000002,
            "count": 1
           },
           {
            "bin_start": 25911167.900000002,
            "bin_end": 34534305.2,
            "count": 1
           },
           {
            "bin_start": 34534305.2,
            "bin_end": 43157442.5,
            "count": 1
           },
           {
            "bin_start": 43157442.5,
            "bin_end": 51780579.800000004,
            "count": 0
           },
           {
            "bin_start": 51780579.800000004,
            "bin_end": 60403717.10000001,
            "count": 1
           },
           {
            "bin_start": 60403717.10000001,
            "bin_end": 69026854.4,
            "count": 0
           },
           {
            "bin_start": 69026854.4,
            "bin_end": 77649991.7,
            "count": 0
           },
           {
            "bin_start": 77649991.7,
            "bin_end": 86273129,
            "count": 1
           }
          ]
         }
        },
        {
         "name": "installs_in_million",
         "dtype": "float64",
         "stats": {
          "unique_count": 2,
          "nan_count": 0,
          "min": "500000000.0",
          "max": "1000000000.0",
          "histogram": [
           {
            "bin_start": 500000000,
            "bin_end": 550000000,
            "count": 18
           },
           {
            "bin_start": 550000000,
            "bin_end": 600000000,
            "count": 0
           },
           {
            "bin_start": 600000000,
            "bin_end": 650000000,
            "count": 0
           },
           {
            "bin_start": 650000000,
            "bin_end": 700000000,
            "count": 0
           },
           {
            "bin_start": 700000000,
            "bin_end": 750000000,
            "count": 0
           },
           {
            "bin_start": 750000000,
            "bin_end": 800000000,
            "count": 0
           },
           {
            "bin_start": 800000000,
            "bin_end": 850000000,
            "count": 0
           },
           {
            "bin_start": 850000000,
            "bin_end": 900000000,
            "count": 0
           },
           {
            "bin_start": 900000000,
            "bin_end": 950000000,
            "count": 0
           },
           {
            "bin_start": 950000000,
            "bin_end": 1000000000,
            "count": 2
           }
          ]
         }
        },
        {
         "name": "average rating",
         "dtype": "int64",
         "stats": {
          "unique_count": 1,
          "nan_count": 0,
          "min": "4",
          "max": "4",
          "histogram": [
           {
            "bin_start": 3.5,
            "bin_end": 3.6,
            "count": 0
           },
           {
            "bin_start": 3.6,
            "bin_end": 3.7,
            "count": 0
           },
           {
            "bin_start": 3.7,
            "bin_end": 3.8,
            "count": 0
           },
           {
            "bin_start": 3.8,
            "bin_end": 3.9,
            "count": 0
           },
           {
            "bin_start": 3.9,
            "bin_end": 4,
            "count": 0
           },
           {
            "bin_start": 4,
            "bin_end": 4.1,
            "count": 20
           },
           {
            "bin_start": 4.1,
            "bin_end": 4.2,
            "count": 0
           },
           {
            "bin_start": 4.2,
            "bin_end": 4.3,
            "count": 0
           },
           {
            "bin_start": 4.3,
            "bin_end": 4.4,
            "count": 0
           },
           {
            "bin_start": 4.4,
            "bin_end": 4.5,
            "count": 0
           }
          ]
         }
        },
        {
         "name": "growth_30_days",
         "dtype": "float64",
         "stats": {
          "unique_count": 14,
          "nan_count": 0,
          "min": "0.0",
          "max": "954.5",
          "histogram": [
           {
            "bin_start": 0,
            "bin_end": 95.45,
            "count": 19
           },
           {
            "bin_start": 95.45,
            "bin_end": 190.9,
            "count": 0
           },
           {
            "bin_start": 190.9,
            "bin_end": 286.35,
            "count": 0
           },
           {
            "bin_start": 286.35,
            "bin_end": 381.8,
            "count": 0
           },
           {
            "bin_start": 381.8,
            "bin_end": 477.25,
            "count": 0
           },
           {
            "bin_start": 477.25,
            "bin_end": 572.7,
            "count": 0
           },
           {
            "bin_start": 572.7,
            "bin_end": 668.15,
            "count": 0
           },
           {
            "bin_start": 668.15,
            "bin_end": 763.6,
            "count": 0
           },
           {
            "bin_start": 763.6,
            "bin_end": 859.0500000000001,
            "count": 0
           },
           {
            "bin_start": 859.0500000000001,
            "bin_end": 954.5,
            "count": 1
           }
          ]
         }
        },
        {
         "name": "growth_60_days",
         "dtype": "float64",
         "stats": {
          "unique_count": 16,
          "nan_count": 0,
          "min": "0.0",
          "max": "630.8",
          "histogram": [
           {
            "bin_start": 0,
            "bin_end": 63.08,
            "count": 19
           },
           {
            "bin_start": 63.08,
            "bin_end": 126.16,
            "count": 0
           },
           {
            "bin_start": 126.16,
            "bin_end": 189.24,
            "count": 0
           },
           {
            "bin_start": 189.24,
            "bin_end": 252.32,
            "count": 0
           },
           {
            "bin_start": 252.32,
            "bin_end": 315.4,
            "count": 0
           },
           {
            "bin_start": 315.4,
            "bin_end": 378.48,
            "count": 0
           },
           {
            "bin_start": 378.48,
            "bin_end": 441.56,
            "count": 0
           },
           {
            "bin_start": 441.56,
            "bin_end": 504.64,
            "count": 0
           },
           {
            "bin_start": 504.64,
            "bin_end": 567.72,
            "count": 0
           },
           {
            "bin_start": 567.72,
            "bin_end": 630.8,
            "count": 1
           }
          ]
         }
        },
        {
         "name": "category",
         "dtype": "object",
         "stats": {
          "unique_count": 9,
          "nan_count": 0,
          "categories": [
           {
            "name": "GAME TRIVIA",
            "count": 7
           },
           {
            "name": "GAME CASUAL",
            "count": 4
           },
           {
            "name": "7 others",
            "count": 9
           }
          ]
         }
        },
        {
         "name": "5 star ratings",
         "dtype": "int64",
         "stats": {
          "unique_count": 20,
          "nan_count": 0,
          "min": "26434",
          "max": "63546766",
          "histogram": [
           {
            "bin_start": 26434,
            "bin_end": 6378467.2,
            "count": 12
           },
           {
            "bin_start": 6378467.2,
            "bin_end": 12730500.4,
            "count": 3
           },
           {
            "bin_start": 12730500.4,
            "bin_end": 19082533.6,
            "count": 1
           },
           {
            "bin_start": 19082533.6,
            "bin_end": 25434566.8,
            "count": 1
           },
           {
            "bin_start": 25434566.8,
            "bin_end": 31786600,
            "count": 1
           },
           {
            "bin_start": 31786600,
            "bin_end": 38138633.2,
            "count": 0
           },
           {
            "bin_start": 38138633.2,
            "bin_end": 44490666.4,
            "count": 1
           },
           {
            "bin_start": 44490666.4,
            "bin_end": 50842699.6,
            "count": 0
           },
           {
            "bin_start": 50842699.6,
            "bin_end": 57194732.800000004,
            "count": 0
           },
           {
            "bin_start": 57194732.800000004,
            "bin_end": 63546766,
            "count": 1
           }
          ]
         }
        },
        {
         "name": "4 star ratings",
         "dtype": "int64",
         "stats": {
          "unique_count": 20,
          "nan_count": 0,
          "min": "3912",
          "max": "5404966",
          "histogram": [
           {
            "bin_start": 3912,
            "bin_end": 544017.4,
            "count": 11
           },
           {
            "bin_start": 544017.4,
            "bin_end": 1084122.8,
            "count": 3
           },
           {
            "bin_start": 1084122.8,
            "bin_end": 1624228.2000000002,
            "count": 1
           },
           {
            "bin_start": 1624228.2000000002,
            "bin_end": 2164333.6,
            "count": 0
           },
           {
            "bin_start": 2164333.6,
            "bin_end": 2704439,
            "count": 1
           },
           {
            "bin_start": 2704439,
            "bin_end": 3244544.4000000004,
            "count": 0
           },
           {
            "bin_start": 3244544.4000000004,
            "bin_end": 3784649.8000000003,
            "count": 1
           },
           {
            "bin_start": 3784649.8000000003,
            "bin_end": 4324755.2,
            "count": 1
           },
           {
            "bin_start": 4324755.2,
            "bin_end": 4864860.600000001,
            "count": 0
           },
           {
            "bin_start": 4864860.600000001,
            "bin_end": 5404966,
            "count": 2
           }
          ]
         }
        },
        {
         "name": "3 star ratings",
         "dtype": "int64",
         "stats": {
          "unique_count": 20,
          "nan_count": 0,
          "min": "1284",
          "max": "3158756",
          "histogram": [
           {
            "bin_start": 1284,
            "bin_end": 317031.2,
            "count": 10
           },
           {
            "bin_start": 317031.2,
            "bin_end": 632778.4,
            "count": 2
           },
           {
            "bin_start": 632778.4,
            "bin_end": 948525.6000000001,
            "count": 3
           },
           {
            "bin_start": 948525.6000000001,
            "bin_end": 1264272.8,
            "count": 1
           },
           {
            "bin_start": 1264272.8,
            "bin_end": 1580020,
            "count": 1
           },
           {
            "bin_start": 1580020,
            "bin_end": 1895767.2000000002,
            "count": 1
           },
           {
            "bin_start": 1895767.2000000002,
            "bin_end": 2211514.4,
            "count": 0
           },
           {
            "bin_start": 2211514.4,
            "bin_end": 2527261.6,
            "count": 1
           },
           {
            "bin_start": 2527261.6,
            "bin_end": 2843008.8000000003,
            "count": 0
           },
           {
            "bin_start": 2843008.8000000003,
            "bin_end": 3158756,
            "count": 1
           }
          ]
         }
        },
        {
         "name": "2 star ratings",
         "dtype": "int64",
         "stats": {
          "unique_count": 20,
          "nan_count": 0,
          "min": "347",
          "max": "2122183",
          "histogram": [
           {
            "bin_start": 347,
            "bin_end": 212530.6,
            "count": 12
           },
           {
            "bin_start": 212530.6,
            "bin_end": 424714.2,
            "count": 2
           },
           {
            "bin_start": 424714.2,
            "bin_end": 636897.8,
            "count": 3
           },
           {
            "bin_start": 636897.8,
            "bin_end": 849081.4,
            "count": 1
           },
           {
            "bin_start": 849081.4,
            "bin_end": 1061265,
            "count": 1
           },
           {
            "bin_start": 1061265,
            "bin_end": 1273448.6,
            "count": 0
           },
           {
            "bin_start": 1273448.6,
            "bin_end": 1485632.2,
            "count": 0
           },
           {
            "bin_start": 1485632.2,
            "bin_end": 1697815.8,
            "count": 0
           },
           {
            "bin_start": 1697815.8,
            "bin_end": 1909999.4000000001,
            "count": 0
           },
           {
            "bin_start": 1909999.4000000001,
            "bin_end": 2122183,
            "count": 1
           }
          ]
         }
        },
        {
         "name": "1 star ratings",
         "dtype": "int64",
         "stats": {
          "unique_count": 20,
          "nan_count": 0,
          "min": "545",
          "max": "12495915",
          "histogram": [
           {
            "bin_start": 545,
            "bin_end": 1250082,
            "count": 13
           },
           {
            "bin_start": 1250082,
            "bin_end": 2499619,
            "count": 4
           },
           {
            "bin_start": 2499619,
            "bin_end": 3749156,
            "count": 1
           },
           {
            "bin_start": 3749156,
            "bin_end": 4998693,
            "count": 1
           },
           {
            "bin_start": 4998693,
            "bin_end": 6248230,
            "count": 0
           },
           {
            "bin_start": 6248230,
            "bin_end": 7497767,
            "count": 0
           },
           {
            "bin_start": 7497767,
            "bin_end": 8747304,
            "count": 0
           },
           {
            "bin_start": 8747304,
            "bin_end": 9996841,
            "count": 0
           },
           {
            "bin_start": 9996841,
            "bin_end": 11246378,
            "count": 0
           },
           {
            "bin_start": 11246378,
            "bin_end": 12495915,
            "count": 1
           }
          ]
         }
        },
        {
         "name": "paid",
         "dtype": "bool",
         "stats": {
          "unique_count": 2,
          "nan_count": 0,
          "categories": [
           {
            "name": "False",
            "count": 18
           },
           {
            "name": "True",
            "count": 2
           }
          ]
         }
        },
        {
         "name": "_deepnote_index_column",
         "dtype": "int64"
        }
       ],
       "rows_top": [
        {
         "rank": 1,
         "title": "Subway Surfers",
         "total_ratings": 35665901,
         "installs_in_million": 1000000000,
         "average rating": 4,
         "growth_30_days": 0.5,
         "growth_60_days": 1,
         "category": "GAME ARCADE",
         "5 star ratings": 27138572,
         "4 star ratings": 3366600,
         "3 star ratings": 1622695,
         "2 star ratings": 814890,
         "1 star ratings": 2723142,
         "paid": "False",
         "_deepnote_index_column": 200
        },
        {
         "rank": 1,
         "title": "Candy Crush Saga",
         "total_ratings": 31367945,
         "installs_in_million": 1000000000,
         "average rating": 4,
         "growth_30_days": 0.9,
         "growth_60_days": 1.6,
         "category": "GAME CASUAL",
         "5 star ratings": 23837448,
         "4 star ratings": 4176798,
         "3 star ratings": 1534041,
         "2 star ratings": 486005,
         "1 star ratings": 1333650,
         "paid": "False",
         "_deepnote_index_column": 626
        },
        {
         "rank": 1,
         "title": "Garena Free Fire- World Series",
         "total_ratings": 86273129,
         "installs_in_million": 500000000,
         "average rating": 4,
         "growth_30_days": 2.1,
         "growth_60_days": 6.9,
         "category": "GAME ACTION",
         "5 star ratings": 63546766,
         "4 star ratings": 4949507,
         "3 star ratings": 3158756,
         "2 star ratings": 2122183,
         "1 star ratings": 12495915,
         "paid": "False",
         "_deepnote_index_column": 0
        },
        {
         "rank": 1,
         "title": "8 Ball Pool",
         "total_ratings": 21632735,
         "installs_in_million": 500000000,
         "average rating": 4,
         "growth_30_days": 1.2,
         "growth_60_days": 630.8,
         "category": "GAME SPORTS",
         "5 star ratings": 16281475,
         "4 star ratings": 2268294,
         "3 star ratings": 1017204,
         "2 star ratings": 425693,
         "1 star ratings": 1640067,
         "paid": "False",
         "_deepnote_index_column": 1326
        },
        {
         "rank": 89,
         "title": "Cuanto Sabes de la Biblia",
         "total_ratings": 45126,
         "installs_in_million": 500000000,
         "average rating": 4,
         "growth_30_days": 954.5,
         "growth_60_days": 4.2,
         "category": "GAME TRIVIA",
         "5 star ratings": 38933,
         "4 star ratings": 3912,
         "3 star ratings": 1284,
         "2 star ratings": 378,
         "1 star ratings": 617,
         "paid": "False",
         "_deepnote_index_column": 1614
        },
        {
         "rank": 85,
         "title": "90's Quiz Game",
         "total_ratings": 47912,
         "installs_in_million": 500000000,
         "average rating": 4,
         "growth_30_days": 0,
         "growth_60_days": 0,
         "category": "GAME TRIVIA",
         "5 star ratings": 40057,
         "4 star ratings": 4661,
         "3 star ratings": 2300,
         "2 star ratings": 347,
         "1 star ratings": 545,
         "paid": "False",
         "_deepnote_index_column": 1610
        },
        {
         "rank": 82,
         "title": "לוגוטסט טריוויה: משחק הסמלים והמותגים הגדול בישראל",
         "total_ratings": 50002,
         "installs_in_million": 500000000,
         "average rating": 4,
         "growth_30_days": 0.3,
         "growth_60_days": 0.7,
         "category": "GAME TRIVIA",
         "5 star ratings": 41823,
         "4 star ratings": 4249,
         "3 star ratings": 1669,
         "2 star ratings": 589,
         "1 star ratings": 1669,
         "paid": "False",
         "_deepnote_index_column": 1607
        },
        {
         "rank": 63,
         "title": "Trivia Crack (No Ads)",
         "total_ratings": 75712,
         "installs_in_million": 500000000,
         "average rating": 4,
         "growth_30_days": 0.7,
         "growth_60_days": 1.4,
         "category": "GAME TRIVIA",
         "5 star ratings": 56454,
         "4 star ratings": 12628,
         "3 star ratings": 3284,
         "2 star ratings": 1088,
         "1 star ratings": 2256,
         "paid": "True",
         "_deepnote_index_column": 1588
        },
        {
         "rank": 56,
         "title": "Pluck It: hairs and emotions",
         "total_ratings": 86335,
         "installs_in_million": 500000000,
         "average rating": 4,
         "growth_30_days": 1.1,
         "growth_60_days": 2.3,
         "category": "GAME TRIVIA",
         "5 star ratings": 72958,
         "4 star ratings": 6777,
         "3 star ratings": 1971,
         "2 star ratings": 1139,
         "1 star ratings": 3487,
         "paid": "False",
         "_deepnote_index_column": 1581
        },
        {
         "rank": 43,
         "title": "Free RBX Master",
         "total_ratings": 116248,
         "installs_in_million": 500000000,
         "average rating": 4,
         "growth_30_days": 2.7,
         "growth_60_days": 8.1,
         "category": "GAME TRIVIA",
         "5 star ratings": 84945,
         "4 star ratings": 7865,
         "3 star ratings": 4824,
         "2 star ratings": 2342,
         "1 star ratings": 16269,
         "paid": "False",
         "_deepnote_index_column": 1568
        },
        {
         "rank": 8,
         "title": "Temple Run",
         "total_ratings": 4816448,
         "installs_in_million": 500000000,
         "average rating": 4,
         "growth_30_days": 0.7,
         "growth_60_days": 1.5,
         "category": "GAME ARCADE",
         "5 star ratings": 3184391,
         "4 star ratings": 438320,
         "3 star ratings": 318164,
         "2 star ratings": 204384,
         "1 star ratings": 671187,
         "paid": "False",
         "_deepnote_index_column": 207
        },
        {
         "rank": 1,
         "title": "Ludo King™",
         "total_ratings": 7512316,
         "installs_in_million": 500000000,
         "average rating": 4,
         "growth_30_days": 4,
         "growth_60_days": 6.5,
         "category": "GAME BOARD",
         "5 star ratings": 5291589,
         "4 star ratings": 773193,
         "3 star ratings": 369290,
         "2 star ratings": 204053,
         "1 star ratings": 874188,
         "paid": "False",
         "_deepnote_index_column": 300
        },
        {
         "rank": 1,
         "title": "Clash of Clans",
         "total_ratings": 55766763,
         "installs_in_million": 500000000,
         "average rating": 4,
         "growth_30_days": 0.3,
         "growth_60_days": 1,
         "category": "GAME STRATEGY",
         "5 star ratings": 43346128,
         "4 star ratings": 5404966,
         "3 star ratings": 2276203,
         "2 star ratings": 971321,
         "1 star ratings": 3768141,
         "paid": "False",
         "_deepnote_index_column": 1426
        },
        {
         "rank": 60,
         "title": "Reigns",
         "total_ratings": 146718,
         "installs_in_million": 500000000,
         "average rating": 4,
         "growth_30_days": 0.1,
         "growth_60_days": 0.1,
         "category": "GAME CARD",
         "5 star ratings": 108356,
         "4 star ratings": 25417,
         "3 star ratings": 5887,
         "2 star ratings": 2868,
         "1 star ratings": 4187,
         "paid": "True",
         "_deepnote_index_column": 477
        },
        {
         "rank": 96,
         "title": "Crazy Quiz",
         "total_ratings": 41756,
         "installs_in_million": 500000000,
         "average rating": 4,
         "growth_30_days": 0,
         "growth_60_days": 0,
         "category": "GAME TRIVIA",
         "5 star ratings": 26434,
         "4 star ratings": 10274,
         "3 star ratings": 3777,
         "2 star ratings": 419,
         "1 star ratings": 849,
         "paid": "False",
         "_deepnote_index_column": 1621
        },
        {
         "rank": 67,
         "title": "三國殺名將傳",
         "total_ratings": 137405,
         "installs_in_million": 500000000,
         "average rating": 4,
         "growth_30_days": 0.2,
         "growth_60_days": 0.4,
         "category": "GAME CARD",
         "5 star ratings": 92609,
         "4 star ratings": 18503,
         "3 star ratings": 10976,
         "2 star ratings": 3668,
         "1 star ratings": 11646,
         "paid": "False",
         "_deepnote_index_column": 485
        },
        {
         "rank": 87,
         "title": "Slots on Tour Casino - Vegas Slot Machine Games HD",
         "total_ratings": 99082,
         "installs_in_million": 500000000,
         "average rating": 4,
         "growth_30_days": 0.1,
         "growth_60_days": 0.2,
         "category": "GAME CASINO",
         "5 star ratings": 78458,
         "4 star ratings": 14511,
         "3 star ratings": 3405,
         "2 star ratings": 749,
         "1 star ratings": 1957,
         "paid": "False",
         "_deepnote_index_column": 612
        },
        {
         "rank": 2,
         "title": "My Talking Tom",
         "total_ratings": 16810315,
         "installs_in_million": 500000000,
         "average rating": 4,
         "growth_30_days": 0.3,
         "growth_60_days": 0.5,
         "category": "GAME CASUAL",
         "5 star ratings": 12234051,
         "4 star ratings": 1514188,
         "3 star ratings": 851145,
         "2 star ratings": 465627,
         "1 star ratings": 1745303,
         "paid": "False",
         "_deepnote_index_column": 627
        },
        {
         "rank": 3,
         "title": "My Talking Angela",
         "total_ratings": 13050503,
         "installs_in_million": 500000000,
         "average rating": 4,
         "growth_30_days": 0.6,
         "growth_60_days": 1.4,
         "category": "GAME CASUAL",
         "5 star ratings": 9165205,
         "4 star ratings": 1073761,
         "3 star ratings": 636763,
         "2 star ratings": 399662,
         "1 star ratings": 1775110,
         "paid": "False",
         "_deepnote_index_column": 628
        },
        {
         "rank": 5,
         "title": "Pou",
         "total_ratings": 11506051,
         "installs_in_million": 500000000,
         "average rating": 4,
         "growth_30_days": 0.2,
         "growth_60_days": 0.5,
         "category": "GAME CASUAL",
         "5 star ratings": 8175679,
         "4 star ratings": 1051014,
         "3 star ratings": 688712,
         "2 star ratings": 346244,
         "1 star ratings": 1244400,
         "paid": "False",
         "_deepnote_index_column": 630
        }
       ],
       "rows_bottom": null
      },
      "text/plain": "      rank                                              title  total_ratings  \\\n200      1                                     Subway Surfers       35665901   \n626      1                                   Candy Crush Saga       31367945   \n0        1                     Garena Free Fire- World Series       86273129   \n1326     1                                        8 Ball Pool       21632735   \n1614    89                          Cuanto Sabes de la Biblia          45126   \n1610    85                                     90's Quiz Game          47912   \n1607    82  לוגוטסט טריוויה: משחק הסמלים והמותגים הגדול בי...          50002   \n1588    63                              Trivia Crack (No Ads)          75712   \n1581    56                       Pluck It: hairs and emotions          86335   \n1568    43                                    Free RBX Master         116248   \n207      8                                         Temple Run        4816448   \n300      1                                         Ludo King™        7512316   \n1426     1                                     Clash of Clans       55766763   \n477     60                                             Reigns         146718   \n1621    96                                         Crazy Quiz          41756   \n485     67                                             三國殺名將傳         137405   \n612     87  Slots on Tour Casino - Vegas Slot Machine Game...          99082   \n627      2                                     My Talking Tom       16810315   \n628      3                                  My Talking Angela       13050503   \n630      5                                                Pou       11506051   \n\n      installs_in_million  average rating  growth_30_days  growth_60_days  \\\n200          1.000000e+09               4             0.5             1.0   \n626          1.000000e+09               4             0.9             1.6   \n0            5.000000e+08               4             2.1             6.9   \n1326         5.000000e+08               4             1.2           630.8   \n1614         5.000000e+08               4           954.5             4.2   \n1610         5.000000e+08               4             0.0             0.0   \n1607         5.000000e+08               4             0.3             0.7   \n1588         5.000000e+08               4             0.7             1.4   \n1581         5.000000e+08               4             1.1             2.3   \n1568         5.000000e+08               4             2.7             8.1   \n207          5.000000e+08               4             0.7             1.5   \n300          5.000000e+08               4             4.0             6.5   \n1426         5.000000e+08               4             0.3             1.0   \n477          5.000000e+08               4             0.1             0.1   \n1621         5.000000e+08               4             0.0             0.0   \n485          5.000000e+08               4             0.2             0.4   \n612          5.000000e+08               4             0.1             0.2   \n627          5.000000e+08               4             0.3             0.5   \n628          5.000000e+08               4             0.6             1.4   \n630          5.000000e+08               4             0.2             0.5   \n\n           category  5 star ratings  4 star ratings  3 star ratings  \\\n200     GAME ARCADE        27138572         3366600         1622695   \n626     GAME CASUAL        23837448         4176798         1534041   \n0       GAME ACTION        63546766         4949507         3158756   \n1326    GAME SPORTS        16281475         2268294         1017204   \n1614    GAME TRIVIA           38933            3912            1284   \n1610    GAME TRIVIA           40057            4661            2300   \n1607    GAME TRIVIA           41823            4249            1669   \n1588    GAME TRIVIA           56454           12628            3284   \n1581    GAME TRIVIA           72958            6777            1971   \n1568    GAME TRIVIA           84945            7865            4824   \n207     GAME ARCADE         3184391          438320          318164   \n300      GAME BOARD         5291589          773193          369290   \n1426  GAME STRATEGY        43346128         5404966         2276203   \n477       GAME CARD          108356           25417            5887   \n1621    GAME TRIVIA           26434           10274            3777   \n485       GAME CARD           92609           18503           10976   \n612     GAME CASINO           78458           14511            3405   \n627     GAME CASUAL        12234051         1514188          851145   \n628     GAME CASUAL         9165205         1073761          636763   \n630     GAME CASUAL         8175679         1051014          688712   \n\n      2 star ratings  1 star ratings   paid  \n200           814890         2723142  False  \n626           486005         1333650  False  \n0            2122183        12495915  False  \n1326          425693         1640067  False  \n1614             378             617  False  \n1610             347             545  False  \n1607             589            1669  False  \n1588            1088            2256   True  \n1581            1139            3487  False  \n1568            2342           16269  False  \n207           204384          671187  False  \n300           204053          874188  False  \n1426          971321         3768141  False  \n477             2868            4187   True  \n1621             419             849  False  \n485             3668           11646  False  \n612              749            1957  False  \n627           465627         1745303  False  \n628           399662         1775110  False  \n630           346244         1244400  False  ",
      "text/html": "<div>\n<style scoped>\n    .dataframe tbody tr th:only-of-type {\n        vertical-align: middle;\n    }\n\n    .dataframe tbody tr th {\n        vertical-align: top;\n    }\n\n    .dataframe thead th {\n        text-align: right;\n    }\n</style>\n<table border=\"1\" class=\"dataframe\">\n  <thead>\n    <tr style=\"text-align: right;\">\n      <th></th>\n      <th>rank</th>\n      <th>title</th>\n      <th>total_ratings</th>\n      <th>installs_in_million</th>\n      <th>average rating</th>\n      <th>growth_30_days</th>\n      <th>growth_60_days</th>\n      <th>category</th>\n      <th>5 star ratings</th>\n      <th>4 star ratings</th>\n      <th>3 star ratings</th>\n      <th>2 star ratings</th>\n      <th>1 star ratings</th>\n      <th>paid</th>\n    </tr>\n  </thead>\n  <tbody>\n    <tr>\n      <th>200</th>\n      <td>1</td>\n      <td>Subway Surfers</td>\n      <td>35665901</td>\n      <td>1.000000e+09</td>\n      <td>4</td>\n      <td>0.5</td>\n      <td>1.0</td>\n      <td>GAME ARCADE</td>\n      <td>27138572</td>\n      <td>3366600</td>\n      <td>1622695</td>\n      <td>814890</td>\n      <td>2723142</td>\n      <td>False</td>\n    </tr>\n    <tr>\n      <th>626</th>\n      <td>1</td>\n      <td>Candy Crush Saga</td>\n      <td>31367945</td>\n      <td>1.000000e+09</td>\n      <td>4</td>\n      <td>0.9</td>\n      <td>1.6</td>\n      <td>GAME CASUAL</td>\n      <td>23837448</td>\n      <td>4176798</td>\n      <td>1534041</td>\n      <td>486005</td>\n      <td>1333650</td>\n      <td>False</td>\n    </tr>\n    <tr>\n      <th>0</th>\n      <td>1</td>\n      <td>Garena Free Fire- World Series</td>\n      <td>86273129</td>\n      <td>5.000000e+08</td>\n      <td>4</td>\n      <td>2.1</td>\n      <td>6.9</td>\n      <td>GAME ACTION</td>\n      <td>63546766</td>\n      <td>4949507</td>\n      <td>3158756</td>\n      <td>2122183</td>\n      <td>12495915</td>\n      <td>False</td>\n    </tr>\n    <tr>\n      <th>1326</th>\n      <td>1</td>\n      <td>8 Ball Pool</td>\n      <td>21632735</td>\n      <td>5.000000e+08</td>\n      <td>4</td>\n      <td>1.2</td>\n      <td>630.8</td>\n      <td>GAME SPORTS</td>\n      <td>16281475</td>\n      <td>2268294</td>\n      <td>1017204</td>\n      <td>425693</td>\n      <td>1640067</td>\n      <td>False</td>\n    </tr>\n    <tr>\n      <th>1614</th>\n      <td>89</td>\n      <td>Cuanto Sabes de la Biblia</td>\n      <td>45126</td>\n      <td>5.000000e+08</td>\n      <td>4</td>\n      <td>954.5</td>\n      <td>4.2</td>\n      <td>GAME TRIVIA</td>\n      <td>38933</td>\n      <td>3912</td>\n      <td>1284</td>\n      <td>378</td>\n      <td>617</td>\n      <td>False</td>\n    </tr>\n    <tr>\n      <th>1610</th>\n      <td>85</td>\n      <td>90's Quiz Game</td>\n      <td>47912</td>\n      <td>5.000000e+08</td>\n      <td>4</td>\n      <td>0.0</td>\n      <td>0.0</td>\n      <td>GAME TRIVIA</td>\n      <td>40057</td>\n      <td>4661</td>\n      <td>2300</td>\n      <td>347</td>\n      <td>545</td>\n      <td>False</td>\n    </tr>\n    <tr>\n      <th>1607</th>\n      <td>82</td>\n      <td>לוגוטסט טריוויה: משחק הסמלים והמותגים הגדול בי...</td>\n      <td>50002</td>\n      <td>5.000000e+08</td>\n      <td>4</td>\n      <td>0.3</td>\n      <td>0.7</td>\n      <td>GAME TRIVIA</td>\n      <td>41823</td>\n      <td>4249</td>\n      <td>1669</td>\n      <td>589</td>\n      <td>1669</td>\n      <td>False</td>\n    </tr>\n    <tr>\n      <th>1588</th>\n      <td>63</td>\n      <td>Trivia Crack (No Ads)</td>\n      <td>75712</td>\n      <td>5.000000e+08</td>\n      <td>4</td>\n      <td>0.7</td>\n      <td>1.4</td>\n      <td>GAME TRIVIA</td>\n      <td>56454</td>\n      <td>12628</td>\n      <td>3284</td>\n      <td>1088</td>\n      <td>2256</td>\n      <td>True</td>\n    </tr>\n    <tr>\n      <th>1581</th>\n      <td>56</td>\n      <td>Pluck It: hairs and emotions</td>\n      <td>86335</td>\n      <td>5.000000e+08</td>\n      <td>4</td>\n      <td>1.1</td>\n      <td>2.3</td>\n      <td>GAME TRIVIA</td>\n      <td>72958</td>\n      <td>6777</td>\n      <td>1971</td>\n      <td>1139</td>\n      <td>3487</td>\n      <td>False</td>\n    </tr>\n    <tr>\n      <th>1568</th>\n      <td>43</td>\n      <td>Free RBX Master</td>\n      <td>116248</td>\n      <td>5.000000e+08</td>\n      <td>4</td>\n      <td>2.7</td>\n      <td>8.1</td>\n      <td>GAME TRIVIA</td>\n      <td>84945</td>\n      <td>7865</td>\n      <td>4824</td>\n      <td>2342</td>\n      <td>16269</td>\n      <td>False</td>\n    </tr>\n    <tr>\n      <th>207</th>\n      <td>8</td>\n      <td>Temple Run</td>\n      <td>4816448</td>\n      <td>5.000000e+08</td>\n      <td>4</td>\n      <td>0.7</td>\n      <td>1.5</td>\n      <td>GAME ARCADE</td>\n      <td>3184391</td>\n      <td>438320</td>\n      <td>318164</td>\n      <td>204384</td>\n      <td>671187</td>\n      <td>False</td>\n    </tr>\n    <tr>\n      <th>300</th>\n      <td>1</td>\n      <td>Ludo King™</td>\n      <td>7512316</td>\n      <td>5.000000e+08</td>\n      <td>4</td>\n      <td>4.0</td>\n      <td>6.5</td>\n      <td>GAME BOARD</td>\n      <td>5291589</td>\n      <td>773193</td>\n      <td>369290</td>\n      <td>204053</td>\n      <td>874188</td>\n      <td>False</td>\n    </tr>\n    <tr>\n      <th>1426</th>\n      <td>1</td>\n      <td>Clash of Clans</td>\n      <td>55766763</td>\n      <td>5.000000e+08</td>\n      <td>4</td>\n      <td>0.3</td>\n      <td>1.0</td>\n      <td>GAME STRATEGY</td>\n      <td>43346128</td>\n      <td>5404966</td>\n      <td>2276203</td>\n      <td>971321</td>\n      <td>3768141</td>\n      <td>False</td>\n    </tr>\n    <tr>\n      <th>477</th>\n      <td>60</td>\n      <td>Reigns</td>\n      <td>146718</td>\n      <td>5.000000e+08</td>\n      <td>4</td>\n      <td>0.1</td>\n      <td>0.1</td>\n      <td>GAME CARD</td>\n      <td>108356</td>\n      <td>25417</td>\n      <td>5887</td>\n      <td>2868</td>\n      <td>4187</td>\n      <td>True</td>\n    </tr>\n    <tr>\n      <th>1621</th>\n      <td>96</td>\n      <td>Crazy Quiz</td>\n      <td>41756</td>\n      <td>5.000000e+08</td>\n      <td>4</td>\n      <td>0.0</td>\n      <td>0.0</td>\n      <td>GAME TRIVIA</td>\n      <td>26434</td>\n      <td>10274</td>\n      <td>3777</td>\n      <td>419</td>\n      <td>849</td>\n      <td>False</td>\n    </tr>\n    <tr>\n      <th>485</th>\n      <td>67</td>\n      <td>三國殺名將傳</td>\n      <td>137405</td>\n      <td>5.000000e+08</td>\n      <td>4</td>\n      <td>0.2</td>\n      <td>0.4</td>\n      <td>GAME CARD</td>\n      <td>92609</td>\n      <td>18503</td>\n      <td>10976</td>\n      <td>3668</td>\n      <td>11646</td>\n      <td>False</td>\n    </tr>\n    <tr>\n      <th>612</th>\n      <td>87</td>\n      <td>Slots on Tour Casino - Vegas Slot Machine Game...</td>\n      <td>99082</td>\n      <td>5.000000e+08</td>\n      <td>4</td>\n      <td>0.1</td>\n      <td>0.2</td>\n      <td>GAME CASINO</td>\n      <td>78458</td>\n      <td>14511</td>\n      <td>3405</td>\n      <td>749</td>\n      <td>1957</td>\n      <td>False</td>\n    </tr>\n    <tr>\n      <th>627</th>\n      <td>2</td>\n      <td>My Talking Tom</td>\n      <td>16810315</td>\n      <td>5.000000e+08</td>\n      <td>4</td>\n      <td>0.3</td>\n      <td>0.5</td>\n      <td>GAME CASUAL</td>\n      <td>12234051</td>\n      <td>1514188</td>\n      <td>851145</td>\n      <td>465627</td>\n      <td>1745303</td>\n      <td>False</td>\n    </tr>\n    <tr>\n      <th>628</th>\n      <td>3</td>\n      <td>My Talking Angela</td>\n      <td>13050503</td>\n      <td>5.000000e+08</td>\n      <td>4</td>\n      <td>0.6</td>\n      <td>1.4</td>\n      <td>GAME CASUAL</td>\n      <td>9165205</td>\n      <td>1073761</td>\n      <td>636763</td>\n      <td>399662</td>\n      <td>1775110</td>\n      <td>False</td>\n    </tr>\n    <tr>\n      <th>630</th>\n      <td>5</td>\n      <td>Pou</td>\n      <td>11506051</td>\n      <td>5.000000e+08</td>\n      <td>4</td>\n      <td>0.2</td>\n      <td>0.5</td>\n      <td>GAME CASUAL</td>\n      <td>8175679</td>\n      <td>1051014</td>\n      <td>688712</td>\n      <td>346244</td>\n      <td>1244400</td>\n      <td>False</td>\n    </tr>\n  </tbody>\n</table>\n</div>"
     },
     "metadata": {}
    }
   ]
  },
  {
   "cell_type": "code",
   "metadata": {
    "tags": [],
    "cell_id": "00056-0bf02485-825f-4b43-8680-c110fa40a032",
    "deepnote_to_be_reexecuted": false,
    "source_hash": "19b1432d",
    "execution_start": 1626919037154,
    "execution_millis": 56,
    "deepnote_cell_type": "code"
   },
   "source": "fig = px.bar(top_20,\n    x='title',\n    y='installs_in_million',\n    hover_data=['rank','5 star ratings'],\n    color='category'\n)\nfig.update_layout(xaxis={'categoryorder':'total descending'})\nfig.show()",
   "execution_count": 32,
   "outputs": [
    {
     "data": {
      "text/html": "<html>\n<head><meta charset=\"utf-8\" /></head>\n<body>\n    <div>            <script src=\"https://cdnjs.cloudflare.com/ajax/libs/mathjax/2.7.5/MathJax.js?config=TeX-AMS-MML_SVG\"></script><script type=\"text/javascript\">if (window.MathJax) {MathJax.Hub.Config({SVG: {font: \"STIX-Web\"}});}</script>                <script type=\"text/javascript\">window.PlotlyConfig = {MathJaxConfig: 'local'};</script>\n        <script src=\"https://cdn.plot.ly/plotly-2.2.0.min.js\"></script>                <div id=\"bfcc8fe9-61ea-4c18-922e-db035e4ccacb\" class=\"plotly-graph-div\" style=\"height:525px; width:100%;\"></div>            <script type=\"text/javascript\">                                    window.PLOTLYENV=window.PLOTLYENV || {};                                    if (document.getElementById(\"bfcc8fe9-61ea-4c18-922e-db035e4ccacb\")) {                    Plotly.newPlot(                        \"bfcc8fe9-61ea-4c18-922e-db035e4ccacb\",                        [{\"alignmentgroup\":\"True\",\"customdata\":[[1,27138572],[8,3184391]],\"hovertemplate\":\"category=GAME ARCADE<br>title=%{x}<br>installs_in_million=%{y}<br>rank=%{customdata[0]}<br>5 star ratings=%{customdata[1]}<extra></extra>\",\"legendgroup\":\"GAME ARCADE\",\"marker\":{\"color\":\"#636efa\",\"pattern\":{\"shape\":\"\"}},\"name\":\"GAME ARCADE\",\"offsetgroup\":\"GAME ARCADE\",\"orientation\":\"v\",\"showlegend\":true,\"textposition\":\"auto\",\"type\":\"bar\",\"x\":[\"Subway Surfers\",\"Temple Run\"],\"xaxis\":\"x\",\"y\":[1000000000.0,500000000.0],\"yaxis\":\"y\"},{\"alignmentgroup\":\"True\",\"customdata\":[[1,23837448],[2,12234051],[3,9165205],[5,8175679]],\"hovertemplate\":\"category=GAME CASUAL<br>title=%{x}<br>installs_in_million=%{y}<br>rank=%{customdata[0]}<br>5 star ratings=%{customdata[1]}<extra></extra>\",\"legendgroup\":\"GAME CASUAL\",\"marker\":{\"color\":\"#EF553B\",\"pattern\":{\"shape\":\"\"}},\"name\":\"GAME CASUAL\",\"offsetgroup\":\"GAME CASUAL\",\"orientation\":\"v\",\"showlegend\":true,\"textposition\":\"auto\",\"type\":\"bar\",\"x\":[\"Candy Crush Saga\",\"My Talking Tom\",\"My Talking Angela\",\"Pou\"],\"xaxis\":\"x\",\"y\":[1000000000.0,500000000.0,500000000.0,500000000.0],\"yaxis\":\"y\"},{\"alignmentgroup\":\"True\",\"customdata\":[[1,63546766]],\"hovertemplate\":\"category=GAME ACTION<br>title=%{x}<br>installs_in_million=%{y}<br>rank=%{customdata[0]}<br>5 star ratings=%{customdata[1]}<extra></extra>\",\"legendgroup\":\"GAME ACTION\",\"marker\":{\"color\":\"#00cc96\",\"pattern\":{\"shape\":\"\"}},\"name\":\"GAME ACTION\",\"offsetgroup\":\"GAME ACTION\",\"orientation\":\"v\",\"showlegend\":true,\"textposition\":\"auto\",\"type\":\"bar\",\"x\":[\"Garena Free Fire- World Series\"],\"xaxis\":\"x\",\"y\":[500000000.0],\"yaxis\":\"y\"},{\"alignmentgroup\":\"True\",\"customdata\":[[1,16281475]],\"hovertemplate\":\"category=GAME SPORTS<br>title=%{x}<br>installs_in_million=%{y}<br>rank=%{customdata[0]}<br>5 star ratings=%{customdata[1]}<extra></extra>\",\"legendgroup\":\"GAME SPORTS\",\"marker\":{\"color\":\"#ab63fa\",\"pattern\":{\"shape\":\"\"}},\"name\":\"GAME SPORTS\",\"offsetgroup\":\"GAME SPORTS\",\"orientation\":\"v\",\"showlegend\":true,\"textposition\":\"auto\",\"type\":\"bar\",\"x\":[\"8 Ball Pool\"],\"xaxis\":\"x\",\"y\":[500000000.0],\"yaxis\":\"y\"},{\"alignmentgroup\":\"True\",\"customdata\":[[89,38933],[85,40057],[82,41823],[63,56454],[56,72958],[43,84945],[96,26434]],\"hovertemplate\":\"category=GAME TRIVIA<br>title=%{x}<br>installs_in_million=%{y}<br>rank=%{customdata[0]}<br>5 star ratings=%{customdata[1]}<extra></extra>\",\"legendgroup\":\"GAME TRIVIA\",\"marker\":{\"color\":\"#FFA15A\",\"pattern\":{\"shape\":\"\"}},\"name\":\"GAME TRIVIA\",\"offsetgroup\":\"GAME TRIVIA\",\"orientation\":\"v\",\"showlegend\":true,\"textposition\":\"auto\",\"type\":\"bar\",\"x\":[\"Cuanto Sabes de la Biblia\",\"90's Quiz Game\",\"\\u05dc\\u05d5\\u05d2\\u05d5\\u05d8\\u05e1\\u05d8 \\u05d8\\u05e8\\u05d9\\u05d5\\u05d5\\u05d9\\u05d4: \\u05de\\u05e9\\u05d7\\u05e7 \\u05d4\\u05e1\\u05de\\u05dc\\u05d9\\u05dd \\u05d5\\u05d4\\u05de\\u05d5\\u05ea\\u05d2\\u05d9\\u05dd \\u05d4\\u05d2\\u05d3\\u05d5\\u05dc \\u05d1\\u05d9\\u05e9\\u05e8\\u05d0\\u05dc\",\"Trivia Crack (No Ads)\",\"Pluck It: hairs and emotions\",\"Free RBX Master\",\"Crazy Quiz\"],\"xaxis\":\"x\",\"y\":[500000000.0,500000000.0,500000000.0,500000000.0,500000000.0,500000000.0,500000000.0],\"yaxis\":\"y\"},{\"alignmentgroup\":\"True\",\"customdata\":[[1,5291589]],\"hovertemplate\":\"category=GAME BOARD<br>title=%{x}<br>installs_in_million=%{y}<br>rank=%{customdata[0]}<br>5 star ratings=%{customdata[1]}<extra></extra>\",\"legendgroup\":\"GAME BOARD\",\"marker\":{\"color\":\"#19d3f3\",\"pattern\":{\"shape\":\"\"}},\"name\":\"GAME BOARD\",\"offsetgroup\":\"GAME BOARD\",\"orientation\":\"v\",\"showlegend\":true,\"textposition\":\"auto\",\"type\":\"bar\",\"x\":[\"Ludo King\\u2122\"],\"xaxis\":\"x\",\"y\":[500000000.0],\"yaxis\":\"y\"},{\"alignmentgroup\":\"True\",\"customdata\":[[1,43346128]],\"hovertemplate\":\"category=GAME STRATEGY<br>title=%{x}<br>installs_in_million=%{y}<br>rank=%{customdata[0]}<br>5 star ratings=%{customdata[1]}<extra></extra>\",\"legendgroup\":\"GAME STRATEGY\",\"marker\":{\"color\":\"#FF6692\",\"pattern\":{\"shape\":\"\"}},\"name\":\"GAME STRATEGY\",\"offsetgroup\":\"GAME STRATEGY\",\"orientation\":\"v\",\"showlegend\":true,\"textposition\":\"auto\",\"type\":\"bar\",\"x\":[\"Clash of Clans\"],\"xaxis\":\"x\",\"y\":[500000000.0],\"yaxis\":\"y\"},{\"alignmentgroup\":\"True\",\"customdata\":[[60,108356],[67,92609]],\"hovertemplate\":\"category=GAME CARD<br>title=%{x}<br>installs_in_million=%{y}<br>rank=%{customdata[0]}<br>5 star ratings=%{customdata[1]}<extra></extra>\",\"legendgroup\":\"GAME CARD\",\"marker\":{\"color\":\"#B6E880\",\"pattern\":{\"shape\":\"\"}},\"name\":\"GAME CARD\",\"offsetgroup\":\"GAME CARD\",\"orientation\":\"v\",\"showlegend\":true,\"textposition\":\"auto\",\"type\":\"bar\",\"x\":[\"Reigns\",\"\\u4e09\\u570b\\u6bba\\u540d\\u5c07\\u50b3\"],\"xaxis\":\"x\",\"y\":[500000000.0,500000000.0],\"yaxis\":\"y\"},{\"alignmentgroup\":\"True\",\"customdata\":[[87,78458]],\"hovertemplate\":\"category=GAME CASINO<br>title=%{x}<br>installs_in_million=%{y}<br>rank=%{customdata[0]}<br>5 star ratings=%{customdata[1]}<extra></extra>\",\"legendgroup\":\"GAME CASINO\",\"marker\":{\"color\":\"#FF97FF\",\"pattern\":{\"shape\":\"\"}},\"name\":\"GAME CASINO\",\"offsetgroup\":\"GAME CASINO\",\"orientation\":\"v\",\"showlegend\":true,\"textposition\":\"auto\",\"type\":\"bar\",\"x\":[\"Slots on Tour Casino - Vegas Slot Machine Games HD\"],\"xaxis\":\"x\",\"y\":[500000000.0],\"yaxis\":\"y\"}],                        {\"barmode\":\"relative\",\"legend\":{\"title\":{\"text\":\"category\"},\"tracegroupgap\":0},\"margin\":{\"t\":60},\"template\":{\"data\":{\"bar\":[{\"error_x\":{\"color\":\"#2a3f5f\"},\"error_y\":{\"color\":\"#2a3f5f\"},\"marker\":{\"line\":{\"color\":\"#E5ECF6\",\"width\":0.5},\"pattern\":{\"fillmode\":\"overlay\",\"size\":10,\"solidity\":0.2}},\"type\":\"bar\"}],\"barpolar\":[{\"marker\":{\"line\":{\"color\":\"#E5ECF6\",\"width\":0.5},\"pattern\":{\"fillmode\":\"overlay\",\"size\":10,\"solidity\":0.2}},\"type\":\"barpolar\"}],\"carpet\":[{\"aaxis\":{\"endlinecolor\":\"#2a3f5f\",\"gridcolor\":\"white\",\"linecolor\":\"white\",\"minorgridcolor\":\"white\",\"startlinecolor\":\"#2a3f5f\"},\"baxis\":{\"endlinecolor\":\"#2a3f5f\",\"gridcolor\":\"white\",\"linecolor\":\"white\",\"minorgridcolor\":\"white\",\"startlinecolor\":\"#2a3f5f\"},\"type\":\"carpet\"}],\"choropleth\":[{\"colorbar\":{\"outlinewidth\":0,\"ticks\":\"\"},\"type\":\"choropleth\"}],\"contour\":[{\"colorbar\":{\"outlinewidth\":0,\"ticks\":\"\"},\"colorscale\":[[0.0,\"#0d0887\"],[0.1111111111111111,\"#46039f\"],[0.2222222222222222,\"#7201a8\"],[0.3333333333333333,\"#9c179e\"],[0.4444444444444444,\"#bd3786\"],[0.5555555555555556,\"#d8576b\"],[0.6666666666666666,\"#ed7953\"],[0.7777777777777778,\"#fb9f3a\"],[0.8888888888888888,\"#fdca26\"],[1.0,\"#f0f921\"]],\"type\":\"contour\"}],\"contourcarpet\":[{\"colorbar\":{\"outlinewidth\":0,\"ticks\":\"\"},\"type\":\"contourcarpet\"}],\"heatmap\":[{\"colorbar\":{\"outlinewidth\":0,\"ticks\":\"\"},\"colorscale\":[[0.0,\"#0d0887\"],[0.1111111111111111,\"#46039f\"],[0.2222222222222222,\"#7201a8\"],[0.3333333333333333,\"#9c179e\"],[0.4444444444444444,\"#bd3786\"],[0.5555555555555556,\"#d8576b\"],[0.6666666666666666,\"#ed7953\"],[0.7777777777777778,\"#fb9f3a\"],[0.8888888888888888,\"#fdca26\"],[1.0,\"#f0f921\"]],\"type\":\"heatmap\"}],\"heatmapgl\":[{\"colorbar\":{\"outlinewidth\":0,\"ticks\":\"\"},\"colorscale\":[[0.0,\"#0d0887\"],[0.1111111111111111,\"#46039f\"],[0.2222222222222222,\"#7201a8\"],[0.3333333333333333,\"#9c179e\"],[0.4444444444444444,\"#bd3786\"],[0.5555555555555556,\"#d8576b\"],[0.6666666666666666,\"#ed7953\"],[0.7777777777777778,\"#fb9f3a\"],[0.8888888888888888,\"#fdca26\"],[1.0,\"#f0f921\"]],\"type\":\"heatmapgl\"}],\"histogram\":[{\"marker\":{\"pattern\":{\"fillmode\":\"overlay\",\"size\":10,\"solidity\":0.2}},\"type\":\"histogram\"}],\"histogram2d\":[{\"colorbar\":{\"outlinewidth\":0,\"ticks\":\"\"},\"colorscale\":[[0.0,\"#0d0887\"],[0.1111111111111111,\"#46039f\"],[0.2222222222222222,\"#7201a8\"],[0.3333333333333333,\"#9c179e\"],[0.4444444444444444,\"#bd3786\"],[0.5555555555555556,\"#d8576b\"],[0.6666666666666666,\"#ed7953\"],[0.7777777777777778,\"#fb9f3a\"],[0.8888888888888888,\"#fdca26\"],[1.0,\"#f0f921\"]],\"type\":\"histogram2d\"}],\"histogram2dcontour\":[{\"colorbar\":{\"outlinewidth\":0,\"ticks\":\"\"},\"colorscale\":[[0.0,\"#0d0887\"],[0.1111111111111111,\"#46039f\"],[0.2222222222222222,\"#7201a8\"],[0.3333333333333333,\"#9c179e\"],[0.4444444444444444,\"#bd3786\"],[0.5555555555555556,\"#d8576b\"],[0.6666666666666666,\"#ed7953\"],[0.7777777777777778,\"#fb9f3a\"],[0.8888888888888888,\"#fdca26\"],[1.0,\"#f0f921\"]],\"type\":\"histogram2dcontour\"}],\"mesh3d\":[{\"colorbar\":{\"outlinewidth\":0,\"ticks\":\"\"},\"type\":\"mesh3d\"}],\"parcoords\":[{\"line\":{\"colorbar\":{\"outlinewidth\":0,\"ticks\":\"\"}},\"type\":\"parcoords\"}],\"pie\":[{\"automargin\":true,\"type\":\"pie\"}],\"scatter\":[{\"marker\":{\"colorbar\":{\"outlinewidth\":0,\"ticks\":\"\"}},\"type\":\"scatter\"}],\"scatter3d\":[{\"line\":{\"colorbar\":{\"outlinewidth\":0,\"ticks\":\"\"}},\"marker\":{\"colorbar\":{\"outlinewidth\":0,\"ticks\":\"\"}},\"type\":\"scatter3d\"}],\"scattercarpet\":[{\"marker\":{\"colorbar\":{\"outlinewidth\":0,\"ticks\":\"\"}},\"type\":\"scattercarpet\"}],\"scattergeo\":[{\"marker\":{\"colorbar\":{\"outlinewidth\":0,\"ticks\":\"\"}},\"type\":\"scattergeo\"}],\"scattergl\":[{\"marker\":{\"colorbar\":{\"outlinewidth\":0,\"ticks\":\"\"}},\"type\":\"scattergl\"}],\"scattermapbox\":[{\"marker\":{\"colorbar\":{\"outlinewidth\":0,\"ticks\":\"\"}},\"type\":\"scattermapbox\"}],\"scatterpolar\":[{\"marker\":{\"colorbar\":{\"outlinewidth\":0,\"ticks\":\"\"}},\"type\":\"scatterpolar\"}],\"scatterpolargl\":[{\"marker\":{\"colorbar\":{\"outlinewidth\":0,\"ticks\":\"\"}},\"type\":\"scatterpolargl\"}],\"scatterternary\":[{\"marker\":{\"colorbar\":{\"outlinewidth\":0,\"ticks\":\"\"}},\"type\":\"scatterternary\"}],\"surface\":[{\"colorbar\":{\"outlinewidth\":0,\"ticks\":\"\"},\"colorscale\":[[0.0,\"#0d0887\"],[0.1111111111111111,\"#46039f\"],[0.2222222222222222,\"#7201a8\"],[0.3333333333333333,\"#9c179e\"],[0.4444444444444444,\"#bd3786\"],[0.5555555555555556,\"#d8576b\"],[0.6666666666666666,\"#ed7953\"],[0.7777777777777778,\"#fb9f3a\"],[0.8888888888888888,\"#fdca26\"],[1.0,\"#f0f921\"]],\"type\":\"surface\"}],\"table\":[{\"cells\":{\"fill\":{\"color\":\"#EBF0F8\"},\"line\":{\"color\":\"white\"}},\"header\":{\"fill\":{\"color\":\"#C8D4E3\"},\"line\":{\"color\":\"white\"}},\"type\":\"table\"}]},\"layout\":{\"annotationdefaults\":{\"arrowcolor\":\"#2a3f5f\",\"arrowhead\":0,\"arrowwidth\":1},\"autotypenumbers\":\"strict\",\"coloraxis\":{\"colorbar\":{\"outlinewidth\":0,\"ticks\":\"\"}},\"colorscale\":{\"diverging\":[[0,\"#8e0152\"],[0.1,\"#c51b7d\"],[0.2,\"#de77ae\"],[0.3,\"#f1b6da\"],[0.4,\"#fde0ef\"],[0.5,\"#f7f7f7\"],[0.6,\"#e6f5d0\"],[0.7,\"#b8e186\"],[0.8,\"#7fbc41\"],[0.9,\"#4d9221\"],[1,\"#276419\"]],\"sequential\":[[0.0,\"#0d0887\"],[0.1111111111111111,\"#46039f\"],[0.2222222222222222,\"#7201a8\"],[0.3333333333333333,\"#9c179e\"],[0.4444444444444444,\"#bd3786\"],[0.5555555555555556,\"#d8576b\"],[0.6666666666666666,\"#ed7953\"],[0.7777777777777778,\"#fb9f3a\"],[0.8888888888888888,\"#fdca26\"],[1.0,\"#f0f921\"]],\"sequentialminus\":[[0.0,\"#0d0887\"],[0.1111111111111111,\"#46039f\"],[0.2222222222222222,\"#7201a8\"],[0.3333333333333333,\"#9c179e\"],[0.4444444444444444,\"#bd3786\"],[0.5555555555555556,\"#d8576b\"],[0.6666666666666666,\"#ed7953\"],[0.7777777777777778,\"#fb9f3a\"],[0.8888888888888888,\"#fdca26\"],[1.0,\"#f0f921\"]]},\"colorway\":[\"#636efa\",\"#EF553B\",\"#00cc96\",\"#ab63fa\",\"#FFA15A\",\"#19d3f3\",\"#FF6692\",\"#B6E880\",\"#FF97FF\",\"#FECB52\"],\"font\":{\"color\":\"#2a3f5f\"},\"geo\":{\"bgcolor\":\"white\",\"lakecolor\":\"white\",\"landcolor\":\"#E5ECF6\",\"showlakes\":true,\"showland\":true,\"subunitcolor\":\"white\"},\"hoverlabel\":{\"align\":\"left\"},\"hovermode\":\"closest\",\"mapbox\":{\"style\":\"light\"},\"paper_bgcolor\":\"white\",\"plot_bgcolor\":\"#E5ECF6\",\"polar\":{\"angularaxis\":{\"gridcolor\":\"white\",\"linecolor\":\"white\",\"ticks\":\"\"},\"bgcolor\":\"#E5ECF6\",\"radialaxis\":{\"gridcolor\":\"white\",\"linecolor\":\"white\",\"ticks\":\"\"}},\"scene\":{\"xaxis\":{\"backgroundcolor\":\"#E5ECF6\",\"gridcolor\":\"white\",\"gridwidth\":2,\"linecolor\":\"white\",\"showbackground\":true,\"ticks\":\"\",\"zerolinecolor\":\"white\"},\"yaxis\":{\"backgroundcolor\":\"#E5ECF6\",\"gridcolor\":\"white\",\"gridwidth\":2,\"linecolor\":\"white\",\"showbackground\":true,\"ticks\":\"\",\"zerolinecolor\":\"white\"},\"zaxis\":{\"backgroundcolor\":\"#E5ECF6\",\"gridcolor\":\"white\",\"gridwidth\":2,\"linecolor\":\"white\",\"showbackground\":true,\"ticks\":\"\",\"zerolinecolor\":\"white\"}},\"shapedefaults\":{\"line\":{\"color\":\"#2a3f5f\"}},\"ternary\":{\"aaxis\":{\"gridcolor\":\"white\",\"linecolor\":\"white\",\"ticks\":\"\"},\"baxis\":{\"gridcolor\":\"white\",\"linecolor\":\"white\",\"ticks\":\"\"},\"bgcolor\":\"#E5ECF6\",\"caxis\":{\"gridcolor\":\"white\",\"linecolor\":\"white\",\"ticks\":\"\"}},\"title\":{\"x\":0.05},\"xaxis\":{\"automargin\":true,\"gridcolor\":\"white\",\"linecolor\":\"white\",\"ticks\":\"\",\"title\":{\"standoff\":15},\"zerolinecolor\":\"white\",\"zerolinewidth\":2},\"yaxis\":{\"automargin\":true,\"gridcolor\":\"white\",\"linecolor\":\"white\",\"ticks\":\"\",\"title\":{\"standoff\":15},\"zerolinecolor\":\"white\",\"zerolinewidth\":2}}},\"xaxis\":{\"anchor\":\"y\",\"categoryorder\":\"total descending\",\"domain\":[0.0,1.0],\"title\":{\"text\":\"title\"}},\"yaxis\":{\"anchor\":\"x\",\"domain\":[0.0,1.0],\"title\":{\"text\":\"installs_in_million\"}}},                        {\"responsive\": true}                    ).then(function(){\n                            \nvar gd = document.getElementById('bfcc8fe9-61ea-4c18-922e-db035e4ccacb');\nvar x = new MutationObserver(function (mutations, observer) {{\n        var display = window.getComputedStyle(gd).display;\n        if (!display || display === 'none') {{\n            console.log([gd, 'removed!']);\n            Plotly.purge(gd);\n            observer.disconnect();\n        }}\n}});\n\n// Listen for the removal of the full notebook cells\nvar notebookContainer = gd.closest('#notebook-container');\nif (notebookContainer) {{\n    x.observe(notebookContainer, {childList: true});\n}}\n\n// Listen for the clearing of the current output cell\nvar outputEl = gd.closest('.output');\nif (outputEl) {{\n    x.observe(outputEl, {childList: true});\n}}\n\n                        })                };                            </script>        </div>\n</body>\n</html>"
     },
     "metadata": {},
     "output_type": "display_data"
    }
   ]
  },
  {
   "cell_type": "markdown",
   "source": "- Las categrias y los juegos que tienen mas de 1B de instalaciones son de arcade y casual.\n- Algo muy importante existen juegos que no llegan al 1 billon de instalaciones, pero estan dentro de los 500 millones de instalaciones y tienen una puntuacion demasiada alta que puede llegar a tener mas de 60 millones de calificacion total.\n- Por ejemplo: Free Fire",
   "metadata": {
    "tags": [],
    "cell_id": "00057-2c4f3861-db3e-4882-b94a-3343b8a5e135",
    "deepnote_cell_type": "markdown"
   }
  },
  {
   "cell_type": "markdown",
   "source": "<a style='text-decoration:none;line-height:16px;display:flex;color:#5B5B62;padding:10px;justify-content:end;' href='https://deepnote.com?utm_source=created-in-deepnote-cell&projectId=322df7a5-4b18-4ddb-8f91-c142e3bf7671' target=\"_blank\">\n<img alt='Created in deepnote.com' style='display:inline;max-height:16px;margin:0px;margin-right:7.5px;' src='data:image/svg+xml;base64,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' > </img>\nCreated in <span style='font-weight:600;margin-left:4px;'>Deepnote</span></a>",
   "metadata": {
    "tags": [],
    "created_in_deepnote_cell": true,
    "deepnote_cell_type": "markdown"
   }
  }
 ],
 "nbformat": 4,
 "nbformat_minor": 2,
 "metadata": {
  "orig_nbformat": 2,
  "deepnote": {
   "is_reactive": false
  },
  "deepnote_notebook_id": "dabace56-7ce9-4999-8c50-8bcd8f4abcdc",
  "deepnote_execution_queue": []
 }
}
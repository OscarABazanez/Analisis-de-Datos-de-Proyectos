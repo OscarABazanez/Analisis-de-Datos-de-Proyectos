{
 "cells": [
  {
   "cell_type": "markdown",
   "source": "# Los 50 libros más vendidos de Amazon 2009 - 2019\n\n[Data Set Amazon Top 50 Bestselling Books 2009 - 2019](https://www.kaggle.com/sootersaalu/amazon-top-50-bestselling-books-2009-2019)",
   "metadata": {
    "tags": [],
    "cell_id": "00000-2e78df32-3733-49ef-98f3-bfc79a1fc270",
    "deepnote_cell_type": "markdown"
   }
  },
  {
   "cell_type": "code",
   "metadata": {
    "tags": [],
    "cell_id": "00000-92c2df2b-2bbd-49c4-938f-b8bef0f0733e",
    "deepnote_to_be_reexecuted": false,
    "source_hash": "d60cbba1",
    "execution_start": 1627079300406,
    "execution_millis": 1735,
    "deepnote_cell_type": "code"
   },
   "source": "import pandas as pd\nimport numpy as np\n\n\nimport plotly \nimport plotly.express as px\nimport plotly.graph_objs as go\nimport plotly.offline as py\nfrom plotly.offline import iplot\nfrom plotly.subplots import make_subplots\nimport plotly.figure_factory as ff",
   "execution_count": null,
   "outputs": []
  },
  {
   "cell_type": "code",
   "metadata": {
    "tags": [],
    "cell_id": "00002-acd44821-2d0e-4f98-b768-103e47a81216",
    "deepnote_to_be_reexecuted": false,
    "source_hash": "1c8b68d6",
    "execution_start": 1627079302165,
    "execution_millis": 168,
    "deepnote_cell_type": "code"
   },
   "source": "df = pd.read_csv('db/bestsellers-with-categories.csv')\ndf",
   "execution_count": null,
   "outputs": [
    {
     "output_type": "execute_result",
     "execution_count": 2,
     "data": {
      "application/vnd.deepnote.dataframe.v2+json": {
       "row_count": 550,
       "column_count": 7,
       "columns": [
        {
         "name": "Name",
         "dtype": "object",
         "stats": {
          "unique_count": 351,
          "nan_count": 0,
          "categories": [
           {
            "name": "Publication Manual of the American Psychological Association, 6th Edition",
            "count": 10
           },
           {
            "name": "StrengthsFinder 2.0",
            "count": 9
           },
           {
            "name": "349 others",
            "count": 531
           }
          ]
         }
        },
        {
         "name": "Author",
         "dtype": "object",
         "stats": {
          "unique_count": 248,
          "nan_count": 0,
          "categories": [
           {
            "name": "Jeff Kinney",
            "count": 12
           },
           {
            "name": "Suzanne Collins",
            "count": 11
           },
           {
            "name": "246 others",
            "count": 527
           }
          ]
         }
        },
        {
         "name": "User Rating",
         "dtype": "float64",
         "stats": {
          "unique_count": 14,
          "nan_count": 0,
          "min": "3.3",
          "max": "4.9",
          "histogram": [
           {
            "bin_start": 3.3,
            "bin_end": 3.46,
            "count": 1
           },
           {
            "bin_start": 3.46,
            "bin_end": 3.62,
            "count": 1
           },
           {
            "bin_start": 3.62,
            "bin_end": 3.7800000000000002,
            "count": 0
           },
           {
            "bin_start": 3.7800000000000002,
            "bin_end": 3.94,
            "count": 5
           },
           {
            "bin_start": 3.94,
            "bin_end": 4.1,
            "count": 14
           },
           {
            "bin_start": 4.1,
            "bin_end": 4.26,
            "count": 14
           },
           {
            "bin_start": 4.26,
            "bin_end": 4.42,
            "count": 63
           },
           {
            "bin_start": 4.42,
            "bin_end": 4.58,
            "count": 60
           },
           {
            "bin_start": 4.58,
            "bin_end": 4.74,
            "count": 213
           },
           {
            "bin_start": 4.74,
            "bin_end": 4.9,
            "count": 179
           }
          ]
         }
        },
        {
         "name": "Reviews",
         "dtype": "int64",
         "stats": {
          "unique_count": 346,
          "nan_count": 0,
          "min": "37",
          "max": "87841",
          "histogram": [
           {
            "bin_start": 37,
            "bin_end": 8817.4,
            "count": 287
           },
           {
            "bin_start": 8817.4,
            "bin_end": 17597.8,
            "count": 131
           },
           {
            "bin_start": 17597.8,
            "bin_end": 26378.199999999997,
            "count": 87
           },
           {
            "bin_start": 26378.199999999997,
            "bin_end": 35158.6,
            "count": 25
           },
           {
            "bin_start": 35158.6,
            "bin_end": 43939,
            "count": 4
           },
           {
            "bin_start": 43939,
            "bin_end": 52719.399999999994,
            "count": 8
           },
           {
            "bin_start": 52719.399999999994,
            "bin_end": 61499.799999999996,
            "count": 5
           },
           {
            "bin_start": 61499.799999999996,
            "bin_end": 70280.2,
            "count": 0
           },
           {
            "bin_start": 70280.2,
            "bin_end": 79060.59999999999,
            "count": 0
           },
           {
            "bin_start": 79060.59999999999,
            "bin_end": 87841,
            "count": 3
           }
          ]
         }
        },
        {
         "name": "Price",
         "dtype": "int64",
         "stats": {
          "unique_count": 40,
          "nan_count": 0,
          "min": "0",
          "max": "105",
          "histogram": [
           {
            "bin_start": 0,
            "bin_end": 10.5,
            "count": 266
           },
           {
            "bin_start": 10.5,
            "bin_end": 21,
            "count": 216
           },
           {
            "bin_start": 21,
            "bin_end": 31.5,
            "count": 42
           },
           {
            "bin_start": 31.5,
            "bin_end": 42,
            "count": 9
           },
           {
            "bin_start": 42,
            "bin_end": 52.5,
            "count": 12
           },
           {
            "bin_start": 52.5,
            "bin_end": 63,
            "count": 2
           },
           {
            "bin_start": 63,
            "bin_end": 73.5,
            "count": 0
           },
           {
            "bin_start": 73.5,
            "bin_end": 84,
            "count": 1
           },
           {
            "bin_start": 84,
            "bin_end": 94.5,
            "count": 0
           },
           {
            "bin_start": 94.5,
            "bin_end": 105,
            "count": 2
           }
          ]
         }
        },
        {
         "name": "Year",
         "dtype": "int64",
         "stats": {
          "unique_count": 11,
          "nan_count": 0,
          "min": "2009",
          "max": "2019",
          "histogram": [
           {
            "bin_start": 2009,
            "bin_end": 2010,
            "count": 50
           },
           {
            "bin_start": 2010,
            "bin_end": 2011,
            "count": 50
           },
           {
            "bin_start": 2011,
            "bin_end": 2012,
            "count": 50
           },
           {
            "bin_start": 2012,
            "bin_end": 2013,
            "count": 50
           },
           {
            "bin_start": 2013,
            "bin_end": 2014,
            "count": 50
           },
           {
            "bin_start": 2014,
            "bin_end": 2015,
            "count": 50
           },
           {
            "bin_start": 2015,
            "bin_end": 2016,
            "count": 50
           },
           {
            "bin_start": 2016,
            "bin_end": 2017,
            "count": 50
           },
           {
            "bin_start": 2017,
            "bin_end": 2018,
            "count": 50
           },
           {
            "bin_start": 2018,
            "bin_end": 2019,
            "count": 100
           }
          ]
         }
        },
        {
         "name": "Genre",
         "dtype": "object",
         "stats": {
          "unique_count": 2,
          "nan_count": 0,
          "categories": [
           {
            "name": "Non Fiction",
            "count": 310
           },
           {
            "name": "Fiction",
            "count": 240
           }
          ]
         }
        },
        {
         "name": "_deepnote_index_column",
         "dtype": "int64"
        }
       ],
       "rows_top": [
        {
         "Name": "10-Day Green Smoothie Cleanse",
         "Author": "JJ Smith",
         "User Rating": 4.7,
         "Reviews": 17350,
         "Price": 8,
         "Year": 2016,
         "Genre": "Non Fiction",
         "_deepnote_index_column": 0
        },
        {
         "Name": "11/22/63: A Novel",
         "Author": "Stephen King",
         "User Rating": 4.6,
         "Reviews": 2052,
         "Price": 22,
         "Year": 2011,
         "Genre": "Fiction",
         "_deepnote_index_column": 1
        },
        {
         "Name": "12 Rules for Life: An Antidote to Chaos",
         "Author": "Jordan B. Peterson",
         "User Rating": 4.7,
         "Reviews": 18979,
         "Price": 15,
         "Year": 2018,
         "Genre": "Non Fiction",
         "_deepnote_index_column": 2
        },
        {
         "Name": "1984 (Signet Classics)",
         "Author": "George Orwell",
         "User Rating": 4.7,
         "Reviews": 21424,
         "Price": 6,
         "Year": 2017,
         "Genre": "Fiction",
         "_deepnote_index_column": 3
        },
        {
         "Name": "5,000 Awesome Facts (About Everything!) (National Geographic Kids)",
         "Author": "National Geographic Kids",
         "User Rating": 4.8,
         "Reviews": 7665,
         "Price": 12,
         "Year": 2019,
         "Genre": "Non Fiction",
         "_deepnote_index_column": 4
        },
        {
         "Name": "A Dance with Dragons (A Song of Ice and Fire)",
         "Author": "George R. R. Martin",
         "User Rating": 4.4,
         "Reviews": 12643,
         "Price": 11,
         "Year": 2011,
         "Genre": "Fiction",
         "_deepnote_index_column": 5
        },
        {
         "Name": "A Game of Thrones / A Clash of Kings / A Storm of Swords / A Feast of Crows / A Dance with Dragons",
         "Author": "George R. R. Martin",
         "User Rating": 4.7,
         "Reviews": 19735,
         "Price": 30,
         "Year": 2014,
         "Genre": "Fiction",
         "_deepnote_index_column": 6
        },
        {
         "Name": "A Gentleman in Moscow: A Novel",
         "Author": "Amor Towles",
         "User Rating": 4.7,
         "Reviews": 19699,
         "Price": 15,
         "Year": 2017,
         "Genre": "Fiction",
         "_deepnote_index_column": 7
        },
        {
         "Name": "A Higher Loyalty: Truth, Lies, and Leadership",
         "Author": "James Comey",
         "User Rating": 4.7,
         "Reviews": 5983,
         "Price": 3,
         "Year": 2018,
         "Genre": "Non Fiction",
         "_deepnote_index_column": 8
        },
        {
         "Name": "A Man Called Ove: A Novel",
         "Author": "Fredrik Backman",
         "User Rating": 4.6,
         "Reviews": 23848,
         "Price": 8,
         "Year": 2016,
         "Genre": "Fiction",
         "_deepnote_index_column": 9
        },
        {
         "Name": "A Man Called Ove: A Novel",
         "Author": "Fredrik Backman",
         "User Rating": 4.6,
         "Reviews": 23848,
         "Price": 8,
         "Year": 2017,
         "Genre": "Fiction",
         "_deepnote_index_column": 10
        },
        {
         "Name": "A Patriot's History of the United States: From Columbus's Great Discovery to the War on Terror",
         "Author": "Larry Schweikart",
         "User Rating": 4.6,
         "Reviews": 460,
         "Price": 2,
         "Year": 2010,
         "Genre": "Non Fiction",
         "_deepnote_index_column": 11
        },
        {
         "Name": "A Stolen Life: A Memoir",
         "Author": "Jaycee Dugard",
         "User Rating": 4.6,
         "Reviews": 4149,
         "Price": 32,
         "Year": 2011,
         "Genre": "Non Fiction",
         "_deepnote_index_column": 12
        },
        {
         "Name": "A Wrinkle in Time (Time Quintet)",
         "Author": "Madeleine L'Engle",
         "User Rating": 4.5,
         "Reviews": 5153,
         "Price": 5,
         "Year": 2018,
         "Genre": "Fiction",
         "_deepnote_index_column": 13
        },
        {
         "Name": "Act Like a Lady, Think Like a Man: What Men Really Think About Love, Relationships, Intimacy, and C…",
         "Author": "Steve Harvey",
         "User Rating": 4.6,
         "Reviews": 5013,
         "Price": 17,
         "Year": 2009,
         "Genre": "Non Fiction",
         "_deepnote_index_column": 14
        },
        {
         "Name": "Adult Coloring Book Designs: Stress Relief Coloring Book: Garden Designs, Mandalas, Animals, and Pa…",
         "Author": "Adult Coloring Book Designs",
         "User Rating": 4.5,
         "Reviews": 2313,
         "Price": 4,
         "Year": 2016,
         "Genre": "Non Fiction",
         "_deepnote_index_column": 15
        },
        {
         "Name": "Adult Coloring Book: Stress Relieving Animal Designs",
         "Author": "Blue Star Coloring",
         "User Rating": 4.6,
         "Reviews": 2925,
         "Price": 6,
         "Year": 2015,
         "Genre": "Non Fiction",
         "_deepnote_index_column": 16
        },
        {
         "Name": "Adult Coloring Book: Stress Relieving Patterns",
         "Author": "Blue Star Coloring",
         "User Rating": 4.4,
         "Reviews": 2951,
         "Price": 6,
         "Year": 2015,
         "Genre": "Non Fiction",
         "_deepnote_index_column": 17
        },
        {
         "Name": "Adult Coloring Books: A Coloring Book for Adults Featuring Mandalas and Henna Inspired Flowers, Ani…",
         "Author": "Coloring Books for Adults",
         "User Rating": 4.5,
         "Reviews": 2426,
         "Price": 8,
         "Year": 2015,
         "Genre": "Non Fiction",
         "_deepnote_index_column": 18
        },
        {
         "Name": "Alexander Hamilton",
         "Author": "Ron Chernow",
         "User Rating": 4.8,
         "Reviews": 9198,
         "Price": 13,
         "Year": 2016,
         "Genre": "Non Fiction",
         "_deepnote_index_column": 19
        },
        {
         "Name": "All the Light We Cannot See",
         "Author": "Anthony Doerr",
         "User Rating": 4.6,
         "Reviews": 36348,
         "Price": 14,
         "Year": 2014,
         "Genre": "Fiction",
         "_deepnote_index_column": 20
        },
        {
         "Name": "All the Light We Cannot See",
         "Author": "Anthony Doerr",
         "User Rating": 4.6,
         "Reviews": 36348,
         "Price": 14,
         "Year": 2015,
         "Genre": "Fiction",
         "_deepnote_index_column": 21
        },
        {
         "Name": "Allegiant",
         "Author": "Veronica Roth",
         "User Rating": 3.9,
         "Reviews": 6310,
         "Price": 13,
         "Year": 2013,
         "Genre": "Fiction",
         "_deepnote_index_column": 22
        },
        {
         "Name": "American Sniper: The Autobiography of the Most Lethal Sniper in U.S. Military History",
         "Author": "Chris Kyle",
         "User Rating": 4.6,
         "Reviews": 15921,
         "Price": 9,
         "Year": 2015,
         "Genre": "Non Fiction",
         "_deepnote_index_column": 23
        },
        {
         "Name": "And the Mountains Echoed",
         "Author": "Khaled Hosseini",
         "User Rating": 4.3,
         "Reviews": 12159,
         "Price": 13,
         "Year": 2013,
         "Genre": "Fiction",
         "_deepnote_index_column": 24
        },
        {
         "Name": "Arguing with Idiots: How to Stop Small Minds and Big Government",
         "Author": "Glenn Beck",
         "User Rating": 4.6,
         "Reviews": 798,
         "Price": 5,
         "Year": 2009,
         "Genre": "Non Fiction",
         "_deepnote_index_column": 25
        },
        {
         "Name": "Astrophysics for People in a Hurry",
         "Author": "Neil deGrasse Tyson",
         "User Rating": 4.7,
         "Reviews": 9374,
         "Price": 9,
         "Year": 2017,
         "Genre": "Non Fiction",
         "_deepnote_index_column": 26
        },
        {
         "Name": "Autobiography of Mark Twain, Vol. 1",
         "Author": "Mark Twain",
         "User Rating": 4.2,
         "Reviews": 491,
         "Price": 14,
         "Year": 2010,
         "Genre": "Non Fiction",
         "_deepnote_index_column": 27
        },
        {
         "Name": "Baby Touch and Feel: Animals",
         "Author": "DK",
         "User Rating": 4.6,
         "Reviews": 5360,
         "Price": 5,
         "Year": 2015,
         "Genre": "Non Fiction",
         "_deepnote_index_column": 28
        },
        {
         "Name": "Balance (Angie's Extreme Stress Menders)",
         "Author": "Angie Grace",
         "User Rating": 4.6,
         "Reviews": 1909,
         "Price": 11,
         "Year": 2015,
         "Genre": "Non Fiction",
         "_deepnote_index_column": 29
        },
        {
         "Name": "Barefoot Contessa Foolproof: Recipes You Can Trust: A Cookbook",
         "Author": "Ina Garten",
         "User Rating": 4.8,
         "Reviews": 1296,
         "Price": 24,
         "Year": 2012,
         "Genre": "Non Fiction",
         "_deepnote_index_column": 30
        },
        {
         "Name": "Barefoot Contessa, How Easy Is That?: Fabulous Recipes & Easy Tips",
         "Author": "Ina Garten",
         "User Rating": 4.7,
         "Reviews": 615,
         "Price": 21,
         "Year": 2010,
         "Genre": "Non Fiction",
         "_deepnote_index_column": 31
        },
        {
         "Name": "Becoming",
         "Author": "Michelle Obama",
         "User Rating": 4.8,
         "Reviews": 61133,
         "Price": 11,
         "Year": 2018,
         "Genre": "Non Fiction",
         "_deepnote_index_column": 32
        },
        {
         "Name": "Becoming",
         "Author": "Michelle Obama",
         "User Rating": 4.8,
         "Reviews": 61133,
         "Price": 11,
         "Year": 2019,
         "Genre": "Non Fiction",
         "_deepnote_index_column": 33
        },
        {
         "Name": "Being Mortal: Medicine and What Matters in the End",
         "Author": "Atul Gawande",
         "User Rating": 4.8,
         "Reviews": 11113,
         "Price": 15,
         "Year": 2015,
         "Genre": "Non Fiction",
         "_deepnote_index_column": 34
        },
        {
         "Name": "Between the World and Me",
         "Author": "Ta-Nehisi Coates",
         "User Rating": 4.7,
         "Reviews": 10070,
         "Price": 13,
         "Year": 2015,
         "Genre": "Non Fiction",
         "_deepnote_index_column": 35
        },
        {
         "Name": "Between the World and Me",
         "Author": "Ta-Nehisi Coates",
         "User Rating": 4.7,
         "Reviews": 10070,
         "Price": 13,
         "Year": 2016,
         "Genre": "Non Fiction",
         "_deepnote_index_column": 36
        },
        {
         "Name": "Born to Run",
         "Author": "Bruce Springsteen",
         "User Rating": 4.7,
         "Reviews": 3729,
         "Price": 18,
         "Year": 2016,
         "Genre": "Non Fiction",
         "_deepnote_index_column": 37
        },
        {
         "Name": "Breaking Dawn (The Twilight Saga, Book 4)",
         "Author": "Stephenie Meyer",
         "User Rating": 4.6,
         "Reviews": 9769,
         "Price": 13,
         "Year": 2009,
         "Genre": "Fiction",
         "_deepnote_index_column": 38
        },
        {
         "Name": "Broke: The Plan to Restore Our Trust, Truth and Treasure",
         "Author": "Glenn Beck",
         "User Rating": 4.5,
         "Reviews": 471,
         "Price": 8,
         "Year": 2010,
         "Genre": "Non Fiction",
         "_deepnote_index_column": 39
        },
        {
         "Name": "Brown Bear, Brown Bear, What Do You See?",
         "Author": "Bill Martin Jr.",
         "User Rating": 4.9,
         "Reviews": 14344,
         "Price": 5,
         "Year": 2017,
         "Genre": "Fiction",
         "_deepnote_index_column": 40
        },
        {
         "Name": "Brown Bear, Brown Bear, What Do You See?",
         "Author": "Bill Martin Jr.",
         "User Rating": 4.9,
         "Reviews": 14344,
         "Price": 5,
         "Year": 2019,
         "Genre": "Fiction",
         "_deepnote_index_column": 41
        },
        {
         "Name": "Cabin Fever (Diary of a Wimpy Kid, Book 6)",
         "Author": "Jeff Kinney",
         "User Rating": 4.8,
         "Reviews": 4505,
         "Price": 0,
         "Year": 2011,
         "Genre": "Fiction",
         "_deepnote_index_column": 42
        },
        {
         "Name": "Calm the F*ck Down: An Irreverent Adult Coloring Book (Irreverent Book Series)",
         "Author": "Sasha O'Hara",
         "User Rating": 4.6,
         "Reviews": 10369,
         "Price": 4,
         "Year": 2016,
         "Genre": "Non Fiction",
         "_deepnote_index_column": 43
        },
        {
         "Name": "Can't Hurt Me: Master Your Mind and Defy the Odds",
         "Author": "David Goggins",
         "User Rating": 4.8,
         "Reviews": 16244,
         "Price": 18,
         "Year": 2019,
         "Genre": "Non Fiction",
         "_deepnote_index_column": 44
        },
        {
         "Name": "Capital in the Twenty First Century",
         "Author": "Thomas Piketty",
         "User Rating": 4.5,
         "Reviews": 2884,
         "Price": 28,
         "Year": 2014,
         "Genre": "Non Fiction",
         "_deepnote_index_column": 45
        },
        {
         "Name": "Catching Fire (The Hunger Games)",
         "Author": "Suzanne Collins",
         "User Rating": 4.7,
         "Reviews": 22614,
         "Price": 11,
         "Year": 2010,
         "Genre": "Fiction",
         "_deepnote_index_column": 46
        },
        {
         "Name": "Catching Fire (The Hunger Games)",
         "Author": "Suzanne Collins",
         "User Rating": 4.7,
         "Reviews": 22614,
         "Price": 11,
         "Year": 2011,
         "Genre": "Fiction",
         "_deepnote_index_column": 47
        },
        {
         "Name": "Catching Fire (The Hunger Games)",
         "Author": "Suzanne Collins",
         "User Rating": 4.7,
         "Reviews": 22614,
         "Price": 11,
         "Year": 2012,
         "Genre": "Fiction",
         "_deepnote_index_column": 48
        },
        {
         "Name": "Cravings: Recipes for All the Food You Want to Eat: A Cookbook",
         "Author": "Chrissy Teigen",
         "User Rating": 4.7,
         "Reviews": 4761,
         "Price": 16,
         "Year": 2016,
         "Genre": "Non Fiction",
         "_deepnote_index_column": 49
        },
        {
         "Name": "Crazy Love: Overwhelmed by a Relentless God",
         "Author": "Francis Chan",
         "User Rating": 4.7,
         "Reviews": 1542,
         "Price": 14,
         "Year": 2009,
         "Genre": "Non Fiction",
         "_deepnote_index_column": 50
        },
        {
         "Name": "Crazy Love: Overwhelmed by a Relentless God",
         "Author": "Francis Chan",
         "User Rating": 4.7,
         "Reviews": 1542,
         "Price": 14,
         "Year": 2010,
         "Genre": "Non Fiction",
         "_deepnote_index_column": 51
        },
        {
         "Name": "Crazy Love: Overwhelmed by a Relentless God",
         "Author": "Francis Chan",
         "User Rating": 4.7,
         "Reviews": 1542,
         "Price": 14,
         "Year": 2011,
         "Genre": "Non Fiction",
         "_deepnote_index_column": 52
        },
        {
         "Name": "Crazy Rich Asians (Crazy Rich Asians Trilogy)",
         "Author": "Kevin Kwan",
         "User Rating": 4.3,
         "Reviews": 6143,
         "Price": 8,
         "Year": 2018,
         "Genre": "Fiction",
         "_deepnote_index_column": 53
        },
        {
         "Name": "Creative Haven Creative Cats Coloring Book (Adult Coloring)",
         "Author": "Marjorie Sarnat",
         "User Rating": 4.8,
         "Reviews": 4022,
         "Price": 4,
         "Year": 2015,
         "Genre": "Non Fiction",
         "_deepnote_index_column": 54
        },
        {
         "Name": "Creative Haven Owls Coloring Book (Adult Coloring)",
         "Author": "Marjorie Sarnat",
         "User Rating": 4.8,
         "Reviews": 3871,
         "Price": 5,
         "Year": 2015,
         "Genre": "Non Fiction",
         "_deepnote_index_column": 55
        },
        {
         "Name": "Cutting for Stone",
         "Author": "Abraham Verghese",
         "User Rating": 4.6,
         "Reviews": 4866,
         "Price": 11,
         "Year": 2010,
         "Genre": "Fiction",
         "_deepnote_index_column": 56
        },
        {
         "Name": "Cutting for Stone",
         "Author": "Abraham Verghese",
         "User Rating": 4.6,
         "Reviews": 4866,
         "Price": 11,
         "Year": 2011,
         "Genre": "Fiction",
         "_deepnote_index_column": 57
        },
        {
         "Name": "Daring Greatly: How the Courage to Be Vulnerable Transforms the Way We Live, Love, Parent, and Lead",
         "Author": "Brené Brown",
         "User Rating": 4.8,
         "Reviews": 1329,
         "Price": 10,
         "Year": 2013,
         "Genre": "Non Fiction",
         "_deepnote_index_column": 58
        },
        {
         "Name": "David and Goliath: Underdogs, Misfits, and the Art of Battling Giants",
         "Author": "Malcolm Gladwell",
         "User Rating": 4.4,
         "Reviews": 4642,
         "Price": 13,
         "Year": 2013,
         "Genre": "Non Fiction",
         "_deepnote_index_column": 59
        },
        {
         "Name": "Dead And Gone: A Sookie Stackhouse Novel (Sookie Stackhouse/True Blood)",
         "Author": "Charlaine Harris",
         "User Rating": 4.6,
         "Reviews": 1541,
         "Price": 4,
         "Year": 2009,
         "Genre": "Fiction",
         "_deepnote_index_column": 60
        },
        {
         "Name": "Dead in the Family (Sookie Stackhouse/True Blood, Book 10)",
         "Author": "Charlaine Harris",
         "User Rating": 4.3,
         "Reviews": 1924,
         "Price": 8,
         "Year": 2010,
         "Genre": "Fiction",
         "_deepnote_index_column": 61
        },
        {
         "Name": "Dead Reckoning (Sookie Stackhouse/True Blood, Book 11)",
         "Author": "Charlaine Harris",
         "User Rating": 4.2,
         "Reviews": 2094,
         "Price": 4,
         "Year": 2011,
         "Genre": "Fiction",
         "_deepnote_index_column": 62
        },
        {
         "Name": "Dear Zoo: A Lift-the-Flap Book",
         "Author": "Rod Campbell",
         "User Rating": 4.8,
         "Reviews": 10922,
         "Price": 5,
         "Year": 2015,
         "Genre": "Fiction",
         "_deepnote_index_column": 63
        },
        {
         "Name": "Dear Zoo: A Lift-the-Flap Book",
         "Author": "Rod Campbell",
         "User Rating": 4.8,
         "Reviews": 10922,
         "Price": 5,
         "Year": 2016,
         "Genre": "Fiction",
         "_deepnote_index_column": 64
        },
        {
         "Name": "Dear Zoo: A Lift-the-Flap Book",
         "Author": "Rod Campbell",
         "User Rating": 4.8,
         "Reviews": 10922,
         "Price": 5,
         "Year": 2017,
         "Genre": "Fiction",
         "_deepnote_index_column": 65
        },
        {
         "Name": "Dear Zoo: A Lift-the-Flap Book",
         "Author": "Rod Campbell",
         "User Rating": 4.8,
         "Reviews": 10922,
         "Price": 5,
         "Year": 2018,
         "Genre": "Fiction",
         "_deepnote_index_column": 66
        },
        {
         "Name": "Decision Points",
         "Author": "George W. Bush",
         "User Rating": 4.6,
         "Reviews": 2137,
         "Price": 17,
         "Year": 2010,
         "Genre": "Non Fiction",
         "_deepnote_index_column": 67
        },
        {
         "Name": "Delivering Happiness: A Path to Profits, Passion, and Purpose",
         "Author": "Tony Hsieh",
         "User Rating": 4.6,
         "Reviews": 1651,
         "Price": 15,
         "Year": 2010,
         "Genre": "Non Fiction",
         "_deepnote_index_column": 68
        },
        {
         "Name": "Diagnostic and Statistical Manual of Mental Disorders, 5th Edition: DSM-5",
         "Author": "American Psychiatric Association",
         "User Rating": 4.5,
         "Reviews": 6679,
         "Price": 105,
         "Year": 2013,
         "Genre": "Non Fiction",
         "_deepnote_index_column": 69
        },
        {
         "Name": "Diagnostic and Statistical Manual of Mental Disorders, 5th Edition: DSM-5",
         "Author": "American Psychiatric Association",
         "User Rating": 4.5,
         "Reviews": 6679,
         "Price": 105,
         "Year": 2014,
         "Genre": "Non Fiction",
         "_deepnote_index_column": 70
        }
       ],
       "rows_bottom": [
        {
         "Name": "The Very Hungry Caterpillar",
         "Author": "Eric Carle",
         "User Rating": 4.9,
         "Reviews": 19546,
         "Price": 5,
         "Year": 2016,
         "Genre": "Fiction",
         "_deepnote_index_column": 479
        },
        {
         "Name": "The Very Hungry Caterpillar",
         "Author": "Eric Carle",
         "User Rating": 4.9,
         "Reviews": 19546,
         "Price": 5,
         "Year": 2017,
         "Genre": "Fiction",
         "_deepnote_index_column": 480
        },
        {
         "Name": "The Very Hungry Caterpillar",
         "Author": "Eric Carle",
         "User Rating": 4.9,
         "Reviews": 19546,
         "Price": 5,
         "Year": 2018,
         "Genre": "Fiction",
         "_deepnote_index_column": 481
        },
        {
         "Name": "The Very Hungry Caterpillar",
         "Author": "Eric Carle",
         "User Rating": 4.9,
         "Reviews": 19546,
         "Price": 5,
         "Year": 2019,
         "Genre": "Fiction",
         "_deepnote_index_column": 482
        },
        {
         "Name": "The Whole30: The 30-Day Guide to Total Health and Food Freedom",
         "Author": "Melissa Hartwig Urban",
         "User Rating": 4.6,
         "Reviews": 7508,
         "Price": 16,
         "Year": 2015,
         "Genre": "Non Fiction",
         "_deepnote_index_column": 483
        },
        {
         "Name": "The Whole30: The 30-Day Guide to Total Health and Food Freedom",
         "Author": "Melissa Hartwig Urban",
         "User Rating": 4.6,
         "Reviews": 7508,
         "Price": 16,
         "Year": 2016,
         "Genre": "Non Fiction",
         "_deepnote_index_column": 484
        },
        {
         "Name": "The Whole30: The 30-Day Guide to Total Health and Food Freedom",
         "Author": "Melissa Hartwig Urban",
         "User Rating": 4.6,
         "Reviews": 7508,
         "Price": 16,
         "Year": 2017,
         "Genre": "Non Fiction",
         "_deepnote_index_column": 485
        },
        {
         "Name": "The Wonderful Things You Will Be",
         "Author": "Emily Winfield Martin",
         "User Rating": 4.9,
         "Reviews": 8842,
         "Price": 10,
         "Year": 2016,
         "Genre": "Fiction",
         "_deepnote_index_column": 486
        },
        {
         "Name": "The Wonderful Things You Will Be",
         "Author": "Emily Winfield Martin",
         "User Rating": 4.9,
         "Reviews": 8842,
         "Price": 10,
         "Year": 2017,
         "Genre": "Fiction",
         "_deepnote_index_column": 487
        },
        {
         "Name": "The Wonderful Things You Will Be",
         "Author": "Emily Winfield Martin",
         "User Rating": 4.9,
         "Reviews": 8842,
         "Price": 10,
         "Year": 2018,
         "Genre": "Fiction",
         "_deepnote_index_column": 488
        },
        {
         "Name": "The Wonderful Things You Will Be",
         "Author": "Emily Winfield Martin",
         "User Rating": 4.9,
         "Reviews": 8842,
         "Price": 10,
         "Year": 2019,
         "Genre": "Fiction",
         "_deepnote_index_column": 489
        },
        {
         "Name": "The Wonky Donkey",
         "Author": "Craig Smith",
         "User Rating": 4.8,
         "Reviews": 30183,
         "Price": 4,
         "Year": 2018,
         "Genre": "Fiction",
         "_deepnote_index_column": 490
        },
        {
         "Name": "The Wonky Donkey",
         "Author": "Craig Smith",
         "User Rating": 4.8,
         "Reviews": 30183,
         "Price": 4,
         "Year": 2019,
         "Genre": "Fiction",
         "_deepnote_index_column": 491
        },
        {
         "Name": "The Wright Brothers",
         "Author": "David McCullough",
         "User Rating": 4.7,
         "Reviews": 6169,
         "Price": 16,
         "Year": 2015,
         "Genre": "Non Fiction",
         "_deepnote_index_column": 492
        },
        {
         "Name": "Things That Matter: Three Decades of Passions, Pastimes and Politics [Deckled Edge]",
         "Author": "Charles Krauthammer",
         "User Rating": 4.7,
         "Reviews": 7034,
         "Price": 15,
         "Year": 2013,
         "Genre": "Non Fiction",
         "_deepnote_index_column": 493
        },
        {
         "Name": "Thinking, Fast and Slow",
         "Author": "Daniel Kahneman",
         "User Rating": 4.6,
         "Reviews": 11034,
         "Price": 19,
         "Year": 2011,
         "Genre": "Non Fiction",
         "_deepnote_index_column": 494
        },
        {
         "Name": "Thinking, Fast and Slow",
         "Author": "Daniel Kahneman",
         "User Rating": 4.6,
         "Reviews": 11034,
         "Price": 19,
         "Year": 2012,
         "Genre": "Non Fiction",
         "_deepnote_index_column": 495
        },
        {
         "Name": "Thirteen Reasons Why",
         "Author": "Jay Asher",
         "User Rating": 4.5,
         "Reviews": 7932,
         "Price": 9,
         "Year": 2017,
         "Genre": "Fiction",
         "_deepnote_index_column": 496
        },
        {
         "Name": "Thomas Jefferson: The Art of Power",
         "Author": "Jon Meacham",
         "User Rating": 4.5,
         "Reviews": 1904,
         "Price": 23,
         "Year": 2012,
         "Genre": "Non Fiction",
         "_deepnote_index_column": 497
        },
        {
         "Name": "Three Cups of Tea: One Man's Mission to Promote Peace - One School at a Time",
         "Author": "Greg Mortenson",
         "User Rating": 4.3,
         "Reviews": 3319,
         "Price": 11,
         "Year": 2009,
         "Genre": "Non Fiction",
         "_deepnote_index_column": 498
        },
        {
         "Name": "Three Cups of Tea: One Man's Mission to Promote Peace - One School at a Time",
         "Author": "Greg Mortenson",
         "User Rating": 4.3,
         "Reviews": 3319,
         "Price": 11,
         "Year": 2010,
         "Genre": "Non Fiction",
         "_deepnote_index_column": 499
        },
        {
         "Name": "Thug Kitchen: The Official Cookbook: Eat Like You Give a F*ck (Thug Kitchen Cookbooks)",
         "Author": "Thug Kitchen",
         "User Rating": 4.6,
         "Reviews": 11128,
         "Price": 23,
         "Year": 2014,
         "Genre": "Non Fiction",
         "_deepnote_index_column": 500
        },
        {
         "Name": "Thug Kitchen: The Official Cookbook: Eat Like You Give a F*ck (Thug Kitchen Cookbooks)",
         "Author": "Thug Kitchen",
         "User Rating": 4.6,
         "Reviews": 11128,
         "Price": 23,
         "Year": 2015,
         "Genre": "Non Fiction",
         "_deepnote_index_column": 501
        },
        {
         "Name": "Thug Kitchen: The Official Cookbook: Eat Like You Give a F*ck (Thug Kitchen Cookbooks)",
         "Author": "Thug Kitchen",
         "User Rating": 4.6,
         "Reviews": 11128,
         "Price": 23,
         "Year": 2016,
         "Genre": "Non Fiction",
         "_deepnote_index_column": 502
        },
        {
         "Name": "Thug Kitchen: The Official Cookbook: Eat Like You Give a F*ck (Thug Kitchen Cookbooks)",
         "Author": "Thug Kitchen",
         "User Rating": 4.6,
         "Reviews": 11128,
         "Price": 23,
         "Year": 2017,
         "Genre": "Non Fiction",
         "_deepnote_index_column": 503
        },
        {
         "Name": "Tina Fey: Bossypants",
         "Author": "Tina Fey",
         "User Rating": 4.3,
         "Reviews": 5977,
         "Price": 12,
         "Year": 2011,
         "Genre": "Non Fiction",
         "_deepnote_index_column": 504
        },
        {
         "Name": "To Kill a Mockingbird",
         "Author": "Harper Lee",
         "User Rating": 4.8,
         "Reviews": 26234,
         "Price": 0,
         "Year": 2013,
         "Genre": "Fiction",
         "_deepnote_index_column": 505
        },
        {
         "Name": "To Kill a Mockingbird",
         "Author": "Harper Lee",
         "User Rating": 4.8,
         "Reviews": 26234,
         "Price": 0,
         "Year": 2014,
         "Genre": "Fiction",
         "_deepnote_index_column": 506
        },
        {
         "Name": "To Kill a Mockingbird",
         "Author": "Harper Lee",
         "User Rating": 4.8,
         "Reviews": 26234,
         "Price": 0,
         "Year": 2015,
         "Genre": "Fiction",
         "_deepnote_index_column": 507
        },
        {
         "Name": "To Kill a Mockingbird",
         "Author": "Harper Lee",
         "User Rating": 4.8,
         "Reviews": 26234,
         "Price": 0,
         "Year": 2016,
         "Genre": "Fiction",
         "_deepnote_index_column": 508
        },
        {
         "Name": "To Kill a Mockingbird",
         "Author": "Harper Lee",
         "User Rating": 4.8,
         "Reviews": 26234,
         "Price": 7,
         "Year": 2019,
         "Genre": "Fiction",
         "_deepnote_index_column": 509
        },
        {
         "Name": "Tools of Titans: The Tactics, Routines, and Habits of Billionaires, Icons, and World-Class Performe…",
         "Author": "Timothy Ferriss",
         "User Rating": 4.6,
         "Reviews": 4360,
         "Price": 21,
         "Year": 2017,
         "Genre": "Non Fiction",
         "_deepnote_index_column": 510
        },
        {
         "Name": "Towers of Midnight (Wheel of Time, Book Thirteen)",
         "Author": "Robert Jordan",
         "User Rating": 4.8,
         "Reviews": 2282,
         "Price": 21,
         "Year": 2010,
         "Genre": "Fiction",
         "_deepnote_index_column": 511
        },
        {
         "Name": "True Compass: A Memoir",
         "Author": "Edward M. Kennedy",
         "User Rating": 4.5,
         "Reviews": 438,
         "Price": 15,
         "Year": 2009,
         "Genre": "Non Fiction",
         "_deepnote_index_column": 512
        },
        {
         "Name": "Twilight (The Twilight Saga, Book 1)",
         "Author": "Stephenie Meyer",
         "User Rating": 4.7,
         "Reviews": 11676,
         "Price": 9,
         "Year": 2009,
         "Genre": "Fiction",
         "_deepnote_index_column": 513
        },
        {
         "Name": "Ultimate Sticker Book: Frozen: More Than 60 Reusable Full-Color Stickers",
         "Author": "DK",
         "User Rating": 4.5,
         "Reviews": 2586,
         "Price": 5,
         "Year": 2014,
         "Genre": "Fiction",
         "_deepnote_index_column": 514
        },
        {
         "Name": "Unbroken: A World War II Story of Survival, Resilience, and Redemption",
         "Author": "Laura Hillenbrand",
         "User Rating": 4.8,
         "Reviews": 29673,
         "Price": 16,
         "Year": 2010,
         "Genre": "Non Fiction",
         "_deepnote_index_column": 515
        },
        {
         "Name": "Unbroken: A World War II Story of Survival, Resilience, and Redemption",
         "Author": "Laura Hillenbrand",
         "User Rating": 4.8,
         "Reviews": 29673,
         "Price": 16,
         "Year": 2011,
         "Genre": "Non Fiction",
         "_deepnote_index_column": 516
        },
        {
         "Name": "Unbroken: A World War II Story of Survival, Resilience, and Redemption",
         "Author": "Laura Hillenbrand",
         "User Rating": 4.8,
         "Reviews": 29673,
         "Price": 16,
         "Year": 2012,
         "Genre": "Non Fiction",
         "_deepnote_index_column": 517
        },
        {
         "Name": "Unbroken: A World War II Story of Survival, Resilience, and Redemption",
         "Author": "Laura Hillenbrand",
         "User Rating": 4.8,
         "Reviews": 29673,
         "Price": 13,
         "Year": 2014,
         "Genre": "Non Fiction",
         "_deepnote_index_column": 518
        },
        {
         "Name": "Unbroken: A World War II Story of Survival, Resilience, and Redemption",
         "Author": "Laura Hillenbrand",
         "User Rating": 4.8,
         "Reviews": 29673,
         "Price": 16,
         "Year": 2014,
         "Genre": "Non Fiction",
         "_deepnote_index_column": 519
        },
        {
         "Name": "Under the Dome: A Novel",
         "Author": "Stephen King",
         "User Rating": 4.3,
         "Reviews": 6740,
         "Price": 20,
         "Year": 2009,
         "Genre": "Fiction",
         "_deepnote_index_column": 520
        },
        {
         "Name": "Unfreedom of the Press",
         "Author": "Mark R. Levin",
         "User Rating": 4.9,
         "Reviews": 5956,
         "Price": 11,
         "Year": 2019,
         "Genre": "Non Fiction",
         "_deepnote_index_column": 521
        },
        {
         "Name": "Unicorn Coloring Book: For Kids Ages 4-8 (US Edition) (Silly Bear Coloring Books)",
         "Author": "Silly Bear",
         "User Rating": 4.8,
         "Reviews": 6108,
         "Price": 4,
         "Year": 2019,
         "Genre": "Non Fiction",
         "_deepnote_index_column": 522
        },
        {
         "Name": "Uninvited: Living Loved When You Feel Less Than, Left Out, and Lonely",
         "Author": "Lysa TerKeurst",
         "User Rating": 4.7,
         "Reviews": 4585,
         "Price": 9,
         "Year": 2016,
         "Genre": "Non Fiction",
         "_deepnote_index_column": 523
        },
        {
         "Name": "Watchmen",
         "Author": "Alan Moore",
         "User Rating": 4.8,
         "Reviews": 3829,
         "Price": 42,
         "Year": 2009,
         "Genre": "Fiction",
         "_deepnote_index_column": 524
        },
        {
         "Name": "Water for Elephants: A Novel",
         "Author": "Sara Gruen",
         "User Rating": 4.5,
         "Reviews": 8958,
         "Price": 12,
         "Year": 2011,
         "Genre": "Fiction",
         "_deepnote_index_column": 525
        },
        {
         "Name": "What Happened",
         "Author": "Hillary Rodham Clinton",
         "User Rating": 4.6,
         "Reviews": 5492,
         "Price": 18,
         "Year": 2017,
         "Genre": "Non Fiction",
         "_deepnote_index_column": 526
        },
        {
         "Name": "What If?: Serious Scientific Answers to Absurd Hypothetical Questions",
         "Author": "Randall Munroe",
         "User Rating": 4.7,
         "Reviews": 9292,
         "Price": 17,
         "Year": 2014,
         "Genre": "Non Fiction",
         "_deepnote_index_column": 527
        },
        {
         "Name": "What Pet Should I Get? (Classic Seuss)",
         "Author": "Dr. Seuss",
         "User Rating": 4.7,
         "Reviews": 1873,
         "Price": 14,
         "Year": 2015,
         "Genre": "Fiction",
         "_deepnote_index_column": 528
        },
        {
         "Name": "What Should Danny Do? (The Power to Choose Series)",
         "Author": "Adir Levy",
         "User Rating": 4.8,
         "Reviews": 8170,
         "Price": 13,
         "Year": 2019,
         "Genre": "Fiction",
         "_deepnote_index_column": 529
        },
        {
         "Name": "What to Expect When You're Expecting",
         "Author": "Heidi Murkoff",
         "User Rating": 4.4,
         "Reviews": 3341,
         "Price": 9,
         "Year": 2011,
         "Genre": "Non Fiction",
         "_deepnote_index_column": 530
        },
        {
         "Name": "Wheat Belly: Lose the Wheat, Lose the Weight, and Find Your Path Back to Health",
         "Author": "William Davis",
         "User Rating": 4.4,
         "Reviews": 7497,
         "Price": 6,
         "Year": 2012,
         "Genre": "Non Fiction",
         "_deepnote_index_column": 531
        },
        {
         "Name": "Wheat Belly: Lose the Wheat, Lose the Weight, and Find Your Path Back to Health",
         "Author": "William Davis",
         "User Rating": 4.4,
         "Reviews": 7497,
         "Price": 6,
         "Year": 2013,
         "Genre": "Non Fiction",
         "_deepnote_index_column": 532
        },
        {
         "Name": "When Breath Becomes Air",
         "Author": "Paul Kalanithi",
         "User Rating": 4.8,
         "Reviews": 13779,
         "Price": 14,
         "Year": 2016,
         "Genre": "Non Fiction",
         "_deepnote_index_column": 533
        },
        {
         "Name": "Where the Crawdads Sing",
         "Author": "Delia Owens",
         "User Rating": 4.8,
         "Reviews": 87841,
         "Price": 15,
         "Year": 2019,
         "Genre": "Fiction",
         "_deepnote_index_column": 534
        },
        {
         "Name": "Where the Wild Things Are",
         "Author": "Maurice Sendak",
         "User Rating": 4.8,
         "Reviews": 9967,
         "Price": 13,
         "Year": 2009,
         "Genre": "Fiction",
         "_deepnote_index_column": 535
        },
        {
         "Name": "Whose Boat Is This Boat?: Comments That Don't Help in the Aftermath of a Hurricane",
         "Author": "The Staff of The Late Show with",
         "User Rating": 4.6,
         "Reviews": 6669,
         "Price": 12,
         "Year": 2018,
         "Genre": "Non Fiction",
         "_deepnote_index_column": 536
        },
        {
         "Name": "Wild: From Lost to Found on the Pacific Crest Trail",
         "Author": "Cheryl Strayed",
         "User Rating": 4.4,
         "Reviews": 17044,
         "Price": 18,
         "Year": 2012,
         "Genre": "Non Fiction",
         "_deepnote_index_column": 537
        },
        {
         "Name": "Winter of the World: Book Two of the Century Trilogy",
         "Author": "Ken Follett",
         "User Rating": 4.5,
         "Reviews": 10760,
         "Price": 15,
         "Year": 2012,
         "Genre": "Fiction",
         "_deepnote_index_column": 538
        },
        {
         "Name": "Women Food and God: An Unexpected Path to Almost Everything",
         "Author": "Geneen Roth",
         "User Rating": 4.2,
         "Reviews": 1302,
         "Price": 11,
         "Year": 2010,
         "Genre": "Non Fiction",
         "_deepnote_index_column": 539
        },
        {
         "Name": "Wonder",
         "Author": "R. J. Palacio",
         "User Rating": 4.8,
         "Reviews": 21625,
         "Price": 9,
         "Year": 2013,
         "Genre": "Fiction",
         "_deepnote_index_column": 540
        },
        {
         "Name": "Wonder",
         "Author": "R. J. Palacio",
         "User Rating": 4.8,
         "Reviews": 21625,
         "Price": 9,
         "Year": 2014,
         "Genre": "Fiction",
         "_deepnote_index_column": 541
        },
        {
         "Name": "Wonder",
         "Author": "R. J. Palacio",
         "User Rating": 4.8,
         "Reviews": 21625,
         "Price": 9,
         "Year": 2015,
         "Genre": "Fiction",
         "_deepnote_index_column": 542
        },
        {
         "Name": "Wonder",
         "Author": "R. J. Palacio",
         "User Rating": 4.8,
         "Reviews": 21625,
         "Price": 9,
         "Year": 2016,
         "Genre": "Fiction",
         "_deepnote_index_column": 543
        },
        {
         "Name": "Wonder",
         "Author": "R. J. Palacio",
         "User Rating": 4.8,
         "Reviews": 21625,
         "Price": 9,
         "Year": 2017,
         "Genre": "Fiction",
         "_deepnote_index_column": 544
        },
        {
         "Name": "Wrecking Ball (Diary of a Wimpy Kid Book 14)",
         "Author": "Jeff Kinney",
         "User Rating": 4.9,
         "Reviews": 9413,
         "Price": 8,
         "Year": 2019,
         "Genre": "Fiction",
         "_deepnote_index_column": 545
        },
        {
         "Name": "You Are a Badass: How to Stop Doubting Your Greatness and Start Living an Awesome Life",
         "Author": "Jen Sincero",
         "User Rating": 4.7,
         "Reviews": 14331,
         "Price": 8,
         "Year": 2016,
         "Genre": "Non Fiction",
         "_deepnote_index_column": 546
        },
        {
         "Name": "You Are a Badass: How to Stop Doubting Your Greatness and Start Living an Awesome Life",
         "Author": "Jen Sincero",
         "User Rating": 4.7,
         "Reviews": 14331,
         "Price": 8,
         "Year": 2017,
         "Genre": "Non Fiction",
         "_deepnote_index_column": 547
        },
        {
         "Name": "You Are a Badass: How to Stop Doubting Your Greatness and Start Living an Awesome Life",
         "Author": "Jen Sincero",
         "User Rating": 4.7,
         "Reviews": 14331,
         "Price": 8,
         "Year": 2018,
         "Genre": "Non Fiction",
         "_deepnote_index_column": 548
        },
        {
         "Name": "You Are a Badass: How to Stop Doubting Your Greatness and Start Living an Awesome Life",
         "Author": "Jen Sincero",
         "User Rating": 4.7,
         "Reviews": 14331,
         "Price": 8,
         "Year": 2019,
         "Genre": "Non Fiction",
         "_deepnote_index_column": 549
        }
       ]
      },
      "text/plain": "                                                  Name  \\\n0                        10-Day Green Smoothie Cleanse   \n1                                    11/22/63: A Novel   \n2              12 Rules for Life: An Antidote to Chaos   \n3                               1984 (Signet Classics)   \n4    5,000 Awesome Facts (About Everything!) (Natio...   \n..                                                 ...   \n545       Wrecking Ball (Diary of a Wimpy Kid Book 14)   \n546  You Are a Badass: How to Stop Doubting Your Gr...   \n547  You Are a Badass: How to Stop Doubting Your Gr...   \n548  You Are a Badass: How to Stop Doubting Your Gr...   \n549  You Are a Badass: How to Stop Doubting Your Gr...   \n\n                       Author  User Rating  Reviews  Price  Year        Genre  \n0                    JJ Smith          4.7    17350      8  2016  Non Fiction  \n1                Stephen King          4.6     2052     22  2011      Fiction  \n2          Jordan B. Peterson          4.7    18979     15  2018  Non Fiction  \n3               George Orwell          4.7    21424      6  2017      Fiction  \n4    National Geographic Kids          4.8     7665     12  2019  Non Fiction  \n..                        ...          ...      ...    ...   ...          ...  \n545               Jeff Kinney          4.9     9413      8  2019      Fiction  \n546               Jen Sincero          4.7    14331      8  2016  Non Fiction  \n547               Jen Sincero          4.7    14331      8  2017  Non Fiction  \n548               Jen Sincero          4.7    14331      8  2018  Non Fiction  \n549               Jen Sincero          4.7    14331      8  2019  Non Fiction  \n\n[550 rows x 7 columns]",
      "text/html": "<div>\n<style scoped>\n    .dataframe tbody tr th:only-of-type {\n        vertical-align: middle;\n    }\n\n    .dataframe tbody tr th {\n        vertical-align: top;\n    }\n\n    .dataframe thead th {\n        text-align: right;\n    }\n</style>\n<table border=\"1\" class=\"dataframe\">\n  <thead>\n    <tr style=\"text-align: right;\">\n      <th></th>\n      <th>Name</th>\n      <th>Author</th>\n      <th>User Rating</th>\n      <th>Reviews</th>\n      <th>Price</th>\n      <th>Year</th>\n      <th>Genre</th>\n    </tr>\n  </thead>\n  <tbody>\n    <tr>\n      <th>0</th>\n      <td>10-Day Green Smoothie Cleanse</td>\n      <td>JJ Smith</td>\n      <td>4.7</td>\n      <td>17350</td>\n      <td>8</td>\n      <td>2016</td>\n      <td>Non Fiction</td>\n    </tr>\n    <tr>\n      <th>1</th>\n      <td>11/22/63: A Novel</td>\n      <td>Stephen King</td>\n      <td>4.6</td>\n      <td>2052</td>\n      <td>22</td>\n      <td>2011</td>\n      <td>Fiction</td>\n    </tr>\n    <tr>\n      <th>2</th>\n      <td>12 Rules for Life: An Antidote to Chaos</td>\n      <td>Jordan B. Peterson</td>\n      <td>4.7</td>\n      <td>18979</td>\n      <td>15</td>\n      <td>2018</td>\n      <td>Non Fiction</td>\n    </tr>\n    <tr>\n      <th>3</th>\n      <td>1984 (Signet Classics)</td>\n      <td>George Orwell</td>\n      <td>4.7</td>\n      <td>21424</td>\n      <td>6</td>\n      <td>2017</td>\n      <td>Fiction</td>\n    </tr>\n    <tr>\n      <th>4</th>\n      <td>5,000 Awesome Facts (About Everything!) (Natio...</td>\n      <td>National Geographic Kids</td>\n      <td>4.8</td>\n      <td>7665</td>\n      <td>12</td>\n      <td>2019</td>\n      <td>Non Fiction</td>\n    </tr>\n    <tr>\n      <th>...</th>\n      <td>...</td>\n      <td>...</td>\n      <td>...</td>\n      <td>...</td>\n      <td>...</td>\n      <td>...</td>\n      <td>...</td>\n    </tr>\n    <tr>\n      <th>545</th>\n      <td>Wrecking Ball (Diary of a Wimpy Kid Book 14)</td>\n      <td>Jeff Kinney</td>\n      <td>4.9</td>\n      <td>9413</td>\n      <td>8</td>\n      <td>2019</td>\n      <td>Fiction</td>\n    </tr>\n    <tr>\n      <th>546</th>\n      <td>You Are a Badass: How to Stop Doubting Your Gr...</td>\n      <td>Jen Sincero</td>\n      <td>4.7</td>\n      <td>14331</td>\n      <td>8</td>\n      <td>2016</td>\n      <td>Non Fiction</td>\n    </tr>\n    <tr>\n      <th>547</th>\n      <td>You Are a Badass: How to Stop Doubting Your Gr...</td>\n      <td>Jen Sincero</td>\n      <td>4.7</td>\n      <td>14331</td>\n      <td>8</td>\n      <td>2017</td>\n      <td>Non Fiction</td>\n    </tr>\n    <tr>\n      <th>548</th>\n      <td>You Are a Badass: How to Stop Doubting Your Gr...</td>\n      <td>Jen Sincero</td>\n      <td>4.7</td>\n      <td>14331</td>\n      <td>8</td>\n      <td>2018</td>\n      <td>Non Fiction</td>\n    </tr>\n    <tr>\n      <th>549</th>\n      <td>You Are a Badass: How to Stop Doubting Your Gr...</td>\n      <td>Jen Sincero</td>\n      <td>4.7</td>\n      <td>14331</td>\n      <td>8</td>\n      <td>2019</td>\n      <td>Non Fiction</td>\n    </tr>\n  </tbody>\n</table>\n<p>550 rows × 7 columns</p>\n</div>"
     },
     "metadata": {}
    }
   ]
  },
  {
   "cell_type": "markdown",
   "source": "## Observando los datos\n\nObservando la cantidad de **datos nulos** en el DataFrame",
   "metadata": {
    "tags": [],
    "cell_id": "00003-cb1f1dcd-02f2-4da4-bf28-c03cde0c6739",
    "deepnote_cell_type": "markdown"
   }
  },
  {
   "cell_type": "code",
   "metadata": {
    "tags": [],
    "cell_id": "00004-afa9af89-1025-498e-90a5-dea1cb388805",
    "deepnote_to_be_reexecuted": false,
    "source_hash": "f3dd26da",
    "execution_start": 1627079302345,
    "execution_millis": 45,
    "deepnote_cell_type": "code"
   },
   "source": "df.isnull().sum()",
   "execution_count": null,
   "outputs": [
    {
     "output_type": "execute_result",
     "execution_count": 3,
     "data": {
      "text/plain": "Name           0\nAuthor         0\nUser Rating    0\nReviews        0\nPrice          0\nYear           0\nGenre          0\ndtype: int64"
     },
     "metadata": {}
    }
   ]
  },
  {
   "cell_type": "markdown",
   "source": "**Observando los tipos de datos**:\n\nPodemos obervar que los tipos de datos estan correctos y no es necesario realizar ninguna modificacion.",
   "metadata": {
    "tags": [],
    "cell_id": "00005-46e324ce-68f8-48a6-8bd6-a4d44e71b694",
    "deepnote_cell_type": "markdown"
   }
  },
  {
   "cell_type": "code",
   "metadata": {
    "tags": [],
    "cell_id": "00006-1af8ceae-89f1-4a81-99fa-6343515104a7",
    "deepnote_to_be_reexecuted": false,
    "source_hash": "de1e323c",
    "execution_start": 1627079302384,
    "execution_millis": 33,
    "deepnote_cell_type": "code"
   },
   "source": "df.info()",
   "execution_count": null,
   "outputs": [
    {
     "name": "stdout",
     "text": "<class 'pandas.core.frame.DataFrame'>\nRangeIndex: 550 entries, 0 to 549\nData columns (total 7 columns):\n #   Column       Non-Null Count  Dtype  \n---  ------       --------------  -----  \n 0   Name         550 non-null    object \n 1   Author       550 non-null    object \n 2   User Rating  550 non-null    float64\n 3   Reviews      550 non-null    int64  \n 4   Price        550 non-null    int64  \n 5   Year         550 non-null    int64  \n 6   Genre        550 non-null    object \ndtypes: float64(1), int64(3), object(3)\nmemory usage: 30.2+ KB\n",
     "output_type": "stream"
    }
   ]
  },
  {
   "cell_type": "markdown",
   "source": "**Resumiento los resultados del conjunto de datos**:\n\n- El conjunto contiene 550 autores,genero y libros en total.\n- Las variables de tipo objeto como el genero, nos pueden ayudar a obtener un analisis complejo y detallado.\n- Es muy probable que las reseñas y las columnas de precios tengan outliers (valores atípicos). (Media - Diferencia mediana, diferencia entre **75%** y **valor máximo**, diferencia entre **25%** y **valor mínimo**)",
   "metadata": {
    "tags": [],
    "cell_id": "00007-db1c18af-fcd4-4c6e-8574-349c2fafff21",
    "deepnote_cell_type": "markdown"
   }
  },
  {
   "cell_type": "code",
   "metadata": {
    "tags": [],
    "cell_id": "00005-29dd64f6-2bb3-4e4d-afd0-d6d358483a5c",
    "deepnote_to_be_reexecuted": false,
    "source_hash": "b1cecf2d",
    "execution_start": 1627079302423,
    "execution_millis": 132,
    "deepnote_cell_type": "code"
   },
   "source": "df.describe(include='all')",
   "execution_count": null,
   "outputs": [
    {
     "output_type": "execute_result",
     "execution_count": 5,
     "data": {
      "application/vnd.deepnote.dataframe.v2+json": {
       "row_count": 11,
       "column_count": 7,
       "columns": [
        {
         "name": "Name",
         "dtype": "object",
         "stats": {
          "unique_count": 4,
          "nan_count": 7,
          "categories": [
           {
            "name": "550",
            "count": 1
           },
           {
            "name": "3 others",
            "count": 3
           },
           {
            "name": "Missing",
            "count": 7
           }
          ]
         }
        },
        {
         "name": "Author",
         "dtype": "object",
         "stats": {
          "unique_count": 4,
          "nan_count": 7,
          "categories": [
           {
            "name": "550",
            "count": 1
           },
           {
            "name": "3 others",
            "count": 3
           },
           {
            "name": "Missing",
            "count": 7
           }
          ]
         }
        },
        {
         "name": "User Rating",
         "dtype": "float64",
         "stats": {
          "unique_count": 8,
          "nan_count": 3,
          "min": "0.2269803650251963",
          "max": "550.0",
          "histogram": [
           {
            "bin_start": 0.2269803650251963,
            "bin_end": 55.20428232852268,
            "count": 7
           },
           {
            "bin_start": 55.20428232852268,
            "bin_end": 110.18158429202016,
            "count": 0
           },
           {
            "bin_start": 110.18158429202016,
            "bin_end": 165.15888625551761,
            "count": 0
           },
           {
            "bin_start": 165.15888625551761,
            "bin_end": 220.1361882190151,
            "count": 0
           },
           {
            "bin_start": 220.1361882190151,
            "bin_end": 275.11349018251263,
            "count": 0
           },
           {
            "bin_start": 275.11349018251263,
            "bin_end": 330.0907921460101,
            "count": 0
           },
           {
            "bin_start": 330.0907921460101,
            "bin_end": 385.06809410950757,
            "count": 0
           },
           {
            "bin_start": 385.06809410950757,
            "bin_end": 440.04539607300507,
            "count": 0
           },
           {
            "bin_start": 440.04539607300507,
            "bin_end": 495.02269803650256,
            "count": 0
           },
           {
            "bin_start": 495.02269803650256,
            "bin_end": 550,
            "count": 1
           }
          ]
         }
        },
        {
         "name": "Reviews",
         "dtype": "float64",
         "stats": {
          "unique_count": 8,
          "nan_count": 3,
          "min": "37.0",
          "max": "87841.0",
          "histogram": [
           {
            "bin_start": 37,
            "bin_end": 8817.4,
            "count": 4
           },
           {
            "bin_start": 8817.4,
            "bin_end": 17597.8,
            "count": 3
           },
           {
            "bin_start": 17597.8,
            "bin_end": 26378.199999999997,
            "count": 0
           },
           {
            "bin_start": 26378.199999999997,
            "bin_end": 35158.6,
            "count": 0
           },
           {
            "bin_start": 35158.6,
            "bin_end": 43939,
            "count": 0
           },
           {
            "bin_start": 43939,
            "bin_end": 52719.399999999994,
            "count": 0
           },
           {
            "bin_start": 52719.399999999994,
            "bin_end": 61499.799999999996,
            "count": 0
           },
           {
            "bin_start": 61499.799999999996,
            "bin_end": 70280.2,
            "count": 0
           },
           {
            "bin_start": 70280.2,
            "bin_end": 79060.59999999999,
            "count": 0
           },
           {
            "bin_start": 79060.59999999999,
            "bin_end": 87841,
            "count": 1
           }
          ]
         }
        },
        {
         "name": "Price",
         "dtype": "float64",
         "stats": {
          "unique_count": 8,
          "nan_count": 3,
          "min": "0.0",
          "max": "550.0",
          "histogram": [
           {
            "bin_start": 0,
            "bin_end": 55,
            "count": 6
           },
           {
            "bin_start": 55,
            "bin_end": 110,
            "count": 1
           },
           {
            "bin_start": 110,
            "bin_end": 165,
            "count": 0
           },
           {
            "bin_start": 165,
            "bin_end": 220,
            "count": 0
           },
           {
            "bin_start": 220,
            "bin_end": 275,
            "count": 0
           },
           {
            "bin_start": 275,
            "bin_end": 330,
            "count": 0
           },
           {
            "bin_start": 330,
            "bin_end": 385,
            "count": 0
           },
           {
            "bin_start": 385,
            "bin_end": 440,
            "count": 0
           },
           {
            "bin_start": 440,
            "bin_end": 495,
            "count": 0
           },
           {
            "bin_start": 495,
            "bin_end": 550,
            "count": 1
           }
          ]
         }
        },
        {
         "name": "Year",
         "dtype": "float64",
         "stats": {
          "unique_count": 7,
          "nan_count": 3,
          "min": "3.165156384169307",
          "max": "2019.0",
          "histogram": [
           {
            "bin_start": 3.165156384169307,
            "bin_end": 204.7486407457524,
            "count": 1
           },
           {
            "bin_start": 204.7486407457524,
            "bin_end": 406.33212510733546,
            "count": 0
           },
           {
            "bin_start": 406.33212510733546,
            "bin_end": 607.9156094689187,
            "count": 1
           },
           {
            "bin_start": 607.9156094689187,
            "bin_end": 809.4990938305017,
            "count": 0
           },
           {
            "bin_start": 809.4990938305017,
            "bin_end": 1011.0825781920847,
            "count": 0
           },
           {
            "bin_start": 1011.0825781920847,
            "bin_end": 1212.6660625536679,
            "count": 0
           },
           {
            "bin_start": 1212.6660625536679,
            "bin_end": 1414.249546915251,
            "count": 0
           },
           {
            "bin_start": 1414.249546915251,
            "bin_end": 1615.833031276834,
            "count": 0
           },
           {
            "bin_start": 1615.833031276834,
            "bin_end": 1817.416515638417,
            "count": 0
           },
           {
            "bin_start": 1817.416515638417,
            "bin_end": 2019,
            "count": 6
           }
          ]
         }
        },
        {
         "name": "Genre",
         "dtype": "object",
         "stats": {
          "unique_count": 4,
          "nan_count": 7,
          "categories": [
           {
            "name": "550",
            "count": 1
           },
           {
            "name": "3 others",
            "count": 3
           },
           {
            "name": "Missing",
            "count": 7
           }
          ]
         }
        },
        {
         "name": "_deepnote_index_column",
         "dtype": "object"
        }
       ],
       "rows_top": [
        {
         "Name": "550",
         "Author": "550",
         "User Rating": 550,
         "Reviews": 550,
         "Price": 550,
         "Year": 550,
         "Genre": "550",
         "_deepnote_index_column": "count"
        },
        {
         "Name": "351",
         "Author": "248",
         "User Rating": "nan",
         "Reviews": "nan",
         "Price": "nan",
         "Year": "nan",
         "Genre": "2",
         "_deepnote_index_column": "unique"
        },
        {
         "Name": "Publication Manual of the American Psychological Association, 6th Edition",
         "Author": "Jeff Kinney",
         "User Rating": "nan",
         "Reviews": "nan",
         "Price": "nan",
         "Year": "nan",
         "Genre": "Non Fiction",
         "_deepnote_index_column": "top"
        },
        {
         "Name": "10",
         "Author": "12",
         "User Rating": "nan",
         "Reviews": "nan",
         "Price": "nan",
         "Year": "nan",
         "Genre": "310",
         "_deepnote_index_column": "freq"
        },
        {
         "Name": "nan",
         "Author": "nan",
         "User Rating": 4.618363636363637,
         "Reviews": 11953.281818181818,
         "Price": 13.1,
         "Year": 2014,
         "Genre": "nan",
         "_deepnote_index_column": "mean"
        },
        {
         "Name": "nan",
         "Author": "nan",
         "User Rating": 0.2269803650251963,
         "Reviews": 11731.132017431892,
         "Price": 10.84226197842236,
         "Year": 3.165156384169307,
         "Genre": "nan",
         "_deepnote_index_column": "std"
        },
        {
         "Name": "nan",
         "Author": "nan",
         "User Rating": 3.3,
         "Reviews": 37,
         "Price": 0,
         "Year": 2009,
         "Genre": "nan",
         "_deepnote_index_column": "min"
        },
        {
         "Name": "nan",
         "Author": "nan",
         "User Rating": 4.5,
         "Reviews": 4058,
         "Price": 7,
         "Year": 2011,
         "Genre": "nan",
         "_deepnote_index_column": "25%"
        },
        {
         "Name": "nan",
         "Author": "nan",
         "User Rating": 4.7,
         "Reviews": 8580,
         "Price": 11,
         "Year": 2014,
         "Genre": "nan",
         "_deepnote_index_column": "50%"
        },
        {
         "Name": "nan",
         "Author": "nan",
         "User Rating": 4.8,
         "Reviews": 17253.25,
         "Price": 16,
         "Year": 2017,
         "Genre": "nan",
         "_deepnote_index_column": "75%"
        },
        {
         "Name": "nan",
         "Author": "nan",
         "User Rating": 4.9,
         "Reviews": 87841,
         "Price": 105,
         "Year": 2019,
         "Genre": "nan",
         "_deepnote_index_column": "max"
        }
       ],
       "rows_bottom": null
      },
      "text/plain": "                                                     Name       Author  \\\ncount                                                 550          550   \nunique                                                351          248   \ntop     Publication Manual of the American Psychologic...  Jeff Kinney   \nfreq                                                   10           12   \nmean                                                  NaN          NaN   \nstd                                                   NaN          NaN   \nmin                                                   NaN          NaN   \n25%                                                   NaN          NaN   \n50%                                                   NaN          NaN   \n75%                                                   NaN          NaN   \nmax                                                   NaN          NaN   \n\n        User Rating       Reviews       Price         Year        Genre  \ncount    550.000000    550.000000  550.000000   550.000000          550  \nunique          NaN           NaN         NaN          NaN            2  \ntop             NaN           NaN         NaN          NaN  Non Fiction  \nfreq            NaN           NaN         NaN          NaN          310  \nmean       4.618364  11953.281818   13.100000  2014.000000          NaN  \nstd        0.226980  11731.132017   10.842262     3.165156          NaN  \nmin        3.300000     37.000000    0.000000  2009.000000          NaN  \n25%        4.500000   4058.000000    7.000000  2011.000000          NaN  \n50%        4.700000   8580.000000   11.000000  2014.000000          NaN  \n75%        4.800000  17253.250000   16.000000  2017.000000          NaN  \nmax        4.900000  87841.000000  105.000000  2019.000000          NaN  ",
      "text/html": "<div>\n<style scoped>\n    .dataframe tbody tr th:only-of-type {\n        vertical-align: middle;\n    }\n\n    .dataframe tbody tr th {\n        vertical-align: top;\n    }\n\n    .dataframe thead th {\n        text-align: right;\n    }\n</style>\n<table border=\"1\" class=\"dataframe\">\n  <thead>\n    <tr style=\"text-align: right;\">\n      <th></th>\n      <th>Name</th>\n      <th>Author</th>\n      <th>User Rating</th>\n      <th>Reviews</th>\n      <th>Price</th>\n      <th>Year</th>\n      <th>Genre</th>\n    </tr>\n  </thead>\n  <tbody>\n    <tr>\n      <th>count</th>\n      <td>550</td>\n      <td>550</td>\n      <td>550.000000</td>\n      <td>550.000000</td>\n      <td>550.000000</td>\n      <td>550.000000</td>\n      <td>550</td>\n    </tr>\n    <tr>\n      <th>unique</th>\n      <td>351</td>\n      <td>248</td>\n      <td>NaN</td>\n      <td>NaN</td>\n      <td>NaN</td>\n      <td>NaN</td>\n      <td>2</td>\n    </tr>\n    <tr>\n      <th>top</th>\n      <td>Publication Manual of the American Psychologic...</td>\n      <td>Jeff Kinney</td>\n      <td>NaN</td>\n      <td>NaN</td>\n      <td>NaN</td>\n      <td>NaN</td>\n      <td>Non Fiction</td>\n    </tr>\n    <tr>\n      <th>freq</th>\n      <td>10</td>\n      <td>12</td>\n      <td>NaN</td>\n      <td>NaN</td>\n      <td>NaN</td>\n      <td>NaN</td>\n      <td>310</td>\n    </tr>\n    <tr>\n      <th>mean</th>\n      <td>NaN</td>\n      <td>NaN</td>\n      <td>4.618364</td>\n      <td>11953.281818</td>\n      <td>13.100000</td>\n      <td>2014.000000</td>\n      <td>NaN</td>\n    </tr>\n    <tr>\n      <th>std</th>\n      <td>NaN</td>\n      <td>NaN</td>\n      <td>0.226980</td>\n      <td>11731.132017</td>\n      <td>10.842262</td>\n      <td>3.165156</td>\n      <td>NaN</td>\n    </tr>\n    <tr>\n      <th>min</th>\n      <td>NaN</td>\n      <td>NaN</td>\n      <td>3.300000</td>\n      <td>37.000000</td>\n      <td>0.000000</td>\n      <td>2009.000000</td>\n      <td>NaN</td>\n    </tr>\n    <tr>\n      <th>25%</th>\n      <td>NaN</td>\n      <td>NaN</td>\n      <td>4.500000</td>\n      <td>4058.000000</td>\n      <td>7.000000</td>\n      <td>2011.000000</td>\n      <td>NaN</td>\n    </tr>\n    <tr>\n      <th>50%</th>\n      <td>NaN</td>\n      <td>NaN</td>\n      <td>4.700000</td>\n      <td>8580.000000</td>\n      <td>11.000000</td>\n      <td>2014.000000</td>\n      <td>NaN</td>\n    </tr>\n    <tr>\n      <th>75%</th>\n      <td>NaN</td>\n      <td>NaN</td>\n      <td>4.800000</td>\n      <td>17253.250000</td>\n      <td>16.000000</td>\n      <td>2017.000000</td>\n      <td>NaN</td>\n    </tr>\n    <tr>\n      <th>max</th>\n      <td>NaN</td>\n      <td>NaN</td>\n      <td>4.900000</td>\n      <td>87841.000000</td>\n      <td>105.000000</td>\n      <td>2019.000000</td>\n      <td>NaN</td>\n    </tr>\n  </tbody>\n</table>\n</div>"
     },
     "metadata": {}
    }
   ]
  },
  {
   "cell_type": "markdown",
   "source": "# Análisis",
   "metadata": {
    "tags": [],
    "cell_id": "00009-9d1862ec-a370-4f2f-b39b-6b510abdec76",
    "deepnote_cell_type": "markdown"
   }
  },
  {
   "cell_type": "markdown",
   "source": "Existen 248 autores unicos en el dataset",
   "metadata": {
    "tags": [],
    "cell_id": "00010-fd64db42-be39-4cdb-b202-0cba22aa195d",
    "deepnote_cell_type": "markdown"
   }
  },
  {
   "cell_type": "code",
   "metadata": {
    "tags": [],
    "cell_id": "00010-44ce4102-88c2-4d2d-9e6a-7c0c7fa7c57a",
    "deepnote_to_be_reexecuted": false,
    "source_hash": "e8786733",
    "execution_start": 1627079318719,
    "execution_millis": 14,
    "deepnote_cell_type": "code"
   },
   "source": "df['Author'].nunique()",
   "execution_count": null,
   "outputs": [
    {
     "output_type": "execute_result",
     "execution_count": 7,
     "data": {
      "text/plain": "248"
     },
     "metadata": {}
    }
   ]
  },
  {
   "cell_type": "markdown",
   "source": "## Contando los Generos",
   "metadata": {
    "tags": [],
    "cell_id": "00012-21649ac1-5e1e-4318-96a6-a9913ae2e1a5",
    "deepnote_cell_type": "markdown"
   }
  },
  {
   "cell_type": "markdown",
   "source": "Al analizar los generos que existen podremos observar que no existen mas de dos tipos de generos, pero nos ayudara a mostrar sus diferencias.",
   "metadata": {
    "tags": [],
    "cell_id": "00012-c35a1d6d-ad7e-41ae-b480-40132cc59aca",
    "deepnote_cell_type": "markdown"
   }
  },
  {
   "cell_type": "code",
   "metadata": {
    "tags": [],
    "cell_id": "00012-2563672e-b37a-4c43-a8de-7ee88a8fd672",
    "deepnote_to_be_reexecuted": false,
    "source_hash": "83cbf547",
    "execution_start": 1627079621963,
    "execution_millis": 16,
    "deepnote_cell_type": "code"
   },
   "source": "df['Genre'].value_counts(normalize=True)",
   "execution_count": null,
   "outputs": [
    {
     "output_type": "execute_result",
     "execution_count": 15,
     "data": {
      "text/plain": "Non Fiction    0.563636\nFiction        0.436364\nName: Genre, dtype: float64"
     },
     "metadata": {}
    }
   ]
  },
  {
   "cell_type": "code",
   "metadata": {
    "tags": [],
    "cell_id": "00014-2a99c5a0-1493-45e9-a80e-4214802eafb3",
    "deepnote_to_be_reexecuted": false,
    "source_hash": "f31ca9fb",
    "execution_start": 1627079714761,
    "execution_millis": 128,
    "deepnote_cell_type": "code"
   },
   "source": "fig = px.histogram(df, x='Genre' , title='Genero')\nfig.update_layout(xaxis={'categoryorder':'total descending'})\nfig.show()",
   "execution_count": null,
   "outputs": [
    {
     "data": {
      "text/html": "<html>\n<head><meta charset=\"utf-8\" /></head>\n<body>\n    <div>            <script src=\"https://cdnjs.cloudflare.com/ajax/libs/mathjax/2.7.5/MathJax.js?config=TeX-AMS-MML_SVG\"></script><script type=\"text/javascript\">if (window.MathJax) {MathJax.Hub.Config({SVG: {font: \"STIX-Web\"}});}</script>                <script type=\"text/javascript\">window.PlotlyConfig = {MathJaxConfig: 'local'};</script>\n        <script src=\"https://cdn.plot.ly/plotly-2.2.0.min.js\"></script>                <div id=\"a1b79e2c-2a8f-4015-9800-5bbbf889a487\" class=\"plotly-graph-div\" style=\"height:525px; width:100%;\"></div>            <script type=\"text/javascript\">                                    window.PLOTLYENV=window.PLOTLYENV || {};                                    if (document.getElementById(\"a1b79e2c-2a8f-4015-9800-5bbbf889a487\")) {                    Plotly.newPlot(                        \"a1b79e2c-2a8f-4015-9800-5bbbf889a487\",                        [{\"alignmentgroup\":\"True\",\"bingroup\":\"x\",\"hovertemplate\":\"Genre=%{x}<br>count=%{y}<extra></extra>\",\"legendgroup\":\"\",\"marker\":{\"color\":\"#636efa\",\"pattern\":{\"shape\":\"\"}},\"name\":\"\",\"offsetgroup\":\"\",\"orientation\":\"v\",\"showlegend\":false,\"type\":\"histogram\",\"x\":[\"Non Fiction\",\"Fiction\",\"Non Fiction\",\"Fiction\",\"Non Fiction\",\"Fiction\",\"Fiction\",\"Fiction\",\"Non Fiction\",\"Fiction\",\"Fiction\",\"Non Fiction\",\"Non Fiction\",\"Fiction\",\"Non Fiction\",\"Non Fiction\",\"Non Fiction\",\"Non Fiction\",\"Non Fiction\",\"Non Fiction\",\"Fiction\",\"Fiction\",\"Fiction\",\"Non Fiction\",\"Fiction\",\"Non Fiction\",\"Non Fiction\",\"Non Fiction\",\"Non Fiction\",\"Non Fiction\",\"Non Fiction\",\"Non Fiction\",\"Non Fiction\",\"Non Fiction\",\"Non Fiction\",\"Non Fiction\",\"Non Fiction\",\"Non Fiction\",\"Fiction\",\"Non Fiction\",\"Fiction\",\"Fiction\",\"Fiction\",\"Non Fiction\",\"Non Fiction\",\"Non Fiction\",\"Fiction\",\"Fiction\",\"Fiction\",\"Non Fiction\",\"Non Fiction\",\"Non Fiction\",\"Non Fiction\",\"Fiction\",\"Non Fiction\",\"Non Fiction\",\"Fiction\",\"Fiction\",\"Non Fiction\",\"Non Fiction\",\"Fiction\",\"Fiction\",\"Fiction\",\"Fiction\",\"Fiction\",\"Fiction\",\"Fiction\",\"Non Fiction\",\"Non Fiction\",\"Non Fiction\",\"Non Fiction\",\"Fiction\",\"Fiction\",\"Fiction\",\"Non Fiction\",\"Fiction\",\"Fiction\",\"Fiction\",\"Non Fiction\",\"Fiction\",\"Fiction\",\"Fiction\",\"Fiction\",\"Fiction\",\"Fiction\",\"Fiction\",\"Fiction\",\"Fiction\",\"Fiction\",\"Non Fiction\",\"Non Fiction\",\"Non Fiction\",\"Non Fiction\",\"Non Fiction\",\"Non Fiction\",\"Fiction\",\"Fiction\",\"Non Fiction\",\"Non Fiction\",\"Non Fiction\",\"Fiction\",\"Fiction\",\"Fiction\",\"Non Fiction\",\"Fiction\",\"Fiction\",\"Fiction\",\"Fiction\",\"Fiction\",\"Non Fiction\",\"Non Fiction\",\"Non Fiction\",\"Non Fiction\",\"Non Fiction\",\"Non Fiction\",\"Non Fiction\",\"Fiction\",\"Non Fiction\",\"Fiction\",\"Fiction\",\"Fiction\",\"Non Fiction\",\"Non Fiction\",\"Fiction\",\"Fiction\",\"Fiction\",\"Fiction\",\"Fiction\",\"Non Fiction\",\"Non Fiction\",\"Non Fiction\",\"Non Fiction\",\"Fiction\",\"Fiction\",\"Non Fiction\",\"Fiction\",\"Fiction\",\"Fiction\",\"Non Fiction\",\"Non Fiction\",\"Non Fiction\",\"Non Fiction\",\"Non Fiction\",\"Fiction\",\"Fiction\",\"Fiction\",\"Fiction\",\"Fiction\",\"Non Fiction\",\"Fiction\",\"Non Fiction\",\"Non Fiction\",\"Non Fiction\",\"Fiction\",\"Fiction\",\"Fiction\",\"Fiction\",\"Fiction\",\"Non Fiction\",\"Fiction\",\"Non Fiction\",\"Non Fiction\",\"Non Fiction\",\"Non Fiction\",\"Non Fiction\",\"Non Fiction\",\"Non Fiction\",\"Non Fiction\",\"Non Fiction\",\"Non Fiction\",\"Non Fiction\",\"Non Fiction\",\"Non Fiction\",\"Non Fiction\",\"Non Fiction\",\"Non Fiction\",\"Non Fiction\",\"Fiction\",\"Fiction\",\"Fiction\",\"Fiction\",\"Non Fiction\",\"Fiction\",\"Fiction\",\"Non Fiction\",\"Non Fiction\",\"Non Fiction\",\"Non Fiction\",\"Non Fiction\",\"Non Fiction\",\"Non Fiction\",\"Non Fiction\",\"Non Fiction\",\"Fiction\",\"Fiction\",\"Non Fiction\",\"Non Fiction\",\"Non Fiction\",\"Non Fiction\",\"Non Fiction\",\"Non Fiction\",\"Non Fiction\",\"Non Fiction\",\"Non Fiction\",\"Non Fiction\",\"Non Fiction\",\"Non Fiction\",\"Fiction\",\"Non Fiction\",\"Non Fiction\",\"Non Fiction\",\"Non Fiction\",\"Non Fiction\",\"Non Fiction\",\"Non Fiction\",\"Non Fiction\",\"Non Fiction\",\"Non Fiction\",\"Fiction\",\"Fiction\",\"Fiction\",\"Fiction\",\"Non Fiction\",\"Fiction\",\"Fiction\",\"Non Fiction\",\"Non Fiction\",\"Non Fiction\",\"Non Fiction\",\"Non Fiction\",\"Non Fiction\",\"Non Fiction\",\"Non Fiction\",\"Non Fiction\",\"Non Fiction\",\"Non Fiction\",\"Fiction\",\"Fiction\",\"Fiction\",\"Non Fiction\",\"Non Fiction\",\"Fiction\",\"Non Fiction\",\"Non Fiction\",\"Non Fiction\",\"Fiction\",\"Fiction\",\"Fiction\",\"Fiction\",\"Fiction\",\"Fiction\",\"Fiction\",\"Fiction\",\"Fiction\",\"Fiction\",\"Non Fiction\",\"Non Fiction\",\"Non Fiction\",\"Fiction\",\"Fiction\",\"Non Fiction\",\"Non Fiction\",\"Non Fiction\",\"Non Fiction\",\"Fiction\",\"Fiction\",\"Fiction\",\"Fiction\",\"Fiction\",\"Non Fiction\",\"Non Fiction\",\"Non Fiction\",\"Non Fiction\",\"Non Fiction\",\"Non Fiction\",\"Non Fiction\",\"Non Fiction\",\"Non Fiction\",\"Non Fiction\",\"Non Fiction\",\"Non Fiction\",\"Fiction\",\"Non Fiction\",\"Non Fiction\",\"Non Fiction\",\"Non Fiction\",\"Fiction\",\"Fiction\",\"Fiction\",\"Fiction\",\"Non Fiction\",\"Non Fiction\",\"Fiction\",\"Non Fiction\",\"Non Fiction\",\"Non Fiction\",\"Non Fiction\",\"Non Fiction\",\"Non Fiction\",\"Fiction\",\"Non Fiction\",\"Non Fiction\",\"Non Fiction\",\"Fiction\",\"Non Fiction\",\"Non Fiction\",\"Non Fiction\",\"Non Fiction\",\"Non Fiction\",\"Non Fiction\",\"Non Fiction\",\"Non Fiction\",\"Non Fiction\",\"Non Fiction\",\"Non Fiction\",\"Fiction\",\"Non Fiction\",\"Non Fiction\",\"Non Fiction\",\"Non Fiction\",\"Non Fiction\",\"Non Fiction\",\"Non Fiction\",\"Non Fiction\",\"Non Fiction\",\"Non Fiction\",\"Non Fiction\",\"Non Fiction\",\"Non Fiction\",\"Non Fiction\",\"Non Fiction\",\"Non Fiction\",\"Non Fiction\",\"Non Fiction\",\"Non Fiction\",\"Non Fiction\",\"Non Fiction\",\"Non Fiction\",\"Fiction\",\"Non Fiction\",\"Fiction\",\"Fiction\",\"Non Fiction\",\"Fiction\",\"Non Fiction\",\"Non Fiction\",\"Non Fiction\",\"Fiction\",\"Fiction\",\"Fiction\",\"Fiction\",\"Non Fiction\",\"Non Fiction\",\"Fiction\",\"Non Fiction\",\"Non Fiction\",\"Non Fiction\",\"Fiction\",\"Non Fiction\",\"Non Fiction\",\"Fiction\",\"Fiction\",\"Fiction\",\"Non Fiction\",\"Fiction\",\"Fiction\",\"Fiction\",\"Fiction\",\"Fiction\",\"Non Fiction\",\"Non Fiction\",\"Non Fiction\",\"Non Fiction\",\"Non Fiction\",\"Non Fiction\",\"Non Fiction\",\"Non Fiction\",\"Non Fiction\",\"Non Fiction\",\"Non Fiction\",\"Non Fiction\",\"Fiction\",\"Fiction\",\"Fiction\",\"Fiction\",\"Fiction\",\"Fiction\",\"Fiction\",\"Fiction\",\"Fiction\",\"Fiction\",\"Fiction\",\"Fiction\",\"Fiction\",\"Fiction\",\"Fiction\",\"Fiction\",\"Fiction\",\"Fiction\",\"Fiction\",\"Fiction\",\"Fiction\",\"Fiction\",\"Fiction\",\"Fiction\",\"Fiction\",\"Fiction\",\"Fiction\",\"Fiction\",\"Fiction\",\"Fiction\",\"Fiction\",\"Non Fiction\",\"Non Fiction\",\"Non Fiction\",\"Non Fiction\",\"Non Fiction\",\"Non Fiction\",\"Fiction\",\"Fiction\",\"Fiction\",\"Non Fiction\",\"Non Fiction\",\"Non Fiction\",\"Non Fiction\",\"Non Fiction\",\"Non Fiction\",\"Fiction\",\"Fiction\",\"Fiction\",\"Non Fiction\",\"Non Fiction\",\"Fiction\",\"Fiction\",\"Fiction\",\"Fiction\",\"Non Fiction\",\"Fiction\",\"Fiction\",\"Non Fiction\",\"Non Fiction\",\"Non Fiction\",\"Non Fiction\",\"Non Fiction\",\"Non Fiction\",\"Fiction\",\"Non Fiction\",\"Non Fiction\",\"Non Fiction\",\"Non Fiction\",\"Non Fiction\",\"Fiction\",\"Fiction\",\"Non Fiction\",\"Fiction\",\"Fiction\",\"Fiction\",\"Non Fiction\",\"Fiction\",\"Fiction\",\"Fiction\",\"Fiction\",\"Fiction\",\"Fiction\",\"Non Fiction\",\"Non Fiction\",\"Non Fiction\",\"Non Fiction\",\"Fiction\",\"Fiction\",\"Fiction\",\"Non Fiction\",\"Non Fiction\",\"Fiction\",\"Fiction\",\"Non Fiction\",\"Fiction\",\"Fiction\",\"Fiction\",\"Fiction\",\"Fiction\",\"Fiction\",\"Fiction\",\"Non Fiction\",\"Non Fiction\",\"Non Fiction\",\"Fiction\",\"Fiction\",\"Fiction\",\"Fiction\",\"Fiction\",\"Fiction\",\"Non Fiction\",\"Non Fiction\",\"Non Fiction\",\"Non Fiction\",\"Fiction\",\"Non Fiction\",\"Non Fiction\",\"Non Fiction\",\"Non Fiction\",\"Non Fiction\",\"Non Fiction\",\"Non Fiction\",\"Non Fiction\",\"Fiction\",\"Fiction\",\"Fiction\",\"Fiction\",\"Fiction\",\"Non Fiction\",\"Fiction\",\"Non Fiction\",\"Fiction\",\"Fiction\",\"Non Fiction\",\"Non Fiction\",\"Non Fiction\",\"Non Fiction\",\"Non Fiction\",\"Fiction\",\"Non Fiction\",\"Non Fiction\",\"Non Fiction\",\"Fiction\",\"Fiction\",\"Non Fiction\",\"Non Fiction\",\"Fiction\",\"Fiction\",\"Non Fiction\",\"Non Fiction\",\"Non Fiction\",\"Non Fiction\",\"Fiction\",\"Fiction\",\"Non Fiction\",\"Non Fiction\",\"Fiction\",\"Non Fiction\",\"Fiction\",\"Fiction\",\"Fiction\",\"Fiction\",\"Fiction\",\"Fiction\",\"Non Fiction\",\"Non Fiction\",\"Non Fiction\",\"Non Fiction\"],\"xaxis\":\"x\",\"yaxis\":\"y\"}],                        {\"barmode\":\"relative\",\"legend\":{\"tracegroupgap\":0},\"template\":{\"data\":{\"bar\":[{\"error_x\":{\"color\":\"#2a3f5f\"},\"error_y\":{\"color\":\"#2a3f5f\"},\"marker\":{\"line\":{\"color\":\"#E5ECF6\",\"width\":0.5},\"pattern\":{\"fillmode\":\"overlay\",\"size\":10,\"solidity\":0.2}},\"type\":\"bar\"}],\"barpolar\":[{\"marker\":{\"line\":{\"color\":\"#E5ECF6\",\"width\":0.5},\"pattern\":{\"fillmode\":\"overlay\",\"size\":10,\"solidity\":0.2}},\"type\":\"barpolar\"}],\"carpet\":[{\"aaxis\":{\"endlinecolor\":\"#2a3f5f\",\"gridcolor\":\"white\",\"linecolor\":\"white\",\"minorgridcolor\":\"white\",\"startlinecolor\":\"#2a3f5f\"},\"baxis\":{\"endlinecolor\":\"#2a3f5f\",\"gridcolor\":\"white\",\"linecolor\":\"white\",\"minorgridcolor\":\"white\",\"startlinecolor\":\"#2a3f5f\"},\"type\":\"carpet\"}],\"choropleth\":[{\"colorbar\":{\"outlinewidth\":0,\"ticks\":\"\"},\"type\":\"choropleth\"}],\"contour\":[{\"colorbar\":{\"outlinewidth\":0,\"ticks\":\"\"},\"colorscale\":[[0.0,\"#0d0887\"],[0.1111111111111111,\"#46039f\"],[0.2222222222222222,\"#7201a8\"],[0.3333333333333333,\"#9c179e\"],[0.4444444444444444,\"#bd3786\"],[0.5555555555555556,\"#d8576b\"],[0.6666666666666666,\"#ed7953\"],[0.7777777777777778,\"#fb9f3a\"],[0.8888888888888888,\"#fdca26\"],[1.0,\"#f0f921\"]],\"type\":\"contour\"}],\"contourcarpet\":[{\"colorbar\":{\"outlinewidth\":0,\"ticks\":\"\"},\"type\":\"contourcarpet\"}],\"heatmap\":[{\"colorbar\":{\"outlinewidth\":0,\"ticks\":\"\"},\"colorscale\":[[0.0,\"#0d0887\"],[0.1111111111111111,\"#46039f\"],[0.2222222222222222,\"#7201a8\"],[0.3333333333333333,\"#9c179e\"],[0.4444444444444444,\"#bd3786\"],[0.5555555555555556,\"#d8576b\"],[0.6666666666666666,\"#ed7953\"],[0.7777777777777778,\"#fb9f3a\"],[0.8888888888888888,\"#fdca26\"],[1.0,\"#f0f921\"]],\"type\":\"heatmap\"}],\"heatmapgl\":[{\"colorbar\":{\"outlinewidth\":0,\"ticks\":\"\"},\"colorscale\":[[0.0,\"#0d0887\"],[0.1111111111111111,\"#46039f\"],[0.2222222222222222,\"#7201a8\"],[0.3333333333333333,\"#9c179e\"],[0.4444444444444444,\"#bd3786\"],[0.5555555555555556,\"#d8576b\"],[0.6666666666666666,\"#ed7953\"],[0.7777777777777778,\"#fb9f3a\"],[0.8888888888888888,\"#fdca26\"],[1.0,\"#f0f921\"]],\"type\":\"heatmapgl\"}],\"histogram\":[{\"marker\":{\"pattern\":{\"fillmode\":\"overlay\",\"size\":10,\"solidity\":0.2}},\"type\":\"histogram\"}],\"histogram2d\":[{\"colorbar\":{\"outlinewidth\":0,\"ticks\":\"\"},\"colorscale\":[[0.0,\"#0d0887\"],[0.1111111111111111,\"#46039f\"],[0.2222222222222222,\"#7201a8\"],[0.3333333333333333,\"#9c179e\"],[0.4444444444444444,\"#bd3786\"],[0.5555555555555556,\"#d8576b\"],[0.6666666666666666,\"#ed7953\"],[0.7777777777777778,\"#fb9f3a\"],[0.8888888888888888,\"#fdca26\"],[1.0,\"#f0f921\"]],\"type\":\"histogram2d\"}],\"histogram2dcontour\":[{\"colorbar\":{\"outlinewidth\":0,\"ticks\":\"\"},\"colorscale\":[[0.0,\"#0d0887\"],[0.1111111111111111,\"#46039f\"],[0.2222222222222222,\"#7201a8\"],[0.3333333333333333,\"#9c179e\"],[0.4444444444444444,\"#bd3786\"],[0.5555555555555556,\"#d8576b\"],[0.6666666666666666,\"#ed7953\"],[0.7777777777777778,\"#fb9f3a\"],[0.8888888888888888,\"#fdca26\"],[1.0,\"#f0f921\"]],\"type\":\"histogram2dcontour\"}],\"mesh3d\":[{\"colorbar\":{\"outlinewidth\":0,\"ticks\":\"\"},\"type\":\"mesh3d\"}],\"parcoords\":[{\"line\":{\"colorbar\":{\"outlinewidth\":0,\"ticks\":\"\"}},\"type\":\"parcoords\"}],\"pie\":[{\"automargin\":true,\"type\":\"pie\"}],\"scatter\":[{\"marker\":{\"colorbar\":{\"outlinewidth\":0,\"ticks\":\"\"}},\"type\":\"scatter\"}],\"scatter3d\":[{\"line\":{\"colorbar\":{\"outlinewidth\":0,\"ticks\":\"\"}},\"marker\":{\"colorbar\":{\"outlinewidth\":0,\"ticks\":\"\"}},\"type\":\"scatter3d\"}],\"scattercarpet\":[{\"marker\":{\"colorbar\":{\"outlinewidth\":0,\"ticks\":\"\"}},\"type\":\"scattercarpet\"}],\"scattergeo\":[{\"marker\":{\"colorbar\":{\"outlinewidth\":0,\"ticks\":\"\"}},\"type\":\"scattergeo\"}],\"scattergl\":[{\"marker\":{\"colorbar\":{\"outlinewidth\":0,\"ticks\":\"\"}},\"type\":\"scattergl\"}],\"scattermapbox\":[{\"marker\":{\"colorbar\":{\"outlinewidth\":0,\"ticks\":\"\"}},\"type\":\"scattermapbox\"}],\"scatterpolar\":[{\"marker\":{\"colorbar\":{\"outlinewidth\":0,\"ticks\":\"\"}},\"type\":\"scatterpolar\"}],\"scatterpolargl\":[{\"marker\":{\"colorbar\":{\"outlinewidth\":0,\"ticks\":\"\"}},\"type\":\"scatterpolargl\"}],\"scatterternary\":[{\"marker\":{\"colorbar\":{\"outlinewidth\":0,\"ticks\":\"\"}},\"type\":\"scatterternary\"}],\"surface\":[{\"colorbar\":{\"outlinewidth\":0,\"ticks\":\"\"},\"colorscale\":[[0.0,\"#0d0887\"],[0.1111111111111111,\"#46039f\"],[0.2222222222222222,\"#7201a8\"],[0.3333333333333333,\"#9c179e\"],[0.4444444444444444,\"#bd3786\"],[0.5555555555555556,\"#d8576b\"],[0.6666666666666666,\"#ed7953\"],[0.7777777777777778,\"#fb9f3a\"],[0.8888888888888888,\"#fdca26\"],[1.0,\"#f0f921\"]],\"type\":\"surface\"}],\"table\":[{\"cells\":{\"fill\":{\"color\":\"#EBF0F8\"},\"line\":{\"color\":\"white\"}},\"header\":{\"fill\":{\"color\":\"#C8D4E3\"},\"line\":{\"color\":\"white\"}},\"type\":\"table\"}]},\"layout\":{\"annotationdefaults\":{\"arrowcolor\":\"#2a3f5f\",\"arrowhead\":0,\"arrowwidth\":1},\"autotypenumbers\":\"strict\",\"coloraxis\":{\"colorbar\":{\"outlinewidth\":0,\"ticks\":\"\"}},\"colorscale\":{\"diverging\":[[0,\"#8e0152\"],[0.1,\"#c51b7d\"],[0.2,\"#de77ae\"],[0.3,\"#f1b6da\"],[0.4,\"#fde0ef\"],[0.5,\"#f7f7f7\"],[0.6,\"#e6f5d0\"],[0.7,\"#b8e186\"],[0.8,\"#7fbc41\"],[0.9,\"#4d9221\"],[1,\"#276419\"]],\"sequential\":[[0.0,\"#0d0887\"],[0.1111111111111111,\"#46039f\"],[0.2222222222222222,\"#7201a8\"],[0.3333333333333333,\"#9c179e\"],[0.4444444444444444,\"#bd3786\"],[0.5555555555555556,\"#d8576b\"],[0.6666666666666666,\"#ed7953\"],[0.7777777777777778,\"#fb9f3a\"],[0.8888888888888888,\"#fdca26\"],[1.0,\"#f0f921\"]],\"sequentialminus\":[[0.0,\"#0d0887\"],[0.1111111111111111,\"#46039f\"],[0.2222222222222222,\"#7201a8\"],[0.3333333333333333,\"#9c179e\"],[0.4444444444444444,\"#bd3786\"],[0.5555555555555556,\"#d8576b\"],[0.6666666666666666,\"#ed7953\"],[0.7777777777777778,\"#fb9f3a\"],[0.8888888888888888,\"#fdca26\"],[1.0,\"#f0f921\"]]},\"colorway\":[\"#636efa\",\"#EF553B\",\"#00cc96\",\"#ab63fa\",\"#FFA15A\",\"#19d3f3\",\"#FF6692\",\"#B6E880\",\"#FF97FF\",\"#FECB52\"],\"font\":{\"color\":\"#2a3f5f\"},\"geo\":{\"bgcolor\":\"white\",\"lakecolor\":\"white\",\"landcolor\":\"#E5ECF6\",\"showlakes\":true,\"showland\":true,\"subunitcolor\":\"white\"},\"hoverlabel\":{\"align\":\"left\"},\"hovermode\":\"closest\",\"mapbox\":{\"style\":\"light\"},\"paper_bgcolor\":\"white\",\"plot_bgcolor\":\"#E5ECF6\",\"polar\":{\"angularaxis\":{\"gridcolor\":\"white\",\"linecolor\":\"white\",\"ticks\":\"\"},\"bgcolor\":\"#E5ECF6\",\"radialaxis\":{\"gridcolor\":\"white\",\"linecolor\":\"white\",\"ticks\":\"\"}},\"scene\":{\"xaxis\":{\"backgroundcolor\":\"#E5ECF6\",\"gridcolor\":\"white\",\"gridwidth\":2,\"linecolor\":\"white\",\"showbackground\":true,\"ticks\":\"\",\"zerolinecolor\":\"white\"},\"yaxis\":{\"backgroundcolor\":\"#E5ECF6\",\"gridcolor\":\"white\",\"gridwidth\":2,\"linecolor\":\"white\",\"showbackground\":true,\"ticks\":\"\",\"zerolinecolor\":\"white\"},\"zaxis\":{\"backgroundcolor\":\"#E5ECF6\",\"gridcolor\":\"white\",\"gridwidth\":2,\"linecolor\":\"white\",\"showbackground\":true,\"ticks\":\"\",\"zerolinecolor\":\"white\"}},\"shapedefaults\":{\"line\":{\"color\":\"#2a3f5f\"}},\"ternary\":{\"aaxis\":{\"gridcolor\":\"white\",\"linecolor\":\"white\",\"ticks\":\"\"},\"baxis\":{\"gridcolor\":\"white\",\"linecolor\":\"white\",\"ticks\":\"\"},\"bgcolor\":\"#E5ECF6\",\"caxis\":{\"gridcolor\":\"white\",\"linecolor\":\"white\",\"ticks\":\"\"}},\"title\":{\"x\":0.05},\"xaxis\":{\"automargin\":true,\"gridcolor\":\"white\",\"linecolor\":\"white\",\"ticks\":\"\",\"title\":{\"standoff\":15},\"zerolinecolor\":\"white\",\"zerolinewidth\":2},\"yaxis\":{\"automargin\":true,\"gridcolor\":\"white\",\"linecolor\":\"white\",\"ticks\":\"\",\"title\":{\"standoff\":15},\"zerolinecolor\":\"white\",\"zerolinewidth\":2}}},\"title\":{\"text\":\"Genero\"},\"xaxis\":{\"anchor\":\"y\",\"categoryorder\":\"total descending\",\"domain\":[0.0,1.0],\"title\":{\"text\":\"Genre\"}},\"yaxis\":{\"anchor\":\"x\",\"domain\":[0.0,1.0],\"title\":{\"text\":\"count\"}}},                        {\"responsive\": true}                    ).then(function(){\n                            \nvar gd = document.getElementById('a1b79e2c-2a8f-4015-9800-5bbbf889a487');\nvar x = new MutationObserver(function (mutations, observer) {{\n        var display = window.getComputedStyle(gd).display;\n        if (!display || display === 'none') {{\n            console.log([gd, 'removed!']);\n            Plotly.purge(gd);\n            observer.disconnect();\n        }}\n}});\n\n// Listen for the removal of the full notebook cells\nvar notebookContainer = gd.closest('#notebook-container');\nif (notebookContainer) {{\n    x.observe(notebookContainer, {childList: true});\n}}\n\n// Listen for the clearing of the current output cell\nvar outputEl = gd.closest('.output');\nif (outputEl) {{\n    x.observe(outputEl, {childList: true});\n}}\n\n                        })                };                            </script>        </div>\n</body>\n</html>"
     },
     "metadata": {},
     "output_type": "display_data"
    }
   ]
  },
  {
   "cell_type": "markdown",
   "source": "## Calificacion del Usuario\n- La puntuación **media** y la **mediana** están bastante próximas entre sí. (**Mediana** = 4.7, **Media** = 4.618)\n- Dado que la puntuación** mediana es mayor que la puntuación media**, podemos esperar **valores atípicos del lado mínimo**.\n- Lo más probable es que dejemos una **distribución sesgada**. Pero aún podemos esperar una distribución cercana a la normal de la variable.",
   "metadata": {
    "tags": [],
    "cell_id": "00015-34818860-3ace-4b57-9b68-05fb445aa204",
    "deepnote_cell_type": "markdown"
   }
  },
  {
   "cell_type": "code",
   "metadata": {
    "tags": [],
    "cell_id": "00016-f6b257b7-b263-450a-9d93-5534cc411340",
    "deepnote_to_be_reexecuted": false,
    "source_hash": "3265fa88",
    "execution_start": 1627079959519,
    "execution_millis": 20,
    "deepnote_cell_type": "code"
   },
   "source": "df['User Rating'].describe(include='all')",
   "execution_count": null,
   "outputs": [
    {
     "output_type": "execute_result",
     "execution_count": 24,
     "data": {
      "text/plain": "count    550.000000\nmean       4.618364\nstd        0.226980\nmin        3.300000\n25%        4.500000\n50%        4.700000\n75%        4.800000\nmax        4.900000\nName: User Rating, dtype: float64"
     },
     "metadata": {}
    }
   ]
  },
  {
   "cell_type": "markdown",
   "source": "- Como habiamos mencionado realmente tenemos valores atipicos del lado minimo.\n- La distribucion esta ligeramente sesgada a la izquierda, pero esta cercaba a la distribucion normal.\n- El libro con la calificacion mas baja es **J.K.Rowling's 'Casual Vacancy'**",
   "metadata": {
    "tags": [],
    "cell_id": "00018-41981fd4-6521-4d1f-a06a-f34f7e77ea5f",
    "deepnote_cell_type": "markdown"
   }
  },
  {
   "cell_type": "code",
   "metadata": {
    "tags": [],
    "cell_id": "00018-cea25b50-7ee8-42c0-96a9-b9ba64adeec4",
    "deepnote_to_be_reexecuted": false,
    "source_hash": "1311ce8e",
    "execution_start": 1627081006566,
    "execution_millis": 147,
    "deepnote_cell_type": "code"
   },
   "source": "fig = px.histogram(df, x='User Rating', \n    title='Calificacion del usuario',\n    hover_data=df[['Author','User Rating']],\n    marginal=\"box\"\n)\nfig.show()",
   "execution_count": null,
   "outputs": [
    {
     "data": {
      "text/html": "<html>\n<head><meta charset=\"utf-8\" /></head>\n<body>\n    <div>            <script src=\"https://cdnjs.cloudflare.com/ajax/libs/mathjax/2.7.5/MathJax.js?config=TeX-AMS-MML_SVG\"></script><script type=\"text/javascript\">if (window.MathJax) {MathJax.Hub.Config({SVG: {font: \"STIX-Web\"}});}</script>                <script type=\"text/javascript\">window.PlotlyConfig = {MathJaxConfig: 'local'};</script>\n        <script src=\"https://cdn.plot.ly/plotly-2.2.0.min.js\"></script>                <div id=\"e6d2e3ac-dadd-4c17-8e16-41c7945b209e\" class=\"plotly-graph-div\" style=\"height:525px; width:100%;\"></div>            <script type=\"text/javascript\">                                    window.PLOTLYENV=window.PLOTLYENV || {};                                    if (document.getElementById(\"e6d2e3ac-dadd-4c17-8e16-41c7945b209e\")) {                    Plotly.newPlot(                        \"e6d2e3ac-dadd-4c17-8e16-41c7945b209e\",                        [{\"alignmentgroup\":\"True\",\"bingroup\":\"x\",\"hovertemplate\":\"User Rating=%{x}<br>count=%{y}<extra></extra>\",\"legendgroup\":\"\",\"marker\":{\"color\":\"#636efa\",\"pattern\":{\"shape\":\"\"}},\"name\":\"\",\"offsetgroup\":\"\",\"orientation\":\"v\",\"showlegend\":false,\"type\":\"histogram\",\"x\":[4.7,4.6,4.7,4.7,4.8,4.4,4.7,4.7,4.7,4.6,4.6,4.6,4.6,4.5,4.6,4.5,4.6,4.4,4.5,4.8,4.6,4.6,3.9,4.6,4.3,4.6,4.7,4.2,4.6,4.6,4.8,4.7,4.8,4.8,4.8,4.7,4.7,4.7,4.6,4.5,4.9,4.9,4.8,4.6,4.8,4.5,4.7,4.7,4.7,4.7,4.7,4.7,4.7,4.3,4.8,4.8,4.6,4.6,4.8,4.4,4.6,4.3,4.2,4.8,4.8,4.8,4.8,4.6,4.6,4.5,4.5,4.8,4.8,4.8,4.6,4.6,4.6,4.5,4.6,4.7,4.8,4.9,4.9,4.9,4.9,4.9,4.9,4.9,4.8,4.6,4.5,4.5,4.3,4.5,4.5,4.7,4.7,4.7,4.7,4.7,4.6,4.6,4.7,4.4,4.4,4.5,3.8,3.8,4.5,4.2,4.7,4.7,4.7,4.7,4.7,4.4,4.7,4.4,4.6,4.6,4.6,4.5,4.6,4.8,4.8,4.8,4.8,4.8,4.6,4.6,4.6,4.6,3.6,4.8,4.6,4.0,4.0,4.0,4.6,4.5,4.5,4.5,4.5,4.8,4.8,4.8,4.9,4.9,4.6,4.4,4.8,4.9,4.8,4.9,4.0,4.9,4.9,4.9,4.7,4.8,4.8,4.7,4.7,4.4,4.4,4.8,4.7,4.7,4.7,4.7,4.7,4.3,4.8,4.8,4.9,4.7,4.8,4.6,4.8,4.8,4.3,4.4,4.1,4.6,4.4,4.4,4.8,4.9,4.9,4.9,4.9,4.9,4.9,4.6,4.5,4.6,4.5,4.6,4.7,4.7,4.6,4.6,4.8,4.8,4.5,4.5,4.5,4.9,4.6,4.6,4.6,4.6,4.6,4.5,4.5,4.4,4.8,4.5,4.1,4.9,4.5,4.5,4.2,4.8,4.8,4.8,4.5,4.7,4.8,4.7,4.7,4.7,4.4,4.6,4.6,4.6,4.5,4.5,4.5,4.8,4.8,4.6,4.7,4.6,4.9,4.9,4.9,4.9,4.9,4.9,4.9,4.9,4.9,4.8,4.2,4.6,4.6,4.5,4.3,4.6,4.6,4.6,4.7,4.7,4.8,4.8,4.8,4.8,4.7,4.3,4.3,4.5,4.5,4.5,4.5,4.5,4.5,4.5,4.5,4.5,4.5,4.8,4.6,4.6,4.7,4.7,4.6,4.6,4.9,4.9,4.8,4.8,4.6,4.8,4.8,4.7,4.7,4.8,4.1,4.7,4.6,4.6,4.6,4.9,4.0,4.0,4.0,4.0,4.0,4.0,4.0,4.0,4.0,4.5,4.6,4.5,4.4,4.4,4.3,4.3,4.7,4.7,4.7,4.7,4.7,4.8,4.8,4.8,4.8,4.8,4.8,4.6,4.6,4.6,4.6,4.7,4.7,4.7,4.7,4.6,4.7,4.7,4.7,4.8,4.2,4.8,4.7,4.6,4.6,4.8,4.8,4.8,4.8,3.3,4.7,4.3,4.3,4.3,4.8,4.4,4.8,4.8,4.8,4.1,4.0,4.7,4.7,4.7,4.7,4.6,4.6,4.6,4.6,4.6,4.6,4.7,4.7,4.7,4.7,4.7,4.7,4.8,4.1,4.1,4.7,4.7,4.7,4.7,4.4,4.4,4.8,4.8,3.9,3.9,4.4,4.4,4.4,4.5,4.7,4.3,4.6,4.8,4.8,4.8,4.8,4.8,4.8,4.7,4.7,4.7,4.8,4.8,4.7,4.7,4.7,4.3,4.3,4.7,4.8,4.8,4.9,4.4,4.4,4.5,4.5,4.5,4.5,4.4,4.8,4.2,4.8,4.9,4.8,4.7,4.5,4.8,4.6,4.8,4.8,4.4,4.4,4.4,4.4,4.4,4.3,4.3,4.8,4.8,4.8,4.5,4.4,4.8,4.8,4.6,4.3,4.3,4.6,4.6,4.8,4.6,4.6,4.6,4.5,4.8,4.6,4.6,4.6,4.7,4.7,4.7,4.4,4.4,4.7,4.7,4.8,4.7,4.9,4.9,4.9,4.9,4.9,4.9,4.9,4.6,4.6,4.6,4.9,4.9,4.9,4.9,4.8,4.8,4.7,4.7,4.6,4.6,4.5,4.5,4.3,4.3,4.6,4.6,4.6,4.6,4.3,4.8,4.8,4.8,4.8,4.8,4.6,4.8,4.5,4.7,4.5,4.8,4.8,4.8,4.8,4.8,4.3,4.9,4.8,4.7,4.8,4.5,4.6,4.7,4.7,4.8,4.4,4.4,4.4,4.8,4.8,4.8,4.6,4.4,4.5,4.2,4.8,4.8,4.8,4.8,4.8,4.9,4.7,4.7,4.7,4.7],\"xaxis\":\"x\",\"yaxis\":\"y\"},{\"alignmentgroup\":\"True\",\"customdata\":[[\"JJ Smith\"],[\"Stephen King\"],[\"Jordan B. Peterson\"],[\"George Orwell\"],[\"National Geographic Kids\"],[\"George R. R. Martin\"],[\"George R. R. Martin\"],[\"Amor Towles\"],[\"James Comey\"],[\"Fredrik Backman\"],[\"Fredrik Backman\"],[\"Larry Schweikart\"],[\"Jaycee Dugard\"],[\"Madeleine L'Engle\"],[\"Steve Harvey\"],[\"Adult Coloring Book Designs\"],[\"Blue Star Coloring\"],[\"Blue Star Coloring\"],[\"Coloring Books for Adults\"],[\"Ron Chernow\"],[\"Anthony Doerr\"],[\"Anthony Doerr\"],[\"Veronica Roth\"],[\"Chris Kyle\"],[\"Khaled Hosseini\"],[\"Glenn Beck\"],[\"Neil deGrasse Tyson\"],[\"Mark Twain\"],[\"DK\"],[\"Angie Grace\"],[\"Ina Garten\"],[\"Ina Garten\"],[\"Michelle Obama\"],[\"Michelle Obama\"],[\"Atul Gawande\"],[\"Ta-Nehisi Coates\"],[\"Ta-Nehisi Coates\"],[\"Bruce Springsteen\"],[\"Stephenie Meyer\"],[\"Glenn Beck\"],[\"Bill Martin Jr.\"],[\"Bill Martin Jr.\"],[\"Jeff Kinney\"],[\"Sasha O'Hara\"],[\"David Goggins\"],[\"Thomas Piketty\"],[\"Suzanne Collins\"],[\"Suzanne Collins\"],[\"Suzanne Collins\"],[\"Chrissy Teigen\"],[\"Francis Chan\"],[\"Francis Chan\"],[\"Francis Chan\"],[\"Kevin Kwan\"],[\"Marjorie Sarnat\"],[\"Marjorie Sarnat\"],[\"Abraham Verghese\"],[\"Abraham Verghese\"],[\"Brene\\u0301 Brown\"],[\"Malcolm Gladwell\"],[\"Charlaine Harris\"],[\"Charlaine Harris\"],[\"Charlaine Harris\"],[\"Rod Campbell\"],[\"Rod Campbell\"],[\"Rod Campbell\"],[\"Rod Campbell\"],[\"George W. Bush\"],[\"Tony Hsieh\"],[\"American Psychiatric Association\"],[\"American Psychiatric Association\"],[\"Jeff Kinney\"],[\"Jeff Kinney\"],[\"Jeff Kinney\"],[\"M Prefontaine\"],[\"Veronica Roth\"],[\"Veronica Roth\"],[\"Veronica Roth\"],[\"Zhi Gang Sha\"],[\"Stephen King\"],[\"Jeff Kinney\"],[\"Dav Pilkey\"],[\"Dav Pilkey\"],[\"Dav Pilkey\"],[\"Dav Pilkey\"],[\"Dav Pilkey\"],[\"Dav Pilkey\"],[\"Dav Pilkey\"],[\"Jeff Kinney\"],[\"Marty Noble\"],[\"Daniel H. Pink\"],[\"David Zinczenko\"],[\"David Zinczenko\"],[\"Joel Fuhrman MD\"],[\"Joel Fuhrman MD\"],[\"Stephenie Meyer\"],[\"Stephenie Meyer\"],[\"Tara Westover\"],[\"Tara Westover\"],[\"Johanna Basford\"],[\"Ray Bradbury\"],[\"Ray Bradbury\"],[\"J.K. Rowling\"],[\"Bob Woodward\"],[\"E L James\"],[\"E L James\"],[\"E L James\"],[\"E L James\"],[\"E L James\"],[\"Michael Wolff\"],[\"Roger Priddy\"],[\"Roger Priddy\"],[\"Roger Priddy\"],[\"Roger Priddy\"],[\"Roger Priddy\"],[\"Michael Pollan\"],[\"RH Disney\"],[\"John Heilemann\"],[\"George R.R. Martin\"],[\"George R.R. Martin\"],[\"George R.R. Martin\"],[\"Peter A. Lillback\"],[\"Brian Kilmeade\"],[\"Giles Andreae\"],[\"Giles Andreae\"],[\"Giles Andreae\"],[\"Giles Andreae\"],[\"Giles Andreae\"],[\"Rachel Hollis\"],[\"Rachel Hollis\"],[\"Rachel Hollis\"],[\"Glenn Beck\"],[\"Harper Lee\"],[\"Adam Mansbach\"],[\"Sarah Palin\"],[\"Gillian Flynn\"],[\"Gillian Flynn\"],[\"Gillian Flynn\"],[\"Pretty Simple Press\"],[\"Jim Collins\"],[\"Jim Collins\"],[\"Jim Collins\"],[\"Jim Collins\"],[\"Margaret Wise Brown\"],[\"Margaret Wise Brown\"],[\"Margaret Wise Brown\"],[\"Sherri Duskey Rinker\"],[\"Sherri Duskey Rinker\"],[\"David Perlmutter MD\"],[\"E L James\"],[\"Raina Telgemeier\"],[\"Lin-Manuel Miranda\"],[\"Phil Robertson\"],[\"J.K. Rowling\"],[\"J.K. Rowling\"],[\"J. K. Rowling\"],[\"J.K. Rowling\"],[\"J.K. Rowling\"],[\"Scholastic\"],[\"J. K. Rowling\"],[\"Mitch Albom\"],[\"Todd Burpo\"],[\"Todd Burpo\"],[\"J. D. Vance\"],[\"J. D. Vance\"],[\"Joanna Gaines\"],[\"Dale Carnegie\"],[\"Dale Carnegie\"],[\"Dale Carnegie\"],[\"Dale Carnegie\"],[\"Dale Carnegie\"],[\"Howard Stern\"],[\"Brandon Stanton\"],[\"Brandon Stanton\"],[\"Brandon Stanton\"],[\"Allie Brosh\"],[\"Hopscotch Girls\"],[\"James Patterson\"],[\"Ann Whitford Paul\"],[\"Ann Whitford Paul\"],[\"Gayle Forman\"],[\"Eric Larson\"],[\"Dan Brown\"],[\"Christopher Paolini\"],[\"Jennifer Smith\"],[\"Jennifer Smith\"],[\"Lysa TerKeurst\"],[\"Sarah Young\"],[\"Sarah Young\"],[\"Sarah Young\"],[\"Sarah Young\"],[\"Sarah Young\"],[\"Sarah Young\"],[\"RH Disney\"],[\"Stephen King\"],[\"David Grann\"],[\"Bill O'Reilly\"],[\"Bill O'Reilly\"],[\"Bill O'Reilly\"],[\"Bill O'Reilly\"],[\"Bill O'Reilly\"],[\"Bill O'Reilly\"],[\"Bill O'Reilly\"],[\"Anthony Bourdain\"],[\"Rob Elliott\"],[\"Rob Elliott\"],[\"Rob Elliott\"],[\"Jill Twiss\"],[\"Rob Elliott\"],[\"Rob Elliott\"],[\"Rob Elliott\"],[\"Rob Elliott\"],[\"Rob Elliott\"],[\"Sheryl Sandberg\"],[\"Walter Isaacson\"],[\"Paper Peony Press\"],[\"Mark R. Levin\"],[\"Keith Richards\"],[\"Chris Cleave\"],[\"Alice Schertle\"],[\"Celeste Ng\"],[\"John Green\"],[\"Rob Bell\"],[\"Robert Munsch\"],[\"Robert Munsch\"],[\"Joanna Gaines\"],[\"Ina Garten\"],[\"Admiral William H. McRaven\"],[\"Julia Child\"],[\"Rupi Kaur\"],[\"Rupi Kaur\"],[\"Rupi Kaur\"],[\"Adam Gasiewski\"],[\"Carol S. Dweck\"],[\"Carol S. Dweck\"],[\"Carol S. Dweck\"],[\"Suzanne Collins\"],[\"Suzanne Collins\"],[\"Suzanne Collins\"],[\"Crispin Boyer\"],[\"Amy Shields\"],[\"Stephenie Meyer\"],[\"Elie Wiesel\"],[\"Mark Owen\"],[\"Pete Souza\"],[\"Dr. Seuss\"],[\"Dr. Seuss\"],[\"Dr. Seuss\"],[\"Dr. Seuss\"],[\"Dr. Seuss\"],[\"Dr. Seuss\"],[\"Dr. Seuss\"],[\"Dr. Seuss\"],[\"Jeff Kinney\"],[\"Elizabeth Strout\"],[\"Ann Voskamp\"],[\"Ann Voskamp\"],[\"Sheryl Sandberg\"],[\"Dan Brown\"],[\"Christina Baker Kline\"],[\"Malcolm Gladwell\"],[\"Malcolm Gladwell\"],[\"Naomi Kleinberg\"],[\"Naomi Kleinberg\"],[\"Rick Riordan\"],[\"Wizards RPG Team\"],[\"Wizards RPG Team\"],[\"Wizards RPG Team\"],[\"Scholastic\"],[\"Eben Alexander\"],[\"Eben Alexander\"],[\"American Psychological Association\"],[\"American Psychological Association\"],[\"American Psychological Association\"],[\"American Psychological Association\"],[\"American Psychological Association\"],[\"American Psychological Association\"],[\"American Psychological Association\"],[\"American Psychological Association\"],[\"American Psychological Association\"],[\"American Psychological Association\"],[\"Golden Books\"],[\"Susan Cain\"],[\"Susan Cain\"],[\"David Platt\"],[\"David Platt\"],[\"Ernest Cline\"],[\"Ernest Cline\"],[\"Rush Limbaugh\"],[\"Rush Limbaugh\"],[\"Samin Nosrat\"],[\"Samin Nosrat\"],[\"Tatiana de Rosnay\"],[\"School Zone\"],[\"School Zone\"],[\"Johanna Basford\"],[\"Justin Halpern\"],[\"Tucker Carlson\"],[\"Ian K. Smith M.D.\"],[\"Charlaine Harris\"],[\"Zhi Gang Sha\"],[\"Walter Isaacson\"],[\"Walter Isaacson\"],[\"Nathan W. Pyle\"],[\"Gallup\"],[\"Gallup\"],[\"Gallup\"],[\"Gallup\"],[\"Gallup\"],[\"Gallup\"],[\"Gallup\"],[\"Gallup\"],[\"Gallup\"],[\"Steven D. Levitt\"],[\"Chip Heath\"],[\"John Grisham\"],[\"Doug Lemov\"],[\"Doug Lemov\"],[\"Mike Moreno\"],[\"Timothy Ferriss\"],[\"Gary Chapman\"],[\"Gary Chapman\"],[\"Gary Chapman\"],[\"Gary Chapman\"],[\"Gary Chapman\"],[\"Gary Chapman\"],[\"Gary Chapman\"],[\"Gary Chapman\"],[\"Gary Chapman\"],[\"Gary Chapman\"],[\"W. Cleon Skousen\"],[\"Stephen R. Covey\"],[\"Stephen R. Covey\"],[\"Stephen R. Covey\"],[\"Stephen R. Covey\"],[\"Stephen R. Covey\"],[\"Stephen R. Covey\"],[\"Stephen R. Covey\"],[\"Paulo Coelho\"],[\"Edward Klein\"],[\"Garth Stein\"],[\"Garth Stein\"],[\"Michael Lewis\"],[\"Rick Riordan\"],[\"Mark Hyman M.D.\"],[\"Bessel van der Kolk M.D.\"],[\"Bill Simmons\"],[\"Markus Zusak\"],[\"Markus Zusak\"],[\"B. J. Novak\"],[\"B. J. Novak\"],[\"Daniel James Brown\"],[\"Daniel James Brown\"],[\"J.K. Rowling\"],[\"Thomas Campbell\"],[\"Amy Ramos\"],[\"Amy Ramos\"],[\"John Grisham\"],[\"Delegates of the Constitutional\\u0085\"],[\"Jon Stewart\"],[\"Drew Daywalt\"],[\"Drew Daywalt\"],[\"Drew Daywalt\"],[\"Pierre Dukan\"],[\"Muriel Barbery\"],[\"John Green\"],[\"John Green\"],[\"John Green\"],[\"John Green\"],[\"Patrick Lencioni\"],[\"Patrick Lencioni\"],[\"Patrick Lencioni\"],[\"Patrick Lencioni\"],[\"Patrick Lencioni\"],[\"Gary Chapman\"],[\"Don Miguel Ruiz\"],[\"Don Miguel Ruiz\"],[\"Don Miguel Ruiz\"],[\"Don Miguel Ruiz\"],[\"Don Miguel Ruiz\"],[\"Don Miguel Ruiz\"],[\"Jeff Kinney\"],[\"Paula Hawkins\"],[\"Paula Hawkins\"],[\"Stieg Larsson\"],[\"Stieg Larsson\"],[\"Stieg Larsson\"],[\"Stieg Larsson\"],[\"Stieg Larsson\"],[\"Stieg Larsson\"],[\"Sandra Boynton\"],[\"Sandra Boynton\"],[\"Donna Tartt\"],[\"Donna Tartt\"],[\"F. Scott Fitzgerald\"],[\"F. Scott Fitzgerald\"],[\"F. Scott Fitzgerald\"],[\"John Grisham\"],[\"Mary Ann Shaffer\"],[\"Margaret Atwood\"],[\"Jonathan Cahn\"],[\"Angie Thomas\"],[\"Kathryn Stockett\"],[\"Kathryn Stockett\"],[\"Kathryn Stockett\"],[\"Kathryn Stockett\"],[\"Rick Riordan\"],[\"Suzanne Collins\"],[\"Suzanne Collins\"],[\"Suzanne Collins\"],[\"Suzanne Collins\"],[\"Suzanne Collins\"],[\"Rebecca Skloot\"],[\"Rebecca Skloot\"],[\"Rebecca Skloot\"],[\"Laurel Randolph\"],[\"Laurel Randolph\"],[\"Randy Pausch\"],[\"Rick Riordan\"],[\"Rick Riordan\"],[\"Patrick Thorpe\"],[\"Daniel Lipkowitz\"],[\"Daniel Lipkowitz\"],[\"Marie Kond\\u014d\"],[\"Marie Kond\\u014d\"],[\"Marie Kond\\u014d\"],[\"Marie Kond\\u014d\"],[\"John Grisham\"],[\"Rick Riordan\"],[\"Dan Brown\"],[\"Stephen Kendrick\"],[\"Chip Gaines\"],[\"Rick Riordan\"],[\"Andy Weir\"],[\"James Dashner\"],[\"Jeff Kinney\"],[\"The Washington Post\"],[\"Kristin Hannah\"],[\"Kristin Hannah\"],[\"The College Board\"],[\"The College Board\"],[\"The College Board\"],[\"The College Board\"],[\"The College Board\"],[\"The College Board\"],[\"Paula McLain\"],[\"Ree Drummond\"],[\"Ree Drummond\"],[\"Ree Drummond\"],[\"Dr. Steven R Gundry MD\"],[\"Dr. Steven R Gundry MD\"],[\"Deborah Diesen\"],[\"Deborah Diesen\"],[\"Charles Duhigg\"],[\"James Patterson\"],[\"John Grisham\"],[\"Rick Riordan\"],[\"F. A. Hayek\"],[\"Rick Riordan\"],[\"William P. Young\"],[\"William P. Young\"],[\"Stephenie Meyer\"],[\"Alex Michaelides\"],[\"Rick Riordan\"],[\"Mark Manson\"],[\"Mark Manson\"],[\"Mark Manson\"],[\"Rupi Kaur\"],[\"Jeff Kinney\"],[\"Rick Riordan\"],[\"Audrey Niffenegger\"],[\"Malcolm Gladwell\"],[\"Dave Ramsey\"],[\"Stephenie Meyer\"],[\"Jeff Kinney\"],[\"Dinah Bucholz\"],[\"Eric Carle\"],[\"Eric Carle\"],[\"Eric Carle\"],[\"Eric Carle\"],[\"Eric Carle\"],[\"Eric Carle\"],[\"Eric Carle\"],[\"Melissa Hartwig Urban\"],[\"Melissa Hartwig Urban\"],[\"Melissa Hartwig Urban\"],[\"Emily Winfield Martin\"],[\"Emily Winfield Martin\"],[\"Emily Winfield Martin\"],[\"Emily Winfield Martin\"],[\"Craig Smith\"],[\"Craig Smith\"],[\"David McCullough\"],[\"Charles Krauthammer\"],[\"Daniel Kahneman\"],[\"Daniel Kahneman\"],[\"Jay Asher\"],[\"Jon Meacham\"],[\"Greg Mortenson\"],[\"Greg Mortenson\"],[\"Thug Kitchen\"],[\"Thug Kitchen\"],[\"Thug Kitchen\"],[\"Thug Kitchen\"],[\"Tina Fey\"],[\"Harper Lee\"],[\"Harper Lee\"],[\"Harper Lee\"],[\"Harper Lee\"],[\"Harper Lee\"],[\"Timothy Ferriss\"],[\"Robert Jordan\"],[\"Edward M. Kennedy\"],[\"Stephenie Meyer\"],[\"DK\"],[\"Laura Hillenbrand\"],[\"Laura Hillenbrand\"],[\"Laura Hillenbrand\"],[\"Laura Hillenbrand\"],[\"Laura Hillenbrand\"],[\"Stephen King\"],[\"Mark R. Levin\"],[\"Silly Bear\"],[\"Lysa TerKeurst\"],[\"Alan Moore\"],[\"Sara Gruen\"],[\"Hillary Rodham Clinton\"],[\"Randall Munroe\"],[\"Dr. Seuss\"],[\"Adir Levy\"],[\"Heidi Murkoff\"],[\"William Davis\"],[\"William Davis\"],[\"Paul Kalanithi\"],[\"Delia Owens\"],[\"Maurice Sendak\"],[\"The Staff of The Late Show with\\u0085\"],[\"Cheryl Strayed\"],[\"Ken Follett\"],[\"Geneen Roth\"],[\"R. J. Palacio\"],[\"R. J. Palacio\"],[\"R. J. Palacio\"],[\"R. J. Palacio\"],[\"R. J. Palacio\"],[\"Jeff Kinney\"],[\"Jen Sincero\"],[\"Jen Sincero\"],[\"Jen Sincero\"],[\"Jen Sincero\"]],\"hovertemplate\":\"User Rating=%{x}<br>Author=%{customdata[0]}<extra></extra>\",\"legendgroup\":\"\",\"marker\":{\"color\":\"#636efa\"},\"name\":\"\",\"notched\":true,\"offsetgroup\":\"\",\"showlegend\":false,\"type\":\"box\",\"x\":[4.7,4.6,4.7,4.7,4.8,4.4,4.7,4.7,4.7,4.6,4.6,4.6,4.6,4.5,4.6,4.5,4.6,4.4,4.5,4.8,4.6,4.6,3.9,4.6,4.3,4.6,4.7,4.2,4.6,4.6,4.8,4.7,4.8,4.8,4.8,4.7,4.7,4.7,4.6,4.5,4.9,4.9,4.8,4.6,4.8,4.5,4.7,4.7,4.7,4.7,4.7,4.7,4.7,4.3,4.8,4.8,4.6,4.6,4.8,4.4,4.6,4.3,4.2,4.8,4.8,4.8,4.8,4.6,4.6,4.5,4.5,4.8,4.8,4.8,4.6,4.6,4.6,4.5,4.6,4.7,4.8,4.9,4.9,4.9,4.9,4.9,4.9,4.9,4.8,4.6,4.5,4.5,4.3,4.5,4.5,4.7,4.7,4.7,4.7,4.7,4.6,4.6,4.7,4.4,4.4,4.5,3.8,3.8,4.5,4.2,4.7,4.7,4.7,4.7,4.7,4.4,4.7,4.4,4.6,4.6,4.6,4.5,4.6,4.8,4.8,4.8,4.8,4.8,4.6,4.6,4.6,4.6,3.6,4.8,4.6,4.0,4.0,4.0,4.6,4.5,4.5,4.5,4.5,4.8,4.8,4.8,4.9,4.9,4.6,4.4,4.8,4.9,4.8,4.9,4.0,4.9,4.9,4.9,4.7,4.8,4.8,4.7,4.7,4.4,4.4,4.8,4.7,4.7,4.7,4.7,4.7,4.3,4.8,4.8,4.9,4.7,4.8,4.6,4.8,4.8,4.3,4.4,4.1,4.6,4.4,4.4,4.8,4.9,4.9,4.9,4.9,4.9,4.9,4.6,4.5,4.6,4.5,4.6,4.7,4.7,4.6,4.6,4.8,4.8,4.5,4.5,4.5,4.9,4.6,4.6,4.6,4.6,4.6,4.5,4.5,4.4,4.8,4.5,4.1,4.9,4.5,4.5,4.2,4.8,4.8,4.8,4.5,4.7,4.8,4.7,4.7,4.7,4.4,4.6,4.6,4.6,4.5,4.5,4.5,4.8,4.8,4.6,4.7,4.6,4.9,4.9,4.9,4.9,4.9,4.9,4.9,4.9,4.9,4.8,4.2,4.6,4.6,4.5,4.3,4.6,4.6,4.6,4.7,4.7,4.8,4.8,4.8,4.8,4.7,4.3,4.3,4.5,4.5,4.5,4.5,4.5,4.5,4.5,4.5,4.5,4.5,4.8,4.6,4.6,4.7,4.7,4.6,4.6,4.9,4.9,4.8,4.8,4.6,4.8,4.8,4.7,4.7,4.8,4.1,4.7,4.6,4.6,4.6,4.9,4.0,4.0,4.0,4.0,4.0,4.0,4.0,4.0,4.0,4.5,4.6,4.5,4.4,4.4,4.3,4.3,4.7,4.7,4.7,4.7,4.7,4.8,4.8,4.8,4.8,4.8,4.8,4.6,4.6,4.6,4.6,4.7,4.7,4.7,4.7,4.6,4.7,4.7,4.7,4.8,4.2,4.8,4.7,4.6,4.6,4.8,4.8,4.8,4.8,3.3,4.7,4.3,4.3,4.3,4.8,4.4,4.8,4.8,4.8,4.1,4.0,4.7,4.7,4.7,4.7,4.6,4.6,4.6,4.6,4.6,4.6,4.7,4.7,4.7,4.7,4.7,4.7,4.8,4.1,4.1,4.7,4.7,4.7,4.7,4.4,4.4,4.8,4.8,3.9,3.9,4.4,4.4,4.4,4.5,4.7,4.3,4.6,4.8,4.8,4.8,4.8,4.8,4.8,4.7,4.7,4.7,4.8,4.8,4.7,4.7,4.7,4.3,4.3,4.7,4.8,4.8,4.9,4.4,4.4,4.5,4.5,4.5,4.5,4.4,4.8,4.2,4.8,4.9,4.8,4.7,4.5,4.8,4.6,4.8,4.8,4.4,4.4,4.4,4.4,4.4,4.3,4.3,4.8,4.8,4.8,4.5,4.4,4.8,4.8,4.6,4.3,4.3,4.6,4.6,4.8,4.6,4.6,4.6,4.5,4.8,4.6,4.6,4.6,4.7,4.7,4.7,4.4,4.4,4.7,4.7,4.8,4.7,4.9,4.9,4.9,4.9,4.9,4.9,4.9,4.6,4.6,4.6,4.9,4.9,4.9,4.9,4.8,4.8,4.7,4.7,4.6,4.6,4.5,4.5,4.3,4.3,4.6,4.6,4.6,4.6,4.3,4.8,4.8,4.8,4.8,4.8,4.6,4.8,4.5,4.7,4.5,4.8,4.8,4.8,4.8,4.8,4.3,4.9,4.8,4.7,4.8,4.5,4.6,4.7,4.7,4.8,4.4,4.4,4.4,4.8,4.8,4.8,4.6,4.4,4.5,4.2,4.8,4.8,4.8,4.8,4.8,4.9,4.7,4.7,4.7,4.7],\"xaxis\":\"x2\",\"yaxis\":\"y2\"}],                        {\"barmode\":\"relative\",\"legend\":{\"tracegroupgap\":0},\"template\":{\"data\":{\"bar\":[{\"error_x\":{\"color\":\"#2a3f5f\"},\"error_y\":{\"color\":\"#2a3f5f\"},\"marker\":{\"line\":{\"color\":\"#E5ECF6\",\"width\":0.5},\"pattern\":{\"fillmode\":\"overlay\",\"size\":10,\"solidity\":0.2}},\"type\":\"bar\"}],\"barpolar\":[{\"marker\":{\"line\":{\"color\":\"#E5ECF6\",\"width\":0.5},\"pattern\":{\"fillmode\":\"overlay\",\"size\":10,\"solidity\":0.2}},\"type\":\"barpolar\"}],\"carpet\":[{\"aaxis\":{\"endlinecolor\":\"#2a3f5f\",\"gridcolor\":\"white\",\"linecolor\":\"white\",\"minorgridcolor\":\"white\",\"startlinecolor\":\"#2a3f5f\"},\"baxis\":{\"endlinecolor\":\"#2a3f5f\",\"gridcolor\":\"white\",\"linecolor\":\"white\",\"minorgridcolor\":\"white\",\"startlinecolor\":\"#2a3f5f\"},\"type\":\"carpet\"}],\"choropleth\":[{\"colorbar\":{\"outlinewidth\":0,\"ticks\":\"\"},\"type\":\"choropleth\"}],\"contour\":[{\"colorbar\":{\"outlinewidth\":0,\"ticks\":\"\"},\"colorscale\":[[0.0,\"#0d0887\"],[0.1111111111111111,\"#46039f\"],[0.2222222222222222,\"#7201a8\"],[0.3333333333333333,\"#9c179e\"],[0.4444444444444444,\"#bd3786\"],[0.5555555555555556,\"#d8576b\"],[0.6666666666666666,\"#ed7953\"],[0.7777777777777778,\"#fb9f3a\"],[0.8888888888888888,\"#fdca26\"],[1.0,\"#f0f921\"]],\"type\":\"contour\"}],\"contourcarpet\":[{\"colorbar\":{\"outlinewidth\":0,\"ticks\":\"\"},\"type\":\"contourcarpet\"}],\"heatmap\":[{\"colorbar\":{\"outlinewidth\":0,\"ticks\":\"\"},\"colorscale\":[[0.0,\"#0d0887\"],[0.1111111111111111,\"#46039f\"],[0.2222222222222222,\"#7201a8\"],[0.3333333333333333,\"#9c179e\"],[0.4444444444444444,\"#bd3786\"],[0.5555555555555556,\"#d8576b\"],[0.6666666666666666,\"#ed7953\"],[0.7777777777777778,\"#fb9f3a\"],[0.8888888888888888,\"#fdca26\"],[1.0,\"#f0f921\"]],\"type\":\"heatmap\"}],\"heatmapgl\":[{\"colorbar\":{\"outlinewidth\":0,\"ticks\":\"\"},\"colorscale\":[[0.0,\"#0d0887\"],[0.1111111111111111,\"#46039f\"],[0.2222222222222222,\"#7201a8\"],[0.3333333333333333,\"#9c179e\"],[0.4444444444444444,\"#bd3786\"],[0.5555555555555556,\"#d8576b\"],[0.6666666666666666,\"#ed7953\"],[0.7777777777777778,\"#fb9f3a\"],[0.8888888888888888,\"#fdca26\"],[1.0,\"#f0f921\"]],\"type\":\"heatmapgl\"}],\"histogram\":[{\"marker\":{\"pattern\":{\"fillmode\":\"overlay\",\"size\":10,\"solidity\":0.2}},\"type\":\"histogram\"}],\"histogram2d\":[{\"colorbar\":{\"outlinewidth\":0,\"ticks\":\"\"},\"colorscale\":[[0.0,\"#0d0887\"],[0.1111111111111111,\"#46039f\"],[0.2222222222222222,\"#7201a8\"],[0.3333333333333333,\"#9c179e\"],[0.4444444444444444,\"#bd3786\"],[0.5555555555555556,\"#d8576b\"],[0.6666666666666666,\"#ed7953\"],[0.7777777777777778,\"#fb9f3a\"],[0.8888888888888888,\"#fdca26\"],[1.0,\"#f0f921\"]],\"type\":\"histogram2d\"}],\"histogram2dcontour\":[{\"colorbar\":{\"outlinewidth\":0,\"ticks\":\"\"},\"colorscale\":[[0.0,\"#0d0887\"],[0.1111111111111111,\"#46039f\"],[0.2222222222222222,\"#7201a8\"],[0.3333333333333333,\"#9c179e\"],[0.4444444444444444,\"#bd3786\"],[0.5555555555555556,\"#d8576b\"],[0.6666666666666666,\"#ed7953\"],[0.7777777777777778,\"#fb9f3a\"],[0.8888888888888888,\"#fdca26\"],[1.0,\"#f0f921\"]],\"type\":\"histogram2dcontour\"}],\"mesh3d\":[{\"colorbar\":{\"outlinewidth\":0,\"ticks\":\"\"},\"type\":\"mesh3d\"}],\"parcoords\":[{\"line\":{\"colorbar\":{\"outlinewidth\":0,\"ticks\":\"\"}},\"type\":\"parcoords\"}],\"pie\":[{\"automargin\":true,\"type\":\"pie\"}],\"scatter\":[{\"marker\":{\"colorbar\":{\"outlinewidth\":0,\"ticks\":\"\"}},\"type\":\"scatter\"}],\"scatter3d\":[{\"line\":{\"colorbar\":{\"outlinewidth\":0,\"ticks\":\"\"}},\"marker\":{\"colorbar\":{\"outlinewidth\":0,\"ticks\":\"\"}},\"type\":\"scatter3d\"}],\"scattercarpet\":[{\"marker\":{\"colorbar\":{\"outlinewidth\":0,\"ticks\":\"\"}},\"type\":\"scattercarpet\"}],\"scattergeo\":[{\"marker\":{\"colorbar\":{\"outlinewidth\":0,\"ticks\":\"\"}},\"type\":\"scattergeo\"}],\"scattergl\":[{\"marker\":{\"colorbar\":{\"outlinewidth\":0,\"ticks\":\"\"}},\"type\":\"scattergl\"}],\"scattermapbox\":[{\"marker\":{\"colorbar\":{\"outlinewidth\":0,\"ticks\":\"\"}},\"type\":\"scattermapbox\"}],\"scatterpolar\":[{\"marker\":{\"colorbar\":{\"outlinewidth\":0,\"ticks\":\"\"}},\"type\":\"scatterpolar\"}],\"scatterpolargl\":[{\"marker\":{\"colorbar\":{\"outlinewidth\":0,\"ticks\":\"\"}},\"type\":\"scatterpolargl\"}],\"scatterternary\":[{\"marker\":{\"colorbar\":{\"outlinewidth\":0,\"ticks\":\"\"}},\"type\":\"scatterternary\"}],\"surface\":[{\"colorbar\":{\"outlinewidth\":0,\"ticks\":\"\"},\"colorscale\":[[0.0,\"#0d0887\"],[0.1111111111111111,\"#46039f\"],[0.2222222222222222,\"#7201a8\"],[0.3333333333333333,\"#9c179e\"],[0.4444444444444444,\"#bd3786\"],[0.5555555555555556,\"#d8576b\"],[0.6666666666666666,\"#ed7953\"],[0.7777777777777778,\"#fb9f3a\"],[0.8888888888888888,\"#fdca26\"],[1.0,\"#f0f921\"]],\"type\":\"surface\"}],\"table\":[{\"cells\":{\"fill\":{\"color\":\"#EBF0F8\"},\"line\":{\"color\":\"white\"}},\"header\":{\"fill\":{\"color\":\"#C8D4E3\"},\"line\":{\"color\":\"white\"}},\"type\":\"table\"}]},\"layout\":{\"annotationdefaults\":{\"arrowcolor\":\"#2a3f5f\",\"arrowhead\":0,\"arrowwidth\":1},\"autotypenumbers\":\"strict\",\"coloraxis\":{\"colorbar\":{\"outlinewidth\":0,\"ticks\":\"\"}},\"colorscale\":{\"diverging\":[[0,\"#8e0152\"],[0.1,\"#c51b7d\"],[0.2,\"#de77ae\"],[0.3,\"#f1b6da\"],[0.4,\"#fde0ef\"],[0.5,\"#f7f7f7\"],[0.6,\"#e6f5d0\"],[0.7,\"#b8e186\"],[0.8,\"#7fbc41\"],[0.9,\"#4d9221\"],[1,\"#276419\"]],\"sequential\":[[0.0,\"#0d0887\"],[0.1111111111111111,\"#46039f\"],[0.2222222222222222,\"#7201a8\"],[0.3333333333333333,\"#9c179e\"],[0.4444444444444444,\"#bd3786\"],[0.5555555555555556,\"#d8576b\"],[0.6666666666666666,\"#ed7953\"],[0.7777777777777778,\"#fb9f3a\"],[0.8888888888888888,\"#fdca26\"],[1.0,\"#f0f921\"]],\"sequentialminus\":[[0.0,\"#0d0887\"],[0.1111111111111111,\"#46039f\"],[0.2222222222222222,\"#7201a8\"],[0.3333333333333333,\"#9c179e\"],[0.4444444444444444,\"#bd3786\"],[0.5555555555555556,\"#d8576b\"],[0.6666666666666666,\"#ed7953\"],[0.7777777777777778,\"#fb9f3a\"],[0.8888888888888888,\"#fdca26\"],[1.0,\"#f0f921\"]]},\"colorway\":[\"#636efa\",\"#EF553B\",\"#00cc96\",\"#ab63fa\",\"#FFA15A\",\"#19d3f3\",\"#FF6692\",\"#B6E880\",\"#FF97FF\",\"#FECB52\"],\"font\":{\"color\":\"#2a3f5f\"},\"geo\":{\"bgcolor\":\"white\",\"lakecolor\":\"white\",\"landcolor\":\"#E5ECF6\",\"showlakes\":true,\"showland\":true,\"subunitcolor\":\"white\"},\"hoverlabel\":{\"align\":\"left\"},\"hovermode\":\"closest\",\"mapbox\":{\"style\":\"light\"},\"paper_bgcolor\":\"white\",\"plot_bgcolor\":\"#E5ECF6\",\"polar\":{\"angularaxis\":{\"gridcolor\":\"white\",\"linecolor\":\"white\",\"ticks\":\"\"},\"bgcolor\":\"#E5ECF6\",\"radialaxis\":{\"gridcolor\":\"white\",\"linecolor\":\"white\",\"ticks\":\"\"}},\"scene\":{\"xaxis\":{\"backgroundcolor\":\"#E5ECF6\",\"gridcolor\":\"white\",\"gridwidth\":2,\"linecolor\":\"white\",\"showbackground\":true,\"ticks\":\"\",\"zerolinecolor\":\"white\"},\"yaxis\":{\"backgroundcolor\":\"#E5ECF6\",\"gridcolor\":\"white\",\"gridwidth\":2,\"linecolor\":\"white\",\"showbackground\":true,\"ticks\":\"\",\"zerolinecolor\":\"white\"},\"zaxis\":{\"backgroundcolor\":\"#E5ECF6\",\"gridcolor\":\"white\",\"gridwidth\":2,\"linecolor\":\"white\",\"showbackground\":true,\"ticks\":\"\",\"zerolinecolor\":\"white\"}},\"shapedefaults\":{\"line\":{\"color\":\"#2a3f5f\"}},\"ternary\":{\"aaxis\":{\"gridcolor\":\"white\",\"linecolor\":\"white\",\"ticks\":\"\"},\"baxis\":{\"gridcolor\":\"white\",\"linecolor\":\"white\",\"ticks\":\"\"},\"bgcolor\":\"#E5ECF6\",\"caxis\":{\"gridcolor\":\"white\",\"linecolor\":\"white\",\"ticks\":\"\"}},\"title\":{\"x\":0.05},\"xaxis\":{\"automargin\":true,\"gridcolor\":\"white\",\"linecolor\":\"white\",\"ticks\":\"\",\"title\":{\"standoff\":15},\"zerolinecolor\":\"white\",\"zerolinewidth\":2},\"yaxis\":{\"automargin\":true,\"gridcolor\":\"white\",\"linecolor\":\"white\",\"ticks\":\"\",\"title\":{\"standoff\":15},\"zerolinecolor\":\"white\",\"zerolinewidth\":2}}},\"title\":{\"text\":\"Calificacion del usuario\"},\"xaxis\":{\"anchor\":\"y\",\"domain\":[0.0,1.0],\"title\":{\"text\":\"User Rating\"}},\"xaxis2\":{\"anchor\":\"y2\",\"domain\":[0.0,1.0],\"matches\":\"x\",\"showgrid\":true,\"showticklabels\":false},\"yaxis\":{\"anchor\":\"x\",\"domain\":[0.0,0.8316],\"title\":{\"text\":\"count\"}},\"yaxis2\":{\"anchor\":\"x2\",\"domain\":[0.8416,1.0],\"matches\":\"y2\",\"showgrid\":false,\"showline\":false,\"showticklabels\":false,\"ticks\":\"\"}},                        {\"responsive\": true}                    ).then(function(){\n                            \nvar gd = document.getElementById('e6d2e3ac-dadd-4c17-8e16-41c7945b209e');\nvar x = new MutationObserver(function (mutations, observer) {{\n        var display = window.getComputedStyle(gd).display;\n        if (!display || display === 'none') {{\n            console.log([gd, 'removed!']);\n            Plotly.purge(gd);\n            observer.disconnect();\n        }}\n}});\n\n// Listen for the removal of the full notebook cells\nvar notebookContainer = gd.closest('#notebook-container');\nif (notebookContainer) {{\n    x.observe(notebookContainer, {childList: true});\n}}\n\n// Listen for the clearing of the current output cell\nvar outputEl = gd.closest('.output');\nif (outputEl) {{\n    x.observe(outputEl, {childList: true});\n}}\n\n                        })                };                            </script>        </div>\n</body>\n</html>"
     },
     "metadata": {},
     "output_type": "display_data"
    }
   ]
  },
  {
   "cell_type": "markdown",
   "source": "## Reseña\n- Tenemos una gran diferencia entre los valores **medios** y la **mediana** (media = 11953, mediana = 8580).\n- Tiene una distribución muy sesgada con los **valores atípicos en el lado máximo**.\n- Podemos esperar una **distribución muy sesgada a la derecha** con posibles **valores atípicos en el lado máximo**.",
   "metadata": {
    "tags": [],
    "cell_id": "00020-b07a191b-dbe8-48d1-afb2-204344cd8d2d",
    "deepnote_cell_type": "markdown"
   }
  },
  {
   "cell_type": "code",
   "metadata": {
    "tags": [],
    "cell_id": "00021-106eba1e-8df5-416b-a50d-e1e6fa485b60",
    "deepnote_to_be_reexecuted": false,
    "source_hash": "c865085a",
    "execution_start": 1627081107476,
    "execution_millis": 12,
    "deepnote_cell_type": "code"
   },
   "source": "df['Reviews'].describe()",
   "execution_count": null,
   "outputs": [
    {
     "output_type": "execute_result",
     "execution_count": 36,
     "data": {
      "text/plain": "count      550.000000\nmean     11953.281818\nstd      11731.132017\nmin         37.000000\n25%       4058.000000\n50%       8580.000000\n75%      17253.250000\nmax      87841.000000\nName: Reviews, dtype: float64"
     },
     "metadata": {}
    }
   ]
  },
  {
   "cell_type": "markdown",
   "source": "- Podemos comprobar que la distribución esta **muy sesgada a la derecha** con los valores atípicos en el lado máximo.\n- El libro Kristin Hannah's 'The Nightingale' se encuentra entre los valores atípicos con más de 49.000 reseñas. O otro libro que esta altamente sesgado es 'where the crawdads sing delia owens' con más de 87,000 reseñas.",
   "metadata": {
    "tags": [],
    "cell_id": "00022-e53e2a46-fe27-4e82-a1f1-5c7ef6028d5c",
    "deepnote_cell_type": "markdown"
   }
  },
  {
   "cell_type": "code",
   "metadata": {
    "tags": [],
    "cell_id": "00022-bfc09907-ce25-488f-a68e-4f1e493f7e4f",
    "deepnote_to_be_reexecuted": false,
    "source_hash": "1364f5f8",
    "execution_start": 1627082178337,
    "execution_millis": 83,
    "deepnote_cell_type": "code"
   },
   "source": "fig = px.histogram(df, x='Reviews',\n    title='Reseñas',\n    hover_data=df[['Name','Author']],\n    marginal='box'\n)\nfig.show()",
   "execution_count": null,
   "outputs": [
    {
     "data": {
      "text/html": "<html>\n<head><meta charset=\"utf-8\" /></head>\n<body>\n    <div>            <script src=\"https://cdnjs.cloudflare.com/ajax/libs/mathjax/2.7.5/MathJax.js?config=TeX-AMS-MML_SVG\"></script><script type=\"text/javascript\">if (window.MathJax) {MathJax.Hub.Config({SVG: {font: \"STIX-Web\"}});}</script>                <script type=\"text/javascript\">window.PlotlyConfig = {MathJaxConfig: 'local'};</script>\n        <script src=\"https://cdn.plot.ly/plotly-2.2.0.min.js\"></script>                <div id=\"258fb1ba-07fd-4996-97ad-4d41bb8baf83\" class=\"plotly-graph-div\" style=\"height:525px; width:100%;\"></div>            <script type=\"text/javascript\">                                    window.PLOTLYENV=window.PLOTLYENV || {};                                    if (document.getElementById(\"258fb1ba-07fd-4996-97ad-4d41bb8baf83\")) {                    Plotly.newPlot(                        \"258fb1ba-07fd-4996-97ad-4d41bb8baf83\",                        [{\"alignmentgroup\":\"True\",\"bingroup\":\"x\",\"hovertemplate\":\"Reviews=%{x}<br>count=%{y}<extra></extra>\",\"legendgroup\":\"\",\"marker\":{\"color\":\"#636efa\",\"pattern\":{\"shape\":\"\"}},\"name\":\"\",\"offsetgroup\":\"\",\"orientation\":\"v\",\"showlegend\":false,\"type\":\"histogram\",\"x\":[17350,2052,18979,21424,7665,12643,19735,19699,5983,23848,23848,460,4149,5153,5013,2313,2925,2951,2426,9198,36348,36348,6310,15921,12159,798,9374,491,5360,1909,1296,615,61133,61133,11113,10070,10070,3729,9769,471,14344,14344,4505,10369,16244,2884,22614,22614,22614,4761,1542,1542,1542,6143,4022,3871,4866,4866,1329,4642,1541,1924,2094,10922,10922,10922,10922,2137,1651,6679,6679,6812,3837,6540,7955,27098,27098,17684,37,15845,3181,5062,4786,7235,7235,12619,9089,5470,5118,2134,2525,720,956,6346,6346,5505,5505,28729,28729,5413,10721,10721,4370,6042,23631,20262,47265,47265,13964,13677,17323,17323,17323,17323,17323,1555,3642,1215,5594,5594,5594,408,4799,14038,14038,14038,14038,14038,7660,22288,22288,1365,14982,9568,1636,57271,57271,57271,10141,3457,3457,3457,3457,8837,8837,8837,7038,7038,5972,25624,5476,5867,4148,19622,23973,7758,3146,10052,3564,13471,1930,15779,15779,15526,15526,3776,25001,25001,25001,25001,25001,5272,3490,3490,2812,4896,9737,1320,16643,16643,7153,4571,29651,5299,7396,7396,7062,19576,19576,19576,19576,19576,19576,978,4748,8393,11391,8634,9342,9342,10927,5235,8916,2507,3673,3673,3673,11881,6990,6990,6990,6990,6990,6132,3014,7550,3828,2752,1467,1884,25706,8491,1649,18613,18613,9867,1386,10199,2926,17739,17739,17739,3113,5542,5542,5542,26741,26741,26741,5347,7866,5680,5178,8093,3192,21834,21834,21834,21834,21834,21834,21834,21834,6169,4519,3163,3163,1831,18904,21930,10426,10426,10820,10820,548,16990,16990,16990,3503,13616,13616,8580,8580,8580,8580,8580,8580,8580,8580,8580,8580,4757,10009,10009,1985,1985,22536,22536,7150,3836,7802,7802,3619,23047,23047,9366,1265,3923,2272,973,220,7827,7827,9382,5069,5069,5069,5069,5069,5069,5069,5069,5069,1583,1907,23114,637,637,2314,4587,3477,3477,3477,3477,3477,25554,25554,25554,25554,25554,1680,9325,9325,9325,9325,4725,4725,4725,35799,2580,11813,11813,3536,6600,1789,12361,858,23148,23148,8081,8081,23358,23358,9372,4633,13061,13061,3523,2774,440,8922,8922,8922,2023,1859,50482,50482,50482,50482,3207,3207,3207,3207,3207,803,23308,23308,23308,23308,23308,23308,5836,79446,79446,7747,7747,7251,7251,10559,10559,5249,5249,33844,33844,11616,11616,11616,13609,8587,29442,11098,9947,13871,13871,13871,13871,6982,32122,32122,32122,16949,16949,9289,9289,9289,7368,7368,4028,4628,4628,5396,4247,4247,22641,22641,22641,22641,6222,4506,8747,1655,7861,6247,39459,10101,5898,2744,49288,49288,1201,1201,1201,1201,1201,807,3759,2663,3428,2876,3601,7058,9784,9784,10795,10191,14493,2186,1204,2091,19720,19720,2122,27536,4290,26490,26490,26490,5487,6377,1463,3759,3503,11550,3801,3796,9030,19546,19546,19546,19546,19546,19546,19546,7508,7508,7508,8842,8842,8842,8842,30183,30183,6169,7034,11034,11034,7932,1904,3319,3319,11128,11128,11128,11128,5977,26234,26234,26234,26234,26234,4360,2282,438,11676,2586,29673,29673,29673,29673,29673,6740,5956,6108,4585,3829,8958,5492,9292,1873,8170,3341,7497,7497,13779,87841,9967,6669,17044,10760,1302,21625,21625,21625,21625,21625,9413,14331,14331,14331,14331],\"xaxis\":\"x\",\"yaxis\":\"y\"},{\"alignmentgroup\":\"True\",\"customdata\":[[\"10-Day Green Smoothie Cleanse\",\"JJ Smith\"],[\"11/22/63: A Novel\",\"Stephen King\"],[\"12 Rules for Life: An Antidote to Chaos\",\"Jordan B. Peterson\"],[\"1984 (Signet Classics)\",\"George Orwell\"],[\"5,000 Awesome Facts (About Everything!) (National Geographic Kids)\",\"National Geographic Kids\"],[\"A Dance with Dragons (A Song of Ice and Fire)\",\"George R. R. Martin\"],[\"A Game of Thrones / A Clash of Kings / A Storm of Swords / A Feast of Crows / A Dance with Dragons\",\"George R. R. Martin\"],[\"A Gentleman in Moscow: A Novel\",\"Amor Towles\"],[\"A Higher Loyalty: Truth, Lies, and Leadership\",\"James Comey\"],[\"A Man Called Ove: A Novel\",\"Fredrik Backman\"],[\"A Man Called Ove: A Novel\",\"Fredrik Backman\"],[\"A Patriot's History of the United States: From Columbus's Great Discovery to the War on Terror\",\"Larry Schweikart\"],[\"A Stolen Life: A Memoir\",\"Jaycee Dugard\"],[\"A Wrinkle in Time (Time Quintet)\",\"Madeleine L'Engle\"],[\"Act Like a Lady, Think Like a Man: What Men Really Think About Love, Relationships, Intimacy, and Commitment\",\"Steve Harvey\"],[\"Adult Coloring Book Designs: Stress Relief Coloring Book: Garden Designs, Mandalas, Animals, and Paisley Patterns\",\"Adult Coloring Book Designs\"],[\"Adult Coloring Book: Stress Relieving Animal Designs\",\"Blue Star Coloring\"],[\"Adult Coloring Book: Stress Relieving Patterns\",\"Blue Star Coloring\"],[\"Adult Coloring Books: A Coloring Book for Adults Featuring Mandalas and Henna Inspired Flowers, Animals, and Paisley\\u2026\",\"Coloring Books for Adults\"],[\"Alexander Hamilton\",\"Ron Chernow\"],[\"All the Light We Cannot See\",\"Anthony Doerr\"],[\"All the Light We Cannot See\",\"Anthony Doerr\"],[\"Allegiant\",\"Veronica Roth\"],[\"American Sniper: The Autobiography of the Most Lethal Sniper in U.S. Military History\",\"Chris Kyle\"],[\"And the Mountains Echoed\",\"Khaled Hosseini\"],[\"Arguing with Idiots: How to Stop Small Minds and Big Government\",\"Glenn Beck\"],[\"Astrophysics for People in a Hurry\",\"Neil deGrasse Tyson\"],[\"Autobiography of Mark Twain, Vol. 1\",\"Mark Twain\"],[\"Baby Touch and Feel: Animals\",\"DK\"],[\"Balance (Angie's Extreme Stress Menders)\",\"Angie Grace\"],[\"Barefoot Contessa Foolproof: Recipes You Can Trust: A Cookbook\",\"Ina Garten\"],[\"Barefoot Contessa, How Easy Is That?: Fabulous Recipes & Easy Tips\",\"Ina Garten\"],[\"Becoming\",\"Michelle Obama\"],[\"Becoming\",\"Michelle Obama\"],[\"Being Mortal: Medicine and What Matters in the End\",\"Atul Gawande\"],[\"Between the World and Me\",\"Ta-Nehisi Coates\"],[\"Between the World and Me\",\"Ta-Nehisi Coates\"],[\"Born to Run\",\"Bruce Springsteen\"],[\"Breaking Dawn (The Twilight Saga, Book 4)\",\"Stephenie Meyer\"],[\"Broke: The Plan to Restore Our Trust, Truth and Treasure\",\"Glenn Beck\"],[\"Brown Bear, Brown Bear, What Do You See?\",\"Bill Martin Jr.\"],[\"Brown Bear, Brown Bear, What Do You See?\",\"Bill Martin Jr.\"],[\"Cabin Fever (Diary of a Wimpy Kid, Book 6)\",\"Jeff Kinney\"],[\"Calm the F*ck Down: An Irreverent Adult Coloring Book (Irreverent Book Series)\",\"Sasha O'Hara\"],[\"Can't Hurt Me: Master Your Mind and Defy the Odds\",\"David Goggins\"],[\"Capital in the Twenty First Century\",\"Thomas Piketty\"],[\"Catching Fire (The Hunger Games)\",\"Suzanne Collins\"],[\"Catching Fire (The Hunger Games)\",\"Suzanne Collins\"],[\"Catching Fire (The Hunger Games)\",\"Suzanne Collins\"],[\"Cravings: Recipes for All the Food You Want to Eat: A Cookbook\",\"Chrissy Teigen\"],[\"Crazy Love: Overwhelmed by a Relentless God\",\"Francis Chan\"],[\"Crazy Love: Overwhelmed by a Relentless God\",\"Francis Chan\"],[\"Crazy Love: Overwhelmed by a Relentless God\",\"Francis Chan\"],[\"Crazy Rich Asians (Crazy Rich Asians Trilogy)\",\"Kevin Kwan\"],[\"Creative Haven Creative Cats Coloring Book (Adult Coloring)\",\"Marjorie Sarnat\"],[\"Creative Haven Owls Coloring Book (Adult Coloring)\",\"Marjorie Sarnat\"],[\"Cutting for Stone\",\"Abraham Verghese\"],[\"Cutting for Stone\",\"Abraham Verghese\"],[\"Daring Greatly: How the Courage to Be Vulnerable Transforms the Way We Live, Love, Parent, and Lead\",\"Brene\\u0301 Brown\"],[\"David and Goliath: Underdogs, Misfits, and the Art of Battling Giants\",\"Malcolm Gladwell\"],[\"Dead And Gone: A Sookie Stackhouse Novel (Sookie Stackhouse/True Blood)\",\"Charlaine Harris\"],[\"Dead in the Family (Sookie Stackhouse/True Blood, Book 10)\",\"Charlaine Harris\"],[\"Dead Reckoning (Sookie Stackhouse/True Blood, Book 11)\",\"Charlaine Harris\"],[\"Dear Zoo: A Lift-the-Flap Book\",\"Rod Campbell\"],[\"Dear Zoo: A Lift-the-Flap Book\",\"Rod Campbell\"],[\"Dear Zoo: A Lift-the-Flap Book\",\"Rod Campbell\"],[\"Dear Zoo: A Lift-the-Flap Book\",\"Rod Campbell\"],[\"Decision Points\",\"George W. Bush\"],[\"Delivering Happiness: A Path to Profits, Passion, and Purpose\",\"Tony Hsieh\"],[\"Diagnostic and Statistical Manual of Mental Disorders, 5th Edition: DSM-5\",\"American Psychiatric Association\"],[\"Diagnostic and Statistical Manual of Mental Disorders, 5th Edition: DSM-5\",\"American Psychiatric Association\"],[\"Diary of a Wimpy Kid: Hard Luck, Book 8\",\"Jeff Kinney\"],[\"Diary of a Wimpy Kid: The Last Straw (Book 3)\",\"Jeff Kinney\"],[\"Diary of a Wimpy Kid: The Long Haul\",\"Jeff Kinney\"],[\"Difficult Riddles For Smart Kids: 300 Difficult Riddles And Brain Teasers Families Will Love (Books for Smart Kids)\",\"M Prefontaine\"],[\"Divergent\",\"Veronica Roth\"],[\"Divergent\",\"Veronica Roth\"],[\"Divergent / Insurgent\",\"Veronica Roth\"],[\"Divine Soul Mind Body Healing and Transmission System: The Divine Way to Heal You, Humanity, Mother Earth, and All\\u2026\",\"Zhi Gang Sha\"],[\"Doctor Sleep: A Novel\",\"Stephen King\"],[\"Dog Days (Diary of a Wimpy Kid, Book 4) (Volume 4)\",\"Jeff Kinney\"],[\"Dog Man and Cat Kid: From the Creator of Captain Underpants (Dog Man #4)\",\"Dav Pilkey\"],[\"Dog Man: A Tale of Two Kitties: From the Creator of Captain Underpants (Dog Man #3)\",\"Dav Pilkey\"],[\"Dog Man: Brawl of the Wild: From the Creator of Captain Underpants (Dog Man #6)\",\"Dav Pilkey\"],[\"Dog Man: Brawl of the Wild: From the Creator of Captain Underpants (Dog Man #6)\",\"Dav Pilkey\"],[\"Dog Man: Fetch-22: From the Creator of Captain Underpants (Dog Man #8)\",\"Dav Pilkey\"],[\"Dog Man: For Whom the Ball Rolls: From the Creator of Captain Underpants (Dog Man #7)\",\"Dav Pilkey\"],[\"Dog Man: Lord of the Fleas: From the Creator of Captain Underpants (Dog Man #5)\",\"Dav Pilkey\"],[\"Double Down (Diary of a Wimpy Kid #11)\",\"Jeff Kinney\"],[\"Dover Creative Haven Art Nouveau Animal Designs Coloring Book (Creative Haven Coloring Books)\",\"Marty Noble\"],[\"Drive: The Surprising Truth About What Motivates Us\",\"Daniel H. Pink\"],[\"Eat This Not That! Supermarket Survival Guide: The No-Diet Weight Loss Solution\",\"David Zinczenko\"],[\"Eat This, Not That! Thousands of Simple Food Swaps that Can Save You 10, 20, 30 Pounds--or More!\",\"David Zinczenko\"],[\"Eat to Live: The Amazing Nutrient-Rich Program for Fast and Sustained Weight Loss, Revised Edition\",\"Joel Fuhrman MD\"],[\"Eat to Live: The Amazing Nutrient-Rich Program for Fast and Sustained Weight Loss, Revised Edition\",\"Joel Fuhrman MD\"],[\"Eclipse (Twilight Sagas)\",\"Stephenie Meyer\"],[\"Eclipse (Twilight)\",\"Stephenie Meyer\"],[\"Educated: A Memoir\",\"Tara Westover\"],[\"Educated: A Memoir\",\"Tara Westover\"],[\"Enchanted Forest: An Inky Quest and Coloring book (Activity Books, Mindfulness and Meditation, Illustrated Floral Prints\\u2026\",\"Johanna Basford\"],[\"Fahrenheit 451\",\"Ray Bradbury\"],[\"Fahrenheit 451\",\"Ray Bradbury\"],[\"Fantastic Beasts and Where to Find Them: The Original Screenplay (Harry Potter)\",\"J.K. Rowling\"],[\"Fear: Trump in the White House\",\"Bob Woodward\"],[\"Fifty Shades Darker\",\"E L James\"],[\"Fifty Shades Freed: Book Three of the Fifty Shades Trilogy (Fifty Shades of Grey Series) (English Edition)\",\"E L James\"],[\"Fifty Shades of Grey: Book One of the Fifty Shades Trilogy (Fifty Shades of Grey Series)\",\"E L James\"],[\"Fifty Shades of Grey: Book One of the Fifty Shades Trilogy (Fifty Shades of Grey Series)\",\"E L James\"],[\"Fifty Shades Trilogy (Fifty Shades of Grey / Fifty Shades Darker / Fifty Shades Freed)\",\"E L James\"],[\"Fire and Fury: Inside the Trump White House\",\"Michael Wolff\"],[\"First 100 Words\",\"Roger Priddy\"],[\"First 100 Words\",\"Roger Priddy\"],[\"First 100 Words\",\"Roger Priddy\"],[\"First 100 Words\",\"Roger Priddy\"],[\"First 100 Words\",\"Roger Priddy\"],[\"Food Rules: An Eater's Manual\",\"Michael Pollan\"],[\"Frozen (Little Golden Book)\",\"RH Disney\"],[\"Game Change: Obama and the Clintons, McCain and Palin, and the Race of a Lifetime\",\"John Heilemann\"],[\"Game of Thrones Boxed Set: A Game of Thrones/A Clash of Kings/A Storm of Swords/A Feast for Crows\",\"George R.R. Martin\"],[\"Game of Thrones Boxed Set: A Game of Thrones/A Clash of Kings/A Storm of Swords/A Feast for Crows\",\"George R.R. Martin\"],[\"Game of Thrones Boxed Set: A Game of Thrones/A Clash of Kings/A Storm of Swords/A Feast for Crows\",\"George R.R. Martin\"],[\"George Washington's Sacred Fire\",\"Peter A. Lillback\"],[\"George Washington's Secret Six: The Spy Ring That Saved the American Revolution\",\"Brian Kilmeade\"],[\"Giraffes Can't Dance\",\"Giles Andreae\"],[\"Giraffes Can't Dance\",\"Giles Andreae\"],[\"Giraffes Can't Dance\",\"Giles Andreae\"],[\"Giraffes Can't Dance\",\"Giles Andreae\"],[\"Giraffes Can't Dance\",\"Giles Andreae\"],[\"Girl, Stop Apologizing: A Shame-Free Plan for Embracing and Achieving Your Goals\",\"Rachel Hollis\"],[\"Girl, Wash Your Face: Stop Believing the Lies About Who You Are So You Can Become Who You Were Meant to Be\",\"Rachel Hollis\"],[\"Girl, Wash Your Face: Stop Believing the Lies About Who You Are So You Can Become Who You Were Meant to Be\",\"Rachel Hollis\"],[\"Glenn Beck's Common Sense: The Case Against an Out-of-Control Government, Inspired by Thomas Paine\",\"Glenn Beck\"],[\"Go Set a Watchman: A Novel\",\"Harper Lee\"],[\"Go the F**k to Sleep\",\"Adam Mansbach\"],[\"Going Rogue: An American Life\",\"Sarah Palin\"],[\"Gone Girl\",\"Gillian Flynn\"],[\"Gone Girl\",\"Gillian Flynn\"],[\"Gone Girl\",\"Gillian Flynn\"],[\"Good Days Start With Gratitude: A 52 Week Guide To Cultivate An Attitude Of Gratitude: Gratitude Journal\",\"Pretty Simple Press\"],[\"Good to Great: Why Some Companies Make the Leap and Others Don't\",\"Jim Collins\"],[\"Good to Great: Why Some Companies Make the Leap and Others Don't\",\"Jim Collins\"],[\"Good to Great: Why Some Companies Make the Leap and Others Don't\",\"Jim Collins\"],[\"Good to Great: Why Some Companies Make the Leap and Others Don't\",\"Jim Collins\"],[\"Goodnight Moon\",\"Margaret Wise Brown\"],[\"Goodnight Moon\",\"Margaret Wise Brown\"],[\"Goodnight Moon\",\"Margaret Wise Brown\"],[\"Goodnight, Goodnight Construction Site (Hardcover Books for Toddlers, Preschool Books for Kids)\",\"Sherri Duskey Rinker\"],[\"Goodnight, Goodnight Construction Site (Hardcover Books for Toddlers, Preschool Books for Kids)\",\"Sherri Duskey Rinker\"],[\"Grain Brain: The Surprising Truth about Wheat, Carbs, and Sugar--Your Brain's Silent Killers\",\"David Perlmutter MD\"],[\"Grey: Fifty Shades of Grey as Told by Christian (Fifty Shades of Grey Series)\",\"E L James\"],[\"Guts\",\"Raina Telgemeier\"],[\"Hamilton: The Revolution\",\"Lin-Manuel Miranda\"],[\"Happy, Happy, Happy: My Life and Legacy as the Duck Commander\",\"Phil Robertson\"],[\"Harry Potter and the Chamber of Secrets: The Illustrated Edition (Harry Potter, Book 2)\",\"J.K. Rowling\"],[\"Harry Potter and the Cursed Child, Parts 1 & 2, Special Rehearsal Edition Script\",\"J.K. Rowling\"],[\"Harry Potter and the Goblet of Fire: The Illustrated Edition (Harry Potter, Book 4) (4)\",\"J. K. Rowling\"],[\"Harry Potter and the Prisoner of Azkaban: The Illustrated Edition (Harry Potter, Book 3)\",\"J.K. Rowling\"],[\"Harry Potter and the Sorcerer's Stone: The Illustrated Edition (Harry Potter, Book 1)\",\"J.K. Rowling\"],[\"Harry Potter Coloring Book\",\"Scholastic\"],[\"Harry Potter Paperback Box Set (Books 1-7)\",\"J. K. Rowling\"],[\"Have a Little Faith: A True Story\",\"Mitch Albom\"],[\"Heaven is for Real: A Little Boy's Astounding Story of His Trip to Heaven and Back\",\"Todd Burpo\"],[\"Heaven is for Real: A Little Boy's Astounding Story of His Trip to Heaven and Back\",\"Todd Burpo\"],[\"Hillbilly Elegy: A Memoir of a Family and Culture in Crisis\",\"J. D. Vance\"],[\"Hillbilly Elegy: A Memoir of a Family and Culture in Crisis\",\"J. D. Vance\"],[\"Homebody: A Guide to Creating Spaces You Never Want to Leave\",\"Joanna Gaines\"],[\"How to Win Friends & Influence People\",\"Dale Carnegie\"],[\"How to Win Friends & Influence People\",\"Dale Carnegie\"],[\"How to Win Friends & Influence People\",\"Dale Carnegie\"],[\"How to Win Friends & Influence People\",\"Dale Carnegie\"],[\"How to Win Friends & Influence People\",\"Dale Carnegie\"],[\"Howard Stern Comes Again\",\"Howard Stern\"],[\"Humans of New York\",\"Brandon Stanton\"],[\"Humans of New York\",\"Brandon Stanton\"],[\"Humans of New York : Stories\",\"Brandon Stanton\"],[\"Hyperbole and a Half: Unfortunate Situations, Flawed Coping Mechanisms, Mayhem, and Other Things That Happened\",\"Allie Brosh\"],[\"I Am Confident, Brave & Beautiful: A Coloring Book for Girls\",\"Hopscotch Girls\"],[\"I, Alex Cross\",\"James Patterson\"],[\"If Animals Kissed Good Night\",\"Ann Whitford Paul\"],[\"If Animals Kissed Good Night\",\"Ann Whitford Paul\"],[\"If I Stay\",\"Gayle Forman\"],[\"In the Garden of Beasts: Love, Terror, and an American Family in Hitler's Berlin\",\"Eric Larson\"],[\"Inferno\",\"Dan Brown\"],[\"Inheritance: Book IV (Inheritance Cycle)\",\"Christopher Paolini\"],[\"Instant Pot Pressure Cooker Cookbook: 500 Everyday Recipes for Beginners and Advanced Users. Try Easy and Healthy\\u2026\",\"Jennifer Smith\"],[\"Instant Pot Pressure Cooker Cookbook: 500 Everyday Recipes for Beginners and Advanced Users. Try Easy and Healthy\\u2026\",\"Jennifer Smith\"],[\"It's Not Supposed to Be This Way: Finding Unexpected Strength When Disappointments Leave You Shattered\",\"Lysa TerKeurst\"],[\"Jesus Calling: Enjoying Peace in His Presence (with Scripture References)\",\"Sarah Young\"],[\"Jesus Calling: Enjoying Peace in His Presence (with Scripture References)\",\"Sarah Young\"],[\"Jesus Calling: Enjoying Peace in His Presence (with Scripture References)\",\"Sarah Young\"],[\"Jesus Calling: Enjoying Peace in His Presence (with Scripture References)\",\"Sarah Young\"],[\"Jesus Calling: Enjoying Peace in His Presence (with Scripture References)\",\"Sarah Young\"],[\"Jesus Calling: Enjoying Peace in His Presence (with Scripture References)\",\"Sarah Young\"],[\"JOURNEY TO THE ICE P\",\"RH Disney\"],[\"Joyland (Hard Case Crime)\",\"Stephen King\"],[\"Killers of the Flower Moon: The Osage Murders and the Birth of the FBI\",\"David Grann\"],[\"Killing Jesus (Bill O'Reilly's Killing Series)\",\"Bill O'Reilly\"],[\"Killing Kennedy: The End of Camelot\",\"Bill O'Reilly\"],[\"Killing Lincoln: The Shocking Assassination that Changed America Forever (Bill O'Reilly's Killing Series)\",\"Bill O'Reilly\"],[\"Killing Lincoln: The Shocking Assassination that Changed America Forever (Bill O'Reilly's Killing Series)\",\"Bill O'Reilly\"],[\"Killing Patton: The Strange Death of World War II's Most Audacious General (Bill O'Reilly's Killing Series)\",\"Bill O'Reilly\"],[\"Killing Reagan: The Violent Assault That Changed a Presidency (Bill O'Reilly's Killing Series)\",\"Bill O'Reilly\"],[\"Killing the Rising Sun: How America Vanquished World War II Japan (Bill O'Reilly's Killing Series)\",\"Bill O'Reilly\"],[\"Kitchen Confidential Updated Edition: Adventures in the Culinary Underbelly (P.S.)\",\"Anthony Bourdain\"],[\"Knock-Knock Jokes for Kids\",\"Rob Elliott\"],[\"Knock-Knock Jokes for Kids\",\"Rob Elliott\"],[\"Knock-Knock Jokes for Kids\",\"Rob Elliott\"],[\"Last Week Tonight with John Oliver Presents A Day in the Life of Marlon Bundo (Better Bundo Book, LGBT Children\\u0092s Book)\",\"Jill Twiss\"],[\"Laugh-Out-Loud Jokes for Kids\",\"Rob Elliott\"],[\"Laugh-Out-Loud Jokes for Kids\",\"Rob Elliott\"],[\"Laugh-Out-Loud Jokes for Kids\",\"Rob Elliott\"],[\"Laugh-Out-Loud Jokes for Kids\",\"Rob Elliott\"],[\"Laugh-Out-Loud Jokes for Kids\",\"Rob Elliott\"],[\"Lean In: Women, Work, and the Will to Lead\",\"Sheryl Sandberg\"],[\"Leonardo da Vinci\",\"Walter Isaacson\"],[\"Lettering and Modern Calligraphy: A Beginner's Guide: Learn Hand Lettering and Brush Lettering\",\"Paper Peony Press\"],[\"Liberty and Tyranny: A Conservative Manifesto\",\"Mark R. Levin\"],[\"Life\",\"Keith Richards\"],[\"Little Bee: A Novel\",\"Chris Cleave\"],[\"Little Blue Truck\",\"Alice Schertle\"],[\"Little Fires Everywhere\",\"Celeste Ng\"],[\"Looking for Alaska\",\"John Green\"],[\"Love Wins: A Book About Heaven, Hell, and the Fate of Every Person Who Ever Lived\",\"Rob Bell\"],[\"Love You Forever\",\"Robert Munsch\"],[\"Love You Forever\",\"Robert Munsch\"],[\"Magnolia Table: A Collection of Recipes for Gathering\",\"Joanna Gaines\"],[\"Make It Ahead: A Barefoot Contessa Cookbook\",\"Ina Garten\"],[\"Make Your Bed: Little Things That Can Change Your Life...And Maybe the World\",\"Admiral William H. McRaven\"],[\"Mastering the Art of French Cooking, Vol. 2\",\"Julia Child\"],[\"Milk and Honey\",\"Rupi Kaur\"],[\"Milk and Honey\",\"Rupi Kaur\"],[\"Milk and Honey\",\"Rupi Kaur\"],[\"Milk and Vine: Inspirational Quotes From Classic Vines\",\"Adam Gasiewski\"],[\"Mindset: The New Psychology of Success\",\"Carol S. Dweck\"],[\"Mindset: The New Psychology of Success\",\"Carol S. Dweck\"],[\"Mindset: The New Psychology of Success\",\"Carol S. Dweck\"],[\"Mockingjay (The Hunger Games)\",\"Suzanne Collins\"],[\"Mockingjay (The Hunger Games)\",\"Suzanne Collins\"],[\"Mockingjay (The Hunger Games)\",\"Suzanne Collins\"],[\"National Geographic Kids Why?: Over 1,111 Answers to Everything\",\"Crispin Boyer\"],[\"National Geographic Little Kids First Big Book of Why (National Geographic Little Kids First Big Books)\",\"Amy Shields\"],[\"New Moon (The Twilight Saga)\",\"Stephenie Meyer\"],[\"Night (Night)\",\"Elie Wiesel\"],[\"No Easy Day: The Autobiography of a Navy Seal: The Firsthand Account of the Mission That Killed Osama Bin Laden\",\"Mark Owen\"],[\"Obama: An Intimate Portrait\",\"Pete Souza\"],[\"Oh, the Places You'll Go!\",\"Dr. Seuss\"],[\"Oh, the Places You'll Go!\",\"Dr. Seuss\"],[\"Oh, the Places You'll Go!\",\"Dr. Seuss\"],[\"Oh, the Places You'll Go!\",\"Dr. Seuss\"],[\"Oh, the Places You'll Go!\",\"Dr. Seuss\"],[\"Oh, the Places You'll Go!\",\"Dr. Seuss\"],[\"Oh, the Places You'll Go!\",\"Dr. Seuss\"],[\"Oh, the Places You'll Go!\",\"Dr. Seuss\"],[\"Old School (Diary of a Wimpy Kid #10)\",\"Jeff Kinney\"],[\"Olive Kitteridge\",\"Elizabeth Strout\"],[\"One Thousand Gifts: A Dare to Live Fully Right Where You Are\",\"Ann Voskamp\"],[\"One Thousand Gifts: A Dare to Live Fully Right Where You Are\",\"Ann Voskamp\"],[\"Option B: Facing Adversity, Building Resilience, and Finding Joy\",\"Sheryl Sandberg\"],[\"Origin: A Novel (Robert Langdon)\",\"Dan Brown\"],[\"Orphan Train\",\"Christina Baker Kline\"],[\"Outliers: The Story of Success\",\"Malcolm Gladwell\"],[\"Outliers: The Story of Success\",\"Malcolm Gladwell\"],[\"P is for Potty! (Sesame Street) (Lift-the-Flap)\",\"Naomi Kleinberg\"],[\"P is for Potty! (Sesame Street) (Lift-the-Flap)\",\"Naomi Kleinberg\"],[\"Percy Jackson and the Olympians Paperback Boxed Set (Books 1-3)\",\"Rick Riordan\"],[\"Player's Handbook (Dungeons & Dragons)\",\"Wizards RPG Team\"],[\"Player's Handbook (Dungeons & Dragons)\",\"Wizards RPG Team\"],[\"Player's Handbook (Dungeons & Dragons)\",\"Wizards RPG Team\"],[\"Pok\\u00e9mon Deluxe Essential Handbook: The Need-to-Know Stats and Facts on Over 700 Pok\\u00e9mon\",\"Scholastic\"],[\"Proof of Heaven: A Neurosurgeon's Journey into the Afterlife\",\"Eben Alexander\"],[\"Proof of Heaven: A Neurosurgeon's Journey into the Afterlife\",\"Eben Alexander\"],[\"Publication Manual of the American Psychological Association, 6th Edition\",\"American Psychological Association\"],[\"Publication Manual of the American Psychological Association, 6th Edition\",\"American Psychological Association\"],[\"Publication Manual of the American Psychological Association, 6th Edition\",\"American Psychological Association\"],[\"Publication Manual of the American Psychological Association, 6th Edition\",\"American Psychological Association\"],[\"Publication Manual of the American Psychological Association, 6th Edition\",\"American Psychological Association\"],[\"Publication Manual of the American Psychological Association, 6th Edition\",\"American Psychological Association\"],[\"Publication Manual of the American Psychological Association, 6th Edition\",\"American Psychological Association\"],[\"Publication Manual of the American Psychological Association, 6th Edition\",\"American Psychological Association\"],[\"Publication Manual of the American Psychological Association, 6th Edition\",\"American Psychological Association\"],[\"Publication Manual of the American Psychological Association, 6th Edition\",\"American Psychological Association\"],[\"Puppy Birthday to You! (Paw Patrol) (Little Golden Book)\",\"Golden Books\"],[\"Quiet: The Power of Introverts in a World That Can't Stop Talking\",\"Susan Cain\"],[\"Quiet: The Power of Introverts in a World That Can't Stop Talking\",\"Susan Cain\"],[\"Radical: Taking Back Your Faith from the American Dream\",\"David Platt\"],[\"Radical: Taking Back Your Faith from the American Dream\",\"David Platt\"],[\"Ready Player One: A Novel\",\"Ernest Cline\"],[\"Ready Player One: A Novel\",\"Ernest Cline\"],[\"Rush Revere and the Brave Pilgrims: Time-Travel Adventures with Exceptional Americans (1)\",\"Rush Limbaugh\"],[\"Rush Revere and the First Patriots: Time-Travel Adventures With Exceptional Americans (2)\",\"Rush Limbaugh\"],[\"Salt, Fat, Acid, Heat: Mastering the Elements of Good Cooking\",\"Samin Nosrat\"],[\"Salt, Fat, Acid, Heat: Mastering the Elements of Good Cooking\",\"Samin Nosrat\"],[\"Sarah's Key\",\"Tatiana de Rosnay\"],[\"School Zone - Big Preschool Workbook - Ages 4 and Up, Colors, Shapes, Numbers 1-10, Alphabet, Pre-Writing, Pre-Reading\\u2026\",\"School Zone\"],[\"School Zone - Big Preschool Workbook - Ages 4 and Up, Colors, Shapes, Numbers 1-10, Alphabet, Pre-Writing, Pre-Reading\\u2026\",\"School Zone\"],[\"Secret Garden: An Inky Treasure Hunt and Coloring Book (For Adults, mindfulness coloring)\",\"Johanna Basford\"],[\"Sh*t My Dad Says\",\"Justin Halpern\"],[\"Ship of Fools: How a Selfish Ruling Class Is Bringing America to the Brink of Revolution\",\"Tucker Carlson\"],[\"Shred: The Revolutionary Diet: 6 Weeks 4 Inches 2 Sizes\",\"Ian K. Smith M.D.\"],[\"Sookie Stackhouse\",\"Charlaine Harris\"],[\"Soul Healing Miracles: Ancient and New Sacred Wisdom, Knowledge, and Practical Techniques for Healing the Spiritual\\u2026\",\"Zhi Gang Sha\"],[\"Steve Jobs\",\"Walter Isaacson\"],[\"Steve Jobs\",\"Walter Isaacson\"],[\"Strange Planet (Strange Planet Series)\",\"Nathan W. Pyle\"],[\"StrengthsFinder 2.0\",\"Gallup\"],[\"StrengthsFinder 2.0\",\"Gallup\"],[\"StrengthsFinder 2.0\",\"Gallup\"],[\"StrengthsFinder 2.0\",\"Gallup\"],[\"StrengthsFinder 2.0\",\"Gallup\"],[\"StrengthsFinder 2.0\",\"Gallup\"],[\"StrengthsFinder 2.0\",\"Gallup\"],[\"StrengthsFinder 2.0\",\"Gallup\"],[\"StrengthsFinder 2.0\",\"Gallup\"],[\"Super Freakonomics: Global Cooling, Patriotic Prostitutes, and Why Suicide Bombers Should Buy Life Insurance\",\"Steven D. Levitt\"],[\"Switch: How to Change Things When Change Is Hard\",\"Chip Heath\"],[\"Sycamore Row (Jake Brigance)\",\"John Grisham\"],[\"Teach Like a Champion: 49 Techniques that Put Students on the Path to College\",\"Doug Lemov\"],[\"Teach Like a Champion: 49 Techniques that Put Students on the Path to College\",\"Doug Lemov\"],[\"The 17 Day Diet: A Doctor's Plan Designed for Rapid Results\",\"Mike Moreno\"],[\"The 4 Hour Body: An Uncommon Guide to Rapid Fat Loss, Incredible Sex and Becoming Superhuman\",\"Timothy Ferriss\"],[\"The 5 Love Languages: The Secret to Love That Lasts\",\"Gary Chapman\"],[\"The 5 Love Languages: The Secret to Love That Lasts\",\"Gary Chapman\"],[\"The 5 Love Languages: The Secret to Love That Lasts\",\"Gary Chapman\"],[\"The 5 Love Languages: The Secret to Love That Lasts\",\"Gary Chapman\"],[\"The 5 Love Languages: The Secret to Love That Lasts\",\"Gary Chapman\"],[\"The 5 Love Languages: The Secret to Love that Lasts\",\"Gary Chapman\"],[\"The 5 Love Languages: The Secret to Love that Lasts\",\"Gary Chapman\"],[\"The 5 Love Languages: The Secret to Love that Lasts\",\"Gary Chapman\"],[\"The 5 Love Languages: The Secret to Love that Lasts\",\"Gary Chapman\"],[\"The 5 Love Languages: The Secret to Love that Lasts\",\"Gary Chapman\"],[\"The 5000 Year Leap\",\"W. Cleon Skousen\"],[\"The 7 Habits of Highly Effective People: Powerful Lessons in Personal Change\",\"Stephen R. Covey\"],[\"The 7 Habits of Highly Effective People: Powerful Lessons in Personal Change\",\"Stephen R. Covey\"],[\"The 7 Habits of Highly Effective People: Powerful Lessons in Personal Change\",\"Stephen R. Covey\"],[\"The 7 Habits of Highly Effective People: Powerful Lessons in Personal Change\",\"Stephen R. Covey\"],[\"The 7 Habits of Highly Effective People: Powerful Lessons in Personal Change\",\"Stephen R. Covey\"],[\"The 7 Habits of Highly Effective People: Powerful Lessons in Personal Change\",\"Stephen R. Covey\"],[\"The 7 Habits of Highly Effective People: Powerful Lessons in Personal Change\",\"Stephen R. Covey\"],[\"The Alchemist\",\"Paulo Coelho\"],[\"The Amateur\",\"Edward Klein\"],[\"The Art of Racing in the Rain: A Novel\",\"Garth Stein\"],[\"The Art of Racing in the Rain: A Novel\",\"Garth Stein\"],[\"The Big Short: Inside the Doomsday Machine\",\"Michael Lewis\"],[\"The Blood of Olympus (The Heroes of Olympus (5))\",\"Rick Riordan\"],[\"The Blood Sugar Solution: The UltraHealthy Program for Losing Weight, Preventing Disease, and Feeling Great Now!\",\"Mark Hyman M.D.\"],[\"The Body Keeps the Score: Brain, Mind, and Body in the Healing of Trauma\",\"Bessel van der Kolk M.D.\"],[\"The Book of Basketball: The NBA According to The Sports Guy\",\"Bill Simmons\"],[\"The Book Thief\",\"Markus Zusak\"],[\"The Book Thief\",\"Markus Zusak\"],[\"The Book with No Pictures\",\"B. J. Novak\"],[\"The Book with No Pictures\",\"B. J. Novak\"],[\"The Boys in the Boat: Nine Americans and Their Epic Quest for Gold at the 1936 Berlin Olympics\",\"Daniel James Brown\"],[\"The Boys in the Boat: Nine Americans and Their Epic Quest for Gold at the 1936 Berlin Olympics\",\"Daniel James Brown\"],[\"The Casual Vacancy\",\"J.K. Rowling\"],[\"The China Study: The Most Comprehensive Study of Nutrition Ever Conducted And the Startling Implications for Diet\\u2026\",\"Thomas Campbell\"],[\"The Complete Ketogenic Diet for Beginners: Your Essential Guide to Living the Keto Lifestyle\",\"Amy Ramos\"],[\"The Complete Ketogenic Diet for Beginners: Your Essential Guide to Living the Keto Lifestyle\",\"Amy Ramos\"],[\"The Confession: A Novel\",\"John Grisham\"],[\"The Constitution of the United States\",\"Delegates of the Constitutional\\u0085\"],[\"The Daily Show with Jon Stewart Presents Earth (The Book): A Visitor's Guide to the Human Race\",\"Jon Stewart\"],[\"The Day the Crayons Quit\",\"Drew Daywalt\"],[\"The Day the Crayons Quit\",\"Drew Daywalt\"],[\"The Day the Crayons Quit\",\"Drew Daywalt\"],[\"The Dukan Diet: 2 Steps to Lose the Weight, 2 Steps to Keep It Off Forever\",\"Pierre Dukan\"],[\"The Elegance of the Hedgehog\",\"Muriel Barbery\"],[\"The Fault in Our Stars\",\"John Green\"],[\"The Fault in Our Stars\",\"John Green\"],[\"The Fault in Our Stars\",\"John Green\"],[\"The Fault in Our Stars\",\"John Green\"],[\"The Five Dysfunctions of a Team: A Leadership Fable\",\"Patrick Lencioni\"],[\"The Five Dysfunctions of a Team: A Leadership Fable\",\"Patrick Lencioni\"],[\"The Five Dysfunctions of a Team: A Leadership Fable\",\"Patrick Lencioni\"],[\"The Five Dysfunctions of a Team: A Leadership Fable\",\"Patrick Lencioni\"],[\"The Five Dysfunctions of a Team: A Leadership Fable\",\"Patrick Lencioni\"],[\"The Five Love Languages: How to Express Heartfelt Commitment to Your Mate\",\"Gary Chapman\"],[\"The Four Agreements: A Practical Guide to Personal Freedom (A Toltec Wisdom Book)\",\"Don Miguel Ruiz\"],[\"The Four Agreements: A Practical Guide to Personal Freedom (A Toltec Wisdom Book)\",\"Don Miguel Ruiz\"],[\"The Four Agreements: A Practical Guide to Personal Freedom (A Toltec Wisdom Book)\",\"Don Miguel Ruiz\"],[\"The Four Agreements: A Practical Guide to Personal Freedom (A Toltec Wisdom Book)\",\"Don Miguel Ruiz\"],[\"The Four Agreements: A Practical Guide to Personal Freedom (A Toltec Wisdom Book)\",\"Don Miguel Ruiz\"],[\"The Four Agreements: A Practical Guide to Personal Freedom (A Toltec Wisdom Book)\",\"Don Miguel Ruiz\"],[\"The Getaway\",\"Jeff Kinney\"],[\"The Girl on the Train\",\"Paula Hawkins\"],[\"The Girl on the Train\",\"Paula Hawkins\"],[\"The Girl Who Kicked the Hornet's Nest (Millennium Trilogy)\",\"Stieg Larsson\"],[\"The Girl Who Kicked the Hornet's Nest (Millennium Trilogy)\",\"Stieg Larsson\"],[\"The Girl Who Played with Fire (Millennium Series)\",\"Stieg Larsson\"],[\"The Girl Who Played with Fire (Millennium)\",\"Stieg Larsson\"],[\"The Girl with the Dragon Tattoo (Millennium Series)\",\"Stieg Larsson\"],[\"The Girl with the Dragon Tattoo (Millennium Series)\",\"Stieg Larsson\"],[\"The Going-To-Bed Book\",\"Sandra Boynton\"],[\"The Going-To-Bed Book\",\"Sandra Boynton\"],[\"The Goldfinch: A Novel (Pulitzer Prize for Fiction)\",\"Donna Tartt\"],[\"The Goldfinch: A Novel (Pulitzer Prize for Fiction)\",\"Donna Tartt\"],[\"The Great Gatsby\",\"F. Scott Fitzgerald\"],[\"The Great Gatsby\",\"F. Scott Fitzgerald\"],[\"The Great Gatsby\",\"F. Scott Fitzgerald\"],[\"The Guardians: A Novel\",\"John Grisham\"],[\"The Guernsey Literary and Potato Peel Pie Society\",\"Mary Ann Shaffer\"],[\"The Handmaid's Tale\",\"Margaret Atwood\"],[\"The Harbinger: The Ancient Mystery that Holds the Secret of America's Future\",\"Jonathan Cahn\"],[\"The Hate U Give\",\"Angie Thomas\"],[\"The Help\",\"Kathryn Stockett\"],[\"The Help\",\"Kathryn Stockett\"],[\"The Help\",\"Kathryn Stockett\"],[\"The Help\",\"Kathryn Stockett\"],[\"The House of Hades (Heroes of Olympus, Book 4)\",\"Rick Riordan\"],[\"The Hunger Games\",\"Suzanne Collins\"],[\"The Hunger Games (Book 1)\",\"Suzanne Collins\"],[\"The Hunger Games (Book 1)\",\"Suzanne Collins\"],[\"The Hunger Games Trilogy Boxed Set (1)\",\"Suzanne Collins\"],[\"The Hunger Games Trilogy Boxed Set (1)\",\"Suzanne Collins\"],[\"The Immortal Life of Henrietta Lacks\",\"Rebecca Skloot\"],[\"The Immortal Life of Henrietta Lacks\",\"Rebecca Skloot\"],[\"The Immortal Life of Henrietta Lacks\",\"Rebecca Skloot\"],[\"The Instant Pot Electric Pressure Cooker Cookbook: Easy Recipes for Fast & Healthy Meals\",\"Laurel Randolph\"],[\"The Instant Pot Electric Pressure Cooker Cookbook: Easy Recipes for Fast & Healthy Meals\",\"Laurel Randolph\"],[\"The Last Lecture\",\"Randy Pausch\"],[\"The Last Olympian (Percy Jackson and the Olympians, Book 5)\",\"Rick Riordan\"],[\"The Last Olympian (Percy Jackson and the Olympians, Book 5)\",\"Rick Riordan\"],[\"The Legend of Zelda: Hyrule Historia\",\"Patrick Thorpe\"],[\"The Lego Ideas Book: Unlock Your Imagination\",\"Daniel Lipkowitz\"],[\"The Lego Ideas Book: Unlock Your Imagination\",\"Daniel Lipkowitz\"],[\"The Life-Changing Magic of Tidying Up: The Japanese Art of Decluttering and Organizing\",\"Marie Kond\\u014d\"],[\"The Life-Changing Magic of Tidying Up: The Japanese Art of Decluttering and Organizing\",\"Marie Kond\\u014d\"],[\"The Life-Changing Magic of Tidying Up: The Japanese Art of Decluttering and Organizing\",\"Marie Kond\\u014d\"],[\"The Life-Changing Magic of Tidying Up: The Japanese Art of Decluttering and Organizing\",\"Marie Kond\\u014d\"],[\"The Litigators\",\"John Grisham\"],[\"The Lost Hero (Heroes of Olympus, Book 1)\",\"Rick Riordan\"],[\"The Lost Symbol\",\"Dan Brown\"],[\"The Love Dare\",\"Stephen Kendrick\"],[\"The Magnolia Story\",\"Chip Gaines\"],[\"The Mark of Athena (Heroes of Olympus, Book 3)\",\"Rick Riordan\"],[\"The Martian\",\"Andy Weir\"],[\"The Maze Runner (Book 1)\",\"James Dashner\"],[\"The Meltdown (Diary of a Wimpy Kid Book 13)\",\"Jeff Kinney\"],[\"The Mueller Report\",\"The Washington Post\"],[\"The Nightingale: A Novel\",\"Kristin Hannah\"],[\"The Nightingale: A Novel\",\"Kristin Hannah\"],[\"The Official SAT Study Guide\",\"The College Board\"],[\"The Official SAT Study Guide\",\"The College Board\"],[\"The Official SAT Study Guide\",\"The College Board\"],[\"The Official SAT Study Guide\",\"The College Board\"],[\"The Official SAT Study Guide\",\"The College Board\"],[\"The Official SAT Study Guide, 2016 Edition (Official Study Guide for the New Sat)\",\"The College Board\"],[\"The Paris Wife: A Novel\",\"Paula McLain\"],[\"The Pioneer Woman Cooks: A Year of Holidays: 140 Step-by-Step Recipes for Simple, Scrumptious Celebrations\",\"Ree Drummond\"],[\"The Pioneer Woman Cooks: Dinnertime - Comfort Classics, Freezer Food, 16-minute Meals, and Other Delicious Ways to Solve\\u2026\",\"Ree Drummond\"],[\"The Pioneer Woman Cooks: Food from My Frontier\",\"Ree Drummond\"],[\"The Plant Paradox Cookbook: 100 Delicious Recipes to Help You Lose Weight, Heal Your Gut, and Live Lectin-Free\",\"Dr. Steven R Gundry MD\"],[\"The Plant Paradox: The Hidden Dangers in \\\"Healthy\\\" Foods That Cause Disease and Weight Gain\",\"Dr. Steven R Gundry MD\"],[\"The Pout-Pout Fish\",\"Deborah Diesen\"],[\"The Pout-Pout Fish\",\"Deborah Diesen\"],[\"The Power of Habit: Why We Do What We Do in Life and Business\",\"Charles Duhigg\"],[\"The President Is Missing: A Novel\",\"James Patterson\"],[\"The Racketeer\",\"John Grisham\"],[\"The Red Pyramid (The Kane Chronicles, Book 1)\",\"Rick Riordan\"],[\"The Road to Serfdom: Text and Documents--The Definitive Edition (The Collected Works of F. A. Hayek, Volume 2)\",\"F. A. Hayek\"],[\"The Serpent's Shadow (The Kane Chronicles, Book 3)\",\"Rick Riordan\"],[\"The Shack: Where Tragedy Confronts Eternity\",\"William P. Young\"],[\"The Shack: Where Tragedy Confronts Eternity\",\"William P. Young\"],[\"The Short Second Life of Bree Tanner: An Eclipse Novella (The Twilight Saga)\",\"Stephenie Meyer\"],[\"The Silent Patient\",\"Alex Michaelides\"],[\"The Son of Neptune (Heroes of Olympus, Book 2)\",\"Rick Riordan\"],[\"The Subtle Art of Not Giving a F*ck: A Counterintuitive Approach to Living a Good Life\",\"Mark Manson\"],[\"The Subtle Art of Not Giving a F*ck: A Counterintuitive Approach to Living a Good Life\",\"Mark Manson\"],[\"The Subtle Art of Not Giving a F*ck: A Counterintuitive Approach to Living a Good Life\",\"Mark Manson\"],[\"The Sun and Her Flowers\",\"Rupi Kaur\"],[\"The Third Wheel (Diary of a Wimpy Kid, Book 7)\",\"Jeff Kinney\"],[\"The Throne of Fire (The Kane Chronicles, Book 2)\",\"Rick Riordan\"],[\"The Time Traveler's Wife\",\"Audrey Niffenegger\"],[\"The Tipping Point: How Little Things Can Make a Big Difference\",\"Malcolm Gladwell\"],[\"The Total Money Makeover: Classic Edition: A Proven Plan for Financial Fitness\",\"Dave Ramsey\"],[\"The Twilight Saga Collection\",\"Stephenie Meyer\"],[\"The Ugly Truth (Diary of a Wimpy Kid, Book 5)\",\"Jeff Kinney\"],[\"The Unofficial Harry Potter Cookbook: From Cauldron Cakes to Knickerbocker Glory--More Than 150 Magical Recipes for\\u2026\",\"Dinah Bucholz\"],[\"The Very Hungry Caterpillar\",\"Eric Carle\"],[\"The Very Hungry Caterpillar\",\"Eric Carle\"],[\"The Very Hungry Caterpillar\",\"Eric Carle\"],[\"The Very Hungry Caterpillar\",\"Eric Carle\"],[\"The Very Hungry Caterpillar\",\"Eric Carle\"],[\"The Very Hungry Caterpillar\",\"Eric Carle\"],[\"The Very Hungry Caterpillar\",\"Eric Carle\"],[\"The Whole30: The 30-Day Guide to Total Health and Food Freedom\",\"Melissa Hartwig Urban\"],[\"The Whole30: The 30-Day Guide to Total Health and Food Freedom\",\"Melissa Hartwig Urban\"],[\"The Whole30: The 30-Day Guide to Total Health and Food Freedom\",\"Melissa Hartwig Urban\"],[\"The Wonderful Things You Will Be\",\"Emily Winfield Martin\"],[\"The Wonderful Things You Will Be\",\"Emily Winfield Martin\"],[\"The Wonderful Things You Will Be\",\"Emily Winfield Martin\"],[\"The Wonderful Things You Will Be\",\"Emily Winfield Martin\"],[\"The Wonky Donkey\",\"Craig Smith\"],[\"The Wonky Donkey\",\"Craig Smith\"],[\"The Wright Brothers\",\"David McCullough\"],[\"Things That Matter: Three Decades of Passions, Pastimes and Politics [Deckled Edge]\",\"Charles Krauthammer\"],[\"Thinking, Fast and Slow\",\"Daniel Kahneman\"],[\"Thinking, Fast and Slow\",\"Daniel Kahneman\"],[\"Thirteen Reasons Why\",\"Jay Asher\"],[\"Thomas Jefferson: The Art of Power\",\"Jon Meacham\"],[\"Three Cups of Tea: One Man's Mission to Promote Peace - One School at a Time\",\"Greg Mortenson\"],[\"Three Cups of Tea: One Man's Mission to Promote Peace - One School at a Time\",\"Greg Mortenson\"],[\"Thug Kitchen: The Official Cookbook: Eat Like You Give a F*ck (Thug Kitchen Cookbooks)\",\"Thug Kitchen\"],[\"Thug Kitchen: The Official Cookbook: Eat Like You Give a F*ck (Thug Kitchen Cookbooks)\",\"Thug Kitchen\"],[\"Thug Kitchen: The Official Cookbook: Eat Like You Give a F*ck (Thug Kitchen Cookbooks)\",\"Thug Kitchen\"],[\"Thug Kitchen: The Official Cookbook: Eat Like You Give a F*ck (Thug Kitchen Cookbooks)\",\"Thug Kitchen\"],[\"Tina Fey: Bossypants\",\"Tina Fey\"],[\"To Kill a Mockingbird\",\"Harper Lee\"],[\"To Kill a Mockingbird\",\"Harper Lee\"],[\"To Kill a Mockingbird\",\"Harper Lee\"],[\"To Kill a Mockingbird\",\"Harper Lee\"],[\"To Kill a Mockingbird\",\"Harper Lee\"],[\"Tools of Titans: The Tactics, Routines, and Habits of Billionaires, Icons, and World-Class Performers\",\"Timothy Ferriss\"],[\"Towers of Midnight (Wheel of Time, Book Thirteen)\",\"Robert Jordan\"],[\"True Compass: A Memoir\",\"Edward M. Kennedy\"],[\"Twilight (The Twilight Saga, Book 1)\",\"Stephenie Meyer\"],[\"Ultimate Sticker Book: Frozen: More Than 60 Reusable Full-Color Stickers\",\"DK\"],[\"Unbroken: A World War II Story of Survival, Resilience, and Redemption\",\"Laura Hillenbrand\"],[\"Unbroken: A World War II Story of Survival, Resilience, and Redemption\",\"Laura Hillenbrand\"],[\"Unbroken: A World War II Story of Survival, Resilience, and Redemption\",\"Laura Hillenbrand\"],[\"Unbroken: A World War II Story of Survival, Resilience, and Redemption\",\"Laura Hillenbrand\"],[\"Unbroken: A World War II Story of Survival, Resilience, and Redemption\",\"Laura Hillenbrand\"],[\"Under the Dome: A Novel\",\"Stephen King\"],[\"Unfreedom of the Press\",\"Mark R. Levin\"],[\"Unicorn Coloring Book: For Kids Ages 4-8 (US Edition) (Silly Bear Coloring Books)\",\"Silly Bear\"],[\"Uninvited: Living Loved When You Feel Less Than, Left Out, and Lonely\",\"Lysa TerKeurst\"],[\"Watchmen\",\"Alan Moore\"],[\"Water for Elephants: A Novel\",\"Sara Gruen\"],[\"What Happened\",\"Hillary Rodham Clinton\"],[\"What If?: Serious Scientific Answers to Absurd Hypothetical Questions\",\"Randall Munroe\"],[\"What Pet Should I Get? (Classic Seuss)\",\"Dr. Seuss\"],[\"What Should Danny Do? (The Power to Choose Series)\",\"Adir Levy\"],[\"What to Expect When You're Expecting\",\"Heidi Murkoff\"],[\"Wheat Belly: Lose the Wheat, Lose the Weight, and Find Your Path Back to Health\",\"William Davis\"],[\"Wheat Belly: Lose the Wheat, Lose the Weight, and Find Your Path Back to Health\",\"William Davis\"],[\"When Breath Becomes Air\",\"Paul Kalanithi\"],[\"Where the Crawdads Sing\",\"Delia Owens\"],[\"Where the Wild Things Are\",\"Maurice Sendak\"],[\"Whose Boat Is This Boat?: Comments That Don't Help in the Aftermath of a Hurricane\",\"The Staff of The Late Show with\\u0085\"],[\"Wild: From Lost to Found on the Pacific Crest Trail\",\"Cheryl Strayed\"],[\"Winter of the World: Book Two of the Century Trilogy\",\"Ken Follett\"],[\"Women Food and God: An Unexpected Path to Almost Everything\",\"Geneen Roth\"],[\"Wonder\",\"R. J. Palacio\"],[\"Wonder\",\"R. J. Palacio\"],[\"Wonder\",\"R. J. Palacio\"],[\"Wonder\",\"R. J. Palacio\"],[\"Wonder\",\"R. J. Palacio\"],[\"Wrecking Ball (Diary of a Wimpy Kid Book 14)\",\"Jeff Kinney\"],[\"You Are a Badass: How to Stop Doubting Your Greatness and Start Living an Awesome Life\",\"Jen Sincero\"],[\"You Are a Badass: How to Stop Doubting Your Greatness and Start Living an Awesome Life\",\"Jen Sincero\"],[\"You Are a Badass: How to Stop Doubting Your Greatness and Start Living an Awesome Life\",\"Jen Sincero\"],[\"You Are a Badass: How to Stop Doubting Your Greatness and Start Living an Awesome Life\",\"Jen Sincero\"]],\"hovertemplate\":\"Reviews=%{x}<br>Name=%{customdata[0]}<br>Author=%{customdata[1]}<extra></extra>\",\"legendgroup\":\"\",\"marker\":{\"color\":\"#636efa\"},\"name\":\"\",\"notched\":true,\"offsetgroup\":\"\",\"showlegend\":false,\"type\":\"box\",\"x\":[17350,2052,18979,21424,7665,12643,19735,19699,5983,23848,23848,460,4149,5153,5013,2313,2925,2951,2426,9198,36348,36348,6310,15921,12159,798,9374,491,5360,1909,1296,615,61133,61133,11113,10070,10070,3729,9769,471,14344,14344,4505,10369,16244,2884,22614,22614,22614,4761,1542,1542,1542,6143,4022,3871,4866,4866,1329,4642,1541,1924,2094,10922,10922,10922,10922,2137,1651,6679,6679,6812,3837,6540,7955,27098,27098,17684,37,15845,3181,5062,4786,7235,7235,12619,9089,5470,5118,2134,2525,720,956,6346,6346,5505,5505,28729,28729,5413,10721,10721,4370,6042,23631,20262,47265,47265,13964,13677,17323,17323,17323,17323,17323,1555,3642,1215,5594,5594,5594,408,4799,14038,14038,14038,14038,14038,7660,22288,22288,1365,14982,9568,1636,57271,57271,57271,10141,3457,3457,3457,3457,8837,8837,8837,7038,7038,5972,25624,5476,5867,4148,19622,23973,7758,3146,10052,3564,13471,1930,15779,15779,15526,15526,3776,25001,25001,25001,25001,25001,5272,3490,3490,2812,4896,9737,1320,16643,16643,7153,4571,29651,5299,7396,7396,7062,19576,19576,19576,19576,19576,19576,978,4748,8393,11391,8634,9342,9342,10927,5235,8916,2507,3673,3673,3673,11881,6990,6990,6990,6990,6990,6132,3014,7550,3828,2752,1467,1884,25706,8491,1649,18613,18613,9867,1386,10199,2926,17739,17739,17739,3113,5542,5542,5542,26741,26741,26741,5347,7866,5680,5178,8093,3192,21834,21834,21834,21834,21834,21834,21834,21834,6169,4519,3163,3163,1831,18904,21930,10426,10426,10820,10820,548,16990,16990,16990,3503,13616,13616,8580,8580,8580,8580,8580,8580,8580,8580,8580,8580,4757,10009,10009,1985,1985,22536,22536,7150,3836,7802,7802,3619,23047,23047,9366,1265,3923,2272,973,220,7827,7827,9382,5069,5069,5069,5069,5069,5069,5069,5069,5069,1583,1907,23114,637,637,2314,4587,3477,3477,3477,3477,3477,25554,25554,25554,25554,25554,1680,9325,9325,9325,9325,4725,4725,4725,35799,2580,11813,11813,3536,6600,1789,12361,858,23148,23148,8081,8081,23358,23358,9372,4633,13061,13061,3523,2774,440,8922,8922,8922,2023,1859,50482,50482,50482,50482,3207,3207,3207,3207,3207,803,23308,23308,23308,23308,23308,23308,5836,79446,79446,7747,7747,7251,7251,10559,10559,5249,5249,33844,33844,11616,11616,11616,13609,8587,29442,11098,9947,13871,13871,13871,13871,6982,32122,32122,32122,16949,16949,9289,9289,9289,7368,7368,4028,4628,4628,5396,4247,4247,22641,22641,22641,22641,6222,4506,8747,1655,7861,6247,39459,10101,5898,2744,49288,49288,1201,1201,1201,1201,1201,807,3759,2663,3428,2876,3601,7058,9784,9784,10795,10191,14493,2186,1204,2091,19720,19720,2122,27536,4290,26490,26490,26490,5487,6377,1463,3759,3503,11550,3801,3796,9030,19546,19546,19546,19546,19546,19546,19546,7508,7508,7508,8842,8842,8842,8842,30183,30183,6169,7034,11034,11034,7932,1904,3319,3319,11128,11128,11128,11128,5977,26234,26234,26234,26234,26234,4360,2282,438,11676,2586,29673,29673,29673,29673,29673,6740,5956,6108,4585,3829,8958,5492,9292,1873,8170,3341,7497,7497,13779,87841,9967,6669,17044,10760,1302,21625,21625,21625,21625,21625,9413,14331,14331,14331,14331],\"xaxis\":\"x2\",\"yaxis\":\"y2\"}],                        {\"barmode\":\"relative\",\"legend\":{\"tracegroupgap\":0},\"template\":{\"data\":{\"bar\":[{\"error_x\":{\"color\":\"#2a3f5f\"},\"error_y\":{\"color\":\"#2a3f5f\"},\"marker\":{\"line\":{\"color\":\"#E5ECF6\",\"width\":0.5},\"pattern\":{\"fillmode\":\"overlay\",\"size\":10,\"solidity\":0.2}},\"type\":\"bar\"}],\"barpolar\":[{\"marker\":{\"line\":{\"color\":\"#E5ECF6\",\"width\":0.5},\"pattern\":{\"fillmode\":\"overlay\",\"size\":10,\"solidity\":0.2}},\"type\":\"barpolar\"}],\"carpet\":[{\"aaxis\":{\"endlinecolor\":\"#2a3f5f\",\"gridcolor\":\"white\",\"linecolor\":\"white\",\"minorgridcolor\":\"white\",\"startlinecolor\":\"#2a3f5f\"},\"baxis\":{\"endlinecolor\":\"#2a3f5f\",\"gridcolor\":\"white\",\"linecolor\":\"white\",\"minorgridcolor\":\"white\",\"startlinecolor\":\"#2a3f5f\"},\"type\":\"carpet\"}],\"choropleth\":[{\"colorbar\":{\"outlinewidth\":0,\"ticks\":\"\"},\"type\":\"choropleth\"}],\"contour\":[{\"colorbar\":{\"outlinewidth\":0,\"ticks\":\"\"},\"colorscale\":[[0.0,\"#0d0887\"],[0.1111111111111111,\"#46039f\"],[0.2222222222222222,\"#7201a8\"],[0.3333333333333333,\"#9c179e\"],[0.4444444444444444,\"#bd3786\"],[0.5555555555555556,\"#d8576b\"],[0.6666666666666666,\"#ed7953\"],[0.7777777777777778,\"#fb9f3a\"],[0.8888888888888888,\"#fdca26\"],[1.0,\"#f0f921\"]],\"type\":\"contour\"}],\"contourcarpet\":[{\"colorbar\":{\"outlinewidth\":0,\"ticks\":\"\"},\"type\":\"contourcarpet\"}],\"heatmap\":[{\"colorbar\":{\"outlinewidth\":0,\"ticks\":\"\"},\"colorscale\":[[0.0,\"#0d0887\"],[0.1111111111111111,\"#46039f\"],[0.2222222222222222,\"#7201a8\"],[0.3333333333333333,\"#9c179e\"],[0.4444444444444444,\"#bd3786\"],[0.5555555555555556,\"#d8576b\"],[0.6666666666666666,\"#ed7953\"],[0.7777777777777778,\"#fb9f3a\"],[0.8888888888888888,\"#fdca26\"],[1.0,\"#f0f921\"]],\"type\":\"heatmap\"}],\"heatmapgl\":[{\"colorbar\":{\"outlinewidth\":0,\"ticks\":\"\"},\"colorscale\":[[0.0,\"#0d0887\"],[0.1111111111111111,\"#46039f\"],[0.2222222222222222,\"#7201a8\"],[0.3333333333333333,\"#9c179e\"],[0.4444444444444444,\"#bd3786\"],[0.5555555555555556,\"#d8576b\"],[0.6666666666666666,\"#ed7953\"],[0.7777777777777778,\"#fb9f3a\"],[0.8888888888888888,\"#fdca26\"],[1.0,\"#f0f921\"]],\"type\":\"heatmapgl\"}],\"histogram\":[{\"marker\":{\"pattern\":{\"fillmode\":\"overlay\",\"size\":10,\"solidity\":0.2}},\"type\":\"histogram\"}],\"histogram2d\":[{\"colorbar\":{\"outlinewidth\":0,\"ticks\":\"\"},\"colorscale\":[[0.0,\"#0d0887\"],[0.1111111111111111,\"#46039f\"],[0.2222222222222222,\"#7201a8\"],[0.3333333333333333,\"#9c179e\"],[0.4444444444444444,\"#bd3786\"],[0.5555555555555556,\"#d8576b\"],[0.6666666666666666,\"#ed7953\"],[0.7777777777777778,\"#fb9f3a\"],[0.8888888888888888,\"#fdca26\"],[1.0,\"#f0f921\"]],\"type\":\"histogram2d\"}],\"histogram2dcontour\":[{\"colorbar\":{\"outlinewidth\":0,\"ticks\":\"\"},\"colorscale\":[[0.0,\"#0d0887\"],[0.1111111111111111,\"#46039f\"],[0.2222222222222222,\"#7201a8\"],[0.3333333333333333,\"#9c179e\"],[0.4444444444444444,\"#bd3786\"],[0.5555555555555556,\"#d8576b\"],[0.6666666666666666,\"#ed7953\"],[0.7777777777777778,\"#fb9f3a\"],[0.8888888888888888,\"#fdca26\"],[1.0,\"#f0f921\"]],\"type\":\"histogram2dcontour\"}],\"mesh3d\":[{\"colorbar\":{\"outlinewidth\":0,\"ticks\":\"\"},\"type\":\"mesh3d\"}],\"parcoords\":[{\"line\":{\"colorbar\":{\"outlinewidth\":0,\"ticks\":\"\"}},\"type\":\"parcoords\"}],\"pie\":[{\"automargin\":true,\"type\":\"pie\"}],\"scatter\":[{\"marker\":{\"colorbar\":{\"outlinewidth\":0,\"ticks\":\"\"}},\"type\":\"scatter\"}],\"scatter3d\":[{\"line\":{\"colorbar\":{\"outlinewidth\":0,\"ticks\":\"\"}},\"marker\":{\"colorbar\":{\"outlinewidth\":0,\"ticks\":\"\"}},\"type\":\"scatter3d\"}],\"scattercarpet\":[{\"marker\":{\"colorbar\":{\"outlinewidth\":0,\"ticks\":\"\"}},\"type\":\"scattercarpet\"}],\"scattergeo\":[{\"marker\":{\"colorbar\":{\"outlinewidth\":0,\"ticks\":\"\"}},\"type\":\"scattergeo\"}],\"scattergl\":[{\"marker\":{\"colorbar\":{\"outlinewidth\":0,\"ticks\":\"\"}},\"type\":\"scattergl\"}],\"scattermapbox\":[{\"marker\":{\"colorbar\":{\"outlinewidth\":0,\"ticks\":\"\"}},\"type\":\"scattermapbox\"}],\"scatterpolar\":[{\"marker\":{\"colorbar\":{\"outlinewidth\":0,\"ticks\":\"\"}},\"type\":\"scatterpolar\"}],\"scatterpolargl\":[{\"marker\":{\"colorbar\":{\"outlinewidth\":0,\"ticks\":\"\"}},\"type\":\"scatterpolargl\"}],\"scatterternary\":[{\"marker\":{\"colorbar\":{\"outlinewidth\":0,\"ticks\":\"\"}},\"type\":\"scatterternary\"}],\"surface\":[{\"colorbar\":{\"outlinewidth\":0,\"ticks\":\"\"},\"colorscale\":[[0.0,\"#0d0887\"],[0.1111111111111111,\"#46039f\"],[0.2222222222222222,\"#7201a8\"],[0.3333333333333333,\"#9c179e\"],[0.4444444444444444,\"#bd3786\"],[0.5555555555555556,\"#d8576b\"],[0.6666666666666666,\"#ed7953\"],[0.7777777777777778,\"#fb9f3a\"],[0.8888888888888888,\"#fdca26\"],[1.0,\"#f0f921\"]],\"type\":\"surface\"}],\"table\":[{\"cells\":{\"fill\":{\"color\":\"#EBF0F8\"},\"line\":{\"color\":\"white\"}},\"header\":{\"fill\":{\"color\":\"#C8D4E3\"},\"line\":{\"color\":\"white\"}},\"type\":\"table\"}]},\"layout\":{\"annotationdefaults\":{\"arrowcolor\":\"#2a3f5f\",\"arrowhead\":0,\"arrowwidth\":1},\"autotypenumbers\":\"strict\",\"coloraxis\":{\"colorbar\":{\"outlinewidth\":0,\"ticks\":\"\"}},\"colorscale\":{\"diverging\":[[0,\"#8e0152\"],[0.1,\"#c51b7d\"],[0.2,\"#de77ae\"],[0.3,\"#f1b6da\"],[0.4,\"#fde0ef\"],[0.5,\"#f7f7f7\"],[0.6,\"#e6f5d0\"],[0.7,\"#b8e186\"],[0.8,\"#7fbc41\"],[0.9,\"#4d9221\"],[1,\"#276419\"]],\"sequential\":[[0.0,\"#0d0887\"],[0.1111111111111111,\"#46039f\"],[0.2222222222222222,\"#7201a8\"],[0.3333333333333333,\"#9c179e\"],[0.4444444444444444,\"#bd3786\"],[0.5555555555555556,\"#d8576b\"],[0.6666666666666666,\"#ed7953\"],[0.7777777777777778,\"#fb9f3a\"],[0.8888888888888888,\"#fdca26\"],[1.0,\"#f0f921\"]],\"sequentialminus\":[[0.0,\"#0d0887\"],[0.1111111111111111,\"#46039f\"],[0.2222222222222222,\"#7201a8\"],[0.3333333333333333,\"#9c179e\"],[0.4444444444444444,\"#bd3786\"],[0.5555555555555556,\"#d8576b\"],[0.6666666666666666,\"#ed7953\"],[0.7777777777777778,\"#fb9f3a\"],[0.8888888888888888,\"#fdca26\"],[1.0,\"#f0f921\"]]},\"colorway\":[\"#636efa\",\"#EF553B\",\"#00cc96\",\"#ab63fa\",\"#FFA15A\",\"#19d3f3\",\"#FF6692\",\"#B6E880\",\"#FF97FF\",\"#FECB52\"],\"font\":{\"color\":\"#2a3f5f\"},\"geo\":{\"bgcolor\":\"white\",\"lakecolor\":\"white\",\"landcolor\":\"#E5ECF6\",\"showlakes\":true,\"showland\":true,\"subunitcolor\":\"white\"},\"hoverlabel\":{\"align\":\"left\"},\"hovermode\":\"closest\",\"mapbox\":{\"style\":\"light\"},\"paper_bgcolor\":\"white\",\"plot_bgcolor\":\"#E5ECF6\",\"polar\":{\"angularaxis\":{\"gridcolor\":\"white\",\"linecolor\":\"white\",\"ticks\":\"\"},\"bgcolor\":\"#E5ECF6\",\"radialaxis\":{\"gridcolor\":\"white\",\"linecolor\":\"white\",\"ticks\":\"\"}},\"scene\":{\"xaxis\":{\"backgroundcolor\":\"#E5ECF6\",\"gridcolor\":\"white\",\"gridwidth\":2,\"linecolor\":\"white\",\"showbackground\":true,\"ticks\":\"\",\"zerolinecolor\":\"white\"},\"yaxis\":{\"backgroundcolor\":\"#E5ECF6\",\"gridcolor\":\"white\",\"gridwidth\":2,\"linecolor\":\"white\",\"showbackground\":true,\"ticks\":\"\",\"zerolinecolor\":\"white\"},\"zaxis\":{\"backgroundcolor\":\"#E5ECF6\",\"gridcolor\":\"white\",\"gridwidth\":2,\"linecolor\":\"white\",\"showbackground\":true,\"ticks\":\"\",\"zerolinecolor\":\"white\"}},\"shapedefaults\":{\"line\":{\"color\":\"#2a3f5f\"}},\"ternary\":{\"aaxis\":{\"gridcolor\":\"white\",\"linecolor\":\"white\",\"ticks\":\"\"},\"baxis\":{\"gridcolor\":\"white\",\"linecolor\":\"white\",\"ticks\":\"\"},\"bgcolor\":\"#E5ECF6\",\"caxis\":{\"gridcolor\":\"white\",\"linecolor\":\"white\",\"ticks\":\"\"}},\"title\":{\"x\":0.05},\"xaxis\":{\"automargin\":true,\"gridcolor\":\"white\",\"linecolor\":\"white\",\"ticks\":\"\",\"title\":{\"standoff\":15},\"zerolinecolor\":\"white\",\"zerolinewidth\":2},\"yaxis\":{\"automargin\":true,\"gridcolor\":\"white\",\"linecolor\":\"white\",\"ticks\":\"\",\"title\":{\"standoff\":15},\"zerolinecolor\":\"white\",\"zerolinewidth\":2}}},\"title\":{\"text\":\"Rese\\u00f1as\"},\"xaxis\":{\"anchor\":\"y\",\"domain\":[0.0,1.0],\"title\":{\"text\":\"Reviews\"}},\"xaxis2\":{\"anchor\":\"y2\",\"domain\":[0.0,1.0],\"matches\":\"x\",\"showgrid\":true,\"showticklabels\":false},\"yaxis\":{\"anchor\":\"x\",\"domain\":[0.0,0.8316],\"title\":{\"text\":\"count\"}},\"yaxis2\":{\"anchor\":\"x2\",\"domain\":[0.8416,1.0],\"matches\":\"y2\",\"showgrid\":false,\"showline\":false,\"showticklabels\":false,\"ticks\":\"\"}},                        {\"responsive\": true}                    ).then(function(){\n                            \nvar gd = document.getElementById('258fb1ba-07fd-4996-97ad-4d41bb8baf83');\nvar x = new MutationObserver(function (mutations, observer) {{\n        var display = window.getComputedStyle(gd).display;\n        if (!display || display === 'none') {{\n            console.log([gd, 'removed!']);\n            Plotly.purge(gd);\n            observer.disconnect();\n        }}\n}});\n\n// Listen for the removal of the full notebook cells\nvar notebookContainer = gd.closest('#notebook-container');\nif (notebookContainer) {{\n    x.observe(notebookContainer, {childList: true});\n}}\n\n// Listen for the clearing of the current output cell\nvar outputEl = gd.closest('.output');\nif (outputEl) {{\n    x.observe(outputEl, {childList: true});\n}}\n\n                        })                };                            </script>        </div>\n</body>\n</html>"
     },
     "metadata": {},
     "output_type": "display_data"
    }
   ]
  },
  {
   "cell_type": "markdown",
   "source": "## Precio\n- Podemos esperar una **distribución ligeramente sesgada**. \n- Aún así, la distribución estará cerca de la distribución normal. \n- Podemos esperar valores atípicos en el **lado máximo**.\n- También tenemos **libros gratuitos** en el dataset.",
   "metadata": {
    "tags": [],
    "cell_id": "00024-e1fb34b6-b055-4195-a9ec-36b64bfda2e2",
    "deepnote_cell_type": "markdown"
   }
  },
  {
   "cell_type": "code",
   "metadata": {
    "tags": [],
    "cell_id": "00025-be34de21-7159-4f39-8dd3-b703d4670707",
    "deepnote_to_be_reexecuted": false,
    "source_hash": "305199cf",
    "execution_start": 1627082803621,
    "execution_millis": 16,
    "deepnote_cell_type": "code"
   },
   "source": "df['Price'].describe()",
   "execution_count": null,
   "outputs": [
    {
     "output_type": "execute_result",
     "execution_count": 47,
     "data": {
      "text/plain": "count    550.000000\nmean      13.100000\nstd       10.842262\nmin        0.000000\n25%        7.000000\n50%       11.000000\n75%       16.000000\nmax      105.000000\nName: Price, dtype: float64"
     },
     "metadata": {}
    }
   ]
  },
  {
   "cell_type": "markdown",
   "source": "- Como esperábamos, tenemos una distribución** ligeramente sesgada a la derecha con valores atípicos en el lado máximo**.\n- También tenemos 13 libros en el rango de **precio $ 0-1**.\n- Antes de pasar a los detalles, veamos la matriz de correlación de nuestro conjunto de datos. ",
   "metadata": {
    "tags": [],
    "cell_id": "00026-11280618-b195-4714-807c-293729f95977",
    "deepnote_cell_type": "markdown"
   }
  },
  {
   "cell_type": "code",
   "metadata": {
    "tags": [],
    "cell_id": "00027-c77cc174-355c-4fa7-b664-25dfa169d2b1",
    "deepnote_to_be_reexecuted": false,
    "source_hash": "62793bfd",
    "execution_start": 1627083058081,
    "execution_millis": 124,
    "deepnote_cell_type": "code"
   },
   "source": "fig = px.histogram(df, x='Price',\n    title='Precios',\n    marginal='box',\n    hover_data=df[['Name','Author']]\n)\nfig.show()",
   "execution_count": null,
   "outputs": [
    {
     "data": {
      "text/html": "<html>\n<head><meta charset=\"utf-8\" /></head>\n<body>\n    <div>            <script src=\"https://cdnjs.cloudflare.com/ajax/libs/mathjax/2.7.5/MathJax.js?config=TeX-AMS-MML_SVG\"></script><script type=\"text/javascript\">if (window.MathJax) {MathJax.Hub.Config({SVG: {font: \"STIX-Web\"}});}</script>                <script type=\"text/javascript\">window.PlotlyConfig = {MathJaxConfig: 'local'};</script>\n        <script src=\"https://cdn.plot.ly/plotly-2.2.0.min.js\"></script>                <div id=\"9c55e3fa-e241-47c0-9a97-1b2f22880f7c\" class=\"plotly-graph-div\" style=\"height:525px; width:100%;\"></div>            <script type=\"text/javascript\">                                    window.PLOTLYENV=window.PLOTLYENV || {};                                    if (document.getElementById(\"9c55e3fa-e241-47c0-9a97-1b2f22880f7c\")) {                    Plotly.newPlot(                        \"9c55e3fa-e241-47c0-9a97-1b2f22880f7c\",                        [{\"alignmentgroup\":\"True\",\"bingroup\":\"x\",\"hovertemplate\":\"Price=%{x}<br>count=%{y}<extra></extra>\",\"legendgroup\":\"\",\"marker\":{\"color\":\"#636efa\",\"pattern\":{\"shape\":\"\"}},\"name\":\"\",\"offsetgroup\":\"\",\"orientation\":\"v\",\"showlegend\":false,\"type\":\"histogram\",\"x\":[8,22,15,6,12,11,30,15,3,8,8,2,32,5,17,4,6,6,8,13,14,14,13,9,13,5,9,14,5,11,24,21,11,11,15,13,13,18,13,8,5,5,0,4,18,28,11,11,11,16,14,14,14,8,4,5,11,11,10,13,4,8,4,5,5,5,5,17,15,105,105,0,15,22,5,15,15,6,6,13,12,6,8,4,4,8,8,6,20,5,16,1,14,9,9,7,18,15,15,9,8,8,15,2,7,11,14,14,32,6,4,4,4,4,4,9,0,9,5,5,5,20,16,4,4,4,4,4,12,12,12,11,19,9,6,10,10,9,6,14,14,14,14,5,5,5,7,7,10,14,7,54,11,30,12,18,30,22,9,52,4,10,10,14,14,22,11,11,11,11,11,16,15,15,17,17,7,7,4,4,9,21,14,20,13,13,12,8,8,8,8,8,8,0,12,17,12,25,10,10,6,5,6,8,4,4,4,13,4,4,4,4,4,13,21,6,15,18,10,0,12,7,13,5,5,16,20,11,27,8,8,8,6,10,10,10,8,8,8,16,11,10,9,14,22,8,8,8,8,8,8,8,8,7,12,13,13,9,13,11,20,20,5,5,2,27,27,27,9,10,10,46,46,46,46,46,46,46,46,46,46,4,20,7,9,9,12,12,12,12,20,20,10,6,6,9,11,16,6,25,17,20,20,6,17,17,17,17,17,17,17,17,17,18,13,18,20,20,22,21,28,28,28,28,28,8,8,8,8,8,12,24,24,24,24,16,16,16,39,9,10,10,17,11,14,12,53,6,6,8,8,12,12,12,21,6,6,13,0,11,9,9,9,15,11,13,13,7,13,6,6,6,6,6,9,6,6,6,6,6,6,0,18,7,14,14,9,16,2,2,5,5,20,20,7,7,7,14,10,7,13,11,6,6,8,7,14,14,8,8,30,30,13,9,9,7,7,9,7,7,20,13,13,11,11,11,11,18,14,19,13,5,10,9,8,8,12,11,11,40,40,40,40,40,36,16,17,14,21,18,17,5,5,21,18,18,12,14,12,8,8,0,14,10,15,15,15,9,7,10,6,9,10,82,12,10,5,5,5,5,5,5,5,16,16,16,10,10,10,10,4,4,16,15,19,19,9,23,11,11,23,23,23,23,12,0,0,0,0,7,21,21,15,9,5,16,16,16,13,16,20,11,4,9,42,12,18,17,14,13,9,6,6,14,15,13,12,18,15,11,9,9,9,9,9,8,8,8,8,8],\"xaxis\":\"x\",\"yaxis\":\"y\"},{\"alignmentgroup\":\"True\",\"customdata\":[[\"10-Day Green Smoothie Cleanse\",\"JJ Smith\"],[\"11/22/63: A Novel\",\"Stephen King\"],[\"12 Rules for Life: An Antidote to Chaos\",\"Jordan B. Peterson\"],[\"1984 (Signet Classics)\",\"George Orwell\"],[\"5,000 Awesome Facts (About Everything!) (National Geographic Kids)\",\"National Geographic Kids\"],[\"A Dance with Dragons (A Song of Ice and Fire)\",\"George R. R. Martin\"],[\"A Game of Thrones / A Clash of Kings / A Storm of Swords / A Feast of Crows / A Dance with Dragons\",\"George R. R. Martin\"],[\"A Gentleman in Moscow: A Novel\",\"Amor Towles\"],[\"A Higher Loyalty: Truth, Lies, and Leadership\",\"James Comey\"],[\"A Man Called Ove: A Novel\",\"Fredrik Backman\"],[\"A Man Called Ove: A Novel\",\"Fredrik Backman\"],[\"A Patriot's History of the United States: From Columbus's Great Discovery to the War on Terror\",\"Larry Schweikart\"],[\"A Stolen Life: A Memoir\",\"Jaycee Dugard\"],[\"A Wrinkle in Time (Time Quintet)\",\"Madeleine L'Engle\"],[\"Act Like a Lady, Think Like a Man: What Men Really Think About Love, Relationships, Intimacy, and Commitment\",\"Steve Harvey\"],[\"Adult Coloring Book Designs: Stress Relief Coloring Book: Garden Designs, Mandalas, Animals, and Paisley Patterns\",\"Adult Coloring Book Designs\"],[\"Adult Coloring Book: Stress Relieving Animal Designs\",\"Blue Star Coloring\"],[\"Adult Coloring Book: Stress Relieving Patterns\",\"Blue Star Coloring\"],[\"Adult Coloring Books: A Coloring Book for Adults Featuring Mandalas and Henna Inspired Flowers, Animals, and Paisley\\u2026\",\"Coloring Books for Adults\"],[\"Alexander Hamilton\",\"Ron Chernow\"],[\"All the Light We Cannot See\",\"Anthony Doerr\"],[\"All the Light We Cannot See\",\"Anthony Doerr\"],[\"Allegiant\",\"Veronica Roth\"],[\"American Sniper: The Autobiography of the Most Lethal Sniper in U.S. Military History\",\"Chris Kyle\"],[\"And the Mountains Echoed\",\"Khaled Hosseini\"],[\"Arguing with Idiots: How to Stop Small Minds and Big Government\",\"Glenn Beck\"],[\"Astrophysics for People in a Hurry\",\"Neil deGrasse Tyson\"],[\"Autobiography of Mark Twain, Vol. 1\",\"Mark Twain\"],[\"Baby Touch and Feel: Animals\",\"DK\"],[\"Balance (Angie's Extreme Stress Menders)\",\"Angie Grace\"],[\"Barefoot Contessa Foolproof: Recipes You Can Trust: A Cookbook\",\"Ina Garten\"],[\"Barefoot Contessa, How Easy Is That?: Fabulous Recipes & Easy Tips\",\"Ina Garten\"],[\"Becoming\",\"Michelle Obama\"],[\"Becoming\",\"Michelle Obama\"],[\"Being Mortal: Medicine and What Matters in the End\",\"Atul Gawande\"],[\"Between the World and Me\",\"Ta-Nehisi Coates\"],[\"Between the World and Me\",\"Ta-Nehisi Coates\"],[\"Born to Run\",\"Bruce Springsteen\"],[\"Breaking Dawn (The Twilight Saga, Book 4)\",\"Stephenie Meyer\"],[\"Broke: The Plan to Restore Our Trust, Truth and Treasure\",\"Glenn Beck\"],[\"Brown Bear, Brown Bear, What Do You See?\",\"Bill Martin Jr.\"],[\"Brown Bear, Brown Bear, What Do You See?\",\"Bill Martin Jr.\"],[\"Cabin Fever (Diary of a Wimpy Kid, Book 6)\",\"Jeff Kinney\"],[\"Calm the F*ck Down: An Irreverent Adult Coloring Book (Irreverent Book Series)\",\"Sasha O'Hara\"],[\"Can't Hurt Me: Master Your Mind and Defy the Odds\",\"David Goggins\"],[\"Capital in the Twenty First Century\",\"Thomas Piketty\"],[\"Catching Fire (The Hunger Games)\",\"Suzanne Collins\"],[\"Catching Fire (The Hunger Games)\",\"Suzanne Collins\"],[\"Catching Fire (The Hunger Games)\",\"Suzanne Collins\"],[\"Cravings: Recipes for All the Food You Want to Eat: A Cookbook\",\"Chrissy Teigen\"],[\"Crazy Love: Overwhelmed by a Relentless God\",\"Francis Chan\"],[\"Crazy Love: Overwhelmed by a Relentless God\",\"Francis Chan\"],[\"Crazy Love: Overwhelmed by a Relentless God\",\"Francis Chan\"],[\"Crazy Rich Asians (Crazy Rich Asians Trilogy)\",\"Kevin Kwan\"],[\"Creative Haven Creative Cats Coloring Book (Adult Coloring)\",\"Marjorie Sarnat\"],[\"Creative Haven Owls Coloring Book (Adult Coloring)\",\"Marjorie Sarnat\"],[\"Cutting for Stone\",\"Abraham Verghese\"],[\"Cutting for Stone\",\"Abraham Verghese\"],[\"Daring Greatly: How the Courage to Be Vulnerable Transforms the Way We Live, Love, Parent, and Lead\",\"Brene\\u0301 Brown\"],[\"David and Goliath: Underdogs, Misfits, and the Art of Battling Giants\",\"Malcolm Gladwell\"],[\"Dead And Gone: A Sookie Stackhouse Novel (Sookie Stackhouse/True Blood)\",\"Charlaine Harris\"],[\"Dead in the Family (Sookie Stackhouse/True Blood, Book 10)\",\"Charlaine Harris\"],[\"Dead Reckoning (Sookie Stackhouse/True Blood, Book 11)\",\"Charlaine Harris\"],[\"Dear Zoo: A Lift-the-Flap Book\",\"Rod Campbell\"],[\"Dear Zoo: A Lift-the-Flap Book\",\"Rod Campbell\"],[\"Dear Zoo: A Lift-the-Flap Book\",\"Rod Campbell\"],[\"Dear Zoo: A Lift-the-Flap Book\",\"Rod Campbell\"],[\"Decision Points\",\"George W. Bush\"],[\"Delivering Happiness: A Path to Profits, Passion, and Purpose\",\"Tony Hsieh\"],[\"Diagnostic and Statistical Manual of Mental Disorders, 5th Edition: DSM-5\",\"American Psychiatric Association\"],[\"Diagnostic and Statistical Manual of Mental Disorders, 5th Edition: DSM-5\",\"American Psychiatric Association\"],[\"Diary of a Wimpy Kid: Hard Luck, Book 8\",\"Jeff Kinney\"],[\"Diary of a Wimpy Kid: The Last Straw (Book 3)\",\"Jeff Kinney\"],[\"Diary of a Wimpy Kid: The Long Haul\",\"Jeff Kinney\"],[\"Difficult Riddles For Smart Kids: 300 Difficult Riddles And Brain Teasers Families Will Love (Books for Smart Kids)\",\"M Prefontaine\"],[\"Divergent\",\"Veronica Roth\"],[\"Divergent\",\"Veronica Roth\"],[\"Divergent / Insurgent\",\"Veronica Roth\"],[\"Divine Soul Mind Body Healing and Transmission System: The Divine Way to Heal You, Humanity, Mother Earth, and All\\u2026\",\"Zhi Gang Sha\"],[\"Doctor Sleep: A Novel\",\"Stephen King\"],[\"Dog Days (Diary of a Wimpy Kid, Book 4) (Volume 4)\",\"Jeff Kinney\"],[\"Dog Man and Cat Kid: From the Creator of Captain Underpants (Dog Man #4)\",\"Dav Pilkey\"],[\"Dog Man: A Tale of Two Kitties: From the Creator of Captain Underpants (Dog Man #3)\",\"Dav Pilkey\"],[\"Dog Man: Brawl of the Wild: From the Creator of Captain Underpants (Dog Man #6)\",\"Dav Pilkey\"],[\"Dog Man: Brawl of the Wild: From the Creator of Captain Underpants (Dog Man #6)\",\"Dav Pilkey\"],[\"Dog Man: Fetch-22: From the Creator of Captain Underpants (Dog Man #8)\",\"Dav Pilkey\"],[\"Dog Man: For Whom the Ball Rolls: From the Creator of Captain Underpants (Dog Man #7)\",\"Dav Pilkey\"],[\"Dog Man: Lord of the Fleas: From the Creator of Captain Underpants (Dog Man #5)\",\"Dav Pilkey\"],[\"Double Down (Diary of a Wimpy Kid #11)\",\"Jeff Kinney\"],[\"Dover Creative Haven Art Nouveau Animal Designs Coloring Book (Creative Haven Coloring Books)\",\"Marty Noble\"],[\"Drive: The Surprising Truth About What Motivates Us\",\"Daniel H. Pink\"],[\"Eat This Not That! Supermarket Survival Guide: The No-Diet Weight Loss Solution\",\"David Zinczenko\"],[\"Eat This, Not That! Thousands of Simple Food Swaps that Can Save You 10, 20, 30 Pounds--or More!\",\"David Zinczenko\"],[\"Eat to Live: The Amazing Nutrient-Rich Program for Fast and Sustained Weight Loss, Revised Edition\",\"Joel Fuhrman MD\"],[\"Eat to Live: The Amazing Nutrient-Rich Program for Fast and Sustained Weight Loss, Revised Edition\",\"Joel Fuhrman MD\"],[\"Eclipse (Twilight Sagas)\",\"Stephenie Meyer\"],[\"Eclipse (Twilight)\",\"Stephenie Meyer\"],[\"Educated: A Memoir\",\"Tara Westover\"],[\"Educated: A Memoir\",\"Tara Westover\"],[\"Enchanted Forest: An Inky Quest and Coloring book (Activity Books, Mindfulness and Meditation, Illustrated Floral Prints\\u2026\",\"Johanna Basford\"],[\"Fahrenheit 451\",\"Ray Bradbury\"],[\"Fahrenheit 451\",\"Ray Bradbury\"],[\"Fantastic Beasts and Where to Find Them: The Original Screenplay (Harry Potter)\",\"J.K. Rowling\"],[\"Fear: Trump in the White House\",\"Bob Woodward\"],[\"Fifty Shades Darker\",\"E L James\"],[\"Fifty Shades Freed: Book Three of the Fifty Shades Trilogy (Fifty Shades of Grey Series) (English Edition)\",\"E L James\"],[\"Fifty Shades of Grey: Book One of the Fifty Shades Trilogy (Fifty Shades of Grey Series)\",\"E L James\"],[\"Fifty Shades of Grey: Book One of the Fifty Shades Trilogy (Fifty Shades of Grey Series)\",\"E L James\"],[\"Fifty Shades Trilogy (Fifty Shades of Grey / Fifty Shades Darker / Fifty Shades Freed)\",\"E L James\"],[\"Fire and Fury: Inside the Trump White House\",\"Michael Wolff\"],[\"First 100 Words\",\"Roger Priddy\"],[\"First 100 Words\",\"Roger Priddy\"],[\"First 100 Words\",\"Roger Priddy\"],[\"First 100 Words\",\"Roger Priddy\"],[\"First 100 Words\",\"Roger Priddy\"],[\"Food Rules: An Eater's Manual\",\"Michael Pollan\"],[\"Frozen (Little Golden Book)\",\"RH Disney\"],[\"Game Change: Obama and the Clintons, McCain and Palin, and the Race of a Lifetime\",\"John Heilemann\"],[\"Game of Thrones Boxed Set: A Game of Thrones/A Clash of Kings/A Storm of Swords/A Feast for Crows\",\"George R.R. Martin\"],[\"Game of Thrones Boxed Set: A Game of Thrones/A Clash of Kings/A Storm of Swords/A Feast for Crows\",\"George R.R. Martin\"],[\"Game of Thrones Boxed Set: A Game of Thrones/A Clash of Kings/A Storm of Swords/A Feast for Crows\",\"George R.R. Martin\"],[\"George Washington's Sacred Fire\",\"Peter A. Lillback\"],[\"George Washington's Secret Six: The Spy Ring That Saved the American Revolution\",\"Brian Kilmeade\"],[\"Giraffes Can't Dance\",\"Giles Andreae\"],[\"Giraffes Can't Dance\",\"Giles Andreae\"],[\"Giraffes Can't Dance\",\"Giles Andreae\"],[\"Giraffes Can't Dance\",\"Giles Andreae\"],[\"Giraffes Can't Dance\",\"Giles Andreae\"],[\"Girl, Stop Apologizing: A Shame-Free Plan for Embracing and Achieving Your Goals\",\"Rachel Hollis\"],[\"Girl, Wash Your Face: Stop Believing the Lies About Who You Are So You Can Become Who You Were Meant to Be\",\"Rachel Hollis\"],[\"Girl, Wash Your Face: Stop Believing the Lies About Who You Are So You Can Become Who You Were Meant to Be\",\"Rachel Hollis\"],[\"Glenn Beck's Common Sense: The Case Against an Out-of-Control Government, Inspired by Thomas Paine\",\"Glenn Beck\"],[\"Go Set a Watchman: A Novel\",\"Harper Lee\"],[\"Go the F**k to Sleep\",\"Adam Mansbach\"],[\"Going Rogue: An American Life\",\"Sarah Palin\"],[\"Gone Girl\",\"Gillian Flynn\"],[\"Gone Girl\",\"Gillian Flynn\"],[\"Gone Girl\",\"Gillian Flynn\"],[\"Good Days Start With Gratitude: A 52 Week Guide To Cultivate An Attitude Of Gratitude: Gratitude Journal\",\"Pretty Simple Press\"],[\"Good to Great: Why Some Companies Make the Leap and Others Don't\",\"Jim Collins\"],[\"Good to Great: Why Some Companies Make the Leap and Others Don't\",\"Jim Collins\"],[\"Good to Great: Why Some Companies Make the Leap and Others Don't\",\"Jim Collins\"],[\"Good to Great: Why Some Companies Make the Leap and Others Don't\",\"Jim Collins\"],[\"Goodnight Moon\",\"Margaret Wise Brown\"],[\"Goodnight Moon\",\"Margaret Wise Brown\"],[\"Goodnight Moon\",\"Margaret Wise Brown\"],[\"Goodnight, Goodnight Construction Site (Hardcover Books for Toddlers, Preschool Books for Kids)\",\"Sherri Duskey Rinker\"],[\"Goodnight, Goodnight Construction Site (Hardcover Books for Toddlers, Preschool Books for Kids)\",\"Sherri Duskey Rinker\"],[\"Grain Brain: The Surprising Truth about Wheat, Carbs, and Sugar--Your Brain's Silent Killers\",\"David Perlmutter MD\"],[\"Grey: Fifty Shades of Grey as Told by Christian (Fifty Shades of Grey Series)\",\"E L James\"],[\"Guts\",\"Raina Telgemeier\"],[\"Hamilton: The Revolution\",\"Lin-Manuel Miranda\"],[\"Happy, Happy, Happy: My Life and Legacy as the Duck Commander\",\"Phil Robertson\"],[\"Harry Potter and the Chamber of Secrets: The Illustrated Edition (Harry Potter, Book 2)\",\"J.K. Rowling\"],[\"Harry Potter and the Cursed Child, Parts 1 & 2, Special Rehearsal Edition Script\",\"J.K. Rowling\"],[\"Harry Potter and the Goblet of Fire: The Illustrated Edition (Harry Potter, Book 4) (4)\",\"J. K. Rowling\"],[\"Harry Potter and the Prisoner of Azkaban: The Illustrated Edition (Harry Potter, Book 3)\",\"J.K. Rowling\"],[\"Harry Potter and the Sorcerer's Stone: The Illustrated Edition (Harry Potter, Book 1)\",\"J.K. Rowling\"],[\"Harry Potter Coloring Book\",\"Scholastic\"],[\"Harry Potter Paperback Box Set (Books 1-7)\",\"J. K. Rowling\"],[\"Have a Little Faith: A True Story\",\"Mitch Albom\"],[\"Heaven is for Real: A Little Boy's Astounding Story of His Trip to Heaven and Back\",\"Todd Burpo\"],[\"Heaven is for Real: A Little Boy's Astounding Story of His Trip to Heaven and Back\",\"Todd Burpo\"],[\"Hillbilly Elegy: A Memoir of a Family and Culture in Crisis\",\"J. D. Vance\"],[\"Hillbilly Elegy: A Memoir of a Family and Culture in Crisis\",\"J. D. Vance\"],[\"Homebody: A Guide to Creating Spaces You Never Want to Leave\",\"Joanna Gaines\"],[\"How to Win Friends & Influence People\",\"Dale Carnegie\"],[\"How to Win Friends & Influence People\",\"Dale Carnegie\"],[\"How to Win Friends & Influence People\",\"Dale Carnegie\"],[\"How to Win Friends & Influence People\",\"Dale Carnegie\"],[\"How to Win Friends & Influence People\",\"Dale Carnegie\"],[\"Howard Stern Comes Again\",\"Howard Stern\"],[\"Humans of New York\",\"Brandon Stanton\"],[\"Humans of New York\",\"Brandon Stanton\"],[\"Humans of New York : Stories\",\"Brandon Stanton\"],[\"Hyperbole and a Half: Unfortunate Situations, Flawed Coping Mechanisms, Mayhem, and Other Things That Happened\",\"Allie Brosh\"],[\"I Am Confident, Brave & Beautiful: A Coloring Book for Girls\",\"Hopscotch Girls\"],[\"I, Alex Cross\",\"James Patterson\"],[\"If Animals Kissed Good Night\",\"Ann Whitford Paul\"],[\"If Animals Kissed Good Night\",\"Ann Whitford Paul\"],[\"If I Stay\",\"Gayle Forman\"],[\"In the Garden of Beasts: Love, Terror, and an American Family in Hitler's Berlin\",\"Eric Larson\"],[\"Inferno\",\"Dan Brown\"],[\"Inheritance: Book IV (Inheritance Cycle)\",\"Christopher Paolini\"],[\"Instant Pot Pressure Cooker Cookbook: 500 Everyday Recipes for Beginners and Advanced Users. Try Easy and Healthy\\u2026\",\"Jennifer Smith\"],[\"Instant Pot Pressure Cooker Cookbook: 500 Everyday Recipes for Beginners and Advanced Users. Try Easy and Healthy\\u2026\",\"Jennifer Smith\"],[\"It's Not Supposed to Be This Way: Finding Unexpected Strength When Disappointments Leave You Shattered\",\"Lysa TerKeurst\"],[\"Jesus Calling: Enjoying Peace in His Presence (with Scripture References)\",\"Sarah Young\"],[\"Jesus Calling: Enjoying Peace in His Presence (with Scripture References)\",\"Sarah Young\"],[\"Jesus Calling: Enjoying Peace in His Presence (with Scripture References)\",\"Sarah Young\"],[\"Jesus Calling: Enjoying Peace in His Presence (with Scripture References)\",\"Sarah Young\"],[\"Jesus Calling: Enjoying Peace in His Presence (with Scripture References)\",\"Sarah Young\"],[\"Jesus Calling: Enjoying Peace in His Presence (with Scripture References)\",\"Sarah Young\"],[\"JOURNEY TO THE ICE P\",\"RH Disney\"],[\"Joyland (Hard Case Crime)\",\"Stephen King\"],[\"Killers of the Flower Moon: The Osage Murders and the Birth of the FBI\",\"David Grann\"],[\"Killing Jesus (Bill O'Reilly's Killing Series)\",\"Bill O'Reilly\"],[\"Killing Kennedy: The End of Camelot\",\"Bill O'Reilly\"],[\"Killing Lincoln: The Shocking Assassination that Changed America Forever (Bill O'Reilly's Killing Series)\",\"Bill O'Reilly\"],[\"Killing Lincoln: The Shocking Assassination that Changed America Forever (Bill O'Reilly's Killing Series)\",\"Bill O'Reilly\"],[\"Killing Patton: The Strange Death of World War II's Most Audacious General (Bill O'Reilly's Killing Series)\",\"Bill O'Reilly\"],[\"Killing Reagan: The Violent Assault That Changed a Presidency (Bill O'Reilly's Killing Series)\",\"Bill O'Reilly\"],[\"Killing the Rising Sun: How America Vanquished World War II Japan (Bill O'Reilly's Killing Series)\",\"Bill O'Reilly\"],[\"Kitchen Confidential Updated Edition: Adventures in the Culinary Underbelly (P.S.)\",\"Anthony Bourdain\"],[\"Knock-Knock Jokes for Kids\",\"Rob Elliott\"],[\"Knock-Knock Jokes for Kids\",\"Rob Elliott\"],[\"Knock-Knock Jokes for Kids\",\"Rob Elliott\"],[\"Last Week Tonight with John Oliver Presents A Day in the Life of Marlon Bundo (Better Bundo Book, LGBT Children\\u0092s Book)\",\"Jill Twiss\"],[\"Laugh-Out-Loud Jokes for Kids\",\"Rob Elliott\"],[\"Laugh-Out-Loud Jokes for Kids\",\"Rob Elliott\"],[\"Laugh-Out-Loud Jokes for Kids\",\"Rob Elliott\"],[\"Laugh-Out-Loud Jokes for Kids\",\"Rob Elliott\"],[\"Laugh-Out-Loud Jokes for Kids\",\"Rob Elliott\"],[\"Lean In: Women, Work, and the Will to Lead\",\"Sheryl Sandberg\"],[\"Leonardo da Vinci\",\"Walter Isaacson\"],[\"Lettering and Modern Calligraphy: A Beginner's Guide: Learn Hand Lettering and Brush Lettering\",\"Paper Peony Press\"],[\"Liberty and Tyranny: A Conservative Manifesto\",\"Mark R. Levin\"],[\"Life\",\"Keith Richards\"],[\"Little Bee: A Novel\",\"Chris Cleave\"],[\"Little Blue Truck\",\"Alice Schertle\"],[\"Little Fires Everywhere\",\"Celeste Ng\"],[\"Looking for Alaska\",\"John Green\"],[\"Love Wins: A Book About Heaven, Hell, and the Fate of Every Person Who Ever Lived\",\"Rob Bell\"],[\"Love You Forever\",\"Robert Munsch\"],[\"Love You Forever\",\"Robert Munsch\"],[\"Magnolia Table: A Collection of Recipes for Gathering\",\"Joanna Gaines\"],[\"Make It Ahead: A Barefoot Contessa Cookbook\",\"Ina Garten\"],[\"Make Your Bed: Little Things That Can Change Your Life...And Maybe the World\",\"Admiral William H. McRaven\"],[\"Mastering the Art of French Cooking, Vol. 2\",\"Julia Child\"],[\"Milk and Honey\",\"Rupi Kaur\"],[\"Milk and Honey\",\"Rupi Kaur\"],[\"Milk and Honey\",\"Rupi Kaur\"],[\"Milk and Vine: Inspirational Quotes From Classic Vines\",\"Adam Gasiewski\"],[\"Mindset: The New Psychology of Success\",\"Carol S. Dweck\"],[\"Mindset: The New Psychology of Success\",\"Carol S. Dweck\"],[\"Mindset: The New Psychology of Success\",\"Carol S. Dweck\"],[\"Mockingjay (The Hunger Games)\",\"Suzanne Collins\"],[\"Mockingjay (The Hunger Games)\",\"Suzanne Collins\"],[\"Mockingjay (The Hunger Games)\",\"Suzanne Collins\"],[\"National Geographic Kids Why?: Over 1,111 Answers to Everything\",\"Crispin Boyer\"],[\"National Geographic Little Kids First Big Book of Why (National Geographic Little Kids First Big Books)\",\"Amy Shields\"],[\"New Moon (The Twilight Saga)\",\"Stephenie Meyer\"],[\"Night (Night)\",\"Elie Wiesel\"],[\"No Easy Day: The Autobiography of a Navy Seal: The Firsthand Account of the Mission That Killed Osama Bin Laden\",\"Mark Owen\"],[\"Obama: An Intimate Portrait\",\"Pete Souza\"],[\"Oh, the Places You'll Go!\",\"Dr. Seuss\"],[\"Oh, the Places You'll Go!\",\"Dr. Seuss\"],[\"Oh, the Places You'll Go!\",\"Dr. Seuss\"],[\"Oh, the Places You'll Go!\",\"Dr. Seuss\"],[\"Oh, the Places You'll Go!\",\"Dr. Seuss\"],[\"Oh, the Places You'll Go!\",\"Dr. Seuss\"],[\"Oh, the Places You'll Go!\",\"Dr. Seuss\"],[\"Oh, the Places You'll Go!\",\"Dr. Seuss\"],[\"Old School (Diary of a Wimpy Kid #10)\",\"Jeff Kinney\"],[\"Olive Kitteridge\",\"Elizabeth Strout\"],[\"One Thousand Gifts: A Dare to Live Fully Right Where You Are\",\"Ann Voskamp\"],[\"One Thousand Gifts: A Dare to Live Fully Right Where You Are\",\"Ann Voskamp\"],[\"Option B: Facing Adversity, Building Resilience, and Finding Joy\",\"Sheryl Sandberg\"],[\"Origin: A Novel (Robert Langdon)\",\"Dan Brown\"],[\"Orphan Train\",\"Christina Baker Kline\"],[\"Outliers: The Story of Success\",\"Malcolm Gladwell\"],[\"Outliers: The Story of Success\",\"Malcolm Gladwell\"],[\"P is for Potty! (Sesame Street) (Lift-the-Flap)\",\"Naomi Kleinberg\"],[\"P is for Potty! (Sesame Street) (Lift-the-Flap)\",\"Naomi Kleinberg\"],[\"Percy Jackson and the Olympians Paperback Boxed Set (Books 1-3)\",\"Rick Riordan\"],[\"Player's Handbook (Dungeons & Dragons)\",\"Wizards RPG Team\"],[\"Player's Handbook (Dungeons & Dragons)\",\"Wizards RPG Team\"],[\"Player's Handbook (Dungeons & Dragons)\",\"Wizards RPG Team\"],[\"Pok\\u00e9mon Deluxe Essential Handbook: The Need-to-Know Stats and Facts on Over 700 Pok\\u00e9mon\",\"Scholastic\"],[\"Proof of Heaven: A Neurosurgeon's Journey into the Afterlife\",\"Eben Alexander\"],[\"Proof of Heaven: A Neurosurgeon's Journey into the Afterlife\",\"Eben Alexander\"],[\"Publication Manual of the American Psychological Association, 6th Edition\",\"American Psychological Association\"],[\"Publication Manual of the American Psychological Association, 6th Edition\",\"American Psychological Association\"],[\"Publication Manual of the American Psychological Association, 6th Edition\",\"American Psychological Association\"],[\"Publication Manual of the American Psychological Association, 6th Edition\",\"American Psychological Association\"],[\"Publication Manual of the American Psychological Association, 6th Edition\",\"American Psychological Association\"],[\"Publication Manual of the American Psychological Association, 6th Edition\",\"American Psychological Association\"],[\"Publication Manual of the American Psychological Association, 6th Edition\",\"American Psychological Association\"],[\"Publication Manual of the American Psychological Association, 6th Edition\",\"American Psychological Association\"],[\"Publication Manual of the American Psychological Association, 6th Edition\",\"American Psychological Association\"],[\"Publication Manual of the American Psychological Association, 6th Edition\",\"American Psychological Association\"],[\"Puppy Birthday to You! (Paw Patrol) (Little Golden Book)\",\"Golden Books\"],[\"Quiet: The Power of Introverts in a World That Can't Stop Talking\",\"Susan Cain\"],[\"Quiet: The Power of Introverts in a World That Can't Stop Talking\",\"Susan Cain\"],[\"Radical: Taking Back Your Faith from the American Dream\",\"David Platt\"],[\"Radical: Taking Back Your Faith from the American Dream\",\"David Platt\"],[\"Ready Player One: A Novel\",\"Ernest Cline\"],[\"Ready Player One: A Novel\",\"Ernest Cline\"],[\"Rush Revere and the Brave Pilgrims: Time-Travel Adventures with Exceptional Americans (1)\",\"Rush Limbaugh\"],[\"Rush Revere and the First Patriots: Time-Travel Adventures With Exceptional Americans (2)\",\"Rush Limbaugh\"],[\"Salt, Fat, Acid, Heat: Mastering the Elements of Good Cooking\",\"Samin Nosrat\"],[\"Salt, Fat, Acid, Heat: Mastering the Elements of Good Cooking\",\"Samin Nosrat\"],[\"Sarah's Key\",\"Tatiana de Rosnay\"],[\"School Zone - Big Preschool Workbook - Ages 4 and Up, Colors, Shapes, Numbers 1-10, Alphabet, Pre-Writing, Pre-Reading\\u2026\",\"School Zone\"],[\"School Zone - Big Preschool Workbook - Ages 4 and Up, Colors, Shapes, Numbers 1-10, Alphabet, Pre-Writing, Pre-Reading\\u2026\",\"School Zone\"],[\"Secret Garden: An Inky Treasure Hunt and Coloring Book (For Adults, mindfulness coloring)\",\"Johanna Basford\"],[\"Sh*t My Dad Says\",\"Justin Halpern\"],[\"Ship of Fools: How a Selfish Ruling Class Is Bringing America to the Brink of Revolution\",\"Tucker Carlson\"],[\"Shred: The Revolutionary Diet: 6 Weeks 4 Inches 2 Sizes\",\"Ian K. Smith M.D.\"],[\"Sookie Stackhouse\",\"Charlaine Harris\"],[\"Soul Healing Miracles: Ancient and New Sacred Wisdom, Knowledge, and Practical Techniques for Healing the Spiritual\\u2026\",\"Zhi Gang Sha\"],[\"Steve Jobs\",\"Walter Isaacson\"],[\"Steve Jobs\",\"Walter Isaacson\"],[\"Strange Planet (Strange Planet Series)\",\"Nathan W. Pyle\"],[\"StrengthsFinder 2.0\",\"Gallup\"],[\"StrengthsFinder 2.0\",\"Gallup\"],[\"StrengthsFinder 2.0\",\"Gallup\"],[\"StrengthsFinder 2.0\",\"Gallup\"],[\"StrengthsFinder 2.0\",\"Gallup\"],[\"StrengthsFinder 2.0\",\"Gallup\"],[\"StrengthsFinder 2.0\",\"Gallup\"],[\"StrengthsFinder 2.0\",\"Gallup\"],[\"StrengthsFinder 2.0\",\"Gallup\"],[\"Super Freakonomics: Global Cooling, Patriotic Prostitutes, and Why Suicide Bombers Should Buy Life Insurance\",\"Steven D. Levitt\"],[\"Switch: How to Change Things When Change Is Hard\",\"Chip Heath\"],[\"Sycamore Row (Jake Brigance)\",\"John Grisham\"],[\"Teach Like a Champion: 49 Techniques that Put Students on the Path to College\",\"Doug Lemov\"],[\"Teach Like a Champion: 49 Techniques that Put Students on the Path to College\",\"Doug Lemov\"],[\"The 17 Day Diet: A Doctor's Plan Designed for Rapid Results\",\"Mike Moreno\"],[\"The 4 Hour Body: An Uncommon Guide to Rapid Fat Loss, Incredible Sex and Becoming Superhuman\",\"Timothy Ferriss\"],[\"The 5 Love Languages: The Secret to Love That Lasts\",\"Gary Chapman\"],[\"The 5 Love Languages: The Secret to Love That Lasts\",\"Gary Chapman\"],[\"The 5 Love Languages: The Secret to Love That Lasts\",\"Gary Chapman\"],[\"The 5 Love Languages: The Secret to Love That Lasts\",\"Gary Chapman\"],[\"The 5 Love Languages: The Secret to Love That Lasts\",\"Gary Chapman\"],[\"The 5 Love Languages: The Secret to Love that Lasts\",\"Gary Chapman\"],[\"The 5 Love Languages: The Secret to Love that Lasts\",\"Gary Chapman\"],[\"The 5 Love Languages: The Secret to Love that Lasts\",\"Gary Chapman\"],[\"The 5 Love Languages: The Secret to Love that Lasts\",\"Gary Chapman\"],[\"The 5 Love Languages: The Secret to Love that Lasts\",\"Gary Chapman\"],[\"The 5000 Year Leap\",\"W. Cleon Skousen\"],[\"The 7 Habits of Highly Effective People: Powerful Lessons in Personal Change\",\"Stephen R. Covey\"],[\"The 7 Habits of Highly Effective People: Powerful Lessons in Personal Change\",\"Stephen R. Covey\"],[\"The 7 Habits of Highly Effective People: Powerful Lessons in Personal Change\",\"Stephen R. Covey\"],[\"The 7 Habits of Highly Effective People: Powerful Lessons in Personal Change\",\"Stephen R. Covey\"],[\"The 7 Habits of Highly Effective People: Powerful Lessons in Personal Change\",\"Stephen R. Covey\"],[\"The 7 Habits of Highly Effective People: Powerful Lessons in Personal Change\",\"Stephen R. Covey\"],[\"The 7 Habits of Highly Effective People: Powerful Lessons in Personal Change\",\"Stephen R. Covey\"],[\"The Alchemist\",\"Paulo Coelho\"],[\"The Amateur\",\"Edward Klein\"],[\"The Art of Racing in the Rain: A Novel\",\"Garth Stein\"],[\"The Art of Racing in the Rain: A Novel\",\"Garth Stein\"],[\"The Big Short: Inside the Doomsday Machine\",\"Michael Lewis\"],[\"The Blood of Olympus (The Heroes of Olympus (5))\",\"Rick Riordan\"],[\"The Blood Sugar Solution: The UltraHealthy Program for Losing Weight, Preventing Disease, and Feeling Great Now!\",\"Mark Hyman M.D.\"],[\"The Body Keeps the Score: Brain, Mind, and Body in the Healing of Trauma\",\"Bessel van der Kolk M.D.\"],[\"The Book of Basketball: The NBA According to The Sports Guy\",\"Bill Simmons\"],[\"The Book Thief\",\"Markus Zusak\"],[\"The Book Thief\",\"Markus Zusak\"],[\"The Book with No Pictures\",\"B. J. Novak\"],[\"The Book with No Pictures\",\"B. J. Novak\"],[\"The Boys in the Boat: Nine Americans and Their Epic Quest for Gold at the 1936 Berlin Olympics\",\"Daniel James Brown\"],[\"The Boys in the Boat: Nine Americans and Their Epic Quest for Gold at the 1936 Berlin Olympics\",\"Daniel James Brown\"],[\"The Casual Vacancy\",\"J.K. Rowling\"],[\"The China Study: The Most Comprehensive Study of Nutrition Ever Conducted And the Startling Implications for Diet\\u2026\",\"Thomas Campbell\"],[\"The Complete Ketogenic Diet for Beginners: Your Essential Guide to Living the Keto Lifestyle\",\"Amy Ramos\"],[\"The Complete Ketogenic Diet for Beginners: Your Essential Guide to Living the Keto Lifestyle\",\"Amy Ramos\"],[\"The Confession: A Novel\",\"John Grisham\"],[\"The Constitution of the United States\",\"Delegates of the Constitutional\\u0085\"],[\"The Daily Show with Jon Stewart Presents Earth (The Book): A Visitor's Guide to the Human Race\",\"Jon Stewart\"],[\"The Day the Crayons Quit\",\"Drew Daywalt\"],[\"The Day the Crayons Quit\",\"Drew Daywalt\"],[\"The Day the Crayons Quit\",\"Drew Daywalt\"],[\"The Dukan Diet: 2 Steps to Lose the Weight, 2 Steps to Keep It Off Forever\",\"Pierre Dukan\"],[\"The Elegance of the Hedgehog\",\"Muriel Barbery\"],[\"The Fault in Our Stars\",\"John Green\"],[\"The Fault in Our Stars\",\"John Green\"],[\"The Fault in Our Stars\",\"John Green\"],[\"The Fault in Our Stars\",\"John Green\"],[\"The Five Dysfunctions of a Team: A Leadership Fable\",\"Patrick Lencioni\"],[\"The Five Dysfunctions of a Team: A Leadership Fable\",\"Patrick Lencioni\"],[\"The Five Dysfunctions of a Team: A Leadership Fable\",\"Patrick Lencioni\"],[\"The Five Dysfunctions of a Team: A Leadership Fable\",\"Patrick Lencioni\"],[\"The Five Dysfunctions of a Team: A Leadership Fable\",\"Patrick Lencioni\"],[\"The Five Love Languages: How to Express Heartfelt Commitment to Your Mate\",\"Gary Chapman\"],[\"The Four Agreements: A Practical Guide to Personal Freedom (A Toltec Wisdom Book)\",\"Don Miguel Ruiz\"],[\"The Four Agreements: A Practical Guide to Personal Freedom (A Toltec Wisdom Book)\",\"Don Miguel Ruiz\"],[\"The Four Agreements: A Practical Guide to Personal Freedom (A Toltec Wisdom Book)\",\"Don Miguel Ruiz\"],[\"The Four Agreements: A Practical Guide to Personal Freedom (A Toltec Wisdom Book)\",\"Don Miguel Ruiz\"],[\"The Four Agreements: A Practical Guide to Personal Freedom (A Toltec Wisdom Book)\",\"Don Miguel Ruiz\"],[\"The Four Agreements: A Practical Guide to Personal Freedom (A Toltec Wisdom Book)\",\"Don Miguel Ruiz\"],[\"The Getaway\",\"Jeff Kinney\"],[\"The Girl on the Train\",\"Paula Hawkins\"],[\"The Girl on the Train\",\"Paula Hawkins\"],[\"The Girl Who Kicked the Hornet's Nest (Millennium Trilogy)\",\"Stieg Larsson\"],[\"The Girl Who Kicked the Hornet's Nest (Millennium Trilogy)\",\"Stieg Larsson\"],[\"The Girl Who Played with Fire (Millennium Series)\",\"Stieg Larsson\"],[\"The Girl Who Played with Fire (Millennium)\",\"Stieg Larsson\"],[\"The Girl with the Dragon Tattoo (Millennium Series)\",\"Stieg Larsson\"],[\"The Girl with the Dragon Tattoo (Millennium Series)\",\"Stieg Larsson\"],[\"The Going-To-Bed Book\",\"Sandra Boynton\"],[\"The Going-To-Bed Book\",\"Sandra Boynton\"],[\"The Goldfinch: A Novel (Pulitzer Prize for Fiction)\",\"Donna Tartt\"],[\"The Goldfinch: A Novel (Pulitzer Prize for Fiction)\",\"Donna Tartt\"],[\"The Great Gatsby\",\"F. Scott Fitzgerald\"],[\"The Great Gatsby\",\"F. Scott Fitzgerald\"],[\"The Great Gatsby\",\"F. Scott Fitzgerald\"],[\"The Guardians: A Novel\",\"John Grisham\"],[\"The Guernsey Literary and Potato Peel Pie Society\",\"Mary Ann Shaffer\"],[\"The Handmaid's Tale\",\"Margaret Atwood\"],[\"The Harbinger: The Ancient Mystery that Holds the Secret of America's Future\",\"Jonathan Cahn\"],[\"The Hate U Give\",\"Angie Thomas\"],[\"The Help\",\"Kathryn Stockett\"],[\"The Help\",\"Kathryn Stockett\"],[\"The Help\",\"Kathryn Stockett\"],[\"The Help\",\"Kathryn Stockett\"],[\"The House of Hades (Heroes of Olympus, Book 4)\",\"Rick Riordan\"],[\"The Hunger Games\",\"Suzanne Collins\"],[\"The Hunger Games (Book 1)\",\"Suzanne Collins\"],[\"The Hunger Games (Book 1)\",\"Suzanne Collins\"],[\"The Hunger Games Trilogy Boxed Set (1)\",\"Suzanne Collins\"],[\"The Hunger Games Trilogy Boxed Set (1)\",\"Suzanne Collins\"],[\"The Immortal Life of Henrietta Lacks\",\"Rebecca Skloot\"],[\"The Immortal Life of Henrietta Lacks\",\"Rebecca Skloot\"],[\"The Immortal Life of Henrietta Lacks\",\"Rebecca Skloot\"],[\"The Instant Pot Electric Pressure Cooker Cookbook: Easy Recipes for Fast & Healthy Meals\",\"Laurel Randolph\"],[\"The Instant Pot Electric Pressure Cooker Cookbook: Easy Recipes for Fast & Healthy Meals\",\"Laurel Randolph\"],[\"The Last Lecture\",\"Randy Pausch\"],[\"The Last Olympian (Percy Jackson and the Olympians, Book 5)\",\"Rick Riordan\"],[\"The Last Olympian (Percy Jackson and the Olympians, Book 5)\",\"Rick Riordan\"],[\"The Legend of Zelda: Hyrule Historia\",\"Patrick Thorpe\"],[\"The Lego Ideas Book: Unlock Your Imagination\",\"Daniel Lipkowitz\"],[\"The Lego Ideas Book: Unlock Your Imagination\",\"Daniel Lipkowitz\"],[\"The Life-Changing Magic of Tidying Up: The Japanese Art of Decluttering and Organizing\",\"Marie Kond\\u014d\"],[\"The Life-Changing Magic of Tidying Up: The Japanese Art of Decluttering and Organizing\",\"Marie Kond\\u014d\"],[\"The Life-Changing Magic of Tidying Up: The Japanese Art of Decluttering and Organizing\",\"Marie Kond\\u014d\"],[\"The Life-Changing Magic of Tidying Up: The Japanese Art of Decluttering and Organizing\",\"Marie Kond\\u014d\"],[\"The Litigators\",\"John Grisham\"],[\"The Lost Hero (Heroes of Olympus, Book 1)\",\"Rick Riordan\"],[\"The Lost Symbol\",\"Dan Brown\"],[\"The Love Dare\",\"Stephen Kendrick\"],[\"The Magnolia Story\",\"Chip Gaines\"],[\"The Mark of Athena (Heroes of Olympus, Book 3)\",\"Rick Riordan\"],[\"The Martian\",\"Andy Weir\"],[\"The Maze Runner (Book 1)\",\"James Dashner\"],[\"The Meltdown (Diary of a Wimpy Kid Book 13)\",\"Jeff Kinney\"],[\"The Mueller Report\",\"The Washington Post\"],[\"The Nightingale: A Novel\",\"Kristin Hannah\"],[\"The Nightingale: A Novel\",\"Kristin Hannah\"],[\"The Official SAT Study Guide\",\"The College Board\"],[\"The Official SAT Study Guide\",\"The College Board\"],[\"The Official SAT Study Guide\",\"The College Board\"],[\"The Official SAT Study Guide\",\"The College Board\"],[\"The Official SAT Study Guide\",\"The College Board\"],[\"The Official SAT Study Guide, 2016 Edition (Official Study Guide for the New Sat)\",\"The College Board\"],[\"The Paris Wife: A Novel\",\"Paula McLain\"],[\"The Pioneer Woman Cooks: A Year of Holidays: 140 Step-by-Step Recipes for Simple, Scrumptious Celebrations\",\"Ree Drummond\"],[\"The Pioneer Woman Cooks: Dinnertime - Comfort Classics, Freezer Food, 16-minute Meals, and Other Delicious Ways to Solve\\u2026\",\"Ree Drummond\"],[\"The Pioneer Woman Cooks: Food from My Frontier\",\"Ree Drummond\"],[\"The Plant Paradox Cookbook: 100 Delicious Recipes to Help You Lose Weight, Heal Your Gut, and Live Lectin-Free\",\"Dr. Steven R Gundry MD\"],[\"The Plant Paradox: The Hidden Dangers in \\\"Healthy\\\" Foods That Cause Disease and Weight Gain\",\"Dr. Steven R Gundry MD\"],[\"The Pout-Pout Fish\",\"Deborah Diesen\"],[\"The Pout-Pout Fish\",\"Deborah Diesen\"],[\"The Power of Habit: Why We Do What We Do in Life and Business\",\"Charles Duhigg\"],[\"The President Is Missing: A Novel\",\"James Patterson\"],[\"The Racketeer\",\"John Grisham\"],[\"The Red Pyramid (The Kane Chronicles, Book 1)\",\"Rick Riordan\"],[\"The Road to Serfdom: Text and Documents--The Definitive Edition (The Collected Works of F. A. Hayek, Volume 2)\",\"F. A. Hayek\"],[\"The Serpent's Shadow (The Kane Chronicles, Book 3)\",\"Rick Riordan\"],[\"The Shack: Where Tragedy Confronts Eternity\",\"William P. Young\"],[\"The Shack: Where Tragedy Confronts Eternity\",\"William P. Young\"],[\"The Short Second Life of Bree Tanner: An Eclipse Novella (The Twilight Saga)\",\"Stephenie Meyer\"],[\"The Silent Patient\",\"Alex Michaelides\"],[\"The Son of Neptune (Heroes of Olympus, Book 2)\",\"Rick Riordan\"],[\"The Subtle Art of Not Giving a F*ck: A Counterintuitive Approach to Living a Good Life\",\"Mark Manson\"],[\"The Subtle Art of Not Giving a F*ck: A Counterintuitive Approach to Living a Good Life\",\"Mark Manson\"],[\"The Subtle Art of Not Giving a F*ck: A Counterintuitive Approach to Living a Good Life\",\"Mark Manson\"],[\"The Sun and Her Flowers\",\"Rupi Kaur\"],[\"The Third Wheel (Diary of a Wimpy Kid, Book 7)\",\"Jeff Kinney\"],[\"The Throne of Fire (The Kane Chronicles, Book 2)\",\"Rick Riordan\"],[\"The Time Traveler's Wife\",\"Audrey Niffenegger\"],[\"The Tipping Point: How Little Things Can Make a Big Difference\",\"Malcolm Gladwell\"],[\"The Total Money Makeover: Classic Edition: A Proven Plan for Financial Fitness\",\"Dave Ramsey\"],[\"The Twilight Saga Collection\",\"Stephenie Meyer\"],[\"The Ugly Truth (Diary of a Wimpy Kid, Book 5)\",\"Jeff Kinney\"],[\"The Unofficial Harry Potter Cookbook: From Cauldron Cakes to Knickerbocker Glory--More Than 150 Magical Recipes for\\u2026\",\"Dinah Bucholz\"],[\"The Very Hungry Caterpillar\",\"Eric Carle\"],[\"The Very Hungry Caterpillar\",\"Eric Carle\"],[\"The Very Hungry Caterpillar\",\"Eric Carle\"],[\"The Very Hungry Caterpillar\",\"Eric Carle\"],[\"The Very Hungry Caterpillar\",\"Eric Carle\"],[\"The Very Hungry Caterpillar\",\"Eric Carle\"],[\"The Very Hungry Caterpillar\",\"Eric Carle\"],[\"The Whole30: The 30-Day Guide to Total Health and Food Freedom\",\"Melissa Hartwig Urban\"],[\"The Whole30: The 30-Day Guide to Total Health and Food Freedom\",\"Melissa Hartwig Urban\"],[\"The Whole30: The 30-Day Guide to Total Health and Food Freedom\",\"Melissa Hartwig Urban\"],[\"The Wonderful Things You Will Be\",\"Emily Winfield Martin\"],[\"The Wonderful Things You Will Be\",\"Emily Winfield Martin\"],[\"The Wonderful Things You Will Be\",\"Emily Winfield Martin\"],[\"The Wonderful Things You Will Be\",\"Emily Winfield Martin\"],[\"The Wonky Donkey\",\"Craig Smith\"],[\"The Wonky Donkey\",\"Craig Smith\"],[\"The Wright Brothers\",\"David McCullough\"],[\"Things That Matter: Three Decades of Passions, Pastimes and Politics [Deckled Edge]\",\"Charles Krauthammer\"],[\"Thinking, Fast and Slow\",\"Daniel Kahneman\"],[\"Thinking, Fast and Slow\",\"Daniel Kahneman\"],[\"Thirteen Reasons Why\",\"Jay Asher\"],[\"Thomas Jefferson: The Art of Power\",\"Jon Meacham\"],[\"Three Cups of Tea: One Man's Mission to Promote Peace - One School at a Time\",\"Greg Mortenson\"],[\"Three Cups of Tea: One Man's Mission to Promote Peace - One School at a Time\",\"Greg Mortenson\"],[\"Thug Kitchen: The Official Cookbook: Eat Like You Give a F*ck (Thug Kitchen Cookbooks)\",\"Thug Kitchen\"],[\"Thug Kitchen: The Official Cookbook: Eat Like You Give a F*ck (Thug Kitchen Cookbooks)\",\"Thug Kitchen\"],[\"Thug Kitchen: The Official Cookbook: Eat Like You Give a F*ck (Thug Kitchen Cookbooks)\",\"Thug Kitchen\"],[\"Thug Kitchen: The Official Cookbook: Eat Like You Give a F*ck (Thug Kitchen Cookbooks)\",\"Thug Kitchen\"],[\"Tina Fey: Bossypants\",\"Tina Fey\"],[\"To Kill a Mockingbird\",\"Harper Lee\"],[\"To Kill a Mockingbird\",\"Harper Lee\"],[\"To Kill a Mockingbird\",\"Harper Lee\"],[\"To Kill a Mockingbird\",\"Harper Lee\"],[\"To Kill a Mockingbird\",\"Harper Lee\"],[\"Tools of Titans: The Tactics, Routines, and Habits of Billionaires, Icons, and World-Class Performers\",\"Timothy Ferriss\"],[\"Towers of Midnight (Wheel of Time, Book Thirteen)\",\"Robert Jordan\"],[\"True Compass: A Memoir\",\"Edward M. Kennedy\"],[\"Twilight (The Twilight Saga, Book 1)\",\"Stephenie Meyer\"],[\"Ultimate Sticker Book: Frozen: More Than 60 Reusable Full-Color Stickers\",\"DK\"],[\"Unbroken: A World War II Story of Survival, Resilience, and Redemption\",\"Laura Hillenbrand\"],[\"Unbroken: A World War II Story of Survival, Resilience, and Redemption\",\"Laura Hillenbrand\"],[\"Unbroken: A World War II Story of Survival, Resilience, and Redemption\",\"Laura Hillenbrand\"],[\"Unbroken: A World War II Story of Survival, Resilience, and Redemption\",\"Laura Hillenbrand\"],[\"Unbroken: A World War II Story of Survival, Resilience, and Redemption\",\"Laura Hillenbrand\"],[\"Under the Dome: A Novel\",\"Stephen King\"],[\"Unfreedom of the Press\",\"Mark R. Levin\"],[\"Unicorn Coloring Book: For Kids Ages 4-8 (US Edition) (Silly Bear Coloring Books)\",\"Silly Bear\"],[\"Uninvited: Living Loved When You Feel Less Than, Left Out, and Lonely\",\"Lysa TerKeurst\"],[\"Watchmen\",\"Alan Moore\"],[\"Water for Elephants: A Novel\",\"Sara Gruen\"],[\"What Happened\",\"Hillary Rodham Clinton\"],[\"What If?: Serious Scientific Answers to Absurd Hypothetical Questions\",\"Randall Munroe\"],[\"What Pet Should I Get? (Classic Seuss)\",\"Dr. Seuss\"],[\"What Should Danny Do? (The Power to Choose Series)\",\"Adir Levy\"],[\"What to Expect When You're Expecting\",\"Heidi Murkoff\"],[\"Wheat Belly: Lose the Wheat, Lose the Weight, and Find Your Path Back to Health\",\"William Davis\"],[\"Wheat Belly: Lose the Wheat, Lose the Weight, and Find Your Path Back to Health\",\"William Davis\"],[\"When Breath Becomes Air\",\"Paul Kalanithi\"],[\"Where the Crawdads Sing\",\"Delia Owens\"],[\"Where the Wild Things Are\",\"Maurice Sendak\"],[\"Whose Boat Is This Boat?: Comments That Don't Help in the Aftermath of a Hurricane\",\"The Staff of The Late Show with\\u0085\"],[\"Wild: From Lost to Found on the Pacific Crest Trail\",\"Cheryl Strayed\"],[\"Winter of the World: Book Two of the Century Trilogy\",\"Ken Follett\"],[\"Women Food and God: An Unexpected Path to Almost Everything\",\"Geneen Roth\"],[\"Wonder\",\"R. J. Palacio\"],[\"Wonder\",\"R. J. Palacio\"],[\"Wonder\",\"R. J. Palacio\"],[\"Wonder\",\"R. J. Palacio\"],[\"Wonder\",\"R. J. Palacio\"],[\"Wrecking Ball (Diary of a Wimpy Kid Book 14)\",\"Jeff Kinney\"],[\"You Are a Badass: How to Stop Doubting Your Greatness and Start Living an Awesome Life\",\"Jen Sincero\"],[\"You Are a Badass: How to Stop Doubting Your Greatness and Start Living an Awesome Life\",\"Jen Sincero\"],[\"You Are a Badass: How to Stop Doubting Your Greatness and Start Living an Awesome Life\",\"Jen Sincero\"],[\"You Are a Badass: How to Stop Doubting Your Greatness and Start Living an Awesome Life\",\"Jen Sincero\"]],\"hovertemplate\":\"Price=%{x}<br>Name=%{customdata[0]}<br>Author=%{customdata[1]}<extra></extra>\",\"legendgroup\":\"\",\"marker\":{\"color\":\"#636efa\"},\"name\":\"\",\"notched\":true,\"offsetgroup\":\"\",\"showlegend\":false,\"type\":\"box\",\"x\":[8,22,15,6,12,11,30,15,3,8,8,2,32,5,17,4,6,6,8,13,14,14,13,9,13,5,9,14,5,11,24,21,11,11,15,13,13,18,13,8,5,5,0,4,18,28,11,11,11,16,14,14,14,8,4,5,11,11,10,13,4,8,4,5,5,5,5,17,15,105,105,0,15,22,5,15,15,6,6,13,12,6,8,4,4,8,8,6,20,5,16,1,14,9,9,7,18,15,15,9,8,8,15,2,7,11,14,14,32,6,4,4,4,4,4,9,0,9,5,5,5,20,16,4,4,4,4,4,12,12,12,11,19,9,6,10,10,9,6,14,14,14,14,5,5,5,7,7,10,14,7,54,11,30,12,18,30,22,9,52,4,10,10,14,14,22,11,11,11,11,11,16,15,15,17,17,7,7,4,4,9,21,14,20,13,13,12,8,8,8,8,8,8,0,12,17,12,25,10,10,6,5,6,8,4,4,4,13,4,4,4,4,4,13,21,6,15,18,10,0,12,7,13,5,5,16,20,11,27,8,8,8,6,10,10,10,8,8,8,16,11,10,9,14,22,8,8,8,8,8,8,8,8,7,12,13,13,9,13,11,20,20,5,5,2,27,27,27,9,10,10,46,46,46,46,46,46,46,46,46,46,4,20,7,9,9,12,12,12,12,20,20,10,6,6,9,11,16,6,25,17,20,20,6,17,17,17,17,17,17,17,17,17,18,13,18,20,20,22,21,28,28,28,28,28,8,8,8,8,8,12,24,24,24,24,16,16,16,39,9,10,10,17,11,14,12,53,6,6,8,8,12,12,12,21,6,6,13,0,11,9,9,9,15,11,13,13,7,13,6,6,6,6,6,9,6,6,6,6,6,6,0,18,7,14,14,9,16,2,2,5,5,20,20,7,7,7,14,10,7,13,11,6,6,8,7,14,14,8,8,30,30,13,9,9,7,7,9,7,7,20,13,13,11,11,11,11,18,14,19,13,5,10,9,8,8,12,11,11,40,40,40,40,40,36,16,17,14,21,18,17,5,5,21,18,18,12,14,12,8,8,0,14,10,15,15,15,9,7,10,6,9,10,82,12,10,5,5,5,5,5,5,5,16,16,16,10,10,10,10,4,4,16,15,19,19,9,23,11,11,23,23,23,23,12,0,0,0,0,7,21,21,15,9,5,16,16,16,13,16,20,11,4,9,42,12,18,17,14,13,9,6,6,14,15,13,12,18,15,11,9,9,9,9,9,8,8,8,8,8],\"xaxis\":\"x2\",\"yaxis\":\"y2\"}],                        {\"barmode\":\"relative\",\"legend\":{\"tracegroupgap\":0},\"template\":{\"data\":{\"bar\":[{\"error_x\":{\"color\":\"#2a3f5f\"},\"error_y\":{\"color\":\"#2a3f5f\"},\"marker\":{\"line\":{\"color\":\"#E5ECF6\",\"width\":0.5},\"pattern\":{\"fillmode\":\"overlay\",\"size\":10,\"solidity\":0.2}},\"type\":\"bar\"}],\"barpolar\":[{\"marker\":{\"line\":{\"color\":\"#E5ECF6\",\"width\":0.5},\"pattern\":{\"fillmode\":\"overlay\",\"size\":10,\"solidity\":0.2}},\"type\":\"barpolar\"}],\"carpet\":[{\"aaxis\":{\"endlinecolor\":\"#2a3f5f\",\"gridcolor\":\"white\",\"linecolor\":\"white\",\"minorgridcolor\":\"white\",\"startlinecolor\":\"#2a3f5f\"},\"baxis\":{\"endlinecolor\":\"#2a3f5f\",\"gridcolor\":\"white\",\"linecolor\":\"white\",\"minorgridcolor\":\"white\",\"startlinecolor\":\"#2a3f5f\"},\"type\":\"carpet\"}],\"choropleth\":[{\"colorbar\":{\"outlinewidth\":0,\"ticks\":\"\"},\"type\":\"choropleth\"}],\"contour\":[{\"colorbar\":{\"outlinewidth\":0,\"ticks\":\"\"},\"colorscale\":[[0.0,\"#0d0887\"],[0.1111111111111111,\"#46039f\"],[0.2222222222222222,\"#7201a8\"],[0.3333333333333333,\"#9c179e\"],[0.4444444444444444,\"#bd3786\"],[0.5555555555555556,\"#d8576b\"],[0.6666666666666666,\"#ed7953\"],[0.7777777777777778,\"#fb9f3a\"],[0.8888888888888888,\"#fdca26\"],[1.0,\"#f0f921\"]],\"type\":\"contour\"}],\"contourcarpet\":[{\"colorbar\":{\"outlinewidth\":0,\"ticks\":\"\"},\"type\":\"contourcarpet\"}],\"heatmap\":[{\"colorbar\":{\"outlinewidth\":0,\"ticks\":\"\"},\"colorscale\":[[0.0,\"#0d0887\"],[0.1111111111111111,\"#46039f\"],[0.2222222222222222,\"#7201a8\"],[0.3333333333333333,\"#9c179e\"],[0.4444444444444444,\"#bd3786\"],[0.5555555555555556,\"#d8576b\"],[0.6666666666666666,\"#ed7953\"],[0.7777777777777778,\"#fb9f3a\"],[0.8888888888888888,\"#fdca26\"],[1.0,\"#f0f921\"]],\"type\":\"heatmap\"}],\"heatmapgl\":[{\"colorbar\":{\"outlinewidth\":0,\"ticks\":\"\"},\"colorscale\":[[0.0,\"#0d0887\"],[0.1111111111111111,\"#46039f\"],[0.2222222222222222,\"#7201a8\"],[0.3333333333333333,\"#9c179e\"],[0.4444444444444444,\"#bd3786\"],[0.5555555555555556,\"#d8576b\"],[0.6666666666666666,\"#ed7953\"],[0.7777777777777778,\"#fb9f3a\"],[0.8888888888888888,\"#fdca26\"],[1.0,\"#f0f921\"]],\"type\":\"heatmapgl\"}],\"histogram\":[{\"marker\":{\"pattern\":{\"fillmode\":\"overlay\",\"size\":10,\"solidity\":0.2}},\"type\":\"histogram\"}],\"histogram2d\":[{\"colorbar\":{\"outlinewidth\":0,\"ticks\":\"\"},\"colorscale\":[[0.0,\"#0d0887\"],[0.1111111111111111,\"#46039f\"],[0.2222222222222222,\"#7201a8\"],[0.3333333333333333,\"#9c179e\"],[0.4444444444444444,\"#bd3786\"],[0.5555555555555556,\"#d8576b\"],[0.6666666666666666,\"#ed7953\"],[0.7777777777777778,\"#fb9f3a\"],[0.8888888888888888,\"#fdca26\"],[1.0,\"#f0f921\"]],\"type\":\"histogram2d\"}],\"histogram2dcontour\":[{\"colorbar\":{\"outlinewidth\":0,\"ticks\":\"\"},\"colorscale\":[[0.0,\"#0d0887\"],[0.1111111111111111,\"#46039f\"],[0.2222222222222222,\"#7201a8\"],[0.3333333333333333,\"#9c179e\"],[0.4444444444444444,\"#bd3786\"],[0.5555555555555556,\"#d8576b\"],[0.6666666666666666,\"#ed7953\"],[0.7777777777777778,\"#fb9f3a\"],[0.8888888888888888,\"#fdca26\"],[1.0,\"#f0f921\"]],\"type\":\"histogram2dcontour\"}],\"mesh3d\":[{\"colorbar\":{\"outlinewidth\":0,\"ticks\":\"\"},\"type\":\"mesh3d\"}],\"parcoords\":[{\"line\":{\"colorbar\":{\"outlinewidth\":0,\"ticks\":\"\"}},\"type\":\"parcoords\"}],\"pie\":[{\"automargin\":true,\"type\":\"pie\"}],\"scatter\":[{\"marker\":{\"colorbar\":{\"outlinewidth\":0,\"ticks\":\"\"}},\"type\":\"scatter\"}],\"scatter3d\":[{\"line\":{\"colorbar\":{\"outlinewidth\":0,\"ticks\":\"\"}},\"marker\":{\"colorbar\":{\"outlinewidth\":0,\"ticks\":\"\"}},\"type\":\"scatter3d\"}],\"scattercarpet\":[{\"marker\":{\"colorbar\":{\"outlinewidth\":0,\"ticks\":\"\"}},\"type\":\"scattercarpet\"}],\"scattergeo\":[{\"marker\":{\"colorbar\":{\"outlinewidth\":0,\"ticks\":\"\"}},\"type\":\"scattergeo\"}],\"scattergl\":[{\"marker\":{\"colorbar\":{\"outlinewidth\":0,\"ticks\":\"\"}},\"type\":\"scattergl\"}],\"scattermapbox\":[{\"marker\":{\"colorbar\":{\"outlinewidth\":0,\"ticks\":\"\"}},\"type\":\"scattermapbox\"}],\"scatterpolar\":[{\"marker\":{\"colorbar\":{\"outlinewidth\":0,\"ticks\":\"\"}},\"type\":\"scatterpolar\"}],\"scatterpolargl\":[{\"marker\":{\"colorbar\":{\"outlinewidth\":0,\"ticks\":\"\"}},\"type\":\"scatterpolargl\"}],\"scatterternary\":[{\"marker\":{\"colorbar\":{\"outlinewidth\":0,\"ticks\":\"\"}},\"type\":\"scatterternary\"}],\"surface\":[{\"colorbar\":{\"outlinewidth\":0,\"ticks\":\"\"},\"colorscale\":[[0.0,\"#0d0887\"],[0.1111111111111111,\"#46039f\"],[0.2222222222222222,\"#7201a8\"],[0.3333333333333333,\"#9c179e\"],[0.4444444444444444,\"#bd3786\"],[0.5555555555555556,\"#d8576b\"],[0.6666666666666666,\"#ed7953\"],[0.7777777777777778,\"#fb9f3a\"],[0.8888888888888888,\"#fdca26\"],[1.0,\"#f0f921\"]],\"type\":\"surface\"}],\"table\":[{\"cells\":{\"fill\":{\"color\":\"#EBF0F8\"},\"line\":{\"color\":\"white\"}},\"header\":{\"fill\":{\"color\":\"#C8D4E3\"},\"line\":{\"color\":\"white\"}},\"type\":\"table\"}]},\"layout\":{\"annotationdefaults\":{\"arrowcolor\":\"#2a3f5f\",\"arrowhead\":0,\"arrowwidth\":1},\"autotypenumbers\":\"strict\",\"coloraxis\":{\"colorbar\":{\"outlinewidth\":0,\"ticks\":\"\"}},\"colorscale\":{\"diverging\":[[0,\"#8e0152\"],[0.1,\"#c51b7d\"],[0.2,\"#de77ae\"],[0.3,\"#f1b6da\"],[0.4,\"#fde0ef\"],[0.5,\"#f7f7f7\"],[0.6,\"#e6f5d0\"],[0.7,\"#b8e186\"],[0.8,\"#7fbc41\"],[0.9,\"#4d9221\"],[1,\"#276419\"]],\"sequential\":[[0.0,\"#0d0887\"],[0.1111111111111111,\"#46039f\"],[0.2222222222222222,\"#7201a8\"],[0.3333333333333333,\"#9c179e\"],[0.4444444444444444,\"#bd3786\"],[0.5555555555555556,\"#d8576b\"],[0.6666666666666666,\"#ed7953\"],[0.7777777777777778,\"#fb9f3a\"],[0.8888888888888888,\"#fdca26\"],[1.0,\"#f0f921\"]],\"sequentialminus\":[[0.0,\"#0d0887\"],[0.1111111111111111,\"#46039f\"],[0.2222222222222222,\"#7201a8\"],[0.3333333333333333,\"#9c179e\"],[0.4444444444444444,\"#bd3786\"],[0.5555555555555556,\"#d8576b\"],[0.6666666666666666,\"#ed7953\"],[0.7777777777777778,\"#fb9f3a\"],[0.8888888888888888,\"#fdca26\"],[1.0,\"#f0f921\"]]},\"colorway\":[\"#636efa\",\"#EF553B\",\"#00cc96\",\"#ab63fa\",\"#FFA15A\",\"#19d3f3\",\"#FF6692\",\"#B6E880\",\"#FF97FF\",\"#FECB52\"],\"font\":{\"color\":\"#2a3f5f\"},\"geo\":{\"bgcolor\":\"white\",\"lakecolor\":\"white\",\"landcolor\":\"#E5ECF6\",\"showlakes\":true,\"showland\":true,\"subunitcolor\":\"white\"},\"hoverlabel\":{\"align\":\"left\"},\"hovermode\":\"closest\",\"mapbox\":{\"style\":\"light\"},\"paper_bgcolor\":\"white\",\"plot_bgcolor\":\"#E5ECF6\",\"polar\":{\"angularaxis\":{\"gridcolor\":\"white\",\"linecolor\":\"white\",\"ticks\":\"\"},\"bgcolor\":\"#E5ECF6\",\"radialaxis\":{\"gridcolor\":\"white\",\"linecolor\":\"white\",\"ticks\":\"\"}},\"scene\":{\"xaxis\":{\"backgroundcolor\":\"#E5ECF6\",\"gridcolor\":\"white\",\"gridwidth\":2,\"linecolor\":\"white\",\"showbackground\":true,\"ticks\":\"\",\"zerolinecolor\":\"white\"},\"yaxis\":{\"backgroundcolor\":\"#E5ECF6\",\"gridcolor\":\"white\",\"gridwidth\":2,\"linecolor\":\"white\",\"showbackground\":true,\"ticks\":\"\",\"zerolinecolor\":\"white\"},\"zaxis\":{\"backgroundcolor\":\"#E5ECF6\",\"gridcolor\":\"white\",\"gridwidth\":2,\"linecolor\":\"white\",\"showbackground\":true,\"ticks\":\"\",\"zerolinecolor\":\"white\"}},\"shapedefaults\":{\"line\":{\"color\":\"#2a3f5f\"}},\"ternary\":{\"aaxis\":{\"gridcolor\":\"white\",\"linecolor\":\"white\",\"ticks\":\"\"},\"baxis\":{\"gridcolor\":\"white\",\"linecolor\":\"white\",\"ticks\":\"\"},\"bgcolor\":\"#E5ECF6\",\"caxis\":{\"gridcolor\":\"white\",\"linecolor\":\"white\",\"ticks\":\"\"}},\"title\":{\"x\":0.05},\"xaxis\":{\"automargin\":true,\"gridcolor\":\"white\",\"linecolor\":\"white\",\"ticks\":\"\",\"title\":{\"standoff\":15},\"zerolinecolor\":\"white\",\"zerolinewidth\":2},\"yaxis\":{\"automargin\":true,\"gridcolor\":\"white\",\"linecolor\":\"white\",\"ticks\":\"\",\"title\":{\"standoff\":15},\"zerolinecolor\":\"white\",\"zerolinewidth\":2}}},\"title\":{\"text\":\"Precios\"},\"xaxis\":{\"anchor\":\"y\",\"domain\":[0.0,1.0],\"title\":{\"text\":\"Price\"}},\"xaxis2\":{\"anchor\":\"y2\",\"domain\":[0.0,1.0],\"matches\":\"x\",\"showgrid\":true,\"showticklabels\":false},\"yaxis\":{\"anchor\":\"x\",\"domain\":[0.0,0.8316],\"title\":{\"text\":\"count\"}},\"yaxis2\":{\"anchor\":\"x2\",\"domain\":[0.8416,1.0],\"matches\":\"y2\",\"showgrid\":false,\"showline\":false,\"showticklabels\":false,\"ticks\":\"\"}},                        {\"responsive\": true}                    ).then(function(){\n                            \nvar gd = document.getElementById('9c55e3fa-e241-47c0-9a97-1b2f22880f7c');\nvar x = new MutationObserver(function (mutations, observer) {{\n        var display = window.getComputedStyle(gd).display;\n        if (!display || display === 'none') {{\n            console.log([gd, 'removed!']);\n            Plotly.purge(gd);\n            observer.disconnect();\n        }}\n}});\n\n// Listen for the removal of the full notebook cells\nvar notebookContainer = gd.closest('#notebook-container');\nif (notebookContainer) {{\n    x.observe(notebookContainer, {childList: true});\n}}\n\n// Listen for the clearing of the current output cell\nvar outputEl = gd.closest('.output');\nif (outputEl) {{\n    x.observe(outputEl, {childList: true});\n}}\n\n                        })                };                            </script>        </div>\n</body>\n</html>"
     },
     "metadata": {},
     "output_type": "display_data"
    }
   ]
  },
  {
   "cell_type": "markdown",
   "source": "<a style='text-decoration:none;line-height:16px;display:flex;color:#5B5B62;padding:10px;justify-content:end;' href='https://deepnote.com?utm_source=created-in-deepnote-cell&projectId=322df7a5-4b18-4ddb-8f91-c142e3bf7671' target=\"_blank\">\n<img alt='Created in deepnote.com' style='display:inline;max-height:16px;margin:0px;margin-right:7.5px;' src='data:image/svg+xml;base64,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' > </img>\nCreated in <span style='font-weight:600;margin-left:4px;'>Deepnote</span></a>",
   "metadata": {
    "tags": [],
    "created_in_deepnote_cell": true,
    "deepnote_cell_type": "markdown"
   }
  }
 ],
 "nbformat": 4,
 "nbformat_minor": 2,
 "metadata": {
  "orig_nbformat": 2,
  "deepnote": {
   "is_reactive": false
  },
  "deepnote_notebook_id": "9eba6562-e56b-4e38-8686-f80fdf9bc754",
  "deepnote_execution_queue": []
 }
}
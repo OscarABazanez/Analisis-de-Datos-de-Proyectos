{
 "cells": [
  {
   "cell_type": "markdown",
   "source": "# Los 50 libros más vendidos de Amazon 2009 - 2019\n\n[Data Set Amazon Top 50 Bestselling Books 2009 - 2019](https://www.kaggle.com/sootersaalu/amazon-top-50-bestselling-books-2009-2019)",
   "metadata": {
    "tags": [],
    "cell_id": "00000-2e78df32-3733-49ef-98f3-bfc79a1fc270",
    "deepnote_cell_type": "markdown"
   }
  },
  {
   "cell_type": "code",
   "metadata": {
    "tags": [],
    "cell_id": "00000-92c2df2b-2bbd-49c4-938f-b8bef0f0733e",
    "deepnote_to_be_reexecuted": false,
    "source_hash": "d60cbba1",
    "execution_start": 1626923613865,
    "execution_millis": 4,
    "deepnote_cell_type": "code"
   },
   "source": "import pandas as pd\nimport numpy as np\n\n\nimport plotly \nimport plotly.express as px\nimport plotly.graph_objs as go\nimport plotly.offline as py\nfrom plotly.offline import iplot\nfrom plotly.subplots import make_subplots\nimport plotly.figure_factory as ff",
   "execution_count": 5,
   "outputs": []
  },
  {
   "cell_type": "code",
   "source": "df = pd.read_csv('db/bestsellers-with-categories.csv')\ndf",
   "metadata": {
    "tags": [],
    "cell_id": "00002-acd44821-2d0e-4f98-b768-103e47a81216",
    "deepnote_to_be_reexecuted": false,
    "source_hash": "1c8b68d6",
    "execution_start": 1626923663627,
    "execution_millis": 59,
    "deepnote_cell_type": "code"
   },
   "outputs": [
    {
     "output_type": "execute_result",
     "execution_count": 6,
     "data": {
      "application/vnd.deepnote.dataframe.v2+json": {
       "row_count": 550,
       "column_count": 7,
       "columns": [
        {
         "name": "Name",
         "dtype": "object",
         "stats": {
          "unique_count": 351,
          "nan_count": 0,
          "categories": [
           {
            "name": "Publication Manual of the American Psychological Association, 6th Edition",
            "count": 10
           },
           {
            "name": "StrengthsFinder 2.0",
            "count": 9
           },
           {
            "name": "349 others",
            "count": 531
           }
          ]
         }
        },
        {
         "name": "Author",
         "dtype": "object",
         "stats": {
          "unique_count": 248,
          "nan_count": 0,
          "categories": [
           {
            "name": "Jeff Kinney",
            "count": 12
           },
           {
            "name": "Suzanne Collins",
            "count": 11
           },
           {
            "name": "246 others",
            "count": 527
           }
          ]
         }
        },
        {
         "name": "User Rating",
         "dtype": "float64",
         "stats": {
          "unique_count": 14,
          "nan_count": 0,
          "min": "3.3",
          "max": "4.9",
          "histogram": [
           {
            "bin_start": 3.3,
            "bin_end": 3.46,
            "count": 1
           },
           {
            "bin_start": 3.46,
            "bin_end": 3.62,
            "count": 1
           },
           {
            "bin_start": 3.62,
            "bin_end": 3.7800000000000002,
            "count": 0
           },
           {
            "bin_start": 3.7800000000000002,
            "bin_end": 3.94,
            "count": 5
           },
           {
            "bin_start": 3.94,
            "bin_end": 4.1,
            "count": 14
           },
           {
            "bin_start": 4.1,
            "bin_end": 4.26,
            "count": 14
           },
           {
            "bin_start": 4.26,
            "bin_end": 4.42,
            "count": 63
           },
           {
            "bin_start": 4.42,
            "bin_end": 4.58,
            "count": 60
           },
           {
            "bin_start": 4.58,
            "bin_end": 4.74,
            "count": 213
           },
           {
            "bin_start": 4.74,
            "bin_end": 4.9,
            "count": 179
           }
          ]
         }
        },
        {
         "name": "Reviews",
         "dtype": "int64",
         "stats": {
          "unique_count": 346,
          "nan_count": 0,
          "min": "37",
          "max": "87841",
          "histogram": [
           {
            "bin_start": 37,
            "bin_end": 8817.4,
            "count": 287
           },
           {
            "bin_start": 8817.4,
            "bin_end": 17597.8,
            "count": 131
           },
           {
            "bin_start": 17597.8,
            "bin_end": 26378.199999999997,
            "count": 87
           },
           {
            "bin_start": 26378.199999999997,
            "bin_end": 35158.6,
            "count": 25
           },
           {
            "bin_start": 35158.6,
            "bin_end": 43939,
            "count": 4
           },
           {
            "bin_start": 43939,
            "bin_end": 52719.399999999994,
            "count": 8
           },
           {
            "bin_start": 52719.399999999994,
            "bin_end": 61499.799999999996,
            "count": 5
           },
           {
            "bin_start": 61499.799999999996,
            "bin_end": 70280.2,
            "count": 0
           },
           {
            "bin_start": 70280.2,
            "bin_end": 79060.59999999999,
            "count": 0
           },
           {
            "bin_start": 79060.59999999999,
            "bin_end": 87841,
            "count": 3
           }
          ]
         }
        },
        {
         "name": "Price",
         "dtype": "int64",
         "stats": {
          "unique_count": 40,
          "nan_count": 0,
          "min": "0",
          "max": "105",
          "histogram": [
           {
            "bin_start": 0,
            "bin_end": 10.5,
            "count": 266
           },
           {
            "bin_start": 10.5,
            "bin_end": 21,
            "count": 216
           },
           {
            "bin_start": 21,
            "bin_end": 31.5,
            "count": 42
           },
           {
            "bin_start": 31.5,
            "bin_end": 42,
            "count": 9
           },
           {
            "bin_start": 42,
            "bin_end": 52.5,
            "count": 12
           },
           {
            "bin_start": 52.5,
            "bin_end": 63,
            "count": 2
           },
           {
            "bin_start": 63,
            "bin_end": 73.5,
            "count": 0
           },
           {
            "bin_start": 73.5,
            "bin_end": 84,
            "count": 1
           },
           {
            "bin_start": 84,
            "bin_end": 94.5,
            "count": 0
           },
           {
            "bin_start": 94.5,
            "bin_end": 105,
            "count": 2
           }
          ]
         }
        },
        {
         "name": "Year",
         "dtype": "int64",
         "stats": {
          "unique_count": 11,
          "nan_count": 0,
          "min": "2009",
          "max": "2019",
          "histogram": [
           {
            "bin_start": 2009,
            "bin_end": 2010,
            "count": 50
           },
           {
            "bin_start": 2010,
            "bin_end": 2011,
            "count": 50
           },
           {
            "bin_start": 2011,
            "bin_end": 2012,
            "count": 50
           },
           {
            "bin_start": 2012,
            "bin_end": 2013,
            "count": 50
           },
           {
            "bin_start": 2013,
            "bin_end": 2014,
            "count": 50
           },
           {
            "bin_start": 2014,
            "bin_end": 2015,
            "count": 50
           },
           {
            "bin_start": 2015,
            "bin_end": 2016,
            "count": 50
           },
           {
            "bin_start": 2016,
            "bin_end": 2017,
            "count": 50
           },
           {
            "bin_start": 2017,
            "bin_end": 2018,
            "count": 50
           },
           {
            "bin_start": 2018,
            "bin_end": 2019,
            "count": 100
           }
          ]
         }
        },
        {
         "name": "Genre",
         "dtype": "object",
         "stats": {
          "unique_count": 2,
          "nan_count": 0,
          "categories": [
           {
            "name": "Non Fiction",
            "count": 310
           },
           {
            "name": "Fiction",
            "count": 240
           }
          ]
         }
        },
        {
         "name": "_deepnote_index_column",
         "dtype": "int64"
        }
       ],
       "rows_top": [
        {
         "Name": "10-Day Green Smoothie Cleanse",
         "Author": "JJ Smith",
         "User Rating": 4.7,
         "Reviews": 17350,
         "Price": 8,
         "Year": 2016,
         "Genre": "Non Fiction",
         "_deepnote_index_column": 0
        },
        {
         "Name": "11/22/63: A Novel",
         "Author": "Stephen King",
         "User Rating": 4.6,
         "Reviews": 2052,
         "Price": 22,
         "Year": 2011,
         "Genre": "Fiction",
         "_deepnote_index_column": 1
        },
        {
         "Name": "12 Rules for Life: An Antidote to Chaos",
         "Author": "Jordan B. Peterson",
         "User Rating": 4.7,
         "Reviews": 18979,
         "Price": 15,
         "Year": 2018,
         "Genre": "Non Fiction",
         "_deepnote_index_column": 2
        },
        {
         "Name": "1984 (Signet Classics)",
         "Author": "George Orwell",
         "User Rating": 4.7,
         "Reviews": 21424,
         "Price": 6,
         "Year": 2017,
         "Genre": "Fiction",
         "_deepnote_index_column": 3
        },
        {
         "Name": "5,000 Awesome Facts (About Everything!) (National Geographic Kids)",
         "Author": "National Geographic Kids",
         "User Rating": 4.8,
         "Reviews": 7665,
         "Price": 12,
         "Year": 2019,
         "Genre": "Non Fiction",
         "_deepnote_index_column": 4
        },
        {
         "Name": "A Dance with Dragons (A Song of Ice and Fire)",
         "Author": "George R. R. Martin",
         "User Rating": 4.4,
         "Reviews": 12643,
         "Price": 11,
         "Year": 2011,
         "Genre": "Fiction",
         "_deepnote_index_column": 5
        },
        {
         "Name": "A Game of Thrones / A Clash of Kings / A Storm of Swords / A Feast of Crows / A Dance with Dragons",
         "Author": "George R. R. Martin",
         "User Rating": 4.7,
         "Reviews": 19735,
         "Price": 30,
         "Year": 2014,
         "Genre": "Fiction",
         "_deepnote_index_column": 6
        },
        {
         "Name": "A Gentleman in Moscow: A Novel",
         "Author": "Amor Towles",
         "User Rating": 4.7,
         "Reviews": 19699,
         "Price": 15,
         "Year": 2017,
         "Genre": "Fiction",
         "_deepnote_index_column": 7
        },
        {
         "Name": "A Higher Loyalty: Truth, Lies, and Leadership",
         "Author": "James Comey",
         "User Rating": 4.7,
         "Reviews": 5983,
         "Price": 3,
         "Year": 2018,
         "Genre": "Non Fiction",
         "_deepnote_index_column": 8
        },
        {
         "Name": "A Man Called Ove: A Novel",
         "Author": "Fredrik Backman",
         "User Rating": 4.6,
         "Reviews": 23848,
         "Price": 8,
         "Year": 2016,
         "Genre": "Fiction",
         "_deepnote_index_column": 9
        },
        {
         "Name": "A Man Called Ove: A Novel",
         "Author": "Fredrik Backman",
         "User Rating": 4.6,
         "Reviews": 23848,
         "Price": 8,
         "Year": 2017,
         "Genre": "Fiction",
         "_deepnote_index_column": 10
        },
        {
         "Name": "A Patriot's History of the United States: From Columbus's Great Discovery to the War on Terror",
         "Author": "Larry Schweikart",
         "User Rating": 4.6,
         "Reviews": 460,
         "Price": 2,
         "Year": 2010,
         "Genre": "Non Fiction",
         "_deepnote_index_column": 11
        },
        {
         "Name": "A Stolen Life: A Memoir",
         "Author": "Jaycee Dugard",
         "User Rating": 4.6,
         "Reviews": 4149,
         "Price": 32,
         "Year": 2011,
         "Genre": "Non Fiction",
         "_deepnote_index_column": 12
        },
        {
         "Name": "A Wrinkle in Time (Time Quintet)",
         "Author": "Madeleine L'Engle",
         "User Rating": 4.5,
         "Reviews": 5153,
         "Price": 5,
         "Year": 2018,
         "Genre": "Fiction",
         "_deepnote_index_column": 13
        },
        {
         "Name": "Act Like a Lady, Think Like a Man: What Men Really Think About Love, Relationships, Intimacy, and C…",
         "Author": "Steve Harvey",
         "User Rating": 4.6,
         "Reviews": 5013,
         "Price": 17,
         "Year": 2009,
         "Genre": "Non Fiction",
         "_deepnote_index_column": 14
        },
        {
         "Name": "Adult Coloring Book Designs: Stress Relief Coloring Book: Garden Designs, Mandalas, Animals, and Pa…",
         "Author": "Adult Coloring Book Designs",
         "User Rating": 4.5,
         "Reviews": 2313,
         "Price": 4,
         "Year": 2016,
         "Genre": "Non Fiction",
         "_deepnote_index_column": 15
        },
        {
         "Name": "Adult Coloring Book: Stress Relieving Animal Designs",
         "Author": "Blue Star Coloring",
         "User Rating": 4.6,
         "Reviews": 2925,
         "Price": 6,
         "Year": 2015,
         "Genre": "Non Fiction",
         "_deepnote_index_column": 16
        },
        {
         "Name": "Adult Coloring Book: Stress Relieving Patterns",
         "Author": "Blue Star Coloring",
         "User Rating": 4.4,
         "Reviews": 2951,
         "Price": 6,
         "Year": 2015,
         "Genre": "Non Fiction",
         "_deepnote_index_column": 17
        },
        {
         "Name": "Adult Coloring Books: A Coloring Book for Adults Featuring Mandalas and Henna Inspired Flowers, Ani…",
         "Author": "Coloring Books for Adults",
         "User Rating": 4.5,
         "Reviews": 2426,
         "Price": 8,
         "Year": 2015,
         "Genre": "Non Fiction",
         "_deepnote_index_column": 18
        },
        {
         "Name": "Alexander Hamilton",
         "Author": "Ron Chernow",
         "User Rating": 4.8,
         "Reviews": 9198,
         "Price": 13,
         "Year": 2016,
         "Genre": "Non Fiction",
         "_deepnote_index_column": 19
        },
        {
         "Name": "All the Light We Cannot See",
         "Author": "Anthony Doerr",
         "User Rating": 4.6,
         "Reviews": 36348,
         "Price": 14,
         "Year": 2014,
         "Genre": "Fiction",
         "_deepnote_index_column": 20
        },
        {
         "Name": "All the Light We Cannot See",
         "Author": "Anthony Doerr",
         "User Rating": 4.6,
         "Reviews": 36348,
         "Price": 14,
         "Year": 2015,
         "Genre": "Fiction",
         "_deepnote_index_column": 21
        },
        {
         "Name": "Allegiant",
         "Author": "Veronica Roth",
         "User Rating": 3.9,
         "Reviews": 6310,
         "Price": 13,
         "Year": 2013,
         "Genre": "Fiction",
         "_deepnote_index_column": 22
        },
        {
         "Name": "American Sniper: The Autobiography of the Most Lethal Sniper in U.S. Military History",
         "Author": "Chris Kyle",
         "User Rating": 4.6,
         "Reviews": 15921,
         "Price": 9,
         "Year": 2015,
         "Genre": "Non Fiction",
         "_deepnote_index_column": 23
        },
        {
         "Name": "And the Mountains Echoed",
         "Author": "Khaled Hosseini",
         "User Rating": 4.3,
         "Reviews": 12159,
         "Price": 13,
         "Year": 2013,
         "Genre": "Fiction",
         "_deepnote_index_column": 24
        },
        {
         "Name": "Arguing with Idiots: How to Stop Small Minds and Big Government",
         "Author": "Glenn Beck",
         "User Rating": 4.6,
         "Reviews": 798,
         "Price": 5,
         "Year": 2009,
         "Genre": "Non Fiction",
         "_deepnote_index_column": 25
        },
        {
         "Name": "Astrophysics for People in a Hurry",
         "Author": "Neil deGrasse Tyson",
         "User Rating": 4.7,
         "Reviews": 9374,
         "Price": 9,
         "Year": 2017,
         "Genre": "Non Fiction",
         "_deepnote_index_column": 26
        },
        {
         "Name": "Autobiography of Mark Twain, Vol. 1",
         "Author": "Mark Twain",
         "User Rating": 4.2,
         "Reviews": 491,
         "Price": 14,
         "Year": 2010,
         "Genre": "Non Fiction",
         "_deepnote_index_column": 27
        },
        {
         "Name": "Baby Touch and Feel: Animals",
         "Author": "DK",
         "User Rating": 4.6,
         "Reviews": 5360,
         "Price": 5,
         "Year": 2015,
         "Genre": "Non Fiction",
         "_deepnote_index_column": 28
        },
        {
         "Name": "Balance (Angie's Extreme Stress Menders)",
         "Author": "Angie Grace",
         "User Rating": 4.6,
         "Reviews": 1909,
         "Price": 11,
         "Year": 2015,
         "Genre": "Non Fiction",
         "_deepnote_index_column": 29
        },
        {
         "Name": "Barefoot Contessa Foolproof: Recipes You Can Trust: A Cookbook",
         "Author": "Ina Garten",
         "User Rating": 4.8,
         "Reviews": 1296,
         "Price": 24,
         "Year": 2012,
         "Genre": "Non Fiction",
         "_deepnote_index_column": 30
        },
        {
         "Name": "Barefoot Contessa, How Easy Is That?: Fabulous Recipes & Easy Tips",
         "Author": "Ina Garten",
         "User Rating": 4.7,
         "Reviews": 615,
         "Price": 21,
         "Year": 2010,
         "Genre": "Non Fiction",
         "_deepnote_index_column": 31
        },
        {
         "Name": "Becoming",
         "Author": "Michelle Obama",
         "User Rating": 4.8,
         "Reviews": 61133,
         "Price": 11,
         "Year": 2018,
         "Genre": "Non Fiction",
         "_deepnote_index_column": 32
        },
        {
         "Name": "Becoming",
         "Author": "Michelle Obama",
         "User Rating": 4.8,
         "Reviews": 61133,
         "Price": 11,
         "Year": 2019,
         "Genre": "Non Fiction",
         "_deepnote_index_column": 33
        },
        {
         "Name": "Being Mortal: Medicine and What Matters in the End",
         "Author": "Atul Gawande",
         "User Rating": 4.8,
         "Reviews": 11113,
         "Price": 15,
         "Year": 2015,
         "Genre": "Non Fiction",
         "_deepnote_index_column": 34
        },
        {
         "Name": "Between the World and Me",
         "Author": "Ta-Nehisi Coates",
         "User Rating": 4.7,
         "Reviews": 10070,
         "Price": 13,
         "Year": 2015,
         "Genre": "Non Fiction",
         "_deepnote_index_column": 35
        },
        {
         "Name": "Between the World and Me",
         "Author": "Ta-Nehisi Coates",
         "User Rating": 4.7,
         "Reviews": 10070,
         "Price": 13,
         "Year": 2016,
         "Genre": "Non Fiction",
         "_deepnote_index_column": 36
        },
        {
         "Name": "Born to Run",
         "Author": "Bruce Springsteen",
         "User Rating": 4.7,
         "Reviews": 3729,
         "Price": 18,
         "Year": 2016,
         "Genre": "Non Fiction",
         "_deepnote_index_column": 37
        },
        {
         "Name": "Breaking Dawn (The Twilight Saga, Book 4)",
         "Author": "Stephenie Meyer",
         "User Rating": 4.6,
         "Reviews": 9769,
         "Price": 13,
         "Year": 2009,
         "Genre": "Fiction",
         "_deepnote_index_column": 38
        },
        {
         "Name": "Broke: The Plan to Restore Our Trust, Truth and Treasure",
         "Author": "Glenn Beck",
         "User Rating": 4.5,
         "Reviews": 471,
         "Price": 8,
         "Year": 2010,
         "Genre": "Non Fiction",
         "_deepnote_index_column": 39
        },
        {
         "Name": "Brown Bear, Brown Bear, What Do You See?",
         "Author": "Bill Martin Jr.",
         "User Rating": 4.9,
         "Reviews": 14344,
         "Price": 5,
         "Year": 2017,
         "Genre": "Fiction",
         "_deepnote_index_column": 40
        },
        {
         "Name": "Brown Bear, Brown Bear, What Do You See?",
         "Author": "Bill Martin Jr.",
         "User Rating": 4.9,
         "Reviews": 14344,
         "Price": 5,
         "Year": 2019,
         "Genre": "Fiction",
         "_deepnote_index_column": 41
        },
        {
         "Name": "Cabin Fever (Diary of a Wimpy Kid, Book 6)",
         "Author": "Jeff Kinney",
         "User Rating": 4.8,
         "Reviews": 4505,
         "Price": 0,
         "Year": 2011,
         "Genre": "Fiction",
         "_deepnote_index_column": 42
        },
        {
         "Name": "Calm the F*ck Down: An Irreverent Adult Coloring Book (Irreverent Book Series)",
         "Author": "Sasha O'Hara",
         "User Rating": 4.6,
         "Reviews": 10369,
         "Price": 4,
         "Year": 2016,
         "Genre": "Non Fiction",
         "_deepnote_index_column": 43
        },
        {
         "Name": "Can't Hurt Me: Master Your Mind and Defy the Odds",
         "Author": "David Goggins",
         "User Rating": 4.8,
         "Reviews": 16244,
         "Price": 18,
         "Year": 2019,
         "Genre": "Non Fiction",
         "_deepnote_index_column": 44
        },
        {
         "Name": "Capital in the Twenty First Century",
         "Author": "Thomas Piketty",
         "User Rating": 4.5,
         "Reviews": 2884,
         "Price": 28,
         "Year": 2014,
         "Genre": "Non Fiction",
         "_deepnote_index_column": 45
        },
        {
         "Name": "Catching Fire (The Hunger Games)",
         "Author": "Suzanne Collins",
         "User Rating": 4.7,
         "Reviews": 22614,
         "Price": 11,
         "Year": 2010,
         "Genre": "Fiction",
         "_deepnote_index_column": 46
        },
        {
         "Name": "Catching Fire (The Hunger Games)",
         "Author": "Suzanne Collins",
         "User Rating": 4.7,
         "Reviews": 22614,
         "Price": 11,
         "Year": 2011,
         "Genre": "Fiction",
         "_deepnote_index_column": 47
        },
        {
         "Name": "Catching Fire (The Hunger Games)",
         "Author": "Suzanne Collins",
         "User Rating": 4.7,
         "Reviews": 22614,
         "Price": 11,
         "Year": 2012,
         "Genre": "Fiction",
         "_deepnote_index_column": 48
        },
        {
         "Name": "Cravings: Recipes for All the Food You Want to Eat: A Cookbook",
         "Author": "Chrissy Teigen",
         "User Rating": 4.7,
         "Reviews": 4761,
         "Price": 16,
         "Year": 2016,
         "Genre": "Non Fiction",
         "_deepnote_index_column": 49
        },
        {
         "Name": "Crazy Love: Overwhelmed by a Relentless God",
         "Author": "Francis Chan",
         "User Rating": 4.7,
         "Reviews": 1542,
         "Price": 14,
         "Year": 2009,
         "Genre": "Non Fiction",
         "_deepnote_index_column": 50
        },
        {
         "Name": "Crazy Love: Overwhelmed by a Relentless God",
         "Author": "Francis Chan",
         "User Rating": 4.7,
         "Reviews": 1542,
         "Price": 14,
         "Year": 2010,
         "Genre": "Non Fiction",
         "_deepnote_index_column": 51
        },
        {
         "Name": "Crazy Love: Overwhelmed by a Relentless God",
         "Author": "Francis Chan",
         "User Rating": 4.7,
         "Reviews": 1542,
         "Price": 14,
         "Year": 2011,
         "Genre": "Non Fiction",
         "_deepnote_index_column": 52
        },
        {
         "Name": "Crazy Rich Asians (Crazy Rich Asians Trilogy)",
         "Author": "Kevin Kwan",
         "User Rating": 4.3,
         "Reviews": 6143,
         "Price": 8,
         "Year": 2018,
         "Genre": "Fiction",
         "_deepnote_index_column": 53
        },
        {
         "Name": "Creative Haven Creative Cats Coloring Book (Adult Coloring)",
         "Author": "Marjorie Sarnat",
         "User Rating": 4.8,
         "Reviews": 4022,
         "Price": 4,
         "Year": 2015,
         "Genre": "Non Fiction",
         "_deepnote_index_column": 54
        },
        {
         "Name": "Creative Haven Owls Coloring Book (Adult Coloring)",
         "Author": "Marjorie Sarnat",
         "User Rating": 4.8,
         "Reviews": 3871,
         "Price": 5,
         "Year": 2015,
         "Genre": "Non Fiction",
         "_deepnote_index_column": 55
        },
        {
         "Name": "Cutting for Stone",
         "Author": "Abraham Verghese",
         "User Rating": 4.6,
         "Reviews": 4866,
         "Price": 11,
         "Year": 2010,
         "Genre": "Fiction",
         "_deepnote_index_column": 56
        },
        {
         "Name": "Cutting for Stone",
         "Author": "Abraham Verghese",
         "User Rating": 4.6,
         "Reviews": 4866,
         "Price": 11,
         "Year": 2011,
         "Genre": "Fiction",
         "_deepnote_index_column": 57
        },
        {
         "Name": "Daring Greatly: How the Courage to Be Vulnerable Transforms the Way We Live, Love, Parent, and Lead",
         "Author": "Brené Brown",
         "User Rating": 4.8,
         "Reviews": 1329,
         "Price": 10,
         "Year": 2013,
         "Genre": "Non Fiction",
         "_deepnote_index_column": 58
        },
        {
         "Name": "David and Goliath: Underdogs, Misfits, and the Art of Battling Giants",
         "Author": "Malcolm Gladwell",
         "User Rating": 4.4,
         "Reviews": 4642,
         "Price": 13,
         "Year": 2013,
         "Genre": "Non Fiction",
         "_deepnote_index_column": 59
        },
        {
         "Name": "Dead And Gone: A Sookie Stackhouse Novel (Sookie Stackhouse/True Blood)",
         "Author": "Charlaine Harris",
         "User Rating": 4.6,
         "Reviews": 1541,
         "Price": 4,
         "Year": 2009,
         "Genre": "Fiction",
         "_deepnote_index_column": 60
        },
        {
         "Name": "Dead in the Family (Sookie Stackhouse/True Blood, Book 10)",
         "Author": "Charlaine Harris",
         "User Rating": 4.3,
         "Reviews": 1924,
         "Price": 8,
         "Year": 2010,
         "Genre": "Fiction",
         "_deepnote_index_column": 61
        },
        {
         "Name": "Dead Reckoning (Sookie Stackhouse/True Blood, Book 11)",
         "Author": "Charlaine Harris",
         "User Rating": 4.2,
         "Reviews": 2094,
         "Price": 4,
         "Year": 2011,
         "Genre": "Fiction",
         "_deepnote_index_column": 62
        },
        {
         "Name": "Dear Zoo: A Lift-the-Flap Book",
         "Author": "Rod Campbell",
         "User Rating": 4.8,
         "Reviews": 10922,
         "Price": 5,
         "Year": 2015,
         "Genre": "Fiction",
         "_deepnote_index_column": 63
        },
        {
         "Name": "Dear Zoo: A Lift-the-Flap Book",
         "Author": "Rod Campbell",
         "User Rating": 4.8,
         "Reviews": 10922,
         "Price": 5,
         "Year": 2016,
         "Genre": "Fiction",
         "_deepnote_index_column": 64
        },
        {
         "Name": "Dear Zoo: A Lift-the-Flap Book",
         "Author": "Rod Campbell",
         "User Rating": 4.8,
         "Reviews": 10922,
         "Price": 5,
         "Year": 2017,
         "Genre": "Fiction",
         "_deepnote_index_column": 65
        },
        {
         "Name": "Dear Zoo: A Lift-the-Flap Book",
         "Author": "Rod Campbell",
         "User Rating": 4.8,
         "Reviews": 10922,
         "Price": 5,
         "Year": 2018,
         "Genre": "Fiction",
         "_deepnote_index_column": 66
        },
        {
         "Name": "Decision Points",
         "Author": "George W. Bush",
         "User Rating": 4.6,
         "Reviews": 2137,
         "Price": 17,
         "Year": 2010,
         "Genre": "Non Fiction",
         "_deepnote_index_column": 67
        },
        {
         "Name": "Delivering Happiness: A Path to Profits, Passion, and Purpose",
         "Author": "Tony Hsieh",
         "User Rating": 4.6,
         "Reviews": 1651,
         "Price": 15,
         "Year": 2010,
         "Genre": "Non Fiction",
         "_deepnote_index_column": 68
        },
        {
         "Name": "Diagnostic and Statistical Manual of Mental Disorders, 5th Edition: DSM-5",
         "Author": "American Psychiatric Association",
         "User Rating": 4.5,
         "Reviews": 6679,
         "Price": 105,
         "Year": 2013,
         "Genre": "Non Fiction",
         "_deepnote_index_column": 69
        },
        {
         "Name": "Diagnostic and Statistical Manual of Mental Disorders, 5th Edition: DSM-5",
         "Author": "American Psychiatric Association",
         "User Rating": 4.5,
         "Reviews": 6679,
         "Price": 105,
         "Year": 2014,
         "Genre": "Non Fiction",
         "_deepnote_index_column": 70
        }
       ],
       "rows_bottom": [
        {
         "Name": "The Very Hungry Caterpillar",
         "Author": "Eric Carle",
         "User Rating": 4.9,
         "Reviews": 19546,
         "Price": 5,
         "Year": 2016,
         "Genre": "Fiction",
         "_deepnote_index_column": 479
        },
        {
         "Name": "The Very Hungry Caterpillar",
         "Author": "Eric Carle",
         "User Rating": 4.9,
         "Reviews": 19546,
         "Price": 5,
         "Year": 2017,
         "Genre": "Fiction",
         "_deepnote_index_column": 480
        },
        {
         "Name": "The Very Hungry Caterpillar",
         "Author": "Eric Carle",
         "User Rating": 4.9,
         "Reviews": 19546,
         "Price": 5,
         "Year": 2018,
         "Genre": "Fiction",
         "_deepnote_index_column": 481
        },
        {
         "Name": "The Very Hungry Caterpillar",
         "Author": "Eric Carle",
         "User Rating": 4.9,
         "Reviews": 19546,
         "Price": 5,
         "Year": 2019,
         "Genre": "Fiction",
         "_deepnote_index_column": 482
        },
        {
         "Name": "The Whole30: The 30-Day Guide to Total Health and Food Freedom",
         "Author": "Melissa Hartwig Urban",
         "User Rating": 4.6,
         "Reviews": 7508,
         "Price": 16,
         "Year": 2015,
         "Genre": "Non Fiction",
         "_deepnote_index_column": 483
        },
        {
         "Name": "The Whole30: The 30-Day Guide to Total Health and Food Freedom",
         "Author": "Melissa Hartwig Urban",
         "User Rating": 4.6,
         "Reviews": 7508,
         "Price": 16,
         "Year": 2016,
         "Genre": "Non Fiction",
         "_deepnote_index_column": 484
        },
        {
         "Name": "The Whole30: The 30-Day Guide to Total Health and Food Freedom",
         "Author": "Melissa Hartwig Urban",
         "User Rating": 4.6,
         "Reviews": 7508,
         "Price": 16,
         "Year": 2017,
         "Genre": "Non Fiction",
         "_deepnote_index_column": 485
        },
        {
         "Name": "The Wonderful Things You Will Be",
         "Author": "Emily Winfield Martin",
         "User Rating": 4.9,
         "Reviews": 8842,
         "Price": 10,
         "Year": 2016,
         "Genre": "Fiction",
         "_deepnote_index_column": 486
        },
        {
         "Name": "The Wonderful Things You Will Be",
         "Author": "Emily Winfield Martin",
         "User Rating": 4.9,
         "Reviews": 8842,
         "Price": 10,
         "Year": 2017,
         "Genre": "Fiction",
         "_deepnote_index_column": 487
        },
        {
         "Name": "The Wonderful Things You Will Be",
         "Author": "Emily Winfield Martin",
         "User Rating": 4.9,
         "Reviews": 8842,
         "Price": 10,
         "Year": 2018,
         "Genre": "Fiction",
         "_deepnote_index_column": 488
        },
        {
         "Name": "The Wonderful Things You Will Be",
         "Author": "Emily Winfield Martin",
         "User Rating": 4.9,
         "Reviews": 8842,
         "Price": 10,
         "Year": 2019,
         "Genre": "Fiction",
         "_deepnote_index_column": 489
        },
        {
         "Name": "The Wonky Donkey",
         "Author": "Craig Smith",
         "User Rating": 4.8,
         "Reviews": 30183,
         "Price": 4,
         "Year": 2018,
         "Genre": "Fiction",
         "_deepnote_index_column": 490
        },
        {
         "Name": "The Wonky Donkey",
         "Author": "Craig Smith",
         "User Rating": 4.8,
         "Reviews": 30183,
         "Price": 4,
         "Year": 2019,
         "Genre": "Fiction",
         "_deepnote_index_column": 491
        },
        {
         "Name": "The Wright Brothers",
         "Author": "David McCullough",
         "User Rating": 4.7,
         "Reviews": 6169,
         "Price": 16,
         "Year": 2015,
         "Genre": "Non Fiction",
         "_deepnote_index_column": 492
        },
        {
         "Name": "Things That Matter: Three Decades of Passions, Pastimes and Politics [Deckled Edge]",
         "Author": "Charles Krauthammer",
         "User Rating": 4.7,
         "Reviews": 7034,
         "Price": 15,
         "Year": 2013,
         "Genre": "Non Fiction",
         "_deepnote_index_column": 493
        },
        {
         "Name": "Thinking, Fast and Slow",
         "Author": "Daniel Kahneman",
         "User Rating": 4.6,
         "Reviews": 11034,
         "Price": 19,
         "Year": 2011,
         "Genre": "Non Fiction",
         "_deepnote_index_column": 494
        },
        {
         "Name": "Thinking, Fast and Slow",
         "Author": "Daniel Kahneman",
         "User Rating": 4.6,
         "Reviews": 11034,
         "Price": 19,
         "Year": 2012,
         "Genre": "Non Fiction",
         "_deepnote_index_column": 495
        },
        {
         "Name": "Thirteen Reasons Why",
         "Author": "Jay Asher",
         "User Rating": 4.5,
         "Reviews": 7932,
         "Price": 9,
         "Year": 2017,
         "Genre": "Fiction",
         "_deepnote_index_column": 496
        },
        {
         "Name": "Thomas Jefferson: The Art of Power",
         "Author": "Jon Meacham",
         "User Rating": 4.5,
         "Reviews": 1904,
         "Price": 23,
         "Year": 2012,
         "Genre": "Non Fiction",
         "_deepnote_index_column": 497
        },
        {
         "Name": "Three Cups of Tea: One Man's Mission to Promote Peace - One School at a Time",
         "Author": "Greg Mortenson",
         "User Rating": 4.3,
         "Reviews": 3319,
         "Price": 11,
         "Year": 2009,
         "Genre": "Non Fiction",
         "_deepnote_index_column": 498
        },
        {
         "Name": "Three Cups of Tea: One Man's Mission to Promote Peace - One School at a Time",
         "Author": "Greg Mortenson",
         "User Rating": 4.3,
         "Reviews": 3319,
         "Price": 11,
         "Year": 2010,
         "Genre": "Non Fiction",
         "_deepnote_index_column": 499
        },
        {
         "Name": "Thug Kitchen: The Official Cookbook: Eat Like You Give a F*ck (Thug Kitchen Cookbooks)",
         "Author": "Thug Kitchen",
         "User Rating": 4.6,
         "Reviews": 11128,
         "Price": 23,
         "Year": 2014,
         "Genre": "Non Fiction",
         "_deepnote_index_column": 500
        },
        {
         "Name": "Thug Kitchen: The Official Cookbook: Eat Like You Give a F*ck (Thug Kitchen Cookbooks)",
         "Author": "Thug Kitchen",
         "User Rating": 4.6,
         "Reviews": 11128,
         "Price": 23,
         "Year": 2015,
         "Genre": "Non Fiction",
         "_deepnote_index_column": 501
        },
        {
         "Name": "Thug Kitchen: The Official Cookbook: Eat Like You Give a F*ck (Thug Kitchen Cookbooks)",
         "Author": "Thug Kitchen",
         "User Rating": 4.6,
         "Reviews": 11128,
         "Price": 23,
         "Year": 2016,
         "Genre": "Non Fiction",
         "_deepnote_index_column": 502
        },
        {
         "Name": "Thug Kitchen: The Official Cookbook: Eat Like You Give a F*ck (Thug Kitchen Cookbooks)",
         "Author": "Thug Kitchen",
         "User Rating": 4.6,
         "Reviews": 11128,
         "Price": 23,
         "Year": 2017,
         "Genre": "Non Fiction",
         "_deepnote_index_column": 503
        },
        {
         "Name": "Tina Fey: Bossypants",
         "Author": "Tina Fey",
         "User Rating": 4.3,
         "Reviews": 5977,
         "Price": 12,
         "Year": 2011,
         "Genre": "Non Fiction",
         "_deepnote_index_column": 504
        },
        {
         "Name": "To Kill a Mockingbird",
         "Author": "Harper Lee",
         "User Rating": 4.8,
         "Reviews": 26234,
         "Price": 0,
         "Year": 2013,
         "Genre": "Fiction",
         "_deepnote_index_column": 505
        },
        {
         "Name": "To Kill a Mockingbird",
         "Author": "Harper Lee",
         "User Rating": 4.8,
         "Reviews": 26234,
         "Price": 0,
         "Year": 2014,
         "Genre": "Fiction",
         "_deepnote_index_column": 506
        },
        {
         "Name": "To Kill a Mockingbird",
         "Author": "Harper Lee",
         "User Rating": 4.8,
         "Reviews": 26234,
         "Price": 0,
         "Year": 2015,
         "Genre": "Fiction",
         "_deepnote_index_column": 507
        },
        {
         "Name": "To Kill a Mockingbird",
         "Author": "Harper Lee",
         "User Rating": 4.8,
         "Reviews": 26234,
         "Price": 0,
         "Year": 2016,
         "Genre": "Fiction",
         "_deepnote_index_column": 508
        },
        {
         "Name": "To Kill a Mockingbird",
         "Author": "Harper Lee",
         "User Rating": 4.8,
         "Reviews": 26234,
         "Price": 7,
         "Year": 2019,
         "Genre": "Fiction",
         "_deepnote_index_column": 509
        },
        {
         "Name": "Tools of Titans: The Tactics, Routines, and Habits of Billionaires, Icons, and World-Class Performe…",
         "Author": "Timothy Ferriss",
         "User Rating": 4.6,
         "Reviews": 4360,
         "Price": 21,
         "Year": 2017,
         "Genre": "Non Fiction",
         "_deepnote_index_column": 510
        },
        {
         "Name": "Towers of Midnight (Wheel of Time, Book Thirteen)",
         "Author": "Robert Jordan",
         "User Rating": 4.8,
         "Reviews": 2282,
         "Price": 21,
         "Year": 2010,
         "Genre": "Fiction",
         "_deepnote_index_column": 511
        },
        {
         "Name": "True Compass: A Memoir",
         "Author": "Edward M. Kennedy",
         "User Rating": 4.5,
         "Reviews": 438,
         "Price": 15,
         "Year": 2009,
         "Genre": "Non Fiction",
         "_deepnote_index_column": 512
        },
        {
         "Name": "Twilight (The Twilight Saga, Book 1)",
         "Author": "Stephenie Meyer",
         "User Rating": 4.7,
         "Reviews": 11676,
         "Price": 9,
         "Year": 2009,
         "Genre": "Fiction",
         "_deepnote_index_column": 513
        },
        {
         "Name": "Ultimate Sticker Book: Frozen: More Than 60 Reusable Full-Color Stickers",
         "Author": "DK",
         "User Rating": 4.5,
         "Reviews": 2586,
         "Price": 5,
         "Year": 2014,
         "Genre": "Fiction",
         "_deepnote_index_column": 514
        },
        {
         "Name": "Unbroken: A World War II Story of Survival, Resilience, and Redemption",
         "Author": "Laura Hillenbrand",
         "User Rating": 4.8,
         "Reviews": 29673,
         "Price": 16,
         "Year": 2010,
         "Genre": "Non Fiction",
         "_deepnote_index_column": 515
        },
        {
         "Name": "Unbroken: A World War II Story of Survival, Resilience, and Redemption",
         "Author": "Laura Hillenbrand",
         "User Rating": 4.8,
         "Reviews": 29673,
         "Price": 16,
         "Year": 2011,
         "Genre": "Non Fiction",
         "_deepnote_index_column": 516
        },
        {
         "Name": "Unbroken: A World War II Story of Survival, Resilience, and Redemption",
         "Author": "Laura Hillenbrand",
         "User Rating": 4.8,
         "Reviews": 29673,
         "Price": 16,
         "Year": 2012,
         "Genre": "Non Fiction",
         "_deepnote_index_column": 517
        },
        {
         "Name": "Unbroken: A World War II Story of Survival, Resilience, and Redemption",
         "Author": "Laura Hillenbrand",
         "User Rating": 4.8,
         "Reviews": 29673,
         "Price": 13,
         "Year": 2014,
         "Genre": "Non Fiction",
         "_deepnote_index_column": 518
        },
        {
         "Name": "Unbroken: A World War II Story of Survival, Resilience, and Redemption",
         "Author": "Laura Hillenbrand",
         "User Rating": 4.8,
         "Reviews": 29673,
         "Price": 16,
         "Year": 2014,
         "Genre": "Non Fiction",
         "_deepnote_index_column": 519
        },
        {
         "Name": "Under the Dome: A Novel",
         "Author": "Stephen King",
         "User Rating": 4.3,
         "Reviews": 6740,
         "Price": 20,
         "Year": 2009,
         "Genre": "Fiction",
         "_deepnote_index_column": 520
        },
        {
         "Name": "Unfreedom of the Press",
         "Author": "Mark R. Levin",
         "User Rating": 4.9,
         "Reviews": 5956,
         "Price": 11,
         "Year": 2019,
         "Genre": "Non Fiction",
         "_deepnote_index_column": 521
        },
        {
         "Name": "Unicorn Coloring Book: For Kids Ages 4-8 (US Edition) (Silly Bear Coloring Books)",
         "Author": "Silly Bear",
         "User Rating": 4.8,
         "Reviews": 6108,
         "Price": 4,
         "Year": 2019,
         "Genre": "Non Fiction",
         "_deepnote_index_column": 522
        },
        {
         "Name": "Uninvited: Living Loved When You Feel Less Than, Left Out, and Lonely",
         "Author": "Lysa TerKeurst",
         "User Rating": 4.7,
         "Reviews": 4585,
         "Price": 9,
         "Year": 2016,
         "Genre": "Non Fiction",
         "_deepnote_index_column": 523
        },
        {
         "Name": "Watchmen",
         "Author": "Alan Moore",
         "User Rating": 4.8,
         "Reviews": 3829,
         "Price": 42,
         "Year": 2009,
         "Genre": "Fiction",
         "_deepnote_index_column": 524
        },
        {
         "Name": "Water for Elephants: A Novel",
         "Author": "Sara Gruen",
         "User Rating": 4.5,
         "Reviews": 8958,
         "Price": 12,
         "Year": 2011,
         "Genre": "Fiction",
         "_deepnote_index_column": 525
        },
        {
         "Name": "What Happened",
         "Author": "Hillary Rodham Clinton",
         "User Rating": 4.6,
         "Reviews": 5492,
         "Price": 18,
         "Year": 2017,
         "Genre": "Non Fiction",
         "_deepnote_index_column": 526
        },
        {
         "Name": "What If?: Serious Scientific Answers to Absurd Hypothetical Questions",
         "Author": "Randall Munroe",
         "User Rating": 4.7,
         "Reviews": 9292,
         "Price": 17,
         "Year": 2014,
         "Genre": "Non Fiction",
         "_deepnote_index_column": 527
        },
        {
         "Name": "What Pet Should I Get? (Classic Seuss)",
         "Author": "Dr. Seuss",
         "User Rating": 4.7,
         "Reviews": 1873,
         "Price": 14,
         "Year": 2015,
         "Genre": "Fiction",
         "_deepnote_index_column": 528
        },
        {
         "Name": "What Should Danny Do? (The Power to Choose Series)",
         "Author": "Adir Levy",
         "User Rating": 4.8,
         "Reviews": 8170,
         "Price": 13,
         "Year": 2019,
         "Genre": "Fiction",
         "_deepnote_index_column": 529
        },
        {
         "Name": "What to Expect When You're Expecting",
         "Author": "Heidi Murkoff",
         "User Rating": 4.4,
         "Reviews": 3341,
         "Price": 9,
         "Year": 2011,
         "Genre": "Non Fiction",
         "_deepnote_index_column": 530
        },
        {
         "Name": "Wheat Belly: Lose the Wheat, Lose the Weight, and Find Your Path Back to Health",
         "Author": "William Davis",
         "User Rating": 4.4,
         "Reviews": 7497,
         "Price": 6,
         "Year": 2012,
         "Genre": "Non Fiction",
         "_deepnote_index_column": 531
        },
        {
         "Name": "Wheat Belly: Lose the Wheat, Lose the Weight, and Find Your Path Back to Health",
         "Author": "William Davis",
         "User Rating": 4.4,
         "Reviews": 7497,
         "Price": 6,
         "Year": 2013,
         "Genre": "Non Fiction",
         "_deepnote_index_column": 532
        },
        {
         "Name": "When Breath Becomes Air",
         "Author": "Paul Kalanithi",
         "User Rating": 4.8,
         "Reviews": 13779,
         "Price": 14,
         "Year": 2016,
         "Genre": "Non Fiction",
         "_deepnote_index_column": 533
        },
        {
         "Name": "Where the Crawdads Sing",
         "Author": "Delia Owens",
         "User Rating": 4.8,
         "Reviews": 87841,
         "Price": 15,
         "Year": 2019,
         "Genre": "Fiction",
         "_deepnote_index_column": 534
        },
        {
         "Name": "Where the Wild Things Are",
         "Author": "Maurice Sendak",
         "User Rating": 4.8,
         "Reviews": 9967,
         "Price": 13,
         "Year": 2009,
         "Genre": "Fiction",
         "_deepnote_index_column": 535
        },
        {
         "Name": "Whose Boat Is This Boat?: Comments That Don't Help in the Aftermath of a Hurricane",
         "Author": "The Staff of The Late Show with",
         "User Rating": 4.6,
         "Reviews": 6669,
         "Price": 12,
         "Year": 2018,
         "Genre": "Non Fiction",
         "_deepnote_index_column": 536
        },
        {
         "Name": "Wild: From Lost to Found on the Pacific Crest Trail",
         "Author": "Cheryl Strayed",
         "User Rating": 4.4,
         "Reviews": 17044,
         "Price": 18,
         "Year": 2012,
         "Genre": "Non Fiction",
         "_deepnote_index_column": 537
        },
        {
         "Name": "Winter of the World: Book Two of the Century Trilogy",
         "Author": "Ken Follett",
         "User Rating": 4.5,
         "Reviews": 10760,
         "Price": 15,
         "Year": 2012,
         "Genre": "Fiction",
         "_deepnote_index_column": 538
        },
        {
         "Name": "Women Food and God: An Unexpected Path to Almost Everything",
         "Author": "Geneen Roth",
         "User Rating": 4.2,
         "Reviews": 1302,
         "Price": 11,
         "Year": 2010,
         "Genre": "Non Fiction",
         "_deepnote_index_column": 539
        },
        {
         "Name": "Wonder",
         "Author": "R. J. Palacio",
         "User Rating": 4.8,
         "Reviews": 21625,
         "Price": 9,
         "Year": 2013,
         "Genre": "Fiction",
         "_deepnote_index_column": 540
        },
        {
         "Name": "Wonder",
         "Author": "R. J. Palacio",
         "User Rating": 4.8,
         "Reviews": 21625,
         "Price": 9,
         "Year": 2014,
         "Genre": "Fiction",
         "_deepnote_index_column": 541
        },
        {
         "Name": "Wonder",
         "Author": "R. J. Palacio",
         "User Rating": 4.8,
         "Reviews": 21625,
         "Price": 9,
         "Year": 2015,
         "Genre": "Fiction",
         "_deepnote_index_column": 542
        },
        {
         "Name": "Wonder",
         "Author": "R. J. Palacio",
         "User Rating": 4.8,
         "Reviews": 21625,
         "Price": 9,
         "Year": 2016,
         "Genre": "Fiction",
         "_deepnote_index_column": 543
        },
        {
         "Name": "Wonder",
         "Author": "R. J. Palacio",
         "User Rating": 4.8,
         "Reviews": 21625,
         "Price": 9,
         "Year": 2017,
         "Genre": "Fiction",
         "_deepnote_index_column": 544
        },
        {
         "Name": "Wrecking Ball (Diary of a Wimpy Kid Book 14)",
         "Author": "Jeff Kinney",
         "User Rating": 4.9,
         "Reviews": 9413,
         "Price": 8,
         "Year": 2019,
         "Genre": "Fiction",
         "_deepnote_index_column": 545
        },
        {
         "Name": "You Are a Badass: How to Stop Doubting Your Greatness and Start Living an Awesome Life",
         "Author": "Jen Sincero",
         "User Rating": 4.7,
         "Reviews": 14331,
         "Price": 8,
         "Year": 2016,
         "Genre": "Non Fiction",
         "_deepnote_index_column": 546
        },
        {
         "Name": "You Are a Badass: How to Stop Doubting Your Greatness and Start Living an Awesome Life",
         "Author": "Jen Sincero",
         "User Rating": 4.7,
         "Reviews": 14331,
         "Price": 8,
         "Year": 2017,
         "Genre": "Non Fiction",
         "_deepnote_index_column": 547
        },
        {
         "Name": "You Are a Badass: How to Stop Doubting Your Greatness and Start Living an Awesome Life",
         "Author": "Jen Sincero",
         "User Rating": 4.7,
         "Reviews": 14331,
         "Price": 8,
         "Year": 2018,
         "Genre": "Non Fiction",
         "_deepnote_index_column": 548
        },
        {
         "Name": "You Are a Badass: How to Stop Doubting Your Greatness and Start Living an Awesome Life",
         "Author": "Jen Sincero",
         "User Rating": 4.7,
         "Reviews": 14331,
         "Price": 8,
         "Year": 2019,
         "Genre": "Non Fiction",
         "_deepnote_index_column": 549
        }
       ]
      },
      "text/plain": "                                                  Name  \\\n0                        10-Day Green Smoothie Cleanse   \n1                                    11/22/63: A Novel   \n2              12 Rules for Life: An Antidote to Chaos   \n3                               1984 (Signet Classics)   \n4    5,000 Awesome Facts (About Everything!) (Natio...   \n..                                                 ...   \n545       Wrecking Ball (Diary of a Wimpy Kid Book 14)   \n546  You Are a Badass: How to Stop Doubting Your Gr...   \n547  You Are a Badass: How to Stop Doubting Your Gr...   \n548  You Are a Badass: How to Stop Doubting Your Gr...   \n549  You Are a Badass: How to Stop Doubting Your Gr...   \n\n                       Author  User Rating  Reviews  Price  Year        Genre  \n0                    JJ Smith          4.7    17350      8  2016  Non Fiction  \n1                Stephen King          4.6     2052     22  2011      Fiction  \n2          Jordan B. Peterson          4.7    18979     15  2018  Non Fiction  \n3               George Orwell          4.7    21424      6  2017      Fiction  \n4    National Geographic Kids          4.8     7665     12  2019  Non Fiction  \n..                        ...          ...      ...    ...   ...          ...  \n545               Jeff Kinney          4.9     9413      8  2019      Fiction  \n546               Jen Sincero          4.7    14331      8  2016  Non Fiction  \n547               Jen Sincero          4.7    14331      8  2017  Non Fiction  \n548               Jen Sincero          4.7    14331      8  2018  Non Fiction  \n549               Jen Sincero          4.7    14331      8  2019  Non Fiction  \n\n[550 rows x 7 columns]",
      "text/html": "<div>\n<style scoped>\n    .dataframe tbody tr th:only-of-type {\n        vertical-align: middle;\n    }\n\n    .dataframe tbody tr th {\n        vertical-align: top;\n    }\n\n    .dataframe thead th {\n        text-align: right;\n    }\n</style>\n<table border=\"1\" class=\"dataframe\">\n  <thead>\n    <tr style=\"text-align: right;\">\n      <th></th>\n      <th>Name</th>\n      <th>Author</th>\n      <th>User Rating</th>\n      <th>Reviews</th>\n      <th>Price</th>\n      <th>Year</th>\n      <th>Genre</th>\n    </tr>\n  </thead>\n  <tbody>\n    <tr>\n      <th>0</th>\n      <td>10-Day Green Smoothie Cleanse</td>\n      <td>JJ Smith</td>\n      <td>4.7</td>\n      <td>17350</td>\n      <td>8</td>\n      <td>2016</td>\n      <td>Non Fiction</td>\n    </tr>\n    <tr>\n      <th>1</th>\n      <td>11/22/63: A Novel</td>\n      <td>Stephen King</td>\n      <td>4.6</td>\n      <td>2052</td>\n      <td>22</td>\n      <td>2011</td>\n      <td>Fiction</td>\n    </tr>\n    <tr>\n      <th>2</th>\n      <td>12 Rules for Life: An Antidote to Chaos</td>\n      <td>Jordan B. Peterson</td>\n      <td>4.7</td>\n      <td>18979</td>\n      <td>15</td>\n      <td>2018</td>\n      <td>Non Fiction</td>\n    </tr>\n    <tr>\n      <th>3</th>\n      <td>1984 (Signet Classics)</td>\n      <td>George Orwell</td>\n      <td>4.7</td>\n      <td>21424</td>\n      <td>6</td>\n      <td>2017</td>\n      <td>Fiction</td>\n    </tr>\n    <tr>\n      <th>4</th>\n      <td>5,000 Awesome Facts (About Everything!) (Natio...</td>\n      <td>National Geographic Kids</td>\n      <td>4.8</td>\n      <td>7665</td>\n      <td>12</td>\n      <td>2019</td>\n      <td>Non Fiction</td>\n    </tr>\n    <tr>\n      <th>...</th>\n      <td>...</td>\n      <td>...</td>\n      <td>...</td>\n      <td>...</td>\n      <td>...</td>\n      <td>...</td>\n      <td>...</td>\n    </tr>\n    <tr>\n      <th>545</th>\n      <td>Wrecking Ball (Diary of a Wimpy Kid Book 14)</td>\n      <td>Jeff Kinney</td>\n      <td>4.9</td>\n      <td>9413</td>\n      <td>8</td>\n      <td>2019</td>\n      <td>Fiction</td>\n    </tr>\n    <tr>\n      <th>546</th>\n      <td>You Are a Badass: How to Stop Doubting Your Gr...</td>\n      <td>Jen Sincero</td>\n      <td>4.7</td>\n      <td>14331</td>\n      <td>8</td>\n      <td>2016</td>\n      <td>Non Fiction</td>\n    </tr>\n    <tr>\n      <th>547</th>\n      <td>You Are a Badass: How to Stop Doubting Your Gr...</td>\n      <td>Jen Sincero</td>\n      <td>4.7</td>\n      <td>14331</td>\n      <td>8</td>\n      <td>2017</td>\n      <td>Non Fiction</td>\n    </tr>\n    <tr>\n      <th>548</th>\n      <td>You Are a Badass: How to Stop Doubting Your Gr...</td>\n      <td>Jen Sincero</td>\n      <td>4.7</td>\n      <td>14331</td>\n      <td>8</td>\n      <td>2018</td>\n      <td>Non Fiction</td>\n    </tr>\n    <tr>\n      <th>549</th>\n      <td>You Are a Badass: How to Stop Doubting Your Gr...</td>\n      <td>Jen Sincero</td>\n      <td>4.7</td>\n      <td>14331</td>\n      <td>8</td>\n      <td>2019</td>\n      <td>Non Fiction</td>\n    </tr>\n  </tbody>\n</table>\n<p>550 rows × 7 columns</p>\n</div>"
     },
     "metadata": {}
    }
   ],
   "execution_count": 6
  },
  {
   "cell_type": "markdown",
   "source": "## Observando los datos\n\nObservando la cantidad de **datos nulos** en el DataFrame",
   "metadata": {
    "tags": [],
    "cell_id": "00003-cb1f1dcd-02f2-4da4-bf28-c03cde0c6739",
    "deepnote_cell_type": "markdown"
   }
  },
  {
   "cell_type": "code",
   "source": "df.isnull().sum()",
   "metadata": {
    "tags": [],
    "cell_id": "00004-afa9af89-1025-498e-90a5-dea1cb388805",
    "deepnote_to_be_reexecuted": false,
    "source_hash": "f3dd26da",
    "execution_start": 1626923800881,
    "execution_millis": 10,
    "deepnote_cell_type": "code"
   },
   "outputs": [
    {
     "output_type": "execute_result",
     "execution_count": 7,
     "data": {
      "text/plain": "Name           0\nAuthor         0\nUser Rating    0\nReviews        0\nPrice          0\nYear           0\nGenre          0\ndtype: int64"
     },
     "metadata": {}
    }
   ],
   "execution_count": 7
  },
  {
   "cell_type": "markdown",
   "source": "**Observando los tipos de datos**:\n\nPodemos obervar que los tipos de datos estan correctos y no es necesario realizar ninguna modificacion.",
   "metadata": {
    "tags": [],
    "cell_id": "00005-46e324ce-68f8-48a6-8bd6-a4d44e71b694",
    "deepnote_cell_type": "markdown"
   }
  },
  {
   "cell_type": "code",
   "source": "df.info()",
   "metadata": {
    "tags": [],
    "cell_id": "00006-1af8ceae-89f1-4a81-99fa-6343515104a7",
    "deepnote_to_be_reexecuted": false,
    "source_hash": "de1e323c",
    "execution_start": 1626923953538,
    "execution_millis": 8,
    "deepnote_cell_type": "code"
   },
   "outputs": [
    {
     "name": "stdout",
     "text": "<class 'pandas.core.frame.DataFrame'>\nRangeIndex: 550 entries, 0 to 549\nData columns (total 7 columns):\n #   Column       Non-Null Count  Dtype  \n---  ------       --------------  -----  \n 0   Name         550 non-null    object \n 1   Author       550 non-null    object \n 2   User Rating  550 non-null    float64\n 3   Reviews      550 non-null    int64  \n 4   Price        550 non-null    int64  \n 5   Year         550 non-null    int64  \n 6   Genre        550 non-null    object \ndtypes: float64(1), int64(3), object(3)\nmemory usage: 30.2+ KB\n",
     "output_type": "stream"
    }
   ],
   "execution_count": 12
  },
  {
   "cell_type": "markdown",
   "source": "**Resumiento los resultados del conjunto de datos**:\n\n- El conjunto contiene 550 autores,genero y libros en total.\n- Las variables de tipo objeto como el genero, nos pueden ayudar a obtener un analisis complejo y detallado.\n- Es muy probable que las reseñas y las columnas de precios tengan outliers (valores atípicos). (Media - Diferencia mediana, diferencia entre **75%** y **valor máximo**, diferencia entre **25%** y **valor mínimo**)",
   "metadata": {
    "tags": [],
    "cell_id": "00007-db1c18af-fcd4-4c6e-8574-349c2fafff21",
    "deepnote_cell_type": "markdown"
   }
  },
  {
   "cell_type": "code",
   "source": "df.describe(include='all')",
   "metadata": {
    "tags": [],
    "cell_id": "00005-29dd64f6-2bb3-4e4d-afd0-d6d358483a5c",
    "deepnote_to_be_reexecuted": false,
    "source_hash": "b1cecf2d",
    "execution_start": 1626924022828,
    "execution_millis": 50,
    "deepnote_cell_type": "code"
   },
   "outputs": [
    {
     "output_type": "execute_result",
     "execution_count": 13,
     "data": {
      "application/vnd.deepnote.dataframe.v2+json": {
       "row_count": 11,
       "column_count": 7,
       "columns": [
        {
         "name": "Name",
         "dtype": "object",
         "stats": {
          "unique_count": 4,
          "nan_count": 7,
          "categories": [
           {
            "name": "550",
            "count": 1
           },
           {
            "name": "3 others",
            "count": 3
           },
           {
            "name": "Missing",
            "count": 7
           }
          ]
         }
        },
        {
         "name": "Author",
         "dtype": "object",
         "stats": {
          "unique_count": 4,
          "nan_count": 7,
          "categories": [
           {
            "name": "550",
            "count": 1
           },
           {
            "name": "3 others",
            "count": 3
           },
           {
            "name": "Missing",
            "count": 7
           }
          ]
         }
        },
        {
         "name": "User Rating",
         "dtype": "float64",
         "stats": {
          "unique_count": 8,
          "nan_count": 3,
          "min": "0.2269803650251963",
          "max": "550.0",
          "histogram": [
           {
            "bin_start": 0.2269803650251963,
            "bin_end": 55.20428232852268,
            "count": 7
           },
           {
            "bin_start": 55.20428232852268,
            "bin_end": 110.18158429202016,
            "count": 0
           },
           {
            "bin_start": 110.18158429202016,
            "bin_end": 165.15888625551761,
            "count": 0
           },
           {
            "bin_start": 165.15888625551761,
            "bin_end": 220.1361882190151,
            "count": 0
           },
           {
            "bin_start": 220.1361882190151,
            "bin_end": 275.11349018251263,
            "count": 0
           },
           {
            "bin_start": 275.11349018251263,
            "bin_end": 330.0907921460101,
            "count": 0
           },
           {
            "bin_start": 330.0907921460101,
            "bin_end": 385.06809410950757,
            "count": 0
           },
           {
            "bin_start": 385.06809410950757,
            "bin_end": 440.04539607300507,
            "count": 0
           },
           {
            "bin_start": 440.04539607300507,
            "bin_end": 495.02269803650256,
            "count": 0
           },
           {
            "bin_start": 495.02269803650256,
            "bin_end": 550,
            "count": 1
           }
          ]
         }
        },
        {
         "name": "Reviews",
         "dtype": "float64",
         "stats": {
          "unique_count": 8,
          "nan_count": 3,
          "min": "37.0",
          "max": "87841.0",
          "histogram": [
           {
            "bin_start": 37,
            "bin_end": 8817.4,
            "count": 4
           },
           {
            "bin_start": 8817.4,
            "bin_end": 17597.8,
            "count": 3
           },
           {
            "bin_start": 17597.8,
            "bin_end": 26378.199999999997,
            "count": 0
           },
           {
            "bin_start": 26378.199999999997,
            "bin_end": 35158.6,
            "count": 0
           },
           {
            "bin_start": 35158.6,
            "bin_end": 43939,
            "count": 0
           },
           {
            "bin_start": 43939,
            "bin_end": 52719.399999999994,
            "count": 0
           },
           {
            "bin_start": 52719.399999999994,
            "bin_end": 61499.799999999996,
            "count": 0
           },
           {
            "bin_start": 61499.799999999996,
            "bin_end": 70280.2,
            "count": 0
           },
           {
            "bin_start": 70280.2,
            "bin_end": 79060.59999999999,
            "count": 0
           },
           {
            "bin_start": 79060.59999999999,
            "bin_end": 87841,
            "count": 1
           }
          ]
         }
        },
        {
         "name": "Price",
         "dtype": "float64",
         "stats": {
          "unique_count": 8,
          "nan_count": 3,
          "min": "0.0",
          "max": "550.0",
          "histogram": [
           {
            "bin_start": 0,
            "bin_end": 55,
            "count": 6
           },
           {
            "bin_start": 55,
            "bin_end": 110,
            "count": 1
           },
           {
            "bin_start": 110,
            "bin_end": 165,
            "count": 0
           },
           {
            "bin_start": 165,
            "bin_end": 220,
            "count": 0
           },
           {
            "bin_start": 220,
            "bin_end": 275,
            "count": 0
           },
           {
            "bin_start": 275,
            "bin_end": 330,
            "count": 0
           },
           {
            "bin_start": 330,
            "bin_end": 385,
            "count": 0
           },
           {
            "bin_start": 385,
            "bin_end": 440,
            "count": 0
           },
           {
            "bin_start": 440,
            "bin_end": 495,
            "count": 0
           },
           {
            "bin_start": 495,
            "bin_end": 550,
            "count": 1
           }
          ]
         }
        },
        {
         "name": "Year",
         "dtype": "float64",
         "stats": {
          "unique_count": 7,
          "nan_count": 3,
          "min": "3.165156384169307",
          "max": "2019.0",
          "histogram": [
           {
            "bin_start": 3.165156384169307,
            "bin_end": 204.7486407457524,
            "count": 1
           },
           {
            "bin_start": 204.7486407457524,
            "bin_end": 406.33212510733546,
            "count": 0
           },
           {
            "bin_start": 406.33212510733546,
            "bin_end": 607.9156094689187,
            "count": 1
           },
           {
            "bin_start": 607.9156094689187,
            "bin_end": 809.4990938305017,
            "count": 0
           },
           {
            "bin_start": 809.4990938305017,
            "bin_end": 1011.0825781920847,
            "count": 0
           },
           {
            "bin_start": 1011.0825781920847,
            "bin_end": 1212.6660625536679,
            "count": 0
           },
           {
            "bin_start": 1212.6660625536679,
            "bin_end": 1414.249546915251,
            "count": 0
           },
           {
            "bin_start": 1414.249546915251,
            "bin_end": 1615.833031276834,
            "count": 0
           },
           {
            "bin_start": 1615.833031276834,
            "bin_end": 1817.416515638417,
            "count": 0
           },
           {
            "bin_start": 1817.416515638417,
            "bin_end": 2019,
            "count": 6
           }
          ]
         }
        },
        {
         "name": "Genre",
         "dtype": "object",
         "stats": {
          "unique_count": 4,
          "nan_count": 7,
          "categories": [
           {
            "name": "550",
            "count": 1
           },
           {
            "name": "3 others",
            "count": 3
           },
           {
            "name": "Missing",
            "count": 7
           }
          ]
         }
        },
        {
         "name": "_deepnote_index_column",
         "dtype": "object"
        }
       ],
       "rows_top": [
        {
         "Name": "550",
         "Author": "550",
         "User Rating": 550,
         "Reviews": 550,
         "Price": 550,
         "Year": 550,
         "Genre": "550",
         "_deepnote_index_column": "count"
        },
        {
         "Name": "351",
         "Author": "248",
         "User Rating": "nan",
         "Reviews": "nan",
         "Price": "nan",
         "Year": "nan",
         "Genre": "2",
         "_deepnote_index_column": "unique"
        },
        {
         "Name": "Publication Manual of the American Psychological Association, 6th Edition",
         "Author": "Jeff Kinney",
         "User Rating": "nan",
         "Reviews": "nan",
         "Price": "nan",
         "Year": "nan",
         "Genre": "Non Fiction",
         "_deepnote_index_column": "top"
        },
        {
         "Name": "10",
         "Author": "12",
         "User Rating": "nan",
         "Reviews": "nan",
         "Price": "nan",
         "Year": "nan",
         "Genre": "310",
         "_deepnote_index_column": "freq"
        },
        {
         "Name": "nan",
         "Author": "nan",
         "User Rating": 4.618363636363637,
         "Reviews": 11953.281818181818,
         "Price": 13.1,
         "Year": 2014,
         "Genre": "nan",
         "_deepnote_index_column": "mean"
        },
        {
         "Name": "nan",
         "Author": "nan",
         "User Rating": 0.2269803650251963,
         "Reviews": 11731.132017431892,
         "Price": 10.84226197842236,
         "Year": 3.165156384169307,
         "Genre": "nan",
         "_deepnote_index_column": "std"
        },
        {
         "Name": "nan",
         "Author": "nan",
         "User Rating": 3.3,
         "Reviews": 37,
         "Price": 0,
         "Year": 2009,
         "Genre": "nan",
         "_deepnote_index_column": "min"
        },
        {
         "Name": "nan",
         "Author": "nan",
         "User Rating": 4.5,
         "Reviews": 4058,
         "Price": 7,
         "Year": 2011,
         "Genre": "nan",
         "_deepnote_index_column": "25%"
        },
        {
         "Name": "nan",
         "Author": "nan",
         "User Rating": 4.7,
         "Reviews": 8580,
         "Price": 11,
         "Year": 2014,
         "Genre": "nan",
         "_deepnote_index_column": "50%"
        },
        {
         "Name": "nan",
         "Author": "nan",
         "User Rating": 4.8,
         "Reviews": 17253.25,
         "Price": 16,
         "Year": 2017,
         "Genre": "nan",
         "_deepnote_index_column": "75%"
        },
        {
         "Name": "nan",
         "Author": "nan",
         "User Rating": 4.9,
         "Reviews": 87841,
         "Price": 105,
         "Year": 2019,
         "Genre": "nan",
         "_deepnote_index_column": "max"
        }
       ],
       "rows_bottom": null
      },
      "text/plain": "                                                     Name       Author  \\\ncount                                                 550          550   \nunique                                                351          248   \ntop     Publication Manual of the American Psychologic...  Jeff Kinney   \nfreq                                                   10           12   \nmean                                                  NaN          NaN   \nstd                                                   NaN          NaN   \nmin                                                   NaN          NaN   \n25%                                                   NaN          NaN   \n50%                                                   NaN          NaN   \n75%                                                   NaN          NaN   \nmax                                                   NaN          NaN   \n\n        User Rating       Reviews       Price         Year        Genre  \ncount    550.000000    550.000000  550.000000   550.000000          550  \nunique          NaN           NaN         NaN          NaN            2  \ntop             NaN           NaN         NaN          NaN  Non Fiction  \nfreq            NaN           NaN         NaN          NaN          310  \nmean       4.618364  11953.281818   13.100000  2014.000000          NaN  \nstd        0.226980  11731.132017   10.842262     3.165156          NaN  \nmin        3.300000     37.000000    0.000000  2009.000000          NaN  \n25%        4.500000   4058.000000    7.000000  2011.000000          NaN  \n50%        4.700000   8580.000000   11.000000  2014.000000          NaN  \n75%        4.800000  17253.250000   16.000000  2017.000000          NaN  \nmax        4.900000  87841.000000  105.000000  2019.000000          NaN  ",
      "text/html": "<div>\n<style scoped>\n    .dataframe tbody tr th:only-of-type {\n        vertical-align: middle;\n    }\n\n    .dataframe tbody tr th {\n        vertical-align: top;\n    }\n\n    .dataframe thead th {\n        text-align: right;\n    }\n</style>\n<table border=\"1\" class=\"dataframe\">\n  <thead>\n    <tr style=\"text-align: right;\">\n      <th></th>\n      <th>Name</th>\n      <th>Author</th>\n      <th>User Rating</th>\n      <th>Reviews</th>\n      <th>Price</th>\n      <th>Year</th>\n      <th>Genre</th>\n    </tr>\n  </thead>\n  <tbody>\n    <tr>\n      <th>count</th>\n      <td>550</td>\n      <td>550</td>\n      <td>550.000000</td>\n      <td>550.000000</td>\n      <td>550.000000</td>\n      <td>550.000000</td>\n      <td>550</td>\n    </tr>\n    <tr>\n      <th>unique</th>\n      <td>351</td>\n      <td>248</td>\n      <td>NaN</td>\n      <td>NaN</td>\n      <td>NaN</td>\n      <td>NaN</td>\n      <td>2</td>\n    </tr>\n    <tr>\n      <th>top</th>\n      <td>Publication Manual of the American Psychologic...</td>\n      <td>Jeff Kinney</td>\n      <td>NaN</td>\n      <td>NaN</td>\n      <td>NaN</td>\n      <td>NaN</td>\n      <td>Non Fiction</td>\n    </tr>\n    <tr>\n      <th>freq</th>\n      <td>10</td>\n      <td>12</td>\n      <td>NaN</td>\n      <td>NaN</td>\n      <td>NaN</td>\n      <td>NaN</td>\n      <td>310</td>\n    </tr>\n    <tr>\n      <th>mean</th>\n      <td>NaN</td>\n      <td>NaN</td>\n      <td>4.618364</td>\n      <td>11953.281818</td>\n      <td>13.100000</td>\n      <td>2014.000000</td>\n      <td>NaN</td>\n    </tr>\n    <tr>\n      <th>std</th>\n      <td>NaN</td>\n      <td>NaN</td>\n      <td>0.226980</td>\n      <td>11731.132017</td>\n      <td>10.842262</td>\n      <td>3.165156</td>\n      <td>NaN</td>\n    </tr>\n    <tr>\n      <th>min</th>\n      <td>NaN</td>\n      <td>NaN</td>\n      <td>3.300000</td>\n      <td>37.000000</td>\n      <td>0.000000</td>\n      <td>2009.000000</td>\n      <td>NaN</td>\n    </tr>\n    <tr>\n      <th>25%</th>\n      <td>NaN</td>\n      <td>NaN</td>\n      <td>4.500000</td>\n      <td>4058.000000</td>\n      <td>7.000000</td>\n      <td>2011.000000</td>\n      <td>NaN</td>\n    </tr>\n    <tr>\n      <th>50%</th>\n      <td>NaN</td>\n      <td>NaN</td>\n      <td>4.700000</td>\n      <td>8580.000000</td>\n      <td>11.000000</td>\n      <td>2014.000000</td>\n      <td>NaN</td>\n    </tr>\n    <tr>\n      <th>75%</th>\n      <td>NaN</td>\n      <td>NaN</td>\n      <td>4.800000</td>\n      <td>17253.250000</td>\n      <td>16.000000</td>\n      <td>2017.000000</td>\n      <td>NaN</td>\n    </tr>\n    <tr>\n      <th>max</th>\n      <td>NaN</td>\n      <td>NaN</td>\n      <td>4.900000</td>\n      <td>87841.000000</td>\n      <td>105.000000</td>\n      <td>2019.000000</td>\n      <td>NaN</td>\n    </tr>\n  </tbody>\n</table>\n</div>"
     },
     "metadata": {}
    }
   ],
   "execution_count": 13
  },
  {
   "cell_type": "markdown",
   "source": "# Análisis",
   "metadata": {
    "tags": [],
    "cell_id": "00009-9d1862ec-a370-4f2f-b39b-6b510abdec76",
    "deepnote_cell_type": "markdown"
   }
  },
  {
   "cell_type": "markdown",
   "source": "<a style='text-decoration:none;line-height:16px;display:flex;color:#5B5B62;padding:10px;justify-content:end;' href='https://deepnote.com?utm_source=created-in-deepnote-cell&projectId=322df7a5-4b18-4ddb-8f91-c142e3bf7671' target=\"_blank\">\n<img alt='Created in deepnote.com' style='display:inline;max-height:16px;margin:0px;margin-right:7.5px;' src='data:image/svg+xml;base64,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' > </img>\nCreated in <span style='font-weight:600;margin-left:4px;'>Deepnote</span></a>",
   "metadata": {
    "tags": [],
    "created_in_deepnote_cell": true,
    "deepnote_cell_type": "markdown"
   }
  }
 ],
 "nbformat": 4,
 "nbformat_minor": 2,
 "metadata": {
  "orig_nbformat": 2,
  "deepnote": {
   "is_reactive": false
  },
  "deepnote_notebook_id": "9eba6562-e56b-4e38-8686-f80fdf9bc754",
  "deepnote_execution_queue": []
 }
}